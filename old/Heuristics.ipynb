{
 "cells": [
  {
   "cell_type": "code",
   "execution_count": 1,
   "metadata": {},
   "outputs": [],
   "source": [
    "%load_ext autoreload\n",
    "%autoreload 2"
   ]
  },
  {
   "cell_type": "code",
   "execution_count": 3,
   "metadata": {},
   "outputs": [],
   "source": [
    "from GomokuTools2 import NH9x9, Heuristics\n",
    "from IPython.display import HTML\n",
    "from tools import python_to_html"
   ]
  },
  {
   "cell_type": "markdown",
   "metadata": {},
   "source": [
    "# Heuristics: Learning from Humans\n",
    "Alpha zero started from scratch and explored the world of go with no previous knowledge but the rules. Typically though, some human knowledge can jump-start the learning process. That's why we give our agent a head-start with some truly not-so-rigorous (but still quite smart) heuristics. We'll make sure though that the agent will be able to extend its understanding beyond its initial knowlegde and eventually even abandon the heuristics in favour of what it has learned by itself."
   ]
  },
  {
   "cell_type": "markdown",
   "metadata": {},
   "source": [
    "---\n",
    "## Heuristic Score"
   ]
  },
  {
   "cell_type": "markdown",
   "metadata": {},
   "source": [
    "The heuristic score tries to naively measure the *value* of a position, i.e. the importance with which one should consider putting a stone onto it.\n",
    "\n",
    "```HeuristicScore``` uses the 2-byte = 2x 8 bit representation of a line of 9 positions. For example:\n",
    "```\n",
    "[[0, 0, 1, 0,      0, 0, 0, 0],\n",
    " [0, 0, 0, 0,      0, 0, 1, 1]]\n",
    "```\n",
    "means there is a black stone in one direction (say: left) with distance 2 and there are 2 white stones in the opposite direction (say: right) with distances 3 and 4. The line could as well be represented by a string like:\n",
    "```\n",
    "- - x - * - - o o \n",
    "```\n",
    "The actual direction of the viewpoint don't matter here. What matters is that the position marked by ```*``` would create an wide-split-3 threat in favor of white."
   ]
  },
  {
   "cell_type": "markdown",
   "metadata": {},
   "source": [
    "Let's create a particular line with an obvious threat and see what our heuristic score function says about it:"
   ]
  },
  {
   "cell_type": "markdown",
   "metadata": {},
   "source": [
    "See [TuningKappa.ipynb](TuningKappa.ipynb) to play with other values for $\\kappa_i$. I just tried a bit and ended up with the above."
   ]
  },
  {
   "cell_type": "code",
   "execution_count": 85,
   "metadata": {},
   "outputs": [
    {
     "data": {
      "text/plain": [
       "[[0, 1, 1, 0, 1, 0, 0, 0], [0, 0, 0, 0, 0, 0, 0, 1]]"
      ]
     },
     "execution_count": 85,
     "metadata": {},
     "output_type": "execute_result"
    }
   ],
   "source": [
    "def to_bits (line):\n",
    "    n = N_9x9().setline('e', line)\n",
    "    line = n.as_bits()[0]    \n",
    "    return line\n",
    "               \n",
    "to_bits([ 0, 1, 1, 0, 1, 0, 0, 2])"
   ]
  },
  {
   "cell_type": "markdown",
   "metadata": {},
   "source": [
    "Hint: Check out [GomokuTools.ipynb](GomokuTools.ipynb) to understand what N_9x9 is all about."
   ]
  },
  {
   "cell_type": "markdown",
   "metadata": {},
   "source": [
    "\n",
    "To estimate the *value* of the center position, we need to look at the largest free sub-line."
   ]
  },
  {
   "cell_type": "markdown",
   "metadata": {},
   "source": [
    "---\n",
    "#### Adversary-free range"
   ]
  },
  {
   "cell_type": "code",
   "execution_count": 86,
   "metadata": {},
   "outputs": [
    {
     "data": {
      "text/plain": [
       "\u001b[0;31mSignature:\u001b[0m \u001b[0mh\u001b[0m\u001b[0;34m.\u001b[0m\u001b[0mf_range\u001b[0m\u001b[0;34m(\u001b[0m\u001b[0mline\u001b[0m\u001b[0;34m,\u001b[0m \u001b[0mc\u001b[0m\u001b[0;34m=\u001b[0m\u001b[0;36m0\u001b[0m\u001b[0;34m,\u001b[0m \u001b[0medges\u001b[0m\u001b[0;34m=\u001b[0m\u001b[0;34m(\u001b[0m\u001b[0;32mNone\u001b[0m\u001b[0;34m,\u001b[0m \u001b[0;32mNone\u001b[0m\u001b[0;34m)\u001b[0m\u001b[0;34m)\u001b[0m\u001b[0;34m\u001b[0m\u001b[0m\n",
       "\u001b[0;31mDocstring:\u001b[0m\n",
       "The largest adversary-free range within a given line\n",
       "\n",
       "Args:\n",
       "    line: 8x2 integer array that represents the stones\n",
       "    fof:  friend or foe? 0 to look at black, 1 to consider white\n",
       "\u001b[0;31mFile:\u001b[0m      ~/workspace/tutorials/other_stuff/DeepGomoku/HeuristicScore.py\n",
       "\u001b[0;31mType:\u001b[0m      method\n"
      ]
     },
     "metadata": {},
     "output_type": "display_data"
    }
   ],
   "source": [
    "h.f_range?"
   ]
  },
  {
   "cell_type": "code",
   "execution_count": 87,
   "metadata": {},
   "outputs": [
    {
     "data": {
      "text/plain": [
       "array([0, 1, 1, 0, 1, 0])"
      ]
     },
     "execution_count": 87,
     "metadata": {},
     "output_type": "execute_result"
    }
   ],
   "source": [
    "h.f_range(to_bits([ 0, 1, 1, 0, 1, 0, 2, 2]), c=0)"
   ]
  },
  {
   "cell_type": "code",
   "execution_count": 88,
   "metadata": {},
   "outputs": [
    {
     "data": {
      "text/plain": [
       "\u001b[0;31mSignature:\u001b[0m \u001b[0mh\u001b[0m\u001b[0;34m.\u001b[0m\u001b[0mcscore\u001b[0m\u001b[0;34m(\u001b[0m\u001b[0mline\u001b[0m\u001b[0;34m,\u001b[0m \u001b[0mc\u001b[0m\u001b[0;34m=\u001b[0m\u001b[0;36m0\u001b[0m\u001b[0;34m,\u001b[0m \u001b[0medges\u001b[0m\u001b[0;34m=\u001b[0m\u001b[0;34m(\u001b[0m\u001b[0;32mNone\u001b[0m\u001b[0;34m,\u001b[0m \u001b[0;32mNone\u001b[0m\u001b[0;34m)\u001b[0m\u001b[0;34m)\u001b[0m\u001b[0;34m\u001b[0m\u001b[0m\n",
       "\u001b[0;31mDocstring:\u001b[0m\n",
       "count how many sub-lines of 5 come with the max number of stones\n",
       "Example: \"oo.x*xx..\" : The max num of blacks if obviously 3. And there are\n",
       "         two different adversary-free sub-lines counting three, namely '.x*xx' and 'x*xx.'.\n",
       "         Thus the cscore would be (3,2)\n",
       "\n",
       "Args:\n",
       "    line: 8x2 integer array that represents the stones \n",
       "    c:  color: 0 to look at black, 1 to consider white\n",
       "\u001b[0;31mFile:\u001b[0m      ~/workspace/tutorials/other_stuff/DeepGomoku/HeuristicScore.py\n",
       "\u001b[0;31mType:\u001b[0m      method\n"
      ]
     },
     "metadata": {},
     "output_type": "display_data"
    }
   ],
   "source": [
    "h.cscore?"
   ]
  },
  {
   "cell_type": "code",
   "execution_count": 89,
   "metadata": {},
   "outputs": [
    {
     "name": "stdout",
     "output_type": "stream",
     "text": [
      "[0 0 1 1 0 0 0] (2, 3)\n"
     ]
    },
    {
     "data": {
      "text/plain": [
       "2.491461879231035"
      ]
     },
     "execution_count": 89,
     "metadata": {},
     "output_type": "execute_result"
    }
   ],
   "source": [
    "h = HeuristicScore()\n",
    "afr = to_bits([ 2, 0, 0, 1, 1, 0, 0, 0])\n",
    "print(h.f_range(afr), h.cscore(afr))\n",
    "h.score(afr)"
   ]
  },
  {
   "cell_type": "markdown",
   "metadata": {},
   "source": [
    "---\n",
    "#### Scoring by a single line\n",
    "To score the central field (*), first count the max number of my stones of any subset of adjacent 5 (including the empty center field), and count how many subsets have that max number of my stones:"
   ]
  },
  {
   "cell_type": "code",
   "execution_count": 90,
   "metadata": {},
   "outputs": [
    {
     "data": {
      "text/plain": [
       "(3, 2)"
      ]
     },
     "execution_count": 90,
     "metadata": {},
     "output_type": "execute_result"
    }
   ],
   "source": [
    "#                  -  -  x  x * x  -  -  o\n",
    "h.cscore(to_bits([ 0, 0, 1, 1,  1, 0, 0, 2]), c=0)"
   ]
  },
  {
   "cell_type": "markdown",
   "metadata": {},
   "source": [
    "An adverary on one end of the line reduces the value:"
   ]
  },
  {
   "cell_type": "code",
   "execution_count": 91,
   "metadata": {},
   "outputs": [
    {
     "name": "stdout",
     "output_type": "stream",
     "text": [
      "(3, 2) 3.4460950649911055\n",
      "(3, 1) 3.0\n"
     ]
    }
   ],
   "source": [
    "print(h.cscore(to_bits([0,1,1,1,0,0,0,2])), h.score(to_bits([ 0,1,1,1,0,0,0,2])))\n",
    "print(h.cscore(to_bits([2,1,1,1,0,0,0,2])), h.score(to_bits([ 2,1,1,1,0,0,0,2])))"
   ]
  },
  {
   "cell_type": "markdown",
   "metadata": {},
   "source": [
    "---\n",
    "### Scoring crossing lines"
   ]
  },
  {
   "cell_type": "markdown",
   "metadata": {},
   "source": [
    "The main idea of the implementation is that the value of the field is some kind of sum of the values of the intersecting threat lines. Since the ideas implemented here miss any rigor, it's even hard to explain. I just felt that some kind of pythagorean sum with exponents $\\kappa_0$ other than $2$ (```kappa0``` in the code) would be a natural choice. We'll need to find the actual values for hyper-parameters $\\kappa_0$ and $\\kappa_1$ by some form of hyperparameter tuning. That's the impurity of heuristics, folks!"
   ]
  },
  {
   "cell_type": "code",
   "execution_count": 92,
   "metadata": {},
   "outputs": [
    {
     "name": "stdout",
     "output_type": "stream",
     "text": [
      "    def total_score(self, lines, c=0, all_edges=None):\n",
      "        \"\"\"\n",
      "        total score of the given list of lines\n",
      "        \"\"\"\n",
      "        if all_edges is None:\n",
      "            all_edges = [(None, None), (None, None), (None, None), (None, None)]\n",
      "\n",
      "        scores = [self.score(line, c, edges=edges) \n",
      "                  for line, edges in zip(lines, all_edges)]\n",
      "        \n",
      "        return self.euclidean_sum(scores)\n",
      "\n"
     ]
    }
   ],
   "source": [
    "import inspect\n",
    "print(inspect.getsource(HeuristicScore.total_score))"
   ]
  },
  {
   "cell_type": "markdown",
   "metadata": {},
   "source": [
    "Two open-3s: Both not too critical."
   ]
  },
  {
   "cell_type": "code",
   "execution_count": 93,
   "metadata": {},
   "outputs": [
    {
     "name": "stdout",
     "output_type": "stream",
     "text": [
      "2.491461879231035\n",
      "2.29739670999407\n"
     ]
    }
   ],
   "source": [
    "print(h.score(to_bits([ 0, 0, 1, 1, 0, 0, 0, 2])))\n",
    "print(h.score(to_bits([ 0, 1, 1, 0, 0, 2, 0, 2])))"
   ]
  },
  {
   "cell_type": "markdown",
   "metadata": {},
   "source": [
    "But if these lines cross, things get tough.\n",
    "Also, observe that the simple heuristic rule is indeed capable of estimating the effect of a defensive stone. "
   ]
  },
  {
   "cell_type": "code",
   "execution_count": 94,
   "metadata": {},
   "outputs": [
    {
     "name": "stdout",
     "output_type": "stream",
     "text": [
      "2.7200939149055237\n",
      "2.5198420997897464\n"
     ]
    }
   ],
   "source": [
    "print(h.total_score([\n",
    "    to_bits([ 0, 0, 1, 0, 1, 0, 0, 2]),\n",
    "    to_bits([ 1, 1, 0, 0, 0, 2, 0, 2])]))\n",
    "\n",
    "print(h.total_score([\n",
    "\n",
    "    #            |-- A single defensive stone            \n",
    "    #            V    \n",
    "    to_bits([ 0, 2, 1, 0, 1, 0, 0, 2]),\n",
    "    to_bits([ 1, 1, 0, 0, 0, 2, 0, 2])]))"
   ]
  },
  {
   "cell_type": "code",
   "execution_count": 95,
   "metadata": {},
   "outputs": [],
   "source": [
    "h = HeuristicScore(kappa0=5, kappa1=3)"
   ]
  },
  {
   "cell_type": "code",
   "execution_count": 96,
   "metadata": {},
   "outputs": [
    {
     "name": "stdout",
     "output_type": "stream",
     "text": [
      "2.971534150326434\n"
     ]
    }
   ],
   "source": [
    "print(h.total_score([\n",
    "    to_bits([ 0, 0, 0, 1, 1, 0, 0, 0]),\n",
    "    to_bits([ 0, 0, 0, 1, 1, 2, 0, 0])]))"
   ]
  },
  {
   "cell_type": "code",
   "execution_count": 97,
   "metadata": {},
   "outputs": [
    {
     "name": "stdout",
     "output_type": "stream",
     "text": [
      "3.3134194178146013\n"
     ]
    }
   ],
   "source": [
    "print(h.total_score([\n",
    "    to_bits([ 0, 0, 0, 1, 1, 0, 0, 0]),\n",
    "    to_bits([ 0, 0, 0, 1, 1, 0, 0, 0])]))"
   ]
  },
  {
   "cell_type": "code",
   "execution_count": 98,
   "metadata": {},
   "outputs": [
    {
     "name": "stdout",
     "output_type": "stream",
     "text": [
      "3.0751516574348225\n"
     ]
    }
   ],
   "source": [
    "print(h.total_score([\n",
    "    to_bits([ 0, 2, 1, 1, 1, 0, 0, 0]),\n",
    "    to_bits([ 0, 0, 0, 1, 1, 2, 0, 0])]))"
   ]
  },
  {
   "cell_type": "code",
   "execution_count": 99,
   "metadata": {},
   "outputs": [
    {
     "name": "stdout",
     "output_type": "stream",
     "text": [
      "3.3823578932435177\n"
     ]
    }
   ],
   "source": [
    "print(h.total_score([\n",
    "    to_bits([ 0, 2, 1, 1, 1, 0, 0, 0]),\n",
    "    to_bits([ 0, 0, 0, 1, 1, 0, 0, 0])]))"
   ]
  },
  {
   "cell_type": "code",
   "execution_count": 101,
   "metadata": {},
   "outputs": [
    {
     "data": {
      "text/plain": [
       "3.2624173386570177"
      ]
     },
     "execution_count": 101,
     "metadata": {},
     "output_type": "execute_result"
    }
   ],
   "source": [
    "h.tactical_threshold()"
   ]
  },
  {
   "cell_type": "code",
   "execution_count": null,
   "metadata": {},
   "outputs": [],
   "source": []
  }
 ],
 "metadata": {
  "kernelspec": {
   "display_name": "Python 3",
   "language": "python",
   "name": "python3"
  },
  "language_info": {
   "codemirror_mode": {
    "name": "ipython",
    "version": 3
   },
   "file_extension": ".py",
   "mimetype": "text/x-python",
   "name": "python",
   "nbconvert_exporter": "python",
   "pygments_lexer": "ipython3",
   "version": "3.6.4"
  }
 },
 "nbformat": 4,
 "nbformat_minor": 2
}
