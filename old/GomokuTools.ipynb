{
 "cells": [
  {
   "cell_type": "code",
   "execution_count": 1,
   "metadata": {},
   "outputs": [],
   "source": [
    "%load_ext autoreload\n",
    "%autoreload 2"
   ]
  },
  {
   "cell_type": "code",
   "execution_count": 4,
   "metadata": {},
   "outputs": [],
   "source": [
    "from IPython.display import HTML\n",
    "from tools import python_to_html"
   ]
  },
  {
   "cell_type": "code",
   "execution_count": 5,
   "metadata": {},
   "outputs": [],
   "source": [
    "from GomokuTools2 import GomokuTools, NH9x9, Heuristics"
   ]
  },
  {
   "cell_type": "code",
   "execution_count": 6,
   "metadata": {},
   "outputs": [],
   "source": [
    "A,B,C,D,E,F,G,H,I,K,L,M,N,O,P,Q,R,S,T = \\\n",
    "    1,2,3,4,5,6,7,8,9,10,11,12,13,14,15,16,17,18,19\n",
    "BLACK=0\n",
    "WHITE=1"
   ]
  },
  {
   "cell_type": "markdown",
   "metadata": {},
   "source": [
    "## The 9x9 Neighbourhood\n",
    "The 9x9 neighbourhood accounts for all the positions on the board that have a direct influence on the value of the central position, i.e. stones on those positions could participate in a common line with the central position."
   ]
  },
  {
   "cell_type": "code",
   "execution_count": 7,
   "metadata": {},
   "outputs": [
    {
     "data": {
      "text/plain": [
       "|                 |\n",
       "|                 |\n",
       "|                 |\n",
       "|                 |\n",
       "|        *        |\n",
       "|                 |\n",
       "|                 |\n",
       "|                 |\n",
       "|                 |"
      ]
     },
     "execution_count": 7,
     "metadata": {},
     "output_type": "execute_result"
    }
   ],
   "source": [
    "nh = NH9x9()\n",
    "nh"
   ]
  },
  {
   "cell_type": "markdown",
   "metadata": {},
   "source": [
    "Let's put a black stone at a distance of 2 in to the north-east direction and a white stone farthest into the south-west."
   ]
  },
  {
   "cell_type": "code",
   "execution_count": 8,
   "metadata": {},
   "outputs": [
    {
     "data": {
      "text/plain": [
       "|                 |\n",
       "|                 |\n",
       "|            x    |\n",
       "|                 |\n",
       "|        *        |\n",
       "|                 |\n",
       "|                 |\n",
       "|                 |\n",
       "|o                |"
      ]
     },
     "execution_count": 8,
     "metadata": {},
     "output_type": "execute_result"
    }
   ],
   "source": [
    "nh.register(BLACK, 'ne', distance=2).register(WHITE, 'sw', distance=4)"
   ]
  },
  {
   "cell_type": "markdown",
   "metadata": {},
   "source": [
    "Display as bit array"
   ]
  },
  {
   "cell_type": "code",
   "execution_count": 9,
   "metadata": {},
   "outputs": [
    {
     "data": {
      "text/plain": [
       "[[[0, 0, 0, 0, 0, 0, 0, 0], [0, 0, 0, 0, 0, 0, 0, 0]],\n",
       " [[0, 0, 0, 0, 0, 1, 0, 0], [1, 0, 0, 0, 0, 0, 0, 0]],\n",
       " [[0, 0, 0, 0, 0, 0, 0, 0], [0, 0, 0, 0, 0, 0, 0, 0]],\n",
       " [[0, 0, 0, 0, 0, 0, 0, 0], [0, 0, 0, 0, 0, 0, 0, 0]]]"
      ]
     },
     "execution_count": 9,
     "metadata": {},
     "output_type": "execute_result"
    }
   ],
   "source": [
    "nh.as_bits()"
   ]
  },
  {
   "cell_type": "markdown",
   "metadata": {},
   "source": [
    "Register complete lines"
   ]
  },
  {
   "cell_type": "code",
   "execution_count": 10,
   "metadata": {},
   "outputs": [
    {
     "data": {
      "text/plain": [
       "|                o|\n",
       "|                 |\n",
       "|        x        |\n",
       "|                 |\n",
       "|o   x   * x      |\n",
       "|        x        |\n",
       "|                 |\n",
       "|        o        |\n",
       "|        x        |"
      ]
     },
     "execution_count": 10,
     "metadata": {},
     "output_type": "execute_result"
    }
   ],
   "source": [
    "nh=NH9x9().setline_xo('n', 'xo.x.x..').setline_xo('e', 'o.x.x...').setline_xo('ne', '.......o')\n",
    "nh"
   ]
  },
  {
   "cell_type": "code",
   "execution_count": 11,
   "metadata": {},
   "outputs": [
    {
     "data": {
      "text/plain": [
       "|                 |\n",
       "|                 |\n",
       "|        x        |\n",
       "|                 |\n",
       "|o   x   * x      |\n",
       "|        x        |\n",
       "|                 |\n",
       "|        o        |\n",
       "|        x        |"
      ]
     },
     "execution_count": 11,
     "metadata": {},
     "output_type": "execute_result"
    }
   ],
   "source": [
    "nh.unregister(WHITE, 'ne', distance=4)"
   ]
  },
  {
   "cell_type": "markdown",
   "metadata": {},
   "source": [
    "---\n",
    "## Heuristics: Learning from Humans\n",
    "Alpha zero started from scratch and explored the world of go with no previous knowledge but the rules. Typically though, some human knowledge can jump-start the learning process. That's why we give our agent a head-start with some truly not-so-rigorous (but still quite smart) heuristics. We'll make sure though that the agent will be able to extend its understanding beyond its initial knowlegde and eventually even abandon the heuristics in favour of what it has learned by itself."
   ]
  },
  {
   "cell_type": "markdown",
   "metadata": {},
   "source": [
    "The heuristic score tries to naively measure the *value* of a position, i.e. the importance with which one should consider putting a stone onto it.\n",
    "\n",
    "```Heuristics``` uses the 2-byte = 2x 8 bit representation of a line of 9 positions. For example:\n",
    "```\n",
    "[[0, 0, 1, 0,      0, 0, 0, 0],\n",
    " [0, 0, 0, 0,      0, 0, 1, 1]]\n",
    "```\n",
    "means there is a black stone in one direction (say: left) with distance 2 and there are 2 white stones in the opposite direction (say: right) with distances 3 and 4. The line could as well be represented by a string like ```..x.*..oo ```, which would be understood by method ```setline_xo``` of class ```NH9x9```\n",
    "\n",
    "The actual direction of the viewpoint don't matter here. What matters is that the position marked by ```*``` would create an wide-split-3 threat in favor of white."
   ]
  },
  {
   "cell_type": "code",
   "execution_count": 22,
   "metadata": {},
   "outputs": [],
   "source": [
    "h=Heuristics()"
   ]
  },
  {
   "cell_type": "code",
   "execution_count": 23,
   "metadata": {},
   "outputs": [
    {
     "data": {
      "text/plain": [
       "(|                 |\n",
       " |                 |\n",
       " |        o        |\n",
       " |                 |\n",
       " |x   o   * o      |\n",
       " |        o        |\n",
       " |                 |\n",
       " |        x        |\n",
       " |        o        |,\n",
       " [(0, 0, 6), (4, 4, 5)],\n",
       " ['Black: defendable', 'White: 2 double open 2s - move or lose in 3'],\n",
       " [8, 5184])"
      ]
     },
     "execution_count": 23,
     "metadata": {},
     "output_type": "execute_result"
    }
   ],
   "source": [
    "n=NH9x9().setline_xo(2, 'ox.o.o..').setline_xo(0, 'x.o.o...')\n",
    "classification = h.classify_nh(n, score_for=0)\n",
    "n, classification, h.describe(classification), h.soft_values(n)"
   ]
  },
  {
   "cell_type": "code",
   "execution_count": 24,
   "metadata": {},
   "outputs": [
    {
     "data": {
      "text/plain": [
       "(|                 |\n",
       " |        x        |\n",
       " |        x        |\n",
       " |        x        |\n",
       " |        *        |\n",
       " |                 |\n",
       " |                 |\n",
       " |                 |\n",
       " |        o        |,\n",
       " [(7, 0, 3), (1, 0, 6)],\n",
       " ['Black: double open 3 - move or lose in 2', 'White: defendable'],\n",
       " [14088, 256])"
      ]
     },
     "execution_count": 24,
     "metadata": {},
     "output_type": "execute_result"
    }
   ],
   "source": [
    "n=NH9x9().setline_xo(2, 'o...xxx.')\n",
    "classification = h.classify_nh(n, score_for=0)\n",
    "n, classification, h.describe(classification), h.soft_values(n)"
   ]
  },
  {
   "cell_type": "markdown",
   "metadata": {},
   "source": [
    "---\n",
    "### Counting stones"
   ]
  },
  {
   "cell_type": "markdown",
   "metadata": {},
   "source": [
    "```Heuristics``` establishes its functions upon lower-level building blocks such as the ```cscore``` *count score* function:"
   ]
  },
  {
   "cell_type": "code",
   "execution_count": 25,
   "metadata": {},
   "outputs": [
    {
     "data": {
      "text/plain": [
       "\u001b[0;31mSignature:\u001b[0m \u001b[0mh\u001b[0m\u001b[0;34m.\u001b[0m\u001b[0mcscore\u001b[0m\u001b[0;34m(\u001b[0m\u001b[0mline\u001b[0m\u001b[0;34m,\u001b[0m \u001b[0mc\u001b[0m\u001b[0;34m=\u001b[0m\u001b[0;36m0\u001b[0m\u001b[0;34m,\u001b[0m \u001b[0medges\u001b[0m\u001b[0;34m=\u001b[0m\u001b[0;34m(\u001b[0m\u001b[0;32mNone\u001b[0m\u001b[0;34m,\u001b[0m \u001b[0;32mNone\u001b[0m\u001b[0;34m)\u001b[0m\u001b[0;34m,\u001b[0m \u001b[0mcap\u001b[0m\u001b[0;34m=\u001b[0m\u001b[0;36m2\u001b[0m\u001b[0;34m)\u001b[0m\u001b[0;34m\u001b[0m\u001b[0m\n",
       "\u001b[0;31mDocstring:\u001b[0m\n",
       "count how many sub-lines of 5 come with the max number of stones\n",
       "Example: \"oo.x*xx..\" : The max num of blacks if obviously 3. And there are\n",
       "         two different adversary-free sub-lines counting three, namely '.x*xx' and 'x*xx.'.\n",
       "         Thus the cscore would be (3,2)\n",
       "\n",
       "Args:\n",
       "    line: 8x2 integer array that represents the stones \n",
       "    c:  color: 0 to look at black, 1 to consider white\n",
       "\u001b[0;31mFile:\u001b[0m      ~/workspace/tutorials/other_stuff/DeepGomoku/GomokuTools2.py\n",
       "\u001b[0;31mType:\u001b[0m      method\n"
      ]
     },
     "metadata": {},
     "output_type": "display_data"
    }
   ],
   "source": [
    "h.cscore?"
   ]
  },
  {
   "cell_type": "code",
   "execution_count": 34,
   "metadata": {},
   "outputs": [
    {
     "data": {
      "text/plain": [
       "|x                |\n",
       "|                 |\n",
       "|    o            |\n",
       "|                 |\n",
       "|x   o   * o o    |\n",
       "|          o      |\n",
       "|                 |\n",
       "|              x  |\n",
       "|                o|"
      ]
     },
     "execution_count": 34,
     "metadata": {},
     "output_type": "execute_result"
    }
   ],
   "source": [
    "n=NH9x9().setline_xo('nw', 'ox.o.o.x').setline_xo('e', 'x.o.oo..')\n",
    "n"
   ]
  },
  {
   "cell_type": "code",
   "execution_count": 35,
   "metadata": {},
   "outputs": [
    {
     "data": {
      "text/plain": [
       "(3, 1)"
      ]
     },
     "execution_count": 35,
     "metadata": {},
     "output_type": "execute_result"
    }
   ],
   "source": [
    "h.cscore(n.get_line('e'), c=WHITE)"
   ]
  },
  {
   "cell_type": "markdown",
   "metadata": {},
   "source": [
    "Here, the dominant feature of the eastern line is made of 3 whites and only 1 way of completing them to a row of 5."
   ]
  },
  {
   "cell_type": "markdown",
   "metadata": {},
   "source": [
    "---\n",
    "### Adversary-free ranges"
   ]
  },
  {
   "cell_type": "code",
   "execution_count": 38,
   "metadata": {},
   "outputs": [
    {
     "data": {
      "text/plain": [
       "\u001b[0;31mSignature:\u001b[0m \u001b[0mh\u001b[0m\u001b[0;34m.\u001b[0m\u001b[0mf_range\u001b[0m\u001b[0;34m(\u001b[0m\u001b[0mline\u001b[0m\u001b[0;34m,\u001b[0m \u001b[0mc\u001b[0m\u001b[0;34m=\u001b[0m\u001b[0;36m0\u001b[0m\u001b[0;34m,\u001b[0m \u001b[0medges\u001b[0m\u001b[0;34m=\u001b[0m\u001b[0;34m(\u001b[0m\u001b[0;32mNone\u001b[0m\u001b[0;34m,\u001b[0m \u001b[0;32mNone\u001b[0m\u001b[0;34m)\u001b[0m\u001b[0;34m)\u001b[0m\u001b[0;34m\u001b[0m\u001b[0m\n",
       "\u001b[0;31mDocstring:\u001b[0m\n",
       "The largest adversary-free range within a given line\n",
       "\n",
       "Args:\n",
       "    line: 8x2 integer array that represents the stones\n",
       "    c:    0 to look at black, 1 to consider white\n",
       "\u001b[0;31mFile:\u001b[0m      ~/workspace/tutorials/other_stuff/DeepGomoku/GomokuTools2.py\n",
       "\u001b[0;31mType:\u001b[0m      method\n"
      ]
     },
     "metadata": {},
     "output_type": "display_data"
    }
   ],
   "source": [
    "h.f_range?"
   ]
  },
  {
   "cell_type": "code",
   "execution_count": 37,
   "metadata": {},
   "outputs": [
    {
     "data": {
      "text/plain": [
       "array([0, 1, 0, 1, 1, 0, 0])"
      ]
     },
     "execution_count": 37,
     "metadata": {},
     "output_type": "execute_result"
    }
   ],
   "source": [
    "h.f_range(n.get_line('e'), c=WHITE)"
   ]
  },
  {
   "cell_type": "code",
   "execution_count": null,
   "metadata": {},
   "outputs": [],
   "source": []
  }
 ],
 "metadata": {
  "kernelspec": {
   "display_name": "Python 3",
   "language": "python",
   "name": "python3"
  },
  "language_info": {
   "codemirror_mode": {
    "name": "ipython",
    "version": 3
   },
   "file_extension": ".py",
   "mimetype": "text/x-python",
   "name": "python",
   "nbconvert_exporter": "python",
   "pygments_lexer": "ipython3",
   "version": "3.6.4"
  }
 },
 "nbformat": 4,
 "nbformat_minor": 2
}
