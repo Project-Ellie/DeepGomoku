{
 "cells": [
  {
   "cell_type": "code",
   "execution_count": 2,
   "metadata": {},
   "outputs": [],
   "source": [
    "from __future__ import division, absolute_import, print_function"
   ]
  },
  {
   "cell_type": "code",
   "execution_count": 1,
   "metadata": {},
   "outputs": [],
   "source": [
    "import numpy as np\n",
    "from wgomoku import UCT_Node, PolicyAdapter, GomokuEnvironment, GomokuState"
   ]
  },
  {
   "cell_type": "markdown",
   "metadata": {},
   "source": [
    "# MCTS with UCB and policy support"
   ]
  },
  {
   "cell_type": "code",
   "execution_count": 2,
   "metadata": {},
   "outputs": [],
   "source": [
    "def uct_search(game_state, policy, num_reads, verbose=0, rollout_delay=0):\n",
    "    \"\"\"\n",
    "    \"\"\"\n",
    "    def _is_terminal(value):\n",
    "        return value == 1 or value == -1\n",
    "    \n",
    "    def _choose_from(distr):\n",
    "        return np.random.choice(range(5), 1, p=distr)[0]\n",
    "    \n",
    "    count = [0,0,0]\n",
    "    root = UCT_Node(game_state)\n",
    "    for read_count in range(num_reads):\n",
    "\n",
    "        # UCB-driven selection\n",
    "        leaf = root.select_leaf()\n",
    "        \n",
    "        # policy-advised rollout until terminal state\n",
    "        leaf_priors, _,  value_estimate = policy.evaluate(leaf.game_state)\n",
    "\n",
    "        priors = leaf_priors\n",
    "        game = leaf.game_state\n",
    "        \n",
    "        if read_count > rollout_delay:\n",
    "            while value_estimate == 0:\n",
    "                move = _choose_from(priors)\n",
    "                game = game.play(move)\n",
    "                priors, _,  value_estimate = policy.evaluate(game, view_point = leaf.game_state.to_play )\n",
    "        \n",
    "        count[value_estimate+1] += 1\n",
    "\n",
    "        if _is_terminal(value_estimate):\n",
    "            if verbose > 1:\n",
    "                print(leaf, leaf.game_state)\n",
    "            leaf.backup(value_estimate)\n",
    "        else:\n",
    "            # Only expand non-terminal states\n",
    "            leaf.expand(leaf_priors)\n",
    "            \n",
    "    if verbose > 0:\n",
    "        print(\"Counts: %s\" % count)\n",
    "    move, _ = max(root.children.items(), \n",
    "               key = lambda item: item[1].number_visits)\n",
    "    return root, move"
   ]
  },
  {
   "cell_type": "raw",
   "metadata": {},
   "source": [
    "class UCT_Node:\n",
    "    def __init__(self, game_state, move=None, parent=None, C=1.4):\n",
    "        self.game_state = game_state\n",
    "        self.move = move\n",
    "        self.is_expanded = False\n",
    "        self.parent = parent\n",
    "        self.children = {}\n",
    "        self.child_priors = np.zeros(\n",
    "            [self.game_state.n_actions+1], dtype=np.float32)\n",
    "        self.child_total_value =  np.zeros(\n",
    "            [self.game_state.n_actions+1], dtype=np.float32)\n",
    "        self.child_number_visits =  np.zeros(\n",
    "            [self.game_state.n_actions+1], dtype=np.float32)\n",
    "        self.C = C\n",
    "        self.penalty = 0\n",
    "\n",
    "        \n",
    "    def any_argmax(self, aa):\n",
    "        \"\"\"\n",
    "        stochastic function:\n",
    "        returns any of the indices that have the maximum.\n",
    "        \"\"\"\n",
    "        import random\n",
    "        ind = np.argmax(aa)\n",
    "        m = aa[ind]\n",
    "        choices = np.where(aa == m)\n",
    "        return random.choice(np.ndarray.tolist(choices[0]))        \n",
    "\n",
    "    \n",
    "    def child_Q(self):\n",
    "        return self.child_total_value / (1 + self.child_number_visits)\n",
    "\n",
    "    def child_U(self):\n",
    "        if self.number_visits == 0: \n",
    "            return np.zeros([5], dtype=float)\n",
    "        else:\n",
    "            return np.sqrt(np.log(self.number_visits) / \n",
    "                           (1 + self.child_number_visits))\n",
    "\n",
    "        # TODO: This is not reflecting the theory\n",
    "        return np.sqrt(self.number_visits) * (\n",
    "            self.child_priors / (1 + self.child_number_visits))\n",
    "\n",
    "    def best_child(self):\n",
    "        \"\"\"\n",
    "        We are looking for the child that has the *worst* value, because\n",
    "        the value is always computed as from the point of view of the one\n",
    "        who's moving next. And the children of this node are all adversary\n",
    "        moves. In short: Maximize the opponents pain! My move is your pain.\n",
    "        \"\"\"\n",
    "        qus = - self.child_Q() + self.C * self.child_U()\n",
    "        move = self.any_argmax(qus[1:])+1 # because we're starting at index 1\n",
    "        if self.children:\n",
    "            return self.children[move]\n",
    "        else:\n",
    "            return None\n",
    "\n",
    "    \n",
    "    def select_leaf(self):\n",
    "        current = self\n",
    "        while current.is_expanded:\n",
    "            current.number_visits += 1\n",
    "            current.total_value -= self.penalty #make it less attractive until backup\n",
    "            current = current.best_child()\n",
    "        return current\n",
    "    \n",
    "    def expand(self, child_priors):\n",
    "        self.is_expanded = True\n",
    "        self.child_priors = child_priors\n",
    "        \n",
    "        for move in self.game_state.legal_actions:\n",
    "            self.add_child(move)\n",
    "            \n",
    "    def add_child(self, move):\n",
    "        child = UCT_Node(\n",
    "            self.game_state.play(move), move=move, parent=self)\n",
    "        self.children[move] = child\n",
    "        return child\n",
    "    \n",
    "    def backup(self, value_estimate):\n",
    "        current = self\n",
    "        while current.parent is not None:\n",
    "            upd = value_estimate * current.game_state.to_play + current.penalty\n",
    "            #print(\"Updating: %s: %s, %s\" % (self, current.game_state.to_play, upd))\n",
    "            current.total_value += upd\n",
    "            current = current.parent\n",
    "            \n",
    "    def pathid(self):\n",
    "        leaf = self\n",
    "        name = [leaf.move]\n",
    "        while leaf.parent:\n",
    "            name = [leaf.parent.move] + name\n",
    "            leaf = leaf.parent\n",
    "        return name    \n",
    "            \n",
    "    def __repr__(self):\n",
    "        return str(self.pathid())\n",
    "        \n",
    "    @property\n",
    "    def number_visits(self):\n",
    "        if self.parent:\n",
    "            return self.parent.child_number_visits[self.move]\n",
    "        else:\n",
    "            return 0\n",
    "    \n",
    "    @number_visits.setter\n",
    "    def number_visits(self, value):\n",
    "        #print(\"Value: %s\" % value)\n",
    "        #raise ValueError()\n",
    "        if self.parent:\n",
    "            self.parent.child_number_visits[self.move] = value\n",
    "        \n",
    "    @property\n",
    "    def total_value(self):\n",
    "        if self.parent:\n",
    "            return self.parent.child_total_value[self.move]\n",
    "        else:\n",
    "            return 0\n",
    "    \n",
    "    @total_value.setter\n",
    "    def total_value(self, value):\n",
    "        if self.parent:\n",
    "            self.parent.child_total_value[self.move] = value"
   ]
  },
  {
   "cell_type": "code",
   "execution_count": 3,
   "metadata": {},
   "outputs": [],
   "source": [
    "from copy import deepcopy\n",
    "class SillyGame: \n",
    "    \n",
    "    def __init__(self, board):\n",
    "        self.legal_actions = [1,2,3,4]\n",
    "        self.n_actions = len(self.legal_actions)\n",
    "        self.total = 0\n",
    "        self.to_play = 1\n",
    "        self.board=board\n",
    "\n",
    "    def play(self, move):     \n",
    "        if self.total + move >= len(self.board):            \n",
    "            print(self)\n",
    "            raise ValueError(\"Beyond boundary: Pos=%s, Move=%s\" % (self.total,move))\n",
    "        if not move in self.legal_actions:\n",
    "            raise ValueError(\"Not a legal move: %s\" %move)\n",
    "        cp = deepcopy(self)\n",
    "        cp.to_play *= -1\n",
    "        cp.total += move\n",
    "        return cp\n",
    "    \n",
    "    def __repr__(self):\n",
    "        stone = 'x' if self.to_play==1 else 'o'\n",
    "        board = self.board[:self.total] + stone + self.board[self.total+1:]\n",
    "        return (\"total: %02d, %s\" % (self.total, board))\n",
    "    "
   ]
  },
  {
   "cell_type": "code",
   "execution_count": 4,
   "metadata": {},
   "outputs": [],
   "source": [
    "class SillyPolicy:\n",
    "\n",
    "    def __init__(self, lookahead=False):\n",
    "        self.lookahead = lookahead\n",
    "    \n",
    "    def _is_done(self, board, total):\n",
    "        return board[total] == 'I'\n",
    "            \n",
    "    def evaluate(self, game, view_point=1):\n",
    "        \"\"\"\n",
    "        The game is over, once any player has stepped on a mine ('I'). The other\n",
    "        (obviously) has won, then. If view_point==1 (black), evaluate returns +1,\n",
    "        if the next move (to_play) would be black: i.e. white stepped on the mine.\n",
    "        \"\"\"\n",
    "        if self._is_done(game.board, game.total):\n",
    "            # the opponent (previous player) lost -> I won\n",
    "            return [0,0,0,0,0], 0, view_point * game.to_play\n",
    "        else: \n",
    "            distr = [0,0,0,0,0]\n",
    "            array = [1,2,3,4]\n",
    "            np.random.shuffle(array)\n",
    "            if not self.lookahead:\n",
    "                return [0., .25,  .25,  .25,  .25], array[0], 0\n",
    "            for n in array:\n",
    "                \n",
    "                #\n",
    "                #  TODO: This logic is ill. It'll default to n=1 unless that's fatal\n",
    "                #  then 2 unless that's fatal, etc.\n",
    "                #\n",
    "                if not self._is_done(game.board, game.total+n):\n",
    "                    distr[n] = 1\n",
    "                    return distr, n, 0\n",
    "            # Can't move -> from the viewpoint of the one to play: Bad!\n",
    "            return distr, 0, - view_point * game.to_play\n",
    "                    "
   ]
  },
  {
   "cell_type": "code",
   "execution_count": 5,
   "metadata": {},
   "outputs": [
    {
     "name": "stdout",
     "output_type": "stream",
     "text": [
      "total: 00, x.-...I-.II.-....-III....-....-IIII\n"
     ]
    },
    {
     "data": {
      "text/plain": [
       "(True, False)"
      ]
     },
     "execution_count": 5,
     "metadata": {},
     "output_type": "execute_result"
    }
   ],
   "source": [
    "p = SillyPolicy()\n",
    "g = SillyGame('..-...I-.II.-....-III....-....-IIII')\n",
    "print(g)\n",
    "p._is_done(g.board, 6), p._is_done(g.board, 7)"
   ]
  },
  {
   "cell_type": "code",
   "execution_count": 6,
   "metadata": {},
   "outputs": [
    {
     "name": "stdout",
     "output_type": "stream",
     "text": [
      "1\n",
      "total: 00, x.-...I-.II.-....-III....-....-IIII 0\n",
      "-1\n",
      "total: 01, .o-...I-.II.-....-III....-....-IIII 0\n",
      "1\n",
      "total: 02, ..x...I-.II.-....-III....-....-IIII 0\n",
      "-1\n",
      "total: 06, ..-...o-.II.-....-III....-....-IIII -1\n"
     ]
    }
   ],
   "source": [
    "p = SillyPolicy()\n",
    "g = SillyGame('..-...I-.II.-....-III....-....-IIII')\n",
    "\n",
    "print(g.to_play)\n",
    "_, choice, state = p.evaluate(g)\n",
    "print(g, state)\n",
    "\n",
    "g = g.play(1)\n",
    "print(g.to_play)\n",
    "_, choice, state = p.evaluate(g)\n",
    "print(g, state)\n",
    "\n",
    "g = g.play(1)\n",
    "print(g.to_play)\n",
    "_, choice, state = p.evaluate(g)\n",
    "print(g, state)\n",
    "\n",
    "g = g.play(4)\n",
    "print(g.to_play)\n",
    "_, choice, state = p.evaluate(g)\n",
    "print(g, state)"
   ]
  },
  {
   "cell_type": "markdown",
   "metadata": {},
   "source": [
    "#### A Game with a lookahead policy\n",
    "The policy's ```evaluate()``` method returns the value of the board from black's point of view,\n",
    "if not specified otherwise. I.e.: Here, a value of $-1$ means \"white wins\"."
   ]
  },
  {
   "cell_type": "code",
   "execution_count": 7,
   "metadata": {},
   "outputs": [
    {
     "name": "stdout",
     "output_type": "stream",
     "text": [
      "total: 02, ..o...I-.II.-....-III....-....-IIII 2 0\n",
      "total: 04, ..-.x.I-.II.-....-III....-....-IIII 1 0\n",
      "total: 05, ..-..oI-.II.-....-III....-....-IIII 2 0\n",
      "total: 07, ..-...Ix.II.-....-III....-....-IIII 1 0\n",
      "total: 08, ..-...I-oII.-....-III....-....-IIII 4 0\n",
      "total: 12, ..-...I-.II.x....-III....-....-IIII 4 0\n",
      "total: 16, ..-...I-.II.-...o-III....-....-IIII 1 0\n",
      "total: 17, ..-...I-.II.-....xIII....-....-IIII 4 0\n",
      "total: 21, ..-...I-.II.-....-IIIo...-....-IIII 2 0\n",
      "total: 23, ..-...I-.II.-....-III..x.-....-IIII 2 0\n",
      "total: 25, ..-...I-.II.-....-III....o....-IIII 1 0\n",
      "total: 26, ..-...I-.II.-....-III....-x...-IIII 1 0\n",
      "total: 27, ..-...I-.II.-....-III....-.o..-IIII 3 0\n",
      "total: 30, ..-...I-.II.-....-III....-....xIIII 0 -1\n",
      "white wins.\n"
     ]
    }
   ],
   "source": [
    "p = SillyPolicy(lookahead=True)\n",
    "g = SillyGame('..-...I-.II.-....-III....-....-IIII')\n",
    "choice = 2\n",
    "\n",
    "while choice != 0:\n",
    "    g = g.play(choice)\n",
    "    _, choice, value = p.evaluate(g)\n",
    "    print(g, choice, value)\n",
    "    \n",
    "print((\"white\" if value == -1 else \"black\") + \" wins.\")"
   ]
  },
  {
   "cell_type": "markdown",
   "metadata": {},
   "source": [
    "### Monte Carlo Tree Search with UCB"
   ]
  },
  {
   "cell_type": "code",
   "execution_count": 9,
   "metadata": {},
   "outputs": [
    {
     "name": "stdout",
     "output_type": "stream",
     "text": [
      "total: 00, x...-....-....-IIII\n"
     ]
    },
    {
     "ename": "AttributeError",
     "evalue": "'list' object has no attribute 'items'",
     "output_type": "error",
     "traceback": [
      "\u001b[0;31m---------------------------------------------------------------------------\u001b[0m",
      "\u001b[0;31mAttributeError\u001b[0m                            Traceback (most recent call last)",
      "\u001b[0;32m<ipython-input-9-acb74d32c7ef>\u001b[0m in \u001b[0;36m<module>\u001b[0;34m\u001b[0m\n\u001b[1;32m      7\u001b[0m \u001b[0;34m\u001b[0m\u001b[0m\n\u001b[1;32m      8\u001b[0m \u001b[0;32mfor\u001b[0m \u001b[0mmove\u001b[0m \u001b[0;32min\u001b[0m \u001b[0;34m[\u001b[0m\u001b[0;36m4\u001b[0m\u001b[0;34m,\u001b[0m\u001b[0;36m4\u001b[0m\u001b[0;34m,\u001b[0m\u001b[0;36m1\u001b[0m\u001b[0;34m,\u001b[0m\u001b[0;36m2\u001b[0m\u001b[0;34m,\u001b[0m\u001b[0;36m3\u001b[0m\u001b[0;34m,\u001b[0m\u001b[0;36m1\u001b[0m\u001b[0;34m]\u001b[0m\u001b[0;34m:\u001b[0m\u001b[0;34m\u001b[0m\u001b[0m\n\u001b[0;32m----> 9\u001b[0;31m     \u001b[0mleaf\u001b[0m\u001b[0;34m.\u001b[0m\u001b[0mexpand\u001b[0m\u001b[0;34m(\u001b[0m\u001b[0;34m[\u001b[0m\u001b[0;36m0\u001b[0m\u001b[0;34m]\u001b[0m\u001b[0;34m+\u001b[0m\u001b[0;34m[\u001b[0m\u001b[0;36m.25\u001b[0m\u001b[0;34m]\u001b[0m\u001b[0;34m*\u001b[0m\u001b[0;36m4\u001b[0m\u001b[0;34m)\u001b[0m\u001b[0;34m\u001b[0m\u001b[0m\n\u001b[0m\u001b[1;32m     10\u001b[0m     \u001b[0mleaf\u001b[0m \u001b[0;34m=\u001b[0m \u001b[0mleaf\u001b[0m\u001b[0;34m.\u001b[0m\u001b[0mchildren\u001b[0m\u001b[0;34m[\u001b[0m\u001b[0mmove\u001b[0m\u001b[0;34m]\u001b[0m\u001b[0;34m\u001b[0m\u001b[0m\n\u001b[1;32m     11\u001b[0m \u001b[0mprint\u001b[0m\u001b[0;34m(\u001b[0m\u001b[0mleaf\u001b[0m\u001b[0;34m.\u001b[0m\u001b[0mgame_state\u001b[0m\u001b[0;34m,\u001b[0m \u001b[0mleaf\u001b[0m\u001b[0;34m)\u001b[0m\u001b[0;34m\u001b[0m\u001b[0m\n",
      "\u001b[0;32m~/workspace/tutorials/other_stuff/DeepGomoku/new/UCT_Search.py\u001b[0m in \u001b[0;36mexpand\u001b[0;34m(self, child_priors)\u001b[0m\n\u001b[1;32m    116\u001b[0m     \u001b[0;32mdef\u001b[0m \u001b[0mexpand\u001b[0m\u001b[0;34m(\u001b[0m\u001b[0mself\u001b[0m\u001b[0;34m,\u001b[0m \u001b[0mchild_priors\u001b[0m\u001b[0;34m)\u001b[0m\u001b[0;34m:\u001b[0m\u001b[0;34m\u001b[0m\u001b[0m\n\u001b[1;32m    117\u001b[0m         \u001b[0mself\u001b[0m\u001b[0;34m.\u001b[0m\u001b[0mis_expanded\u001b[0m \u001b[0;34m=\u001b[0m \u001b[0;32mTrue\u001b[0m\u001b[0;34m\u001b[0m\u001b[0m\n\u001b[0;32m--> 118\u001b[0;31m         \u001b[0mitems\u001b[0m \u001b[0;34m=\u001b[0m \u001b[0mchild_priors\u001b[0m\u001b[0;34m.\u001b[0m\u001b[0mitems\u001b[0m\u001b[0;34m(\u001b[0m\u001b[0;34m)\u001b[0m\u001b[0;34m\u001b[0m\u001b[0m\n\u001b[0m\u001b[1;32m    119\u001b[0m         \u001b[0mself\u001b[0m\u001b[0;34m.\u001b[0m\u001b[0mchild_moves\u001b[0m\u001b[0;34m=\u001b[0m\u001b[0;34m[\u001b[0m\u001b[0mi\u001b[0m\u001b[0;34m[\u001b[0m\u001b[0;36m0\u001b[0m\u001b[0;34m]\u001b[0m \u001b[0;32mfor\u001b[0m \u001b[0mi\u001b[0m \u001b[0;32min\u001b[0m \u001b[0mitems\u001b[0m\u001b[0;34m]\u001b[0m\u001b[0;34m\u001b[0m\u001b[0m\n\u001b[1;32m    120\u001b[0m         \u001b[0mself\u001b[0m\u001b[0;34m.\u001b[0m\u001b[0mchild_priors\u001b[0m \u001b[0;34m=\u001b[0m \u001b[0;34m[\u001b[0m\u001b[0mi\u001b[0m\u001b[0;34m[\u001b[0m\u001b[0;36m1\u001b[0m\u001b[0;34m]\u001b[0m \u001b[0;32mfor\u001b[0m \u001b[0mi\u001b[0m \u001b[0;32min\u001b[0m \u001b[0mitems\u001b[0m\u001b[0;34m]\u001b[0m\u001b[0;34m\u001b[0m\u001b[0m\n",
      "\u001b[0;31mAttributeError\u001b[0m: 'list' object has no attribute 'items'"
     ]
    }
   ],
   "source": [
    "b_sure_win = '....-....-....-IIII'\n",
    "w_sure_win = '.....-....-....-IIII'\n",
    "g0 = SillyGame(b_sure_win)\n",
    "print(g0)\n",
    "root = UCT_Node(g0, C=0.5)\n",
    "leaf = root\n",
    "\n",
    "for move in [4,4,1,2,3,1]:\n",
    "    leaf.expand([0]+[.25]*4)\n",
    "    leaf = leaf.children[move]\n",
    "print(leaf.game_state, leaf)\n",
    "p.evaluate(leaf.game_state)"
   ]
  },
  {
   "cell_type": "code",
   "execution_count": 11,
   "metadata": {},
   "outputs": [],
   "source": [
    "leaf.backup(1)"
   ]
  },
  {
   "cell_type": "markdown",
   "metadata": {},
   "source": [
    "Please observe that the back propagation comes with alternating signs. A win sequence for one player is bad for the other."
   ]
  },
  {
   "cell_type": "code",
   "execution_count": 12,
   "metadata": {},
   "outputs": [
    {
     "name": "stdout",
     "output_type": "stream",
     "text": [
      "[None, 4, 4, 1, 2, 3, 1] 1.0\n",
      "[None, 4, 4, 1, 2, 3] -1.0\n",
      "[None, 4, 4, 1, 2] 1.0\n",
      "[None, 4, 4, 1] -1.0\n",
      "[None, 4, 4] 1.0\n",
      "[None, 4] -1.0\n"
     ]
    }
   ],
   "source": [
    "while leaf.parent:\n",
    "    print(leaf, leaf.total_value)\n",
    "    leaf = leaf.parent"
   ]
  },
  {
   "cell_type": "markdown",
   "metadata": {},
   "source": [
    "\"[None, 4] -1.0\" means: After the first move of 4 fields, the value of the board for the next (to_play == white) player is $-1$.\n",
    "\n",
    "---"
   ]
  },
  {
   "cell_type": "code",
   "execution_count": 13,
   "metadata": {},
   "outputs": [
    {
     "data": {
      "text/plain": [
       "(1, array([ 0.,  0.,  0.,  0., -1.], dtype=float32))"
      ]
     },
     "execution_count": 13,
     "metadata": {},
     "output_type": "execute_result"
    }
   ],
   "source": [
    "root.game_state.to_play, root.child_Q()"
   ]
  },
  {
   "cell_type": "markdown",
   "metadata": {},
   "source": [
    "Read this like: Black is next to move and a move of $4$ will leave its opponent a $-1$ valued board. I guess that's a good reason to do just that.\n",
    "\n",
    "---"
   ]
  },
  {
   "cell_type": "code",
   "execution_count": 14,
   "metadata": {},
   "outputs": [
    {
     "data": {
      "text/plain": [
       "array([0., 0., 0., 0., 1.], dtype=float32)"
      ]
     },
     "execution_count": 14,
     "metadata": {},
     "output_type": "execute_result"
    }
   ],
   "source": [
    "root.children[4].child_Q()"
   ]
  },
  {
   "cell_type": "markdown",
   "metadata": {},
   "source": [
    "Read this like: If white plays a $4$ that'd be good for black. We know that that holds for any other move, too.\n",
    "\n",
    "---"
   ]
  },
  {
   "cell_type": "markdown",
   "metadata": {},
   "source": [
    "### The Rule of 5\n",
    "The rule of five says: Once on one of the safe positions, always move such that your move adds up to 5 with the opponents move. That brings you to the next safe position. \n",
    "Now, with 10000 runs, the tree search eventually *understands* the rule of 5."
   ]
  },
  {
   "cell_type": "code",
   "execution_count": 15,
   "metadata": {},
   "outputs": [
    {
     "name": "stdout",
     "output_type": "stream",
     "text": [
      "Counts: [1125, 1474, 7401]\n",
      "[None, 4, 2, 3, 4, 1] total: 14, ....-....-....oIIII\n",
      "[ 0.          0.16852011  0.16846848  0.16853933 -0.95321965]\n"
     ]
    }
   ],
   "source": [
    "g0 = SillyGame(b_sure_win)\n",
    "root, move = uct_search(g0, p, 10000, verbose=1, rollout_delay=5000)\n",
    "endpos = root.best_child().best_child().best_child().best_child().best_child()\n",
    "print(endpos, endpos.game_state)\n",
    "print(root.child_Q())"
   ]
  },
  {
   "cell_type": "markdown",
   "metadata": {},
   "source": [
    "What (almost always) works with 10000 runs, sometimes doesn't work with less than that. Try it a couple of times with 2000 to verify. The reason for that is that the tree is expanded in some mixed manner that explores breadth early in the search. Thus, it takes quite a number of selections until eventually more and more terminal states are explored. And only those provide useful feedback for the evaluation of the moves."
   ]
  },
  {
   "cell_type": "markdown",
   "metadata": {},
   "source": [
    "With a single field added to the board, whatever black does, white can play the winning strategy, because black starting from a safe position must leave it with the first move so that white can occupy the next safe position and so on to win the game."
   ]
  },
  {
   "cell_type": "code",
   "execution_count": 16,
   "metadata": {},
   "outputs": [
    {
     "name": "stdout",
     "output_type": "stream",
     "text": [
      "Counts: [6859, 2316, 825]\n",
      "[None, 1, 4, 3, 2, 2, 3] total: 15, .....-....-....xIIII\n",
      "[0.         0.60344005 0.6034602  0.60348165 0.6034985 ]\n"
     ]
    }
   ],
   "source": [
    "g0 = SillyGame(w_sure_win)\n",
    "root, move = uct_search(g0, p, 10000, verbose=1, rollout_delay=5000)\n",
    "endpos = root.best_child().best_child().best_child().best_child().best_child().best_child()\n",
    "print(endpos, endpos.game_state)\n",
    "print(root.child_Q())"
   ]
  },
  {
   "cell_type": "markdown",
   "metadata": {},
   "source": [
    "You can actually see from the Q-Values of black's first move that whatever black does will leave white with an almost equal positive board value. Observe that the moves add up to 5, pairwise."
   ]
  },
  {
   "cell_type": "markdown",
   "metadata": {},
   "source": [
    "### More complex games\n",
    "Now look at the below complex sure-win for black that even has a deviation for the rule of five. It takes much longer for the tree search to find a winning sequence with confidence. Be warned that 60000 runs will take some time - may be up to a minute - depending on your machine."
   ]
  },
  {
   "cell_type": "code",
   "execution_count": 17,
   "metadata": {},
   "outputs": [],
   "source": [
    "complex_b_win='..-...I-.II.-....-III....-....-IIII'"
   ]
  },
  {
   "cell_type": "code",
   "execution_count": 19,
   "metadata": {},
   "outputs": [
    {
     "name": "stdout",
     "output_type": "stream",
     "text": [
      "Counts: [2518, 6079, 31403]\n",
      "[None, 2, 2, 3, 1, 4, 4, 1, 4, 4, 2, 3] total: 30, ..-...I-.II.-....-III....-....oIIII\n",
      "[ 0.          0.1        -0.72265166  0.1         0.25      ]\n"
     ]
    }
   ],
   "source": [
    "g0 = SillyGame(complex_b_win)\n",
    "root, move = uct_search(g0, p, 40000, verbose=1, rollout_delay=20000)\n",
    "endpos = (root.best_child().best_child().best_child().best_child().best_child()\n",
    "          .best_child().best_child().best_child().best_child().best_child().best_child())\n",
    "print(endpos, endpos.game_state)\n",
    "print(root.child_Q())"
   ]
  },
  {
   "cell_type": "markdown",
   "metadata": {},
   "source": [
    "One of the reasons for the search to take so long to converge is the intermediate traps that could be avoided easily with a little foresight. But since our current policy is oblivious of the board situation, it needs a long time before the tree learns to get around the intermediate traps. So what if we're supported by a policy that applies at least a one-move foresight?"
   ]
  },
  {
   "cell_type": "code",
   "execution_count": 26,
   "metadata": {},
   "outputs": [
    {
     "name": "stdout",
     "output_type": "stream",
     "text": [
      "Counts: [2941, 7040, 10019]\n",
      "[None, 2, 3, 2, 1, 4, 2, 3, 4, 4, 3, 2] total: 30, ..-...I-.II.-....-III....-....oIIII\n",
      "[ 0.          0.2        -0.35436893  0.2         0.14285715]\n"
     ]
    }
   ],
   "source": [
    "forsight_policy = SillyPolicy(lookahead=True)\n",
    "g0 = SillyGame(complex_b_win)\n",
    "root, move = uct_search(g0, forsight_policy, 20000, verbose=1, rollout_delay=20000)\n",
    "endpos = (root.best_child().best_child().best_child().best_child().best_child()\n",
    "          .best_child().best_child().best_child().best_child().best_child().best_child())\n",
    "print(endpos, endpos.game_state)\n",
    "print(root.child_Q())"
   ]
  },
  {
   "cell_type": "markdown",
   "metadata": {},
   "source": [
    "That policy expectedly helped the search converge a bit faster. And that's exactly the clue here: MCTS with UCB can be significantly improved with the help of a reasonable policy instead of just random (Monte Carlo) move selection."
   ]
  },
  {
   "cell_type": "code",
   "execution_count": null,
   "metadata": {},
   "outputs": [],
   "source": []
  }
 ],
 "metadata": {
  "kernelspec": {
   "display_name": "Python 3",
   "language": "python",
   "name": "python3"
  },
  "language_info": {
   "codemirror_mode": {
    "name": "ipython",
    "version": 3
   },
   "file_extension": ".py",
   "mimetype": "text/x-python",
   "name": "python",
   "nbconvert_exporter": "python",
   "pygments_lexer": "ipython3",
   "version": "3.5.3"
  }
 },
 "nbformat": 4,
 "nbformat_minor": 2
}
