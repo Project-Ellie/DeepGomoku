{
 "cells": [
  {
   "cell_type": "code",
   "execution_count": 1,
   "metadata": {
    "pycharm": {
     "name": "#%%\n"
    }
   },
   "outputs": [
    {
     "name": "stdout",
     "output_type": "stream",
     "text": [
      "2.8.0\n"
     ]
    }
   ],
   "source": [
    "\n",
    "import numpy as np\n",
    "import tensorflow as tf\n",
    "print(tf.__version__)\n",
    "from wgomoku import GomokuBoard, Heuristics\n",
    "from wgomoku.GomokuData import create_sample"
   ]
  },
  {
   "cell_type": "code",
   "execution_count": 2,
   "outputs": [],
   "source": [
    "A,B,C,D,E,F,G,H,I,J,K,L,M,N,O,P,Q,R,S,T,U = \\\n",
    "    1,2,3,4,5,6,7,8,9,10,11,12,13,14,15,16,17,18,19,20,21\n",
    "BLACK=0\n",
    "WHITE=1\n",
    "EDGES=2"
   ],
   "metadata": {
    "collapsed": false,
    "pycharm": {
     "name": "#%%\n"
    }
   }
  },
  {
   "cell_type": "code",
   "execution_count": 3,
   "outputs": [
    {
     "data": {
      "text/plain": "<Figure size 288x288 with 1 Axes>",
      "image/png": "[encoded data removed]"
     },
     "metadata": {
      "needs_background": "light"
     },
     "output_type": "display_data"
    }
   ],
   "source": [
    "heuristics = Heuristics(kappa=3.0)\n",
    "board = GomokuBoard(heuristics, n=6, disp_width=4)\n",
    "board.set(B, 1).set(C, 3).set(C, 2).set(C, 4).set(D, 3).set(E, 3).set(E, 4).set(F, 2).set(F, 5).\\\n",
    "    display()"
   ],
   "metadata": {
    "collapsed": false,
    "pycharm": {
     "name": "#%%\n"
    }
   }
  },
  {
   "cell_type": "code",
   "execution_count": 4,
   "outputs": [
    {
     "data": {
      "text/plain": "[(2, 1), (3, 3), (3, 2), (3, 4), (4, 3), (5, 3), (5, 4), (6, 2), (6, 5)]"
     },
     "execution_count": 4,
     "metadata": {},
     "output_type": "execute_result"
    }
   ],
   "source": [
    "board.stones"
   ],
   "metadata": {
    "collapsed": false,
    "pycharm": {
     "name": "#%%\n"
    }
   }
  },
  {
   "cell_type": "code",
   "execution_count": 34,
   "outputs": [
    {
     "data": {
      "text/plain": "array([[[0, 0],\n        [0, 0],\n        [0, 0],\n        [0, 0],\n        [0, 0],\n        [0, 0]],\n\n       [[0, 0],\n        [0, 0],\n        [0, 0],\n        [0, 0],\n        [0, 0],\n        [0, 1]],\n\n       [[0, 0],\n        [0, 0],\n        [1, 0],\n        [0, 0],\n        [0, 1],\n        [0, 0]],\n\n       [[0, 0],\n        [0, 0],\n        [1, 0],\n        [0, 1],\n        [1, 0],\n        [0, 0]],\n\n       [[0, 0],\n        [0, 0],\n        [0, 1],\n        [0, 0],\n        [0, 0],\n        [1, 0]],\n\n       [[0, 0],\n        [0, 1],\n        [0, 0],\n        [0, 0],\n        [0, 0],\n        [0, 0]]], dtype=uint8)"
     },
     "execution_count": 34,
     "metadata": {},
     "output_type": "execute_result"
    }
   ],
   "source": [
    "np_sample = create_sample(board.stones, 6, BLACK, borders=False)\n",
    "np_sample"
   ],
   "metadata": {
    "collapsed": false,
    "pycharm": {
     "name": "#%%\n"
    }
   }
  },
  {
   "cell_type": "code",
   "execution_count": 35,
   "outputs": [
    {
     "data": {
      "text/plain": "(6, 6, 2)"
     },
     "execution_count": 35,
     "metadata": {},
     "output_type": "execute_result"
    }
   ],
   "source": [
    "np_sample.shape"
   ],
   "metadata": {
    "collapsed": false,
    "pycharm": {
     "name": "#%%\n"
    }
   }
  },
  {
   "cell_type": "code",
   "execution_count": 36,
   "outputs": [
    {
     "name": "stdout",
     "output_type": "stream",
     "text": [
      "(5, 5, 2)\n"
     ]
    },
    {
     "data": {
      "text/plain": "array([[[0., 0.],\n        [0., 0.],\n        [0., 0.],\n        [0., 0.],\n        [0., 1.]],\n\n       [[0., 0.],\n        [0., 0.],\n        [0., 0.],\n        [0., 1.],\n        [0., 0.]],\n\n       [[0., 0.],\n        [0., 0.],\n        [0., 1.],\n        [0., 0.],\n        [0., 0.]],\n\n       [[0., 0.],\n        [0., 1.],\n        [0., 0.],\n        [0., 0.],\n        [0., 0.]],\n\n       [[0., 1.],\n        [0., 0.],\n        [0., 0.],\n        [0., 0.],\n        [0., 0.]]])"
     },
     "execution_count": 36,
     "metadata": {},
     "output_type": "execute_result"
    }
   ],
   "source": [
    "empty=np.zeros([5,5], dtype=float)\n",
    "diag=np.eye(5, dtype=float)\n",
    "filters = np.array([empty, diag[::-1]])\n",
    "filters = np.rollaxis(filters, 0, 3)\n",
    "print(filters.shape)\n",
    "filters"
   ],
   "metadata": {
    "collapsed": false,
    "pycharm": {
     "name": "#%%\n"
    }
   }
  },
  {
   "cell_type": "code",
   "execution_count": 37,
   "outputs": [],
   "source": [
    "kernel_init = tf.constant_initializer(filters)\n",
    "bias_init = tf.constant_initializer(-4.)"
   ],
   "metadata": {
    "collapsed": false,
    "pycharm": {
     "name": "#%%\n"
    }
   }
  },
  {
   "cell_type": "code",
   "execution_count": 38,
   "metadata": {
    "pycharm": {
     "name": "#%%\n"
    }
   },
   "outputs": [],
   "source": [
    "model = tf.keras.Sequential([\n",
    "    tf.keras.layers.Conv2D(filters=1, kernel_size=(5, 5),\n",
    "                           kernel_initializer=kernel_init, bias_initializer=bias_init,\n",
    "                           activation=tf.nn.relu, input_shape=(6,6,2,)),\n",
    "])"
   ]
  },
  {
   "cell_type": "code",
   "execution_count": 39,
   "outputs": [],
   "source": [
    "the_sample = np.reshape(np_sample, [-1, 6, 6, 2])"
   ],
   "metadata": {
    "collapsed": false,
    "pycharm": {
     "name": "#%%\n"
    }
   }
  },
  {
   "cell_type": "code",
   "execution_count": 40,
   "outputs": [
    {
     "data": {
      "text/plain": "<tf.Tensor: shape=(1, 2, 2, 1), dtype=float32, numpy=\narray([[[[0.],\n         [0.]],\n\n        [[0.],\n         [1.]]]], dtype=float32)>"
     },
     "execution_count": 40,
     "metadata": {},
     "output_type": "execute_result"
    }
   ],
   "source": [
    "model(the_sample)"
   ],
   "metadata": {
    "collapsed": false,
    "pycharm": {
     "name": "#%%\n"
    }
   }
  }
 ],
 "metadata": {
  "kernelspec": {
   "display_name": "Python 3",
   "language": "python",
   "name": "python3"
  },
  "language_info": {
   "codemirror_mode": {
    "name": "ipython",
    "version": 3
   },
   "file_extension": ".py",
   "mimetype": "text/x-python",
   "name": "python",
   "nbconvert_exporter": "python",
   "pygments_lexer": "ipython3",
   "version": "3.5.3"
  }
 },
 "nbformat": 4,
 "nbformat_minor": 2
}