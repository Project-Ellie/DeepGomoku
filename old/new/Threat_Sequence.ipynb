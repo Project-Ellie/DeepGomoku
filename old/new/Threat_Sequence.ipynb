{
 "cells": [
  {
   "cell_type": "code",
   "execution_count": null,
   "metadata": {},
   "outputs": [],
   "source": [
    "%load_ext autoreload\n",
    "%autoreload 2\n",
    "%load_ext google.cloud.bigquery"
   ]
  },
  {
   "cell_type": "code",
   "execution_count": null,
   "metadata": {},
   "outputs": [],
   "source": [
    "from __future__ import print_function, absolute_import, division"
   ]
  },
  {
   "cell_type": "code",
   "execution_count": null,
   "metadata": {},
   "outputs": [],
   "source": [
    "import os\n",
    "import numpy as np\n",
    "import pandas as pd\n",
    "import matplotlib.pyplot as plt\n",
    "import tensorflow as tf\n",
    "from wgomoku import (\n",
    "    GomokuBoard, Heuristics, GomokuTools as gt, HeuristicGomokuPolicy, ThreatSearch)\n",
    "\n",
    "from google.cloud import bigquery\n",
    "#import google.datalab.bigquery as bq"
   ]
  },
  {
   "cell_type": "code",
   "execution_count": null,
   "metadata": {},
   "outputs": [],
   "source": [
    "A,B,C,D,E,F,G,H,I, J, K, L, M, N, O, P, Q, R, S, T, U = \\\n",
    "1,2,3,4,5,6,7,8,9,10,11,12,13,14,15,16,17,18,19,20,21\n",
    "BLACK, WHITE, EDGES = 0,1,2"
   ]
  },
  {
   "cell_type": "code",
   "execution_count": null,
   "metadata": {},
   "outputs": [],
   "source": [
    "stones = gt.string_to_stones('e10g8g5f5f6e7f7f8e8g9h10d9g10f10h8h9i9g7e9j8h11i12e11e12g11f11f12e13g13h14i10g14j9k8i8k4i7')\n",
    "\n",
    "b = GomokuBoard(heuristics=Heuristics(kappa=3), N=20, stones=stones, disp_width=8)\n",
    "b.display('current')"
   ]
  },
  {
   "cell_type": "code",
   "execution_count": null,
   "metadata": {},
   "outputs": [],
   "source": [
    "from copy import deepcopy\n",
    "board = deepcopy(b)\n",
    "(board.undo().undo().undo().undo().undo().undo().undo().undo().undo()\n",
    "# .undo().undo().undo().undo().undo().undo().undo().undo()\n",
    ")\n",
    "board.display('current')"
   ]
  },
  {
   "cell_type": "code",
   "execution_count": null,
   "metadata": {},
   "outputs": [],
   "source": [
    "moves, won = ThreatSearch(11,10).is_tseq_won(board)\n",
    "moves, won"
   ]
  },
  {
   "cell_type": "code",
   "execution_count": null,
   "metadata": {},
   "outputs": [],
   "source": [
    "threat_sequence = deepcopy(board)\n",
    "for x,y in moves:\n",
    "    threat_sequence.set(x,y)\n",
    "threat_sequence.display('current')"
   ]
  },
  {
   "cell_type": "code",
   "execution_count": null,
   "metadata": {},
   "outputs": [],
   "source": [
    "HeuristicGomokuPolicy(bias=.5, topn=5, style=1).suggest(board=threat_sequence)"
   ]
  },
  {
   "cell_type": "markdown",
   "metadata": {},
   "source": [
    "## Threats from different perspectives"
   ]
  },
  {
   "cell_type": "code",
   "execution_count": null,
   "metadata": {},
   "outputs": [],
   "source": [
    "stones = gt.string_to_stones('f6g7i7f8g8h8j10g10h9i9i10f10g11h11i11j11i12i13d10f7')\n",
    "\n",
    "b = GomokuBoard(heuristics=Heuristics(kappa=3), N=20, stones=stones, disp_width=8)\n",
    "b.display('current')"
   ]
  },
  {
   "cell_type": "code",
   "execution_count": null,
   "metadata": {},
   "outputs": [],
   "source": [
    "ts = ThreatSearch(3,3)\n",
    "moves, won = ts.is_tseq_won(b)\n",
    "moves, won"
   ]
  },
  {
   "cell_type": "markdown",
   "metadata": {},
   "source": [
    "### A threat against me"
   ]
  },
  {
   "cell_type": "code",
   "execution_count": null,
   "metadata": {},
   "outputs": [],
   "source": [
    "b.set(I, 14).display('current')\n",
    "moves = ts.is_tseq_threat(b,3)\n",
    "moves"
   ]
  },
  {
   "cell_type": "code",
   "execution_count": null,
   "metadata": {},
   "outputs": [],
   "source": []
  }
 ],
 "metadata": {
  "kernelspec": {
   "display_name": "Python 3",
   "language": "python",
   "name": "python3"
  },
  "language_info": {
   "codemirror_mode": {
    "name": "ipython",
    "version": 3
   },
   "file_extension": ".py",
   "mimetype": "text/x-python",
   "name": "python",
   "nbconvert_exporter": "python",
   "pygments_lexer": "ipython3",
   "version": "3.5.3"
  }
 },
 "nbformat": 4,
 "nbformat_minor": 2
}
