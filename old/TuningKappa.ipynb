{
 "cells": [
  {
   "cell_type": "code",
   "execution_count": 1,
   "metadata": {},
   "outputs": [],
   "source": [
    "%load_ext autoreload\n",
    "%autoreload 2"
   ]
  },
  {
   "cell_type": "code",
   "execution_count": 2,
   "metadata": {},
   "outputs": [],
   "source": [
    "from GomokuTools import GomokuTools, N_9x9\n",
    "from HeuristicScore import HeuristicScore"
   ]
  },
  {
   "cell_type": "markdown",
   "metadata": {},
   "source": [
    "## Tuning the $\\kappa$ exponents"
   ]
  },
  {
   "cell_type": "code",
   "execution_count": 21,
   "metadata": {},
   "outputs": [],
   "source": [
    "h = HeuristicScore()"
   ]
  },
  {
   "cell_type": "code",
   "execution_count": 22,
   "metadata": {},
   "outputs": [
    {
     "data": {
      "text/plain": [
       "(array([0, 0, 1, 1, 1, 0, 0]), (3, 2), 3.4460950649911055)"
      ]
     },
     "execution_count": 22,
     "metadata": {},
     "output_type": "execute_result"
    }
   ],
   "source": [
    "line = N_9x9().setline('e', [2,0,0,1, 1,1,0,0]).as_bits()[0]\n",
    "h.f_range(line, 0), h.cscore(line, 0), h.score(line) \n",
    "# expected: (array([0, 0, 1, 1, 1, 0, 0]), (3, 2), 3.4460950649911055)"
   ]
  },
  {
   "cell_type": "code",
   "execution_count": 23,
   "metadata": {},
   "outputs": [
    {
     "data": {
      "text/plain": [
       "(array([1, 1, 1, 0, 0]), (3, 1), 3.0)"
      ]
     },
     "execution_count": 23,
     "metadata": {},
     "output_type": "execute_result"
    }
   ],
   "source": [
    "line = N_9x9().setline('e', [2,0,2,1, 1,1,0,0]).as_bits()[0]\n",
    "h.f_range(line, 0), h.cscore(line, 0), h.score(line) \n",
    "# expected: (array([1, 1, 1, 0, 0]), (3, 1), 3.0)"
   ]
  },
  {
   "cell_type": "code",
   "execution_count": 24,
   "metadata": {},
   "outputs": [
    {
     "name": "stdout",
     "output_type": "stream",
     "text": [
      "[[1, 0, 1, 1, 1, 0, 0, 0], [0, 0, 0, 0, 0, 0, 0, 1]]\n"
     ]
    },
    {
     "data": {
      "text/plain": [
       "(array([1, 0, 1, 1, 1, 0, 0]), (3, 3), 3.737192818846552)"
      ]
     },
     "execution_count": 24,
     "metadata": {},
     "output_type": "execute_result"
    }
   ],
   "source": [
    "line = N_9x9().setline('e', [1,0,1,1, 1,0,0,2]).as_bits()[0]\n",
    "print(line)\n",
    "h.f_range(line, 0), h.cscore(line, 0), h.score(line) \n",
    "# expected: (array([1, 0, 1, 1, 1, 0, 0]), (3, 3), 3.737192818846552)"
   ]
  },
  {
   "cell_type": "code",
   "execution_count": 25,
   "metadata": {},
   "outputs": [
    {
     "data": {
      "text/plain": [
       "(array([0, 1, 0]), (0, 0), 0.0)"
      ]
     },
     "execution_count": 25,
     "metadata": {},
     "output_type": "execute_result"
    }
   ],
   "source": [
    "line = N_9x9().setline('e', [1,2,0,1, 0,2,1,2]).as_bits()[0]\n",
    "h.f_range(line, 0), h.cscore(line, 0), h.score(line)\n",
    "# expected: (array([0, 1, 0]), (0, 0), 0.0)"
   ]
  },
  {
   "cell_type": "markdown",
   "metadata": {},
   "source": [
    "---\n",
    "#### Complete score of a N9x9 neighbourhood"
   ]
  },
  {
   "cell_type": "code",
   "execution_count": 32,
   "metadata": {},
   "outputs": [
    {
     "name": "stdout",
     "output_type": "stream",
     "text": [
      "|o       o       o|\n",
      "|              o  |\n",
      "|    x            |\n",
      "|        x o      |\n",
      "|x o   o *   o x o|\n",
      "|      x x x      |\n",
      "|    o       x    |\n",
      "|  o           o  |\n",
      "|x               x| 3.488820283075445\n",
      "\n",
      "|o       o       o|\n",
      "|              o  |\n",
      "|    x            |\n",
      "|        x o      |\n",
      "|x o   o *   o x o|\n",
      "|      x x x      |\n",
      "|    o   o   x    |\n",
      "|  o           o  |\n",
      "|x               x| 3.2710663101885897\n"
     ]
    }
   ],
   "source": [
    "h = HeuristicScore()\n",
    "n1 = (N_9x9()\n",
    " .setline('e',  [1,2,0,2, 0,2,1,2])\n",
    " .setline('ne', [1,2,2,1, 2,0,2,2])\n",
    " .setline('n',  [0,0,0,1, 1,0,0,2])\n",
    " .setline('nw', [1,2,1,1, 0,1,0,2]))\n",
    "n2 = (N_9x9()\n",
    " .setline('e',  [1,2,0,2, 0,2,1,2])\n",
    " .setline('ne', [1,2,2,1, 2,0,2,2])\n",
    " .setline('n',  [0,0,2,1, 1,0,0,2])\n",
    " .setline('nw', [1,2,1,1, 0,1,0,2]))\n",
    "print(n1, h.total_score(n1.as_bits()))\n",
    "print()\n",
    "print(n2, h.total_score(n2.as_bits()))"
   ]
  },
  {
   "cell_type": "code",
   "execution_count": 33,
   "metadata": {},
   "outputs": [
    {
     "name": "stdout",
     "output_type": "stream",
     "text": [
      "|o       o       o|\n",
      "|              o  |\n",
      "|    x            |\n",
      "|        x o      |\n",
      "|x o   o *   o x o|\n",
      "|      x x x      |\n",
      "|    o            |\n",
      "|  o              |\n",
      "|x                | 3.02173799100683\n",
      "\n",
      "|o       o       o|\n",
      "|              o  |\n",
      "|    x            |\n",
      "|        x o      |\n",
      "|x o   o *   o x o|\n",
      "|      x x x      |\n",
      "|    o   o        |\n",
      "|  o              |\n",
      "|x                | 2.7200939149055237\n"
     ]
    }
   ],
   "source": [
    "h = HeuristicScore()\n",
    "n1 = (N_9x9()\n",
    " .setline('e',  [1,2,0,2, 0,2,1,2])\n",
    " .setline('ne', [1,2,2,1, 2,0,2,2])\n",
    " .setline('n',  [0,0,0,1, 1,0,0,2])\n",
    " .setline('nw', [0,0,0,1, 0,1,0,2]))\n",
    "n2 = (N_9x9()\n",
    " .setline('e',  [1,2,0,2, 0,2,1,2])\n",
    " .setline('ne', [1,2,2,1, 2,0,2,2])\n",
    " .setline('n',  [0,0,2,1, 1,0,0,2])\n",
    " .setline('nw', [0,0,0,1, 0,1,0,2]))\n",
    "print(n1, h.total_score(n1.as_bits()))\n",
    "print()\n",
    "print(n2, h.total_score(n2.as_bits()))\n"
   ]
  },
  {
   "cell_type": "code",
   "execution_count": 34,
   "metadata": {},
   "outputs": [
    {
     "name": "stdout",
     "output_type": "stream",
     "text": [
      "|o       o       o|\n",
      "|              o  |\n",
      "|    x            |\n",
      "|        x o      |\n",
      "|x o   o *   o x o|\n",
      "|      x x x      |\n",
      "|    o   o   x    |\n",
      "|  o           o  |\n",
      "|x               x| [0.0, 0.0, 2.0, 3.0] 3.2710663101885897\n"
     ]
    }
   ],
   "source": [
    "n2 = (N_9x9()\n",
    " .setline('e',  [1,2,0,2, 0,2,1,2])\n",
    " .setline('ne', [1,2,2,1, 2,0,2,2])\n",
    " .setline('n',  [0,0,2,1, 1,0,0,2])\n",
    " .setline('nw', [1,2,1,1, 0,1,0,2]))\n",
    "print(n2, h.scores(n2.as_bits(), c=0), h.total_score(n2.as_bits(), c=0))"
   ]
  },
  {
   "cell_type": "code",
   "execution_count": null,
   "metadata": {},
   "outputs": [],
   "source": []
  }
 ],
 "metadata": {
  "kernelspec": {
   "display_name": "Python 3",
   "language": "python",
   "name": "python3"
  },
  "language_info": {
   "codemirror_mode": {
    "name": "ipython",
    "version": 3
   },
   "file_extension": ".py",
   "mimetype": "text/x-python",
   "name": "python",
   "nbconvert_exporter": "python",
   "pygments_lexer": "ipython3",
   "version": "3.6.4"
  }
 },
 "nbformat": 4,
 "nbformat_minor": 2
}
