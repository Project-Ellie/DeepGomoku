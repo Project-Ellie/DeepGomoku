{
 "cells": [
  {
   "cell_type": "code",
   "execution_count": 1,
   "metadata": {},
   "outputs": [],
   "source": [
    "%load_ext autoreload\n",
    "%autoreload 2"
   ]
  },
  {
   "cell_type": "code",
   "execution_count": 24,
   "metadata": {},
   "outputs": [],
   "source": [
    "from GomokuTools import GomokuTools as tools, N_9x9\n",
    "from HeuristicScore import HeuristicScore\n",
    "hs = HeuristicScore()"
   ]
  },
  {
   "cell_type": "code",
   "execution_count": 29,
   "metadata": {},
   "outputs": [
    {
     "data": {
      "text/plain": [
       "|                o|\n",
       "|              x  |\n",
       "|                 |\n",
       "|                 |\n",
       "|        * x      |\n",
       "|      x          |\n",
       "|    x            |\n",
       "|  x              |\n",
       "|o                |"
      ]
     },
     "execution_count": 29,
     "metadata": {},
     "output_type": "execute_result"
    }
   ],
   "source": [
    "nh = N_9x9()\n",
    "nh.setline('ne', [2,1,1,1,0,0,1,2])\n",
    "nh.setline('e', [0,0,0,0,1,0,0,0])"
   ]
  },
  {
   "cell_type": "code",
   "execution_count": 32,
   "metadata": {},
   "outputs": [
    {
     "data": {
      "text/plain": [
       "[[0, 1, 1, 1, 0, 0, 1, 0], [1, 0, 0, 0, 0, 0, 0, 1]]"
      ]
     },
     "execution_count": 32,
     "metadata": {},
     "output_type": "execute_result"
    }
   ],
   "source": [
    "line = {h: nh.bits_in_line(h) for h in ['e', 'ne', 'n', 'nw']}\n",
    "line['ne']"
   ]
  },
  {
   "cell_type": "code",
   "execution_count": 33,
   "metadata": {},
   "outputs": [
    {
     "data": {
      "text/plain": [
       "array([1, 1, 1, 0, 0, 1])"
      ]
     },
     "execution_count": 33,
     "metadata": {},
     "output_type": "execute_result"
    }
   ],
   "source": [
    "fr = tools.f_range(0, line['ne'])\n",
    "fr"
   ]
  },
  {
   "cell_type": "code",
   "execution_count": 34,
   "metadata": {},
   "outputs": [
    {
     "data": {
      "text/plain": [
       "(1, 2)"
      ]
     },
     "execution_count": 34,
     "metadata": {},
     "output_type": "execute_result"
    }
   ],
   "source": [
    "hs.cscore(line['e'])"
   ]
  },
  {
   "cell_type": "code",
   "execution_count": 36,
   "metadata": {},
   "outputs": [],
   "source": [
    "c2t={\n",
    "    (1,1): 1\n",
    "}"
   ]
  },
  {
   "cell_type": "code",
   "execution_count": 97,
   "metadata": {},
   "outputs": [
    {
     "data": {
      "text/plain": [
       "\u001b[0;31mDocstring:\u001b[0m\n",
       "int.to_bytes(length, byteorder, *, signed=False) -> bytes\n",
       "\n",
       "Return an array of bytes representing an integer.\n",
       "\n",
       "The integer is represented using length bytes.  An OverflowError is\n",
       "raised if the integer is not representable with the given number of\n",
       "bytes.\n",
       "\n",
       "The byteorder argument determines the byte order used to represent the\n",
       "integer.  If byteorder is 'big', the most significant byte is at the\n",
       "beginning of the byte array.  If byteorder is 'little', the most\n",
       "significant byte is at the end of the byte array.  To request the native\n",
       "byte order of the host system, use `sys.byteorder' as the byte order value.\n",
       "\n",
       "The signed keyword-only argument determines whether two's complement is\n",
       "used to represent the integer.  If signed is False and a negative integer\n",
       "is given, an OverflowError is raised.\n",
       "\u001b[0;31mType:\u001b[0m      method_descriptor\n"
      ]
     },
     "metadata": {},
     "output_type": "display_data"
    }
   ],
   "source": [
    "int.to_bytes?"
   ]
  },
  {
   "cell_type": "code",
   "execution_count": 107,
   "metadata": {},
   "outputs": [],
   "source": [
    "x=3589734543\n",
    "ba = bytearray((3589734543).to_bytes(8, 'big'))"
   ]
  },
  {
   "cell_type": "code",
   "execution_count": 105,
   "metadata": {},
   "outputs": [
    {
     "data": {
      "text/plain": [
       "(bytearray(b'\\x00\\x00\\x00\\x00\\xd5\\xf7\\x00\\x8f'), 143)"
      ]
     },
     "execution_count": 105,
     "metadata": {},
     "output_type": "execute_result"
    }
   ],
   "source": [
    "ba, ba[7]"
   ]
  },
  {
   "cell_type": "code",
   "execution_count": 37,
   "metadata": {},
   "outputs": [
    {
     "data": {
      "text/plain": [
       "1"
      ]
     },
     "execution_count": 37,
     "metadata": {},
     "output_type": "execute_result"
    }
   ],
   "source": [
    "c2t[(1,1)]"
   ]
  },
  {
   "cell_type": "code",
   "execution_count": 46,
   "metadata": {},
   "outputs": [],
   "source": [
    "c2t={\n",
    "    (1,1): 1,\n",
    "    (1,2): 2,\n",
    "    (2,1): 3,\n",
    "    (2,2): 4,\n",
    "    (3,1): 5,\n",
    "    (3,2): 6,\n",
    "    (4,1): 8,\n",
    "    (4,2): 9\n",
    "}\n",
    "def classify_line12(line12):\n",
    "    line = N_9x9().setline('e', line12).bits_in_line('e')\n",
    "    cscore = HeuristicScore().cscore(line)\n",
    "    if (cscore[0] == 0):\n",
    "        return 0\n",
    "    return c2t[cscore]\n",
    "\n",
    "def classify_line(line):\n",
    "    cscore = HeuristicScore().cscore(line)\n",
    "    if (cscore[0] == 0):\n",
    "        return 0\n",
    "    return c2t[cscore]"
   ]
  },
  {
   "cell_type": "code",
   "execution_count": 48,
   "metadata": {},
   "outputs": [
    {
     "data": {
      "text/plain": [
       "4"
      ]
     },
     "execution_count": 48,
     "metadata": {},
     "output_type": "execute_result"
    }
   ],
   "source": [
    "classify_line12([0,0,0,1,1,0,0,0])"
   ]
  },
  {
   "cell_type": "code",
   "execution_count": 91,
   "metadata": {},
   "outputs": [],
   "source": [
    "def criticality(h, l):\n",
    "    if h == 9: \n",
    "        return ('lost', 1)\n",
    "    elif h == 8:\n",
    "        return ('move or lose in 1', 2)\n",
    "    elif h == 7: \n",
    "        return ('move or lose in 2', 3)\n",
    "    elif (h, l) in [(5,5), (5,4), (6,5), (6,4), (6,6)]:\n",
    "        return ('move or lose in 2', 4)\n",
    "    elif (h, l) == (4,4):\n",
    "        return ('move or lose in 3', 5)\n",
    "    else:\n",
    "        return ('defendable', 6)\n",
    "    "
   ]
  },
  {
   "cell_type": "code",
   "execution_count": 94,
   "metadata": {},
   "outputs": [],
   "source": [
    "def classify_nh(nh):\n",
    "    classes=[classify_line(nh.bits_in_line(h)) for h in ['e', 'ne', 'n', 'nw']]\n",
    "    l, h = sorted(classes)[-2:]\n",
    "    c = criticality(h, l)\n",
    "    return h, l, c[1]\n",
    "    "
   ]
  },
  {
   "cell_type": "code",
   "execution_count": 95,
   "metadata": {},
   "outputs": [
    {
     "data": {
      "text/plain": [
       "(5, 2, 6)"
      ]
     },
     "execution_count": 95,
     "metadata": {},
     "output_type": "execute_result"
    }
   ],
   "source": [
    "classes = classify_nh(nh)\n",
    "classes"
   ]
  },
  {
   "cell_type": "code",
   "execution_count": 51,
   "metadata": {},
   "outputs": [
    {
     "data": {
      "text/plain": [
       "|                o|\n",
       "|              x  |\n",
       "|                 |\n",
       "|                 |\n",
       "|        * x      |\n",
       "|      x          |\n",
       "|    x            |\n",
       "|  x              |\n",
       "|o                |"
      ]
     },
     "execution_count": 51,
     "metadata": {},
     "output_type": "execute_result"
    }
   ],
   "source": [
    "nh"
   ]
  },
  {
   "cell_type": "code",
   "execution_count": 90,
   "metadata": {},
   "outputs": [
    {
     "data": {
      "text/plain": [
       "['a']"
      ]
     },
     "execution_count": 90,
     "metadata": {},
     "output_type": "execute_result"
    }
   ],
   "source": [
    "list({'a': 1})"
   ]
  },
  {
   "cell_type": "code",
   "execution_count": 54,
   "metadata": {},
   "outputs": [
    {
     "data": {
      "text/plain": [
       "[2, 5, 0, 0]"
      ]
     },
     "execution_count": 54,
     "metadata": {},
     "output_type": "execute_result"
    }
   ],
   "source": [
    "classes"
   ]
  },
  {
   "cell_type": "code",
   "execution_count": 86,
   "metadata": {},
   "outputs": [
    {
     "data": {
      "text/plain": [
       "[[[0, 0, 0, 0, 1, 0, 0, 0], [0, 0, 0, 0, 0, 0, 0, 0]],\n",
       " [[0, 1, 1, 1, 0, 0, 1, 0], [1, 0, 0, 0, 0, 0, 0, 1]],\n",
       " [[0, 0, 0, 0, 0, 0, 0, 0], [0, 0, 0, 0, 0, 0, 0, 0]],\n",
       " [[0, 0, 0, 0, 0, 0, 0, 0], [0, 0, 0, 0, 0, 0, 0, 0]]]"
      ]
     },
     "execution_count": 86,
     "metadata": {},
     "output_type": "execute_result"
    }
   ],
   "source": []
  },
  {
   "cell_type": "code",
   "execution_count": null,
   "metadata": {},
   "outputs": [],
   "source": []
  }
 ],
 "metadata": {
  "kernelspec": {
   "display_name": "Python 3",
   "language": "python",
   "name": "python3"
  },
  "language_info": {
   "codemirror_mode": {
    "name": "ipython",
    "version": 2
   },
   "file_extension": ".py",
   "mimetype": "text/x-python",
   "name": "python",
   "nbconvert_exporter": "python",
   "pygments_lexer": "ipython2",
   "version": "2.7.10"
  }
 },
 "nbformat": 4,
 "nbformat_minor": 2
}
