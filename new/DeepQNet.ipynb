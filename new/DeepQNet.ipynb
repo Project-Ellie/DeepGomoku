{
 "cells": [
  {
   "cell_type": "code",
   "execution_count": 1,
   "metadata": {
    "pycharm": {
     "name": "#%%\n"
    }
   },
   "outputs": [],
   "source": [
    "import random\n",
    "import numpy as np\n",
    "import tensorflow as tf"
   ]
  },
  {
   "cell_type": "code",
   "execution_count": 3,
   "metadata": {
    "pycharm": {
     "name": "#%%\n"
    }
   },
   "outputs": [
    {
     "data": {
      "text/plain": "[]"
     },
     "execution_count": 3,
     "metadata": {},
     "output_type": "execute_result"
    }
   ],
   "source": [
    "tf.config.list_physical_devices('GPU')"
   ]
  },
  {
   "cell_type": "code",
   "execution_count": 4,
   "metadata": {
    "pycharm": {
     "name": "#%%\n"
    }
   },
   "outputs": [],
   "source": [
    "batch = np.load(\"samples.npy\")\n",
    "labels = np.load(\"values.npy\")\n",
    "\n",
    "batch_t = np.load(\"samples.npy\")\n",
    "labels_t = np.load(\"values.npy\")"
   ]
  },
  {
   "cell_type": "code",
   "execution_count": 5,
   "metadata": {
    "pycharm": {
     "name": "#%%\n"
    }
   },
   "outputs": [
    {
     "data": {
      "text/plain": "(112, 17, 17, 2)"
     },
     "execution_count": 5,
     "metadata": {},
     "output_type": "execute_result"
    }
   ],
   "source": [
    "batch.shape"
   ]
  },
  {
   "cell_type": "code",
   "execution_count": 6,
   "metadata": {
    "pycharm": {
     "name": "#%%\n"
    }
   },
   "outputs": [],
   "source": [
    "bsize=15\n",
    "bsize2=17 # The size with the defensive border"
   ]
  },
  {
   "cell_type": "code",
   "execution_count": null,
   "outputs": [],
   "source": [],
   "metadata": {
    "collapsed": false,
    "pycharm": {
     "name": "#%%\n"
    }
   }
  },
  {
   "cell_type": "code",
   "execution_count": 7,
   "metadata": {
    "pycharm": {
     "name": "#%%\n"
    }
   },
   "outputs": [
    {
     "ename": "AttributeError",
     "evalue": "module 'tensorflow' has no attribute 'placeholder'",
     "output_type": "error",
     "traceback": [
      "\u001B[0;31m---------------------------------------------------------------------------\u001B[0m",
      "\u001B[0;31mAttributeError\u001B[0m                            Traceback (most recent call last)",
      "Input \u001B[0;32mIn [7]\u001B[0m, in \u001B[0;36m<cell line: 1>\u001B[0;34m()\u001B[0m\n\u001B[0;32m----> 1\u001B[0m _inputs \u001B[38;5;241m=\u001B[39m \u001B[43mtf\u001B[49m\u001B[38;5;241;43m.\u001B[39;49m\u001B[43mplaceholder\u001B[49m(tf\u001B[38;5;241m.\u001B[39mfloat32, [\u001B[38;5;28;01mNone\u001B[39;00m, bsize2, bsize2, \u001B[38;5;241m2\u001B[39m])\n\u001B[1;32m      2\u001B[0m _labels \u001B[38;5;241m=\u001B[39m tf\u001B[38;5;241m.\u001B[39mplaceholder(tf\u001B[38;5;241m.\u001B[39mfloat32, [\u001B[38;5;28;01mNone\u001B[39;00m, bsize2, bsize2, \u001B[38;5;241m1\u001B[39m])\n",
      "\u001B[0;31mAttributeError\u001B[0m: module 'tensorflow' has no attribute 'placeholder'"
     ]
    }
   ],
   "source": [
    "_inputs = tf.placeholder(tf.float32, [None, bsize2, bsize2, 2])\n",
    "_labels = tf.placeholder(tf.float32, [None, bsize2, bsize2, 1])"
   ]
  },
  {
   "cell_type": "code",
   "execution_count": null,
   "metadata": {
    "pycharm": {
     "name": "#%%\n"
    }
   },
   "outputs": [],
   "source": [
    "conv1 = tf.layers.conv2d(inputs=_inputs, filters=128, kernel_size=[9,9], \n",
    "                         strides=[1,1], padding='SAME', activation=tf.nn.elu)\n",
    "conv2 = tf.layers.conv2d(inputs=conv1, filters=64, kernel_size=[9,9], \n",
    "                         strides=[1,1], padding='SAME', activation=tf.nn.elu)\n",
    "conv3 = tf.layers.conv2d(inputs=conv2, filters=32, kernel_size=[9,9], \n",
    "                         strides=[1,1], padding='SAME', activation=tf.nn.elu)\n",
    "conv4 = tf.layers.conv2d(inputs=conv3, filters=1, kernel_size=[9,9], \n",
    "                         strides=[1,1], padding='SAME')\n",
    "\n",
    "loss = tf.losses.mean_squared_error(_labels,conv4)\n",
    "optimizer = tf.train.AdamOptimizer(learning_rate=1e-3).minimize(loss)"
   ]
  },
  {
   "cell_type": "markdown",
   "metadata": {
    "pycharm": {
     "name": "#%% md\n"
    }
   },
   "source": [
    "### Training\n",
    "We train the network and compute training loss and test loss once in a while"
   ]
  },
  {
   "cell_type": "code",
   "execution_count": null,
   "metadata": {
    "pycharm": {
     "name": "#%%\n"
    }
   },
   "outputs": [],
   "source": [
    "with tf.Session() as session:\n",
    "    session.run(tf.global_variables_initializer())\n",
    "    for i in range(50001):\n",
    "        _ = session.run(optimizer, feed_dict={_inputs: batch, _labels: labels})\n",
    "        if i % 500 == 0:\n",
    "            l = session.run(loss, feed_dict={_inputs: batch, _labels: labels})\n",
    "            l_t = session.run(loss, feed_dict={_inputs: batch_t, _labels: labels_t})\n",
    "            print(l, l_t)"
   ]
  },
  {
   "cell_type": "markdown",
   "metadata": {
    "pycharm": {
     "name": "#%% md\n"
    }
   },
   "source": [
    "From the smooth convergence also on the test set we can see that the network has indeed learned our label function."
   ]
  },
  {
   "cell_type": "code",
   "execution_count": null,
   "metadata": {
    "pycharm": {
     "name": "#%%\n"
    }
   },
   "outputs": [],
   "source": []
  }
 ],
 "metadata": {
  "kernelspec": {
   "display_name": "Python 3",
   "language": "python",
   "name": "python3"
  },
  "language_info": {
   "codemirror_mode": {
    "name": "ipython",
    "version": 3
   },
   "file_extension": ".py",
   "mimetype": "text/x-python",
   "name": "python",
   "nbconvert_exporter": "python",
   "pygments_lexer": "ipython3",
   "version": "3.5.3"
  }
 },
 "nbformat": 4,
 "nbformat_minor": 2
}