{
 "cells": [
  {
   "cell_type": "markdown",
   "metadata": {},
   "source": [
    "# Deep Gomoku\n",
    "### Surprise learnings from a toy problem"
   ]
  },
  {
   "cell_type": "markdown",
   "metadata": {},
   "source": [
    "### Representing state for Gomoku\n",
    "#### Black and White and Boarders\n",
    "- How to represent the board state to the neural network?\n",
    "- Want to leverage symmetries - borders need to be represented\n",
    "- The black-white problem: A single stone anywhere changes everything because it's now the other party to move\n",
    "- Solution: two channels: \n",
    "    - first layer: the color to move next (the offensive layer)\n",
    "    - second layer: the color to move thereafter (the defensive layer)\n",
    "    - augment the defensive layer with stones at positions (-1, N+1)\n",
    "- Advantage: A single network learns from both sides\n",
    "- Show TournamentData.ipynb"
   ]
  },
  {
   "cell_type": "markdown",
   "metadata": {},
   "source": [
    "### Using Cloud Resources\n",
    "It turned out to be helpful to use cloud resources right from the beginning:\n",
    "- Kovalevskyi\n",
    "- All there from the beginning, all access rights set up perfectly.\n",
    "- BigQuery: Exploration on the games from tournaments\n",
    "- Beam Pipelines for creating training data from the recorded games - resiliant, scalable\n",
    "- ML Engine\n",
    "- gs:// Data Storage accessible from anywhere"
   ]
  },
  {
   "cell_type": "markdown",
   "metadata": {},
   "source": [
    "### Heuristics\n",
    "Reference to Imitation Learning (papers!)"
   ]
  },
  {
   "cell_type": "markdown",
   "metadata": {},
   "source": [
    "### Thinking Fast and Slow\n",
    "Finally: The advent of reasoning in ML (paper!)\n",
    "- MCTS (or better: informed tree search) representing the 'slow' reasoning\n",
    "plus a policy based on a neural network representing the 'fast' intuition\n",
    "\n",
    "Now ask yourself - isn't that more or less the way we think?"
   ]
  },
  {
   "cell_type": "markdown",
   "metadata": {},
   "source": [
    "### Outlook\n",
    "Imagine a chat bot based on MCTS and a policy network. It could actually manage to learn negotiation tactics. How close are we to getting there?\n",
    "\n",
    "Portfolio management? Selling large positions in a portfolio has adversarial effects - that could be a candidate to devise a large-position buy or sell strategy\n",
    "\n",
    "Poker?"
   ]
  },
  {
   "cell_type": "code",
   "execution_count": null,
   "metadata": {},
   "outputs": [],
   "source": []
  }
 ],
 "metadata": {
  "kernelspec": {
   "display_name": "Python 3",
   "language": "python",
   "name": "python3"
  },
  "language_info": {
   "codemirror_mode": {
    "name": "ipython",
    "version": 3
   },
   "file_extension": ".py",
   "mimetype": "text/x-python",
   "name": "python",
   "nbconvert_exporter": "python",
   "pygments_lexer": "ipython3",
   "version": "3.5.3"
  }
 },
 "nbformat": 4,
 "nbformat_minor": 2
}
