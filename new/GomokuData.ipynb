{
 "cells": [
  {
   "cell_type": "code",
   "execution_count": null,
   "metadata": {},
   "outputs": [],
   "source": [
    "%load_ext autoreload\n",
    "%autoreload 2"
   ]
  },
  {
   "cell_type": "code",
   "execution_count": null,
   "metadata": {},
   "outputs": [],
   "source": [
    "from __future__ import print_function, absolute_import, division"
   ]
  },
  {
   "cell_type": "code",
   "execution_count": null,
   "metadata": {},
   "outputs": [],
   "source": [
    "import numpy as np\n",
    "from wgomoku import GomokuBoard, GomokuTools as gt, roll_out, NH9x9, Heuristics, HeuristicGomokuPolicy, ThreatSearch\n",
    "import random\n",
    "import tensorflow as tf"
   ]
  },
  {
   "cell_type": "code",
   "execution_count": null,
   "metadata": {},
   "outputs": [],
   "source": [
    "tf.__version__"
   ]
  },
  {
   "cell_type": "code",
   "execution_count": null,
   "metadata": {},
   "outputs": [],
   "source": [
    "A,B,C,D,E,F,G,H,I,J,K,L,M,N,O,P,Q,R,S,T,U = \\\n",
    "    1,2,3,4,5,6,7,8,9,10,11,12,13,14,15,16,17,18,19,20,21\n",
    "BLACK=0\n",
    "WHITE=1\n",
    "EDGES=2\n",
    "STYLE_MIXED=2"
   ]
  },
  {
   "cell_type": "code",
   "execution_count": null,
   "metadata": {},
   "outputs": [],
   "source": [
    "heuristics = Heuristics(kappa=3.0)"
   ]
  },
  {
   "cell_type": "markdown",
   "metadata": {},
   "source": [
    "### Experimenting with smaller action spaces\n",
    "Here we look at the board (states) that all evolve from an initial board. We're going to train on all board snapshots of a series of heuristically played games."
   ]
  },
  {
   "cell_type": "code",
   "execution_count": null,
   "metadata": {},
   "outputs": [],
   "source": [
    "def new_initial_state(heuristics):\n",
    "    board = GomokuBoard(heuristics, N=15, disp_width=8)\n",
    "    policy = HeuristicGomokuPolicy(style = 2, bias=.5, topn=5, \n",
    "                                   threat_search=ThreatSearch(2,2))\n",
    "\n",
    "    board.set(H,8).set('G',6).set(G,8).set(F,8).set(H,9).set(H,10)    \n",
    "    return board, policy"
   ]
  },
  {
   "cell_type": "code",
   "execution_count": null,
   "metadata": {},
   "outputs": [],
   "source": [
    "new_initial_state(heuristics)[0].display('current')"
   ]
  },
  {
   "cell_type": "code",
   "execution_count": null,
   "metadata": {},
   "outputs": [],
   "source": [
    "board, policy = new_initial_state(heuristics)\n",
    "_ = roll_out(board, policy, 40)\n",
    "board.display('current')"
   ]
  },
  {
   "cell_type": "code",
   "execution_count": null,
   "metadata": {},
   "outputs": [],
   "source": [
    "stones = board.stones.copy()"
   ]
  },
  {
   "cell_type": "code",
   "execution_count": null,
   "metadata": {},
   "outputs": [],
   "source": [
    "from wgomoku import heuristic_QF, transform, create_sample, wrap_sample"
   ]
  },
  {
   "cell_type": "code",
   "execution_count": null,
   "metadata": {},
   "outputs": [],
   "source": [
    "sample = create_sample(board.stones.copy(), board.N, 1-board.current_color)"
   ]
  },
  {
   "cell_type": "code",
   "execution_count": null,
   "metadata": {},
   "outputs": [],
   "source": [
    "o,d = np.rollaxis(sample, 2, 0)\n",
    "2 * d + o"
   ]
  },
  {
   "cell_type": "code",
   "execution_count": null,
   "metadata": {},
   "outputs": [],
   "source": [
    "def create_samples_and_qvalues(board, heuristics):\n",
    "    all_stones_t = [transform(board.stones.copy(), board.N, rot, ref) \n",
    "                    for rot in range(4)\n",
    "                    for ref in [False, True]]\n",
    "\n",
    "    samples = []\n",
    "    qvalues = []\n",
    "    for stones_t in all_stones_t:\n",
    "        sample = create_sample(stones_t, board.N, 1-board.current_color)\n",
    "        board = GomokuBoard(heuristics=heuristics, N=board.N, stones=stones_t)\n",
    "        policy = HeuristicGomokuPolicy(style = STYLE_MIXED, bias=.5, topn=5, \n",
    "                                       threat_search=ThreatSearch(2,2))\n",
    "\n",
    "        qvalue, default_value = heuristic_QF(board, policy)\n",
    "        qvalue = wrap_sample(qvalue, default_value)\n",
    "        samples.append(sample)\n",
    "        qvalues.append(qvalue)\n",
    "\n",
    "    return np.array(samples), np.reshape(qvalues, [8, board.N+2, board.N+2, 1])"
   ]
  },
  {
   "cell_type": "code",
   "execution_count": null,
   "metadata": {},
   "outputs": [],
   "source": [
    "samples, values = create_samples_and_qvalues(board, heuristics)"
   ]
  },
  {
   "cell_type": "code",
   "execution_count": null,
   "metadata": {},
   "outputs": [],
   "source": [
    "np.shape(samples),np.shape(values)"
   ]
  },
  {
   "cell_type": "code",
   "execution_count": null,
   "metadata": {},
   "outputs": [],
   "source": [
    "b, w = np.rollaxis(samples[3], 2, 0)\n",
    "b + 2*w"
   ]
  },
  {
   "cell_type": "markdown",
   "metadata": {},
   "source": [
    "### Plausibility check"
   ]
  },
  {
   "cell_type": "code",
   "execution_count": null,
   "metadata": {},
   "outputs": [],
   "source": [
    "index = np.argmax(values[3])\n",
    "r, c = np.divmod(index,17)\n",
    "pos=gt.m2b((r, c), 17)\n",
    "print(r,c,pos, values[3][r][c])"
   ]
  },
  {
   "cell_type": "code",
   "execution_count": null,
   "metadata": {},
   "outputs": [],
   "source": [
    "from wgomoku import create_samples_and_qvalues"
   ]
  },
  {
   "cell_type": "code",
   "execution_count": null,
   "metadata": {},
   "outputs": [],
   "source": [
    "def data_from_game(board, policy, heuristics):    \n",
    "    \"\"\"\n",
    "    Careful: This function rolls back the board\n",
    "    \"\"\"\n",
    "    s,v = create_samples_and_qvalues(board, heuristics)\n",
    "    while board.cursor > 6:\n",
    "        board.undo()\n",
    "        s1, v1 = create_samples_and_qvalues(board, heuristics)\n",
    "        s = np.concatenate((s,s1))\n",
    "        v = np.concatenate((v,v1))\n",
    "    return s,v"
   ]
  },
  {
   "cell_type": "code",
   "execution_count": null,
   "metadata": {},
   "outputs": [],
   "source": [
    "from wgomoku import data_from_game"
   ]
  },
  {
   "cell_type": "code",
   "execution_count": null,
   "metadata": {},
   "outputs": [],
   "source": [
    "data = data_from_game(board, policy, heuristics)"
   ]
  },
  {
   "cell_type": "code",
   "execution_count": null,
   "metadata": {},
   "outputs": [],
   "source": [
    "o,d = np.rollaxis(data[0][30], 2, 0)\n",
    "2 * d + o"
   ]
  },
  {
   "cell_type": "markdown",
   "metadata": {},
   "source": [
    "#### Yet another plausibility check"
   ]
  },
  {
   "cell_type": "code",
   "execution_count": null,
   "metadata": {},
   "outputs": [],
   "source": [
    "sample_no = 30\n",
    "index = np.argmax(data[1][sample_no])\n",
    "r, c = np.divmod(index,17)\n",
    "pos=gt.m2b((r, c), 17)\n",
    "print(r,c,pos)\n",
    "print(\"Value of the suggested pos:\") \n",
    "print(data[1][sample_no][r][c])\n",
    "print(\"Value to the right of the suggested pos:\") \n",
    "print(data[1][sample_no][r][c+1])"
   ]
  },
  {
   "cell_type": "markdown",
   "metadata": {},
   "source": [
    "## Save the results for later training"
   ]
  },
  {
   "cell_type": "code",
   "execution_count": null,
   "metadata": {},
   "outputs": [],
   "source": [
    "np.save(\"samples.npy\", data[0])\n",
    "np.save(\"values.npy\", data[1])"
   ]
  },
  {
   "cell_type": "code",
   "execution_count": null,
   "metadata": {},
   "outputs": [],
   "source": [
    "samples = np.load(\"samples.npy\")\n",
    "values = np.load(\"values.npy\")"
   ]
  },
  {
   "cell_type": "code",
   "execution_count": null,
   "metadata": {},
   "outputs": [],
   "source": [
    "samples.shape, values.shape"
   ]
  },
  {
   "cell_type": "code",
   "execution_count": null,
   "metadata": {},
   "outputs": [],
   "source": [
    "np.rollaxis(samples[0], 2, 0)"
   ]
  },
  {
   "cell_type": "code",
   "execution_count": null,
   "metadata": {},
   "outputs": [],
   "source": [
    "np.rollaxis(values[0], 2, 0)"
   ]
  },
  {
   "cell_type": "code",
   "execution_count": null,
   "metadata": {},
   "outputs": [],
   "source": [
    "np.rollaxis(samples[0], 2, 0)[0] + 2*np.rollaxis(samples[0], 2, 0)[1]"
   ]
  },
  {
   "cell_type": "code",
   "execution_count": null,
   "metadata": {},
   "outputs": [],
   "source": []
  }
 ],
 "metadata": {
  "kernelspec": {
   "display_name": "Python 3",
   "language": "python",
   "name": "python3"
  },
  "language_info": {
   "codemirror_mode": {
    "name": "ipython",
    "version": 3
   },
   "file_extension": ".py",
   "mimetype": "text/x-python",
   "name": "python",
   "nbconvert_exporter": "python",
   "pygments_lexer": "ipython3",
   "version": "3.5.3"
  }
 },
 "nbformat": 4,
 "nbformat_minor": 2
}
