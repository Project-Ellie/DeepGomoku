{
 "cells": [
  {
   "cell_type": "markdown",
   "source": [
    "# Train the contender on self-play episodes of the champion"
   ],
   "metadata": {
    "collapsed": false,
    "pycharm": {
     "name": "#%% md\n"
    }
   }
  },
  {
   "cell_type": "code",
   "execution_count": 1,
   "outputs": [],
   "source": [
    "%load_ext autoreload\n",
    "%autoreload 2"
   ],
   "metadata": {
    "collapsed": false,
    "pycharm": {
     "name": "#%%\n"
    }
   }
  },
  {
   "cell_type": "code",
   "execution_count": 3,
   "outputs": [],
   "source": [
    "from alphazero.mcts import MCTS\n",
    "from alphazero.coach import Coach\n",
    "from alphazero.gomoku_game import GomokuGame as Gomoku, initial_stones\n",
    "from alphazero.interfaces import TrainParams\n",
    "from domoku.policies.heuristic_policy import HeuristicPolicy\n",
    "from alphazero.gomoku_board import GomokuBoard\n",
    "from domoku import tools as gt"
   ],
   "metadata": {
    "collapsed": false,
    "pycharm": {
     "name": "#%%\n"
    }
   }
  },
  {
   "cell_type": "code",
   "execution_count": 4,
   "outputs": [],
   "source": [
    "BOARD_SIZE = 15"
   ],
   "metadata": {
    "collapsed": false,
    "pycharm": {
     "name": "#%%\n"
    }
   }
  },
  {
   "cell_type": "code",
   "execution_count": 5,
   "outputs": [
    {
     "name": "stderr",
     "output_type": "stream",
     "text": [
      "2022-07-15 23:10:07.202191: I tensorflow/stream_executor/cuda/cuda_gpu_executor.cc:975] successful NUMA node read from SysFS had negative value (-1), but there must be at least one NUMA node, so returning NUMA node zero\n",
      "2022-07-15 23:10:07.202884: I tensorflow/stream_executor/cuda/cuda_gpu_executor.cc:975] successful NUMA node read from SysFS had negative value (-1), but there must be at least one NUMA node, so returning NUMA node zero\n",
      "2022-07-15 23:10:07.208478: I tensorflow/stream_executor/cuda/cuda_gpu_executor.cc:975] successful NUMA node read from SysFS had negative value (-1), but there must be at least one NUMA node, so returning NUMA node zero\n",
      "2022-07-15 23:10:07.209184: I tensorflow/stream_executor/cuda/cuda_gpu_executor.cc:975] successful NUMA node read from SysFS had negative value (-1), but there must be at least one NUMA node, so returning NUMA node zero\n",
      "2022-07-15 23:10:07.210122: I tensorflow/stream_executor/cuda/cuda_gpu_executor.cc:975] successful NUMA node read from SysFS had negative value (-1), but there must be at least one NUMA node, so returning NUMA node zero\n",
      "2022-07-15 23:10:07.210748: I tensorflow/stream_executor/cuda/cuda_gpu_executor.cc:975] successful NUMA node read from SysFS had negative value (-1), but there must be at least one NUMA node, so returning NUMA node zero\n",
      "2022-07-15 23:10:07.212206: I tensorflow/core/platform/cpu_feature_guard.cc:193] This TensorFlow binary is optimized with oneAPI Deep Neural Network Library (oneDNN) to use the following CPU instructions in performance-critical operations:  AVX2 FMA\n",
      "To enable them in other operations, rebuild TensorFlow with the appropriate compiler flags.\n",
      "2022-07-15 23:10:07.353396: I tensorflow/stream_executor/cuda/cuda_gpu_executor.cc:975] successful NUMA node read from SysFS had negative value (-1), but there must be at least one NUMA node, so returning NUMA node zero\n",
      "2022-07-15 23:10:07.354059: I tensorflow/stream_executor/cuda/cuda_gpu_executor.cc:975] successful NUMA node read from SysFS had negative value (-1), but there must be at least one NUMA node, so returning NUMA node zero\n",
      "2022-07-15 23:10:07.354686: I tensorflow/stream_executor/cuda/cuda_gpu_executor.cc:975] successful NUMA node read from SysFS had negative value (-1), but there must be at least one NUMA node, so returning NUMA node zero\n",
      "2022-07-15 23:10:07.355277: I tensorflow/stream_executor/cuda/cuda_gpu_executor.cc:975] successful NUMA node read from SysFS had negative value (-1), but there must be at least one NUMA node, so returning NUMA node zero\n",
      "2022-07-15 23:10:07.355879: I tensorflow/stream_executor/cuda/cuda_gpu_executor.cc:975] successful NUMA node read from SysFS had negative value (-1), but there must be at least one NUMA node, so returning NUMA node zero\n",
      "2022-07-15 23:10:07.356477: I tensorflow/stream_executor/cuda/cuda_gpu_executor.cc:975] successful NUMA node read from SysFS had negative value (-1), but there must be at least one NUMA node, so returning NUMA node zero\n",
      "2022-07-15 23:10:08.143582: I tensorflow/stream_executor/cuda/cuda_gpu_executor.cc:975] successful NUMA node read from SysFS had negative value (-1), but there must be at least one NUMA node, so returning NUMA node zero\n",
      "2022-07-15 23:10:08.144440: I tensorflow/stream_executor/cuda/cuda_gpu_executor.cc:975] successful NUMA node read from SysFS had negative value (-1), but there must be at least one NUMA node, so returning NUMA node zero\n",
      "2022-07-15 23:10:08.145052: I tensorflow/stream_executor/cuda/cuda_gpu_executor.cc:975] successful NUMA node read from SysFS had negative value (-1), but there must be at least one NUMA node, so returning NUMA node zero\n",
      "2022-07-15 23:10:08.145682: I tensorflow/stream_executor/cuda/cuda_gpu_executor.cc:975] successful NUMA node read from SysFS had negative value (-1), but there must be at least one NUMA node, so returning NUMA node zero\n",
      "2022-07-15 23:10:08.146288: I tensorflow/stream_executor/cuda/cuda_gpu_executor.cc:975] successful NUMA node read from SysFS had negative value (-1), but there must be at least one NUMA node, so returning NUMA node zero\n",
      "2022-07-15 23:10:08.146881: I tensorflow/core/common_runtime/gpu/gpu_device.cc:1532] Created device /job:localhost/replica:0/task:0/device:GPU:0 with 9785 MB memory:  -> device: 0, name: NVIDIA GeForce GTX 1080 Ti, pci bus id: 0000:28:00.0, compute capability: 6.1\n",
      "2022-07-15 23:10:08.147329: I tensorflow/stream_executor/cuda/cuda_gpu_executor.cc:975] successful NUMA node read from SysFS had negative value (-1), but there must be at least one NUMA node, so returning NUMA node zero\n",
      "2022-07-15 23:10:08.147902: I tensorflow/core/common_runtime/gpu/gpu_device.cc:1532] Created device /job:localhost/replica:0/task:0/device:GPU:1 with 10415 MB memory:  -> device: 1, name: NVIDIA GeForce GTX 1080 Ti, pci bus id: 0000:29:00.0, compute capability: 6.1\n",
      "/home/wgiersche/.local/share/virtualenvs/DeepGomoku-yQC4gx5q/lib/python3.8/site-packages/numpy/core/fromnumeric.py:2007: VisibleDeprecationWarning: Creating an ndarray from ragged nested sequences (which is a list-or-tuple of lists-or-tuples-or ndarrays with different lengths or shapes) is deprecated. If you meant to do this, you must specify 'dtype=object' when creating the ndarray.\n",
      "  result = asarray(a).shape\n"
     ]
    }
   ],
   "source": [
    "detector = HeuristicPolicy(BOARD_SIZE, cut_off=.1)\n",
    "game = Gomoku(BOARD_SIZE, detector=detector, initial=initial_stones(BOARD_SIZE, 4))"
   ],
   "metadata": {
    "collapsed": false,
    "pycharm": {
     "name": "#%%\n"
    }
   }
  },
  {
   "cell_type": "markdown",
   "source": [
    "----"
   ],
   "metadata": {
    "collapsed": false,
    "pycharm": {
     "name": "#%% md\n"
    }
   }
  },
  {
   "cell_type": "code",
   "execution_count": 6,
   "outputs": [],
   "source": [
    "policy = HeuristicPolicy(BOARD_SIZE, cut_off=.1)\n",
    "mcts = MCTS(game, policy, cpuct=1.0, num_simulations=100, model_threshold=.4)"
   ],
   "metadata": {
    "collapsed": false,
    "pycharm": {
     "name": "#%%\n"
    }
   }
  },
  {
   "cell_type": "code",
   "execution_count": 7,
   "outputs": [
    {
     "name": "stdout",
     "output_type": "stream",
     "text": [
      "J7 J9 F7 K11 (Black next)\n"
     ]
    },
    {
     "name": "stderr",
     "output_type": "stream",
     "text": [
      "2022-07-15 23:10:15.271338: I tensorflow/stream_executor/cuda/cuda_dnn.cc:384] Loaded cuDNN version 8100\n",
      "2022-07-15 23:10:15.471490: W tensorflow/stream_executor/gpu/asm_compiler.cc:111] *** WARNING *** You are using ptxas 10.1.243, which is older than 11.1. ptxas before 11.1 is known to miscompile XLA code, leading to incorrect results or invalid-address errors.\n",
      "\n",
      "You may not need to update to CUDA 11.1; cherry-picking the ptxas binary is often sufficient.\n"
     ]
    },
    {
     "name": "stdout",
     "output_type": "stream",
     "text": [
      "J7 J9 F7 K11 J11 (White next)\n",
      "J7 J9 F7 K11 J11 F10 (Black next)\n",
      "J7 J9 F7 K11 J11 F10 H5 (White next)\n",
      "J7 J9 F7 K11 J11 F10 H5 G6 (Black next)\n",
      "... J9 F7 K11 J11 F10 H5 G6 I6 (White next)\n",
      "... F7 K11 J11 F10 H5 G6 I6 K8 (Black next)\n",
      "... K11 J11 F10 H5 G6 I6 K8 H7 (White next)\n",
      "... J11 F10 H5 G6 I6 K8 H7 I10 (Black next)\n",
      "... F10 H5 G6 I6 K8 H7 I10 H11 (White next)\n",
      "... H5 G6 I6 K8 H7 I10 H11 G7 (Black next)\n",
      "... G6 I6 K8 H7 I10 H11 G7 G8 (White next)\n",
      "... I6 K8 H7 I10 H11 G7 G8 F9 (Black next)\n",
      "... K8 H7 I10 H11 G7 G8 F9 H6 (White next)\n",
      "... H7 I10 H11 G7 G8 F9 H6 H8 (Black next)\n",
      "... I10 H11 G7 G8 F9 H6 H8 J5 (White next)\n",
      "... H11 G7 G8 F9 H6 H8 J5 K4 (Black next)\n",
      "... G7 G8 F9 H6 H8 J5 K4 D5 (White next)\n",
      "... G8 F9 H6 H8 J5 K4 D5 E6 (Black next)\n",
      "... F9 H6 H8 J5 K4 D5 E6 I5 (White next)\n",
      "... H6 H8 J5 K4 D5 E6 I5 K5 (Black next)\n",
      "... H8 J5 K4 D5 E6 I5 K5 G5 (White next)\n",
      "... J5 K4 D5 E6 I5 K5 G5 F5 (Black next)\n",
      "... K4 D5 E6 I5 K5 G5 F5 I7 (White next)\n",
      "... D5 E6 I5 K5 G5 F5 I7 L7 (Black next)\n",
      "... E6 I5 K5 G5 F5 I7 L7 M6 (White next)\n",
      "... I5 K5 G5 F5 I7 L7 M6 J8 (Black next)\n",
      "... K5 G5 F5 I7 L7 M6 J8 I4 (White next)\n",
      "... G5 F5 I7 L7 M6 J8 I4 I8 (Black next)\n",
      "... F5 I7 L7 M6 J8 I4 I8 I3 (White next)\n",
      "The winner is 0\n",
      "                                                     \n",
      "15    .  .  .  .  .  .  .  .  .  .  .  .  .  .  .    \n",
      "14    .  .  .  .  .  .  .  .  .  .  .  .  .  .  .    \n",
      "13    .  .  .  .  .  .  .  .  .  .  .  .  .  .  .    \n",
      "12    .  .  .  .  .  .  .  .  .  .  .  .  .  .  .    \n",
      "11    .  .  .  .  .  .  .  X  .  X  O  .  .  .  .    \n",
      "10    .  .  .  .  .  O  .  .  O  .  .  .  .  .  .    \n",
      " 9    .  .  .  .  .  O  .  .  .  O  .  .  .  .  .    \n",
      " 8    .  .  .  .  .  .  X  O  O  O  O  .  .  .  .    \n",
      " 7    .  .  .  .  .  X  O  X  X  X  .  O  .  .  .    \n",
      " 6    .  .  .  .  O  .  O  X  X  .  .  .  X  .  .    \n",
      " 5    .  .  .  X  .  O  X  X  X  X  O  .  .  .  .    \n",
      " 4    .  .  .  .  .  .  .  .  X  .  O  .  .  .  .    \n",
      " 3    .  .  .  .  .  .  .  . [X] .  .  .  .  .  .    \n",
      " 2    .  .  .  .  .  .  .  .  .  .  .  .  .  .  .    \n",
      " 1    .  .  .  .  .  .  .  .  .  .  .  .  .  .  .    \n",
      "                                                     \n",
      "      A  B  C  D  E  F  G  H  I  J  K  L  M  N  O\n"
     ]
    }
   ],
   "source": [
    "board = game.get_initial_board()  # random start positions, sometimes unfair, but so what?\n",
    "print(board)\n",
    "import numpy as np\n",
    "\n",
    "# Two mood versions of the champion playing against each other = less draws\n",
    "# These settings may change over the training period, once opponents get stronger.\n",
    "temperatures = [0.6, 0]  # more tight vs more explorative\n",
    "\n",
    "episode_step = 0\n",
    "train_examples = []\n",
    "done = policy.get_winner(board.canonical_representation())\n",
    "while done is None and episode_step < 30:\n",
    "    episode_step += 1\n",
    "    t = temperatures[episode_step % 2]\n",
    "    pi = mcts.get_action_prob(board, temperature=t)\n",
    "    action = np.random.choice(len(pi), p=pi)\n",
    "    board.act(action)\n",
    "    print(board)\n",
    "    done = policy.get_winner(board.canonical_representation())\n",
    "\n",
    "# The player who made the last move, is the winner.\n",
    "print (f\"The winner is {1-board.get_current_player()}\")\n",
    "board.plot()"
   ],
   "metadata": {
    "collapsed": false,
    "pycharm": {
     "name": "#%%\n"
    }
   }
  },
  {
   "cell_type": "code",
   "execution_count": 8,
   "outputs": [
    {
     "data": {
      "text/plain": "<Figure size 576x576 with 1 Axes>",
      "image/png": "[encoded data removed]"
     },
     "metadata": {
      "needs_background": "light"
     },
     "output_type": "display_data"
    }
   ],
   "source": [
    "from copy import deepcopy\n",
    "from domoku.board import GomokuBoard as LegacyBoard\n",
    "board = deepcopy(board)\n",
    "stones = board.stones[:-6]\n",
    "stones = \"\".join([str(stone) for stone in stones])\n",
    "board_t = LegacyBoard(n=BOARD_SIZE, disp_width=8, stones=stones, heuristics=policy)\n",
    "board_t.display()"
   ],
   "metadata": {
    "collapsed": false,
    "pycharm": {
     "name": "#%%\n"
    }
   }
  },
  {
   "cell_type": "markdown",
   "source": [
    "---"
   ],
   "metadata": {
    "collapsed": false,
    "pycharm": {
     "name": "#%% md\n"
    }
   }
  },
  {
   "cell_type": "markdown",
   "source": [
    "### For reference: The policy's opinion about that board state"
   ],
   "metadata": {
    "collapsed": false,
    "pycharm": {
     "name": "#%% md\n"
    }
   }
  },
  {
   "cell_type": "code",
   "execution_count": 9,
   "outputs": [
    {
     "name": "stdout",
     "output_type": "stream",
     "text": [
      "[[  0   0   0   0   0   0   0   0   0   0   0   0   0   0   0]\n",
      " [  0   0   0   0   0   0   0   0   0   0   0   0   0   0   0]\n",
      " [  0   0   0   0   0   0   0   0   0   0   4   0   0   0   0]\n",
      " [  0   0   0   0   0  12   0   0   0   0   0   0   4   0   0]\n",
      " [  0   0   0   0   0   0   0   0   0   0   0   0   0   0   0]\n",
      " [  0   0   0   4   0   0  16  16   0   4  16   4   0   0   0]\n",
      " [  0   0   0   0   0   0   0   8   4   0  12   4   4   0   0]\n",
      " [  0   0  12   0   4   0   0   0 141 141   0   4   3   0   0]\n",
      " [  0   0   0  12   8   0   0   0   0   0  12  20   0   4   0]\n",
      " [  0   0   7   0   0  16   0   0   0  12  16   0  12   0   0]\n",
      " [  0   0   0   0  12   0   0   0   0   0   0   8   0   0   0]\n",
      " [  0   0   0   0   7 141  20  12 145   8   0   0   0   0   0]\n",
      " [  0   0   0   0   4   8   4  24   4   4  12   0   0   0   0]\n",
      " [  0   0   0   0   0   3   4   0   0   3  12   0   0   0   0]\n",
      " [  0   0   0   0   0   0   0   0   0   0   0   0   0   0   0]]\n",
      "Value: -0.1710540212372656\n"
     ]
    }
   ],
   "source": [
    "board = GomokuBoard(BOARD_SIZE, stones)\n",
    "pi, v = policy(board.canonical_representation())\n",
    "print((np.array(pi)*1000).astype(int))\n",
    "print(f\"Value: {v}\")"
   ],
   "metadata": {
    "collapsed": false,
    "pycharm": {
     "name": "#%%\n"
    }
   }
  },
  {
   "cell_type": "markdown",
   "source": [
    "---"
   ],
   "metadata": {
    "collapsed": false,
    "pycharm": {
     "name": "#%% md\n"
    }
   }
  },
  {
   "cell_type": "markdown",
   "source": [
    "### The search tree has a similar yet more ascertive opinion\n",
    "The action counts will inform the next policy and the $max(Q_a)$ may inform the value function."
   ],
   "metadata": {
    "collapsed": false,
    "pycharm": {
     "name": "#%% md\n"
    }
   }
  },
  {
   "cell_type": "markdown",
   "source": [
    "In most cases, the softmax will agree with the move actually taken, only if the chances are somewhat equally distributed, will the softmax also allow for a choice."
   ],
   "metadata": {
    "collapsed": false,
    "pycharm": {
     "name": "#%% md\n"
    }
   }
  },
  {
   "cell_type": "code",
   "execution_count": 10,
   "outputs": [
    {
     "name": "stdout",
     "output_type": "stream",
     "text": [
      "[[ 0  0  0  0  0  0  0  0  0  0  0  0  0  0  0]\n",
      " [ 0  0  0  0  0  0  0  0  0  0  0  0  0  0  0]\n",
      " [ 0  0  0  0  0  0  0  0  0  0  0  0  0  0  0]\n",
      " [ 0  0  0  0  0  0  0  0  0  0  0  0  0  0  0]\n",
      " [ 0  0  0  0  0  0  0  0  0  0  0  0  0  0  0]\n",
      " [ 0  0  0  0  0  0  1  1  0  0  2  0  0  0  0]\n",
      " [ 0  0  0  0  0  0  0  0  0  0  0  0  0  0  0]\n",
      " [ 0  0  0  0  0  0  0  0  7  7  0  0  0  0  0]\n",
      " [ 0  0  0  0  0  0  0  0  0  0  0 45  0  0  0]\n",
      " [ 0  0  0  0  0  2  0  0  0  0 10  0  0  0  0]\n",
      " [ 0  0  0  0  0  0  0  0  0  0  0  0  0  0  0]\n",
      " [ 0  0  0  0  0  7  2  0  7  0  0  0  0  0  0]\n",
      " [ 0  0  0  0  0  0  0  2  0  0  0  0  0  0  0]\n",
      " [ 0  0  0  0  0  0  0  0  0  0  0  0  0  0  0]\n",
      " [ 0  0  0  0  0  0  0  0  0  0  0  0  0  0  0]]\n",
      "\n",
      "Value from max(Q): -0.8612364973877449\n"
     ]
    }
   ],
   "source": [
    "key = board.get_string_representation()\n",
    "probs = mcts.compute_probs(board, temperature=1.0)\n",
    "probs = np.array(probs).reshape([BOARD_SIZE, BOARD_SIZE])\n",
    "print((probs*100).astype(int))\n",
    "q_advice = [mcts.Q.get((key, i), -float('inf')) for i in range(225)]\n",
    "print()\n",
    "print(f\"Value from max(Q): {np.max(q_advice)}\")"
   ],
   "metadata": {
    "collapsed": false,
    "pycharm": {
     "name": "#%%\n"
    }
   }
  },
  {
   "cell_type": "markdown",
   "source": [
    "# Symmetries"
   ],
   "metadata": {
    "collapsed": false,
    "pycharm": {
     "name": "#%% md\n"
    }
   }
  },
  {
   "cell_type": "code",
   "execution_count": 11,
   "outputs": [
    {
     "data": {
      "text/plain": "(17, 17, 3)"
     },
     "execution_count": 11,
     "metadata": {},
     "output_type": "execute_result"
    }
   ],
   "source": [
    "math_rep = board.canonical_representation()\n",
    "symmetries = game.get_symmetries(math_rep, probs)\n",
    "symmetries[0][0].shape"
   ],
   "metadata": {
    "collapsed": false,
    "pycharm": {
     "name": "#%%\n"
    }
   }
  },
  {
   "cell_type": "markdown",
   "source": [
    "We see the board diagonally flipped"
   ],
   "metadata": {
    "collapsed": false,
    "pycharm": {
     "name": "#%% md\n"
    }
   }
  },
  {
   "cell_type": "code",
   "execution_count": 12,
   "outputs": [
    {
     "name": "stdout",
     "output_type": "stream",
     "text": [
      "shape: (17, 17, 3)\n",
      "[[3 3 3 3 3 3 3 3 3 3 3 3 3 3 3 3 3]\n",
      " [3 0 0 0 0 0 0 0 0 0 0 0 0 0 0 0 3]\n",
      " [3 0 0 0 0 0 0 0 0 0 0 0 0 0 0 0 3]\n",
      " [3 0 0 0 0 0 0 0 0 0 0 0 0 0 0 0 3]\n",
      " [3 0 0 0 0 0 0 0 0 0 0 0 0 0 0 0 3]\n",
      " [3 0 0 0 1 1 0 0 1 0 0 1 0 0 0 0 3]\n",
      " [3 0 0 0 0 2 0 2 0 1 0 2 0 0 0 0 3]\n",
      " [3 0 0 0 0 2 2 2 0 0 1 0 0 0 0 0 3]\n",
      " [3 0 0 0 0 2 2 2 1 0 0 2 0 0 0 0 3]\n",
      " [3 0 0 0 0 2 1 1 2 0 0 0 0 0 0 0 3]\n",
      " [3 0 0 0 0 1 0 2 0 1 1 0 0 0 0 0 3]\n",
      " [3 0 0 0 0 0 1 0 0 0 0 0 0 0 0 0 3]\n",
      " [3 0 0 0 0 2 0 0 0 0 0 0 0 0 0 0 3]\n",
      " [3 0 0 0 0 0 0 0 0 0 0 0 0 0 0 0 3]\n",
      " [3 0 0 0 0 0 0 0 0 0 0 0 0 0 0 0 3]\n",
      " [3 0 0 0 0 0 0 0 0 0 0 0 0 0 0 0 3]\n",
      " [3 3 3 3 3 3 3 3 3 3 3 3 3 3 3 3 3]]\n"
     ]
    }
   ],
   "source": [
    "gt.print_channels(symmetries[0][0])"
   ],
   "metadata": {
    "collapsed": false,
    "pycharm": {
     "name": "#%%\n"
    }
   }
  },
  {
   "cell_type": "code",
   "execution_count": 13,
   "outputs": [
    {
     "name": "stdout",
     "output_type": "stream",
     "text": [
      "[[ 0  0  0  0  0  0  0  0  0  0  0  0  0  0  0]\n",
      " [ 0  0  0  0  0  0  0  0  0  0  0  0  0  0  0]\n",
      " [ 0  0  0  0  0  0  0  0  0  0  0  0  0  0  0]\n",
      " [ 0  0  0  0  0  0 45  0  0  0  0  0  0  0  0]\n",
      " [ 0  0  0  0  0 10  0  0  0  2  0  0  0  0  0]\n",
      " [ 0  0  0  0  0  0  0  7  0  0  0  0  0  0  0]\n",
      " [ 0  0  0  7  0  0  0  7  0  0  0  0  0  0  0]\n",
      " [ 0  0  2  0  0  0  0  0  0  1  0  0  0  0  0]\n",
      " [ 0  0  0  2  0  0  0  0  0  1  0  0  0  0  0]\n",
      " [ 0  0  0  7  0  2  0  0  0  0  0  0  0  0  0]\n",
      " [ 0  0  0  0  0  0  0  0  0  0  0  0  0  0  0]\n",
      " [ 0  0  0  0  0  0  0  0  0  0  0  0  0  0  0]\n",
      " [ 0  0  0  0  0  0  0  0  0  0  0  0  0  0  0]\n",
      " [ 0  0  0  0  0  0  0  0  0  0  0  0  0  0  0]\n",
      " [ 0  0  0  0  0  0  0  0  0  0  0  0  0  0  0]]\n",
      "\n"
     ]
    }
   ],
   "source": [
    "for i in range(1):\n",
    "    print((np.array(symmetries[i][1]).reshape(15, 15) * 100).astype(int))\n",
    "    print()"
   ],
   "metadata": {
    "collapsed": false,
    "pycharm": {
     "name": "#%%\n"
    }
   }
  },
  {
   "cell_type": "markdown",
   "source": [
    "---"
   ],
   "metadata": {
    "collapsed": false,
    "pycharm": {
     "name": "#%% md\n"
    }
   }
  },
  {
   "cell_type": "markdown",
   "source": [
    "# The Coach creates the trajectories and saves them\n",
    "\n",
    "Would be nice to see the training converge (and overfit) with a single episode in its 8 symmetries, and validate the overfitted against a board with all stones shifted. We'd expect only minor differences due to the different border influence, but otherwise the conv-only network naturally features translation symmetry."
   ],
   "metadata": {
    "collapsed": false,
    "pycharm": {
     "name": "#%% md\n"
    }
   }
  },
  {
   "cell_type": "code",
   "execution_count": 14,
   "outputs": [
    {
     "name": "stderr",
     "output_type": "stream",
     "text": [
      "/home/wgiersche/.local/share/virtualenvs/DeepGomoku-yQC4gx5q/lib/python3.8/site-packages/numpy/core/fromnumeric.py:2007: VisibleDeprecationWarning: Creating an ndarray from ragged nested sequences (which is a list-or-tuple of lists-or-tuples-or ndarrays with different lengths or shapes) is deprecated. If you meant to do this, you must specify 'dtype=object' when creating the ndarray.\n",
      "  result = asarray(a).shape\n"
     ]
    }
   ],
   "source": [
    "detector = HeuristicPolicy(BOARD_SIZE, cut_off=.1)\n",
    "game = Gomoku(BOARD_SIZE, detector=detector, initial=initial_stones(BOARD_SIZE, 4))"
   ],
   "metadata": {
    "collapsed": false,
    "pycharm": {
     "name": "#%%\n"
    }
   }
  },
  {
   "cell_type": "code",
   "execution_count": 15,
   "outputs": [],
   "source": [
    "params = TrainParams(\n",
    "    epochs_per_train=400,\n",
    "    update_threshold=0.6,\n",
    "    max_queue_length=8192,    # Number of game examples to keep to train the neural networks.\n",
    "    num_simulations=400,\n",
    "    arena_compare=2,         # Number of games to play during arena play to evaluate new network.\n",
    "    cpuct=1.0,\n",
    "    checkpoint_dir='./test_data/',\n",
    "    load_model=False,\n",
    "    load_folder_file=('/dev/models/8x100x50', 'best.pth.tar'),\n",
    "    num_iters_for_train_examples_history=4,\n",
    "    num_iterations=2,\n",
    "    num_episodes=2,\n",
    "    temperature_threshold=12\n",
    ")\n",
    "coach = Coach(game, params=params)"
   ],
   "metadata": {
    "collapsed": false,
    "pycharm": {
     "name": "#%%\n"
    }
   }
  },
  {
   "cell_type": "code",
   "execution_count": 16,
   "outputs": [
    {
     "name": "stderr",
     "output_type": "stream",
     "text": [
      "   Self Play: 100%|██████████| 2/2 [01:56<00:00, 58.09s/it]\n"
     ]
    }
   ],
   "source": [
    "policy = HeuristicPolicy(BOARD_SIZE, cut_off=.1)\n",
    "mcts = MCTS(game, policy, cpuct=1.0, num_simulations=100, model_threshold=.4)\n",
    "examples = coach.create_trajectories(mcts, 1, shuffle=False)"
   ],
   "metadata": {
    "collapsed": false,
    "pycharm": {
     "name": "#%%\n"
    }
   }
  },
  {
   "cell_type": "code",
   "execution_count": 17,
   "outputs": [
    {
     "data": {
      "text/plain": "240"
     },
     "execution_count": 17,
     "metadata": {},
     "output_type": "execute_result"
    }
   ],
   "source": [
    "len(examples)"
   ],
   "metadata": {
    "collapsed": false,
    "pycharm": {
     "name": "#%%\n"
    }
   }
  },
  {
   "cell_type": "code",
   "execution_count": 19,
   "outputs": [
    {
     "name": "stdout",
     "output_type": "stream",
     "text": [
      "total 2644\r\n",
      "-rw-rw-r-- 1 wgiersche wgiersche 2703619 Jul 15 23:21 checkpoint_0.pth.tar.examples\r\n",
      "/home/wgiersche/workspace/Project-Ellie/DeepGomoku/notebooks\r\n"
     ]
    }
   ],
   "source": [
    "!ls -ltr test_data\n",
    "!pwd"
   ],
   "metadata": {
    "collapsed": false,
    "pycharm": {
     "name": "#%%\n"
    }
   }
  },
  {
   "cell_type": "code",
   "execution_count": 20,
   "outputs": [
    {
     "name": "stdout",
     "output_type": "stream",
     "text": [
      "3 (17, 17, 3) -0.9933818201238935\n",
      "[[ 0  0  0  0  0  0  0  0  0  0  0  0  0  0  0]\n",
      " [ 0  0  0  0  0  0  0  0  0  0  0  0  0  0  0]\n",
      " [ 0  0  0  0  0  0  0  0  0  0  0  0  0  0  0]\n",
      " [ 0  0  0  0  0  0  0  0  0  0  0  0  0  0  0]\n",
      " [ 0  0  0  0 90  0  0  0  0  0  0  0  0  0  0]\n",
      " [ 0  0  0  9  0  0  0  0  0  0  0  0  0  0  0]\n",
      " [ 0  0  0  0  0  0  0  0  0  0  0  0  0  0  0]\n",
      " [ 0  0  0  0  0  0  0  0  0  0  0  0  0  0  0]\n",
      " [ 0  0  0  0  0  0  0  0  0  0  0  0  0  0  0]\n",
      " [ 0  0  0  0  0  0  0  0  0  0  0  0  0  0  0]\n",
      " [ 0  0  0  0  0  0  0  0  0  0  0  0  0  0  0]\n",
      " [ 0  0  0  0  0  0  0  0  0  0  0  0  0  0  0]\n",
      " [ 0  0  0  0  0  0  0  0  0  0  0  0  0  0  0]\n",
      " [ 0  0  0  0  0  0  0  0  0  0  0  0  0  0  0]\n",
      " [ 0  0  0  0  0  0  0  0  0  0  0  0  0  0  0]]\n"
     ]
    }
   ],
   "source": [
    "import numpy as np\n",
    "ex = examples[-25]\n",
    "print(len(ex), ex[0].shape, ex[2])\n",
    "print((np.array(ex[1])*100).reshape((15, 15)).astype(int))"
   ],
   "metadata": {
    "collapsed": false,
    "pycharm": {
     "name": "#%%\n"
    }
   }
  },
  {
   "cell_type": "markdown",
   "source": [
    "---\n",
    "# Files containing the training records"
   ],
   "metadata": {
    "collapsed": false,
    "pycharm": {
     "name": "#%% md\n"
    }
   }
  },
  {
   "cell_type": "code",
   "execution_count": 30,
   "outputs": [],
   "source": [
    "examples_file = 'temp/checkpoint_0.pth.tar.examples'"
   ],
   "metadata": {
    "collapsed": false,
    "pycharm": {
     "name": "#%%\n"
    }
   }
  },
  {
   "cell_type": "code",
   "execution_count": 31,
   "outputs": [],
   "source": [
    "from pickle import Unpickler\n",
    "\n",
    "with open(examples_file, \"rb\") as f:\n",
    "    examples = Unpickler(f).load()\n",
    "    examples = examples[0]"
   ],
   "metadata": {
    "collapsed": false,
    "pycharm": {
     "name": "#%%\n"
    }
   }
  },
  {
   "cell_type": "code",
   "execution_count": 32,
   "outputs": [
    {
     "name": "stdout",
     "output_type": "stream",
     "text": [
      "264\n",
      "3\n"
     ]
    }
   ],
   "source": [
    "print(len(examples))\n",
    "print(len(examples[0]))"
   ],
   "metadata": {
    "collapsed": false,
    "pycharm": {
     "name": "#%%\n"
    }
   }
  },
  {
   "cell_type": "code",
   "execution_count": null,
   "outputs": [],
   "source": [],
   "metadata": {
    "collapsed": false,
    "pycharm": {
     "name": "#%%\n"
    }
   }
  },
  {
   "cell_type": "code",
   "execution_count": null,
   "outputs": [],
   "source": [],
   "metadata": {
    "collapsed": false,
    "pycharm": {
     "name": "#%%\n"
    }
   }
  },
  {
   "cell_type": "code",
   "execution_count": null,
   "outputs": [],
   "source": [],
   "metadata": {
    "collapsed": false,
    "pycharm": {
     "name": "#%%\n"
    }
   }
  },
  {
   "cell_type": "code",
   "execution_count": null,
   "outputs": [],
   "source": [],
   "metadata": {
    "collapsed": false,
    "pycharm": {
     "name": "#%%\n"
    }
   }
  },
  {
   "cell_type": "code",
   "execution_count": null,
   "outputs": [],
   "source": [],
   "metadata": {
    "collapsed": false,
    "pycharm": {
     "name": "#%%\n"
    }
   }
  },
  {
   "cell_type": "code",
   "execution_count": null,
   "outputs": [],
   "source": [],
   "metadata": {
    "collapsed": false,
    "pycharm": {
     "name": "#%%\n"
    }
   }
  },
  {
   "cell_type": "code",
   "execution_count": null,
   "outputs": [],
   "source": [],
   "metadata": {
    "collapsed": false,
    "pycharm": {
     "name": "#%%\n"
    }
   }
  },
  {
   "cell_type": "code",
   "execution_count": null,
   "outputs": [],
   "source": [],
   "metadata": {
    "collapsed": false,
    "pycharm": {
     "name": "#%%\n"
    }
   }
  },
  {
   "cell_type": "code",
   "execution_count": null,
   "outputs": [],
   "source": [],
   "metadata": {
    "collapsed": false,
    "pycharm": {
     "name": "#%%\n"
    }
   }
  },
  {
   "cell_type": "code",
   "execution_count": null,
   "outputs": [],
   "source": [],
   "metadata": {
    "collapsed": false,
    "pycharm": {
     "name": "#%%\n"
    }
   }
  },
  {
   "cell_type": "code",
   "execution_count": null,
   "outputs": [],
   "source": [],
   "metadata": {
    "collapsed": false,
    "pycharm": {
     "name": "#%%\n"
    }
   }
  },
  {
   "cell_type": "code",
   "execution_count": null,
   "outputs": [],
   "source": [],
   "metadata": {
    "collapsed": false,
    "pycharm": {
     "name": "#%%\n"
    }
   }
  },
  {
   "cell_type": "code",
   "execution_count": null,
   "outputs": [],
   "source": [],
   "metadata": {
    "collapsed": false,
    "pycharm": {
     "name": "#%%\n"
    }
   }
  },
  {
   "cell_type": "code",
   "execution_count": null,
   "outputs": [],
   "source": [],
   "metadata": {
    "collapsed": false,
    "pycharm": {
     "name": "#%%\n"
    }
   }
  },
  {
   "cell_type": "markdown",
   "source": [
    "## Training"
   ],
   "metadata": {
    "collapsed": false,
    "pycharm": {
     "name": "#%% md\n"
    }
   }
  },
  {
   "cell_type": "code",
   "execution_count": 14,
   "outputs": [],
   "source": [
    "examples_file = 'temperature/checkpoint_1.pth.tar.examples'"
   ],
   "metadata": {
    "collapsed": false,
    "pycharm": {
     "name": "#%%\n"
    }
   }
  },
  {
   "cell_type": "code",
   "execution_count": 15,
   "outputs": [],
   "source": [
    "from pickle import Unpickler\n",
    "\n",
    "with open(examples_file, \"rb\") as f:\n",
    "    examples = Unpickler(f).load()\n",
    "    examples = examples[0]"
   ],
   "metadata": {
    "collapsed": false,
    "pycharm": {
     "name": "#%%\n"
    }
   }
  },
  {
   "cell_type": "code",
   "execution_count": 16,
   "outputs": [
    {
     "name": "stdout",
     "output_type": "stream",
     "text": [
      "296\n",
      "3\n"
     ]
    }
   ],
   "source": [
    "print(len(examples))\n",
    "print(len(examples[0]))"
   ],
   "metadata": {
    "collapsed": false,
    "pycharm": {
     "name": "#%%\n"
    }
   }
  },
  {
   "cell_type": "code",
   "execution_count": 17,
   "outputs": [
    {
     "name": "stdout",
     "output_type": "stream",
     "text": [
      "(1, 17, 17, 3)\n"
     ]
    }
   ],
   "source": [
    "import numpy as np\n",
    "the_model = NeuralNetAdapter( BOARD_SIZE+ 2)\n",
    "#the_model.policy.summary()\n",
    "sample = np.expand_dims(examples[0][0], axis=0).astype(float)\n",
    "print(sample.shape)\n",
    "# Currently the output is just noise\n",
    "# the_model.policy(sample, debug=True)"
   ],
   "metadata": {
    "collapsed": false,
    "pycharm": {
     "name": "#%%\n"
    }
   }
  },
  {
   "cell_type": "code",
   "execution_count": 19,
   "outputs": [
    {
     "name": "stdout",
     "output_type": "stream",
     "text": [
      "Epoch: 1, Loss: 2.2625393867492676\n",
      "Epoch: 101, Loss: 1.9448482990264893\n",
      "Epoch: 201, Loss: 1.8540384769439697\n",
      "Epoch: 301, Loss: 1.8002336025238037\n",
      "Epoch: 401, Loss: 1.7671005725860596\n",
      "Epoch: 501, Loss: 1.7448216676712036\n",
      "Epoch: 601, Loss: 1.7276932001113892\n",
      "Epoch: 701, Loss: 1.7135875225067139\n",
      "Epoch: 801, Loss: 1.704429268836975\n",
      "Epoch: 901, Loss: 1.6940313577651978\n",
      "Epoch: 1001, Loss: 1.6874667406082153\n",
      "Epoch: 1101, Loss: 1.6796963214874268\n",
      "Epoch: 1201, Loss: 1.6732133626937866\n",
      "Epoch: 1301, Loss: 1.6683366298675537\n",
      "Epoch: 1401, Loss: 1.6633687019348145\n",
      "Epoch: 1501, Loss: 1.6584739685058594\n",
      "Epoch: 1601, Loss: 1.6542075872421265\n",
      "Epoch: 1701, Loss: 1.6502810716629028\n",
      "Epoch: 1801, Loss: 1.6467748880386353\n",
      "Epoch: 1901, Loss: 1.6436026096343994\n",
      "Epochs: 2000, Loss: 1.6405202150344849\n"
     ]
    }
   ],
   "source": [
    "params = TrainParams(\n",
    "    epochs_per_train=2000,\n",
    "    update_threshold=0.6,\n",
    "    max_queue_length=8192,    # Number of game examples to keep to train the neural networks.\n",
    "    num_simulations=25,\n",
    "    arena_compare=2,         # Number of games to play during arena play to evaluate new network.\n",
    "    cpuct=1.0,\n",
    "    checkpoint_dir='./temperature/',\n",
    "    load_model=False,\n",
    "    load_folder_file=('/dev/models/8x100x50', 'best.pth.tar'),\n",
    "    num_iters_for_train_examples_history=4,\n",
    "    num_iterations=2,\n",
    "    num_episodes=20,\n",
    "    temperature_threshold=12\n",
    ")\n",
    "the_model.train(examples, params)"
   ],
   "metadata": {
    "collapsed": false,
    "pycharm": {
     "name": "#%%\n"
    }
   }
  },
  {
   "cell_type": "code",
   "execution_count": 27,
   "outputs": [
    {
     "name": "stdout",
     "output_type": "stream",
     "text": [
      "3 (17, 17, 3) 8.006108400086482e-05\n",
      "[[ 0  0  0  0  0  0  0  0  0  0  0  0  0  0  0]\n",
      " [ 0  0  0  0  0  0  0  0  0  0  0  0  0  0  0]\n",
      " [ 0  0  0  0  0  0  0  0 12  0  0  0  0  0  0]\n",
      " [ 0  0  0  0  0  0  0  0 25  0  0  0  0  0  0]\n",
      " [ 0  0  0  0  0  0  0  0  0  0  0  0  0  0  0]\n",
      " [ 0  0  0  0  0  0  0  0  0  0  0  0  0  0  0]\n",
      " [ 0  0  0  0  0  0  0  0 21  5  0  0  0  0  0]\n",
      " [ 0  0  0  0  0  0  0  0 22  0  0  0  0  0  0]\n",
      " [ 0  0  0  0  0  0  0  6  0  0  0  0  0  0  0]\n",
      " [ 0  0  0  0  0  0  0  0  0  0  0  0  0  0  0]\n",
      " [ 0  0  0  0  0  5  0  0  0  0  0  0  0  0  0]\n",
      " [ 0  0  0  0  0  0  0  0  0  0  0  0  0  0  0]\n",
      " [ 0  0  0  0  0  0  0  0  0  0  0  0  0  0  0]\n",
      " [ 0  0  0  0  0  0  0  0  0  0  0  0  0  0  0]\n",
      " [ 0  0  0  0  0  0  0  0  0  0  0  0  0  0  0]]\n",
      "shape: (17, 17, 3)\n",
      "[[3 3 3 3 3 3 3 3 3 3 3 3 3 3 3 3 3]\n",
      " [3 0 0 0 0 0 0 0 0 0 0 0 0 0 0 0 3]\n",
      " [3 0 0 0 0 0 0 0 0 0 0 0 0 0 0 0 3]\n",
      " [3 0 0 0 0 0 0 0 0 0 0 0 0 0 0 0 3]\n",
      " [3 0 0 0 0 0 0 0 0 0 0 1 0 0 0 0 3]\n",
      " [3 0 0 0 0 0 0 0 0 2 0 0 0 0 0 0 3]\n",
      " [3 0 0 0 0 0 0 0 0 2 0 0 0 0 0 0 3]\n",
      " [3 0 0 0 0 0 0 0 0 0 0 0 0 0 0 0 3]\n",
      " [3 0 0 0 0 0 0 0 0 0 0 0 0 0 0 0 3]\n",
      " [3 0 0 0 0 0 1 0 0 0 0 0 0 0 0 0 3]\n",
      " [3 0 0 0 0 0 0 2 0 0 0 0 0 0 0 0 3]\n",
      " [3 0 0 0 0 0 0 0 0 0 0 0 0 0 0 0 3]\n",
      " [3 0 0 0 0 0 0 0 0 0 0 0 0 0 0 0 3]\n",
      " [3 0 0 0 0 0 0 0 0 0 0 0 0 0 0 0 3]\n",
      " [3 0 0 0 0 0 0 0 0 0 0 0 0 0 0 0 3]\n",
      " [3 0 0 0 0 0 0 0 0 0 0 0 0 0 0 0 3]\n",
      " [3 3 3 3 3 3 3 3 3 3 3 3 3 3 3 3 3]]\n"
     ]
    }
   ],
   "source": [
    "ex=examples[-121]\n",
    "print(len(ex), ex[0].shape, ex[2])\n",
    "print((np.array(ex[1]) * 100).reshape((15, 15)).astype(int))\n",
    "gt.print_channels(ex[0])"
   ],
   "metadata": {
    "collapsed": false,
    "pycharm": {
     "name": "#%%\n"
    }
   }
  },
  {
   "cell_type": "code",
   "execution_count": 28,
   "outputs": [
    {
     "name": "stdout",
     "output_type": "stream",
     "text": [
      "Potential: 19944.69140625\n",
      "Value Head: 127.36955261230469\n",
      "Policy Head: 563.1781616210938\n",
      "[[ 0  0  0  0  0  0  0  0  0  0  0  0  0  0  0]\n",
      " [ 0  0  0  0  0  0  0  0  0  0  0  0  0  0  0]\n",
      " [ 0  0  0  0  0  0  0  0  8  0  0  0  0  0  0]\n",
      " [ 0  0  0  0  0  0  0  0 23  0  0  0  0  0  0]\n",
      " [ 0  0  0  0  0  1  0  0  0  0  0  0  0  0  0]\n",
      " [ 0  0  0  0  0  0  0  0  0  1  0  0  0  0  0]\n",
      " [ 0  0  0  0  0  0  0  1 16  7  0  0  0  0  0]\n",
      " [ 0  0  0  0  0  0  0  0 25  0  0  0  0  0  0]\n",
      " [ 0  0  0  0  0  0  0  2  0  0  0  0  0  0  0]\n",
      " [ 0  0  0  0  0  0  0  0  0  0  0  0  0  0  0]\n",
      " [ 0  0  0  0  0  0  0  0  0  0  0  0  0  0  0]\n",
      " [ 0  0  0  0  0  0  0  0  0  0  0  0  0  0  0]\n",
      " [ 0  0  0  0  0  0  0  0  0  0  0  0  0  0  0]\n",
      " [ 0  0  0  0  0  0  0  0  0  0  0  0  0  0  0]\n",
      " [ 0  0  0  0  0  0  0  0  0  0  0  0  0  0  0]]\n",
      "\n",
      "Value: [[0.01131233]]\n"
     ]
    }
   ],
   "source": [
    "p, v = the_model.predict(np.expand_dims(ex[0], axis=0).astype(float), debug=True)\n",
    "print((p*100).numpy().reshape((15, 15)).astype(int))\n",
    "print()\n",
    "print(f\"Value: {v}\")"
   ],
   "metadata": {
    "collapsed": false,
    "pycharm": {
     "name": "#%%\n"
    }
   }
  },
  {
   "cell_type": "markdown",
   "source": [
    "## Testing the policy on unseen boards\n",
    "The results are particular impressive for threat sequences. Less for uncritical game states. We feel inclined to conclude that the Neural network has *understood* the general concept of lines of stones and open-endedness!"
   ],
   "metadata": {
    "collapsed": false,
    "pycharm": {
     "name": "#%% md\n"
    }
   }
  },
  {
   "cell_type": "code",
   "execution_count": 93,
   "outputs": [],
   "source": [
    "test_file = 'temperature/checkpoint_1.pth.tar.examples'"
   ],
   "metadata": {
    "collapsed": false,
    "pycharm": {
     "name": "#%%\n"
    }
   }
  },
  {
   "cell_type": "code",
   "execution_count": 94,
   "outputs": [],
   "source": [
    "from pickle import Unpickler\n",
    "\n",
    "with open(examples_file, \"rb\") as f:\n",
    "    examples = Unpickler(f).load()\n",
    "    examples = examples[0]"
   ],
   "metadata": {
    "collapsed": false,
    "pycharm": {
     "name": "#%%\n"
    }
   }
  },
  {
   "cell_type": "code",
   "execution_count": 95,
   "outputs": [
    {
     "name": "stdout",
     "output_type": "stream",
     "text": [
      "3 (17, 17, 3) -0.8678533200046036\n",
      "[[ 0  0  0  0  0  0  0  0  0  0  0  0  0  0  0]\n",
      " [ 0  0  0  0  0  0  0  0  0  0  0  0  0  0  0]\n",
      " [ 0  0  0  0  0  0  0  0  0  0  0  0  0  0  0]\n",
      " [ 0  0  0  0  0 57  0  0  0  0  0  0  0  0  0]\n",
      " [ 0  0  0  0  0  0  0  0  0  0  0  0  0  0  0]\n",
      " [ 0  0  0  0  0  0  0  0  0  0  0  0  0  0  0]\n",
      " [ 0  0  0  0  0  0  0  0  0  0  0  0  0  0  0]\n",
      " [ 0  0  0  0  0 42  0  0  0  0  0  0  0  0  0]\n",
      " [ 0  0  0  0  0  0  0  0  0  0  0  0  0  0  0]\n",
      " [ 0  0  0  0  0  0  0  0  0  0  0  0  0  0  0]\n",
      " [ 0  0  0  0  0  0  0  0  0  0  0  0  0  0  0]\n",
      " [ 0  0  0  0  0  0  0  0  0  0  0  0  0  0  0]\n",
      " [ 0  0  0  0  0  0  0  0  0  0  0  0  0  0  0]\n",
      " [ 0  0  0  0  0  0  0  0  0  0  0  0  0  0  0]\n",
      " [ 0  0  0  0  0  0  0  0  0  0  0  0  0  0  0]]\n",
      "shape: (17, 17, 3)\n",
      "[[3 3 3 3 3 3 3 3 3 3 3 3 3 3 3 3 3]\n",
      " [3 0 0 0 0 0 0 0 0 0 0 0 0 0 0 0 3]\n",
      " [3 0 0 0 0 0 0 0 0 0 0 0 0 0 0 0 3]\n",
      " [3 0 0 0 0 0 0 0 0 0 0 0 0 0 0 0 3]\n",
      " [3 0 0 0 0 0 0 0 0 0 0 0 0 0 0 0 3]\n",
      " [3 0 0 0 1 1 2 1 0 0 0 0 0 0 0 0 3]\n",
      " [3 0 0 0 0 0 2 2 0 0 0 0 0 0 0 0 3]\n",
      " [3 0 0 0 0 2 2 1 0 0 0 0 0 0 0 0 3]\n",
      " [3 0 0 0 0 2 0 0 0 0 0 0 0 0 0 0 3]\n",
      " [3 0 0 0 1 0 0 0 0 0 2 0 0 0 0 0 3]\n",
      " [3 0 0 0 0 0 0 0 0 1 0 0 0 0 0 0 3]\n",
      " [3 0 0 0 0 0 0 0 0 0 0 0 0 0 0 0 3]\n",
      " [3 0 0 0 0 0 0 0 0 0 0 0 0 0 0 0 3]\n",
      " [3 0 0 0 0 0 0 0 0 0 0 0 0 0 0 0 3]\n",
      " [3 0 0 0 0 0 0 0 0 0 0 0 0 0 0 0 3]\n",
      " [3 0 0 0 0 0 0 0 0 0 0 0 0 0 0 0 3]\n",
      " [3 3 3 3 3 3 3 3 3 3 3 3 3 3 3 3 3]]\n"
     ]
    }
   ],
   "source": [
    "ex = examples[-63]\n",
    "print(len(ex), ex[0].shape, ex[2])\n",
    "print((np.array(ex[1]) * 100).reshape((15, 15)).astype(int))\n",
    "gt.print_channels(ex[0])"
   ],
   "metadata": {
    "collapsed": false,
    "pycharm": {
     "name": "#%%\n"
    }
   }
  },
  {
   "cell_type": "code",
   "execution_count": 96,
   "outputs": [
    {
     "name": "stdout",
     "output_type": "stream",
     "text": [
      "Potential: 19925.701171875\n",
      "Value Head: 127.12753295898438\n",
      "Policy Head: 544.2884521484375\n",
      "[[ 0  0  0  0  0  0  0  0  0  0  0  0  0  0  0]\n",
      " [ 0  0  0  0  0  0  0  0  0  0  0  0  0  0  0]\n",
      " [ 0  0  0  0  0  0  0  0  0  0  0  0  0  0  0]\n",
      " [ 0  0  0  0  0 64  0  0  0  0  0  0  0  0  0]\n",
      " [ 0  0  0  0  0  0  0  0  0  0  0  0  0  0  0]\n",
      " [ 0  0  0  0  0  0  0  0  0  0  0  0  0  0  0]\n",
      " [ 0  0  0  0  0  0  0  0  0  0  0  0  0  0  0]\n",
      " [ 0  0  0  0  0 34  0  0  0  0  0  0  0  0  0]\n",
      " [ 0  0  0  0  0  0  0  0  0  0  0  0  0  0  0]\n",
      " [ 0  0  0  0  0  0  0  0  0  0  0  0  0  0  0]\n",
      " [ 0  0  0  0  0  0  0  0  0  0  0  0  0  0  0]\n",
      " [ 0  0  0  0  0  0  0  0  0  0  0  0  0  0  0]\n",
      " [ 0  0  0  0  0  0  0  0  0  0  0  0  0  0  0]\n",
      " [ 0  0  0  0  0  0  0  0  0  0  0  0  0  0  0]\n",
      " [ 0  0  0  0  0  0  0  0  0  0  0  0  0  0  0]]\n",
      "\n",
      "Value: 0\n"
     ]
    }
   ],
   "source": [
    "sample = np.expand_dims(ex[0], axis=0).astype(float)\n",
    "p, v = the_model.predict(sample, debug=True)\n",
    "print((p*100).numpy().reshape((15, 15)).astype(int))\n",
    "print()\n",
    "print(f\"Value: {int(v)}\")"
   ],
   "metadata": {
    "collapsed": false,
    "pycharm": {
     "name": "#%%\n"
    }
   }
  },
  {
   "cell_type": "code",
   "execution_count": 97,
   "outputs": [
    {
     "data": {
      "text/plain": "(<tf.Tensor: shape=(1, 225), dtype=float32, numpy=\n array([[5.76169157e-09, 5.76169157e-09, 5.76169157e-09, 5.76169157e-09,\n         5.76169157e-09, 5.76169157e-09, 5.76169157e-09, 5.76169157e-09,\n         5.76169157e-09, 5.76169157e-09, 5.76169157e-09, 5.76169157e-09,\n         5.76169157e-09, 5.76169157e-09, 5.76169157e-09, 5.76169157e-09,\n         5.76169157e-09, 5.76169157e-09, 3.54968591e-07, 4.57600493e-07,\n         9.93860070e-08, 4.47423247e-07, 5.76169157e-09, 5.76169157e-09,\n         5.76169157e-09, 7.04863545e-09, 5.76169157e-09, 5.76169157e-09,\n         5.76169157e-09, 5.76169157e-09, 5.76169157e-09, 6.48180460e-08,\n         2.55856207e-07, 1.52570392e-05, 6.63501623e-06, 2.01285943e-07,\n         2.06938697e-08, 2.00636555e-06, 1.15401768e-07, 1.29629418e-08,\n         5.76169157e-09, 5.76169157e-09, 5.76169157e-09, 5.76169157e-09,\n         5.76169157e-09, 5.76169157e-09, 2.69936663e-07, 9.82684651e-05,\n         6.50489665e-06, 4.03189770e-04, 6.48846984e-01, 1.05145125e-06,\n         8.57441482e-05, 1.72129767e-05, 5.76169157e-09, 5.76169157e-09,\n         5.76169157e-09, 5.76169157e-09, 5.76169157e-09, 5.76169157e-09,\n         5.76169157e-09, 3.94790322e-06, 2.52684607e-04, 1.09628479e-06,\n         4.83835320e-05, 1.44809553e-06, 8.43213854e-07, 2.32010916e-06,\n         2.07099929e-05, 4.83858074e-08, 5.76169157e-09, 5.76169157e-09,\n         5.76169157e-09, 5.76169157e-09, 1.17153590e-07, 5.76169157e-09,\n         1.52547909e-06, 6.04842353e-06, 5.21034875e-04, 7.65549601e-04,\n         1.11296863e-07, 4.27601293e-07, 3.77605211e-05, 2.73945159e-04,\n         3.01344670e-07, 1.54975601e-06, 7.34816386e-09, 9.84681758e-09,\n         5.76169157e-09, 5.76169157e-09, 5.76169157e-09, 6.81930601e-07,\n         2.94913252e-06, 3.64989282e-05, 2.62841780e-07, 3.07467438e-08,\n         1.21694939e-07, 2.34408901e-04, 2.13411667e-07, 3.56368946e-06,\n         5.10846441e-08, 2.54620058e-08, 5.76169157e-09, 5.76169157e-09,\n         5.76169157e-09, 5.76169157e-09, 1.08459053e-05, 1.66198288e-06,\n         9.26761713e-05, 7.44283341e-07, 3.47835749e-01, 2.27939017e-05,\n         8.60384171e-06, 4.46896629e-05, 1.55569467e-07, 4.52456050e-07,\n         3.46893749e-08, 2.56515271e-08, 5.76169157e-09, 5.76169157e-09,\n         5.76169157e-09, 5.76169157e-09, 4.79762257e-08, 5.09366373e-07,\n         1.38883333e-04, 2.66276347e-05, 1.09978928e-05, 3.26512527e-05,\n         1.78780806e-06, 2.24011472e-07, 3.80689684e-08, 1.44194382e-06,\n         3.43686430e-08, 5.76169157e-09, 5.76169157e-09, 5.76169157e-09,\n         2.24136372e-08, 5.76169157e-09, 5.76169157e-09, 3.04296427e-05,\n         5.17621447e-06, 4.88198168e-07, 5.93072264e-06, 6.49833282e-07,\n         3.50362438e-06, 1.38804023e-06, 2.30636871e-07, 5.76169157e-09,\n         5.76169157e-09, 5.76169157e-09, 5.76169157e-09, 3.65988377e-08,\n         5.76169157e-09, 5.76169157e-09, 1.22569945e-08, 5.76169157e-09,\n         8.18947186e-08, 7.73263551e-08, 1.28047247e-06, 5.46080628e-07,\n         2.12116916e-07, 1.06408743e-05, 2.27566161e-08, 5.76169157e-09,\n         5.76169157e-09, 5.76169157e-09, 5.76169157e-09, 5.76169157e-09,\n         5.76169157e-09, 5.76169157e-09, 5.76169157e-09, 7.71983899e-09,\n         5.76169157e-09, 6.85917767e-09, 2.41474840e-08, 5.76169157e-09,\n         5.76169157e-09, 1.96362589e-06, 5.76169157e-09, 5.76169157e-09,\n         5.76169157e-09, 5.76169157e-09, 5.76169157e-09, 5.76169157e-09,\n         5.76169157e-09, 5.76169157e-09, 5.76169157e-09, 5.76169157e-09,\n         5.76169157e-09, 5.76169157e-09, 5.76169157e-09, 1.04935361e-06,\n         5.76169157e-09, 5.76169157e-09, 5.76169157e-09, 5.76169157e-09,\n         5.76169157e-09, 5.76169157e-09, 5.76169157e-09, 5.76169157e-09,\n         5.76169157e-09, 5.76169157e-09, 5.76169157e-09, 5.76169157e-09,\n         5.76169157e-09, 5.76169157e-09, 5.76169157e-09, 5.76169157e-09,\n         5.76169157e-09, 5.76169157e-09, 5.76169157e-09, 5.76169157e-09,\n         5.76169157e-09, 5.76169157e-09, 5.76169157e-09, 5.76169157e-09,\n         5.76169157e-09, 5.76169157e-09, 5.76169157e-09, 5.76169157e-09,\n         5.76169157e-09, 5.76169157e-09, 5.76169157e-09, 5.76169157e-09,\n         5.76169157e-09]], dtype=float32)>,\n <tf.Tensor: shape=(1, 1), dtype=float32, numpy=array([[-0.8603582]], dtype=float32)>)"
     },
     "execution_count": 97,
     "metadata": {},
     "output_type": "execute_result"
    }
   ],
   "source": [
    "the_model.predict(sample)"
   ],
   "metadata": {
    "collapsed": false,
    "pycharm": {
     "name": "#%%\n"
    }
   }
  },
  {
   "cell_type": "code",
   "execution_count": 98,
   "outputs": [],
   "source": [
    "board = GomokuBoard(15, math_rep=ex[0])\n",
    "sample = np.expand_dims(ex[0], axis=0).astype(float)\n",
    "p, v = the_model.predict(sample)"
   ],
   "metadata": {
    "collapsed": false,
    "pycharm": {
     "name": "#%%\n"
    }
   }
  },
  {
   "cell_type": "code",
   "execution_count": 104,
   "outputs": [
    {
     "name": "stdout",
     "output_type": "stream",
     "text": [
      "I9\n",
      "                                                     \n",
      "15    .  .  .  .  .  .  .  .  .  .  .  .  .  .  .    \n",
      "14    .  .  .  .  .  .  .  .  .  .  .  .  .  .  .    \n",
      "13    .  .  .  .  .  .  .  .  .  .  .  .  .  .  .    \n",
      "12    .  .  .  .  .  X  .  .  .  .  .  .  .  .  .    \n",
      "11    .  .  .  X  X  O  X  .  .  .  .  .  .  .  .    \n",
      "10    .  .  .  .  X  O  O  O  .  .  .  .  .  .  .    \n",
      " 9    .  .  .  .  O  O  X  O [X] .  .  .  .  .  .    \n",
      " 8    .  .  .  .  O  .  .  .  .  .  .  .  .  .  .    \n",
      " 7    .  .  .  X  .  .  .  .  .  O  .  .  .  .  .    \n",
      " 6    .  .  .  .  .  .  .  .  X  .  .  .  .  .  .    \n",
      " 5    .  .  .  .  .  .  .  .  .  .  .  .  .  .  .    \n",
      " 4    .  .  .  .  .  .  .  .  .  .  .  .  .  .  .    \n",
      " 3    .  .  .  .  .  .  .  .  .  .  .  .  .  .  .    \n",
      " 2    .  .  .  .  .  .  .  .  .  .  .  .  .  .  .    \n",
      " 1    .  .  .  .  .  .  .  .  .  .  .  .  .  .  .    \n",
      "                                                     \n",
      "      A  B  C  D  E  F  G  H  I  J  K  L  M  N  O\n"
     ]
    }
   ],
   "source": [
    "best_move = board.stone(np.argmax(p))\n",
    "print(board.stone(best_move.i))\n",
    "board.act(best_move)\n",
    "board.plot()\n",
    "sample = np.expand_dims(board.math_rep, axis=0).astype(float)\n",
    "p, v = the_model.predict(sample)\n"
   ],
   "metadata": {
    "collapsed": false,
    "pycharm": {
     "name": "#%%\n"
    }
   }
  },
  {
   "cell_type": "code",
   "execution_count": 103,
   "outputs": [
    {
     "data": {
      "text/plain": "F12"
     },
     "execution_count": 103,
     "metadata": {},
     "output_type": "execute_result"
    }
   ],
   "source": [
    "board.stone(50)"
   ],
   "metadata": {
    "collapsed": false,
    "pycharm": {
     "name": "#%%\n"
    }
   }
  },
  {
   "cell_type": "code",
   "execution_count": 68,
   "outputs": [
    {
     "name": "stdout",
     "output_type": "stream",
     "text": [
      "                                                     \n",
      "15    .  .  .  .  .  .  .  .  .  .  .  .  .  .  .    \n",
      "14    .  .  .  .  .  .  .  .  .  .  .  .  .  .  .    \n",
      "13    .  .  .  .  .  .  .  .  .  .  .  .  .  .  .    \n",
      "12    .  .  .  .  .  .  .  .  .  .  .  .  .  .  .    \n",
      "11    .  .  .  X  X  O  X  .  .  .  .  .  .  .  .    \n",
      "10    .  .  .  .  .  O  O  .  .  .  .  .  .  .  .    \n",
      " 9    .  .  .  .  O  O  X  .  .  .  .  .  .  .  .    \n",
      " 8    .  .  .  .  O  .  .  .  .  .  .  .  .  .  .    \n",
      " 7    .  .  .  X  .  .  .  .  .  O  .  .  .  .  .    \n",
      " 6    .  .  .  .  .  .  .  .  X  .  .  .  .  .  .    \n",
      " 5    .  .  .  .  .  .  .  .  .  .  .  .  .  .  .    \n",
      " 4    .  .  .  .  .  .  .  .  .  .  .  .  .  .  .    \n",
      " 3    .  .  .  .  .  .  .  .  .  .  .  .  .  .  .    \n",
      " 2    .  .  .  .  .  .  .  .  .  .  .  .  .  .  .    \n",
      " 1    .  .  .  .  .  .  .  .  .  .  .  .  .  .  .    \n",
      "                                                     \n",
      "      A  B  C  D  E  F  G  H  I  J  K  L  M  N  O\n"
     ]
    }
   ],
   "source": [
    "board.plot()"
   ],
   "metadata": {
    "collapsed": false,
    "pycharm": {
     "name": "#%%\n"
    }
   }
  },
  {
   "cell_type": "code",
   "execution_count": 56,
   "outputs": [
    {
     "name": "stdout",
     "output_type": "stream",
     "text": [
      "shape: (17, 17, 3)\n",
      "[[3 3 3 3 3 3 3 3 3 3 3 3 3 3 3 3 3]\n",
      " [3 0 0 0 0 0 0 0 0 0 0 0 0 0 0 0 3]\n",
      " [3 0 0 0 0 0 0 0 0 0 0 0 0 0 0 0 3]\n",
      " [3 0 0 0 0 0 0 0 0 0 0 0 0 0 0 0 3]\n",
      " [3 0 0 0 0 0 0 0 0 0 0 0 0 0 0 0 3]\n",
      " [3 0 0 0 1 1 2 1 0 0 0 0 0 0 0 0 3]\n",
      " [3 0 0 0 0 0 2 2 0 0 0 0 0 0 0 0 3]\n",
      " [3 0 0 0 0 2 2 1 0 0 0 0 0 0 0 0 3]\n",
      " [3 0 0 0 0 2 0 0 0 0 0 0 0 0 0 0 3]\n",
      " [3 0 0 0 1 0 0 0 0 0 2 0 0 0 0 0 3]\n",
      " [3 0 0 0 0 0 0 0 0 1 0 0 0 0 0 0 3]\n",
      " [3 0 0 0 0 0 0 0 0 0 0 0 0 0 0 0 3]\n",
      " [3 0 0 0 0 0 0 0 0 0 0 0 0 0 0 0 3]\n",
      " [3 0 0 0 0 0 0 0 0 0 0 0 0 0 0 0 3]\n",
      " [3 0 0 0 0 0 0 0 0 0 0 0 0 0 0 0 3]\n",
      " [3 0 0 0 0 0 0 0 0 0 0 0 0 0 0 0 3]\n",
      " [3 3 3 3 3 3 3 3 3 3 3 3 3 3 3 3 3]]\n"
     ]
    }
   ],
   "source": [
    "gt.print_channels(ex[0])"
   ],
   "metadata": {
    "collapsed": false,
    "pycharm": {
     "name": "#%%\n"
    }
   }
  },
  {
   "cell_type": "code",
   "execution_count": 58,
   "outputs": [
    {
     "data": {
      "text/plain": "array([[0, 0, 0, 0, 0, 0, 0, 0, 0, 0, 0, 0, 0, 0, 0, 0, 0],\n       [0, 0, 0, 0, 0, 0, 0, 0, 0, 0, 0, 0, 0, 0, 0, 0, 0],\n       [0, 0, 0, 0, 0, 0, 0, 0, 0, 0, 0, 0, 0, 0, 0, 0, 0],\n       [0, 0, 0, 0, 0, 0, 0, 0, 0, 0, 0, 0, 0, 0, 0, 0, 0],\n       [0, 0, 0, 0, 0, 0, 0, 0, 0, 0, 0, 0, 0, 0, 0, 0, 0],\n       [0, 0, 0, 0, 0, 0, 1, 0, 0, 0, 0, 0, 0, 0, 0, 0, 0],\n       [0, 0, 0, 0, 0, 0, 1, 1, 0, 0, 0, 0, 0, 0, 0, 0, 0],\n       [0, 0, 0, 0, 0, 1, 1, 0, 0, 0, 0, 0, 0, 0, 0, 0, 0],\n       [0, 0, 0, 0, 0, 1, 0, 0, 0, 0, 0, 0, 0, 0, 0, 0, 0],\n       [0, 0, 0, 0, 0, 0, 0, 0, 0, 0, 1, 0, 0, 0, 0, 0, 0],\n       [0, 0, 0, 0, 0, 0, 0, 0, 0, 0, 0, 0, 0, 0, 0, 0, 0],\n       [0, 0, 0, 0, 0, 0, 0, 0, 0, 0, 0, 0, 0, 0, 0, 0, 0],\n       [0, 0, 0, 0, 0, 0, 0, 0, 0, 0, 0, 0, 0, 0, 0, 0, 0],\n       [0, 0, 0, 0, 0, 0, 0, 0, 0, 0, 0, 0, 0, 0, 0, 0, 0],\n       [0, 0, 0, 0, 0, 0, 0, 0, 0, 0, 0, 0, 0, 0, 0, 0, 0],\n       [0, 0, 0, 0, 0, 0, 0, 0, 0, 0, 0, 0, 0, 0, 0, 0, 0],\n       [0, 0, 0, 0, 0, 0, 0, 0, 0, 0, 0, 0, 0, 0, 0, 0, 0]])"
     },
     "execution_count": 58,
     "metadata": {},
     "output_type": "execute_result"
    }
   ],
   "source": [
    "ex[0][:,:, 1]"
   ],
   "metadata": {
    "collapsed": false,
    "pycharm": {
     "name": "#%%\n"
    }
   }
  },
  {
   "cell_type": "code",
   "execution_count": null,
   "outputs": [],
   "source": [],
   "metadata": {
    "collapsed": false,
    "pycharm": {
     "name": "#%%\n"
    }
   }
  }
 ],
 "metadata": {
  "kernelspec": {
   "display_name": "Python 3",
   "language": "python",
   "name": "python3"
  },
  "language_info": {
   "codemirror_mode": {
    "name": "ipython",
    "version": 2
   },
   "file_extension": ".py",
   "mimetype": "text/x-python",
   "name": "python",
   "nbconvert_exporter": "python",
   "pygments_lexer": "ipython2",
   "version": "2.7.6"
  }
 },
 "nbformat": 4,
 "nbformat_minor": 0
}