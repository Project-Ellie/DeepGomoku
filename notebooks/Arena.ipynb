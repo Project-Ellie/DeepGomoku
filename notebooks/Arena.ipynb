{
 "cells": [
  {
   "cell_type": "code",
   "execution_count": 1,
   "outputs": [],
   "source": [
    "%load_ext autoreload\n",
    "%autoreload 2"
   ],
   "metadata": {
    "collapsed": false
   }
  },
  {
   "cell_type": "code",
   "execution_count": 5,
   "outputs": [
    {
     "data": {
      "text/plain": "[LogicalDevice(name='/device:GPU:0', device_type='GPU')]"
     },
     "execution_count": 5,
     "metadata": {},
     "output_type": "execute_result"
    }
   ],
   "source": [
    "from aegomoku.gomoku_game import ConstantBoardInitializer, GomokuGame\n",
    "from aegomoku.arena import Arena\n",
    "from aegomoku.interfaces import MctsParams, PolicyParams\n",
    "from aegomoku.gomoku_players import PolicyAdvisedGraphSearchPlayer\n",
    "import tensorflow as tf\n",
    "tf.config.list_logical_devices('GPU')"
   ],
   "metadata": {
    "collapsed": false
   }
  },
  {
   "cell_type": "code",
   "execution_count": 3,
   "outputs": [],
   "source": [
    "from setup_local import DATA_PATH\n",
    "\n",
    "BOARD_SIZE = 19"
   ],
   "metadata": {
    "collapsed": false
   }
  },
  {
   "cell_type": "code",
   "execution_count": 32,
   "outputs": [],
   "source": [
    "from aegomoku.gomoku_game import RandomBoardInitializer\n",
    "initializer = RandomBoardInitializer(BOARD_SIZE, 2, 9, 11, 9, 11)\n",
    "\n",
    "the_game = GomokuGame(board_size=BOARD_SIZE, initializer=initializer)\n",
    "\n",
    "model_file = DATA_PATH / 'models' / '2_c1.model'\n",
    "mcts_champion = MctsParams(cpuct=1.0, temperature=0, num_simulations=10)\n",
    "policy_champion = PolicyParams(model_file_name=model_file, advice_cutoff=.01)\n",
    "player1 = PolicyAdvisedGraphSearchPlayer(\"Champion 2_c1\", the_game, mcts_champion, policy_champion)\n",
    "\n",
    "model_file = DATA_PATH / 'models' / '3_c2.model'\n",
    "mcts_challenger = MctsParams(cpuct=1.0, temperature=0, num_simulations=10)\n",
    "policy_challenger = PolicyParams(model_file_name=model_file, advice_cutoff=.01)\n",
    "player2 = PolicyAdvisedGraphSearchPlayer(\"Candidate 3_c2\", the_game, mcts_challenger, policy_challenger)\n",
    "\n",
    "arena = Arena(game=the_game, player1=player1, player2=player2, max_moves=4)"
   ],
   "metadata": {
    "collapsed": false
   }
  },
  {
   "cell_type": "code",
   "execution_count": 33,
   "outputs": [
    {
     "name": "stdout",
     "output_type": "stream",
     "text": [
      "Champion 2_c1 to begin with black.\n",
      "1: Champion 2_c1: K7\n",
      "2: Candidate 3_c2: N10\n",
      "3: Champion 2_c1: J6\n",
      "4: Candidate 3_c2: K9\n",
      "Draw after 4 moves.\n"
     ]
    }
   ],
   "source": [
    "arena.play_game(verbose=2)"
   ],
   "metadata": {
    "collapsed": false
   }
  },
  {
   "cell_type": "markdown",
   "source": [
    "# TODO: Arena needs to respect the gamestate"
   ],
   "metadata": {
    "collapsed": false
   }
  },
  {
   "cell_type": "code",
   "execution_count": 34,
   "outputs": [
    {
     "name": "stdout",
     "output_type": "stream",
     "text": [
      "                                                                 \n",
      "19    .  .  .  .  .  .  .  .  .  .  .  .  .  .  .  .  .  .  .    \n",
      "18    .  .  .  .  .  .  .  .  .  .  .  .  .  .  .  .  .  .  .    \n",
      "17    .  .  .  .  .  .  .  .  .  .  .  .  .  .  .  .  .  .  .    \n",
      "16    .  .  .  .  .  .  .  .  .  .  .  .  .  .  .  .  .  .  .    \n",
      "15    .  .  .  .  .  .  .  .  .  .  .  .  .  .  .  .  .  .  .    \n",
      "14    .  .  .  .  .  .  .  .  .  .  .  .  .  .  .  .  .  .  .    \n",
      "13    .  .  .  .  .  .  .  .  .  .  .  .  .  .  .  .  .  .  .    \n",
      "12    .  .  .  .  .  .  .  .  .  .  .  .  .  .  .  .  .  .  .    \n",
      "11    .  .  .  .  .  .  .  .  .  .  .  .  .  .  .  .  .  .  .    \n",
      "10    .  .  .  .  .  .  .  .  .  .  .  .  .  O  .  .  .  .  .    \n",
      " 9    .  .  .  .  .  .  .  .  .  . [O] .  .  .  .  .  .  .  .    \n",
      " 8    .  .  .  .  .  .  .  .  .  O  .  X  .  .  .  .  .  .  .    \n",
      " 7    .  .  .  .  .  .  .  .  .  .  X  .  .  .  .  .  .  .  .    \n",
      " 6    .  .  .  .  .  .  .  .  .  X  .  .  .  .  .  .  .  .  .    \n",
      " 5    .  .  .  .  .  .  .  .  .  .  .  .  .  .  .  .  .  .  .    \n",
      " 4    .  .  .  .  .  .  .  .  .  .  .  .  .  .  .  .  .  .  .    \n",
      " 3    .  .  .  .  .  .  .  .  .  .  .  .  .  .  .  .  .  .  .    \n",
      " 2    .  .  .  .  .  .  .  .  .  .  .  .  .  .  .  .  .  .  .    \n",
      " 1    .  .  .  .  .  .  .  .  .  .  .  .  .  .  .  .  .  .  .    \n",
      "                                                                 \n",
      "      A  B  C  D  E  F  G  H  I  J  K  L  M  N  O  P  Q  R  S\n"
     ]
    }
   ],
   "source": [
    "arena.board.plot()"
   ],
   "metadata": {
    "collapsed": false
   }
  },
  {
   "cell_type": "code",
   "execution_count": 35,
   "outputs": [],
   "source": [
    "arena_file = DATA_PATH / 'arena' / '3_c2.arena'"
   ],
   "metadata": {
    "collapsed": false
   }
  },
  {
   "cell_type": "code",
   "execution_count": 36,
   "outputs": [
    {
     "name": "stdout",
     "output_type": "stream",
     "text": [
      "Game 1: Champion 2_c1 to begin with black.\n",
      "Draw after 4 moves.\n",
      "[L8, J9, M9, I8, K7, J6]\n",
      "Game 2: Candidate 3_c2 to begin with black.\n",
      "Draw after 4 moves.\n",
      "[L8, J8, K7, L10, K9, K8]\n",
      "Saved gameplay data to /Users/wgiersche/workspace/Project-Ellie/DeepGomoku/DATA/arena/3_c2.arena\n"
     ]
    }
   ],
   "source": [
    "stats = arena.play_games(2, verbose=1, save_to=arena_file)"
   ],
   "metadata": {
    "collapsed": false
   }
  },
  {
   "cell_type": "code",
   "execution_count": 37,
   "outputs": [
    {
     "data": {
      "text/plain": "{Champion 2_c1: 0, Candidate 3_c2: 0, 'draws': 2}"
     },
     "execution_count": 37,
     "metadata": {},
     "output_type": "execute_result"
    }
   ],
   "source": [
    "stats"
   ],
   "metadata": {
    "collapsed": false
   }
  },
  {
   "cell_type": "code",
   "execution_count": 38,
   "outputs": [],
   "source": [
    "n=0"
   ],
   "metadata": {
    "collapsed": false
   }
  },
  {
   "cell_type": "code",
   "execution_count": 40,
   "outputs": [
    {
     "data": {
      "text/plain": "<Figure size 600x600 with 1 Axes>",
      "image/png": "[encoded data removed]"
     },
     "metadata": {},
     "output_type": "display_data"
    }
   ],
   "source": [
    "from aegomoku.utils import analyse_board\n",
    "moves = arena.board.stones\n",
    "from aegomoku.policies.topological_value import TopologicalValuePolicy\n",
    "\n",
    "policy = TopologicalValuePolicy(board_size=19)\n",
    "\n",
    "analyse_board(BOARD_SIZE, arena.games[n], policy, disp_width=6)\n",
    "n += 1"
   ],
   "metadata": {
    "collapsed": false
   }
  },
  {
   "cell_type": "code",
   "execution_count": null,
   "outputs": [],
   "source": [],
   "metadata": {
    "collapsed": false
   }
  }
 ],
 "metadata": {
  "kernelspec": {
   "display_name": "Python 3",
   "language": "python",
   "name": "python3"
  },
  "language_info": {
   "codemirror_mode": {
    "name": "ipython",
    "version": 2
   },
   "file_extension": ".py",
   "mimetype": "text/x-python",
   "name": "python",
   "nbconvert_exporter": "python",
   "pygments_lexer": "ipython2",
   "version": "2.7.6"
  }
 },
 "nbformat": 4,
 "nbformat_minor": 0
}
