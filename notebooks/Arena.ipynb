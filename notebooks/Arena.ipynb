{
 "cells": [
  {
   "cell_type": "markdown",
   "source": [
    "# The Arena\n",
    "### Pitting contenders against each other"
   ],
   "metadata": {
    "collapsed": false,
    "pycharm": {
     "name": "#%% md\n"
    }
   }
  },
  {
   "cell_type": "code",
   "execution_count": 1,
   "outputs": [],
   "source": [
    "from tqdm import tqdm\n",
    "from domoku.policies.softadvice import MaxInfluencePolicyParams, MaxInfluencePolicy\n",
    "from domoku.policies.maximal_criticality import MaxCriticalityPolicy\n",
    "from domoku.policies import softadvice\n",
    "from alphazero.gomoku_game import GomokuGame as Game\n",
    "from alphazero.mcts import MCTS\n",
    "from alphazero.gomoku_board import *"
   ],
   "metadata": {
    "collapsed": false,
    "pycharm": {
     "name": "#%%\n"
    }
   }
  },
  {
   "cell_type": "code",
   "execution_count": 2,
   "outputs": [
    {
     "name": "stderr",
     "output_type": "stream",
     "text": [
      "2022-06-18 17:49:46.946341: I tensorflow/core/platform/cpu_feature_guard.cc:193] This TensorFlow binary is optimized with oneAPI Deep Neural Network Library (oneDNN) to use the following CPU instructions in performance-critical operations:  AVX2 FMA\n",
      "To enable them in other operations, rebuild TensorFlow with the appropriate compiler flags.\n",
      "/Users/wgiersche/.local/share/virtualenvs/DeepGomoku-cXtJ_EtM/lib/python3.10/site-packages/numpy/core/fromnumeric.py:2007: VisibleDeprecationWarning: Creating an ndarray from ragged nested sequences (which is a list-or-tuple of lists-or-tuples-or ndarrays with different lengths or shapes) is deprecated. If you meant to do this, you must specify 'dtype=object' when creating the ndarray.\n",
      "  result = asarray(a).shape\n"
     ]
    }
   ],
   "source": [
    "BOARD_SIZE=15\n",
    "detector = MaxCriticalityPolicy(BOARD_SIZE)\n",
    "the_game = Game(15, detector=detector, initial='H8')"
   ],
   "metadata": {
    "collapsed": false,
    "pycharm": {
     "name": "#%%\n"
    }
   }
  },
  {
   "cell_type": "code",
   "execution_count": 3,
   "outputs": [],
   "source": [
    "def given_heuristic_brain():\n",
    "    hard_policy = MaxCriticalityPolicy(board_size=BOARD_SIZE, overconfidence=2.0)\n",
    "    mi_params = MaxInfluencePolicyParams(\n",
    "        board_size=BOARD_SIZE,\n",
    "        sigma=.6,\n",
    "        iota=6,\n",
    "        radial_constr=[.0625, .125, .25, .5],\n",
    "        radial_obstr=[-.0625, -.125, -.25, -.5]\n",
    "    )\n",
    "    policy = MaxInfluencePolicy(mi_params, criticality_model=hard_policy, pov=1)\n",
    "    return softadvice.NeuralNetAdapter(policy)\n",
    "\n",
    "\n",
    "def longest_trajectory(ts):\n",
    "    depths = [v.level for v in ts.tree_nodes.values()]\n",
    "    mx = max(depths)\n",
    "    return [v for v in ts.tree_nodes.values() if v.level == mx][0]\n",
    "\n",
    "\n",
    "def summary(ts: MCTS, board: Board):\n",
    "\n",
    "    return longest_trajectory(ts)"
   ],
   "metadata": {
    "collapsed": false,
    "pycharm": {
     "name": "#%%\n"
    }
   }
  },
  {
   "cell_type": "code",
   "execution_count": 4,
   "outputs": [],
   "source": [
    "brain_d = given_heuristic_brain()\n",
    "mcts_d = MCTS(the_game, brain_d, cpuct=1.0, num_simulations=20, model_threshold=.6)\n",
    "\n",
    "brain_c = given_heuristic_brain()\n",
    "mcts_c = MCTS(the_game, brain_c, cpuct=1.0, num_simulations=50, model_threshold=.9)\n",
    "\n",
    "board = the_game.get_initial_board()\n",
    "Move=board.Stone"
   ],
   "metadata": {
    "collapsed": false,
    "pycharm": {
     "name": "#%%\n"
    }
   }
  },
  {
   "cell_type": "code",
   "execution_count": 8,
   "outputs": [
    {
     "name": "stdout",
     "output_type": "stream",
     "text": [
      "G11\n",
      "                                                     \n",
      "15    .  .  .  .  .  .  .  .  .  .  .  .  .  .  .    \n",
      "14    .  .  .  .  .  .  .  .  .  .  .  .  .  .  .    \n",
      "13    .  .  .  .  .  .  .  .  .  .  .  .  .  .  .    \n",
      "12    .  .  .  .  .  .  .  .  .  .  .  .  .  .  .    \n",
      "11    .  .  .  .  .  . [X] .  .  .  .  .  .  .  .    \n",
      "10    .  .  .  .  .  .  .  X  .  .  .  .  .  .  .    \n",
      " 9    .  .  .  .  .  .  .  .  O  .  .  .  .  .  .    \n",
      " 8    .  .  .  .  .  .  .  X  .  .  .  .  .  .  .    \n",
      " 7    .  .  .  .  .  .  .  O  .  .  .  .  .  .  .    \n",
      " 6    .  .  .  .  .  .  .  .  .  .  .  .  .  .  .    \n",
      " 5    .  .  .  .  .  .  .  .  .  .  .  .  .  .  .    \n",
      " 4    .  .  .  .  .  .  .  .  .  .  .  .  .  .  .    \n",
      " 3    .  .  .  .  .  .  .  .  .  .  .  .  .  .  .    \n",
      " 2    .  .  .  .  .  .  .  .  .  .  .  .  .  .  .    \n",
      " 1    .  .  .  .  .  .  .  .  .  .  .  .  .  .  .    \n",
      "                                                     \n",
      "      A  B  C  D  E  F  G  H  I  J  K  L  M  N  O\n",
      "-1742325376912623003\n",
      "[H8, H7, H10, I9, G11, G10, J7, J6, I6, H5, G6, F8, F9, F10]: -0.0002626235072966665\n",
      "                            \n"
     ]
    }
   ],
   "source": [
    "probs = mcts_c.get_action_prob(board, temperature=0)\n",
    "move =Move(probs)\n",
    "print(move)\n",
    "board.act(move)\n",
    "board.plot()\n",
    "longest = summary(mcts_c, board)\n",
    "print(longest.key)\n",
    "print(longest)"
   ],
   "metadata": {
    "collapsed": false,
    "pycharm": {
     "name": "#%%\n"
    }
   }
  },
  {
   "cell_type": "code",
   "execution_count": 9,
   "outputs": [
    {
     "name": "stdout",
     "output_type": "stream",
     "text": [
      "3566410095357358075\n"
     ]
    },
    {
     "data": {
      "text/plain": "[H8, H7, H10, I9, G11]: -0.000505605770740658\n          [H8, H7, H10, I9, G11, F10]: -0.00035544356796890497\n            [H8, H7, H10, I9, G11, F10, H11]: -0.10000350326299667\n              [H8, H7, H10, I9, G11, F10, H11, I11]: -0.19749604165554047\n                \n              [H8, H7, H10, I9, G11, F10, H11, H12]: -0.19752980768680573\n                \n          [H8, H7, H10, I9, G11, G10]: -0.00031858269358053803\n            [H8, H7, H10, I9, G11, G10, I8]: -0.09982689470052719\n              [H8, H7, H10, I9, G11, G10, I8, J8]: -0.0002790181606542319\n                \n              [H8, H7, H10, I9, G11, G10, I8, K8]: -0.0002640417660586536\n                \n              [H8, H7, H10, I9, G11, G10, I8, G8]: -0.09994640201330185\n                \n            [H8, H7, H10, I9, G11, G10, I6]: -0.00024659588234499097\n              [H8, H7, H10, I9, G11, G10, I6, J6]: -0.0002854165795724839\n                [H8, H7, H10, I9, G11, G10, I6, J6, J7]: -0.0998118445277214\n                  [H8, H7, H10, I9, G11, G10, J7, J6, I6, K8]: -0.0003362413845025003\n                    [H8, H7, H10, I9, G11, G10, J7, J6, I6, K8, J9]: -0.00030927968327887356\n                      [H8, H7, H10, I9, G11, G10, J7, J6, I6, K8, J9, I11]: -0.09977596998214722\n                        [H8, H7, H10, I9, G11, G10, J7, J6, I6, K8, J9, I11, I12]: -0.00024817968369461596\n                          \n                [H8, H7, H10, I9, G11, G10, I6, J6, J8]: -0.09981424361467361\n                  \n              [H8, H7, H10, I9, G11, G10, I6, I5]: -0.000275980681180954\n                \n            [H8, H7, H10, I9, G11, G10, J7]: -0.00023666249762754887\n              [H8, H7, H10, I9, G11, G10, J7, J6]: -0.00030497557600028813\n                [H8, H7, H10, I9, G11, G10, J7, J6, I6]: 0.0003362413845025003\n                  [H8, H7, H10, I9, G11, G10, J7, J6, I6, H5]: -0.00033929356141015887\n                    [H8, H7, H10, I9, G11, G10, J7, J6, I6, H5, G6]: -0.0002621685853227973\n                      [H8, H7, H10, I9, G11, G10, J7, J6, I6, H5, G6, F8]: -0.000291171862045303\n                        [H8, H7, H10, I9, G11, G10, J7, J6, I6, H5, G6, F8, F9]: -0.00028105388628318906\n                          [H8, H7, H10, I9, G11, G10, J7, J6, I6, H5, G6, F8, F9, F10]: -0.0002626235072966665\n                            \n                    [H8, H7, H10, I9, G11, G10, J7, J6, I6, H5, G5]: -0.00021115757408551872\n                      [H8, H7, H10, I9, G11, G10, J7, J6, I6, H5, G5, H12]: -0.00021469069179147482\n                        [H8, H7, H10, I9, G11, G10, J7, J6, I6, H5, G5, H12, F6]: -0.10003643482923508\n                          \n                      [H8, H7, H10, I9, G11, G10, J7, J6, I6, H5, G5, I11]: -0.09991621971130371\n                        \n                      [H8, H7, H10, I9, G11, G10, J7, J6, I6, H5, G5, F10]: -0.0003155386366415769\n                        \n                  [H8, H7, H10, I9, G11, G10, J7, J6, I6, L9]: -0.09993529319763184\n                    [H8, H7, H10, I9, G11, G10, J7, J6, I6, L9, K9]: -0.00029249058570712805\n                      [H8, H7, H10, I9, G11, G10, J7, J6, I6, L9, K9, I11]: -0.09985329955816269\n                        \n                      [H8, H7, H10, I9, G11, G10, J7, J6, I6, L9, K9, H12]: -0.000345827080309391\n                        \n                    [H8, H7, H10, I9, G11, G10, J7, J6, I6, L9, J9]: -0.0003290462482254952\n                      [H8, H7, H10, I9, G11, G10, J7, J6, I6, L9, J9, I11]: -0.09984669834375381\n                        \n                      [H8, H7, H10, I9, G11, G10, J7, J6, I6, L9, J9, H11]: -0.09981092065572739\n                        \n                  [H8, H7, H10, I9, G11, G10, J7, J6, I6, K8]: -1.3480850611813366e-05\n                    [H8, H7, H10, I9, G11, G10, J7, J6, I6, K8, K9]: -0.00027752810274250805\n                      [H8, H7, H10, I9, G11, G10, J7, J6, I6, K8, K9, I11]: -0.09992530196905136\n                        \n                      [H8, H7, H10, I9, G11, G10, J7, J6, I6, K8, K9, H12]: -0.00011943447316298261\n                        \n                    [H8, H7, H10, I9, G11, G10, J7, J6, I6, K8, J9]: 0.04973334514943417\n                      [H8, H7, H10, I9, G11, G10, J7, J6, I6, K8, J9, I11]: -0.0497638951492263\n                        [H8, H7, H10, I9, G11, G10, J7, J6, I6, K8, J9, I11, I10]: -0.00020833007874898612\n                          \n                [H8, H7, H10, I9, G11, G10, J7, J6, I5]: -0.0002002345718210563\n                  [H8, H7, H10, I9, G11, G10, J7, J6, I5, H12]: -0.00015950897068250924\n                    [H8, H7, H10, I9, G11, G10, J7, J6, I5, H12, I10]: -0.00022584041289519519\n                      [H8, H7, H10, I9, G11, G10, J7, J6, I5, H12, I10, K8]: -0.00023361173225566745\n                        \n                    [H8, H7, H10, I9, G11, G10, J7, J6, I5, H12, J9]: -0.00036995793925598264\n                      \n                    [H8, H7, H10, I9, G11, G10, J7, J6, I5, H12, I12]: -0.00017526932060718536\n                      \n                [H8, H7, H10, I9, G11, G10, J7, J6, H12]: -0.09997229278087616\n                  \n                [H8, H7, H10, I9, G11, G10, J7, J6, H6]: -0.00020940507238265127\n                  [H8, H7, H10, I9, G11, G10, J7, J6, H6, H12]: -0.0002413962793070823\n                    [H8, H7, H10, I9, G11, G10, J7, J6, H6, H12, G5]: -0.09995583444833755\n                      \n                  [H8, H7, H10, I9, G11, G10, J7, J6, H6, F8]: -0.0003885993792209774\n                    \n                  [H8, H7, H10, I9, G11, G10, J7, J6, H6, I11]: -0.09993892163038254\n                    \n                [H8, H7, H10, I9, G11, G10, J7, J6, G6]: -0.0002777431218419224\n                  [H8, H7, H10, I9, G11, G10, J7, J6, G6, F6]: -0.000287666596705094\n                    [H8, H7, H10, I9, G11, G10, J7, J6, G6, F6, H12]: -0.09998895972967148\n                      \n                  [H8, H7, H10, I9, G11, G10, J7, J6, G6, F8]: -0.00031995680183172226\n                    \n              [H8, H7, H10, I9, G11, G10, J7, K7]: -0.00028074783040210605\n                [H8, H7, H10, I9, G11, G10, J7, K7, H12]: -0.09996354579925537\n                  [H8, H7, H10, I9, G11, G10, J7, K7, H12, H11]: -0.1975472867488861\n                    \n                  [H8, H7, H10, I9, G11, G10, J7, K7, H12, F10]: -0.1976436972618103\n                    "
     },
     "execution_count": 9,
     "metadata": {},
     "output_type": "execute_result"
    }
   ],
   "source": [
    "current_node = mcts_c.tree_nodes[board.get_string_representation()]\n",
    "print(current_node.key)\n",
    "current_node"
   ],
   "metadata": {
    "collapsed": false,
    "pycharm": {
     "name": "#%%\n"
    }
   }
  },
  {
   "cell_type": "code",
   "execution_count": null,
   "outputs": [],
   "source": [],
   "metadata": {
    "collapsed": false,
    "pycharm": {
     "name": "#%%\n"
    }
   }
  },
  {
   "cell_type": "code",
   "execution_count": null,
   "outputs": [],
   "source": [],
   "metadata": {
    "collapsed": false,
    "pycharm": {
     "name": "#%%\n"
    }
   }
  },
  {
   "cell_type": "code",
   "execution_count": null,
   "outputs": [],
   "source": [],
   "metadata": {
    "collapsed": false,
    "pycharm": {
     "name": "#%%\n"
    }
   }
  },
  {
   "cell_type": "code",
   "execution_count": 2,
   "outputs": [],
   "source": [
    "class Player:\n",
    "    def __init__(self, mcts: MCTS, temperature):\n",
    "        self.mcts = mcts\n",
    "        self.temperature = temperature\n",
    "\n",
    "    def play(self, board: Board):\n",
    "       pass"
   ],
   "metadata": {
    "collapsed": false,
    "pycharm": {
     "name": "#%%\n"
    }
   }
  },
  {
   "cell_type": "code",
   "execution_count": 3,
   "outputs": [],
   "source": [
    "class Arena:\n",
    "    def __init__(self, game: Game):\n",
    "        self.game = game\n",
    "        pass\n",
    "\n",
    "    def play_game(self, black: Player, white: Player, verbose: bool):\n",
    "        pass\n",
    "\n",
    "    def play_games(self, player1: Player, player2: Player, num_games, verbose=False):\n",
    "        \"\"\"\n",
    "        Plays num games in which player1 starts num/2 games and player2 starts\n",
    "        num/2 games.\n",
    "\n",
    "        Returns:\n",
    "            one_won: games won by player1\n",
    "            two_won: games won by player2\n",
    "            draws:  games won by nobody\n",
    "        \"\"\"\n",
    "\n",
    "        num = int(num_games / 2)\n",
    "        one_won = 0\n",
    "        two_won = 0\n",
    "        n_draws = 0\n",
    "        for _ in tqdm(range(num), desc=\"Arena.play_games (1)\"):\n",
    "            game_result = self.play_game(black=player1, white=player2, verbose=verbose)\n",
    "            if game_result == 1:\n",
    "                one_won += 1\n",
    "            elif game_result == -1:\n",
    "                two_won += 1\n",
    "            else:\n",
    "                n_draws += 1\n",
    "\n",
    "        for _ in tqdm(range(num), desc=\"Arena.play_games (2)\"):\n",
    "            game_result = self.play_game(black=player2, white=player1, verbose=verbose)\n",
    "            if game_result == -1:\n",
    "                one_won += 1\n",
    "            elif game_result == 1:\n",
    "                two_won += 1\n",
    "            else:\n",
    "                n_draws += 1\n",
    "\n",
    "        return one_won, two_won, n_draws\n",
    "\n"
   ],
   "metadata": {
    "collapsed": false,
    "pycharm": {
     "name": "#%%\n"
    }
   }
  },
  {
   "cell_type": "code",
   "execution_count": null,
   "outputs": [],
   "source": [
    "arena = Arena(the_game)\n",
    "\n",
    "defender = Player(mcts_d, temperature=0)\n",
    "\n",
    "challenger = Player(mcts_c, temperature=0)\n",
    "\n",
    "defender_wins, challenger_wins, draws = arena.play_games(num_games=10, player1=defender, player2=challenger)\n",
    "\n"
   ],
   "metadata": {
    "collapsed": false,
    "pycharm": {
     "name": "#%%\n"
    }
   }
  }
 ],
 "metadata": {
  "kernelspec": {
   "display_name": "Python 3",
   "language": "python",
   "name": "python3"
  },
  "language_info": {
   "codemirror_mode": {
    "name": "ipython",
    "version": 2
   },
   "file_extension": ".py",
   "mimetype": "text/x-python",
   "name": "python",
   "nbconvert_exporter": "python",
   "pygments_lexer": "ipython2",
   "version": "2.7.6"
  }
 },
 "nbformat": 4,
 "nbformat_minor": 0
}