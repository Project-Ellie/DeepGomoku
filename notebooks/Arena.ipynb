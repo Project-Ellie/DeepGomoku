{
 "cells": [
  {
   "cell_type": "markdown",
   "source": [
    "# The Arena\n",
    "### Pitting contenders against each other"
   ],
   "metadata": {
    "collapsed": false,
    "pycharm": {
     "name": "#%% md\n"
    }
   }
  },
  {
   "cell_type": "code",
   "execution_count": 1,
   "outputs": [],
   "source": [
    "from tqdm import tqdm\n",
    "from domoku.policies.softadvice import MaxInfluencePolicyParams, MaxInfluencePolicy\n",
    "from domoku.policies.maximal_criticality import MaxCriticalityPolicy\n",
    "from domoku.policies import softadvice\n",
    "from alphazero.gomoku_game import GomokuGame as Game\n",
    "from alphazero.mcts import MCTS\n",
    "from alphazero.gomoku_board import *"
   ],
   "metadata": {
    "collapsed": false,
    "pycharm": {
     "name": "#%%\n"
    }
   }
  },
  {
   "cell_type": "code",
   "execution_count": 2,
   "outputs": [
    {
     "name": "stderr",
     "output_type": "stream",
     "text": [
      "2022-06-26 09:25:43.336602: I tensorflow/core/platform/cpu_feature_guard.cc:193] This TensorFlow binary is optimized with oneAPI Deep Neural Network Library (oneDNN) to use the following CPU instructions in performance-critical operations:  AVX2 FMA\n",
      "To enable them in other operations, rebuild TensorFlow with the appropriate compiler flags.\n",
      "/Users/wgiersche/.local/share/virtualenvs/DeepGomoku-cXtJ_EtM/lib/python3.10/site-packages/numpy/core/fromnumeric.py:2007: VisibleDeprecationWarning: Creating an ndarray from ragged nested sequences (which is a list-or-tuple of lists-or-tuples-or ndarrays with different lengths or shapes) is deprecated. If you meant to do this, you must specify 'dtype=object' when creating the ndarray.\n",
      "  result = asarray(a).shape\n"
     ]
    }
   ],
   "source": [
    "BOARD_SIZE=15\n",
    "detector = MaxCriticalityPolicy(BOARD_SIZE)\n",
    "the_game = Game(15, detector=detector, initial='H8')"
   ],
   "metadata": {
    "collapsed": false,
    "pycharm": {
     "name": "#%%\n"
    }
   }
  },
  {
   "cell_type": "code",
   "execution_count": 3,
   "outputs": [],
   "source": [
    "def given_heuristic_brain():\n",
    "    hard_policy = MaxCriticalityPolicy(board_size=BOARD_SIZE, overconfidence=.005)\n",
    "    mi_params = MaxInfluencePolicyParams(\n",
    "        board_size=BOARD_SIZE,\n",
    "        sigma=.8,\n",
    "        iota=3,\n",
    "        radial_constr=[.0625, .125, .25, .5],\n",
    "        radial_obstr=[-.0625, -.125, -.25, -.5]\n",
    "    )\n",
    "    policy = MaxInfluencePolicy(mi_params, criticality_model=hard_policy, pov=1)\n",
    "    return softadvice.NeuralNetAdapter(policy)\n",
    "\n",
    "\n",
    "def longest_trajectory(ts):\n",
    "    depths = [v.level for v in ts.tree_nodes.values()]\n",
    "    mx = max(depths)\n",
    "    return [v for v in ts.tree_nodes.values() if v.level == mx][0]"
   ],
   "metadata": {
    "collapsed": false,
    "pycharm": {
     "name": "#%%\n"
    }
   }
  },
  {
   "cell_type": "markdown",
   "source": [],
   "metadata": {
    "collapsed": false,
    "pycharm": {
     "name": "#%% md\n"
    }
   }
  },
  {
   "cell_type": "markdown",
   "source": [
    "---\n",
    "# Current Status\n",
    "\n",
    "\n",
    "\n",
    "It appears that the additional policy-driven action space reduction in ```def probable_actions(self, board: Board)``` is massively counterproductive. That is indeed plausible.\n",
    "\n",
    "#### Use Threat-Search Policy Instead\n",
    "\n",
    "The short-sighted policy can not see the future. By it's massive bias, it prevents the MC tree search from learning a meaningful UCB.\n",
    "However, we need not worry too much. The heuristics is just meant to be a quickstarter for the actual NN to have a first baseline. We may also consider a generally more explorative version, determined by some higher temperature applied to the the choice of the candidate policy. Certainly this is going to be a critical hyper-parameter.\n",
    "\n",
    "- Still, with num_simus = 400, the play does not appear to be future-looking, need clarification (alphago uses 1600)\n",
    "- update_tree_view does not (always) work with two distinct mcts instances, since the parent lives in another tree.\n",
    "- The state values displayed are always negative. Needs to be verified\n",
    "- It's not clear how the mcts actually chooses the next move. We need to understand, what a good value for cpuct should be. It's the $u$ value:\n",
    "\n",
    "$$\n",
    "U(s, a) = Q(s, a) + c_{puct} P(s, a) \\frac{\\sqrt{\\sum_b N(s, b)}}{1 + N(s, a)}\n",
    "$$"
   ],
   "metadata": {
    "collapsed": false,
    "pycharm": {
     "name": "#%% md\n"
    }
   }
  },
  {
   "cell_type": "code",
   "execution_count": 4,
   "outputs": [],
   "source": [
    "brain_d = given_heuristic_brain()\n",
    "mcts_d = MCTS(the_game, brain_d, cpuct=1.0, num_simulations=20, model_threshold=.3)\n",
    "\n",
    "brain_c = given_heuristic_brain()\n",
    "mcts_c = MCTS(the_game, brain_c, cpuct=1.0, num_simulations=400, model_threshold=.4)\n",
    "\n",
    "board = the_game.get_initial_board()\n",
    "Move=board.Stone"
   ],
   "metadata": {
    "collapsed": false,
    "pycharm": {
     "name": "#%%\n"
    }
   }
  },
  {
   "cell_type": "code",
   "execution_count": 7,
   "outputs": [
    {
     "name": "stdout",
     "output_type": "stream",
     "text": [
      "White: K11\n",
      "Black: K5\n",
      "                                                     \n",
      "15    .  .  .  .  .  .  .  .  .  .  .  .  .  .  .    \n",
      "14    .  .  .  .  .  .  .  .  .  .  .  .  .  .  .    \n",
      "13    .  .  .  .  .  .  .  .  .  .  .  .  .  .  .    \n",
      "12    .  .  .  .  .  .  .  .  .  .  .  .  .  .  .    \n",
      "11    .  .  .  .  .  .  .  .  .  .  O  .  .  .  .    \n",
      "10    .  .  .  O  .  .  .  .  .  .  .  .  .  .  .    \n",
      " 9    .  .  .  .  .  O  .  .  X  .  .  .  .  .  .    \n",
      " 8    .  .  .  .  .  .  .  X  .  .  .  .  .  .  .    \n",
      " 7    .  .  .  .  .  .  .  .  .  .  .  .  .  .  .    \n",
      " 6    .  .  .  .  .  .  .  .  .  .  .  .  .  .  .    \n",
      " 5    .  .  .  .  .  .  .  .  X  . [X] .  .  .  .    \n",
      " 4    .  .  .  .  .  .  .  .  .  .  .  .  .  .  .    \n",
      " 3    .  .  .  .  .  .  .  .  .  .  .  .  .  .  .    \n",
      " 2    .  .  .  .  .  .  .  .  .  .  .  .  .  .  .    \n",
      " 1    .  .  .  .  .  .  .  .  .  .  .  .  .  .  .    \n",
      "                                                     \n",
      "      A  B  C  D  E  F  G  H  I  J  K  L  M  N  O\n"
     ]
    }
   ],
   "source": [
    "probs = mcts_c.get_action_prob(board, temperature=0)\n",
    "move =Move(probs)\n",
    "print(f\"White: {move}\")\n",
    "board.act(move)\n",
    "\n",
    "probs = mcts_d.get_action_prob(board, temperature=0)\n",
    "move =Move(probs)\n",
    "print(f\"Black: {move}\")\n",
    "board.act(move)\n",
    "\n",
    "board.plot()\n",
    "#current_node = mcts_d.tree_nodes[board.get_string_representation()]\n",
    "#for a, c in current_node.children.items():\n",
    "#    print(Move(a), c.value, c.info[a]['u'])"
   ],
   "metadata": {
    "collapsed": false,
    "pycharm": {
     "name": "#%%\n"
    }
   }
  },
  {
   "cell_type": "markdown",
   "source": [
    "The values are always negative, which is not really easy to understand"
   ],
   "metadata": {
    "collapsed": false,
    "pycharm": {
     "name": "#%% md\n"
    }
   }
  },
  {
   "cell_type": "code",
   "execution_count": 8,
   "outputs": [
    {
     "data": {
      "text/plain": "I7"
     },
     "execution_count": 8,
     "metadata": {},
     "output_type": "execute_result"
    }
   ],
   "source": [
    "Move(mcts_c.get_action_prob(board, temperature=0))"
   ],
   "metadata": {
    "collapsed": false,
    "pycharm": {
     "name": "#%%\n"
    }
   }
  },
  {
   "cell_type": "code",
   "execution_count": 9,
   "outputs": [
    {
     "data": {
      "text/plain": "H8 F9 I5 D10 I9 K11"
     },
     "execution_count": 9,
     "metadata": {},
     "output_type": "execute_result"
    }
   ],
   "source": [
    "board.undo()"
   ],
   "metadata": {
    "collapsed": false,
    "pycharm": {
     "name": "#%%\n"
    }
   }
  },
  {
   "cell_type": "code",
   "execution_count": 10,
   "outputs": [
    {
     "data": {
      "text/plain": "[H9,\n J9,\n I8,\n J8,\n K8,\n G7,\n H7,\n I7,\n J7,\n K7,\n F6,\n G6,\n H6,\n I6,\n J6,\n K6,\n G5,\n H5,\n J5,\n K5,\n H4,\n I4,\n J4]"
     },
     "execution_count": 10,
     "metadata": {},
     "output_type": "execute_result"
    }
   ],
   "source": [
    "[Move(int(a)) for a in mcts_c.probable_actions(board)]"
   ],
   "metadata": {
    "collapsed": false,
    "pycharm": {
     "name": "#%%\n"
    }
   }
  },
  {
   "cell_type": "code",
   "execution_count": 11,
   "outputs": [],
   "source": [
    "pi, _ = mcts_c.nnet.predict(board.canonical_representation())"
   ],
   "metadata": {
    "collapsed": false,
    "pycharm": {
     "name": "#%%\n"
    }
   }
  },
  {
   "cell_type": "code",
   "execution_count": 12,
   "outputs": [
    {
     "name": "stdout",
     "output_type": "stream",
     "text": [
      "[[0 0 0 0 0 0 0 0 0 0 0 0 0 0 0]\n",
      " [0 0 0 0 0 0 0 0 0 0 0 0 0 0 0]\n",
      " [0 0 0 0 0 0 0 0 0 0 0 0 0 0 0]\n",
      " [0 0 0 0 0 0 0 0 0 0 0 0 0 0 0]\n",
      " [0 0 0 0 0 0 0 0 0 0 0 0 0 0 0]\n",
      " [0 0 0 0 0 0 0 0 1 0 0 0 0 0 0]\n",
      " [0 0 0 0 0 0 0 1 0 2 1 0 0 0 0]\n",
      " [0 0 0 0 0 0 1 0 3 3 2 1 0 0 0]\n",
      " [0 0 0 0 0 0 2 3 3 3 2 1 0 0 0]\n",
      " [0 0 0 0 0 2 2 3 3 3 2 1 0 0 0]\n",
      " [0 0 0 0 0 1 2 2 0 2 2 1 0 0 0]\n",
      " [0 0 0 0 0 1 1 1 1 1 1 0 0 0 0]\n",
      " [0 0 0 0 0 0 0 0 1 0 0 0 0 0 0]\n",
      " [0 0 0 0 0 0 0 0 0 0 0 0 0 0 0]\n",
      " [0 0 0 0 0 0 0 0 0 0 0 0 0 0 0]]\n"
     ]
    }
   ],
   "source": [
    "print((pi.reshape([15, 15])*100).astype(int))"
   ],
   "metadata": {
    "collapsed": false,
    "pycharm": {
     "name": "#%%\n"
    }
   }
  },
  {
   "cell_type": "code",
   "execution_count": 13,
   "outputs": [
    {
     "ename": "KeyError",
     "evalue": "'-2734968144196659472'",
     "output_type": "error",
     "traceback": [
      "\u001B[0;31m---------------------------------------------------------------------------\u001B[0m",
      "\u001B[0;31mKeyError\u001B[0m                                  Traceback (most recent call last)",
      "Input \u001B[0;32mIn [13]\u001B[0m, in \u001B[0;36m<cell line: 1>\u001B[0;34m()\u001B[0m\n\u001B[0;32m----> 1\u001B[0m \u001B[43mmcts_c\u001B[49m\u001B[38;5;241;43m.\u001B[39;49m\u001B[43mtree_nodes\u001B[49m\u001B[43m[\u001B[49m\u001B[43mboard\u001B[49m\u001B[38;5;241;43m.\u001B[39;49m\u001B[43mget_string_representation\u001B[49m\u001B[43m(\u001B[49m\u001B[43m)\u001B[49m\u001B[43m]\u001B[49m\n",
      "\u001B[0;31mKeyError\u001B[0m: '-2734968144196659472'"
     ]
    }
   ],
   "source": [
    "mcts_c.tree_nodes[board.get_string_representation()]"
   ],
   "metadata": {
    "collapsed": false,
    "pycharm": {
     "name": "#%%\n"
    }
   }
  },
  {
   "cell_type": "code",
   "execution_count": null,
   "outputs": [],
   "source": [],
   "metadata": {
    "collapsed": false,
    "pycharm": {
     "name": "#%%\n"
    }
   }
  },
  {
   "cell_type": "code",
   "execution_count": null,
   "outputs": [],
   "source": [],
   "metadata": {
    "collapsed": false,
    "pycharm": {
     "name": "#%%\n"
    }
   }
  },
  {
   "cell_type": "code",
   "execution_count": null,
   "outputs": [],
   "source": [
    "board.print_pi()"
   ],
   "metadata": {
    "collapsed": false,
    "pycharm": {
     "name": "#%%\n"
    }
   }
  },
  {
   "cell_type": "code",
   "execution_count": null,
   "outputs": [],
   "source": [],
   "metadata": {
    "collapsed": false,
    "pycharm": {
     "name": "#%%\n"
    }
   }
  },
  {
   "cell_type": "code",
   "execution_count": null,
   "outputs": [],
   "source": [],
   "metadata": {
    "collapsed": false,
    "pycharm": {
     "name": "#%%\n"
    }
   }
  },
  {
   "cell_type": "code",
   "execution_count": null,
   "outputs": [],
   "source": [],
   "metadata": {
    "collapsed": false,
    "pycharm": {
     "name": "#%%\n"
    }
   }
  },
  {
   "cell_type": "code",
   "execution_count": null,
   "outputs": [],
   "source": [],
   "metadata": {
    "collapsed": false,
    "pycharm": {
     "name": "#%%\n"
    }
   }
  },
  {
   "cell_type": "code",
   "execution_count": null,
   "outputs": [],
   "source": [],
   "metadata": {
    "collapsed": false,
    "pycharm": {
     "name": "#%%\n"
    }
   }
  },
  {
   "cell_type": "code",
   "execution_count": null,
   "outputs": [],
   "source": [],
   "metadata": {
    "collapsed": false,
    "pycharm": {
     "name": "#%%\n"
    }
   }
  },
  {
   "cell_type": "code",
   "execution_count": null,
   "outputs": [],
   "source": [],
   "metadata": {
    "collapsed": false,
    "pycharm": {
     "name": "#%%\n"
    }
   }
  },
  {
   "cell_type": "code",
   "execution_count": null,
   "outputs": [],
   "source": [],
   "metadata": {
    "collapsed": false,
    "pycharm": {
     "name": "#%%\n"
    }
   }
  },
  {
   "cell_type": "code",
   "execution_count": 64,
   "outputs": [],
   "source": [
    "from domoku.tools import GomokuTools as Gt\n",
    "stones = Gt.string_to_stones(\"\".join([str(s) for s in board.stones]))"
   ],
   "metadata": {
    "collapsed": false,
    "pycharm": {
     "name": "#%%\n"
    }
   }
  },
  {
   "cell_type": "code",
   "execution_count": 68,
   "outputs": [
    {
     "data": {
      "text/plain": "<Figure size 720x720 with 1 Axes>",
      "image/png": "[encoded data removed]"
     },
     "metadata": {
      "needs_background": "light"
     },
     "output_type": "display_data"
    }
   ],
   "source": [
    "from domoku.board import GomokuBoard as LegacyBoard\n",
    "legacy_board = LegacyBoard(n=15, disp_width=10, stones=stones)\n",
    "legacy_board.display()"
   ],
   "metadata": {
    "collapsed": false,
    "pycharm": {
     "name": "#%%\n"
    }
   }
  },
  {
   "cell_type": "code",
   "execution_count": 2,
   "outputs": [],
   "source": [
    "class Player:\n",
    "    def __init__(self, mcts: MCTS, temperature):\n",
    "        self.mcts = mcts\n",
    "        self.temperature = temperature\n",
    "\n",
    "    def play(self, board: Board):\n",
    "       pass"
   ],
   "metadata": {
    "collapsed": false,
    "pycharm": {
     "name": "#%%\n"
    }
   }
  },
  {
   "cell_type": "code",
   "execution_count": 3,
   "outputs": [],
   "source": [
    "class Arena:\n",
    "    def __init__(self, game: Game):\n",
    "        self.game = game\n",
    "        pass\n",
    "\n",
    "    def play_game(self, black: Player, white: Player, verbose: bool):\n",
    "        pass\n",
    "\n",
    "    def play_games(self, player1: Player, player2: Player, num_games, verbose=False):\n",
    "        \"\"\"\n",
    "        Plays num games in which player1 starts num/2 games and player2 starts\n",
    "        num/2 games.\n",
    "\n",
    "        Returns:\n",
    "            one_won: games won by player1\n",
    "            two_won: games won by player2\n",
    "            draws:  games won by nobody\n",
    "        \"\"\"\n",
    "\n",
    "        num = int(num_games / 2)\n",
    "        one_won = 0\n",
    "        two_won = 0\n",
    "        n_draws = 0\n",
    "        for _ in tqdm(range(num), desc=\"Arena.play_games (1)\"):\n",
    "            game_result = self.play_game(black=player1, white=player2, verbose=verbose)\n",
    "            if game_result == 1:\n",
    "                one_won += 1\n",
    "            elif game_result == -1:\n",
    "                two_won += 1\n",
    "            else:\n",
    "                n_draws += 1\n",
    "\n",
    "        for _ in tqdm(range(num), desc=\"Arena.play_games (2)\"):\n",
    "            game_result = self.play_game(black=player2, white=player1, verbose=verbose)\n",
    "            if game_result == -1:\n",
    "                one_won += 1\n",
    "            elif game_result == 1:\n",
    "                two_won += 1\n",
    "            else:\n",
    "                n_draws += 1\n",
    "\n",
    "        return one_won, two_won, n_draws\n",
    "\n"
   ],
   "metadata": {
    "collapsed": false,
    "pycharm": {
     "name": "#%%\n"
    }
   }
  },
  {
   "cell_type": "code",
   "execution_count": null,
   "outputs": [],
   "source": [
    "arena = Arena(the_game)\n",
    "\n",
    "defender = Player(mcts_d, temperature=0)\n",
    "\n",
    "challenger = Player(mcts_c, temperature=0)\n",
    "\n",
    "defender_wins, challenger_wins, draws = arena.play_games(num_games=10, player1=defender, player2=challenger)\n",
    "\n"
   ],
   "metadata": {
    "collapsed": false,
    "pycharm": {
     "name": "#%%\n"
    }
   }
  }
 ],
 "metadata": {
  "kernelspec": {
   "display_name": "Python 3",
   "language": "python",
   "name": "python3"
  },
  "language_info": {
   "codemirror_mode": {
    "name": "ipython",
    "version": 2
   },
   "file_extension": ".py",
   "mimetype": "text/x-python",
   "name": "python",
   "nbconvert_exporter": "python",
   "pygments_lexer": "ipython2",
   "version": "2.7.6"
  }
 },
 "nbformat": 4,
 "nbformat_minor": 0
}