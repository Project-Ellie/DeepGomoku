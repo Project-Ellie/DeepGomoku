{
 "cells": [
  {
   "cell_type": "code",
   "execution_count": 1,
   "outputs": [],
   "source": [
    "%load_ext autoreload\n",
    "%autoreload 2"
   ],
   "metadata": {
    "collapsed": false
   }
  },
  {
   "cell_type": "code",
   "execution_count": 2,
   "outputs": [],
   "source": [
    "from aegomoku.gomoku_game import ConstantBoardInitializer, GomokuGame\n",
    "from aegomoku.arena import Arena\n",
    "from aegomoku.interfaces import MctsParams, PolicyParams\n",
    "from aegomoku.gomoku_players import PolicyAdvisedGraphSearchPlayer\n",
    "from pathlib import Path"
   ],
   "metadata": {
    "collapsed": false
   }
  },
  {
   "cell_type": "code",
   "execution_count": 7,
   "outputs": [],
   "source": [
    "from aegomoku.gomoku_game import RandomBoardInitializer\n",
    "\n",
    "BOARD_SIZE = 19\n",
    "initializer = RandomBoardInitializer(BOARD_SIZE, 2, 9, 11, 9, 11)\n",
    "#initializer = TopoSwap2BoardInitializer(BOARD_SIZE)\n",
    "#initializer = ConstantBoardInitializer(\"H10\")\n",
    "the_game = GomokuGame(board_size=BOARD_SIZE, initializer=initializer)\n",
    "\n",
    "model_file = Path.home() / \"workspace\" / \"Project-Ellie\" / \"DATA\" / 'models' / '2_c1.model'\n",
    "mcts_champion = MctsParams(cpuct=1.0, temperature=0, num_simulations=400)\n",
    "policy_champion = PolicyParams(model_file_name=model_file, advice_cutoff=.01)\n",
    "player1 = PolicyAdvisedGraphSearchPlayer(\"Champion 2_c1\", the_game, mcts_champion, policy_champion)\n",
    "\n",
    "model_file = Path.home() / \"workspace\" / \"Project-Ellie\" / \"DATA\" / 'models' / '3_c2.model'\n",
    "mcts_challenger = MctsParams(cpuct=1.0, temperature=0, num_simulations=400)\n",
    "policy_challenger = PolicyParams(model_file_name=model_file, advice_cutoff=.01)\n",
    "player2 = PolicyAdvisedGraphSearchPlayer(\"Candidate 3_c2\", the_game, mcts_challenger, policy_challenger)\n",
    "\n",
    "arena = Arena(game=the_game, player1=player1, player2=player2, max_moves=100)"
   ],
   "metadata": {
    "collapsed": false
   }
  },
  {
   "cell_type": "code",
   "execution_count": 17,
   "outputs": [
    {
     "name": "stdout",
     "output_type": "stream",
     "text": [
      "Champion 2_c1 to begin with black.\n",
      "1: Champion 2_c1: K7\n",
      "2: Candidate 3_c2: J7\n",
      "3: Champion 2_c1: L8\n",
      "4: Candidate 3_c2: N10\n",
      "5: Champion 2_c1: J6\n",
      "6: Candidate 3_c2: I5\n",
      "7: Champion 2_c1: M10\n",
      "8: Candidate 3_c2: L9\n",
      "9: Champion 2_c1: M8\n",
      "10: Candidate 3_c2: I6\n",
      "11: Champion 2_c1: H5\n",
      "12: Candidate 3_c2: M7\n",
      "13: Champion 2_c1: N9\n",
      "14: Candidate 3_c2: K6\n",
      "15: Champion 2_c1: O10\n",
      "16: Candidate 3_c2: P11\n",
      "17: Champion 2_c1: M11\n",
      "18: Candidate 3_c2: M12\n",
      "19: Champion 2_c1: L11\n",
      "20: Candidate 3_c2: O8\n",
      "21: Champion 2_c1: K12\n",
      "22: Candidate 3_c2: J13\n",
      "23: Champion 2_c1: J11\n",
      "24: Candidate 3_c2: K11\n",
      "25: Champion 2_c1: L13\n",
      "26: Candidate 3_c2: I10\n",
      "27: Champion 2_c1: L12\n",
      "28: Candidate 3_c2: L14\n",
      "29: Champion 2_c1: I8\n",
      "30: Candidate 3_c2: M14\n",
      "31: Champion 2_c1: L6\n",
      "32: Candidate 3_c2: L5\n",
      "33: Champion 2_c1: M5\n",
      "34: Candidate 3_c2: J8\n",
      "35: Champion 2_c1: N4\n",
      "36: Candidate 3_c2: O3\n",
      "37: Champion 2_c1: N3\n",
      "38: Candidate 3_c2: K14\n",
      "39: Champion 2_c1: J14\n",
      "40: Candidate 3_c2: N14\n",
      "41: Champion 2_c1: O14\n",
      "42: Candidate 3_c2: I12\n",
      "43: Champion 2_c1: K13\n",
      "44: Candidate 3_c2: I15\n",
      "45: Champion 2_c1: H11\n",
      "46: Candidate 3_c2: L15\n",
      "47: Champion 2_c1: M16\n",
      "48: Candidate 3_c2: N13\n",
      "49: Champion 2_c1: O12\n",
      "50: Candidate 3_c2: K16\n",
      "51: Champion 2_c1: J17\n",
      "52: Candidate 3_c2: N15\n",
      "53: Champion 2_c1: N12\n",
      "54: Candidate 3_c2: O13\n",
      "55: Champion 2_c1: N6\n",
      "56: Candidate 3_c2: K15\n",
      "57: Champion 2_c1: N5\n",
      "58: Candidate 3_c2: J15\n",
      "59: Champion 2_c1: N7\n",
      "Champion 2_c1 (black) won.\n"
     ]
    },
    {
     "data": {
      "text/plain": "Champion 2_c1"
     },
     "execution_count": 17,
     "metadata": {},
     "output_type": "execute_result"
    }
   ],
   "source": [
    "arena.play_game(verbose=2)"
   ],
   "metadata": {
    "collapsed": false
   }
  },
  {
   "cell_type": "markdown",
   "source": [
    "# TODO: Arena needs to respect the gamestate"
   ],
   "metadata": {
    "collapsed": false
   }
  },
  {
   "cell_type": "code",
   "execution_count": 18,
   "outputs": [
    {
     "name": "stdout",
     "output_type": "stream",
     "text": [
      "                                                                 \n",
      "19    .  .  .  .  .  .  .  .  .  .  .  .  .  .  .  .  .  .  .    \n",
      "18    .  .  .  .  .  .  .  .  .  .  .  .  .  .  .  .  .  .  .    \n",
      "17    .  .  .  .  .  .  .  .  .  X  .  .  .  .  .  .  .  .  .    \n",
      "16    .  .  .  .  .  .  .  .  .  .  O  .  X  .  .  .  .  .  .    \n",
      "15    .  .  .  .  .  .  .  .  O  O  O  O  .  O  .  .  .  .  .    \n",
      "14    .  .  .  .  .  .  .  .  .  X  O  O  O  O  X  .  .  .  .    \n",
      "13    .  .  .  .  .  .  .  .  .  O  X  X  .  O  O  .  .  .  .    \n",
      "12    .  .  .  .  .  .  .  .  O  .  X  X  O  X  X  .  .  .  .    \n",
      "11    .  .  .  .  .  .  .  X  .  X  O  X  X  .  .  O  .  .  .    \n",
      "10    .  .  .  .  .  .  .  .  O  .  O  .  X  O  X  .  .  .  .    \n",
      " 9    .  .  .  .  .  .  .  .  .  .  .  O  X  X  .  .  .  .  .    \n",
      " 8    .  .  .  .  .  .  .  .  X  O  O  X  X  .  O  .  .  .  .    \n",
      " 7    .  .  .  .  .  .  .  .  .  O  X  X  O [X] .  .  .  .  .    \n",
      " 6    .  .  .  .  .  .  .  .  O  X  O  X  .  X  .  .  .  .  .    \n",
      " 5    .  .  .  .  .  .  .  X  O  .  .  O  X  X  .  .  .  .  .    \n",
      " 4    .  .  .  .  .  .  .  .  .  .  .  .  .  X  .  .  .  .  .    \n",
      " 3    .  .  .  .  .  .  .  .  .  .  .  .  .  X  O  .  .  .  .    \n",
      " 2    .  .  .  .  .  .  .  .  .  .  .  .  .  .  .  .  .  .  .    \n",
      " 1    .  .  .  .  .  .  .  .  .  .  .  .  .  .  .  .  .  .  .    \n",
      "                                                                 \n",
      "      A  B  C  D  E  F  G  H  I  J  K  L  M  N  O  P  Q  R  S\n"
     ]
    }
   ],
   "source": [
    "arena.board.plot()"
   ],
   "metadata": {
    "collapsed": false
   }
  },
  {
   "cell_type": "code",
   "execution_count": 19,
   "outputs": [],
   "source": [
    "from aegomoku.tools import stones_to_string\n",
    "stones = arena.board.get_stones()\n",
    "stones = stones_to_string(stones)"
   ],
   "metadata": {
    "collapsed": false
   }
  },
  {
   "cell_type": "code",
   "execution_count": 20,
   "outputs": [
    {
     "name": "stdout",
     "output_type": "stream",
     "text": [
      "pygame 2.1.2 (SDL 2.0.16, Python 3.8.10)\n",
      "Hello from the pygame community. https://www.pygame.org/contribute.html\n"
     ]
    }
   ],
   "source": [
    "from cmclient.api.study import StudyHandler\n",
    "from cmclient.api.basics import CompManConfig\n",
    "\n",
    "config = CompManConfig(board_size=19)\n",
    "initializer = ConstantBoardInitializer(stones)\n",
    "# initializer = TopoSwap2BoardInitializer(config.board_size)\n",
    "ai = \"../DATA/models/3_c2.model\"\n",
    "num_simulations = 400\n",
    "StudyHandler(config, \"../cmclient/gui/\", initializer, ai, num_simu=num_simulations).handle()"
   ],
   "metadata": {
    "collapsed": false
   }
  },
  {
   "cell_type": "code",
   "execution_count": 8,
   "outputs": [],
   "source": [
    "from pathlib import Path\n",
    "arena_file = Path.home() / \"workspace\" / \"Project-Ellie\" / \"DATA\" / 'arena' / '3_c2.arena'"
   ],
   "metadata": {
    "collapsed": false
   }
  },
  {
   "cell_type": "code",
   "execution_count": 9,
   "outputs": [
    {
     "name": "stdout",
     "output_type": "stream",
     "text": [
      "Game 1: Champion 2_c1 to begin with black.\n",
      "Champion 2_c1 (black) won.\n",
      "[J8, K10, K7, H10, M5, L6, K8, L9, K5, K6, L5, M8, J5, N5, I5]\n",
      "Game 2: Champion 2_c1 to begin with black.\n",
      "Candidate 3_c2 (black) won.\n",
      "[J8, K8, K7, J9, I9, H10, L7, J7, L6, M5, L9, L8, M8, I10, K6, N9, J5, I4, J6, I6, N6, M6, N7, K10, O6, P5, J10, H11, G12, L11, M7, O7, M12, M10, K12, H5, G4, I8, H7, H12, L12, H13, N12, H14]\n",
      "Game 3: Champion 2_c1 to begin with black.\n",
      "Candidate 3_c2 (black) won.\n",
      "[L10, L9, M9, K11, M10, K10, M8, M11, M7, M6, N8, L11, O7, P6, J11, M12, J9, N13, O14, K12, K13, N11, O11, O10, L13, N12, N10, L12, J12, O12]\n",
      "Game 4: Champion 2_c1 to begin with black.\n",
      "Champion 2_c1 (black) won.\n",
      "[L10, K8, N8, M9, N10, M10, M11, L9, N11, J7, I6, N9, K9, O9, P9, N12, O10, M12, L11, O11, Q8, R7, O8, M8, J11, K11, P8, R8, P10, P7, Q10, R10, R11, N7, S12]\n",
      "Game 5: Champion 2_c1 to begin with black.\n",
      "Champion 2_c1 (black) won.\n",
      "[K9, L9, L8, K10, J10, M7, J11, J9, I11, H12, H11, G11, L11, K11, I13, I12, J12, J13, K13, L14, M11, M8, L10, J8, N12, O13, L12, N7, O6, J14, M12, K12, M14, M13, N13, O7, O12, P12, L15, K7, K16]\n",
      "Game 6: Champion 2_c1 to begin with black.\n",
      "Champion 2_c1 (black) won.\n",
      "[J9, J10, K10, K11, L11, M12, I9, I8, L9, K9, M8, N7, L8, L10, N8, K8, O8, P8, J11, I12, N9, J12, M10, K12, P7]\n",
      "Game 7: Champion 2_c1 to begin with black.\n",
      "Candidate 3_c2 (black) won.\n",
      "[J8, K8, K7, I9, J7, J9, L7, I7, L6, I8, M7, N7, I10, H7, M5, N4, G6, H9, K9, G9, F9, H8, L8, H10, J10, H11]\n",
      "Game 8: Champion 2_c1 to begin with black.\n",
      "Candidate 3_c2 (black) won.\n",
      "[L9, J8, M8, J9, K10, J11, J10, I10, N7, O6, L10, H9, M10, N10, K12, K8, L7, G8, F7, H8, I8, H11, G12, H10, H12, H7]\n",
      "Game 9: Champion 2_c1 to begin with black.\n",
      "Champion 2_c1 (black) won.\n",
      "[J10, K10, K11, J11, I9, L12, H8, G7, L9, K12, K9, I10, J9, H9, M9]\n",
      "Game 10: Champion 2_c1 to begin with black.\n",
      "Candidate 3_c2 (black) won.\n",
      "[L10, J9, M9, J10, K11, J12, J11, I11, N8, O7, L11, H10, M11, N11, K13, K9, L8, G9, F8, L9, M10, H12, G13, H9, I9, H11, H13, H8]\n",
      "Game 11: Champion 2_c1 to begin with black.\n",
      "Champion 2_c1 (black) won.\n",
      "[K9, K8, L8, I10, J10, I11, M7, N6, L7, I9, I8, H11, K7, I12, I13, J7, L9, G12, J9, F13, E14, J11, L6, L5, L10]\n",
      "Game 12: Champion 2_c1 to begin with black.\n",
      "Candidate 3_c2 (black) won.\n",
      "[L10, J9, L11, K8, L12, L9, L13, L14, K11, L7, M6, M9, I9, J10, J11, K9, N9, I11, N11, M11, L8, I10, H11, H12, G13, K7, K6, J7, N10, I7, N8, H7]\n",
      "Game 13: Champion 2_c1 to begin with black.\n",
      "Champion 2_c1 (black) won.\n",
      "[L10, J9, L11, K8, M10, L7, I10, M6, N5, K10, L9, L12, K11, K6, M11, K9, K7, L6, N11, N6, J11]\n",
      "Game 14: Champion 2_c1 to begin with black.\n",
      "Candidate 3_c2 (black) won.\n",
      "[L10, L8, J10, M9, I10, K10, J9, K7, J6, J8, K8, L7, H11, G12, G10, J7, H10, F10, H8, M7, I7, N7]\n",
      "Game 15: Champion 2_c1 to begin with black.\n",
      "Champion 2_c1 (black) won.\n",
      "[J10, J8, L10, I9, K10, I10, M10, N10, I11, K7, L6, K9, J11, L8, M9, K8, M8, I8, H8, I7, I6, H6, G5, K6, K5, G11, H10, L7, M7, M6, M11]\n",
      "Game 16: Champion 2_c1 to begin with black.\n",
      "Champion 2_c1 (black) won.\n",
      "[L8, J8, L6, K9, L10, I7, M9, L7, K11, N8, J12, I13, K7, H6, G5, N10, L11, N11, N9, J6, L9, L12, O9, P9, M10, K5, O8, K12, P7]\n",
      "Game 17: Champion 2_c1 to begin with black.\n",
      "Champion 2_c1 (black) won.\n",
      "[L9, L8, M8, M9, K10, N7, J11, I12, N10, M7, M10, K9, L10, J10, O10]\n",
      "Game 18: Champion 2_c1 to begin with black.\n",
      "Candidate 3_c2 (black) won.\n",
      "[K8, J9, J8, I8, K10, J7, K9, K11, I7, L10, K6, K7, H6, G5, J6, I6, K5, L4, N8, M7, L7, M8, M6, J12, O4, N5, I13, J11, L6, N6, H8, G9, H9, H7, H10, H11, I11, G6, F5, J10, J13, M13, I12, I10, H13, G13, L13, K13, I14, I15, G12, L12, N14, I9]\n",
      "Game 19: Champion 2_c1 to begin with black.\n",
      "Candidate 3_c2 (black) won.\n",
      "[J8, K9, K7, I9, J9, J10, J7, L8, M7, L7, J6, J5, I7, L6, L5, K6, M8, I11, H12, I4, H3, H8, G7, H7, M6, M9, M4, M5, L10, L12, K11, K4, I6, I10, I12, H10, G10, H9, H6, H11]\n",
      "Game 20: Champion 2_c1 to begin with black.\n",
      "Candidate 3_c2 (black) won.\n",
      "[K9, L9, L8, J10, K8, K10, M8, J8, N8, O8, M7, J9, J11, I8, N6, O5, H7, I10, H10, L11, M12, M10, L10, N9, P7, K12]\n",
      "Game 21: Candidate 3_c2 to begin with black.\n",
      "Candidate 3_c2 (black) won.\n",
      "[L10, J10, K9, J8, K11, J9, J11, J7, J6, K8, J12, I13, L11, M11, H11, I11, L9, L8, L12, L13, M9, N8, M8, I12, K10, N7, K12, K13, N9, O9, M10, J13, O8]\n",
      "Game 22: Candidate 3_c2 to begin with black.\n",
      "Candidate 3_c2 (black) won.\n",
      "[K9, K8, J8, J7, L9, J9, L7, L10, M8, K6, L5, L6, M6, I6, N7, H5, G4, H6, J6, K4, K10, J11, O6]\n",
      "Game 23: Candidate 3_c2 to begin with black.\n",
      "Champion 2_c1 (black) won.\n",
      "[J10, K10, K9, L9, J11, J9, L11, I11, K12, M10, N11, M11, M12, M8, L12, N7, O6, M7, M9, J12, O7, H10, L14, G9, F8, K13]\n",
      "Game 24: Candidate 3_c2 to begin with black.\n",
      "Champion 2_c1 (black) won.\n",
      "[L9, L10, K10, I12, N7, M8, K8, K7, L7, J9, M6, J8, O8, L5, N5, O4, P9, Q10, J7, M10, H5, I6, N6, N8, L6, O6, O7, K9, M7, P7, M11, I7, H6, I9, N4, N3, K6, J6, M5, I8, I10, I5]\n",
      "Game 25: Candidate 3_c2 to begin with black.\n",
      "Candidate 3_c2 (black) won.\n",
      "[K10, J9, J11, L9, I10, K9, I9, M9, N9, L10, H9, G8, L13, K12, I11, I12, K11, L11, L8, N12, M11, L12, J12, M12, O12, J8, H11, G11, K13, I7, H6, H10, J13, I13, J14, J15, J10]\n",
      "Game 26: Candidate 3_c2 to begin with black.\n",
      "Champion 2_c1 (black) won.\n",
      "[J10, K8, I9, L9, H8, G7, G9, J7, I6, M10, N11, I7, H7, H9, I8, J8, H6, J9, J5, G8, I10, L7, I12, I11, K11, L12, H5, H4, J6, G6, K4, L3, L6, K6, I5, G5, G4, M6, N5, K5, L11, K7, K9, M7]\n",
      "Game 27: Candidate 3_c2 to begin with black.\n",
      "Candidate 3_c2 (black) won.\n",
      "[K9, K8, J10, L8, J8, J7, L9, M9, K7, M8, I9, M7, H10, L6, G11]\n",
      "Game 28: Candidate 3_c2 to begin with black.\n",
      "Candidate 3_c2 (black) won.\n",
      "[K8, L8, L9, K7, M9, K9, M7, M10, O9, P10, M8, O10, N10, P12, P8, M11, M5, M6, Q7, R6, N6, O7, N7, O6, O5, N9, P4, Q3, N5, N4, L5, P5, K5]\n",
      "Game 29: Candidate 3_c2 to begin with black.\n",
      "Candidate 3_c2 (black) won.\n",
      "[J10, L10, K9, L8, K11, L9, L11, L7, L6, K8, L12, M13, H8, I9, I11, H11, H12, G13, J9, M10, J11, M11, J12, J8, J13]\n",
      "Game 30: Candidate 3_c2 to begin with black.\n",
      "Candidate 3_c2 (black) won.\n",
      "[K10, L9, K9, K8, M10, L10, L11, L8, K12, J13, K11, K13, M11, M8, J11, I11, N11]\n",
      "Game 31: Candidate 3_c2 to begin with black.\n",
      "Candidate 3_c2 (black) won.\n",
      "[K9, K8, L10, J8, L8, L7, J9, K7, M7, J10, L6, K5, K6, M6, I9, N5, O4, L9, H7, J7, I6, M10, N11, L5, O5, N6, J6, H6, I8, J5, M5, I5, H5, N7, G6, K10, F5]\n",
      "Game 32: Candidate 3_c2 to begin with black.\n",
      "Candidate 3_c2 (black) won.\n",
      "[J9, L10, K8, I10, K10, K9, J8, I8, I9, J7, H9, G9, L9, J11, M8, N7, L7, N8, L6, N9, K7, H10, M5]\n",
      "Game 33: Candidate 3_c2 to begin with black.\n",
      "Candidate 3_c2 (black) won.\n",
      "[K10, J8, L9, J11, J9, K9, L10, L11, K11, J10, J12, I13, L8, K7, L6, L7, M7, N8, M10, M8, N11, K8, K6, I7, O10, N10, M12, L13, O12, P13, Q8, P9, O11, H6, G5, O13, M13, H7, J7, M14, M11, M9, K12, L12, L14, N12, K13, K14, M15, I11, N16]\n",
      "Game 34: Candidate 3_c2 to begin with black.\n",
      "Champion 2_c1 (black) won.\n",
      "[L8, L10, K9, J10, M9, K10, M10, I10, H10, L11, N10, O11, J6, K7, M8, M11, M7, M6, N6, O5, L9, N11, P11, K11]\n",
      "Game 35: Candidate 3_c2 to begin with black.\n",
      "Candidate 3_c2 (black) won.\n",
      "[J10, K8, I9, L9, H8, G7, I7, M10, J7, N11, O12, L10, I8, I6, J8, L11, J9, L12, J6]\n",
      "Game 36: Candidate 3_c2 to begin with black.\n",
      "Candidate 3_c2 (black) won.\n",
      "[K8, L8, J9, L7, L9, M9, K7, K6, M8, L5, K10, J11, I8, L11, N7, O6, J7, L6, L4, I6, J6, N6, M6, J8, H7, G6, N11, M10, I7, G7, K5, H8, M3]\n",
      "Game 37: Candidate 3_c2 to begin with black.\n",
      "Candidate 3_c2 (black) won.\n",
      "[J10, J8, I9, H8, K9, I8, K8, G8, F8, H9, L8, M7, H12, I11, K10, K11, I10, H10, H7, G10, M10, L10, J7, F11, E12, G11, L9, N11, I6]\n",
      "Game 38: Candidate 3_c2 to begin with black.\n",
      "Champion 2_c1 (black) won.\n",
      "[J8, J9, I9, K8, I10, I8, K10, H10, J11, H8, H11, I11, I12, H13, J12, F8, E8, G9, E7, F10, E11, I7, J6, F9, F11, H7, J13, G6, F5, H9, H6, E9, D9, F7, F6, G7, J7, G8, G10, G5]\n",
      "Game 39: Candidate 3_c2 to begin with black.\n",
      "Champion 2_c1 (black) won.\n",
      "[J10, K9, I9, K11, J8, K10, K8, K12, K13, J11, K7, L6, G11, H10, I8, H8, I10, I11, L11, M8, L9, I6, H11, J9, K6, J7, G12, I12, G14, G13, F13, E14, E12, D11, I16, H15, G10, L12, J12, F11, L8, K4, J6, M9, M10, G8, F9, H7, J5, H6, H9, E8, O12, N11, I5, H4, H5, K5, I4, F8, D8, G9, E7, H3, G5, F5, F6, C9, J3, K2, G6, F7, K3, J4, I3, M7, N8, E11, I2, I1, F10, C11, B11, D10, F12, E9, G7, B12]\n",
      "Game 40: Candidate 3_c2 to begin with black.\n",
      "Candidate 3_c2 (black) won.\n",
      "[K8, K10, L9, M10, J9, L10, J10, N10, O10, M9, I10, H11, M6, L7, J8, J7, L8, M8, M11, N8, H8, I8, K11, O7, P6, N7, I9, M7, G7]\n",
      "Saved gameplay data to /home/wgiersche/workspace/Project-Ellie/DATA/arena/3_c2.arena\n"
     ]
    }
   ],
   "source": [
    "stats = arena.play_games(40, verbose=1, save_to=arena_file)"
   ],
   "metadata": {
    "collapsed": false
   }
  },
  {
   "cell_type": "code",
   "execution_count": 10,
   "outputs": [
    {
     "data": {
      "text/plain": "{Champion 2_c1: 16, Candidate 3_c2: 24, 'draws': 0}"
     },
     "execution_count": 10,
     "metadata": {},
     "output_type": "execute_result"
    }
   ],
   "source": [
    "stats"
   ],
   "metadata": {
    "collapsed": false
   }
  },
  {
   "cell_type": "code",
   "execution_count": 16,
   "outputs": [],
   "source": [
    "from pickle import Pickler\n",
    "\n",
    "with open('3_c2.arena', 'wb+') as f:\n",
    "    Pickler(f).dump(arena.games)"
   ],
   "metadata": {
    "collapsed": false
   }
  },
  {
   "cell_type": "code",
   "execution_count": 33,
   "outputs": [],
   "source": [
    "n=0"
   ],
   "metadata": {
    "collapsed": false
   }
  },
  {
   "cell_type": "code",
   "execution_count": 57,
   "outputs": [
    {
     "data": {
      "text/plain": "<Figure size 576x576 with 1 Axes>",
      "image/png": "[encoded data removed]"
     },
     "metadata": {
      "needs_background": "light"
     },
     "output_type": "display_data"
    }
   ],
   "source": [
    "from aegomoku.policies.heuristic_policy import HeuristicPolicy\n",
    "from aegomoku.utils import analyse_board\n",
    "moves = arena.board.stones\n",
    "heuristics = HeuristicPolicy(BOARD_SIZE, cut_off=0.1)\n",
    "analyse_board(BOARD_SIZE, arena.games[n], heuristics, disp_width=8)\n",
    "n += 1"
   ],
   "metadata": {
    "collapsed": false
   }
  }
 ],
 "metadata": {
  "kernelspec": {
   "display_name": "Python 3",
   "language": "python",
   "name": "python3"
  },
  "language_info": {
   "codemirror_mode": {
    "name": "ipython",
    "version": 2
   },
   "file_extension": ".py",
   "mimetype": "text/x-python",
   "name": "python",
   "nbconvert_exporter": "python",
   "pygments_lexer": "ipython2",
   "version": "2.7.6"
  }
 },
 "nbformat": 4,
 "nbformat_minor": 0
}
