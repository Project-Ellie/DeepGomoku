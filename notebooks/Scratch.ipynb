{
 "cells": [
  {
   "cell_type": "code",
   "execution_count": 1,
   "outputs": [],
   "source": [
    "%load_ext autoreload\n",
    "%autoreload 2"
   ],
   "metadata": {
    "collapsed": false,
    "pycharm": {
     "name": "#%%\n"
    }
   }
  },
  {
   "cell_type": "code",
   "execution_count": 6,
   "outputs": [],
   "source": [
    "import yaml\n",
    "import json\n",
    "from yaml import Loader"
   ],
   "metadata": {
    "collapsed": false,
    "pycharm": {
     "name": "#%%\n"
    }
   }
  },
  {
   "cell_type": "code",
   "execution_count": 11,
   "outputs": [
    {
     "name": "stdout",
     "output_type": "stream",
     "text": [
      "{\n",
      "  \"board\": {\n",
      "    \"size\": 15,\n",
      "    \"initialize\": {\n",
      "      \"type\": \"random\",\n",
      "      \"stones\": 4,\n",
      "      \"left\": 5,\n",
      "      \"right\": 9,\n",
      "      \"upper\": 5,\n",
      "      \"lower\": 9\n",
      "    }\n",
      "  },\n",
      "  \"players\": [\n",
      "    {\n",
      "      \"mcts\": {\n",
      "        \"cpuct\": 4.0,\n",
      "        \"num_simulations\": 100,\n",
      "        \"temperature\": 1.0,\n",
      "        \"advice_cutoff\": 0.5\n",
      "      },\n",
      "      \"model\": {\n",
      "        \"type\": \"HEURISTIC\"\n",
      "      }\n",
      "    },\n",
      "    {\n",
      "      \"mcts\": {\n",
      "        \"cpuct\": 4.0,\n",
      "        \"num_simulations\": 100,\n",
      "        \"temperature\": 1.0,\n",
      "        \"advice_cutoff\": 0.5\n",
      "      },\n",
      "      \"model\": {\n",
      "        \"type\": \"HEURISTIC\"\n",
      "      }\n",
      "    }\n",
      "  ],\n",
      "  \"process\": {\n",
      "    \"workers\": {\n",
      "      \"trajectories\": 8,\n",
      "      \"policy\": 4,\n",
      "      \"selfplay\": 8\n",
      "    }\n",
      "  }\n",
      "}\n"
     ]
    }
   ],
   "source": [
    "with open(\"././selfplay_params.yaml\") as f:\n",
    "    params = yaml.load(f, Loader=Loader)\n",
    "print(json.dumps(params, indent=2))"
   ],
   "metadata": {
    "collapsed": false,
    "pycharm": {
     "name": "#%%\n"
    }
   }
  },
  {
   "cell_type": "code",
   "execution_count": 5,
   "outputs": [
    {
     "data": {
      "text/plain": "dict"
     },
     "execution_count": 5,
     "metadata": {},
     "output_type": "execute_result"
    }
   ],
   "source": [],
   "metadata": {
    "collapsed": false,
    "pycharm": {
     "name": "#%%\n"
    }
   }
  },
  {
   "cell_type": "code",
   "execution_count": null,
   "outputs": [],
   "source": [],
   "metadata": {
    "collapsed": false,
    "pycharm": {
     "name": "#%%\n"
    }
   }
  }
 ],
 "metadata": {
  "kernelspec": {
   "display_name": "Python 3",
   "language": "python",
   "name": "python3"
  },
  "language_info": {
   "codemirror_mode": {
    "name": "ipython",
    "version": 2
   },
   "file_extension": ".py",
   "mimetype": "text/x-python",
   "name": "python",
   "nbconvert_exporter": "python",
   "pygments_lexer": "ipython2",
   "version": "2.7.6"
  }
 },
 "nbformat": 4,
 "nbformat_minor": 0
}