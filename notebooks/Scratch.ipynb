{
 "cells": [
  {
   "cell_type": "markdown",
   "source": [
    "# Representations\n"
   ],
   "metadata": {
    "collapsed": false,
    "pycharm": {
     "name": "#%% md\n"
    }
   }
  },
  {
   "cell_type": "code",
   "execution_count": null,
   "outputs": [],
   "source": [
    "%load_ext autoreload\n",
    "%autoreload 2"
   ],
   "metadata": {
    "collapsed": false,
    "pycharm": {
     "name": "#%%\n",
     "is_executing": true
    }
   }
  },
  {
   "cell_type": "code",
   "execution_count": 3,
   "metadata": {
    "collapsed": true,
    "pycharm": {
     "name": "#%%\n"
    }
   },
   "outputs": [],
   "source": [
    "import numpy as np\n",
    "from domoku.tools import GomokuTools as Gt\n",
    "from alphazero.gomoku_game import GomokuGame\n",
    "from domoku.policies.softadvice import MaxInfluencePolicyParams, MaxInfluencePolicy\n",
    "from domoku.policies.maximal_criticality import MaxCriticalityPolicy\n",
    "from domoku.constants import BLACK"
   ]
  },
  {
   "cell_type": "code",
   "execution_count": 6,
   "outputs": [],
   "source": [
    "SIZE=15"
   ],
   "metadata": {
    "collapsed": false,
    "pycharm": {
     "name": "#%%\n"
    }
   }
  },
  {
   "cell_type": "code",
   "execution_count": 9,
   "outputs": [],
   "source": [
    "examine = 'H8H7I10I9G9H11I6F10J4F11L5L4L7I5I7K6J6K8K5'"
   ],
   "metadata": {
    "collapsed": false,
    "pycharm": {
     "name": "#%%\n"
    }
   }
  },
  {
   "cell_type": "code",
   "execution_count": 10,
   "outputs": [
    {
     "data": {
      "text/plain": "<Figure size 432x432 with 1 Axes>",
      "image/png": "[encoded data removed]"
     },
     "metadata": {
      "needs_background": "light"
     },
     "output_type": "display_data"
    }
   ],
   "source": [
    "from domoku.board import GomokuBoard as LegacyBoard\n",
    "stones = Gt.string_to_stones(examine)\n",
    "board = LegacyBoard(n=SIZE, disp_width=6, stones=stones)\n",
    "board.display()"
   ],
   "metadata": {
    "collapsed": false,
    "pycharm": {
     "name": "#%%\n"
    }
   }
  },
  {
   "cell_type": "code",
   "execution_count": 5,
   "outputs": [],
   "source": [
    "from alphazero.gomoku_board import GomokuBoard\n",
    "\n",
    "board = GomokuBoard(SIZE, examine, x_means='b')"
   ],
   "metadata": {
    "collapsed": false,
    "pycharm": {
     "name": "#%%\n"
    }
   }
  },
  {
   "cell_type": "code",
   "execution_count": 6,
   "outputs": [
    {
     "data": {
      "text/plain": "[B2, B6, C4, D4, D5, E2, B4, C5]"
     },
     "execution_count": 6,
     "metadata": {},
     "output_type": "execute_result"
    }
   ],
   "source": [
    "board.stones"
   ],
   "metadata": {
    "collapsed": false,
    "pycharm": {
     "name": "#%%\n"
    }
   }
  },
  {
   "cell_type": "markdown",
   "source": [],
   "metadata": {
    "collapsed": false,
    "pycharm": {
     "name": "#%% md\n"
    }
   }
  },
  {
   "cell_type": "markdown",
   "source": [
    "### The mathematical representation includes the boundary"
   ],
   "metadata": {
    "collapsed": false,
    "pycharm": {
     "name": "#%% md\n"
    }
   }
  },
  {
   "cell_type": "code",
   "execution_count": 7,
   "outputs": [
    {
     "name": "stdout",
     "output_type": "stream",
     "text": [
      "shape: (9, 9, 3)\n",
      "[[0 0 0 0 0 0 0 0 0]\n",
      " [0 0 0 0 0 0 0 0 0]\n",
      " [0 0 2 0 0 0 0 0 0]\n",
      " [0 0 0 2 1 0 0 0 0]\n",
      " [0 0 1 1 2 0 0 0 0]\n",
      " [0 0 0 0 0 0 0 0 0]\n",
      " [0 0 1 0 0 2 0 0 0]\n",
      " [0 0 0 0 0 0 0 0 0]\n",
      " [0 0 0 0 0 0 0 0 0]]\n"
     ]
    }
   ],
   "source": [
    "Gt.print_bin(board.math_rep, combine=True)"
   ],
   "metadata": {
    "collapsed": false,
    "pycharm": {
     "name": "#%%\n"
    }
   }
  },
  {
   "cell_type": "markdown",
   "source": [
    "### The string rep comes from a hash of the field"
   ],
   "metadata": {
    "collapsed": false,
    "pycharm": {
     "name": "#%% md\n"
    }
   }
  },
  {
   "cell_type": "code",
   "execution_count": 8,
   "outputs": [
    {
     "data": {
      "text/plain": "'8037062031761109436'"
     },
     "execution_count": 8,
     "metadata": {},
     "output_type": "execute_result"
    }
   ],
   "source": [
    "board.get_string_representation()"
   ],
   "metadata": {
    "collapsed": false,
    "pycharm": {
     "name": "#%%\n"
    }
   }
  },
  {
   "cell_type": "markdown",
   "source": [
    "### The moves and the policy don't know about the boundary"
   ],
   "metadata": {
    "collapsed": false,
    "pycharm": {
     "name": "#%% md\n"
    }
   }
  },
  {
   "cell_type": "code",
   "execution_count": 9,
   "outputs": [
    {
     "name": "stderr",
     "output_type": "stream",
     "text": [
      "2022-06-11 12:33:17.348291: I tensorflow/core/platform/cpu_feature_guard.cc:193] This TensorFlow binary is optimized with oneAPI Deep Neural Network Library (oneDNN) to use the following CPU instructions in performance-critical operations:  AVX2 FMA\n",
      "To enable them in other operations, rebuild TensorFlow with the appropriate compiler flags.\n",
      "/Users/wgiersche/.local/share/virtualenvs/DeepGomoku-cXtJ_EtM/lib/python3.10/site-packages/numpy/core/fromnumeric.py:2007: VisibleDeprecationWarning: Creating an ndarray from ragged nested sequences (which is a list-or-tuple of lists-or-tuples-or ndarrays with different lengths or shapes) is deprecated. If you meant to do this, you must specify 'dtype=object' when creating the ndarray.\n",
      "  result = asarray(a).shape\n"
     ]
    }
   ],
   "source": [
    "hard_policy = MaxCriticalityPolicy(board_size=SIZE, overconfidence=2.0)\n",
    "params = MaxInfluencePolicyParams(\n",
    "    board_size=SIZE,\n",
    "    sigma=.8,\n",
    "    iota=20,\n",
    "    radial_constr = [.0625, .125, .25, .5],\n",
    "    radial_obstr = [-.0625, -.125, -.25, -.5]\n",
    ")\n",
    "soft_policy = MaxInfluencePolicy(params, criticality_model=None, pov=BLACK)"
   ],
   "metadata": {
    "collapsed": false,
    "pycharm": {
     "name": "#%%\n"
    }
   }
  },
  {
   "cell_type": "markdown",
   "source": [
    "### The plotter also ignores the boundary"
   ],
   "metadata": {
    "collapsed": false,
    "pycharm": {
     "name": "#%% md\n"
    }
   }
  },
  {
   "cell_type": "code",
   "execution_count": 10,
   "outputs": [
    {
     "name": "stdout",
     "output_type": "stream",
     "text": [
      "                             \n",
      " 7    .  .  .  .  .  .  .    \n",
      " 6    .  O  .  .  .  .  .    \n",
      " 5    .  .  O  X  .  .  .    \n",
      " 4    .  X  X  O  .  .  .    \n",
      " 3    .  .  .  .  .  .  .    \n",
      " 2    .  X  .  .  O  .  .    \n",
      " 1    .  .  .  .  .  .  .    \n",
      "                             \n",
      "      A  B  C  D  E  F  G\n"
     ]
    }
   ],
   "source": [
    "board.plot()"
   ],
   "metadata": {
    "collapsed": false,
    "pycharm": {
     "name": "#%%\n"
    }
   }
  },
  {
   "cell_type": "code",
   "execution_count": 11,
   "outputs": [
    {
     "name": "stdout",
     "output_type": "stream",
     "text": [
      "[[   0    0    0    0    0    0    0]\n",
      " [   0    0    0    0    0    0    0]\n",
      " [   0    0    0    0    0    0    0]\n",
      " [   0    0    0    0    0    0    0]\n",
      " [   0 1341  530    0  346    0    0]\n",
      " [   0    0   43    0    0   44    0]\n",
      " [   0    0    0    0    0    0    0]]\n"
     ]
    }
   ],
   "source": [
    "board.print_pi(soft_policy)"
   ],
   "metadata": {
    "collapsed": false,
    "pycharm": {
     "name": "#%%\n"
    }
   }
  },
  {
   "cell_type": "code",
   "execution_count": 12,
   "outputs": [],
   "source": [
    "Move=board.Stone"
   ],
   "metadata": {
    "collapsed": false,
    "pycharm": {
     "name": "#%%\n"
    }
   }
  },
  {
   "cell_type": "code",
   "execution_count": 13,
   "outputs": [
    {
     "name": "stdout",
     "output_type": "stream",
     "text": [
      "B3, row=4, column=1, ord=29\n"
     ]
    }
   ],
   "source": [
    "next_move = int(np.argmax(soft_policy(board.math_rep)))\n",
    "next_move = Move(next_move)\n",
    "print(f\"{next_move}, row={next_move.r}, column={next_move.c}, ord={next_move.i}\")"
   ],
   "metadata": {
    "collapsed": false,
    "pycharm": {
     "name": "#%%\n"
    }
   }
  },
  {
   "cell_type": "code",
   "execution_count": 14,
   "outputs": [
    {
     "name": "stdout",
     "output_type": "stream",
     "text": [
      "                             \n",
      " 7    .  .  .  .  .  .  .    \n",
      " 6    .  O  .  .  .  .  .    \n",
      " 5    .  .  O  X  .  .  .    \n",
      " 4    .  X  X  O  .  .  .    \n",
      " 3    .  X  .  .  .  .  .    \n",
      " 2    .  X  .  .  O  .  .    \n",
      " 1    .  .  .  .  .  .  .    \n",
      "                             \n",
      "      A  B  C  D  E  F  G\n"
     ]
    }
   ],
   "source": [
    "board.act(next_move).plot()"
   ],
   "metadata": {
    "collapsed": false,
    "pycharm": {
     "name": "#%%\n"
    }
   }
  },
  {
   "cell_type": "code",
   "execution_count": 15,
   "outputs": [],
   "source": [
    "game = GomokuGame(SIZE, detector=hard_policy, model=soft_policy)"
   ],
   "metadata": {
    "collapsed": false,
    "pycharm": {
     "name": "#%%\n"
    }
   }
  },
  {
   "cell_type": "code",
   "execution_count": 16,
   "outputs": [],
   "source": [
    "pi = np.squeeze(soft_policy(board.math_rep))\n",
    "symmetries = game.get_symmetries(board.canonical_representation(), pi)"
   ],
   "metadata": {
    "collapsed": false,
    "pycharm": {
     "name": "#%%\n"
    }
   }
  },
  {
   "cell_type": "code",
   "execution_count": 21,
   "outputs": [
    {
     "name": "stdout",
     "output_type": "stream",
     "text": [
      "shape: (9, 9, 3)\n",
      "[[0 0 0 0 0 0 0 0 0]\n",
      " [0 0 0 0 0 0 0 0 0]\n",
      " [0 0 0 0 0 0 0 0 0]\n",
      " [0 0 1 0 0 0 0 0 0]\n",
      " [0 0 0 0 1 2 0 0 0]\n",
      " [0 0 0 0 2 1 0 0 0]\n",
      " [0 0 2 2 2 0 1 0 0]\n",
      " [0 0 0 0 0 0 0 0 0]\n",
      " [0 0 0 0 0 0 0 0 0]]\n",
      "[[   0    0    0    0    0    0    0]\n",
      " [   0   62    0    0    0    0    0]\n",
      " [   0    0 1065    0    0    0    0]\n",
      " [   0    0    0    0    0    0    0]\n",
      " [   0   97  280    0    0    0    0]\n",
      " [   0    0    0    0    0    0    0]\n",
      " [   0    0    0    0    0    0    0]]\n",
      "shape: (9, 9, 3)\n",
      "[[0 0 0 0 0 0 0 0 0]\n",
      " [0 0 0 0 0 0 0 0 0]\n",
      " [0 0 0 0 0 0 0 0 0]\n",
      " [0 0 0 0 0 0 1 0 0]\n",
      " [0 0 0 2 1 0 0 0 0]\n",
      " [0 0 0 1 2 0 0 0 0]\n",
      " [0 0 1 0 2 2 2 0 0]\n",
      " [0 0 0 0 0 0 0 0 0]\n",
      " [0 0 0 0 0 0 0 0 0]]\n",
      "[[   0    0    0    0    0    0    0]\n",
      " [   0    0    0    0    0   62    0]\n",
      " [   0    0    0    0 1065    0    0]\n",
      " [   0    0    0    0    0    0    0]\n",
      " [   0    0    0    0  280   97    0]\n",
      " [   0    0    0    0    0    0    0]\n",
      " [   0    0    0    0    0    0    0]]\n",
      "shape: (9, 9, 3)\n",
      "[[0 0 0 0 0 0 0 0 0]\n",
      " [0 0 0 0 0 0 0 0 0]\n",
      " [0 0 2 0 0 1 0 0 0]\n",
      " [0 0 2 0 0 0 0 0 0]\n",
      " [0 0 2 2 1 0 0 0 0]\n",
      " [0 0 0 1 2 0 0 0 0]\n",
      " [0 0 1 0 0 0 0 0 0]\n",
      " [0 0 0 0 0 0 0 0 0]\n",
      " [0 0 0 0 0 0 0 0 0]]\n",
      "[[   0    0    0    0    0    0    0]\n",
      " [   0    0   97    0    0   62    0]\n",
      " [   0    0  280    0 1065    0    0]\n",
      " [   0    0    0    0    0    0    0]\n",
      " [   0    0    0    0    0    0    0]\n",
      " [   0    0    0    0    0    0    0]\n",
      " [   0    0    0    0    0    0    0]]\n",
      "shape: (9, 9, 3)\n",
      "[[0 0 0 0 0 0 0 0 0]\n",
      " [0 0 0 0 0 0 0 0 0]\n",
      " [0 0 0 1 0 0 2 0 0]\n",
      " [0 0 0 0 0 0 2 0 0]\n",
      " [0 0 0 0 1 2 2 0 0]\n",
      " [0 0 0 0 2 1 0 0 0]\n",
      " [0 0 0 0 0 0 1 0 0]\n",
      " [0 0 0 0 0 0 0 0 0]\n",
      " [0 0 0 0 0 0 0 0 0]]\n",
      "[[   0    0    0    0    0    0    0]\n",
      " [   0   62    0    0   97    0    0]\n",
      " [   0    0 1065    0  280    0    0]\n",
      " [   0    0    0    0    0    0    0]\n",
      " [   0    0    0    0    0    0    0]\n",
      " [   0    0    0    0    0    0    0]\n",
      " [   0    0    0    0    0    0    0]]\n",
      "shape: (9, 9, 3)\n",
      "[[0 0 0 0 0 0 0 0 0]\n",
      " [0 0 0 0 0 0 0 0 0]\n",
      " [0 0 1 0 2 2 2 0 0]\n",
      " [0 0 0 1 2 0 0 0 0]\n",
      " [0 0 0 2 1 0 0 0 0]\n",
      " [0 0 0 0 0 0 1 0 0]\n",
      " [0 0 0 0 0 0 0 0 0]\n",
      " [0 0 0 0 0 0 0 0 0]\n",
      " [0 0 0 0 0 0 0 0 0]]\n",
      "[[   0    0    0    0    0    0    0]\n",
      " [   0    0    0    0    0    0    0]\n",
      " [   0    0    0    0  280   97    0]\n",
      " [   0    0    0    0    0    0    0]\n",
      " [   0    0    0    0 1065    0    0]\n",
      " [   0    0    0    0    0   62    0]\n",
      " [   0    0    0    0    0    0    0]]\n",
      "shape: (9, 9, 3)\n",
      "[[0 0 0 0 0 0 0 0 0]\n",
      " [0 0 0 0 0 0 0 0 0]\n",
      " [0 0 2 2 2 0 1 0 0]\n",
      " [0 0 0 0 2 1 0 0 0]\n",
      " [0 0 0 0 1 2 0 0 0]\n",
      " [0 0 1 0 0 0 0 0 0]\n",
      " [0 0 0 0 0 0 0 0 0]\n",
      " [0 0 0 0 0 0 0 0 0]\n",
      " [0 0 0 0 0 0 0 0 0]]\n",
      "[[   0    0    0    0    0    0    0]\n",
      " [   0    0    0    0    0    0    0]\n",
      " [   0   97  280    0    0    0    0]\n",
      " [   0    0    0    0    0    0    0]\n",
      " [   0    0 1065    0    0    0    0]\n",
      " [   0   62    0    0    0    0    0]\n",
      " [   0    0    0    0    0    0    0]]\n",
      "shape: (9, 9, 3)\n",
      "[[0 0 0 0 0 0 0 0 0]\n",
      " [0 0 0 0 0 0 0 0 0]\n",
      " [0 0 0 0 0 0 1 0 0]\n",
      " [0 0 0 0 2 1 0 0 0]\n",
      " [0 0 0 0 1 2 2 0 0]\n",
      " [0 0 0 0 0 0 2 0 0]\n",
      " [0 0 0 1 0 0 2 0 0]\n",
      " [0 0 0 0 0 0 0 0 0]\n",
      " [0 0 0 0 0 0 0 0 0]]\n",
      "[[   0    0    0    0    0    0    0]\n",
      " [   0    0    0    0    0    0    0]\n",
      " [   0    0    0    0    0    0    0]\n",
      " [   0    0    0    0    0    0    0]\n",
      " [   0    0 1065    0  280    0    0]\n",
      " [   0   62    0    0   97    0    0]\n",
      " [   0    0    0    0    0    0    0]]\n",
      "shape: (9, 9, 3)\n",
      "[[0 0 0 0 0 0 0 0 0]\n",
      " [0 0 0 0 0 0 0 0 0]\n",
      " [0 0 1 0 0 0 0 0 0]\n",
      " [0 0 0 1 2 0 0 0 0]\n",
      " [0 0 2 2 1 0 0 0 0]\n",
      " [0 0 2 0 0 0 0 0 0]\n",
      " [0 0 2 0 0 1 0 0 0]\n",
      " [0 0 0 0 0 0 0 0 0]\n",
      " [0 0 0 0 0 0 0 0 0]]\n",
      "[[   0    0    0    0    0    0    0]\n",
      " [   0    0    0    0    0    0    0]\n",
      " [   0    0    0    0    0    0    0]\n",
      " [   0    0    0    0    0    0    0]\n",
      " [   0    0  280    0 1065    0    0]\n",
      " [   0    0   97    0    0   62    0]\n",
      " [   0    0    0    0    0    0    0]]\n"
     ]
    }
   ],
   "source": [
    "for s, p in symmetries:\n",
    "    Gt.print_bin(s, combine=True)\n",
    "    print((np.reshape(np.array(p)*1000, [7,7])).astype(int))"
   ],
   "metadata": {
    "collapsed": false,
    "pycharm": {
     "name": "#%%\n"
    }
   }
  },
  {
   "cell_type": "markdown",
   "source": [],
   "metadata": {
    "collapsed": false,
    "pycharm": {
     "name": "#%% md\n"
    }
   }
  },
  {
   "cell_type": "markdown",
   "source": [
    "---"
   ],
   "metadata": {
    "collapsed": false,
    "pycharm": {
     "name": "#%% md\n"
    }
   }
  },
  {
   "cell_type": "markdown",
   "source": [
    "# Pooling"
   ],
   "metadata": {
    "collapsed": false,
    "pycharm": {
     "name": "#%% md\n"
    }
   }
  },
  {
   "cell_type": "code",
   "execution_count": 34,
   "outputs": [
    {
     "name": "stdout",
     "output_type": "stream",
     "text": [
      "(1, 3, 3, 2, 1)\n"
     ]
    },
    {
     "data": {
      "text/plain": "<tf.Tensor: shape=(1, 3, 3, 1, 1), dtype=float32, numpy=\narray([[[[[2.]],\n\n         [[3.]],\n\n         [[4.]]],\n\n\n        [[[4.]],\n\n         [[3.]],\n\n         [[2.]]],\n\n\n        [[[3.]],\n\n         [[5.]],\n\n         [[3.]]]]], dtype=float32)>"
     },
     "execution_count": 34,
     "metadata": {},
     "output_type": "execute_result"
    }
   ],
   "source": [
    "import tensorflow as tf\n",
    "import numpy as np\n",
    "\n",
    "pool = tf.keras.layers.MaxPooling3D(pool_size=(1,1, 2))\n",
    "\n",
    "x = [[[1, 1, 1],[1, 1, 1],[1, 5, 1]], [[2, 3, 4],[4, 3, 2],[3, 1, 3]]]\n",
    "x = np.array(x).astype(float)\n",
    "x = np.rollaxis(x, 0, 3).reshape((1, 3, 3, 2, 1))\n",
    "print(x.shape)\n",
    "\n",
    "pool(x)"
   ],
   "metadata": {
    "collapsed": false,
    "pycharm": {
     "name": "#%%\n"
    }
   }
  },
  {
   "cell_type": "code",
   "execution_count": 28,
   "outputs": [
    {
     "data": {
      "text/plain": "TensorShape([1, 3, 3, 1, 1])"
     },
     "execution_count": 28,
     "metadata": {},
     "output_type": "execute_result"
    }
   ],
   "source": [
    "pool(x).shape"
   ],
   "metadata": {
    "collapsed": false,
    "pycharm": {
     "name": "#%%\n"
    }
   }
  },
  {
   "cell_type": "code",
   "execution_count": null,
   "outputs": [],
   "source": [],
   "metadata": {
    "collapsed": false,
    "pycharm": {
     "name": "#%%\n"
    }
   }
  }
 ],
 "metadata": {
  "kernelspec": {
   "display_name": "Python 3",
   "language": "python",
   "name": "python3"
  },
  "language_info": {
   "codemirror_mode": {
    "name": "ipython",
    "version": 2
   },
   "file_extension": ".py",
   "mimetype": "text/x-python",
   "name": "python",
   "nbconvert_exporter": "python",
   "pygments_lexer": "ipython2",
   "version": "2.7.6"
  }
 },
 "nbformat": 4,
 "nbformat_minor": 0
}