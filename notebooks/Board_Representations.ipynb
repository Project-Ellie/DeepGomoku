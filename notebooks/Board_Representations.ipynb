{
 "cells": [
  {
   "cell_type": "markdown",
   "source": [
    "# TODO (2022-08-28): Talk about the representation\n",
    "- NxNx3 + boundary\n",
    "- symmetries\n",
    "- tools"
   ],
   "metadata": {
    "collapsed": false,
    "pycharm": {
     "name": "#%% md\n"
    }
   }
  },
  {
   "cell_type": "markdown",
   "source": [
    "### The Board and Move classes are meant to be human-friendly in print and ML-friendly in their internal representation"
   ],
   "metadata": {
    "collapsed": false,
    "pycharm": {
     "name": "#%% md\n"
    }
   }
  },
  {
   "cell_type": "code",
   "execution_count": 1,
   "outputs": [],
   "source": [
    "%load_ext autoreload\n",
    "%autoreload 2"
   ],
   "metadata": {
    "collapsed": false,
    "pycharm": {
     "name": "#%%\n"
    }
   }
  },
  {
   "cell_type": "code",
   "execution_count": 2,
   "outputs": [],
   "source": [
    "SIZE=15"
   ],
   "metadata": {
    "collapsed": false,
    "pycharm": {
     "name": "#%%\n"
    }
   }
  },
  {
   "cell_type": "markdown",
   "source": [
    "#### Fastest representation for quick analysis\n",
    "`print_channels`"
   ],
   "metadata": {
    "collapsed": false,
    "pycharm": {
     "name": "#%% md\n"
    }
   }
  },
  {
   "cell_type": "code",
   "execution_count": 3,
   "outputs": [
    {
     "name": "stderr",
     "output_type": "stream",
     "text": [
      "2022-09-12 18:25:34.189720: I tensorflow/core/platform/cpu_feature_guard.cc:193] This TensorFlow binary is optimized with oneAPI Deep Neural Network Library (oneDNN) to use the following CPU instructions in performance-critical operations:  AVX2 FMA\n",
      "To enable them in other operations, rebuild TensorFlow with the appropriate compiler flags.\n"
     ]
    },
    {
     "name": "stdout",
     "output_type": "stream",
     "text": [
      "shape: (17, 17, 3)\n",
      "[[3 3 3 3 3 3 3 3 3 3 3 3 3 3 3 3 3]\n",
      " [3 0 0 0 0 0 0 0 0 0 0 0 0 0 0 0 3]\n",
      " [3 0 0 0 0 0 0 0 0 0 0 0 0 0 0 0 3]\n",
      " [3 0 0 0 0 0 0 0 0 0 0 0 0 0 0 0 3]\n",
      " [3 0 0 0 0 0 0 0 0 0 0 0 0 0 0 0 3]\n",
      " [3 0 0 0 0 0 0 0 0 0 0 0 0 0 0 0 3]\n",
      " [3 0 0 0 0 0 0 0 0 0 0 0 0 0 0 0 3]\n",
      " [3 0 0 0 0 0 0 0 0 0 0 0 0 0 0 0 3]\n",
      " [3 0 0 0 0 0 0 0 0 0 0 0 0 0 0 0 3]\n",
      " [3 0 0 0 0 0 0 1 0 0 0 0 0 0 0 0 3]\n",
      " [3 0 0 0 0 0 2 0 0 0 0 0 0 0 0 0 3]\n",
      " [3 0 0 0 2 1 0 0 0 0 0 0 0 0 0 0 3]\n",
      " [3 0 0 0 2 0 0 0 0 0 0 0 0 0 0 0 3]\n",
      " [3 0 0 0 0 0 0 0 0 0 0 0 0 0 0 0 3]\n",
      " [3 0 0 0 0 0 0 0 0 0 0 0 0 0 0 0 3]\n",
      " [3 0 0 0 0 0 0 0 0 0 0 0 0 0 0 0 3]\n",
      " [3 3 3 3 3 3 3 3 3 3 3 3 3 3 3 3 3]]\n"
     ]
    }
   ],
   "source": [
    "import aegomoku.tools as gt\n",
    "from aegomoku.gomoku_board import *\n",
    "\n",
    "board = GomokuBoard(SIZE, game_state=None, stones=\"d4e5f6g7d5\")\n",
    "\n",
    "gt.print_channels(board.canonical_representation(), combine=True)"
   ],
   "metadata": {
    "collapsed": false,
    "pycharm": {
     "name": "#%%\n"
    }
   }
  },
  {
   "cell_type": "markdown",
   "source": [
    "#### We can chose between X=black and X=current"
   ],
   "metadata": {
    "collapsed": false,
    "pycharm": {
     "name": "#%% md\n"
    }
   }
  },
  {
   "cell_type": "code",
   "execution_count": 4,
   "outputs": [
    {
     "name": "stdout",
     "output_type": "stream",
     "text": [
      "                                                     \n",
      "15    .  .  .  .  .  .  .  .  .  .  .  .  .  .  .    \n",
      "14    .  .  .  .  .  .  .  .  .  .  .  .  .  .  .    \n",
      "13    .  .  .  .  .  .  .  .  .  .  .  .  .  .  .    \n",
      "12    .  .  .  .  .  .  .  .  .  .  .  .  .  .  .    \n",
      "11    .  .  .  .  .  .  .  .  .  .  .  .  .  .  .    \n",
      "10    .  .  .  .  .  .  .  .  .  .  .  .  .  .  .    \n",
      " 9    .  .  .  .  .  .  .  .  .  .  .  .  .  .  .    \n",
      " 8    .  .  .  .  .  .  .  .  .  .  .  .  .  .  .    \n",
      " 7    .  .  .  .  .  .  O  .  .  .  .  .  .  .  .    \n",
      " 6    .  .  .  .  .  X  .  .  .  .  .  .  .  .  .    \n",
      " 5    .  .  . [X] O  .  .  .  .  .  .  .  .  .  .    \n",
      " 4    .  .  .  X  .  .  .  .  .  .  .  .  .  .  .    \n",
      " 3    .  .  .  .  .  .  .  .  .  .  .  .  .  .  .    \n",
      " 2    .  .  .  .  .  .  .  .  .  .  .  .  .  .  .    \n",
      " 1    .  .  .  .  .  .  .  .  .  .  .  .  .  .  .    \n",
      "                                                     \n",
      "      A  B  C  D  E  F  G  H  I  J  K  L  M  N  O\n"
     ]
    }
   ],
   "source": [
    "# For humans:  X is always black\n",
    "board.plot()"
   ],
   "metadata": {
    "collapsed": false,
    "pycharm": {
     "name": "#%%\n"
    }
   }
  },
  {
   "cell_type": "code",
   "execution_count": 5,
   "outputs": [
    {
     "name": "stdout",
     "output_type": "stream",
     "text": [
      "                                                     \n",
      "15    .  .  .  .  .  .  .  .  .  .  .  .  .  .  .    \n",
      "14    .  .  .  .  .  .  .  .  .  .  .  .  .  .  .    \n",
      "13    .  .  .  .  .  .  .  .  .  .  .  .  .  .  .    \n",
      "12    .  .  .  .  .  .  .  .  .  .  .  .  .  .  .    \n",
      "11    .  .  .  .  .  .  .  .  .  .  .  .  .  .  .    \n",
      "10    .  .  .  .  .  .  .  .  .  .  .  .  .  .  .    \n",
      " 9    .  .  .  .  .  .  .  .  .  .  .  .  .  .  .    \n",
      " 8    .  .  .  .  .  .  .  .  .  .  .  .  .  .  .    \n",
      " 7    .  .  .  .  .  .  X  .  .  .  .  .  .  .  .    \n",
      " 6    .  .  .  .  .  O  .  .  .  .  .  .  .  .  .    \n",
      " 5    .  .  . [O] X  .  .  .  .  .  .  .  .  .  .    \n",
      " 4    .  .  .  O  .  .  .  .  .  .  .  .  .  .  .    \n",
      " 3    .  .  .  .  .  .  .  .  .  .  .  .  .  .  .    \n",
      " 2    .  .  .  .  .  .  .  .  .  .  .  .  .  .  .    \n",
      " 1    .  .  .  .  .  .  .  .  .  .  .  .  .  .  .    \n",
      "                                                     \n",
      "      A  B  C  D  E  F  G  H  I  J  K  L  M  N  O\n"
     ]
    }
   ],
   "source": [
    "# For ML:  X is always next player\n",
    "board.plot(x_is_next=True)"
   ],
   "metadata": {
    "collapsed": false,
    "pycharm": {
     "name": "#%%\n"
    }
   }
  },
  {
   "cell_type": "markdown",
   "source": [
    "### The mathematical representation $(N+1) \\times (N+1) \\times 3$\n",
    "Observe that the board is actually larger and features three channels:\n",
    " - a channel exclusively for black stones\n",
    " - a channel exclusively for white stones\n",
    " - a channel for the 'physical' boundary of the board"
   ],
   "metadata": {
    "collapsed": false,
    "pycharm": {
     "name": "#%% md\n"
    }
   }
  },
  {
   "cell_type": "markdown",
   "source": [
    "---\n",
    "#### All positions are validated"
   ],
   "metadata": {
    "collapsed": false,
    "pycharm": {
     "name": "#%% md\n"
    }
   }
  },
  {
   "cell_type": "code",
   "execution_count": 6,
   "outputs": [
    {
     "ename": "AssertionError",
     "evalue": "Not all stones in valid range",
     "output_type": "error",
     "traceback": [
      "\u001B[0;31m---------------------------------------------------------------------------\u001B[0m",
      "\u001B[0;31mAssertionError\u001B[0m                            Traceback (most recent call last)",
      "Cell \u001B[0;32mIn [6], line 1\u001B[0m\n\u001B[0;32m----> 1\u001B[0m board \u001B[38;5;241m=\u001B[39m \u001B[43mGomokuBoard\u001B[49m\u001B[43m(\u001B[49m\u001B[43mSIZE\u001B[49m\u001B[43m,\u001B[49m\u001B[43m \u001B[49m\u001B[38;5;124;43m\"\u001B[39;49m\u001B[38;5;124;43md4d16o4\u001B[39;49m\u001B[38;5;124;43m\"\u001B[39;49m\u001B[43m)\u001B[49m\n",
      "File \u001B[0;32m~/workspace/Project-Ellie/DeepGomoku/aegomoku/gomoku_board.py:158\u001B[0m, in \u001B[0;36mGomokuBoard.__init__\u001B[0;34m(self, board_size, stones, x_means)\u001B[0m\n\u001B[1;32m    155\u001B[0m \u001B[38;5;28mself\u001B[39m\u001B[38;5;241m.\u001B[39mstones \u001B[38;5;241m=\u001B[39m stones \u001B[38;5;28;01mif\u001B[39;00m stones \u001B[38;5;129;01mis\u001B[39;00m \u001B[38;5;129;01mnot\u001B[39;00m \u001B[38;5;28;01mNone\u001B[39;00m \u001B[38;5;28;01melse\u001B[39;00m []\n\u001B[1;32m    157\u001B[0m \u001B[38;5;28;01mif\u001B[39;00m stones \u001B[38;5;129;01mis\u001B[39;00m \u001B[38;5;129;01mnot\u001B[39;00m \u001B[38;5;28;01mNone\u001B[39;00m \u001B[38;5;129;01mand\u001B[39;00m \u001B[38;5;28mlen\u001B[39m(stones) \u001B[38;5;241m>\u001B[39m \u001B[38;5;241m0\u001B[39m:\n\u001B[0;32m--> 158\u001B[0m     \u001B[38;5;28;43mself\u001B[39;49m\u001B[38;5;241;43m.\u001B[39;49m\u001B[43m_assert_valid\u001B[49m\u001B[43m(\u001B[49m\u001B[43mstones\u001B[49m\u001B[43m)\u001B[49m\n\u001B[1;32m    159\u001B[0m     \u001B[38;5;28;01mfor\u001B[39;00m stone \u001B[38;5;129;01min\u001B[39;00m stones[::\u001B[38;5;241m-\u001B[39m\u001B[38;5;241m1\u001B[39m]:\n\u001B[1;32m    160\u001B[0m         \u001B[38;5;28mself\u001B[39m\u001B[38;5;241m.\u001B[39mmath_rep[stone\u001B[38;5;241m.\u001B[39mr \u001B[38;5;241m+\u001B[39m \u001B[38;5;241m1\u001B[39m, stone\u001B[38;5;241m.\u001B[39mc \u001B[38;5;241m+\u001B[39m \u001B[38;5;241m1\u001B[39m, channel] \u001B[38;5;241m=\u001B[39m \u001B[38;5;241m1\u001B[39m\n",
      "File \u001B[0;32m~/workspace/Project-Ellie/DeepGomoku/aegomoku/gomoku_board.py:207\u001B[0m, in \u001B[0;36mGomokuBoard._assert_valid\u001B[0;34m(self, stones)\u001B[0m\n\u001B[1;32m    205\u001B[0m \u001B[38;5;28;01mdef\u001B[39;00m \u001B[38;5;21m_assert_valid\u001B[39m(\u001B[38;5;28mself\u001B[39m, stones: List):\n\u001B[1;32m    206\u001B[0m     \u001B[38;5;28;01massert\u001B[39;00m \u001B[38;5;28mlen\u001B[39m(\u001B[38;5;28mset\u001B[39m(stones)) \u001B[38;5;241m==\u001B[39m \u001B[38;5;28mlen\u001B[39m(stones), \u001B[38;5;124mf\u001B[39m\u001B[38;5;124m\"\u001B[39m\u001B[38;5;124mStones are not unique: \u001B[39m\u001B[38;5;132;01m{\u001B[39;00mstones\u001B[38;5;132;01m}\u001B[39;00m\u001B[38;5;124m\"\u001B[39m\n\u001B[0;32m--> 207\u001B[0m     \u001B[38;5;28;01massert\u001B[39;00m \u001B[38;5;28mall\u001B[39m([\u001B[38;5;28mself\u001B[39m\u001B[38;5;241m.\u001B[39mboard_size \u001B[38;5;241m-\u001B[39m \u001B[38;5;241m1\u001B[39m \u001B[38;5;241m>\u001B[39m\u001B[38;5;241m=\u001B[39m s\u001B[38;5;241m.\u001B[39mr \u001B[38;5;241m>\u001B[39m\u001B[38;5;241m=\u001B[39m \u001B[38;5;241m0\u001B[39m \u001B[38;5;28;01mfor\u001B[39;00m s \u001B[38;5;129;01min\u001B[39;00m stones]), \u001B[38;5;124m\"\u001B[39m\u001B[38;5;124mNot all stones in valid range\u001B[39m\u001B[38;5;124m\"\u001B[39m\n\u001B[1;32m    208\u001B[0m     \u001B[38;5;28;01massert\u001B[39;00m \u001B[38;5;28mall\u001B[39m([\u001B[38;5;28mself\u001B[39m\u001B[38;5;241m.\u001B[39mboard_size \u001B[38;5;241m-\u001B[39m \u001B[38;5;241m1\u001B[39m \u001B[38;5;241m>\u001B[39m\u001B[38;5;241m=\u001B[39m s\u001B[38;5;241m.\u001B[39mc \u001B[38;5;241m>\u001B[39m\u001B[38;5;241m=\u001B[39m \u001B[38;5;241m0\u001B[39m \u001B[38;5;28;01mfor\u001B[39;00m s \u001B[38;5;129;01min\u001B[39;00m stones]), \u001B[38;5;124m\"\u001B[39m\u001B[38;5;124mNot all stones in valid range\u001B[39m\u001B[38;5;124m\"\u001B[39m\n",
      "\u001B[0;31mAssertionError\u001B[0m: Not all stones in valid range"
     ]
    }
   ],
   "source": [
    "board = GomokuBoard(SIZE, game_state=None, stones=\"d4d16o4\")"
   ],
   "metadata": {
    "collapsed": false,
    "pycharm": {
     "name": "#%%\n"
    }
   }
  },
  {
   "cell_type": "code",
   "execution_count": 7,
   "outputs": [],
   "source": [
    "from aegomoku.constants_15x15 import *"
   ],
   "metadata": {
    "collapsed": false,
    "pycharm": {
     "name": "#%%\n"
    }
   }
  },
  {
   "cell_type": "code",
   "execution_count": 8,
   "outputs": [
    {
     "ename": "AssertionError",
     "evalue": "D4 is occupied.",
     "output_type": "error",
     "traceback": [
      "\u001B[0;31m---------------------------------------------------------------------------\u001B[0m",
      "\u001B[0;31mAssertionError\u001B[0m                            Traceback (most recent call last)",
      "Cell \u001B[0;32mIn [8], line 1\u001B[0m\n\u001B[0;32m----> 1\u001B[0m \u001B[43mboard\u001B[49m\u001B[38;5;241;43m.\u001B[39;49m\u001B[43mact\u001B[49m\u001B[43m(\u001B[49m\u001B[43mboard\u001B[49m\u001B[38;5;241;43m.\u001B[39;49m\u001B[43mStone\u001B[49m\u001B[43m(\u001B[49m\u001B[43mD\u001B[49m\u001B[43m,\u001B[49m\u001B[43m \u001B[49m\u001B[38;5;241;43m4\u001B[39;49m\u001B[43m)\u001B[49m\u001B[43m)\u001B[49m\n",
      "File \u001B[0;32m~/workspace/Project-Ellie/DeepGomoku/aegomoku/gomoku_board.py:295\u001B[0m, in \u001B[0;36mGomokuBoard.act\u001B[0;34m(self, *args)\u001B[0m\n\u001B[1;32m    293\u001B[0m     stone \u001B[38;5;241m=\u001B[39m \u001B[38;5;28mself\u001B[39m\u001B[38;5;241m.\u001B[39mStone(\u001B[38;5;241m*\u001B[39margs)\n\u001B[1;32m    294\u001B[0m m \u001B[38;5;241m=\u001B[39m \u001B[38;5;28mself\u001B[39m\u001B[38;5;241m.\u001B[39mmath_rep\n\u001B[0;32m--> 295\u001B[0m \u001B[38;5;28;01massert\u001B[39;00m m[stone\u001B[38;5;241m.\u001B[39mr\u001B[38;5;241m+\u001B[39m\u001B[38;5;241m1\u001B[39m, stone\u001B[38;5;241m.\u001B[39mc\u001B[38;5;241m+\u001B[39m\u001B[38;5;241m1\u001B[39m, \u001B[38;5;241m0\u001B[39m] \u001B[38;5;241m==\u001B[39m m[stone\u001B[38;5;241m.\u001B[39mr\u001B[38;5;241m+\u001B[39m\u001B[38;5;241m1\u001B[39m, stone\u001B[38;5;241m.\u001B[39mc\u001B[38;5;241m+\u001B[39m\u001B[38;5;241m1\u001B[39m, \u001B[38;5;241m1\u001B[39m] \u001B[38;5;241m==\u001B[39m \u001B[38;5;241m0\u001B[39m, \u001B[38;5;124mf\u001B[39m\u001B[38;5;124m\"\u001B[39m\u001B[38;5;132;01m{\u001B[39;00mstone\u001B[38;5;132;01m}\u001B[39;00m\u001B[38;5;124m is occupied.\u001B[39m\u001B[38;5;124m\"\u001B[39m\n\u001B[1;32m    296\u001B[0m m[stone\u001B[38;5;241m.\u001B[39mr\u001B[38;5;241m+\u001B[39m\u001B[38;5;241m1\u001B[39m, stone\u001B[38;5;241m.\u001B[39mc\u001B[38;5;241m+\u001B[39m\u001B[38;5;241m1\u001B[39m, \u001B[38;5;241m0\u001B[39m] \u001B[38;5;241m=\u001B[39m \u001B[38;5;241m1\u001B[39m\n\u001B[1;32m    297\u001B[0m \u001B[38;5;28mself\u001B[39m\u001B[38;5;241m.\u001B[39mswap()\n",
      "\u001B[0;31mAssertionError\u001B[0m: D4 is occupied."
     ]
    }
   ],
   "source": [
    "board.act(board.Stone(D, 4))"
   ],
   "metadata": {
    "collapsed": false,
    "pycharm": {
     "name": "#%%\n"
    }
   }
  },
  {
   "cell_type": "markdown",
   "source": [
    "---"
   ],
   "metadata": {
    "collapsed": false,
    "pycharm": {
     "name": "#%% md\n"
    }
   }
  },
  {
   "cell_type": "markdown",
   "source": [
    "## Understanding board coordinates"
   ],
   "metadata": {
    "collapsed": false,
    "pycharm": {
     "name": "#%% md\n"
    }
   }
  },
  {
   "cell_type": "code",
   "execution_count": 9,
   "outputs": [],
   "source": [
    "# Take a minute to think about it: Stones make only sense in the context of a specific board instance!\n",
    "Stone = board.Stone"
   ],
   "metadata": {
    "collapsed": false,
    "pycharm": {
     "name": "#%%\n"
    }
   }
  },
  {
   "cell_type": "code",
   "execution_count": 10,
   "outputs": [
    {
     "name": "stdout",
     "output_type": "stream",
     "text": [
      "A15 = (0, 0) - ordinal = 0\n"
     ]
    }
   ],
   "source": [
    "move = Stone(A, SIZE)\n",
    "# board coordinates start with 1 and end with n because the boundary stones are part of the board\n",
    "print(f\"{move} = ({move.r}, {move.c}) - ordinal = {move.i}\")"
   ],
   "metadata": {
    "collapsed": false,
    "pycharm": {
     "name": "#%%\n"
    }
   }
  },
  {
   "cell_type": "markdown",
   "source": [
    "---"
   ],
   "metadata": {
    "collapsed": false,
    "pycharm": {
     "name": "#%% md\n"
    }
   }
  },
  {
   "cell_type": "markdown",
   "source": [
    "# Statistical Population\n",
    "\n",
    "All moves vs all legal moves"
   ],
   "metadata": {
    "collapsed": false,
    "pycharm": {
     "name": "#%% md\n"
    }
   }
  },
  {
   "cell_type": "markdown",
   "source": [
    "\n",
    "### Legal moves are provided as ordinals to facilitate the sparse vector multiplication in the learning process\n",
    "Note that the boundary positions are never showing up"
   ],
   "metadata": {
    "collapsed": false,
    "pycharm": {
     "name": "#%% md\n"
    }
   }
  },
  {
   "cell_type": "code",
   "execution_count": 11,
   "outputs": [
    {
     "name": "stdout",
     "output_type": "stream",
     "text": [
      "220 [0, 1, 2, 3, 4, 5, 6, 7, 8, 9, 10, 11, 12, 13, 14, 15, 16, 17, 18, 19, 20, 21, 22, 23, 24, 25, 26, 27, 28, 29, 30, 31, 32, 33, 34, 35, 36, 37, 38, 39, 40, 41, 42, 43, 44, 45, 46, 47, 48, 49, 50, 51, 52, 53, 54, 55, 56, 57, 58, 59, 60, 61, 62, 63, 64, 65, 66, 67, 68, 69, 70, 71, 72, 73, 74, 75, 76, 77, 78, 79, 80, 81, 82, 83, 84, 85, 86, 87, 88, 89, 90, 91, 92, 93, 94, 95, 96, 97, 98, 99, 100, 101, 102, 103, 104, 105, 106, 107, 108, 109, 110, 111, 112, 113, 114, 115, 116, 117, 118, 119, 120, 121, 122, 123, 124, 125, 127, 128, 129, 130, 131, 132, 133, 134, 135, 136, 137, 138, 139, 141, 142, 143, 144, 145, 146, 147, 148, 149, 150, 151, 152, 155, 156, 157, 158, 159, 160, 161, 162, 163, 164, 165, 166, 167, 169, 170, 171, 172, 173, 174, 175, 176, 177, 178, 179, 180, 181, 182, 183, 184, 185, 186, 187, 188, 189, 190, 191, 192, 193, 194, 195, 196, 197, 198, 199, 200, 201, 202, 203, 204, 205, 206, 207, 208, 209, 210, 211, 212, 213, 214, 215, 216, 217, 218, 219, 220, 221, 222, 223, 224]\n"
     ]
    }
   ],
   "source": [
    "legals = board.get_legal_actions()\n",
    "print(len(legals), legals)"
   ],
   "metadata": {
    "collapsed": false,
    "pycharm": {
     "name": "#%%\n"
    }
   }
  },
  {
   "cell_type": "markdown",
   "source": [
    "## Even better visualization with matplotlib"
   ],
   "metadata": {
    "collapsed": false,
    "pycharm": {
     "name": "#%% md\n"
    }
   }
  },
  {
   "cell_type": "code",
   "execution_count": 12,
   "outputs": [],
   "source": [
    "import numpy as np\n",
    "import aegomoku.tools as gt\n",
    "from aegomoku.utils import analyse_board\n",
    "from aegomoku.policies.heuristic_policy import HeuristicPolicy\n",
    "from aegomoku.gomoku_board import GomokuBoard"
   ],
   "metadata": {
    "collapsed": false,
    "pycharm": {
     "name": "#%%\n"
    }
   }
  },
  {
   "cell_type": "code",
   "execution_count": 13,
   "outputs": [],
   "source": [
    "BOARD_SIZE = 15"
   ],
   "metadata": {
    "collapsed": false,
    "pycharm": {
     "name": "#%%\n"
    }
   }
  },
  {
   "cell_type": "code",
   "execution_count": 14,
   "outputs": [],
   "source": [
    "stones = \"C11F9E9G8F7G7G9H8I8H7I6I9F6H6H9I5J4\""
   ],
   "metadata": {
    "collapsed": false,
    "pycharm": {
     "name": "#%%\n"
    }
   }
  },
  {
   "cell_type": "code",
   "execution_count": 15,
   "outputs": [
    {
     "name": "stderr",
     "output_type": "stream",
     "text": [
      "2022-09-12 18:26:05.071489: I tensorflow/core/platform/cpu_feature_guard.cc:193] This TensorFlow binary is optimized with oneAPI Deep Neural Network Library (oneDNN) to use the following CPU instructions in performance-critical operations:  AVX2 FMA\n",
      "To enable them in other operations, rebuild TensorFlow with the appropriate compiler flags.\n",
      "/Users/wgiersche/.local/share/virtualenvs/DeepGomoku-cXtJ_EtM/lib/python3.10/site-packages/numpy/core/fromnumeric.py:2009: VisibleDeprecationWarning: Creating an ndarray from ragged nested sequences (which is a list-or-tuple of lists-or-tuples-or ndarrays with different lengths or shapes) is deprecated. If you meant to do this, you must specify 'dtype=object' when creating the ndarray.\n",
      "  result = asarray(a).shape\n"
     ]
    },
    {
     "data": {
      "text/plain": "<Figure size 600x600 with 1 Axes>",
      "image/png": "[encoded data removed]"
     },
     "metadata": {},
     "output_type": "display_data"
    }
   ],
   "source": [
    "policy = HeuristicPolicy(BOARD_SIZE)\n",
    "analyse_board(BOARD_SIZE, stones, policy)"
   ],
   "metadata": {
    "collapsed": false,
    "pycharm": {
     "name": "#%%\n"
    }
   }
  },
  {
   "cell_type": "code",
   "execution_count": 16,
   "outputs": [],
   "source": [
    "board = GomokuBoard(BOARD_SIZE, stones)\n",
    "Move = board.Stone"
   ],
   "metadata": {
    "collapsed": false,
    "pycharm": {
     "name": "#%%\n"
    }
   }
  },
  {
   "cell_type": "markdown",
   "source": [
    "# Symmetries\n",
    "The board, together with the resulting probabilities can be rotated or flipped to produce just another valid training example. In total, we 8-fold our training data."
   ],
   "metadata": {
    "collapsed": false,
    "pycharm": {
     "name": "#%% md\n"
    }
   }
  },
  {
   "cell_type": "code",
   "execution_count": 17,
   "outputs": [],
   "source": [
    "from aegomoku.gomoku_board import expand\n",
    "\n",
    "probs, v = policy.call(expand(board.canonical_representation()))"
   ],
   "metadata": {
    "collapsed": false,
    "pycharm": {
     "name": "#%%\n"
    }
   }
  },
  {
   "cell_type": "code",
   "execution_count": 18,
   "outputs": [
    {
     "data": {
      "text/plain": "(17, 17, 3)"
     },
     "execution_count": 18,
     "metadata": {},
     "output_type": "execute_result"
    }
   ],
   "source": [
    "from aegomoku.gomoku_game import GomokuGame\n",
    "\n",
    "gomoku = GomokuGame(15)\n",
    "math_rep = board.canonical_representation()\n",
    "symmetries = gomoku.get_symmetries(math_rep, probs)\n",
    "symmetries[0][0].shape"
   ],
   "metadata": {
    "collapsed": false,
    "pycharm": {
     "name": "#%%\n"
    }
   }
  },
  {
   "cell_type": "markdown",
   "source": [
    "We see the board diagonally flipped"
   ],
   "metadata": {
    "collapsed": false,
    "pycharm": {
     "name": "#%% md\n"
    }
   }
  },
  {
   "cell_type": "code",
   "execution_count": 19,
   "outputs": [
    {
     "name": "stdout",
     "output_type": "stream",
     "text": [
      "shape: (17, 17, 3)\n",
      "[[3 3 3 3 3 3 3 3 3 3 3 3 3 3 3 3 3]\n",
      " [3 0 0 0 0 0 0 0 0 0 0 0 0 0 0 0 3]\n",
      " [3 0 0 0 0 0 0 0 0 0 0 0 0 0 0 0 3]\n",
      " [3 0 0 0 0 0 0 0 0 0 0 0 0 0 0 0 3]\n",
      " [3 0 0 0 0 0 0 0 0 0 0 0 0 0 0 0 3]\n",
      " [3 0 0 0 0 0 0 0 0 0 0 0 0 0 0 0 3]\n",
      " [3 0 0 0 2 0 0 0 0 0 0 0 0 0 0 0 3]\n",
      " [3 0 0 0 0 1 2 0 2 1 0 0 0 0 0 0 3]\n",
      " [3 0 0 0 0 0 1 1 1 2 0 0 0 0 0 0 3]\n",
      " [3 0 0 0 0 0 0 1 1 2 0 0 0 0 0 0 3]\n",
      " [3 0 0 0 0 0 2 2 0 1 0 0 0 0 0 0 3]\n",
      " [3 0 0 0 0 0 0 0 0 2 0 0 0 0 0 0 3]\n",
      " [3 0 0 0 0 0 0 0 0 0 0 0 0 0 0 0 3]\n",
      " [3 0 0 0 0 0 0 0 0 0 0 2 0 0 0 0 3]\n",
      " [3 0 0 0 0 0 0 0 0 0 0 0 0 0 0 0 3]\n",
      " [3 0 0 0 0 0 0 0 0 0 0 0 0 0 0 0 3]\n",
      " [3 3 3 3 3 3 3 3 3 3 3 3 3 3 3 3 3]]\n"
     ]
    }
   ],
   "source": [
    "gt.print_channels(symmetries[0][0])"
   ],
   "metadata": {
    "collapsed": false,
    "pycharm": {
     "name": "#%%\n"
    }
   }
  },
  {
   "cell_type": "code",
   "execution_count": 20,
   "outputs": [],
   "source": [
    "# See how the probabilties rotate with the board"
   ],
   "metadata": {
    "collapsed": false,
    "pycharm": {
     "name": "#%%\n"
    }
   }
  },
  {
   "cell_type": "code",
   "execution_count": 21,
   "outputs": [
    {
     "name": "stdout",
     "output_type": "stream",
     "text": [
      "[[0 0 0 0 0 0 0 0 0 0 0 0 0 0 0]\n",
      " [0 0 0 0 0 0 0 0 0 0 0 0 0 0 0]\n",
      " [0 0 0 0 0 0 0 0 0 0 0 0 0 0 0]\n",
      " [0 0 0 0 0 0 0 0 1 0 0 0 0 0 0]\n",
      " [0 0 0 0 2 4 2 1 0 0 4 0 0 0 0]\n",
      " [0 0 0 0 4 4 4 0 0 4 0 0 0 0 0]\n",
      " [0 0 0 0 0 0 0 0 0 0 0 0 0 0 0]\n",
      " [0 0 0 6 8 0 0 0 0 0 0 0 0 0 0]\n",
      " [0 0 2 1 2 0 0 0 0 4 0 0 0 0 0]\n",
      " [0 2 0 4 6 0 0 0 0 0 4 0 0 0 0]\n",
      " [0 0 0 0 0 0 0 0 0 4 2 0 0 0 0]\n",
      " [0 0 0 0 0 0 0 0 0 4 6 0 0 0 0]\n",
      " [0 0 0 0 0 0 0 0 0 0 0 0 0 0 0]\n",
      " [0 0 0 0 0 0 0 0 0 0 0 4 0 0 0]\n",
      " [0 0 0 0 0 0 0 0 0 0 0 0 0 0 0]]\n",
      "\n",
      "[[0 0 0 0 0 0 0 0 0 0 0 0 0 0 0]\n",
      " [0 0 0 0 0 0 0 0 0 0 0 0 0 0 0]\n",
      " [0 0 0 0 0 0 0 0 0 0 0 0 0 0 0]\n",
      " [0 0 0 0 0 0 1 0 0 0 0 0 0 0 0]\n",
      " [0 0 0 0 4 0 0 1 2 4 2 0 0 0 0]\n",
      " [0 0 0 0 0 4 0 0 4 4 4 0 0 0 0]\n",
      " [0 0 0 0 0 0 0 0 0 0 0 0 0 0 0]\n",
      " [0 0 0 0 0 0 0 0 0 0 8 6 0 0 0]\n",
      " [0 0 0 0 0 4 0 0 0 0 2 1 2 0 0]\n",
      " [0 0 0 0 4 0 0 0 0 0 6 4 0 2 0]\n",
      " [0 0 0 0 2 4 0 0 0 0 0 0 0 0 0]\n",
      " [0 0 0 0 6 4 0 0 0 0 0 0 0 0 0]\n",
      " [0 0 0 0 0 0 0 0 0 0 0 0 0 0 0]\n",
      " [0 0 0 4 0 0 0 0 0 0 0 0 0 0 0]\n",
      " [0 0 0 0 0 0 0 0 0 0 0 0 0 0 0]]\n",
      "\n",
      "[[0 0 0 0 0 0 0 0 0 0 0 0 0 0 0]\n",
      " [0 0 0 0 0 2 0 0 0 0 0 0 0 0 0]\n",
      " [0 0 0 0 0 0 2 0 0 0 0 0 0 0 0]\n",
      " [0 0 0 0 0 4 1 6 0 0 0 0 0 0 0]\n",
      " [0 0 0 0 0 6 2 8 0 4 2 0 0 0 0]\n",
      " [0 0 0 0 0 0 0 0 0 4 4 0 0 0 0]\n",
      " [0 0 0 0 0 0 0 0 0 4 2 0 0 0 0]\n",
      " [0 0 0 0 0 0 0 0 0 0 1 0 0 0 0]\n",
      " [0 0 0 0 0 0 0 0 0 0 0 1 0 0 0]\n",
      " [0 0 0 4 4 0 4 0 0 4 0 0 0 0 0]\n",
      " [0 0 0 6 2 4 0 0 0 0 4 0 0 0 0]\n",
      " [0 4 0 0 0 0 0 0 0 0 0 0 0 0 0]\n",
      " [0 0 0 0 0 0 0 0 0 0 0 0 0 0 0]\n",
      " [0 0 0 0 0 0 0 0 0 0 0 0 0 0 0]\n",
      " [0 0 0 0 0 0 0 0 0 0 0 0 0 0 0]]\n",
      "\n",
      "[[0 0 0 0 0 0 0 0 0 0 0 0 0 0 0]\n",
      " [0 0 0 0 0 0 0 0 0 2 0 0 0 0 0]\n",
      " [0 0 0 0 0 0 0 0 2 0 0 0 0 0 0]\n",
      " [0 0 0 0 0 0 0 6 1 4 0 0 0 0 0]\n",
      " [0 0 0 0 2 4 0 8 2 6 0 0 0 0 0]\n",
      " [0 0 0 0 4 4 0 0 0 0 0 0 0 0 0]\n",
      " [0 0 0 0 2 4 0 0 0 0 0 0 0 0 0]\n",
      " [0 0 0 0 1 0 0 0 0 0 0 0 0 0 0]\n",
      " [0 0 0 1 0 0 0 0 0 0 0 0 0 0 0]\n",
      " [0 0 0 0 0 4 0 0 4 0 4 4 0 0 0]\n",
      " [0 0 0 0 4 0 0 0 0 4 2 6 0 0 0]\n",
      " [0 0 0 0 0 0 0 0 0 0 0 0 0 4 0]\n",
      " [0 0 0 0 0 0 0 0 0 0 0 0 0 0 0]\n",
      " [0 0 0 0 0 0 0 0 0 0 0 0 0 0 0]\n",
      " [0 0 0 0 0 0 0 0 0 0 0 0 0 0 0]]\n",
      "\n",
      "[[0 0 0 0 0 0 0 0 0 0 0 0 0 0 0]\n",
      " [0 0 0 4 0 0 0 0 0 0 0 0 0 0 0]\n",
      " [0 0 0 0 0 0 0 0 0 0 0 0 0 0 0]\n",
      " [0 0 0 0 6 4 0 0 0 0 0 0 0 0 0]\n",
      " [0 0 0 0 2 4 0 0 0 0 0 0 0 0 0]\n",
      " [0 0 0 0 4 0 0 0 0 0 6 4 0 2 0]\n",
      " [0 0 0 0 0 4 0 0 0 0 2 1 2 0 0]\n",
      " [0 0 0 0 0 0 0 0 0 0 8 6 0 0 0]\n",
      " [0 0 0 0 0 0 0 0 0 0 0 0 0 0 0]\n",
      " [0 0 0 0 0 4 0 0 4 4 4 0 0 0 0]\n",
      " [0 0 0 0 4 0 0 1 2 4 2 0 0 0 0]\n",
      " [0 0 0 0 0 0 1 0 0 0 0 0 0 0 0]\n",
      " [0 0 0 0 0 0 0 0 0 0 0 0 0 0 0]\n",
      " [0 0 0 0 0 0 0 0 0 0 0 0 0 0 0]\n",
      " [0 0 0 0 0 0 0 0 0 0 0 0 0 0 0]]\n",
      "\n",
      "[[0 0 0 0 0 0 0 0 0 0 0 0 0 0 0]\n",
      " [0 0 0 0 0 0 0 0 0 0 0 4 0 0 0]\n",
      " [0 0 0 0 0 0 0 0 0 0 0 0 0 0 0]\n",
      " [0 0 0 0 0 0 0 0 0 4 6 0 0 0 0]\n",
      " [0 0 0 0 0 0 0 0 0 4 2 0 0 0 0]\n",
      " [0 2 0 4 6 0 0 0 0 0 4 0 0 0 0]\n",
      " [0 0 2 1 2 0 0 0 0 4 0 0 0 0 0]\n",
      " [0 0 0 6 8 0 0 0 0 0 0 0 0 0 0]\n",
      " [0 0 0 0 0 0 0 0 0 0 0 0 0 0 0]\n",
      " [0 0 0 0 4 4 4 0 0 4 0 0 0 0 0]\n",
      " [0 0 0 0 2 4 2 1 0 0 4 0 0 0 0]\n",
      " [0 0 0 0 0 0 0 0 1 0 0 0 0 0 0]\n",
      " [0 0 0 0 0 0 0 0 0 0 0 0 0 0 0]\n",
      " [0 0 0 0 0 0 0 0 0 0 0 0 0 0 0]\n",
      " [0 0 0 0 0 0 0 0 0 0 0 0 0 0 0]]\n",
      "\n",
      "[[0 0 0 0 0 0 0 0 0 0 0 0 0 0 0]\n",
      " [0 0 0 0 0 0 0 0 0 0 0 0 0 0 0]\n",
      " [0 0 0 0 0 0 0 0 0 0 0 0 0 0 0]\n",
      " [0 0 0 0 0 0 0 0 0 0 0 0 0 4 0]\n",
      " [0 0 0 0 4 0 0 0 0 4 2 6 0 0 0]\n",
      " [0 0 0 0 0 4 0 0 4 0 4 4 0 0 0]\n",
      " [0 0 0 1 0 0 0 0 0 0 0 0 0 0 0]\n",
      " [0 0 0 0 1 0 0 0 0 0 0 0 0 0 0]\n",
      " [0 0 0 0 2 4 0 0 0 0 0 0 0 0 0]\n",
      " [0 0 0 0 4 4 0 0 0 0 0 0 0 0 0]\n",
      " [0 0 0 0 2 4 0 8 2 6 0 0 0 0 0]\n",
      " [0 0 0 0 0 0 0 6 1 4 0 0 0 0 0]\n",
      " [0 0 0 0 0 0 0 0 2 0 0 0 0 0 0]\n",
      " [0 0 0 0 0 0 0 0 0 2 0 0 0 0 0]\n",
      " [0 0 0 0 0 0 0 0 0 0 0 0 0 0 0]]\n",
      "\n",
      "[[0 0 0 0 0 0 0 0 0 0 0 0 0 0 0]\n",
      " [0 0 0 0 0 0 0 0 0 0 0 0 0 0 0]\n",
      " [0 0 0 0 0 0 0 0 0 0 0 0 0 0 0]\n",
      " [0 4 0 0 0 0 0 0 0 0 0 0 0 0 0]\n",
      " [0 0 0 6 2 4 0 0 0 0 4 0 0 0 0]\n",
      " [0 0 0 4 4 0 4 0 0 4 0 0 0 0 0]\n",
      " [0 0 0 0 0 0 0 0 0 0 0 1 0 0 0]\n",
      " [0 0 0 0 0 0 0 0 0 0 1 0 0 0 0]\n",
      " [0 0 0 0 0 0 0 0 0 4 2 0 0 0 0]\n",
      " [0 0 0 0 0 0 0 0 0 4 4 0 0 0 0]\n",
      " [0 0 0 0 0 6 2 8 0 4 2 0 0 0 0]\n",
      " [0 0 0 0 0 4 1 6 0 0 0 0 0 0 0]\n",
      " [0 0 0 0 0 0 2 0 0 0 0 0 0 0 0]\n",
      " [0 0 0 0 0 2 0 0 0 0 0 0 0 0 0]\n",
      " [0 0 0 0 0 0 0 0 0 0 0 0 0 0 0]]\n",
      "\n"
     ]
    }
   ],
   "source": [
    "for i in range(8):\n",
    "    print((np.array(symmetries[i][1]).reshape(15, 15) * 100).astype(int))\n",
    "    print()"
   ],
   "metadata": {
    "collapsed": false,
    "pycharm": {
     "name": "#%%\n"
    }
   }
  },
  {
   "cell_type": "code",
   "execution_count": null,
   "outputs": [],
   "source": [],
   "metadata": {
    "collapsed": false,
    "pycharm": {
     "name": "#%%\n"
    }
   }
  }
 ],
 "metadata": {
  "kernelspec": {
   "display_name": "Python 3",
   "language": "python",
   "name": "python3"
  },
  "language_info": {
   "codemirror_mode": {
    "name": "ipython",
    "version": 2
   },
   "file_extension": ".py",
   "mimetype": "text/x-python",
   "name": "python",
   "nbconvert_exporter": "python",
   "pygments_lexer": "ipython2",
   "version": "2.7.6"
  }
 },
 "nbformat": 4,
 "nbformat_minor": 0
}