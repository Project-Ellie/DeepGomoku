{
 "cells": [
  {
   "cell_type": "code",
   "execution_count": 12,
   "outputs": [],
   "source": [
    "from domoku import data\n",
    "import domoku.jupyter_tools as jt\n",
    "from domoku.tools import GomokuTools as gt"
   ],
   "metadata": {
    "collapsed": false,
    "pycharm": {
     "name": "#%%\n"
    }
   }
  },
  {
   "cell_type": "code",
   "execution_count": 13,
   "outputs": [],
   "source": [
    "stones = 'B2D4D2'"
   ],
   "metadata": {
    "collapsed": false,
    "pycharm": {
     "name": "#%%\n"
    }
   }
  },
  {
   "cell_type": "code",
   "execution_count": 14,
   "outputs": [],
   "source": [
    "state = data.create_nxnx4(size=5, stones=stones)"
   ],
   "metadata": {
    "collapsed": false,
    "pycharm": {
     "name": "#%%\n"
    }
   }
  },
  {
   "cell_type": "code",
   "execution_count": 15,
   "outputs": [
    {
     "name": "stdout",
     "output_type": "stream",
     "text": [
      "shape: (5, 5, 4)\n",
      "[[0. 0. 0. 0. 0.]\n",
      " [0. 0. 0. 1. 0.]\n",
      " [0. 0. 0. 0. 0.]\n",
      " [0. 2. 0. 2. 0.]\n",
      " [0. 0. 0. 0. 0.]]\n"
     ]
    }
   ],
   "source": [
    "jt.print_bin(state, True)"
   ],
   "metadata": {
    "collapsed": false,
    "pycharm": {
     "name": "#%%\n"
    }
   }
  },
  {
   "cell_type": "code",
   "execution_count": 19,
   "outputs": [],
   "source": [
    "all_stones_t = [data.transform(gt.string_to_stones(stones), 5, rot, ref)\n",
    "                for rot in range(4)\n",
    "                for ref in [False, True]]"
   ],
   "metadata": {
    "collapsed": false,
    "pycharm": {
     "name": "#%%\n"
    }
   }
  },
  {
   "cell_type": "code",
   "execution_count": 20,
   "outputs": [
    {
     "name": "stdout",
     "output_type": "stream",
     "text": [
      "shape: (5, 5, 4)\n",
      "[[0. 0. 0. 0. 0.]\n",
      " [0. 0. 0. 1. 0.]\n",
      " [0. 0. 0. 0. 0.]\n",
      " [0. 2. 0. 2. 0.]\n",
      " [0. 0. 0. 0. 0.]]\n",
      "shape: (5, 5, 4)\n",
      "[[0. 0. 0. 0. 0.]\n",
      " [0. 1. 0. 0. 0.]\n",
      " [0. 0. 0. 0. 0.]\n",
      " [0. 2. 0. 2. 0.]\n",
      " [0. 0. 0. 0. 0.]]\n",
      "shape: (5, 5, 4)\n",
      "[[0. 0. 0. 0. 0.]\n",
      " [0. 1. 0. 2. 0.]\n",
      " [0. 0. 0. 0. 0.]\n",
      " [0. 0. 0. 2. 0.]\n",
      " [0. 0. 0. 0. 0.]]\n",
      "shape: (5, 5, 4)\n",
      "[[0. 0. 0. 0. 0.]\n",
      " [0. 2. 0. 1. 0.]\n",
      " [0. 0. 0. 0. 0.]\n",
      " [0. 2. 0. 0. 0.]\n",
      " [0. 0. 0. 0. 0.]]\n",
      "shape: (5, 5, 4)\n",
      "[[0. 0. 0. 0. 0.]\n",
      " [0. 2. 0. 2. 0.]\n",
      " [0. 0. 0. 0. 0.]\n",
      " [0. 1. 0. 0. 0.]\n",
      " [0. 0. 0. 0. 0.]]\n",
      "shape: (5, 5, 4)\n",
      "[[0. 0. 0. 0. 0.]\n",
      " [0. 2. 0. 2. 0.]\n",
      " [0. 0. 0. 0. 0.]\n",
      " [0. 0. 0. 1. 0.]\n",
      " [0. 0. 0. 0. 0.]]\n",
      "shape: (5, 5, 4)\n",
      "[[0. 0. 0. 0. 0.]\n",
      " [0. 2. 0. 0. 0.]\n",
      " [0. 0. 0. 0. 0.]\n",
      " [0. 2. 0. 1. 0.]\n",
      " [0. 0. 0. 0. 0.]]\n",
      "shape: (5, 5, 4)\n",
      "[[0. 0. 0. 0. 0.]\n",
      " [0. 0. 0. 2. 0.]\n",
      " [0. 0. 0. 0. 0.]\n",
      " [0. 1. 0. 2. 0.]\n",
      " [0. 0. 0. 0. 0.]]\n"
     ]
    }
   ],
   "source": [
    "for i in range(8):\n",
    "    jt.print_bin(data.create_nxnx4(5, stones = all_stones_t[i]), True)"
   ],
   "metadata": {
    "collapsed": false,
    "pycharm": {
     "name": "#%%\n"
    }
   }
  },
  {
   "cell_type": "code",
   "execution_count": null,
   "outputs": [],
   "source": [],
   "metadata": {
    "collapsed": false,
    "pycharm": {
     "name": "#%%\n"
    }
   }
  }
 ],
 "metadata": {
  "kernelspec": {
   "display_name": "Python 3",
   "language": "python",
   "name": "python3"
  },
  "language_info": {
   "codemirror_mode": {
    "name": "ipython",
    "version": 2
   },
   "file_extension": ".py",
   "mimetype": "text/x-python",
   "name": "python",
   "nbconvert_exporter": "python",
   "pygments_lexer": "ipython2",
   "version": "2.7.6"
  }
 },
 "nbformat": 4,
 "nbformat_minor": 0
}