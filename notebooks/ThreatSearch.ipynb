{
 "cells": [
  {
   "cell_type": "markdown",
   "source": [
    "# Threat Search Policy\n"
   ],
   "metadata": {
    "collapsed": false,
    "pycharm": {
     "name": "#%% md\n"
    }
   }
  },
  {
   "cell_type": "code",
   "execution_count": 1,
   "outputs": [],
   "source": [
    "%load_ext autoreload\n",
    "%autoreload 2"
   ],
   "metadata": {
    "collapsed": false,
    "pycharm": {
     "name": "#%%\n"
    }
   }
  },
  {
   "cell_type": "code",
   "execution_count": 2,
   "metadata": {
    "collapsed": true,
    "pycharm": {
     "name": "#%%\n"
    }
   },
   "outputs": [],
   "source": [
    "from domoku.tools import GomokuTools as Gt\n",
    "from domoku import jupyter_tools as jt\n",
    "\n",
    "from domoku.policies.threat_search import ThreatSearchPolicy"
   ]
  },
  {
   "cell_type": "code",
   "execution_count": 3,
   "outputs": [],
   "source": [
    "SIZE=15"
   ],
   "metadata": {
    "collapsed": false,
    "pycharm": {
     "name": "#%%\n"
    }
   }
  },
  {
   "cell_type": "code",
   "execution_count": 3,
   "outputs": [],
   "source": [],
   "metadata": {
    "collapsed": false,
    "pycharm": {
     "name": "#%%\n"
    }
   }
  },
  {
   "cell_type": "code",
   "execution_count": 4,
   "outputs": [
    {
     "name": "stderr",
     "output_type": "stream",
     "text": [
      "2022-06-26 02:23:22.736213: I tensorflow/core/platform/cpu_feature_guard.cc:193] This TensorFlow binary is optimized with oneAPI Deep Neural Network Library (oneDNN) to use the following CPU instructions in performance-critical operations:  AVX2 FMA\n",
      "To enable them in other operations, rebuild TensorFlow with the appropriate compiler flags.\n",
      "/Users/wgiersche/.local/share/virtualenvs/DeepGomoku-cXtJ_EtM/lib/python3.10/site-packages/numpy/core/fromnumeric.py:2007: VisibleDeprecationWarning: Creating an ndarray from ragged nested sequences (which is a list-or-tuple of lists-or-tuples-or ndarrays with different lengths or shapes) is deprecated. If you meant to do this, you must specify 'dtype=object' when creating the ndarray.\n",
      "  result = asarray(a).shape\n"
     ]
    }
   ],
   "source": [
    "policy = ThreatSearchPolicy(board_size=SIZE)"
   ],
   "metadata": {
    "collapsed": false,
    "pycharm": {
     "name": "#%%\n"
    }
   }
  },
  {
   "cell_type": "code",
   "execution_count": 10,
   "outputs": [],
   "source": [
    "examine = 'c11f9e9g8f7g7g9h8'\n",
    "#examine = 'D7K7D10K10F7M11'"
   ],
   "metadata": {
    "collapsed": false,
    "pycharm": {
     "name": "#%%\n"
    }
   }
  },
  {
   "cell_type": "code",
   "execution_count": 11,
   "outputs": [
    {
     "data": {
      "text/plain": "<Figure size 576x576 with 1 Axes>",
      "image/png": "[encoded data removed]"
     },
     "metadata": {
      "needs_background": "light"
     },
     "output_type": "display_data"
    }
   ],
   "source": [
    "from domoku.board import GomokuBoard as LegacyBoard\n",
    "stones = Gt.string_to_stones(examine)\n",
    "board = LegacyBoard(n=SIZE, disp_width=8, stones=stones, heuristics=policy)\n",
    "board.display()"
   ],
   "metadata": {
    "collapsed": false,
    "pycharm": {
     "name": "#%%\n"
    }
   }
  },
  {
   "cell_type": "code",
   "execution_count": 12,
   "outputs": [
    {
     "name": "stdout",
     "output_type": "stream",
     "text": [
      "[[  0   0   0   0   0   0   0   0   0   0   0   0   0   0   0]\n",
      " [  0   0   0   0   0   0   0   0   0   0   0   0   0   0   0]\n",
      " [  0   0   0   0   0   0   0   0   0   0   0   0   0   0   0]\n",
      " [  0 480   0   0   0   0   0   0   0   0   0   0   0   0   0]\n",
      " [  0   0   0 698   0   0   0 444   0   0   0   0   0   0   0]\n",
      " [  0   0   0 480 939   0 444 444   0 973   0   0   0   0   0]\n",
      " [  0   0   0   0   0   0   0 444 999   0   0   0   0   0   0]\n",
      " [  0   0   0   0 992 973   0   0 999 999   0   0   0   0   0]\n",
      " [  0   0   0 444   0   0   0 999   0   0   0   0   0   0   0]\n",
      " [  0   0 444   0   0 995   0 444 999   0   0   0   0   0   0]\n",
      " [  0   0   0   0 698   0   0 444   0   0   0   0   0   0   0]\n",
      " [  0   0   0   0   0   0   0   0   0   0   0   0   0   0   0]\n",
      " [  0   0   0   0   0   0   0   0   0   0   0   0   0   0   0]\n",
      " [  0   0   0   0   0   0   0   0   0   0   0   0   0   0   0]\n",
      " [  0   0   0   0   0   0   0   0   0   0   0   0   0   0   0]]\n"
     ]
    }
   ],
   "source": [
    "import numpy as np\n",
    "from alphazero.gomoku_board import GomokuBoard\n",
    "board = GomokuBoard(SIZE, examine, x_means='b')\n",
    "print(np.squeeze(500 * policy(board.canonical_representation())).astype(int))"
   ],
   "metadata": {
    "collapsed": false,
    "pycharm": {
     "name": "#%%\n"
    }
   }
  },
  {
   "cell_type": "code",
   "execution_count": 21,
   "outputs": [],
   "source": [
    "secondary_patterns = [\n",
    "    [[-1, 1, -1, -1,   -1,   -1, -1, -1, -1],\n",
    "     [-1, 0,  1, -1,   -1,   -1, -1, -1, -1]],\n",
    "\n",
    "    [[-1,  1, -1, -1,  -1,   -1, -1, -1, -1],\n",
    "     [-1,  0, -1,  1,  -1,   -1, -1, -1, -1]]]"
   ],
   "metadata": {
    "collapsed": false,
    "pycharm": {
     "name": "#%%\n"
    }
   }
  },
  {
   "cell_type": "code",
   "execution_count": 22,
   "outputs": [
    {
     "data": {
      "text/plain": "[[-1, 1, -1, -1, -1, -1, -1, -1, -1], [-1, 0, 1, -1, -1, -1, -1, -1, -1]]"
     },
     "execution_count": 22,
     "metadata": {},
     "output_type": "execute_result"
    }
   ],
   "source": [
    "p = secondary_patterns[0]\n",
    "p"
   ],
   "metadata": {
    "collapsed": false,
    "pycharm": {
     "name": "#%%\n"
    }
   }
  },
  {
   "cell_type": "code",
   "execution_count": 67,
   "outputs": [],
   "source": [
    "import numpy as np\n",
    "from domoku.policies.radial import hor_1xnxn, ver_1xnxn\n",
    "\n",
    "def all_5xnxn(pattern, pov):\n",
    "    stones, influence = pattern\n",
    "    size = len(stones)\n",
    "    center = size // 2\n",
    "    none_here = -np.ones((size, size))\n",
    "    dont_care = np.zeros((size, size))\n",
    "    if pov == 0:\n",
    "        raw_stack = np.stack([\n",
    "            np.stack([hor_1xnxn(stones), none_here, none_here, hor_1xnxn(influence), dont_care]),\n",
    "            np.stack([np.diag(stones), none_here, none_here, np.diag(influence), dont_care]),\n",
    "            np.stack([ver_1xnxn(stones), none_here, none_here, ver_1xnxn(influence), dont_care]),\n",
    "            np.stack([np.diag(stones)[::-1], none_here, none_here, np.diag(influence)[::-1], dont_care]),\n",
    "        ])\n",
    "        raw_stack[:, 3, center, center] = 1  # means: add result on top of existing influence value of the current player\n",
    "    else:\n",
    "        raw_stack = np.stack([\n",
    "            np.stack([none_here, hor_1xnxn(stones), none_here, dont_care, hor_1xnxn(influence)]),\n",
    "            np.stack([none_here, np.diag(stones), none_here, dont_care, np.diag(influence)]),\n",
    "            np.stack([none_here, ver_1xnxn(stones), none_here, dont_care, ver_1xnxn(influence)]),\n",
    "            np.stack([none_here, np.diag(stones)[::-1], none_here, dont_care, np.diag(influence)[::-1]]),\n",
    "        ])\n",
    "        raw_stack[:, 4, center, center] = 1  # means: add result on top of existing influence value of the other player\n",
    "\n",
    "    return np.rollaxis(np.rollaxis(raw_stack, 1, 4), 0, 4)\n"
   ],
   "metadata": {
    "collapsed": false,
    "pycharm": {
     "name": "#%%\n"
    }
   }
  },
  {
   "cell_type": "code",
   "execution_count": 72,
   "outputs": [],
   "source": [
    "from domoku.policies.radial import all_5xnxn"
   ],
   "metadata": {
    "collapsed": false,
    "pycharm": {
     "name": "#%%\n"
    }
   }
  },
  {
   "cell_type": "code",
   "execution_count": 73,
   "outputs": [],
   "source": [
    "channel = 0\n",
    "secondary_patterns = policy.secondary_patterns\n",
    "all_res = np.stack([\n",
    "    all_5xnxn(pattern, channel) for pattern in secondary_patterns\n",
    "], axis=-1)"
   ],
   "metadata": {
    "collapsed": false,
    "pycharm": {
     "name": "#%%\n"
    }
   }
  },
  {
   "cell_type": "code",
   "execution_count": 77,
   "outputs": [
    {
     "data": {
      "text/plain": "(9, 9, 5, 144)"
     },
     "execution_count": 77,
     "metadata": {},
     "output_type": "execute_result"
    }
   ],
   "source": [
    "all_res.reshape((9, 9, 5, -1)).shape"
   ],
   "metadata": {
    "collapsed": false,
    "pycharm": {
     "name": "#%%\n"
    }
   }
  },
  {
   "cell_type": "code",
   "execution_count": null,
   "outputs": [],
   "source": [],
   "metadata": {
    "collapsed": false,
    "pycharm": {
     "name": "#%%\n"
    }
   }
  },
  {
   "cell_type": "code",
   "execution_count": null,
   "outputs": [],
   "source": [],
   "metadata": {
    "collapsed": false,
    "pycharm": {
     "name": "#%%\n"
    }
   }
  },
  {
   "cell_type": "code",
   "execution_count": null,
   "outputs": [],
   "source": [],
   "metadata": {
    "collapsed": false,
    "pycharm": {
     "name": "#%%\n"
    }
   }
  },
  {
   "cell_type": "code",
   "execution_count": null,
   "outputs": [],
   "source": [],
   "metadata": {
    "collapsed": false,
    "pycharm": {
     "name": "#%%\n"
    }
   }
  },
  {
   "cell_type": "code",
   "execution_count": 42,
   "outputs": [
    {
     "data": {
      "text/plain": "(array([[[ 0.,  0.,  0.,  0., -1.,  0.,  0.,  0.,  0.],\n         [ 0.,  0.,  0.,  0.,  1.,  0.,  0.,  0.,  0.],\n         [ 0.,  0.,  0.,  0., -1.,  0.,  0.,  0.,  0.],\n         [ 0.,  0.,  0.,  0., -1.,  0.,  0.,  0.,  0.],\n         [ 0.,  0.,  0.,  0., -1.,  0.,  0.,  0.,  0.],\n         [ 0.,  0.,  0.,  0., -1.,  0.,  0.,  0.,  0.],\n         [ 0.,  0.,  0.,  0., -1.,  0.,  0.,  0.,  0.],\n         [ 0.,  0.,  0.,  0., -1.,  0.,  0.,  0.,  0.],\n         [ 0.,  0.,  0.,  0., -1.,  0.,  0.,  0.,  0.]],\n \n        [[-1., -1., -1., -1., -1., -1., -1., -1., -1.],\n         [-1., -1., -1., -1., -1., -1., -1., -1., -1.],\n         [-1., -1., -1., -1., -1., -1., -1., -1., -1.],\n         [-1., -1., -1., -1., -1., -1., -1., -1., -1.],\n         [-1., -1., -1., -1., -1., -1., -1., -1., -1.],\n         [-1., -1., -1., -1., -1., -1., -1., -1., -1.],\n         [-1., -1., -1., -1., -1., -1., -1., -1., -1.],\n         [-1., -1., -1., -1., -1., -1., -1., -1., -1.],\n         [-1., -1., -1., -1., -1., -1., -1., -1., -1.]],\n \n        [[-1., -1., -1., -1., -1., -1., -1., -1., -1.],\n         [-1., -1., -1., -1., -1., -1., -1., -1., -1.],\n         [-1., -1., -1., -1., -1., -1., -1., -1., -1.],\n         [-1., -1., -1., -1., -1., -1., -1., -1., -1.],\n         [-1., -1., -1., -1., -1., -1., -1., -1., -1.],\n         [-1., -1., -1., -1., -1., -1., -1., -1., -1.],\n         [-1., -1., -1., -1., -1., -1., -1., -1., -1.],\n         [-1., -1., -1., -1., -1., -1., -1., -1., -1.],\n         [-1., -1., -1., -1., -1., -1., -1., -1., -1.]],\n \n        [[ 0.,  0.,  0.,  0., -1.,  0.,  0.,  0.,  0.],\n         [ 0.,  0.,  0.,  0.,  0.,  0.,  0.,  0.,  0.],\n         [ 0.,  0.,  0.,  0.,  1.,  0.,  0.,  0.,  0.],\n         [ 0.,  0.,  0.,  0., -1.,  0.,  0.,  0.,  0.],\n         [ 0.,  0.,  0.,  0., -1.,  0.,  0.,  0.,  0.],\n         [ 0.,  0.,  0.,  0., -1.,  0.,  0.,  0.,  0.],\n         [ 0.,  0.,  0.,  0., -1.,  0.,  0.,  0.,  0.],\n         [ 0.,  0.,  0.,  0., -1.,  0.,  0.,  0.,  0.],\n         [ 0.,  0.,  0.,  0., -1.,  0.,  0.,  0.,  0.]],\n \n        [[ 0.,  0.,  0.,  0.,  0.,  0.,  0.,  0.,  0.],\n         [ 0.,  0.,  0.,  0.,  0.,  0.,  0.,  0.,  0.],\n         [ 0.,  0.,  0.,  0.,  0.,  0.,  0.,  0.,  0.],\n         [ 0.,  0.,  0.,  0.,  0.,  0.,  0.,  0.,  0.],\n         [ 0.,  0.,  0.,  0.,  0.,  0.,  0.,  0.,  0.],\n         [ 0.,  0.,  0.,  0.,  0.,  0.,  0.,  0.,  0.],\n         [ 0.,  0.,  0.,  0.,  0.,  0.,  0.,  0.,  0.],\n         [ 0.,  0.,  0.,  0.,  0.,  0.,  0.,  0.,  0.],\n         [ 0.,  0.,  0.,  0.,  0.,  0.,  0.,  0.,  0.]]]),)"
     },
     "execution_count": 42,
     "metadata": {},
     "output_type": "execute_result"
    }
   ],
   "source": [
    "stones, influence = pattern\n",
    "l = len(stones)\n",
    "none_here = -np.ones((l, l))\n",
    "dont_care = np.zeros((l, l))\n",
    "\n",
    "np.stack([hor_1xnxn(stones), none_here, none_here, hor_1xnxn(influence), dont_care]),"
   ],
   "metadata": {
    "collapsed": false,
    "pycharm": {
     "name": "#%%\n"
    }
   }
  },
  {
   "cell_type": "code",
   "execution_count": 38,
   "outputs": [
    {
     "data": {
      "text/plain": "[[-1, 1, -1, -1, -1, -1, -1, -1, -1], [-1, 0, 1, -1, -1, -1, -1, -1, -1]]"
     },
     "execution_count": 38,
     "metadata": {},
     "output_type": "execute_result"
    }
   ],
   "source": [
    "pattern"
   ],
   "metadata": {
    "collapsed": false,
    "pycharm": {
     "name": "#%%\n"
    }
   }
  },
  {
   "cell_type": "code",
   "execution_count": 37,
   "outputs": [
    {
     "data": {
      "text/plain": "(2, 2)"
     },
     "execution_count": 37,
     "metadata": {},
     "output_type": "execute_result"
    }
   ],
   "source": [
    "none_here.shape"
   ],
   "metadata": {
    "collapsed": false,
    "pycharm": {
     "name": "#%%\n"
    }
   }
  },
  {
   "cell_type": "code",
   "execution_count": null,
   "outputs": [],
   "source": [],
   "metadata": {
    "collapsed": false,
    "pycharm": {
     "name": "#%%\n"
    }
   }
  },
  {
   "cell_type": "code",
   "execution_count": 20,
   "outputs": [
    {
     "ename": "ValueError",
     "evalue": "cannot reshape array of size 18 into shape (2,1)",
     "output_type": "error",
     "traceback": [
      "\u001B[0;31m---------------------------------------------------------------------------\u001B[0m",
      "\u001B[0;31mValueError\u001B[0m                                Traceback (most recent call last)",
      "Input \u001B[0;32mIn [20]\u001B[0m, in \u001B[0;36m<cell line: 1>\u001B[0;34m()\u001B[0m\n\u001B[0;32m----> 1\u001B[0m res \u001B[38;5;241m=\u001B[39m \u001B[43mall_2xnxn\u001B[49m\u001B[43m(\u001B[49m\u001B[43msecondary_patterns\u001B[49m\u001B[43m)\u001B[49m\n\u001B[1;32m      2\u001B[0m res\n",
      "Input \u001B[0;32mIn [19]\u001B[0m, in \u001B[0;36mall_2xnxn\u001B[0;34m(pattern)\u001B[0m\n\u001B[1;32m      4\u001B[0m \u001B[38;5;28;01mdef\u001B[39;00m \u001B[38;5;21mall_2xnxn\u001B[39m(pattern):\n\u001B[1;32m      5\u001B[0m     current, other \u001B[38;5;241m=\u001B[39m pattern\n\u001B[1;32m      6\u001B[0m     raw_stack \u001B[38;5;241m=\u001B[39m np\u001B[38;5;241m.\u001B[39mstack([\n\u001B[0;32m----> 7\u001B[0m         np\u001B[38;5;241m.\u001B[39mstack([\u001B[43mhor_1xnxn\u001B[49m\u001B[43m(\u001B[49m\u001B[43mcurrent\u001B[49m\u001B[43m)\u001B[49m, hor_1xnxn(other)]),\n\u001B[1;32m      8\u001B[0m         np\u001B[38;5;241m.\u001B[39mstack([np\u001B[38;5;241m.\u001B[39mdiag(current), np\u001B[38;5;241m.\u001B[39mdiag(other)]),\n\u001B[1;32m      9\u001B[0m         np\u001B[38;5;241m.\u001B[39mstack([ver_1xnxn(current), ver_1xnxn(other)]),\n\u001B[1;32m     10\u001B[0m         np\u001B[38;5;241m.\u001B[39mstack([np\u001B[38;5;241m.\u001B[39mdiag(current)[::\u001B[38;5;241m-\u001B[39m\u001B[38;5;241m1\u001B[39m], np\u001B[38;5;241m.\u001B[39mdiag(other)[::\u001B[38;5;241m-\u001B[39m\u001B[38;5;241m1\u001B[39m]]),\n\u001B[1;32m     11\u001B[0m     ])\n\u001B[1;32m     12\u001B[0m     \u001B[38;5;28;01mreturn\u001B[39;00m np\u001B[38;5;241m.\u001B[39mrollaxis(np\u001B[38;5;241m.\u001B[39mrollaxis(raw_stack, \u001B[38;5;241m1\u001B[39m, \u001B[38;5;241m4\u001B[39m), \u001B[38;5;241m0\u001B[39m, \u001B[38;5;241m4\u001B[39m)\n",
      "File \u001B[0;32m~/workspace/Project-Ellie/DeepGomoku/domoku/policies/radial.py:16\u001B[0m, in \u001B[0;36mhor_1xnxn\u001B[0;34m(pattern)\u001B[0m\n\u001B[1;32m     13\u001B[0m n \u001B[38;5;241m=\u001B[39m \u001B[38;5;28mlen\u001B[39m(pattern)\n\u001B[1;32m     14\u001B[0m lp \u001B[38;5;241m=\u001B[39m n \u001B[38;5;241m/\u001B[39m\u001B[38;5;241m/\u001B[39m \u001B[38;5;241m2\u001B[39m\n\u001B[1;32m     15\u001B[0m \u001B[38;5;28;01mreturn\u001B[39;00m np\u001B[38;5;241m.\u001B[39mhstack([np\u001B[38;5;241m.\u001B[39mzeros((n, lp)),\n\u001B[0;32m---> 16\u001B[0m                   \u001B[43mnp\u001B[49m\u001B[38;5;241;43m.\u001B[39;49m\u001B[43mreshape\u001B[49m\u001B[43m(\u001B[49m\u001B[43mpattern\u001B[49m\u001B[43m,\u001B[49m\u001B[43m \u001B[49m\u001B[43m(\u001B[49m\u001B[43mn\u001B[49m\u001B[43m,\u001B[49m\u001B[43m \u001B[49m\u001B[38;5;241;43m1\u001B[39;49m\u001B[43m)\u001B[49m\u001B[43m)\u001B[49m,\n\u001B[1;32m     17\u001B[0m                   np\u001B[38;5;241m.\u001B[39mzeros((n, lp))])\n",
      "File \u001B[0;32m<__array_function__ internals>:180\u001B[0m, in \u001B[0;36mreshape\u001B[0;34m(*args, **kwargs)\u001B[0m\n",
      "File \u001B[0;32m~/.local/share/virtualenvs/DeepGomoku-cXtJ_EtM/lib/python3.10/site-packages/numpy/core/fromnumeric.py:298\u001B[0m, in \u001B[0;36mreshape\u001B[0;34m(a, newshape, order)\u001B[0m\n\u001B[1;32m    198\u001B[0m \u001B[38;5;129m@array_function_dispatch\u001B[39m(_reshape_dispatcher)\n\u001B[1;32m    199\u001B[0m \u001B[38;5;28;01mdef\u001B[39;00m \u001B[38;5;21mreshape\u001B[39m(a, newshape, order\u001B[38;5;241m=\u001B[39m\u001B[38;5;124m'\u001B[39m\u001B[38;5;124mC\u001B[39m\u001B[38;5;124m'\u001B[39m):\n\u001B[1;32m    200\u001B[0m     \u001B[38;5;124;03m\"\"\"\u001B[39;00m\n\u001B[1;32m    201\u001B[0m \u001B[38;5;124;03m    Gives a new shape to an array without changing its data.\u001B[39;00m\n\u001B[1;32m    202\u001B[0m \n\u001B[0;32m   (...)\u001B[0m\n\u001B[1;32m    296\u001B[0m \u001B[38;5;124;03m           [5, 6]])\u001B[39;00m\n\u001B[1;32m    297\u001B[0m \u001B[38;5;124;03m    \"\"\"\u001B[39;00m\n\u001B[0;32m--> 298\u001B[0m     \u001B[38;5;28;01mreturn\u001B[39;00m \u001B[43m_wrapfunc\u001B[49m\u001B[43m(\u001B[49m\u001B[43ma\u001B[49m\u001B[43m,\u001B[49m\u001B[43m \u001B[49m\u001B[38;5;124;43m'\u001B[39;49m\u001B[38;5;124;43mreshape\u001B[39;49m\u001B[38;5;124;43m'\u001B[39;49m\u001B[43m,\u001B[49m\u001B[43m \u001B[49m\u001B[43mnewshape\u001B[49m\u001B[43m,\u001B[49m\u001B[43m \u001B[49m\u001B[43morder\u001B[49m\u001B[38;5;241;43m=\u001B[39;49m\u001B[43morder\u001B[49m\u001B[43m)\u001B[49m\n",
      "File \u001B[0;32m~/.local/share/virtualenvs/DeepGomoku-cXtJ_EtM/lib/python3.10/site-packages/numpy/core/fromnumeric.py:57\u001B[0m, in \u001B[0;36m_wrapfunc\u001B[0;34m(obj, method, *args, **kwds)\u001B[0m\n\u001B[1;32m     54\u001B[0m     \u001B[38;5;28;01mreturn\u001B[39;00m _wrapit(obj, method, \u001B[38;5;241m*\u001B[39margs, \u001B[38;5;241m*\u001B[39m\u001B[38;5;241m*\u001B[39mkwds)\n\u001B[1;32m     56\u001B[0m \u001B[38;5;28;01mtry\u001B[39;00m:\n\u001B[0;32m---> 57\u001B[0m     \u001B[38;5;28;01mreturn\u001B[39;00m \u001B[43mbound\u001B[49m\u001B[43m(\u001B[49m\u001B[38;5;241;43m*\u001B[39;49m\u001B[43margs\u001B[49m\u001B[43m,\u001B[49m\u001B[43m \u001B[49m\u001B[38;5;241;43m*\u001B[39;49m\u001B[38;5;241;43m*\u001B[39;49m\u001B[43mkwds\u001B[49m\u001B[43m)\u001B[49m\n\u001B[1;32m     58\u001B[0m \u001B[38;5;28;01mexcept\u001B[39;00m \u001B[38;5;167;01mTypeError\u001B[39;00m:\n\u001B[1;32m     59\u001B[0m     \u001B[38;5;66;03m# A TypeError occurs if the object does have such a method in its\u001B[39;00m\n\u001B[1;32m     60\u001B[0m     \u001B[38;5;66;03m# class, but its signature is not identical to that of NumPy's. This\u001B[39;00m\n\u001B[0;32m   (...)\u001B[0m\n\u001B[1;32m     64\u001B[0m     \u001B[38;5;66;03m# Call _wrapit from within the except clause to ensure a potential\u001B[39;00m\n\u001B[1;32m     65\u001B[0m     \u001B[38;5;66;03m# exception has a traceback chain.\u001B[39;00m\n\u001B[1;32m     66\u001B[0m     \u001B[38;5;28;01mreturn\u001B[39;00m _wrapit(obj, method, \u001B[38;5;241m*\u001B[39margs, \u001B[38;5;241m*\u001B[39m\u001B[38;5;241m*\u001B[39mkwds)\n",
      "\u001B[0;31mValueError\u001B[0m: cannot reshape array of size 18 into shape (2,1)"
     ]
    }
   ],
   "source": [
    "res = all_2xnxn(secondary_patterns)\n",
    "res"
   ],
   "metadata": {
    "collapsed": false,
    "pycharm": {
     "name": "#%%\n"
    }
   }
  },
  {
   "cell_type": "code",
   "execution_count": null,
   "outputs": [],
   "source": [],
   "metadata": {
    "collapsed": false,
    "pycharm": {
     "name": "#%%\n"
    }
   }
  },
  {
   "cell_type": "code",
   "execution_count": null,
   "outputs": [],
   "source": [],
   "metadata": {
    "collapsed": false,
    "pycharm": {
     "name": "#%%\n"
    }
   }
  },
  {
   "cell_type": "code",
   "execution_count": null,
   "outputs": [],
   "source": [],
   "metadata": {
    "collapsed": false,
    "pycharm": {
     "name": "#%%\n"
    }
   }
  },
  {
   "cell_type": "code",
   "execution_count": null,
   "outputs": [],
   "source": [],
   "metadata": {
    "collapsed": false,
    "pycharm": {
     "name": "#%%\n"
    }
   }
  },
  {
   "cell_type": "code",
   "execution_count": null,
   "outputs": [],
   "source": [],
   "metadata": {
    "collapsed": false,
    "pycharm": {
     "name": "#%%\n"
    }
   }
  },
  {
   "cell_type": "code",
   "execution_count": null,
   "outputs": [],
   "source": [],
   "metadata": {
    "collapsed": false,
    "pycharm": {
     "name": "#%%\n"
    }
   }
  },
  {
   "cell_type": "code",
   "execution_count": null,
   "outputs": [],
   "source": [],
   "metadata": {
    "collapsed": false,
    "pycharm": {
     "name": "#%%\n"
    }
   }
  },
  {
   "cell_type": "code",
   "execution_count": null,
   "outputs": [],
   "source": [],
   "metadata": {
    "collapsed": false,
    "pycharm": {
     "name": "#%%\n"
    }
   }
  },
  {
   "cell_type": "code",
   "execution_count": null,
   "outputs": [],
   "source": [],
   "metadata": {
    "collapsed": false,
    "pycharm": {
     "name": "#%%\n"
    }
   }
  },
  {
   "cell_type": "code",
   "execution_count": null,
   "outputs": [],
   "source": [],
   "metadata": {
    "collapsed": false,
    "pycharm": {
     "name": "#%%\n"
    }
   }
  },
  {
   "cell_type": "code",
   "execution_count": null,
   "outputs": [],
   "source": [],
   "metadata": {
    "collapsed": false,
    "pycharm": {
     "name": "#%%\n"
    }
   }
  },
  {
   "cell_type": "code",
   "execution_count": null,
   "outputs": [],
   "source": [],
   "metadata": {
    "collapsed": false,
    "pycharm": {
     "name": "#%%\n"
    }
   }
  },
  {
   "cell_type": "code",
   "execution_count": null,
   "outputs": [],
   "source": [],
   "metadata": {
    "collapsed": false,
    "pycharm": {
     "name": "#%%\n"
    }
   }
  },
  {
   "cell_type": "code",
   "execution_count": null,
   "outputs": [],
   "source": [],
   "metadata": {
    "collapsed": false,
    "pycharm": {
     "name": "#%%\n"
    }
   }
  },
  {
   "cell_type": "code",
   "execution_count": null,
   "outputs": [],
   "source": [],
   "metadata": {
    "collapsed": false,
    "pycharm": {
     "name": "#%%\n"
    }
   }
  },
  {
   "cell_type": "code",
   "execution_count": 7,
   "outputs": [
    {
     "name": "stdout",
     "output_type": "stream",
     "text": [
      "                                                     \n",
      "15    .  .  .  .  .  .  .  .  .  .  .  .  .  .  .    \n",
      "14    .  .  .  .  .  .  .  .  .  .  .  .  .  .  .    \n",
      "13    .  .  .  .  .  .  .  .  .  .  .  .  .  .  .    \n",
      "12    .  .  .  .  .  .  .  .  .  .  .  .  .  .  .    \n",
      "11    .  .  X  .  .  .  .  .  .  .  .  .  .  .  .    \n",
      "10    .  .  .  .  .  .  .  .  .  .  .  .  .  .  .    \n",
      " 9    .  .  .  .  X  O  X  .  .  .  .  .  .  .  .    \n",
      " 8    .  .  .  .  .  .  O [O] .  .  .  .  .  .  .    \n",
      " 7    .  .  .  .  .  X  O  .  .  .  .  .  .  .  .    \n",
      " 6    .  .  .  .  .  .  .  .  .  .  .  .  .  .  .    \n",
      " 5    .  .  .  .  .  .  .  .  .  .  .  .  .  .  .    \n",
      " 4    .  .  .  .  .  .  .  .  .  .  .  .  .  .  .    \n",
      " 3    .  .  .  .  .  .  .  .  .  .  .  .  .  .  .    \n",
      " 2    .  .  .  .  .  .  .  .  .  .  .  .  .  .  .    \n",
      " 1    .  .  .  .  .  .  .  .  .  .  .  .  .  .  .    \n",
      "                                                     \n",
      "      A  B  C  D  E  F  G  H  I  J  K  L  M  N  O\n"
     ]
    },
    {
     "data": {
      "text/plain": "C11 F9 E9 G8 F7 G7 G9 H8"
     },
     "execution_count": 7,
     "metadata": {},
     "output_type": "execute_result"
    }
   ],
   "source": [
    "from alphazero.gomoku_board import GomokuBoard\n",
    "board = GomokuBoard(SIZE, examine, x_means='b')\n",
    "board.plot()\n",
    "board"
   ],
   "metadata": {
    "collapsed": false,
    "pycharm": {
     "name": "#%%\n"
    }
   }
  },
  {
   "cell_type": "code",
   "execution_count": 8,
   "outputs": [
    {
     "name": "stdout",
     "output_type": "stream",
     "text": [
      "[[  0   0   0   0   0   0   0   0   0   0   0   0   0   0   0]\n",
      " [  0   0   0   0   0   0   0   0   0   0   0   0   0   0   0]\n",
      " [  0   0   0   0   0   0   0   0   0   0   0   0   0   0   0]\n",
      " [  0   0   0   0   0   0   0   0   0   0   0   0   0   0   0]\n",
      " [  0   0   0 499   0   0   0   0   0   0   0   0   0   0   0]\n",
      " [  0   0   0   0   0   0   0   0   0   0   0   0   0   0   0]\n",
      " [  0   0   0   0   0   0   0   0   0   0   0   0   0   0   0]\n",
      " [  0   0   0   0   0   0   0   0   0   0   0   0   0   0   0]\n",
      " [  0   0   0   0   0   0   0   0   0   0   0   0   0   0   0]\n",
      " [  0   0   0   0   0   0   0   0   0   0   0   0   0   0   0]\n",
      " [  0   0   0   0 999   0   0   0   0   0   0   0   0   0   0]\n",
      " [  0   0   0   0   0   0   0   0   0   0   0   0   0   0   0]\n",
      " [  0   0   0   0   0   0   0   0   0   0   0   0   0   0   0]\n",
      " [  0   0   0   0   0   0   0   0   0   0   0   0   0   0   0]\n",
      " [  0   0   0   0   0   0   0   0   0   0   0   0   0   0   0]]\n"
     ]
    }
   ],
   "source": [
    "board.print_pi(policy, scale=.1)"
   ],
   "metadata": {
    "collapsed": false,
    "pycharm": {
     "name": "#%%\n"
    }
   }
  },
  {
   "cell_type": "code",
   "execution_count": 11,
   "outputs": [
    {
     "name": "stdout",
     "output_type": "stream",
     "text": [
      "Model: \"threat_search_policy\"\n",
      "_________________________________________________________________\n",
      " Layer (type)                Output Shape              Param #   \n",
      "=================================================================\n",
      " conv2d (Conv2D)             multiple                  93184     \n",
      "                                                                 \n",
      " conv2d_1 (Conv2D)           multiple                  257       \n",
      "                                                                 \n",
      " conv2d_2 (Conv2D)           multiple                  10        \n",
      "                                                                 \n",
      "=================================================================\n",
      "Total params: 93,451\n",
      "Trainable params: 93,441\n",
      "Non-trainable params: 10\n",
      "_________________________________________________________________\n"
     ]
    }
   ],
   "source": [
    "policy.summary()"
   ],
   "metadata": {
    "collapsed": false,
    "pycharm": {
     "name": "#%%\n"
    }
   }
  },
  {
   "cell_type": "code",
   "execution_count": null,
   "outputs": [],
   "source": [],
   "metadata": {
    "collapsed": false,
    "pycharm": {
     "name": "#%%\n"
    }
   }
  },
  {
   "cell_type": "code",
   "execution_count": 10,
   "outputs": [
    {
     "ename": "NameError",
     "evalue": "name 'policy' is not defined",
     "output_type": "error",
     "traceback": [
      "\u001B[0;31m---------------------------------------------------------------------------\u001B[0m",
      "\u001B[0;31mNameError\u001B[0m                                 Traceback (most recent call last)",
      "Input \u001B[0;32mIn [10]\u001B[0m, in \u001B[0;36m<cell line: 1>\u001B[0;34m()\u001B[0m\n\u001B[0;32m----> 1\u001B[0m \u001B[43mpolicy\u001B[49m\u001B[38;5;241m.\u001B[39msecondary_patterns\n",
      "\u001B[0;31mNameError\u001B[0m: name 'policy' is not defined"
     ]
    }
   ],
   "source": [
    "policy.secondary_patterns"
   ],
   "metadata": {
    "collapsed": false,
    "pycharm": {
     "name": "#%%\n"
    }
   }
  },
  {
   "cell_type": "code",
   "execution_count": null,
   "outputs": [],
   "source": [],
   "metadata": {
    "collapsed": false,
    "pycharm": {
     "name": "#%%\n"
    }
   }
  },
  {
   "cell_type": "code",
   "execution_count": null,
   "outputs": [],
   "source": [],
   "metadata": {
    "collapsed": false,
    "pycharm": {
     "name": "#%%\n"
    }
   }
  },
  {
   "cell_type": "code",
   "execution_count": null,
   "outputs": [],
   "source": [],
   "metadata": {
    "collapsed": false,
    "pycharm": {
     "name": "#%%\n"
    }
   }
  },
  {
   "cell_type": "code",
   "execution_count": null,
   "outputs": [],
   "source": [],
   "metadata": {
    "collapsed": false,
    "pycharm": {
     "name": "#%%\n"
    }
   }
  },
  {
   "cell_type": "code",
   "execution_count": null,
   "outputs": [],
   "source": [],
   "metadata": {
    "collapsed": false,
    "pycharm": {
     "name": "#%%\n"
    }
   }
  },
  {
   "cell_type": "code",
   "execution_count": null,
   "outputs": [],
   "source": [],
   "metadata": {
    "collapsed": false,
    "pycharm": {
     "name": "#%%\n"
    }
   }
  },
  {
   "cell_type": "code",
   "execution_count": null,
   "outputs": [],
   "source": [],
   "metadata": {
    "collapsed": false,
    "pycharm": {
     "name": "#%%\n"
    }
   }
  },
  {
   "cell_type": "code",
   "execution_count": null,
   "outputs": [],
   "source": [],
   "metadata": {
    "collapsed": false,
    "pycharm": {
     "name": "#%%\n"
    }
   }
  },
  {
   "cell_type": "code",
   "execution_count": null,
   "outputs": [],
   "source": [],
   "metadata": {
    "collapsed": false,
    "pycharm": {
     "name": "#%%\n"
    }
   }
  },
  {
   "cell_type": "code",
   "execution_count": null,
   "outputs": [],
   "source": [],
   "metadata": {
    "collapsed": false,
    "pycharm": {
     "name": "#%%\n"
    }
   }
  },
  {
   "cell_type": "code",
   "execution_count": null,
   "outputs": [],
   "source": [],
   "metadata": {
    "collapsed": false,
    "pycharm": {
     "name": "#%%\n"
    }
   }
  },
  {
   "cell_type": "code",
   "execution_count": null,
   "outputs": [],
   "source": [],
   "metadata": {
    "collapsed": false,
    "pycharm": {
     "name": "#%%\n"
    }
   }
  },
  {
   "cell_type": "code",
   "execution_count": null,
   "outputs": [],
   "source": [],
   "metadata": {
    "collapsed": false,
    "pycharm": {
     "name": "#%%\n"
    }
   }
  },
  {
   "cell_type": "code",
   "execution_count": null,
   "outputs": [],
   "source": [],
   "metadata": {
    "collapsed": false,
    "pycharm": {
     "name": "#%%\n"
    }
   }
  },
  {
   "cell_type": "code",
   "execution_count": null,
   "outputs": [],
   "source": [],
   "metadata": {
    "collapsed": false,
    "pycharm": {
     "name": "#%%\n"
    }
   }
  },
  {
   "cell_type": "code",
   "execution_count": null,
   "outputs": [],
   "source": [],
   "metadata": {
    "collapsed": false,
    "pycharm": {
     "name": "#%%\n"
    }
   }
  },
  {
   "cell_type": "code",
   "execution_count": null,
   "outputs": [],
   "source": [],
   "metadata": {
    "collapsed": false,
    "pycharm": {
     "name": "#%%\n"
    }
   }
  },
  {
   "cell_type": "code",
   "execution_count": null,
   "outputs": [],
   "source": [],
   "metadata": {
    "collapsed": false,
    "pycharm": {
     "name": "#%%\n"
    }
   }
  },
  {
   "cell_type": "code",
   "execution_count": null,
   "outputs": [],
   "source": [],
   "metadata": {
    "collapsed": false,
    "pycharm": {
     "name": "#%%\n"
    }
   }
  },
  {
   "cell_type": "code",
   "execution_count": null,
   "outputs": [],
   "source": [],
   "metadata": {
    "collapsed": false,
    "pycharm": {
     "name": "#%%\n"
    }
   }
  },
  {
   "cell_type": "code",
   "execution_count": null,
   "outputs": [],
   "source": [],
   "metadata": {
    "collapsed": false,
    "pycharm": {
     "name": "#%%\n"
    }
   }
  },
  {
   "cell_type": "code",
   "execution_count": null,
   "outputs": [],
   "source": [],
   "metadata": {
    "collapsed": false,
    "pycharm": {
     "name": "#%%\n"
    }
   }
  },
  {
   "cell_type": "code",
   "execution_count": null,
   "outputs": [],
   "source": [],
   "metadata": {
    "collapsed": false,
    "pycharm": {
     "name": "#%%\n"
    }
   }
  },
  {
   "cell_type": "code",
   "execution_count": null,
   "outputs": [],
   "source": [],
   "metadata": {
    "collapsed": false,
    "pycharm": {
     "name": "#%%\n"
    }
   }
  },
  {
   "cell_type": "code",
   "execution_count": null,
   "outputs": [],
   "source": [],
   "metadata": {
    "collapsed": false,
    "pycharm": {
     "name": "#%%\n"
    }
   }
  },
  {
   "cell_type": "code",
   "execution_count": null,
   "outputs": [],
   "source": [],
   "metadata": {
    "collapsed": false,
    "pycharm": {
     "name": "#%%\n"
    }
   }
  },
  {
   "cell_type": "code",
   "execution_count": 8,
   "outputs": [
    {
     "data": {
      "text/plain": "B2 B6 C4 D4 D5 E2 B4 C5 E3"
     },
     "execution_count": 8,
     "metadata": {},
     "output_type": "execute_result"
    }
   ],
   "source": [
    "board.act('E', 3)"
   ],
   "metadata": {
    "collapsed": false,
    "pycharm": {
     "name": "#%%\n"
    }
   }
  },
  {
   "cell_type": "code",
   "execution_count": 9,
   "outputs": [
    {
     "name": "stdout",
     "output_type": "stream",
     "text": [
      "                             \n",
      " 7    .  .  .  .  .  .  .    \n",
      " 6    .  O  .  .  .  .  .    \n",
      " 5    .  .  O  X  .  .  .    \n",
      " 4    .  X  X  O  .  .  .    \n",
      " 3    .  .  .  .  X  .  .    \n",
      " 2    .  X  .  .  O  .  .    \n",
      " 1    .  .  .  .  .  .  .    \n",
      "                             \n",
      "      A  B  C  D  E  F  G\n"
     ]
    }
   ],
   "source": [
    "board.plot()"
   ],
   "metadata": {
    "collapsed": false,
    "pycharm": {
     "name": "#%%\n"
    }
   }
  },
  {
   "cell_type": "code",
   "execution_count": 10,
   "outputs": [
    {
     "name": "stdout",
     "output_type": "stream",
     "text": [
      "shape: (9, 9, 3)\n",
      "[[3 3 3 3 3 3 3 3 3]\n",
      " [3 0 0 0 0 0 0 0 3]\n",
      " [3 0 1 0 0 0 0 0 3]\n",
      " [3 0 0 1 2 0 0 0 3]\n",
      " [3 0 2 2 1 0 0 0 3]\n",
      " [3 0 0 0 0 2 0 0 3]\n",
      " [3 0 2 0 0 1 0 0 3]\n",
      " [3 0 0 0 0 0 0 0 3]\n",
      " [3 3 3 3 3 3 3 3 3]]\n"
     ]
    }
   ],
   "source": [
    "sample = board.math_rep\n",
    "jt.print_bin(sample, combine=True)"
   ],
   "metadata": {
    "collapsed": false,
    "pycharm": {
     "name": "#%%\n"
    }
   }
  },
  {
   "cell_type": "code",
   "execution_count": 11,
   "outputs": [
    {
     "name": "stderr",
     "output_type": "stream",
     "text": [
      "2022-06-11 19:14:53.935977: I tensorflow/core/platform/cpu_feature_guard.cc:193] This TensorFlow binary is optimized with oneAPI Deep Neural Network Library (oneDNN) to use the following CPU instructions in performance-critical operations:  AVX2 FMA\n",
      "To enable them in other operations, rebuild TensorFlow with the appropriate compiler flags.\n",
      "/Users/wgiersche/.local/share/virtualenvs/DeepGomoku-cXtJ_EtM/lib/python3.10/site-packages/numpy/core/fromnumeric.py:2007: VisibleDeprecationWarning: Creating an ndarray from ragged nested sequences (which is a list-or-tuple of lists-or-tuples-or ndarrays with different lengths or shapes) is deprecated. If you meant to do this, you must specify 'dtype=object' when creating the ndarray.\n",
      "  result = asarray(a).shape\n"
     ]
    }
   ],
   "source": [
    "from domoku.constants import BLACK\n",
    "\n",
    "hard_policy = MaxCriticalityPolicy(board_size=SIZE, overconfidence=2.0)\n",
    "params = MaxInfluencePolicyParams(\n",
    "    board_size=SIZE,\n",
    "    sigma=.8,\n",
    "    iota=20,\n",
    "    radial_constr = [.0625, .125, .25, .5],\n",
    "    radial_obstr = [-.0625, -.125, -.25, -.5]\n",
    ")\n",
    "soft_policy = MaxInfluencePolicy(params, criticality_model=None, pov=BLACK)"
   ],
   "metadata": {
    "collapsed": false,
    "pycharm": {
     "name": "#%%\n"
    }
   }
  },
  {
   "cell_type": "code",
   "execution_count": 12,
   "outputs": [
    {
     "name": "stdout",
     "output_type": "stream",
     "text": [
      "[[  0   0   0   0   0   0   0]\n",
      " [  0   0   0   0   0   0   0]\n",
      " [  0   0   0   0   0   0   0]\n",
      " [  0   0   0   0   0   0   0]\n",
      " [  3 531 407  91   0   0   0]\n",
      " [  0   0 112   0   0   0   0]\n",
      " [  0   0   0   0   0   0   0]]\n"
     ]
    }
   ],
   "source": [
    "board.print_pi(soft_policy)"
   ],
   "metadata": {
    "collapsed": false,
    "pycharm": {
     "name": "#%%\n"
    }
   }
  },
  {
   "cell_type": "code",
   "execution_count": 13,
   "outputs": [
    {
     "data": {
      "text/plain": "C3"
     },
     "execution_count": 13,
     "metadata": {},
     "output_type": "execute_result"
    }
   ],
   "source": [
    "move = soft_policy.sample(sample, 1, board=board)[0]\n",
    "move"
   ],
   "metadata": {
    "collapsed": false,
    "pycharm": {
     "name": "#%%\n"
    }
   }
  },
  {
   "cell_type": "markdown",
   "source": [
    "---"
   ],
   "metadata": {
    "collapsed": false,
    "pycharm": {
     "name": "#%% md\n"
    }
   }
  },
  {
   "cell_type": "markdown",
   "source": [
    "# A Complete Game!\n",
    "\n",
    "The mixed policy puts stones next to each other until it recoginizes a double-open 3 and then finishes the game.\n",
    "With this policy, we're able to create loads of short, yet somewhat meaningful trajectories for training."
   ],
   "metadata": {
    "collapsed": false,
    "pycharm": {
     "name": "#%% md\n"
    }
   }
  },
  {
   "cell_type": "code",
   "execution_count": 14,
   "outputs": [],
   "source": [
    "SIZE = 15"
   ],
   "metadata": {
    "collapsed": false,
    "pycharm": {
     "name": "#%%\n"
    }
   }
  },
  {
   "cell_type": "code",
   "execution_count": 15,
   "outputs": [],
   "source": [
    "hard_policy = MaxCriticalityPolicy(board_size=SIZE, overconfidence=5.0)\n",
    "params = MaxInfluencePolicyParams(\n",
    "    board_size=SIZE,\n",
    "    sigma=.6,\n",
    "    iota=200,\n",
    "    radial_constr = [.0625, .125, .25, .5],\n",
    "    radial_obstr = [-.0625, -.125, -.25, -.5]\n",
    ")\n",
    "soft_policy = MaxInfluencePolicy(params, criticality_model=hard_policy, pov=BLACK)"
   ],
   "metadata": {
    "collapsed": false,
    "pycharm": {
     "name": "#%%\n"
    }
   }
  },
  {
   "cell_type": "code",
   "execution_count": 16,
   "outputs": [],
   "source": [
    "board = GomokuBoard(SIZE, stones='H8')\n",
    "sample = board.math_rep.copy()"
   ],
   "metadata": {
    "collapsed": false,
    "pycharm": {
     "name": "#%%\n"
    }
   }
  },
  {
   "cell_type": "code",
   "execution_count": 31,
   "outputs": [
    {
     "name": "stdout",
     "output_type": "stream",
     "text": [
      "                                                     \n",
      "15    .  .  .  .  .  .  .  .  .  .  .  .  .  .  .    \n",
      "14    .  .  .  .  .  .  .  .  .  .  .  .  .  .  .    \n",
      "13    .  .  .  .  .  .  .  .  .  .  .  .  .  .  .    \n",
      "12    .  .  .  .  .  .  .  .  .  .  .  .  .  .  .    \n",
      "11    .  .  .  .  .  X  .  .  .  .  .  .  .  .  .    \n",
      "10    .  .  .  .  .  O  O  O  O  O  X  .  .  .  .    \n",
      " 9    .  .  .  .  .  .  .  X  .  .  .  .  .  .  .    \n",
      " 8    .  .  .  .  .  .  O  X  X  .  .  .  .  .  .    \n",
      " 7    .  .  .  .  .  .  X  .  X  X  .  .  .  .  .    \n",
      " 6    .  .  .  .  .  .  .  .  .  .  O  .  .  .  .    \n",
      " 5    .  .  .  .  .  .  O  .  .  .  .  .  .  .  .    \n",
      " 4    .  .  .  .  .  .  .  .  .  .  .  .  .  .  .    \n",
      " 3    .  .  .  .  .  .  .  .  .  .  .  .  .  .  .    \n",
      " 2    .  .  .  .  .  .  .  .  .  .  .  .  .  .  .    \n",
      " 1    .  .  .  .  .  .  .  .  .  .  .  .  .  .  .    \n",
      "                                                     \n",
      "      A  B  C  D  E  F  G  H  I  J  K  L  M  N  O\n",
      "**********************************************************\n",
      "\n",
      "                      TERMINATED\n",
      "\n",
      "**********************************************************\n",
      "\n",
      "Board: H8 G5 H9 H10 I8 G8 J7 K6 F11 G10 G7 J10 I7 I10 K10 F10\n"
     ]
    }
   ],
   "source": [
    "move = soft_policy.sample(sample, 1, board=board)[0]\n",
    "board.act(move)\n",
    "sample = board.math_rep\n",
    "winner = hard_policy.get_winner(sample)\n",
    "board.plot()\n",
    "if winner is not None:\n",
    "    print(\"**********************************************************\")\n",
    "    print(\"\")\n",
    "    print(f\"                      TERMINATED\")\n",
    "    print(\"\")\n",
    "    print(\"**********************************************************\")\n",
    "print(\"\")\n",
    "print(f\"Board: {board}\")"
   ],
   "metadata": {
    "collapsed": false,
    "pycharm": {
     "name": "#%%\n"
    }
   }
  },
  {
   "cell_type": "code",
   "execution_count": null,
   "outputs": [],
   "source": [],
   "metadata": {
    "collapsed": false,
    "pycharm": {
     "name": "#%%\n"
    }
   }
  }
 ],
 "metadata": {
  "kernelspec": {
   "display_name": "Python 3",
   "language": "python",
   "name": "python3"
  },
  "language_info": {
   "codemirror_mode": {
    "name": "ipython",
    "version": 2
   },
   "file_extension": ".py",
   "mimetype": "text/x-python",
   "name": "python",
   "nbconvert_exporter": "python",
   "pygments_lexer": "ipython2",
   "version": "2.7.6"
  }
 },
 "nbformat": 4,
 "nbformat_minor": 0
}