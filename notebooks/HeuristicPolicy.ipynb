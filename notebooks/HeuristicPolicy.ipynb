{
 "cells": [
  {
   "cell_type": "markdown",
   "source": [
    "# Heuristic CNN-based Policy\n",
    "\n",
    "The new heuristic Policy combines two Convolutional models:\n",
    "\n",
    "- Hard Policy: a model that reliably identifies critical MUST-CONSIDER patterns\n",
    "- Soft Policy: a model that prefers fields that are strongly connected (via common lines) with other stones"
   ],
   "metadata": {
    "collapsed": false,
    "pycharm": {
     "name": "#%% md\n"
    }
   }
  },
  {
   "cell_type": "code",
   "execution_count": 1,
   "outputs": [],
   "source": [
    "%load_ext autoreload\n",
    "%autoreload 2"
   ],
   "metadata": {
    "collapsed": false,
    "pycharm": {
     "name": "#%%\n"
    }
   }
  },
  {
   "cell_type": "code",
   "execution_count": 21,
   "metadata": {
    "collapsed": true,
    "pycharm": {
     "name": "#%%\n"
    }
   },
   "outputs": [],
   "source": [
    "import numpy as np\n",
    "from domoku import data\n",
    "from domoku.policies.softadvice import MaxInfluencePolicyParams, MaxInfluencePolicy\n",
    "from domoku.tools import GomokuTools as gt\n",
    "from domoku import jupyter_tools as jt\n",
    "from domoku.board import GomokuBoard\n",
    "\n",
    "from domoku.policies.maximal_criticality import MaxCriticalityPolicy"
   ]
  },
  {
   "cell_type": "code",
   "execution_count": 3,
   "outputs": [],
   "source": [
    "SIZE=15"
   ],
   "metadata": {
    "collapsed": false,
    "pycharm": {
     "name": "#%%\n"
    }
   }
  },
  {
   "cell_type": "markdown",
   "source": [
    "# Combine Soft Advice with Criticality Comprehension"
   ],
   "metadata": {
    "collapsed": false,
    "pycharm": {
     "name": "#%% md\n"
    }
   }
  },
  {
   "cell_type": "code",
   "execution_count": 4,
   "outputs": [],
   "source": [
    "examine = 'g5g9h7i7i8j5g7h8'"
   ],
   "metadata": {
    "collapsed": false,
    "pycharm": {
     "name": "#%%\n"
    }
   }
  },
  {
   "cell_type": "code",
   "execution_count": 5,
   "outputs": [
    {
     "data": {
      "text/plain": "<Figure size 432x432 with 1 Axes>",
      "image/png": "[encoded data removed]"
     },
     "metadata": {
      "needs_background": "light"
     },
     "output_type": "display_data"
    }
   ],
   "source": [
    "stones = gt.string_to_stones(examine)\n",
    "board = GomokuBoard(n=SIZE, disp_width=6, stones=stones)\n",
    "board.display()"
   ],
   "metadata": {
    "collapsed": false,
    "pycharm": {
     "name": "#%%\n"
    }
   }
  },
  {
   "cell_type": "code",
   "execution_count": 6,
   "outputs": [
    {
     "name": "stdout",
     "output_type": "stream",
     "text": [
      "shape: (15, 15, 4)\n",
      "[[0. 0. 0. 0. 0. 0. 0. 0. 0. 0. 0. 0. 0. 0. 0.]\n",
      " [0. 0. 0. 0. 0. 0. 0. 0. 0. 0. 0. 0. 0. 0. 0.]\n",
      " [0. 0. 0. 0. 0. 0. 0. 0. 0. 0. 0. 0. 0. 0. 0.]\n",
      " [0. 0. 0. 0. 0. 0. 0. 0. 0. 0. 0. 0. 0. 0. 0.]\n",
      " [0. 0. 0. 0. 0. 0. 0. 0. 0. 0. 0. 0. 0. 0. 0.]\n",
      " [0. 0. 0. 0. 0. 0. 0. 0. 0. 0. 0. 0. 0. 0. 0.]\n",
      " [0. 0. 0. 0. 0. 0. 2. 0. 0. 0. 0. 0. 0. 0. 0.]\n",
      " [0. 0. 0. 0. 0. 0. 0. 2. 1. 0. 0. 0. 0. 0. 0.]\n",
      " [0. 0. 0. 0. 0. 0. 1. 1. 2. 0. 0. 0. 0. 0. 0.]\n",
      " [0. 0. 0. 0. 0. 0. 0. 0. 0. 0. 0. 0. 0. 0. 0.]\n",
      " [0. 0. 0. 0. 0. 0. 1. 0. 0. 2. 0. 0. 0. 0. 0.]\n",
      " [0. 0. 0. 0. 0. 0. 0. 0. 0. 0. 0. 0. 0. 0. 0.]\n",
      " [0. 0. 0. 0. 0. 0. 0. 0. 0. 0. 0. 0. 0. 0. 0.]\n",
      " [0. 0. 0. 0. 0. 0. 0. 0. 0. 0. 0. 0. 0. 0. 0.]\n",
      " [0. 0. 0. 0. 0. 0. 0. 0. 0. 0. 0. 0. 0. 0. 0.]]\n"
     ]
    }
   ],
   "source": [
    "sample = data.create_nxnx4(SIZE, stones)\n",
    "jt.print_bin(sample, combine=True)"
   ],
   "metadata": {
    "collapsed": false,
    "pycharm": {
     "name": "#%%\n"
    }
   }
  },
  {
   "cell_type": "code",
   "execution_count": 10,
   "outputs": [
    {
     "name": "stderr",
     "output_type": "stream",
     "text": [
      "/Users/wgiersche/.local/share/virtualenvs/DeepGomoku-cXtJ_EtM/lib/python3.10/site-packages/numpy/core/fromnumeric.py:2007: VisibleDeprecationWarning: Creating an ndarray from ragged nested sequences (which is a list-or-tuple of lists-or-tuples-or ndarrays with different lengths or shapes) is deprecated. If you meant to do this, you must specify 'dtype=object' when creating the ndarray.\n",
      "  result = asarray(a).shape\n"
     ]
    }
   ],
   "source": [
    "from domoku.constants import BLACK\n",
    "\n",
    "hard_policy = MaxCriticalityPolicy(SIZE, overconfidence=2.0)\n",
    "params = MaxInfluencePolicyParams(\n",
    "    n=15,\n",
    "    sigma=.8,\n",
    "    iota=1,\n",
    "    radial_constr = [.0625, .125, .25, .5],\n",
    "    radial_obstr = [-.0625, -.125, -.25, -.5]\n",
    ")\n",
    "soft_policy = MaxInfluencePolicy(params, criticality_model=hard_policy, pov=BLACK)"
   ],
   "metadata": {
    "collapsed": false,
    "pycharm": {
     "name": "#%%\n"
    }
   }
  },
  {
   "cell_type": "code",
   "execution_count": 11,
   "outputs": [
    {
     "name": "stdout",
     "output_type": "stream",
     "text": [
      "[[ 0  0  0  0  0  0  0  0  0  0  0  0  0  0  0]\n",
      " [ 0  0  0  0  0  0  0  0  0  0  0  0  0  0  0]\n",
      " [ 0  0  0  0  0  0  1  0  0  0  0  0  0  0  0]\n",
      " [ 0  0  0  1  1  1  1  1  0  0  0  0  0  0  0]\n",
      " [ 0  0  0  0  1  1  2  1  1  0  0  0  0  0  0]\n",
      " [ 0  0  0  0  1 52  1  2  0  1 20  0  0  0  0]\n",
      " [ 0  0  0  0  0  0  0  0  1 20  0  0  0  0  0]\n",
      " [ 0  0  1  1  2  1  1  0  0  1  0  1  0  0  0]\n",
      " [ 0  0  1  3  4  6  0  0  0  1  2  1  1  0  0]\n",
      " [ 0  0  2  4  6  7 48  3  0 52  2  3  1  1  0]\n",
      " [ 0  1  2  4  6  8  0  4  0  0  3  2  2  1  0]\n",
      " [ 0  1  2  3  6  6 26  3  1  2  2  2  1  1  0]\n",
      " [ 0  1  2  3  3  4  3  2  0  1  2  1  1  0  0]\n",
      " [ 0  1  1  2  2  2  2  1  0  0  0  1  1  0  0]\n",
      " [ 0  0  1  1  1  1  0  0  0  0  0  0  0  0  0]]\n"
     ]
    }
   ],
   "source": [
    "jt.vis(soft_policy(sample), scale=1)"
   ],
   "metadata": {
    "collapsed": false,
    "pycharm": {
     "name": "#%%\n"
    }
   }
  },
  {
   "cell_type": "code",
   "execution_count": 14,
   "outputs": [
    {
     "data": {
      "text/plain": "[(5, 5)]"
     },
     "execution_count": 14,
     "metadata": {},
     "output_type": "execute_result"
    }
   ],
   "source": [
    "move = soft_policy.sample(sample, 1)\n",
    "move"
   ],
   "metadata": {
    "collapsed": false,
    "pycharm": {
     "name": "#%%\n"
    }
   }
  },
  {
   "cell_type": "markdown",
   "source": [
    "# A Complete Game!"
   ],
   "metadata": {
    "collapsed": false,
    "pycharm": {
     "name": "#%% md\n"
    }
   }
  },
  {
   "cell_type": "code",
   "execution_count": 27,
   "outputs": [
    {
     "name": "stderr",
     "output_type": "stream",
     "text": [
      "/Users/wgiersche/.local/share/virtualenvs/DeepGomoku-cXtJ_EtM/lib/python3.10/site-packages/numpy/core/fromnumeric.py:2007: VisibleDeprecationWarning: Creating an ndarray from ragged nested sequences (which is a list-or-tuple of lists-or-tuples-or ndarrays with different lengths or shapes) is deprecated. If you meant to do this, you must specify 'dtype=object' when creating the ndarray.\n",
      "  result = asarray(a).shape\n"
     ]
    }
   ],
   "source": [
    "hard_policy = MaxCriticalityPolicy(SIZE, overconfidence=5.0)\n",
    "params = MaxInfluencePolicyParams(\n",
    "    n=15,\n",
    "    sigma=.6,\n",
    "    iota=6,\n",
    "    radial_constr = [.0625, .125, .25, .5],\n",
    "    radial_obstr = [-.0625, -.125, -.25, -.5]\n",
    ")\n",
    "soft_policy = MaxInfluencePolicy(params, criticality_model=hard_policy, pov=BLACK)"
   ],
   "metadata": {
    "collapsed": false,
    "pycharm": {
     "name": "#%%\n"
    }
   }
  },
  {
   "cell_type": "code",
   "execution_count": 28,
   "outputs": [
    {
     "name": "stdout",
     "output_type": "stream",
     "text": [
      "WHITE wins.\n"
     ]
    },
    {
     "data": {
      "text/plain": "<Figure size 576x576 with 1 Axes>",
      "image/png": "[encoded data removed]"
     },
     "metadata": {
      "needs_background": "light"
     },
     "output_type": "display_data"
    }
   ],
   "source": [
    "stones = gt.string_to_stones('H8')\n",
    "board = GomokuBoard(n=15, disp_width=8, stones=stones)\n",
    "sample = data.create_nxnx4(SIZE, stones)\n",
    "move = np.squeeze(soft_policy.sample(sample, 1))\n",
    "for _ in range(50):\n",
    "    move = gt.m2b(move, board.N)\n",
    "    board.set(*move)\n",
    "    sample = data.create_nxnx4(SIZE, board.stones)\n",
    "    winning_channel = hard_policy.winner(sample)\n",
    "    if winning_channel is not None:\n",
    "        winning_color = data.get_winning_color(sample, winning_channel)\n",
    "        winning_color = 'BLACK' if winning_color == 0 else 'WHITE'\n",
    "        print(f\"{winning_color} wins.\")\n",
    "        break\n",
    "    move = np.squeeze(soft_policy.sample(sample, 1))\n",
    "#vis(soft_policy(sample), scale=10)\n",
    "board.display()"
   ],
   "metadata": {
    "collapsed": false,
    "pycharm": {
     "name": "#%%\n"
    }
   }
  },
  {
   "cell_type": "markdown",
   "source": [
    "---\n",
    "\n",
    "### Follow a single game step by stet"
   ],
   "metadata": {
    "collapsed": false,
    "pycharm": {
     "name": "#%% md\n"
    }
   }
  },
  {
   "cell_type": "code",
   "execution_count": 29,
   "outputs": [],
   "source": [
    "stones = gt.string_to_stones('H8')\n",
    "board = GomokuBoard(n=15, disp_width=8, stones=stones)\n",
    "sample = data.create_nxnx4(SIZE, stones)"
   ],
   "metadata": {
    "collapsed": false,
    "pycharm": {
     "name": "#%%\n"
    }
   }
  },
  {
   "cell_type": "code",
   "execution_count": 46,
   "outputs": [
    {
     "name": "stdout",
     "output_type": "stream",
     "text": [
      "BLACK wins.\n"
     ]
    },
    {
     "data": {
      "text/plain": "<Figure size 576x576 with 1 Axes>",
      "image/png": "[encoded data removed]"
     },
     "metadata": {
      "needs_background": "light"
     },
     "output_type": "display_data"
    }
   ],
   "source": [
    "move = np.squeeze(soft_policy.sample(sample))\n",
    "for _ in range(1):\n",
    "    move = gt.m2b(move, board.N)\n",
    "    board.set(*move)\n",
    "    sample = data.create_nxnx4(SIZE, board.stones)\n",
    "    winning_channel = hard_policy.winner(sample)\n",
    "    if winning_channel is not None:\n",
    "        winning_color = data.get_winning_color(sample, winning_channel)\n",
    "        winning_color = 'BLACK' if winning_color == 0 else 'WHITE'\n",
    "        print(f\"{winning_color} wins.\")\n",
    "        break\n",
    "    move = np.squeeze(soft_policy.sample(sample))\n",
    "#vis(soft_policy(sample), scale=10)\n",
    "board.display()"
   ],
   "metadata": {
    "collapsed": false,
    "pycharm": {
     "name": "#%%\n"
    }
   }
  }
 ],
 "metadata": {
  "kernelspec": {
   "display_name": "Python 3",
   "language": "python",
   "name": "python3"
  },
  "language_info": {
   "codemirror_mode": {
    "name": "ipython",
    "version": 2
   },
   "file_extension": ".py",
   "mimetype": "text/x-python",
   "name": "python",
   "nbconvert_exporter": "python",
   "pygments_lexer": "ipython2",
   "version": "2.7.6"
  }
 },
 "nbformat": 4,
 "nbformat_minor": 0
}