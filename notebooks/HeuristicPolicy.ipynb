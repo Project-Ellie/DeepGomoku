{
 "cells": [
  {
   "cell_type": "markdown",
   "source": [
    "# Heuristic CNN-based Policy\n",
    "\n",
    "The new heuristic Policy combines two Convolutional models:\n",
    "\n",
    "- Hard Policy: a model that reliably identifies critical MUST-CONSIDER patterns\n",
    "- Soft Policy: a model that prefers fields that are strongly connected (via common lines) with other stones"
   ],
   "metadata": {
    "collapsed": false,
    "pycharm": {
     "name": "#%% md\n"
    }
   }
  },
  {
   "cell_type": "code",
   "execution_count": 1,
   "outputs": [],
   "source": [
    "%load_ext autoreload\n",
    "%autoreload 2"
   ],
   "metadata": {
    "collapsed": false,
    "pycharm": {
     "name": "#%%\n"
    }
   }
  },
  {
   "cell_type": "code",
   "execution_count": 2,
   "metadata": {
    "collapsed": true,
    "pycharm": {
     "name": "#%%\n"
    }
   },
   "outputs": [],
   "source": [
    "import numpy as np\n",
    "from domoku import data\n",
    "from domoku.policies.softadvice import MaxInfluencePolicyParams, MaxInfluencePolicy\n",
    "from domoku.tools import GomokuTools as Gt\n",
    "from domoku import jupyter_tools as jt\n",
    "from domoku.board import GomokuBoard\n",
    "\n",
    "from domoku.policies.maximal_criticality import MaxCriticalityPolicy"
   ]
  },
  {
   "cell_type": "code",
   "execution_count": 3,
   "outputs": [],
   "source": [
    "SIZE=7"
   ],
   "metadata": {
    "collapsed": false,
    "pycharm": {
     "name": "#%%\n"
    }
   }
  },
  {
   "cell_type": "markdown",
   "source": [
    "# Combine Soft Advice with Criticality Comprehension"
   ],
   "metadata": {
    "collapsed": false,
    "pycharm": {
     "name": "#%% md\n"
    }
   }
  },
  {
   "cell_type": "code",
   "execution_count": 4,
   "outputs": [],
   "source": [
    "examine = 'b2b6c4d4d5e2b4c5'"
   ],
   "metadata": {
    "collapsed": false,
    "pycharm": {
     "name": "#%%\n"
    }
   }
  },
  {
   "cell_type": "code",
   "execution_count": 9,
   "outputs": [
    {
     "data": {
      "text/plain": "<Figure size 432x432 with 1 Axes>",
      "image/png": "[encoded data removed]"
     },
     "metadata": {
      "needs_background": "light"
     },
     "output_type": "display_data"
    }
   ],
   "source": [
    "stones = Gt.string_to_stones(examine)\n",
    "board = GomokuBoard(n=SIZE, disp_width=6, stones=stones)\n",
    "board.display()"
   ],
   "metadata": {
    "collapsed": false,
    "pycharm": {
     "name": "#%%\n"
    }
   }
  },
  {
   "cell_type": "code",
   "execution_count": 13,
   "outputs": [],
   "source": [
    "from alphazero.gomoku_board import Board\n",
    "\n",
    "board = Board(SIZE, examine, x_means='b')"
   ],
   "metadata": {
    "collapsed": false,
    "pycharm": {
     "name": "#%%\n"
    }
   }
  },
  {
   "cell_type": "code",
   "execution_count": 15,
   "outputs": [
    {
     "name": "stdout",
     "output_type": "stream",
     "text": [
      "                             \n",
      " 7    .  .  .  .  .  .  .    \n",
      " 6    .  0  .  .  .  .  .    \n",
      " 5    .  .  0  X  .  .  .    \n",
      " 4    .  X  X  0  .  .  .    \n",
      " 3    .  .  .  .  .  .  .    \n",
      " 2    .  X  .  .  0  .  .    \n",
      " 1    .  .  .  .  .  .  .    \n",
      "                             \n",
      "      A  B  C  D  E  F  G\n"
     ]
    },
    {
     "data": {
      "text/plain": "B2 B6 C4 D4 D5 E2 B4 C5 "
     },
     "execution_count": 15,
     "metadata": {},
     "output_type": "execute_result"
    }
   ],
   "source": [
    "board.plot()\n",
    "board"
   ],
   "metadata": {
    "collapsed": false,
    "pycharm": {
     "name": "#%%\n"
    }
   }
  },
  {
   "cell_type": "code",
   "execution_count": 16,
   "outputs": [
    {
     "data": {
      "text/plain": "B2 B6 C4 D4 D5 E2 B4 C5 E3 "
     },
     "execution_count": 16,
     "metadata": {},
     "output_type": "execute_result"
    }
   ],
   "source": [
    "board.act('E', 3)"
   ],
   "metadata": {
    "collapsed": false,
    "pycharm": {
     "name": "#%%\n"
    }
   }
  },
  {
   "cell_type": "code",
   "execution_count": 17,
   "outputs": [
    {
     "name": "stdout",
     "output_type": "stream",
     "text": [
      "                             \n",
      " 7    .  .  .  .  .  .  .    \n",
      " 6    .  0  .  .  .  .  .    \n",
      " 5    .  .  0  X  .  .  .    \n",
      " 4    .  X  X  0  .  .  .    \n",
      " 3    .  .  .  .  X  .  .    \n",
      " 2    .  X  .  .  0  .  .    \n",
      " 1    .  .  .  .  .  .  .    \n",
      "                             \n",
      "      A  B  C  D  E  F  G\n"
     ]
    }
   ],
   "source": [
    "board.plot()"
   ],
   "metadata": {
    "collapsed": false,
    "pycharm": {
     "name": "#%%\n"
    }
   }
  },
  {
   "cell_type": "code",
   "execution_count": 18,
   "outputs": [
    {
     "name": "stdout",
     "output_type": "stream",
     "text": [
      "shape: (9, 9, 3)\n",
      "[[3 3 3 3 3 3 3 3 3]\n",
      " [3 0 0 0 0 0 0 0 3]\n",
      " [3 0 1 0 0 0 0 0 3]\n",
      " [3 0 0 1 2 0 0 0 3]\n",
      " [3 0 2 2 1 0 0 0 3]\n",
      " [3 0 0 0 0 2 0 0 3]\n",
      " [3 0 2 0 0 1 0 0 3]\n",
      " [3 0 0 0 0 0 0 0 3]\n",
      " [3 3 3 3 3 3 3 3 3]]\n"
     ]
    }
   ],
   "source": [
    "sample = board.math_rep\n",
    "jt.print_bin(sample, combine=True)"
   ],
   "metadata": {
    "collapsed": false,
    "pycharm": {
     "name": "#%%\n"
    }
   }
  },
  {
   "cell_type": "code",
   "execution_count": 19,
   "outputs": [
    {
     "name": "stderr",
     "output_type": "stream",
     "text": [
      "2022-06-04 15:48:27.445384: I tensorflow/core/platform/cpu_feature_guard.cc:193] This TensorFlow binary is optimized with oneAPI Deep Neural Network Library (oneDNN) to use the following CPU instructions in performance-critical operations:  AVX2 FMA\n",
      "To enable them in other operations, rebuild TensorFlow with the appropriate compiler flags.\n",
      "/Users/wgiersche/.local/share/virtualenvs/DeepGomoku-cXtJ_EtM/lib/python3.10/site-packages/numpy/core/fromnumeric.py:2007: VisibleDeprecationWarning: Creating an ndarray from ragged nested sequences (which is a list-or-tuple of lists-or-tuples-or ndarrays with different lengths or shapes) is deprecated. If you meant to do this, you must specify 'dtype=object' when creating the ndarray.\n",
      "  result = asarray(a).shape\n"
     ]
    }
   ],
   "source": [
    "from domoku.constants import BLACK\n",
    "\n",
    "hard_policy = MaxCriticalityPolicy(board_size=SIZE, overconfidence=2.0)\n",
    "params = MaxInfluencePolicyParams(\n",
    "    board_size=SIZE,\n",
    "    sigma=.8,\n",
    "    iota=20,\n",
    "    radial_constr = [.0625, .125, .25, .5],\n",
    "    radial_obstr = [-.0625, -.125, -.25, -.5]\n",
    ")\n",
    "soft_policy = MaxInfluencePolicy(params, criticality_model=None, pov=BLACK)"
   ],
   "metadata": {
    "collapsed": false,
    "pycharm": {
     "name": "#%%\n"
    }
   }
  },
  {
   "cell_type": "code",
   "execution_count": 20,
   "outputs": [
    {
     "name": "stdout",
     "output_type": "stream",
     "text": [
      "[[ 0  0  0  0  0  0  0  0  0]\n",
      " [ 0  0  0  0  0  0  0  0  0]\n",
      " [ 0  0  0  0  0  0  0  0  0]\n",
      " [ 0  0  0  0  0  0  0  0  0]\n",
      " [ 0  0  0  0  0  0  0  0  0]\n",
      " [ 0  0 53 40  9  0  0  0  0]\n",
      " [ 0  0  0 11  0  0  0  0  0]\n",
      " [ 0  0  0  0  0  0  0  0  0]\n",
      " [ 0  0  0  0  0  0  0  0  0]]\n"
     ]
    }
   ],
   "source": [
    "jt.vis(soft_policy(sample), scale=100)"
   ],
   "metadata": {
    "collapsed": false,
    "pycharm": {
     "name": "#%%\n"
    }
   }
  },
  {
   "cell_type": "code",
   "execution_count": 26,
   "outputs": [
    {
     "data": {
      "text/plain": "B3"
     },
     "execution_count": 26,
     "metadata": {},
     "output_type": "execute_result"
    }
   ],
   "source": [
    "move = soft_policy.sample(sample, 1, board=board)[0]\n",
    "move"
   ],
   "metadata": {
    "collapsed": false,
    "pycharm": {
     "name": "#%%\n"
    }
   }
  },
  {
   "cell_type": "markdown",
   "source": [
    "---"
   ],
   "metadata": {
    "collapsed": false,
    "pycharm": {
     "name": "#%% md\n"
    }
   }
  },
  {
   "cell_type": "markdown",
   "source": [
    "# A Complete Game!\n",
    "\n",
    "The mixed policy puts stones next to each other until it recoginizes a double-open 3 and then finishes the game.\n",
    "With this policy, we're able to create loads of short, yet somewhat meaningful trajectories for training."
   ],
   "metadata": {
    "collapsed": false,
    "pycharm": {
     "name": "#%% md\n"
    }
   }
  },
  {
   "cell_type": "code",
   "execution_count": 27,
   "outputs": [],
   "source": [
    "SIZE = 15"
   ],
   "metadata": {
    "collapsed": false,
    "pycharm": {
     "name": "#%%\n"
    }
   }
  },
  {
   "cell_type": "code",
   "execution_count": 28,
   "outputs": [],
   "source": [
    "hard_policy = MaxCriticalityPolicy(board_size=SIZE, overconfidence=5.0)\n",
    "params = MaxInfluencePolicyParams(\n",
    "    board_size=SIZE,\n",
    "    sigma=.6,\n",
    "    iota=6,\n",
    "    radial_constr = [.0625, .125, .25, .5],\n",
    "    radial_obstr = [-.0625, -.125, -.25, -.5]\n",
    ")\n",
    "soft_policy = MaxInfluencePolicy(params, criticality_model=hard_policy, pov=BLACK)"
   ],
   "metadata": {
    "collapsed": false,
    "pycharm": {
     "name": "#%%\n"
    }
   }
  },
  {
   "cell_type": "code",
   "execution_count": 305,
   "outputs": [],
   "source": [
    "board = Board(SIZE, stones='H8')\n",
    "sample = board.math_rep.copy()"
   ],
   "metadata": {
    "collapsed": false,
    "pycharm": {
     "name": "#%%\n"
    }
   }
  },
  {
   "cell_type": "code",
   "execution_count": 320,
   "outputs": [
    {
     "name": "stdout",
     "output_type": "stream",
     "text": [
      "                                                     \n",
      "15    .  .  .  .  .  .  .  .  .  .  .  .  .  .  .    \n",
      "14    .  .  .  .  .  .  .  .  .  .  .  .  .  .  .    \n",
      "13    .  .  .  .  .  .  .  .  .  .  .  .  .  .  .    \n",
      "12    .  .  .  .  X  .  .  .  .  .  .  .  .  .  .    \n",
      "11    .  .  .  .  .  0  X  .  X  .  .  .  .  .  .    \n",
      "10    .  .  .  .  .  0  0  X  .  .  .  .  .  .  .    \n",
      " 9    .  .  .  .  .  .  X  0  .  .  .  .  .  .  .    \n",
      " 8    .  .  .  .  .  .  X  X  0  .  .  .  .  .  .    \n",
      " 7    .  .  .  .  .  .  X  .  .  0  .  .  .  .  .    \n",
      " 6    .  .  .  .  .  0  0  .  .  .  .  .  .  .  .    \n",
      " 5    .  .  .  .  .  .  .  .  .  .  .  .  .  .  .    \n",
      " 4    .  .  .  .  .  .  .  .  .  .  .  .  .  .  .    \n",
      " 3    .  .  .  .  .  .  .  .  .  .  .  .  .  .  .    \n",
      " 2    .  .  .  .  .  .  .  .  .  .  .  .  .  .  .    \n",
      " 1    .  .  .  .  .  .  .  .  .  .  .  .  .  .  .    \n",
      "                                                     \n",
      "      A  B  C  D  E  F  G  H  I  J  K  L  M  N  O\n",
      "**********************************************************\n",
      "\n",
      "                      TERMINATED\n",
      "\n",
      "**********************************************************\n",
      "\n",
      "Board: H8 I8 G9 F10 G7 F6 G8 G6 G11 G10 H10 H9 I11 F11 E12 J7 \n"
     ]
    }
   ],
   "source": [
    "move = soft_policy.sample(sample, 1, board=board)[0]\n",
    "board.act(move)\n",
    "sample = board.math_rep\n",
    "winner = hard_policy.winner(sample)\n",
    "board.plot()\n",
    "if winner is not None:\n",
    "    print(\"**********************************************************\")\n",
    "    print(\"\")\n",
    "    print(f\"                      TERMINATED\")\n",
    "    print(\"\")\n",
    "    print(\"**********************************************************\")\n",
    "print(\"\")\n",
    "print(f\"Board: {board}\")"
   ],
   "metadata": {
    "collapsed": false,
    "pycharm": {
     "name": "#%%\n"
    }
   }
  },
  {
   "cell_type": "code",
   "execution_count": null,
   "outputs": [],
   "source": [],
   "metadata": {
    "collapsed": false,
    "pycharm": {
     "name": "#%%\n"
    }
   }
  }
 ],
 "metadata": {
  "kernelspec": {
   "display_name": "Python 3",
   "language": "python",
   "name": "python3"
  },
  "language_info": {
   "codemirror_mode": {
    "name": "ipython",
    "version": 2
   },
   "file_extension": ".py",
   "mimetype": "text/x-python",
   "name": "python",
   "nbconvert_exporter": "python",
   "pygments_lexer": "ipython2",
   "version": "2.7.6"
  }
 },
 "nbformat": 4,
 "nbformat_minor": 0
}