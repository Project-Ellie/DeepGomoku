{
 "cells": [
  {
   "cell_type": "markdown",
   "source": [
    "#  A Heuristic Policy\n",
    "\n",
    "A Policy that identifies critical threats, elements of threat sequences and vaguely interesting positions in three distinct neural networks"
   ],
   "metadata": {
    "collapsed": false,
    "pycharm": {
     "name": "#%% md\n"
    }
   }
  },
  {
   "cell_type": "code",
   "execution_count": 1,
   "outputs": [],
   "source": [
    "%load_ext autoreload\n",
    "%autoreload 2"
   ],
   "metadata": {
    "collapsed": false,
    "pycharm": {
     "name": "#%%\n"
    }
   }
  },
  {
   "cell_type": "code",
   "execution_count": 2,
   "metadata": {
    "collapsed": true,
    "pycharm": {
     "name": "#%%\n"
    }
   },
   "outputs": [],
   "source": [
    "from domoku.tools import GomokuTools as Gt\n",
    "from domoku.policies.threat_search import ThreatSearchPolicy\n",
    "from alphazero.gomoku_board import GomokuBoard\n",
    "from domoku.policies.maximal_criticality import MaxCriticalityPolicy\n",
    "from domoku.policies.softadvice import MaxInfluencePolicy, MaxInfluencePolicyParams\n",
    "from domoku.constants import BLACK"
   ]
  },
  {
   "cell_type": "code",
   "execution_count": 3,
   "outputs": [],
   "source": [
    "SIZE=15"
   ],
   "metadata": {
    "collapsed": false,
    "pycharm": {
     "name": "#%%\n"
    }
   }
  },
  {
   "cell_type": "code",
   "execution_count": 173,
   "outputs": [
    {
     "name": "stderr",
     "output_type": "stream",
     "text": [
      "/Users/wgiersche/.local/share/virtualenvs/DeepGomoku-cXtJ_EtM/lib/python3.10/site-packages/numpy/core/fromnumeric.py:2007: VisibleDeprecationWarning: Creating an ndarray from ragged nested sequences (which is a list-or-tuple of lists-or-tuples-or ndarrays with different lengths or shapes) is deprecated. If you meant to do this, you must specify 'dtype=object' when creating the ndarray.\n",
      "  result = asarray(a).shape\n"
     ]
    }
   ],
   "source": [
    "threat_model = ThreatSearchPolicy(board_size=SIZE)\n",
    "hard_policy = MaxCriticalityPolicy(board_size=SIZE)\n",
    "params = MaxInfluencePolicyParams(\n",
    "    board_size=SIZE,\n",
    "    sigma=.4,\n",
    "    iota=20,\n",
    "    radial_constr = [.0625, .125, .25, .5],\n",
    "    radial_obstr = [-.0625, -.125, -.25, -.5]\n",
    ")\n",
    "policy = MaxInfluencePolicy(params, criticality_model=hard_policy, threat_model=threat_model, pov=BLACK)"
   ],
   "metadata": {
    "collapsed": false,
    "pycharm": {
     "name": "#%%\n"
    }
   }
  },
  {
   "cell_type": "code",
   "execution_count": 174,
   "outputs": [],
   "source": [
    "white_wins = 'c11f9e9g8f7g7g9h8'  # from Yixin vs Wolfie\n",
    "examine = 'D7K7D10K10F7M11'"
   ],
   "metadata": {
    "collapsed": false,
    "pycharm": {
     "name": "#%%\n"
    }
   }
  },
  {
   "cell_type": "code",
   "execution_count": 175,
   "outputs": [],
   "source": [
    "stones = Gt.string_to_stones(white_wins)\n",
    "from domoku.board import GomokuBoard as LegacyBoard\n",
    "board_t = LegacyBoard(n=SIZE, disp_width=8, stones=stones, heuristics=threat_model)\n",
    "board_t.display()"
   ],
   "metadata": {
    "collapsed": false,
    "pycharm": {
     "name": "#%%\n"
    }
   }
  },
  {
   "cell_type": "code",
   "execution_count": 8,
   "outputs": [
    {
     "name": "stdout",
     "output_type": "stream",
     "text": [
      "[[  0   0   0   0   0   0   0   0   0   0   0   0   0   0   0]\n",
      " [  0   0   0   0   0   0   0   0   0   0   0   0   0   0   0]\n",
      " [  0   0   0   0   0   0   0   0   0   0   0   0   0   0   0]\n",
      " [  0 844   0   0   0   0   0   0   0   0   0   0   0   0   0]\n",
      " [  0   0   0 698   0   0   0 444   0   0   0   0   0   0   0]\n",
      " [  0   0   0 844 938   0 444 444   0 972   0   0   0   0   0]\n",
      " [  0   0   0   0   0   0   0 444 998   0   0   0   0   0   0]\n",
      " [  0   0   0   0 991 972   0   0 999 998   0   0   0   0   0]\n",
      " [  0   0   0 444   0   0   0 998   0   0   0   0   0   0   0]\n",
      " [  0   0 444   0   0 994   0 444 998   0   0   0   0   0   0]\n",
      " [  0   0   0   0 698   0   0 444   0   0   0   0   0   0   0]\n",
      " [  0   0   0   0   0   0   0   0   0   0   0   0   0   0   0]\n",
      " [  0   0   0   0   0   0   0   0   0   0   0   0   0   0   0]\n",
      " [  0   0   0   0   0   0   0   0   0   0   0   0   0   0   0]\n",
      " [  0   0   0   0   0   0   0   0   0   0   0   0   0   0   0]]\n"
     ]
    }
   ],
   "source": [
    "board = GomokuBoard(SIZE, white_wins, x_means='b')\n",
    "board.print_pi(threat_model)"
   ],
   "metadata": {
    "collapsed": false,
    "pycharm": {
     "name": "#%%\n"
    }
   }
  },
  {
   "cell_type": "markdown",
   "source": [
    "---"
   ],
   "metadata": {
    "collapsed": false,
    "pycharm": {
     "name": "#%% md\n"
    }
   }
  },
  {
   "cell_type": "code",
   "execution_count": 9,
   "outputs": [
    {
     "name": "stdout",
     "output_type": "stream",
     "text": [
      "Critical:  B12 - 1.0, w=0.5\n",
      "Threats:   I8 - 2.0, w=1.0\n",
      "Influence: I8 - 7.4263, w=0.1\n",
      "Total:     I8 - 3.2426\n"
     ]
    }
   ],
   "source": [
    "res = policy(board.math_rep, verbose=1, stone=board.Stone);"
   ],
   "metadata": {
    "collapsed": false,
    "pycharm": {
     "name": "#%%\n"
    }
   }
  },
  {
   "cell_type": "code",
   "execution_count": 10,
   "outputs": [
    {
     "data": {
      "text/plain": "[I8]"
     },
     "execution_count": 10,
     "metadata": {},
     "output_type": "execute_result"
    }
   ],
   "source": [
    "soft_policy.sample(board.math_rep, 1, board.Stone)"
   ],
   "metadata": {
    "collapsed": false,
    "pycharm": {
     "name": "#%%\n"
    }
   }
  },
  {
   "cell_type": "code",
   "execution_count": 10,
   "outputs": [],
   "source": [],
   "metadata": {
    "collapsed": false,
    "pycharm": {
     "name": "#%%\n"
    }
   }
  },
  {
   "cell_type": "markdown",
   "source": [
    "# A Complete Game!\n",
    "\n",
    "The mixed policy puts stones next to each other until it recoginizes a double-open 3 and then finishes the game.\n",
    "With this policy, we're able to create loads of short, yet somewhat meaningful trajectories for training."
   ],
   "metadata": {
    "collapsed": false,
    "pycharm": {
     "name": "#%% md\n"
    }
   }
  },
  {
   "cell_type": "code",
   "execution_count": 11,
   "outputs": [],
   "source": [
    "SIZE = 15"
   ],
   "metadata": {
    "collapsed": false,
    "pycharm": {
     "name": "#%%\n"
    }
   }
  },
  {
   "cell_type": "code",
   "execution_count": 13,
   "outputs": [],
   "source": [
    "threat_model = ThreatSearchPolicy(board_size=SIZE)\n",
    "hard_policy = MaxCriticalityPolicy(board_size=SIZE)\n",
    "params = MaxInfluencePolicyParams(\n",
    "    board_size=SIZE,\n",
    "    sigma=.7,\n",
    "    iota=20,\n",
    "    radial_constr = [.0625, .125, .25, .5],\n",
    "    radial_obstr = [-.0625, -.125, -.25, -.5]\n",
    ")\n",
    "soft_policy = MaxInfluencePolicy(params, criticality_model=hard_policy, threat_model=threat_model, pov=BLACK)"
   ],
   "metadata": {
    "collapsed": false,
    "pycharm": {
     "name": "#%%\n"
    }
   }
  },
  {
   "cell_type": "code",
   "execution_count": 80,
   "outputs": [],
   "source": [
    "board = GomokuBoard(SIZE, stones=white_wins)\n",
    "sample = board.math_rep.copy()"
   ],
   "metadata": {
    "collapsed": false,
    "pycharm": {
     "name": "#%%\n"
    }
   }
  },
  {
   "cell_type": "code",
   "execution_count": 161,
   "outputs": [
    {
     "name": "stdout",
     "output_type": "stream",
     "text": [
      "                                                     \n",
      "15    .  .  .  .  .  O  .  .  .  .  .  .  .  .  .    \n",
      "14    .  .  .  O  X  X  .  .  .  .  .  .  .  .  .    \n",
      "13    .  .  O  .  O  X  O  .  .  .  .  .  .  .  .    \n",
      "12    .  O  .  X  O  X  X  X  .  O  X  .  .  .  .    \n",
      "11    .  .  X  X  O  X  X  .  X  O  .  .  .  .  .    \n",
      "10    .  .  X  X  O  O  .  X  O  X  .  .  .  .  .    \n",
      " 9    .  .  X  O  X  O  X  O  O  X  O  .  .  .  .    \n",
      " 8    .  .  O  O  X  O  O  O  O  X  .  .  .  .  .    \n",
      " 7    .  X  O  X  X  X  O  O  O  O  X  .  .  O  .    \n",
      " 6    X  .  .  .  O  X  X  .  X  O  X  O [X] .  .    \n",
      " 5    .  .  .  X  X  O  X  X  .  O  X  O  .  .  .    \n",
      " 4    .  .  .  .  O  O  X  O  O  X  O  X  .  .  .    \n",
      " 3    .  .  .  .  .  O  .  .  .  O  .  .  .  .  .    \n",
      " 2    .  .  .  .  X  .  O  .  X  .  .  .  .  .  .    \n",
      " 1    .  .  .  .  .  X  .  .  .  .  .  .  .  .  .    \n",
      "                                                     \n",
      "      A  B  C  D  E  F  G  H  I  J  K  L  M  N  O\n",
      "\n",
      "Board: C11 F9 E9 G8 F7 G7 G9 H8 J8 H7 I6 H9 H10 I9 J10 I10 I11 J12 D10 B12 E7 F8 E8 E10 D11 D9 F11 E11 H12 K9 G11 F10 E5 E6 J9 J7 K7 I8 K6 J6 K5 K4 F14 G13 K12 J11 D12 E13 F13 E12 E14 D14 F12 F15 H5 I4 J4 L6 G5 F5 F6 H4 C9 D8 C10 C8 D7 E4 G6 F4 G4 G2 D5 J5 A6 I7 B7 C7 E2 F3 F1 C13 G12 L5 L4 J3 I2 N7 M6\n",
      "Critical:  A15 - 0.0, w=0.5\n",
      "Threats:   A15 - 0.0, w=1.0\n",
      "Influence: G3 - 2.5903, w=0.1\n",
      "Total:     G3 - 0.25903\n"
     ]
    }
   ],
   "source": [
    "move = soft_policy.sample(sample, 1, stone=board.Stone)[0]\n",
    "board.act(move)\n",
    "sample = board.math_rep\n",
    "winner = hard_policy.get_winner(sample)\n",
    "board.plot()\n",
    "if winner is not None:\n",
    "    print(\"**********************************************************\")\n",
    "    print(\"\")\n",
    "    print(f\"                      TERMINATED\")\n",
    "    print(\"\")\n",
    "    print(\"**********************************************************\")\n",
    "print(\"\")\n",
    "print(f\"Board: {board}\")\n",
    "soft_policy(board.math_rep, verbose=1, stone=board.Stone);"
   ],
   "metadata": {
    "collapsed": false,
    "pycharm": {
     "name": "#%%\n"
    }
   }
  },
  {
   "cell_type": "code",
   "execution_count": 172,
   "outputs": [
    {
     "name": "stdout",
     "output_type": "stream",
     "text": [
      "{H11, A4, M9, M11, O2, K10, L10, C5, M12, G3, H3, E7, I5}\n"
     ]
    }
   ],
   "source": [
    "print(set(soft_policy.sample(sample, 20, stone=board.Stone)))"
   ],
   "metadata": {
    "collapsed": false,
    "pycharm": {
     "name": "#%%\n"
    }
   }
  },
  {
   "cell_type": "code",
   "execution_count": null,
   "outputs": [],
   "source": [],
   "metadata": {
    "collapsed": false,
    "pycharm": {
     "name": "#%%\n"
    }
   }
  }
 ],
 "metadata": {
  "kernelspec": {
   "display_name": "Python 3",
   "language": "python",
   "name": "python3"
  },
  "language_info": {
   "codemirror_mode": {
    "name": "ipython",
    "version": 2
   },
   "file_extension": ".py",
   "mimetype": "text/x-python",
   "name": "python",
   "nbconvert_exporter": "python",
   "pygments_lexer": "ipython2",
   "version": "2.7.6"
  }
 },
 "nbformat": 4,
 "nbformat_minor": 0
}