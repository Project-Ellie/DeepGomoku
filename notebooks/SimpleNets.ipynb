{
 "cells": [
  {
   "cell_type": "markdown",
   "source": [
    "# Exploring Simple Network Architectures"
   ],
   "metadata": {
    "collapsed": false,
    "pycharm": {
     "name": "#%% md\n"
    }
   }
  },
  {
   "cell_type": "code",
   "execution_count": 1,
   "outputs": [],
   "source": [
    "%load_ext autoreload\n",
    "%autoreload 2"
   ],
   "metadata": {
    "collapsed": false,
    "pycharm": {
     "name": "#%%\n"
    }
   }
  },
  {
   "cell_type": "code",
   "execution_count": 2,
   "outputs": [],
   "source": [
    "import datetime as dt\n",
    "import random\n",
    "\n",
    "import numpy as np\n",
    "import tensorflow as tf\n",
    "import keras\n",
    "from keras import layers\n",
    "\n",
    "from aegomoku.game_data import read_training_data\n",
    "import keras.initializers.initializers_v2 as initializers"
   ],
   "metadata": {
    "collapsed": false,
    "pycharm": {
     "name": "#%%\n"
    }
   }
  },
  {
   "cell_type": "code",
   "execution_count": 3,
   "outputs": [
    {
     "data": {
      "text/plain": "(20320, 3, (17, 17, 3), (225,))"
     },
     "execution_count": 3,
     "metadata": {},
     "output_type": "execute_result"
    }
   ],
   "source": [
    "BOARD_SIZE=15\n",
    "filename = \"rawdata.pickle\"\n",
    "examples = read_training_data(filename, BOARD_SIZE)\n",
    "len(examples), len(examples[0]), examples[0][0].shape, np.array(examples[0][1]).shape"
   ],
   "metadata": {
    "collapsed": false,
    "pycharm": {
     "name": "#%%\n"
    }
   }
  },
  {
   "cell_type": "code",
   "execution_count": 3,
   "outputs": [],
   "source": [],
   "metadata": {
    "collapsed": false,
    "pycharm": {
     "name": "#%%\n"
    }
   }
  },
  {
   "cell_type": "code",
   "execution_count": 4,
   "outputs": [],
   "source": [
    "inputs = keras.Input(shape=(17, 17, 3), name=\"inputs\")"
   ],
   "metadata": {
    "collapsed": false,
    "pycharm": {
     "name": "#%%\n"
    }
   }
  },
  {
   "cell_type": "code",
   "execution_count": 5,
   "outputs": [],
   "source": [
    "def xp(n, filters, kernel):\n",
    "    return layers.Conv2D(\n",
    "        name=f\"expand_{n}_{kernel}x{kernel}\",\n",
    "        filters=filters, kernel_size=kernel,\n",
    "        kernel_initializer=initializers.TruncatedNormal(seed=1, stddev=0.08),\n",
    "        bias_initializer=tf.constant_initializer(0.),\n",
    "        activation=tf.nn.softplus,\n",
    "        padding='same')"
   ],
   "metadata": {
    "collapsed": false,
    "pycharm": {
     "name": "#%%\n"
    }
   }
  },
  {
   "cell_type": "code",
   "execution_count": 6,
   "outputs": [],
   "source": [
    "def ct(n, filters, kernel):\n",
    "    return layers.Conv2D(\n",
    "        name=f\"contract_{n}_{kernel}x{kernel}\",\n",
    "        filters=filters, kernel_size=kernel,\n",
    "        kernel_initializer=initializers.TruncatedNormal(seed=1, stddev=0.08),\n",
    "        bias_initializer=tf.constant_initializer(0.),\n",
    "        activation=tf.nn.softplus,\n",
    "        padding='same')"
   ],
   "metadata": {
    "collapsed": false,
    "pycharm": {
     "name": "#%%\n"
    }
   }
  },
  {
   "cell_type": "code",
   "execution_count": 7,
   "outputs": [],
   "source": [
    "policy_aggregate = layers.Conv2D(\n",
    "    name=\"policy_aggregator\",\n",
    "    filters=1, kernel_size=1,\n",
    "    kernel_initializer=initializers.TruncatedNormal(seed=1, stddev=0.08),\n",
    "    bias_initializer=tf.constant_initializer(0.),\n",
    "    activation=tf.nn.relu,\n",
    "    padding='same')"
   ],
   "metadata": {
    "collapsed": false,
    "pycharm": {
     "name": "#%%\n"
    }
   }
  },
  {
   "cell_type": "code",
   "execution_count": 8,
   "outputs": [],
   "source": [
    "peel = layers.Conv2D(\n",
    "    name=\"border_off\",\n",
    "    filters=1, kernel_size=(3, 3),\n",
    "    kernel_initializer=tf.constant_initializer([[0., 0., 0.], [0., 1., 0.], [0., 0., 0.]]),\n",
    "    bias_initializer=tf.constant_initializer(0.),\n",
    "    padding='valid',\n",
    "    trainable=False)"
   ],
   "metadata": {
    "collapsed": false,
    "pycharm": {
     "name": "#%%\n"
    }
   }
  },
  {
   "cell_type": "code",
   "execution_count": 8,
   "outputs": [],
   "source": [],
   "metadata": {
    "collapsed": false,
    "pycharm": {
     "name": "#%%\n"
    }
   }
  },
  {
   "cell_type": "code",
   "execution_count": 9,
   "outputs": [
    {
     "name": "stderr",
     "output_type": "stream",
     "text": [
      "2022-08-11 21:33:09.359282: I tensorflow/stream_executor/cuda/cuda_gpu_executor.cc:975] successful NUMA node read from SysFS had negative value (-1), but there must be at least one NUMA node, so returning NUMA node zero\n",
      "2022-08-11 21:33:09.359970: I tensorflow/stream_executor/cuda/cuda_gpu_executor.cc:975] successful NUMA node read from SysFS had negative value (-1), but there must be at least one NUMA node, so returning NUMA node zero\n",
      "2022-08-11 21:33:09.365327: I tensorflow/stream_executor/cuda/cuda_gpu_executor.cc:975] successful NUMA node read from SysFS had negative value (-1), but there must be at least one NUMA node, so returning NUMA node zero\n",
      "2022-08-11 21:33:09.366022: I tensorflow/stream_executor/cuda/cuda_gpu_executor.cc:975] successful NUMA node read from SysFS had negative value (-1), but there must be at least one NUMA node, so returning NUMA node zero\n",
      "2022-08-11 21:33:09.366924: I tensorflow/stream_executor/cuda/cuda_gpu_executor.cc:975] successful NUMA node read from SysFS had negative value (-1), but there must be at least one NUMA node, so returning NUMA node zero\n",
      "2022-08-11 21:33:09.367507: I tensorflow/stream_executor/cuda/cuda_gpu_executor.cc:975] successful NUMA node read from SysFS had negative value (-1), but there must be at least one NUMA node, so returning NUMA node zero\n",
      "2022-08-11 21:33:09.368969: I tensorflow/core/platform/cpu_feature_guard.cc:193] This TensorFlow binary is optimized with oneAPI Deep Neural Network Library (oneDNN) to use the following CPU instructions in performance-critical operations:  AVX2 FMA\n",
      "To enable them in other operations, rebuild TensorFlow with the appropriate compiler flags.\n",
      "2022-08-11 21:33:09.504320: I tensorflow/stream_executor/cuda/cuda_gpu_executor.cc:975] successful NUMA node read from SysFS had negative value (-1), but there must be at least one NUMA node, so returning NUMA node zero\n",
      "2022-08-11 21:33:09.504987: I tensorflow/stream_executor/cuda/cuda_gpu_executor.cc:975] successful NUMA node read from SysFS had negative value (-1), but there must be at least one NUMA node, so returning NUMA node zero\n",
      "2022-08-11 21:33:09.505568: I tensorflow/stream_executor/cuda/cuda_gpu_executor.cc:975] successful NUMA node read from SysFS had negative value (-1), but there must be at least one NUMA node, so returning NUMA node zero\n",
      "2022-08-11 21:33:09.506109: I tensorflow/stream_executor/cuda/cuda_gpu_executor.cc:975] successful NUMA node read from SysFS had negative value (-1), but there must be at least one NUMA node, so returning NUMA node zero\n",
      "2022-08-11 21:33:09.506668: I tensorflow/stream_executor/cuda/cuda_gpu_executor.cc:975] successful NUMA node read from SysFS had negative value (-1), but there must be at least one NUMA node, so returning NUMA node zero\n",
      "2022-08-11 21:33:09.507208: I tensorflow/stream_executor/cuda/cuda_gpu_executor.cc:975] successful NUMA node read from SysFS had negative value (-1), but there must be at least one NUMA node, so returning NUMA node zero\n",
      "2022-08-11 21:33:10.155996: I tensorflow/stream_executor/cuda/cuda_gpu_executor.cc:975] successful NUMA node read from SysFS had negative value (-1), but there must be at least one NUMA node, so returning NUMA node zero\n",
      "2022-08-11 21:33:10.156657: I tensorflow/stream_executor/cuda/cuda_gpu_executor.cc:975] successful NUMA node read from SysFS had negative value (-1), but there must be at least one NUMA node, so returning NUMA node zero\n",
      "2022-08-11 21:33:10.157326: I tensorflow/stream_executor/cuda/cuda_gpu_executor.cc:975] successful NUMA node read from SysFS had negative value (-1), but there must be at least one NUMA node, so returning NUMA node zero\n",
      "2022-08-11 21:33:10.157875: I tensorflow/stream_executor/cuda/cuda_gpu_executor.cc:975] successful NUMA node read from SysFS had negative value (-1), but there must be at least one NUMA node, so returning NUMA node zero\n",
      "2022-08-11 21:33:10.158433: I tensorflow/stream_executor/cuda/cuda_gpu_executor.cc:975] successful NUMA node read from SysFS had negative value (-1), but there must be at least one NUMA node, so returning NUMA node zero\n",
      "2022-08-11 21:33:10.158967: I tensorflow/core/common_runtime/gpu/gpu_device.cc:1532] Created device /job:localhost/replica:0/task:0/device:GPU:0 with 9857 MB memory:  -> device: 0, name: NVIDIA GeForce GTX 1080 Ti, pci bus id: 0000:28:00.0, compute capability: 6.1\n",
      "2022-08-11 21:33:10.159374: I tensorflow/stream_executor/cuda/cuda_gpu_executor.cc:975] successful NUMA node read from SysFS had negative value (-1), but there must be at least one NUMA node, so returning NUMA node zero\n",
      "2022-08-11 21:33:10.159958: I tensorflow/core/common_runtime/gpu/gpu_device.cc:1532] Created device /job:localhost/replica:0/task:0/device:GPU:1 with 10415 MB memory:  -> device: 1, name: NVIDIA GeForce GTX 1080 Ti, pci bus id: 0000:29:00.0, compute capability: 6.1\n"
     ]
    }
   ],
   "source": [
    "x = xp(1, 1024, 11)(inputs)\n",
    "c = ct(1, 4, 5)(x)\n",
    "\n",
    "for i in range(2, 21):\n",
    "    x = layers.concatenate([inputs, c], axis=-1)\n",
    "    x = xp(i, 32, 5)(x)\n",
    "    x = ct(i, 4, 3)(x)\n",
    "    c = layers.Add(name=f\"skip_{i}\")([x, c])\n",
    "\n",
    "x = policy_aggregate(c)\n",
    "y = peel(x)\n",
    "flatten = layers.Flatten()(y)\n",
    "softmax = layers.Softmax()(flatten)\n",
    "model = keras.Model(inputs=inputs, outputs=softmax)\n",
    "model.compile()"
   ],
   "metadata": {
    "collapsed": false,
    "pycharm": {
     "name": "#%%\n"
    }
   }
  },
  {
   "cell_type": "code",
   "execution_count": 10,
   "outputs": [
    {
     "name": "stdout",
     "output_type": "stream",
     "text": [
      "Model: \"model\"\n",
      "__________________________________________________________________________________________________\n",
      " Layer (type)                   Output Shape         Param #     Connected to                     \n",
      "==================================================================================================\n",
      " inputs (InputLayer)            [(None, 17, 17, 3)]  0           []                               \n",
      "                                                                                                  \n",
      " expand_1_11x11 (Conv2D)        (None, 17, 17, 1024  372736      ['inputs[0][0]']                 \n",
      "                                )                                                                 \n",
      "                                                                                                  \n",
      " contract_1_5x5 (Conv2D)        (None, 17, 17, 4)    102404      ['expand_1_11x11[0][0]']         \n",
      "                                                                                                  \n",
      " concatenate (Concatenate)      (None, 17, 17, 7)    0           ['inputs[0][0]',                 \n",
      "                                                                  'contract_1_5x5[0][0]']         \n",
      "                                                                                                  \n",
      " expand_2_5x5 (Conv2D)          (None, 17, 17, 32)   5632        ['concatenate[0][0]']            \n",
      "                                                                                                  \n",
      " contract_2_3x3 (Conv2D)        (None, 17, 17, 4)    1156        ['expand_2_5x5[0][0]']           \n",
      "                                                                                                  \n",
      " skip_2 (Add)                   (None, 17, 17, 4)    0           ['contract_2_3x3[0][0]',         \n",
      "                                                                  'contract_1_5x5[0][0]']         \n",
      "                                                                                                  \n",
      " concatenate_1 (Concatenate)    (None, 17, 17, 7)    0           ['inputs[0][0]',                 \n",
      "                                                                  'skip_2[0][0]']                 \n",
      "                                                                                                  \n",
      " expand_3_5x5 (Conv2D)          (None, 17, 17, 32)   5632        ['concatenate_1[0][0]']          \n",
      "                                                                                                  \n",
      " contract_3_3x3 (Conv2D)        (None, 17, 17, 4)    1156        ['expand_3_5x5[0][0]']           \n",
      "                                                                                                  \n",
      " skip_3 (Add)                   (None, 17, 17, 4)    0           ['contract_3_3x3[0][0]',         \n",
      "                                                                  'skip_2[0][0]']                 \n",
      "                                                                                                  \n",
      " concatenate_2 (Concatenate)    (None, 17, 17, 7)    0           ['inputs[0][0]',                 \n",
      "                                                                  'skip_3[0][0]']                 \n",
      "                                                                                                  \n",
      " expand_4_5x5 (Conv2D)          (None, 17, 17, 32)   5632        ['concatenate_2[0][0]']          \n",
      "                                                                                                  \n",
      " contract_4_3x3 (Conv2D)        (None, 17, 17, 4)    1156        ['expand_4_5x5[0][0]']           \n",
      "                                                                                                  \n",
      " skip_4 (Add)                   (None, 17, 17, 4)    0           ['contract_4_3x3[0][0]',         \n",
      "                                                                  'skip_3[0][0]']                 \n",
      "                                                                                                  \n",
      " concatenate_3 (Concatenate)    (None, 17, 17, 7)    0           ['inputs[0][0]',                 \n",
      "                                                                  'skip_4[0][0]']                 \n",
      "                                                                                                  \n",
      " expand_5_5x5 (Conv2D)          (None, 17, 17, 32)   5632        ['concatenate_3[0][0]']          \n",
      "                                                                                                  \n",
      " contract_5_3x3 (Conv2D)        (None, 17, 17, 4)    1156        ['expand_5_5x5[0][0]']           \n",
      "                                                                                                  \n",
      " skip_5 (Add)                   (None, 17, 17, 4)    0           ['contract_5_3x3[0][0]',         \n",
      "                                                                  'skip_4[0][0]']                 \n",
      "                                                                                                  \n",
      " concatenate_4 (Concatenate)    (None, 17, 17, 7)    0           ['inputs[0][0]',                 \n",
      "                                                                  'skip_5[0][0]']                 \n",
      "                                                                                                  \n",
      " expand_6_5x5 (Conv2D)          (None, 17, 17, 32)   5632        ['concatenate_4[0][0]']          \n",
      "                                                                                                  \n",
      " contract_6_3x3 (Conv2D)        (None, 17, 17, 4)    1156        ['expand_6_5x5[0][0]']           \n",
      "                                                                                                  \n",
      " skip_6 (Add)                   (None, 17, 17, 4)    0           ['contract_6_3x3[0][0]',         \n",
      "                                                                  'skip_5[0][0]']                 \n",
      "                                                                                                  \n",
      " concatenate_5 (Concatenate)    (None, 17, 17, 7)    0           ['inputs[0][0]',                 \n",
      "                                                                  'skip_6[0][0]']                 \n",
      "                                                                                                  \n",
      " expand_7_5x5 (Conv2D)          (None, 17, 17, 32)   5632        ['concatenate_5[0][0]']          \n",
      "                                                                                                  \n",
      " contract_7_3x3 (Conv2D)        (None, 17, 17, 4)    1156        ['expand_7_5x5[0][0]']           \n",
      "                                                                                                  \n",
      " skip_7 (Add)                   (None, 17, 17, 4)    0           ['contract_7_3x3[0][0]',         \n",
      "                                                                  'skip_6[0][0]']                 \n",
      "                                                                                                  \n",
      " concatenate_6 (Concatenate)    (None, 17, 17, 7)    0           ['inputs[0][0]',                 \n",
      "                                                                  'skip_7[0][0]']                 \n",
      "                                                                                                  \n",
      " expand_8_5x5 (Conv2D)          (None, 17, 17, 32)   5632        ['concatenate_6[0][0]']          \n",
      "                                                                                                  \n",
      " contract_8_3x3 (Conv2D)        (None, 17, 17, 4)    1156        ['expand_8_5x5[0][0]']           \n",
      "                                                                                                  \n",
      " skip_8 (Add)                   (None, 17, 17, 4)    0           ['contract_8_3x3[0][0]',         \n",
      "                                                                  'skip_7[0][0]']                 \n",
      "                                                                                                  \n",
      " concatenate_7 (Concatenate)    (None, 17, 17, 7)    0           ['inputs[0][0]',                 \n",
      "                                                                  'skip_8[0][0]']                 \n",
      "                                                                                                  \n",
      " expand_9_5x5 (Conv2D)          (None, 17, 17, 32)   5632        ['concatenate_7[0][0]']          \n",
      "                                                                                                  \n",
      " contract_9_3x3 (Conv2D)        (None, 17, 17, 4)    1156        ['expand_9_5x5[0][0]']           \n",
      "                                                                                                  \n",
      " skip_9 (Add)                   (None, 17, 17, 4)    0           ['contract_9_3x3[0][0]',         \n",
      "                                                                  'skip_8[0][0]']                 \n",
      "                                                                                                  \n",
      " concatenate_8 (Concatenate)    (None, 17, 17, 7)    0           ['inputs[0][0]',                 \n",
      "                                                                  'skip_9[0][0]']                 \n",
      "                                                                                                  \n",
      " expand_10_5x5 (Conv2D)         (None, 17, 17, 32)   5632        ['concatenate_8[0][0]']          \n",
      "                                                                                                  \n",
      " contract_10_3x3 (Conv2D)       (None, 17, 17, 4)    1156        ['expand_10_5x5[0][0]']          \n",
      "                                                                                                  \n",
      " skip_10 (Add)                  (None, 17, 17, 4)    0           ['contract_10_3x3[0][0]',        \n",
      "                                                                  'skip_9[0][0]']                 \n",
      "                                                                                                  \n",
      " concatenate_9 (Concatenate)    (None, 17, 17, 7)    0           ['inputs[0][0]',                 \n",
      "                                                                  'skip_10[0][0]']                \n",
      "                                                                                                  \n",
      " expand_11_5x5 (Conv2D)         (None, 17, 17, 32)   5632        ['concatenate_9[0][0]']          \n",
      "                                                                                                  \n",
      " contract_11_3x3 (Conv2D)       (None, 17, 17, 4)    1156        ['expand_11_5x5[0][0]']          \n",
      "                                                                                                  \n",
      " skip_11 (Add)                  (None, 17, 17, 4)    0           ['contract_11_3x3[0][0]',        \n",
      "                                                                  'skip_10[0][0]']                \n",
      "                                                                                                  \n",
      " concatenate_10 (Concatenate)   (None, 17, 17, 7)    0           ['inputs[0][0]',                 \n",
      "                                                                  'skip_11[0][0]']                \n",
      "                                                                                                  \n",
      " expand_12_5x5 (Conv2D)         (None, 17, 17, 32)   5632        ['concatenate_10[0][0]']         \n",
      "                                                                                                  \n",
      " contract_12_3x3 (Conv2D)       (None, 17, 17, 4)    1156        ['expand_12_5x5[0][0]']          \n",
      "                                                                                                  \n",
      " skip_12 (Add)                  (None, 17, 17, 4)    0           ['contract_12_3x3[0][0]',        \n",
      "                                                                  'skip_11[0][0]']                \n",
      "                                                                                                  \n",
      " concatenate_11 (Concatenate)   (None, 17, 17, 7)    0           ['inputs[0][0]',                 \n",
      "                                                                  'skip_12[0][0]']                \n",
      "                                                                                                  \n",
      " expand_13_5x5 (Conv2D)         (None, 17, 17, 32)   5632        ['concatenate_11[0][0]']         \n",
      "                                                                                                  \n",
      " contract_13_3x3 (Conv2D)       (None, 17, 17, 4)    1156        ['expand_13_5x5[0][0]']          \n",
      "                                                                                                  \n",
      " skip_13 (Add)                  (None, 17, 17, 4)    0           ['contract_13_3x3[0][0]',        \n",
      "                                                                  'skip_12[0][0]']                \n",
      "                                                                                                  \n",
      " concatenate_12 (Concatenate)   (None, 17, 17, 7)    0           ['inputs[0][0]',                 \n",
      "                                                                  'skip_13[0][0]']                \n",
      "                                                                                                  \n",
      " expand_14_5x5 (Conv2D)         (None, 17, 17, 32)   5632        ['concatenate_12[0][0]']         \n",
      "                                                                                                  \n",
      " contract_14_3x3 (Conv2D)       (None, 17, 17, 4)    1156        ['expand_14_5x5[0][0]']          \n",
      "                                                                                                  \n",
      " skip_14 (Add)                  (None, 17, 17, 4)    0           ['contract_14_3x3[0][0]',        \n",
      "                                                                  'skip_13[0][0]']                \n",
      "                                                                                                  \n",
      " concatenate_13 (Concatenate)   (None, 17, 17, 7)    0           ['inputs[0][0]',                 \n",
      "                                                                  'skip_14[0][0]']                \n",
      "                                                                                                  \n",
      " expand_15_5x5 (Conv2D)         (None, 17, 17, 32)   5632        ['concatenate_13[0][0]']         \n",
      "                                                                                                  \n",
      " contract_15_3x3 (Conv2D)       (None, 17, 17, 4)    1156        ['expand_15_5x5[0][0]']          \n",
      "                                                                                                  \n",
      " skip_15 (Add)                  (None, 17, 17, 4)    0           ['contract_15_3x3[0][0]',        \n",
      "                                                                  'skip_14[0][0]']                \n",
      "                                                                                                  \n",
      " concatenate_14 (Concatenate)   (None, 17, 17, 7)    0           ['inputs[0][0]',                 \n",
      "                                                                  'skip_15[0][0]']                \n",
      "                                                                                                  \n",
      " expand_16_5x5 (Conv2D)         (None, 17, 17, 32)   5632        ['concatenate_14[0][0]']         \n",
      "                                                                                                  \n",
      " contract_16_3x3 (Conv2D)       (None, 17, 17, 4)    1156        ['expand_16_5x5[0][0]']          \n",
      "                                                                                                  \n",
      " skip_16 (Add)                  (None, 17, 17, 4)    0           ['contract_16_3x3[0][0]',        \n",
      "                                                                  'skip_15[0][0]']                \n",
      "                                                                                                  \n",
      " concatenate_15 (Concatenate)   (None, 17, 17, 7)    0           ['inputs[0][0]',                 \n",
      "                                                                  'skip_16[0][0]']                \n",
      "                                                                                                  \n",
      " expand_17_5x5 (Conv2D)         (None, 17, 17, 32)   5632        ['concatenate_15[0][0]']         \n",
      "                                                                                                  \n",
      " contract_17_3x3 (Conv2D)       (None, 17, 17, 4)    1156        ['expand_17_5x5[0][0]']          \n",
      "                                                                                                  \n",
      " skip_17 (Add)                  (None, 17, 17, 4)    0           ['contract_17_3x3[0][0]',        \n",
      "                                                                  'skip_16[0][0]']                \n",
      "                                                                                                  \n",
      " concatenate_16 (Concatenate)   (None, 17, 17, 7)    0           ['inputs[0][0]',                 \n",
      "                                                                  'skip_17[0][0]']                \n",
      "                                                                                                  \n",
      " expand_18_5x5 (Conv2D)         (None, 17, 17, 32)   5632        ['concatenate_16[0][0]']         \n",
      "                                                                                                  \n",
      " contract_18_3x3 (Conv2D)       (None, 17, 17, 4)    1156        ['expand_18_5x5[0][0]']          \n",
      "                                                                                                  \n",
      " skip_18 (Add)                  (None, 17, 17, 4)    0           ['contract_18_3x3[0][0]',        \n",
      "                                                                  'skip_17[0][0]']                \n",
      "                                                                                                  \n",
      " concatenate_17 (Concatenate)   (None, 17, 17, 7)    0           ['inputs[0][0]',                 \n",
      "                                                                  'skip_18[0][0]']                \n",
      "                                                                                                  \n",
      " expand_19_5x5 (Conv2D)         (None, 17, 17, 32)   5632        ['concatenate_17[0][0]']         \n",
      "                                                                                                  \n",
      " contract_19_3x3 (Conv2D)       (None, 17, 17, 4)    1156        ['expand_19_5x5[0][0]']          \n",
      "                                                                                                  \n",
      " skip_19 (Add)                  (None, 17, 17, 4)    0           ['contract_19_3x3[0][0]',        \n",
      "                                                                  'skip_18[0][0]']                \n",
      "                                                                                                  \n",
      " concatenate_18 (Concatenate)   (None, 17, 17, 7)    0           ['inputs[0][0]',                 \n",
      "                                                                  'skip_19[0][0]']                \n",
      "                                                                                                  \n",
      " expand_20_5x5 (Conv2D)         (None, 17, 17, 32)   5632        ['concatenate_18[0][0]']         \n",
      "                                                                                                  \n",
      " contract_20_3x3 (Conv2D)       (None, 17, 17, 4)    1156        ['expand_20_5x5[0][0]']          \n",
      "                                                                                                  \n",
      " skip_20 (Add)                  (None, 17, 17, 4)    0           ['contract_20_3x3[0][0]',        \n",
      "                                                                  'skip_19[0][0]']                \n",
      "                                                                                                  \n",
      " policy_aggregator (Conv2D)     (None, 17, 17, 1)    5           ['skip_20[0][0]']                \n",
      "                                                                                                  \n",
      " border_off (Conv2D)            (None, 15, 15, 1)    10          ['policy_aggregator[0][0]']      \n",
      "                                                                                                  \n",
      " flatten (Flatten)              (None, 225)          0           ['border_off[0][0]']             \n",
      "                                                                                                  \n",
      " softmax (Softmax)              (None, 225)          0           ['flatten[0][0]']                \n",
      "                                                                                                  \n",
      "==================================================================================================\n",
      "Total params: 604,127\n",
      "Trainable params: 604,117\n",
      "Non-trainable params: 10\n",
      "__________________________________________________________________________________________________\n"
     ]
    }
   ],
   "source": [
    "model.summary()"
   ],
   "metadata": {
    "collapsed": false,
    "pycharm": {
     "name": "#%%\n"
    }
   }
  },
  {
   "cell_type": "code",
   "execution_count": 11,
   "outputs": [
    {
     "name": "stderr",
     "output_type": "stream",
     "text": [
      "2022-08-11 21:33:12.587991: I tensorflow/stream_executor/cuda/cuda_dnn.cc:384] Loaded cuDNN version 8100\n",
      "2022-08-11 21:33:12.780000: W tensorflow/stream_executor/gpu/asm_compiler.cc:111] *** WARNING *** You are using ptxas 10.1.243, which is older than 11.1. ptxas before 11.1 is known to miscompile XLA code, leading to incorrect results or invalid-address errors.\n",
      "\n",
      "You may not need to update to CUDA 11.1; cherry-picking the ptxas binary is often sufficient.\n"
     ]
    },
    {
     "name": "stdout",
     "output_type": "stream",
     "text": [
      "[  0   1   4   2   0   0   0   0   0   0   0   0   0   0   0   0  34  89\n",
      "  60  14   2   3   2   4   5   7   9  24  13   0   0   1  66 202  22   5\n",
      "   4   5   4   5  10  14  91 119  22   0   0   0   5   0   0   0   0   0\n",
      "   1   1   3  10  21   5   0   0   0   1   0   0   0   0   0   0   0   0\n",
      "   2   8   5   0   0   0   0   0   0   0   0   0   0   0   0   1   4   3\n",
      "   0   0   0   0   0   0   0   0   0   0   0   0   0   2   1   0   0   0\n",
      "   0   0   0   0   0   0   0   0   0   0   1   0   0   0   0   0   0   0\n",
      "   0   0   0   0   0   0   0   1   0   0   0   0   0   0   0   0   0   0\n",
      "   0   0   0   0   1   0   0   0   0   0   0   0   0   0   0   0   0   0\n",
      "   0   0   0   0   0   0   1   0   0   0   0   0   0   0   0   1   1   0\n",
      "   0   0   0   1   1   0   0   0   0   0   0   1   5   9   2   0   0   0\n",
      "   0   0   0   0   0   0   0   0   0   0   0   0   0   0   0   0   0   0\n",
      "   0   0   0   0   1   0   0   0   0]\n"
     ]
    }
   ],
   "source": [
    "n = random.randint(0, 100)\n",
    "sample = np.expand_dims(examples[n][0], axis=0).astype(float)\n",
    "p = model(sample)\n",
    "print((np.squeeze(p)*999).astype(np.uint8))"
   ],
   "metadata": {
    "collapsed": false,
    "pycharm": {
     "name": "#%%\n"
    }
   }
  },
  {
   "cell_type": "code",
   "execution_count": 12,
   "outputs": [],
   "source": [
    "policy_loss = tf.keras.losses.CategoricalCrossentropy()\n",
    "optimizer = tf.keras.optimizers.Adam(learning_rate=1e-3)"
   ],
   "metadata": {
    "collapsed": false,
    "pycharm": {
     "name": "#%%\n"
    }
   }
  },
  {
   "cell_type": "code",
   "execution_count": 13,
   "outputs": [],
   "source": [
    "def create_dataset(data, batch_size=1024):\n",
    "    subset = data\n",
    "    x_train = np.asarray([t[0] for t in subset], dtype=float)\n",
    "    pi_train = np.asarray([t[1] for t in subset])\n",
    "    v_train = np.asarray([t[2] for t in subset])\n",
    "    x_train_ds = tf.data.Dataset.from_tensor_slices(x_train).batch(batch_size)\n",
    "    pi_train_ds = tf.data.Dataset.from_tensor_slices(pi_train).batch(batch_size)\n",
    "    v_train_ds = tf.data.Dataset.from_tensor_slices(v_train).batch(batch_size)\n",
    "    all_train_ds = tf.data.Dataset.zip((x_train_ds, pi_train_ds, v_train_ds))\n",
    "    all_train_ds = all_train_ds.shuffle(buffer_size=batch_size)\n",
    "    return all_train_ds"
   ],
   "metadata": {
    "collapsed": false,
    "pycharm": {
     "name": "#%%\n"
    }
   }
  },
  {
   "cell_type": "code",
   "execution_count": 14,
   "outputs": [],
   "source": [
    "metric = tf.keras.metrics.Mean('train_loss', dtype=tf.float32)\n",
    "\n",
    "def train(train_examples, epochs_per_train=100, report_every=100):\n",
    "    current_time = dt.datetime.now().strftime(\"%Y%m%d-%H%M%S\")\n",
    "    train_log_dir = 'logs/gradient_tape/' + current_time + '/train'\n",
    "    train_summary_writer = tf.summary.create_file_writer(train_log_dir)\n",
    "\n",
    "    all_train_ds = create_dataset(train_examples)\n",
    "\n",
    "    for epoch in range(epochs_per_train):\n",
    "        for x_train, pi_train, _ in all_train_ds:\n",
    "            train_step(x_train, pi_train)\n",
    "        with train_summary_writer.as_default():\n",
    "            tf.summary.scalar('loss', metric.result(), step=epoch)\n",
    "\n",
    "        if epoch % report_every == 1:\n",
    "            print(f'Epoch: {epoch}, Training: {metric.result()}')\n",
    "\n",
    "    print(f'Epochs: {epochs_per_train}, Loss: {metric.result()}')\n",
    "\n",
    "    metric.reset_states()\n",
    "\n",
    "@tf.function\n",
    "def train_step(x, pi_y):\n",
    "    with tf.GradientTape() as tape:\n",
    "        probs = model(x, training=True)\n",
    "        total_loss = policy_loss(pi_y, probs)\n",
    "\n",
    "    grads = tape.gradient(total_loss, model.trainable_variables)\n",
    "    optimizer.apply_gradients(zip(grads, model.trainable_variables))\n",
    "\n",
    "    metric(total_loss)"
   ],
   "metadata": {
    "collapsed": false,
    "pycharm": {
     "name": "#%%\n"
    }
   }
  },
  {
   "cell_type": "code",
   "execution_count": 15,
   "outputs": [
    {
     "name": "stdout",
     "output_type": "stream",
     "text": [
      "Epoch: 1, Training: 4.752285957336426\n",
      "Epoch: 11, Training: 2.9848434925079346\n",
      "Epoch: 21, Training: 2.1564090251922607\n",
      "Epoch: 31, Training: 1.7780996561050415\n",
      "Epoch: 41, Training: 1.5628230571746826\n",
      "Epoch: 51, Training: 1.4222646951675415\n",
      "Epoch: 61, Training: 1.3231887817382812\n",
      "Epoch: 71, Training: 1.2489423751831055\n",
      "Epoch: 81, Training: 1.1903598308563232\n",
      "Epoch: 91, Training: 1.1424106359481812\n",
      "Epoch: 101, Training: 1.1020166873931885\n",
      "Epoch: 111, Training: 1.0669102668762207\n",
      "Epoch: 121, Training: 1.0358970165252686\n",
      "Epoch: 131, Training: 1.0086268186569214\n",
      "Epoch: 141, Training: 0.9843030571937561\n",
      "Epoch: 151, Training: 0.9624715447425842\n",
      "Epoch: 161, Training: 0.9430054426193237\n",
      "Epoch: 171, Training: 0.925442099571228\n",
      "Epoch: 181, Training: 0.90947425365448\n",
      "Epoch: 191, Training: 0.8950939774513245\n",
      "Epochs: 200, Loss: 0.884390115737915\n"
     ]
    }
   ],
   "source": [
    "N = 20000\n",
    "train(examples[:N], epochs_per_train=200, report_every=10)"
   ],
   "metadata": {
    "collapsed": false,
    "pycharm": {
     "name": "#%%\n"
    }
   }
  },
  {
   "cell_type": "code",
   "execution_count": 32,
   "outputs": [
    {
     "name": "stdout",
     "output_type": "stream",
     "text": [
      "n=20095\n",
      "Next to play: WHITE\n",
      "Value from WHITE's point of view: -0.4677038941076586\n",
      "Next to play: WHITE\n",
      "Value from WHITE's point of view: 0.0\n"
     ]
    },
    {
     "data": {
      "text/plain": "<Figure size 576x576 with 1 Axes>",
      "image/png": "[encoded data removed]"
     },
     "metadata": {
      "needs_background": "light"
     },
     "output_type": "display_data"
    },
    {
     "data": {
      "text/plain": "<Figure size 576x576 with 1 Axes>",
      "image/png": "[encoded data removed]"
     },
     "metadata": {
      "needs_background": "light"
     },
     "output_type": "display_data"
    }
   ],
   "source": [
    "from aegomoku.utils import analyse_example\n",
    "\n",
    "n = random.randint(N, len(examples))\n",
    "sample = np.expand_dims(examples[n][0], axis=0).astype(float)\n",
    "p_ = model(sample)\n",
    "s, p, _ = examples[n]\n",
    "example = (s, list(p_.numpy()), 0.0)\n",
    "print(f\"n={n}\")\n",
    "analyse_example(BOARD_SIZE, examples[n])\n",
    "analyse_example(BOARD_SIZE, example)"
   ],
   "metadata": {
    "collapsed": false,
    "pycharm": {
     "name": "#%%\n"
    }
   }
  },
  {
   "cell_type": "code",
   "execution_count": null,
   "outputs": [],
   "source": [],
   "metadata": {
    "collapsed": false,
    "pycharm": {
     "name": "#%%\n"
    }
   }
  },
  {
   "cell_type": "code",
   "execution_count": null,
   "outputs": [],
   "source": [],
   "metadata": {
    "collapsed": false,
    "pycharm": {
     "name": "#%%\n"
    }
   }
  }
 ],
 "metadata": {
  "kernelspec": {
   "display_name": "Python 3",
   "language": "python",
   "name": "python3"
  },
  "language_info": {
   "codemirror_mode": {
    "name": "ipython",
    "version": 2
   },
   "file_extension": ".py",
   "mimetype": "text/x-python",
   "name": "python",
   "nbconvert_exporter": "python",
   "pygments_lexer": "ipython2",
   "version": "2.7.6"
  }
 },
 "nbformat": 4,
 "nbformat_minor": 0
}