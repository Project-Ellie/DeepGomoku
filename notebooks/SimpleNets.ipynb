{
 "cells": [
  {
   "cell_type": "markdown",
   "source": [
    "# Exploring Simple Network Architectures"
   ],
   "metadata": {
    "collapsed": false,
    "pycharm": {
     "name": "#%% md\n"
    }
   }
  },
  {
   "cell_type": "code",
   "execution_count": null,
   "outputs": [],
   "source": [
    "%load_ext autoreload\n",
    "%autoreload 2"
   ],
   "metadata": {
    "collapsed": false,
    "pycharm": {
     "name": "#%%\n",
     "is_executing": true
    }
   }
  },
  {
   "cell_type": "code",
   "execution_count": 1,
   "outputs": [],
   "source": [
    "import datetime as dt\n",
    "import random\n",
    "\n",
    "import numpy as np\n",
    "import tensorflow as tf\n",
    "import keras\n",
    "from keras import layers\n",
    "\n",
    "from aegomoku.game_data import read_training_data"
   ],
   "metadata": {
    "collapsed": false,
    "pycharm": {
     "name": "#%%\n"
    }
   }
  },
  {
   "cell_type": "code",
   "execution_count": 2,
   "outputs": [
    {
     "data": {
      "text/plain": "(20320, 3, (17, 17, 3))"
     },
     "execution_count": 2,
     "metadata": {},
     "output_type": "execute_result"
    }
   ],
   "source": [
    "BOARD_SIZE=15\n",
    "filename = \"rawdata.pickle\"\n",
    "examples = read_training_data(filename, BOARD_SIZE)\n",
    "len(examples), len(examples[0]), examples[0][0].shape"
   ],
   "metadata": {
    "collapsed": false,
    "pycharm": {
     "name": "#%%\n"
    }
   }
  },
  {
   "cell_type": "code",
   "execution_count": 3,
   "outputs": [
    {
     "data": {
      "text/plain": "(225,)"
     },
     "execution_count": 3,
     "metadata": {},
     "output_type": "execute_result"
    }
   ],
   "source": [
    "np.array(examples[0][1]).shape"
   ],
   "metadata": {
    "collapsed": false,
    "pycharm": {
     "name": "#%%\n"
    }
   }
  },
  {
   "cell_type": "code",
   "execution_count": 4,
   "outputs": [],
   "source": [
    "inputs = keras.Input(shape=(17, 17, 3), name=\"inputs\")"
   ],
   "metadata": {
    "collapsed": false,
    "pycharm": {
     "name": "#%%\n"
    }
   }
  },
  {
   "cell_type": "code",
   "execution_count": 5,
   "outputs": [],
   "source": [
    "first = layers.Conv2D(\n",
    "    name=\"initial\",\n",
    "    filters=256, kernel_size=11,\n",
    "    kernel_initializer=tf.random_normal_initializer(),\n",
    "    bias_initializer=tf.random_normal_initializer(),\n",
    "    activation=tf.nn.elu,\n",
    "    padding='same')"
   ],
   "metadata": {
    "collapsed": false,
    "pycharm": {
     "name": "#%%\n"
    }
   }
  },
  {
   "cell_type": "code",
   "execution_count": 6,
   "outputs": [],
   "source": [
    "policy_aggregate = layers.Conv2D(\n",
    "    name=\"policy_aggregator\",\n",
    "    filters=1, kernel_size=1,\n",
    "    kernel_initializer=tf.random_normal_initializer(),\n",
    "    bias_initializer=tf.random_normal_initializer(),\n",
    "    activation=tf.nn.relu,\n",
    "    padding='same')"
   ],
   "metadata": {
    "collapsed": false,
    "pycharm": {
     "name": "#%%\n"
    }
   }
  },
  {
   "cell_type": "code",
   "execution_count": 7,
   "outputs": [],
   "source": [
    "peel = layers.Conv2D(\n",
    "    name=\"border_off\",\n",
    "    filters=1, kernel_size=(3, 3),\n",
    "    kernel_initializer=tf.constant_initializer([[0., 0., 0.], [0., 1., 0.], [0., 0., 0.]]),\n",
    "    bias_initializer=tf.constant_initializer(0.),\n",
    "    padding='valid',\n",
    "    trainable=False)"
   ],
   "metadata": {
    "collapsed": false,
    "pycharm": {
     "name": "#%%\n"
    }
   }
  },
  {
   "cell_type": "code",
   "execution_count": 8,
   "outputs": [
    {
     "name": "stdout",
     "output_type": "stream",
     "text": [
      "Model: \"model\"\n",
      "_________________________________________________________________\n",
      " Layer (type)                Output Shape              Param #   \n",
      "=================================================================\n",
      " inputs (InputLayer)         [(None, 17, 17, 3)]       0         \n",
      "                                                                 \n",
      " initial (Conv2D)            (None, 17, 17, 256)       93184     \n",
      "                                                                 \n",
      " policy_aggregator (Conv2D)  (None, 17, 17, 1)         257       \n",
      "                                                                 \n",
      " border_off (Conv2D)         (None, 15, 15, 1)         10        \n",
      "                                                                 \n",
      " flatten (Flatten)           (None, 225)               0         \n",
      "                                                                 \n",
      " softmax (Softmax)           (None, 225)               0         \n",
      "                                                                 \n",
      "=================================================================\n",
      "Total params: 93,451\n",
      "Trainable params: 93,441\n",
      "Non-trainable params: 10\n",
      "_________________________________________________________________\n"
     ]
    },
    {
     "name": "stderr",
     "output_type": "stream",
     "text": [
      "2022-08-07 19:56:53.824602: I tensorflow/stream_executor/cuda/cuda_gpu_executor.cc:975] successful NUMA node read from SysFS had negative value (-1), but there must be at least one NUMA node, so returning NUMA node zero\n",
      "2022-08-07 19:56:53.825329: I tensorflow/stream_executor/cuda/cuda_gpu_executor.cc:975] successful NUMA node read from SysFS had negative value (-1), but there must be at least one NUMA node, so returning NUMA node zero\n",
      "2022-08-07 19:56:53.830903: I tensorflow/stream_executor/cuda/cuda_gpu_executor.cc:975] successful NUMA node read from SysFS had negative value (-1), but there must be at least one NUMA node, so returning NUMA node zero\n",
      "2022-08-07 19:56:53.831553: I tensorflow/stream_executor/cuda/cuda_gpu_executor.cc:975] successful NUMA node read from SysFS had negative value (-1), but there must be at least one NUMA node, so returning NUMA node zero\n",
      "2022-08-07 19:56:53.832378: I tensorflow/stream_executor/cuda/cuda_gpu_executor.cc:975] successful NUMA node read from SysFS had negative value (-1), but there must be at least one NUMA node, so returning NUMA node zero\n",
      "2022-08-07 19:56:53.833019: I tensorflow/stream_executor/cuda/cuda_gpu_executor.cc:975] successful NUMA node read from SysFS had negative value (-1), but there must be at least one NUMA node, so returning NUMA node zero\n",
      "2022-08-07 19:56:53.834449: I tensorflow/core/platform/cpu_feature_guard.cc:193] This TensorFlow binary is optimized with oneAPI Deep Neural Network Library (oneDNN) to use the following CPU instructions in performance-critical operations:  AVX2 FMA\n",
      "To enable them in other operations, rebuild TensorFlow with the appropriate compiler flags.\n",
      "2022-08-07 19:56:53.985339: I tensorflow/stream_executor/cuda/cuda_gpu_executor.cc:975] successful NUMA node read from SysFS had negative value (-1), but there must be at least one NUMA node, so returning NUMA node zero\n",
      "2022-08-07 19:56:53.985979: I tensorflow/stream_executor/cuda/cuda_gpu_executor.cc:975] successful NUMA node read from SysFS had negative value (-1), but there must be at least one NUMA node, so returning NUMA node zero\n",
      "2022-08-07 19:56:53.986606: I tensorflow/stream_executor/cuda/cuda_gpu_executor.cc:975] successful NUMA node read from SysFS had negative value (-1), but there must be at least one NUMA node, so returning NUMA node zero\n",
      "2022-08-07 19:56:53.987189: I tensorflow/stream_executor/cuda/cuda_gpu_executor.cc:975] successful NUMA node read from SysFS had negative value (-1), but there must be at least one NUMA node, so returning NUMA node zero\n",
      "2022-08-07 19:56:53.987793: I tensorflow/stream_executor/cuda/cuda_gpu_executor.cc:975] successful NUMA node read from SysFS had negative value (-1), but there must be at least one NUMA node, so returning NUMA node zero\n",
      "2022-08-07 19:56:53.988419: I tensorflow/stream_executor/cuda/cuda_gpu_executor.cc:975] successful NUMA node read from SysFS had negative value (-1), but there must be at least one NUMA node, so returning NUMA node zero\n",
      "2022-08-07 19:56:54.761079: I tensorflow/stream_executor/cuda/cuda_gpu_executor.cc:975] successful NUMA node read from SysFS had negative value (-1), but there must be at least one NUMA node, so returning NUMA node zero\n",
      "2022-08-07 19:56:54.761739: I tensorflow/stream_executor/cuda/cuda_gpu_executor.cc:975] successful NUMA node read from SysFS had negative value (-1), but there must be at least one NUMA node, so returning NUMA node zero\n",
      "2022-08-07 19:56:54.762361: I tensorflow/stream_executor/cuda/cuda_gpu_executor.cc:975] successful NUMA node read from SysFS had negative value (-1), but there must be at least one NUMA node, so returning NUMA node zero\n",
      "2022-08-07 19:56:54.762982: I tensorflow/stream_executor/cuda/cuda_gpu_executor.cc:975] successful NUMA node read from SysFS had negative value (-1), but there must be at least one NUMA node, so returning NUMA node zero\n",
      "2022-08-07 19:56:54.763585: I tensorflow/stream_executor/cuda/cuda_gpu_executor.cc:975] successful NUMA node read from SysFS had negative value (-1), but there must be at least one NUMA node, so returning NUMA node zero\n",
      "2022-08-07 19:56:54.764158: I tensorflow/core/common_runtime/gpu/gpu_device.cc:1532] Created device /job:localhost/replica:0/task:0/device:GPU:0 with 9808 MB memory:  -> device: 0, name: NVIDIA GeForce GTX 1080 Ti, pci bus id: 0000:28:00.0, compute capability: 6.1\n",
      "2022-08-07 19:56:54.764663: I tensorflow/stream_executor/cuda/cuda_gpu_executor.cc:975] successful NUMA node read from SysFS had negative value (-1), but there must be at least one NUMA node, so returning NUMA node zero\n",
      "2022-08-07 19:56:54.765306: I tensorflow/core/common_runtime/gpu/gpu_device.cc:1532] Created device /job:localhost/replica:0/task:0/device:GPU:1 with 10415 MB memory:  -> device: 1, name: NVIDIA GeForce GTX 1080 Ti, pci bus id: 0000:29:00.0, compute capability: 6.1\n"
     ]
    }
   ],
   "source": [
    "x1 = first(inputs)\n",
    "x2 = policy_aggregate(x1)\n",
    "y = peel(x2)\n",
    "flatten = layers.Flatten()(y)\n",
    "softmax = layers.Softmax()(flatten)\n",
    "model = keras.Model(inputs=inputs, outputs=softmax)\n",
    "model.compile()\n",
    "model.summary()"
   ],
   "metadata": {
    "collapsed": false,
    "pycharm": {
     "name": "#%%\n"
    }
   }
  },
  {
   "cell_type": "code",
   "execution_count": 61,
   "outputs": [
    {
     "name": "stdout",
     "output_type": "stream",
     "text": [
      "[4 4 4 4 4 4 4 4 4 4 4 4 4 4 4 4 4 4 4 4 4 4 4 4 4 4 4 4 4 4 4 4 4 4 5 4 4\n",
      " 4 4 4 4 4 4 4 4 4 4 4 4 4 4 4 4 4 4 4 4 4 4 4 4 4 4 4 4 4 4 4 4 4 4 4 4 4\n",
      " 4 4 4 4 4 4 4 4 4 4 4 4 4 4 4 4 4 4 4 4 4 4 4 4 4 4 4 4 4 4 4 4 4 4 4 4 4\n",
      " 4 4 4 4 4 4 4 4 4 4 4 4 4 4 4 4 4 4 4 4 4 4 4 4 4 4 4 4 4 4 4 4 4 4 4 4 4\n",
      " 4 4 4 4 4 4 5 4 5 5 4 5 4 4 4 4 4 4 4 5 4 5 4 4 4 4 5 4 4 4 4 4 4 4 4 4 4\n",
      " 4 4 4 4 4 4 4 4 4 4 4 4 4 4 4 4 4 4 4 4 4 4 4 4 4 4 4 4 4 5 4 4 4 4 4 4 4\n",
      " 4 4 4]\n"
     ]
    }
   ],
   "source": [
    "n = random.randint(0, 200)\n",
    "sample = np.expand_dims(examples[n][0], axis=0).astype(float)\n",
    "p = model(sample)\n",
    "print((np.squeeze(p)*999).astype(np.uint8))"
   ],
   "metadata": {
    "collapsed": false,
    "pycharm": {
     "name": "#%%\n"
    }
   }
  },
  {
   "cell_type": "code",
   "execution_count": 11,
   "outputs": [],
   "source": [
    "policy_loss = tf.keras.losses.CategoricalCrossentropy()\n",
    "optimizer = tf.keras.optimizers.Adam(learning_rate=1e-3)"
   ],
   "metadata": {
    "collapsed": false,
    "pycharm": {
     "name": "#%%\n"
    }
   }
  },
  {
   "cell_type": "code",
   "execution_count": 12,
   "outputs": [],
   "source": [
    "def create_dataset(data, batch_size=1024):\n",
    "    subset = data\n",
    "    x_train = np.asarray([t[0] for t in subset], dtype=float)\n",
    "    pi_train = np.asarray([t[1] for t in subset])\n",
    "    v_train = np.asarray([t[2] for t in subset])\n",
    "    x_train_ds = tf.data.Dataset.from_tensor_slices(x_train).batch(batch_size)\n",
    "    pi_train_ds = tf.data.Dataset.from_tensor_slices(pi_train).batch(batch_size)\n",
    "    v_train_ds = tf.data.Dataset.from_tensor_slices(v_train).batch(batch_size)\n",
    "    all_train_ds = tf.data.Dataset.zip((x_train_ds, pi_train_ds, v_train_ds))\n",
    "    all_train_ds = all_train_ds.shuffle(buffer_size=batch_size)\n",
    "    return all_train_ds"
   ],
   "metadata": {
    "collapsed": false,
    "pycharm": {
     "name": "#%%\n"
    }
   }
  },
  {
   "cell_type": "code",
   "execution_count": 13,
   "outputs": [],
   "source": [
    "metric = tf.keras.metrics.Mean('train_loss', dtype=tf.float32)\n",
    "\n",
    "def train(train_examples, epochs_per_train=100, report_every=100):\n",
    "    current_time = dt.datetime.now().strftime(\"%Y%m%d-%H%M%S\")\n",
    "    train_log_dir = 'logs/gradient_tape/' + current_time + '/train'\n",
    "    train_summary_writer = tf.summary.create_file_writer(train_log_dir)\n",
    "\n",
    "    all_train_ds = create_dataset(train_examples)\n",
    "\n",
    "    for epoch in range(epochs_per_train):\n",
    "        for x_train, pi_train, _ in all_train_ds:\n",
    "            train_step(x_train, pi_train)\n",
    "        with train_summary_writer.as_default():\n",
    "            tf.summary.scalar('loss', metric.result(), step=epoch)\n",
    "\n",
    "        if epoch % report_every == 1:\n",
    "            print(f'Epoch: {epoch}, Training: {metric.result()}')\n",
    "\n",
    "    print(f'Epochs: {epochs_per_train}, Loss: {metric.result()}')\n",
    "\n",
    "    metric.reset_states()\n",
    "\n",
    "@tf.function\n",
    "def train_step(x, pi_y):\n",
    "    with tf.GradientTape() as tape:\n",
    "        probs = model(x, training=True)\n",
    "        total_loss = policy_loss(pi_y, probs)\n",
    "\n",
    "    grads = tape.gradient(total_loss, model.trainable_variables)\n",
    "    optimizer.apply_gradients(zip(grads, model.trainable_variables))\n",
    "\n",
    "    metric(total_loss)"
   ],
   "metadata": {
    "collapsed": false,
    "pycharm": {
     "name": "#%%\n"
    }
   }
  },
  {
   "cell_type": "code",
   "execution_count": 15,
   "outputs": [
    {
     "name": "stdout",
     "output_type": "stream",
     "text": [
      "Epoch: 1, Training: 0.5799115896224976\n",
      "Epoch: 101, Training: 0.5785767436027527\n",
      "Epoch: 201, Training: 0.5778980851173401\n",
      "Epoch: 301, Training: 0.5766984224319458\n",
      "Epoch: 401, Training: 0.5757347345352173\n",
      "Epoch: 501, Training: 0.574958860874176\n",
      "Epoch: 601, Training: 0.5741463303565979\n",
      "Epoch: 701, Training: 0.573319673538208\n",
      "Epoch: 801, Training: 0.572691798210144\n",
      "Epoch: 901, Training: 0.5721133947372437\n",
      "Epoch: 1001, Training: 0.5714694261550903\n",
      "Epoch: 1101, Training: 0.5709639191627502\n",
      "Epoch: 1201, Training: 0.5704563856124878\n",
      "Epoch: 1301, Training: 0.5699402093887329\n",
      "Epoch: 1401, Training: 0.5695086717605591\n",
      "Epoch: 1501, Training: 0.5690987706184387\n",
      "Epoch: 1601, Training: 0.568703293800354\n",
      "Epoch: 1701, Training: 0.5682902932167053\n",
      "Epoch: 1801, Training: 0.5679441690444946\n",
      "Epoch: 1901, Training: 0.567600667476654\n",
      "Epochs: 2000, Loss: 0.5672773122787476\n"
     ]
    }
   ],
   "source": [
    "N = 2000\n",
    "train(examples[:N], epochs_per_train=2000, report_every=100)"
   ],
   "metadata": {
    "collapsed": false,
    "pycharm": {
     "name": "#%%\n"
    }
   }
  },
  {
   "cell_type": "code",
   "execution_count": 34,
   "outputs": [
    {
     "name": "stdout",
     "output_type": "stream",
     "text": [
      "n=3055\n",
      "Next to play: WHITE\n",
      "Value from WHITE's point of view: -0.7970358847724879\n",
      "Next to play: WHITE\n",
      "Value from WHITE's point of view: 0.0\n"
     ]
    },
    {
     "data": {
      "text/plain": "<Figure size 576x576 with 1 Axes>",
      "image/png": "[encoded data removed]"
     },
     "metadata": {
      "needs_background": "light"
     },
     "output_type": "display_data"
    },
    {
     "data": {
      "text/plain": "<Figure size 576x576 with 1 Axes>",
      "image/png": "[encoded data removed]"
     },
     "metadata": {
      "needs_background": "light"
     },
     "output_type": "display_data"
    }
   ],
   "source": [
    "from aegomoku.utils import analyse_example\n",
    "\n",
    "n = random.randint(N, 2*N)\n",
    "sample = np.expand_dims(examples[n][0], axis=0).astype(float)\n",
    "p_ = model(sample)\n",
    "s, p, _ = examples[n]\n",
    "example = (s, list(p_.numpy()), 0.0)\n",
    "print(f\"n={n}\")\n",
    "analyse_example(BOARD_SIZE, examples[n])\n",
    "analyse_example(BOARD_SIZE, example)"
   ],
   "metadata": {
    "collapsed": false,
    "pycharm": {
     "name": "#%%\n"
    }
   }
  },
  {
   "cell_type": "code",
   "execution_count": null,
   "outputs": [],
   "source": [],
   "metadata": {
    "collapsed": false,
    "pycharm": {
     "name": "#%%\n"
    }
   }
  }
 ],
 "metadata": {
  "kernelspec": {
   "display_name": "Python 3",
   "language": "python",
   "name": "python3"
  },
  "language_info": {
   "codemirror_mode": {
    "name": "ipython",
    "version": 2
   },
   "file_extension": ".py",
   "mimetype": "text/x-python",
   "name": "python",
   "nbconvert_exporter": "python",
   "pygments_lexer": "ipython2",
   "version": "2.7.6"
  }
 },
 "nbformat": 4,
 "nbformat_minor": 0
}