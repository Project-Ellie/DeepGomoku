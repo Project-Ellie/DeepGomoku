{
 "cells": [
  {
   "cell_type": "code",
   "execution_count": 1,
   "outputs": [],
   "source": [
    "%load_ext autoreload\n",
    "%autoreload 2"
   ],
   "metadata": {
    "collapsed": false,
    "pycharm": {
     "name": "#%%\n"
    }
   }
  },
  {
   "cell_type": "code",
   "execution_count": 2,
   "outputs": [],
   "source": [
    "from alphazero.coach import Coach\n",
    "from alphazero.gomoku_game import GomokuGame as Game\n",
    "from alphazero.brain import GomokuBrain\n",
    "from alphazero.interfaces import TrainParams"
   ],
   "metadata": {
    "collapsed": false,
    "pycharm": {
     "name": "#%%\n"
    }
   }
  },
  {
   "cell_type": "code",
   "execution_count": 3,
   "outputs": [],
   "source": [
    "params = TrainParams(\n",
    "    update_threshold=0.6,\n",
    "    max_queue_length=200000,    # Number of game examples to train the neural networks.\n",
    "    num_simulations=25,\n",
    "    arena_compare=40,         # Number of games to play during arena play to determine if new net will be accepted.\n",
    "    cpuct=1.0,\n",
    "    checkpoint_dir='./temperature/',\n",
    "    load_model=False,\n",
    "    load_folder_file=('/dev/models/8x100x50', 'best.pth.tar'),\n",
    "    num_iters_for_train_examples_history=20,\n",
    "    num_iterations=1000,\n",
    "    num_episodes=100,\n",
    "    temperature_threshold=15\n",
    ")"
   ],
   "metadata": {
    "collapsed": false,
    "pycharm": {
     "name": "#%%\n"
    }
   }
  },
  {
   "cell_type": "code",
   "execution_count": 4,
   "outputs": [],
   "source": [
    "game = Game(15)"
   ],
   "metadata": {
    "collapsed": false,
    "pycharm": {
     "name": "#%%\n"
    }
   }
  },
  {
   "cell_type": "code",
   "execution_count": 5,
   "outputs": [],
   "source": [
    "brain = GomokuBrain(game)"
   ],
   "metadata": {
    "collapsed": false,
    "pycharm": {
     "name": "#%%\n"
    }
   }
  },
  {
   "cell_type": "code",
   "execution_count": 6,
   "outputs": [],
   "source": [
    "coach = Coach(game, brain, params)"
   ],
   "metadata": {
    "collapsed": false,
    "pycharm": {
     "name": "#%%\n"
    }
   }
  },
  {
   "cell_type": "code",
   "execution_count": 7,
   "outputs": [
    {
     "name": "stderr",
     "output_type": "stream",
     "text": [
      "Self Play:   0%|          | 0/100 [1:07:49<?, ?it/s]\n",
      "\n",
      "KeyboardInterrupt\n",
      "\n"
     ]
    }
   ],
   "source": [
    "coach.learn()"
   ],
   "metadata": {
    "collapsed": false,
    "pycharm": {
     "name": "#%%\n"
    }
   }
  },
  {
   "cell_type": "markdown",
   "source": [
    "# NEXT:\n",
    "\n",
    "#### Design a trainable neural network for GomokuBrain\n",
    "\n",
    "- define and verify the loss functions\n",
    "- Q_function logits as tanh\n",
    "- Q -> softmax = policy\n",
    "- Q -> max = value\n",
    "\n",
    "#### Re-work GomokuGame based on the heuristic detection capabilities\n",
    "\n",
    "#### Implement Game.get_symmetries\n",
    "\n",
    "#### Understand the Coach\n",
    "\n",
    "#### Introduce Ray"
   ],
   "metadata": {
    "collapsed": false,
    "pycharm": {
     "name": "#%% md\n"
    }
   }
  },
  {
   "cell_type": "code",
   "execution_count": null,
   "outputs": [],
   "source": [],
   "metadata": {
    "collapsed": false,
    "pycharm": {
     "name": "#%%\n"
    }
   }
  }
 ],
 "metadata": {
  "kernelspec": {
   "display_name": "Python 3",
   "language": "python",
   "name": "python3"
  },
  "language_info": {
   "codemirror_mode": {
    "name": "ipython",
    "version": 2
   },
   "file_extension": ".py",
   "mimetype": "text/x-python",
   "name": "python",
   "nbconvert_exporter": "python",
   "pygments_lexer": "ipython2",
   "version": "2.7.6"
  }
 },
 "nbformat": 4,
 "nbformat_minor": 0
}