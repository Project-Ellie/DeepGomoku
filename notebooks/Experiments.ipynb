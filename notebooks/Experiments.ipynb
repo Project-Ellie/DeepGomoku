{
 "cells": [
  {
   "cell_type": "code",
   "execution_count": 3,
   "metadata": {
    "collapsed": true,
    "pycharm": {
     "name": "#%%\n"
    }
   },
   "outputs": [],
   "source": [
    "from aegomoku.game_data import read_training_data\n",
    "import random\n",
    "import numpy as np\n",
    "import tensorflow as tf\n"
   ]
  },
  {
   "cell_type": "code",
   "execution_count": 2,
   "outputs": [
    {
     "data": {
      "text/plain": "(20320, 3, (17, 17, 3))"
     },
     "execution_count": 2,
     "metadata": {},
     "output_type": "execute_result"
    }
   ],
   "source": [
    "BOARD_SIZE=15\n",
    "filename = \"rawdata.pickle\"\n",
    "examples = read_training_data(filename, BOARD_SIZE)\n",
    "len(examples), len(examples[0]), examples[0][0].shape"
   ],
   "metadata": {
    "collapsed": false,
    "pycharm": {
     "name": "#%%\n"
    }
   }
  },
  {
   "cell_type": "code",
   "execution_count": 5,
   "outputs": [
    {
     "data": {
      "text/plain": "[PhysicalDevice(name='/physical_device:GPU:0', device_type='GPU'),\n PhysicalDevice(name='/physical_device:GPU:1', device_type='GPU')]"
     },
     "execution_count": 5,
     "metadata": {},
     "output_type": "execute_result"
    }
   ],
   "source": [
    "tf.config.list_physical_devices('GPU')"
   ],
   "metadata": {
    "collapsed": false,
    "pycharm": {
     "name": "#%%\n"
    }
   }
  },
  {
   "cell_type": "code",
   "execution_count": 10,
   "outputs": [
    {
     "name": "stderr",
     "output_type": "stream",
     "text": [
      "/home/wgiersche/.local/share/virtualenvs/DeepGomoku-yQC4gx5q/lib/python3.8/site-packages/numpy/core/fromnumeric.py:2009: VisibleDeprecationWarning: Creating an ndarray from ragged nested sequences (which is a list-or-tuple of lists-or-tuples-or ndarrays with different lengths or shapes) is deprecated. If you meant to do this, you must specify 'dtype=object' when creating the ndarray.\n",
      "  result = asarray(a).shape\n"
     ]
    }
   ],
   "source": [
    "from aegomoku.policies.heuristic_policy import HeuristicPolicy\n",
    "from aegomoku.gomoku_model import NeuralNetAdapter\n",
    "policy = HeuristicPolicy(BOARD_SIZE)\n",
    "the_model = NeuralNetAdapter(BOARD_SIZE + 2)\n",
    "the_model.policy.compile()"
   ],
   "metadata": {
    "collapsed": false,
    "pycharm": {
     "name": "#%%\n"
    }
   }
  },
  {
   "cell_type": "code",
   "execution_count": 14,
   "outputs": [
    {
     "name": "stdout",
     "output_type": "stream",
     "text": [
      "(1, 17, 17, 3)\n"
     ]
    }
   ],
   "source": [
    "sample = np.expand_dims(examples[5][0], axis=0).astype(float)\n",
    "print(sample.shape)\n",
    "sample = np.squeeze(sample)\n",
    "p, v = policy(sample)"
   ],
   "metadata": {
    "collapsed": false,
    "pycharm": {
     "name": "#%%\n"
    }
   }
  },
  {
   "cell_type": "code",
   "execution_count": 16,
   "outputs": [
    {
     "name": "stdout",
     "output_type": "stream",
     "text": [
      "shape: (17, 17, 3)\n",
      "[[3. 3. 3. 3. 3. 3. 3. 3. 3. 3. 3. 3. 3. 3. 3. 3. 3.]\n",
      " [3. 0. 0. 0. 0. 0. 0. 0. 0. 0. 0. 0. 0. 0. 0. 0. 3.]\n",
      " [3. 0. 0. 0. 0. 0. 0. 0. 0. 0. 0. 0. 0. 0. 0. 0. 3.]\n",
      " [3. 0. 0. 0. 0. 0. 0. 0. 0. 0. 0. 0. 0. 0. 0. 0. 3.]\n",
      " [3. 0. 0. 0. 0. 0. 0. 0. 0. 0. 0. 0. 0. 0. 0. 0. 3.]\n",
      " [3. 0. 0. 0. 0. 0. 0. 0. 0. 0. 0. 0. 0. 0. 0. 0. 3.]\n",
      " [3. 0. 0. 0. 0. 0. 2. 0. 0. 0. 0. 0. 1. 0. 0. 0. 3.]\n",
      " [3. 0. 0. 0. 0. 0. 2. 1. 1. 1. 0. 2. 0. 0. 0. 0. 3.]\n",
      " [3. 0. 0. 0. 0. 0. 1. 1. 2. 2. 0. 0. 0. 0. 0. 0. 3.]\n",
      " [3. 0. 0. 0. 0. 0. 2. 1. 1. 2. 0. 0. 0. 0. 0. 0. 3.]\n",
      " [3. 0. 0. 0. 0. 0. 1. 2. 2. 2. 0. 0. 0. 0. 0. 0. 3.]\n",
      " [3. 0. 0. 0. 0. 0. 0. 2. 1. 0. 0. 0. 0. 0. 0. 0. 3.]\n",
      " [3. 0. 0. 0. 0. 0. 0. 0. 0. 0. 0. 0. 0. 0. 0. 0. 3.]\n",
      " [3. 0. 0. 0. 0. 0. 0. 0. 0. 0. 0. 0. 0. 0. 0. 0. 3.]\n",
      " [3. 0. 0. 0. 0. 0. 0. 0. 0. 0. 0. 0. 0. 0. 0. 0. 3.]\n",
      " [3. 0. 0. 0. 0. 0. 0. 0. 0. 0. 0. 0. 0. 0. 0. 0. 3.]\n",
      " [3. 3. 3. 3. 3. 3. 3. 3. 3. 3. 3. 3. 3. 3. 3. 3. 3.]]\n"
     ]
    }
   ],
   "source": [
    "import aegomoku.tools as gt\n",
    "gt.print_channels(sample)"
   ],
   "metadata": {
    "collapsed": false,
    "pycharm": {
     "name": "#%%\n"
    }
   }
  },
  {
   "cell_type": "code",
   "execution_count": 18,
   "outputs": [
    {
     "data": {
      "text/plain": "(15, 15)"
     },
     "execution_count": 18,
     "metadata": {},
     "output_type": "execute_result"
    }
   ],
   "source": [
    "p.shape"
   ],
   "metadata": {
    "collapsed": false,
    "pycharm": {
     "name": "#%%\n"
    }
   }
  },
  {
   "cell_type": "code",
   "execution_count": 22,
   "outputs": [],
   "source": [
    "p = tf.reshape(p, (1, 15, 15, 1))"
   ],
   "metadata": {
    "collapsed": false,
    "pycharm": {
     "name": "#%%\n"
    }
   }
  },
  {
   "cell_type": "code",
   "execution_count": 23,
   "outputs": [],
   "source": [
    "pad = tf.keras.layers.ZeroPadding2D(\n",
    "    padding=(1, 1), data_format=None,\n",
    ")"
   ],
   "metadata": {
    "collapsed": false,
    "pycharm": {
     "name": "#%%\n"
    }
   }
  },
  {
   "cell_type": "code",
   "execution_count": 24,
   "outputs": [
    {
     "data": {
      "text/plain": "<tf.Tensor: shape=(1, 17, 17, 1), dtype=float32, numpy=\narray([[[[0.00000000e+00],\n         [0.00000000e+00],\n         [0.00000000e+00],\n         [0.00000000e+00],\n         [0.00000000e+00],\n         [0.00000000e+00],\n         [0.00000000e+00],\n         [0.00000000e+00],\n         [0.00000000e+00],\n         [0.00000000e+00],\n         [0.00000000e+00],\n         [0.00000000e+00],\n         [0.00000000e+00],\n         [0.00000000e+00],\n         [0.00000000e+00],\n         [0.00000000e+00],\n         [0.00000000e+00]],\n\n        [[0.00000000e+00],\n         [3.06460168e-09],\n         [3.06460168e-09],\n         [3.06460168e-09],\n         [3.06460168e-09],\n         [3.06460168e-09],\n         [3.06460168e-09],\n         [3.06460168e-09],\n         [3.06460168e-09],\n         [3.06460168e-09],\n         [3.06460168e-09],\n         [3.06460168e-09],\n         [3.06460168e-09],\n         [3.06460168e-09],\n         [3.06460168e-09],\n         [3.06460168e-09],\n         [0.00000000e+00]],\n\n        [[0.00000000e+00],\n         [3.06460168e-09],\n         [3.06460168e-09],\n         [3.06460168e-09],\n         [3.06460168e-09],\n         [3.06460168e-09],\n         [3.06460168e-09],\n         [3.06460168e-09],\n         [3.06460168e-09],\n         [3.06460168e-09],\n         [3.06460168e-09],\n         [3.06460168e-09],\n         [3.06460168e-09],\n         [3.06460168e-09],\n         [3.06460168e-09],\n         [3.06460168e-09],\n         [0.00000000e+00]],\n\n        [[0.00000000e+00],\n         [3.06460168e-09],\n         [3.06460168e-09],\n         [3.06460168e-09],\n         [4.15106115e-06],\n         [3.06460168e-09],\n         [4.96332495e-06],\n         [3.06460168e-09],\n         [4.60795462e-07],\n         [3.05119320e-05],\n         [2.46806540e-05],\n         [3.81050486e-05],\n         [1.68407951e-05],\n         [3.06460168e-09],\n         [3.06460168e-09],\n         [3.06460168e-09],\n         [0.00000000e+00]],\n\n        [[0.00000000e+00],\n         [3.06460168e-09],\n         [3.06460168e-09],\n         [9.65781328e-06],\n         [2.91314664e-05],\n         [5.46325427e-05],\n         [2.41614296e-03],\n         [3.06460168e-09],\n         [4.81401803e-05],\n         [6.53839088e-05],\n         [9.70159235e-05],\n         [6.76621785e-05],\n         [4.16109106e-05],\n         [3.41729651e-06],\n         [3.06460168e-09],\n         [3.06460168e-09],\n         [0.00000000e+00]],\n\n        [[0.00000000e+00],\n         [3.06460168e-09],\n         [3.47089895e-06],\n         [1.31562365e-05],\n         [6.52827221e-05],\n         [8.78792707e-05],\n         [8.05721284e-05],\n         [9.88779962e-03],\n         [8.00812486e-05],\n         [7.59798754e-03],\n         [1.03686805e-04],\n         [9.26517678e-05],\n         [4.82474570e-05],\n         [8.84415203e-06],\n         [3.06460168e-09],\n         [3.06460168e-09],\n         [0.00000000e+00]],\n\n        [[0.00000000e+00],\n         [3.06460168e-09],\n         [3.06460168e-09],\n         [4.12336522e-05],\n         [5.44713694e-05],\n         [1.03975057e-04],\n         [3.06460168e-09],\n         [5.08056208e-03],\n         [9.99678206e-03],\n         [1.15945331e-04],\n         [6.24409586e-05],\n         [2.66419811e-05],\n         [3.06460168e-09],\n         [3.06460168e-09],\n         [3.06460168e-09],\n         [3.06460168e-09],\n         [0.00000000e+00]],\n\n        [[0.00000000e+00],\n         [3.06460168e-09],\n         [3.06460168e-09],\n         [9.48648994e-06],\n         [7.74367727e-05],\n         [5.01934846e-05],\n         [3.06460168e-09],\n         [3.06460168e-09],\n         [3.06460168e-09],\n         [3.06460168e-09],\n         [7.77018358e-05],\n         [3.06460168e-09],\n         [6.57688433e-05],\n         [3.13393066e-05],\n         [4.04947798e-07],\n         [3.06460168e-09],\n         [0.00000000e+00]],\n\n        [[0.00000000e+00],\n         [3.06460168e-09],\n         [3.06460168e-09],\n         [1.95612611e-05],\n         [1.36314657e-06],\n         [4.65675330e-05],\n         [3.06460168e-09],\n         [3.06460168e-09],\n         [3.06460168e-09],\n         [3.06460168e-09],\n         [8.33045304e-01],\n         [2.53918138e-03],\n         [1.61661228e-04],\n         [7.10915047e-05],\n         [8.13782299e-06],\n         [3.06460168e-09],\n         [0.00000000e+00]],\n\n        [[0.00000000e+00],\n         [3.06460168e-09],\n         [3.06460168e-09],\n         [2.43384034e-06],\n         [2.27782402e-06],\n         [7.52435764e-03],\n         [3.06460168e-09],\n         [3.06460168e-09],\n         [3.06460168e-09],\n         [3.06460168e-09],\n         [2.92230950e-04],\n         [4.99293115e-03],\n         [1.70907617e-04],\n         [7.56950612e-05],\n         [7.26789312e-06],\n         [3.06460168e-09],\n         [0.00000000e+00]],\n\n        [[0.00000000e+00],\n         [3.06460168e-09],\n         [3.06460168e-09],\n         [3.06460168e-09],\n         [7.50810839e-03],\n         [1.99402057e-05],\n         [3.06460168e-09],\n         [3.06460168e-09],\n         [3.06460168e-09],\n         [3.06460168e-09],\n         [5.22451615e-03],\n         [5.07621281e-03],\n         [1.67725404e-04],\n         [6.90246015e-05],\n         [1.68363131e-05],\n         [3.06460168e-09],\n         [0.00000000e+00]],\n\n        [[0.00000000e+00],\n         [3.06460168e-09],\n         [3.06460168e-09],\n         [1.80714651e-05],\n         [1.00265452e-05],\n         [4.53207031e-05],\n         [4.44160687e-05],\n         [3.06460168e-09],\n         [3.06460168e-09],\n         [4.99140285e-03],\n         [2.29247962e-04],\n         [2.20062298e-04],\n         [1.22545389e-04],\n         [5.48366916e-05],\n         [7.76836441e-06],\n         [3.06460168e-09],\n         [0.00000000e+00]],\n\n        [[0.00000000e+00],\n         [3.06460168e-09],\n         [3.06460168e-09],\n         [3.06460168e-09],\n         [5.63499134e-06],\n         [1.66950522e-05],\n         [8.45098123e-02],\n         [7.02479883e-05],\n         [9.62933555e-05],\n         [4.99917055e-03],\n         [1.51105603e-04],\n         [1.01447702e-04],\n         [7.72486892e-05],\n         [3.13413693e-05],\n         [3.06460168e-09],\n         [3.06460168e-09],\n         [0.00000000e+00]],\n\n        [[0.00000000e+00],\n         [3.06460168e-09],\n         [3.06460168e-09],\n         [3.06460168e-09],\n         [3.06460168e-09],\n         [1.07486594e-05],\n         [2.28061381e-05],\n         [5.62565147e-05],\n         [4.03466074e-05],\n         [5.42726666e-05],\n         [4.63254219e-05],\n         [4.56806411e-05],\n         [1.43723928e-05],\n         [1.38484866e-05],\n         [3.06460168e-09],\n         [3.06460168e-09],\n         [0.00000000e+00]],\n\n        [[0.00000000e+00],\n         [3.06460168e-09],\n         [3.06460168e-09],\n         [3.06460168e-09],\n         [3.06460168e-09],\n         [3.06460168e-09],\n         [7.81947256e-06],\n         [9.61580463e-06],\n         [3.09342067e-06],\n         [5.13949863e-06],\n         [6.70318923e-06],\n         [3.06460168e-09],\n         [3.06460168e-09],\n         [3.06460168e-09],\n         [3.06460168e-09],\n         [3.06460168e-09],\n         [0.00000000e+00]],\n\n        [[0.00000000e+00],\n         [3.06460168e-09],\n         [3.06460168e-09],\n         [3.06460168e-09],\n         [3.06460168e-09],\n         [3.06460168e-09],\n         [3.06460168e-09],\n         [3.06460168e-09],\n         [3.06460168e-09],\n         [3.06460168e-09],\n         [3.06460168e-09],\n         [3.06460168e-09],\n         [3.06460168e-09],\n         [3.06460168e-09],\n         [3.06460168e-09],\n         [3.06460168e-09],\n         [0.00000000e+00]],\n\n        [[0.00000000e+00],\n         [0.00000000e+00],\n         [0.00000000e+00],\n         [0.00000000e+00],\n         [0.00000000e+00],\n         [0.00000000e+00],\n         [0.00000000e+00],\n         [0.00000000e+00],\n         [0.00000000e+00],\n         [0.00000000e+00],\n         [0.00000000e+00],\n         [0.00000000e+00],\n         [0.00000000e+00],\n         [0.00000000e+00],\n         [0.00000000e+00],\n         [0.00000000e+00],\n         [0.00000000e+00]]]], dtype=float32)>"
     },
     "execution_count": 24,
     "metadata": {},
     "output_type": "execute_result"
    }
   ],
   "source": [
    "pad(p)"
   ],
   "metadata": {
    "collapsed": false,
    "pycharm": {
     "name": "#%%\n"
    }
   }
  },
  {
   "cell_type": "code",
   "execution_count": null,
   "outputs": [],
   "source": [],
   "metadata": {
    "collapsed": false,
    "pycharm": {
     "name": "#%%\n"
    }
   }
  }
 ],
 "metadata": {
  "kernelspec": {
   "display_name": "Python 3",
   "language": "python",
   "name": "python3"
  },
  "language_info": {
   "codemirror_mode": {
    "name": "ipython",
    "version": 2
   },
   "file_extension": ".py",
   "mimetype": "text/x-python",
   "name": "python",
   "nbconvert_exporter": "python",
   "pygments_lexer": "ipython2",
   "version": "2.7.6"
  }
 },
 "nbformat": 4,
 "nbformat_minor": 0
}