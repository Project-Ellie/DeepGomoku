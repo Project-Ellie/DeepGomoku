{
 "cells": [
  {
   "cell_type": "markdown",
   "source": [],
   "metadata": {
    "collapsed": false,
    "pycharm": {
     "name": "#%% md\n"
    }
   }
  },
  {
   "cell_type": "markdown",
   "source": [
    "# Heuristic Policy from Topological Value\n"
   ],
   "metadata": {
    "collapsed": false,
    "pycharm": {
     "name": "#%% md\n"
    }
   }
  },
  {
   "cell_type": "markdown",
   "source": [
    "---"
   ],
   "metadata": {
    "collapsed": false,
    "pycharm": {
     "name": "#%% md\n"
    }
   }
  },
  {
   "cell_type": "code",
   "execution_count": null,
   "outputs": [],
   "source": [
    "%load_ext autoreload\n",
    "%autoreload 2"
   ],
   "metadata": {
    "collapsed": false,
    "pycharm": {
     "name": "#%%\n",
     "is_executing": true
    }
   }
  },
  {
   "cell_type": "code",
   "execution_count": null,
   "outputs": [],
   "source": [
    "import numpy as np\n",
    "from aegomoku.utils import expand\n",
    "from aegomoku.utils import analyse_board\n",
    "from aegomoku.policies.heuristic_policy import HeuristicPolicy\n",
    "from aegomoku.gomoku_board import GomokuBoard"
   ],
   "metadata": {
    "collapsed": false,
    "pycharm": {
     "name": "#%%\n"
    }
   }
  },
  {
   "cell_type": "code",
   "execution_count": null,
   "outputs": [],
   "source": [
    "BOARD_SIZE = 15"
   ],
   "metadata": {
    "collapsed": false,
    "pycharm": {
     "name": "#%%\n"
    }
   }
  },
  {
   "cell_type": "code",
   "execution_count": null,
   "outputs": [],
   "source": [
    "from aegomoku.policies.topological_value import TopologicalValuePolicy\n",
    "\n",
    "policy = TopologicalValuePolicy(kappa_s=6, kappa_d=5)\n",
    "st = 'H8G7I7'\n",
    "board = GomokuBoard(board_size=BOARD_SIZE, stones = st)"
   ],
   "metadata": {
    "collapsed": false,
    "pycharm": {
     "name": "#%%\n"
    }
   }
  },
  {
   "cell_type": "code",
   "execution_count": null,
   "outputs": [],
   "source": [
    "board.plot()"
   ],
   "metadata": {
    "collapsed": false,
    "pycharm": {
     "name": "#%%\n"
    }
   }
  },
  {
   "cell_type": "code",
   "execution_count": 5,
   "outputs": [
    {
     "name": "stdout",
     "output_type": "stream",
     "text": [
      "[[  0   0   0   0   0   0   0   0   0   0   0   0   0   0   0]\n",
      " [  0   0   0   0   0   0   0   0   0   0   0   0   0   0   0]\n",
      " [  0   0   0   0   0   0   0   0   0   0   0   0   0   0   0]\n",
      " [  0   0   0   2   0   0   0   2   0   0   0   2   0   0   0]\n",
      " [  0   0   2   0  17   0   2   2   2   0   2   0   2   0   0]\n",
      " [  0   0   0   2   0  27   2   3   2   2   0   2   0   0   0]\n",
      " [  0   0   0   0   3   0 417   3   4   0   3   0   0   0   0]\n",
      " [  0   0   0   2   2  42  47   0   5   5   2   2   0   0   0]\n",
      " [  0   0   2   2   2   2   0  32   0   2   2   2   2   0   0]\n",
      " [  0   0   0   0   0   2   3  64   3  37   0   0   0   0   0]\n",
      " [  0   0   0   0   2   0  37   2  37   0  27   0   0   0   0]\n",
      " [  0   0   0   2   0   2   2   2   2   2   0  17   0   0   0]\n",
      " [  0   0   2   0   2   0   2   0   2   0   2   0   2   0   0]\n",
      " [  0   0   0   0   0   0   0   0   0   0   0   0   0   0   0]\n",
      " [  0   0   0   0   0   0   0   0   0   0   0   0   0   0   0]]\n",
      "-0.14276335\n",
      "[E11, F10, G9, F8, G8, I8, J8, H7, H6, J6, G5, I5, K5, L4, H4, H10, F7, M11, L8]\n"
     ]
    }
   ],
   "source": [
    "state = board.canonical_representation()\n",
    "probs, v = policy.evaluate(state)\n",
    "print((np.reshape(probs, (BOARD_SIZE, BOARD_SIZE))*999).astype(int))\n",
    "print(v)\n",
    "advice = policy.get_advisable_actions(state)\n",
    "print([board.Stone(i) for i in advice])"
   ],
   "metadata": {
    "collapsed": false,
    "pycharm": {
     "name": "#%%\n"
    }
   }
  },
  {
   "cell_type": "markdown",
   "source": [
    "#### The detector counts all exclusively owned lines of five\n",
    "The 40 feature maps are made of 5 packages of 8. Each package is dedicated to one positional pattern.\n",
    "Each package of 8 consists of 2 packages of 4, each dedicated to a single channel (current or other).\n",
    "Each package of 4 describes the four orientations of the lines.\n",
    "\n",
    "The sums over orientation (d) and shift (s) are performed by hand-crafted convolutional layers"
   ],
   "metadata": {
    "collapsed": false,
    "pycharm": {
     "name": "#%% md\n"
    }
   }
  },
  {
   "cell_type": "code",
   "execution_count": 6,
   "outputs": [
    {
     "data": {
      "text/plain": "TensorShape([1, 17, 17, 40])"
     },
     "execution_count": 6,
     "metadata": {},
     "output_type": "execute_result"
    }
   ],
   "source": [
    "import tensorflow as tf\n",
    "y = policy.detector(expand(state))\n",
    "y.shape"
   ],
   "metadata": {
    "collapsed": false,
    "pycharm": {
     "name": "#%%\n"
    }
   }
  },
  {
   "cell_type": "markdown",
   "source": [
    "The feature maps are added in a pseudo-euclidean manner, the well-known exponent of 2 replaced by some hyperparameters kappa_s and kappa_d for summing the values over the shifts and orientations"
   ],
   "metadata": {
    "collapsed": false,
    "pycharm": {
     "name": "#%% md\n"
    }
   }
  },
  {
   "cell_type": "code",
   "execution_count": 7,
   "outputs": [
    {
     "data": {
      "text/plain": "TensorShape([1, 17, 17, 40])"
     },
     "execution_count": 7,
     "metadata": {},
     "output_type": "execute_result"
    }
   ],
   "source": [
    "y = tf.math.pow(y, policy.kappa_s)\n",
    "y.shape"
   ],
   "metadata": {
    "collapsed": false,
    "pycharm": {
     "name": "#%%\n"
    }
   }
  },
  {
   "cell_type": "code",
   "execution_count": 8,
   "outputs": [
    {
     "data": {
      "text/plain": "TensorShape([1, 17, 17, 8])"
     },
     "execution_count": 8,
     "metadata": {},
     "output_type": "execute_result"
    }
   ],
   "source": [
    "y = policy.sum_s(y)\n",
    "y.shape"
   ],
   "metadata": {
    "collapsed": false,
    "pycharm": {
     "name": "#%%\n"
    }
   }
  },
  {
   "cell_type": "code",
   "execution_count": 9,
   "outputs": [
    {
     "name": "stdout",
     "output_type": "stream",
     "text": [
      "[[0. 0. 0. 0. 0. 0. 0. 0. 0. 0. 0. 0. 0. 0. 0. 0. 0.]\n",
      " [0. 0. 0. 0. 0. 0. 0. 0. 0. 0. 0. 0. 0. 0. 0. 0. 0.]\n",
      " [0. 0. 0. 0. 0. 0. 0. 0. 0. 0. 0. 0. 0. 0. 0. 0. 0.]\n",
      " [0. 0. 0. 0. 0. 0. 0. 0. 0. 0. 0. 0. 0. 0. 0. 0. 0.]\n",
      " [0. 0. 0. 0. 0. 0. 0. 0. 0. 0. 0. 0. 1. 0. 0. 0. 0.]\n",
      " [0. 0. 0. 0. 0. 0. 0. 0. 0. 0. 0. 1. 0. 1. 0. 0. 0.]\n",
      " [0. 0. 0. 0. 0. 0. 0. 0. 0. 0. 1. 0. 2. 0. 0. 0. 0.]\n",
      " [0. 0. 0. 0. 0. 0. 0. 0. 0. 1. 0. 3. 0. 0. 0. 0. 0.]\n",
      " [0. 0. 0. 0. 0. 0. 0. 0. 0. 0. 4. 0. 0. 0. 0. 0. 0.]\n",
      " [0. 0. 0. 0. 0. 0. 0. 0. 0. 0. 0. 0. 0. 0. 0. 0. 0.]\n",
      " [0. 0. 0. 0. 0. 0. 0. 0. 4. 0. 0. 0. 0. 0. 0. 0. 0.]\n",
      " [0. 0. 0. 0. 0. 0. 0. 3. 0. 0. 0. 0. 0. 0. 0. 0. 0.]\n",
      " [0. 0. 0. 0. 0. 0. 2. 0. 0. 0. 0. 0. 0. 0. 0. 0. 0.]\n",
      " [0. 0. 0. 0. 0. 1. 0. 0. 0. 0. 0. 0. 0. 0. 0. 0. 0.]\n",
      " [0. 0. 0. 0. 0. 0. 0. 0. 0. 0. 0. 0. 0. 0. 0. 0. 0.]\n",
      " [0. 0. 0. 0. 0. 0. 0. 0. 0. 0. 0. 0. 0. 0. 0. 0. 0.]\n",
      " [0. 0. 0. 0. 0. 0. 0. 0. 0. 0. 0. 0. 0. 0. 0. 0. 0.]]\n"
     ]
    }
   ],
   "source": [
    "print(np.squeeze(y)[:, :, 7])"
   ],
   "metadata": {
    "collapsed": false,
    "pycharm": {
     "name": "#%%\n"
    }
   }
  },
  {
   "cell_type": "code",
   "execution_count": 10,
   "outputs": [],
   "source": [
    "y = tf.math.pow(y, policy.kappa_d/policy.kappa_s)"
   ],
   "metadata": {
    "collapsed": false,
    "pycharm": {
     "name": "#%%\n"
    }
   }
  },
  {
   "cell_type": "code",
   "execution_count": 11,
   "outputs": [],
   "source": [
    "y = policy.sum_d(y)\n",
    "y = tf.math.pow(y, 1 / policy.kappa_d)"
   ],
   "metadata": {
    "collapsed": false,
    "pycharm": {
     "name": "#%%\n"
    }
   }
  },
  {
   "cell_type": "markdown",
   "source": [
    "#### Summing over orientation and shift leaves two feature maps, one for current, one for the other player."
   ],
   "metadata": {
    "collapsed": false,
    "pycharm": {
     "name": "#%% md\n"
    }
   }
  },
  {
   "cell_type": "code",
   "execution_count": 12,
   "outputs": [
    {
     "name": "stdout",
     "output_type": "stream",
     "text": [
      "[[ 0  0  0  0  0  0  0  0  0  0  0  0  0  0  0  0  0]\n",
      " [ 0  0  0  0  0  0  0  0  0  0  0  0  0  0  0  0  0]\n",
      " [ 0  0  0  0  0  0  0  0  0  0  0  0  0  0  0  0  0]\n",
      " [ 0  0  0  0  0  0  0  0  0  0  0  0  0  0  0  0  0]\n",
      " [ 0  0  0  0  0  0  0  0  0  0  0  0  0  0  0  0  0]\n",
      " [ 0  0  0 10  0  0  0 10  0  0  0  0  0  0  0  0  0]\n",
      " [ 0  0  0  0 11  0  0 11  0  0  0  0  0  0  0  0  0]\n",
      " [ 0  0  0  0  0 12  0 12  0  0  0  0  0  0  0  0  0]\n",
      " [ 0  0  0  0  0  0 12 12  0  0  0  0  0  0  0  0  0]\n",
      " [ 0  0  0 10 11 11 11  0 10  0  0  0  0  0  0  0  0]\n",
      " [ 0  0  0  0  0  0 10 12 12  0  0  0  0  0  0  0  0]\n",
      " [ 0  0  0  0  0 10  0 12  0 12  0  0  0  0  0  0  0]\n",
      " [ 0  0  0  0 10  0  0 11  0  0 11  0  0  0  0  0  0]\n",
      " [ 0  0  0 10  0  0  0 10  0  0  0 10  0  0  0  0  0]\n",
      " [ 0  0  0  0  0  0  0  0  0  0  0  0  0  0  0  0  0]\n",
      " [ 0  0  0  0  0  0  0  0  0  0  0  0  0  0  0  0  0]\n",
      " [ 0  0  0  0  0  0  0  0  0  0  0  0  0  0  0  0  0]]\n",
      "\n",
      "[[ 0  0  0  0  0  0  0  0  0  0  0  0  0  0  0  0  0]\n",
      " [ 0  0  0  0  0  0  0  0  0  0  0  0  0  0  0  0  0]\n",
      " [ 0  0  0  0  0  0  0  0  0  0  0  0  0  0  0  0  0]\n",
      " [ 0  0  0  0  0  0  0  0  0  0  0  0  0  0  0  0  0]\n",
      " [ 0  0  0  0 10  0  0  0 10  0  0  0 10  0  0  0  0]\n",
      " [ 0  0  0  0  0 20  0  0 11 10  0 10  0 10  0  0  0]\n",
      " [ 0  0  0  0  0  0 22  0 12 11 10  0 11  0  0  0  0]\n",
      " [ 0  0  0  0  0  0  0 24 12 12  0 12  0  0  0  0  0]\n",
      " [ 0  0  0  0 10 11 12 12  0 14 14 11 10  0  0  0  0]\n",
      " [ 0  0  0  0  0  0  0  0 13  0 11 11 11 10  0  0  0]\n",
      " [ 0  0  0  0  0  0  0  0 14 12 24  0  0  0  0  0  0]\n",
      " [ 0  0  0  0  0  0  0 12 11 12  0 22  0  0  0  0  0]\n",
      " [ 0  0  0  0  0  0 11  0 10 11  0  0 20  0  0  0  0]\n",
      " [ 0  0  0  0  0 10  0  0  0 10  0  0  0 10  0  0  0]\n",
      " [ 0  0  0  0  0  0  0  0  0  0  0  0  0  0  0  0  0]\n",
      " [ 0  0  0  0  0  0  0  0  0  0  0  0  0  0  0  0  0]\n",
      " [ 0  0  0  0  0  0  0  0  0  0  0  0  0  0  0  0  0]]\n"
     ]
    }
   ],
   "source": [
    "print((np.squeeze(y)[:, :, 0] * 10).astype(int))\n",
    "print()\n",
    "print((np.squeeze(y)[:, :, 1] * 10).astype(int))"
   ],
   "metadata": {
    "collapsed": false,
    "pycharm": {
     "name": "#%%\n"
    }
   }
  },
  {
   "cell_type": "markdown",
   "source": [
    "The sum of the line counts feeds into the a softmax for the policy estimate, the difference feeds into a tanh for the value estimate"
   ],
   "metadata": {
    "collapsed": false,
    "pycharm": {
     "name": "#%% md\n"
    }
   }
  },
  {
   "cell_type": "code",
   "execution_count": 13,
   "outputs": [
    {
     "name": "stdout",
     "output_type": "stream",
     "text": [
      "[[  0   0   0   0   0   0   0   0   0   0   0   0   0   0   0]\n",
      " [  0   0   0   0   0   0   0   0   0   0   0   0   0   0   0]\n",
      " [  0   0   0   0   0   0   0   0   0   0   0   0   0   0   0]\n",
      " [  0   0   0   2   0   0   0   2   0   0   0   2   0   0   0]\n",
      " [  0   0   2   0  17   0   2   2   2   0   2   0   2   0   0]\n",
      " [  0   0   0   2   0  27   2   3   2   2   0   2   0   0   0]\n",
      " [  0   0   0   0   3   0 417   3   4   0   3   0   0   0   0]\n",
      " [  0   0   0   2   2  42  47   0   5   5   2   2   0   0   0]\n",
      " [  0   0   2   2   2   2   0  32   0   2   2   2   2   0   0]\n",
      " [  0   0   0   0   0   2   3  64   3  37   0   0   0   0   0]\n",
      " [  0   0   0   0   2   0  37   2  37   0  27   0   0   0   0]\n",
      " [  0   0   0   2   0   2   2   2   2   2   0  17   0   0   0]\n",
      " [  0   0   2   0   2   0   2   0   2   0   2   0   2   0   0]\n",
      " [  0   0   0   0   0   0   0   0   0   0   0   0   0   0   0]\n",
      " [  0   0   0   0   0   0   0   0   0   0   0   0   0   0   0]]\n",
      "-0.14276335\n"
     ]
    }
   ],
   "source": [
    "probs, v = policy.evaluate(state)\n",
    "print((np.reshape(probs, (BOARD_SIZE, BOARD_SIZE))*999).astype(int))\n",
    "print(v)\n"
   ],
   "metadata": {
    "collapsed": false,
    "pycharm": {
     "name": "#%%\n"
    }
   }
  },
  {
   "cell_type": "code",
   "execution_count": null,
   "outputs": [],
   "source": [],
   "metadata": {
    "collapsed": false,
    "pycharm": {
     "name": "#%%\n"
    }
   }
  }
 ],
 "metadata": {
  "kernelspec": {
   "display_name": "Python 3",
   "language": "python",
   "name": "python3"
  },
  "language_info": {
   "codemirror_mode": {
    "name": "ipython",
    "version": 2
   },
   "file_extension": ".py",
   "mimetype": "text/x-python",
   "name": "python",
   "nbconvert_exporter": "python",
   "pygments_lexer": "ipython2",
   "version": "2.7.6"
  }
 },
 "nbformat": 4,
 "nbformat_minor": 0
}