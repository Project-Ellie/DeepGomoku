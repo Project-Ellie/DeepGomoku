{
 "cells": [
  {
   "cell_type": "markdown",
   "source": [],
   "metadata": {
    "collapsed": false,
    "pycharm": {
     "name": "#%% md\n"
    }
   }
  },
  {
   "cell_type": "markdown",
   "source": [
    "# Heuristic Policy from Topological Value\n"
   ],
   "metadata": {
    "collapsed": false,
    "pycharm": {
     "name": "#%% md\n"
    }
   }
  },
  {
   "cell_type": "markdown",
   "source": [
    "---"
   ],
   "metadata": {
    "collapsed": false,
    "pycharm": {
     "name": "#%% md\n"
    }
   }
  },
  {
   "cell_type": "code",
   "execution_count": 1,
   "outputs": [],
   "source": [
    "%load_ext autoreload\n",
    "%autoreload 2"
   ],
   "metadata": {
    "collapsed": false,
    "pycharm": {
     "name": "#%%\n"
    }
   }
  },
  {
   "cell_type": "code",
   "execution_count": 2,
   "outputs": [],
   "source": [
    "import numpy as np\n",
    "from aegomoku.utils import expand\n",
    "from aegomoku.utils import analyse_board\n",
    "from aegomoku.policies.heuristic_policy import HeuristicPolicy\n",
    "from aegomoku.gomoku_board import GomokuBoard"
   ],
   "metadata": {
    "collapsed": false,
    "pycharm": {
     "name": "#%%\n"
    }
   }
  },
  {
   "cell_type": "code",
   "execution_count": 3,
   "outputs": [],
   "source": [
    "BOARD_SIZE = 15"
   ],
   "metadata": {
    "collapsed": false,
    "pycharm": {
     "name": "#%%\n"
    }
   }
  },
  {
   "cell_type": "code",
   "execution_count": 4,
   "outputs": [],
   "source": [
    "from aegomoku.policies.topological_value import TopologicalValuePolicy\n",
    "\n",
    "policy = TopologicalValuePolicy(kappa_s=6, kappa_d=5)\n",
    "st = 'H8G9I9I8G7F6H7F7H6'\n",
    "board = GomokuBoard(board_size=BOARD_SIZE, stones = st)"
   ],
   "metadata": {
    "collapsed": false,
    "pycharm": {
     "name": "#%%\n"
    }
   }
  },
  {
   "cell_type": "code",
   "execution_count": 5,
   "outputs": [],
   "source": [
    "state = board.canonical_representation()"
   ],
   "metadata": {
    "collapsed": false,
    "pycharm": {
     "name": "#%%\n"
    }
   }
  },
  {
   "cell_type": "code",
   "execution_count": 6,
   "outputs": [
    {
     "name": "stderr",
     "output_type": "stream",
     "text": [
      "2022-08-30 18:40:10.411633: I tensorflow/core/platform/cpu_feature_guard.cc:193] This TensorFlow binary is optimized with oneAPI Deep Neural Network Library (oneDNN) to use the following CPU instructions in performance-critical operations:  AVX2 FMA\n",
      "To enable them in other operations, rebuild TensorFlow with the appropriate compiler flags.\n"
     ]
    },
    {
     "ename": "KeyboardInterrupt",
     "evalue": "",
     "output_type": "error",
     "traceback": [
      "\u001B[0;31m---------------------------------------------------------------------------\u001B[0m",
      "\u001B[0;31mKeyboardInterrupt\u001B[0m                         Traceback (most recent call last)",
      "Input \u001B[0;32mIn [6]\u001B[0m, in \u001B[0;36m<cell line: 1>\u001B[0;34m()\u001B[0m\n\u001B[0;32m----> 1\u001B[0m probs, v \u001B[38;5;241m=\u001B[39m \u001B[43mpolicy\u001B[49m\u001B[38;5;241;43m.\u001B[39;49m\u001B[43mevaluate\u001B[49m\u001B[43m(\u001B[49m\u001B[43mstate\u001B[49m\u001B[43m)\u001B[49m\n",
      "File \u001B[0;32m~/workspace/Project-Ellie/DeepGomoku/aegomoku/policies/topological_value.py:126\u001B[0m, in \u001B[0;36mTopologicalValuePolicy.evaluate\u001B[0;34m(self, state)\u001B[0m\n\u001B[1;32m    125\u001B[0m \u001B[38;5;28;01mdef\u001B[39;00m \u001B[38;5;21mevaluate\u001B[39m(\u001B[38;5;28mself\u001B[39m, state):\n\u001B[0;32m--> 126\u001B[0m     field_current, ftc \u001B[38;5;241m=\u001B[39m \u001B[38;5;28;43mself\u001B[39;49m\u001B[38;5;241;43m.\u001B[39;49m\u001B[43mfield\u001B[49m\u001B[43m(\u001B[49m\u001B[43mstate\u001B[49m\u001B[43m,\u001B[49m\u001B[43m \u001B[49m\u001B[43mchannel\u001B[49m\u001B[38;5;241;43m=\u001B[39;49m\u001B[38;5;241;43m0\u001B[39;49m\u001B[43m)\u001B[49m\n\u001B[1;32m    127\u001B[0m     field_other, fto \u001B[38;5;241m=\u001B[39m \u001B[38;5;28mself\u001B[39m\u001B[38;5;241m.\u001B[39mfield(state, channel\u001B[38;5;241m=\u001B[39m\u001B[38;5;241m1\u001B[39m)\n\u001B[1;32m    128\u001B[0m     logits \u001B[38;5;241m=\u001B[39m field_current \u001B[38;5;241m+\u001B[39m field_other\n",
      "File \u001B[0;32m~/workspace/Project-Ellie/DeepGomoku/aegomoku/policies/topological_value.py:167\u001B[0m, in \u001B[0;36mTopologicalValuePolicy.field\u001B[0;34m(self, state, channel)\u001B[0m\n\u001B[1;32m    165\u001B[0m counts \u001B[38;5;241m=\u001B[39m \u001B[38;5;28mself\u001B[39m\u001B[38;5;241m.\u001B[39mdetector(expand(state))\n\u001B[1;32m    166\u001B[0m \u001B[38;5;66;03m# feature images of the 48 filters: 4 directions times 5 shifts times 2 channels (current + other) + terminals\u001B[39;00m\n\u001B[0;32m--> 167\u001B[0m features \u001B[38;5;241m=\u001B[39m [np\u001B[38;5;241m.\u001B[39msqueeze(\u001B[38;5;28mself\u001B[39m\u001B[38;5;241m.\u001B[39mpeel(tf\u001B[38;5;241m.\u001B[39mexpand_dims(counts[:, :, :, feature_no], \u001B[38;5;241m-\u001B[39m\u001B[38;5;241m1\u001B[39m)))\n\u001B[1;32m    168\u001B[0m             \u001B[38;5;28;01mfor\u001B[39;00m feature_no \u001B[38;5;129;01min\u001B[39;00m \u001B[38;5;28mrange\u001B[39m(\u001B[38;5;28mself\u001B[39m\u001B[38;5;241m.\u001B[39mnum_filters)]\n\u001B[1;32m    170\u001B[0m \u001B[38;5;66;03m# soft values\u001B[39;00m\n\u001B[1;32m    171\u001B[0m f \u001B[38;5;241m=\u001B[39m \u001B[38;5;28msum\u001B[39m([  \u001B[38;5;66;03m# over the values of different directions\u001B[39;00m\n\u001B[1;32m    172\u001B[0m     \u001B[38;5;28msum\u001B[39m([  \u001B[38;5;66;03m# over the values of parallel lines\u001B[39;00m\n\u001B[1;32m    173\u001B[0m         features[\u001B[38;5;241m8\u001B[39m \u001B[38;5;241m*\u001B[39m shift \u001B[38;5;241m+\u001B[39m \u001B[38;5;241m4\u001B[39m \u001B[38;5;241m*\u001B[39m channel \u001B[38;5;241m+\u001B[39m direction] \u001B[38;5;241m*\u001B[39m\u001B[38;5;241m*\u001B[39m \u001B[38;5;28mself\u001B[39m\u001B[38;5;241m.\u001B[39mkappa_s\n\u001B[0;32m   (...)\u001B[0m\n\u001B[1;32m    176\u001B[0m     \u001B[38;5;28;01mfor\u001B[39;00m direction \u001B[38;5;129;01min\u001B[39;00m \u001B[38;5;28mrange\u001B[39m(\u001B[38;5;241m4\u001B[39m)\n\u001B[1;32m    177\u001B[0m ]) \u001B[38;5;241m*\u001B[39m\u001B[38;5;241m*\u001B[39m (\u001B[38;5;241m1\u001B[39m \u001B[38;5;241m/\u001B[39m \u001B[38;5;28mself\u001B[39m\u001B[38;5;241m.\u001B[39mkappa_d)\n",
      "File \u001B[0;32m~/workspace/Project-Ellie/DeepGomoku/aegomoku/policies/topological_value.py:167\u001B[0m, in \u001B[0;36mTopologicalValuePolicy.field\u001B[0;34m(self, state, channel)\u001B[0m\n\u001B[1;32m    165\u001B[0m counts \u001B[38;5;241m=\u001B[39m \u001B[38;5;28mself\u001B[39m\u001B[38;5;241m.\u001B[39mdetector(expand(state))\n\u001B[1;32m    166\u001B[0m \u001B[38;5;66;03m# feature images of the 48 filters: 4 directions times 5 shifts times 2 channels (current + other) + terminals\u001B[39;00m\n\u001B[0;32m--> 167\u001B[0m features \u001B[38;5;241m=\u001B[39m [np\u001B[38;5;241m.\u001B[39msqueeze(\u001B[38;5;28mself\u001B[39m\u001B[38;5;241m.\u001B[39mpeel(tf\u001B[38;5;241m.\u001B[39mexpand_dims(counts[:, :, :, feature_no], \u001B[38;5;241m-\u001B[39m\u001B[38;5;241m1\u001B[39m)))\n\u001B[1;32m    168\u001B[0m             \u001B[38;5;28;01mfor\u001B[39;00m feature_no \u001B[38;5;129;01min\u001B[39;00m \u001B[38;5;28mrange\u001B[39m(\u001B[38;5;28mself\u001B[39m\u001B[38;5;241m.\u001B[39mnum_filters)]\n\u001B[1;32m    170\u001B[0m \u001B[38;5;66;03m# soft values\u001B[39;00m\n\u001B[1;32m    171\u001B[0m f \u001B[38;5;241m=\u001B[39m \u001B[38;5;28msum\u001B[39m([  \u001B[38;5;66;03m# over the values of different directions\u001B[39;00m\n\u001B[1;32m    172\u001B[0m     \u001B[38;5;28msum\u001B[39m([  \u001B[38;5;66;03m# over the values of parallel lines\u001B[39;00m\n\u001B[1;32m    173\u001B[0m         features[\u001B[38;5;241m8\u001B[39m \u001B[38;5;241m*\u001B[39m shift \u001B[38;5;241m+\u001B[39m \u001B[38;5;241m4\u001B[39m \u001B[38;5;241m*\u001B[39m channel \u001B[38;5;241m+\u001B[39m direction] \u001B[38;5;241m*\u001B[39m\u001B[38;5;241m*\u001B[39m \u001B[38;5;28mself\u001B[39m\u001B[38;5;241m.\u001B[39mkappa_s\n\u001B[0;32m   (...)\u001B[0m\n\u001B[1;32m    176\u001B[0m     \u001B[38;5;28;01mfor\u001B[39;00m direction \u001B[38;5;129;01min\u001B[39;00m \u001B[38;5;28mrange\u001B[39m(\u001B[38;5;241m4\u001B[39m)\n\u001B[1;32m    177\u001B[0m ]) \u001B[38;5;241m*\u001B[39m\u001B[38;5;241m*\u001B[39m (\u001B[38;5;241m1\u001B[39m \u001B[38;5;241m/\u001B[39m \u001B[38;5;28mself\u001B[39m\u001B[38;5;241m.\u001B[39mkappa_d)\n",
      "File \u001B[0;32m_pydevd_bundle/pydevd_cython_darwin_310_64.pyx:1179\u001B[0m, in \u001B[0;36m_pydevd_bundle.pydevd_cython_darwin_310_64.SafeCallWrapper.__call__\u001B[0;34m()\u001B[0m\n",
      "File \u001B[0;32m_pydevd_bundle/pydevd_cython_darwin_310_64.pyx:620\u001B[0m, in \u001B[0;36m_pydevd_bundle.pydevd_cython_darwin_310_64.PyDBFrame.trace_dispatch\u001B[0;34m()\u001B[0m\n",
      "File \u001B[0;32m_pydevd_bundle/pydevd_cython_darwin_310_64.pyx:929\u001B[0m, in \u001B[0;36m_pydevd_bundle.pydevd_cython_darwin_310_64.PyDBFrame.trace_dispatch\u001B[0;34m()\u001B[0m\n",
      "File \u001B[0;32m_pydevd_bundle/pydevd_cython_darwin_310_64.pyx:920\u001B[0m, in \u001B[0;36m_pydevd_bundle.pydevd_cython_darwin_310_64.PyDBFrame.trace_dispatch\u001B[0;34m()\u001B[0m\n",
      "File \u001B[0;32m_pydevd_bundle/pydevd_cython_darwin_310_64.pyx:317\u001B[0m, in \u001B[0;36m_pydevd_bundle.pydevd_cython_darwin_310_64.PyDBFrame.do_wait_suspend\u001B[0;34m()\u001B[0m\n",
      "File \u001B[0;32m/Applications/DataSpell.app/Contents/plugins/python-ce/helpers/pydev/pydevd.py:1155\u001B[0m, in \u001B[0;36mPyDB.do_wait_suspend\u001B[0;34m(self, thread, frame, event, arg, send_suspend_message, is_unhandled_exception)\u001B[0m\n\u001B[1;32m   1152\u001B[0m         from_this_thread\u001B[38;5;241m.\u001B[39mappend(frame_id)\n\u001B[1;32m   1154\u001B[0m \u001B[38;5;28;01mwith\u001B[39;00m \u001B[38;5;28mself\u001B[39m\u001B[38;5;241m.\u001B[39m_threads_suspended_single_notification\u001B[38;5;241m.\u001B[39mnotify_thread_suspended(thread_id, stop_reason):\n\u001B[0;32m-> 1155\u001B[0m     \u001B[38;5;28;43mself\u001B[39;49m\u001B[38;5;241;43m.\u001B[39;49m\u001B[43m_do_wait_suspend\u001B[49m\u001B[43m(\u001B[49m\u001B[43mthread\u001B[49m\u001B[43m,\u001B[49m\u001B[43m \u001B[49m\u001B[43mframe\u001B[49m\u001B[43m,\u001B[49m\u001B[43m \u001B[49m\u001B[43mevent\u001B[49m\u001B[43m,\u001B[49m\u001B[43m \u001B[49m\u001B[43marg\u001B[49m\u001B[43m,\u001B[49m\u001B[43m \u001B[49m\u001B[43msuspend_type\u001B[49m\u001B[43m,\u001B[49m\u001B[43m \u001B[49m\u001B[43mfrom_this_thread\u001B[49m\u001B[43m)\u001B[49m\n",
      "File \u001B[0;32m/Applications/DataSpell.app/Contents/plugins/python-ce/helpers/pydev/pydevd.py:1170\u001B[0m, in \u001B[0;36mPyDB._do_wait_suspend\u001B[0;34m(self, thread, frame, event, arg, suspend_type, from_this_thread)\u001B[0m\n\u001B[1;32m   1167\u001B[0m             \u001B[38;5;28mself\u001B[39m\u001B[38;5;241m.\u001B[39m_call_mpl_hook()\n\u001B[1;32m   1169\u001B[0m         \u001B[38;5;28mself\u001B[39m\u001B[38;5;241m.\u001B[39mprocess_internal_commands()\n\u001B[0;32m-> 1170\u001B[0m         \u001B[43mtime\u001B[49m\u001B[38;5;241;43m.\u001B[39;49m\u001B[43msleep\u001B[49m\u001B[43m(\u001B[49m\u001B[38;5;241;43m0.01\u001B[39;49m\u001B[43m)\u001B[49m\n\u001B[1;32m   1172\u001B[0m \u001B[38;5;28mself\u001B[39m\u001B[38;5;241m.\u001B[39mcancel_async_evaluation(get_current_thread_id(thread), \u001B[38;5;28mstr\u001B[39m(\u001B[38;5;28mid\u001B[39m(frame)))\n\u001B[1;32m   1174\u001B[0m \u001B[38;5;66;03m# process any stepping instructions\u001B[39;00m\n",
      "\u001B[0;31mKeyboardInterrupt\u001B[0m: "
     ]
    }
   ],
   "source": [
    "probs, v = policy.evaluate(state)"
   ],
   "metadata": {
    "collapsed": false,
    "pycharm": {
     "name": "#%%\n"
    }
   }
  },
  {
   "cell_type": "code",
   "execution_count": 7,
   "outputs": [
    {
     "name": "stdout",
     "output_type": "stream",
     "text": [
      "[[  0   0   0   0   0   0   0   0   0   0   0   0   0   0   0]\n",
      " [  0   0   0   0   0   0   0   0   0   0   0   0   0   0   0]\n",
      " [  0   0   0   0   0   0   0   0   0   0   0   0   0   0   0]\n",
      " [  0   0   0   0   0   0   0   0   0   0   0   0   0   0   0]\n",
      " [  0   0   0   0   0   0   1   0   1   0   7   0   0   0   0]\n",
      " [  0   0   0   0   0   0   0  89   1   7   0   0   0   0   0]\n",
      " [  0   0   0   0  13  16   0 266   0   1   0   0   0   0   0]\n",
      " [  0   0   0   1   1 254   3   0   0   2   0   0   0   0   0]\n",
      " [  0   0   0   0   0   0   0   0   7  11   0   0   0   0   0]\n",
      " [  0   0   0   0   0   0   3   0   1   0   1   0   0   0   0]\n",
      " [  0   0   0   0   0  14   3 157  14   0   0   0   0   0   0]\n",
      " [  0   0   0   0   0  15   0  78   0   1   0   0   0   0   0]\n",
      " [  0   0   0   0   0   0   0   0   0   0   0   0   0   0   0]\n",
      " [  0   0   0   0   0   0   0   0   0   0   0   0   0   0   0]\n",
      " [  0   0   0   0   0   0   0   0   0   0   0   0   0   0   0]]\n",
      "-0.2551442921915841\n"
     ]
    }
   ],
   "source": [
    "print((np.reshape(probs, (BOARD_SIZE, BOARD_SIZE))*999).astype(int))\n",
    "print(v)"
   ],
   "metadata": {
    "collapsed": false,
    "pycharm": {
     "name": "#%%\n"
    }
   }
  },
  {
   "cell_type": "code",
   "execution_count": 8,
   "outputs": [
    {
     "data": {
      "text/plain": "[H10, H9, F8, H5, H4, H3, L12]"
     },
     "execution_count": 8,
     "metadata": {},
     "output_type": "execute_result"
    }
   ],
   "source": [
    "advice = policy.get_advisable_actions(state)\n",
    "[board.Stone(i) for i in advice]"
   ],
   "metadata": {
    "collapsed": false,
    "pycharm": {
     "name": "#%%\n"
    }
   }
  },
  {
   "cell_type": "code",
   "execution_count": 9,
   "outputs": [
    {
     "name": "stdout",
     "output_type": "stream",
     "text": [
      "                                                     \n",
      "15    .  .  .  .  .  .  .  .  .  .  .  .  .  .  .    \n",
      "14    .  .  .  .  .  .  .  .  .  .  .  .  .  .  .    \n",
      "13    .  .  .  .  .  .  .  .  .  .  .  .  .  .  .    \n",
      "12    .  .  .  .  .  .  .  .  .  .  .  .  .  .  .    \n",
      "11    .  .  .  .  .  .  .  .  .  .  .  .  .  .  .    \n",
      "10    .  .  .  .  .  .  .  .  .  .  .  .  .  .  .    \n",
      " 9    .  .  .  .  .  .  O  .  X  .  .  .  .  .  .    \n",
      " 8    .  .  .  .  .  .  .  X  O  .  .  .  .  .  .    \n",
      " 7    .  .  .  .  .  O  X  X  .  .  .  .  .  .  .    \n",
      " 6    .  .  .  .  .  O  . [X] .  .  .  .  .  .  .    \n",
      " 5    .  .  .  .  .  .  .  .  .  .  .  .  .  .  .    \n",
      " 4    .  .  .  .  .  .  .  .  .  .  .  .  .  .  .    \n",
      " 3    .  .  .  .  .  .  .  .  .  .  .  .  .  .  .    \n",
      " 2    .  .  .  .  .  .  .  .  .  .  .  .  .  .  .    \n",
      " 1    .  .  .  .  .  .  .  .  .  .  .  .  .  .  .    \n",
      "                                                     \n",
      "      A  B  C  D  E  F  G  H  I  J  K  L  M  N  O\n"
     ]
    }
   ],
   "source": [
    "board.plot()"
   ],
   "metadata": {
    "collapsed": false,
    "pycharm": {
     "name": "#%%\n"
    }
   }
  },
  {
   "cell_type": "code",
   "execution_count": 20,
   "outputs": [
    {
     "name": "stdout",
     "output_type": "stream",
     "text": [
      "                                                     \n",
      "15    .  .  .  .  .  .  .  .  .  .  .  .  .  .  .    \n",
      "14    .  .  .  .  .  .  .  .  .  .  .  .  .  .  .    \n",
      "13    .  .  .  .  .  .  .  .  .  .  .  .  .  .  .    \n",
      "12    .  .  .  .  .  .  .  .  .  .  .  .  .  .  .    \n",
      "11    .  .  .  .  .  .  .  .  .  .  .  .  .  .  .    \n",
      "10    .  .  .  .  .  .  .  O  .  .  .  .  .  .  .    \n",
      " 9    .  .  .  .  .  O  O  X  X  .  .  .  .  .  .    \n",
      " 8    .  .  .  .  .  O  .  X  O  .  .  .  .  .  .    \n",
      " 7    .  .  .  .  .  O  X  X  .  .  .  .  .  .  .    \n",
      " 6    .  .  .  .  .  O  .  X  .  .  .  .  .  .  .    \n",
      " 5    .  .  .  .  . [O] .  X  .  .  .  .  .  .  .    \n",
      " 4    .  .  .  .  .  .  .  X  .  .  .  .  .  .  .    \n",
      " 3    .  .  .  .  .  .  .  .  .  .  .  .  .  .  .    \n",
      " 2    .  .  .  .  .  .  .  .  .  .  .  .  .  .  .    \n",
      " 1    .  .  .  .  .  .  .  .  .  .  .  .  .  .  .    \n",
      "                                                     \n",
      "      A  B  C  D  E  F  G  H  I  J  K  L  M  N  O\n",
      "[[  0   0   0   0   0   0   0   0   0   0   0   0   0   0   0]\n",
      " [  0   0   0   0   0   0   0   0   0   0   0   0   0   0   0]\n",
      " [  0   0   0   0   0   0   0   0   0   0   0   0   0   0   0]\n",
      " [  0   0   0   0   0   0   0   0   0   3   0   0   0   0   0]\n",
      " [  0   0   0   0   0  24   0   0  48   0   3   0   0   0   0]\n",
      " [  0   0   0   0   0  28   1   0   1  36   0   0   0   0   0]\n",
      " [  0   0   0   0   0   0   0   0   0   3   0   0   0   0   0]\n",
      " [  0   0   0   0   0   0   1   0   0   0   0   0   0   0   0]\n",
      " [  0   0   0   0   6   0   0   0   3   3   0   0   0   0   0]\n",
      " [  0   0   0   3   0   0   1   0   1   0   0   0   0   0   0]\n",
      " [  0   0   0   0   0   0   1   0   3   0   0   0   0   0   0]\n",
      " [  0   0   0   0   0 447   1   0   0   0   0   0   0   0   0]\n",
      " [  0   0   0   0   0  36   0 313   0   0   0   0   0   0   0]\n",
      " [  0   0   0   0   0   3   0   3   0   0   0   0   0   0   0]\n",
      " [  0   0   0   0   0   0   0   0   0   0   0   0   0   0   0]]\n",
      "-0.7732941896106647\n",
      "Advisable: [F4, H3, K13, E8]\n"
     ]
    }
   ],
   "source": [
    "st = 'H8G9I9I8G7F6H7F7H6F8H9H10H5F9H4F5'\n",
    "board = GomokuBoard(board_size=BOARD_SIZE, stones = st)\n",
    "board.plot()\n",
    "state = board.canonical_representation()\n",
    "probs, v = policy.evaluate(state)\n",
    "print((np.reshape(probs, (BOARD_SIZE, BOARD_SIZE))*999).astype(int))\n",
    "print(v)\n",
    "print(f\"Advisable: {[board.Stone(i) for i in policy.get_advisable_actions(state)]}\")"
   ],
   "metadata": {
    "collapsed": false,
    "pycharm": {
     "name": "#%%\n"
    }
   }
  },
  {
   "cell_type": "code",
   "execution_count": 19,
   "outputs": [
    {
     "data": {
      "text/plain": "1"
     },
     "execution_count": 19,
     "metadata": {},
     "output_type": "execute_result"
    }
   ],
   "source": [
    "policy.get_winner(state)"
   ],
   "metadata": {
    "collapsed": false,
    "pycharm": {
     "name": "#%%\n"
    }
   }
  },
  {
   "cell_type": "code",
   "execution_count": null,
   "outputs": [],
   "source": [],
   "metadata": {
    "collapsed": false,
    "pycharm": {
     "name": "#%%\n"
    }
   }
  },
  {
   "cell_type": "code",
   "execution_count": null,
   "outputs": [],
   "source": [],
   "metadata": {
    "collapsed": false,
    "pycharm": {
     "name": "#%%\n"
    }
   }
  },
  {
   "cell_type": "code",
   "execution_count": null,
   "outputs": [],
   "source": [],
   "metadata": {
    "collapsed": false,
    "pycharm": {
     "name": "#%%\n"
    }
   }
  },
  {
   "cell_type": "code",
   "execution_count": null,
   "outputs": [],
   "source": [],
   "metadata": {
    "collapsed": false,
    "pycharm": {
     "name": "#%%\n"
    }
   }
  },
  {
   "cell_type": "code",
   "execution_count": null,
   "outputs": [],
   "source": [],
   "metadata": {
    "collapsed": false,
    "pycharm": {
     "name": "#%%\n"
    }
   }
  },
  {
   "cell_type": "code",
   "execution_count": null,
   "outputs": [],
   "source": [],
   "metadata": {
    "collapsed": false,
    "pycharm": {
     "name": "#%%\n"
    }
   }
  },
  {
   "cell_type": "code",
   "execution_count": null,
   "outputs": [],
   "source": [],
   "metadata": {
    "collapsed": false,
    "pycharm": {
     "name": "#%%\n"
    }
   }
  },
  {
   "cell_type": "code",
   "execution_count": null,
   "outputs": [],
   "source": [],
   "metadata": {
    "collapsed": false,
    "pycharm": {
     "name": "#%%\n"
    }
   }
  },
  {
   "cell_type": "code",
   "execution_count": null,
   "outputs": [],
   "source": [],
   "metadata": {
    "collapsed": false,
    "pycharm": {
     "name": "#%%\n"
    }
   }
  },
  {
   "cell_type": "code",
   "execution_count": null,
   "outputs": [],
   "source": [],
   "metadata": {
    "collapsed": false,
    "pycharm": {
     "name": "#%%\n"
    }
   }
  },
  {
   "cell_type": "code",
   "execution_count": 12,
   "outputs": [
    {
     "name": "stdout",
     "output_type": "stream",
     "text": [
      "                                                     \n",
      "15    .  .  .  .  .  .  .  .  .  .  .  .  .  .  .    \n",
      "14    .  .  .  .  .  .  .  .  .  .  .  .  .  .  .    \n",
      "13    .  .  .  .  .  .  .  .  .  .  .  .  .  .  .    \n",
      "12    .  .  .  .  .  .  .  .  .  .  .  .  .  .  .    \n",
      "11    .  .  .  .  .  .  .  .  .  .  .  .  .  .  .    \n",
      "10    .  .  .  .  .  .  .  .  .  .  .  .  .  .  .    \n",
      " 9    .  .  .  .  .  .  .  .  .  .  .  .  .  .  .    \n",
      " 8    .  .  .  .  .  .  . [X] .  .  .  .  .  .  .    \n",
      " 7    .  .  .  .  .  .  .  .  .  .  .  .  .  .  .    \n",
      " 6    .  .  .  .  .  .  .  .  .  .  .  .  .  .  .    \n",
      " 5    .  .  .  .  .  .  .  .  .  .  .  .  .  .  .    \n",
      " 4    .  .  .  .  .  .  .  .  .  .  .  .  .  .  .    \n",
      " 3    .  .  .  .  .  .  .  .  .  .  .  .  .  .  .    \n",
      " 2    .  .  .  .  .  .  .  .  .  .  .  .  .  .  .    \n",
      " 1    .  .  .  .  .  .  .  .  .  .  .  .  .  .  .    \n",
      "                                                     \n",
      "      A  B  C  D  E  F  G  H  I  J  K  L  M  N  O\n"
     ]
    }
   ],
   "source": [
    "board = GomokuBoard(BOARD_SIZE, stones=stones)\n",
    "board.plot()"
   ],
   "metadata": {
    "collapsed": false,
    "pycharm": {
     "name": "#%%\n"
    }
   }
  },
  {
   "cell_type": "code",
   "execution_count": 13,
   "outputs": [
    {
     "data": {
      "text/plain": "(1, 17, 17, 3)"
     },
     "execution_count": 13,
     "metadata": {},
     "output_type": "execute_result"
    }
   ],
   "source": [
    "inputs = expand(board)\n",
    "inputs.shape"
   ],
   "metadata": {
    "collapsed": false,
    "pycharm": {
     "name": "#%%\n"
    }
   }
  },
  {
   "cell_type": "code",
   "execution_count": 14,
   "outputs": [
    {
     "data": {
      "text/plain": "(17, 17, 40)"
     },
     "execution_count": 14,
     "metadata": {},
     "output_type": "execute_result"
    }
   ],
   "source": [
    "res = detector(expand(board))\n",
    "res = np.squeeze(res)\n",
    "res.shape"
   ],
   "metadata": {
    "collapsed": false,
    "pycharm": {
     "name": "#%%\n"
    }
   }
  },
  {
   "cell_type": "code",
   "execution_count": 15,
   "outputs": [
    {
     "name": "stdout",
     "output_type": "stream",
     "text": [
      "[[0. 0. 0. 0. 0. 0. 0. 0. 0. 0. 0. 0. 0. 0. 0. 0. 0.]\n",
      " [0. 0. 0. 0. 0. 0. 0. 0. 0. 0. 0. 0. 0. 0. 0. 0. 0.]\n",
      " [0. 0. 0. 0. 0. 0. 0. 0. 0. 0. 0. 0. 0. 0. 0. 0. 0.]\n",
      " [0. 0. 0. 0. 0. 0. 0. 0. 0. 0. 0. 0. 0. 0. 0. 0. 0.]\n",
      " [0. 0. 0. 0. 1. 0. 0. 0. 1. 0. 0. 0. 1. 0. 0. 0. 0.]\n",
      " [0. 0. 0. 0. 0. 2. 0. 0. 2. 0. 0. 2. 0. 0. 0. 0. 0.]\n",
      " [0. 0. 0. 0. 0. 0. 3. 0. 3. 0. 3. 0. 0. 0. 0. 0. 0.]\n",
      " [0. 0. 0. 0. 0. 0. 0. 4. 4. 4. 0. 0. 0. 0. 0. 0. 0.]\n",
      " [0. 0. 0. 0. 1. 2. 3. 4. 0. 4. 3. 2. 1. 0. 0. 0. 0.]\n",
      " [0. 0. 0. 0. 0. 0. 0. 4. 4. 4. 0. 0. 0. 0. 0. 0. 0.]\n",
      " [0. 0. 0. 0. 0. 0. 3. 0. 3. 0. 3. 0. 0. 0. 0. 0. 0.]\n",
      " [0. 0. 0. 0. 0. 2. 0. 0. 2. 0. 0. 2. 0. 0. 0. 0. 0.]\n",
      " [0. 0. 0. 0. 1. 0. 0. 0. 1. 0. 0. 0. 1. 0. 0. 0. 0.]\n",
      " [0. 0. 0. 0. 0. 0. 0. 0. 0. 0. 0. 0. 0. 0. 0. 0. 0.]\n",
      " [0. 0. 0. 0. 0. 0. 0. 0. 0. 0. 0. 0. 0. 0. 0. 0. 0.]\n",
      " [0. 0. 0. 0. 0. 0. 0. 0. 0. 0. 0. 0. 0. 0. 0. 0. 0.]\n",
      " [0. 0. 0. 0. 0. 0. 0. 0. 0. 0. 0. 0. 0. 0. 0. 0. 0.]]\n"
     ]
    }
   ],
   "source": [
    "print(np.sum(res, axis=2))"
   ],
   "metadata": {
    "collapsed": false,
    "pycharm": {
     "name": "#%%\n"
    }
   }
  },
  {
   "cell_type": "markdown",
   "source": [
    "As expected, for a single stone on the board, we count 4 possible lines right next to the stone, and one less for each increasing distance."
   ],
   "metadata": {
    "collapsed": false,
    "pycharm": {
     "name": "#%% md\n"
    }
   }
  },
  {
   "cell_type": "markdown",
   "source": [
    "## Line Topology\n",
    "\n",
    "Any two different lines are considered orthogonal, even the five geometrically parallel lines. The Euclidean square is replaced by a power of 6\n",
    "\n",
    "It appears that a power of 6 captures the expected value topology: two intersecting lines of 2 are almost as valuable as a single line of 3, and so on."
   ],
   "metadata": {
    "collapsed": false,
    "pycharm": {
     "name": "#%% md\n"
    }
   }
  },
  {
   "cell_type": "code",
   "execution_count": 16,
   "outputs": [],
   "source": [
    "import numpy as np\n",
    "line = np.array([1., 2., 2., 2., 1.])\n",
    "line = np.array([1., 2., 3., 3.])"
   ],
   "metadata": {
    "collapsed": false,
    "pycharm": {
     "name": "#%%\n"
    }
   }
  },
  {
   "cell_type": "code",
   "execution_count": 17,
   "outputs": [
    {
     "name": "stdout",
     "output_type": "stream",
     "text": [
      "3.3919542339280846\n",
      "3.807339897186568\n"
     ]
    }
   ],
   "source": [
    "print(np.power(sum(line ** 6),1./6))\n",
    "print(np.power(sum(line * line * line * line * line * line) + sum(line * line * line * line * line * line),1./6))"
   ],
   "metadata": {
    "collapsed": false,
    "pycharm": {
     "name": "#%%\n"
    }
   }
  },
  {
   "cell_type": "markdown",
   "source": [
    "Two lines of three add to something between 3 and 4"
   ],
   "metadata": {
    "collapsed": false,
    "pycharm": {
     "name": "#%% md\n"
    }
   }
  },
  {
   "cell_type": "code",
   "execution_count": 18,
   "outputs": [
    {
     "data": {
      "text/plain": "3.3673861449281186"
     },
     "execution_count": 18,
     "metadata": {},
     "output_type": "execute_result"
    }
   ],
   "source": [
    "np.power(3**6 + 3 **6, 1./6)"
   ],
   "metadata": {
    "collapsed": false,
    "pycharm": {
     "name": "#%%\n"
    }
   }
  },
  {
   "cell_type": "code",
   "execution_count": 19,
   "outputs": [
    {
     "data": {
      "text/plain": "array([ 1.,  8., 27., 27.])"
     },
     "execution_count": 19,
     "metadata": {},
     "output_type": "execute_result"
    }
   ],
   "source": [
    "line ** 3"
   ],
   "metadata": {
    "collapsed": false,
    "pycharm": {
     "name": "#%%\n"
    }
   }
  },
  {
   "cell_type": "code",
   "execution_count": 20,
   "outputs": [
    {
     "data": {
      "text/plain": "(9, 9, 3, 40)"
     },
     "execution_count": 20,
     "metadata": {},
     "output_type": "execute_result"
    }
   ],
   "source": [
    "reshaped.shape"
   ],
   "metadata": {
    "collapsed": false,
    "pycharm": {
     "name": "#%%\n"
    }
   }
  },
  {
   "cell_type": "code",
   "execution_count": 21,
   "outputs": [
    {
     "name": "stdout",
     "output_type": "stream",
     "text": [
      "[[ 0.  0.  0.  0.  0.  0.  0.  0.  0.]\n",
      " [ 0.  0.  0.  0.  0.  0.  0.  0.  0.]\n",
      " [ 0.  0.  0.  0.  0.  0.  0.  0.  0.]\n",
      " [ 0.  0.  0.  0.  0.  0.  0.  0.  0.]\n",
      " [ 0.  0.  0.  0. -5.  0.  0.  0.  0.]\n",
      " [ 0.  0.  0.  0. -5.  0.  0.  0.  0.]\n",
      " [ 0.  0.  0.  0. -5.  0.  0.  0.  0.]\n",
      " [ 0.  0.  0.  0. -5.  0.  0.  0.  0.]\n",
      " [ 0.  0.  0.  0. -5.  0.  0.  0.  0.]]\n",
      "\n",
      "[[ 0.  0.  0.  0.  0.  0.  0.  0.  0.]\n",
      " [ 0.  0.  0.  0.  0.  0.  0.  0.  0.]\n",
      " [ 0.  0.  0.  0.  0.  0.  0.  0.  0.]\n",
      " [ 0.  0.  0.  0. -5.  0.  0.  0.  0.]\n",
      " [ 0.  0.  0.  0. -5.  0.  0.  0.  0.]\n",
      " [ 0.  0.  0.  0. -5.  0.  0.  0.  0.]\n",
      " [ 0.  0.  0.  0. -5.  0.  0.  0.  0.]\n",
      " [ 0.  0.  0.  0. -5.  0.  0.  0.  0.]\n",
      " [ 0.  0.  0.  0.  0.  0.  0.  0.  0.]]\n",
      "\n",
      "[[ 0.  0.  0.  0.  0.  0.  0.  0.  0.]\n",
      " [ 0.  0.  0.  0.  0.  0.  0.  0.  0.]\n",
      " [ 0.  0.  0.  0. -5.  0.  0.  0.  0.]\n",
      " [ 0.  0.  0.  0. -5.  0.  0.  0.  0.]\n",
      " [ 0.  0.  0.  0. -5.  0.  0.  0.  0.]\n",
      " [ 0.  0.  0.  0. -5.  0.  0.  0.  0.]\n",
      " [ 0.  0.  0.  0. -5.  0.  0.  0.  0.]\n",
      " [ 0.  0.  0.  0.  0.  0.  0.  0.  0.]\n",
      " [ 0.  0.  0.  0.  0.  0.  0.  0.  0.]]\n",
      "\n",
      "[[ 0.  0.  0.  0.  0.  0.  0.  0.  0.]\n",
      " [ 0.  0.  0.  0. -5.  0.  0.  0.  0.]\n",
      " [ 0.  0.  0.  0. -5.  0.  0.  0.  0.]\n",
      " [ 0.  0.  0.  0. -5.  0.  0.  0.  0.]\n",
      " [ 0.  0.  0.  0. -5.  0.  0.  0.  0.]\n",
      " [ 0.  0.  0.  0. -5.  0.  0.  0.  0.]\n",
      " [ 0.  0.  0.  0.  0.  0.  0.  0.  0.]\n",
      " [ 0.  0.  0.  0.  0.  0.  0.  0.  0.]\n",
      " [ 0.  0.  0.  0.  0.  0.  0.  0.  0.]]\n",
      "\n",
      "[[ 0.  0.  0.  0. -5.  0.  0.  0.  0.]\n",
      " [ 0.  0.  0.  0. -5.  0.  0.  0.  0.]\n",
      " [ 0.  0.  0.  0. -5.  0.  0.  0.  0.]\n",
      " [ 0.  0.  0.  0. -5.  0.  0.  0.  0.]\n",
      " [ 0.  0.  0.  0. -5.  0.  0.  0.  0.]\n",
      " [ 0.  0.  0.  0.  0.  0.  0.  0.  0.]\n",
      " [ 0.  0.  0.  0.  0.  0.  0.  0.  0.]\n",
      " [ 0.  0.  0.  0.  0.  0.  0.  0.  0.]\n",
      " [ 0.  0.  0.  0.  0.  0.  0.  0.  0.]]\n",
      "\n"
     ]
    }
   ],
   "source": [
    "for d in range(5):\n",
    "    print(reshaped[:, :, 0, 4 + 8 * d])\n",
    "    print()"
   ],
   "metadata": {
    "collapsed": false,
    "pycharm": {
     "name": "#%%\n"
    }
   }
  },
  {
   "cell_type": "code",
   "execution_count": 22,
   "outputs": [
    {
     "name": "stdout",
     "output_type": "stream",
     "text": [
      "[[ 0.  0.  0.  0.  0.  0.  0.  0.  0.]\n",
      " [ 0.  0.  0.  0.  0.  0.  0.  0.  0.]\n",
      " [ 0.  0.  0.  0.  0.  0.  0.  0.  0.]\n",
      " [ 0.  0.  0.  0.  0.  0.  0.  0.  0.]\n",
      " [ 0.  0.  0.  0. -5.  0.  0.  0.  0.]\n",
      " [ 0.  0.  0.  0. -5.  0.  0.  0.  0.]\n",
      " [ 0.  0.  0.  0. -5.  0.  0.  0.  0.]\n",
      " [ 0.  0.  0.  0. -5.  0.  0.  0.  0.]\n",
      " [ 0.  0.  0.  0. -5.  0.  0.  0.  0.]]\n",
      "\n",
      "[[ 0.  0.  0.  0.  0.  0.  0.  0.  0.]\n",
      " [ 0.  0.  0.  0.  0.  0.  0.  0.  0.]\n",
      " [ 0.  0.  0.  0.  0.  0.  0.  0.  0.]\n",
      " [ 0.  0.  0.  0.  0.  0.  0.  0.  0.]\n",
      " [ 0.  0.  0.  0. -5.  0.  0.  0.  0.]\n",
      " [ 0.  0.  0.  0.  1.  0.  0.  0.  0.]\n",
      " [ 0.  0.  0.  0.  1.  0.  0.  0.  0.]\n",
      " [ 0.  0.  0.  0.  1.  0.  0.  0.  0.]\n",
      " [ 0.  0.  0.  0.  1.  0.  0.  0.  0.]]\n",
      "\n",
      "[[ 0.  0.  0.  0.  0.  0.  0.  0.  0.]\n",
      " [ 0.  0.  0.  0.  0.  0.  0.  0.  0.]\n",
      " [ 0.  0.  0.  0.  0.  0.  0.  0.  0.]\n",
      " [ 0.  0.  0.  0.  0.  0.  0.  0.  0.]\n",
      " [ 0.  0.  0.  0. -5.  0.  0.  0.  0.]\n",
      " [ 0.  0.  0.  0. -5.  0.  0.  0.  0.]\n",
      " [ 0.  0.  0.  0. -5.  0.  0.  0.  0.]\n",
      " [ 0.  0.  0.  0. -5.  0.  0.  0.  0.]\n",
      " [ 0.  0.  0.  0. -5.  0.  0.  0.  0.]]\n",
      "\n"
     ]
    }
   ],
   "source": [
    "for c in range(3):\n",
    "    print(reshaped[:, :, c, 4])\n",
    "    print()"
   ],
   "metadata": {
    "collapsed": false,
    "pycharm": {
     "name": "#%%\n"
    }
   }
  },
  {
   "cell_type": "code",
   "execution_count": 23,
   "outputs": [
    {
     "data": {
      "text/plain": "(17, 17, 40)"
     },
     "execution_count": 23,
     "metadata": {},
     "output_type": "execute_result"
    }
   ],
   "source": [
    "res.shape"
   ],
   "metadata": {
    "collapsed": false,
    "pycharm": {
     "name": "#%%\n"
    }
   }
  },
  {
   "cell_type": "code",
   "execution_count": 24,
   "outputs": [],
   "source": [
    "peel = tf.keras.layers.Conv2D(\n",
    "    filters=1, kernel_size=(3, 3),\n",
    "    kernel_initializer=tf.constant_initializer([\n",
    "        [[0., 0., 0.], [0., 1., 0.], [0., 0., 0.]]\n",
    "    ]),\n",
    "    bias_initializer=tf.constant_initializer(0.),\n",
    "    trainable=False)"
   ],
   "metadata": {
    "collapsed": false,
    "pycharm": {
     "name": "#%%\n"
    }
   }
  },
  {
   "cell_type": "code",
   "execution_count": 25,
   "outputs": [
    {
     "data": {
      "text/plain": "TensorShape([1, 17, 17, 40])"
     },
     "execution_count": 25,
     "metadata": {},
     "output_type": "execute_result"
    }
   ],
   "source": [
    "res = detector(expand(board))\n",
    "res.shape"
   ],
   "metadata": {
    "collapsed": false,
    "pycharm": {
     "name": "#%%\n"
    }
   }
  },
  {
   "cell_type": "markdown",
   "source": [
    "The stone is now on the 'other' channel"
   ],
   "metadata": {
    "collapsed": false,
    "pycharm": {
     "name": "#%% md\n"
    }
   }
  },
  {
   "cell_type": "code",
   "execution_count": 26,
   "outputs": [
    {
     "name": "stdout",
     "output_type": "stream",
     "text": [
      "[[0. 0. 0. 0. 0. 0. 0. 0. 0. 0. 0. 0. 0. 0. 0.]\n",
      " [0. 0. 0. 0. 0. 0. 0. 0. 0. 0. 0. 0. 0. 0. 0.]\n",
      " [0. 0. 0. 0. 0. 0. 0. 0. 0. 0. 0. 0. 0. 0. 0.]\n",
      " [0. 0. 0. 0. 0. 0. 0. 0. 0. 0. 0. 0. 0. 0. 0.]\n",
      " [0. 0. 0. 0. 0. 0. 0. 0. 0. 0. 0. 0. 0. 0. 0.]\n",
      " [0. 0. 0. 0. 0. 0. 0. 1. 0. 0. 0. 0. 0. 0. 0.]\n",
      " [0. 0. 0. 0. 0. 0. 0. 1. 0. 0. 0. 0. 0. 0. 0.]\n",
      " [0. 0. 0. 0. 0. 0. 0. 0. 0. 0. 0. 0. 0. 0. 0.]\n",
      " [0. 0. 0. 0. 0. 0. 0. 1. 0. 0. 0. 0. 0. 0. 0.]\n",
      " [0. 0. 0. 0. 0. 0. 0. 1. 0. 0. 0. 0. 0. 0. 0.]\n",
      " [0. 0. 0. 0. 0. 0. 0. 0. 0. 0. 0. 0. 0. 0. 0.]\n",
      " [0. 0. 0. 0. 0. 0. 0. 0. 0. 0. 0. 0. 0. 0. 0.]\n",
      " [0. 0. 0. 0. 0. 0. 0. 0. 0. 0. 0. 0. 0. 0. 0.]\n",
      " [0. 0. 0. 0. 0. 0. 0. 0. 0. 0. 0. 0. 0. 0. 0.]\n",
      " [0. 0. 0. 0. 0. 0. 0. 0. 0. 0. 0. 0. 0. 0. 0.]]\n"
     ]
    }
   ],
   "source": [
    "layer = 20\n",
    "print(np.squeeze(peel(tf.expand_dims(res[:, :, :, layer], -1))))"
   ],
   "metadata": {
    "collapsed": false,
    "pycharm": {
     "name": "#%%\n"
    }
   }
  },
  {
   "cell_type": "markdown",
   "source": [
    "Fourty different images"
   ],
   "metadata": {
    "collapsed": false,
    "pycharm": {
     "name": "#%% md\n"
    }
   }
  },
  {
   "cell_type": "code",
   "execution_count": 27,
   "outputs": [],
   "source": [
    "v = []\n",
    "for layer in range(40):\n",
    "    v.append(np.squeeze(peel(tf.expand_dims(res[:, :, :, layer], -1))))"
   ],
   "metadata": {
    "collapsed": false,
    "pycharm": {
     "name": "#%%\n"
    }
   }
  },
  {
   "cell_type": "code",
   "execution_count": 28,
   "outputs": [
    {
     "name": "stdout",
     "output_type": "stream",
     "text": [
      "[[0. 0. 0. 0. 0. 0. 0. 0. 0. 0. 0. 0. 0. 0. 0.]\n",
      " [0. 0. 0. 0. 0. 0. 0. 0. 0. 0. 0. 0. 0. 0. 0.]\n",
      " [0. 0. 0. 0. 0. 0. 0. 0. 0. 0. 0. 0. 0. 0. 0.]\n",
      " [0. 0. 0. 0. 0. 0. 0. 0. 0. 0. 0. 0. 0. 0. 0.]\n",
      " [0. 0. 0. 0. 0. 0. 0. 0. 0. 0. 0. 0. 0. 0. 0.]\n",
      " [0. 0. 0. 0. 0. 0. 0. 1. 0. 0. 0. 0. 0. 0. 0.]\n",
      " [0. 0. 0. 0. 0. 0. 0. 1. 0. 0. 0. 0. 0. 0. 0.]\n",
      " [0. 0. 0. 0. 0. 0. 0. 0. 0. 0. 0. 0. 0. 0. 0.]\n",
      " [0. 0. 0. 0. 0. 0. 0. 1. 0. 0. 0. 0. 0. 0. 0.]\n",
      " [0. 0. 0. 0. 0. 0. 0. 1. 0. 0. 0. 0. 0. 0. 0.]\n",
      " [0. 0. 0. 0. 0. 0. 0. 0. 0. 0. 0. 0. 0. 0. 0.]\n",
      " [0. 0. 0. 0. 0. 0. 0. 0. 0. 0. 0. 0. 0. 0. 0.]\n",
      " [0. 0. 0. 0. 0. 0. 0. 0. 0. 0. 0. 0. 0. 0. 0.]\n",
      " [0. 0. 0. 0. 0. 0. 0. 0. 0. 0. 0. 0. 0. 0. 0.]\n",
      " [0. 0. 0. 0. 0. 0. 0. 0. 0. 0. 0. 0. 0. 0. 0.]]\n"
     ]
    }
   ],
   "source": [
    "print(v[20])"
   ],
   "metadata": {
    "collapsed": false,
    "pycharm": {
     "name": "#%%\n"
    }
   }
  },
  {
   "cell_type": "code",
   "execution_count": 29,
   "outputs": [],
   "source": [
    "def v_(s, c, d):\n",
    "    return v[8 * s + 4 * c + d]"
   ],
   "metadata": {
    "collapsed": false,
    "pycharm": {
     "name": "#%%\n"
    }
   }
  },
  {
   "cell_type": "code",
   "execution_count": 30,
   "outputs": [
    {
     "name": "stdout",
     "output_type": "stream",
     "text": [
      "[[0. 0. 0. 0. 0. 0. 0. 0. 0. 0. 0. 0. 0. 0. 0.]\n",
      " [0. 0. 0. 0. 0. 0. 0. 0. 0. 0. 0. 0. 0. 0. 0.]\n",
      " [0. 0. 0. 0. 0. 0. 0. 0. 0. 0. 0. 0. 0. 0. 0.]\n",
      " [0. 0. 0. 0. 0. 0. 0. 0. 0. 0. 0. 0. 0. 0. 0.]\n",
      " [0. 0. 0. 0. 0. 0. 0. 0. 0. 0. 0. 0. 0. 0. 0.]\n",
      " [0. 0. 0. 0. 0. 0. 0. 1. 0. 0. 0. 0. 0. 0. 0.]\n",
      " [0. 0. 0. 0. 0. 0. 0. 1. 0. 0. 0. 0. 0. 0. 0.]\n",
      " [0. 0. 0. 0. 0. 0. 0. 0. 0. 0. 0. 0. 0. 0. 0.]\n",
      " [0. 0. 0. 0. 0. 0. 0. 1. 0. 0. 0. 0. 0. 0. 0.]\n",
      " [0. 0. 0. 0. 0. 0. 0. 1. 0. 0. 0. 0. 0. 0. 0.]\n",
      " [0. 0. 0. 0. 0. 0. 0. 0. 0. 0. 0. 0. 0. 0. 0.]\n",
      " [0. 0. 0. 0. 0. 0. 0. 0. 0. 0. 0. 0. 0. 0. 0.]\n",
      " [0. 0. 0. 0. 0. 0. 0. 0. 0. 0. 0. 0. 0. 0. 0.]\n",
      " [0. 0. 0. 0. 0. 0. 0. 0. 0. 0. 0. 0. 0. 0. 0.]\n",
      " [0. 0. 0. 0. 0. 0. 0. 0. 0. 0. 0. 0. 0. 0. 0.]]\n"
     ]
    }
   ],
   "source": [
    "print(v_(s=2, c=1, d=0))"
   ],
   "metadata": {
    "collapsed": false,
    "pycharm": {
     "name": "#%%\n"
    }
   }
  },
  {
   "cell_type": "code",
   "execution_count": 31,
   "outputs": [],
   "source": [
    "def v__(d,c):\n",
    "    return sum( [ v_(s, c, d) ** 6 for s in range(5) ])**(1/6.)"
   ],
   "metadata": {
    "collapsed": false,
    "pycharm": {
     "name": "#%%\n"
    }
   }
  },
  {
   "cell_type": "code",
   "execution_count": 32,
   "outputs": [
    {
     "data": {
      "text/plain": "array([[0.       , 0.       , 0.       , 0.       , 0.       , 0.       ,\n        0.       , 0.       , 0.       , 0.       , 0.       , 0.       ,\n        0.       , 0.       , 0.       ],\n       [0.       , 0.       , 0.       , 0.       , 0.       , 0.       ,\n        0.       , 0.       , 0.       , 0.       , 0.       , 0.       ,\n        0.       , 0.       , 0.       ],\n       [0.       , 0.       , 0.       , 0.       , 0.       , 0.       ,\n        0.       , 0.       , 0.       , 0.       , 0.       , 0.       ,\n        0.       , 0.       , 0.       ],\n       [0.       , 0.       , 0.       , 0.       , 0.       , 0.       ,\n        0.       , 0.       , 0.       , 0.       , 0.       , 1.       ,\n        0.       , 0.       , 0.       ],\n       [0.       , 0.       , 0.       , 0.       , 0.       , 0.       ,\n        0.       , 0.       , 0.       , 0.       , 1.122462 , 0.       ,\n        0.       , 0.       , 0.       ],\n       [0.       , 0.       , 0.       , 0.       , 0.       , 0.       ,\n        0.       , 0.       , 0.       , 1.2009369, 0.       , 0.       ,\n        0.       , 0.       , 0.       ],\n       [0.       , 0.       , 0.       , 0.       , 0.       , 0.       ,\n        0.       , 0.       , 1.2599211, 0.       , 0.       , 0.       ,\n        0.       , 0.       , 0.       ],\n       [0.       , 0.       , 0.       , 0.       , 0.       , 0.       ,\n        0.       , 0.       , 0.       , 0.       , 0.       , 0.       ,\n        0.       , 0.       , 0.       ],\n       [0.       , 0.       , 0.       , 0.       , 0.       , 0.       ,\n        1.2599211, 0.       , 0.       , 0.       , 0.       , 0.       ,\n        0.       , 0.       , 0.       ],\n       [0.       , 0.       , 0.       , 0.       , 0.       , 1.2009369,\n        0.       , 0.       , 0.       , 0.       , 0.       , 0.       ,\n        0.       , 0.       , 0.       ],\n       [0.       , 0.       , 0.       , 0.       , 1.122462 , 0.       ,\n        0.       , 0.       , 0.       , 0.       , 0.       , 0.       ,\n        0.       , 0.       , 0.       ],\n       [0.       , 0.       , 0.       , 1.       , 0.       , 0.       ,\n        0.       , 0.       , 0.       , 0.       , 0.       , 0.       ,\n        0.       , 0.       , 0.       ],\n       [0.       , 0.       , 0.       , 0.       , 0.       , 0.       ,\n        0.       , 0.       , 0.       , 0.       , 0.       , 0.       ,\n        0.       , 0.       , 0.       ],\n       [0.       , 0.       , 0.       , 0.       , 0.       , 0.       ,\n        0.       , 0.       , 0.       , 0.       , 0.       , 0.       ,\n        0.       , 0.       , 0.       ],\n       [0.       , 0.       , 0.       , 0.       , 0.       , 0.       ,\n        0.       , 0.       , 0.       , 0.       , 0.       , 0.       ,\n        0.       , 0.       , 0.       ]], dtype=float32)"
     },
     "execution_count": 32,
     "metadata": {},
     "output_type": "execute_result"
    }
   ],
   "source": [
    "v__(d=3, c=1)"
   ],
   "metadata": {
    "collapsed": false,
    "pycharm": {
     "name": "#%%\n"
    }
   }
  },
  {
   "cell_type": "code",
   "execution_count": 33,
   "outputs": [],
   "source": [
    "def v___(c):\n",
    "    return sum([v__(d, c) ** 5 for d in range(4)]) ** (1/5.0)"
   ],
   "metadata": {
    "collapsed": false,
    "pycharm": {
     "name": "#%%\n"
    }
   }
  },
  {
   "cell_type": "code",
   "execution_count": 34,
   "outputs": [
    {
     "name": "stdout",
     "output_type": "stream",
     "text": [
      "[[ 0  0  0  0  0  0  0  0  0  0  0  0  0  0  0]\n",
      " [ 0  0  0  0  0  0  0  0  0  0  0  0  0  0  0]\n",
      " [ 0  0  0  0  0  0  0  0  0  0  0  0  0  0  0]\n",
      " [ 0  0  0 31  0  0  0 31  0  0  0 31  0  0  0]\n",
      " [ 0  0  0  0 35  0  0 35  0  0 35  0  0  0  0]\n",
      " [ 0  0  0  0  0 37  0 37  0 37  0  0  0  0  0]\n",
      " [ 0  0  0  0  0  0 39 39 39  0  0  0  0  0  0]\n",
      " [ 0  0  0 31 35 37 39  0 39 37 35 31  0  0  0]\n",
      " [ 0  0  0  0  0  0 39 39 39  0  0  0  0  0  0]\n",
      " [ 0  0  0  0  0 37  0 37  0 37  0  0  0  0  0]\n",
      " [ 0  0  0  0 35  0  0 35  0  0 35  0  0  0  0]\n",
      " [ 0  0  0 31  0  0  0 31  0  0  0 31  0  0  0]\n",
      " [ 0  0  0  0  0  0  0  0  0  0  0  0  0  0  0]\n",
      " [ 0  0  0  0  0  0  0  0  0  0  0  0  0  0  0]\n",
      " [ 0  0  0  0  0  0  0  0  0  0  0  0  0  0  0]]\n"
     ]
    }
   ],
   "source": [
    "v1 = v___(c=1)/32.\n",
    "print((v1*1000).astype(int))"
   ],
   "metadata": {
    "collapsed": false,
    "pycharm": {
     "name": "#%%\n"
    }
   }
  },
  {
   "cell_type": "markdown",
   "source": [
    "The value of a lonely totally free stone, here it's from the stone's owner, which is the 'other' player."
   ],
   "metadata": {
    "collapsed": false,
    "pycharm": {
     "name": "#%% md\n"
    }
   }
  },
  {
   "cell_type": "code",
   "execution_count": 35,
   "outputs": [
    {
     "data": {
      "text/plain": "1.1458299"
     },
     "execution_count": 35,
     "metadata": {},
     "output_type": "execute_result"
    }
   ],
   "source": [
    "np.sum(v1)"
   ],
   "metadata": {
    "collapsed": false,
    "pycharm": {
     "name": "#%%\n"
    }
   }
  },
  {
   "cell_type": "code",
   "execution_count": 36,
   "outputs": [],
   "source": [
    "def values(board):\n",
    "\n",
    "    res = detector(expand(board))\n",
    "    # images of the fourty filters\n",
    "    v = [np.squeeze(peel(tf.expand_dims(res[:, :, :, l], -1))) for l in range(40)]\n",
    "\n",
    "    return [\n",
    "        np.sum(\n",
    "            sum([\n",
    "                sum([\n",
    "                    v[8 * s + 4 * channel + d] ** 6\n",
    "                    for s in range(5)\n",
    "                ])**(5/6.)\n",
    "                for d in range(4)\n",
    "            ]) ** (1/5)\n",
    "        ) / 32.\n",
    "        for channel in range(2)\n",
    "    ]"
   ],
   "metadata": {
    "collapsed": false,
    "pycharm": {
     "name": "#%%\n"
    }
   }
  },
  {
   "cell_type": "code",
   "execution_count": 37,
   "outputs": [
    {
     "data": {
      "text/plain": "[0.0, 1.1458299160003662]"
     },
     "execution_count": 37,
     "metadata": {},
     "output_type": "execute_result"
    }
   ],
   "source": [
    "values(board)"
   ],
   "metadata": {
    "collapsed": false,
    "pycharm": {
     "name": "#%%\n"
    }
   }
  },
  {
   "cell_type": "code",
   "execution_count": 38,
   "outputs": [
    {
     "name": "stdout",
     "output_type": "stream",
     "text": [
      "                                                     \n",
      "15    .  .  .  .  .  .  .  .  .  .  .  .  .  .  .    \n",
      "14    .  .  .  .  .  .  .  .  .  .  .  .  .  .  .    \n",
      "13    .  .  .  .  .  .  .  .  .  .  .  .  .  .  .    \n",
      "12    .  .  .  .  .  .  .  .  .  .  .  .  .  .  .    \n",
      "11    .  .  .  .  .  .  .  .  .  .  .  .  .  .  .    \n",
      "10    .  .  .  .  .  .  .  .  .  .  .  .  .  .  .    \n",
      " 9    .  .  .  .  .  .  .  .  .  .  .  .  .  .  .    \n",
      " 8    .  .  .  .  .  .  . [X] .  .  .  .  .  .  .    \n",
      " 7    .  .  .  .  .  .  .  .  .  .  .  .  .  .  .    \n",
      " 6    .  .  .  .  .  .  .  .  .  .  .  .  .  .  .    \n",
      " 5    .  .  .  .  .  .  .  .  .  .  .  .  .  .  .    \n",
      " 4    .  .  .  .  .  .  .  .  .  .  .  .  .  .  .    \n",
      " 3    .  .  .  .  .  .  .  .  .  .  .  .  .  .  .    \n",
      " 2    .  .  .  .  .  .  .  .  .  .  .  .  .  .  .    \n",
      " 1    .  .  .  .  .  .  .  .  .  .  .  .  .  .  .    \n",
      "                                                     \n",
      "      A  B  C  D  E  F  G  H  I  J  K  L  M  N  O\n"
     ]
    }
   ],
   "source": [
    "board = GomokuBoard(board_size=BOARD_SIZE, stones = 'H8G9I9I8G7F6H7F7H6')\n",
    "board = GomokuBoard(board_size=BOARD_SIZE, stones = 'H8')\n",
    "board.plot()"
   ],
   "metadata": {
    "collapsed": false,
    "pycharm": {
     "name": "#%%\n"
    }
   }
  },
  {
   "cell_type": "code",
   "execution_count": 62,
   "outputs": [
    {
     "name": "stdout",
     "output_type": "stream",
     "text": [
      "                                                     \n",
      "15    .  .  .  .  .  .  .  .  .  .  .  .  .  .  .    \n",
      "14    .  .  .  .  .  .  .  .  .  .  .  .  .  .  .    \n",
      "13    .  .  .  .  .  .  .  .  .  .  .  .  .  .  .    \n",
      "12    .  .  .  .  .  .  .  .  .  .  .  .  .  .  .    \n",
      "11    .  .  .  .  .  .  .  .  .  .  .  .  .  .  .    \n",
      "10    .  .  .  .  .  .  .  .  .  .  .  .  .  .  .    \n",
      " 9    .  .  .  .  .  .  O  .  X  .  .  .  .  .  .    \n",
      " 8    .  .  .  .  .  .  .  X  O  .  .  .  .  .  .    \n",
      " 7    .  .  .  .  .  O  X  X  .  .  .  .  .  .  .    \n",
      " 6    .  .  .  .  .  O  . [X] .  .  .  .  .  .  .    \n",
      " 5    .  .  .  .  .  .  .  .  .  .  .  .  .  .  .    \n",
      " 4    .  .  .  .  .  .  .  .  .  .  .  .  .  .  .    \n",
      " 3    .  .  .  .  .  .  .  .  .  .  .  .  .  .  .    \n",
      " 2    .  .  .  .  .  .  .  .  .  .  .  .  .  .  .    \n",
      " 1    .  .  .  .  .  .  .  .  .  .  .  .  .  .  .    \n",
      "                                                     \n",
      "      A  B  C  D  E  F  G  H  I  J  K  L  M  N  O\n",
      "[[  0   0   0   0   0   0   0   0   0   0   0   0   0   0   0]\n",
      " [  0   0   0   0   0   0   0   0   0   0   0   0   0   0   0]\n",
      " [  0   0   0   0   0   0   0   0   0   0   0   0   0   0   0]\n",
      " [  0   0   0   0   0   0   0   0   0   0   0   0   0   0   0]\n",
      " [  0   0   0   0   0   0   1   0   1   0   7   0   0   0   0]\n",
      " [  0   0   0   0   0   0   0  89   1   7   0   0   0   0   0]\n",
      " [  0   0   0   0  13  16   0 266   0   1   0   0   0   0   0]\n",
      " [  0   0   0   1   1 254   3   0   0   2   0   0   0   0   0]\n",
      " [  0   0   0   0   0   0   0   0   7  11   0   0   0   0   0]\n",
      " [  0   0   0   0   0   0   3   0   1   0   1   0   0   0   0]\n",
      " [  0   0   0   0   0  14   3 157  14   0   0   0   0   0   0]\n",
      " [  0   0   0   0   0  15   0  78   0   1   0   0   0   0   0]\n",
      " [  0   0   0   0   0   0   0   0   0   0   0   0   0   0   0]\n",
      " [  0   0   0   0   0   0   0   0   0   0   0   0   0   0   0]\n",
      " [  0   0   0   0   0   0   0   0   0   0   0   0   0   0   0]]\n"
     ]
    }
   ],
   "source": [
    "from aegomoku.policies.topological_value import TopologicalValuePolicy\n",
    "\n",
    "policy = TopologicalValuePolicy(kappa_s=6, kappa_d=5)\n",
    "st = 'H8G9I9I8G7F6H7F7H6'\n",
    "board = GomokuBoard(board_size=BOARD_SIZE, stones = st)\n",
    "board.plot()\n",
    "state = board.canonical_representation()\n",
    "f_c = (policy.field(state, channel=0)*100).astype(int)\n",
    "f_o = (policy.field(state, channel=1)*100).astype(int)\n",
    "p = f_o + f_c\n",
    "# print(tf.keras.activations.relu(p - (np.max(p) * .3).astype(int)).numpy())\n",
    "def probs():\n",
    "    f_c = policy.field(state, channel=0)\n",
    "    f_o = policy.field(state, channel=1)\n",
    "    signal = f_o + f_c\n",
    "    signal = np.reshape(signal, -1)\n",
    "    signal = tf.keras.activations.relu(tf.keras.layers.Softmax()(2 * signal))\n",
    "    noise = np.min(signal, axis=None)\n",
    "    signal = tf.keras.activations.relu(signal - 1.1 * noise)\n",
    "    return np.reshape(signal, [BOARD_SIZE, BOARD_SIZE])\n",
    "\n",
    "print((probs()*1000).astype(int))"
   ],
   "metadata": {
    "collapsed": false,
    "pycharm": {
     "name": "#%%\n"
    }
   }
  },
  {
   "cell_type": "code",
   "execution_count": 63,
   "outputs": [],
   "source": [
    "probs, v = policy.evaluate(state)"
   ],
   "metadata": {
    "collapsed": false,
    "pycharm": {
     "name": "#%%\n"
    }
   }
  },
  {
   "cell_type": "code",
   "execution_count": 64,
   "outputs": [
    {
     "name": "stdout",
     "output_type": "stream",
     "text": [
      "[[  0   0   0   0   0   0   0   0   0   0   0   0   0   0   0]\n",
      " [  0   0   0   0   0   0   0   0   0   0   0   0   0   0   0]\n",
      " [  0   0   0   0   0   0   0   0   0   0   0   0   0   0   0]\n",
      " [  0   0   0   0   0   0   0   0   0   0   0   0   0   0   0]\n",
      " [  0   0   0   0   0   0   1   0   1   0   7   0   0   0   0]\n",
      " [  0   0   0   0   0   0   0  89   1   7   0   0   0   0   0]\n",
      " [  0   0   0   0  13  16   0 266   0   1   0   0   0   0   0]\n",
      " [  0   0   0   1   1 254   3   0   0   2   0   0   0   0   0]\n",
      " [  0   0   0   0   0   0   0   0   7  11   0   0   0   0   0]\n",
      " [  0   0   0   0   0   0   3   0   1   0   1   0   0   0   0]\n",
      " [  0   0   0   0   0  14   3 157  14   0   0   0   0   0   0]\n",
      " [  0   0   0   0   0  15   0  78   0   1   0   0   0   0   0]\n",
      " [  0   0   0   0   0   0   0   0   0   0   0   0   0   0   0]\n",
      " [  0   0   0   0   0   0   0   0   0   0   0   0   0   0   0]\n",
      " [  0   0   0   0   0   0   0   0   0   0   0   0   0   0   0]]\n",
      "tf.Tensor(-0.2551442921915841, shape=(), dtype=float64)\n"
     ]
    }
   ],
   "source": [
    "print((np.reshape(probs, (BOARD_SIZE, BOARD_SIZE))*999).astype(int))\n",
    "print(v)"
   ],
   "metadata": {
    "collapsed": false,
    "pycharm": {
     "name": "#%%\n"
    }
   }
  },
  {
   "cell_type": "code",
   "execution_count": 61,
   "outputs": [
    {
     "data": {
      "text/plain": "[H10, H9, I9, F8, G8, G7, E9, L4]"
     },
     "execution_count": 61,
     "metadata": {},
     "output_type": "execute_result"
    }
   ],
   "source": [
    "advice = policy.get_advisable_actions(state)\n",
    "[board.Stone(i) for i in advice]"
   ],
   "metadata": {
    "collapsed": false,
    "pycharm": {
     "name": "#%%\n"
    }
   }
  },
  {
   "cell_type": "code",
   "execution_count": null,
   "outputs": [],
   "source": [
    "all_but_noise = policy.get_advisable_actions(state, cut_off=0)"
   ],
   "metadata": {
    "collapsed": false,
    "pycharm": {
     "name": "#%%\n"
    }
   }
  },
  {
   "cell_type": "code",
   "execution_count": 86,
   "outputs": [],
   "source": [
    "secondary = set(all_but_noise).difference(set(best))"
   ],
   "metadata": {
    "collapsed": false,
    "pycharm": {
     "name": "#%%\n"
    }
   }
  },
  {
   "cell_type": "code",
   "execution_count": 90,
   "outputs": [
    {
     "name": "stdout",
     "output_type": "stream",
     "text": [
      "{128, 138, 140, 141, 142, 144, 152, 154, 156, 157, 32, 160, 36, 40, 168, 172, 48, 176, 51, 52, 54, 56, 64, 66, 67, 68, 70, 80, 81, 84, 92, 93, 94, 95, 99, 100, 108, 109, 113, 114, 115, 116, 124, 127}\n"
     ]
    }
   ],
   "source": [
    "print(secondary)"
   ],
   "metadata": {
    "collapsed": false,
    "pycharm": {
     "name": "#%%\n"
    }
   }
  },
  {
   "cell_type": "code",
   "execution_count": 83,
   "outputs": [
    {
     "data": {
      "text/plain": "[82, 97, 98, 110, 111, 126]"
     },
     "execution_count": 83,
     "metadata": {},
     "output_type": "execute_result"
    }
   ],
   "source": [
    "best"
   ],
   "metadata": {
    "collapsed": false,
    "pycharm": {
     "name": "#%%\n"
    }
   }
  },
  {
   "cell_type": "code",
   "execution_count": 89,
   "outputs": [
    {
     "data": {
      "text/plain": "<tf.Tensor: shape=(44,), dtype=float32, numpy=\narray([0.02270058, 0.02273311, 0.02275859, 0.02273311, 0.02275859,\n       0.02270058, 0.02270058, 0.02273311, 0.02270058, 0.02273311,\n       0.02270058, 0.02270058, 0.02270058, 0.02270058, 0.02270058,\n       0.02270058, 0.02270058, 0.02270058, 0.02273311, 0.02270058,\n       0.02273311, 0.02270058, 0.02270058, 0.02275859, 0.02273311,\n       0.02275859, 0.02273311, 0.02270058, 0.02278058, 0.02275859,\n       0.02270058, 0.02273311, 0.02275859, 0.02278058, 0.02273311,\n       0.02270058, 0.02270058, 0.02273311, 0.02278058, 0.02275859,\n       0.02273311, 0.02270058, 0.02275859, 0.02278058], dtype=float32)>"
     },
     "execution_count": 89,
     "metadata": {},
     "output_type": "execute_result"
    }
   ],
   "source": [
    "tf.nn.softmax(probs[list(secondary)])"
   ],
   "metadata": {
    "collapsed": false,
    "pycharm": {
     "name": "#%%\n"
    }
   }
  },
  {
   "cell_type": "code",
   "execution_count": 91,
   "outputs": [
    {
     "data": {
      "text/plain": "array([0.00516028, 0.00659239, 0.00771268, 0.00659239, 0.00771268,\n       0.00516028, 0.00516028, 0.00659239, 0.00516028, 0.00659239,\n       0.00516028, 0.00516028, 0.00516028, 0.00516028, 0.00516028,\n       0.00516028, 0.00516028, 0.00516028, 0.00659239, 0.00516028,\n       0.00659239, 0.00516028, 0.00516028, 0.00771268, 0.00659239,\n       0.00771268, 0.00659239, 0.00516028, 0.00867837, 0.00771268,\n       0.00516028, 0.00659239, 0.00771268, 0.00867837, 0.00659239,\n       0.00516028, 0.00516028, 0.00659239, 0.00867837, 0.00771268,\n       0.00659239, 0.00516028, 0.00771268, 0.00867837], dtype=float32)"
     },
     "execution_count": 91,
     "metadata": {},
     "output_type": "execute_result"
    }
   ],
   "source": [
    "probs[list(secondary)]"
   ],
   "metadata": {
    "collapsed": false,
    "pycharm": {
     "name": "#%%\n"
    }
   }
  },
  {
   "cell_type": "code",
   "execution_count": 107,
   "outputs": [],
   "source": [
    "max_p = max(probs[list(secondary)])\n",
    "secondary_probs = tf.nn.softmax(10 * probs[list(secondary)] / max_p)"
   ],
   "metadata": {
    "collapsed": false,
    "pycharm": {
     "name": "#%%\n"
    }
   }
  },
  {
   "cell_type": "code",
   "execution_count": 109,
   "outputs": [],
   "source": [
    "sum_probs = sum(secondary_probs.numpy())\n",
    "secondary_probs /= sum_probs"
   ],
   "metadata": {
    "collapsed": false,
    "pycharm": {
     "name": "#%%\n"
    }
   }
  },
  {
   "cell_type": "code",
   "execution_count": null,
   "outputs": [],
   "source": [],
   "metadata": {
    "collapsed": false,
    "pycharm": {
     "name": "#%%\n"
    }
   }
  },
  {
   "cell_type": "code",
   "execution_count": null,
   "outputs": [],
   "source": [],
   "metadata": {
    "collapsed": false,
    "pycharm": {
     "name": "#%%\n"
    }
   }
  },
  {
   "cell_type": "code",
   "execution_count": 116,
   "outputs": [
    {
     "data": {
      "text/plain": "array([ 94, 114,  81])"
     },
     "execution_count": 116,
     "metadata": {},
     "output_type": "execute_result"
    }
   ],
   "source": [
    "np.random.choice(list(secondary), size=3, p=secondary_probs)"
   ],
   "metadata": {
    "collapsed": false,
    "pycharm": {
     "name": "#%%\n"
    }
   }
  },
  {
   "cell_type": "code",
   "execution_count": null,
   "outputs": [],
   "source": [],
   "metadata": {
    "collapsed": false,
    "pycharm": {
     "name": "#%%\n"
    }
   }
  },
  {
   "cell_type": "code",
   "execution_count": null,
   "outputs": [],
   "source": [],
   "metadata": {
    "collapsed": false,
    "pycharm": {
     "name": "#%%\n"
    }
   }
  },
  {
   "cell_type": "code",
   "execution_count": null,
   "outputs": [],
   "source": [
    "board = GomokuBoard(board_size=BOARD_SIZE, stones = 'H8')"
   ],
   "metadata": {
    "collapsed": false,
    "pycharm": {
     "name": "#%%\n"
    }
   }
  },
  {
   "cell_type": "code",
   "execution_count": 198,
   "outputs": [
    {
     "name": "stdout",
     "output_type": "stream",
     "text": [
      "                                                     \n",
      "15    .  .  .  .  .  .  .  .  .  .  .  .  .  .  .    \n",
      "14    .  .  .  .  .  .  .  .  .  .  .  .  .  .  .    \n",
      "13    .  .  .  .  .  .  .  .  .  .  .  .  .  .  .    \n",
      "12    .  .  .  .  .  .  .  .  .  .  .  .  .  .  .    \n",
      "11    .  .  .  .  .  .  .  .  .  .  .  .  .  .  .    \n",
      "10    .  .  .  .  .  .  .  .  .  .  .  .  .  .  .    \n",
      " 9    .  .  .  .  .  . [O] .  .  .  .  .  .  .  .    \n",
      " 8    .  .  .  .  .  .  .  X  .  .  .  .  .  .  .    \n",
      " 7    .  .  .  .  .  .  .  .  .  .  .  .  .  .  .    \n",
      " 6    .  .  .  .  .  .  .  .  .  .  .  .  .  .  .    \n",
      " 5    .  .  .  .  .  .  .  .  .  .  .  .  .  .  .    \n",
      " 4    .  .  .  .  .  .  .  .  .  .  .  .  .  .  .    \n",
      " 3    .  .  .  .  .  .  .  .  .  .  .  .  .  .  .    \n",
      " 2    .  .  .  .  .  .  .  .  .  .  .  .  .  .  .    \n",
      " 1    .  .  .  .  .  .  .  .  .  .  .  .  .  .  .    \n",
      "                                                     \n",
      "      A  B  C  D  E  F  G  H  I  J  K  L  M  N  O\n"
     ]
    },
    {
     "data": {
      "text/plain": "[0.9843724966049194, 0.9843724966049194]"
     },
     "execution_count": 198,
     "metadata": {},
     "output_type": "execute_result"
    }
   ],
   "source": [
    "board.act(6,6).plot()\n",
    "values(board)"
   ],
   "metadata": {
    "collapsed": false,
    "pycharm": {
     "name": "#%%\n"
    }
   }
  },
  {
   "cell_type": "code",
   "execution_count": 199,
   "outputs": [
    {
     "name": "stdout",
     "output_type": "stream",
     "text": [
      "                                                     \n",
      "15    .  .  .  .  .  .  .  .  .  .  .  .  .  .  .    \n",
      "14    .  .  .  .  .  .  .  .  .  .  .  .  .  .  .    \n",
      "13    .  .  .  .  .  .  .  .  .  .  .  .  .  .  .    \n",
      "12    .  .  .  .  .  .  .  .  .  .  .  .  .  .  .    \n",
      "11    .  .  .  .  .  .  .  .  .  .  .  .  .  .  .    \n",
      "10    .  .  .  .  .  .  .  .  .  .  .  .  .  .  .    \n",
      " 9    .  .  .  .  .  .  O  . [X] .  .  .  .  .  .    \n",
      " 8    .  .  .  .  .  .  .  X  .  .  .  .  .  .  .    \n",
      " 7    .  .  .  .  .  .  .  .  .  .  .  .  .  .  .    \n",
      " 6    .  .  .  .  .  .  .  .  .  .  .  .  .  .  .    \n",
      " 5    .  .  .  .  .  .  .  .  .  .  .  .  .  .  .    \n",
      " 4    .  .  .  .  .  .  .  .  .  .  .  .  .  .  .    \n",
      " 3    .  .  .  .  .  .  .  .  .  .  .  .  .  .  .    \n",
      " 2    .  .  .  .  .  .  .  .  .  .  .  .  .  .  .    \n",
      " 1    .  .  .  .  .  .  .  .  .  .  .  .  .  .  .    \n",
      "                                                     \n",
      "      A  B  C  D  E  F  G  H  I  J  K  L  M  N  O\n"
     ]
    },
    {
     "data": {
      "text/plain": "[0.8656457662582397, 1.7605684995651245]"
     },
     "execution_count": 199,
     "metadata": {},
     "output_type": "execute_result"
    }
   ],
   "source": [
    "board.act(6,8).plot()\n",
    "values(board)"
   ],
   "metadata": {
    "collapsed": false,
    "pycharm": {
     "name": "#%%\n"
    }
   }
  },
  {
   "cell_type": "code",
   "execution_count": 200,
   "outputs": [
    {
     "name": "stdout",
     "output_type": "stream",
     "text": [
      "                                                     \n",
      "15    .  .  .  .  .  .  .  .  .  .  .  .  .  .  .    \n",
      "14    .  .  .  .  .  .  .  .  .  .  .  .  .  .  .    \n",
      "13    .  .  .  .  .  .  .  .  .  .  .  .  .  .  .    \n",
      "12    .  .  .  .  .  .  .  .  .  .  .  .  .  .  .    \n",
      "11    .  .  .  .  .  .  .  .  .  .  .  .  .  .  .    \n",
      "10    .  .  .  .  .  .  .  .  .  .  .  .  .  .  .    \n",
      " 9    .  .  .  .  .  .  O  .  X  .  .  .  .  .  .    \n",
      " 8    .  .  .  .  .  .  .  X [O] .  .  .  .  .  .    \n",
      " 7    .  .  .  .  .  .  .  .  .  .  .  .  .  .  .    \n",
      " 6    .  .  .  .  .  .  .  .  .  .  .  .  .  .  .    \n",
      " 5    .  .  .  .  .  .  .  .  .  .  .  .  .  .  .    \n",
      " 4    .  .  .  .  .  .  .  .  .  .  .  .  .  .  .    \n",
      " 3    .  .  .  .  .  .  .  .  .  .  .  .  .  .  .    \n",
      " 2    .  .  .  .  .  .  .  .  .  .  .  .  .  .  .    \n",
      " 1    .  .  .  .  .  .  .  .  .  .  .  .  .  .  .    \n",
      "                                                     \n",
      "      A  B  C  D  E  F  G  H  I  J  K  L  M  N  O\n"
     ]
    },
    {
     "data": {
      "text/plain": "[1.5324900150299072, 1.596034288406372]"
     },
     "execution_count": 200,
     "metadata": {},
     "output_type": "execute_result"
    }
   ],
   "source": [
    "board.act(7,8).plot()\n",
    "values(board)"
   ],
   "metadata": {
    "collapsed": false,
    "pycharm": {
     "name": "#%%\n"
    }
   }
  },
  {
   "cell_type": "code",
   "execution_count": 201,
   "outputs": [
    {
     "name": "stdout",
     "output_type": "stream",
     "text": [
      "                                                     \n",
      "15    .  .  .  .  .  .  .  .  .  .  .  .  .  .  .    \n",
      "14    .  .  .  .  .  .  .  .  .  .  .  .  .  .  .    \n",
      "13    .  .  .  .  .  .  .  .  .  .  .  .  .  .  .    \n",
      "12    .  .  .  .  .  .  .  .  .  .  .  .  .  .  .    \n",
      "11    .  .  .  .  .  .  .  .  .  .  .  .  .  .  .    \n",
      "10    .  .  .  .  .  .  .  .  .  .  .  .  .  .  .    \n",
      " 9    .  .  .  .  .  .  O  .  X  .  .  .  .  .  .    \n",
      " 8    .  .  .  .  .  .  .  X  O  .  .  .  .  .  .    \n",
      " 7    .  .  .  .  .  . [X] .  .  .  .  .  .  .  .    \n",
      " 6    .  .  .  .  .  .  .  .  .  .  .  .  .  .  .    \n",
      " 5    .  .  .  .  .  .  .  .  .  .  .  .  .  .  .    \n",
      " 4    .  .  .  .  .  .  .  .  .  .  .  .  .  .  .    \n",
      " 3    .  .  .  .  .  .  .  .  .  .  .  .  .  .  .    \n",
      " 2    .  .  .  .  .  .  .  .  .  .  .  .  .  .  .    \n",
      " 1    .  .  .  .  .  .  .  .  .  .  .  .  .  .  .    \n",
      "                                                     \n",
      "      A  B  C  D  E  F  G  H  I  J  K  L  M  N  O\n"
     ]
    },
    {
     "data": {
      "text/plain": "[1.5099903345108032, 2.205475091934204]"
     },
     "execution_count": 201,
     "metadata": {},
     "output_type": "execute_result"
    }
   ],
   "source": [
    "board.act(8,6).plot()\n",
    "values(board)"
   ],
   "metadata": {
    "collapsed": false,
    "pycharm": {
     "name": "#%%\n"
    }
   }
  },
  {
   "cell_type": "code",
   "execution_count": 202,
   "outputs": [
    {
     "name": "stdout",
     "output_type": "stream",
     "text": [
      "                                                     \n",
      "15    .  .  .  .  .  .  .  .  .  .  .  .  .  .  .    \n",
      "14    .  .  .  .  .  .  .  .  .  .  .  .  .  .  .    \n",
      "13    .  .  .  .  .  .  .  .  .  .  .  .  .  .  .    \n",
      "12    .  .  .  .  .  .  .  .  .  .  .  .  .  .  .    \n",
      "11    .  .  .  .  .  .  .  .  .  .  .  .  .  .  .    \n",
      "10    .  .  .  .  .  .  .  .  .  .  .  .  .  .  .    \n",
      " 9    .  .  .  .  .  .  O  .  X  .  .  .  .  .  .    \n",
      " 8    .  .  .  .  .  .  .  X  O  .  .  .  .  .  .    \n",
      " 7    .  .  .  .  .  .  X  .  .  .  .  .  .  .  .    \n",
      " 6    .  .  .  .  . [O] .  .  .  .  .  .  .  .  .    \n",
      " 5    .  .  .  .  .  .  .  .  .  .  .  .  .  .  .    \n",
      " 4    .  .  .  .  .  .  .  .  .  .  .  .  .  .  .    \n",
      " 3    .  .  .  .  .  .  .  .  .  .  .  .  .  .  .    \n",
      " 2    .  .  .  .  .  .  .  .  .  .  .  .  .  .  .    \n",
      " 1    .  .  .  .  .  .  .  .  .  .  .  .  .  .  .    \n",
      "                                                     \n",
      "      A  B  C  D  E  F  G  H  I  J  K  L  M  N  O\n"
     ]
    },
    {
     "data": {
      "text/plain": "[1.8995661735534668, 2.2216696739196777]"
     },
     "execution_count": 202,
     "metadata": {},
     "output_type": "execute_result"
    }
   ],
   "source": [
    "board.act(9,5).plot()\n",
    "values(board)"
   ],
   "metadata": {
    "collapsed": false,
    "pycharm": {
     "name": "#%%\n"
    }
   }
  },
  {
   "cell_type": "code",
   "execution_count": 203,
   "outputs": [
    {
     "name": "stdout",
     "output_type": "stream",
     "text": [
      "                                                     \n",
      "15    .  .  .  .  .  .  .  .  .  .  .  .  .  .  .    \n",
      "14    .  .  .  .  .  .  .  .  .  .  .  .  .  .  .    \n",
      "13    .  .  .  .  .  .  .  .  .  .  .  .  .  .  .    \n",
      "12    .  .  .  .  .  .  .  .  .  .  .  .  .  .  .    \n",
      "11    .  .  .  .  .  .  .  .  .  .  .  .  .  .  .    \n",
      "10    .  .  .  .  .  .  .  .  .  .  .  .  .  .  .    \n",
      " 9    .  .  .  .  .  .  O  .  X  .  .  .  .  .  .    \n",
      " 8    .  .  .  .  .  .  .  X  O  .  .  .  .  .  .    \n",
      " 7    .  .  .  .  .  .  X [X] .  .  .  .  .  .  .    \n",
      " 6    .  .  .  .  .  O  .  .  .  .  .  .  .  .  .    \n",
      " 5    .  .  .  .  .  .  .  .  .  .  .  .  .  .  .    \n",
      " 4    .  .  .  .  .  .  .  .  .  .  .  .  .  .  .    \n",
      " 3    .  .  .  .  .  .  .  .  .  .  .  .  .  .  .    \n",
      " 2    .  .  .  .  .  .  .  .  .  .  .  .  .  .  .    \n",
      " 1    .  .  .  .  .  .  .  .  .  .  .  .  .  .  .    \n",
      "                                                     \n",
      "      A  B  C  D  E  F  G  H  I  J  K  L  M  N  O\n"
     ]
    },
    {
     "data": {
      "text/plain": "[2.124302864074707, 2.6444621086120605]"
     },
     "execution_count": 203,
     "metadata": {},
     "output_type": "execute_result"
    }
   ],
   "source": [
    "board.act(8,7).plot()\n",
    "values(board)"
   ],
   "metadata": {
    "collapsed": false,
    "pycharm": {
     "name": "#%%\n"
    }
   }
  },
  {
   "cell_type": "code",
   "execution_count": 204,
   "outputs": [
    {
     "name": "stdout",
     "output_type": "stream",
     "text": [
      "                                                     \n",
      "15    .  .  .  .  .  .  .  .  .  .  .  .  .  .  .    \n",
      "14    .  .  .  .  .  .  .  .  .  .  .  .  .  .  .    \n",
      "13    .  .  .  .  .  .  .  .  .  .  .  .  .  .  .    \n",
      "12    .  .  .  .  .  .  .  .  .  .  .  .  .  .  .    \n",
      "11    .  .  .  .  .  .  .  .  .  .  .  .  .  .  .    \n",
      "10    .  .  .  .  .  .  .  .  .  .  .  .  .  .  .    \n",
      " 9    .  .  .  .  .  .  O  .  X  .  .  .  .  .  .    \n",
      " 8    .  .  .  .  .  .  .  X  O  .  .  .  .  .  .    \n",
      " 7    .  .  .  .  . [O] X  X  .  .  .  .  .  .  .    \n",
      " 6    .  .  .  .  .  O  .  .  .  .  .  .  .  .  .    \n",
      " 5    .  .  .  .  .  .  .  .  .  .  .  .  .  .  .    \n",
      " 4    .  .  .  .  .  .  .  .  .  .  .  .  .  .  .    \n",
      " 3    .  .  .  .  .  .  .  .  .  .  .  .  .  .  .    \n",
      " 2    .  .  .  .  .  .  .  .  .  .  .  .  .  .  .    \n",
      " 1    .  .  .  .  .  .  .  .  .  .  .  .  .  .  .    \n",
      "                                                     \n",
      "      A  B  C  D  E  F  G  H  I  J  K  L  M  N  O\n"
     ]
    },
    {
     "data": {
      "text/plain": "[2.3853323459625244, 2.7530932426452637]"
     },
     "execution_count": 204,
     "metadata": {},
     "output_type": "execute_result"
    }
   ],
   "source": [
    "board.act(8,5).plot()\n",
    "values(board)"
   ],
   "metadata": {
    "collapsed": false,
    "pycharm": {
     "name": "#%%\n"
    }
   }
  },
  {
   "cell_type": "code",
   "execution_count": 205,
   "outputs": [
    {
     "name": "stdout",
     "output_type": "stream",
     "text": [
      "                                                     \n",
      "15    .  .  .  .  .  .  .  .  .  .  .  .  .  .  .    \n",
      "14    .  .  .  .  .  .  .  .  .  .  .  .  .  .  .    \n",
      "13    .  .  .  .  .  .  .  .  .  .  .  .  .  .  .    \n",
      "12    .  .  .  .  .  .  .  .  .  .  .  .  .  .  .    \n",
      "11    .  .  .  .  .  .  .  .  .  .  .  .  .  .  .    \n",
      "10    .  .  .  .  .  .  .  .  .  .  .  .  .  .  .    \n",
      " 9    .  .  .  .  .  .  O  .  X  .  .  .  .  .  .    \n",
      " 8    .  .  .  .  .  .  .  X  O  .  .  .  .  .  .    \n",
      " 7    .  .  .  .  .  O  X  X  .  .  .  .  .  .  .    \n",
      " 6    .  .  .  .  .  O  . [X] .  .  .  .  .  .  .    \n",
      " 5    .  .  .  .  .  .  .  .  .  .  .  .  .  .  .    \n",
      " 4    .  .  .  .  .  .  .  .  .  .  .  .  .  .  .    \n",
      " 3    .  .  .  .  .  .  .  .  .  .  .  .  .  .  .    \n",
      " 2    .  .  .  .  .  .  .  .  .  .  .  .  .  .  .    \n",
      " 1    .  .  .  .  .  .  .  .  .  .  .  .  .  .  .    \n",
      "                                                     \n",
      "      A  B  C  D  E  F  G  H  I  J  K  L  M  N  O\n"
     ]
    },
    {
     "data": {
      "text/plain": "[2.669891357421875, 2.9307990074157715]"
     },
     "execution_count": 205,
     "metadata": {},
     "output_type": "execute_result"
    }
   ],
   "source": [
    "board.act(9,7).plot()\n",
    "values(board)"
   ],
   "metadata": {
    "collapsed": false,
    "pycharm": {
     "name": "#%%\n"
    }
   }
  },
  {
   "cell_type": "code",
   "execution_count": 192,
   "outputs": [
    {
     "name": "stdout",
     "output_type": "stream",
     "text": [
      "                                                     \n",
      "15    .  .  .  .  .  .  .  .  .  .  .  .  .  .  .    \n",
      "14    .  .  .  .  .  .  .  .  .  .  .  .  .  .  .    \n",
      "13    .  .  .  .  .  .  .  .  .  .  .  .  .  .  .    \n",
      "12    .  .  .  .  .  .  .  .  .  .  .  .  .  .  .    \n",
      "11    .  .  .  .  .  .  .  .  .  .  .  .  .  .  .    \n",
      "10    .  .  .  .  .  .  .  .  .  .  .  .  .  .  .    \n",
      " 9    .  .  .  .  .  . [O] .  .  .  .  .  .  .  .    \n",
      " 8    .  .  .  .  .  .  .  X  .  .  .  .  .  .  .    \n",
      " 7    .  .  .  .  .  .  .  .  .  .  .  .  .  .  .    \n",
      " 6    .  .  .  .  .  .  .  .  .  .  .  .  .  .  .    \n",
      " 5    .  .  .  .  .  .  .  .  .  .  .  .  .  .  .    \n",
      " 4    .  .  .  .  .  .  .  .  .  .  .  .  .  .  .    \n",
      " 3    .  .  .  .  .  .  .  .  .  .  .  .  .  .  .    \n",
      " 2    .  .  .  .  .  .  .  .  .  .  .  .  .  .  .    \n",
      " 1    .  .  .  .  .  .  .  .  .  .  .  .  .  .  .    \n",
      "                                                     \n",
      "      A  B  C  D  E  F  G  H  I  J  K  L  M  N  O\n"
     ]
    },
    {
     "data": {
      "text/plain": "[0.9843724966049194, 0.9843724966049194]"
     },
     "execution_count": 192,
     "metadata": {},
     "output_type": "execute_result"
    }
   ],
   "source": [
    "board.act(6,6).plot()\n",
    "values(board)"
   ],
   "metadata": {
    "collapsed": false,
    "pycharm": {
     "name": "#%%\n"
    }
   }
  },
  {
   "cell_type": "code",
   "execution_count": 192,
   "outputs": [
    {
     "name": "stdout",
     "output_type": "stream",
     "text": [
      "                                                     \n",
      "15    .  .  .  .  .  .  .  .  .  .  .  .  .  .  .    \n",
      "14    .  .  .  .  .  .  .  .  .  .  .  .  .  .  .    \n",
      "13    .  .  .  .  .  .  .  .  .  .  .  .  .  .  .    \n",
      "12    .  .  .  .  .  .  .  .  .  .  .  .  .  .  .    \n",
      "11    .  .  .  .  .  .  .  .  .  .  .  .  .  .  .    \n",
      "10    .  .  .  .  .  .  .  .  .  .  .  .  .  .  .    \n",
      " 9    .  .  .  .  .  . [O] .  .  .  .  .  .  .  .    \n",
      " 8    .  .  .  .  .  .  .  X  .  .  .  .  .  .  .    \n",
      " 7    .  .  .  .  .  .  .  .  .  .  .  .  .  .  .    \n",
      " 6    .  .  .  .  .  .  .  .  .  .  .  .  .  .  .    \n",
      " 5    .  .  .  .  .  .  .  .  .  .  .  .  .  .  .    \n",
      " 4    .  .  .  .  .  .  .  .  .  .  .  .  .  .  .    \n",
      " 3    .  .  .  .  .  .  .  .  .  .  .  .  .  .  .    \n",
      " 2    .  .  .  .  .  .  .  .  .  .  .  .  .  .  .    \n",
      " 1    .  .  .  .  .  .  .  .  .  .  .  .  .  .  .    \n",
      "                                                     \n",
      "      A  B  C  D  E  F  G  H  I  J  K  L  M  N  O\n"
     ]
    },
    {
     "data": {
      "text/plain": "[0.9843724966049194, 0.9843724966049194]"
     },
     "execution_count": 192,
     "metadata": {},
     "output_type": "execute_result"
    }
   ],
   "source": [
    "board.act(6,6).plot()\n",
    "values(board)"
   ],
   "metadata": {
    "collapsed": false,
    "pycharm": {
     "name": "#%%\n"
    }
   }
  },
  {
   "cell_type": "code",
   "execution_count": 192,
   "outputs": [
    {
     "name": "stdout",
     "output_type": "stream",
     "text": [
      "                                                     \n",
      "15    .  .  .  .  .  .  .  .  .  .  .  .  .  .  .    \n",
      "14    .  .  .  .  .  .  .  .  .  .  .  .  .  .  .    \n",
      "13    .  .  .  .  .  .  .  .  .  .  .  .  .  .  .    \n",
      "12    .  .  .  .  .  .  .  .  .  .  .  .  .  .  .    \n",
      "11    .  .  .  .  .  .  .  .  .  .  .  .  .  .  .    \n",
      "10    .  .  .  .  .  .  .  .  .  .  .  .  .  .  .    \n",
      " 9    .  .  .  .  .  . [O] .  .  .  .  .  .  .  .    \n",
      " 8    .  .  .  .  .  .  .  X  .  .  .  .  .  .  .    \n",
      " 7    .  .  .  .  .  .  .  .  .  .  .  .  .  .  .    \n",
      " 6    .  .  .  .  .  .  .  .  .  .  .  .  .  .  .    \n",
      " 5    .  .  .  .  .  .  .  .  .  .  .  .  .  .  .    \n",
      " 4    .  .  .  .  .  .  .  .  .  .  .  .  .  .  .    \n",
      " 3    .  .  .  .  .  .  .  .  .  .  .  .  .  .  .    \n",
      " 2    .  .  .  .  .  .  .  .  .  .  .  .  .  .  .    \n",
      " 1    .  .  .  .  .  .  .  .  .  .  .  .  .  .  .    \n",
      "                                                     \n",
      "      A  B  C  D  E  F  G  H  I  J  K  L  M  N  O\n"
     ]
    },
    {
     "data": {
      "text/plain": "[0.9843724966049194, 0.9843724966049194]"
     },
     "execution_count": 192,
     "metadata": {},
     "output_type": "execute_result"
    }
   ],
   "source": [
    "board.act(6,6).plot()\n",
    "values(board)"
   ],
   "metadata": {
    "collapsed": false,
    "pycharm": {
     "name": "#%%\n"
    }
   }
  },
  {
   "cell_type": "code",
   "execution_count": null,
   "outputs": [],
   "source": [],
   "metadata": {
    "collapsed": false,
    "pycharm": {
     "name": "#%%\n"
    }
   }
  }
 ],
 "metadata": {
  "kernelspec": {
   "display_name": "Python 3",
   "language": "python",
   "name": "python3"
  },
  "language_info": {
   "codemirror_mode": {
    "name": "ipython",
    "version": 2
   },
   "file_extension": ".py",
   "mimetype": "text/x-python",
   "name": "python",
   "nbconvert_exporter": "python",
   "pygments_lexer": "ipython2",
   "version": "2.7.6"
  }
 },
 "nbformat": 4,
 "nbformat_minor": 0
}