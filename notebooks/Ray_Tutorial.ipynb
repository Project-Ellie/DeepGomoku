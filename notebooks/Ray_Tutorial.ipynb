{
 "cells": [
  {
   "cell_type": "markdown",
   "source": [
    "# Efficient Parallel Task Execuition with *ray*\n",
    "Since *ray.Pool*s appear to be batched and hence always wait for the longest task to finish, we need a more efficient way.\n",
    "\n",
    "We have seen that policy evaluation doesn't vary in duration so much, so round robin is a good strategy for that use case. However, trajectory evaluation varies greatly. But the evaluation can be executed in a non-functional way. Workers don't need to return the result to the caller. They can instead store the result anywhere. Overall task termination status can be polled in a classical check-and-wait loop. The approach illustrated in this little tutorial takes little more that the average time over all task executions, i.e. it is almost perfectly efficient. Hence we'll implement that approach for the self play actors."
   ],
   "metadata": {
    "collapsed": false,
    "pycharm": {
     "name": "#%% md\n"
    }
   }
  },
  {
   "cell_type": "code",
   "execution_count": 1,
   "outputs": [],
   "source": [
    "import ray\n",
    "from alphazero.ray.generic import TaskMonitor, RayFilePickler, SimpleCountingDispatcher\n",
    "from alphazero.gomoku_game import RandomBoardInitializer, GomokuGame\n",
    "from alphazero.interfaces import MctsParams, PolicySpec\n",
    "from alphazero.self_play import SelfPlay\n",
    "from alphazero.policies.ray_impl import HeuristicRayPolicy\n",
    "from alphazero.ray.trainer import create_pool, PolicyRef, SelfPlayDelegator"
   ],
   "metadata": {
    "collapsed": false,
    "pycharm": {
     "name": "#%%\n"
    }
   }
  },
  {
   "cell_type": "markdown",
   "source": [
    "### Some Dummy implementations\n",
    "Workers pick up tasks from a common dispatcher and provide the result to the collector. The dispatcher acts as common counter, but it could as well enumerate input resources."
   ],
   "metadata": {
    "collapsed": false,
    "pycharm": {
     "name": "#%% md\n"
    }
   }
  },
  {
   "cell_type": "code",
   "execution_count": 2,
   "outputs": [],
   "source": [
    "import uuid\n",
    "import time\n",
    "\n",
    "@ray.remote\n",
    "class Worker:\n",
    "    def __init__(self, wid, dispatcher, collector):\n",
    "        self.wid = wid\n",
    "        self.collector = collector\n",
    "        self.dispatcher = dispatcher\n",
    "\n",
    "    def init(self, *args, **kwargs):\n",
    "        pass\n",
    "\n",
    "    def work(self):\n",
    "        \"\"\"\n",
    "        fetch task, report result - until all jobs are done\n",
    "        \"\"\"\n",
    "        while True:\n",
    "            task = ray.get(self.dispatcher.get_task.remote())\n",
    "            if task is None:\n",
    "                break\n",
    "            seqno, effort = task\n",
    "            time.sleep(effort)\n",
    "            the_result = str(uuid.uuid4())\n",
    "            self.collector.collect.remote(self.wid, seqno, the_result)\n",
    "\n",
    "@ray.remote\n",
    "class Collector:\n",
    "\n",
    "    def __init__(self, monitor):\n",
    "        self.result = []\n",
    "        self.monitor = monitor\n",
    "\n",
    "    def collect(self, wid, seqno, load):\n",
    "        \"\"\"\n",
    "        collect all results\n",
    "        \"\"\"\n",
    "        self.result.append((wid, seqno, load))\n",
    "        self.monitor.report.remote()\n",
    "\n",
    "    def get_result(self):\n",
    "        return self.result\n",
    "\n",
    "\n",
    "@ray.remote\n",
    "class Dispatcher:\n",
    "\n",
    "    def __init__(self, num_tasks):\n",
    "        self.seqno = 0\n",
    "        self.num_tasks = num_tasks\n",
    "\n",
    "    def get_task(self):\n",
    "        \"\"\"\n",
    "        Provide tasks of different 'effort' until exhausted\n",
    "        \"\"\"\n",
    "        self.seqno = self.seqno + 1\n",
    "        if self.seqno <= self.num_tasks:\n",
    "            return self.seqno, self.seqno % 4 + 1\n",
    "        else:\n",
    "            return None\n"
   ],
   "metadata": {
    "collapsed": false,
    "pycharm": {
     "name": "#%%\n"
    }
   }
  },
  {
   "cell_type": "code",
   "execution_count": 3,
   "outputs": [
    {
     "name": "stderr",
     "output_type": "stream",
     "text": [
      "2022-08-05 07:49:36,717\tINFO services.py:1470 -- View the Ray dashboard at \u001B[1m\u001B[32mhttp://127.0.0.1:8265\u001B[39m\u001B[22m\n"
     ]
    }
   ],
   "source": [
    "rctx = ray.init(ignore_reinit_error=True)"
   ],
   "metadata": {
    "collapsed": false,
    "pycharm": {
     "name": "#%%\n"
    }
   }
  },
  {
   "cell_type": "code",
   "execution_count": 4,
   "outputs": [],
   "source": [
    "N_WORKERS = 8\n",
    "N_TASKS = 32"
   ],
   "metadata": {
    "collapsed": false,
    "pycharm": {
     "name": "#%%\n"
    }
   }
  },
  {
   "cell_type": "code",
   "execution_count": 5,
   "outputs": [],
   "source": [
    "the_monitor = TaskMonitor.remote()"
   ],
   "metadata": {
    "collapsed": false,
    "pycharm": {
     "name": "#%%\n"
    }
   }
  },
  {
   "cell_type": "code",
   "execution_count": 6,
   "outputs": [],
   "source": [
    "the_collector = Collector.remote(the_monitor)"
   ],
   "metadata": {
    "collapsed": false,
    "pycharm": {
     "name": "#%%\n"
    }
   }
  },
  {
   "cell_type": "markdown",
   "source": [
    "$N_t$ tasks, duration 1-4s, average $t=2.5s$, with $N_w$ workers: We expect $N_t/N_w*t$ seconds total duration"
   ],
   "metadata": {
    "collapsed": false,
    "pycharm": {
     "name": "#%% md\n"
    }
   }
  },
  {
   "cell_type": "code",
   "execution_count": 7,
   "outputs": [],
   "source": [
    "the_dispatcher = Dispatcher.remote(N_TASKS)"
   ],
   "metadata": {
    "collapsed": false,
    "pycharm": {
     "name": "#%%\n"
    }
   }
  },
  {
   "cell_type": "code",
   "execution_count": 8,
   "outputs": [],
   "source": [
    "workers = [Worker.remote(wid, the_dispatcher, the_collector) for wid in range(N_WORKERS)]"
   ],
   "metadata": {
    "collapsed": false,
    "pycharm": {
     "name": "#%%\n"
    }
   }
  },
  {
   "cell_type": "code",
   "execution_count": 9,
   "outputs": [
    {
     "name": "stdout",
     "output_type": "stream",
     "text": [
      "elapsed time: 11655.386852 ms\n"
     ]
    }
   ],
   "source": [
    "for worker in workers:\n",
    "    worker.work.remote()\n",
    "from alphazero.utils import Timer\n",
    "\n",
    "with Timer(verbose=True):\n",
    "    while True:\n",
    "        time.sleep(.5)\n",
    "        status = ray.get(the_monitor.get_status.remote())\n",
    "        if status == N_TASKS:\n",
    "            break"
   ],
   "metadata": {
    "collapsed": false,
    "pycharm": {
     "name": "#%%\n"
    }
   }
  },
  {
   "cell_type": "markdown",
   "source": [
    "A quick check confirms that actor order is sufficiently random to rule out systematic inefficiencies."
   ],
   "metadata": {
    "collapsed": false,
    "pycharm": {
     "name": "#%% md\n"
    }
   }
  },
  {
   "cell_type": "code",
   "execution_count": 10,
   "outputs": [
    {
     "data": {
      "text/plain": "[(5, 4, 'f28fe873-a59f-4c16-b356-48a747623595'),\n (4, 8, '5d6746be-80a9-4154-a742-a4ac986abc80'),\n (1, 1, 'ba5eff57-99dd-4523-b61e-5487ef8ddfcd'),\n (0, 5, '1e10c386-bc58-4faa-b4d0-15088f3cbd59'),\n (6, 2, 'df8307e1-209f-48f5-94a2-11a9ac29640d'),\n (2, 6, '1b41d957-27d9-40c8-87c1-e3805c589c2d'),\n (5, 9, '667647a9-90ae-4979-a433-d98285d1a094'),\n (0, 12, '3454fbd6-05d5-41b8-ba75-6588aa6ada30'),\n (7, 3, 'e35bc9da-b1e5-413c-a293-5daac6cda282'),\n (0, 16, '38fae090-489e-4f6a-bb77-718ce3087e21'),\n (3, 7, '42eceadb-c171-4e08-b815-9cb323322391'),\n (4, 10, '08284df5-02dd-4fec-a490-0770cd1a8280'),\n (6, 13, 'fa5116cd-d791-41ea-9800-bdf7d57a4d73'),\n (4, 20, '73372d5b-f5de-41b1-b047-624aff2129a0'),\n (1, 11, 'f236f9a4-e870-45b3-be2f-24c1a7640cd6'),\n (7, 17, '964851dd-b742-4402-aed9-d6b27c4ea0eb'),\n (2, 14, '8f8f0019-5859-4cc7-ab72-8ba44decdcdf'),\n (6, 21, 'c252881e-dedd-452b-8266-8e1ead159140'),\n (5, 15, '0321b600-d079-4b26-8529-98652a2da0d7'),\n (7, 24, '7c0b4ed0-4ddf-4074-9e1e-830c0ad033fc'),\n (0, 18, 'a5fa689f-f411-4845-9559-396ba5b1e49a'),\n (2, 25, '931f8ca3-9aab-4d03-8709-c258d8592f6c'),\n (7, 28, 'cb315596-c8e1-4873-ab71-c4e45ac02c29'),\n (3, 19, 'fd26339d-8165-4dd2-aeb5-606312e965e6'),\n (4, 22, '062a8de7-e93d-4b4a-a0c6-29e9533f82c5'),\n (0, 29, '55137683-78b1-454a-98bb-dd25ab21af3a'),\n (3, 32, '5c23fac4-2109-4bd7-8b9e-fb0c0eb6ffb5'),\n (1, 23, 'ab8cc78c-2d7d-4aec-a155-b3536a6fb7ff'),\n (6, 26, 'fe39129c-7379-486e-8122-118fe750e04c'),\n (5, 27, '10622aea-d110-4159-a4dd-9fec45869d05'),\n (7, 30, '02afd5cc-782f-48c4-98a6-acc643c6c2ca'),\n (2, 31, '04d962dd-42d8-4f7c-b433-2b22f1bc84e6')]"
     },
     "execution_count": 10,
     "metadata": {},
     "output_type": "execute_result"
    }
   ],
   "source": [
    "result = ray.get(the_collector.get_result.remote())\n",
    "result"
   ],
   "metadata": {
    "collapsed": false,
    "pycharm": {
     "name": "#%%\n"
    }
   }
  },
  {
   "cell_type": "code",
   "execution_count": 11,
   "outputs": [],
   "source": [
    "ray.shutdown()"
   ],
   "metadata": {
    "collapsed": false,
    "pycharm": {
     "name": "#%%\n"
    }
   }
  },
  {
   "cell_type": "markdown",
   "source": [],
   "metadata": {
    "collapsed": false,
    "pycharm": {
     "name": "#%% md\n"
    }
   }
  },
  {
   "cell_type": "markdown",
   "source": [
    "---\n",
    "# Collecting worker results in a file"
   ],
   "metadata": {
    "collapsed": false,
    "pycharm": {
     "name": "#%% md\n"
    }
   }
  },
  {
   "cell_type": "code",
   "execution_count": 12,
   "outputs": [
    {
     "name": "stderr",
     "output_type": "stream",
     "text": [
      "2022-08-05 07:50:06,248\tINFO services.py:1470 -- View the Ray dashboard at \u001B[1m\u001B[32mhttp://127.0.0.1:8265\u001B[39m\u001B[22m\n"
     ]
    }
   ],
   "source": [
    "rctx = ray.init(ignore_reinit_error=True)"
   ],
   "metadata": {
    "collapsed": false,
    "pycharm": {
     "name": "#%%\n"
    }
   }
  },
  {
   "cell_type": "code",
   "execution_count": 13,
   "outputs": [],
   "source": [
    "import os\n",
    "filename = os.getcwd() + \"/tmp.pickle\"\n",
    "f = RayFilePickler.remote(filename, 'wb+')"
   ],
   "metadata": {
    "collapsed": false,
    "pycharm": {
     "name": "#%%\n"
    }
   }
  },
  {
   "cell_type": "code",
   "execution_count": 14,
   "outputs": [],
   "source": [
    "f.write.remote([1,2,3])\n",
    "f.write.remote([1,2,3]);"
   ],
   "metadata": {
    "collapsed": false,
    "pycharm": {
     "name": "#%%\n"
    }
   }
  },
  {
   "cell_type": "code",
   "execution_count": 15,
   "outputs": [],
   "source": [
    "f.close.remote();"
   ],
   "metadata": {
    "collapsed": false,
    "pycharm": {
     "name": "#%%\n"
    }
   }
  },
  {
   "cell_type": "markdown",
   "source": [
    "On the ray dashboard, you can observe that closing the file also removes the actor."
   ],
   "metadata": {
    "collapsed": false,
    "pycharm": {
     "name": "#%% md\n"
    }
   }
  },
  {
   "cell_type": "markdown",
   "source": [
    "### Check the result"
   ],
   "metadata": {
    "collapsed": false,
    "pycharm": {
     "name": "#%% md\n"
    }
   }
  },
  {
   "cell_type": "code",
   "execution_count": 16,
   "outputs": [
    {
     "name": "stdout",
     "output_type": "stream",
     "text": [
      "-rw-r--r--  1 wgiersche  staff  44 Aug  5 07:50 tmp.pickle\r\n"
     ]
    }
   ],
   "source": [
    "!ls -lt *tmp*"
   ],
   "metadata": {
    "collapsed": false,
    "pycharm": {
     "name": "#%%\n"
    }
   }
  },
  {
   "cell_type": "code",
   "execution_count": 17,
   "outputs": [],
   "source": [
    "from pickle import Unpickler\n",
    "def read_entries(file_name):\n",
    "    fp = open(file_name, 'rb')\n",
    "    rows = []\n",
    "    while True:\n",
    "        try:\n",
    "            rows.append(Unpickler(fp).load())\n",
    "        except EOFError:\n",
    "            return rows"
   ],
   "metadata": {
    "collapsed": false,
    "pycharm": {
     "name": "#%%\n"
    }
   }
  },
  {
   "cell_type": "code",
   "execution_count": 18,
   "outputs": [
    {
     "data": {
      "text/plain": "[[1, 2, 3], [1, 2, 3]]"
     },
     "execution_count": 18,
     "metadata": {},
     "output_type": "execute_result"
    }
   ],
   "source": [
    "read_entries(file_name=filename)"
   ],
   "metadata": {
    "collapsed": false,
    "pycharm": {
     "name": "#%%\n"
    }
   }
  },
  {
   "cell_type": "markdown",
   "source": [
    "### Clean up"
   ],
   "metadata": {
    "collapsed": false,
    "pycharm": {
     "name": "#%% md\n"
    }
   }
  },
  {
   "cell_type": "code",
   "execution_count": 19,
   "outputs": [],
   "source": [
    "!rm -f tmp.pickle"
   ],
   "metadata": {
    "collapsed": false,
    "pycharm": {
     "name": "#%%\n"
    }
   }
  },
  {
   "cell_type": "code",
   "execution_count": 30,
   "outputs": [],
   "source": [
    "ray.shutdown()"
   ],
   "metadata": {
    "collapsed": false,
    "pycharm": {
     "name": "#%%\n"
    }
   }
  },
  {
   "cell_type": "markdown",
   "source": [],
   "metadata": {
    "collapsed": false,
    "pycharm": {
     "name": "#%% md\n"
    }
   }
  },
  {
   "cell_type": "markdown",
   "source": [
    "---\n",
    "# Efficient Parallel SelfPlay"
   ],
   "metadata": {
    "collapsed": false,
    "pycharm": {
     "name": "#%% md\n"
    }
   }
  },
  {
   "cell_type": "code",
   "execution_count": 31,
   "outputs": [
    {
     "name": "stderr",
     "output_type": "stream",
     "text": [
      "2022-08-05 07:53:17,317\tINFO services.py:1470 -- View the Ray dashboard at \u001B[1m\u001B[32mhttp://127.0.0.1:8265\u001B[39m\u001B[22m\n"
     ]
    }
   ],
   "source": [
    "ray.init(ignore_reinit_error=True);"
   ],
   "metadata": {
    "collapsed": false,
    "pycharm": {
     "name": "#%%\n"
    }
   }
  },
  {
   "cell_type": "code",
   "execution_count": 32,
   "outputs": [],
   "source": [
    "filename = os.getcwd() + \"/tmp.pickle\"\n",
    "the_writer = RayFilePickler.remote(filename, 'wb+')"
   ],
   "metadata": {
    "collapsed": false,
    "pycharm": {
     "name": "#%%\n"
    }
   }
  },
  {
   "cell_type": "code",
   "execution_count": 33,
   "outputs": [],
   "source": [
    "the_counter = SimpleCountingDispatcher.remote(2)"
   ],
   "metadata": {
    "collapsed": false,
    "pycharm": {
     "name": "#%%\n"
    }
   }
  },
  {
   "cell_type": "markdown",
   "source": [
    "### The *Business Logic*"
   ],
   "metadata": {
    "collapsed": false,
    "pycharm": {
     "name": "#%% md\n"
    }
   }
  },
  {
   "cell_type": "code",
   "execution_count": 34,
   "outputs": [],
   "source": [
    "params = MctsParams(\n",
    "    cpuct = 1.0,\n",
    "    num_simulations=100,\n",
    "    model_threshold=.2)\n",
    "\n",
    "# Number of self-play workers\n",
    "N_SP = 1\n",
    "\n",
    "# Number of policy workers\n",
    "N_P = 1\n",
    "\n",
    "rbi = RandomBoardInitializer(15, 4, 5, 9, 5, 9)\n",
    "game = GomokuGame(15, rbi)"
   ],
   "metadata": {
    "collapsed": false,
    "pycharm": {
     "name": "#%%\n"
    }
   }
  },
  {
   "cell_type": "code",
   "execution_count": 35,
   "outputs": [
    {
     "name": "stderr",
     "output_type": "stream",
     "text": [
      "\u001B[2m\u001B[36m(PolicyWorker pid=32915)\u001B[0m 2022-08-05 07:53:27.720722: I tensorflow/core/platform/cpu_feature_guard.cc:193] This TensorFlow binary is optimized with oneAPI Deep Neural Network Library (oneDNN) to use the following CPU instructions in performance-critical operations:  AVX2 FMA\n",
      "\u001B[2m\u001B[36m(PolicyWorker pid=32915)\u001B[0m To enable them in other operations, rebuild TensorFlow with the appropriate compiler flags.\n"
     ]
    }
   ],
   "source": [
    "the_dispatcher = create_pool(num_workers=N_P, policy=HeuristicRayPolicy(),\n",
    "                         board_size=15, cut_off = 0.5)\n",
    "selfplays = [SelfPlay.remote(mcts_params=params) for _ in range(N_SP)]\n",
    "for selfplay in selfplays:\n",
    "    selfplay.init.remote(15, game, PolicySpec(pool_ref=PolicyRef(the_dispatcher)))"
   ],
   "metadata": {
    "collapsed": false,
    "pycharm": {
     "name": "#%%\n"
    }
   }
  },
  {
   "cell_type": "code",
   "execution_count": 36,
   "outputs": [],
   "source": [
    "workers = [SelfPlayDelegator.remote(1, the_writer, the_counter, selfplay) for selfplay in selfplays]"
   ],
   "metadata": {
    "collapsed": false,
    "pycharm": {
     "name": "#%%\n"
    }
   }
  },
  {
   "cell_type": "code",
   "execution_count": 37,
   "outputs": [],
   "source": [
    "for worker in workers:\n",
    "    worker.work.remote()"
   ],
   "metadata": {
    "collapsed": false,
    "pycharm": {
     "name": "#%%\n"
    }
   }
  },
  {
   "cell_type": "code",
   "execution_count": 38,
   "outputs": [],
   "source": [
    "the_writer.close.remote();"
   ],
   "metadata": {
    "collapsed": false,
    "pycharm": {
     "name": "#%%\n"
    }
   }
  },
  {
   "cell_type": "code",
   "execution_count": 39,
   "outputs": [
    {
     "name": "stdout",
     "output_type": "stream",
     "text": [
      "-rw-r--r--  1 wgiersche  staff  10497 Aug  5 07:54 tmp.pickle\r\n"
     ]
    }
   ],
   "source": [
    "!ls -lt *tmp*"
   ],
   "metadata": {
    "collapsed": false,
    "pycharm": {
     "name": "#%%\n"
    }
   }
  },
  {
   "cell_type": "code",
   "execution_count": 40,
   "outputs": [],
   "source": [
    "ray.shutdown()"
   ],
   "metadata": {
    "collapsed": false,
    "pycharm": {
     "name": "#%%\n"
    }
   }
  },
  {
   "cell_type": "code",
   "execution_count": 54,
   "outputs": [],
   "source": [
    "trajectories = read_entries('the_heuristic_eight.pickle')"
   ],
   "metadata": {
    "collapsed": false,
    "pycharm": {
     "name": "#%%\n"
    }
   }
  },
  {
   "cell_type": "code",
   "execution_count": 56,
   "outputs": [
    {
     "data": {
      "text/plain": "(4, 19)"
     },
     "execution_count": 56,
     "metadata": {},
     "output_type": "execute_result"
    }
   ],
   "source": [
    "len(trajectories), len(trajectories[0])"
   ],
   "metadata": {
    "collapsed": false,
    "pycharm": {
     "name": "#%%\n"
    }
   }
  },
  {
   "cell_type": "code",
   "execution_count": null,
   "outputs": [],
   "source": [],
   "metadata": {
    "collapsed": false,
    "pycharm": {
     "name": "#%%\n"
    }
   }
  }
 ],
 "metadata": {
  "kernelspec": {
   "display_name": "Python 3",
   "language": "python",
   "name": "python3"
  },
  "language_info": {
   "codemirror_mode": {
    "name": "ipython",
    "version": 2
   },
   "file_extension": ".py",
   "mimetype": "text/x-python",
   "name": "python",
   "nbconvert_exporter": "python",
   "pygments_lexer": "ipython2",
   "version": "2.7.6"
  }
 },
 "nbformat": 4,
 "nbformat_minor": 0
}