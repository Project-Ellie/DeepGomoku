{
 "cells": [
  {
   "cell_type": "markdown",
   "source": [
    "# Training from Selfplay Data\n",
    "### Current status\n",
    "---\n",
    "\n",
    "#### Generalization\n",
    "The current architecture converges to perfect overfit on up to 1000 samples in 50% of the training runs. In the other cases it hits a plateau from which it apparently can't escape. 1000 episodes are sufficient to distinguish the cases. The generalization looks somewhat reasonable: On unseen boards, the policy recommends few positions in populated, but not necessarily critical areas but hardly ever even closely match the labels. Also, occupied fields are recommended at times.\n",
    "\n",
    "#### More Parameters\n",
    "Adding more layers/filters does not help convergence\n",
    "\n",
    "#### Loss function alternatives\n",
    "I tried $p \\cdot ( y - p )^2$ which would prefer to match positions with higher labels, so that the policy doesn't waste time on perfectly fitting the zeros. But it didn't work. It appears that not even MSE works. I believe that - from a numerical standpoint - the policy's softmax requires cross entropy\n",
    "\n",
    "#### Conclusion\n",
    "We are currently unable to train a neural network to better advise the MCTS better than the heuristic - we're not even coming close.\n",
    "\n",
    "#### Other Findings\n",
    "The MCTS policy labels are very tight. Once we solved the training issues, the policy labels may encourage more exploration? It's not the policy's job to find the best move but to identify the set of moves worth considering. The MCTS will do the rest\n",
    "\n",
    "We are far from understanding this part of the problem."
   ],
   "metadata": {
    "collapsed": false,
    "pycharm": {
     "name": "#%% md\n"
    }
   }
  },
  {
   "cell_type": "code",
   "execution_count": 25,
   "outputs": [
    {
     "name": "stdout",
     "output_type": "stream",
     "text": [
      "The autoreload extension is already loaded. To reload it, use:\n",
      "  %reload_ext autoreload\n"
     ]
    }
   ],
   "source": [
    "%load_ext autoreload\n",
    "%autoreload 2"
   ],
   "metadata": {
    "collapsed": false,
    "pycharm": {
     "name": "#%%\n"
    }
   }
  },
  {
   "cell_type": "code",
   "execution_count": 26,
   "outputs": [],
   "source": [
    "import numpy as np\n",
    "from aegomoku.game_data import read_training_data\n",
    "from aegomoku.utils import analyse_example"
   ],
   "metadata": {
    "collapsed": false,
    "pycharm": {
     "name": "#%%\n"
    }
   }
  },
  {
   "cell_type": "code",
   "execution_count": 27,
   "outputs": [
    {
     "data": {
      "text/plain": "(8288, 3, (17, 17, 3))"
     },
     "execution_count": 27,
     "metadata": {},
     "output_type": "execute_result"
    }
   ],
   "source": [
    "BOARD_SIZE=15\n",
    "filename = \"the_heuristic_fourty.pickle\"\n",
    "examples = read_training_data(filename, BOARD_SIZE)\n",
    "len(examples), len(examples[0]), examples[0][0].shape"
   ],
   "metadata": {
    "collapsed": false,
    "pycharm": {
     "name": "#%%\n"
    }
   }
  },
  {
   "cell_type": "markdown",
   "source": [
    "---\n",
    "### Data Verification\n",
    "We have 8288 records from 40 games in 8 symmetries. Now we skim through a good chunk of training records to check whether it makes sense (to some degree)."
   ],
   "metadata": {
    "collapsed": false,
    "pycharm": {
     "name": "#%% md\n"
    }
   }
  },
  {
   "cell_type": "code",
   "execution_count": 28,
   "outputs": [],
   "source": [
    "i = 0"
   ],
   "metadata": {
    "collapsed": false,
    "pycharm": {
     "name": "#%%\n"
    }
   }
  },
  {
   "cell_type": "code",
   "execution_count": 32,
   "outputs": [
    {
     "name": "stdout",
     "output_type": "stream",
     "text": [
      "Next to play: WHITE\n",
      "Value from WHITE's point of view: 0.014980288100011667\n"
     ]
    },
    {
     "data": {
      "text/plain": "<Figure size 576x576 with 1 Axes>",
      "image/png": "[encoded data removed]"
     },
     "metadata": {
      "needs_background": "light"
     },
     "output_type": "display_data"
    }
   ],
   "source": [
    "import random\n",
    "\n",
    "analyse_example(BOARD_SIZE, examples[random.randint(0, 8288)])"
   ],
   "metadata": {
    "collapsed": false,
    "pycharm": {
     "name": "#%%\n"
    }
   }
  },
  {
   "cell_type": "code",
   "execution_count": 6,
   "outputs": [],
   "source": [
    "import numpy as np\n",
    "from aegomoku.game_data import read_training_data\n",
    "from aegomoku.utils import analyse_example"
   ],
   "metadata": {
    "collapsed": false,
    "pycharm": {
     "name": "#%%\n"
    }
   }
  },
  {
   "cell_type": "code",
   "execution_count": 7,
   "outputs": [
    {
     "data": {
      "text/plain": "(8288, 3, (17, 17, 3))"
     },
     "execution_count": 7,
     "metadata": {},
     "output_type": "execute_result"
    }
   ],
   "source": [
    "BOARD_SIZE=15\n",
    "filename = \"the_heuristic_fourty.pickle\"\n",
    "examples = read_training_data(filename, BOARD_SIZE)\n",
    "len(examples), len(examples[0]), examples[0][0].shape"
   ],
   "metadata": {
    "collapsed": false,
    "pycharm": {
     "name": "#%%\n"
    }
   }
  },
  {
   "cell_type": "code",
   "execution_count": 13,
   "outputs": [],
   "source": [
    "from aegomoku.gomoku_model import NeuralNetAdapter\n",
    "\n",
    "the_model = NeuralNetAdapter(BOARD_SIZE + 2)\n",
    "the_model.policy.compile()\n",
    "#the_model.policy.summary()"
   ],
   "metadata": {
    "collapsed": false,
    "pycharm": {
     "name": "#%%\n"
    }
   }
  },
  {
   "cell_type": "code",
   "execution_count": 14,
   "outputs": [
    {
     "name": "stdout",
     "output_type": "stream",
     "text": [
      "(1, 17, 17, 3)\n"
     ]
    }
   ],
   "source": [
    "sample = np.expand_dims(examples[55][0], axis=0).astype(float)\n",
    "print(sample.shape)\n",
    "import aegomoku.tools as gt\n",
    "#gt.print_channels(sample)\n",
    "p, v = the_model.policy(sample)"
   ],
   "metadata": {
    "collapsed": false,
    "pycharm": {
     "name": "#%%\n"
    }
   }
  },
  {
   "cell_type": "code",
   "execution_count": 15,
   "outputs": [
    {
     "data": {
      "text/plain": "<tf.Tensor: shape=(1,), dtype=float32, numpy=array([0.1805195], dtype=float32)>"
     },
     "execution_count": 15,
     "metadata": {},
     "output_type": "execute_result"
    }
   ],
   "source": [
    "import keras.backend as k\n",
    "import tensorflow as tf\n",
    "y_t = examples[55][1]\n",
    "y = tf.cast(y_t, tf.float32)\n",
    "k.sum(y * (p - y) * (p - y), axis=1)\n",
    "from aegomoku.gomoku_model import special_loss\n",
    "special_loss(y_t, p)"
   ],
   "metadata": {
    "collapsed": false,
    "pycharm": {
     "name": "#%%\n"
    }
   }
  },
  {
   "cell_type": "code",
   "execution_count": 16,
   "outputs": [
    {
     "name": "stdout",
     "output_type": "stream",
     "text": [
      "Epoch: 1, Training: 6.291921138763428, Test: 0.0\n",
      "Epoch: 101, Training: 4.739750385284424, Test: 0.0\n",
      "Epoch: 201, Training: 4.6196417808532715, Test: 0.0\n",
      "Epoch: 301, Training: 4.378006935119629, Test: 0.0\n",
      "Epoch: 401, Training: 3.788533926010132, Test: 0.0\n",
      "Epoch: 501, Training: 3.353003978729248, Test: 0.0\n",
      "Epoch: 601, Training: 3.051050901412964, Test: 0.0\n",
      "Epoch: 701, Training: 2.831488609313965, Test: 0.0\n",
      "Epoch: 801, Training: 2.6520447731018066, Test: 0.0\n",
      "Epoch: 901, Training: 2.4803402423858643, Test: 0.0\n",
      "Epochs: 1000, Loss: 2.3421027660369873, \n"
     ]
    }
   ],
   "source": [
    "N=200\n",
    "the_model.train(examples[:N], epochs_per_train=1000, report_every=100)"
   ],
   "metadata": {
    "collapsed": false,
    "pycharm": {
     "name": "#%%\n"
    }
   }
  },
  {
   "cell_type": "code",
   "execution_count": 24,
   "outputs": [
    {
     "name": "stdout",
     "output_type": "stream",
     "text": [
      "(1, 17, 17, 3)\n",
      "n=184\n",
      "Next to play: BLACK\n",
      "Value from BLACK's point of view: 0.9491280979189832\n",
      "value = 0.9491280979189832\n",
      "Next to play: BLACK\n",
      "Value from BLACK's point of view: [[0.78910816]]\n",
      "value = [[0.78910816]]\n"
     ]
    },
    {
     "data": {
      "text/plain": "<Figure size 576x576 with 1 Axes>",
      "image/png": "[encoded data removed]"
     },
     "metadata": {
      "needs_background": "light"
     },
     "output_type": "display_data"
    },
    {
     "data": {
      "text/plain": "<Figure size 576x576 with 1 Axes>",
      "image/png": "[encoded data removed]"
     },
     "metadata": {
      "needs_background": "light"
     },
     "output_type": "display_data"
    }
   ],
   "source": [
    "n = random.randint(0, 2*N)\n",
    "sample = np.expand_dims(examples[n][0], axis=0).astype(float)\n",
    "print(sample.shape)\n",
    "p_, v_ = the_model.policy(sample)\n",
    "s, p, v = examples[n]\n",
    "example = (s, list(p_.numpy()), v_)\n",
    "print(f\"n={n}\")\n",
    "analyse_example(BOARD_SIZE, examples[n])\n",
    "print(f\"value = {v}\")\n",
    "analyse_example(BOARD_SIZE, example)\n",
    "print(f\"value = {v_}\")"
   ],
   "metadata": {
    "collapsed": false,
    "pycharm": {
     "name": "#%%\n"
    }
   }
  },
  {
   "cell_type": "code",
   "execution_count": 32,
   "outputs": [],
   "source": [],
   "metadata": {
    "collapsed": false,
    "pycharm": {
     "name": "#%%\n"
    }
   }
  },
  {
   "cell_type": "code",
   "execution_count": null,
   "outputs": [],
   "source": [],
   "metadata": {
    "collapsed": false,
    "pycharm": {
     "name": "#%%\n"
    }
   }
  }
 ],
 "metadata": {
  "kernelspec": {
   "display_name": "Python 3",
   "language": "python",
   "name": "python3"
  },
  "language_info": {
   "codemirror_mode": {
    "name": "ipython",
    "version": 2
   },
   "file_extension": ".py",
   "mimetype": "text/x-python",
   "name": "python",
   "nbconvert_exporter": "python",
   "pygments_lexer": "ipython2",
   "version": "2.7.6"
  }
 },
 "nbformat": 4,
 "nbformat_minor": 0
}