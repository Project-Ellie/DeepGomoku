{
 "cells": [
  {
   "cell_type": "code",
   "execution_count": 1,
   "outputs": [],
   "source": [
    "%load_ext autoreload\n",
    "%autoreload 2"
   ],
   "metadata": {
    "collapsed": false,
    "pycharm": {
     "name": "#%%\n"
    }
   }
  },
  {
   "cell_type": "code",
   "execution_count": 11,
   "outputs": [],
   "source": [
    "from alphazero.gomoku_board import GomokuBoard"
   ],
   "metadata": {
    "collapsed": false,
    "pycharm": {
     "name": "#%%\n"
    }
   }
  },
  {
   "cell_type": "code",
   "execution_count": 12,
   "outputs": [],
   "source": [
    "BOARD_SIZE=15"
   ],
   "metadata": {
    "collapsed": false,
    "pycharm": {
     "name": "#%%\n"
    }
   }
  },
  {
   "cell_type": "code",
   "execution_count": 13,
   "outputs": [],
   "source": [
    "stones = \"H8I8\"\n",
    "stones = \"C11F9E9G8F7G7G9H8I8H7I6I9F6H6H9I5J4\"\n",
    "#stones = \"C11 F9 E9 G8 F7 G7 G9 H8 I8 H7 I6 I9 F6 H6 H9 I5 J4 J7 K7 D10 H4 G5 K4 I4 K5 K6 L6 I3 M7 N8 M5 J8 F5\""
   ],
   "metadata": {
    "collapsed": false,
    "pycharm": {
     "name": "#%%\n"
    }
   }
  },
  {
   "cell_type": "code",
   "execution_count": 14,
   "outputs": [],
   "source": [
    "board = GomokuBoard(15, stones)\n",
    "s = board.math_rep"
   ],
   "metadata": {
    "collapsed": false,
    "pycharm": {
     "name": "#%%\n"
    }
   }
  },
  {
   "cell_type": "code",
   "execution_count": 15,
   "outputs": [
    {
     "name": "stdout",
     "output_type": "stream",
     "text": [
      "                                                     \n",
      "15    .  .  .  .  .  .  .  .  .  .  .  .  .  .  .    \n",
      "14    .  .  .  .  .  .  .  .  .  .  .  .  .  .  .    \n",
      "13    .  .  .  .  .  .  .  .  .  .  .  .  .  .  .    \n",
      "12    .  .  .  .  .  .  .  .  .  .  .  .  .  .  .    \n",
      "11    .  .  X  .  .  .  .  .  .  .  .  .  .  .  .    \n",
      "10    .  .  .  .  .  .  .  .  .  .  .  .  .  .  .    \n",
      " 9    .  .  .  .  X  O  X  X  O  .  .  .  .  .  .    \n",
      " 8    .  .  .  .  .  .  O  O  X  .  .  .  .  .  .    \n",
      " 7    .  .  .  .  .  X  O  O  .  .  .  .  .  .  .    \n",
      " 6    .  .  .  .  .  X  .  O  X  .  .  .  .  .  .    \n",
      " 5    .  .  .  .  .  .  .  .  O  .  .  .  .  .  .    \n",
      " 4    .  .  .  .  .  .  .  .  . [X] .  .  .  .  .    \n",
      " 3    .  .  .  .  .  .  .  .  .  .  .  .  .  .  .    \n",
      " 2    .  .  .  .  .  .  .  .  .  .  .  .  .  .  .    \n",
      " 1    .  .  .  .  .  .  .  .  .  .  .  .  .  .  .    \n",
      "                                                     \n",
      "      A  B  C  D  E  F  G  H  I  J  K  L  M  N  O\n"
     ]
    }
   ],
   "source": [
    "board.plot()"
   ],
   "metadata": {
    "collapsed": false,
    "pycharm": {
     "name": "#%%\n"
    }
   }
  },
  {
   "cell_type": "code",
   "execution_count": 16,
   "outputs": [
    {
     "name": "stderr",
     "output_type": "stream",
     "text": [
      "/Users/wgiersche/.local/share/virtualenvs/DeepGomoku-cXtJ_EtM/lib/python3.10/site-packages/numpy/core/fromnumeric.py:2007: VisibleDeprecationWarning: Creating an ndarray from ragged nested sequences (which is a list-or-tuple of lists-or-tuples-or ndarrays with different lengths or shapes) is deprecated. If you meant to do this, you must specify 'dtype=object' when creating the ndarray.\n",
      "  result = asarray(a).shape\n"
     ]
    }
   ],
   "source": [
    "from domoku.policies.heuristic_policy import HeuristicPolicy\n",
    "\n",
    "d = HeuristicPolicy(board_size=BOARD_SIZE, cut_off=.1)"
   ],
   "metadata": {
    "collapsed": false,
    "pycharm": {
     "name": "#%%\n"
    }
   }
  },
  {
   "cell_type": "code",
   "execution_count": 17,
   "outputs": [
    {
     "name": "stdout",
     "output_type": "stream",
     "text": [
      "[[  0   0   0   0   0   0   0   0   0   0   0   0   0   0   0]\n",
      " [  0   0   0   0   0   0   0   0   0   0   0   0   0   0   0]\n",
      " [  0   0   2   3   4   3   1   0   0   0   0   0   0   0   0]\n",
      " [  0 494   4  10  11   8   6   2   0   2   1   2   0   0   0]\n",
      " [  0   4   0 771 256 508   9   5   1   3 527   2   1   0   0]\n",
      " [  0   7  13 513 537  16 504   5   1 529   5   5   0   0   0]\n",
      " [  0   5  15  19   0   0   0   0   0   3   8 239   1   0   0]\n",
      " [  0   5  12  20  18  11   0   0   0   8 240   3   0   0   0]\n",
      " [  0   3  10  17  21   0   0   0   7 501 251   1   0   0   0]\n",
      " [  0   2   6  15  18   0   3   0   0 484 499   0   1   0   0]\n",
      " [  0   0   4   8  10 745 251 999   0 488 250   5   0   0   0]\n",
      " [  0   0   1   2   5 493 237 760   2   0   6   1   1   0   0]\n",
      " [  0   0   0   0   0   0 246   0   0   4   1   1   0   0   0]\n",
      " [  0   0   0   0   0 246   0   0   0   0   0   0   0   0   0]\n",
      " [  0   0   0   0   0   0   0   0   0   0   0   0   0   0   0]]\n"
     ]
    }
   ],
   "source": [
    "board.print_pi(lambda s: d(s)[0])"
   ],
   "metadata": {
    "collapsed": false,
    "pycharm": {
     "name": "#%%\n"
    }
   }
  },
  {
   "cell_type": "code",
   "execution_count": 18,
   "outputs": [
    {
     "name": "stdout",
     "output_type": "stream",
     "text": [
      "[[  0   0   0   0   0   0   0   0   0   0   0   0   0   0   0]\n",
      " [  0   0   0   0   0   0   0   0   0   0   0   0   0   0   0]\n",
      " [  0   0   0   0   0   0   0   0   0   0   0   0   0   0   0]\n",
      " [  0   8   0   0   0   0   0   0   0   0   0   0   0   0   0]\n",
      " [  0   0   0   6   3   9   0   0   0   0   3   0   0   0   0]\n",
      " [  0   0   0   9   3   0   9   0   0   3   0   0   0   0   0]\n",
      " [  0   0   0   0   0   0   0   0   0   0   0   0   0   0   0]\n",
      " [  0   0   0   0   0   0   0   0   0   2   0   0   0   0   0]\n",
      " [  0   0   0   0   0   0   0   0   2   9   2   0   0   0   0]\n",
      " [  0   0   0   0   0   0   0   0   0   5   9   0   0   0   0]\n",
      " [  0   0   0   0   0  14   5   0   0   8   5   0   0   0   0]\n",
      " [  0   0   0   0   0  11   0 998   0   0   0   0   0   0   0]\n",
      " [  0   0   0   0   2   0   2   0   0   0   0   0   0   0   0]\n",
      " [  0   0   0   0   0   2   0   0   0   0   0   0   0   0   0]\n",
      " [  0   0   0   0   0   0   0   0   0   0   0   0   0   0   0]]\n"
     ]
    }
   ],
   "source": [
    "board.act('H5')\n",
    "board.print_pi(lambda s: d(s)[0])"
   ],
   "metadata": {
    "collapsed": false,
    "pycharm": {
     "name": "#%%\n"
    }
   }
  },
  {
   "cell_type": "code",
   "execution_count": 33,
   "outputs": [
    {
     "data": {
      "text/plain": "H4"
     },
     "execution_count": 33,
     "metadata": {},
     "output_type": "execute_result"
    }
   ],
   "source": [
    "next_move = d.get_advisable_actions(s)[0]\n",
    "next_move = board.Stone(next_move)\n",
    "next_move"
   ],
   "metadata": {
    "collapsed": false,
    "pycharm": {
     "name": "#%%\n"
    }
   }
  },
  {
   "cell_type": "code",
   "execution_count": 34,
   "outputs": [
    {
     "data": {
      "text/plain": "C11 F9 E9 G8 F7 G7 G9 H8 I8 H7 I6 I9 F6 H6 H9 I5 J4 H5 C7"
     },
     "execution_count": 34,
     "metadata": {},
     "output_type": "execute_result"
    }
   ],
   "source": [
    "board.act('C7')"
   ],
   "metadata": {
    "collapsed": false,
    "pycharm": {
     "name": "#%%\n"
    }
   }
  },
  {
   "cell_type": "code",
   "execution_count": 35,
   "outputs": [
    {
     "name": "stdout",
     "output_type": "stream",
     "text": [
      "                                                     \n",
      "15    .  .  .  .  .  .  .  .  .  .  .  .  .  .  .    \n",
      "14    .  .  .  .  .  .  .  .  .  .  .  .  .  .  .    \n",
      "13    .  .  .  .  .  .  .  .  .  .  .  .  .  .  .    \n",
      "12    .  .  .  .  .  .  .  .  .  .  .  .  .  .  .    \n",
      "11    .  .  X  .  .  .  .  .  .  .  .  .  .  .  .    \n",
      "10    .  .  .  .  .  .  .  .  .  .  .  .  .  .  .    \n",
      " 9    .  .  .  .  X  O  X  X  O  .  .  .  .  .  .    \n",
      " 8    .  .  .  .  .  .  O  O  X  .  .  .  .  .  .    \n",
      " 7    .  . [X] .  .  X  O  O  .  .  .  .  .  .  .    \n",
      " 6    .  .  .  .  .  X  .  O  X  .  .  .  .  .  .    \n",
      " 5    .  .  .  .  .  .  .  O  O  .  .  .  .  .  .    \n",
      " 4    .  .  .  .  .  .  .  .  .  X  .  .  .  .  .    \n",
      " 3    .  .  .  .  .  .  .  .  .  .  .  .  .  .  .    \n",
      " 2    .  .  .  .  .  .  .  .  .  .  .  .  .  .  .    \n",
      " 1    .  .  .  .  .  .  .  .  .  .  .  .  .  .  .    \n",
      "                                                     \n",
      "      A  B  C  D  E  F  G  H  I  J  K  L  M  N  O\n",
      "[[  0   0   0   0   0   0   0   0   0   0   0   0   0   0   0]\n",
      " [  0   0   0   0   0   0   0   0   0   0   0   0   0   0   0]\n",
      " [  0   0   0   0   0   0   0   0   0   0   0   0   0   0   0]\n",
      " [  0   1   0   0   0   0   0   0   0   0   0   0   0   0   0]\n",
      " [  0   0   0   3   1   1   0   0   0   0   2   0   0   0   0]\n",
      " [  0   0   0   2   2   2   1   0   0   2   0   0   0   0   0]\n",
      " [  0   0   1   0   0   0   0   0   0   0   0   0   0   0   0]\n",
      " [  0   0   0   3   0   0   0   0   0   1   0   0   0   0   0]\n",
      " [  0   0   0   0   1   0   0   0   1   1   0   0   0   0   0]\n",
      " [  0   1   0   1   0   0   0   0   0   1   1   0   0   0   0]\n",
      " [  0   0   0   0   0   4   4   0   0   3   2   0   0   0   0]\n",
      " [  0   0   0   0   0   2   0 998   0   0   0   0   0   0   0]\n",
      " [  0   0   0   0   0   0   0   0   0   0   0   0   0   0   0]\n",
      " [  0   0   0   0   0   0   0   0   0   0   0   0   0   0   0]\n",
      " [  0   0   0   0   0   0   0   0   0   0   0   0   0   0   0]]\n"
     ]
    }
   ],
   "source": [
    "board.plot()\n",
    "board.print_pi(lambda s: d(s)[0])"
   ],
   "metadata": {
    "collapsed": false,
    "pycharm": {
     "name": "#%%\n"
    }
   }
  },
  {
   "cell_type": "code",
   "execution_count": 36,
   "outputs": [
    {
     "data": {
      "text/plain": "<tf.Tensor: shape=(), dtype=float64, numpy=0.9298174518079388>"
     },
     "execution_count": 36,
     "metadata": {},
     "output_type": "execute_result"
    }
   ],
   "source": [
    "d(s)[1]"
   ],
   "metadata": {
    "collapsed": false,
    "pycharm": {
     "name": "#%%\n"
    }
   }
  },
  {
   "cell_type": "code",
   "execution_count": null,
   "outputs": [],
   "source": [],
   "metadata": {
    "collapsed": false,
    "pycharm": {
     "name": "#%%\n"
    }
   }
  }
 ],
 "metadata": {
  "kernelspec": {
   "display_name": "Python 3",
   "language": "python",
   "name": "python3"
  },
  "language_info": {
   "codemirror_mode": {
    "name": "ipython",
    "version": 2
   },
   "file_extension": ".py",
   "mimetype": "text/x-python",
   "name": "python",
   "nbconvert_exporter": "python",
   "pygments_lexer": "ipython2",
   "version": "2.7.6"
  }
 },
 "nbformat": 4,
 "nbformat_minor": 0
}