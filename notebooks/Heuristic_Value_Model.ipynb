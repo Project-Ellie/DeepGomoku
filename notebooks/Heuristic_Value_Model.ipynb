{
 "cells": [
  {
   "cell_type": "markdown",
   "source": [
    "# A heuristic value model\n",
    "This model is meant to jump-start the learning process and advise MCTS on its very first self-play"
   ],
   "metadata": {
    "collapsed": false
   }
  },
  {
   "cell_type": "code",
   "execution_count": 1,
   "outputs": [],
   "source": [
    "BOARD_SIZE=15"
   ],
   "metadata": {
    "collapsed": false
   }
  },
  {
   "cell_type": "code",
   "execution_count": 2,
   "outputs": [],
   "source": [
    "from aegomoku.policies.heuristic_value_model import HeuristicValueModel\n",
    "import tensorflow as tf\n",
    "import numpy as np"
   ],
   "metadata": {
    "collapsed": false
   }
  },
  {
   "cell_type": "code",
   "execution_count": 3,
   "outputs": [],
   "source": [
    "model = HeuristicValueModel(BOARD_SIZE, value_gauge=1.0, value_stretch=.02, kappa_d=2, kappa_s=5, current_advantage=.1, bias=-0.5)"
   ],
   "metadata": {
    "collapsed": false
   }
  },
  {
   "cell_type": "code",
   "execution_count": 22,
   "outputs": [
    {
     "name": "stdout",
     "output_type": "stream",
     "text": [
      "                                                     \n",
      "15    .  .  .  .  .  .  .  .  .  .  .  .  .  .  .    \n",
      "14    .  .  .  .  .  .  .  .  .  .  .  .  .  .  .    \n",
      "13    .  .  .  .  .  .  .  .  .  .  .  .  .  .  .    \n",
      "12    .  .  .  .  .  .  .  .  .  .  .  .  .  .  .    \n",
      "11    .  .  X  .  .  .  .  .  .  .  .  .  .  .  .    \n",
      "10    .  .  .  .  .  .  .  .  .  X  .  .  .  .  .    \n",
      " 9    .  .  .  .  X  O  X  .  O  .  .  .  .  .  .    \n",
      " 8    .  .  .  .  .  .  O  O  O  X  .  .  .  .  .    \n",
      " 7    .  .  .  .  .  X  O  .  .  .  .  .  .  .  .    \n",
      " 6    .  .  .  .  .  .  X  . [O] .  .  .  .  .  .    \n",
      " 5    .  .  .  .  .  .  .  .  .  .  .  .  .  .  .    \n",
      " 4    .  .  .  .  .  .  .  .  .  .  .  .  .  .  .    \n",
      " 3    .  .  .  .  .  .  .  .  .  .  .  .  .  .  .    \n",
      " 2    .  .  .  .  .  .  .  .  .  .  .  .  .  .  .    \n",
      " 1    .  .  .  .  .  .  .  .  .  .  .  .  .  .  .    \n",
      "                                                     \n",
      "      A  B  C  D  E  F  G  H  I  J  K  L  M  N  O\n"
     ]
    },
    {
     "data": {
      "text/plain": "-0.45690027"
     },
     "execution_count": 22,
     "metadata": {},
     "output_type": "execute_result"
    }
   ],
   "source": [
    "from aegomoku.gomoku_board import GomokuBoard\n",
    "\n",
    "stones = \"C11F9E9G8F7G7G9H8G6I8J8I9J10I6\"\n",
    "board = GomokuBoard(board_size=BOARD_SIZE, stones = stones)\n",
    "board.plot()\n",
    "model.evaluate(board.math_rep)"
   ],
   "metadata": {
    "collapsed": false
   }
  },
  {
   "cell_type": "code",
   "execution_count": 23,
   "outputs": [
    {
     "data": {
      "text/plain": "TensorShape([1, 17, 17, 40])"
     },
     "execution_count": 23,
     "metadata": {},
     "output_type": "execute_result"
    }
   ],
   "source": [
    "from aegomoku.utils import expand\n",
    "state = expand(board.math_rep)\n",
    "model.detector(state).shape"
   ],
   "metadata": {
    "collapsed": false
   }
  },
  {
   "cell_type": "code",
   "execution_count": 24,
   "outputs": [],
   "source": [
    "diff = tf.keras.layers.Conv2D(\n",
    "    name=\"sum_d\",\n",
    "    filters=1,\n",
    "    kernel_size=1,\n",
    "    kernel_initializer=tf.constant_initializer(\n",
    "        [1.1, -1]), # current player's advantage\n",
    "    bias_initializer=tf.constant_initializer(0.),\n",
    "    padding='same',\n",
    "    trainable=False)\n",
    "\n",
    "peel = tf.keras.layers.Conv2D(\n",
    "    filters=1, kernel_size=(3, 3),\n",
    "    kernel_initializer=tf.constant_initializer([\n",
    "        [[0., 0., 0.], [0., 1., 0.], [0., 0., 0.]]\n",
    "    ]),\n",
    "    bias_initializer=tf.constant_initializer(0.),\n",
    "    trainable=False)\n"
   ],
   "metadata": {
    "collapsed": false
   }
  },
  {
   "cell_type": "code",
   "execution_count": 25,
   "outputs": [],
   "source": [
    "kappa_s = 5\n",
    "self = model\n",
    "y = self.detector(state)\n",
    "y = tf.math.pow(y, kappa_s)\n",
    "y = self.sum_s(y)\n",
    "y = tf.math.pow(y, 2 / 5)\n",
    "y = self.sum_d(y)\n",
    "d = peel(diff(y))"
   ],
   "metadata": {
    "collapsed": false
   }
  },
  {
   "cell_type": "code",
   "execution_count": 26,
   "outputs": [
    {
     "name": "stdout",
     "output_type": "stream",
     "text": [
      "shape: (17, 17, 2)\n",
      "[[ 0  0  0  0  0  0  0  0  0  0  0  0  0  0  0  0  0]\n",
      " [ 0  0  0  2  0  0  0  2  0  0  0  0  0  0  0  0  0]\n",
      " [ 0  0  0  3  0  0  5  0  0  0  2  0  0  0  2  0  0]\n",
      " [ 0 22  0  6  0  6  0  5  0  2  3  2  0  2  0  0  0]\n",
      " [ 0  0 29  4  6  3  0  2  7  0 25  0  2  0  2  0  0]\n",
      " [ 0  2  5  0  3 10  3  8  0  8 29  2  0  3  0  0  0]\n",
      " [ 0  0  3 26 29  4  9  5  8  4  0  4  7  3  2  0  0]\n",
      " [ 0  4  2  6 32  0  0  0  0  0 34  8  0  0  0  0  0]\n",
      " [ 0  0  0  3  4 39 29  0  0  0  0  2  6  2  2  0  0]\n",
      " [ 0  0  2  8  2 10  0  0  2  4 29  2  0  3  0  0  0]\n",
      " [ 0  0  3  2  6  9  6  0  6  0 22  0  2  0  2  0  0]\n",
      " [ 0  2  0  2  2  2  6  5 34  0  3  0  0  2  0  0  0]\n",
      " [ 0  0  0  2  0  3  5  2  0 29  2  0  0  0  2  0  0]\n",
      " [ 0  0  2  0  3  0  2  2  0  0 22  0  0  0  0  0  0]\n",
      " [ 0  0  0  2  0  0  0  2  0  0  0  2  0  0  0  0  0]\n",
      " [ 0  0  0  0  0  0  0  0  0  0  0  0  0  0  0  0  0]\n",
      " [ 0  0  0  0  0  0  0  0  0  0  0  0  0  0  0  0  0]]\n",
      "\n",
      "[[ 0  0  0  0  0  0  0  0  0  0  0  0  0  0  0  0  0]\n",
      " [ 0  0  0  0  0  0  0  0  0  0  0  0  0  0  0  0  0]\n",
      " [ 0  0  0  0  0  0  0  0  0  0  0  0  0  0  0  0  0]\n",
      " [ 0  0  2  0  0  2  2  0  0  2  2  0  0  0  0  0  0]\n",
      " [ 0  0  0 22  0  2  5  0  2 25  0  2  0  2  0  0  0]\n",
      " [ 0  0  0  0 29  0  6  2  7 29  2  0  3  0  0  0  0]\n",
      " [ 0  0  0  0  0 66  3  8  6 68  0  3  0  2  0  0  0]\n",
      " [ 0  0  0  0  0  0  0  0 13  0  6  3  6  2  0  0  0]\n",
      " [ 0  0  0  2 22 68 69  0  0  0  0  3  0  0  0  0  0]\n",
      " [ 0  0  0  0  3  0  0  0 94 89 11  2  0  0  0  0  0]\n",
      " [ 0  0  0  3  0  0 64  0  9  0  5  7  3  2  0  0  0]\n",
      " [ 0  0  2  0  0 64  0  0  7 67 64  2  3  0  0  0  0]\n",
      " [ 0  0  0  0 22  0  0  3  2 22  3 22  2  2  0  0  0]\n",
      " [ 0  0  0  2  0  0  3  0  0  3  0  2  3  0  0  0  0]\n",
      " [ 0  0  0  0  0  2  0  0  0  2  0  0  0  2  0  0  0]\n",
      " [ 0  0  0  0  0  0  0  0  0  0  0  0  0  0  0  0  0]\n",
      " [ 0  0  0  0  0  0  0  0  0  0  0  0  0  0  0  0  0]]\n"
     ]
    }
   ],
   "source": [
    "from aegomoku.tools import print_channels\n",
    "\n",
    "print_channels(((y.numpy())*10).astype(np.uint), combine=False)"
   ],
   "metadata": {
    "collapsed": false
   }
  },
  {
   "cell_type": "code",
   "execution_count": 27,
   "outputs": [
    {
     "name": "stdout",
     "output_type": "stream",
     "text": [
      "                                                     \n",
      "15    .  .  .  .  .  .  .  .  .  .  .  .  .  .  .    \n",
      "14    .  .  .  .  .  .  .  .  .  .  .  .  .  .  .    \n",
      "13    .  .  .  .  .  .  .  .  .  .  .  .  .  .  .    \n",
      "12    .  .  .  .  .  .  .  .  .  .  .  .  .  .  .    \n",
      "11    .  .  X  .  .  .  .  .  .  .  .  .  .  .  .    \n",
      "10    .  .  .  .  .  .  .  .  .  X  .  .  .  .  .    \n",
      " 9    .  .  .  .  X  O  X  .  O  .  .  .  .  .  .    \n",
      " 8    .  .  .  .  .  .  O  O  O  X  .  .  .  .  .    \n",
      " 7    .  .  .  .  .  X  O  .  .  .  .  .  .  .  .    \n",
      " 6    .  .  .  .  .  .  X  . [O] .  .  .  .  .  .    \n",
      " 5    .  .  .  .  .  .  .  .  .  .  .  .  .  .  .    \n",
      " 4    .  .  .  .  .  .  .  .  .  .  .  .  .  .  .    \n",
      " 3    .  .  .  .  .  .  .  .  .  .  .  .  .  .  .    \n",
      " 2    .  .  .  .  .  .  .  .  .  .  .  .  .  .  .    \n",
      " 1    .  .  .  .  .  .  .  .  .  .  .  .  .  .  .    \n",
      "                                                     \n",
      "      A  B  C  D  E  F  G  H  I  J  K  L  M  N  O\n"
     ]
    }
   ],
   "source": [
    "board.plot()"
   ],
   "metadata": {
    "collapsed": false
   }
  },
  {
   "cell_type": "code",
   "execution_count": 19,
   "outputs": [
    {
     "name": "stdout",
     "output_type": "stream",
     "text": [
      "                                                     \n",
      "15    .  .  .  .  .  .  .  .  .  .  .  .  .  .  .    \n",
      "14    .  .  .  .  .  .  .  .  .  .  .  .  .  .  .    \n",
      "13    .  .  .  .  .  .  .  .  .  .  .  .  .  .  .    \n",
      "12    .  .  .  .  .  .  .  .  .  .  .  .  .  .  .    \n",
      "11    .  .  X  .  .  .  .  .  .  .  .  .  .  .  .    \n",
      "10    .  .  .  .  .  .  .  .  .  .  .  .  .  .  .    \n",
      " 9    .  .  .  .  X  O  X  . [O] .  .  .  .  .  .    \n",
      " 8    .  .  .  .  .  .  O  O  O  X  .  .  .  .  .    \n",
      " 7    .  .  .  .  .  X  O  .  .  .  .  .  .  .  .    \n",
      " 6    .  .  .  .  .  .  X  .  .  .  .  .  .  .  .    \n",
      " 5    .  .  .  .  .  .  .  .  .  .  .  .  .  .  .    \n",
      " 4    .  .  .  .  .  .  .  .  .  .  .  .  .  .  .    \n",
      " 3    .  .  .  .  .  .  .  .  .  .  .  .  .  .  .    \n",
      " 2    .  .  .  .  .  .  .  .  .  .  .  .  .  .  .    \n",
      " 1    .  .  .  .  .  .  .  .  .  .  .  .  .  .  .    \n",
      "                                                     \n",
      "      A  B  C  D  E  F  G  H  I  J  K  L  M  N  O\n"
     ]
    },
    {
     "data": {
      "text/plain": "-0.17040965"
     },
     "execution_count": 19,
     "metadata": {},
     "output_type": "execute_result"
    }
   ],
   "source": [
    "stones = \"C11F9E9G8F7G7G9H8G6i8J8I9\"\n",
    "board = GomokuBoard(board_size=BOARD_SIZE, stones = stones)\n",
    "board.plot()\n",
    "model.evaluate(board.math_rep)"
   ],
   "metadata": {
    "collapsed": false
   }
  },
  {
   "cell_type": "code",
   "execution_count": null,
   "outputs": [],
   "source": [],
   "metadata": {
    "collapsed": false
   }
  }
 ],
 "metadata": {
  "kernelspec": {
   "display_name": "Python 3",
   "language": "python",
   "name": "python3"
  },
  "language_info": {
   "codemirror_mode": {
    "name": "ipython",
    "version": 2
   },
   "file_extension": ".py",
   "mimetype": "text/x-python",
   "name": "python",
   "nbconvert_exporter": "python",
   "pygments_lexer": "ipython2",
   "version": "2.7.6"
  }
 },
 "nbformat": 4,
 "nbformat_minor": 0
}
