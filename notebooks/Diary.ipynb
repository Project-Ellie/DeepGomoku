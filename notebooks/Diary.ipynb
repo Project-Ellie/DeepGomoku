{
 "cells": [
  {
   "cell_type": "markdown",
   "source": [
    "# Solving Gomoku: Diary"
   ],
   "metadata": {
    "collapsed": false,
    "pycharm": {
     "name": "#%% md\n"
    }
   }
  },
  {
   "cell_type": "code",
   "execution_count": 2,
   "outputs": [
    {
     "data": {
      "text/plain": "datetime.datetime(2022, 8, 7, 15, 52, 7, 678872)"
     },
     "execution_count": 2,
     "metadata": {},
     "output_type": "execute_result"
    }
   ],
   "source": [
    "import datetime\n",
    "datetime.datetime.now()"
   ],
   "metadata": {
    "collapsed": false,
    "pycharm": {
     "name": "#%%\n"
    }
   }
  },
  {
   "cell_type": "markdown",
   "source": [
    "### Hardware"
   ],
   "metadata": {
    "collapsed": false,
    "pycharm": {
     "name": "#%% md\n"
    }
   },
   "outputs": []
  },
  {
   "cell_type": "markdown",
   "source": [
    "\n",
    "#### Scylla\n",
    "Scylla's two GPUs are working fine with LD_LIBRARY_PATH from previous attempts and the lambda stack on top. Maybe the latter is not even required.\n",
    "Scylla does not have additional video drivers installed."
   ],
   "metadata": {
    "collapsed": false,
    "pycharm": {
     "name": "#%% md\n"
    }
   }
  },
  {
   "cell_type": "markdown",
   "source": [
    "\n",
    "#### Charybdis\n",
    "Charybdis' GPUs are currently not usable. Next approach might be:\n",
    "- Install 18.04 from scratch and transfer all libraries in LD_LIBRARY_PATH from scylla\n",
    "- Install the same python version as on scylla\n",
    "- Install Lambda\n",
    "- Try it out"
   ],
   "metadata": {
    "collapsed": false,
    "pycharm": {
     "name": "#%% md\n"
    }
   },
   "outputs": []
  },
  {
   "cell_type": "markdown",
   "source": [
    "\n",
    "### Git\n",
    "Most recent results on scylla are pushed to branch scylla"
   ],
   "metadata": {
    "collapsed": false,
    "pycharm": {
     "name": "#%% md\n"
    }
   }
  },
  {
   "cell_type": "markdown",
   "source": [
    "### Achievements"
   ],
   "metadata": {
    "collapsed": false,
    "pycharm": {
     "name": "#%% md\n"
    }
   },
   "outputs": []
  },
  {
   "cell_type": "markdown",
   "source": [
    "#### Raw Data\n",
    "Rawdata.ipynb creates low-quality but high-throughput examples depicting terminal threats. Some are already available in rawdata.pickle. More can easily be created with RawData.ipynb.\n",
    "\n",
    "Learning on those with the current neural network bottomed out at loss=5.x with a flat prediction all over the board. A typical learning frustration"
   ],
   "metadata": {
    "collapsed": false,
    "pycharm": {
     "name": "#%% md\n"
    }
   },
   "outputs": []
  },
  {
   "cell_type": "markdown",
   "source": [
    "#### High quality Data\n",
    "High quality data produced with MCTS backbone can be produced efficiently on a Ray cluster with selfplay.py. Here, we already have data, too: the_heuristic_xxx.pickle series"
   ],
   "metadata": {
    "collapsed": false,
    "pycharm": {
     "name": "#%% md\n"
    }
   }
  },
  {
   "cell_type": "markdown",
   "source": [
    "#### Neural network\n",
    "\n",
    "- Training_From_SelfPlay.ipynb has the latest results\n",
    "\n",
    "The current neural network `gomoku_model.NeuralNetAdapter` is in an experimental state.\n",
    "- sometimes it converges, sometimes it doesn't\n",
    "- No loss function other than CrossEntropyLoss ever converged\n",
    "- Attempts to enlarge the network beyond the current state ended on plateaus of frustration\n",
    "- The best runs (loss < 2.0) showed some signs of possible generalization capabilities. Well-structured - somewhat plausible looking advice on unseen data.\n",
    "- That advice essentially never matched the labels, though...;-(\n",
    "- RESNET may be the way to go\n",
    "- Regularization appears to have a negative impact - not even the results on the training data render useful. Need to verify.\n",
    "- Curriculum training might help: RawData.ipynb shows a possible path to start with terminal threat recognition. First results are frustrating, though"
   ],
   "metadata": {
    "collapsed": false,
    "pycharm": {
     "name": "#%% md\n"
    }
   }
  },
  {
   "cell_type": "code",
   "execution_count": null,
   "outputs": [],
   "source": [],
   "metadata": {
    "collapsed": false,
    "pycharm": {
     "name": "#%%\n"
    }
   }
  }
 ],
 "metadata": {
  "kernelspec": {
   "display_name": "Python 3",
   "language": "python",
   "name": "python3"
  },
  "language_info": {
   "codemirror_mode": {
    "name": "ipython",
    "version": 2
   },
   "file_extension": ".py",
   "mimetype": "text/x-python",
   "name": "python",
   "nbconvert_exporter": "python",
   "pygments_lexer": "ipython2",
   "version": "2.7.6"
  }
 },
 "nbformat": 4,
 "nbformat_minor": 0
}