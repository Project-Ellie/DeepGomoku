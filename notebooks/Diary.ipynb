{
 "cells": [
  {
   "cell_type": "markdown",
   "source": [
    "# Solving Gomoku: Diary"
   ],
   "metadata": {
    "collapsed": false,
    "pycharm": {
     "name": "#%% md\n"
    }
   }
  },
  {
   "cell_type": "code",
   "execution_count": 1,
   "outputs": [
    {
     "data": {
      "text/plain": "datetime.datetime(2022, 8, 28, 17, 5, 15, 507734)"
     },
     "execution_count": 1,
     "metadata": {},
     "output_type": "execute_result"
    }
   ],
   "source": [
    "import datetime\n",
    "datetime.datetime.now()"
   ],
   "metadata": {
    "collapsed": false,
    "pycharm": {
     "name": "#%%\n"
    }
   }
  },
  {
   "cell_type": "markdown",
   "source": [
    "### Hardware"
   ],
   "metadata": {
    "collapsed": false,
    "pycharm": {
     "name": "#%% md\n"
    }
   },
   "outputs": []
  },
  {
   "cell_type": "markdown",
   "source": [
    "\n",
    "#### Scylla\n",
    "Scylla's two GPUs are working fine with LD_LIBRARY_PATH from previous attempts and the lambda stack on top. Maybe the latter is not even required.\n",
    "Scylla does not have additional video drivers installed."
   ],
   "metadata": {
    "collapsed": false,
    "pycharm": {
     "name": "#%% md\n"
    }
   }
  },
  {
   "cell_type": "markdown",
   "source": [
    "\n",
    "#### Charybdis\n",
    "Charybdis' GPUs are currently not usable. Next approach might be:\n",
    "- Install 18.04 from scratch and transfer all libraries in LD_LIBRARY_PATH from scylla\n",
    "- Install the same python version as on scylla\n",
    "- Install Lambda\n",
    "- Try it out"
   ],
   "metadata": {
    "collapsed": false,
    "pycharm": {
     "name": "#%% md\n"
    }
   },
   "outputs": []
  },
  {
   "cell_type": "markdown",
   "source": [
    "#### Tensorbook\n",
    "Doesn't work yet...;-("
   ],
   "metadata": {
    "collapsed": false,
    "pycharm": {
     "name": "#%% md\n"
    }
   }
  },
  {
   "cell_type": "markdown",
   "source": [
    "\n",
    "### Git\n",
    "Most recent results on scylla are pushed to branch scylla"
   ],
   "metadata": {
    "collapsed": false,
    "pycharm": {
     "name": "#%% md\n"
    }
   }
  },
  {
   "cell_type": "markdown",
   "source": [
    "### Achievements"
   ],
   "metadata": {
    "collapsed": false,
    "pycharm": {
     "name": "#%% md\n"
    }
   },
   "outputs": []
  },
  {
   "cell_type": "markdown",
   "source": [
    "#### Intuitive play: Policy vs Policy\n",
    "Rawdata.ipynb creates low-quality but high-throughput examples depicting terminal threats. Some are already available in rawdata.pickle. More can easily be created with Intuitive_Selfplay.ipynb.\n",
    "\n",
    "Learning on those with the current neural network bottomed out at loss=5.x with a flat prediction all over the board. A typical learning frustration"
   ],
   "metadata": {
    "collapsed": false,
    "pycharm": {
     "name": "#%% md\n"
    }
   },
   "outputs": []
  },
  {
   "cell_type": "markdown",
   "source": [
    "#### High quality Data\n",
    "High quality data produced with MCTS backbone can be produced efficiently on a Ray cluster with selfplay.py. Here, we already have data, too: the_heuristic_xxx.pickle series\n",
    "\n",
    "However, we believe that that data is not good enough. We need more data - well documented!! - with the new heuristic value estimate and with num_search > 1000. Just let it run overnight!"
   ],
   "metadata": {
    "collapsed": false,
    "pycharm": {
     "name": "#%% md\n"
    }
   }
  },
  {
   "cell_type": "markdown",
   "source": [
    "#### Arena\n",
    "The arena is about to get ready for the challenges: `Arena.ipynb`"
   ],
   "metadata": {
    "collapsed": false,
    "pycharm": {
     "name": "#%% md\n"
    }
   }
  },
  {
   "cell_type": "markdown",
   "source": [
    "#### Gomoku ResNet\n",
    "GomokuResNet.ipynb shows a 40-layer residual network that generalizes almost perfectly on the terminal threat task after being trained with 20000 samples."
   ],
   "metadata": {
    "collapsed": false,
    "pycharm": {
     "name": "#%% md\n"
    }
   }
  },
  {
   "cell_type": "markdown",
   "source": [
    "### Training\n",
    "`Training_Curriculum.ipynb` demonstrates a frustration-free path to training a freshman resnet."
   ],
   "metadata": {
    "collapsed": false,
    "pycharm": {
     "name": "#%% md\n"
    }
   }
  },
  {
   "cell_type": "markdown",
   "source": [
    "#### Gomoku Client\n",
    "see `play_a_game.py` to play against the heuristic. Reasonably strong"
   ],
   "metadata": {
    "collapsed": false,
    "pycharm": {
     "name": "#%% md\n"
    }
   }
  },
  {
   "cell_type": "markdown",
   "source": [
    "### Next Steps\n",
    "Next, we'll need to produce more samples and store them with the full heuristic policy evaluation. And observe how training works out then.\n",
    "\n",
    "We want to evaluate the effect of the expert opinion. That is feeding the heuristic policy output into the ResNet at various points. We hope to increase the learning speed. However, the risk is that learning advanced features might be hampered by the then-outdated expert. We'll see.\n",
    "\n",
    "Then, we want to eventually reassemble the Training/Arena setup and hope to train a network that - together with the MCTS - eventually defeats the original team MCTS+Heuristics. That would be the capstone project and the final success!!!"
   ],
   "metadata": {
    "collapsed": false,
    "pycharm": {
     "name": "#%% md\n"
    }
   }
  },
  {
   "cell_type": "markdown",
   "source": [
    "#### Fixing the topoligical value policy:\n",
    "\n",
    "- we have 5 (s) x 2 (c) x 4 (d) feature maps\n",
    "- pass all 40 through tf.math.power(x, 6.)\n",
    "-\n",
    "- conv with 8 filters\n",
    "- tf.math.power(x, 1/6.)\n",
    "\n",
    "- results in 8 features sum_d\n",
    "\n",
    "\n",
    "    -... -...  -... -...  -... -...  -... -...  -... -...\n",
    "\n",
    "s   0          1          2          3          4\n",
    "c   0     1    0     1    0     1    0     1    0\n",
    "d   0123 0123  0123 0123  0123 0123  0123 0123  0123 0123\n",
    "\n",
    "    1000 0000  1000 0000  1000 0000  1000 0000  1000 0000\n",
    "    0100 0000  0100 0000  0100 0000  0100 0000  0100 0000\n",
    "    0010 0000  0010 0000  0010 0000  0010 0000  0010 0000\n",
    "    ....\n",
    "    0000 0001  0000 0001  0000 0001  0000 0001  0000 0001\n",
    "\n",
    "->\n",
    "\n",
    "c   0    1\n",
    "d   0123 0123\n",
    "\n",
    "- tf.math.power(x, 5/6)\n",
    "filters:\n",
    "1111 0000\n",
    "0000 1111\n",
    "\n",
    "c  0 1\n",
    "\n",
    "- tf.math.power(1/5)\n",
    "\n",
    "2 filters\n",
    "1 1\n",
    "1 -1\n",
    "\n",
    "slice\n",
    "\n",
    "sum into softmax\n",
    "diff into tanh\n",
    "\n",
    "wie gehabt!\n",
    "\n",
    "feed the sum of hard value and soft value into tanh\n"
   ],
   "metadata": {
    "collapsed": false,
    "pycharm": {
     "name": "#%% md\n"
    }
   }
  }
 ],
 "metadata": {
  "kernelspec": {
   "display_name": "Python 3",
   "language": "python",
   "name": "python3"
  },
  "language_info": {
   "codemirror_mode": {
    "name": "ipython",
    "version": 2
   },
   "file_extension": ".py",
   "mimetype": "text/x-python",
   "name": "python",
   "nbconvert_exporter": "python",
   "pygments_lexer": "ipython2",
   "version": "2.7.6"
  }
 },
 "nbformat": 4,
 "nbformat_minor": 0
}