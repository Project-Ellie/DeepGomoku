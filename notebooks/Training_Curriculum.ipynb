{
 "cells": [
  {
   "cell_type": "markdown",
   "source": [
    "# Training: Curriculum\n",
    "\n",
    "#### 1) Train on various close-to-terminal standard situations\n",
    "#### 2) Train on self-play episodes of the champion\n",
    "#### 3) Avoid frustrating the freshling"
   ],
   "metadata": {
    "collapsed": false,
    "pycharm": {
     "name": "#%% md\n"
    }
   }
  },
  {
   "cell_type": "code",
   "execution_count": 1,
   "outputs": [],
   "source": [
    "import os\n",
    "%load_ext autoreload\n",
    "%autoreload 2"
   ],
   "metadata": {
    "collapsed": false,
    "pycharm": {
     "name": "#%%\n"
    }
   }
  },
  {
   "cell_type": "code",
   "execution_count": 2,
   "outputs": [
    {
     "name": "stderr",
     "output_type": "stream",
     "text": [
      "2022-09-06 16:56:00.787437: I tensorflow/core/platform/cpu_feature_guard.cc:193] This TensorFlow binary is optimized with oneAPI Deep Neural Network Library (oneDNN) to use the following CPU instructions in performance-critical operations:  AVX2 FMA\n",
      "To enable them in other operations, rebuild TensorFlow with the appropriate compiler flags.\n"
     ]
    }
   ],
   "source": [
    "import tempfile\n",
    "import random\n",
    "from pathlib import Path\n",
    "\n",
    "import numpy as np\n",
    "\n",
    "from aegomoku.tfrecords import to_tfrecords\n",
    "from aegomoku.game_data import read_training_data\n",
    "from aegomoku.trainer import Trainer\n",
    "from aegomoku.game_data import create_dataset\n",
    "from aegomoku.utils import analyse_example"
   ],
   "metadata": {
    "collapsed": false,
    "pycharm": {
     "name": "#%%\n"
    }
   }
  },
  {
   "cell_type": "code",
   "execution_count": 3,
   "outputs": [],
   "source": [
    "BOARD_SIZE = 15"
   ],
   "metadata": {
    "collapsed": false,
    "pycharm": {
     "name": "#%%\n"
    }
   }
  },
  {
   "cell_type": "markdown",
   "source": [
    "---"
   ],
   "metadata": {
    "collapsed": false,
    "pycharm": {
     "name": "#%% md\n"
    }
   }
  },
  {
   "cell_type": "markdown",
   "source": [
    "# Read curriculum game data"
   ],
   "metadata": {
    "collapsed": false,
    "pycharm": {
     "name": "#%% md\n"
    }
   }
  },
  {
   "cell_type": "markdown",
   "source": [
    "### Pickle files\n",
    "Pickle files contain only single representatives of the 8 symmetries and the board positions are represented by the list of integers for the stones instead of the canonical N x X x 3 representation"
   ],
   "metadata": {
    "collapsed": false,
    "pycharm": {
     "name": "#%% md\n"
    }
   }
  },
  {
   "cell_type": "code",
   "execution_count": 4,
   "outputs": [
    {
     "name": "stdout",
     "output_type": "stream",
     "text": [
      "['00011.pickle', '00003.pickle', '00001.pickle', '00009.pickle', '00005.pickle', '00007.pickle', '00010.pickle', '00002.pickle', '00012.pickle', '00008.pickle', '00004.pickle', '00006.pickle']\n"
     ]
    }
   ],
   "source": [
    "source = os.listdir('../DATA')\n",
    "print(source)"
   ],
   "metadata": {
    "collapsed": false,
    "pycharm": {
     "name": "#%%\n"
    }
   }
  },
  {
   "cell_type": "markdown",
   "source": [
    "### Preprocess to tf-friendly TFRecords\n",
    "\n",
    "`to_tfrecord()` expands the 8 symmetries and writes the result as tfrecord files for efficient consumption by Tensorflow. Since the preprocessing is relatively inexpensive, we locate the tfrecords in a temporary directory that we clean up afterwards."
   ],
   "metadata": {
    "collapsed": false,
    "pycharm": {
     "name": "#%% md\n"
    }
   }
  },
  {
   "cell_type": "code",
   "execution_count": 86,
   "outputs": [
    {
     "name": "stderr",
     "output_type": "stream",
     "text": [
      "100%|██████████| 12/12 [00:00<00:00, 30.46it/s]\n"
     ]
    },
    {
     "data": {
      "text/plain": "['/var/folders/0s/fny92xb54c50mb90g3l_zmx00000gp/T/tmpp_aj2cdy/00011.tfrecords',\n '/var/folders/0s/fny92xb54c50mb90g3l_zmx00000gp/T/tmpp_aj2cdy/00003.tfrecords',\n '/var/folders/0s/fny92xb54c50mb90g3l_zmx00000gp/T/tmpp_aj2cdy/00001.tfrecords',\n '/var/folders/0s/fny92xb54c50mb90g3l_zmx00000gp/T/tmpp_aj2cdy/00009.tfrecords',\n '/var/folders/0s/fny92xb54c50mb90g3l_zmx00000gp/T/tmpp_aj2cdy/00005.tfrecords',\n '/var/folders/0s/fny92xb54c50mb90g3l_zmx00000gp/T/tmpp_aj2cdy/00007.tfrecords',\n '/var/folders/0s/fny92xb54c50mb90g3l_zmx00000gp/T/tmpp_aj2cdy/00010.tfrecords',\n '/var/folders/0s/fny92xb54c50mb90g3l_zmx00000gp/T/tmpp_aj2cdy/00002.tfrecords',\n '/var/folders/0s/fny92xb54c50mb90g3l_zmx00000gp/T/tmpp_aj2cdy/00012.tfrecords',\n '/var/folders/0s/fny92xb54c50mb90g3l_zmx00000gp/T/tmpp_aj2cdy/00008.tfrecords',\n '/var/folders/0s/fny92xb54c50mb90g3l_zmx00000gp/T/tmpp_aj2cdy/00004.tfrecords',\n '/var/folders/0s/fny92xb54c50mb90g3l_zmx00000gp/T/tmpp_aj2cdy/00006.tfrecords']"
     },
     "execution_count": 86,
     "metadata": {},
     "output_type": "execute_result"
    }
   ],
   "source": [
    "from aegomoku.tfrecords import load_dataset\n",
    "\n",
    "opportunities_dir = tempfile.mkdtemp()\n",
    "opportunities_files = to_tfrecords('../DATA', target_dir=opportunities_dir, condition=lambda s, p, v: v <-.99)\n",
    "opportunities_files"
   ],
   "metadata": {
    "collapsed": false,
    "pycharm": {
     "name": "#%%\n"
    }
   }
  },
  {
   "cell_type": "code",
   "execution_count": 87,
   "outputs": [
    {
     "data": {
      "text/plain": "1776"
     },
     "execution_count": 87,
     "metadata": {},
     "output_type": "execute_result"
    }
   ],
   "source": [
    "ds = load_dataset(opportunities_files, batch_size=1)\n",
    "count = 0\n",
    "for _ in ds:\n",
    "    count += 1\n",
    "count"
   ],
   "metadata": {
    "collapsed": false,
    "pycharm": {
     "name": "#%%\n"
    }
   }
  },
  {
   "cell_type": "code",
   "execution_count": 62,
   "outputs": [],
   "source": [
    "ds = load_dataset(opportunities_files, batch_size=128)"
   ],
   "metadata": {
    "collapsed": false,
    "pycharm": {
     "name": "#%%\n"
    }
   }
  },
  {
   "cell_type": "code",
   "execution_count": 67,
   "outputs": [
    {
     "name": "stdout",
     "output_type": "stream",
     "text": [
      "Next to play: WHITE\n",
      "Value from WHITE's point of view: -0.9994991421699524\n"
     ]
    },
    {
     "data": {
      "text/plain": "<Figure size 750x750 with 1 Axes>",
      "image/png": "[encoded data removed]"
     },
     "metadata": {},
     "output_type": "display_data"
    }
   ],
   "source": [
    "s, p, v = next(iter(ds))\n",
    "example = np.squeeze(s[0,:,:,:]), list(np.squeeze(p[0,:])), np.squeeze(v[0])\n",
    "analyse_example(BOARD_SIZE, example, disp_width=7.5, policy_cutoff=.001)"
   ],
   "metadata": {
    "collapsed": false,
    "pycharm": {
     "name": "#%%\n"
    }
   }
  },
  {
   "cell_type": "markdown",
   "source": [
    "### Clean up"
   ],
   "metadata": {
    "collapsed": false,
    "pycharm": {
     "name": "#%% md\n"
    }
   }
  },
  {
   "cell_type": "code",
   "execution_count": 79,
   "outputs": [
    {
     "data": {
      "text/plain": "[112, 126, 98, 114, 84, 113, 82, 111, 81, 97, 69, 96, 68, 83, 54, 67, 39]"
     },
     "execution_count": 79,
     "metadata": {},
     "output_type": "execute_result"
    }
   ],
   "source": [
    "from aegomoku.utils import stones_from_example\n",
    "stones, winner = stones_from_example(example)\n",
    "stones"
   ],
   "metadata": {
    "collapsed": false,
    "pycharm": {
     "name": "#%%\n"
    }
   }
  },
  {
   "cell_type": "code",
   "execution_count": 80,
   "outputs": [],
   "source": [
    "from aegomoku.gomoku_board import GomokuBoard\n",
    "\n",
    "board = GomokuBoard(15, stones)"
   ],
   "metadata": {
    "collapsed": false,
    "pycharm": {
     "name": "#%%\n"
    }
   }
  },
  {
   "cell_type": "code",
   "execution_count": 81,
   "outputs": [],
   "source": [
    "from aegomoku.gomoku_game import GomokuGame\n",
    "\n",
    "game = GomokuGame(15)"
   ],
   "metadata": {
    "collapsed": false,
    "pycharm": {
     "name": "#%%\n"
    }
   }
  },
  {
   "cell_type": "code",
   "execution_count": 84,
   "outputs": [],
   "source": [
    "game.get_winner(board)"
   ],
   "metadata": {
    "collapsed": false,
    "pycharm": {
     "name": "#%%\n"
    }
   }
  },
  {
   "cell_type": "code",
   "execution_count": 128,
   "outputs": [],
   "source": [
    "temp_dir = Path(target_dir)\n",
    "if temp_dir.exists():\n",
    "    for temp_file in temp_dir.iterdir():\n",
    "        temp_file.unlink()\n",
    "    temp_dir.rmdir()"
   ],
   "metadata": {
    "collapsed": false,
    "pycharm": {
     "name": "#%%\n"
    }
   }
  },
  {
   "cell_type": "code",
   "execution_count": 46,
   "outputs": [
    {
     "data": {
      "text/plain": "72"
     },
     "execution_count": 46,
     "metadata": {},
     "output_type": "execute_result"
    }
   ],
   "source": [
    "count = 0\n",
    "for e in ds:\n",
    "    count += 1\n",
    "count"
   ],
   "metadata": {
    "collapsed": false,
    "pycharm": {
     "name": "#%%\n"
    }
   }
  },
  {
   "cell_type": "code",
   "execution_count": 45,
   "outputs": [
    {
     "data": {
      "text/plain": "73728"
     },
     "execution_count": 45,
     "metadata": {},
     "output_type": "execute_result"
    }
   ],
   "source": [
    "72 * 1024"
   ],
   "metadata": {
    "collapsed": false,
    "pycharm": {
     "name": "#%%\n"
    }
   }
  },
  {
   "cell_type": "code",
   "execution_count": null,
   "outputs": [],
   "source": [],
   "metadata": {
    "collapsed": false,
    "pycharm": {
     "name": "#%%\n"
    }
   }
  },
  {
   "cell_type": "code",
   "execution_count": null,
   "outputs": [],
   "source": [],
   "metadata": {
    "collapsed": false,
    "pycharm": {
     "name": "#%%\n"
    }
   }
  },
  {
   "cell_type": "code",
   "execution_count": null,
   "outputs": [],
   "source": [],
   "metadata": {
    "collapsed": false,
    "pycharm": {
     "name": "#%%\n"
    }
   }
  },
  {
   "cell_type": "code",
   "execution_count": 31,
   "outputs": [],
   "source": [
    "import tensorflow as tf\n",
    "small_ds = tf.data.Dataset.choose_from_datasets([ds], tf.data.Dataset.range(4))"
   ],
   "metadata": {
    "collapsed": false,
    "pycharm": {
     "name": "#%%\n"
    }
   }
  },
  {
   "cell_type": "code",
   "execution_count": 32,
   "outputs": [],
   "source": [
    "batch = next(iter(small_ds))"
   ],
   "metadata": {
    "collapsed": false,
    "pycharm": {
     "name": "#%%\n"
    }
   }
  },
  {
   "cell_type": "code",
   "execution_count": 33,
   "outputs": [
    {
     "data": {
      "text/plain": "(<tf.Tensor: shape=(1024, 17, 17, 3), dtype=uint8, numpy=\n array([[[[0, 0, 1],\n          [0, 0, 1],\n          [0, 0, 1],\n          ...,\n          [0, 0, 1],\n          [0, 0, 1],\n          [0, 0, 1]],\n \n         [[0, 0, 1],\n          [0, 0, 0],\n          [0, 0, 0],\n          ...,\n          [0, 0, 0],\n          [0, 0, 0],\n          [0, 0, 1]],\n \n         [[0, 0, 1],\n          [0, 0, 0],\n          [0, 0, 0],\n          ...,\n          [0, 0, 0],\n          [0, 0, 0],\n          [0, 0, 1]],\n \n         ...,\n \n         [[0, 0, 1],\n          [0, 0, 0],\n          [0, 0, 0],\n          ...,\n          [0, 0, 0],\n          [0, 0, 0],\n          [0, 0, 1]],\n \n         [[0, 0, 1],\n          [0, 0, 0],\n          [0, 0, 0],\n          ...,\n          [0, 0, 0],\n          [0, 0, 0],\n          [0, 0, 1]],\n \n         [[0, 0, 1],\n          [0, 0, 1],\n          [0, 0, 1],\n          ...,\n          [0, 0, 1],\n          [0, 0, 1],\n          [0, 0, 1]]],\n \n \n        [[[0, 0, 1],\n          [0, 0, 1],\n          [0, 0, 1],\n          ...,\n          [0, 0, 1],\n          [0, 0, 1],\n          [0, 0, 1]],\n \n         [[0, 0, 1],\n          [0, 0, 0],\n          [0, 0, 0],\n          ...,\n          [0, 0, 0],\n          [0, 0, 0],\n          [0, 0, 1]],\n \n         [[0, 0, 1],\n          [0, 0, 0],\n          [0, 0, 0],\n          ...,\n          [0, 0, 0],\n          [0, 0, 0],\n          [0, 0, 1]],\n \n         ...,\n \n         [[0, 0, 1],\n          [0, 0, 0],\n          [0, 0, 0],\n          ...,\n          [0, 0, 0],\n          [0, 0, 0],\n          [0, 0, 1]],\n \n         [[0, 0, 1],\n          [0, 0, 0],\n          [0, 0, 0],\n          ...,\n          [0, 0, 0],\n          [0, 0, 0],\n          [0, 0, 1]],\n \n         [[0, 0, 1],\n          [0, 0, 1],\n          [0, 0, 1],\n          ...,\n          [0, 0, 1],\n          [0, 0, 1],\n          [0, 0, 1]]],\n \n \n        [[[0, 0, 1],\n          [0, 0, 1],\n          [0, 0, 1],\n          ...,\n          [0, 0, 1],\n          [0, 0, 1],\n          [0, 0, 1]],\n \n         [[0, 0, 1],\n          [0, 0, 0],\n          [0, 0, 0],\n          ...,\n          [0, 0, 0],\n          [0, 0, 0],\n          [0, 0, 1]],\n \n         [[0, 0, 1],\n          [0, 0, 0],\n          [0, 0, 0],\n          ...,\n          [0, 0, 0],\n          [0, 0, 0],\n          [0, 0, 1]],\n \n         ...,\n \n         [[0, 0, 1],\n          [0, 0, 0],\n          [0, 0, 0],\n          ...,\n          [0, 0, 0],\n          [0, 0, 0],\n          [0, 0, 1]],\n \n         [[0, 0, 1],\n          [0, 0, 0],\n          [0, 0, 0],\n          ...,\n          [0, 0, 0],\n          [0, 0, 0],\n          [0, 0, 1]],\n \n         [[0, 0, 1],\n          [0, 0, 1],\n          [0, 0, 1],\n          ...,\n          [0, 0, 1],\n          [0, 0, 1],\n          [0, 0, 1]]],\n \n \n        ...,\n \n \n        [[[0, 0, 1],\n          [0, 0, 1],\n          [0, 0, 1],\n          ...,\n          [0, 0, 1],\n          [0, 0, 1],\n          [0, 0, 1]],\n \n         [[0, 0, 1],\n          [0, 0, 0],\n          [0, 0, 0],\n          ...,\n          [0, 0, 0],\n          [0, 0, 0],\n          [0, 0, 1]],\n \n         [[0, 0, 1],\n          [0, 0, 0],\n          [0, 0, 0],\n          ...,\n          [0, 0, 0],\n          [0, 0, 0],\n          [0, 0, 1]],\n \n         ...,\n \n         [[0, 0, 1],\n          [0, 0, 0],\n          [0, 0, 0],\n          ...,\n          [0, 0, 0],\n          [0, 0, 0],\n          [0, 0, 1]],\n \n         [[0, 0, 1],\n          [0, 0, 0],\n          [0, 0, 0],\n          ...,\n          [0, 0, 0],\n          [0, 0, 0],\n          [0, 0, 1]],\n \n         [[0, 0, 1],\n          [0, 0, 1],\n          [0, 0, 1],\n          ...,\n          [0, 0, 1],\n          [0, 0, 1],\n          [0, 0, 1]]],\n \n \n        [[[0, 0, 1],\n          [0, 0, 1],\n          [0, 0, 1],\n          ...,\n          [0, 0, 1],\n          [0, 0, 1],\n          [0, 0, 1]],\n \n         [[0, 0, 1],\n          [0, 0, 0],\n          [0, 0, 0],\n          ...,\n          [0, 0, 0],\n          [0, 0, 0],\n          [0, 0, 1]],\n \n         [[0, 0, 1],\n          [0, 0, 0],\n          [0, 0, 0],\n          ...,\n          [0, 0, 0],\n          [0, 0, 0],\n          [0, 0, 1]],\n \n         ...,\n \n         [[0, 0, 1],\n          [0, 0, 0],\n          [0, 0, 0],\n          ...,\n          [0, 0, 0],\n          [0, 0, 0],\n          [0, 0, 1]],\n \n         [[0, 0, 1],\n          [0, 0, 0],\n          [0, 0, 0],\n          ...,\n          [0, 0, 0],\n          [0, 0, 0],\n          [0, 0, 1]],\n \n         [[0, 0, 1],\n          [0, 0, 1],\n          [0, 0, 1],\n          ...,\n          [0, 0, 1],\n          [0, 0, 1],\n          [0, 0, 1]]],\n \n \n        [[[0, 0, 1],\n          [0, 0, 1],\n          [0, 0, 1],\n          ...,\n          [0, 0, 1],\n          [0, 0, 1],\n          [0, 0, 1]],\n \n         [[0, 0, 1],\n          [0, 0, 0],\n          [0, 0, 0],\n          ...,\n          [0, 0, 0],\n          [0, 0, 0],\n          [0, 0, 1]],\n \n         [[0, 0, 1],\n          [0, 0, 0],\n          [0, 0, 0],\n          ...,\n          [0, 0, 0],\n          [0, 0, 0],\n          [0, 0, 1]],\n \n         ...,\n \n         [[0, 0, 1],\n          [0, 0, 0],\n          [0, 0, 0],\n          ...,\n          [0, 0, 0],\n          [0, 0, 0],\n          [0, 0, 1]],\n \n         [[0, 0, 1],\n          [0, 0, 0],\n          [0, 0, 0],\n          ...,\n          [0, 0, 0],\n          [0, 0, 0],\n          [0, 0, 1]],\n \n         [[0, 0, 1],\n          [0, 0, 1],\n          [0, 0, 1],\n          ...,\n          [0, 0, 1],\n          [0, 0, 1],\n          [0, 0, 1]]]], dtype=uint8)>,\n <tf.Tensor: shape=(1024, 225), dtype=float32, numpy=\n array([[0., 0., 0., ..., 0., 0., 0.],\n        [0., 0., 0., ..., 0., 0., 0.],\n        [0., 0., 0., ..., 0., 0., 0.],\n        ...,\n        [0., 0., 0., ..., 0., 0., 0.],\n        [0., 0., 0., ..., 0., 0., 0.],\n        [0., 0., 0., ..., 0., 0., 0.]], dtype=float32)>,\n <tf.Tensor: shape=(1024,), dtype=float32, numpy=\n array([-0.23188813,  0.59563553, -0.00291248, ..., -0.05297444,\n         0.07381995, -0.13663575], dtype=float32)>)"
     },
     "execution_count": 33,
     "metadata": {},
     "output_type": "execute_result"
    }
   ],
   "source": [
    "batch"
   ],
   "metadata": {
    "collapsed": false,
    "pycharm": {
     "name": "#%%\n"
    }
   }
  },
  {
   "cell_type": "code",
   "execution_count": null,
   "outputs": [],
   "source": [],
   "metadata": {
    "collapsed": false,
    "pycharm": {
     "name": "#%%\n"
    }
   }
  },
  {
   "cell_type": "code",
   "execution_count": 8,
   "outputs": [],
   "source": [
    "example = np.squeeze(s[0,:,:,:]), list(np.squeeze(p[0,:])), np.squeeze(v[0])\n",
    "analyse_example(BOARD_SIZE, example, disp_width=7.5, policy_cutoff=.001)"
   ],
   "metadata": {
    "collapsed": false,
    "pycharm": {
     "name": "#%%\n"
    }
   }
  },
  {
   "cell_type": "code",
   "execution_count": null,
   "outputs": [],
   "source": [],
   "metadata": {
    "collapsed": false,
    "pycharm": {
     "name": "#%%\n"
    }
   }
  },
  {
   "cell_type": "code",
   "execution_count": null,
   "outputs": [],
   "source": [],
   "metadata": {
    "collapsed": false,
    "pycharm": {
     "name": "#%%\n"
    }
   }
  },
  {
   "cell_type": "code",
   "execution_count": null,
   "outputs": [],
   "source": [],
   "metadata": {
    "collapsed": false,
    "pycharm": {
     "name": "#%%\n"
    }
   }
  },
  {
   "cell_type": "code",
   "execution_count": null,
   "outputs": [],
   "source": [],
   "metadata": {
    "collapsed": false,
    "pycharm": {
     "name": "#%%\n"
    }
   }
  },
  {
   "cell_type": "code",
   "execution_count": null,
   "outputs": [],
   "source": [],
   "metadata": {
    "collapsed": false,
    "pycharm": {
     "name": "#%%\n"
    }
   }
  },
  {
   "cell_type": "code",
   "execution_count": 19,
   "outputs": [
    {
     "name": "stdout",
     "output_type": "stream",
     "text": [
      "[0.    0.    0.    0.    0.    0.    0.    0.    0.    0.    0.    0.\n",
      " 0.    0.    0.    0.    0.    0.    0.    0.    0.    0.    0.    0.\n",
      " 0.    0.    0.    0.    0.    0.    0.    0.    0.    0.    0.    0.\n",
      " 0.    0.    0.    0.    0.    0.    0.    0.    0.    0.    0.    0.\n",
      " 0.    0.    0.    1.414 1.414 1.414 1.414 0.    0.    0.    0.    0.\n",
      " 0.    0.    0.    0.    0.    0.    1.414 2.646 2.236 2.646 2.236 1.414\n",
      " 0.    0.    0.    0.    0.    0.    1.414 1.414 0.    0.    2.236 3.162\n",
      " 3.162 2.646 1.414 0.    0.    0.    0.    0.    0.    1.414 2.646 0.\n",
      " 1.414 0.    2.236 0.    2.646 2.236 0.    0.    0.    0.    0.    0.\n",
      " 2.236 2.646 3.162 2.236 0.    1.414 2.236 2.646 1.414 0.    0.    0.\n",
      " 0.    0.    0.    1.414 2.646 3.162 0.    2.236 0.    1.414 1.414 0.\n",
      " 0.    0.    0.    0.    0.    0.    1.414 2.646 3.162 2.646 2.646 0.\n",
      " 0.    0.    0.    0.    0.    0.    0.    0.    0.    0.    2.236 2.236\n",
      " 2.236 2.236 1.414 0.    0.    0.    0.    0.    0.    0.    0.    0.\n",
      " 0.    0.    1.414 0.    1.414 0.    0.    0.    0.    0.    0.    0.\n",
      " 0.    0.    0.    0.    0.    0.    0.    0.    0.    0.    0.    0.\n",
      " 0.    0.    0.    0.    0.    0.    0.    0.    0.    0.    0.    0.\n",
      " 0.    0.    0.    0.    0.    0.    0.    0.    0.    0.    0.    0.\n",
      " 0.    0.    0.    0.    0.    0.    0.    0.    0.   ]\n"
     ]
    },
    {
     "ename": "KeyboardInterrupt",
     "evalue": "",
     "output_type": "error",
     "traceback": [
      "\u001B[0;31m---------------------------------------------------------------------------\u001B[0m",
      "\u001B[0;31mKeyboardInterrupt\u001B[0m                         Traceback (most recent call last)",
      "Input \u001B[0;32mIn [19]\u001B[0m, in \u001B[0;36m<cell line: 9>\u001B[0;34m()\u001B[0m\n\u001B[1;32m      6\u001B[0m N_warmup \u001B[38;5;241m=\u001B[39m [\u001B[38;5;241m1000\u001B[39m, \u001B[38;5;241m1000\u001B[39m, \u001B[38;5;241m1000\u001B[39m]\n\u001B[1;32m      7\u001B[0m N_main \u001B[38;5;241m=\u001B[39m [\u001B[38;5;241m20000\u001B[39m, \u001B[38;5;241m2000\u001B[39m, \u001B[38;5;241m4000\u001B[39m]\n\u001B[0;32m----> 9\u001B[0m curriculum \u001B[38;5;241m=\u001B[39m [read_training_data(filename, BOARD_SIZE) \u001B[38;5;28;01mfor\u001B[39;00m filename \u001B[38;5;129;01min\u001B[39;00m filenames]\n\u001B[1;32m     10\u001B[0m datasets_warmup \u001B[38;5;241m=\u001B[39m []\n\u001B[1;32m     11\u001B[0m datasets_main \u001B[38;5;241m=\u001B[39m []\n",
      "Input \u001B[0;32mIn [19]\u001B[0m, in \u001B[0;36m<listcomp>\u001B[0;34m(.0)\u001B[0m\n\u001B[1;32m      6\u001B[0m N_warmup \u001B[38;5;241m=\u001B[39m [\u001B[38;5;241m1000\u001B[39m, \u001B[38;5;241m1000\u001B[39m, \u001B[38;5;241m1000\u001B[39m]\n\u001B[1;32m      7\u001B[0m N_main \u001B[38;5;241m=\u001B[39m [\u001B[38;5;241m20000\u001B[39m, \u001B[38;5;241m2000\u001B[39m, \u001B[38;5;241m4000\u001B[39m]\n\u001B[0;32m----> 9\u001B[0m curriculum \u001B[38;5;241m=\u001B[39m [\u001B[43mread_training_data\u001B[49m\u001B[43m(\u001B[49m\u001B[43mfilename\u001B[49m\u001B[43m,\u001B[49m\u001B[43m \u001B[49m\u001B[43mBOARD_SIZE\u001B[49m\u001B[43m)\u001B[49m \u001B[38;5;28;01mfor\u001B[39;00m filename \u001B[38;5;129;01min\u001B[39;00m filenames]\n\u001B[1;32m     10\u001B[0m datasets_warmup \u001B[38;5;241m=\u001B[39m []\n\u001B[1;32m     11\u001B[0m datasets_main \u001B[38;5;241m=\u001B[39m []\n",
      "File \u001B[0;32m~/workspace/Project-Ellie/DeepGomoku/aegomoku/game_data.py:29\u001B[0m, in \u001B[0;36mread_training_data\u001B[0;34m(filename, board_size)\u001B[0m\n\u001B[1;32m     26\u001B[0m     traj \u001B[38;5;241m=\u001B[39m Unpickler(file)\u001B[38;5;241m.\u001B[39mload()\n\u001B[1;32m     27\u001B[0m     all_examples \u001B[38;5;241m+\u001B[39m\u001B[38;5;241m=\u001B[39m expand_trajectory(traj)\n\u001B[0;32m---> 29\u001B[0m \u001B[38;5;28;01mexcept\u001B[39;00m \u001B[38;5;167;01mEOFError\u001B[39;00m:\n\u001B[1;32m     30\u001B[0m     \u001B[38;5;28;01mreturn\u001B[39;00m all_examples\n",
      "File \u001B[0;32m~/workspace/Project-Ellie/DeepGomoku/aegomoku/game_data.py:40\u001B[0m, in \u001B[0;36mexpand_trajectory\u001B[0;34m(game, board_size, trajectory)\u001B[0m\n\u001B[1;32m     38\u001B[0m game \u001B[38;5;241m=\u001B[39m GomokuGame(board_size)\n\u001B[1;32m     39\u001B[0m probabilities \u001B[38;5;241m=\u001B[39m probs \u001B[38;5;241m/\u001B[39m \u001B[38;5;241m255.\u001B[39m\n\u001B[0;32m---> 40\u001B[0m state \u001B[38;5;241m=\u001B[39m GomokuBoard(board_size, stones)\u001B[38;5;241m.\u001B[39mcanonical_representation()\n\u001B[1;32m     41\u001B[0m symmetries \u001B[38;5;241m=\u001B[39m game\u001B[38;5;241m.\u001B[39mget_symmetries(state, probabilities)\n\u001B[1;32m     42\u001B[0m \u001B[38;5;28;01mfor\u001B[39;00m state, prediction \u001B[38;5;129;01min\u001B[39;00m symmetries:\n",
      "File \u001B[0;32m~/workspace/Project-Ellie/DeepGomoku/aegomoku/game_data.py:40\u001B[0m, in \u001B[0;36mexpand_trajectory\u001B[0;34m(game, board_size, trajectory)\u001B[0m\n\u001B[1;32m     38\u001B[0m game \u001B[38;5;241m=\u001B[39m GomokuGame(board_size)\n\u001B[1;32m     39\u001B[0m probabilities \u001B[38;5;241m=\u001B[39m probs \u001B[38;5;241m/\u001B[39m \u001B[38;5;241m255.\u001B[39m\n\u001B[0;32m---> 40\u001B[0m state \u001B[38;5;241m=\u001B[39m GomokuBoard(board_size, stones)\u001B[38;5;241m.\u001B[39mcanonical_representation()\n\u001B[1;32m     41\u001B[0m symmetries \u001B[38;5;241m=\u001B[39m game\u001B[38;5;241m.\u001B[39mget_symmetries(state, probabilities)\n\u001B[1;32m     42\u001B[0m \u001B[38;5;28;01mfor\u001B[39;00m state, prediction \u001B[38;5;129;01min\u001B[39;00m symmetries:\n",
      "File \u001B[0;32m_pydevd_bundle/pydevd_cython_darwin_310_64.pyx:1179\u001B[0m, in \u001B[0;36m_pydevd_bundle.pydevd_cython_darwin_310_64.SafeCallWrapper.__call__\u001B[0;34m()\u001B[0m\n",
      "File \u001B[0;32m_pydevd_bundle/pydevd_cython_darwin_310_64.pyx:620\u001B[0m, in \u001B[0;36m_pydevd_bundle.pydevd_cython_darwin_310_64.PyDBFrame.trace_dispatch\u001B[0;34m()\u001B[0m\n",
      "File \u001B[0;32m_pydevd_bundle/pydevd_cython_darwin_310_64.pyx:1095\u001B[0m, in \u001B[0;36m_pydevd_bundle.pydevd_cython_darwin_310_64.PyDBFrame.trace_dispatch\u001B[0;34m()\u001B[0m\n",
      "File \u001B[0;32m_pydevd_bundle/pydevd_cython_darwin_310_64.pyx:1057\u001B[0m, in \u001B[0;36m_pydevd_bundle.pydevd_cython_darwin_310_64.PyDBFrame.trace_dispatch\u001B[0;34m()\u001B[0m\n",
      "File \u001B[0;32m_pydevd_bundle/pydevd_cython_darwin_310_64.pyx:317\u001B[0m, in \u001B[0;36m_pydevd_bundle.pydevd_cython_darwin_310_64.PyDBFrame.do_wait_suspend\u001B[0;34m()\u001B[0m\n",
      "File \u001B[0;32m/Applications/DataSpell.app/Contents/plugins/python-ce/helpers/pydev/pydevd.py:1155\u001B[0m, in \u001B[0;36mPyDB.do_wait_suspend\u001B[0;34m(self, thread, frame, event, arg, send_suspend_message, is_unhandled_exception)\u001B[0m\n\u001B[1;32m   1152\u001B[0m         from_this_thread\u001B[38;5;241m.\u001B[39mappend(frame_id)\n\u001B[1;32m   1154\u001B[0m \u001B[38;5;28;01mwith\u001B[39;00m \u001B[38;5;28mself\u001B[39m\u001B[38;5;241m.\u001B[39m_threads_suspended_single_notification\u001B[38;5;241m.\u001B[39mnotify_thread_suspended(thread_id, stop_reason):\n\u001B[0;32m-> 1155\u001B[0m     \u001B[38;5;28;43mself\u001B[39;49m\u001B[38;5;241;43m.\u001B[39;49m\u001B[43m_do_wait_suspend\u001B[49m\u001B[43m(\u001B[49m\u001B[43mthread\u001B[49m\u001B[43m,\u001B[49m\u001B[43m \u001B[49m\u001B[43mframe\u001B[49m\u001B[43m,\u001B[49m\u001B[43m \u001B[49m\u001B[43mevent\u001B[49m\u001B[43m,\u001B[49m\u001B[43m \u001B[49m\u001B[43marg\u001B[49m\u001B[43m,\u001B[49m\u001B[43m \u001B[49m\u001B[43msuspend_type\u001B[49m\u001B[43m,\u001B[49m\u001B[43m \u001B[49m\u001B[43mfrom_this_thread\u001B[49m\u001B[43m)\u001B[49m\n",
      "File \u001B[0;32m/Applications/DataSpell.app/Contents/plugins/python-ce/helpers/pydev/pydevd.py:1170\u001B[0m, in \u001B[0;36mPyDB._do_wait_suspend\u001B[0;34m(self, thread, frame, event, arg, suspend_type, from_this_thread)\u001B[0m\n\u001B[1;32m   1167\u001B[0m             \u001B[38;5;28mself\u001B[39m\u001B[38;5;241m.\u001B[39m_call_mpl_hook()\n\u001B[1;32m   1169\u001B[0m         \u001B[38;5;28mself\u001B[39m\u001B[38;5;241m.\u001B[39mprocess_internal_commands()\n\u001B[0;32m-> 1170\u001B[0m         \u001B[43mtime\u001B[49m\u001B[38;5;241;43m.\u001B[39;49m\u001B[43msleep\u001B[49m\u001B[43m(\u001B[49m\u001B[38;5;241;43m0.01\u001B[39;49m\u001B[43m)\u001B[49m\n\u001B[1;32m   1172\u001B[0m \u001B[38;5;28mself\u001B[39m\u001B[38;5;241m.\u001B[39mcancel_async_evaluation(get_current_thread_id(thread), \u001B[38;5;28mstr\u001B[39m(\u001B[38;5;28mid\u001B[39m(frame)))\n\u001B[1;32m   1174\u001B[0m \u001B[38;5;66;03m# process any stepping instructions\u001B[39;00m\n",
      "\u001B[0;31mKeyboardInterrupt\u001B[0m: "
     ]
    }
   ],
   "source": [
    "filenames = [\"trajectories/mcts/the_heuristic_200.pickle\",\n",
    "             \"trajectories/policy/terminal_opportunities.pickle\",\n",
    "             \"trajectories/policy/terminal_threats.pickle\"]\n",
    "\n",
    "# Number of training samples from each course\n",
    "N_warmup = [1000, 1000, 1000]\n",
    "N_main = [20000, 2000, 4000]\n",
    "\n",
    "curriculum = [read_training_data(filename, BOARD_SIZE) for filename in filenames]\n",
    "datasets_warmup = []\n",
    "datasets_main = []\n",
    "for i in range(len(filenames)):\n",
    "    examples = curriculum[i]\n",
    "    datasets_warmup.append(create_dataset(examples[:N_warmup[i]]))\n",
    "    datasets_main.append(create_dataset(examples[:N_main[i]]))\n",
    "\n",
    "for i, course in enumerate(curriculum):\n",
    "    print(filenames[i])\n",
    "    print(len(course), len(course[0]), course[0][0].shape)"
   ],
   "metadata": {
    "collapsed": false,
    "pycharm": {
     "name": "#%%\n"
    }
   }
  },
  {
   "cell_type": "markdown",
   "source": [
    "## A quick peek into the course material"
   ],
   "metadata": {
    "collapsed": false,
    "pycharm": {
     "name": "#%% md\n"
    }
   }
  },
  {
   "cell_type": "code",
   "execution_count": 14,
   "outputs": [
    {
     "name": "stdout",
     "output_type": "stream",
     "text": [
      "trajectories/mcts/the_heuristic_200.pickle\n",
      "Next to play: WHITE\n",
      "Value from WHITE's point of view: -0.07604260914878462\n",
      "trajectories/policy/terminal_opportunities.pickle\n",
      "Next to play: BLACK\n",
      "Value from BLACK's point of view: 0.9288062201386487\n",
      "trajectories/policy/terminal_threats.pickle\n",
      "Next to play: WHITE\n",
      "Value from WHITE's point of view: -0.7951092100023196\n"
     ]
    },
    {
     "data": {
      "text/plain": "<Figure size 300x300 with 1 Axes>",
      "image/png": "[encoded data removed]"
     },
     "metadata": {},
     "output_type": "display_data"
    },
    {
     "data": {
      "text/plain": "<Figure size 300x300 with 1 Axes>",
      "image/png": "[encoded data removed]"
     },
     "metadata": {},
     "output_type": "display_data"
    },
    {
     "data": {
      "text/plain": "<Figure size 300x300 with 1 Axes>",
      "image/png": "[encoded data removed]"
     },
     "metadata": {},
     "output_type": "display_data"
    }
   ],
   "source": [
    "for i, course in enumerate(curriculum):\n",
    "    print(filenames[i])\n",
    "    analyse_example(BOARD_SIZE, course[random.randint(0, len(course))], disp_width=3)"
   ],
   "metadata": {
    "collapsed": false,
    "pycharm": {
     "name": "#%%\n"
    }
   }
  },
  {
   "cell_type": "markdown",
   "source": [
    "---"
   ],
   "metadata": {
    "collapsed": false,
    "pycharm": {
     "name": "#%% md\n"
    }
   }
  },
  {
   "cell_type": "markdown",
   "source": [
    "# Construct a fresh model"
   ],
   "metadata": {
    "collapsed": false,
    "pycharm": {
     "name": "#%% md\n"
    }
   }
  },
  {
   "cell_type": "code",
   "execution_count": 15,
   "outputs": [
    {
     "name": "stderr",
     "output_type": "stream",
     "text": [
      "/home/wgiersche/.local/share/virtualenvs/DeepGomoku-yQC4gx5q/lib/python3.8/site-packages/numpy/core/fromnumeric.py:2009: VisibleDeprecationWarning: Creating an ndarray from ragged nested sequences (which is a list-or-tuple of lists-or-tuples-or ndarrays with different lengths or shapes) is deprecated. If you meant to do this, you must specify 'dtype=object' when creating the ndarray.\n",
      "  result = asarray(a).shape\n"
     ]
    },
    {
     "name": "stdout",
     "output_type": "stream",
     "text": [
      "Model: \"gomoku_resnet_1\"\n",
      "__________________________________________________________________________________________________\n",
      " Layer (type)                   Output Shape         Param #     Connected to                     \n",
      "==================================================================================================\n",
      " inputs (InputLayer)            [(None, 17, 17, 3)]  0           []                               \n",
      "                                                                                                  \n",
      " heuristic_detector (Conv2D)    (None, 17, 17, 307)  111748      ['inputs[0][0]']                 \n",
      "                                                                                                  \n",
      " expand_1_11x11 (Conv2D)        (None, 17, 17, 1024  372736      ['inputs[0][0]']                 \n",
      "                                )                                                                 \n",
      "                                                                                                  \n",
      " heuristic_priority (Conv2D)    (None, 17, 17, 5)    1540        ['heuristic_detector[0][0]']     \n",
      "                                                                                                  \n",
      " contract_1_5x5 (Conv2D)        (None, 17, 17, 4)    102404      ['expand_1_11x11[0][0]']         \n",
      "                                                                                                  \n",
      " concatenate_19 (Concatenate)   (None, 17, 17, 9)    0           ['heuristic_priority[0][0]',     \n",
      "                                                                  'contract_1_5x5[0][0]']         \n",
      "                                                                                                  \n",
      " expand_2_5x5 (Conv2D)          (None, 17, 17, 32)   7232        ['concatenate_19[0][0]']         \n",
      "                                                                                                  \n",
      " contract_2_3x3 (Conv2D)        (None, 17, 17, 4)    1156        ['expand_2_5x5[0][0]']           \n",
      "                                                                                                  \n",
      " skip_2 (Add)                   (None, 17, 17, 4)    0           ['contract_2_3x3[0][0]',         \n",
      "                                                                  'contract_1_5x5[0][0]']         \n",
      "                                                                                                  \n",
      " concatenate_20 (Concatenate)   (None, 17, 17, 9)    0           ['heuristic_priority[0][0]',     \n",
      "                                                                  'skip_2[0][0]']                 \n",
      "                                                                                                  \n",
      " expand_3_5x5 (Conv2D)          (None, 17, 17, 32)   7232        ['concatenate_20[0][0]']         \n",
      "                                                                                                  \n",
      " contract_3_3x3 (Conv2D)        (None, 17, 17, 4)    1156        ['expand_3_5x5[0][0]']           \n",
      "                                                                                                  \n",
      " skip_3 (Add)                   (None, 17, 17, 4)    0           ['contract_3_3x3[0][0]',         \n",
      "                                                                  'skip_2[0][0]']                 \n",
      "                                                                                                  \n",
      " concatenate_21 (Concatenate)   (None, 17, 17, 9)    0           ['heuristic_priority[0][0]',     \n",
      "                                                                  'skip_3[0][0]']                 \n",
      "                                                                                                  \n",
      " expand_4_5x5 (Conv2D)          (None, 17, 17, 32)   7232        ['concatenate_21[0][0]']         \n",
      "                                                                                                  \n",
      " contract_4_3x3 (Conv2D)        (None, 17, 17, 4)    1156        ['expand_4_5x5[0][0]']           \n",
      "                                                                                                  \n",
      " skip_4 (Add)                   (None, 17, 17, 4)    0           ['contract_4_3x3[0][0]',         \n",
      "                                                                  'skip_3[0][0]']                 \n",
      "                                                                                                  \n",
      " concatenate_22 (Concatenate)   (None, 17, 17, 9)    0           ['heuristic_priority[0][0]',     \n",
      "                                                                  'skip_4[0][0]']                 \n",
      "                                                                                                  \n",
      " expand_5_5x5 (Conv2D)          (None, 17, 17, 32)   7232        ['concatenate_22[0][0]']         \n",
      "                                                                                                  \n",
      " contract_5_3x3 (Conv2D)        (None, 17, 17, 4)    1156        ['expand_5_5x5[0][0]']           \n",
      "                                                                                                  \n",
      " skip_5 (Add)                   (None, 17, 17, 4)    0           ['contract_5_3x3[0][0]',         \n",
      "                                                                  'skip_4[0][0]']                 \n",
      "                                                                                                  \n",
      " concatenate_23 (Concatenate)   (None, 17, 17, 9)    0           ['heuristic_priority[0][0]',     \n",
      "                                                                  'skip_5[0][0]']                 \n",
      "                                                                                                  \n",
      " expand_6_5x5 (Conv2D)          (None, 17, 17, 32)   7232        ['concatenate_23[0][0]']         \n",
      "                                                                                                  \n",
      " contract_6_3x3 (Conv2D)        (None, 17, 17, 4)    1156        ['expand_6_5x5[0][0]']           \n",
      "                                                                                                  \n",
      " skip_6 (Add)                   (None, 17, 17, 4)    0           ['contract_6_3x3[0][0]',         \n",
      "                                                                  'skip_5[0][0]']                 \n",
      "                                                                                                  \n",
      " concatenate_24 (Concatenate)   (None, 17, 17, 9)    0           ['heuristic_priority[0][0]',     \n",
      "                                                                  'skip_6[0][0]']                 \n",
      "                                                                                                  \n",
      " expand_7_5x5 (Conv2D)          (None, 17, 17, 32)   7232        ['concatenate_24[0][0]']         \n",
      "                                                                                                  \n",
      " contract_7_3x3 (Conv2D)        (None, 17, 17, 4)    1156        ['expand_7_5x5[0][0]']           \n",
      "                                                                                                  \n",
      " skip_7 (Add)                   (None, 17, 17, 4)    0           ['contract_7_3x3[0][0]',         \n",
      "                                                                  'skip_6[0][0]']                 \n",
      "                                                                                                  \n",
      " concatenate_25 (Concatenate)   (None, 17, 17, 9)    0           ['heuristic_priority[0][0]',     \n",
      "                                                                  'skip_7[0][0]']                 \n",
      "                                                                                                  \n",
      " expand_8_5x5 (Conv2D)          (None, 17, 17, 32)   7232        ['concatenate_25[0][0]']         \n",
      "                                                                                                  \n",
      " contract_8_3x3 (Conv2D)        (None, 17, 17, 4)    1156        ['expand_8_5x5[0][0]']           \n",
      "                                                                                                  \n",
      " skip_8 (Add)                   (None, 17, 17, 4)    0           ['contract_8_3x3[0][0]',         \n",
      "                                                                  'skip_7[0][0]']                 \n",
      "                                                                                                  \n",
      " concatenate_26 (Concatenate)   (None, 17, 17, 9)    0           ['heuristic_priority[0][0]',     \n",
      "                                                                  'skip_8[0][0]']                 \n",
      "                                                                                                  \n",
      " expand_9_5x5 (Conv2D)          (None, 17, 17, 32)   7232        ['concatenate_26[0][0]']         \n",
      "                                                                                                  \n",
      " contract_9_3x3 (Conv2D)        (None, 17, 17, 4)    1156        ['expand_9_5x5[0][0]']           \n",
      "                                                                                                  \n",
      " skip_9 (Add)                   (None, 17, 17, 4)    0           ['contract_9_3x3[0][0]',         \n",
      "                                                                  'skip_8[0][0]']                 \n",
      "                                                                                                  \n",
      " concatenate_27 (Concatenate)   (None, 17, 17, 9)    0           ['heuristic_priority[0][0]',     \n",
      "                                                                  'skip_9[0][0]']                 \n",
      "                                                                                                  \n",
      " expand_10_5x5 (Conv2D)         (None, 17, 17, 32)   7232        ['concatenate_27[0][0]']         \n",
      "                                                                                                  \n",
      " contract_10_3x3 (Conv2D)       (None, 17, 17, 4)    1156        ['expand_10_5x5[0][0]']          \n",
      "                                                                                                  \n",
      " skip_10 (Add)                  (None, 17, 17, 4)    0           ['contract_10_3x3[0][0]',        \n",
      "                                                                  'skip_9[0][0]']                 \n",
      "                                                                                                  \n",
      " concatenate_28 (Concatenate)   (None, 17, 17, 9)    0           ['heuristic_priority[0][0]',     \n",
      "                                                                  'skip_10[0][0]']                \n",
      "                                                                                                  \n",
      " expand_11_5x5 (Conv2D)         (None, 17, 17, 32)   7232        ['concatenate_28[0][0]']         \n",
      "                                                                                                  \n",
      " contract_11_3x3 (Conv2D)       (None, 17, 17, 4)    1156        ['expand_11_5x5[0][0]']          \n",
      "                                                                                                  \n",
      " skip_11 (Add)                  (None, 17, 17, 4)    0           ['contract_11_3x3[0][0]',        \n",
      "                                                                  'skip_10[0][0]']                \n",
      "                                                                                                  \n",
      " concatenate_29 (Concatenate)   (None, 17, 17, 9)    0           ['heuristic_priority[0][0]',     \n",
      "                                                                  'skip_11[0][0]']                \n",
      "                                                                                                  \n",
      " expand_12_5x5 (Conv2D)         (None, 17, 17, 32)   7232        ['concatenate_29[0][0]']         \n",
      "                                                                                                  \n",
      " contract_12_3x3 (Conv2D)       (None, 17, 17, 4)    1156        ['expand_12_5x5[0][0]']          \n",
      "                                                                                                  \n",
      " skip_12 (Add)                  (None, 17, 17, 4)    0           ['contract_12_3x3[0][0]',        \n",
      "                                                                  'skip_11[0][0]']                \n",
      "                                                                                                  \n",
      " concatenate_30 (Concatenate)   (None, 17, 17, 9)    0           ['heuristic_priority[0][0]',     \n",
      "                                                                  'skip_12[0][0]']                \n",
      "                                                                                                  \n",
      " expand_13_5x5 (Conv2D)         (None, 17, 17, 32)   7232        ['concatenate_30[0][0]']         \n",
      "                                                                                                  \n",
      " contract_13_3x3 (Conv2D)       (None, 17, 17, 4)    1156        ['expand_13_5x5[0][0]']          \n",
      "                                                                                                  \n",
      " skip_13 (Add)                  (None, 17, 17, 4)    0           ['contract_13_3x3[0][0]',        \n",
      "                                                                  'skip_12[0][0]']                \n",
      "                                                                                                  \n",
      " concatenate_31 (Concatenate)   (None, 17, 17, 9)    0           ['heuristic_priority[0][0]',     \n",
      "                                                                  'skip_13[0][0]']                \n",
      "                                                                                                  \n",
      " expand_14_5x5 (Conv2D)         (None, 17, 17, 32)   7232        ['concatenate_31[0][0]']         \n",
      "                                                                                                  \n",
      " contract_14_3x3 (Conv2D)       (None, 17, 17, 4)    1156        ['expand_14_5x5[0][0]']          \n",
      "                                                                                                  \n",
      " skip_14 (Add)                  (None, 17, 17, 4)    0           ['contract_14_3x3[0][0]',        \n",
      "                                                                  'skip_13[0][0]']                \n",
      "                                                                                                  \n",
      " concatenate_32 (Concatenate)   (None, 17, 17, 9)    0           ['heuristic_priority[0][0]',     \n",
      "                                                                  'skip_14[0][0]']                \n",
      "                                                                                                  \n",
      " expand_15_5x5 (Conv2D)         (None, 17, 17, 32)   7232        ['concatenate_32[0][0]']         \n",
      "                                                                                                  \n",
      " contract_15_3x3 (Conv2D)       (None, 17, 17, 4)    1156        ['expand_15_5x5[0][0]']          \n",
      "                                                                                                  \n",
      " skip_15 (Add)                  (None, 17, 17, 4)    0           ['contract_15_3x3[0][0]',        \n",
      "                                                                  'skip_14[0][0]']                \n",
      "                                                                                                  \n",
      " concatenate_33 (Concatenate)   (None, 17, 17, 9)    0           ['heuristic_priority[0][0]',     \n",
      "                                                                  'skip_15[0][0]']                \n",
      "                                                                                                  \n",
      " expand_16_5x5 (Conv2D)         (None, 17, 17, 32)   7232        ['concatenate_33[0][0]']         \n",
      "                                                                                                  \n",
      " contract_16_3x3 (Conv2D)       (None, 17, 17, 4)    1156        ['expand_16_5x5[0][0]']          \n",
      "                                                                                                  \n",
      " skip_16 (Add)                  (None, 17, 17, 4)    0           ['contract_16_3x3[0][0]',        \n",
      "                                                                  'skip_15[0][0]']                \n",
      "                                                                                                  \n",
      " concatenate_34 (Concatenate)   (None, 17, 17, 9)    0           ['heuristic_priority[0][0]',     \n",
      "                                                                  'skip_16[0][0]']                \n",
      "                                                                                                  \n",
      " expand_17_5x5 (Conv2D)         (None, 17, 17, 32)   7232        ['concatenate_34[0][0]']         \n",
      "                                                                                                  \n",
      " contract_17_3x3 (Conv2D)       (None, 17, 17, 4)    1156        ['expand_17_5x5[0][0]']          \n",
      "                                                                                                  \n",
      " skip_17 (Add)                  (None, 17, 17, 4)    0           ['contract_17_3x3[0][0]',        \n",
      "                                                                  'skip_16[0][0]']                \n",
      "                                                                                                  \n",
      " concatenate_35 (Concatenate)   (None, 17, 17, 9)    0           ['heuristic_priority[0][0]',     \n",
      "                                                                  'skip_17[0][0]']                \n",
      "                                                                                                  \n",
      " expand_18_5x5 (Conv2D)         (None, 17, 17, 32)   7232        ['concatenate_35[0][0]']         \n",
      "                                                                                                  \n",
      " contract_18_3x3 (Conv2D)       (None, 17, 17, 4)    1156        ['expand_18_5x5[0][0]']          \n",
      "                                                                                                  \n",
      " skip_18 (Add)                  (None, 17, 17, 4)    0           ['contract_18_3x3[0][0]',        \n",
      "                                                                  'skip_17[0][0]']                \n",
      "                                                                                                  \n",
      " concatenate_36 (Concatenate)   (None, 17, 17, 9)    0           ['heuristic_priority[0][0]',     \n",
      "                                                                  'skip_18[0][0]']                \n",
      "                                                                                                  \n",
      " expand_19_5x5 (Conv2D)         (None, 17, 17, 32)   7232        ['concatenate_36[0][0]']         \n",
      "                                                                                                  \n",
      " contract_19_3x3 (Conv2D)       (None, 17, 17, 4)    1156        ['expand_19_5x5[0][0]']          \n",
      "                                                                                                  \n",
      " skip_19 (Add)                  (None, 17, 17, 4)    0           ['contract_19_3x3[0][0]',        \n",
      "                                                                  'skip_18[0][0]']                \n",
      "                                                                                                  \n",
      " concatenate_37 (Concatenate)   (None, 17, 17, 9)    0           ['heuristic_priority[0][0]',     \n",
      "                                                                  'skip_19[0][0]']                \n",
      "                                                                                                  \n",
      " expand_20_5x5 (Conv2D)         (None, 17, 17, 32)   7232        ['concatenate_37[0][0]']         \n",
      "                                                                                                  \n",
      " contract_20_3x3 (Conv2D)       (None, 17, 17, 4)    1156        ['expand_20_5x5[0][0]']          \n",
      "                                                                                                  \n",
      " skip_20 (Add)                  (None, 17, 17, 4)    0           ['contract_20_3x3[0][0]',        \n",
      "                                                                  'skip_19[0][0]']                \n",
      "                                                                                                  \n",
      " policy_aggregator (Conv2D)     (None, 17, 17, 1)    5           ['skip_20[0][0]']                \n",
      "                                                                                                  \n",
      " all_value_input (Concatenate)  (None, 17, 17, 13)   0           ['contract_20_3x3[0][0]',        \n",
      "                                                                  'concatenate_19[0][0]']         \n",
      "                                                                                                  \n",
      " border_off (Conv2D)            (None, 15, 15, 1)    10          ['policy_aggregator[0][0]']      \n",
      "                                                                                                  \n",
      " flat_value_input (Flatten)     (None, 3757)         0           ['all_value_input[0][0]']        \n",
      "                                                                                                  \n",
      " flat_logits (Flatten)          (None, 225)          0           ['border_off[0][0]']             \n",
      "                                                                                                  \n",
      " tf.math.truediv_1 (TFOpLambda)  (None, 3757)        0           ['flat_value_input[0][0]']       \n",
      "                                                                                                  \n",
      " policy_head (Softmax)          (None, 225)          0           ['flat_logits[0][0]']            \n",
      "                                                                                                  \n",
      " value_head (Dense)             (None, 1)            3758        ['tf.math.truediv_1[0][0]']      \n",
      "                                                                                                  \n",
      "==================================================================================================\n",
      "Total params: 751,573\n",
      "Trainable params: 638,275\n",
      "Non-trainable params: 113,298\n",
      "__________________________________________________________________________________________________\n"
     ]
    }
   ],
   "source": [
    "from aegomoku.gomoku_resnet import GomokuResnet\n",
    "\n",
    "model = GomokuResnet(BOARD_SIZE, num_sensor_filters=1024, num_blocks=20)\n",
    "model.compile()\n",
    "model.summary()"
   ],
   "metadata": {
    "collapsed": false,
    "pycharm": {
     "name": "#%%\n"
    }
   }
  },
  {
   "cell_type": "markdown",
   "source": [
    "---"
   ],
   "metadata": {
    "collapsed": false,
    "pycharm": {
     "name": "#%% md\n"
    }
   }
  },
  {
   "cell_type": "markdown",
   "source": [
    "\n",
    "# Execute the curriculum\n",
    "The idea here is to first teach the aspects of recognizing near-terminals in both directions: opportunities and threats.\n",
    "\n",
    "Then mixing any other game position into the trainings to see the network improve on all subjects."
   ],
   "metadata": {
    "collapsed": false,
    "pycharm": {
     "name": "#%% md\n"
    }
   }
  },
  {
   "cell_type": "code",
   "execution_count": 16,
   "outputs": [],
   "source": [
    "trainer = Trainer(model)"
   ],
   "metadata": {
    "collapsed": false,
    "pycharm": {
     "name": "#%%\n"
    }
   }
  },
  {
   "cell_type": "markdown",
   "source": [
    "\n",
    "## 1.  Warm up: Avoid Frustration\n",
    "We use a first curriculum of smaller datasets to initiate the fresh network"
   ],
   "metadata": {
    "collapsed": false,
    "pycharm": {
     "name": "#%% md\n"
    }
   }
  },
  {
   "cell_type": "code",
   "execution_count": 17,
   "outputs": [
    {
     "name": "stdout",
     "output_type": "stream",
     "text": [
      "Day 1:\n"
     ]
    },
    {
     "name": "stderr",
     "output_type": "stream",
     "text": [
      "2022-08-28 15:39:49.663823: I tensorflow/stream_executor/cuda/cuda_dnn.cc:384] Loaded cuDNN version 8100\n",
      "2022-08-28 15:39:49.910978: W tensorflow/stream_executor/gpu/asm_compiler.cc:111] *** WARNING *** You are using ptxas 10.1.243, which is older than 11.1. ptxas before 11.1 is known to miscompile XLA code, leading to incorrect results or invalid-address errors.\n",
      "\n",
      "You may not need to update to CUDA 11.1; cherry-picking the ptxas binary is often sufficient.\n"
     ]
    },
    {
     "name": "stdout",
     "output_type": "stream",
     "text": [
      "Epoch: 10, Training: (5.984689, 0.42564225)\n",
      "Epoch: 10, Training: (4.93517, 1.6454499)\n",
      "Day 2:\n",
      "Epoch: 10, Training: (5.099399, 0.7660154)\n",
      "Epoch: 10, Training: (5.1135254, 0.42240945)\n",
      "Day 3:\n",
      "Epoch: 10, Training: (5.095559, 0.7811626)\n",
      "Epoch: 10, Training: (5.087858, 0.43281984)\n",
      "Day 4:\n",
      "Epoch: 10, Training: (5.063113, 0.7571993)\n",
      "Epoch: 10, Training: (5.034372, 0.45303822)\n",
      "Day 5:\n",
      "Epoch: 10, Training: (4.9373207, 0.7252458)\n",
      "Epoch: 10, Training: (4.802661, 0.49764395)\n",
      "Day 6:\n",
      "Epoch: 10, Training: (4.87271, 0.7239165)\n",
      "Epoch: 10, Training: (4.6543207, 0.46893826)\n",
      "Day 7:\n",
      "Epoch: 10, Training: (4.3898616, 0.61984456)\n",
      "Epoch: 10, Training: (4.331273, 0.8262342)\n",
      "Day 8:\n",
      "Epoch: 10, Training: (4.746413, 0.76040953)\n",
      "Epoch: 10, Training: (4.534007, 0.4296605)\n",
      "Day 9:\n",
      "Epoch: 10, Training: (3.9880328, 0.7305903)\n",
      "Epoch: 10, Training: (3.3189864, 0.50517625)\n",
      "Day 10:\n",
      "Epoch: 10, Training: (3.3612587, 0.7467879)\n",
      "Epoch: 10, Training: (2.433451, 0.4450102)\n"
     ]
    }
   ],
   "source": [
    "# Step one: understand almost-terminal positions\n",
    "for i in range(10):\n",
    "    print(f\"Day {i+1}:\")\n",
    "    for ds in datasets_warmup[1:]:\n",
    "        trainer.train(ds, epochs_per_train=10, report_every=None)"
   ],
   "metadata": {
    "collapsed": false,
    "pycharm": {
     "name": "#%%\n"
    }
   }
  },
  {
   "cell_type": "code",
   "execution_count": 19,
   "outputs": [
    {
     "name": "stdout",
     "output_type": "stream",
     "text": [
      "Day 1:\n",
      "Epoch: 20, Training: (2.9545174, 0.37637115)\n",
      "Epoch: 20, Training: (2.2783313, 0.6314651)\n",
      "Epoch: 20, Training: (1.5957326, 0.5706433)\n",
      "Day 2:\n",
      "Epoch: 20, Training: (2.583715, 0.37852105)\n",
      "Epoch: 20, Training: (2.064467, 0.5933886)\n",
      "Epoch: 20, Training: (1.4782984, 0.5794381)\n",
      "Day 3:\n",
      "Epoch: 20, Training: (2.5468936, 0.38018087)\n",
      "Epoch: 20, Training: (1.8841041, 0.5721065)\n",
      "Epoch: 20, Training: (1.4671216, 0.5783595)\n",
      "Day 4:\n",
      "Epoch: 20, Training: (2.5332785, 0.37902275)\n",
      "Epoch: 20, Training: (1.8168484, 0.5695618)\n",
      "Epoch: 20, Training: (1.3424422, 0.58094114)\n",
      "Day 5:\n",
      "Epoch: 20, Training: (2.4570355, 0.37900242)\n",
      "Epoch: 20, Training: (1.6790651, 0.5693162)\n",
      "Epoch: 20, Training: (1.270053, 0.5763603)\n",
      "Day 6:\n",
      "Epoch: 20, Training: (2.4121413, 0.37815952)\n",
      "Epoch: 20, Training: (1.5680506, 0.5703819)\n",
      "Epoch: 20, Training: (1.2108147, 0.57305735)\n",
      "Day 7:\n",
      "Epoch: 20, Training: (2.388958, 0.37695324)\n",
      "Epoch: 20, Training: (1.4582207, 0.572131)\n",
      "Epoch: 20, Training: (1.140311, 0.5720842)\n",
      "Day 8:\n",
      "Epoch: 20, Training: (2.3351915, 0.37712944)\n",
      "Epoch: 20, Training: (1.3296322, 0.5700108)\n",
      "Epoch: 20, Training: (1.1284317, 0.56951153)\n",
      "Day 9:\n",
      "Epoch: 20, Training: (2.3219943, 0.37629175)\n",
      "Epoch: 20, Training: (1.235758, 0.5703205)\n",
      "Epoch: 20, Training: (1.0880249, 0.5672899)\n",
      "Day 10:\n",
      "Epoch: 20, Training: (2.2886944, 0.3752976)\n",
      "Epoch: 20, Training: (1.1160334, 0.57104266)\n",
      "Epoch: 20, Training: (1.0320303, 0.56579566)\n"
     ]
    }
   ],
   "source": [
    "# Step 2: mix in all other positions\n",
    "for i in range(10):\n",
    "    print(f\"Day {i+1}:\")\n",
    "    for ds in datasets_warmup:\n",
    "        trainer.train(ds, epochs_per_train=20, report_every=20)"
   ],
   "metadata": {
    "collapsed": false,
    "pycharm": {
     "name": "#%%\n"
    }
   }
  },
  {
   "cell_type": "markdown",
   "source": [
    "---"
   ],
   "metadata": {
    "collapsed": false,
    "pycharm": {
     "name": "#%% md\n"
    }
   }
  },
  {
   "cell_type": "code",
   "execution_count": 22,
   "outputs": [],
   "source": [
    "## The full training"
   ],
   "metadata": {
    "collapsed": false,
    "pycharm": {
     "name": "#%%\n"
    }
   }
  },
  {
   "cell_type": "code",
   "execution_count": 24,
   "outputs": [
    {
     "name": "stdout",
     "output_type": "stream",
     "text": [
      "Day 1:\n",
      "Epoch: 20, Training: (1.9103442, 0.14034212)\n",
      "Epoch: 20, Training: (0.44540924, 0.48245272)\n",
      "Epoch: 20, Training: (0.78295135, 0.13109705)\n",
      "Day 2:\n",
      "Epoch: 20, Training: (1.8499267, 0.088037685)\n",
      "Epoch: 20, Training: (0.4131093, 0.0917298)\n",
      "Epoch: 20, Training: (0.82444936, 0.20029807)\n",
      "Day 3:\n",
      "Epoch: 20, Training: (1.9201267, 0.08883932)\n",
      "Epoch: 20, Training: (0.7045783, 0.09379841)\n",
      "Epoch: 20, Training: (0.8149947, 0.13776222)\n",
      "Day 4:\n",
      "Epoch: 20, Training: (1.9129205, 0.085171014)\n",
      "Epoch: 20, Training: (0.4212504, 0.0651084)\n",
      "Epoch: 20, Training: (0.81880075, 0.27886462)\n",
      "Day 5:\n",
      "Epoch: 20, Training: (1.9625417, 0.088207014)\n",
      "Epoch: 20, Training: (0.424814, 0.11423471)\n",
      "Epoch: 20, Training: (0.84872854, 0.88825333)\n"
     ]
    }
   ],
   "source": [
    "for i in range(5):\n",
    "    print(f\"Day {i+1}:\")\n",
    "    for ds in datasets_main:\n",
    "        trainer.train(ds, epochs_per_train=20, report_every=None)"
   ],
   "metadata": {
    "collapsed": false,
    "pycharm": {
     "name": "#%%\n"
    }
   }
  },
  {
   "cell_type": "markdown",
   "source": [],
   "metadata": {
    "collapsed": false,
    "pycharm": {
     "name": "#%% md\n"
    }
   }
  },
  {
   "cell_type": "markdown",
   "source": [
    "---\n",
    "\n",
    "# Performance on formerly unseen data"
   ],
   "metadata": {
    "collapsed": false,
    "pycharm": {
     "name": "#%% md\n"
    }
   }
  },
  {
   "cell_type": "code",
   "execution_count": 30,
   "outputs": [
    {
     "name": "stdout",
     "output_type": "stream",
     "text": [
      "n=36011\n",
      "Next to play: BLACK\n",
      "Value from BLACK's point of view: 0.799886155502954\n",
      "Next to play: BLACK\n",
      "Value from BLACK's point of view: -0.408933162689209\n"
     ]
    },
    {
     "data": {
      "text/plain": "<Figure size 600x600 with 1 Axes>",
      "image/png": "[encoded data removed]"
     },
     "metadata": {},
     "output_type": "display_data"
    },
    {
     "data": {
      "text/plain": "<Figure size 600x600 with 1 Axes>",
      "image/png": "[encoded data removed]"
     },
     "metadata": {},
     "output_type": "display_data"
    }
   ],
   "source": [
    "from aegomoku.utils import analyse_example\n",
    "training_data = curriculum[0]\n",
    "\n",
    "n = random.randint(N_main[0], len(training_data))\n",
    "sample = np.expand_dims(training_data[n][0], axis=0).astype(float)\n",
    "\n",
    "# Training Material\n",
    "print(f\"n={n}\")\n",
    "analyse_example(BOARD_SIZE, training_data[n])\n",
    "\n",
    "# Learned\n",
    "s, p, v = training_data[n]\n",
    "p_learned, v_learned = model(sample)\n",
    "learned = (s, list(p_learned.numpy()), np.squeeze(v_learned))\n",
    "analyse_example(BOARD_SIZE, learned)"
   ],
   "metadata": {
    "collapsed": false,
    "pycharm": {
     "name": "#%%\n"
    }
   }
  },
  {
   "cell_type": "code",
   "execution_count": null,
   "outputs": [],
   "source": [],
   "metadata": {
    "collapsed": false,
    "pycharm": {
     "name": "#%%\n"
    }
   }
  }
 ],
 "metadata": {
  "kernelspec": {
   "display_name": "Python 3",
   "language": "python",
   "name": "python3"
  },
  "language_info": {
   "codemirror_mode": {
    "name": "ipython",
    "version": 2
   },
   "file_extension": ".py",
   "mimetype": "text/x-python",
   "name": "python",
   "nbconvert_exporter": "python",
   "pygments_lexer": "ipython2",
   "version": "2.7.6"
  }
 },
 "nbformat": 4,
 "nbformat_minor": 0
}