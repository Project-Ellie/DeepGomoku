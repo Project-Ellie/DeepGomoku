{
 "cells": [
  {
   "cell_type": "markdown",
   "source": [
    "# Training: Curriculum\n",
    "\n",
    "#### 1) Train on various close-to-terminal standard situations\n",
    "#### 2) Train on self-play episodes of the champion\n",
    "#### 3) Avoid frustrating the freshling"
   ],
   "metadata": {
    "collapsed": false
   }
  },
  {
   "cell_type": "code",
   "execution_count": 1,
   "outputs": [],
   "source": [
    "%load_ext autoreload\n",
    "%autoreload 2"
   ],
   "metadata": {
    "collapsed": false
   }
  },
  {
   "cell_type": "code",
   "execution_count": 2,
   "outputs": [
    {
     "data": {
      "text/plain": "[PhysicalDevice(name='/physical_device:GPU:0', device_type='GPU')]"
     },
     "execution_count": 2,
     "metadata": {},
     "output_type": "execute_result"
    }
   ],
   "source": [
    "import os\n",
    "import random\n",
    "\n",
    "import numpy as np\n",
    "import tensorflow as tf\n",
    "\n",
    "from aegomoku.trainer import Trainer, create_curriculum, TERMINAL_OPPORTUNITY, TERMINAL_THREAT, ENDGAME, ALL_GAMEPLAY\n",
    "from aegomoku.utils import analyse_example\n",
    "\n",
    "tf.config.list_physical_devices('GPU')"
   ],
   "metadata": {
    "collapsed": false
   }
  },
  {
   "cell_type": "code",
   "execution_count": 3,
   "outputs": [],
   "source": [
    "BOARD_SIZE = 19"
   ],
   "metadata": {
    "collapsed": false
   }
  },
  {
   "cell_type": "markdown",
   "source": [
    "---"
   ],
   "metadata": {
    "collapsed": false
   }
  },
  {
   "cell_type": "markdown",
   "source": [
    "# Read curriculum game data"
   ],
   "metadata": {
    "collapsed": false
   }
  },
  {
   "cell_type": "markdown",
   "source": [
    "### Pickle files\n",
    "Pickle files contain only single representatives of the 8 symmetries and the board positions are represented by the list of integers for the stones instead of the canonical N x X x 3 representation"
   ],
   "metadata": {
    "collapsed": false
   }
  },
  {
   "cell_type": "code",
   "execution_count": 4,
   "outputs": [
    {
     "name": "stdout",
     "output_type": "stream",
     "text": [
      "/home/wgiersche/workspace/Project-Ellie/DATA/selfplay/0\n"
     ]
    }
   ],
   "source": [
    "from pathlib import Path\n",
    "\n",
    "DATA_DIR='workspace/Project-Ellie/DATA'\n",
    "PHASE = '0'\n",
    "HOST = os.uname()[1]\n",
    "SELFPLAY_DIR = Path(Path.home()) / DATA_DIR / 'selfplay' / PHASE\n",
    "print(SELFPLAY_DIR)\n",
    "all_0 = list(SELFPLAY_DIR.rglob(\"*.pickle\"))\n",
    "all_0"
   ],
   "metadata": {
    "collapsed": false
   }
  },
  {
   "cell_type": "code",
   "execution_count": 24,
   "outputs": [
    {
     "name": "stdout",
     "output_type": "stream",
     "text": [
      "Preparing course: All Gameplay\n"
     ]
    },
    {
     "name": "stderr",
     "output_type": "stream",
     "text": [
      "100%|██████████| 57/57 [03:57<00:00,  4.17s/it]\n"
     ]
    },
    {
     "name": "stdout",
     "output_type": "stream",
     "text": [
      "Prepared course: All Gameplay: 580904 examples\n",
      "\n"
     ]
    }
   ],
   "source": [
    "curriculum = create_curriculum(all_0, 512, ALL_GAMEPLAY)"
   ],
   "metadata": {
    "collapsed": false
   }
  },
  {
   "cell_type": "markdown",
   "source": [
    "## Terminal Opportunities"
   ],
   "metadata": {
    "collapsed": false
   }
  },
  {
   "cell_type": "code",
   "execution_count": 8,
   "outputs": [
    {
     "data": {
      "text/plain": "{'TERMINAL_OPPORTUNITY': {'title': 'Terminal Opportunities',\n  'filter': <function aegomoku.trainer.create_curriculum.<locals>.is_opportunity(_s, _p, v)>},\n 'TERMINAL_THREAT': {'title': 'Terminal Threats',\n  'filter': <function aegomoku.trainer.create_curriculum.<locals>.is_threat(_s, _p, v)>},\n 'ENDGAME': {'title': 'General Endgame',\n  'filter': <function aegomoku.trainer.create_curriculum.<locals>.is_endgame(_s, _p, v)>},\n 'ALL_GAMEPLAY': {'title': 'All Gameplay',\n  'filter': None,\n  'num_examples': 580904,\n  'dataset': <BatchDataset element_spec=(TensorSpec(shape=<unknown>, dtype=tf.uint8, name=None), TensorSpec(shape=<unknown>, dtype=tf.float32, name=None), TensorSpec(shape=(None,), dtype=tf.float32, name=None))>,\n  'data_dir': '/tmp/tmp_jbc7phe'}}"
     },
     "execution_count": 8,
     "metadata": {},
     "output_type": "execute_result"
    }
   ],
   "source": [
    "curriculum"
   ],
   "metadata": {
    "collapsed": false
   }
  },
  {
   "cell_type": "code",
   "execution_count": 23,
   "outputs": [
    {
     "name": "stdout",
     "output_type": "stream",
     "text": [
      "Course not available\n"
     ]
    }
   ],
   "source": [
    "ds = curriculum[ALL_GAMEPLAY].get('dataset')\n",
    "if ds is not None:\n",
    "    s, p, v = next(iter(ds))\n",
    "    example = np.squeeze(s[0,:,:,:]), list(np.squeeze(p[0,:])), np.squeeze(v[0])\n",
    "    analyse_example(example, disp_width=7, policy_cutoff=.001)\n",
    "else:\n",
    "    print(\"Course not available\")"
   ],
   "metadata": {
    "collapsed": false
   }
  },
  {
   "cell_type": "code",
   "execution_count": 15,
   "outputs": [
    {
     "name": "stdout",
     "output_type": "stream",
     "text": [
      "Course not available\n"
     ]
    }
   ],
   "source": [
    "ds = curriculum[TERMINAL_THREAT].get('dataset')\n",
    "if ds is not None:\n",
    "    s, p, v = next(iter(ds))\n",
    "    example = np.squeeze(s[0,:,:,:]), list(np.squeeze(p[0,:])), np.squeeze(v[0])\n",
    "    analyse_example(example, disp_width=7.5, policy_cutoff=.001)\n",
    "else:\n",
    "    print(\"Course not available\")"
   ],
   "metadata": {
    "collapsed": false
   }
  },
  {
   "cell_type": "code",
   "execution_count": 16,
   "outputs": [
    {
     "name": "stdout",
     "output_type": "stream",
     "text": [
      "Course not available\n"
     ]
    }
   ],
   "source": [
    "ds = curriculum[ENDGAME].get('dataset')\n",
    "if ds is not None:\n",
    "    s, p, v = next(iter(ds))\n",
    "    example = np.squeeze(s[0,:,:,:]), list(np.squeeze(p[0,:])), np.squeeze(v[0])\n",
    "    analyse_example(example, disp_width=7.5, policy_cutoff=.001)\n",
    "else:\n",
    "    print(\"Course not available\")"
   ],
   "metadata": {
    "collapsed": false
   }
  },
  {
   "cell_type": "markdown",
   "source": [
    "## General Gameplay"
   ],
   "metadata": {
    "collapsed": false
   }
  },
  {
   "cell_type": "code",
   "execution_count": 8,
   "outputs": [],
   "source": [
    "ds = curriculum[ENDGAME]['dataset']\n",
    "i = iter(ds)"
   ],
   "metadata": {
    "collapsed": false
   }
  },
  {
   "cell_type": "code",
   "execution_count": 15,
   "outputs": [
    {
     "name": "stdout",
     "output_type": "stream",
     "text": [
      "Next to play: WHITE\n",
      "Value from WHITE's point of view: 0.9071542620658875\n"
     ]
    },
    {
     "data": {
      "text/plain": "<Figure size 432x432 with 1 Axes>",
      "image/png": "[encoded data removed]"
     },
     "metadata": {
      "needs_background": "light"
     },
     "output_type": "display_data"
    }
   ],
   "source": [
    "s, p, v = next(i)\n",
    "example = np.squeeze(s[0,:,:,:]), list(np.squeeze(p[0,:])), np.squeeze(v[0])\n",
    "analyse_example(example, disp_width=6, policy_cutoff=.001)\n"
   ],
   "metadata": {
    "collapsed": false
   }
  },
  {
   "cell_type": "markdown",
   "source": [
    "---"
   ],
   "metadata": {
    "collapsed": false
   }
  },
  {
   "cell_type": "markdown",
   "source": [
    "\n",
    "## Choose a model to start with\n"
   ],
   "metadata": {
    "collapsed": false
   }
  },
  {
   "cell_type": "markdown",
   "source": [
    "#### A freshman"
   ],
   "metadata": {
    "collapsed": false
   }
  },
  {
   "cell_type": "code",
   "execution_count": 18,
   "outputs": [
    {
     "name": "stdout",
     "output_type": "stream",
     "text": [
      "Model: \"gomoku_resnet_1\"\n",
      "__________________________________________________________________________________________________\n",
      " Layer (type)                   Output Shape         Param #     Connected to                     \n",
      "==================================================================================================\n",
      " inputs (InputLayer)            [(None, 21, 21, 3)]  0           []                               \n",
      "                                                                                                  \n",
      " heuristic_detector (Conv2D)    (None, 21, 21, 307)  111748      ['inputs[0][0]']                 \n",
      "                                                                                                  \n",
      " expand_1_11x11 (Conv2D)        (None, 21, 21, 512)  186368      ['inputs[0][0]']                 \n",
      "                                                                                                  \n",
      " heuristic_priority (Conv2D)    (None, 21, 21, 5)    1540        ['heuristic_detector[0][0]']     \n",
      "                                                                                                  \n",
      " contract_1_5x5 (Conv2D)        (None, 21, 21, 4)    51204       ['expand_1_11x11[0][0]']         \n",
      "                                                                                                  \n",
      " concatenate_11 (Concatenate)   (None, 21, 21, 9)    0           ['heuristic_priority[0][0]',     \n",
      "                                                                  'contract_1_5x5[0][0]']         \n",
      "                                                                                                  \n",
      " expand_2_5x5 (Conv2D)          (None, 21, 21, 32)   7232        ['concatenate_11[0][0]']         \n",
      "                                                                                                  \n",
      " contract_2_3x3 (Conv2D)        (None, 21, 21, 4)    1156        ['expand_2_5x5[0][0]']           \n",
      "                                                                                                  \n",
      " skip_2 (Add)                   (None, 21, 21, 4)    0           ['contract_2_3x3[0][0]',         \n",
      "                                                                  'contract_1_5x5[0][0]']         \n",
      "                                                                                                  \n",
      " concatenate_12 (Concatenate)   (None, 21, 21, 9)    0           ['heuristic_priority[0][0]',     \n",
      "                                                                  'skip_2[0][0]']                 \n",
      "                                                                                                  \n",
      " expand_3_5x5 (Conv2D)          (None, 21, 21, 32)   7232        ['concatenate_12[0][0]']         \n",
      "                                                                                                  \n",
      " contract_3_3x3 (Conv2D)        (None, 21, 21, 4)    1156        ['expand_3_5x5[0][0]']           \n",
      "                                                                                                  \n",
      " skip_3 (Add)                   (None, 21, 21, 4)    0           ['contract_3_3x3[0][0]',         \n",
      "                                                                  'skip_2[0][0]']                 \n",
      "                                                                                                  \n",
      " concatenate_13 (Concatenate)   (None, 21, 21, 9)    0           ['heuristic_priority[0][0]',     \n",
      "                                                                  'skip_3[0][0]']                 \n",
      "                                                                                                  \n",
      " expand_4_5x5 (Conv2D)          (None, 21, 21, 32)   7232        ['concatenate_13[0][0]']         \n",
      "                                                                                                  \n",
      " contract_4_3x3 (Conv2D)        (None, 21, 21, 4)    1156        ['expand_4_5x5[0][0]']           \n",
      "                                                                                                  \n",
      " skip_4 (Add)                   (None, 21, 21, 4)    0           ['contract_4_3x3[0][0]',         \n",
      "                                                                  'skip_3[0][0]']                 \n",
      "                                                                                                  \n",
      " concatenate_14 (Concatenate)   (None, 21, 21, 9)    0           ['heuristic_priority[0][0]',     \n",
      "                                                                  'skip_4[0][0]']                 \n",
      "                                                                                                  \n",
      " expand_5_5x5 (Conv2D)          (None, 21, 21, 32)   7232        ['concatenate_14[0][0]']         \n",
      "                                                                                                  \n",
      " contract_5_3x3 (Conv2D)        (None, 21, 21, 4)    1156        ['expand_5_5x5[0][0]']           \n",
      "                                                                                                  \n",
      " skip_5 (Add)                   (None, 21, 21, 4)    0           ['contract_5_3x3[0][0]',         \n",
      "                                                                  'skip_4[0][0]']                 \n",
      "                                                                                                  \n",
      " concatenate_15 (Concatenate)   (None, 21, 21, 9)    0           ['heuristic_priority[0][0]',     \n",
      "                                                                  'skip_5[0][0]']                 \n",
      "                                                                                                  \n",
      " expand_6_5x5 (Conv2D)          (None, 21, 21, 32)   7232        ['concatenate_15[0][0]']         \n",
      "                                                                                                  \n",
      " contract_6_3x3 (Conv2D)        (None, 21, 21, 4)    1156        ['expand_6_5x5[0][0]']           \n",
      "                                                                                                  \n",
      " skip_6 (Add)                   (None, 21, 21, 4)    0           ['contract_6_3x3[0][0]',         \n",
      "                                                                  'skip_5[0][0]']                 \n",
      "                                                                                                  \n",
      " concatenate_16 (Concatenate)   (None, 21, 21, 9)    0           ['heuristic_priority[0][0]',     \n",
      "                                                                  'skip_6[0][0]']                 \n",
      "                                                                                                  \n",
      " expand_7_5x5 (Conv2D)          (None, 21, 21, 32)   7232        ['concatenate_16[0][0]']         \n",
      "                                                                                                  \n",
      " contract_7_3x3 (Conv2D)        (None, 21, 21, 4)    1156        ['expand_7_5x5[0][0]']           \n",
      "                                                                                                  \n",
      " skip_7 (Add)                   (None, 21, 21, 4)    0           ['contract_7_3x3[0][0]',         \n",
      "                                                                  'skip_6[0][0]']                 \n",
      "                                                                                                  \n",
      " concatenate_17 (Concatenate)   (None, 21, 21, 9)    0           ['heuristic_priority[0][0]',     \n",
      "                                                                  'skip_7[0][0]']                 \n",
      "                                                                                                  \n",
      " expand_8_5x5 (Conv2D)          (None, 21, 21, 32)   7232        ['concatenate_17[0][0]']         \n",
      "                                                                                                  \n",
      " contract_8_3x3 (Conv2D)        (None, 21, 21, 4)    1156        ['expand_8_5x5[0][0]']           \n",
      "                                                                                                  \n",
      " skip_8 (Add)                   (None, 21, 21, 4)    0           ['contract_8_3x3[0][0]',         \n",
      "                                                                  'skip_7[0][0]']                 \n",
      "                                                                                                  \n",
      " concatenate_18 (Concatenate)   (None, 21, 21, 9)    0           ['heuristic_priority[0][0]',     \n",
      "                                                                  'skip_8[0][0]']                 \n",
      "                                                                                                  \n",
      " expand_9_5x5 (Conv2D)          (None, 21, 21, 32)   7232        ['concatenate_18[0][0]']         \n",
      "                                                                                                  \n",
      " contract_9_3x3 (Conv2D)        (None, 21, 21, 4)    1156        ['expand_9_5x5[0][0]']           \n",
      "                                                                                                  \n",
      " skip_9 (Add)                   (None, 21, 21, 4)    0           ['contract_9_3x3[0][0]',         \n",
      "                                                                  'skip_8[0][0]']                 \n",
      "                                                                                                  \n",
      " concatenate_19 (Concatenate)   (None, 21, 21, 9)    0           ['heuristic_priority[0][0]',     \n",
      "                                                                  'skip_9[0][0]']                 \n",
      "                                                                                                  \n",
      " expand_10_5x5 (Conv2D)         (None, 21, 21, 32)   7232        ['concatenate_19[0][0]']         \n",
      "                                                                                                  \n",
      " contract_10_3x3 (Conv2D)       (None, 21, 21, 4)    1156        ['expand_10_5x5[0][0]']          \n",
      "                                                                                                  \n",
      " skip_10 (Add)                  (None, 21, 21, 4)    0           ['contract_10_3x3[0][0]',        \n",
      "                                                                  'skip_9[0][0]']                 \n",
      "                                                                                                  \n",
      " concatenate_20 (Concatenate)   (None, 21, 21, 9)    0           ['heuristic_priority[0][0]',     \n",
      "                                                                  'skip_10[0][0]']                \n",
      "                                                                                                  \n",
      " expand_11_5x5 (Conv2D)         (None, 21, 21, 32)   7232        ['concatenate_20[0][0]']         \n",
      "                                                                                                  \n",
      " contract_11_3x3 (Conv2D)       (None, 21, 21, 4)    1156        ['expand_11_5x5[0][0]']          \n",
      "                                                                                                  \n",
      " skip_11 (Add)                  (None, 21, 21, 4)    0           ['contract_11_3x3[0][0]',        \n",
      "                                                                  'skip_10[0][0]']                \n",
      "                                                                                                  \n",
      " concatenate_21 (Concatenate)   (None, 21, 21, 9)    0           ['heuristic_priority[0][0]',     \n",
      "                                                                  'skip_11[0][0]']                \n",
      "                                                                                                  \n",
      " expand_12_5x5 (Conv2D)         (None, 21, 21, 32)   7232        ['concatenate_21[0][0]']         \n",
      "                                                                                                  \n",
      " contract_12_3x3 (Conv2D)       (None, 21, 21, 4)    1156        ['expand_12_5x5[0][0]']          \n",
      "                                                                                                  \n",
      " skip_12 (Add)                  (None, 21, 21, 4)    0           ['contract_12_3x3[0][0]',        \n",
      "                                                                  'skip_11[0][0]']                \n",
      "                                                                                                  \n",
      " policy_aggregator (Conv2D)     (None, 21, 21, 1)    5           ['skip_12[0][0]']                \n",
      "                                                                                                  \n",
      " all_value_input (Concatenate)  (None, 21, 21, 13)   0           ['contract_12_3x3[0][0]',        \n",
      "                                                                  'concatenate_11[0][0]']         \n",
      "                                                                                                  \n",
      " border_off (Conv2D)            (None, 19, 19, 1)    10          ['policy_aggregator[0][0]']      \n",
      "                                                                                                  \n",
      " flat_value_input (Flatten)     (None, 5733)         0           ['all_value_input[0][0]']        \n",
      "                                                                                                  \n",
      " flat_logits (Flatten)          (None, 361)          0           ['border_off[0][0]']             \n",
      "                                                                                                  \n",
      " tf.math.truediv_1 (TFOpLambda)  (None, 5733)        0           ['flat_value_input[0][0]']       \n",
      "                                                                                                  \n",
      " policy_head (Softmax)          (None, 361)          0           ['flat_logits[0][0]']            \n",
      "                                                                                                  \n",
      " value_head (Dense)             (None, 1)            5734        ['tf.math.truediv_1[0][0]']      \n",
      "                                                                                                  \n",
      "==================================================================================================\n",
      "Total params: 448,877\n",
      "Trainable params: 335,579\n",
      "Non-trainable params: 113,298\n",
      "__________________________________________________________________________________________________\n"
     ]
    }
   ],
   "source": [
    "from aegomoku.gomoku_resnet import GomokuResnet\n",
    "\n",
    "model = GomokuResnet(BOARD_SIZE, num_sensor_filters=512, num_blocks=12)\n",
    "model.compile()\n",
    "model.summary()"
   ],
   "metadata": {
    "collapsed": false
   }
  },
  {
   "cell_type": "markdown",
   "source": [
    "#### Clone the current champion"
   ],
   "metadata": {
    "collapsed": false
   }
  },
  {
   "cell_type": "code",
   "execution_count": 19,
   "outputs": [],
   "source": [
    "model_file = Path.home() / \"workspace\" / \"Project-Ellie\" / \"DATA\" / 'models' / '0_c2s.model'\n",
    "#model = tf.keras.models.load_model(model_file)"
   ],
   "metadata": {
    "collapsed": false
   }
  },
  {
   "cell_type": "code",
   "execution_count": 20,
   "outputs": [],
   "source": [
    "trainer = Trainer(model)"
   ],
   "metadata": {
    "collapsed": false
   }
  },
  {
   "cell_type": "markdown",
   "source": [
    "### You may want a warmup?"
   ],
   "metadata": {
    "collapsed": false
   }
  },
  {
   "cell_type": "code",
   "execution_count": 22,
   "outputs": [
    {
     "name": "stdout",
     "output_type": "stream",
     "text": [
      "Epoch: 1, Training: p: 1.674161, v: 0.779066 - elapsed: 51.431s\n",
      "Epoch: 2, Training: p: 1.633551, v: 0.777087 - elapsed: 25.353s\n",
      "Epoch: 3, Training: p: 1.608907, v: 0.7738516 - elapsed: 25.323s\n",
      "Epoch: 4, Training: p: 1.592402, v: 0.7684748 - elapsed: 25.298s\n",
      "Epoch: 5, Training: p: 1.567381, v: 0.7636222 - elapsed: 25.29s\n",
      "Epoch: 6, Training: p: 1.546704, v: 0.7510711 - elapsed: 25.274s\n",
      "Epoch: 7, Training: p: 1.52807, v: 0.734526 - elapsed: 25.283s\n",
      "Epoch: 8, Training: p: 1.51115, v: 0.7139944 - elapsed: 25.276s\n",
      "Epoch: 9, Training: p: 1.495652, v: 0.6924551 - elapsed: 25.266s\n",
      "Epoch: 10, Training: p: 1.48088, v: 0.6692465 - elapsed: 25.257s\n"
     ]
    },
    {
     "ename": "KeyboardInterrupt",
     "evalue": "",
     "output_type": "error",
     "traceback": [
      "\u001B[0;31m---------------------------------------------------------------------------\u001B[0m",
      "\u001B[0;31mKeyboardInterrupt\u001B[0m                         Traceback (most recent call last)",
      "\u001B[0;32m<ipython-input-22-bd5a965f43ce>\u001B[0m in \u001B[0;36m<module>\u001B[0;34m\u001B[0m\n\u001B[1;32m      1\u001B[0m \u001B[0mds\u001B[0m \u001B[0;34m=\u001B[0m \u001B[0mcurriculum\u001B[0m\u001B[0;34m[\u001B[0m\u001B[0mENDGAME\u001B[0m\u001B[0;34m]\u001B[0m\u001B[0;34m.\u001B[0m\u001B[0mget\u001B[0m\u001B[0;34m(\u001B[0m\u001B[0;34m'dataset'\u001B[0m\u001B[0;34m)\u001B[0m\u001B[0;34m\u001B[0m\u001B[0;34m\u001B[0m\u001B[0m\n\u001B[1;32m      2\u001B[0m \u001B[0;32mif\u001B[0m \u001B[0mds\u001B[0m \u001B[0;32mis\u001B[0m \u001B[0;32mnot\u001B[0m \u001B[0;32mNone\u001B[0m\u001B[0;34m:\u001B[0m\u001B[0;34m\u001B[0m\u001B[0;34m\u001B[0m\u001B[0m\n\u001B[0;32m----> 3\u001B[0;31m     \u001B[0mtrainer\u001B[0m\u001B[0;34m.\u001B[0m\u001B[0mtrain\u001B[0m\u001B[0;34m(\u001B[0m\u001B[0mds\u001B[0m\u001B[0;34m,\u001B[0m \u001B[0mepochs_per_train\u001B[0m\u001B[0;34m=\u001B[0m\u001B[0;36m100\u001B[0m\u001B[0;34m,\u001B[0m \u001B[0mreport_every\u001B[0m\u001B[0;34m=\u001B[0m\u001B[0;36m1\u001B[0m\u001B[0;34m,\u001B[0m \u001B[0mv_weight\u001B[0m\u001B[0;34m=\u001B[0m\u001B[0;36m2.0\u001B[0m\u001B[0;34m)\u001B[0m\u001B[0;34m\u001B[0m\u001B[0;34m\u001B[0m\u001B[0m\n\u001B[0m\u001B[1;32m      4\u001B[0m     \u001B[0mmodel\u001B[0m\u001B[0;34m.\u001B[0m\u001B[0msave\u001B[0m\u001B[0;34m(\u001B[0m\u001B[0;34m'models/from_endgame.model'\u001B[0m\u001B[0;34m)\u001B[0m\u001B[0;34m\u001B[0m\u001B[0;34m\u001B[0m\u001B[0m\n\u001B[1;32m      5\u001B[0m \u001B[0;32melse\u001B[0m\u001B[0;34m:\u001B[0m\u001B[0;34m\u001B[0m\u001B[0;34m\u001B[0m\u001B[0m\n",
      "\u001B[0;32m~/workspace/Project-Ellie/DeepGomoku/aegomoku/trainer.py\u001B[0m in \u001B[0;36mtrain\u001B[0;34m(self, train_data_set, epochs_per_train, report_every, v_weight)\u001B[0m\n\u001B[1;32m     39\u001B[0m         \u001B[0;32mfor\u001B[0m \u001B[0mepoch\u001B[0m \u001B[0;32min\u001B[0m \u001B[0mrange\u001B[0m\u001B[0;34m(\u001B[0m\u001B[0mepochs_per_train\u001B[0m\u001B[0;34m)\u001B[0m\u001B[0;34m:\u001B[0m\u001B[0;34m\u001B[0m\u001B[0;34m\u001B[0m\u001B[0m\n\u001B[1;32m     40\u001B[0m             \u001B[0;32mfor\u001B[0m \u001B[0mx_train\u001B[0m\u001B[0;34m,\u001B[0m \u001B[0mpi_train\u001B[0m\u001B[0;34m,\u001B[0m \u001B[0mv_train\u001B[0m \u001B[0;32min\u001B[0m \u001B[0mtrain_data_set\u001B[0m\u001B[0;34m:\u001B[0m\u001B[0;34m\u001B[0m\u001B[0;34m\u001B[0m\u001B[0m\n\u001B[0;32m---> 41\u001B[0;31m                 \u001B[0mself\u001B[0m\u001B[0;34m.\u001B[0m\u001B[0mtrain_step\u001B[0m\u001B[0;34m(\u001B[0m\u001B[0mx_train\u001B[0m\u001B[0;34m,\u001B[0m \u001B[0mpi_train\u001B[0m\u001B[0;34m,\u001B[0m \u001B[0mv_train\u001B[0m\u001B[0;34m,\u001B[0m \u001B[0mv_weight\u001B[0m\u001B[0;34m)\u001B[0m\u001B[0;34m\u001B[0m\u001B[0;34m\u001B[0m\u001B[0m\n\u001B[0m\u001B[1;32m     42\u001B[0m             \u001B[0;32mwith\u001B[0m \u001B[0mtrain_summary_writer\u001B[0m\u001B[0;34m.\u001B[0m\u001B[0mas_default\u001B[0m\u001B[0;34m(\u001B[0m\u001B[0;34m)\u001B[0m\u001B[0;34m:\u001B[0m\u001B[0;34m\u001B[0m\u001B[0;34m\u001B[0m\u001B[0m\n\u001B[1;32m     43\u001B[0m                 \u001B[0mtf\u001B[0m\u001B[0;34m.\u001B[0m\u001B[0msummary\u001B[0m\u001B[0;34m.\u001B[0m\u001B[0mscalar\u001B[0m\u001B[0;34m(\u001B[0m\u001B[0;34m'train_loss'\u001B[0m\u001B[0;34m,\u001B[0m \u001B[0mself\u001B[0m\u001B[0;34m.\u001B[0m\u001B[0mtrain_probs_metric\u001B[0m\u001B[0;34m.\u001B[0m\u001B[0mresult\u001B[0m\u001B[0;34m(\u001B[0m\u001B[0;34m)\u001B[0m\u001B[0;34m,\u001B[0m \u001B[0mstep\u001B[0m\u001B[0;34m=\u001B[0m\u001B[0mepoch\u001B[0m\u001B[0;34m)\u001B[0m\u001B[0;34m\u001B[0m\u001B[0;34m\u001B[0m\u001B[0m\n",
      "\u001B[0;32m/usr/lib/python3/dist-packages/tensorflow/python/util/traceback_utils.py\u001B[0m in \u001B[0;36merror_handler\u001B[0;34m(*args, **kwargs)\u001B[0m\n\u001B[1;32m    148\u001B[0m     \u001B[0mfiltered_tb\u001B[0m \u001B[0;34m=\u001B[0m \u001B[0;32mNone\u001B[0m\u001B[0;34m\u001B[0m\u001B[0;34m\u001B[0m\u001B[0m\n\u001B[1;32m    149\u001B[0m     \u001B[0;32mtry\u001B[0m\u001B[0;34m:\u001B[0m\u001B[0;34m\u001B[0m\u001B[0;34m\u001B[0m\u001B[0m\n\u001B[0;32m--> 150\u001B[0;31m       \u001B[0;32mreturn\u001B[0m \u001B[0mfn\u001B[0m\u001B[0;34m(\u001B[0m\u001B[0;34m*\u001B[0m\u001B[0margs\u001B[0m\u001B[0;34m,\u001B[0m \u001B[0;34m**\u001B[0m\u001B[0mkwargs\u001B[0m\u001B[0;34m)\u001B[0m\u001B[0;34m\u001B[0m\u001B[0;34m\u001B[0m\u001B[0m\n\u001B[0m\u001B[1;32m    151\u001B[0m     \u001B[0;32mexcept\u001B[0m \u001B[0mException\u001B[0m \u001B[0;32mas\u001B[0m \u001B[0me\u001B[0m\u001B[0;34m:\u001B[0m\u001B[0;34m\u001B[0m\u001B[0;34m\u001B[0m\u001B[0m\n\u001B[1;32m    152\u001B[0m       \u001B[0mfiltered_tb\u001B[0m \u001B[0;34m=\u001B[0m \u001B[0m_process_traceback_frames\u001B[0m\u001B[0;34m(\u001B[0m\u001B[0me\u001B[0m\u001B[0;34m.\u001B[0m\u001B[0m__traceback__\u001B[0m\u001B[0;34m)\u001B[0m\u001B[0;34m\u001B[0m\u001B[0;34m\u001B[0m\u001B[0m\n",
      "\u001B[0;32m/usr/lib/python3/dist-packages/tensorflow/python/eager/def_function.py\u001B[0m in \u001B[0;36m__call__\u001B[0;34m(self, *args, **kwds)\u001B[0m\n\u001B[1;32m    913\u001B[0m \u001B[0;34m\u001B[0m\u001B[0m\n\u001B[1;32m    914\u001B[0m       \u001B[0;32mwith\u001B[0m \u001B[0mOptionalXlaContext\u001B[0m\u001B[0;34m(\u001B[0m\u001B[0mself\u001B[0m\u001B[0;34m.\u001B[0m\u001B[0m_jit_compile\u001B[0m\u001B[0;34m)\u001B[0m\u001B[0;34m:\u001B[0m\u001B[0;34m\u001B[0m\u001B[0;34m\u001B[0m\u001B[0m\n\u001B[0;32m--> 915\u001B[0;31m         \u001B[0mresult\u001B[0m \u001B[0;34m=\u001B[0m \u001B[0mself\u001B[0m\u001B[0;34m.\u001B[0m\u001B[0m_call\u001B[0m\u001B[0;34m(\u001B[0m\u001B[0;34m*\u001B[0m\u001B[0margs\u001B[0m\u001B[0;34m,\u001B[0m \u001B[0;34m**\u001B[0m\u001B[0mkwds\u001B[0m\u001B[0;34m)\u001B[0m\u001B[0;34m\u001B[0m\u001B[0;34m\u001B[0m\u001B[0m\n\u001B[0m\u001B[1;32m    916\u001B[0m \u001B[0;34m\u001B[0m\u001B[0m\n\u001B[1;32m    917\u001B[0m       \u001B[0mnew_tracing_count\u001B[0m \u001B[0;34m=\u001B[0m \u001B[0mself\u001B[0m\u001B[0;34m.\u001B[0m\u001B[0mexperimental_get_tracing_count\u001B[0m\u001B[0;34m(\u001B[0m\u001B[0;34m)\u001B[0m\u001B[0;34m\u001B[0m\u001B[0;34m\u001B[0m\u001B[0m\n",
      "\u001B[0;32m/usr/lib/python3/dist-packages/tensorflow/python/eager/def_function.py\u001B[0m in \u001B[0;36m_call\u001B[0;34m(self, *args, **kwds)\u001B[0m\n\u001B[1;32m    945\u001B[0m       \u001B[0;31m# In this case we have created variables on the first call, so we run the\u001B[0m\u001B[0;34m\u001B[0m\u001B[0;34m\u001B[0m\u001B[0;34m\u001B[0m\u001B[0m\n\u001B[1;32m    946\u001B[0m       \u001B[0;31m# defunned version which is guaranteed to never create variables.\u001B[0m\u001B[0;34m\u001B[0m\u001B[0;34m\u001B[0m\u001B[0;34m\u001B[0m\u001B[0m\n\u001B[0;32m--> 947\u001B[0;31m       \u001B[0;32mreturn\u001B[0m \u001B[0mself\u001B[0m\u001B[0;34m.\u001B[0m\u001B[0m_stateless_fn\u001B[0m\u001B[0;34m(\u001B[0m\u001B[0;34m*\u001B[0m\u001B[0margs\u001B[0m\u001B[0;34m,\u001B[0m \u001B[0;34m**\u001B[0m\u001B[0mkwds\u001B[0m\u001B[0;34m)\u001B[0m  \u001B[0;31m# pylint: disable=not-callable\u001B[0m\u001B[0;34m\u001B[0m\u001B[0;34m\u001B[0m\u001B[0m\n\u001B[0m\u001B[1;32m    948\u001B[0m     \u001B[0;32melif\u001B[0m \u001B[0mself\u001B[0m\u001B[0;34m.\u001B[0m\u001B[0m_stateful_fn\u001B[0m \u001B[0;32mis\u001B[0m \u001B[0;32mnot\u001B[0m \u001B[0;32mNone\u001B[0m\u001B[0;34m:\u001B[0m\u001B[0;34m\u001B[0m\u001B[0;34m\u001B[0m\u001B[0m\n\u001B[1;32m    949\u001B[0m       \u001B[0;31m# Release the lock early so that multiple threads can perform the call\u001B[0m\u001B[0;34m\u001B[0m\u001B[0;34m\u001B[0m\u001B[0;34m\u001B[0m\u001B[0m\n",
      "\u001B[0;32m/usr/lib/python3/dist-packages/tensorflow/python/eager/function.py\u001B[0m in \u001B[0;36m__call__\u001B[0;34m(self, *args, **kwargs)\u001B[0m\n\u001B[1;32m   2451\u001B[0m       (graph_function,\n\u001B[1;32m   2452\u001B[0m        filtered_flat_args) = self._maybe_define_function(args, kwargs)\n\u001B[0;32m-> 2453\u001B[0;31m     return graph_function._call_flat(\n\u001B[0m\u001B[1;32m   2454\u001B[0m         filtered_flat_args, captured_inputs=graph_function.captured_inputs)  # pylint: disable=protected-access\n\u001B[1;32m   2455\u001B[0m \u001B[0;34m\u001B[0m\u001B[0m\n",
      "\u001B[0;32m/usr/lib/python3/dist-packages/tensorflow/python/eager/function.py\u001B[0m in \u001B[0;36m_call_flat\u001B[0;34m(self, args, captured_inputs, cancellation_manager)\u001B[0m\n\u001B[1;32m   1858\u001B[0m         and executing_eagerly):\n\u001B[1;32m   1859\u001B[0m       \u001B[0;31m# No tape is watching; skip to running the function.\u001B[0m\u001B[0;34m\u001B[0m\u001B[0;34m\u001B[0m\u001B[0;34m\u001B[0m\u001B[0m\n\u001B[0;32m-> 1860\u001B[0;31m       return self._build_call_outputs(self._inference_function.call(\n\u001B[0m\u001B[1;32m   1861\u001B[0m           ctx, args, cancellation_manager=cancellation_manager))\n\u001B[1;32m   1862\u001B[0m     forward_backward = self._select_forward_and_backward_functions(\n",
      "\u001B[0;32m/usr/lib/python3/dist-packages/tensorflow/python/eager/function.py\u001B[0m in \u001B[0;36mcall\u001B[0;34m(self, ctx, args, cancellation_manager)\u001B[0m\n\u001B[1;32m    495\u001B[0m       \u001B[0;32mwith\u001B[0m \u001B[0m_InterpolateFunctionError\u001B[0m\u001B[0;34m(\u001B[0m\u001B[0mself\u001B[0m\u001B[0;34m)\u001B[0m\u001B[0;34m:\u001B[0m\u001B[0;34m\u001B[0m\u001B[0;34m\u001B[0m\u001B[0m\n\u001B[1;32m    496\u001B[0m         \u001B[0;32mif\u001B[0m \u001B[0mcancellation_manager\u001B[0m \u001B[0;32mis\u001B[0m \u001B[0;32mNone\u001B[0m\u001B[0;34m:\u001B[0m\u001B[0;34m\u001B[0m\u001B[0;34m\u001B[0m\u001B[0m\n\u001B[0;32m--> 497\u001B[0;31m           outputs = execute.execute(\n\u001B[0m\u001B[1;32m    498\u001B[0m               \u001B[0mstr\u001B[0m\u001B[0;34m(\u001B[0m\u001B[0mself\u001B[0m\u001B[0;34m.\u001B[0m\u001B[0msignature\u001B[0m\u001B[0;34m.\u001B[0m\u001B[0mname\u001B[0m\u001B[0;34m)\u001B[0m\u001B[0;34m,\u001B[0m\u001B[0;34m\u001B[0m\u001B[0;34m\u001B[0m\u001B[0m\n\u001B[1;32m    499\u001B[0m               \u001B[0mnum_outputs\u001B[0m\u001B[0;34m=\u001B[0m\u001B[0mself\u001B[0m\u001B[0;34m.\u001B[0m\u001B[0m_num_outputs\u001B[0m\u001B[0;34m,\u001B[0m\u001B[0;34m\u001B[0m\u001B[0;34m\u001B[0m\u001B[0m\n",
      "\u001B[0;32m/usr/lib/python3/dist-packages/tensorflow/python/eager/execute.py\u001B[0m in \u001B[0;36mquick_execute\u001B[0;34m(op_name, num_outputs, inputs, attrs, ctx, name)\u001B[0m\n\u001B[1;32m     52\u001B[0m   \u001B[0;32mtry\u001B[0m\u001B[0;34m:\u001B[0m\u001B[0;34m\u001B[0m\u001B[0;34m\u001B[0m\u001B[0m\n\u001B[1;32m     53\u001B[0m     \u001B[0mctx\u001B[0m\u001B[0;34m.\u001B[0m\u001B[0mensure_initialized\u001B[0m\u001B[0;34m(\u001B[0m\u001B[0;34m)\u001B[0m\u001B[0;34m\u001B[0m\u001B[0;34m\u001B[0m\u001B[0m\n\u001B[0;32m---> 54\u001B[0;31m     tensors = pywrap_tfe.TFE_Py_Execute(ctx._handle, device_name, op_name,\n\u001B[0m\u001B[1;32m     55\u001B[0m                                         inputs, attrs, num_outputs)\n\u001B[1;32m     56\u001B[0m   \u001B[0;32mexcept\u001B[0m \u001B[0mcore\u001B[0m\u001B[0;34m.\u001B[0m\u001B[0m_NotOkStatusException\u001B[0m \u001B[0;32mas\u001B[0m \u001B[0me\u001B[0m\u001B[0;34m:\u001B[0m\u001B[0;34m\u001B[0m\u001B[0;34m\u001B[0m\u001B[0m\n",
      "\u001B[0;31mKeyboardInterrupt\u001B[0m: "
     ]
    }
   ],
   "source": [
    "ds = curriculum[ENDGAME].get('dataset')\n",
    "if ds is not None:\n",
    "    trainer.train(ds, epochs_per_train=100, report_every=1, v_weight=2.0)\n",
    "    model.save('models/from_endgame.model')\n",
    "else:\n",
    "    print(\"No warm-up today...;-)\")"
   ],
   "metadata": {
    "collapsed": false
   }
  },
  {
   "cell_type": "markdown",
   "source": [
    "## All game play\n",
    "This will last for a couple of hours"
   ],
   "metadata": {
    "collapsed": false
   }
  },
  {
   "cell_type": "code",
   "execution_count": 26,
   "outputs": [],
   "source": [
    "ds = curriculum[ALL_GAMEPLAY]['dataset']"
   ],
   "metadata": {
    "collapsed": false
   }
  },
  {
   "cell_type": "code",
   "execution_count": 27,
   "outputs": [
    {
     "name": "stdout",
     "output_type": "stream",
     "text": [
      "Epoch: 1, Training: p: 2.018402, v: 0.4402309 - elapsed: 324.73s\n",
      "Epoch: 2, Training: p: 2.142501, v: 0.3803659 - elapsed: 161.37s\n",
      "Epoch: 3, Training: p: 2.228122, v: 0.3353244 - elapsed: 161.66s\n",
      "Epoch: 4, Training: p: 2.290237, v: 0.3002135 - elapsed: 161.82s\n",
      "Epoch: 5, Training: p: 2.336817, v: 0.2720427 - elapsed: 161.81s\n",
      "Epoch: 6, Training: p: 2.372714, v: 0.2489896 - elapsed: 161.89s\n",
      "Epoch: 7, Training: p: 2.401079, v: 0.2297971 - elapsed: 161.92s\n",
      "Epoch: 8, Training: p: 2.423814, v: 0.2135315 - elapsed: 161.95s\n",
      "Epoch: 9, Training: p: 2.442257, v: 0.1995299 - elapsed: 162.04s\n",
      "Epoch: 10, Training: p: 2.457495, v: 0.187379 - elapsed: 162.12s\n",
      "Epoch: 11, Training: p: 2.470124, v: 0.1767089 - elapsed: 162.09s\n",
      "Epoch: 12, Training: p: 2.480683, v: 0.1672432 - elapsed: 162.12s\n",
      "Epoch: 13, Training: p: 2.4897, v: 0.1588233 - elapsed: 162.25s\n",
      "Epoch: 14, Training: p: 2.497398, v: 0.1512443 - elapsed: 162.27s\n",
      "Epoch: 15, Training: p: 2.503972, v: 0.1443759 - elapsed: 162.38s\n",
      "Epoch: 16, Training: p: 2.509636, v: 0.1381393 - elapsed: 162.36s\n",
      "Epoch: 17, Training: p: 2.514498, v: 0.1324253 - elapsed: 162.36s\n",
      "Epoch: 18, Training: p: 2.518695, v: 0.1271957 - elapsed: 162.43s\n",
      "Epoch: 19, Training: p: 2.522279, v: 0.1223847 - elapsed: 162.39s\n",
      "Epoch: 20, Training: p: 2.525386, v: 0.117957 - elapsed: 162.38s\n",
      "Epoch: 21, Training: p: 2.527953, v: 0.1138259 - elapsed: 162.29s\n",
      "Epoch: 22, Training: p: 2.530174, v: 0.1100068 - elapsed: 162.29s\n",
      "Epoch: 23, Training: p: 2.532015, v: 0.1064423 - elapsed: 162.32s\n",
      "Epoch: 24, Training: p: 2.533554, v: 0.1031082 - elapsed: 162.44s\n",
      "Epoch: 25, Training: p: 2.534833, v: 0.09999204 - elapsed: 162.49s\n",
      "Epoch: 26, Training: p: 2.535908, v: 0.09707335 - elapsed: 162.51s\n",
      "Epoch: 27, Training: p: 2.53675, v: 0.09432346 - elapsed: 162.51s\n",
      "Epoch: 28, Training: p: 2.537421, v: 0.09173039 - elapsed: 162.56s\n",
      "Epoch: 29, Training: p: 2.537978, v: 0.08929484 - elapsed: 162.59s\n",
      "Epoch: 30, Training: p: 2.538334, v: 0.08697721 - elapsed: 162.64s\n",
      "Epoch: 31, Training: p: 2.538616, v: 0.08479673 - elapsed: 162.56s\n",
      "Epoch: 32, Training: p: 2.538765, v: 0.08272532 - elapsed: 162.53s\n",
      "Epoch: 33, Training: p: 2.538832, v: 0.0807721 - elapsed: 162.52s\n",
      "Epoch: 34, Training: p: 2.538794, v: 0.07889657 - elapsed: 162.59s\n",
      "Epoch: 35, Training: p: 2.538705, v: 0.07711834 - elapsed: 162.49s\n",
      "Epoch: 36, Training: p: 2.538557, v: 0.07542191 - elapsed: 162.55s\n",
      "Epoch: 37, Training: p: 2.53836, v: 0.07380655 - elapsed: 162.57s\n",
      "Epoch: 38, Training: p: 2.5381, v: 0.07225504 - elapsed: 162.51s\n",
      "Epoch: 39, Training: p: 2.537772, v: 0.07077697 - elapsed: 162.57s\n",
      "Epoch: 40, Training: p: 2.537446, v: 0.0693607 - elapsed: 162.6s\n",
      "Epoch: 41, Training: p: 2.53707, v: 0.06800592 - elapsed: 162.57s\n",
      "Epoch: 42, Training: p: 2.536663, v: 0.06670901 - elapsed: 162.55s\n",
      "Epoch: 43, Training: p: 2.536254, v: 0.06546184 - elapsed: 162.58s\n",
      "Epoch: 44, Training: p: 2.535836, v: 0.06426738 - elapsed: 162.59s\n",
      "Epoch: 45, Training: p: 2.535385, v: 0.06311413 - elapsed: 162.56s\n",
      "Epoch: 46, Training: p: 2.534913, v: 0.06200635 - elapsed: 162.49s\n",
      "Epoch: 47, Training: p: 2.53452, v: 0.06094397 - elapsed: 162.55s\n",
      "Epoch: 48, Training: p: 2.534046, v: 0.05991787 - elapsed: 162.51s\n",
      "Epoch: 49, Training: p: 2.533531, v: 0.05892544 - elapsed: 162.52s\n",
      "Epoch: 50, Training: p: 2.53301, v: 0.05796929 - elapsed: 162.53s\n",
      "Epoch: 51, Training: p: 2.532471, v: 0.05704101 - elapsed: 162.59s\n",
      "Epoch: 52, Training: p: 2.531929, v: 0.05614554 - elapsed: 162.6s\n",
      "Epoch: 53, Training: p: 2.531378, v: 0.05528137 - elapsed: 162.62s\n",
      "Epoch: 54, Training: p: 2.530831, v: 0.05444695 - elapsed: 162.57s\n",
      "Epoch: 55, Training: p: 2.53027, v: 0.05363502 - elapsed: 162.59s\n",
      "Epoch: 56, Training: p: 2.529728, v: 0.05285278 - elapsed: 162.48s\n",
      "Epoch: 57, Training: p: 2.529194, v: 0.05209371 - elapsed: 162.49s\n",
      "Epoch: 58, Training: p: 2.528657, v: 0.05136094 - elapsed: 162.51s\n",
      "Epoch: 59, Training: p: 2.528099, v: 0.05064405 - elapsed: 162.55s\n",
      "Epoch: 60, Training: p: 2.527553, v: 0.04995084 - elapsed: 162.53s\n",
      "Epoch: 61, Training: p: 2.527028, v: 0.04928148 - elapsed: 162.53s\n",
      "Epoch: 62, Training: p: 2.526474, v: 0.04862255 - elapsed: 162.54s\n",
      "Epoch: 63, Training: p: 2.525956, v: 0.04799354 - elapsed: 162.57s\n",
      "Epoch: 64, Training: p: 2.525418, v: 0.04737411 - elapsed: 162.47s\n",
      "Epoch: 65, Training: p: 2.524878, v: 0.04676982 - elapsed: 162.51s\n",
      "Epoch: 66, Training: p: 2.524339, v: 0.04618395 - elapsed: 162.56s\n",
      "Epoch: 67, Training: p: 2.523817, v: 0.04561414 - elapsed: 162.66s\n",
      "Epoch: 68, Training: p: 2.523286, v: 0.04505968 - elapsed: 162.56s\n",
      "Epoch: 69, Training: p: 2.522765, v: 0.04451906 - elapsed: 162.56s\n",
      "Epoch: 70, Training: p: 2.522262, v: 0.04399419 - elapsed: 162.63s\n",
      "Epoch: 71, Training: p: 2.521752, v: 0.0434824 - elapsed: 162.59s\n",
      "Epoch: 72, Training: p: 2.52124, v: 0.04298044 - elapsed: 162.57s\n",
      "Epoch: 73, Training: p: 2.520736, v: 0.04249147 - elapsed: 162.54s\n",
      "Epoch: 74, Training: p: 2.520237, v: 0.04201371 - elapsed: 162.5s\n",
      "Epoch: 75, Training: p: 2.519755, v: 0.04155071 - elapsed: 162.62s\n",
      "Epoch: 76, Training: p: 2.519265, v: 0.04109532 - elapsed: 162.66s\n",
      "Epoch: 77, Training: p: 2.518796, v: 0.04065412 - elapsed: 162.61s\n",
      "Epoch: 78, Training: p: 2.518321, v: 0.04022012 - elapsed: 162.63s\n",
      "Epoch: 79, Training: p: 2.517859, v: 0.03979737 - elapsed: 162.64s\n",
      "Epoch: 80, Training: p: 2.517381, v: 0.03938098 - elapsed: 162.62s\n",
      "Epoch: 81, Training: p: 2.516925, v: 0.03897623 - elapsed: 162.57s\n",
      "Epoch: 82, Training: p: 2.516466, v: 0.0385796 - elapsed: 162.56s\n",
      "Epoch: 83, Training: p: 2.516021, v: 0.03819338 - elapsed: 162.59s\n",
      "Epoch: 84, Training: p: 2.515571, v: 0.03781231 - elapsed: 162.58s\n",
      "Epoch: 85, Training: p: 2.515123, v: 0.0374406 - elapsed: 162.56s\n",
      "Epoch: 86, Training: p: 2.514693, v: 0.03707741 - elapsed: 162.53s\n",
      "Epoch: 87, Training: p: 2.51427, v: 0.03672064 - elapsed: 162.59s\n",
      "Epoch: 88, Training: p: 2.513844, v: 0.03637138 - elapsed: 162.62s\n",
      "Epoch: 89, Training: p: 2.513424, v: 0.03603001 - elapsed: 162.57s\n",
      "Epoch: 90, Training: p: 2.513004, v: 0.03569447 - elapsed: 162.63s\n",
      "Epoch: 91, Training: p: 2.512586, v: 0.0353657 - elapsed: 162.6s\n",
      "Epoch: 92, Training: p: 2.512182, v: 0.03504669 - elapsed: 162.56s\n",
      "Epoch: 93, Training: p: 2.51178, v: 0.03473157 - elapsed: 162.36s\n",
      "Epoch: 94, Training: p: 2.511369, v: 0.03442062 - elapsed: 162.22s\n",
      "Epoch: 95, Training: p: 2.510966, v: 0.03411567 - elapsed: 162.38s\n",
      "Epoch: 96, Training: p: 2.510587, v: 0.0338185 - elapsed: 162.35s\n",
      "Epoch: 97, Training: p: 2.510207, v: 0.03352568 - elapsed: 162.43s\n",
      "Epoch: 98, Training: p: 2.509825, v: 0.03323834 - elapsed: 162.43s\n",
      "Epoch: 99, Training: p: 2.509448, v: 0.03295754 - elapsed: 162.33s\n",
      "Epoch: 100, Training: p: 2.50907, v: 0.03267933 - elapsed: 162.39s\n",
      "Epoch: 101, Training: p: 2.508724, v: 0.03241263 - elapsed: 162.44s\n",
      "Epoch: 102, Training: p: 2.508362, v: 0.03214562 - elapsed: 162.44s\n",
      "Epoch: 103, Training: p: 2.508, v: 0.03188316 - elapsed: 162.49s\n",
      "Epoch: 104, Training: p: 2.507627, v: 0.03162305 - elapsed: 162.35s\n",
      "Epoch: 105, Training: p: 2.507278, v: 0.03137343 - elapsed: 162.38s\n",
      "Epoch: 106, Training: p: 2.506922, v: 0.03112418 - elapsed: 162.42s\n",
      "Epoch: 107, Training: p: 2.506569, v: 0.03087807 - elapsed: 162.39s\n",
      "Epoch: 108, Training: p: 2.506218, v: 0.03063717 - elapsed: 162.37s\n",
      "Epoch: 109, Training: p: 2.505876, v: 0.0304006 - elapsed: 162.42s\n",
      "Epoch: 110, Training: p: 2.505538, v: 0.03016856 - elapsed: 162.42s\n",
      "Epoch: 111, Training: p: 2.505196, v: 0.02993768 - elapsed: 162.34s\n",
      "Epoch: 112, Training: p: 2.50487, v: 0.02971409 - elapsed: 162.34s\n",
      "Epoch: 113, Training: p: 2.504539, v: 0.02949214 - elapsed: 162.38s\n",
      "Epoch: 114, Training: p: 2.50423, v: 0.02927583 - elapsed: 162.36s\n",
      "Epoch: 115, Training: p: 2.503908, v: 0.02906154 - elapsed: 162.42s\n",
      "Epoch: 116, Training: p: 2.503597, v: 0.02885235 - elapsed: 162.42s\n",
      "Epoch: 117, Training: p: 2.50328, v: 0.02864461 - elapsed: 162.44s\n",
      "Epoch: 118, Training: p: 2.502971, v: 0.02844012 - elapsed: 162.46s\n",
      "Epoch: 119, Training: p: 2.502663, v: 0.02823882 - elapsed: 162.42s\n",
      "Epoch: 120, Training: p: 2.502354, v: 0.02804052 - elapsed: 162.4s\n",
      "Epoch: 121, Training: p: 2.502049, v: 0.02784388 - elapsed: 162.4s\n",
      "Epoch: 122, Training: p: 2.50176, v: 0.02765219 - elapsed: 162.37s\n",
      "Epoch: 123, Training: p: 2.501472, v: 0.02746458 - elapsed: 162.38s\n",
      "Epoch: 124, Training: p: 2.501181, v: 0.02727684 - elapsed: 162.43s\n",
      "Epoch: 125, Training: p: 2.500885, v: 0.02709087 - elapsed: 162.41s\n",
      "Epoch: 126, Training: p: 2.500614, v: 0.02691166 - elapsed: 162.49s\n",
      "Epoch: 127, Training: p: 2.500324, v: 0.02673172 - elapsed: 162.47s\n",
      "Epoch: 128, Training: p: 2.500045, v: 0.02655519 - elapsed: 162.43s\n",
      "Epoch: 129, Training: p: 2.499776, v: 0.02638259 - elapsed: 162.44s\n",
      "Epoch: 130, Training: p: 2.4995, v: 0.0262114 - elapsed: 162.34s\n",
      "Epoch: 131, Training: p: 2.499228, v: 0.02604157 - elapsed: 162.37s\n",
      "Epoch: 132, Training: p: 2.498957, v: 0.02587409 - elapsed: 162.38s\n",
      "Epoch: 133, Training: p: 2.498694, v: 0.02571024 - elapsed: 162.37s\n",
      "Epoch: 134, Training: p: 2.498427, v: 0.02554744 - elapsed: 162.39s\n",
      "Epoch: 135, Training: p: 2.498168, v: 0.02538842 - elapsed: 162.38s\n",
      "Epoch: 136, Training: p: 2.497909, v: 0.02523098 - elapsed: 162.4s\n",
      "Epoch: 137, Training: p: 2.497672, v: 0.02507909 - elapsed: 162.41s\n",
      "Epoch: 138, Training: p: 2.497417, v: 0.02492486 - elapsed: 162.42s\n",
      "Epoch: 139, Training: p: 2.497163, v: 0.0247733 - elapsed: 162.47s\n",
      "Epoch: 140, Training: p: 2.496912, v: 0.02462325 - elapsed: 162.41s\n",
      "Epoch: 141, Training: p: 2.496678, v: 0.02447798 - elapsed: 162.36s\n",
      "Epoch: 142, Training: p: 2.496439, v: 0.0243325 - elapsed: 162.36s\n",
      "Epoch: 143, Training: p: 2.496195, v: 0.02418846 - elapsed: 162.5s\n",
      "Epoch: 144, Training: p: 2.495959, v: 0.0240474 - elapsed: 159.84s\n",
      "Epoch: 145, Training: p: 2.49572, v: 0.02390707 - elapsed: 160.34s\n",
      "Epoch: 146, Training: p: 2.495496, v: 0.02377095 - elapsed: 160.17s\n",
      "Epoch: 147, Training: p: 2.495252, v: 0.02363172 - elapsed: 159.34s\n",
      "Epoch: 148, Training: p: 2.495051, v: 0.02350387 - elapsed: 160.41s\n",
      "Epoch: 149, Training: p: 2.494824, v: 0.02337007 - elapsed: 159.59s\n",
      "Epoch: 150, Training: p: 2.494588, v: 0.02323621 - elapsed: 159.75s\n",
      "Epoch: 151, Training: p: 2.494363, v: 0.02310599 - elapsed: 161.05s\n",
      "Epoch: 152, Training: p: 2.494152, v: 0.02297948 - elapsed: 159.47s\n",
      "Epoch: 153, Training: p: 2.49394, v: 0.02285395 - elapsed: 159.23s\n",
      "Epoch: 154, Training: p: 2.493723, v: 0.02272905 - elapsed: 160.11s\n",
      "Epoch: 155, Training: p: 2.49351, v: 0.02260595 - elapsed: 159.51s\n",
      "Epoch: 156, Training: p: 2.49329, v: 0.02248242 - elapsed: 161.0s\n",
      "Epoch: 157, Training: p: 2.493077, v: 0.02236178 - elapsed: 159.53s\n",
      "Epoch: 158, Training: p: 2.49288, v: 0.02224555 - elapsed: 159.61s\n",
      "Epoch: 159, Training: p: 2.49266, v: 0.02212554 - elapsed: 160.63s\n",
      "Epoch: 160, Training: p: 2.492456, v: 0.02200916 - elapsed: 159.45s\n",
      "Epoch: 161, Training: p: 2.492254, v: 0.02189411 - elapsed: 159.42s\n",
      "Epoch: 162, Training: p: 2.492054, v: 0.02178035 - elapsed: 160.48s\n",
      "Epoch: 163, Training: p: 2.491863, v: 0.02166938 - elapsed: 159.63s\n",
      "Epoch: 164, Training: p: 2.491667, v: 0.02155858 - elapsed: 160.77s\n",
      "Epoch: 165, Training: p: 2.491473, v: 0.02144881 - elapsed: 159.26s\n",
      "Epoch: 166, Training: p: 2.491282, v: 0.02134037 - elapsed: 160.76s\n",
      "Epoch: 167, Training: p: 2.491089, v: 0.02123288 - elapsed: 159.53s\n",
      "Epoch: 168, Training: p: 2.490892, v: 0.02112546 - elapsed: 160.59s\n",
      "Epoch: 169, Training: p: 2.490698, v: 0.02101923 - elapsed: 160.3s\n",
      "Epoch: 170, Training: p: 2.490516, v: 0.02091545 - elapsed: 159.64s\n",
      "Epoch: 171, Training: p: 2.490325, v: 0.02081176 - elapsed: 161.13s\n",
      "Epoch: 172, Training: p: 2.490145, v: 0.02071007 - elapsed: 159.52s\n",
      "Epoch: 173, Training: p: 2.48998, v: 0.02061051 - elapsed: 160.19s\n"
     ]
    },
    {
     "ename": "KeyboardInterrupt",
     "evalue": "",
     "output_type": "error",
     "traceback": [
      "\u001B[0;31m---------------------------------------------------------------------------\u001B[0m",
      "\u001B[0;31mKeyboardInterrupt\u001B[0m                         Traceback (most recent call last)",
      "\u001B[0;32m<ipython-input-27-1f1813be5d1b>\u001B[0m in \u001B[0;36m<module>\u001B[0;34m\u001B[0m\n\u001B[0;32m----> 1\u001B[0;31m \u001B[0mtrainer\u001B[0m\u001B[0;34m.\u001B[0m\u001B[0mtrain\u001B[0m\u001B[0;34m(\u001B[0m\u001B[0mds\u001B[0m\u001B[0;34m,\u001B[0m \u001B[0mepochs_per_train\u001B[0m\u001B[0;34m=\u001B[0m\u001B[0;36m200\u001B[0m\u001B[0;34m,\u001B[0m \u001B[0mreport_every\u001B[0m\u001B[0;34m=\u001B[0m\u001B[0;36m1\u001B[0m\u001B[0;34m,\u001B[0m \u001B[0mv_weight\u001B[0m\u001B[0;34m=\u001B[0m\u001B[0;36m2.0\u001B[0m\u001B[0;34m)\u001B[0m\u001B[0;34m\u001B[0m\u001B[0;34m\u001B[0m\u001B[0m\n\u001B[0m",
      "\u001B[0;32m~/workspace/Project-Ellie/DeepGomoku/aegomoku/trainer.py\u001B[0m in \u001B[0;36mtrain\u001B[0;34m(self, train_data_set, epochs_per_train, report_every, v_weight)\u001B[0m\n\u001B[1;32m     39\u001B[0m         \u001B[0;32mfor\u001B[0m \u001B[0mepoch\u001B[0m \u001B[0;32min\u001B[0m \u001B[0mrange\u001B[0m\u001B[0;34m(\u001B[0m\u001B[0mepochs_per_train\u001B[0m\u001B[0;34m)\u001B[0m\u001B[0;34m:\u001B[0m\u001B[0;34m\u001B[0m\u001B[0;34m\u001B[0m\u001B[0m\n\u001B[1;32m     40\u001B[0m             \u001B[0;32mfor\u001B[0m \u001B[0mx_train\u001B[0m\u001B[0;34m,\u001B[0m \u001B[0mpi_train\u001B[0m\u001B[0;34m,\u001B[0m \u001B[0mv_train\u001B[0m \u001B[0;32min\u001B[0m \u001B[0mtrain_data_set\u001B[0m\u001B[0;34m:\u001B[0m\u001B[0;34m\u001B[0m\u001B[0;34m\u001B[0m\u001B[0m\n\u001B[0;32m---> 41\u001B[0;31m                 \u001B[0mself\u001B[0m\u001B[0;34m.\u001B[0m\u001B[0mtrain_step\u001B[0m\u001B[0;34m(\u001B[0m\u001B[0mx_train\u001B[0m\u001B[0;34m,\u001B[0m \u001B[0mpi_train\u001B[0m\u001B[0;34m,\u001B[0m \u001B[0mv_train\u001B[0m\u001B[0;34m,\u001B[0m \u001B[0mv_weight\u001B[0m\u001B[0;34m)\u001B[0m\u001B[0;34m\u001B[0m\u001B[0;34m\u001B[0m\u001B[0m\n\u001B[0m\u001B[1;32m     42\u001B[0m             \u001B[0;32mwith\u001B[0m \u001B[0mtrain_summary_writer\u001B[0m\u001B[0;34m.\u001B[0m\u001B[0mas_default\u001B[0m\u001B[0;34m(\u001B[0m\u001B[0;34m)\u001B[0m\u001B[0;34m:\u001B[0m\u001B[0;34m\u001B[0m\u001B[0;34m\u001B[0m\u001B[0m\n\u001B[1;32m     43\u001B[0m                 \u001B[0mtf\u001B[0m\u001B[0;34m.\u001B[0m\u001B[0msummary\u001B[0m\u001B[0;34m.\u001B[0m\u001B[0mscalar\u001B[0m\u001B[0;34m(\u001B[0m\u001B[0;34m'train_loss'\u001B[0m\u001B[0;34m,\u001B[0m \u001B[0mself\u001B[0m\u001B[0;34m.\u001B[0m\u001B[0mtrain_probs_metric\u001B[0m\u001B[0;34m.\u001B[0m\u001B[0mresult\u001B[0m\u001B[0;34m(\u001B[0m\u001B[0;34m)\u001B[0m\u001B[0;34m,\u001B[0m \u001B[0mstep\u001B[0m\u001B[0;34m=\u001B[0m\u001B[0mepoch\u001B[0m\u001B[0;34m)\u001B[0m\u001B[0;34m\u001B[0m\u001B[0;34m\u001B[0m\u001B[0m\n",
      "\u001B[0;32m/usr/lib/python3/dist-packages/tensorflow/python/util/traceback_utils.py\u001B[0m in \u001B[0;36merror_handler\u001B[0;34m(*args, **kwargs)\u001B[0m\n\u001B[1;32m    148\u001B[0m     \u001B[0mfiltered_tb\u001B[0m \u001B[0;34m=\u001B[0m \u001B[0;32mNone\u001B[0m\u001B[0;34m\u001B[0m\u001B[0;34m\u001B[0m\u001B[0m\n\u001B[1;32m    149\u001B[0m     \u001B[0;32mtry\u001B[0m\u001B[0;34m:\u001B[0m\u001B[0;34m\u001B[0m\u001B[0;34m\u001B[0m\u001B[0m\n\u001B[0;32m--> 150\u001B[0;31m       \u001B[0;32mreturn\u001B[0m \u001B[0mfn\u001B[0m\u001B[0;34m(\u001B[0m\u001B[0;34m*\u001B[0m\u001B[0margs\u001B[0m\u001B[0;34m,\u001B[0m \u001B[0;34m**\u001B[0m\u001B[0mkwargs\u001B[0m\u001B[0;34m)\u001B[0m\u001B[0;34m\u001B[0m\u001B[0;34m\u001B[0m\u001B[0m\n\u001B[0m\u001B[1;32m    151\u001B[0m     \u001B[0;32mexcept\u001B[0m \u001B[0mException\u001B[0m \u001B[0;32mas\u001B[0m \u001B[0me\u001B[0m\u001B[0;34m:\u001B[0m\u001B[0;34m\u001B[0m\u001B[0;34m\u001B[0m\u001B[0m\n\u001B[1;32m    152\u001B[0m       \u001B[0mfiltered_tb\u001B[0m \u001B[0;34m=\u001B[0m \u001B[0m_process_traceback_frames\u001B[0m\u001B[0;34m(\u001B[0m\u001B[0me\u001B[0m\u001B[0;34m.\u001B[0m\u001B[0m__traceback__\u001B[0m\u001B[0;34m)\u001B[0m\u001B[0;34m\u001B[0m\u001B[0;34m\u001B[0m\u001B[0m\n",
      "\u001B[0;32m/usr/lib/python3/dist-packages/tensorflow/python/eager/def_function.py\u001B[0m in \u001B[0;36m__call__\u001B[0;34m(self, *args, **kwds)\u001B[0m\n\u001B[1;32m    913\u001B[0m \u001B[0;34m\u001B[0m\u001B[0m\n\u001B[1;32m    914\u001B[0m       \u001B[0;32mwith\u001B[0m \u001B[0mOptionalXlaContext\u001B[0m\u001B[0;34m(\u001B[0m\u001B[0mself\u001B[0m\u001B[0;34m.\u001B[0m\u001B[0m_jit_compile\u001B[0m\u001B[0;34m)\u001B[0m\u001B[0;34m:\u001B[0m\u001B[0;34m\u001B[0m\u001B[0;34m\u001B[0m\u001B[0m\n\u001B[0;32m--> 915\u001B[0;31m         \u001B[0mresult\u001B[0m \u001B[0;34m=\u001B[0m \u001B[0mself\u001B[0m\u001B[0;34m.\u001B[0m\u001B[0m_call\u001B[0m\u001B[0;34m(\u001B[0m\u001B[0;34m*\u001B[0m\u001B[0margs\u001B[0m\u001B[0;34m,\u001B[0m \u001B[0;34m**\u001B[0m\u001B[0mkwds\u001B[0m\u001B[0;34m)\u001B[0m\u001B[0;34m\u001B[0m\u001B[0;34m\u001B[0m\u001B[0m\n\u001B[0m\u001B[1;32m    916\u001B[0m \u001B[0;34m\u001B[0m\u001B[0m\n\u001B[1;32m    917\u001B[0m       \u001B[0mnew_tracing_count\u001B[0m \u001B[0;34m=\u001B[0m \u001B[0mself\u001B[0m\u001B[0;34m.\u001B[0m\u001B[0mexperimental_get_tracing_count\u001B[0m\u001B[0;34m(\u001B[0m\u001B[0;34m)\u001B[0m\u001B[0;34m\u001B[0m\u001B[0;34m\u001B[0m\u001B[0m\n",
      "\u001B[0;32m/usr/lib/python3/dist-packages/tensorflow/python/eager/def_function.py\u001B[0m in \u001B[0;36m_call\u001B[0;34m(self, *args, **kwds)\u001B[0m\n\u001B[1;32m    945\u001B[0m       \u001B[0;31m# In this case we have created variables on the first call, so we run the\u001B[0m\u001B[0;34m\u001B[0m\u001B[0;34m\u001B[0m\u001B[0;34m\u001B[0m\u001B[0m\n\u001B[1;32m    946\u001B[0m       \u001B[0;31m# defunned version which is guaranteed to never create variables.\u001B[0m\u001B[0;34m\u001B[0m\u001B[0;34m\u001B[0m\u001B[0;34m\u001B[0m\u001B[0m\n\u001B[0;32m--> 947\u001B[0;31m       \u001B[0;32mreturn\u001B[0m \u001B[0mself\u001B[0m\u001B[0;34m.\u001B[0m\u001B[0m_stateless_fn\u001B[0m\u001B[0;34m(\u001B[0m\u001B[0;34m*\u001B[0m\u001B[0margs\u001B[0m\u001B[0;34m,\u001B[0m \u001B[0;34m**\u001B[0m\u001B[0mkwds\u001B[0m\u001B[0;34m)\u001B[0m  \u001B[0;31m# pylint: disable=not-callable\u001B[0m\u001B[0;34m\u001B[0m\u001B[0;34m\u001B[0m\u001B[0m\n\u001B[0m\u001B[1;32m    948\u001B[0m     \u001B[0;32melif\u001B[0m \u001B[0mself\u001B[0m\u001B[0;34m.\u001B[0m\u001B[0m_stateful_fn\u001B[0m \u001B[0;32mis\u001B[0m \u001B[0;32mnot\u001B[0m \u001B[0;32mNone\u001B[0m\u001B[0;34m:\u001B[0m\u001B[0;34m\u001B[0m\u001B[0;34m\u001B[0m\u001B[0m\n\u001B[1;32m    949\u001B[0m       \u001B[0;31m# Release the lock early so that multiple threads can perform the call\u001B[0m\u001B[0;34m\u001B[0m\u001B[0;34m\u001B[0m\u001B[0;34m\u001B[0m\u001B[0m\n",
      "\u001B[0;32m/usr/lib/python3/dist-packages/tensorflow/python/eager/function.py\u001B[0m in \u001B[0;36m__call__\u001B[0;34m(self, *args, **kwargs)\u001B[0m\n\u001B[1;32m   2451\u001B[0m       (graph_function,\n\u001B[1;32m   2452\u001B[0m        filtered_flat_args) = self._maybe_define_function(args, kwargs)\n\u001B[0;32m-> 2453\u001B[0;31m     return graph_function._call_flat(\n\u001B[0m\u001B[1;32m   2454\u001B[0m         filtered_flat_args, captured_inputs=graph_function.captured_inputs)  # pylint: disable=protected-access\n\u001B[1;32m   2455\u001B[0m \u001B[0;34m\u001B[0m\u001B[0m\n",
      "\u001B[0;32m/usr/lib/python3/dist-packages/tensorflow/python/eager/function.py\u001B[0m in \u001B[0;36m_call_flat\u001B[0;34m(self, args, captured_inputs, cancellation_manager)\u001B[0m\n\u001B[1;32m   1858\u001B[0m         and executing_eagerly):\n\u001B[1;32m   1859\u001B[0m       \u001B[0;31m# No tape is watching; skip to running the function.\u001B[0m\u001B[0;34m\u001B[0m\u001B[0;34m\u001B[0m\u001B[0;34m\u001B[0m\u001B[0m\n\u001B[0;32m-> 1860\u001B[0;31m       return self._build_call_outputs(self._inference_function.call(\n\u001B[0m\u001B[1;32m   1861\u001B[0m           ctx, args, cancellation_manager=cancellation_manager))\n\u001B[1;32m   1862\u001B[0m     forward_backward = self._select_forward_and_backward_functions(\n",
      "\u001B[0;32m/usr/lib/python3/dist-packages/tensorflow/python/eager/function.py\u001B[0m in \u001B[0;36mcall\u001B[0;34m(self, ctx, args, cancellation_manager)\u001B[0m\n\u001B[1;32m    495\u001B[0m       \u001B[0;32mwith\u001B[0m \u001B[0m_InterpolateFunctionError\u001B[0m\u001B[0;34m(\u001B[0m\u001B[0mself\u001B[0m\u001B[0;34m)\u001B[0m\u001B[0;34m:\u001B[0m\u001B[0;34m\u001B[0m\u001B[0;34m\u001B[0m\u001B[0m\n\u001B[1;32m    496\u001B[0m         \u001B[0;32mif\u001B[0m \u001B[0mcancellation_manager\u001B[0m \u001B[0;32mis\u001B[0m \u001B[0;32mNone\u001B[0m\u001B[0;34m:\u001B[0m\u001B[0;34m\u001B[0m\u001B[0;34m\u001B[0m\u001B[0m\n\u001B[0;32m--> 497\u001B[0;31m           outputs = execute.execute(\n\u001B[0m\u001B[1;32m    498\u001B[0m               \u001B[0mstr\u001B[0m\u001B[0;34m(\u001B[0m\u001B[0mself\u001B[0m\u001B[0;34m.\u001B[0m\u001B[0msignature\u001B[0m\u001B[0;34m.\u001B[0m\u001B[0mname\u001B[0m\u001B[0;34m)\u001B[0m\u001B[0;34m,\u001B[0m\u001B[0;34m\u001B[0m\u001B[0;34m\u001B[0m\u001B[0m\n\u001B[1;32m    499\u001B[0m               \u001B[0mnum_outputs\u001B[0m\u001B[0;34m=\u001B[0m\u001B[0mself\u001B[0m\u001B[0;34m.\u001B[0m\u001B[0m_num_outputs\u001B[0m\u001B[0;34m,\u001B[0m\u001B[0;34m\u001B[0m\u001B[0;34m\u001B[0m\u001B[0m\n",
      "\u001B[0;32m/usr/lib/python3/dist-packages/tensorflow/python/eager/execute.py\u001B[0m in \u001B[0;36mquick_execute\u001B[0;34m(op_name, num_outputs, inputs, attrs, ctx, name)\u001B[0m\n\u001B[1;32m     52\u001B[0m   \u001B[0;32mtry\u001B[0m\u001B[0;34m:\u001B[0m\u001B[0;34m\u001B[0m\u001B[0;34m\u001B[0m\u001B[0m\n\u001B[1;32m     53\u001B[0m     \u001B[0mctx\u001B[0m\u001B[0;34m.\u001B[0m\u001B[0mensure_initialized\u001B[0m\u001B[0;34m(\u001B[0m\u001B[0;34m)\u001B[0m\u001B[0;34m\u001B[0m\u001B[0;34m\u001B[0m\u001B[0m\n\u001B[0;32m---> 54\u001B[0;31m     tensors = pywrap_tfe.TFE_Py_Execute(ctx._handle, device_name, op_name,\n\u001B[0m\u001B[1;32m     55\u001B[0m                                         inputs, attrs, num_outputs)\n\u001B[1;32m     56\u001B[0m   \u001B[0;32mexcept\u001B[0m \u001B[0mcore\u001B[0m\u001B[0;34m.\u001B[0m\u001B[0m_NotOkStatusException\u001B[0m \u001B[0;32mas\u001B[0m \u001B[0me\u001B[0m\u001B[0;34m:\u001B[0m\u001B[0;34m\u001B[0m\u001B[0;34m\u001B[0m\u001B[0m\n",
      "\u001B[0;31mKeyboardInterrupt\u001B[0m: "
     ]
    }
   ],
   "source": [
    "trainer.train(ds, epochs_per_train=200, report_every=1, v_weight=2.0)"
   ],
   "metadata": {
    "collapsed": false
   }
  },
  {
   "cell_type": "code",
   "execution_count": 28,
   "outputs": [
    {
     "data": {
      "text/plain": "PosixPath('/home/wgiersche/workspace/Project-Ellie/DATA/models')"
     },
     "execution_count": 28,
     "metadata": {},
     "output_type": "execute_result"
    }
   ],
   "source": [
    "MODEL_DIR = Path(Path.home()) / DATA_DIR / 'models'\n",
    "MODEL_DIR"
   ],
   "metadata": {
    "collapsed": false
   }
  },
  {
   "cell_type": "code",
   "execution_count": 29,
   "outputs": [
    {
     "name": "stderr",
     "output_type": "stream",
     "text": [
      "WARNING:absl:Found untraced functions such as _jit_compiled_convolution_op, _jit_compiled_convolution_op, _jit_compiled_convolution_op, _jit_compiled_convolution_op, _jit_compiled_convolution_op while saving (showing 5 of 28). These functions will not be directly callable after loading.\n"
     ]
    },
    {
     "name": "stdout",
     "output_type": "stream",
     "text": [
      "INFO:tensorflow:Assets written to: models/0_c2s.model/assets\n"
     ]
    },
    {
     "name": "stderr",
     "output_type": "stream",
     "text": [
      "INFO:tensorflow:Assets written to: models/0_c2s.model/assets\n"
     ]
    }
   ],
   "source": [
    "model.save('models/0_c2s.model')"
   ],
   "metadata": {
    "collapsed": false
   }
  },
  {
   "cell_type": "code",
   "execution_count": 30,
   "outputs": [
    {
     "name": "stderr",
     "output_type": "stream",
     "text": [
      "WARNING:absl:Found untraced functions such as _jit_compiled_convolution_op, _jit_compiled_convolution_op, _jit_compiled_convolution_op, _jit_compiled_convolution_op, _jit_compiled_convolution_op while saving (showing 5 of 28). These functions will not be directly callable after loading.\n"
     ]
    },
    {
     "name": "stdout",
     "output_type": "stream",
     "text": [
      "INFO:tensorflow:Assets written to: /home/wgiersche/workspace/Project-Ellie/DATA/models/0_c2s.model/assets\n"
     ]
    },
    {
     "name": "stderr",
     "output_type": "stream",
     "text": [
      "INFO:tensorflow:Assets written to: /home/wgiersche/workspace/Project-Ellie/DATA/models/0_c2s.model/assets\n"
     ]
    }
   ],
   "source": [
    "model.save(MODEL_DIR / \"0_c2s.model\")"
   ],
   "metadata": {
    "collapsed": false
   }
  },
  {
   "cell_type": "markdown",
   "source": [
    "## Compare original and learned policy on the training set"
   ],
   "metadata": {
    "collapsed": false
   }
  },
  {
   "cell_type": "code",
   "execution_count": 31,
   "outputs": [],
   "source": [
    "a_batch = next(iter(ds))\n",
    "batch_size = a_batch[0].shape[0]"
   ],
   "metadata": {
    "collapsed": false
   }
  },
  {
   "cell_type": "code",
   "execution_count": 53,
   "outputs": [
    {
     "name": "stdout",
     "output_type": "stream",
     "text": [
      "Next to play: BLACK\n",
      "Value from BLACK's point of view: -0.2131725400686264\n",
      "Next to play: BLACK\n",
      "Value from BLACK's point of view: -0.18323957920074463\n"
     ]
    },
    {
     "data": {
      "text/plain": "<Figure size 432x432 with 1 Axes>",
      "image/png": "[encoded data removed]"
     },
     "metadata": {
      "needs_background": "light"
     },
     "output_type": "display_data"
    },
    {
     "data": {
      "text/plain": "<Figure size 432x432 with 1 Axes>",
      "image/png": "[encoded data removed]"
     },
     "metadata": {
      "needs_background": "light"
     },
     "output_type": "display_data"
    }
   ],
   "source": [
    "from aegomoku.utils import analyse_example\n",
    "\n",
    "n = random.randint(0, batch_size)\n",
    "s, p, v = np.expand_dims(a_batch[0][n,:,:,:], axis=0), list(a_batch[1][n,:]), a_batch[2][n].numpy()\n",
    "s.shape, len(p), v\n",
    "# Training Material\n",
    "analyse_example((s, p, v), disp_width=6)\n",
    "\n",
    "# Learned\n",
    "p_learned, v_learned = model(s)\n",
    "learned = (s, list(p_learned.numpy()), np.squeeze(v_learned))\n",
    "analyse_example(learned, disp_width=6, policy_cutoff=50)"
   ],
   "metadata": {
    "collapsed": false
   }
  },
  {
   "cell_type": "markdown",
   "source": [
    "## Validate on unseen data"
   ],
   "metadata": {
    "collapsed": false
   }
  },
  {
   "cell_type": "code",
   "execution_count": 67,
   "outputs": [
    {
     "name": "stdout",
     "output_type": "stream",
     "text": [
      "/home/wgiersche/workspace/Project-Ellie/DATA/selfplay_old/3.2/tensorbook/00003.pickle\n"
     ]
    }
   ],
   "source": [
    "SELFPLAY_DIR = Path(Path.home()) / DATA_DIR / 'selfplay_old' / '3.2' / 'tensorbook'\n",
    "vali_data = list(SELFPLAY_DIR.rglob(\"*.pickle\"))\n",
    "from aegomoku.game_data import read_training_data\n",
    "examples, games = read_training_data(vali_data[0])\n",
    "print(vali_data[0])"
   ],
   "metadata": {
    "collapsed": false
   }
  },
  {
   "cell_type": "code",
   "execution_count": 80,
   "outputs": [
    {
     "name": "stdout",
     "output_type": "stream",
     "text": [
      "6092\n",
      "Original Policy from example file\n",
      "Next to play: BLACK\n",
      "Value from BLACK's point of view: 0.20371011749448442\n",
      "The currently trained policy\n",
      "Next to play: BLACK\n",
      "Value from BLACK's point of view: 0.19875596463680267\n"
     ]
    },
    {
     "data": {
      "text/plain": "<Figure size 432x432 with 1 Axes>",
      "image/png": "[encoded data removed]"
     },
     "metadata": {
      "needs_background": "light"
     },
     "output_type": "display_data"
    },
    {
     "data": {
      "text/plain": "<Figure size 432x432 with 1 Axes>",
      "image/png": "[encoded data removed]"
     },
     "metadata": {
      "needs_background": "light"
     },
     "output_type": "display_data"
    }
   ],
   "source": [
    "import random\n",
    "from aegomoku.advice import PolicyAdviser\n",
    "from aegomoku.interfaces import PolicyParams\n",
    "\n",
    "n = random.randint(0, len(examples))\n",
    "#n = 4688\n",
    "print(n)\n",
    "example = examples[n]\n",
    "print(\"Original Policy from example file\")\n",
    "analyse_example(example, policy_cutoff=.01, disp_width=6)\n",
    "\n",
    "print(\"The currently trained policy\")\n",
    "policy_params = PolicyParams(BOARD_SIZE, model_file_name=None, advice_cutoff=0.01)\n",
    "adviser = PolicyAdviser(model, policy_params)\n",
    "s, _, _ = example\n",
    "p, v = adviser.evaluate(s)\n",
    "analyse_example((s, p, v), policy_cutoff=.01, disp_width=6)"
   ],
   "metadata": {
    "collapsed": false
   }
  }
 ],
 "metadata": {
  "kernelspec": {
   "display_name": "Python 3",
   "language": "python",
   "name": "python3"
  },
  "language_info": {
   "codemirror_mode": {
    "name": "ipython",
    "version": 2
   },
   "file_extension": ".py",
   "mimetype": "text/x-python",
   "name": "python",
   "nbconvert_exporter": "python",
   "pygments_lexer": "ipython2",
   "version": "2.7.6"
  }
 },
 "nbformat": 4,
 "nbformat_minor": 0
}
