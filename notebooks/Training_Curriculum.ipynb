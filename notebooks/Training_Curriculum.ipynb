{
 "cells": [
  {
   "cell_type": "markdown",
   "source": [
    "# Training: Curriculum\n",
    "\n",
    "#### 1) Train on various close-to-terminal standard situations\n",
    "#### 2) Train on self-play episodes of the champion\n",
    "#### 3) Avoid frustrating the freshling"
   ],
   "metadata": {
    "collapsed": false,
    "pycharm": {
     "name": "#%% md\n"
    }
   }
  },
  {
   "cell_type": "code",
   "execution_count": 2,
   "outputs": [],
   "source": [
    "%load_ext autoreload\n",
    "%autoreload 2"
   ],
   "metadata": {
    "collapsed": false,
    "pycharm": {
     "name": "#%%\n"
    }
   }
  },
  {
   "cell_type": "code",
   "execution_count": 3,
   "outputs": [
    {
     "data": {
      "text/plain": "[PhysicalDevice(name='/physical_device:GPU:0', device_type='GPU')]"
     },
     "execution_count": 3,
     "metadata": {},
     "output_type": "execute_result"
    }
   ],
   "source": [
    "import os\n",
    "import random\n",
    "\n",
    "import numpy as np\n",
    "import tensorflow as tf\n",
    "\n",
    "from aegomoku.trainer import Trainer, create_curriculum, TERMINAL_OPPORTUNITY, TERMINAL_THREAT, ENDGAME, ALL_GAMEPLAY\n",
    "from aegomoku.utils import analyse_example\n",
    "\n",
    "tf.config.list_physical_devices('GPU')"
   ],
   "metadata": {
    "collapsed": false,
    "pycharm": {
     "name": "#%%\n"
    }
   }
  },
  {
   "cell_type": "code",
   "execution_count": 4,
   "outputs": [],
   "source": [
    "BOARD_SIZE = 19"
   ],
   "metadata": {
    "collapsed": false,
    "pycharm": {
     "name": "#%%\n"
    }
   }
  },
  {
   "cell_type": "markdown",
   "source": [
    "---"
   ],
   "metadata": {
    "collapsed": false,
    "pycharm": {
     "name": "#%% md\n"
    }
   }
  },
  {
   "cell_type": "markdown",
   "source": [
    "# Read curriculum game data"
   ],
   "metadata": {
    "collapsed": false,
    "pycharm": {
     "name": "#%% md\n"
    }
   }
  },
  {
   "cell_type": "markdown",
   "source": [
    "### Pickle files\n",
    "Pickle files contain only single representatives of the 8 symmetries and the board positions are represented by the list of integers for the stones instead of the canonical N x X x 3 representation"
   ],
   "metadata": {
    "collapsed": false,
    "pycharm": {
     "name": "#%% md\n"
    }
   }
  },
  {
   "cell_type": "code",
   "execution_count": 6,
   "outputs": [
    {
     "name": "stdout",
     "output_type": "stream",
     "text": [
      "/home/wgiersche/workspace/Project-Ellie/DATA/selfplay/2.1\n"
     ]
    }
   ],
   "source": [
    "from pathlib import Path\n",
    "\n",
    "DATA_DIR='workspace/Project-Ellie/DATA'\n",
    "PHASE = '2.1'\n",
    "HOST = os.uname()[1]\n",
    "SELFPLAY_DIR = Path(Path.home()) / DATA_DIR / 'selfplay' / PHASE\n",
    "print(SELFPLAY_DIR)"
   ],
   "metadata": {
    "collapsed": false,
    "pycharm": {
     "name": "#%%\n"
    }
   }
  },
  {
   "cell_type": "code",
   "execution_count": 11,
   "outputs": [
    {
     "data": {
      "text/plain": "[PosixPath('/home/wgiersche/workspace/Project-Ellie/DATA/selfplay/2.1/tensorbook/00003.pickle'),\n PosixPath('/home/wgiersche/workspace/Project-Ellie/DATA/selfplay/2.1/tensorbook/00009.pickle'),\n PosixPath('/home/wgiersche/workspace/Project-Ellie/DATA/selfplay/2.1/tensorbook/00006.pickle'),\n PosixPath('/home/wgiersche/workspace/Project-Ellie/DATA/selfplay/2.1/tensorbook/00002.pickle'),\n PosixPath('/home/wgiersche/workspace/Project-Ellie/DATA/selfplay/2.1/tensorbook/00001.pickle'),\n PosixPath('/home/wgiersche/workspace/Project-Ellie/DATA/selfplay/2.1/tensorbook/00007.pickle'),\n PosixPath('/home/wgiersche/workspace/Project-Ellie/DATA/selfplay/2.1/tensorbook/00011.pickle'),\n PosixPath('/home/wgiersche/workspace/Project-Ellie/DATA/selfplay/2.1/tensorbook/00012.pickle'),\n PosixPath('/home/wgiersche/workspace/Project-Ellie/DATA/selfplay/2.1/tensorbook/00004.pickle'),\n PosixPath('/home/wgiersche/workspace/Project-Ellie/DATA/selfplay/2.1/tensorbook/00005.pickle'),\n PosixPath('/home/wgiersche/workspace/Project-Ellie/DATA/selfplay/2.1/tensorbook/00010.pickle'),\n PosixPath('/home/wgiersche/workspace/Project-Ellie/DATA/selfplay/2.1/tensorbook/00008.pickle'),\n PosixPath('/home/wgiersche/workspace/Project-Ellie/DATA/selfplay/2.1/scylla/00003.pickle'),\n PosixPath('/home/wgiersche/workspace/Project-Ellie/DATA/selfplay/2.1/scylla/00009.pickle'),\n PosixPath('/home/wgiersche/workspace/Project-Ellie/DATA/selfplay/2.1/scylla/00006.pickle'),\n PosixPath('/home/wgiersche/workspace/Project-Ellie/DATA/selfplay/2.1/scylla/00002.pickle'),\n PosixPath('/home/wgiersche/workspace/Project-Ellie/DATA/selfplay/2.1/scylla/00001.pickle'),\n PosixPath('/home/wgiersche/workspace/Project-Ellie/DATA/selfplay/2.1/scylla/00007.pickle'),\n PosixPath('/home/wgiersche/workspace/Project-Ellie/DATA/selfplay/2.1/scylla/00011.pickle'),\n PosixPath('/home/wgiersche/workspace/Project-Ellie/DATA/selfplay/2.1/scylla/00012.pickle'),\n PosixPath('/home/wgiersche/workspace/Project-Ellie/DATA/selfplay/2.1/scylla/00004.pickle'),\n PosixPath('/home/wgiersche/workspace/Project-Ellie/DATA/selfplay/2.1/scylla/00005.pickle'),\n PosixPath('/home/wgiersche/workspace/Project-Ellie/DATA/selfplay/2.1/scylla/00010.pickle'),\n PosixPath('/home/wgiersche/workspace/Project-Ellie/DATA/selfplay/2.1/scylla/00008.pickle')]"
     },
     "execution_count": 11,
     "metadata": {},
     "output_type": "execute_result"
    }
   ],
   "source": [
    "all_2_1 = list(SELFPLAY_DIR.rglob(\"*.pickle\"))\n",
    "all_2_1"
   ],
   "metadata": {
    "collapsed": false,
    "pycharm": {
     "name": "#%%\n"
    }
   }
  },
  {
   "cell_type": "code",
   "execution_count": 10,
   "outputs": [
    {
     "name": "stdout",
     "output_type": "stream",
     "text": [
      "Preparing course: All Gameplay\n"
     ]
    },
    {
     "name": "stderr",
     "output_type": "stream",
     "text": [
      "100%|██████████| 24/24 [00:56<00:00,  2.36s/it]\n"
     ]
    },
    {
     "name": "stdout",
     "output_type": "stream",
     "text": [
      "Prepared course: All Gameplay: 173584 examples\n",
      "\n"
     ]
    }
   ],
   "source": [
    "curriculum = create_curriculum(all_2_1, 512, ALL_GAMEPLAY)"
   ],
   "metadata": {
    "collapsed": false,
    "pycharm": {
     "name": "#%%\n"
    }
   }
  },
  {
   "cell_type": "markdown",
   "source": [
    "## Terminal Opportunities"
   ],
   "metadata": {
    "collapsed": false,
    "pycharm": {
     "name": "#%% md\n"
    }
   }
  },
  {
   "cell_type": "code",
   "execution_count": 13,
   "outputs": [
    {
     "data": {
      "text/plain": "{'title': 'Terminal Opportunities',\n 'filter': <function aegomoku.trainer.create_curriculum.<locals>.is_opportunity(_s, _p, v)>}"
     },
     "execution_count": 13,
     "metadata": {},
     "output_type": "execute_result"
    }
   ],
   "source": [
    "course"
   ],
   "metadata": {
    "collapsed": false,
    "pycharm": {
     "name": "#%%\n"
    }
   }
  },
  {
   "cell_type": "code",
   "execution_count": 14,
   "outputs": [
    {
     "name": "stdout",
     "output_type": "stream",
     "text": [
      "Course not available\n"
     ]
    }
   ],
   "source": [
    "ds = curriculum[TERMINAL_OPPORTUNITY].get('dataset')\n",
    "if ds is not None:\n",
    "    s, p, v = next(iter(ds))\n",
    "    example = np.squeeze(s[0,:,:,:]), list(np.squeeze(p[0,:])), np.squeeze(v[0])\n",
    "    analyse_example(example, disp_width=7.5, policy_cutoff=.001)\n",
    "else:\n",
    "    print(\"Course not available\")"
   ],
   "metadata": {
    "collapsed": false,
    "pycharm": {
     "name": "#%%\n"
    }
   }
  },
  {
   "cell_type": "code",
   "execution_count": 15,
   "outputs": [
    {
     "name": "stdout",
     "output_type": "stream",
     "text": [
      "Course not available\n"
     ]
    }
   ],
   "source": [
    "ds = curriculum[TERMINAL_THREAT].get('dataset')\n",
    "if ds is not None:\n",
    "    s, p, v = next(iter(ds))\n",
    "    example = np.squeeze(s[0,:,:,:]), list(np.squeeze(p[0,:])), np.squeeze(v[0])\n",
    "    analyse_example(example, disp_width=7.5, policy_cutoff=.001)\n",
    "else:\n",
    "    print(\"Course not available\")"
   ],
   "metadata": {
    "collapsed": false,
    "pycharm": {
     "name": "#%%\n"
    }
   }
  },
  {
   "cell_type": "code",
   "execution_count": 16,
   "outputs": [
    {
     "name": "stdout",
     "output_type": "stream",
     "text": [
      "Course not available\n"
     ]
    }
   ],
   "source": [
    "ds = curriculum[ENDGAME].get('dataset')\n",
    "if ds is not None:\n",
    "    s, p, v = next(iter(ds))\n",
    "    example = np.squeeze(s[0,:,:,:]), list(np.squeeze(p[0,:])), np.squeeze(v[0])\n",
    "    analyse_example(example, disp_width=7.5, policy_cutoff=.001)\n",
    "else:\n",
    "    print(\"Course not available\")"
   ],
   "metadata": {
    "collapsed": false,
    "pycharm": {
     "name": "#%%\n"
    }
   }
  },
  {
   "cell_type": "markdown",
   "source": [
    "## General Gameplay"
   ],
   "metadata": {
    "collapsed": false,
    "pycharm": {
     "name": "#%% md\n"
    }
   }
  },
  {
   "cell_type": "code",
   "execution_count": 17,
   "outputs": [
    {
     "name": "stdout",
     "output_type": "stream",
     "text": [
      "Next to play: WHITE\n",
      "Value from WHITE's point of view: -0.9555243253707886\n"
     ]
    },
    {
     "data": {
      "text/plain": "<Figure size 540x540 with 1 Axes>",
      "image/png": "[encoded data removed]"
     },
     "metadata": {
      "needs_background": "light"
     },
     "output_type": "display_data"
    }
   ],
   "source": [
    "ds = curriculum[ALL_GAMEPLAY]['dataset']\n",
    "s, p, v = next(iter(ds))\n",
    "example = np.squeeze(s[0,:,:,:]), list(np.squeeze(p[0,:])), np.squeeze(v[0])\n",
    "analyse_example(example, disp_width=7.5, policy_cutoff=.001)\n"
   ],
   "metadata": {
    "collapsed": false,
    "pycharm": {
     "name": "#%%\n"
    }
   }
  },
  {
   "cell_type": "markdown",
   "source": [
    "---"
   ],
   "metadata": {
    "collapsed": false,
    "pycharm": {
     "name": "#%% md\n"
    }
   }
  },
  {
   "cell_type": "markdown",
   "source": [
    "\n",
    "## Choose a model to start with\n"
   ],
   "metadata": {
    "collapsed": false,
    "pycharm": {
     "name": "#%% md\n"
    }
   }
  },
  {
   "cell_type": "markdown",
   "source": [
    "#### A freshman"
   ],
   "metadata": {
    "collapsed": false,
    "pycharm": {
     "name": "#%% md\n"
    }
   }
  },
  {
   "cell_type": "code",
   "execution_count": 20,
   "outputs": [
    {
     "name": "stdout",
     "output_type": "stream",
     "text": [
      "Model: \"gomoku_resnet\"\n",
      "__________________________________________________________________________________________________\n",
      " Layer (type)                   Output Shape         Param #     Connected to                     \n",
      "==================================================================================================\n",
      " inputs (InputLayer)            [(None, 21, 21, 3)]  0           []                               \n",
      "                                                                                                  \n",
      " heuristic_detector (Conv2D)    (None, 21, 21, 307)  111748      ['inputs[0][0]']                 \n",
      "                                                                                                  \n",
      " expand_1_11x11 (Conv2D)        (None, 21, 21, 1024  372736      ['inputs[0][0]']                 \n",
      "                                )                                                                 \n",
      "                                                                                                  \n",
      " heuristic_priority (Conv2D)    (None, 21, 21, 5)    1540        ['heuristic_detector[0][0]']     \n",
      "                                                                                                  \n",
      " contract_1_5x5 (Conv2D)        (None, 21, 21, 4)    102404      ['expand_1_11x11[0][0]']         \n",
      "                                                                                                  \n",
      " concatenate (Concatenate)      (None, 21, 21, 9)    0           ['heuristic_priority[0][0]',     \n",
      "                                                                  'contract_1_5x5[0][0]']         \n",
      "                                                                                                  \n",
      " expand_2_5x5 (Conv2D)          (None, 21, 21, 32)   7232        ['concatenate[0][0]']            \n",
      "                                                                                                  \n",
      " contract_2_3x3 (Conv2D)        (None, 21, 21, 4)    1156        ['expand_2_5x5[0][0]']           \n",
      "                                                                                                  \n",
      " skip_2 (Add)                   (None, 21, 21, 4)    0           ['contract_2_3x3[0][0]',         \n",
      "                                                                  'contract_1_5x5[0][0]']         \n",
      "                                                                                                  \n",
      " concatenate_1 (Concatenate)    (None, 21, 21, 9)    0           ['heuristic_priority[0][0]',     \n",
      "                                                                  'skip_2[0][0]']                 \n",
      "                                                                                                  \n",
      " expand_3_5x5 (Conv2D)          (None, 21, 21, 32)   7232        ['concatenate_1[0][0]']          \n",
      "                                                                                                  \n",
      " contract_3_3x3 (Conv2D)        (None, 21, 21, 4)    1156        ['expand_3_5x5[0][0]']           \n",
      "                                                                                                  \n",
      " skip_3 (Add)                   (None, 21, 21, 4)    0           ['contract_3_3x3[0][0]',         \n",
      "                                                                  'skip_2[0][0]']                 \n",
      "                                                                                                  \n",
      " concatenate_2 (Concatenate)    (None, 21, 21, 9)    0           ['heuristic_priority[0][0]',     \n",
      "                                                                  'skip_3[0][0]']                 \n",
      "                                                                                                  \n",
      " expand_4_5x5 (Conv2D)          (None, 21, 21, 32)   7232        ['concatenate_2[0][0]']          \n",
      "                                                                                                  \n",
      " contract_4_3x3 (Conv2D)        (None, 21, 21, 4)    1156        ['expand_4_5x5[0][0]']           \n",
      "                                                                                                  \n",
      " skip_4 (Add)                   (None, 21, 21, 4)    0           ['contract_4_3x3[0][0]',         \n",
      "                                                                  'skip_3[0][0]']                 \n",
      "                                                                                                  \n",
      " concatenate_3 (Concatenate)    (None, 21, 21, 9)    0           ['heuristic_priority[0][0]',     \n",
      "                                                                  'skip_4[0][0]']                 \n",
      "                                                                                                  \n",
      " expand_5_5x5 (Conv2D)          (None, 21, 21, 32)   7232        ['concatenate_3[0][0]']          \n",
      "                                                                                                  \n",
      " contract_5_3x3 (Conv2D)        (None, 21, 21, 4)    1156        ['expand_5_5x5[0][0]']           \n",
      "                                                                                                  \n",
      " skip_5 (Add)                   (None, 21, 21, 4)    0           ['contract_5_3x3[0][0]',         \n",
      "                                                                  'skip_4[0][0]']                 \n",
      "                                                                                                  \n",
      " concatenate_4 (Concatenate)    (None, 21, 21, 9)    0           ['heuristic_priority[0][0]',     \n",
      "                                                                  'skip_5[0][0]']                 \n",
      "                                                                                                  \n",
      " expand_6_5x5 (Conv2D)          (None, 21, 21, 32)   7232        ['concatenate_4[0][0]']          \n",
      "                                                                                                  \n",
      " contract_6_3x3 (Conv2D)        (None, 21, 21, 4)    1156        ['expand_6_5x5[0][0]']           \n",
      "                                                                                                  \n",
      " skip_6 (Add)                   (None, 21, 21, 4)    0           ['contract_6_3x3[0][0]',         \n",
      "                                                                  'skip_5[0][0]']                 \n",
      "                                                                                                  \n",
      " concatenate_5 (Concatenate)    (None, 21, 21, 9)    0           ['heuristic_priority[0][0]',     \n",
      "                                                                  'skip_6[0][0]']                 \n",
      "                                                                                                  \n",
      " expand_7_5x5 (Conv2D)          (None, 21, 21, 32)   7232        ['concatenate_5[0][0]']          \n",
      "                                                                                                  \n",
      " contract_7_3x3 (Conv2D)        (None, 21, 21, 4)    1156        ['expand_7_5x5[0][0]']           \n",
      "                                                                                                  \n",
      " skip_7 (Add)                   (None, 21, 21, 4)    0           ['contract_7_3x3[0][0]',         \n",
      "                                                                  'skip_6[0][0]']                 \n",
      "                                                                                                  \n",
      " concatenate_6 (Concatenate)    (None, 21, 21, 9)    0           ['heuristic_priority[0][0]',     \n",
      "                                                                  'skip_7[0][0]']                 \n",
      "                                                                                                  \n",
      " expand_8_5x5 (Conv2D)          (None, 21, 21, 32)   7232        ['concatenate_6[0][0]']          \n",
      "                                                                                                  \n",
      " contract_8_3x3 (Conv2D)        (None, 21, 21, 4)    1156        ['expand_8_5x5[0][0]']           \n",
      "                                                                                                  \n",
      " skip_8 (Add)                   (None, 21, 21, 4)    0           ['contract_8_3x3[0][0]',         \n",
      "                                                                  'skip_7[0][0]']                 \n",
      "                                                                                                  \n",
      " concatenate_7 (Concatenate)    (None, 21, 21, 9)    0           ['heuristic_priority[0][0]',     \n",
      "                                                                  'skip_8[0][0]']                 \n",
      "                                                                                                  \n",
      " expand_9_5x5 (Conv2D)          (None, 21, 21, 32)   7232        ['concatenate_7[0][0]']          \n",
      "                                                                                                  \n",
      " contract_9_3x3 (Conv2D)        (None, 21, 21, 4)    1156        ['expand_9_5x5[0][0]']           \n",
      "                                                                                                  \n",
      " skip_9 (Add)                   (None, 21, 21, 4)    0           ['contract_9_3x3[0][0]',         \n",
      "                                                                  'skip_8[0][0]']                 \n",
      "                                                                                                  \n",
      " concatenate_8 (Concatenate)    (None, 21, 21, 9)    0           ['heuristic_priority[0][0]',     \n",
      "                                                                  'skip_9[0][0]']                 \n",
      "                                                                                                  \n",
      " expand_10_5x5 (Conv2D)         (None, 21, 21, 32)   7232        ['concatenate_8[0][0]']          \n",
      "                                                                                                  \n",
      " contract_10_3x3 (Conv2D)       (None, 21, 21, 4)    1156        ['expand_10_5x5[0][0]']          \n",
      "                                                                                                  \n",
      " skip_10 (Add)                  (None, 21, 21, 4)    0           ['contract_10_3x3[0][0]',        \n",
      "                                                                  'skip_9[0][0]']                 \n",
      "                                                                                                  \n",
      " concatenate_9 (Concatenate)    (None, 21, 21, 9)    0           ['heuristic_priority[0][0]',     \n",
      "                                                                  'skip_10[0][0]']                \n",
      "                                                                                                  \n",
      " expand_11_5x5 (Conv2D)         (None, 21, 21, 32)   7232        ['concatenate_9[0][0]']          \n",
      "                                                                                                  \n",
      " contract_11_3x3 (Conv2D)       (None, 21, 21, 4)    1156        ['expand_11_5x5[0][0]']          \n",
      "                                                                                                  \n",
      " skip_11 (Add)                  (None, 21, 21, 4)    0           ['contract_11_3x3[0][0]',        \n",
      "                                                                  'skip_10[0][0]']                \n",
      "                                                                                                  \n",
      " concatenate_10 (Concatenate)   (None, 21, 21, 9)    0           ['heuristic_priority[0][0]',     \n",
      "                                                                  'skip_11[0][0]']                \n",
      "                                                                                                  \n",
      " expand_12_5x5 (Conv2D)         (None, 21, 21, 32)   7232        ['concatenate_10[0][0]']         \n",
      "                                                                                                  \n",
      " contract_12_3x3 (Conv2D)       (None, 21, 21, 4)    1156        ['expand_12_5x5[0][0]']          \n",
      "                                                                                                  \n",
      " skip_12 (Add)                  (None, 21, 21, 4)    0           ['contract_12_3x3[0][0]',        \n",
      "                                                                  'skip_11[0][0]']                \n",
      "                                                                                                  \n",
      " concatenate_11 (Concatenate)   (None, 21, 21, 9)    0           ['heuristic_priority[0][0]',     \n",
      "                                                                  'skip_12[0][0]']                \n",
      "                                                                                                  \n",
      " expand_13_5x5 (Conv2D)         (None, 21, 21, 32)   7232        ['concatenate_11[0][0]']         \n",
      "                                                                                                  \n",
      " contract_13_3x3 (Conv2D)       (None, 21, 21, 4)    1156        ['expand_13_5x5[0][0]']          \n",
      "                                                                                                  \n",
      " skip_13 (Add)                  (None, 21, 21, 4)    0           ['contract_13_3x3[0][0]',        \n",
      "                                                                  'skip_12[0][0]']                \n",
      "                                                                                                  \n",
      " concatenate_12 (Concatenate)   (None, 21, 21, 9)    0           ['heuristic_priority[0][0]',     \n",
      "                                                                  'skip_13[0][0]']                \n",
      "                                                                                                  \n",
      " expand_14_5x5 (Conv2D)         (None, 21, 21, 32)   7232        ['concatenate_12[0][0]']         \n",
      "                                                                                                  \n",
      " contract_14_3x3 (Conv2D)       (None, 21, 21, 4)    1156        ['expand_14_5x5[0][0]']          \n",
      "                                                                                                  \n",
      " skip_14 (Add)                  (None, 21, 21, 4)    0           ['contract_14_3x3[0][0]',        \n",
      "                                                                  'skip_13[0][0]']                \n",
      "                                                                                                  \n",
      " concatenate_13 (Concatenate)   (None, 21, 21, 9)    0           ['heuristic_priority[0][0]',     \n",
      "                                                                  'skip_14[0][0]']                \n",
      "                                                                                                  \n",
      " expand_15_5x5 (Conv2D)         (None, 21, 21, 32)   7232        ['concatenate_13[0][0]']         \n",
      "                                                                                                  \n",
      " contract_15_3x3 (Conv2D)       (None, 21, 21, 4)    1156        ['expand_15_5x5[0][0]']          \n",
      "                                                                                                  \n",
      " skip_15 (Add)                  (None, 21, 21, 4)    0           ['contract_15_3x3[0][0]',        \n",
      "                                                                  'skip_14[0][0]']                \n",
      "                                                                                                  \n",
      " concatenate_14 (Concatenate)   (None, 21, 21, 9)    0           ['heuristic_priority[0][0]',     \n",
      "                                                                  'skip_15[0][0]']                \n",
      "                                                                                                  \n",
      " expand_16_5x5 (Conv2D)         (None, 21, 21, 32)   7232        ['concatenate_14[0][0]']         \n",
      "                                                                                                  \n",
      " contract_16_3x3 (Conv2D)       (None, 21, 21, 4)    1156        ['expand_16_5x5[0][0]']          \n",
      "                                                                                                  \n",
      " skip_16 (Add)                  (None, 21, 21, 4)    0           ['contract_16_3x3[0][0]',        \n",
      "                                                                  'skip_15[0][0]']                \n",
      "                                                                                                  \n",
      " concatenate_15 (Concatenate)   (None, 21, 21, 9)    0           ['heuristic_priority[0][0]',     \n",
      "                                                                  'skip_16[0][0]']                \n",
      "                                                                                                  \n",
      " expand_17_5x5 (Conv2D)         (None, 21, 21, 32)   7232        ['concatenate_15[0][0]']         \n",
      "                                                                                                  \n",
      " contract_17_3x3 (Conv2D)       (None, 21, 21, 4)    1156        ['expand_17_5x5[0][0]']          \n",
      "                                                                                                  \n",
      " skip_17 (Add)                  (None, 21, 21, 4)    0           ['contract_17_3x3[0][0]',        \n",
      "                                                                  'skip_16[0][0]']                \n",
      "                                                                                                  \n",
      " concatenate_16 (Concatenate)   (None, 21, 21, 9)    0           ['heuristic_priority[0][0]',     \n",
      "                                                                  'skip_17[0][0]']                \n",
      "                                                                                                  \n",
      " expand_18_5x5 (Conv2D)         (None, 21, 21, 32)   7232        ['concatenate_16[0][0]']         \n",
      "                                                                                                  \n",
      " contract_18_3x3 (Conv2D)       (None, 21, 21, 4)    1156        ['expand_18_5x5[0][0]']          \n",
      "                                                                                                  \n",
      " skip_18 (Add)                  (None, 21, 21, 4)    0           ['contract_18_3x3[0][0]',        \n",
      "                                                                  'skip_17[0][0]']                \n",
      "                                                                                                  \n",
      " concatenate_17 (Concatenate)   (None, 21, 21, 9)    0           ['heuristic_priority[0][0]',     \n",
      "                                                                  'skip_18[0][0]']                \n",
      "                                                                                                  \n",
      " expand_19_5x5 (Conv2D)         (None, 21, 21, 32)   7232        ['concatenate_17[0][0]']         \n",
      "                                                                                                  \n",
      " contract_19_3x3 (Conv2D)       (None, 21, 21, 4)    1156        ['expand_19_5x5[0][0]']          \n",
      "                                                                                                  \n",
      " skip_19 (Add)                  (None, 21, 21, 4)    0           ['contract_19_3x3[0][0]',        \n",
      "                                                                  'skip_18[0][0]']                \n",
      "                                                                                                  \n",
      " concatenate_18 (Concatenate)   (None, 21, 21, 9)    0           ['heuristic_priority[0][0]',     \n",
      "                                                                  'skip_19[0][0]']                \n",
      "                                                                                                  \n",
      " expand_20_5x5 (Conv2D)         (None, 21, 21, 32)   7232        ['concatenate_18[0][0]']         \n",
      "                                                                                                  \n",
      " contract_20_3x3 (Conv2D)       (None, 21, 21, 4)    1156        ['expand_20_5x5[0][0]']          \n",
      "                                                                                                  \n",
      " skip_20 (Add)                  (None, 21, 21, 4)    0           ['contract_20_3x3[0][0]',        \n",
      "                                                                  'skip_19[0][0]']                \n",
      "                                                                                                  \n",
      " policy_aggregator (Conv2D)     (None, 21, 21, 1)    5           ['skip_20[0][0]']                \n",
      "                                                                                                  \n",
      " all_value_input (Concatenate)  (None, 21, 21, 13)   0           ['contract_20_3x3[0][0]',        \n",
      "                                                                  'concatenate[0][0]']            \n",
      "                                                                                                  \n",
      " border_off (Conv2D)            (None, 19, 19, 1)    10          ['policy_aggregator[0][0]']      \n",
      "                                                                                                  \n",
      " flat_value_input (Flatten)     (None, 5733)         0           ['all_value_input[0][0]']        \n",
      "                                                                                                  \n",
      " flat_logits (Flatten)          (None, 361)          0           ['border_off[0][0]']             \n",
      "                                                                                                  \n",
      " tf.math.truediv (TFOpLambda)   (None, 5733)         0           ['flat_value_input[0][0]']       \n",
      "                                                                                                  \n",
      " policy_head (Softmax)          (None, 361)          0           ['flat_logits[0][0]']            \n",
      "                                                                                                  \n",
      " value_head (Dense)             (None, 1)            5734        ['tf.math.truediv[0][0]']        \n",
      "                                                                                                  \n",
      "==================================================================================================\n",
      "Total params: 753,549\n",
      "Trainable params: 640,251\n",
      "Non-trainable params: 113,298\n",
      "__________________________________________________________________________________________________\n"
     ]
    }
   ],
   "source": [
    "from aegomoku.gomoku_resnet import GomokuResnet\n",
    "\n",
    "model = GomokuResnet(BOARD_SIZE, num_sensor_filters=1024, num_blocks=20)\n",
    "model.compile()\n",
    "model.summary()"
   ],
   "metadata": {
    "collapsed": false,
    "pycharm": {
     "name": "#%%\n"
    }
   }
  },
  {
   "cell_type": "markdown",
   "source": [
    "#### Clone the current champion"
   ],
   "metadata": {
    "collapsed": false,
    "pycharm": {
     "name": "#%% md\n"
    }
   }
  },
  {
   "cell_type": "code",
   "execution_count": 18,
   "outputs": [],
   "source": [
    "model_file = Path.home() / \"workspace\" / \"Project-Ellie\" / \"DATA\" / 'models' / '2_c1.model'\n",
    "model = tf.keras.models.load_model(model_file)"
   ],
   "metadata": {
    "collapsed": false,
    "pycharm": {
     "name": "#%%\n"
    }
   }
  },
  {
   "cell_type": "code",
   "execution_count": 21,
   "outputs": [],
   "source": [
    "trainer = Trainer(model)"
   ],
   "metadata": {
    "collapsed": false,
    "pycharm": {
     "name": "#%%\n"
    }
   }
  },
  {
   "cell_type": "markdown",
   "source": [
    "### You may want a warmup?"
   ],
   "metadata": {
    "collapsed": false,
    "pycharm": {
     "name": "#%% md\n"
    }
   }
  },
  {
   "cell_type": "code",
   "execution_count": 25,
   "outputs": [
    {
     "name": "stdout",
     "output_type": "stream",
     "text": [
      "No warm-up today...;-)\n"
     ]
    }
   ],
   "source": [
    "ds = curriculum[ENDGAME].get('dataset')\n",
    "if ds is not None:\n",
    "    trainer.train(ds, epochs_per_train=10, report_every=1, v_weight=1.0)\n",
    "    model.save('models/from_endgame.model')\n",
    "else:\n",
    "    print(\"No warm-up today...;-)\")"
   ],
   "metadata": {
    "collapsed": false,
    "pycharm": {
     "name": "#%%\n"
    }
   }
  },
  {
   "cell_type": "markdown",
   "source": [
    "## All game play\n",
    "This will last for a couple of hours"
   ],
   "metadata": {
    "collapsed": false,
    "pycharm": {
     "name": "#%% md\n"
    }
   }
  },
  {
   "cell_type": "code",
   "execution_count": 26,
   "outputs": [],
   "source": [
    "ds = curriculum[ALL_GAMEPLAY]['dataset']"
   ],
   "metadata": {
    "collapsed": false,
    "pycharm": {
     "name": "#%%\n"
    }
   }
  },
  {
   "cell_type": "code",
   "execution_count": 27,
   "outputs": [
    {
     "name": "stdout",
     "output_type": "stream",
     "text": [
      "Epoch: 1, Training: p: 3.068359, v: 0.08960619 - elapsed: 195.32s\n",
      "Epoch: 2, Training: p: 3.064528, v: 0.08262445 - elapsed: 92.032s\n",
      "Epoch: 3, Training: p: 3.062376, v: 0.07766713 - elapsed: 92.221s\n",
      "Epoch: 4, Training: p: 3.060139, v: 0.07344856 - elapsed: 92.227s\n",
      "Epoch: 5, Training: p: 3.058817, v: 0.07016387 - elapsed: 92.297s\n",
      "Epoch: 6, Training: p: 3.057643, v: 0.06736898 - elapsed: 92.329s\n",
      "Epoch: 7, Training: p: 3.056403, v: 0.06492552 - elapsed: 92.176s\n",
      "Epoch: 8, Training: p: 3.055412, v: 0.06273574 - elapsed: 91.928s\n",
      "Epoch: 9, Training: p: 3.054447, v: 0.06071584 - elapsed: 91.921s\n",
      "Epoch: 10, Training: p: 3.053569, v: 0.05894831 - elapsed: 91.44s\n",
      "Epoch: 11, Training: p: 3.052802, v: 0.05736227 - elapsed: 90.133s\n",
      "Epoch: 12, Training: p: 3.05209, v: 0.05601322 - elapsed: 89.93s\n",
      "Epoch: 13, Training: p: 3.051448, v: 0.0547457 - elapsed: 89.977s\n",
      "Epoch: 14, Training: p: 3.050767, v: 0.05347281 - elapsed: 89.901s\n",
      "Epoch: 15, Training: p: 3.050211, v: 0.05235965 - elapsed: 89.872s\n",
      "Epoch: 16, Training: p: 3.049623, v: 0.05126357 - elapsed: 89.822s\n",
      "Epoch: 17, Training: p: 3.049153, v: 0.0503201 - elapsed: 89.864s\n",
      "Epoch: 18, Training: p: 3.048623, v: 0.04939764 - elapsed: 89.829s\n",
      "Epoch: 19, Training: p: 3.048138, v: 0.04852019 - elapsed: 89.89s\n",
      "Epoch: 20, Training: p: 3.047658, v: 0.0476993 - elapsed: 89.887s\n",
      "Epoch: 21, Training: p: 3.047187, v: 0.04692318 - elapsed: 89.916s\n",
      "Epoch: 22, Training: p: 3.046725, v: 0.04620986 - elapsed: 89.889s\n",
      "Epoch: 23, Training: p: 3.046452, v: 0.04565861 - elapsed: 89.92s\n",
      "Epoch: 24, Training: p: 3.046037, v: 0.04498535 - elapsed: 89.887s\n",
      "Epoch: 25, Training: p: 3.045677, v: 0.04436227 - elapsed: 89.926s\n",
      "Epoch: 26, Training: p: 3.045296, v: 0.0437706 - elapsed: 89.856s\n",
      "Epoch: 27, Training: p: 3.04494, v: 0.04320487 - elapsed: 89.881s\n",
      "Epoch: 28, Training: p: 3.044521, v: 0.04261751 - elapsed: 89.892s\n",
      "Epoch: 29, Training: p: 3.044192, v: 0.04208881 - elapsed: 89.961s\n",
      "Epoch: 30, Training: p: 3.043854, v: 0.04156126 - elapsed: 89.926s\n",
      "Epoch: 31, Training: p: 3.043526, v: 0.04107981 - elapsed: 89.911s\n",
      "Epoch: 32, Training: p: 3.043179, v: 0.04060999 - elapsed: 89.912s\n",
      "Epoch: 33, Training: p: 3.042834, v: 0.0401535 - elapsed: 89.953s\n",
      "Epoch: 34, Training: p: 3.042522, v: 0.03972108 - elapsed: 89.962s\n",
      "Epoch: 35, Training: p: 3.043069, v: 0.04017509 - elapsed: 89.943s\n",
      "Epoch: 36, Training: p: 3.042839, v: 0.03987272 - elapsed: 89.938s\n",
      "Epoch: 37, Training: p: 3.042555, v: 0.03953358 - elapsed: 89.942s\n",
      "Epoch: 38, Training: p: 3.042264, v: 0.03918846 - elapsed: 89.907s\n",
      "Epoch: 39, Training: p: 3.042003, v: 0.03885659 - elapsed: 89.918s\n",
      "Epoch: 40, Training: p: 3.041748, v: 0.03852183 - elapsed: 89.878s\n",
      "Epoch: 41, Training: p: 3.041473, v: 0.03817975 - elapsed: 89.937s\n",
      "Epoch: 42, Training: p: 3.041216, v: 0.0378415 - elapsed: 89.939s\n",
      "Epoch: 43, Training: p: 3.040973, v: 0.03750922 - elapsed: 89.938s\n",
      "Epoch: 44, Training: p: 3.04071, v: 0.03718423 - elapsed: 89.929s\n",
      "Epoch: 45, Training: p: 3.040464, v: 0.03687967 - elapsed: 89.984s\n",
      "Epoch: 46, Training: p: 3.040222, v: 0.036559 - elapsed: 89.999s\n",
      "Epoch: 47, Training: p: 3.040021, v: 0.03628808 - elapsed: 89.892s\n",
      "Epoch: 48, Training: p: 3.039753, v: 0.03596759 - elapsed: 89.79s\n",
      "Epoch: 49, Training: p: 3.039657, v: 0.03580024 - elapsed: 90.272s\n",
      "Epoch: 50, Training: p: 3.039406, v: 0.03550557 - elapsed: 90.622s\n",
      "Epoch: 51, Training: p: 3.039165, v: 0.03521671 - elapsed: 90.778s\n",
      "Epoch: 52, Training: p: 3.038927, v: 0.03494949 - elapsed: 90.866s\n",
      "Epoch: 53, Training: p: 3.038695, v: 0.0346875 - elapsed: 90.921s\n",
      "Epoch: 54, Training: p: 3.038483, v: 0.03443592 - elapsed: 90.907s\n",
      "Epoch: 55, Training: p: 3.038271, v: 0.03419398 - elapsed: 90.997s\n",
      "Epoch: 56, Training: p: 3.038081, v: 0.03395427 - elapsed: 90.954s\n",
      "Epoch: 57, Training: p: 3.037877, v: 0.03371595 - elapsed: 90.96s\n",
      "Epoch: 58, Training: p: 3.037685, v: 0.03348465 - elapsed: 90.927s\n",
      "Epoch: 59, Training: p: 3.037498, v: 0.03325592 - elapsed: 90.989s\n",
      "Epoch: 60, Training: p: 3.03731, v: 0.03303632 - elapsed: 90.972s\n",
      "Epoch: 61, Training: p: 3.037108, v: 0.03282116 - elapsed: 91.041s\n",
      "Epoch: 62, Training: p: 3.036947, v: 0.0326481 - elapsed: 91.02s\n",
      "Epoch: 63, Training: p: 3.036757, v: 0.03243344 - elapsed: 91.073s\n",
      "Epoch: 64, Training: p: 3.036563, v: 0.0322305 - elapsed: 91.014s\n",
      "Epoch: 65, Training: p: 3.036385, v: 0.03204878 - elapsed: 90.486s\n",
      "Epoch: 66, Training: p: 3.03619, v: 0.03184265 - elapsed: 90.266s\n",
      "Epoch: 67, Training: p: 3.036001, v: 0.03164619 - elapsed: 90.177s\n",
      "Epoch: 68, Training: p: 3.035838, v: 0.03147531 - elapsed: 90.139s\n",
      "Epoch: 69, Training: p: 3.035657, v: 0.03128534 - elapsed: 90.133s\n",
      "Epoch: 70, Training: p: 3.03548, v: 0.031099 - elapsed: 90.079s\n",
      "Epoch: 71, Training: p: 3.035333, v: 0.03093851 - elapsed: 90.101s\n",
      "Epoch: 72, Training: p: 3.035155, v: 0.03075722 - elapsed: 90.056s\n",
      "Epoch: 73, Training: p: 3.034992, v: 0.03059028 - elapsed: 90.064s\n",
      "Epoch: 74, Training: p: 3.034828, v: 0.03042418 - elapsed: 90.073s\n",
      "Epoch: 75, Training: p: 3.034667, v: 0.03025544 - elapsed: 90.036s\n",
      "Epoch: 76, Training: p: 3.034504, v: 0.03009256 - elapsed: 90.1s\n",
      "Epoch: 77, Training: p: 3.034354, v: 0.02993059 - elapsed: 90.134s\n",
      "Epoch: 78, Training: p: 3.0342, v: 0.02977963 - elapsed: 90.108s\n",
      "Epoch: 79, Training: p: 3.034075, v: 0.02965697 - elapsed: 90.115s\n",
      "Epoch: 80, Training: p: 3.033908, v: 0.02949717 - elapsed: 90.116s\n",
      "Epoch: 81, Training: p: 3.033771, v: 0.02934958 - elapsed: 90.157s\n",
      "Epoch: 82, Training: p: 3.033618, v: 0.02919665 - elapsed: 90.131s\n",
      "Epoch: 83, Training: p: 3.033461, v: 0.02904824 - elapsed: 90.12s\n",
      "Epoch: 84, Training: p: 3.033324, v: 0.02891379 - elapsed: 90.1s\n"
     ]
    },
    {
     "ename": "KeyboardInterrupt",
     "evalue": "",
     "output_type": "error",
     "traceback": [
      "\u001B[0;31m---------------------------------------------------------------------------\u001B[0m",
      "\u001B[0;31mKeyboardInterrupt\u001B[0m                         Traceback (most recent call last)",
      "\u001B[0;32m<ipython-input-27-91d52d648466>\u001B[0m in \u001B[0;36m<module>\u001B[0;34m\u001B[0m\n\u001B[0;32m----> 1\u001B[0;31m \u001B[0mtrainer\u001B[0m\u001B[0;34m.\u001B[0m\u001B[0mtrain\u001B[0m\u001B[0;34m(\u001B[0m\u001B[0mds\u001B[0m\u001B[0;34m,\u001B[0m \u001B[0mepochs_per_train\u001B[0m\u001B[0;34m=\u001B[0m\u001B[0;36m100\u001B[0m\u001B[0;34m,\u001B[0m \u001B[0mreport_every\u001B[0m\u001B[0;34m=\u001B[0m\u001B[0;36m1\u001B[0m\u001B[0;34m,\u001B[0m \u001B[0mv_weight\u001B[0m\u001B[0;34m=\u001B[0m\u001B[0;36m1.0\u001B[0m\u001B[0;34m)\u001B[0m\u001B[0;34m\u001B[0m\u001B[0;34m\u001B[0m\u001B[0m\n\u001B[0m",
      "\u001B[0;32m~/workspace/Project-Ellie/DeepGomoku/aegomoku/trainer.py\u001B[0m in \u001B[0;36mtrain\u001B[0;34m(self, train_data_set, epochs_per_train, report_every, v_weight)\u001B[0m\n\u001B[1;32m     39\u001B[0m         \u001B[0;32mfor\u001B[0m \u001B[0mepoch\u001B[0m \u001B[0;32min\u001B[0m \u001B[0mrange\u001B[0m\u001B[0;34m(\u001B[0m\u001B[0mepochs_per_train\u001B[0m\u001B[0;34m)\u001B[0m\u001B[0;34m:\u001B[0m\u001B[0;34m\u001B[0m\u001B[0;34m\u001B[0m\u001B[0m\n\u001B[1;32m     40\u001B[0m             \u001B[0;32mfor\u001B[0m \u001B[0mx_train\u001B[0m\u001B[0;34m,\u001B[0m \u001B[0mpi_train\u001B[0m\u001B[0;34m,\u001B[0m \u001B[0mv_train\u001B[0m \u001B[0;32min\u001B[0m \u001B[0mtrain_data_set\u001B[0m\u001B[0;34m:\u001B[0m\u001B[0;34m\u001B[0m\u001B[0;34m\u001B[0m\u001B[0m\n\u001B[0;32m---> 41\u001B[0;31m                 \u001B[0mself\u001B[0m\u001B[0;34m.\u001B[0m\u001B[0mtrain_step\u001B[0m\u001B[0;34m(\u001B[0m\u001B[0mx_train\u001B[0m\u001B[0;34m,\u001B[0m \u001B[0mpi_train\u001B[0m\u001B[0;34m,\u001B[0m \u001B[0mv_train\u001B[0m\u001B[0;34m,\u001B[0m \u001B[0mv_weight\u001B[0m\u001B[0;34m)\u001B[0m\u001B[0;34m\u001B[0m\u001B[0;34m\u001B[0m\u001B[0m\n\u001B[0m\u001B[1;32m     42\u001B[0m             \u001B[0;32mwith\u001B[0m \u001B[0mtrain_summary_writer\u001B[0m\u001B[0;34m.\u001B[0m\u001B[0mas_default\u001B[0m\u001B[0;34m(\u001B[0m\u001B[0;34m)\u001B[0m\u001B[0;34m:\u001B[0m\u001B[0;34m\u001B[0m\u001B[0;34m\u001B[0m\u001B[0m\n\u001B[1;32m     43\u001B[0m                 \u001B[0mtf\u001B[0m\u001B[0;34m.\u001B[0m\u001B[0msummary\u001B[0m\u001B[0;34m.\u001B[0m\u001B[0mscalar\u001B[0m\u001B[0;34m(\u001B[0m\u001B[0;34m'train_loss'\u001B[0m\u001B[0;34m,\u001B[0m \u001B[0mself\u001B[0m\u001B[0;34m.\u001B[0m\u001B[0mtrain_probs_metric\u001B[0m\u001B[0;34m.\u001B[0m\u001B[0mresult\u001B[0m\u001B[0;34m(\u001B[0m\u001B[0;34m)\u001B[0m\u001B[0;34m,\u001B[0m \u001B[0mstep\u001B[0m\u001B[0;34m=\u001B[0m\u001B[0mepoch\u001B[0m\u001B[0;34m)\u001B[0m\u001B[0;34m\u001B[0m\u001B[0;34m\u001B[0m\u001B[0m\n",
      "\u001B[0;32m/usr/lib/python3/dist-packages/tensorflow/python/util/traceback_utils.py\u001B[0m in \u001B[0;36merror_handler\u001B[0;34m(*args, **kwargs)\u001B[0m\n\u001B[1;32m    148\u001B[0m     \u001B[0mfiltered_tb\u001B[0m \u001B[0;34m=\u001B[0m \u001B[0;32mNone\u001B[0m\u001B[0;34m\u001B[0m\u001B[0;34m\u001B[0m\u001B[0m\n\u001B[1;32m    149\u001B[0m     \u001B[0;32mtry\u001B[0m\u001B[0;34m:\u001B[0m\u001B[0;34m\u001B[0m\u001B[0;34m\u001B[0m\u001B[0m\n\u001B[0;32m--> 150\u001B[0;31m       \u001B[0;32mreturn\u001B[0m \u001B[0mfn\u001B[0m\u001B[0;34m(\u001B[0m\u001B[0;34m*\u001B[0m\u001B[0margs\u001B[0m\u001B[0;34m,\u001B[0m \u001B[0;34m**\u001B[0m\u001B[0mkwargs\u001B[0m\u001B[0;34m)\u001B[0m\u001B[0;34m\u001B[0m\u001B[0;34m\u001B[0m\u001B[0m\n\u001B[0m\u001B[1;32m    151\u001B[0m     \u001B[0;32mexcept\u001B[0m \u001B[0mException\u001B[0m \u001B[0;32mas\u001B[0m \u001B[0me\u001B[0m\u001B[0;34m:\u001B[0m\u001B[0;34m\u001B[0m\u001B[0;34m\u001B[0m\u001B[0m\n\u001B[1;32m    152\u001B[0m       \u001B[0mfiltered_tb\u001B[0m \u001B[0;34m=\u001B[0m \u001B[0m_process_traceback_frames\u001B[0m\u001B[0;34m(\u001B[0m\u001B[0me\u001B[0m\u001B[0;34m.\u001B[0m\u001B[0m__traceback__\u001B[0m\u001B[0;34m)\u001B[0m\u001B[0;34m\u001B[0m\u001B[0;34m\u001B[0m\u001B[0m\n",
      "\u001B[0;32m/usr/lib/python3/dist-packages/tensorflow/python/eager/def_function.py\u001B[0m in \u001B[0;36m__call__\u001B[0;34m(self, *args, **kwds)\u001B[0m\n\u001B[1;32m    913\u001B[0m \u001B[0;34m\u001B[0m\u001B[0m\n\u001B[1;32m    914\u001B[0m       \u001B[0;32mwith\u001B[0m \u001B[0mOptionalXlaContext\u001B[0m\u001B[0;34m(\u001B[0m\u001B[0mself\u001B[0m\u001B[0;34m.\u001B[0m\u001B[0m_jit_compile\u001B[0m\u001B[0;34m)\u001B[0m\u001B[0;34m:\u001B[0m\u001B[0;34m\u001B[0m\u001B[0;34m\u001B[0m\u001B[0m\n\u001B[0;32m--> 915\u001B[0;31m         \u001B[0mresult\u001B[0m \u001B[0;34m=\u001B[0m \u001B[0mself\u001B[0m\u001B[0;34m.\u001B[0m\u001B[0m_call\u001B[0m\u001B[0;34m(\u001B[0m\u001B[0;34m*\u001B[0m\u001B[0margs\u001B[0m\u001B[0;34m,\u001B[0m \u001B[0;34m**\u001B[0m\u001B[0mkwds\u001B[0m\u001B[0;34m)\u001B[0m\u001B[0;34m\u001B[0m\u001B[0;34m\u001B[0m\u001B[0m\n\u001B[0m\u001B[1;32m    916\u001B[0m \u001B[0;34m\u001B[0m\u001B[0m\n\u001B[1;32m    917\u001B[0m       \u001B[0mnew_tracing_count\u001B[0m \u001B[0;34m=\u001B[0m \u001B[0mself\u001B[0m\u001B[0;34m.\u001B[0m\u001B[0mexperimental_get_tracing_count\u001B[0m\u001B[0;34m(\u001B[0m\u001B[0;34m)\u001B[0m\u001B[0;34m\u001B[0m\u001B[0;34m\u001B[0m\u001B[0m\n",
      "\u001B[0;32m/usr/lib/python3/dist-packages/tensorflow/python/eager/def_function.py\u001B[0m in \u001B[0;36m_call\u001B[0;34m(self, *args, **kwds)\u001B[0m\n\u001B[1;32m    945\u001B[0m       \u001B[0;31m# In this case we have created variables on the first call, so we run the\u001B[0m\u001B[0;34m\u001B[0m\u001B[0;34m\u001B[0m\u001B[0;34m\u001B[0m\u001B[0m\n\u001B[1;32m    946\u001B[0m       \u001B[0;31m# defunned version which is guaranteed to never create variables.\u001B[0m\u001B[0;34m\u001B[0m\u001B[0;34m\u001B[0m\u001B[0;34m\u001B[0m\u001B[0m\n\u001B[0;32m--> 947\u001B[0;31m       \u001B[0;32mreturn\u001B[0m \u001B[0mself\u001B[0m\u001B[0;34m.\u001B[0m\u001B[0m_stateless_fn\u001B[0m\u001B[0;34m(\u001B[0m\u001B[0;34m*\u001B[0m\u001B[0margs\u001B[0m\u001B[0;34m,\u001B[0m \u001B[0;34m**\u001B[0m\u001B[0mkwds\u001B[0m\u001B[0;34m)\u001B[0m  \u001B[0;31m# pylint: disable=not-callable\u001B[0m\u001B[0;34m\u001B[0m\u001B[0;34m\u001B[0m\u001B[0m\n\u001B[0m\u001B[1;32m    948\u001B[0m     \u001B[0;32melif\u001B[0m \u001B[0mself\u001B[0m\u001B[0;34m.\u001B[0m\u001B[0m_stateful_fn\u001B[0m \u001B[0;32mis\u001B[0m \u001B[0;32mnot\u001B[0m \u001B[0;32mNone\u001B[0m\u001B[0;34m:\u001B[0m\u001B[0;34m\u001B[0m\u001B[0;34m\u001B[0m\u001B[0m\n\u001B[1;32m    949\u001B[0m       \u001B[0;31m# Release the lock early so that multiple threads can perform the call\u001B[0m\u001B[0;34m\u001B[0m\u001B[0;34m\u001B[0m\u001B[0;34m\u001B[0m\u001B[0m\n",
      "\u001B[0;32m/usr/lib/python3/dist-packages/tensorflow/python/eager/function.py\u001B[0m in \u001B[0;36m__call__\u001B[0;34m(self, *args, **kwargs)\u001B[0m\n\u001B[1;32m   2451\u001B[0m       (graph_function,\n\u001B[1;32m   2452\u001B[0m        filtered_flat_args) = self._maybe_define_function(args, kwargs)\n\u001B[0;32m-> 2453\u001B[0;31m     return graph_function._call_flat(\n\u001B[0m\u001B[1;32m   2454\u001B[0m         filtered_flat_args, captured_inputs=graph_function.captured_inputs)  # pylint: disable=protected-access\n\u001B[1;32m   2455\u001B[0m \u001B[0;34m\u001B[0m\u001B[0m\n",
      "\u001B[0;32m/usr/lib/python3/dist-packages/tensorflow/python/eager/function.py\u001B[0m in \u001B[0;36m_call_flat\u001B[0;34m(self, args, captured_inputs, cancellation_manager)\u001B[0m\n\u001B[1;32m   1858\u001B[0m         and executing_eagerly):\n\u001B[1;32m   1859\u001B[0m       \u001B[0;31m# No tape is watching; skip to running the function.\u001B[0m\u001B[0;34m\u001B[0m\u001B[0;34m\u001B[0m\u001B[0;34m\u001B[0m\u001B[0m\n\u001B[0;32m-> 1860\u001B[0;31m       return self._build_call_outputs(self._inference_function.call(\n\u001B[0m\u001B[1;32m   1861\u001B[0m           ctx, args, cancellation_manager=cancellation_manager))\n\u001B[1;32m   1862\u001B[0m     forward_backward = self._select_forward_and_backward_functions(\n",
      "\u001B[0;32m/usr/lib/python3/dist-packages/tensorflow/python/eager/function.py\u001B[0m in \u001B[0;36mcall\u001B[0;34m(self, ctx, args, cancellation_manager)\u001B[0m\n\u001B[1;32m    495\u001B[0m       \u001B[0;32mwith\u001B[0m \u001B[0m_InterpolateFunctionError\u001B[0m\u001B[0;34m(\u001B[0m\u001B[0mself\u001B[0m\u001B[0;34m)\u001B[0m\u001B[0;34m:\u001B[0m\u001B[0;34m\u001B[0m\u001B[0;34m\u001B[0m\u001B[0m\n\u001B[1;32m    496\u001B[0m         \u001B[0;32mif\u001B[0m \u001B[0mcancellation_manager\u001B[0m \u001B[0;32mis\u001B[0m \u001B[0;32mNone\u001B[0m\u001B[0;34m:\u001B[0m\u001B[0;34m\u001B[0m\u001B[0;34m\u001B[0m\u001B[0m\n\u001B[0;32m--> 497\u001B[0;31m           outputs = execute.execute(\n\u001B[0m\u001B[1;32m    498\u001B[0m               \u001B[0mstr\u001B[0m\u001B[0;34m(\u001B[0m\u001B[0mself\u001B[0m\u001B[0;34m.\u001B[0m\u001B[0msignature\u001B[0m\u001B[0;34m.\u001B[0m\u001B[0mname\u001B[0m\u001B[0;34m)\u001B[0m\u001B[0;34m,\u001B[0m\u001B[0;34m\u001B[0m\u001B[0;34m\u001B[0m\u001B[0m\n\u001B[1;32m    499\u001B[0m               \u001B[0mnum_outputs\u001B[0m\u001B[0;34m=\u001B[0m\u001B[0mself\u001B[0m\u001B[0;34m.\u001B[0m\u001B[0m_num_outputs\u001B[0m\u001B[0;34m,\u001B[0m\u001B[0;34m\u001B[0m\u001B[0;34m\u001B[0m\u001B[0m\n",
      "\u001B[0;32m/usr/lib/python3/dist-packages/tensorflow/python/eager/execute.py\u001B[0m in \u001B[0;36mquick_execute\u001B[0;34m(op_name, num_outputs, inputs, attrs, ctx, name)\u001B[0m\n\u001B[1;32m     52\u001B[0m   \u001B[0;32mtry\u001B[0m\u001B[0;34m:\u001B[0m\u001B[0;34m\u001B[0m\u001B[0;34m\u001B[0m\u001B[0m\n\u001B[1;32m     53\u001B[0m     \u001B[0mctx\u001B[0m\u001B[0;34m.\u001B[0m\u001B[0mensure_initialized\u001B[0m\u001B[0;34m(\u001B[0m\u001B[0;34m)\u001B[0m\u001B[0;34m\u001B[0m\u001B[0;34m\u001B[0m\u001B[0m\n\u001B[0;32m---> 54\u001B[0;31m     tensors = pywrap_tfe.TFE_Py_Execute(ctx._handle, device_name, op_name,\n\u001B[0m\u001B[1;32m     55\u001B[0m                                         inputs, attrs, num_outputs)\n\u001B[1;32m     56\u001B[0m   \u001B[0;32mexcept\u001B[0m \u001B[0mcore\u001B[0m\u001B[0;34m.\u001B[0m\u001B[0m_NotOkStatusException\u001B[0m \u001B[0;32mas\u001B[0m \u001B[0me\u001B[0m\u001B[0;34m:\u001B[0m\u001B[0;34m\u001B[0m\u001B[0;34m\u001B[0m\u001B[0m\n",
      "\u001B[0;31mKeyboardInterrupt\u001B[0m: "
     ]
    }
   ],
   "source": [
    "trainer.train(ds, epochs_per_train=100, report_every=1, v_weight=1.0)"
   ],
   "metadata": {
    "collapsed": false,
    "pycharm": {
     "name": "#%%\n"
    }
   }
  },
  {
   "cell_type": "code",
   "execution_count": 28,
   "outputs": [
    {
     "data": {
      "text/plain": "PosixPath('/home/wgiersche/workspace/Project-Ellie/DATA/models')"
     },
     "execution_count": 28,
     "metadata": {},
     "output_type": "execute_result"
    }
   ],
   "source": [
    "MODEL_DIR = Path(Path.home()) / DATA_DIR / 'models'\n",
    "MODEL_DIR"
   ],
   "metadata": {
    "collapsed": false,
    "pycharm": {
     "name": "#%%\n"
    }
   }
  },
  {
   "cell_type": "code",
   "execution_count": 29,
   "outputs": [
    {
     "name": "stderr",
     "output_type": "stream",
     "text": [
      "WARNING:absl:Found untraced functions such as _jit_compiled_convolution_op, _jit_compiled_convolution_op, _jit_compiled_convolution_op, _jit_compiled_convolution_op, _jit_compiled_convolution_op while saving (showing 5 of 44). These functions will not be directly callable after loading.\n"
     ]
    },
    {
     "name": "stdout",
     "output_type": "stream",
     "text": [
      "INFO:tensorflow:Assets written to: models/3_c2.model/assets\n"
     ]
    },
    {
     "name": "stderr",
     "output_type": "stream",
     "text": [
      "INFO:tensorflow:Assets written to: models/3_c2.model/assets\n"
     ]
    }
   ],
   "source": [
    "model.save('models/3_c2.model')"
   ],
   "metadata": {
    "collapsed": false,
    "pycharm": {
     "name": "#%%\n"
    }
   }
  },
  {
   "cell_type": "code",
   "execution_count": 30,
   "outputs": [
    {
     "name": "stderr",
     "output_type": "stream",
     "text": [
      "WARNING:absl:Found untraced functions such as _jit_compiled_convolution_op, _jit_compiled_convolution_op, _jit_compiled_convolution_op, _jit_compiled_convolution_op, _jit_compiled_convolution_op while saving (showing 5 of 44). These functions will not be directly callable after loading.\n"
     ]
    },
    {
     "name": "stdout",
     "output_type": "stream",
     "text": [
      "INFO:tensorflow:Assets written to: /home/wgiersche/workspace/Project-Ellie/DATA/models/3_c2.model/assets\n"
     ]
    },
    {
     "name": "stderr",
     "output_type": "stream",
     "text": [
      "INFO:tensorflow:Assets written to: /home/wgiersche/workspace/Project-Ellie/DATA/models/3_c2.model/assets\n"
     ]
    }
   ],
   "source": [
    "model.save(MODEL_DIR / \"3_c2.model\")"
   ],
   "metadata": {
    "collapsed": false,
    "pycharm": {
     "name": "#%%\n"
    }
   }
  },
  {
   "cell_type": "code",
   "execution_count": 22,
   "outputs": [],
   "source": [
    "a_batch = next(iter(ds))\n",
    "batch_size = a_batch[0].shape[0]"
   ],
   "metadata": {
    "collapsed": false,
    "pycharm": {
     "name": "#%%\n"
    }
   }
  },
  {
   "cell_type": "code",
   "execution_count": 27,
   "outputs": [
    {
     "name": "stdout",
     "output_type": "stream",
     "text": [
      "Next to play: WHITE\n",
      "Value from WHITE's point of view: -0.1290384829044342\n"
     ]
    },
    {
     "ename": "ValueError",
     "evalue": "Not a valid move: (1, -295). Beyond board boundary.",
     "output_type": "error",
     "traceback": [
      "\u001B[0;31m---------------------------------------------------------------------------\u001B[0m",
      "\u001B[0;31mValueError\u001B[0m                                Traceback (most recent call last)",
      "\u001B[0;32m<ipython-input-27-d18a08e4c629>\u001B[0m in \u001B[0;36m<module>\u001B[0;34m\u001B[0m\n\u001B[1;32m     10\u001B[0m \u001B[0mp_learned\u001B[0m\u001B[0;34m,\u001B[0m \u001B[0mv_learned\u001B[0m \u001B[0;34m=\u001B[0m \u001B[0mmodel\u001B[0m\u001B[0;34m(\u001B[0m\u001B[0ms\u001B[0m\u001B[0;34m)\u001B[0m\u001B[0;34m\u001B[0m\u001B[0;34m\u001B[0m\u001B[0m\n\u001B[1;32m     11\u001B[0m \u001B[0mlearned\u001B[0m \u001B[0;34m=\u001B[0m \u001B[0;34m(\u001B[0m\u001B[0ms\u001B[0m\u001B[0;34m,\u001B[0m \u001B[0mlist\u001B[0m\u001B[0;34m(\u001B[0m\u001B[0mp_learned\u001B[0m\u001B[0;34m.\u001B[0m\u001B[0mnumpy\u001B[0m\u001B[0;34m(\u001B[0m\u001B[0;34m)\u001B[0m\u001B[0;34m)\u001B[0m\u001B[0;34m,\u001B[0m \u001B[0mnp\u001B[0m\u001B[0;34m.\u001B[0m\u001B[0msqueeze\u001B[0m\u001B[0;34m(\u001B[0m\u001B[0mv_learned\u001B[0m\u001B[0;34m)\u001B[0m\u001B[0;34m)\u001B[0m\u001B[0;34m\u001B[0m\u001B[0;34m\u001B[0m\u001B[0m\n\u001B[0;32m---> 12\u001B[0;31m \u001B[0manalyse_example\u001B[0m\u001B[0;34m(\u001B[0m\u001B[0mlearned\u001B[0m\u001B[0;34m,\u001B[0m \u001B[0mdisp_width\u001B[0m\u001B[0;34m=\u001B[0m\u001B[0;36m5\u001B[0m\u001B[0;34m)\u001B[0m\u001B[0;34m\u001B[0m\u001B[0;34m\u001B[0m\u001B[0m\n\u001B[0m",
      "\u001B[0;32m~/workspace/Project-Ellie/DeepGomoku/aegomoku/utils.py\u001B[0m in \u001B[0;36manalyse_example\u001B[0;34m(example, disp_width, policy_cutoff)\u001B[0m\n\u001B[1;32m     53\u001B[0m     \u001B[0mboard_size\u001B[0m \u001B[0;34m=\u001B[0m \u001B[0mint\u001B[0m\u001B[0;34m(\u001B[0m\u001B[0mnp\u001B[0m\u001B[0;34m.\u001B[0m\u001B[0msqrt\u001B[0m\u001B[0;34m(\u001B[0m\u001B[0mlen\u001B[0m\u001B[0;34m(\u001B[0m\u001B[0mp\u001B[0m\u001B[0;34m)\u001B[0m\u001B[0;34m)\u001B[0m\u001B[0;34m)\u001B[0m\u001B[0;34m\u001B[0m\u001B[0;34m\u001B[0m\u001B[0m\n\u001B[1;32m     54\u001B[0m     \u001B[0mstones\u001B[0m\u001B[0;34m,\u001B[0m \u001B[0mcurrent\u001B[0m \u001B[0;34m=\u001B[0m \u001B[0mstones_from_example\u001B[0m\u001B[0;34m(\u001B[0m\u001B[0mexample\u001B[0m\u001B[0;34m)\u001B[0m\u001B[0;34m\u001B[0m\u001B[0;34m\u001B[0m\u001B[0m\n\u001B[0;32m---> 55\u001B[0;31m     analyse_board(board_size, stones, policy=p, suppress_move_numbers=True, disp_width=disp_width,\n\u001B[0m\u001B[1;32m     56\u001B[0m                   policy_cutoff=policy_cutoff)\n\u001B[1;32m     57\u001B[0m     \u001B[0mprint\u001B[0m\u001B[0;34m(\u001B[0m\u001B[0;34mf\"Next to play: {current}\"\u001B[0m\u001B[0;34m)\u001B[0m\u001B[0;34m\u001B[0m\u001B[0;34m\u001B[0m\u001B[0m\n",
      "\u001B[0;32m~/workspace/Project-Ellie/DeepGomoku/aegomoku/utils.py\u001B[0m in \u001B[0;36manalyse_board\u001B[0;34m(board_size, stones, policy, suppress_move_numbers, disp_width, policy_cutoff)\u001B[0m\n\u001B[1;32m     17\u001B[0m         \u001B[0mb2\u001B[0m \u001B[0;34m=\u001B[0m \u001B[0mstones\u001B[0m\u001B[0;34m\u001B[0m\u001B[0;34m\u001B[0m\u001B[0m\n\u001B[1;32m     18\u001B[0m \u001B[0;34m\u001B[0m\u001B[0m\n\u001B[0;32m---> 19\u001B[0;31m     lb = MplBoard(n=board_size, disp_width=disp_width, stones=b2, policy=policy,\n\u001B[0m\u001B[1;32m     20\u001B[0m                   suppress_move_numbers=suppress_move_numbers, policy_cutoff=policy_cutoff)\n\u001B[1;32m     21\u001B[0m     \u001B[0mlb\u001B[0m\u001B[0;34m.\u001B[0m\u001B[0mdisplay\u001B[0m\u001B[0;34m(\u001B[0m\u001B[0;34m)\u001B[0m\u001B[0;34m\u001B[0m\u001B[0;34m\u001B[0m\u001B[0m\n",
      "\u001B[0;32m~/workspace/Project-Ellie/DeepGomoku/aegomoku/mpl_board.py\u001B[0m in \u001B[0;36m__init__\u001B[0;34m(self, n, policy, disp_width, stones, suppress_move_numbers, policy_cutoff)\u001B[0m\n\u001B[1;32m     38\u001B[0m             \u001B[0mstones\u001B[0m \u001B[0;34m=\u001B[0m \u001B[0;34m[\u001B[0m\u001B[0;34m(\u001B[0m\u001B[0ms\u001B[0m\u001B[0;34m.\u001B[0m\u001B[0mx\u001B[0m\u001B[0;34m,\u001B[0m \u001B[0ms\u001B[0m\u001B[0;34m.\u001B[0m\u001B[0my\u001B[0m\u001B[0;34m)\u001B[0m \u001B[0;32mfor\u001B[0m \u001B[0ms\u001B[0m \u001B[0;32min\u001B[0m \u001B[0mstones\u001B[0m\u001B[0;34m]\u001B[0m\u001B[0;34m\u001B[0m\u001B[0;34m\u001B[0m\u001B[0m\n\u001B[1;32m     39\u001B[0m         \u001B[0;32mfor\u001B[0m \u001B[0mstone\u001B[0m \u001B[0;32min\u001B[0m \u001B[0mstones\u001B[0m\u001B[0;34m:\u001B[0m\u001B[0;34m\u001B[0m\u001B[0;34m\u001B[0m\u001B[0m\n\u001B[0;32m---> 40\u001B[0;31m             \u001B[0mself\u001B[0m\u001B[0;34m.\u001B[0m\u001B[0mset\u001B[0m\u001B[0;34m(\u001B[0m\u001B[0;34m*\u001B[0m\u001B[0mstone\u001B[0m\u001B[0;34m)\u001B[0m\u001B[0;34m\u001B[0m\u001B[0;34m\u001B[0m\u001B[0m\n\u001B[0m\u001B[1;32m     41\u001B[0m \u001B[0;34m\u001B[0m\u001B[0m\n\u001B[1;32m     42\u001B[0m \u001B[0;34m\u001B[0m\u001B[0m\n",
      "\u001B[0;32m~/workspace/Project-Ellie/DeepGomoku/aegomoku/mpl_board.py\u001B[0m in \u001B[0;36mset\u001B[0;34m(self, x, y)\u001B[0m\n\u001B[1;32m     71\u001B[0m             \u001B[0;32mraise\u001B[0m \u001B[0mValueError\u001B[0m\u001B[0;34m(\u001B[0m\u001B[0;34mf\"Position ({x}, {y}) is occupied.\"\u001B[0m\u001B[0;34m)\u001B[0m\u001B[0;34m\u001B[0m\u001B[0;34m\u001B[0m\u001B[0m\n\u001B[1;32m     72\u001B[0m         \u001B[0;32mif\u001B[0m \u001B[0;32mnot\u001B[0m \u001B[0mself\u001B[0m\u001B[0;34m.\u001B[0m\u001B[0m_is_valid\u001B[0m\u001B[0;34m(\u001B[0m\u001B[0;34m(\u001B[0m\u001B[0mself\u001B[0m\u001B[0;34m.\u001B[0m\u001B[0mN\u001B[0m\u001B[0;34m-\u001B[0m\u001B[0my\u001B[0m\u001B[0;34m,\u001B[0m \u001B[0mx\u001B[0m\u001B[0;34m-\u001B[0m\u001B[0;36m1\u001B[0m\u001B[0;34m)\u001B[0m\u001B[0;34m)\u001B[0m\u001B[0;34m:\u001B[0m\u001B[0;34m\u001B[0m\u001B[0;34m\u001B[0m\u001B[0m\n\u001B[0;32m---> 73\u001B[0;31m             \u001B[0;32mraise\u001B[0m \u001B[0mValueError\u001B[0m\u001B[0;34m(\u001B[0m\u001B[0;34mf\"Not a valid move: ({x}, {y}). Beyond board boundary.\"\u001B[0m\u001B[0;34m)\u001B[0m\u001B[0;34m\u001B[0m\u001B[0;34m\u001B[0m\u001B[0m\n\u001B[0m\u001B[1;32m     74\u001B[0m \u001B[0;34m\u001B[0m\u001B[0m\n\u001B[1;32m     75\u001B[0m         \u001B[0mself\u001B[0m\u001B[0;34m.\u001B[0m\u001B[0mstones\u001B[0m\u001B[0;34m.\u001B[0m\u001B[0mappend\u001B[0m\u001B[0;34m(\u001B[0m\u001B[0;34m(\u001B[0m\u001B[0mx\u001B[0m\u001B[0;34m,\u001B[0m \u001B[0my\u001B[0m\u001B[0;34m)\u001B[0m\u001B[0;34m)\u001B[0m\u001B[0;34m\u001B[0m\u001B[0;34m\u001B[0m\u001B[0m\n",
      "\u001B[0;31mValueError\u001B[0m: Not a valid move: (1, -295). Beyond board boundary."
     ]
    },
    {
     "data": {
      "text/plain": "<Figure size 360x360 with 1 Axes>",
      "image/png": "[encoded data removed]"
     },
     "metadata": {
      "needs_background": "light"
     },
     "output_type": "display_data"
    }
   ],
   "source": [
    "from aegomoku.utils import analyse_example\n",
    "\n",
    "n = random.randint(0, batch_size)\n",
    "s, p, v = np.expand_dims(a_batch[0][n,:,:,:], axis=0), list(a_batch[1][n,:]), a_batch[2][n].numpy()\n",
    "s.shape, len(p), v\n",
    "# Training Material\n",
    "analyse_example((s, p, v), disp_width=5)\n",
    "\n",
    "# Learned\n",
    "p_learned, v_learned = model(s)\n",
    "learned = (s, list(p_learned.numpy()), np.squeeze(v_learned))\n",
    "analyse_example(learned, disp_width=5)"
   ],
   "metadata": {
    "collapsed": false,
    "pycharm": {
     "name": "#%%\n"
    }
   }
  },
  {
   "cell_type": "markdown",
   "source": [
    "## Compare new policy with the MCTS evaluations\n",
    "\n",
    "### All gameplay"
   ],
   "metadata": {
    "collapsed": false,
    "pycharm": {
     "name": "#%% md\n"
    }
   }
  },
  {
   "cell_type": "code",
   "execution_count": 28,
   "outputs": [],
   "source": [
    "ds = curriculum[ALL_GAMEPLAY]['dataset']\n",
    "a_batch = next(iter(ds))\n",
    "batch_size = a_batch[0].shape[0]\n",
    "from aegomoku.utils import analyse_example\n",
    "model = tf.keras.models.load_model(MODEL_DIR / \"2_c1.model/\")"
   ],
   "metadata": {
    "collapsed": false,
    "pycharm": {
     "name": "#%%\n"
    }
   }
  },
  {
   "cell_type": "code",
   "execution_count": 58,
   "outputs": [
    {
     "name": "stdout",
     "output_type": "stream",
     "text": [
      "Next to play: WHITE\n",
      "Value from WHITE's point of view: 0.21148940920829773\n",
      "Next to play: WHITE\n",
      "Value from WHITE's point of view: 0.20794367790222168\n"
     ]
    },
    {
     "data": {
      "text/plain": "<Figure size 432x432 with 1 Axes>",
      "image/png": "[encoded data removed]"
     },
     "metadata": {
      "needs_background": "light"
     },
     "output_type": "display_data"
    },
    {
     "data": {
      "text/plain": "<Figure size 432x432 with 1 Axes>",
      "image/png": "[encoded data removed]"
     },
     "metadata": {
      "needs_background": "light"
     },
     "output_type": "display_data"
    }
   ],
   "source": [
    "n = random.randint(0, batch_size)\n",
    "s, p, v = np.expand_dims(a_batch[0][n,:,:,:], axis=0), list(a_batch[1][n,:]), a_batch[2][n].numpy()\n",
    "s.shape, len(p), v\n",
    "# Training Material\n",
    "analyse_example((s, p, v), disp_width=6)\n",
    "\n",
    "# Learned\n",
    "p_learned, v_learned = model(s)\n",
    "learned = (s, list(np.squeeze(p_learned)), np.squeeze(v_learned))\n",
    "analyse_example(learned, disp_width=6)"
   ],
   "metadata": {
    "collapsed": false,
    "pycharm": {
     "name": "#%%\n"
    }
   }
  },
  {
   "cell_type": "code",
   "execution_count": null,
   "outputs": [],
   "source": [
    "MODEL_DIR = Path(Path.home()) / DATA_DIR / 'models'\n",
    "course = curriculum[ALL_GAMEPLAY]['dataset']\n",
    "a_batch = next(iter(course))\n",
    "batch_size = a_batch[0].shape[0]\n",
    "from aegomoku.utils import analyse_example\n",
    "model = tf.keras.models.load_model(MODEL_DIR / \"1_c3.model/\")"
   ],
   "metadata": {
    "collapsed": false,
    "pycharm": {
     "name": "#%%\n"
    }
   }
  },
  {
   "cell_type": "code",
   "execution_count": null,
   "outputs": [],
   "source": [
    "trainer = Trainer(model)\n",
    "trainer.train(course, epochs_per_train=30, report_every=1, v_weight=1.0)"
   ],
   "metadata": {
    "collapsed": false,
    "pycharm": {
     "name": "#%%\n"
    }
   }
  },
  {
   "cell_type": "code",
   "execution_count": null,
   "outputs": [],
   "source": [
    "model.save(MODEL_DIR / \"1_c3.model\")"
   ],
   "metadata": {
    "collapsed": false,
    "pycharm": {
     "name": "#%%\n"
    }
   }
  },
  {
   "cell_type": "code",
   "execution_count": null,
   "outputs": [],
   "source": [
    "n = random.randint(0, batch_size)\n",
    "s, p, v = np.expand_dims(a_batch[0][n,:,:,:], axis=0), list(a_batch[1][n,:]), a_batch[2][n].numpy()\n",
    "s.shape, len(p), v\n",
    "# Training Material\n",
    "analyse_example((s, p, v), disp_width=7)\n",
    "\n",
    "# Learned\n",
    "p_learned, v_learned = model(s)\n",
    "learned = (s, list(np.squeeze(p_learned)), np.squeeze(v_learned))\n",
    "analyse_example(learned, disp_width=7)"
   ],
   "metadata": {
    "collapsed": false,
    "pycharm": {
     "name": "#%%\n"
    }
   }
  },
  {
   "cell_type": "code",
   "execution_count": null,
   "outputs": [],
   "source": [
    "ds = curriculum[TERMINAL_OPPORTUNITY]['dataset']\n",
    "a_batch = next(iter(ds))\n",
    "batch_size = a_batch[0].shape[0]\n",
    "from aegomoku.utils import analyse_example\n",
    "model = tf.keras.models.load_model(\"models/1_c1.model/\")"
   ],
   "metadata": {
    "collapsed": false,
    "pycharm": {
     "name": "#%%\n"
    }
   }
  },
  {
   "cell_type": "code",
   "execution_count": null,
   "outputs": [],
   "source": [
    "import random\n",
    "n = random.randint(0, batch_size)\n",
    "s, p, v = np.expand_dims(a_batch[0][n,:,:,:], axis=0), list(a_batch[1][n,:]), a_batch[2][n].numpy()\n",
    "s.shape, len(p), v\n",
    "# Training Material\n",
    "analyse_example((s, p, v), disp_width=5)\n",
    "\n",
    "# Learned\n",
    "p_learned, v_learned = model(s)\n",
    "learned = (s, list(p_learned.numpy()), np.squeeze(v_learned))\n",
    "analyse_example(learned, disp_width=5)"
   ],
   "metadata": {
    "collapsed": false,
    "pycharm": {
     "name": "#%%\n"
    }
   }
  },
  {
   "cell_type": "code",
   "execution_count": null,
   "outputs": [],
   "source": [],
   "metadata": {
    "collapsed": false,
    "pycharm": {
     "name": "#%%\n"
    }
   }
  },
  {
   "cell_type": "markdown",
   "source": [
    "## 1.  Refinement: Overcome the killing inhibition\n",
    "\n",
    "Focus on terminal opportunities: Very little error is acceptable for these conditions"
   ],
   "metadata": {
    "collapsed": false,
    "pycharm": {
     "name": "#%% md\n"
    }
   }
  },
  {
   "cell_type": "code",
   "execution_count": null,
   "outputs": [],
   "source": [
    "new_model = tf.keras.models.load_model(\"models/1_c1.model/\")"
   ],
   "metadata": {
    "collapsed": false,
    "pycharm": {
     "name": "#%%\n"
    }
   }
  },
  {
   "cell_type": "code",
   "execution_count": null,
   "outputs": [],
   "source": [
    "trainer = Trainer(new_model)"
   ],
   "metadata": {
    "collapsed": false,
    "pycharm": {
     "name": "#%%\n"
    }
   }
  },
  {
   "cell_type": "code",
   "execution_count": null,
   "outputs": [],
   "source": [
    "ds = curriculum[TERMINAL_OPPORTUNITY]['dataset']\n",
    "trainer.train(ds, epochs_per_train=5, report_every=1, v_weight=1.0)"
   ],
   "metadata": {
    "collapsed": false,
    "pycharm": {
     "name": "#%%\n"
    }
   }
  },
  {
   "cell_type": "code",
   "execution_count": null,
   "outputs": [],
   "source": [
    "new_model.save('models/1_c2.model')"
   ],
   "metadata": {
    "collapsed": false,
    "pycharm": {
     "name": "#%%\n"
    }
   }
  },
  {
   "cell_type": "code",
   "execution_count": null,
   "outputs": [],
   "source": [
    "from aegomoku.utils import analyse_example\n",
    "\n",
    "n = random.randint(0, batch_size)\n",
    "s, p, v = np.expand_dims(a_batch[0][n,:,:,:], axis=0), list(a_batch[1][n,:]), a_batch[2][n].numpy()\n",
    "s.shape, len(p), v\n",
    "# Training Material\n",
    "analyse_example((s, p, v), disp_width=5)\n",
    "\n",
    "# Learned\n",
    "p_learned, v_learned = new_model(s)\n",
    "learned = (s, list(p_learned.numpy()), np.squeeze(v_learned))\n",
    "analyse_example(learned, disp_width=5)"
   ],
   "metadata": {
    "collapsed": false,
    "pycharm": {
     "name": "#%%\n"
    }
   }
  },
  {
   "cell_type": "code",
   "execution_count": null,
   "outputs": [],
   "source": [],
   "metadata": {
    "collapsed": false,
    "pycharm": {
     "name": "#%%\n"
    }
   }
  },
  {
   "cell_type": "code",
   "execution_count": null,
   "outputs": [],
   "source": [],
   "metadata": {
    "collapsed": false,
    "pycharm": {
     "name": "#%%\n"
    }
   }
  },
  {
   "cell_type": "code",
   "execution_count": null,
   "outputs": [],
   "source": [],
   "metadata": {
    "collapsed": false,
    "pycharm": {
     "name": "#%%\n"
    }
   }
  },
  {
   "cell_type": "code",
   "execution_count": null,
   "outputs": [],
   "source": [
    "model.save('models/from_endgame.model')"
   ],
   "metadata": {
    "collapsed": false,
    "pycharm": {
     "name": "#%%\n"
    }
   }
  },
  {
   "cell_type": "markdown",
   "source": [
    "## All game play\n",
    "This will last for a couple of hours"
   ],
   "metadata": {
    "collapsed": false,
    "pycharm": {
     "name": "#%% md\n"
    }
   }
  },
  {
   "cell_type": "code",
   "execution_count": 32,
   "outputs": [
    {
     "name": "stdout",
     "output_type": "stream",
     "text": [
      "Next to play: WHITE\n",
      "Value from WHITE's point of view: -0.009132922627031803\n"
     ]
    },
    {
     "data": {
      "text/plain": "<Figure size 540x540 with 1 Axes>",
      "image/png": "[encoded data removed]"
     },
     "metadata": {
      "needs_background": "light"
     },
     "output_type": "display_data"
    }
   ],
   "source": [
    "ds = curriculum[ALL_GAMEPLAY]['dataset']\n",
    "s, p, v = next(iter(ds))\n",
    "example = np.squeeze(s[0,:,:,:]), list(np.squeeze(p[0,:])), np.squeeze(v[0])\n",
    "analyse_example(example, disp_width=7.5, policy_cutoff=.001)"
   ],
   "metadata": {
    "collapsed": false,
    "pycharm": {
     "name": "#%%\n"
    }
   }
  },
  {
   "cell_type": "code",
   "execution_count": 1,
   "outputs": [
    {
     "ename": "NameError",
     "evalue": "name 'trainer' is not defined",
     "output_type": "error",
     "traceback": [
      "\u001B[0;31m---------------------------------------------------------------------------\u001B[0m",
      "\u001B[0;31mNameError\u001B[0m                                 Traceback (most recent call last)",
      "\u001B[0;32m<ipython-input-1-70aa219a3f11>\u001B[0m in \u001B[0;36m<module>\u001B[0;34m\u001B[0m\n\u001B[0;32m----> 1\u001B[0;31m \u001B[0mtrainer\u001B[0m\u001B[0;34m.\u001B[0m\u001B[0mtrain\u001B[0m\u001B[0;34m(\u001B[0m\u001B[0mds\u001B[0m\u001B[0;34m,\u001B[0m \u001B[0mepochs_per_train\u001B[0m\u001B[0;34m=\u001B[0m\u001B[0;36m10\u001B[0m\u001B[0;34m,\u001B[0m \u001B[0mreport_every\u001B[0m\u001B[0;34m=\u001B[0m\u001B[0;36m1\u001B[0m\u001B[0;34m,\u001B[0m \u001B[0mv_weight\u001B[0m\u001B[0;34m=\u001B[0m\u001B[0;36m1.0\u001B[0m\u001B[0;34m)\u001B[0m\u001B[0;34m\u001B[0m\u001B[0;34m\u001B[0m\u001B[0m\n\u001B[0m",
      "\u001B[0;31mNameError\u001B[0m: name 'trainer' is not defined"
     ]
    }
   ],
   "source": [
    "trainer.train(ds, epochs_per_train=10, report_every=1, v_weight=1.0)"
   ],
   "metadata": {
    "collapsed": false,
    "pycharm": {
     "name": "#%%\n"
    }
   }
  },
  {
   "cell_type": "code",
   "execution_count": 34,
   "outputs": [
    {
     "data": {
      "text/plain": "PosixPath('/home/wgiersche/workspace/Project-Ellie/DATA/models')"
     },
     "execution_count": 34,
     "metadata": {},
     "output_type": "execute_result"
    }
   ],
   "source": [
    "MODEL_DIR = Path(Path.home()) / DATA_DIR / 'models'\n",
    "MODEL_DIR"
   ],
   "metadata": {
    "collapsed": false,
    "pycharm": {
     "name": "#%%\n"
    }
   }
  },
  {
   "cell_type": "code",
   "execution_count": 35,
   "outputs": [
    {
     "name": "stderr",
     "output_type": "stream",
     "text": [
      "WARNING:absl:Found untraced functions such as _jit_compiled_convolution_op, _jit_compiled_convolution_op, _jit_compiled_convolution_op, _jit_compiled_convolution_op, _jit_compiled_convolution_op while saving (showing 5 of 44). These functions will not be directly callable after loading.\n"
     ]
    },
    {
     "name": "stdout",
     "output_type": "stream",
     "text": [
      "INFO:tensorflow:Assets written to: models/1_c3.model/assets\n"
     ]
    },
    {
     "name": "stderr",
     "output_type": "stream",
     "text": [
      "INFO:tensorflow:Assets written to: models/1_c3.model/assets\n"
     ]
    }
   ],
   "source": [
    "model.save('models/1_c3.model')"
   ],
   "metadata": {
    "collapsed": false,
    "pycharm": {
     "name": "#%%\n"
    }
   }
  },
  {
   "cell_type": "code",
   "execution_count": 36,
   "outputs": [
    {
     "name": "stderr",
     "output_type": "stream",
     "text": [
      "WARNING:absl:Found untraced functions such as _jit_compiled_convolution_op, _jit_compiled_convolution_op, _jit_compiled_convolution_op, _jit_compiled_convolution_op, _jit_compiled_convolution_op while saving (showing 5 of 44). These functions will not be directly callable after loading.\n"
     ]
    },
    {
     "name": "stdout",
     "output_type": "stream",
     "text": [
      "INFO:tensorflow:Assets written to: /home/wgiersche/workspace/Project-Ellie/DATA/models/1_c3.model/assets\n"
     ]
    },
    {
     "name": "stderr",
     "output_type": "stream",
     "text": [
      "INFO:tensorflow:Assets written to: /home/wgiersche/workspace/Project-Ellie/DATA/models/1_c3.model/assets\n"
     ]
    }
   ],
   "source": [
    "model.save(MODEL_DIR / \"1_c3.model\")"
   ],
   "metadata": {
    "collapsed": false,
    "pycharm": {
     "name": "#%%\n"
    }
   }
  },
  {
   "cell_type": "code",
   "execution_count": null,
   "outputs": [],
   "source": [
    "a_batch = next(iter(ds))\n",
    "batch_size = a_batch[0].shape[0]"
   ],
   "metadata": {
    "collapsed": false,
    "pycharm": {
     "name": "#%%\n"
    }
   }
  },
  {
   "cell_type": "code",
   "execution_count": null,
   "outputs": [],
   "source": [
    "from aegomoku.utils import analyse_example\n",
    "\n",
    "n = random.randint(0, batch_size)\n",
    "s, p, v = np.expand_dims(a_batch[0][n,:,:,:], axis=0), list(a_batch[1][n,:]), a_batch[2][n].numpy()\n",
    "s.shape, len(p), v\n",
    "# Training Material\n",
    "analyse_example((s, p, v), disp_width=5)\n",
    "\n",
    "# Learned\n",
    "p_learned, v_learned = model(s)\n",
    "learned = (s, list(p_learned.numpy()), np.squeeze(v_learned))\n",
    "analyse_example(learned, disp_width=5)"
   ],
   "metadata": {
    "collapsed": false,
    "pycharm": {
     "name": "#%%\n"
    }
   }
  },
  {
   "cell_type": "markdown",
   "source": [
    "## Compare new policy with the MCTS evaluations\n",
    "\n",
    "### All gameplay"
   ],
   "metadata": {
    "collapsed": false,
    "pycharm": {
     "name": "#%% md\n"
    }
   }
  },
  {
   "cell_type": "code",
   "execution_count": 10,
   "outputs": [],
   "source": [
    "ds = curriculum[ALL_GAMEPLAY]['dataset']\n",
    "a_batch = next(iter(ds))\n",
    "batch_size = a_batch[0].shape[0]\n",
    "from aegomoku.utils import analyse_example\n",
    "model = tf.keras.models.load_model(MODEL_DIR / \"1_c2.model/\")"
   ],
   "metadata": {
    "collapsed": false,
    "pycharm": {
     "name": "#%%\n"
    }
   }
  },
  {
   "cell_type": "code",
   "execution_count": 78,
   "outputs": [
    {
     "name": "stdout",
     "output_type": "stream",
     "text": [
      "Next to play: WHITE\n",
      "Value from WHITE's point of view: 0.03204929456114769\n",
      "Next to play: WHITE\n",
      "Value from WHITE's point of view: 0.02725856378674507\n"
     ]
    },
    {
     "data": {
      "text/plain": "<Figure size 504x504 with 1 Axes>",
      "image/png": "[encoded data removed]"
     },
     "metadata": {
      "needs_background": "light"
     },
     "output_type": "display_data"
    },
    {
     "data": {
      "text/plain": "<Figure size 504x504 with 1 Axes>",
      "image/png": "[encoded data removed]"
     },
     "metadata": {
      "needs_background": "light"
     },
     "output_type": "display_data"
    }
   ],
   "source": [
    "n = random.randint(0, batch_size)\n",
    "s, p, v = np.expand_dims(a_batch[0][n,:,:,:], axis=0), list(a_batch[1][n,:]), a_batch[2][n].numpy()\n",
    "s.shape, len(p), v\n",
    "# Training Material\n",
    "analyse_example((s, p, v), disp_width=7)\n",
    "\n",
    "# Learned\n",
    "p_learned, v_learned = model(s)\n",
    "learned = (s, list(np.squeeze(p_learned)), np.squeeze(v_learned))\n",
    "analyse_example(learned, disp_width=7)"
   ],
   "metadata": {
    "collapsed": false,
    "pycharm": {
     "name": "#%%\n"
    }
   }
  },
  {
   "cell_type": "code",
   "execution_count": 12,
   "outputs": [],
   "source": [
    "MODEL_DIR = Path(Path.home()) / DATA_DIR / 'models'\n",
    "course = curriculum[ALL_GAMEPLAY]['dataset']\n",
    "a_batch = next(iter(course))\n",
    "batch_size = a_batch[0].shape[0]\n",
    "from aegomoku.utils import analyse_example\n",
    "model = tf.keras.models.load_model(MODEL_DIR / \"1_c3.model/\")"
   ],
   "metadata": {
    "collapsed": false,
    "pycharm": {
     "name": "#%%\n"
    }
   }
  },
  {
   "cell_type": "code",
   "execution_count": 13,
   "outputs": [
    {
     "name": "stdout",
     "output_type": "stream",
     "text": [
      "Epoch: 1, Training: p: 3.269748, v: 0.05710475 - elapsed: 499.83s\n",
      "Epoch: 2, Training: p: 3.263266, v: 0.0570232 - elapsed: 241.0s\n",
      "Epoch: 3, Training: p: 3.257832, v: 0.05696969 - elapsed: 241.01s\n",
      "Epoch: 4, Training: p: 3.252664, v: 0.0568921 - elapsed: 241.07s\n",
      "Epoch: 5, Training: p: 3.247736, v: 0.05681519 - elapsed: 241.1s\n",
      "Epoch: 6, Training: p: 3.242904, v: 0.05670428 - elapsed: 241.02s\n",
      "Epoch: 7, Training: p: 3.237946, v: 0.05641698 - elapsed: 240.96s\n",
      "Epoch: 8, Training: p: 3.232622, v: 0.05561138 - elapsed: 241.18s\n",
      "Epoch: 9, Training: p: 3.227287, v: 0.05445559 - elapsed: 241.09s\n",
      "Epoch: 10, Training: p: 3.222123, v: 0.05314413 - elapsed: 241.05s\n",
      "Epoch: 11, Training: p: 3.217229, v: 0.05176539 - elapsed: 241.07s\n",
      "Epoch: 12, Training: p: 3.212628, v: 0.0503701 - elapsed: 241.0s\n",
      "Epoch: 13, Training: p: 3.208241, v: 0.04893593 - elapsed: 241.01s\n",
      "Epoch: 14, Training: p: 3.204144, v: 0.04751226 - elapsed: 241.05s\n",
      "Epoch: 15, Training: p: 3.200222, v: 0.04613452 - elapsed: 241.15s\n"
     ]
    },
    {
     "ename": "KeyboardInterrupt",
     "evalue": "",
     "output_type": "error",
     "traceback": [
      "\u001B[0;31m---------------------------------------------------------------------------\u001B[0m",
      "\u001B[0;31mKeyboardInterrupt\u001B[0m                         Traceback (most recent call last)",
      "\u001B[0;32m<ipython-input-13-03d90caa55e3>\u001B[0m in \u001B[0;36m<module>\u001B[0;34m\u001B[0m\n\u001B[1;32m      1\u001B[0m \u001B[0mtrainer\u001B[0m \u001B[0;34m=\u001B[0m \u001B[0mTrainer\u001B[0m\u001B[0;34m(\u001B[0m\u001B[0mmodel\u001B[0m\u001B[0;34m)\u001B[0m\u001B[0;34m\u001B[0m\u001B[0;34m\u001B[0m\u001B[0m\n\u001B[0;32m----> 2\u001B[0;31m \u001B[0mtrainer\u001B[0m\u001B[0;34m.\u001B[0m\u001B[0mtrain\u001B[0m\u001B[0;34m(\u001B[0m\u001B[0mcourse\u001B[0m\u001B[0;34m,\u001B[0m \u001B[0mepochs_per_train\u001B[0m\u001B[0;34m=\u001B[0m\u001B[0;36m30\u001B[0m\u001B[0;34m,\u001B[0m \u001B[0mreport_every\u001B[0m\u001B[0;34m=\u001B[0m\u001B[0;36m1\u001B[0m\u001B[0;34m,\u001B[0m \u001B[0mv_weight\u001B[0m\u001B[0;34m=\u001B[0m\u001B[0;36m1.0\u001B[0m\u001B[0;34m)\u001B[0m\u001B[0;34m\u001B[0m\u001B[0;34m\u001B[0m\u001B[0m\n\u001B[0m",
      "\u001B[0;32m~/workspace/Project-Ellie/DeepGomoku/aegomoku/trainer.py\u001B[0m in \u001B[0;36mtrain\u001B[0;34m(self, train_data_set, epochs_per_train, report_every, v_weight)\u001B[0m\n\u001B[1;32m     39\u001B[0m         \u001B[0;32mfor\u001B[0m \u001B[0mepoch\u001B[0m \u001B[0;32min\u001B[0m \u001B[0mrange\u001B[0m\u001B[0;34m(\u001B[0m\u001B[0mepochs_per_train\u001B[0m\u001B[0;34m)\u001B[0m\u001B[0;34m:\u001B[0m\u001B[0;34m\u001B[0m\u001B[0;34m\u001B[0m\u001B[0m\n\u001B[1;32m     40\u001B[0m             \u001B[0;32mfor\u001B[0m \u001B[0mx_train\u001B[0m\u001B[0;34m,\u001B[0m \u001B[0mpi_train\u001B[0m\u001B[0;34m,\u001B[0m \u001B[0mv_train\u001B[0m \u001B[0;32min\u001B[0m \u001B[0mtrain_data_set\u001B[0m\u001B[0;34m:\u001B[0m\u001B[0;34m\u001B[0m\u001B[0;34m\u001B[0m\u001B[0m\n\u001B[0;32m---> 41\u001B[0;31m                 \u001B[0mself\u001B[0m\u001B[0;34m.\u001B[0m\u001B[0mtrain_step\u001B[0m\u001B[0;34m(\u001B[0m\u001B[0mx_train\u001B[0m\u001B[0;34m,\u001B[0m \u001B[0mpi_train\u001B[0m\u001B[0;34m,\u001B[0m \u001B[0mv_train\u001B[0m\u001B[0;34m,\u001B[0m \u001B[0mv_weight\u001B[0m\u001B[0;34m)\u001B[0m\u001B[0;34m\u001B[0m\u001B[0;34m\u001B[0m\u001B[0m\n\u001B[0m\u001B[1;32m     42\u001B[0m             \u001B[0;32mwith\u001B[0m \u001B[0mtrain_summary_writer\u001B[0m\u001B[0;34m.\u001B[0m\u001B[0mas_default\u001B[0m\u001B[0;34m(\u001B[0m\u001B[0;34m)\u001B[0m\u001B[0;34m:\u001B[0m\u001B[0;34m\u001B[0m\u001B[0;34m\u001B[0m\u001B[0m\n\u001B[1;32m     43\u001B[0m                 \u001B[0mtf\u001B[0m\u001B[0;34m.\u001B[0m\u001B[0msummary\u001B[0m\u001B[0;34m.\u001B[0m\u001B[0mscalar\u001B[0m\u001B[0;34m(\u001B[0m\u001B[0;34m'train_loss'\u001B[0m\u001B[0;34m,\u001B[0m \u001B[0mself\u001B[0m\u001B[0;34m.\u001B[0m\u001B[0mtrain_probs_metric\u001B[0m\u001B[0;34m.\u001B[0m\u001B[0mresult\u001B[0m\u001B[0;34m(\u001B[0m\u001B[0;34m)\u001B[0m\u001B[0;34m,\u001B[0m \u001B[0mstep\u001B[0m\u001B[0;34m=\u001B[0m\u001B[0mepoch\u001B[0m\u001B[0;34m)\u001B[0m\u001B[0;34m\u001B[0m\u001B[0;34m\u001B[0m\u001B[0m\n",
      "\u001B[0;32m/usr/lib/python3/dist-packages/tensorflow/python/util/traceback_utils.py\u001B[0m in \u001B[0;36merror_handler\u001B[0;34m(*args, **kwargs)\u001B[0m\n\u001B[1;32m    148\u001B[0m     \u001B[0mfiltered_tb\u001B[0m \u001B[0;34m=\u001B[0m \u001B[0;32mNone\u001B[0m\u001B[0;34m\u001B[0m\u001B[0;34m\u001B[0m\u001B[0m\n\u001B[1;32m    149\u001B[0m     \u001B[0;32mtry\u001B[0m\u001B[0;34m:\u001B[0m\u001B[0;34m\u001B[0m\u001B[0;34m\u001B[0m\u001B[0m\n\u001B[0;32m--> 150\u001B[0;31m       \u001B[0;32mreturn\u001B[0m \u001B[0mfn\u001B[0m\u001B[0;34m(\u001B[0m\u001B[0;34m*\u001B[0m\u001B[0margs\u001B[0m\u001B[0;34m,\u001B[0m \u001B[0;34m**\u001B[0m\u001B[0mkwargs\u001B[0m\u001B[0;34m)\u001B[0m\u001B[0;34m\u001B[0m\u001B[0;34m\u001B[0m\u001B[0m\n\u001B[0m\u001B[1;32m    151\u001B[0m     \u001B[0;32mexcept\u001B[0m \u001B[0mException\u001B[0m \u001B[0;32mas\u001B[0m \u001B[0me\u001B[0m\u001B[0;34m:\u001B[0m\u001B[0;34m\u001B[0m\u001B[0;34m\u001B[0m\u001B[0m\n\u001B[1;32m    152\u001B[0m       \u001B[0mfiltered_tb\u001B[0m \u001B[0;34m=\u001B[0m \u001B[0m_process_traceback_frames\u001B[0m\u001B[0;34m(\u001B[0m\u001B[0me\u001B[0m\u001B[0;34m.\u001B[0m\u001B[0m__traceback__\u001B[0m\u001B[0;34m)\u001B[0m\u001B[0;34m\u001B[0m\u001B[0;34m\u001B[0m\u001B[0m\n",
      "\u001B[0;32m/usr/lib/python3/dist-packages/tensorflow/python/eager/def_function.py\u001B[0m in \u001B[0;36m__call__\u001B[0;34m(self, *args, **kwds)\u001B[0m\n\u001B[1;32m    913\u001B[0m \u001B[0;34m\u001B[0m\u001B[0m\n\u001B[1;32m    914\u001B[0m       \u001B[0;32mwith\u001B[0m \u001B[0mOptionalXlaContext\u001B[0m\u001B[0;34m(\u001B[0m\u001B[0mself\u001B[0m\u001B[0;34m.\u001B[0m\u001B[0m_jit_compile\u001B[0m\u001B[0;34m)\u001B[0m\u001B[0;34m:\u001B[0m\u001B[0;34m\u001B[0m\u001B[0;34m\u001B[0m\u001B[0m\n\u001B[0;32m--> 915\u001B[0;31m         \u001B[0mresult\u001B[0m \u001B[0;34m=\u001B[0m \u001B[0mself\u001B[0m\u001B[0;34m.\u001B[0m\u001B[0m_call\u001B[0m\u001B[0;34m(\u001B[0m\u001B[0;34m*\u001B[0m\u001B[0margs\u001B[0m\u001B[0;34m,\u001B[0m \u001B[0;34m**\u001B[0m\u001B[0mkwds\u001B[0m\u001B[0;34m)\u001B[0m\u001B[0;34m\u001B[0m\u001B[0;34m\u001B[0m\u001B[0m\n\u001B[0m\u001B[1;32m    916\u001B[0m \u001B[0;34m\u001B[0m\u001B[0m\n\u001B[1;32m    917\u001B[0m       \u001B[0mnew_tracing_count\u001B[0m \u001B[0;34m=\u001B[0m \u001B[0mself\u001B[0m\u001B[0;34m.\u001B[0m\u001B[0mexperimental_get_tracing_count\u001B[0m\u001B[0;34m(\u001B[0m\u001B[0;34m)\u001B[0m\u001B[0;34m\u001B[0m\u001B[0;34m\u001B[0m\u001B[0m\n",
      "\u001B[0;32m/usr/lib/python3/dist-packages/tensorflow/python/eager/def_function.py\u001B[0m in \u001B[0;36m_call\u001B[0;34m(self, *args, **kwds)\u001B[0m\n\u001B[1;32m    945\u001B[0m       \u001B[0;31m# In this case we have created variables on the first call, so we run the\u001B[0m\u001B[0;34m\u001B[0m\u001B[0;34m\u001B[0m\u001B[0;34m\u001B[0m\u001B[0m\n\u001B[1;32m    946\u001B[0m       \u001B[0;31m# defunned version which is guaranteed to never create variables.\u001B[0m\u001B[0;34m\u001B[0m\u001B[0;34m\u001B[0m\u001B[0;34m\u001B[0m\u001B[0m\n\u001B[0;32m--> 947\u001B[0;31m       \u001B[0;32mreturn\u001B[0m \u001B[0mself\u001B[0m\u001B[0;34m.\u001B[0m\u001B[0m_stateless_fn\u001B[0m\u001B[0;34m(\u001B[0m\u001B[0;34m*\u001B[0m\u001B[0margs\u001B[0m\u001B[0;34m,\u001B[0m \u001B[0;34m**\u001B[0m\u001B[0mkwds\u001B[0m\u001B[0;34m)\u001B[0m  \u001B[0;31m# pylint: disable=not-callable\u001B[0m\u001B[0;34m\u001B[0m\u001B[0;34m\u001B[0m\u001B[0m\n\u001B[0m\u001B[1;32m    948\u001B[0m     \u001B[0;32melif\u001B[0m \u001B[0mself\u001B[0m\u001B[0;34m.\u001B[0m\u001B[0m_stateful_fn\u001B[0m \u001B[0;32mis\u001B[0m \u001B[0;32mnot\u001B[0m \u001B[0;32mNone\u001B[0m\u001B[0;34m:\u001B[0m\u001B[0;34m\u001B[0m\u001B[0;34m\u001B[0m\u001B[0m\n\u001B[1;32m    949\u001B[0m       \u001B[0;31m# Release the lock early so that multiple threads can perform the call\u001B[0m\u001B[0;34m\u001B[0m\u001B[0;34m\u001B[0m\u001B[0;34m\u001B[0m\u001B[0m\n",
      "\u001B[0;32m/usr/lib/python3/dist-packages/tensorflow/python/eager/function.py\u001B[0m in \u001B[0;36m__call__\u001B[0;34m(self, *args, **kwargs)\u001B[0m\n\u001B[1;32m   2451\u001B[0m       (graph_function,\n\u001B[1;32m   2452\u001B[0m        filtered_flat_args) = self._maybe_define_function(args, kwargs)\n\u001B[0;32m-> 2453\u001B[0;31m     return graph_function._call_flat(\n\u001B[0m\u001B[1;32m   2454\u001B[0m         filtered_flat_args, captured_inputs=graph_function.captured_inputs)  # pylint: disable=protected-access\n\u001B[1;32m   2455\u001B[0m \u001B[0;34m\u001B[0m\u001B[0m\n",
      "\u001B[0;32m/usr/lib/python3/dist-packages/tensorflow/python/eager/function.py\u001B[0m in \u001B[0;36m_call_flat\u001B[0;34m(self, args, captured_inputs, cancellation_manager)\u001B[0m\n\u001B[1;32m   1858\u001B[0m         and executing_eagerly):\n\u001B[1;32m   1859\u001B[0m       \u001B[0;31m# No tape is watching; skip to running the function.\u001B[0m\u001B[0;34m\u001B[0m\u001B[0;34m\u001B[0m\u001B[0;34m\u001B[0m\u001B[0m\n\u001B[0;32m-> 1860\u001B[0;31m       return self._build_call_outputs(self._inference_function.call(\n\u001B[0m\u001B[1;32m   1861\u001B[0m           ctx, args, cancellation_manager=cancellation_manager))\n\u001B[1;32m   1862\u001B[0m     forward_backward = self._select_forward_and_backward_functions(\n",
      "\u001B[0;32m/usr/lib/python3/dist-packages/tensorflow/python/eager/function.py\u001B[0m in \u001B[0;36mcall\u001B[0;34m(self, ctx, args, cancellation_manager)\u001B[0m\n\u001B[1;32m    495\u001B[0m       \u001B[0;32mwith\u001B[0m \u001B[0m_InterpolateFunctionError\u001B[0m\u001B[0;34m(\u001B[0m\u001B[0mself\u001B[0m\u001B[0;34m)\u001B[0m\u001B[0;34m:\u001B[0m\u001B[0;34m\u001B[0m\u001B[0;34m\u001B[0m\u001B[0m\n\u001B[1;32m    496\u001B[0m         \u001B[0;32mif\u001B[0m \u001B[0mcancellation_manager\u001B[0m \u001B[0;32mis\u001B[0m \u001B[0;32mNone\u001B[0m\u001B[0;34m:\u001B[0m\u001B[0;34m\u001B[0m\u001B[0;34m\u001B[0m\u001B[0m\n\u001B[0;32m--> 497\u001B[0;31m           outputs = execute.execute(\n\u001B[0m\u001B[1;32m    498\u001B[0m               \u001B[0mstr\u001B[0m\u001B[0;34m(\u001B[0m\u001B[0mself\u001B[0m\u001B[0;34m.\u001B[0m\u001B[0msignature\u001B[0m\u001B[0;34m.\u001B[0m\u001B[0mname\u001B[0m\u001B[0;34m)\u001B[0m\u001B[0;34m,\u001B[0m\u001B[0;34m\u001B[0m\u001B[0;34m\u001B[0m\u001B[0m\n\u001B[1;32m    499\u001B[0m               \u001B[0mnum_outputs\u001B[0m\u001B[0;34m=\u001B[0m\u001B[0mself\u001B[0m\u001B[0;34m.\u001B[0m\u001B[0m_num_outputs\u001B[0m\u001B[0;34m,\u001B[0m\u001B[0;34m\u001B[0m\u001B[0;34m\u001B[0m\u001B[0m\n",
      "\u001B[0;32m/usr/lib/python3/dist-packages/tensorflow/python/eager/execute.py\u001B[0m in \u001B[0;36mquick_execute\u001B[0;34m(op_name, num_outputs, inputs, attrs, ctx, name)\u001B[0m\n\u001B[1;32m     52\u001B[0m   \u001B[0;32mtry\u001B[0m\u001B[0;34m:\u001B[0m\u001B[0;34m\u001B[0m\u001B[0;34m\u001B[0m\u001B[0m\n\u001B[1;32m     53\u001B[0m     \u001B[0mctx\u001B[0m\u001B[0;34m.\u001B[0m\u001B[0mensure_initialized\u001B[0m\u001B[0;34m(\u001B[0m\u001B[0;34m)\u001B[0m\u001B[0;34m\u001B[0m\u001B[0;34m\u001B[0m\u001B[0m\n\u001B[0;32m---> 54\u001B[0;31m     tensors = pywrap_tfe.TFE_Py_Execute(ctx._handle, device_name, op_name,\n\u001B[0m\u001B[1;32m     55\u001B[0m                                         inputs, attrs, num_outputs)\n\u001B[1;32m     56\u001B[0m   \u001B[0;32mexcept\u001B[0m \u001B[0mcore\u001B[0m\u001B[0;34m.\u001B[0m\u001B[0m_NotOkStatusException\u001B[0m \u001B[0;32mas\u001B[0m \u001B[0me\u001B[0m\u001B[0;34m:\u001B[0m\u001B[0;34m\u001B[0m\u001B[0;34m\u001B[0m\u001B[0m\n",
      "\u001B[0;31mKeyboardInterrupt\u001B[0m: "
     ]
    }
   ],
   "source": [
    "trainer = Trainer(model)\n",
    "trainer.train(course, epochs_per_train=30, report_every=1, v_weight=1.0)"
   ],
   "metadata": {
    "collapsed": false,
    "pycharm": {
     "name": "#%%\n"
    }
   }
  },
  {
   "cell_type": "code",
   "execution_count": 14,
   "outputs": [
    {
     "name": "stderr",
     "output_type": "stream",
     "text": [
      "WARNING:absl:Found untraced functions such as _jit_compiled_convolution_op, _jit_compiled_convolution_op, _jit_compiled_convolution_op, _jit_compiled_convolution_op, _jit_compiled_convolution_op while saving (showing 5 of 44). These functions will not be directly callable after loading.\n"
     ]
    },
    {
     "name": "stdout",
     "output_type": "stream",
     "text": [
      "INFO:tensorflow:Assets written to: /home/wgiersche/workspace/Project-Ellie/DATA/models/1_c3.model/assets\n"
     ]
    },
    {
     "name": "stderr",
     "output_type": "stream",
     "text": [
      "INFO:tensorflow:Assets written to: /home/wgiersche/workspace/Project-Ellie/DATA/models/1_c3.model/assets\n"
     ]
    }
   ],
   "source": [
    "model.save(MODEL_DIR / \"1_c3.model\")"
   ],
   "metadata": {
    "collapsed": false,
    "pycharm": {
     "name": "#%%\n"
    }
   }
  },
  {
   "cell_type": "code",
   "execution_count": 90,
   "outputs": [
    {
     "name": "stdout",
     "output_type": "stream",
     "text": [
      "Next to play: WHITE\n",
      "Value from WHITE's point of view: 1.0\n",
      "Next to play: WHITE\n",
      "Value from WHITE's point of view: 0.9887570738792419\n"
     ]
    },
    {
     "data": {
      "text/plain": "<Figure size 504x504 with 1 Axes>",
      "image/png": "[encoded data removed]"
     },
     "metadata": {
      "needs_background": "light"
     },
     "output_type": "display_data"
    },
    {
     "data": {
      "text/plain": "<Figure size 504x504 with 1 Axes>",
      "image/png": "[encoded data removed]"
     },
     "metadata": {
      "needs_background": "light"
     },
     "output_type": "display_data"
    }
   ],
   "source": [
    "n = random.randint(0, batch_size)\n",
    "s, p, v = np.expand_dims(a_batch[0][n,:,:,:], axis=0), list(a_batch[1][n,:]), a_batch[2][n].numpy()\n",
    "s.shape, len(p), v\n",
    "# Training Material\n",
    "analyse_example((s, p, v), disp_width=7)\n",
    "\n",
    "# Learned\n",
    "p_learned, v_learned = model(s)\n",
    "learned = (s, list(np.squeeze(p_learned)), np.squeeze(v_learned))\n",
    "analyse_example(learned, disp_width=7)"
   ],
   "metadata": {
    "collapsed": false,
    "pycharm": {
     "name": "#%%\n"
    }
   }
  },
  {
   "cell_type": "code",
   "execution_count": 6,
   "outputs": [],
   "source": [
    "ds = curriculum[TERMINAL_OPPORTUNITY]['dataset']\n",
    "a_batch = next(iter(ds))\n",
    "batch_size = a_batch[0].shape[0]\n",
    "from aegomoku.utils import analyse_example\n",
    "model = tf.keras.models.load_model(\"models/1_c1.model/\")"
   ],
   "metadata": {
    "collapsed": false,
    "pycharm": {
     "name": "#%%\n"
    }
   }
  },
  {
   "cell_type": "code",
   "execution_count": 33,
   "outputs": [
    {
     "name": "stdout",
     "output_type": "stream",
     "text": [
      "Next to play: WHITE\n",
      "Value from WHITE's point of view: 1.0\n",
      "Next to play: WHITE\n",
      "Value from WHITE's point of view: 0.9992259740829468\n"
     ]
    },
    {
     "data": {
      "text/plain": "<Figure size 500x500 with 1 Axes>",
      "image/png": "[encoded data removed]"
     },
     "metadata": {},
     "output_type": "display_data"
    },
    {
     "data": {
      "text/plain": "<Figure size 500x500 with 1 Axes>",
      "image/png": "[encoded data removed]"
     },
     "metadata": {},
     "output_type": "display_data"
    }
   ],
   "source": [
    "import random\n",
    "n = random.randint(0, batch_size)\n",
    "s, p, v = np.expand_dims(a_batch[0][n,:,:,:], axis=0), list(a_batch[1][n,:]), a_batch[2][n].numpy()\n",
    "s.shape, len(p), v\n",
    "# Training Material\n",
    "analyse_example((s, p, v), disp_width=5)\n",
    "\n",
    "# Learned\n",
    "p_learned, v_learned = model(s)\n",
    "learned = (s, list(p_learned.numpy()), np.squeeze(v_learned))\n",
    "analyse_example(learned, disp_width=5)"
   ],
   "metadata": {
    "collapsed": false,
    "pycharm": {
     "name": "#%%\n"
    }
   }
  },
  {
   "cell_type": "code",
   "execution_count": null,
   "outputs": [],
   "source": [],
   "metadata": {
    "collapsed": false,
    "pycharm": {
     "name": "#%%\n"
    }
   }
  },
  {
   "cell_type": "markdown",
   "source": [
    "## 1.  Refinement: Overcome the killing inhibition\n",
    "\n",
    "Focus on terminal opportunities: Very little error is acceptable for these conditions"
   ],
   "metadata": {
    "collapsed": false,
    "pycharm": {
     "name": "#%% md\n"
    }
   }
  },
  {
   "cell_type": "code",
   "execution_count": 63,
   "outputs": [],
   "source": [
    "new_model = tf.keras.models.load_model(\"models/1_c1.model/\")"
   ],
   "metadata": {
    "collapsed": false,
    "pycharm": {
     "name": "#%%\n"
    }
   }
  },
  {
   "cell_type": "code",
   "execution_count": 64,
   "outputs": [],
   "source": [
    "trainer = Trainer(new_model)"
   ],
   "metadata": {
    "collapsed": false,
    "pycharm": {
     "name": "#%%\n"
    }
   }
  },
  {
   "cell_type": "code",
   "execution_count": 65,
   "outputs": [
    {
     "name": "stdout",
     "output_type": "stream",
     "text": [
      "Epoch: 1, Training: p: 0.1323763, v: 0.00726073 - elapsed: 4.78s\n",
      "Epoch: 2, Training: p: 0.1164276, v: 0.004840488 - elapsed: 1.0614s\n",
      "Epoch: 3, Training: p: 0.1021271, v: 0.003630379 - elapsed: 1.0383s\n",
      "Epoch: 4, Training: p: 0.09029301, v: 0.002904308 - elapsed: 1.048s\n",
      "Epoch: 5, Training: (0.090293005, 0.002904308)\n"
     ]
    }
   ],
   "source": [
    "ds = curriculum[TERMINAL_OPPORTUNITY]['dataset']\n",
    "trainer.train(ds, epochs_per_train=5, report_every=1, v_weight=1.0)"
   ],
   "metadata": {
    "collapsed": false,
    "pycharm": {
     "name": "#%%\n"
    }
   }
  },
  {
   "cell_type": "code",
   "execution_count": 66,
   "outputs": [
    {
     "name": "stderr",
     "output_type": "stream",
     "text": [
      "WARNING:absl:Found untraced functions such as _jit_compiled_convolution_op, _jit_compiled_convolution_op, _jit_compiled_convolution_op, _jit_compiled_convolution_op, _jit_compiled_convolution_op while saving (showing 5 of 44). These functions will not be directly callable after loading.\n"
     ]
    },
    {
     "name": "stdout",
     "output_type": "stream",
     "text": [
      "INFO:tensorflow:Assets written to: models/1_c2.model/assets\n"
     ]
    },
    {
     "name": "stderr",
     "output_type": "stream",
     "text": [
      "INFO:tensorflow:Assets written to: models/1_c2.model/assets\n"
     ]
    }
   ],
   "source": [
    "new_model.save('models/1_c2.model')"
   ],
   "metadata": {
    "collapsed": false,
    "pycharm": {
     "name": "#%%\n"
    }
   }
  },
  {
   "cell_type": "code",
   "execution_count": 1,
   "outputs": [
    {
     "ename": "NameError",
     "evalue": "name 'random' is not defined",
     "output_type": "error",
     "traceback": [
      "\u001B[0;31m---------------------------------------------------------------------------\u001B[0m",
      "\u001B[0;31mNameError\u001B[0m                                 Traceback (most recent call last)",
      "Input \u001B[0;32mIn [1]\u001B[0m, in \u001B[0;36m<cell line: 3>\u001B[0;34m()\u001B[0m\n\u001B[1;32m      1\u001B[0m \u001B[38;5;28;01mfrom\u001B[39;00m \u001B[38;5;21;01maegomoku\u001B[39;00m\u001B[38;5;21;01m.\u001B[39;00m\u001B[38;5;21;01mutils\u001B[39;00m \u001B[38;5;28;01mimport\u001B[39;00m analyse_example\n\u001B[0;32m----> 3\u001B[0m n \u001B[38;5;241m=\u001B[39m \u001B[43mrandom\u001B[49m\u001B[38;5;241m.\u001B[39mrandint(\u001B[38;5;241m0\u001B[39m, batch_size)\n\u001B[1;32m      4\u001B[0m s, p, v \u001B[38;5;241m=\u001B[39m np\u001B[38;5;241m.\u001B[39mexpand_dims(a_batch[\u001B[38;5;241m0\u001B[39m][n,:,:,:], axis\u001B[38;5;241m=\u001B[39m\u001B[38;5;241m0\u001B[39m), \u001B[38;5;28mlist\u001B[39m(a_batch[\u001B[38;5;241m1\u001B[39m][n,:]), a_batch[\u001B[38;5;241m2\u001B[39m][n]\u001B[38;5;241m.\u001B[39mnumpy()\n\u001B[1;32m      5\u001B[0m s\u001B[38;5;241m.\u001B[39mshape, \u001B[38;5;28mlen\u001B[39m(p), v\n",
      "\u001B[0;31mNameError\u001B[0m: name 'random' is not defined"
     ]
    }
   ],
   "source": [
    "from aegomoku.utils import analyse_example\n",
    "\n",
    "n = random.randint(0, batch_size)\n",
    "s, p, v = np.expand_dims(a_batch[0][n,:,:,:], axis=0), list(a_batch[1][n,:]), a_batch[2][n].numpy()\n",
    "s.shape, len(p), v\n",
    "# Training Material\n",
    "analyse_example((s, p, v), disp_width=5)\n",
    "\n",
    "# Learned\n",
    "p_learned, v_learned = new_model(s)\n",
    "learned = (s, list(p_learned.numpy()), np.squeeze(v_learned))\n",
    "analyse_example(learned, disp_width=5)"
   ],
   "metadata": {
    "collapsed": false,
    "pycharm": {
     "name": "#%%\n"
    }
   }
  },
  {
   "cell_type": "code",
   "execution_count": null,
   "outputs": [],
   "source": [],
   "metadata": {
    "collapsed": false,
    "pycharm": {
     "name": "#%%\n"
    }
   }
  },
  {
   "cell_type": "code",
   "execution_count": null,
   "outputs": [],
   "source": [],
   "metadata": {
    "collapsed": false,
    "pycharm": {
     "name": "#%%\n"
    }
   }
  },
  {
   "cell_type": "code",
   "execution_count": null,
   "outputs": [],
   "source": [],
   "metadata": {
    "collapsed": false,
    "pycharm": {
     "name": "#%%\n"
    }
   }
  },
  {
   "cell_type": "code",
   "execution_count": null,
   "outputs": [],
   "source": [],
   "metadata": {
    "collapsed": false,
    "pycharm": {
     "name": "#%%\n"
    }
   }
  }
 ],
 "metadata": {
  "kernelspec": {
   "display_name": "Python 3",
   "language": "python",
   "name": "python3"
  },
  "language_info": {
   "codemirror_mode": {
    "name": "ipython",
    "version": 2
   },
   "file_extension": ".py",
   "mimetype": "text/x-python",
   "name": "python",
   "nbconvert_exporter": "python",
   "pygments_lexer": "ipython2",
   "version": "2.7.6"
  }
 },
 "nbformat": 4,
 "nbformat_minor": 0
}