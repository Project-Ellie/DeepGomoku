{
 "cells": [
  {
   "cell_type": "markdown",
   "source": [
    "# Soft Advice for uncritical positions\n",
    "We devise a CNN-based policy, that comes up with somewhat reasonable moves by a preference to lines that are already occupied by stones of the same color and are not that much obstructed by stones of the other color. Doesn't play any smart, though!"
   ],
   "metadata": {
    "collapsed": false,
    "pycharm": {
     "name": "#%% md\n"
    }
   }
  },
  {
   "cell_type": "code",
   "execution_count": 1,
   "outputs": [],
   "source": [
    "import numpy as np\n",
    "import tensorflow as tf\n",
    "\n",
    "from domoku.data import create_nxnx4, create_binary_rep\n",
    "from domoku.policies.softadvice import MaxInfluencePolicyParams, MaxInfluencePolicy\n",
    "from domoku.tools import GomokuTools as gt\n",
    "from domoku.board import GomokuBoard\n",
    "from domoku.policies.radial import radial_2xnxn"
   ],
   "metadata": {
    "collapsed": false,
    "pycharm": {
     "name": "#%%\n"
    }
   }
  },
  {
   "cell_type": "code",
   "execution_count": 2,
   "outputs": [],
   "source": [
    "def print_bin(binary_sample):\n",
    "    binary_sample = np.squeeze(binary_sample)\n",
    "    print(f'shape: {binary_sample.shape}')\n",
    "    print(np.rollaxis(binary_sample, 2, 0)[0])\n",
    "    print()\n",
    "    print(np.rollaxis(binary_sample, 2, 0)[1])"
   ],
   "metadata": {
    "collapsed": false,
    "pycharm": {
     "name": "#%%\n"
    }
   }
  },
  {
   "cell_type": "markdown",
   "source": [
    "### Prelude: Radial Filters"
   ],
   "metadata": {
    "collapsed": false,
    "pycharm": {
     "name": "#%% md\n"
    }
   }
  },
  {
   "cell_type": "code",
   "execution_count": 3,
   "outputs": [],
   "source": [
    "rad = [0]"
   ],
   "metadata": {
    "collapsed": false,
    "pycharm": {
     "name": "#%%\n"
    }
   }
  },
  {
   "cell_type": "code",
   "execution_count": 4,
   "outputs": [
    {
     "name": "stdout",
     "output_type": "stream",
     "text": [
      "shape: (3, 3, 2)\n",
      "[[0. 0. 0.]\n",
      " [0. 0. 0.]\n",
      " [0. 0. 0.]]\n",
      "\n",
      "[[ 0.  0.  0.]\n",
      " [ 0. -2.  0.]\n",
      " [ 0.  0.  0.]]\n"
     ]
    }
   ],
   "source": [
    "proj0 = radial_2xnxn(rad, None, 1, 0)\n",
    "proj1 = radial_2xnxn(rad, None, 0, -2)\n",
    "zero = radial_2xnxn(rad, None, 0, 0)\n",
    "print_bin(proj1)"
   ],
   "metadata": {
    "collapsed": false,
    "pycharm": {
     "name": "#%%\n"
    }
   }
  },
  {
   "cell_type": "code",
   "execution_count": 5,
   "outputs": [
    {
     "data": {
      "text/plain": "<Figure size 216x216 with 1 Axes>",
      "image/png": "[encoded data removed]"
     },
     "metadata": {
      "needs_background": "light"
     },
     "output_type": "display_data"
    }
   ],
   "source": [
    "SIZE = 5\n",
    "kernel_size = 2 * len(rad) + 1\n",
    "board = GomokuBoard(n=SIZE, disp_width=3, stones=gt.string_to_stones(\"C3\"))\n",
    "board.display()"
   ],
   "metadata": {
    "collapsed": false,
    "pycharm": {
     "name": "#%%\n"
    }
   }
  },
  {
   "cell_type": "code",
   "execution_count": 8,
   "outputs": [
    {
     "name": "stdout",
     "output_type": "stream",
     "text": [
      "shape: (5, 5, 2)\n",
      "[[0. 0. 0. 0. 0.]\n",
      " [0. 0. 0. 0. 0.]\n",
      " [0. 0. 0. 0. 0.]\n",
      " [0. 0. 0. 0. 0.]\n",
      " [0. 0. 0. 0. 0.]]\n",
      "\n",
      "[[0. 0. 0. 0. 0.]\n",
      " [0. 0. 0. 0. 0.]\n",
      " [0. 0. 1. 0. 0.]\n",
      " [0. 0. 0. 0. 0.]\n",
      " [0. 0. 0. 0. 0.]]\n"
     ]
    }
   ],
   "source": [
    "sample = create_binary_rep(board.N, board.stones, board.current_color)\n",
    "print_bin(sample)"
   ],
   "metadata": {
    "collapsed": false,
    "pycharm": {
     "name": "#%%\n"
    }
   }
  },
  {
   "cell_type": "code",
   "execution_count": 9,
   "outputs": [],
   "source": [
    "filters = [proj1, zero, zero, zero]\n",
    "filters = np.stack(\n",
    "    filters, axis=3)\n",
    "filters = np.reshape(filters, (3, 3, 2, -1))"
   ],
   "metadata": {
    "collapsed": false,
    "pycharm": {
     "name": "#%%\n"
    }
   }
  },
  {
   "cell_type": "code",
   "execution_count": 10,
   "outputs": [
    {
     "name": "stdout",
     "output_type": "stream",
     "text": [
      "shape: (3, 3, 2)\n",
      "[[0. 0. 0.]\n",
      " [0. 0. 0.]\n",
      " [0. 0. 0.]]\n",
      "\n",
      "[[ 0.  0.  0.]\n",
      " [ 0. -2.  0.]\n",
      " [ 0.  0.  0.]]\n"
     ]
    },
    {
     "data": {
      "text/plain": "(3, 3, 2, 4)"
     },
     "execution_count": 10,
     "metadata": {},
     "output_type": "execute_result"
    }
   ],
   "source": [
    "print_bin(filters[:, :, :, 0])\n",
    "filters.shape"
   ],
   "metadata": {
    "collapsed": false,
    "pycharm": {
     "name": "#%%\n"
    }
   }
  },
  {
   "cell_type": "code",
   "execution_count": 11,
   "outputs": [
    {
     "name": "stdout",
     "output_type": "stream",
     "text": [
      "tf.Tensor(\n",
      "[[ 0.  0.  0.  0.  0.]\n",
      " [ 0.  0.  0.  0.  0.]\n",
      " [ 0.  0. -2.  0.  0.]\n",
      " [ 0.  0.  0.  0.  0.]\n",
      " [ 0.  0.  0.  0.  0.]], shape=(5, 5), dtype=float32)\n",
      "tf.Tensor(\n",
      "[[0. 0. 0. 0. 0.]\n",
      " [0. 0. 0. 0. 0.]\n",
      " [0. 0. 0. 0. 0.]\n",
      " [0. 0. 0. 0. 0.]\n",
      " [0. 0. 0. 0. 0.]], shape=(5, 5), dtype=float32)\n",
      "tf.Tensor(\n",
      "[[0. 0. 0. 0. 0.]\n",
      " [0. 0. 0. 0. 0.]\n",
      " [0. 0. 0. 0. 0.]\n",
      " [0. 0. 0. 0. 0.]\n",
      " [0. 0. 0. 0. 0.]], shape=(5, 5), dtype=float32)\n",
      "tf.Tensor(\n",
      "[[0. 0. 0. 0. 0.]\n",
      " [0. 0. 0. 0. 0.]\n",
      " [0. 0. 0. 0. 0.]\n",
      " [0. 0. 0. 0. 0.]\n",
      " [0. 0. 0. 0. 0.]], shape=(5, 5), dtype=float32)\n"
     ]
    },
    {
     "name": "stderr",
     "output_type": "stream",
     "text": [
      "2022-05-21 16:26:48.297264: I tensorflow/core/platform/cpu_feature_guard.cc:151] This TensorFlow binary is optimized with oneAPI Deep Neural Network Library (oneDNN) to use the following CPU instructions in performance-critical operations:  AVX2 FMA\n",
      "To enable them in other operations, rebuild TensorFlow with the appropriate compiler flags.\n"
     ]
    }
   ],
   "source": [
    "sample = np.reshape(sample, [-1, SIZE, SIZE, 2])\n",
    "biases = [0] * filters.shape[-1]\n",
    "inf1 = tf.keras.layers.Conv2D(\n",
    "    filters=len(biases), kernel_size=[kernel_size, kernel_size],\n",
    "    kernel_initializer=tf.constant_initializer(filters),\n",
    "    bias_initializer=tf.constant_initializer(biases),\n",
    "    #    activation=tf.nn.relu,\n",
    "    padding='SAME',\n",
    "    input_shape=(SIZE, SIZE, 2))\n",
    "res = inf1(sample)[0]\n",
    "for i in range(res.shape[-1]):\n",
    "    print(res[:, :, i])"
   ],
   "metadata": {
    "collapsed": false,
    "pycharm": {
     "name": "#%%\n"
    }
   }
  },
  {
   "cell_type": "markdown",
   "source": [
    "---\n",
    "---\n",
    "\n",
    "# Soft Advice Policy\n",
    "\n",
    "\n",
    "#### Measuring the stones' influences of the current board\n",
    "\n",
    "Measure and select from fields that are *strongly* connected to existing stones"
   ],
   "metadata": {
    "collapsed": false,
    "pycharm": {
     "name": "#%% md\n"
    }
   }
  },
  {
   "cell_type": "code",
   "execution_count": 12,
   "outputs": [],
   "source": [
    "radial_off = [.0625, .125, .25, .5]\n",
    "radial_def = [-.0625, -.125, -.25, -.5]\n",
    "kernel_size = 2 * len(radial_off) + 1\n",
    "l_radial = len(radial_off)"
   ],
   "metadata": {
    "collapsed": false,
    "pycharm": {
     "name": "#%%\n"
    }
   }
  },
  {
   "cell_type": "code",
   "execution_count": 13,
   "outputs": [
    {
     "name": "stdout",
     "output_type": "stream",
     "text": [
      "shape: (9, 9, 2)\n",
      "[[  0.0625   0.       0.       0.       0.0625   0.       0.       0.\n",
      "    0.0625]\n",
      " [  0.       0.125    0.       0.       0.125    0.       0.       0.125\n",
      "    0.    ]\n",
      " [  0.       0.       0.25     0.       0.25     0.       0.25     0.\n",
      "    0.    ]\n",
      " [  0.       0.       0.       0.5      0.5      0.5      0.       0.\n",
      "    0.    ]\n",
      " [  0.0625   0.125    0.25     0.5    -10.       0.5      0.25     0.125\n",
      "    0.0625]\n",
      " [  0.       0.       0.       0.5      0.5      0.5      0.       0.\n",
      "    0.    ]\n",
      " [  0.       0.       0.25     0.       0.25     0.       0.25     0.\n",
      "    0.    ]\n",
      " [  0.       0.125    0.       0.       0.125    0.       0.       0.125\n",
      "    0.    ]\n",
      " [  0.0625   0.       0.       0.       0.0625   0.       0.       0.\n",
      "    0.0625]]\n",
      "\n",
      "[[ -0.0625   0.       0.       0.      -0.0625   0.       0.       0.\n",
      "   -0.0625]\n",
      " [  0.      -0.125    0.       0.      -0.125    0.       0.      -0.125\n",
      "    0.    ]\n",
      " [  0.       0.      -0.25     0.      -0.25     0.      -0.25     0.\n",
      "    0.    ]\n",
      " [  0.       0.       0.      -0.5     -0.5     -0.5      0.       0.\n",
      "    0.    ]\n",
      " [ -0.0625  -0.125   -0.25    -0.5    -10.      -0.5     -0.25    -0.125\n",
      "   -0.0625]\n",
      " [  0.       0.       0.      -0.5     -0.5     -0.5      0.       0.\n",
      "    0.    ]\n",
      " [  0.       0.      -0.25     0.      -0.25     0.      -0.25     0.\n",
      "    0.    ]\n",
      " [  0.      -0.125    0.       0.      -0.125    0.       0.      -0.125\n",
      "    0.    ]\n",
      " [ -0.0625   0.       0.       0.      -0.0625   0.       0.       0.\n",
      "   -0.0625]]\n",
      "shape: (9, 9, 2)\n",
      "[[  0.05625   0.        0.        0.        0.05625   0.        0.\n",
      "    0.        0.05625]\n",
      " [  0.        0.1125    0.        0.        0.1125    0.        0.\n",
      "    0.1125    0.     ]\n",
      " [  0.        0.        0.225     0.        0.225     0.        0.225\n",
      "    0.        0.     ]\n",
      " [  0.        0.        0.        0.45      0.45      0.45      0.\n",
      "    0.        0.     ]\n",
      " [  0.05625   0.1125    0.225     0.45    -10.        0.45      0.225\n",
      "    0.1125    0.05625]\n",
      " [  0.        0.        0.        0.45      0.45      0.45      0.\n",
      "    0.        0.     ]\n",
      " [  0.        0.        0.225     0.        0.225     0.        0.225\n",
      "    0.        0.     ]\n",
      " [  0.        0.1125    0.        0.        0.1125    0.        0.\n",
      "    0.1125    0.     ]\n",
      " [  0.05625   0.        0.        0.        0.05625   0.        0.\n",
      "    0.        0.05625]]\n",
      "\n",
      "[[ -0.05625   0.        0.        0.       -0.05625   0.        0.\n",
      "    0.       -0.05625]\n",
      " [  0.       -0.1125    0.        0.       -0.1125    0.        0.\n",
      "   -0.1125    0.     ]\n",
      " [  0.        0.       -0.225     0.       -0.225     0.       -0.225\n",
      "    0.        0.     ]\n",
      " [  0.        0.        0.       -0.45     -0.45     -0.45      0.\n",
      "    0.        0.     ]\n",
      " [ -0.05625  -0.1125   -0.225    -0.45    -10.       -0.45     -0.225\n",
      "   -0.1125   -0.05625]\n",
      " [  0.        0.        0.       -0.45     -0.45     -0.45      0.\n",
      "    0.        0.     ]\n",
      " [  0.        0.       -0.225     0.       -0.225     0.       -0.225\n",
      "    0.        0.     ]\n",
      " [  0.       -0.1125    0.        0.       -0.1125    0.        0.\n",
      "   -0.1125    0.     ]\n",
      " [ -0.05625   0.        0.        0.       -0.05625   0.        0.\n",
      "    0.       -0.05625]]\n"
     ]
    }
   ],
   "source": [
    "# The influence of the current stones under consideration of the defensive power of the other stones\n",
    "inf_stones_curr = radial_2xnxn(radial_off, radial_def, -10, -10, gamma=1.0)\n",
    "# The influence of the current influence, discounted\n",
    "inf_inf_curr = radial_2xnxn(radial_off, radial_def, -10, -10, gamma=.9)\n",
    "inf_curr = np.stack([inf_stones_curr, inf_inf_curr], axis=-2).reshape((kernel_size, kernel_size, 4))\n",
    "print_bin(inf_curr[:, :, :2])\n",
    "print_bin(inf_curr[:, :, 2:])"
   ],
   "metadata": {
    "collapsed": false,
    "pycharm": {
     "name": "#%%\n"
    }
   }
  },
  {
   "cell_type": "markdown",
   "source": [
    "### The influence of the other player's position"
   ],
   "metadata": {
    "collapsed": false,
    "pycharm": {
     "name": "#%% md\n"
    }
   }
  },
  {
   "cell_type": "code",
   "execution_count": 14,
   "outputs": [
    {
     "name": "stdout",
     "output_type": "stream",
     "text": [
      "shape: (9, 9, 2)\n",
      "[[-0.0625  0.      0.      0.     -0.0625  0.      0.      0.     -0.0625]\n",
      " [ 0.     -0.125   0.      0.     -0.125   0.      0.     -0.125   0.    ]\n",
      " [ 0.      0.     -0.25    0.     -0.25    0.     -0.25    0.      0.    ]\n",
      " [ 0.      0.      0.     -0.5    -0.5    -0.5     0.      0.      0.    ]\n",
      " [-0.0625 -0.125  -0.25   -0.5    -1.     -0.5    -0.25   -0.125  -0.0625]\n",
      " [ 0.      0.      0.     -0.5    -0.5    -0.5     0.      0.      0.    ]\n",
      " [ 0.      0.     -0.25    0.     -0.25    0.     -0.25    0.      0.    ]\n",
      " [ 0.     -0.125   0.      0.     -0.125   0.      0.     -0.125   0.    ]\n",
      " [-0.0625  0.      0.      0.     -0.0625  0.      0.      0.     -0.0625]]\n",
      "\n",
      "[[ 0.0625  0.      0.      0.      0.0625  0.      0.      0.      0.0625]\n",
      " [ 0.      0.125   0.      0.      0.125   0.      0.      0.125   0.    ]\n",
      " [ 0.      0.      0.25    0.      0.25    0.      0.25    0.      0.    ]\n",
      " [ 0.      0.      0.      0.5     0.5     0.5     0.      0.      0.    ]\n",
      " [ 0.0625  0.125   0.25    0.5    -1.      0.5     0.25    0.125   0.0625]\n",
      " [ 0.      0.      0.      0.5     0.5     0.5     0.      0.      0.    ]\n",
      " [ 0.      0.      0.25    0.      0.25    0.      0.25    0.      0.    ]\n",
      " [ 0.      0.125   0.      0.      0.125   0.      0.      0.125   0.    ]\n",
      " [ 0.0625  0.      0.      0.      0.0625  0.      0.      0.      0.0625]]\n",
      "shape: (9, 9, 2)\n",
      "[[-0.05625  0.       0.       0.      -0.05625  0.       0.       0.\n",
      "  -0.05625]\n",
      " [ 0.      -0.1125   0.       0.      -0.1125   0.       0.      -0.1125\n",
      "   0.     ]\n",
      " [ 0.       0.      -0.225    0.      -0.225    0.      -0.225    0.\n",
      "   0.     ]\n",
      " [ 0.       0.       0.      -0.45    -0.45    -0.45     0.       0.\n",
      "   0.     ]\n",
      " [-0.05625 -0.1125  -0.225   -0.45     0.9     -0.45    -0.225   -0.1125\n",
      "  -0.05625]\n",
      " [ 0.       0.       0.      -0.45    -0.45    -0.45     0.       0.\n",
      "   0.     ]\n",
      " [ 0.       0.      -0.225    0.      -0.225    0.      -0.225    0.\n",
      "   0.     ]\n",
      " [ 0.      -0.1125   0.       0.      -0.1125   0.       0.      -0.1125\n",
      "   0.     ]\n",
      " [-0.05625  0.       0.       0.      -0.05625  0.       0.       0.\n",
      "  -0.05625]]\n",
      "\n",
      "[[0.05625 0.      0.      0.      0.05625 0.      0.      0.      0.05625]\n",
      " [0.      0.1125  0.      0.      0.1125  0.      0.      0.1125  0.     ]\n",
      " [0.      0.      0.225   0.      0.225   0.      0.225   0.      0.     ]\n",
      " [0.      0.      0.      0.45    0.45    0.45    0.      0.      0.     ]\n",
      " [0.05625 0.1125  0.225   0.45    0.9     0.45    0.225   0.1125  0.05625]\n",
      " [0.      0.      0.      0.45    0.45    0.45    0.      0.      0.     ]\n",
      " [0.      0.      0.225   0.      0.225   0.      0.225   0.      0.     ]\n",
      " [0.      0.1125  0.      0.      0.1125  0.      0.      0.1125  0.     ]\n",
      " [0.05625 0.      0.      0.      0.05625 0.      0.      0.      0.05625]]\n"
     ]
    }
   ],
   "source": [
    "# The influence of the other stones under consideration of the defensive power of the current stones\n",
    "inf_stones_oth = radial_2xnxn(radial_def, radial_off, -1, -1, gamma=1.0)\n",
    "# The influence of the other influence, discounted\n",
    "inf_inf_oth = radial_2xnxn([-.0625, -.125, -.25, -.5], [.0625, .125, .25, .5], .9, .9, gamma=.9)\n",
    "inf_oth = np.stack([inf_stones_oth, inf_inf_oth], axis=-2).reshape((kernel_size, kernel_size, 4))\n",
    "print_bin(inf_oth[:, :, :2])\n",
    "print_bin(inf_oth[:, :, 2:])"
   ],
   "metadata": {
    "collapsed": false,
    "pycharm": {
     "name": "#%%\n"
    }
   }
  },
  {
   "cell_type": "markdown",
   "source": [
    "### Projectors\n",
    "Projectors simply pass each stone layer through to the next layer"
   ],
   "metadata": {
    "collapsed": false,
    "pycharm": {
     "name": "#%% md\n"
    }
   }
  },
  {
   "cell_type": "code",
   "execution_count": 15,
   "outputs": [],
   "source": [
    "zero = radial_2xnxn([0] * 4, None, 0, 0)\n",
    "proj_cur = radial_2xnxn([0] * 4, None, 1, 0)\n",
    "proj_cur = np.stack([proj_cur, zero], axis=-2).reshape((kernel_size, kernel_size, 4))\n",
    "\n",
    "proj_oth = radial_2xnxn([0] * 4, None, 0, 1)\n",
    "proj_oth = np.stack([proj_oth, zero], axis=-2).reshape((kernel_size, kernel_size, 4))"
   ],
   "metadata": {
    "collapsed": false,
    "pycharm": {
     "name": "#%%\n"
    }
   }
  },
  {
   "cell_type": "code",
   "execution_count": 16,
   "outputs": [
    {
     "name": "stdout",
     "output_type": "stream",
     "text": [
      "shape: (9, 9, 2)\n",
      "[[0. 0. 0. 0. 0. 0. 0. 0. 0.]\n",
      " [0. 0. 0. 0. 0. 0. 0. 0. 0.]\n",
      " [0. 0. 0. 0. 0. 0. 0. 0. 0.]\n",
      " [0. 0. 0. 0. 0. 0. 0. 0. 0.]\n",
      " [0. 0. 0. 0. 0. 0. 0. 0. 0.]\n",
      " [0. 0. 0. 0. 0. 0. 0. 0. 0.]\n",
      " [0. 0. 0. 0. 0. 0. 0. 0. 0.]\n",
      " [0. 0. 0. 0. 0. 0. 0. 0. 0.]\n",
      " [0. 0. 0. 0. 0. 0. 0. 0. 0.]]\n",
      "\n",
      "[[0. 0. 0. 0. 0. 0. 0. 0. 0.]\n",
      " [0. 0. 0. 0. 0. 0. 0. 0. 0.]\n",
      " [0. 0. 0. 0. 0. 0. 0. 0. 0.]\n",
      " [0. 0. 0. 0. 0. 0. 0. 0. 0.]\n",
      " [0. 0. 0. 0. 1. 0. 0. 0. 0.]\n",
      " [0. 0. 0. 0. 0. 0. 0. 0. 0.]\n",
      " [0. 0. 0. 0. 0. 0. 0. 0. 0.]\n",
      " [0. 0. 0. 0. 0. 0. 0. 0. 0.]\n",
      " [0. 0. 0. 0. 0. 0. 0. 0. 0.]]\n",
      "shape: (9, 9, 2)\n",
      "[[0. 0. 0. 0. 0. 0. 0. 0. 0.]\n",
      " [0. 0. 0. 0. 0. 0. 0. 0. 0.]\n",
      " [0. 0. 0. 0. 0. 0. 0. 0. 0.]\n",
      " [0. 0. 0. 0. 0. 0. 0. 0. 0.]\n",
      " [0. 0. 0. 0. 0. 0. 0. 0. 0.]\n",
      " [0. 0. 0. 0. 0. 0. 0. 0. 0.]\n",
      " [0. 0. 0. 0. 0. 0. 0. 0. 0.]\n",
      " [0. 0. 0. 0. 0. 0. 0. 0. 0.]\n",
      " [0. 0. 0. 0. 0. 0. 0. 0. 0.]]\n",
      "\n",
      "[[0. 0. 0. 0. 0. 0. 0. 0. 0.]\n",
      " [0. 0. 0. 0. 0. 0. 0. 0. 0.]\n",
      " [0. 0. 0. 0. 0. 0. 0. 0. 0.]\n",
      " [0. 0. 0. 0. 0. 0. 0. 0. 0.]\n",
      " [0. 0. 0. 0. 0. 0. 0. 0. 0.]\n",
      " [0. 0. 0. 0. 0. 0. 0. 0. 0.]\n",
      " [0. 0. 0. 0. 0. 0. 0. 0. 0.]\n",
      " [0. 0. 0. 0. 0. 0. 0. 0. 0.]\n",
      " [0. 0. 0. 0. 0. 0. 0. 0. 0.]]\n"
     ]
    }
   ],
   "source": [
    "print_bin(proj_oth[:, :, :2])\n",
    "print_bin(proj_oth[:, :, 2:])"
   ],
   "metadata": {
    "collapsed": false,
    "pycharm": {
     "name": "#%%\n"
    }
   }
  },
  {
   "cell_type": "code",
   "execution_count": 17,
   "outputs": [],
   "source": [
    "SIZE = 11"
   ],
   "metadata": {
    "collapsed": false,
    "pycharm": {
     "name": "#%%\n"
    }
   }
  },
  {
   "cell_type": "code",
   "execution_count": 18,
   "outputs": [],
   "source": [
    "filters = [proj_cur, proj_oth, inf_curr, inf_oth]\n",
    "\n",
    "biases = [0] * len(filters)\n",
    "\n",
    "filters = np.stack(filters, axis=3)\n",
    "filters = np.reshape(filters, (kernel_size, kernel_size, 4, 4))"
   ],
   "metadata": {
    "collapsed": false,
    "pycharm": {
     "name": "#%%\n"
    }
   }
  },
  {
   "cell_type": "markdown",
   "source": [
    "---\n",
    "\n",
    "## Verify the policy output\n",
    "\n",
    "#### Policy layers"
   ],
   "metadata": {
    "collapsed": false,
    "pycharm": {
     "name": "#%% md\n"
    }
   }
  },
  {
   "cell_type": "code",
   "execution_count": 19,
   "outputs": [],
   "source": [
    "inf1 = tf.keras.layers.Conv2D(\n",
    "    filters=l_radial, kernel_size=kernel_size,\n",
    "    kernel_initializer=tf.constant_initializer(filters),\n",
    "    bias_initializer=tf.constant_initializer(biases),\n",
    "    activation=tf.nn.relu,\n",
    "    padding='same',\n",
    "    input_shape=(SIZE, SIZE, 4))"
   ],
   "metadata": {
    "collapsed": false,
    "pycharm": {
     "name": "#%%\n"
    }
   }
  },
  {
   "cell_type": "code",
   "execution_count": 20,
   "outputs": [],
   "source": [
    "agg = tf.keras.layers.Conv2D(\n",
    "    filters=1, kernel_size=1,\n",
    "    kernel_initializer=tf.constant_initializer([-10., -10., .6, .4]),\n",
    "    bias_initializer=tf.constant_initializer(0.),\n",
    "    activation=tf.nn.relu,\n",
    "    padding='same',\n",
    "    input_shape=(SIZE, SIZE, 4))"
   ],
   "metadata": {
    "collapsed": false,
    "pycharm": {
     "name": "#%%\n"
    }
   }
  },
  {
   "cell_type": "code",
   "execution_count": 21,
   "outputs": [],
   "source": [
    "samples = {\n",
    "    'b1c5d3e3e4f2c3d4': 'B6',\n",
    "    'b1c5d3e3e4f2c2d5': 'F5',\n",
    "}\n",
    "examine = 'E6G6'"
   ],
   "metadata": {
    "collapsed": false,
    "pycharm": {
     "name": "#%%\n"
    }
   }
  },
  {
   "cell_type": "code",
   "execution_count": 22,
   "outputs": [
    {
     "data": {
      "text/plain": "<Figure size 432x432 with 1 Axes>",
      "image/png": "[encoded data removed]"
     },
     "metadata": {
      "needs_background": "light"
     },
     "output_type": "display_data"
    }
   ],
   "source": [
    "stones = gt.string_to_stones(examine)\n",
    "board = GomokuBoard(n=SIZE, disp_width=6, stones=stones)\n",
    "board.display()"
   ],
   "metadata": {
    "collapsed": false,
    "pycharm": {
     "name": "#%%\n"
    }
   }
  },
  {
   "cell_type": "code",
   "execution_count": 23,
   "outputs": [
    {
     "name": "stdout",
     "output_type": "stream",
     "text": [
      "shape: (11, 11, 2)\n",
      "[[0. 0. 0. 0. 0. 0. 0. 0. 0. 0. 0.]\n",
      " [0. 0. 0. 0. 0. 0. 0. 0. 0. 0. 0.]\n",
      " [0. 0. 0. 0. 0. 0. 0. 0. 0. 0. 0.]\n",
      " [0. 0. 0. 0. 0. 0. 0. 0. 0. 0. 0.]\n",
      " [0. 0. 0. 0. 0. 0. 0. 0. 0. 0. 0.]\n",
      " [0. 0. 0. 0. 1. 0. 0. 0. 0. 0. 0.]\n",
      " [0. 0. 0. 0. 0. 0. 0. 0. 0. 0. 0.]\n",
      " [0. 0. 0. 0. 0. 0. 0. 0. 0. 0. 0.]\n",
      " [0. 0. 0. 0. 0. 0. 0. 0. 0. 0. 0.]\n",
      " [0. 0. 0. 0. 0. 0. 0. 0. 0. 0. 0.]\n",
      " [0. 0. 0. 0. 0. 0. 0. 0. 0. 0. 0.]]\n",
      "\n",
      "[[0. 0. 0. 0. 0. 0. 0. 0. 0. 0. 0.]\n",
      " [0. 0. 0. 0. 0. 0. 0. 0. 0. 0. 0.]\n",
      " [0. 0. 0. 0. 0. 0. 0. 0. 0. 0. 0.]\n",
      " [0. 0. 0. 0. 0. 0. 0. 0. 0. 0. 0.]\n",
      " [0. 0. 0. 0. 0. 0. 0. 0. 0. 0. 0.]\n",
      " [0. 0. 0. 0. 0. 0. 1. 0. 0. 0. 0.]\n",
      " [0. 0. 0. 0. 0. 0. 0. 0. 0. 0. 0.]\n",
      " [0. 0. 0. 0. 0. 0. 0. 0. 0. 0. 0.]\n",
      " [0. 0. 0. 0. 0. 0. 0. 0. 0. 0. 0.]\n",
      " [0. 0. 0. 0. 0. 0. 0. 0. 0. 0. 0.]\n",
      " [0. 0. 0. 0. 0. 0. 0. 0. 0. 0. 0.]]\n"
     ]
    }
   ],
   "source": [
    "sample = create_nxnx4(SIZE, stones)\n",
    "print_bin(sample[:, :, :2])"
   ],
   "metadata": {
    "collapsed": false,
    "pycharm": {
     "name": "#%%\n"
    }
   }
  },
  {
   "cell_type": "code",
   "execution_count": 24,
   "outputs": [
    {
     "data": {
      "text/plain": "TensorShape([11, 11, 4])"
     },
     "execution_count": 24,
     "metadata": {},
     "output_type": "execute_result"
    }
   ],
   "source": [
    "sample = np.reshape(sample, [-1, SIZE, SIZE, 4])\n",
    "res = inf1(sample)[0]\n",
    "res.shape"
   ],
   "metadata": {
    "collapsed": false,
    "pycharm": {
     "name": "#%%\n"
    }
   }
  },
  {
   "cell_type": "code",
   "execution_count": 25,
   "outputs": [
    {
     "name": "stdout",
     "output_type": "stream",
     "text": [
      "[[0. 0. 0. 0. 0. 0. 0. 0. 0. 0. 0.]\n",
      " [0. 0. 0. 0. 0. 0. 0. 0. 0. 0. 0.]\n",
      " [0. 0. 0. 0. 0. 0. 0. 0. 0. 0. 0.]\n",
      " [0. 0. 0. 0. 0. 0. 0. 0. 0. 0. 0.]\n",
      " [0. 0. 0. 0. 0. 0. 0. 0. 0. 0. 0.]\n",
      " [0. 0. 0. 0. 1. 0. 0. 0. 0. 0. 0.]\n",
      " [0. 0. 0. 0. 0. 0. 0. 0. 0. 0. 0.]\n",
      " [0. 0. 0. 0. 0. 0. 0. 0. 0. 0. 0.]\n",
      " [0. 0. 0. 0. 0. 0. 0. 0. 0. 0. 0.]\n",
      " [0. 0. 0. 0. 0. 0. 0. 0. 0. 0. 0.]\n",
      " [0. 0. 0. 0. 0. 0. 0. 0. 0. 0. 0.]]\n",
      "\n",
      "[[0. 0. 0. 0. 0. 0. 0. 0. 0. 0. 0.]\n",
      " [0. 0. 0. 0. 0. 0. 0. 0. 0. 0. 0.]\n",
      " [0. 0. 0. 0. 0. 0. 0. 0. 0. 0. 0.]\n",
      " [0. 0. 0. 0. 0. 0. 0. 0. 0. 0. 0.]\n",
      " [0. 0. 0. 0. 0. 0. 0. 0. 0. 0. 0.]\n",
      " [0. 0. 0. 0. 0. 0. 1. 0. 0. 0. 0.]\n",
      " [0. 0. 0. 0. 0. 0. 0. 0. 0. 0. 0.]\n",
      " [0. 0. 0. 0. 0. 0. 0. 0. 0. 0. 0.]\n",
      " [0. 0. 0. 0. 0. 0. 0. 0. 0. 0. 0.]\n",
      " [0. 0. 0. 0. 0. 0. 0. 0. 0. 0. 0.]\n",
      " [0. 0. 0. 0. 0. 0. 0. 0. 0. 0. 0.]]\n",
      "\n",
      "[[0.     0.     0.     0.     0.     0.     0.     0.     0.     0.\n",
      "  0.    ]\n",
      " [0.0625 0.     0.     0.     0.0625 0.     0.     0.     0.0625 0.\n",
      "  0.    ]\n",
      " [0.     0.125  0.     0.     0.125  0.     0.     0.125  0.     0.\n",
      "  0.    ]\n",
      " [0.     0.     0.25   0.     0.     0.     0.     0.     0.     0.\n",
      "  0.    ]\n",
      " [0.     0.     0.     0.5    0.5    0.     0.     0.     0.     0.\n",
      "  0.    ]\n",
      " [0.0625 0.125  0.1875 0.375  0.     0.     0.     0.     0.     0.\n",
      "  0.    ]\n",
      " [0.     0.     0.     0.5    0.5    0.     0.     0.     0.     0.\n",
      "  0.    ]\n",
      " [0.     0.     0.25   0.     0.     0.     0.     0.     0.     0.\n",
      "  0.    ]\n",
      " [0.     0.125  0.     0.     0.125  0.     0.     0.125  0.     0.\n",
      "  0.    ]\n",
      " [0.0625 0.     0.     0.     0.0625 0.     0.     0.     0.0625 0.\n",
      "  0.    ]\n",
      " [0.     0.     0.     0.     0.     0.     0.     0.     0.     0.\n",
      "  0.    ]]\n",
      "\n",
      "[[0.     0.     0.     0.     0.     0.     0.     0.     0.     0.\n",
      "  0.    ]\n",
      " [0.     0.     0.0625 0.     0.     0.     0.0625 0.     0.     0.\n",
      "  0.0625]\n",
      " [0.     0.     0.     0.125  0.     0.     0.125  0.     0.     0.125\n",
      "  0.    ]\n",
      " [0.     0.     0.     0.     0.     0.     0.     0.     0.25   0.\n",
      "  0.    ]\n",
      " [0.     0.     0.     0.     0.     0.     0.5    0.5    0.     0.\n",
      "  0.    ]\n",
      " [0.     0.     0.     0.     0.     0.     0.     0.375  0.1875 0.125\n",
      "  0.0625]\n",
      " [0.     0.     0.     0.     0.     0.     0.5    0.5    0.     0.\n",
      "  0.    ]\n",
      " [0.     0.     0.     0.     0.     0.     0.     0.     0.25   0.\n",
      "  0.    ]\n",
      " [0.     0.     0.     0.125  0.     0.     0.125  0.     0.     0.125\n",
      "  0.    ]\n",
      " [0.     0.     0.0625 0.     0.     0.     0.0625 0.     0.     0.\n",
      "  0.0625]\n",
      " [0.     0.     0.     0.     0.     0.     0.     0.     0.     0.\n",
      "  0.    ]]\n",
      "\n"
     ]
    }
   ],
   "source": [
    "for i in range(4):\n",
    "    print(np.squeeze(res[:, :, i]))\n",
    "    print()"
   ],
   "metadata": {
    "collapsed": false,
    "pycharm": {
     "name": "#%%\n"
    }
   }
  },
  {
   "cell_type": "code",
   "execution_count": 26,
   "outputs": [
    {
     "name": "stdout",
     "output_type": "stream",
     "text": [
      "[[0.    0.    0.    0.    0.    0.    0.    0.    0.    0.    0.   ]\n",
      " [0.038 0.    0.025 0.    0.038 0.    0.025 0.    0.038 0.    0.025]\n",
      " [0.    0.075 0.    0.05  0.075 0.    0.05  0.075 0.    0.05  0.   ]\n",
      " [0.    0.    0.15  0.    0.    0.    0.    0.    0.1   0.    0.   ]\n",
      " [0.    0.    0.    0.3   0.3   0.    0.2   0.2   0.    0.    0.   ]\n",
      " [0.038 0.075 0.113 0.225 0.    0.    0.    0.15  0.075 0.05  0.025]\n",
      " [0.    0.    0.    0.3   0.3   0.    0.2   0.2   0.    0.    0.   ]\n",
      " [0.    0.    0.15  0.    0.    0.    0.    0.    0.1   0.    0.   ]\n",
      " [0.    0.075 0.    0.05  0.075 0.    0.05  0.075 0.    0.05  0.   ]\n",
      " [0.038 0.    0.025 0.    0.038 0.    0.025 0.    0.038 0.    0.025]\n",
      " [0.    0.    0.    0.    0.    0.    0.    0.    0.    0.    0.   ]]\n"
     ]
    }
   ],
   "source": [
    "res = agg(inf1(sample))\n",
    "print(np.squeeze(res[0,:,:,0].numpy().round(3)))"
   ],
   "metadata": {
    "collapsed": false,
    "pycharm": {
     "name": "#%%\n"
    }
   }
  },
  {
   "cell_type": "code",
   "execution_count": 27,
   "outputs": [],
   "source": [
    "res = agg(inf1(inf1(sample)))\n",
    "r_max = tf.math.reduce_max(res)\n",
    "res = tf.nn.relu(res - r_max * .8)"
   ],
   "metadata": {
    "collapsed": false,
    "pycharm": {
     "name": "#%%\n"
    }
   }
  },
  {
   "cell_type": "code",
   "execution_count": 28,
   "outputs": [],
   "source": [
    "def vis(tensor):\n",
    "    npa = np.squeeze(tensor[0,:,:,0].numpy())\n",
    "    print((npa*99).astype(int))"
   ],
   "metadata": {
    "collapsed": false,
    "pycharm": {
     "name": "#%%\n"
    }
   }
  },
  {
   "cell_type": "code",
   "execution_count": 29,
   "outputs": [
    {
     "name": "stdout",
     "output_type": "stream",
     "text": [
      "[[ 0  0  0  0  0  0  0  0  0  0  0]\n",
      " [ 0  0  0  0  0  0  0  0  0  0  0]\n",
      " [ 0  0  0  0  0  0  0  0  0  0  0]\n",
      " [ 0  0  0  0  0  0  0  0  0  0  0]\n",
      " [ 0  0  0  0  0  0  0  9  0  0  0]\n",
      " [ 0  0  0  0  0  0  0 13  0  0  0]\n",
      " [ 0  0  0  0  0  0  0  9  0  0  0]\n",
      " [ 0  0  0  0  0  0  0  0  0  0  0]\n",
      " [ 0  0  0  0  0  0  0  0  0  0  0]\n",
      " [ 0  0  0  0  0  0  0  0  0  0  0]\n",
      " [ 0  0  0  0  0  0  0  0  0  0  0]]\n"
     ]
    }
   ],
   "source": [
    "vis(res)"
   ],
   "metadata": {
    "collapsed": false,
    "pycharm": {
     "name": "#%%\n"
    }
   }
  },
  {
   "cell_type": "markdown",
   "source": [
    "---\n",
    "\n",
    "#### Find the strongest recommendations within a range of the absolut strongest recommendation"
   ],
   "metadata": {
    "collapsed": false,
    "pycharm": {
     "name": "#%% md\n"
    }
   }
  },
  {
   "cell_type": "code",
   "execution_count": 30,
   "outputs": [
    {
     "name": "stdout",
     "output_type": "stream",
     "text": [
      "[('H', 6), ('H', 6), ('H', 6), ('H', 6), ('H', 6), ('H', 6), ('H', 5), ('H', 6), ('H', 6), ('H', 6), ('H', 6), ('G', 11), ('H', 7), ('H', 5), ('H', 5), ('H', 6), ('H', 6), ('H', 7), ('H', 5), ('H', 6), ('H', 6), ('H', 6), ('J', 5), ('G', 8), ('H', 6), ('H', 6), ('H', 6), ('H', 6), ('H', 6), ('H', 6), ('H', 6), ('H', 6), ('H', 6), ('K', 1), ('H', 6), ('H', 6), ('H', 5), ('H', 6), ('H', 6), ('H', 6), ('H', 6), ('H', 6), ('D', 6), ('H', 6), ('H', 6), ('H', 6), ('H', 7), ('H', 6), ('H', 6), ('H', 5), ('H', 7), ('H', 6), ('I', 3), ('F', 10), ('H', 6), ('H', 6), ('H', 5), ('H', 6), ('B', 4), ('H', 7), ('H', 6), ('H', 5), ('H', 6), ('H', 6), ('H', 5), ('H', 6), ('H', 6), ('H', 7), ('H', 6), ('K', 10), ('H', 6), ('H', 5), ('H', 6), ('H', 6), ('H', 7), ('H', 7), ('H', 6), ('H', 6), ('H', 7), ('H', 6), ('H', 6), ('H', 6), ('H', 6), ('H', 6), ('H', 6), ('H', 5), ('H', 5), ('H', 6), ('H', 6), ('A', 1), ('H', 6), ('H', 6), ('H', 7), ('I', 3), ('H', 7), ('H', 6), ('F', 1), ('H', 6), ('H', 6), ('H', 6)]\n"
     ]
    }
   ],
   "source": [
    "choices = tf.nn.softmax(tf.reshape(res, (SIZE*SIZE))*50).numpy()\n",
    "elements = range(SIZE*SIZE)\n",
    "probabilities = choices\n",
    "actions = [\n",
    "    gt.m2b(divmod(field, SIZE), SIZE)\n",
    "    for field in np.random.choice(elements, 100, p=probabilities)]\n",
    "actions = [ (chr(64+c), r) for c, r in actions]\n",
    "print(actions)"
   ],
   "metadata": {
    "collapsed": false,
    "pycharm": {
     "name": "#%%\n"
    }
   }
  },
  {
   "cell_type": "markdown",
   "source": [
    "# Self Play!"
   ],
   "metadata": {
    "collapsed": false,
    "pycharm": {
     "name": "#%% md\n"
    }
   }
  },
  {
   "cell_type": "code",
   "execution_count": 31,
   "outputs": [],
   "source": [
    "SIZE=15\n",
    "examine = 'H8'"
   ],
   "metadata": {
    "collapsed": false,
    "pycharm": {
     "name": "#%%\n"
    }
   }
  },
  {
   "cell_type": "code",
   "execution_count": 36,
   "outputs": [
    {
     "data": {
      "text/plain": "<Figure size 576x576 with 1 Axes>",
      "image/png": "[encoded data removed]"
     },
     "metadata": {
      "needs_background": "light"
     },
     "output_type": "display_data"
    }
   ],
   "source": [
    "from domoku.constants import BLACK\n",
    "\n",
    "stones = gt.string_to_stones(examine)\n",
    "board = GomokuBoard(n=15, disp_width=8, stones=stones)\n",
    "sample = create_nxnx4(SIZE, stones)\n",
    "params = MaxInfluencePolicyParams(\n",
    "    n=15,\n",
    "    sigma=.4,\n",
    "    iota=8,\n",
    "    radial_constr = [.0625, .125, .25, .5],\n",
    "    radial_obstr = [-.0625, -.125, -.25, -.5]\n",
    ")\n",
    "soft_policy = MaxInfluencePolicy(params, pov=BLACK)\n",
    "\n",
    "#board.display()\n",
    "#vis(soft_policy(sample))\n",
    "move = np.squeeze(soft_policy.sample(sample))\n",
    "#print(f\"Next move: {move}\")\n",
    "for _ in range(40):\n",
    "    move = gt.m2b(move, 15)\n",
    "    #print(f\"Next Move: {move}\")\n",
    "    board.set(*move)\n",
    "    sample = create_nxnx4(SIZE, board.stones)\n",
    "    #board.display()\n",
    "    #vis(policy(sample))\n",
    "    move = np.squeeze(soft_policy.sample(sample))\n",
    "    #print(f\"Next move: {move}\")\n",
    "board.display()"
   ],
   "metadata": {
    "collapsed": false,
    "pycharm": {
     "name": "#%%\n"
    }
   }
  },
  {
   "cell_type": "code",
   "execution_count": null,
   "outputs": [],
   "source": [],
   "metadata": {
    "collapsed": false,
    "pycharm": {
     "name": "#%%\n"
    }
   }
  }
 ],
 "metadata": {
  "kernelspec": {
   "display_name": "Python 3",
   "language": "python",
   "name": "python3"
  },
  "language_info": {
   "codemirror_mode": {
    "name": "ipython",
    "version": 2
   },
   "file_extension": ".py",
   "mimetype": "text/x-python",
   "name": "python",
   "nbconvert_exporter": "python",
   "pygments_lexer": "ipython2",
   "version": "2.7.6"
  }
 },
 "nbformat": 4,
 "nbformat_minor": 0
}