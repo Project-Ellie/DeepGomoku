{
 "cells": [
  {
   "cell_type": "markdown",
   "source": [
    "# Train the contender on self-play episodes of the champion"
   ],
   "metadata": {
    "collapsed": false,
    "pycharm": {
     "name": "#%% md\n"
    }
   }
  },
  {
   "cell_type": "code",
   "execution_count": 1,
   "outputs": [],
   "source": [
    "%load_ext autoreload\n",
    "%autoreload 2"
   ],
   "metadata": {
    "collapsed": false,
    "pycharm": {
     "name": "#%%\n"
    }
   }
  },
  {
   "cell_type": "code",
   "execution_count": 2,
   "outputs": [],
   "source": [
    "from alphazero.mcts import MCTS\n",
    "from alphazero.coach import Coach\n",
    "from alphazero.gomoku_game import GomokuGame as Gomoku, initial_stones\n",
    "from alphazero.interfaces import TrainParams\n",
    "from domoku.policies.heuristic_policy import HeuristicPolicy\n",
    "from alphazero.gomoku_model import NeuralNetAdapter\n",
    "from alphazero.gomoku_board import GomokuBoard\n",
    "from domoku import tools as gt"
   ],
   "metadata": {
    "collapsed": false,
    "pycharm": {
     "name": "#%%\n"
    }
   }
  },
  {
   "cell_type": "code",
   "execution_count": 3,
   "outputs": [],
   "source": [
    "BOARD_SIZE = 15"
   ],
   "metadata": {
    "collapsed": false,
    "pycharm": {
     "name": "#%%\n"
    }
   }
  },
  {
   "cell_type": "code",
   "execution_count": 4,
   "outputs": [
    {
     "name": "stderr",
     "output_type": "stream",
     "text": [
      "2022-07-13 16:31:05.958601: I tensorflow/core/platform/cpu_feature_guard.cc:193] This TensorFlow binary is optimized with oneAPI Deep Neural Network Library (oneDNN) to use the following CPU instructions in performance-critical operations:  AVX2 FMA\n",
      "To enable them in other operations, rebuild TensorFlow with the appropriate compiler flags.\n",
      "/Users/wgiersche/.local/share/virtualenvs/DeepGomoku-cXtJ_EtM/lib/python3.10/site-packages/numpy/core/fromnumeric.py:2007: VisibleDeprecationWarning: Creating an ndarray from ragged nested sequences (which is a list-or-tuple of lists-or-tuples-or ndarrays with different lengths or shapes) is deprecated. If you meant to do this, you must specify 'dtype=object' when creating the ndarray.\n",
      "  result = asarray(a).shape\n"
     ]
    }
   ],
   "source": [
    "detector = HeuristicPolicy(BOARD_SIZE, cut_off=.1)\n",
    "game = Gomoku(BOARD_SIZE, detector=detector, initial=initial_stones(BOARD_SIZE, 4))"
   ],
   "metadata": {
    "collapsed": false,
    "pycharm": {
     "name": "#%%\n"
    }
   }
  },
  {
   "cell_type": "markdown",
   "source": [
    "----"
   ],
   "metadata": {
    "collapsed": false,
    "pycharm": {
     "name": "#%% md\n"
    }
   }
  },
  {
   "cell_type": "code",
   "execution_count": 5,
   "outputs": [],
   "source": [
    "policy = HeuristicPolicy(BOARD_SIZE, cut_off=.1)\n",
    "mcts = MCTS(game, policy, cpuct=1.0, num_simulations=100, model_threshold=.4)"
   ],
   "metadata": {
    "collapsed": false,
    "pycharm": {
     "name": "#%%\n"
    }
   }
  },
  {
   "cell_type": "code",
   "execution_count": 6,
   "outputs": [
    {
     "name": "stdout",
     "output_type": "stream",
     "text": [
      "L4 D7 G5 D10 (Black next)\n",
      "L4 D7 G5 D10 D8 (White next)\n",
      "L4 D7 G5 D10 D8 E7 (Black next)\n",
      "L4 D7 G5 D10 D8 E7 F7 (White next)\n",
      "L4 D7 G5 D10 D8 E7 F7 G3 (Black next)\n",
      "... D7 G5 D10 D8 E7 F7 G3 H5 (White next)\n",
      "... G5 D10 D8 E7 F7 G3 H5 I4 (Black next)\n",
      "... D10 D8 E7 F7 G3 H5 I4 I5 (White next)\n",
      "... D8 E7 F7 G3 H5 I4 I5 F5 (Black next)\n",
      "... E7 F7 G3 H5 I4 I5 F5 C8 (White next)\n",
      "... F7 G3 H5 I4 I5 F5 C8 B8 (Black next)\n",
      "... G3 H5 I4 I5 F5 C8 B8 C9 (White next)\n",
      "... H5 I4 I5 F5 C8 B8 C9 J5 (Black next)\n",
      "... I4 I5 F5 C8 B8 C9 J5 C7 (White next)\n",
      "... I5 F5 C8 B8 C9 J5 C7 C10 (Black next)\n",
      "... F5 C8 B8 C9 J5 C7 C10 E9 (White next)\n",
      "... C8 B8 C9 J5 C7 C10 E9 F10 (Black next)\n",
      "... B8 C9 J5 C7 C10 E9 F10 E10 (White next)\n",
      "... C9 J5 C7 C10 E9 F10 E10 H3 (Black next)\n",
      "... J5 C7 C10 E9 F10 E10 H3 K6 (White next)\n",
      "... C7 C10 E9 F10 E10 H3 K6 F3 (Black next)\n",
      "... C10 E9 F10 E10 H3 K6 F3 I3 (White next)\n",
      "... E9 F10 E10 H3 K6 F3 I3 F4 (Black next)\n",
      "... F10 E10 H3 K6 F3 I3 F4 F2 (White next)\n",
      "... E10 H3 K6 F3 I3 F4 F2 G4 (Black next)\n",
      "... H3 K6 F3 I3 F4 F2 G4 E6 (White next)\n",
      "... K6 F3 I3 F4 F2 G4 E6 H4 (Black next)\n",
      "... F3 I3 F4 F2 G4 E6 H4 J4 (White next)\n",
      "... I3 F4 F2 G4 E6 H4 J4 E4 (Black next)\n",
      "The winner is 1\n",
      "                                                     \n",
      "15    .  .  .  .  .  .  .  .  .  .  .  .  .  .  .    \n",
      "14    .  .  .  .  .  .  .  .  .  .  .  .  .  .  .    \n",
      "13    .  .  .  .  .  .  .  .  .  .  .  .  .  .  .    \n",
      "12    .  .  .  .  .  .  .  .  .  .  .  .  .  .  .    \n",
      "11    .  .  .  .  .  .  .  .  .  .  .  .  .  .  .    \n",
      "10    .  .  O  O  X  O  .  .  .  .  .  .  .  .  .    \n",
      " 9    .  .  X  .  X  .  .  .  .  .  .  .  .  .  .    \n",
      " 8    .  O  X  X  .  .  .  .  .  .  .  .  .  .  .    \n",
      " 7    .  .  X  O  O  X  .  .  .  .  .  .  .  .  .    \n",
      " 6    .  .  .  .  X  .  .  .  .  .  X  .  .  .  .    \n",
      " 5    .  .  .  .  .  O  X  X  X  O  .  .  .  .  .    \n",
      " 4    .  .  .  . [O] O  O  O  O  X  .  X  .  .  .    \n",
      " 3    .  .  .  .  .  O  O  O  X  .  .  .  .  .  .    \n",
      " 2    .  .  .  .  .  X  .  .  .  .  .  .  .  .  .    \n",
      " 1    .  .  .  .  .  .  .  .  .  .  .  .  .  .  .    \n",
      "                                                     \n",
      "      A  B  C  D  E  F  G  H  I  J  K  L  M  N  O\n"
     ]
    }
   ],
   "source": [
    "board = game.get_initial_board()  # random start positions, sometimes unfair, but so what?\n",
    "print(board)\n",
    "import numpy as np\n",
    "\n",
    "# Two mood versions of the champion playing against each other = less draws\n",
    "# These settings may change over the training period, once opponents get stronger.\n",
    "temperatures = [0.6, 0]  # more tight vs more explorative\n",
    "\n",
    "episode_step = 0\n",
    "train_examples = []\n",
    "done = policy.get_winner(board.canonical_representation())\n",
    "while done is None:\n",
    "    episode_step += 1\n",
    "    t = temperatures[episode_step % 2]\n",
    "    pi = mcts.get_action_prob(board, temperature=t)\n",
    "    action = np.random.choice(len(pi), p=pi)\n",
    "    board.act(action)\n",
    "    print(board)\n",
    "    done = policy.get_winner(board.canonical_representation())\n",
    "\n",
    "# The player who made the last move, is the winner.\n",
    "print (f\"The winner is {1-board.get_current_player()}\")\n",
    "board.plot()"
   ],
   "metadata": {
    "collapsed": false,
    "pycharm": {
     "name": "#%%\n"
    }
   }
  },
  {
   "cell_type": "code",
   "execution_count": 7,
   "outputs": [
    {
     "data": {
      "text/plain": "<Figure size 576x576 with 1 Axes>",
      "image/png": "[encoded data removed]"
     },
     "metadata": {
      "needs_background": "light"
     },
     "output_type": "display_data"
    }
   ],
   "source": [
    "from copy import deepcopy\n",
    "from domoku.board import GomokuBoard as LegacyBoard\n",
    "board = deepcopy(board)\n",
    "stones = board.stones[:-1]\n",
    "stones = \"\".join([str(stone) for stone in stones])\n",
    "board_t = LegacyBoard(n=BOARD_SIZE, disp_width=8, stones=stones, heuristics=policy)\n",
    "board_t.display()"
   ],
   "metadata": {
    "collapsed": false,
    "pycharm": {
     "name": "#%%\n"
    }
   }
  },
  {
   "cell_type": "markdown",
   "source": [
    "---"
   ],
   "metadata": {
    "collapsed": false,
    "pycharm": {
     "name": "#%% md\n"
    }
   }
  },
  {
   "cell_type": "markdown",
   "source": [
    "### For reference: The policy's opinion about that board state"
   ],
   "metadata": {
    "collapsed": false,
    "pycharm": {
     "name": "#%% md\n"
    }
   }
  },
  {
   "cell_type": "code",
   "execution_count": 8,
   "outputs": [
    {
     "name": "stdout",
     "output_type": "stream",
     "text": [
      "[[  0   0   0   0   0   0   0   0   0   0   0   0   0   0   0]\n",
      " [  0   0   0   0   0   0   0   0   0   0   0   0   0   0   0]\n",
      " [  0   0   0   0   0   0   0   0   0   0   0   0   0   0   0]\n",
      " [  0   0   0   0   1   0   0   0   0   0   0   0   0   0   0]\n",
      " [  0   0   0   0   0   1   0   0   0   0   0   0   0   0   0]\n",
      " [  0   0   0   0   0   0   0   0   0   0   0   0   0   0   0]\n",
      " [  0   1   0   4   0   2   0   2   0   0   0   0   0   0   0]\n",
      " [  0   0   0   0   0   0   2   0   0   0   0   0   0   0   0]\n",
      " [  0   1   0   0   0   0   1   1   0   0   0   0   0   0   0]\n",
      " [  0   2   3   0   0   0   1   1   0   0   0   1   0   0   0]\n",
      " [  0   0   1   2   2   0   0   0   0   0   2   0   0   0   0]\n",
      " [  0   0   1   0 905   0   0   0   0   0   0   0   0   0   0]\n",
      " [  0   0   0   3   2   0   0   0   0   0   2   0   0   0   0]\n",
      " [  0   0   0   0   0   0   3   1   2   0   0   1   0   0   0]\n",
      " [  0   0   0   0   0   1   0   0   0   1   0   0   0   0   0]]\n",
      "Value: 0.9173556091744349\n"
     ]
    }
   ],
   "source": [
    "board = GomokuBoard(BOARD_SIZE, stones)\n",
    "pi, v = policy(board.canonical_representation())\n",
    "print((np.array(pi)*1000).astype(int))\n",
    "print(f\"Value: {v}\")"
   ],
   "metadata": {
    "collapsed": false,
    "pycharm": {
     "name": "#%%\n"
    }
   }
  },
  {
   "cell_type": "markdown",
   "source": [
    "---"
   ],
   "metadata": {
    "collapsed": false,
    "pycharm": {
     "name": "#%% md\n"
    }
   }
  },
  {
   "cell_type": "markdown",
   "source": [
    "### The search tree has a similar yet more ascertive opinion\n",
    "The action counts will inform the next policy and the $max(Q_a)$ may inform the value function."
   ],
   "metadata": {
    "collapsed": false,
    "pycharm": {
     "name": "#%% md\n"
    }
   }
  },
  {
   "cell_type": "markdown",
   "source": [
    "In most cases, the softmax will agree with the move actually taken, only if the chances are somewhat equally distributed, will the softmax also allow for a choice."
   ],
   "metadata": {
    "collapsed": false,
    "pycharm": {
     "name": "#%% md\n"
    }
   }
  },
  {
   "cell_type": "code",
   "execution_count": 9,
   "outputs": [
    {
     "name": "stdout",
     "output_type": "stream",
     "text": [
      "[[  0   0   0   0   0   0   0   0   0   0   0   0   0   0   0]\n",
      " [  0   0   0   0   0   0   0   0   0   0   0   0   0   0   0]\n",
      " [  0   0   0   0   0   0   0   0   0   0   0   0   0   0   0]\n",
      " [  0   0   0   0   0   0   0   0   0   0   0   0   0   0   0]\n",
      " [  0   0   0   0   0   0   0   0   0   0   0   0   0   0   0]\n",
      " [  0   0   0   0   0   0   0   0   0   0   0   0   0   0   0]\n",
      " [  0   0   0   0   0   0   0   0   0   0   0   0   0   0   0]\n",
      " [  0   0   0   0   0   0   0   0   0   0   0   0   0   0   0]\n",
      " [  0   0   0   0   0   0   0   0   0   0   0   0   0   0   0]\n",
      " [  0   0   0   0   0   0   0   0   0   0   0   0   0   0   0]\n",
      " [  0   0   0   0   0   0   0   0   0   0   0   0   0   0   0]\n",
      " [  0   0   0   0 100   0   0   0   0   0   0   0   0   0   0]\n",
      " [  0   0   0   0   0   0   0   0   0   0   0   0   0   0   0]\n",
      " [  0   0   0   0   0   0   0   0   0   0   0   0   0   0   0]\n",
      " [  0   0   0   0   0   0   0   0   0   0   0   0   0   0   0]]\n",
      "\n",
      "Value from max(Q): 1.0\n"
     ]
    }
   ],
   "source": [
    "key = board.get_string_representation()\n",
    "probs = mcts.compute_probs(board, temperature=1.0)\n",
    "probs = np.array(probs).reshape([BOARD_SIZE, BOARD_SIZE])\n",
    "print((probs*100).astype(int))\n",
    "q_advice = [mcts.Q.get((key, i), -float('inf')) for i in range(225)]\n",
    "print()\n",
    "print(f\"Value from max(Q): {np.max(q_advice)}\")"
   ],
   "metadata": {
    "collapsed": false,
    "pycharm": {
     "name": "#%%\n"
    }
   }
  },
  {
   "cell_type": "markdown",
   "source": [
    "# Symmetries"
   ],
   "metadata": {
    "collapsed": false,
    "pycharm": {
     "name": "#%% md\n"
    }
   }
  },
  {
   "cell_type": "code",
   "execution_count": 10,
   "outputs": [
    {
     "data": {
      "text/plain": "(17, 17, 3)"
     },
     "execution_count": 10,
     "metadata": {},
     "output_type": "execute_result"
    }
   ],
   "source": [
    "math_rep = board.canonical_representation()\n",
    "symmetries = game.get_symmetries(math_rep, probs)\n",
    "symmetries[0][0].shape"
   ],
   "metadata": {
    "collapsed": false,
    "pycharm": {
     "name": "#%%\n"
    }
   }
  },
  {
   "cell_type": "markdown",
   "source": [
    "We see the board diagonally flipped"
   ],
   "metadata": {
    "collapsed": false,
    "pycharm": {
     "name": "#%% md\n"
    }
   }
  },
  {
   "cell_type": "code",
   "execution_count": 11,
   "outputs": [
    {
     "name": "stdout",
     "output_type": "stream",
     "text": [
      "shape: (17, 17, 3)\n",
      "[[3 3 3 3 3 3 3 3 3 3 3 3 3 3 3 3 3]\n",
      " [3 0 0 0 0 0 0 0 0 0 0 0 0 0 0 0 3]\n",
      " [3 0 0 0 0 0 0 0 0 0 0 0 0 0 0 0 3]\n",
      " [3 0 0 0 0 0 0 0 0 0 0 0 0 0 0 0 3]\n",
      " [3 0 0 0 2 0 0 0 0 0 0 0 0 0 0 0 3]\n",
      " [3 0 0 0 0 0 2 0 0 0 0 0 0 0 0 0 3]\n",
      " [3 0 0 0 2 1 0 0 0 0 0 0 0 0 0 0 3]\n",
      " [3 0 0 2 1 2 0 0 0 0 0 0 0 0 0 0 3]\n",
      " [3 0 0 1 1 2 0 0 0 0 0 0 0 0 0 0 3]\n",
      " [3 0 0 1 1 2 0 0 0 0 0 0 0 0 0 0 3]\n",
      " [3 0 2 1 1 1 0 2 0 0 1 0 0 0 0 0 3]\n",
      " [3 0 0 0 0 0 2 1 0 2 2 0 0 0 0 0 3]\n",
      " [3 0 0 0 0 0 0 1 2 0 1 0 0 0 0 0 3]\n",
      " [3 0 0 0 0 0 0 2 2 2 1 0 0 0 0 0 3]\n",
      " [3 0 0 0 0 0 0 0 1 0 0 0 0 0 0 0 3]\n",
      " [3 0 0 0 0 0 0 0 0 0 0 0 0 0 0 0 3]\n",
      " [3 3 3 3 3 3 3 3 3 3 3 3 3 3 3 3 3]]\n"
     ]
    }
   ],
   "source": [
    "gt.print_channels(symmetries[0][0])"
   ],
   "metadata": {
    "collapsed": false,
    "pycharm": {
     "name": "#%%\n"
    }
   }
  },
  {
   "cell_type": "code",
   "execution_count": 12,
   "outputs": [
    {
     "name": "stdout",
     "output_type": "stream",
     "text": [
      "[[  0   0   0   0   0   0   0   0   0   0   0   0   0   0   0]\n",
      " [  0   0   0   0   0   0   0   0   0   0   0   0   0   0   0]\n",
      " [  0   0   0   0   0   0   0   0   0   0   0   0   0   0   0]\n",
      " [  0   0   0   0   0   0   0   0   0   0   0   0   0   0   0]\n",
      " [  0   0   0   0   0   0   0   0   0   0   0   0   0   0   0]\n",
      " [  0   0   0   0   0   0   0   0   0   0   0   0   0   0   0]\n",
      " [  0   0   0   0   0   0   0   0   0   0   0   0   0   0   0]\n",
      " [  0   0   0   0   0   0   0   0   0   0   0   0   0   0   0]\n",
      " [  0   0   0   0   0   0   0   0   0   0   0   0   0   0   0]\n",
      " [  0   0   0   0   0   0   0   0   0   0   0   0   0   0   0]\n",
      " [  0   0   0 100   0   0   0   0   0   0   0   0   0   0   0]\n",
      " [  0   0   0   0   0   0   0   0   0   0   0   0   0   0   0]\n",
      " [  0   0   0   0   0   0   0   0   0   0   0   0   0   0   0]\n",
      " [  0   0   0   0   0   0   0   0   0   0   0   0   0   0   0]\n",
      " [  0   0   0   0   0   0   0   0   0   0   0   0   0   0   0]]\n",
      "\n"
     ]
    }
   ],
   "source": [
    "for i in range(1):\n",
    "    print((np.array(symmetries[i][1]).reshape(15, 15) * 100).astype(int))\n",
    "    print()"
   ],
   "metadata": {
    "collapsed": false,
    "pycharm": {
     "name": "#%%\n"
    }
   }
  },
  {
   "cell_type": "code",
   "execution_count": null,
   "outputs": [],
   "source": [],
   "metadata": {
    "collapsed": false,
    "pycharm": {
     "name": "#%%\n"
    }
   }
  },
  {
   "cell_type": "code",
   "execution_count": null,
   "outputs": [],
   "source": [],
   "metadata": {
    "collapsed": false,
    "pycharm": {
     "name": "#%%\n"
    }
   }
  },
  {
   "cell_type": "code",
   "execution_count": null,
   "outputs": [],
   "source": [],
   "metadata": {
    "collapsed": false,
    "pycharm": {
     "name": "#%%\n"
    }
   }
  },
  {
   "cell_type": "code",
   "execution_count": null,
   "outputs": [],
   "source": [],
   "metadata": {
    "collapsed": false,
    "pycharm": {
     "name": "#%%\n"
    }
   }
  },
  {
   "cell_type": "markdown",
   "source": [
    "---"
   ],
   "metadata": {
    "collapsed": false,
    "pycharm": {
     "name": "#%% md\n"
    }
   }
  },
  {
   "cell_type": "markdown",
   "source": [
    "# Training\n",
    "\n",
    "Would be nice to see the training converge (and overfit) with a single episode in its 8 symmetries, and validate the overfitted against a board with all stones shifted. We'd expect only minor differences due to the different border influence, but otherwise the conv-only network naturally features translation symmetry."
   ],
   "metadata": {
    "collapsed": false,
    "pycharm": {
     "name": "#%% md\n"
    }
   }
  },
  {
   "cell_type": "code",
   "execution_count": 13,
   "outputs": [
    {
     "name": "stderr",
     "output_type": "stream",
     "text": [
      "/Users/wgiersche/.local/share/virtualenvs/DeepGomoku-cXtJ_EtM/lib/python3.10/site-packages/numpy/core/fromnumeric.py:2007: VisibleDeprecationWarning: Creating an ndarray from ragged nested sequences (which is a list-or-tuple of lists-or-tuples-or ndarrays with different lengths or shapes) is deprecated. If you meant to do this, you must specify 'dtype=object' when creating the ndarray.\n",
      "  result = asarray(a).shape\n"
     ]
    }
   ],
   "source": [
    "detector = HeuristicPolicy(BOARD_SIZE, cut_off=.1)\n",
    "game = Gomoku(BOARD_SIZE, detector=detector, initial=initial_stones(BOARD_SIZE, 4))"
   ],
   "metadata": {
    "collapsed": false,
    "pycharm": {
     "name": "#%%\n"
    }
   }
  },
  {
   "cell_type": "code",
   "execution_count": 51,
   "outputs": [],
   "source": [
    "params = TrainParams(\n",
    "    epochs_per_train=200,\n",
    "    update_threshold=0.6,\n",
    "    max_queue_length=8192,    # Number of game examples to keep to train the neural networks.\n",
    "    num_simulations=25,\n",
    "    arena_compare=2,         # Number of games to play during arena play to evaluate new network.\n",
    "    cpuct=1.0,\n",
    "    checkpoint_dir='./temperature/',\n",
    "    load_model=False,\n",
    "    load_folder_file=('/dev/models/8x100x50', 'best.pth.tar'),\n",
    "    num_iters_for_train_examples_history=4,\n",
    "    num_iterations=2,\n",
    "    num_episodes=1,\n",
    "    temperature_threshold=12\n",
    ")\n",
    "coach = Coach(game, params=params)"
   ],
   "metadata": {
    "collapsed": false,
    "pycharm": {
     "name": "#%%\n"
    }
   }
  },
  {
   "cell_type": "code",
   "execution_count": 15,
   "outputs": [
    {
     "name": "stderr",
     "output_type": "stream",
     "text": [
      "   Self Play: 100%|██████████| 1/1 [01:07<00:00, 67.33s/it]\n"
     ]
    }
   ],
   "source": [
    "policy = HeuristicPolicy(BOARD_SIZE, cut_off=.1)\n",
    "mcts = MCTS(game, policy, cpuct=1.0, num_simulations=100, model_threshold=.4)\n",
    "examples = coach.create_trajectories(mcts, 1, shuffle=False)"
   ],
   "metadata": {
    "collapsed": false,
    "pycharm": {
     "name": "#%%\n"
    }
   }
  },
  {
   "cell_type": "code",
   "execution_count": 52,
   "outputs": [
    {
     "data": {
      "text/plain": "136"
     },
     "execution_count": 52,
     "metadata": {},
     "output_type": "execute_result"
    }
   ],
   "source": [
    "len(examples)"
   ],
   "metadata": {
    "collapsed": false,
    "pycharm": {
     "name": "#%%\n"
    }
   }
  },
  {
   "cell_type": "code",
   "execution_count": 53,
   "outputs": [
    {
     "name": "stdout",
     "output_type": "stream",
     "text": [
      "3 (17, 17, 3) 1.0\n",
      "[[  0   0   0   0   0   0   0   0   0   0   0   0   0   0   0]\n",
      " [  0   0   0   0   0   0   0   0   0   0   0   0   0   0   0]\n",
      " [  0   0   0   0   0   0   0   0   0   0   0   0   0   0   0]\n",
      " [  0   0   0   0   0   0   0   0   0   0   0   0   0   0   0]\n",
      " [  0   0   0   0   0   0   0   0   0   0   0   0   0   0   0]\n",
      " [  0   0   0   0   0   0   0   0   0   0   0   0   0   0   0]\n",
      " [  0   0   0   0   0   0   0   0   0   0   0   0   0   0   0]\n",
      " [  0   0   0   0   0   0   0   0   0   0 100   0   0   0   0]\n",
      " [  0   0   0   0   0   0   0   0   0   0   0   0   0   0   0]\n",
      " [  0   0   0   0   0   0   0   0   0   0   0   0   0   0   0]\n",
      " [  0   0   0   0   0   0   0   0   0   0   0   0   0   0   0]\n",
      " [  0   0   0   0   0   0   0   0   0   0   0   0   0   0   0]\n",
      " [  0   0   0   0   0   0   0   0   0   0   0   0   0   0   0]\n",
      " [  0   0   0   0   0   0   0   0   0   0   0   0   0   0   0]\n",
      " [  0   0   0   0   0   0   0   0   0   0   0   0   0   0   0]]\n"
     ]
    }
   ],
   "source": [
    "import numpy as np\n",
    "ex = examples[-1]\n",
    "print(len(ex), ex[0].shape, ex[2])\n",
    "print((np.array(ex[1])*100).reshape((15, 15)).astype(int))"
   ],
   "metadata": {
    "collapsed": false,
    "pycharm": {
     "name": "#%%\n"
    }
   }
  },
  {
   "cell_type": "code",
   "execution_count": 54,
   "outputs": [
    {
     "name": "stdout",
     "output_type": "stream",
     "text": [
      "shape: (17, 17, 3)\n",
      "[[3 3 3 3 3 3 3 3 3 3 3 3 3 3 3 3 3]\n",
      " [3 0 0 0 0 0 0 0 0 0 0 0 0 0 0 0 3]\n",
      " [3 0 0 0 0 0 0 0 0 0 0 0 0 0 0 0 3]\n",
      " [3 0 0 0 0 0 2 0 0 0 0 0 0 0 0 0 3]\n",
      " [3 0 0 0 2 0 0 1 0 0 0 0 0 0 0 0 3]\n",
      " [3 0 0 0 0 1 2 1 1 0 0 0 0 0 0 0 3]\n",
      " [3 0 0 0 0 2 1 2 2 1 0 0 0 0 0 0 3]\n",
      " [3 0 0 0 0 2 0 1 0 2 1 0 0 0 0 0 3]\n",
      " [3 0 0 0 0 0 0 0 1 1 2 0 0 0 0 0 3]\n",
      " [3 0 0 0 0 0 0 0 0 2 0 0 0 0 0 0 3]\n",
      " [3 0 0 0 0 0 0 0 0 0 0 0 0 0 0 0 3]\n",
      " [3 0 0 0 0 0 0 0 0 0 0 0 0 0 0 0 3]\n",
      " [3 0 0 0 0 0 0 0 0 0 0 0 0 0 0 0 3]\n",
      " [3 0 0 0 0 0 0 0 0 0 0 0 0 0 0 0 3]\n",
      " [3 0 0 0 0 0 0 0 0 0 0 0 0 0 0 0 3]\n",
      " [3 0 0 0 0 0 0 0 0 0 0 0 0 0 0 0 3]\n",
      " [3 3 3 3 3 3 3 3 3 3 3 3 3 3 3 3 3]]\n"
     ]
    }
   ],
   "source": [
    "gt.print_channels(ex[0])"
   ],
   "metadata": {
    "collapsed": false,
    "pycharm": {
     "name": "#%%\n"
    }
   }
  },
  {
   "cell_type": "markdown",
   "source": [
    "## Train"
   ],
   "metadata": {
    "collapsed": false,
    "pycharm": {
     "name": "#%% md\n"
    }
   }
  },
  {
   "cell_type": "code",
   "execution_count": 82,
   "outputs": [],
   "source": [
    "the_model = NeuralNetAdapter( BOARD_SIZE+ 2)\n",
    "#the_model.policy.summary()"
   ],
   "metadata": {
    "collapsed": false,
    "pycharm": {
     "name": "#%%\n"
    }
   }
  },
  {
   "cell_type": "code",
   "execution_count": 83,
   "outputs": [
    {
     "data": {
      "text/plain": "(1, 17, 17, 3)"
     },
     "execution_count": 83,
     "metadata": {},
     "output_type": "execute_result"
    }
   ],
   "source": [
    "sample = np.expand_dims(examples[0][0], axis=0).astype(float)\n",
    "sample.shape"
   ],
   "metadata": {
    "collapsed": false,
    "pycharm": {
     "name": "#%%\n"
    }
   }
  },
  {
   "cell_type": "code",
   "execution_count": 84,
   "outputs": [
    {
     "name": "stdout",
     "output_type": "stream",
     "text": [
      "Potential: 23.47519302368164\n",
      "Value Head: 5.130324363708496\n",
      "Policy Head: 19.81228256225586\n"
     ]
    },
    {
     "data": {
      "text/plain": "(<tf.Tensor: shape=(1, 225), dtype=float32, numpy=\n array([[0.00444712, 0.00444467, 0.00444544, 0.0044425 , 0.00444556,\n         0.00444395, 0.00444463, 0.00444373, 0.00444366, 0.004444  ,\n         0.00444378, 0.00444637, 0.00444581, 0.00444636, 0.00444788,\n         0.00444561, 0.00444251, 0.00444467, 0.00444197, 0.00444566,\n         0.0044446 , 0.00444611, 0.00444528, 0.0044467 , 0.00444449,\n         0.00444376, 0.00444749, 0.00444684, 0.00444881, 0.00445003,\n         0.00444673, 0.00444191, 0.00444324, 0.00444113, 0.00444454,\n         0.00444563, 0.00444681, 0.0044453 , 0.00444615, 0.00444632,\n         0.00444588, 0.00444554, 0.00444617, 0.00444766, 0.00445018,\n         0.00444399, 0.00443934, 0.00444076, 0.0044414 , 0.00444466,\n         0.00444485, 0.00444522, 0.00444482, 0.00444575, 0.00444485,\n         0.00444525, 0.00444584, 0.0044467 , 0.00444592, 0.00444808,\n         0.00444197, 0.00443771, 0.00444082, 0.0044394 , 0.00444051,\n         0.00444145, 0.0044433 , 0.00444141, 0.00444313, 0.00444264,\n         0.00444247, 0.00444461, 0.00444504, 0.00444439, 0.0044467 ,\n         0.00444181, 0.00443732, 0.00444031, 0.00443925, 0.00444038,\n         0.0044406 , 0.00444076, 0.00443799, 0.00444035, 0.00443897,\n         0.00443884, 0.00444323, 0.00444451, 0.0044443 , 0.00444603,\n         0.00444176, 0.00443834, 0.0044416 , 0.00444062, 0.00444145,\n         0.00444219, 0.00444203, 0.00444028, 0.00444003, 0.0044373 ,\n         0.00443791, 0.00444193, 0.00444186, 0.00444314, 0.00444582,\n         0.00444135, 0.00444151, 0.00444156, 0.00444083, 0.00444093,\n         0.00444136, 0.00444296, 0.00444187, 0.00444177, 0.00443932,\n         0.00443959, 0.00444246, 0.00444281, 0.00444335, 0.00444691,\n         0.00444064, 0.00444253, 0.00444206, 0.00444074, 0.00444134,\n         0.00444225, 0.00444304, 0.00444254, 0.00444234, 0.00444039,\n         0.00444203, 0.00444366, 0.00444427, 0.00444333, 0.00444846,\n         0.00444124, 0.00444195, 0.00444206, 0.00444152, 0.0044427 ,\n         0.00444281, 0.00444409, 0.00444314, 0.00444326, 0.00444247,\n         0.00444497, 0.00444706, 0.00444558, 0.00444599, 0.00445045,\n         0.00444381, 0.00444464, 0.00444503, 0.00444484, 0.00444566,\n         0.00444569, 0.00444649, 0.00444426, 0.00444636, 0.00444528,\n         0.0044457 , 0.00444699, 0.0044453 , 0.0044443 , 0.00444888,\n         0.00444425, 0.00444482, 0.00444552, 0.00444702, 0.00444729,\n         0.00444973, 0.00444903, 0.00444741, 0.00444903, 0.00444902,\n         0.00444988, 0.00445049, 0.00445011, 0.00444716, 0.00444949,\n         0.00444688, 0.00444615, 0.00444653, 0.0044489 , 0.0044491 ,\n         0.00444776, 0.00444929, 0.00444663, 0.00444642, 0.00444536,\n         0.00444653, 0.00444966, 0.0044471 , 0.00444488, 0.00444699,\n         0.00444434, 0.00444409, 0.00444535, 0.00444794, 0.00444839,\n         0.00444703, 0.0044472 , 0.00444659, 0.00444541, 0.00444328,\n         0.00444346, 0.00444616, 0.00444624, 0.00444493, 0.00444639,\n         0.00444693, 0.00444641, 0.00444607, 0.0044492 , 0.00444978,\n         0.00444815, 0.00444756, 0.00444655, 0.00444539, 0.00444336,\n         0.00444302, 0.00444606, 0.00444587, 0.00444551, 0.00444718]],\n       dtype=float32)>,\n <tf.Tensor: shape=(), dtype=float32, numpy=0.99992996>)"
     },
     "execution_count": 84,
     "metadata": {},
     "output_type": "execute_result"
    }
   ],
   "source": [
    "the_model.policy(sample, debug=True)"
   ],
   "metadata": {
    "collapsed": false,
    "pycharm": {
     "name": "#%%\n"
    }
   }
  },
  {
   "cell_type": "code",
   "execution_count": 85,
   "outputs": [
    {
     "name": "stdout",
     "output_type": "stream",
     "text": [
      "Epoch: 1, Loss: 6.7732744216918945\n",
      "Epoch: 11, Loss: 6.530659198760986\n",
      "Epoch: 21, Loss: 6.3686017990112305\n",
      "Epoch: 31, Loss: 6.280400276184082\n",
      "Epoch: 41, Loss: 6.226905345916748\n",
      "Epoch: 51, Loss: 6.190488338470459\n",
      "Epoch: 61, Loss: 6.162820339202881\n",
      "Epoch: 71, Loss: 6.1425676345825195\n"
     ]
    },
    {
     "name": "stderr",
     "output_type": "stream",
     "text": [
      "\n",
      "KeyboardInterrupt\n",
      "\n"
     ]
    }
   ],
   "source": [
    "the_model.train(examples, params)"
   ],
   "metadata": {
    "collapsed": false,
    "pycharm": {
     "name": "#%%\n"
    }
   }
  },
  {
   "cell_type": "code",
   "execution_count": 62,
   "outputs": [
    {
     "name": "stdout",
     "output_type": "stream",
     "text": [
      "3 (17, 17, 3) 1.0\n",
      "[[  0   0   0   0   0   0   0   0   0   0   0   0   0   0   0]\n",
      " [  0   0   0   0   0   0   0   0   0   0   0   0   0   0   0]\n",
      " [  0   0   0   0   0   0   0   0   0   0   0   0   0   0   0]\n",
      " [  0   0   0   0   0   0   0   0   0   0   0   0   0   0   0]\n",
      " [  0   0   0   0   0   0   0 100   0   0   0   0   0   0   0]\n",
      " [  0   0   0   0   0   0   0   0   0   0   0   0   0   0   0]\n",
      " [  0   0   0   0   0   0   0   0   0   0   0   0   0   0   0]\n",
      " [  0   0   0   0   0   0   0   0   0   0   0   0   0   0   0]\n",
      " [  0   0   0   0   0   0   0   0   0   0   0   0   0   0   0]\n",
      " [  0   0   0   0   0   0   0   0   0   0   0   0   0   0   0]\n",
      " [  0   0   0   0   0   0   0   0   0   0   0   0   0   0   0]\n",
      " [  0   0   0   0   0   0   0   0   0   0   0   0   0   0   0]\n",
      " [  0   0   0   0   0   0   0   0   0   0   0   0   0   0   0]\n",
      " [  0   0   0   0   0   0   0   0   0   0   0   0   0   0   0]\n",
      " [  0   0   0   0   0   0   0   0   0   0   0   0   0   0   0]]\n",
      "shape: (17, 17, 3)\n",
      "[[3 3 3 3 3 3 3 3 3 3 3 3 3 3 3 3 3]\n",
      " [3 0 0 0 0 0 0 0 0 0 0 0 0 0 0 0 3]\n",
      " [3 0 0 0 0 0 0 0 0 0 0 0 0 0 0 0 3]\n",
      " [3 0 0 0 0 0 0 0 0 0 0 0 0 0 0 0 3]\n",
      " [3 0 0 0 0 0 0 0 0 0 0 0 0 0 0 0 3]\n",
      " [3 0 0 0 0 0 0 0 0 0 0 0 0 0 0 0 3]\n",
      " [3 0 0 0 0 0 0 0 2 1 0 0 0 0 0 0 3]\n",
      " [3 0 0 0 0 0 0 2 1 2 1 0 0 0 0 0 3]\n",
      " [3 0 0 0 0 0 0 0 1 0 2 1 0 0 0 0 3]\n",
      " [3 0 0 0 0 0 0 0 0 1 2 1 1 0 0 0 3]\n",
      " [3 0 0 0 0 0 0 0 0 0 1 2 0 2 0 0 3]\n",
      " [3 0 0 0 0 0 0 0 0 2 2 1 0 0 0 0 3]\n",
      " [3 0 0 0 0 0 0 0 0 0 0 0 2 0 0 0 3]\n",
      " [3 0 0 0 0 0 0 0 0 0 0 0 0 0 0 0 3]\n",
      " [3 0 0 0 0 0 0 0 0 0 0 0 0 0 0 0 3]\n",
      " [3 0 0 0 0 0 0 0 0 0 0 0 0 0 0 0 3]\n",
      " [3 3 3 3 3 3 3 3 3 3 3 3 3 3 3 3 3]]\n"
     ]
    }
   ],
   "source": [
    "ex=examples[-8]\n",
    "print(len(ex), ex[0].shape, ex[2])\n",
    "print((np.array(ex[1]) * 100).reshape((15, 15)).astype(int))\n",
    "gt.print_channels(ex[0])"
   ],
   "metadata": {
    "collapsed": false,
    "pycharm": {
     "name": "#%%\n"
    }
   }
  },
  {
   "cell_type": "code",
   "execution_count": 63,
   "outputs": [
    {
     "name": "stdout",
     "output_type": "stream",
     "text": [
      "Potential: 161500.4375\n",
      "Value Head: -134.91539001464844\n",
      "Policy Head: 430.17938232421875\n",
      "[[ 0  0  0  0  0  0  0  0  0  0  0  0  0  0  0]\n",
      " [ 0  0  0  0  0  0  0  0  0  0  0  0  0  0  0]\n",
      " [ 0  0  0  0  0  0  0  0  0  0  0  0  0  0  0]\n",
      " [ 0  0  0  0  0  0  0  0  0  0  0  0  0  0  0]\n",
      " [ 0  0  0  0  0  0  0 99  0  0  0  0  0  0  0]\n",
      " [ 0  0  0  0  0  0  0  0  0  0  0  0  0  0  0]\n",
      " [ 0  0  0  0  0  0  0  0  0  0  0  0  0  0  0]\n",
      " [ 0  0  0  0  0  0  0  0  0  0  0  0  0  0  0]\n",
      " [ 0  0  0  0  0  0  0  0  0  0  0  0  0  0  0]\n",
      " [ 0  0  0  0  0  0  0  0  0  0  0  0  0  0  0]\n",
      " [ 0  0  0  0  0  0  0  0  0  0  0  0  0  0  0]\n",
      " [ 0  0  0  0  0  0  0  0  0  0  0  0  0  0  0]\n",
      " [ 0  0  0  0  0  0  0  0  0  0  0  0  0  0  0]\n",
      " [ 0  0  0  0  0  0  0  0  0  0  0  0  0  0  0]\n",
      " [ 0  0  0  0  0  0  0  0  0  0  0  0  0  0  0]]\n",
      "\n",
      "Value: -1\n"
     ]
    }
   ],
   "source": [
    "p, v = the_model.predict(np.expand_dims(ex[0], axis=0).astype(float), debug=True)\n",
    "print((p*100).numpy().reshape((15, 15)).astype(int))\n",
    "print()\n",
    "print(f\"Value: {int(v)}\")"
   ],
   "metadata": {
    "collapsed": false,
    "pycharm": {
     "name": "#%%\n"
    }
   }
  },
  {
   "cell_type": "code",
   "execution_count": null,
   "outputs": [],
   "source": [],
   "metadata": {
    "collapsed": false,
    "pycharm": {
     "name": "#%%\n"
    }
   }
  }
 ],
 "metadata": {
  "kernelspec": {
   "display_name": "Python 3",
   "language": "python",
   "name": "python3"
  },
  "language_info": {
   "codemirror_mode": {
    "name": "ipython",
    "version": 2
   },
   "file_extension": ".py",
   "mimetype": "text/x-python",
   "name": "python",
   "nbconvert_exporter": "python",
   "pygments_lexer": "ipython2",
   "version": "2.7.6"
  }
 },
 "nbformat": 4,
 "nbformat_minor": 0
}