{
 "cells": [
  {
   "cell_type": "markdown",
   "source": [
    "# Train the contender on self-play episodes of the champion\n",
    "\n",
    "## TODO: Consolidate with other notebooks"
   ],
   "metadata": {
    "collapsed": false,
    "pycharm": {
     "name": "#%% md\n"
    }
   }
  },
  {
   "cell_type": "code",
   "execution_count": 7,
   "outputs": [],
   "source": [
    "%load_ext autoreload\n",
    "%autoreload 2"
   ],
   "metadata": {
    "collapsed": false,
    "pycharm": {
     "name": "#%%\n"
    }
   }
  },
  {
   "cell_type": "code",
   "execution_count": 20,
   "outputs": [],
   "source": [
    "import numpy as np\n",
    "\n",
    "from aegomoku.gomoku_board import GomokuBoard\n",
    "from aegomoku.gomoku_game import GomokuGame as Gomoku\n",
    "from aegomoku.gomoku_model import NeuralNetAdapter\n",
    "from aegomoku.interfaces import MctsParams\n",
    "from aegomoku.mcts import MCTS\n",
    "from aegomoku.utils import analyse_board\n",
    "import aegomoku.tools as gt\n",
    "from aegomoku.policies.heuristic_policy import HeuristicPolicy"
   ],
   "metadata": {
    "collapsed": false,
    "pycharm": {
     "name": "#%%\n"
    }
   }
  },
  {
   "cell_type": "code",
   "execution_count": 21,
   "outputs": [],
   "source": [
    "BOARD_SIZE = 15"
   ],
   "metadata": {
    "collapsed": false,
    "pycharm": {
     "name": "#%%\n"
    }
   }
  },
  {
   "cell_type": "markdown",
   "source": [
    "## The initial board\n",
    "The initial board features 4 stones randomly positioned on the inner 5x5 sector.\n",
    "\n",
    "That allows for very different, although sometimes unrealistic game situations."
   ],
   "metadata": {
    "collapsed": false,
    "pycharm": {
     "name": "#%% md\n"
    }
   }
  },
  {
   "cell_type": "code",
   "execution_count": 22,
   "outputs": [],
   "source": [
    "from aegomoku.gomoku_game import RandomBoardInitializer\n",
    "\n",
    "game = Gomoku(BOARD_SIZE, initializer=RandomBoardInitializer(BOARD_SIZE, 4, 5, 9, 5, 9))"
   ],
   "metadata": {
    "collapsed": false,
    "pycharm": {
     "name": "#%%\n"
    }
   }
  },
  {
   "cell_type": "markdown",
   "source": [
    "----"
   ],
   "metadata": {
    "collapsed": false,
    "pycharm": {
     "name": "#%% md\n"
    }
   }
  },
  {
   "cell_type": "markdown",
   "source": [
    "## Heuristic plus MCTS\n",
    "With the heuristic policy, the search tree produces very reasonable trajectories, even with a small number of simulations.\n",
    "\n",
    "Note that we only show the general concept here. Due to the bad performance of the self-play in a single-threaded environment, we'll use a parallel computing setup using *ray* to produce trajectories more efficiently."
   ],
   "metadata": {
    "collapsed": false,
    "pycharm": {
     "name": "#%% md\n"
    }
   }
  },
  {
   "cell_type": "code",
   "execution_count": 23,
   "outputs": [
    {
     "name": "stderr",
     "output_type": "stream",
     "text": [
      "/Users/wgiersche/.local/share/virtualenvs/DeepGomoku-cXtJ_EtM/lib/python3.10/site-packages/numpy/core/fromnumeric.py:2009: VisibleDeprecationWarning: Creating an ndarray from ragged nested sequences (which is a list-or-tuple of lists-or-tuples-or ndarrays with different lengths or shapes) is deprecated. If you meant to do this, you must specify 'dtype=object' when creating the ndarray.\n",
      "  result = asarray(a).shape\n"
     ]
    }
   ],
   "source": [
    "policy = HeuristicPolicy(BOARD_SIZE, cut_off=.1)\n",
    "mcts_params = MctsParams(cpuct=1.0, num_simulations=100, advice_cutoff=.4)\n",
    "mcts = MCTS(game, policy, mcts_params)"
   ],
   "metadata": {
    "collapsed": false,
    "pycharm": {
     "name": "#%%\n"
    }
   }
  },
  {
   "cell_type": "code",
   "execution_count": 47,
   "outputs": [
    {
     "name": "stdout",
     "output_type": "stream",
     "text": [
      "J9 G10 F6 F8 (Black next)\n",
      "J9 G10 F6 F8 F10 (White next)\n",
      "J9 G10 F6 F8 F10 K11 (Black next)\n",
      "J9 G10 F6 F8 F10 K11 F5 (White next)\n",
      "J9 G10 F6 F8 F10 K11 F5 F3 (Black next)\n",
      "... G10 F6 F8 F10 K11 F5 F3 G5 (White next)\n",
      "... F6 F8 F10 K11 F5 F3 G5 D5 (Black next)\n",
      "... F8 F10 K11 F5 F3 G5 D5 I5 (White next)\n",
      "... F10 K11 F5 F3 G5 D5 I5 H5 (Black next)\n",
      "... K11 F5 F3 G5 D5 I5 H5 H4 (White next)\n",
      "... F5 F3 G5 D5 I5 H5 H4 I3 (Black next)\n",
      "... F3 G5 D5 I5 H5 H4 I3 G3 (White next)\n",
      "... G5 D5 I5 H5 H4 I3 G3 F2 (Black next)\n",
      "... D5 I5 H5 H4 I3 G3 F2 G4 (White next)\n",
      "... I5 H5 H4 I3 G3 F2 G4 G6 (Black next)\n",
      "... H5 H4 I3 G3 F2 G4 G6 I4 (White next)\n",
      "... H4 I3 G3 F2 G4 G6 I4 F4 (Black next)\n",
      "... I3 G3 F2 G4 G6 I4 F4 G2 (White next)\n",
      "... G3 F2 G4 G6 I4 F4 G2 G1 (Black next)\n",
      "... F2 G4 G6 I4 F4 G2 G1 H3 (White next)\n",
      "... G4 G6 I4 F4 G2 G1 H3 J5 (Black next)\n",
      "... G6 I4 F4 G2 G1 H3 J5 E6 (White next)\n",
      "... I4 F4 G2 G1 H3 J5 E6 I2 (Black next)\n",
      "... F4 G2 G1 H3 J5 E6 I2 D7 (White next)\n",
      "The winner is 0\n",
      "                                                     \n",
      "15    .  .  .  .  .  .  .  .  .  .  .  .  .  .  .    \n",
      "14    .  .  .  .  .  .  .  .  .  .  .  .  .  .  .    \n",
      "13    .  .  .  .  .  .  .  .  .  .  .  .  .  .  .    \n",
      "12    .  .  .  .  .  .  .  .  .  .  .  .  .  .  .    \n",
      "11    .  .  .  .  .  .  .  .  .  .  O  .  .  .  .    \n",
      "10    .  .  .  .  .  X  O  .  .  .  .  .  .  .  .    \n",
      " 9    .  .  .  .  .  .  .  .  .  X  .  .  .  .  .    \n",
      " 8    .  .  .  .  .  O  .  .  .  .  .  .  .  .  .    \n",
      " 7    .  .  . [X] .  .  .  .  .  .  .  .  .  .  .    \n",
      " 6    .  .  .  .  X  X  O  .  .  .  .  .  .  .  .    \n",
      " 5    .  .  .  O  .  X  X  O  X  O  .  .  .  .  .    \n",
      " 4    .  .  .  .  .  O  X  X  X  .  .  .  .  .  .    \n",
      " 3    .  .  .  .  .  O  X  X  O  .  .  .  .  .  .    \n",
      " 2    .  .  .  .  .  O  X  .  O  .  .  .  .  .  .    \n",
      " 1    .  .  .  .  .  .  O  .  .  .  .  .  .  .  .    \n",
      "                                                     \n",
      "      A  B  C  D  E  F  G  H  I  J  K  L  M  N  O\n"
     ]
    }
   ],
   "source": [
    "board = game.get_initial_board()  # random start positions, sometimes unfair, but so what?\n",
    "print(board)\n",
    "\n",
    "# Two mood versions of the champion playing against each other = less draws\n",
    "# These settings may change over the training period, once opponents get stronger.\n",
    "temperatures = [0.6, 0]  # more tight vs more explorative\n",
    "\n",
    "episode_step = 0\n",
    "train_examples = []\n",
    "done = policy.get_winner(board.canonical_representation())\n",
    "while done is None:\n",
    "    episode_step += 1\n",
    "    t = temperatures[episode_step % 2]\n",
    "    pi = mcts.get_action_prob(board, temperature=t)\n",
    "    action = np.random.choice(len(pi), p=pi)\n",
    "    board.act(action)\n",
    "    print(board)\n",
    "    done = policy.get_winner(board.canonical_representation())\n",
    "\n",
    "# The player who made the last move, is the winner.\n",
    "print (f\"The winner is {1-board.get_current_player()}\")\n",
    "board.plot()"
   ],
   "metadata": {
    "collapsed": false,
    "pycharm": {
     "name": "#%%\n"
    }
   }
  },
  {
   "cell_type": "code",
   "execution_count": 48,
   "outputs": [
    {
     "data": {
      "text/plain": "<Figure size 576x576 with 1 Axes>",
      "image/png": "[encoded data removed]"
     },
     "metadata": {
      "needs_background": "light"
     },
     "output_type": "display_data"
    }
   ],
   "source": [
    "stones = board.stones\n",
    "analyse_board(BOARD_SIZE, stones, policy)"
   ],
   "metadata": {
    "collapsed": false,
    "pycharm": {
     "name": "#%%\n"
    }
   }
  },
  {
   "cell_type": "markdown",
   "source": [
    "### A couple of steps earlier\n",
    "The policy's opinion about that board state looked still undecided"
   ],
   "metadata": {
    "collapsed": false,
    "pycharm": {
     "name": "#%% md\n"
    }
   }
  },
  {
   "cell_type": "code",
   "execution_count": 49,
   "outputs": [
    {
     "data": {
      "text/plain": "<Figure size 576x576 with 1 Axes>",
      "image/png": "[encoded data removed]"
     },
     "metadata": {
      "needs_background": "light"
     },
     "output_type": "display_data"
    }
   ],
   "source": [
    "stones = board.stones[:-12]\n",
    "analyse_board(BOARD_SIZE, stones, policy)"
   ],
   "metadata": {
    "collapsed": false,
    "pycharm": {
     "name": "#%%\n"
    }
   }
  },
  {
   "cell_type": "markdown",
   "source": [
    "---"
   ],
   "metadata": {
    "collapsed": false,
    "pycharm": {
     "name": "#%% md\n"
    }
   }
  },
  {
   "cell_type": "code",
   "execution_count": 50,
   "outputs": [
    {
     "name": "stdout",
     "output_type": "stream",
     "text": [
      "[[  0   0   0   0   0   0   0   0   0   0   0   0   0   0   0]\n",
      " [  0   0   0   0   0   0   0   0   0   0   0   0   0   0   0]\n",
      " [  0   0   0   0   0   0   0   0   0   0   0   0   0   0   0]\n",
      " [  0   0   0   0   0   0   0   0   0   0   0   0   0   0   0]\n",
      " [  0   0   0   0   0   0   7   0   0   0   0   0   0   0   0]\n",
      " [  0   0   0   0   0   0   0   0   0   0   0   0   0   0   0]\n",
      " [  0   0   0   0   7   0   0   0   0   0   0   0   0   0   0]\n",
      " [  0   0   0  15   0   0   7   0   0   8   8   0   0   0   0]\n",
      " [  0   0   7   8   8   0   0   0   0   8   0   0   0   0   0]\n",
      " [  0   0  24   7   8   0  17   8  33 282   0   0   0   0   0]\n",
      " [  0   0   0   0   0   0   0   0   0   0   0   0   0   0   0]\n",
      " [  0   0   0   0  49   8  66   0   8   8   0   0   0   0   0]\n",
      " [  0   0   0   7   0   0   0   8   0   0   0   0   0   0   0]\n",
      " [  0   0   0   0  24 281  41   0   7   0   0   0   0   0   0]\n",
      " [  0   0   0   0   0   0   0   0   0   0   0   0   0   0   0]]\n",
      "Value: -0.12238275801809427\n"
     ]
    }
   ],
   "source": [
    "board = GomokuBoard(BOARD_SIZE, stones)\n",
    "pi, v = policy(board.canonical_representation())\n",
    "print((np.array(pi)*1000).astype(int))\n",
    "print(f\"Value: {v}\")"
   ],
   "metadata": {
    "collapsed": false,
    "pycharm": {
     "name": "#%%\n"
    }
   }
  },
  {
   "cell_type": "markdown",
   "source": [
    "---"
   ],
   "metadata": {
    "collapsed": false,
    "pycharm": {
     "name": "#%% md\n"
    }
   }
  },
  {
   "cell_type": "markdown",
   "source": [
    "### The search tree has a similar yet more ascertive opinion\n",
    "That's because the MCTS has reasoned on those positions by following the initial recommendations for a couple of steps.\n",
    "The action counts will inform the next policy and the $max(Q_a)$ may inform the value function."
   ],
   "metadata": {
    "collapsed": false,
    "pycharm": {
     "name": "#%% md\n"
    }
   }
  },
  {
   "cell_type": "markdown",
   "source": [
    "In most cases, the softmax will agree with the move actually taken, only if the chances are somewhat equally distributed, will the softmax also allow for a choice."
   ],
   "metadata": {
    "collapsed": false,
    "pycharm": {
     "name": "#%% md\n"
    }
   }
  },
  {
   "cell_type": "code",
   "execution_count": 51,
   "outputs": [
    {
     "name": "stdout",
     "output_type": "stream",
     "text": [
      "[[ 0  0  0  0  0  0  0  0  0  0  0  0  0  0  0]\n",
      " [ 0  0  0  0  0  0  0  0  0  0  0  0  0  0  0]\n",
      " [ 0  0  0  0  0  0  0  0  0  0  0  0  0  0  0]\n",
      " [ 0  0  0  0  0  0  0  0  0  0  0  0  0  0  0]\n",
      " [ 0  0  0  0  0  0  0  0  0  0  0  0  0  0  0]\n",
      " [ 0  0  0  0  0  0  0  0  0  0  0  0  0  0  0]\n",
      " [ 0  0  0  0  0  0  0  0  0  0  0  0  0  0  0]\n",
      " [ 0  0  0  0  0  0  0  0  0  0  0  0  0  0  0]\n",
      " [ 0  0  0  0  0  0  0  0  0  0  0  0  0  0  0]\n",
      " [ 0  0  0  0  0  0  0  0  1 43  0  0  0  0  0]\n",
      " [ 0  0  0  0  0  0  0  0  0  0  0  0  0  0  0]\n",
      " [ 0  0  0  0  1  0  1  0  0  0  0  0  0  0  0]\n",
      " [ 0  0  0  0  0  0  0  0  0  0  0  0  0  0  0]\n",
      " [ 0  0  0  0  0 52  1  0  0  0  0  0  0  0  0]\n",
      " [ 0  0  0  0  0  0  0  0  0  0  0  0  0  0  0]]\n",
      "\n",
      "Value from max(Q): -0.09032866360465279\n"
     ]
    }
   ],
   "source": [
    "key = board.get_string_representation()\n",
    "probs = mcts.compute_probs(board, temperature=1.0)\n",
    "probs = np.array(probs).reshape([BOARD_SIZE, BOARD_SIZE])\n",
    "print((probs*100).astype(int))\n",
    "q_advice = [mcts.Q.get((key, i), -float('inf')) for i in range(225)]\n",
    "print()\n",
    "print(f\"Value from max(Q): {np.max(q_advice)}\")"
   ],
   "metadata": {
    "collapsed": false,
    "pycharm": {
     "name": "#%%\n"
    }
   }
  },
  {
   "cell_type": "markdown",
   "source": [
    "# Symmetries\n",
    "The board, together with the resulting probabilities can be rotated or flipped to produce just another valid training example. In total, we 8-fold our training data."
   ],
   "metadata": {
    "collapsed": false,
    "pycharm": {
     "name": "#%% md\n"
    }
   }
  },
  {
   "cell_type": "code",
   "execution_count": 55,
   "outputs": [
    {
     "data": {
      "text/plain": "(17, 17, 3)"
     },
     "execution_count": 55,
     "metadata": {},
     "output_type": "execute_result"
    }
   ],
   "source": [
    "math_rep = board.canonical_representation()\n",
    "symmetries = game.get_symmetries(math_rep, probs)\n",
    "symmetries[0][0].shape"
   ],
   "metadata": {
    "collapsed": false,
    "pycharm": {
     "name": "#%%\n"
    }
   }
  },
  {
   "cell_type": "markdown",
   "source": [
    "We see the board diagonally flipped"
   ],
   "metadata": {
    "collapsed": false,
    "pycharm": {
     "name": "#%% md\n"
    }
   }
  },
  {
   "cell_type": "code",
   "execution_count": 56,
   "outputs": [
    {
     "name": "stdout",
     "output_type": "stream",
     "text": [
      "shape: (17, 17, 3)\n",
      "[[3 3 3 3 3 3 3 3 3 3 3 3 3 3 3 3 3]\n",
      " [3 0 0 0 0 0 0 0 0 0 0 0 0 0 0 0 3]\n",
      " [3 0 0 0 0 0 0 0 0 0 0 0 0 0 0 0 3]\n",
      " [3 0 0 0 0 0 0 0 0 0 0 0 0 0 0 0 3]\n",
      " [3 0 0 0 0 0 0 0 0 0 0 0 0 0 0 0 3]\n",
      " [3 0 0 0 0 0 0 0 0 0 0 1 0 0 0 0 3]\n",
      " [3 0 0 0 0 0 0 0 0 2 0 0 0 0 0 0 3]\n",
      " [3 0 0 1 0 2 0 0 0 0 0 0 0 0 0 0 3]\n",
      " [3 0 0 0 2 1 0 0 0 0 0 0 0 0 0 0 3]\n",
      " [3 0 0 2 0 2 0 0 0 0 1 0 0 0 0 0 3]\n",
      " [3 0 0 1 0 2 2 0 1 0 2 0 0 0 0 0 3]\n",
      " [3 0 0 0 0 0 0 0 0 0 0 0 0 0 0 0 3]\n",
      " [3 0 0 0 0 1 0 0 0 0 0 0 0 0 0 0 3]\n",
      " [3 0 0 0 0 0 0 0 0 0 0 0 0 0 0 0 3]\n",
      " [3 0 0 0 0 0 0 0 0 0 0 0 0 0 0 0 3]\n",
      " [3 0 0 0 0 0 0 0 0 0 0 0 0 0 0 0 3]\n",
      " [3 3 3 3 3 3 3 3 3 3 3 3 3 3 3 3 3]]\n"
     ]
    }
   ],
   "source": [
    "gt.print_channels(symmetries[0][0])"
   ],
   "metadata": {
    "collapsed": false,
    "pycharm": {
     "name": "#%%\n"
    }
   }
  },
  {
   "cell_type": "code",
   "execution_count": 57,
   "outputs": [
    {
     "name": "stdout",
     "output_type": "stream",
     "text": [
      "[[ 0  0  0  0  0  0  0  0  0  0  0  0  0  0  0]\n",
      " [ 0  0  0  0  0  0  0  0  0  0  0  0  0  0  0]\n",
      " [ 0  0  0  0  0  0  0  0  0  0  0  0  0  0  0]\n",
      " [ 0  0  0  0  0  0  0  0  0  0  0  0  0  0  0]\n",
      " [ 0  0  0  0  0  0  0  0  0  0  0  0  0  0  0]\n",
      " [ 0  0  0  0  0 43  0  0  0  0  0  0  0  0  0]\n",
      " [ 0  0  0  0  0  1  0  0  0  0  0  0  0  0  0]\n",
      " [ 0  0  0  0  0  0  0  0  0  0  0  0  0  0  0]\n",
      " [ 0  1  0  1  0  0  0  0  0  0  0  0  0  0  0]\n",
      " [ 0 52  0  0  0  0  0  0  0  0  0  0  0  0  0]\n",
      " [ 0  0  0  1  0  0  0  0  0  0  0  0  0  0  0]\n",
      " [ 0  0  0  0  0  0  0  0  0  0  0  0  0  0  0]\n",
      " [ 0  0  0  0  0  0  0  0  0  0  0  0  0  0  0]\n",
      " [ 0  0  0  0  0  0  0  0  0  0  0  0  0  0  0]\n",
      " [ 0  0  0  0  0  0  0  0  0  0  0  0  0  0  0]]\n",
      "\n"
     ]
    }
   ],
   "source": [
    "for i in range(1):\n",
    "    print((np.array(symmetries[i][1]).reshape(15, 15) * 100).astype(int))\n",
    "    print()"
   ],
   "metadata": {
    "collapsed": false,
    "pycharm": {
     "name": "#%%\n"
    }
   }
  },
  {
   "cell_type": "markdown",
   "source": [
    "---"
   ],
   "metadata": {
    "collapsed": false,
    "pycharm": {
     "name": "#%% md\n"
    }
   }
  },
  {
   "cell_type": "markdown",
   "source": [
    "# Training\n",
    "\n",
    "Would be nice to see the training converge (and overfit) with a single episode in its 8 symmetries, and validate the overfitted against a board with all stones shifted. We'd expect only minor differences due to the different border influence, but otherwise the conv-only network naturally features translation symmetry.\n",
    "\n",
    "Note that this you'd need have this run with GPU power to get reasonable results"
   ],
   "metadata": {
    "collapsed": false,
    "pycharm": {
     "name": "#%% md\n"
    }
   }
  },
  {
   "cell_type": "code",
   "execution_count": 62,
   "outputs": [],
   "source": [
    "examples_file = 'temperature/checkpoint_0.pth.tar.examples'"
   ],
   "metadata": {
    "collapsed": false,
    "pycharm": {
     "name": "#%%\n"
    }
   }
  },
  {
   "cell_type": "code",
   "execution_count": 63,
   "outputs": [],
   "source": [
    "from pickle import Unpickler\n",
    "\n",
    "with open(examples_file, \"rb\") as f:\n",
    "    examples = Unpickler(f).load()\n"
   ],
   "metadata": {
    "collapsed": false,
    "pycharm": {
     "name": "#%%\n"
    }
   }
  },
  {
   "cell_type": "code",
   "execution_count": 67,
   "outputs": [
    {
     "data": {
      "text/plain": "(136, (17, 17, 3))"
     },
     "execution_count": 67,
     "metadata": {},
     "output_type": "execute_result"
    }
   ],
   "source": [
    "len(examples[0]), examples[0][0][0].shape"
   ],
   "metadata": {
    "collapsed": false,
    "pycharm": {
     "name": "#%%\n"
    }
   }
  },
  {
   "cell_type": "code",
   "execution_count": 72,
   "outputs": [
    {
     "name": "stdout",
     "output_type": "stream",
     "text": [
      "Model: \"gomoku_model_5\"\n",
      "_________________________________________________________________\n",
      " Layer (type)                Output Shape              Param #   \n",
      "=================================================================\n",
      " initial (Conv2D)            multiple                  11648     \n",
      "                                                                 \n",
      " potential_0 (Conv2D)        multiple                  123936    \n",
      "                                                                 \n",
      " potential_1 (Conv2D)        multiple                  123936    \n",
      "                                                                 \n",
      " potential_2 (Conv2D)        multiple                  123936    \n",
      "                                                                 \n",
      " potential_3 (Conv2D)        multiple                  123936    \n",
      "                                                                 \n",
      " potential_4 (Conv2D)        multiple                  123936    \n",
      "                                                                 \n",
      " policy_aggregator (Conv2D)  multiple                  33        \n",
      "                                                                 \n",
      " flatten_5 (Flatten)         multiple                  0         \n",
      "                                                                 \n",
      " value_aggregator (Conv2D)   multiple                  33        \n",
      "                                                                 \n",
      " border_off (Conv2D)         multiple                  10        \n",
      "                                                                 \n",
      " dense_5 (Dense)             multiple                  226       \n",
      "                                                                 \n",
      "=================================================================\n",
      "Total params: 631,630\n",
      "Trainable params: 631,620\n",
      "Non-trainable params: 10\n",
      "_________________________________________________________________\n",
      "(1, 17, 17, 3)\n",
      "Potential: 7051.16552734375\n",
      "Value Head: -131.2794189453125\n",
      "Policy Head: 51.7352294921875\n"
     ]
    },
    {
     "data": {
      "text/plain": "(<tf.Tensor: shape=(1, 225), dtype=float32, numpy=\n array([[0.00455799, 0.00509792, 0.00546454, 0.00515628, 0.00473923,\n         0.00403266, 0.00346408, 0.00346408, 0.00346408, 0.00346408,\n         0.00346408, 0.00424957, 0.00346408, 0.00346408, 0.00346408,\n         0.00434055, 0.00464742, 0.00486022, 0.00451771, 0.00415487,\n         0.00371868, 0.00355838, 0.00346408, 0.00346408, 0.00346408,\n         0.00346408, 0.00346461, 0.00346408, 0.00346408, 0.00346408,\n         0.00515405, 0.00586532, 0.00632549, 0.00604665, 0.00457749,\n         0.00400578, 0.00386804, 0.00351325, 0.00346408, 0.00346408,\n         0.00346408, 0.00346408, 0.00346408, 0.00346408, 0.00346408,\n         0.00562472, 0.00639454, 0.00648001, 0.00599687, 0.0051274 ,\n         0.00529881, 0.00508934, 0.00444041, 0.00394006, 0.00351003,\n         0.00358519, 0.00389106, 0.00346408, 0.00346408, 0.00346408,\n         0.00510778, 0.00707745, 0.00655169, 0.00687788, 0.00632183,\n         0.0062313 , 0.00540417, 0.00524577, 0.00443797, 0.00384514,\n         0.00346408, 0.00346408, 0.00346408, 0.00346408, 0.00346408,\n         0.00385889, 0.00506101, 0.0049788 , 0.00580284, 0.00571996,\n         0.00534052, 0.00443732, 0.00472387, 0.00497569, 0.00395003,\n         0.00366178, 0.00347302, 0.00357042, 0.00346408, 0.00346408,\n         0.00423672, 0.00555468, 0.00604273, 0.00663013, 0.00606632,\n         0.00626831, 0.0047459 , 0.00571922, 0.00562658, 0.00401464,\n         0.00346408, 0.00346408, 0.0035923 , 0.00346408, 0.00346408,\n         0.00452519, 0.00545534, 0.0055559 , 0.00604977, 0.00485305,\n         0.00587638, 0.00489803, 0.00561215, 0.00571725, 0.00483012,\n         0.00398019, 0.00415904, 0.0039471 , 0.00346408, 0.00346408,\n         0.00409951, 0.00490582, 0.00542338, 0.00611855, 0.00590136,\n         0.00589164, 0.00473768, 0.00526974, 0.00500543, 0.0045275 ,\n         0.00346408, 0.00371575, 0.00346408, 0.00346408, 0.00346408,\n         0.0039847 , 0.00465609, 0.00518956, 0.00539606, 0.00562117,\n         0.00549627, 0.0046439 , 0.00528659, 0.00511797, 0.00401651,\n         0.00419135, 0.003975  , 0.00346408, 0.00346408, 0.00346408,\n         0.00404429, 0.00472001, 0.00494912, 0.00464084, 0.00499398,\n         0.00559408, 0.00478453, 0.00516125, 0.00552689, 0.00445567,\n         0.00382394, 0.0037658 , 0.00346408, 0.00346408, 0.00346408,\n         0.00438877, 0.00437382, 0.00463612, 0.004606  , 0.00435089,\n         0.00463413, 0.00426861, 0.00478798, 0.00528789, 0.00459866,\n         0.00368252, 0.00375827, 0.00346408, 0.00346408, 0.00346408,\n         0.00399561, 0.00391052, 0.0042524 , 0.00414774, 0.00422328,\n         0.00466611, 0.00407115, 0.0046903 , 0.00543973, 0.00440078,\n         0.00382127, 0.00376418, 0.00353029, 0.00443668, 0.00365827,\n         0.00411765, 0.00431188, 0.00431123, 0.00447817, 0.00487231,\n         0.00520343, 0.00483342, 0.00546494, 0.00574437, 0.00488576,\n         0.00508994, 0.00473916, 0.00438252, 0.00487695, 0.00394467,\n         0.00371165, 0.00403044, 0.00381207, 0.00387288, 0.00368838,\n         0.00378467, 0.00394063, 0.00462013, 0.00457127, 0.00429772,\n         0.00440242, 0.0040735 , 0.00384446, 0.00403992, 0.00346408]],\n       dtype=float32)>,\n <tf.Tensor: shape=(1, 1), dtype=float32, numpy=array([[-0.4951447]], dtype=float32)>)"
     },
     "execution_count": 72,
     "metadata": {},
     "output_type": "execute_result"
    }
   ],
   "source": [
    "the_model = NeuralNetAdapter( BOARD_SIZE+ 2)\n",
    "the_model.policy.summary()\n",
    "sample = np.expand_dims(examples[0][0][0], axis=0).astype(float)\n",
    "print(sample.shape)\n",
    "the_model.policy(sample, debug=True)"
   ],
   "metadata": {
    "collapsed": false,
    "pycharm": {
     "name": "#%%\n"
    }
   }
  },
  {
   "cell_type": "code",
   "execution_count": 88,
   "outputs": [
    {
     "name": "stdout",
     "output_type": "stream",
     "text": [
      "Epoch: 1, Loss: 4.434621810913086\n",
      "Epochs: 100, Loss: 3.8916749954223633\n"
     ]
    }
   ],
   "source": [
    "the_model.train(examples[0], epochs_per_train=100)"
   ],
   "metadata": {
    "collapsed": false,
    "pycharm": {
     "name": "#%%\n"
    }
   }
  },
  {
   "cell_type": "code",
   "execution_count": 93,
   "outputs": [
    {
     "name": "stdout",
     "output_type": "stream",
     "text": [
      "3 (17, 17, 3) -0.9940649207210548\n",
      "[[ 0  0  0  0  0  0  0  0  0  0  0  0  0  0  0]\n",
      " [ 0  0  0  0  0  0  0  0  0  0  0  0  0  0  0]\n",
      " [ 0  0  0  0  0  0  0  0  0  0  0  0  0  0  0]\n",
      " [ 0  0  0  0  0  0  0  0  0  0  0  0  0  0  0]\n",
      " [ 0  0  0  0  0  0  0  0  0  0  0  0  0  0  0]\n",
      " [ 0  0  0  0  0  0  0  0  0  0 50  0  0  0  0]\n",
      " [ 0  0  0  0  0  0  0  0  0  0  0  0  0  0  0]\n",
      " [ 0  0  0  0  0  0  0  0  0  0  0  0  0  0  0]\n",
      " [ 0  0  0  0  0  0  0  0  0 50  0  0  0  0  0]\n",
      " [ 0  0  0  0  0  0  0  0  0  0  0  0  0  0  0]\n",
      " [ 0  0  0  0  0  0  0  0  0  0  0  0  0  0  0]\n",
      " [ 0  0  0  0  0  0  0  0  0  0  0  0  0  0  0]\n",
      " [ 0  0  0  0  0  0  0  0  0  0  0  0  0  0  0]\n",
      " [ 0  0  0  0  0  0  0  0  0  0  0  0  0  0  0]\n",
      " [ 0  0  0  0  0  0  0  0  0  0  0  0  0  0  0]]\n",
      "shape: (17, 17, 3)\n",
      "[[3 3 3 3 3 3 3 3 3 3 3 3 3 3 3 3 3]\n",
      " [3 0 0 0 0 0 0 0 0 0 0 0 0 0 0 0 3]\n",
      " [3 0 0 0 0 0 0 0 0 0 0 0 0 0 0 0 3]\n",
      " [3 0 0 0 0 0 0 0 0 0 0 0 0 0 0 0 3]\n",
      " [3 0 0 0 0 0 0 0 0 0 0 0 1 0 0 0 3]\n",
      " [3 0 0 0 0 0 0 0 0 1 1 2 0 0 0 0 3]\n",
      " [3 0 0 0 0 0 0 0 0 0 2 0 0 0 0 0 3]\n",
      " [3 0 0 0 0 0 0 0 0 2 1 2 2 0 0 0 3]\n",
      " [3 0 0 0 0 0 0 0 2 0 1 2 0 0 0 0 3]\n",
      " [3 0 0 0 0 0 0 1 2 1 0 0 0 0 0 0 3]\n",
      " [3 0 0 0 0 0 0 0 1 2 0 0 0 0 0 0 3]\n",
      " [3 0 0 0 0 0 0 0 0 0 0 0 0 0 0 0 3]\n",
      " [3 0 0 0 0 0 0 0 0 0 0 0 0 0 0 0 3]\n",
      " [3 0 0 0 0 0 0 0 0 0 0 0 0 0 0 0 3]\n",
      " [3 0 0 0 0 0 0 0 0 0 0 0 0 0 0 0 3]\n",
      " [3 0 0 0 0 0 0 0 0 0 0 0 0 0 0 0 3]\n",
      " [3 3 3 3 3 3 3 3 3 3 3 3 3 3 3 3 3]]\n"
     ]
    }
   ],
   "source": [
    "ex=examples[0][-27]\n",
    "print(len(ex), ex[0].shape, ex[2])\n",
    "print((np.array(ex[1]) * 100).reshape((15, 15)).astype(int))\n",
    "gt.print_channels(ex[0])"
   ],
   "metadata": {
    "collapsed": false,
    "pycharm": {
     "name": "#%%\n"
    }
   }
  },
  {
   "cell_type": "code",
   "execution_count": 94,
   "outputs": [
    {
     "name": "stdout",
     "output_type": "stream",
     "text": [
      "Potential: 100848.2578125\n",
      "Value Head: -224.99996948242188\n",
      "Policy Head: 1385.758056640625\n",
      "[[ 0  0  0  0  0  0  0  0  0  0  0  0  0  0  0]\n",
      " [ 0  0  0  0  0  0  0  0  0  0  0  0  0  0  0]\n",
      " [ 0  0  0  0  0  0  0  0  0  0  0  0  0  0  0]\n",
      " [ 0  0  0  0  0  0  0  0  0  1  0 15  0  0  0]\n",
      " [ 0  0  0  0  0  0  0  0  0  0  3  0  0  0  0]\n",
      " [ 0  0  0  0  0  0  0  0  0  0  1  0 12  0  0]\n",
      " [ 0  0  0  0  0  0  0  0  0  3  1  0  0  0  0]\n",
      " [ 0  0  0  0  0  0  0  0  0  1 13  0  0  0  0]\n",
      " [ 0  0  0  0  0  0  0  0  0 28  0  0  0  0  0]\n",
      " [ 0  0  0  0  0  0  0  0  0  0  0  0  0  0  0]\n",
      " [ 0  0  0  0  0  0  1  5  0  0  0  0  0  0  0]\n",
      " [ 0  0  0  0  0  0  0  0  0  0  0  0  0  0  0]\n",
      " [ 0  0  0  0  0  0  0  0  0  0  0  0  0  0  0]\n",
      " [ 0  0  0  0  0  0  0  0  0  0  0  0  0  0  0]\n",
      " [ 0  0  0  0  0  0  0  0  0  0  0  0  0  0  0]]\n",
      "\n",
      "Value: [[0.06153749]]\n"
     ]
    }
   ],
   "source": [
    "p, v = the_model.predict(np.expand_dims(ex[0], axis=0).astype(float), debug=True)\n",
    "print((p*100).numpy().reshape((15, 15)).astype(int))\n",
    "print()\n",
    "print(f\"Value: {v}\")"
   ],
   "metadata": {
    "collapsed": false,
    "pycharm": {
     "name": "#%%\n"
    }
   }
  },
  {
   "cell_type": "code",
   "execution_count": null,
   "outputs": [],
   "source": [],
   "metadata": {
    "collapsed": false,
    "pycharm": {
     "name": "#%%\n"
    }
   }
  }
 ],
 "metadata": {
  "kernelspec": {
   "display_name": "Python 3",
   "language": "python",
   "name": "python3"
  },
  "language_info": {
   "codemirror_mode": {
    "name": "ipython",
    "version": 2
   },
   "file_extension": ".py",
   "mimetype": "text/x-python",
   "name": "python",
   "nbconvert_exporter": "python",
   "pygments_lexer": "ipython2",
   "version": "2.7.6"
  }
 },
 "nbformat": 4,
 "nbformat_minor": 0
}