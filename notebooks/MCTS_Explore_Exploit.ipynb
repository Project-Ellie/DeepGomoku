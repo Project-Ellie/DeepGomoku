{
 "cells": [
  {
   "cell_type": "markdown",
   "source": [
    "# Tuning MCTS params to support policy training"
   ],
   "metadata": {
    "collapsed": false,
    "pycharm": {
     "name": "#%% md\n"
    }
   }
  },
  {
   "cell_type": "markdown",
   "source": [
    "We are using the Upper Confidence Bound for MCTS\n",
    "\n",
    "$$\n",
    "U(s, a) = Q(s, a) + c_{puct} P(s, a) \\frac{\\sqrt{\\sum_b N(s, b)}}{1 + N(s, a)}\n",
    "$$"
   ],
   "metadata": {
    "collapsed": false,
    "pycharm": {
     "name": "#%% md\n"
    }
   }
  },
  {
   "cell_type": "code",
   "execution_count": 1,
   "outputs": [],
   "source": [
    "%load_ext autoreload\n",
    "%autoreload 2"
   ],
   "metadata": {
    "collapsed": false,
    "pycharm": {
     "name": "#%%\n"
    }
   }
  },
  {
   "cell_type": "code",
   "execution_count": null,
   "outputs": [],
   "source": [
    "import numpy as np\n",
    "\n",
    "from tqdm import tqdm\n",
    "\n",
    "from aegomoku.gomoku_board import GomokuBoard\n",
    "from aegomoku.gomoku_game import ConstantBoardInitializer, GomokuGame as Game\n",
    "from aegomoku.interfaces import MctsParams, PolicyAdviser, PolicyParams\n",
    "from aegomoku.mcts import MCTS\n",
    "from aegomoku.gomoku_players import PolicyAdvisedGraphSearchPlayer\n",
    "from aegomoku.policies.topological_value import TopologicalValuePolicy\n",
    "from aegomoku.utils import analyse_board"
   ],
   "metadata": {
    "collapsed": false,
    "pycharm": {
     "name": "#%%\n"
    }
   }
  },
  {
   "cell_type": "code",
   "execution_count": null,
   "outputs": [],
   "source": [
    "BOARD_SIZE=19\n"
   ],
   "metadata": {
    "collapsed": false,
    "pycharm": {
     "name": "#%%\n"
    }
   }
  },
  {
   "cell_type": "markdown",
   "source": [],
   "metadata": {
    "collapsed": false,
    "pycharm": {
     "name": "#%% md\n"
    }
   }
  },
  {
   "cell_type": "markdown",
   "source": [
    "---\n",
    "### The initial board"
   ],
   "metadata": {
    "collapsed": false,
    "pycharm": {
     "name": "#%% md\n"
    }
   }
  },
  {
   "cell_type": "code",
   "execution_count": null,
   "outputs": [],
   "source": [
    "# Yixin says: This is a 100% win for white - I guess we're not quite there, yet...;-(\n",
    "# stones = \"C11F9E9G8F7G7G9H8\"\n",
    "stones = \"C11F9E9G8F7G7G9H8I8H7I6I9F6H6H9I5J4\"\n",
    "# stones = \"H8G8\"\n",
    "stones = [256, 276, 238, 240, 219, 237, 184, 199]"
   ],
   "metadata": {
    "collapsed": false,
    "pycharm": {
     "name": "#%%\n"
    }
   }
  },
  {
   "cell_type": "code",
   "execution_count": null,
   "outputs": [],
   "source": [
    "policy = TopologicalValuePolicy(kappa_s=6, kappa_d=5)\n",
    "\n",
    "analyse_board(BOARD_SIZE, stones, policy, disp_width=6, policy_cutoff=.01)"
   ],
   "metadata": {
    "collapsed": false,
    "pycharm": {
     "name": "#%%\n"
    }
   }
  },
  {
   "cell_type": "code",
   "execution_count": null,
   "outputs": [],
   "source": [
    "the_game = Game(BOARD_SIZE, initializer=ConstantBoardInitializer(''))"
   ],
   "metadata": {
    "collapsed": false,
    "pycharm": {
     "name": "#%%\n"
    }
   }
  },
  {
   "cell_type": "code",
   "execution_count": null,
   "outputs": [],
   "source": [
    "mcts_params = MctsParams(cpuct=1.0, num_simulations=400, temperature=1.0)\n",
    "policy_params = PolicyParams(model_file_name=None, advice_cutoff=.01)\n",
    "advisor = PolicyAdviser(model=policy, params = policy_params)\n",
    "player = PolicyAdvisedGraphSearchPlayer(\"Tester\", the_game, mcts_params, adviser=advisor)"
   ],
   "metadata": {
    "collapsed": false,
    "pycharm": {
     "name": "#%%\n"
    }
   }
  },
  {
   "cell_type": "code",
   "execution_count": null,
   "outputs": [],
   "source": [
    "board = GomokuBoard(BOARD_SIZE, stones)"
   ],
   "metadata": {
    "collapsed": false,
    "pycharm": {
     "name": "#%%\n"
    }
   }
  },
  {
   "cell_type": "markdown",
   "source": [
    "---"
   ],
   "metadata": {
    "collapsed": false,
    "pycharm": {
     "name": "#%% md\n"
    }
   }
  },
  {
   "cell_type": "markdown",
   "source": [
    "# Essential Parameter: MCTS score read-out temperature\n",
    "A readout temperature between 4 and 6 will produce a reasonable input for future advice!"
   ],
   "metadata": {
    "collapsed": false,
    "pycharm": {
     "name": "#%% md\n"
    }
   }
  },
  {
   "cell_type": "code",
   "execution_count": null,
   "outputs": [],
   "source": [
    "print(\"Policy with decreasing readout temperatur\")\n",
    "player.refresh()\n",
    "player.mcts.get_action_prob(board)\n",
    "for t in tqdm(range(10, -1, -2)):\n",
    "    probs, v = player.evaluate(board, t)\n",
    "    analyse_board(BOARD_SIZE, stones, probs, disp_width=6, policy_cutoff=.01)"
   ],
   "metadata": {
    "collapsed": false,
    "pycharm": {
     "name": "#%%\n"
    }
   }
  },
  {
   "cell_type": "code",
   "execution_count": null,
   "outputs": [],
   "source": [
    "probs, _ = player.evaluate(board, 6)\n",
    "print((np.reshape(probs, (BOARD_SIZE, BOARD_SIZE)) * 99 / np.max(probs)).astype(int))"
   ],
   "metadata": {
    "collapsed": false,
    "pycharm": {
     "name": "#%%\n"
    }
   }
  },
  {
   "cell_type": "code",
   "execution_count": null,
   "outputs": [],
   "source": [],
   "metadata": {
    "collapsed": false,
    "pycharm": {
     "name": "#%%\n"
    }
   }
  }
 ],
 "metadata": {
  "kernelspec": {
   "display_name": "Python 3",
   "language": "python",
   "name": "python3"
  },
  "language_info": {
   "codemirror_mode": {
    "name": "ipython",
    "version": 2
   },
   "file_extension": ".py",
   "mimetype": "text/x-python",
   "name": "python",
   "nbconvert_exporter": "python",
   "pygments_lexer": "ipython2",
   "version": "2.7.6"
  }
 },
 "nbformat": 4,
 "nbformat_minor": 0
}
