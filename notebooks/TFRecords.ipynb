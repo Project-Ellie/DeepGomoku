{
 "cells": [
  {
   "cell_type": "code",
   "execution_count": 1,
   "outputs": [],
   "source": [
    "import os\n",
    "\n",
    "import numpy as np\n",
    "import tensorflow as tf\n",
    "from tensorflow.python.data import AUTOTUNE\n",
    "\n",
    "from aegomoku.game_data import read_training_data"
   ],
   "metadata": {
    "collapsed": false,
    "pycharm": {
     "name": "#%%\n"
    }
   }
  },
  {
   "cell_type": "code",
   "execution_count": 2,
   "outputs": [
    {
     "name": "stdout",
     "output_type": "stream",
     "text": [
      "['/Users/wgiersche/workspace/Project-Ellie/DATA/00011.pickle', '/Users/wgiersche/workspace/Project-Ellie/DATA/00003.pickle', '/Users/wgiersche/workspace/Project-Ellie/DATA/00001.pickle', '/Users/wgiersche/workspace/Project-Ellie/DATA/00009.pickle', '/Users/wgiersche/workspace/Project-Ellie/DATA/00005.pickle', '/Users/wgiersche/workspace/Project-Ellie/DATA/00007.pickle', '/Users/wgiersche/workspace/Project-Ellie/DATA/00010.pickle', '/Users/wgiersche/workspace/Project-Ellie/DATA/00002.pickle', '/Users/wgiersche/workspace/Project-Ellie/DATA/00012.pickle', '/Users/wgiersche/workspace/Project-Ellie/DATA/00008.pickle', '/Users/wgiersche/workspace/Project-Ellie/DATA/00004.pickle', '/Users/wgiersche/workspace/Project-Ellie/DATA/00006.pickle']\n"
     ]
    }
   ],
   "source": [
    "directory = \"/Users/wgiersche/workspace/Project-Ellie/DATA/\"\n",
    "filenames = [os.path.join(directory, filename) for filename in os.listdir(directory)]\n",
    "print(filenames)\n",
    "BOARD_SIZE=15"
   ],
   "metadata": {
    "collapsed": false,
    "pycharm": {
     "name": "#%%\n"
    }
   }
  },
  {
   "cell_type": "code",
   "execution_count": 3,
   "outputs": [
    {
     "name": "stdout",
     "output_type": "stream",
     "text": [
      "Reading from /Users/wgiersche/workspace/Project-Ellie/DATA/00011.pickle\n"
     ]
    },
    {
     "data": {
      "text/plain": "(6032, 3, (17, 17, 3))"
     },
     "execution_count": 3,
     "metadata": {},
     "output_type": "execute_result"
    }
   ],
   "source": [
    "filename = filenames[0]\n",
    "print(f\"Reading from {filename}\")\n",
    "examples = read_training_data(filename, BOARD_SIZE)\n",
    "len(examples), len(examples[0]), examples[0][0].shape\n",
    "#examples = examples[:5]"
   ],
   "metadata": {
    "collapsed": false,
    "pycharm": {
     "name": "#%%\n"
    }
   }
  },
  {
   "cell_type": "code",
   "execution_count": 4,
   "outputs": [],
   "source": [
    "def serialize_example(state, policy, value):\n",
    "  \"\"\"\n",
    "  Creates a tf.train.Example message ready to be written to a file.\n",
    "  \"\"\"\n",
    "  feature = {\n",
    "      's': tf.train.Feature(bytes_list=tf.train.BytesList(value=[state])),\n",
    "      'p': tf.train.Feature(bytes_list=tf.train.BytesList(value=[policy])),\n",
    "      'v': tf.train.Feature(float_list=tf.train.FloatList(value=[value]))\n",
    "  }\n",
    "\n",
    "  # Create a Features message using tf.train.Example.\n",
    "\n",
    "  e = tf.train.Example(features=tf.train.Features(feature=feature))\n",
    "  return e.SerializeToString()"
   ],
   "metadata": {
    "collapsed": false,
    "pycharm": {
     "name": "#%%\n"
    }
   }
  },
  {
   "cell_type": "code",
   "execution_count": 5,
   "outputs": [],
   "source": [
    "outfile = 'test2.tfrecord'"
   ],
   "metadata": {
    "collapsed": false,
    "pycharm": {
     "name": "#%%\n"
    }
   }
  },
  {
   "cell_type": "code",
   "execution_count": 6,
   "outputs": [
    {
     "name": "stderr",
     "output_type": "stream",
     "text": [
      "2022-09-04 21:43:56.285671: I tensorflow/core/platform/cpu_feature_guard.cc:193] This TensorFlow binary is optimized with oneAPI Deep Neural Network Library (oneDNN) to use the following CPU instructions in performance-critical operations:  AVX2 FMA\n",
      "To enable them in other operations, rebuild TensorFlow with the appropriate compiler flags.\n"
     ]
    }
   ],
   "source": [
    "# Write the `tf.train.Example` observations to the file.\n",
    "with tf.io.TFRecordWriter(outfile) as writer:\n",
    "    for state, policy, value in examples:\n",
    "        state = tf.io.serialize_tensor(state.astype(np.uint8)).numpy()\n",
    "        policy = tf.io.serialize_tensor(np.array(np.array(policy)*255).astype(np.uint8)).numpy()\n",
    "        example = serialize_example(state, policy, value)\n",
    "        writer.write(example)"
   ],
   "metadata": {
    "collapsed": false,
    "pycharm": {
     "name": "#%%\n"
    }
   }
  },
  {
   "cell_type": "code",
   "execution_count": 7,
   "outputs": [],
   "source": [
    "s, p, v = examples[0]"
   ],
   "metadata": {
    "collapsed": false,
    "pycharm": {
     "name": "#%%\n"
    }
   }
  },
  {
   "cell_type": "code",
   "execution_count": 8,
   "outputs": [
    {
     "data": {
      "text/plain": "886"
     },
     "execution_count": 8,
     "metadata": {},
     "output_type": "execute_result"
    }
   ],
   "source": [
    "len(tf.io.serialize_tensor(s.astype(np.uint8)).numpy())"
   ],
   "metadata": {
    "collapsed": false,
    "pycharm": {
     "name": "#%%\n"
    }
   }
  },
  {
   "cell_type": "code",
   "execution_count": 9,
   "outputs": [
    {
     "data": {
      "text/plain": "237"
     },
     "execution_count": 9,
     "metadata": {},
     "output_type": "execute_result"
    }
   ],
   "source": [
    "len(tf.io.serialize_tensor(np.array(p).astype(np.uint8)).numpy())"
   ],
   "metadata": {
    "collapsed": false,
    "pycharm": {
     "name": "#%%\n"
    }
   }
  },
  {
   "cell_type": "code",
   "execution_count": 10,
   "outputs": [
    {
     "data": {
      "text/plain": "<TFRecordDatasetV2 element_spec=TensorSpec(shape=(), dtype=tf.string, name=None)>"
     },
     "execution_count": 10,
     "metadata": {},
     "output_type": "execute_result"
    }
   ],
   "source": [
    "filenames = [outfile]\n",
    "raw_dataset = tf.data.TFRecordDataset(filenames)\n",
    "raw_dataset"
   ],
   "metadata": {
    "collapsed": false,
    "pycharm": {
     "name": "#%%\n"
    }
   }
  },
  {
   "cell_type": "code",
   "execution_count": 11,
   "outputs": [],
   "source": [
    "for raw_record in raw_dataset.take(1):\n",
    "  example = tf.train.Example()\n",
    "  example.ParseFromString(raw_record.numpy())\n",
    "  #print(example)"
   ],
   "metadata": {
    "collapsed": false,
    "pycharm": {
     "name": "#%%\n"
    }
   }
  },
  {
   "cell_type": "code",
   "execution_count": 12,
   "outputs": [
    {
     "data": {
      "text/plain": "b'\\x08\\x04\\x12\\x05\\x12\\x03\\x08\\xe1\\x01\"\\xe1\\x01\\x00\\x00\\x00\\x00\\x00\\x00\\x00\\x00\\x00\\x00\\x00\\x00\\x00\\x00\\x00\\x00\\x00\\x00\\x00\\x00\\x00\\x00\\x00\\x00\\x00\\x00\\x00\\x00\\x00\\x00\\x00\\x00\\x00\\x00\\x00\\x00\\x00\\x00\\x00\\x00\\x00\\x00\\x00\\x00\\x00\\x00\\x00\\x00\\x00\\x00\\x00\\x00\\x00\\x00\\x00\\x00\\x00\\x00\\x00\\x00\\x00\\x00\\x00\\x00\\x00\\x00\\x00\\x00\\x00\\x00\\x00\\x00\\x00\\x00\\x00\\x00\\x00\\x00\\x00\\x00\\x00<B\\x00\\x00C<\\x00\\x00\\x00\\x00\\x00\\x00\\x00\\x00\\x00\\x00\\x00\\x00\\x00\\x00\\x00\\x00\\x00\\x00\\x00\\x00\\x00\\x00\\x00\\x00\\x00\\x00\\x00\\x00\\x00\\x00\\x00\\x00\\x00\\x00\\x00\\x00\\x00\\x00\\x00\\x00\\x00\\x00\\x00\\x00\\x00\\x00\\x00\\x00\\x00\\x00\\x00\\x00\\x00\\x00\\x00\\x00\\x00\\x00\\x00\\x00\\x00\\x00\\x00\\x00\\x00\\x00\\x00\\x00\\x00\\x00\\x00\\x00\\x00\\x00\\x00\\x00\\x00\\x00\\x00\\x00\\x00\\x00\\x00\\x00\\x00\\x00\\x00\\x00\\x00\\x00\\x00\\x00\\x00\\x00\\x00\\x00\\x00\\x00\\x00\\x00\\x00\\x00\\x00\\x00\\x00\\x00\\x00\\x00\\x00\\x00\\x00\\x00\\x00\\x00\\x00\\x00\\x00\\x00\\x00\\x00\\x00\\x00\\x00\\x00\\x00\\x00\\x00\\x00\\x00\\x00\\x00\\x00\\x00\\x00\\x00\\x00\\x00\\x00'"
     },
     "execution_count": 12,
     "metadata": {},
     "output_type": "execute_result"
    }
   ],
   "source": [
    "# Create a description of the features.\n",
    "feature_description = {\n",
    "    's': tf.io.FixedLenFeature([], tf.string, default_value=''),\n",
    "    'p': tf.io.FixedLenFeature([], tf.string, default_value=''),\n",
    "    'v': tf.io.FixedLenFeature([], tf.float32, default_value=0),\n",
    "}\n",
    "\n",
    "dictionary =tf.io.parse_single_example(raw_record, feature_description)\n",
    "dictionary['p'].numpy()"
   ],
   "metadata": {
    "collapsed": false,
    "pycharm": {
     "name": "#%%\n"
    }
   }
  },
  {
   "cell_type": "code",
   "execution_count": 13,
   "outputs": [],
   "source": [
    "def read_tfrecord(example):\n",
    "\n",
    "    record = tf.io.parse_single_example(example, feature_description)\n",
    "    s = tf.io.parse_tensor(record['s'], out_type=tf.uint8)\n",
    "    p = tf.io.parse_tensor(record['p'], out_type=tf.uint8)\n",
    "    v = record['v']\n",
    "    return s, p, v"
   ],
   "metadata": {
    "collapsed": false,
    "pycharm": {
     "name": "#%%\n"
    }
   }
  },
  {
   "cell_type": "code",
   "execution_count": 14,
   "outputs": [],
   "source": [
    "def load_dataset(filenames):\n",
    "    ignore_order = tf.data.Options()\n",
    "    ignore_order.experimental_deterministic = False  # disable order, increase speed\n",
    "    dataset = tf.data.TFRecordDataset(\n",
    "        filenames\n",
    "    )  # automatically interleaves reads from multiple files\n",
    "    dataset = dataset.with_options(\n",
    "        ignore_order\n",
    "    )  # uses data as soon as it streams in, rather than in its original order\n",
    "    dataset = dataset.map(read_tfrecord, num_parallel_calls=AUTOTUNE\n",
    "    )\n",
    "    # returns a dataset of (image, label) pairs if labeled=True or just images if labeled=False\n",
    "    return dataset"
   ],
   "metadata": {
    "collapsed": false,
    "pycharm": {
     "name": "#%%\n"
    }
   }
  },
  {
   "cell_type": "code",
   "execution_count": 15,
   "outputs": [],
   "source": [
    "def get_dataset(filenames, batch_size):\n",
    "    dataset = load_dataset(filenames)\n",
    "    dataset = dataset.shuffle(2048)\n",
    "    dataset = dataset.prefetch(buffer_size=AUTOTUNE)\n",
    "    dataset = dataset.batch(batch_size)\n",
    "    return dataset"
   ],
   "metadata": {
    "collapsed": false,
    "pycharm": {
     "name": "#%%\n"
    }
   }
  },
  {
   "cell_type": "code",
   "execution_count": 16,
   "outputs": [],
   "source": [
    "ds = get_dataset(outfile, 8)"
   ],
   "metadata": {
    "collapsed": false,
    "pycharm": {
     "name": "#%%\n"
    }
   }
  },
  {
   "cell_type": "code",
   "execution_count": 17,
   "outputs": [],
   "source": [
    "s, p, v = next(iter(ds))"
   ],
   "metadata": {
    "collapsed": false,
    "pycharm": {
     "name": "#%%\n"
    }
   }
  },
  {
   "cell_type": "code",
   "execution_count": 18,
   "outputs": [
    {
     "data": {
      "text/plain": "<tf.Tensor: shape=(8, 17, 17, 3), dtype=uint8, numpy=\narray([[[[0, 0, 1],\n         [0, 0, 1],\n         [0, 0, 1],\n         ...,\n         [0, 0, 1],\n         [0, 0, 1],\n         [0, 0, 1]],\n\n        [[0, 0, 1],\n         [0, 0, 0],\n         [0, 0, 0],\n         ...,\n         [0, 0, 0],\n         [0, 0, 0],\n         [0, 0, 1]],\n\n        [[0, 0, 1],\n         [0, 0, 0],\n         [0, 0, 0],\n         ...,\n         [0, 0, 0],\n         [0, 0, 0],\n         [0, 0, 1]],\n\n        ...,\n\n        [[0, 0, 1],\n         [0, 0, 0],\n         [0, 0, 0],\n         ...,\n         [0, 0, 0],\n         [0, 0, 0],\n         [0, 0, 1]],\n\n        [[0, 0, 1],\n         [0, 0, 0],\n         [0, 0, 0],\n         ...,\n         [0, 0, 0],\n         [0, 0, 0],\n         [0, 0, 1]],\n\n        [[0, 0, 1],\n         [0, 0, 1],\n         [0, 0, 1],\n         ...,\n         [0, 0, 1],\n         [0, 0, 1],\n         [0, 0, 1]]],\n\n\n       [[[0, 0, 1],\n         [0, 0, 1],\n         [0, 0, 1],\n         ...,\n         [0, 0, 1],\n         [0, 0, 1],\n         [0, 0, 1]],\n\n        [[0, 0, 1],\n         [0, 0, 0],\n         [0, 0, 0],\n         ...,\n         [0, 0, 0],\n         [0, 0, 0],\n         [0, 0, 1]],\n\n        [[0, 0, 1],\n         [0, 0, 0],\n         [0, 0, 0],\n         ...,\n         [0, 0, 0],\n         [0, 0, 0],\n         [0, 0, 1]],\n\n        ...,\n\n        [[0, 0, 1],\n         [0, 0, 0],\n         [0, 0, 0],\n         ...,\n         [0, 0, 0],\n         [0, 0, 0],\n         [0, 0, 1]],\n\n        [[0, 0, 1],\n         [0, 0, 0],\n         [0, 0, 0],\n         ...,\n         [0, 0, 0],\n         [0, 0, 0],\n         [0, 0, 1]],\n\n        [[0, 0, 1],\n         [0, 0, 1],\n         [0, 0, 1],\n         ...,\n         [0, 0, 1],\n         [0, 0, 1],\n         [0, 0, 1]]],\n\n\n       [[[0, 0, 1],\n         [0, 0, 1],\n         [0, 0, 1],\n         ...,\n         [0, 0, 1],\n         [0, 0, 1],\n         [0, 0, 1]],\n\n        [[0, 0, 1],\n         [0, 0, 0],\n         [0, 0, 0],\n         ...,\n         [0, 0, 0],\n         [0, 0, 0],\n         [0, 0, 1]],\n\n        [[0, 0, 1],\n         [0, 0, 0],\n         [0, 0, 0],\n         ...,\n         [0, 0, 0],\n         [0, 0, 0],\n         [0, 0, 1]],\n\n        ...,\n\n        [[0, 0, 1],\n         [0, 0, 0],\n         [0, 0, 0],\n         ...,\n         [0, 0, 0],\n         [0, 0, 0],\n         [0, 0, 1]],\n\n        [[0, 0, 1],\n         [0, 0, 0],\n         [0, 0, 0],\n         ...,\n         [0, 0, 0],\n         [0, 0, 0],\n         [0, 0, 1]],\n\n        [[0, 0, 1],\n         [0, 0, 1],\n         [0, 0, 1],\n         ...,\n         [0, 0, 1],\n         [0, 0, 1],\n         [0, 0, 1]]],\n\n\n       ...,\n\n\n       [[[0, 0, 1],\n         [0, 0, 1],\n         [0, 0, 1],\n         ...,\n         [0, 0, 1],\n         [0, 0, 1],\n         [0, 0, 1]],\n\n        [[0, 0, 1],\n         [0, 0, 0],\n         [0, 0, 0],\n         ...,\n         [0, 0, 0],\n         [0, 0, 0],\n         [0, 0, 1]],\n\n        [[0, 0, 1],\n         [0, 0, 0],\n         [0, 0, 0],\n         ...,\n         [0, 0, 0],\n         [0, 0, 0],\n         [0, 0, 1]],\n\n        ...,\n\n        [[0, 0, 1],\n         [0, 0, 0],\n         [0, 0, 0],\n         ...,\n         [0, 0, 0],\n         [0, 0, 0],\n         [0, 0, 1]],\n\n        [[0, 0, 1],\n         [0, 0, 0],\n         [0, 0, 0],\n         ...,\n         [0, 0, 0],\n         [0, 0, 0],\n         [0, 0, 1]],\n\n        [[0, 0, 1],\n         [0, 0, 1],\n         [0, 0, 1],\n         ...,\n         [0, 0, 1],\n         [0, 0, 1],\n         [0, 0, 1]]],\n\n\n       [[[0, 0, 1],\n         [0, 0, 1],\n         [0, 0, 1],\n         ...,\n         [0, 0, 1],\n         [0, 0, 1],\n         [0, 0, 1]],\n\n        [[0, 0, 1],\n         [0, 0, 0],\n         [0, 0, 0],\n         ...,\n         [0, 0, 0],\n         [0, 0, 0],\n         [0, 0, 1]],\n\n        [[0, 0, 1],\n         [0, 0, 0],\n         [0, 0, 0],\n         ...,\n         [0, 0, 0],\n         [0, 0, 0],\n         [0, 0, 1]],\n\n        ...,\n\n        [[0, 0, 1],\n         [0, 0, 0],\n         [0, 0, 0],\n         ...,\n         [0, 0, 0],\n         [0, 0, 0],\n         [0, 0, 1]],\n\n        [[0, 0, 1],\n         [0, 0, 0],\n         [0, 0, 0],\n         ...,\n         [0, 0, 0],\n         [0, 0, 0],\n         [0, 0, 1]],\n\n        [[0, 0, 1],\n         [0, 0, 1],\n         [0, 0, 1],\n         ...,\n         [0, 0, 1],\n         [0, 0, 1],\n         [0, 0, 1]]],\n\n\n       [[[0, 0, 1],\n         [0, 0, 1],\n         [0, 0, 1],\n         ...,\n         [0, 0, 1],\n         [0, 0, 1],\n         [0, 0, 1]],\n\n        [[0, 0, 1],\n         [0, 0, 0],\n         [0, 0, 0],\n         ...,\n         [0, 0, 0],\n         [0, 0, 0],\n         [0, 0, 1]],\n\n        [[0, 0, 1],\n         [0, 0, 0],\n         [0, 0, 0],\n         ...,\n         [0, 0, 0],\n         [0, 0, 0],\n         [0, 0, 1]],\n\n        ...,\n\n        [[0, 0, 1],\n         [0, 0, 0],\n         [0, 0, 0],\n         ...,\n         [0, 0, 0],\n         [0, 0, 0],\n         [0, 0, 1]],\n\n        [[0, 0, 1],\n         [0, 0, 0],\n         [0, 0, 0],\n         ...,\n         [0, 0, 0],\n         [0, 0, 0],\n         [0, 0, 1]],\n\n        [[0, 0, 1],\n         [0, 0, 1],\n         [0, 0, 1],\n         ...,\n         [0, 0, 1],\n         [0, 0, 1],\n         [0, 0, 1]]]], dtype=uint8)>"
     },
     "execution_count": 18,
     "metadata": {},
     "output_type": "execute_result"
    }
   ],
   "source": [
    "s"
   ],
   "metadata": {
    "collapsed": false,
    "pycharm": {
     "name": "#%%\n"
    }
   }
  },
  {
   "cell_type": "code",
   "execution_count": null,
   "outputs": [],
   "source": [],
   "metadata": {
    "collapsed": false,
    "pycharm": {
     "name": "#%%\n"
    }
   }
  }
 ],
 "metadata": {
  "kernelspec": {
   "display_name": "Python 3",
   "language": "python",
   "name": "python3"
  },
  "language_info": {
   "codemirror_mode": {
    "name": "ipython",
    "version": 2
   },
   "file_extension": ".py",
   "mimetype": "text/x-python",
   "name": "python",
   "nbconvert_exporter": "python",
   "pygments_lexer": "ipython2",
   "version": "2.7.6"
  }
 },
 "nbformat": 4,
 "nbformat_minor": 0
}