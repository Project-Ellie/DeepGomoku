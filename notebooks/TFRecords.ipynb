{
 "cells": [
  {
   "cell_type": "code",
   "execution_count": 19,
   "outputs": [],
   "source": [
    "import os\n",
    "import random\n",
    "\n",
    "import numpy as np\n",
    "import tensorflow as tf\n",
    "from tensorflow.python.data import AUTOTUNE\n",
    "\n",
    "from aegomoku.game_data import read_training_data\n",
    "from pathlib import Path\n"
   ],
   "metadata": {
    "collapsed": false,
    "pycharm": {
     "name": "#%%\n"
    }
   }
  },
  {
   "cell_type": "code",
   "execution_count": 16,
   "outputs": [],
   "source": [
    "BOARD_SIZE=15"
   ],
   "metadata": {
    "collapsed": false,
    "pycharm": {
     "name": "#%%\n"
    }
   }
  },
  {
   "cell_type": "code",
   "execution_count": 13,
   "outputs": [],
   "source": [
    "HOME = Path.home()\n",
    "PHASE = '0'\n",
    "HOST = os.uname()[1]\n",
    "DTYPE = 'pickle'\n",
    "DATA_DIR = \"workspace/Project-Ellie/DATA\"\n",
    "pickle_dir = HOME / DATA_DIR / PHASE / DTYPE / HOST"
   ],
   "metadata": {
    "collapsed": false,
    "pycharm": {
     "name": "#%%\n"
    }
   }
  },
  {
   "cell_type": "code",
   "execution_count": 15,
   "outputs": [
    {
     "name": "stdout",
     "output_type": "stream",
     "text": [
      "['/home/wgiersche/workspace/Project-Ellie/DATA/0/pickle/scylla/00005.pickle', '/home/wgiersche/workspace/Project-Ellie/DATA/0/pickle/scylla/00011.pickle', '/home/wgiersche/workspace/Project-Ellie/DATA/0/pickle/scylla/00003.pickle', '/home/wgiersche/workspace/Project-Ellie/DATA/0/pickle/scylla/00009.pickle', '/home/wgiersche/workspace/Project-Ellie/DATA/0/pickle/scylla/00007.pickle', '/home/wgiersche/workspace/Project-Ellie/DATA/0/pickle/scylla/00010.pickle', '/home/wgiersche/workspace/Project-Ellie/DATA/0/pickle/scylla/00012.pickle', '/home/wgiersche/workspace/Project-Ellie/DATA/0/pickle/scylla/00006.pickle', '/home/wgiersche/workspace/Project-Ellie/DATA/0/pickle/scylla/00008.pickle', '/home/wgiersche/workspace/Project-Ellie/DATA/0/pickle/scylla/00001.pickle', '/home/wgiersche/workspace/Project-Ellie/DATA/0/pickle/scylla/00002.pickle', '/home/wgiersche/workspace/Project-Ellie/DATA/0/pickle/scylla/00004.pickle']\n"
     ]
    }
   ],
   "source": [
    "filenames = [os.path.join(pickle_dir, filename) for filename in os.listdir(pickle_dir)]\n",
    "print(filenames)"
   ],
   "metadata": {
    "collapsed": false,
    "pycharm": {
     "name": "#%%\n"
    }
   }
  },
  {
   "cell_type": "code",
   "execution_count": 17,
   "outputs": [
    {
     "name": "stdout",
     "output_type": "stream",
     "text": [
      "Reading from /home/wgiersche/workspace/Project-Ellie/DATA/0/pickle/scylla/00007.pickle\n"
     ]
    },
    {
     "data": {
      "text/plain": "(5648, 3, (17, 17, 3))"
     },
     "execution_count": 17,
     "metadata": {},
     "output_type": "execute_result"
    }
   ],
   "source": [
    "filename = filenames[4]\n",
    "print(f\"Reading from {filename}\")\n",
    "examples = read_training_data(filename)\n",
    "len(examples), len(examples[0]), examples[0][0].shape\n",
    "#examples = examples[:5]"
   ],
   "metadata": {
    "collapsed": false,
    "pycharm": {
     "name": "#%%\n"
    }
   }
  },
  {
   "cell_type": "code",
   "execution_count": 39,
   "outputs": [
    {
     "name": "stdout",
     "output_type": "stream",
     "text": [
      "Next to play: BLACK\n",
      "Value from BLACK's point of view: 0.09438640954307118\n"
     ]
    },
    {
     "data": {
      "text/plain": "<Figure size 750x750 with 1 Axes>",
      "image/png": "[encoded data removed]"
     },
     "metadata": {},
     "output_type": "display_data"
    }
   ],
   "source": [
    "from aegomoku.utils import analyse_example\n",
    "n = random.randint(0, len(examples))\n",
    "analyse_example(BOARD_SIZE, examples[n])"
   ],
   "metadata": {
    "collapsed": false,
    "pycharm": {
     "name": "#%%\n"
    }
   }
  },
  {
   "cell_type": "code",
   "execution_count": 7,
   "outputs": [],
   "source": [
    "def serialize_example(state, policy, value):\n",
    "  \"\"\"\n",
    "  Creates a tf.train.Example message ready to be written to a file.\n",
    "  \"\"\"\n",
    "  feature = {\n",
    "      's': tf.train.Feature(bytes_list=tf.train.BytesList(value=[state])),\n",
    "      'p': tf.train.Feature(bytes_list=tf.train.BytesList(value=[policy])),\n",
    "      'v': tf.train.Feature(float_list=tf.train.FloatList(value=[value]))\n",
    "  }\n",
    "\n",
    "  # Create a Features message using tf.train.Example.\n",
    "\n",
    "  e = tf.train.Example(features=tf.train.Features(feature=feature))\n",
    "  return e.SerializeToString()"
   ],
   "metadata": {
    "collapsed": false,
    "pycharm": {
     "name": "#%%\n"
    }
   }
  },
  {
   "cell_type": "code",
   "execution_count": 8,
   "outputs": [],
   "source": [
    "outfile = 'test2.tfrecord'"
   ],
   "metadata": {
    "collapsed": false,
    "pycharm": {
     "name": "#%%\n"
    }
   }
  },
  {
   "cell_type": "code",
   "execution_count": 9,
   "outputs": [
    {
     "name": "stderr",
     "output_type": "stream",
     "text": [
      "2022-09-05 18:48:31.065567: I tensorflow/core/platform/cpu_feature_guard.cc:193] This TensorFlow binary is optimized with oneAPI Deep Neural Network Library (oneDNN) to use the following CPU instructions in performance-critical operations:  AVX2 FMA\n",
      "To enable them in other operations, rebuild TensorFlow with the appropriate compiler flags.\n"
     ]
    }
   ],
   "source": [
    "# Write the `tf.train.Example` observations to the file.\n",
    "with tf.io.TFRecordWriter(outfile) as writer:\n",
    "    for state, policy, value in examples:\n",
    "        state = tf.io.serialize_tensor(state.astype(np.uint8)).numpy()\n",
    "        policy = tf.io.serialize_tensor(np.array(np.array(policy)*255).astype(np.uint8)).numpy()\n",
    "        example = serialize_example(state, policy, value)\n",
    "        writer.write(example)"
   ],
   "metadata": {
    "collapsed": false,
    "pycharm": {
     "name": "#%%\n"
    }
   }
  },
  {
   "cell_type": "code",
   "execution_count": 10,
   "outputs": [],
   "source": [
    "s, p, v = examples[0]"
   ],
   "metadata": {
    "collapsed": false,
    "pycharm": {
     "name": "#%%\n"
    }
   }
  },
  {
   "cell_type": "code",
   "execution_count": 11,
   "outputs": [
    {
     "data": {
      "text/plain": "886"
     },
     "execution_count": 11,
     "metadata": {},
     "output_type": "execute_result"
    }
   ],
   "source": [
    "len(tf.io.serialize_tensor(s.astype(np.uint8)).numpy())"
   ],
   "metadata": {
    "collapsed": false,
    "pycharm": {
     "name": "#%%\n"
    }
   }
  },
  {
   "cell_type": "code",
   "execution_count": 12,
   "outputs": [
    {
     "data": {
      "text/plain": "237"
     },
     "execution_count": 12,
     "metadata": {},
     "output_type": "execute_result"
    }
   ],
   "source": [
    "len(tf.io.serialize_tensor(np.array(p).astype(np.uint8)).numpy())"
   ],
   "metadata": {
    "collapsed": false,
    "pycharm": {
     "name": "#%%\n"
    }
   }
  },
  {
   "cell_type": "code",
   "execution_count": 13,
   "outputs": [
    {
     "data": {
      "text/plain": "<TFRecordDatasetV2 element_spec=TensorSpec(shape=(), dtype=tf.string, name=None)>"
     },
     "execution_count": 13,
     "metadata": {},
     "output_type": "execute_result"
    }
   ],
   "source": [
    "filenames = [outfile]\n",
    "raw_dataset = tf.data.TFRecordDataset(filenames)\n",
    "raw_dataset"
   ],
   "metadata": {
    "collapsed": false,
    "pycharm": {
     "name": "#%%\n"
    }
   }
  },
  {
   "cell_type": "code",
   "execution_count": 14,
   "outputs": [],
   "source": [
    "for raw_record in raw_dataset.take(1):\n",
    "  example = tf.train.Example()\n",
    "  example.ParseFromString(raw_record.numpy())\n",
    "  #print(example)"
   ],
   "metadata": {
    "collapsed": false,
    "pycharm": {
     "name": "#%%\n"
    }
   }
  },
  {
   "cell_type": "code",
   "execution_count": 15,
   "outputs": [
    {
     "data": {
      "text/plain": "b'\\x08\\x04\\x12\\x05\\x12\\x03\\x08\\xe1\\x01\"\\xe1\\x01\\x00\\x00\\x00\\x00\\x00\\x00\\x00\\x00\\x00\\x00\\x00\\x00\\x00\\x00\\x00\\x00\\x00\\x00\\x00\\x00\\x00\\x00\\x00\\x00\\x00\\x00\\x00\\x00\\x00\\x00\\x00\\x00\\x00\\x00\\x00\\x00\\x00\\x00\\x00\\x00\\x00\\x00\\x00\\x00\\x00\\x00\\x00\\x00\\x00\\x00\\x00\\x00\\x00\\x00\\x00\\x00\\x00\\x00\\x00\\x00\\x00\\x00\\x00\\x00\\x00\\x00\\x00\\x00\\x00\\x00\\x00\\x00\\x00\\x00\\x00\\x00\\x00\\x00\\x00\\x00\\x00<B\\x00\\x00C<\\x00\\x00\\x00\\x00\\x00\\x00\\x00\\x00\\x00\\x00\\x00\\x00\\x00\\x00\\x00\\x00\\x00\\x00\\x00\\x00\\x00\\x00\\x00\\x00\\x00\\x00\\x00\\x00\\x00\\x00\\x00\\x00\\x00\\x00\\x00\\x00\\x00\\x00\\x00\\x00\\x00\\x00\\x00\\x00\\x00\\x00\\x00\\x00\\x00\\x00\\x00\\x00\\x00\\x00\\x00\\x00\\x00\\x00\\x00\\x00\\x00\\x00\\x00\\x00\\x00\\x00\\x00\\x00\\x00\\x00\\x00\\x00\\x00\\x00\\x00\\x00\\x00\\x00\\x00\\x00\\x00\\x00\\x00\\x00\\x00\\x00\\x00\\x00\\x00\\x00\\x00\\x00\\x00\\x00\\x00\\x00\\x00\\x00\\x00\\x00\\x00\\x00\\x00\\x00\\x00\\x00\\x00\\x00\\x00\\x00\\x00\\x00\\x00\\x00\\x00\\x00\\x00\\x00\\x00\\x00\\x00\\x00\\x00\\x00\\x00\\x00\\x00\\x00\\x00\\x00\\x00\\x00\\x00\\x00\\x00\\x00\\x00\\x00'"
     },
     "execution_count": 15,
     "metadata": {},
     "output_type": "execute_result"
    }
   ],
   "source": [
    "# Create a description of the features.\n",
    "feature_description = {\n",
    "    's': tf.io.FixedLenFeature([], tf.string, default_value=''),\n",
    "    'p': tf.io.FixedLenFeature([], tf.string, default_value=''),\n",
    "    'v': tf.io.FixedLenFeature([], tf.float32, default_value=0),\n",
    "}\n",
    "\n",
    "dictionary =tf.io.parse_single_example(raw_record, feature_description)\n",
    "dictionary['p'].numpy()"
   ],
   "metadata": {
    "collapsed": false,
    "pycharm": {
     "name": "#%%\n"
    }
   }
  },
  {
   "cell_type": "code",
   "execution_count": 16,
   "outputs": [],
   "source": [
    "def read_tfrecord(example):\n",
    "\n",
    "    record = tf.io.parse_single_example(example, feature_description)\n",
    "    s = tf.io.parse_tensor(record['s'], out_type=tf.uint8)\n",
    "    p = tf.cast(tf.io.parse_tensor(record['p'], out_type=tf.uint8), tf.float32) / 256.\n",
    "    v = record['v']\n",
    "    return s, p, v"
   ],
   "metadata": {
    "collapsed": false,
    "pycharm": {
     "name": "#%%\n"
    }
   }
  },
  {
   "cell_type": "code",
   "execution_count": 17,
   "outputs": [],
   "source": [
    "def load_dataset(filenames):\n",
    "    ignore_order = tf.data.Options()\n",
    "    ignore_order.experimental_deterministic = False  # disable order, increase speed\n",
    "    dataset = tf.data.TFRecordDataset(filenames)  # automatically interleaves reads from multiple files\n",
    "    dataset = dataset.with_options(ignore_order)\n",
    "    dataset = dataset.map(read_tfrecord, num_parallel_calls=AUTOTUNE)\n",
    "    return dataset"
   ],
   "metadata": {
    "collapsed": false,
    "pycharm": {
     "name": "#%%\n"
    }
   }
  },
  {
   "cell_type": "code",
   "execution_count": 18,
   "outputs": [],
   "source": [
    "def get_dataset(filenames, batch_size):\n",
    "    dataset = load_dataset(filenames)\n",
    "    dataset = dataset.shuffle(2048)\n",
    "    dataset = dataset.prefetch(buffer_size=AUTOTUNE)\n",
    "    dataset = dataset.batch(batch_size)\n",
    "    return dataset"
   ],
   "metadata": {
    "collapsed": false,
    "pycharm": {
     "name": "#%%\n"
    }
   }
  },
  {
   "cell_type": "code",
   "execution_count": 19,
   "outputs": [
    {
     "data": {
      "text/plain": "(TensorShape([1, 17, 17, 3]), TensorShape([1, 225]), TensorShape([1]))"
     },
     "execution_count": 19,
     "metadata": {},
     "output_type": "execute_result"
    }
   ],
   "source": [
    "ds = get_dataset(outfile, 1)\n",
    "s, p, v = next(iter(ds))\n",
    "s.shape, p.shape, v.shape"
   ],
   "metadata": {
    "collapsed": false,
    "pycharm": {
     "name": "#%%\n"
    }
   }
  },
  {
   "cell_type": "code",
   "execution_count": 20,
   "outputs": [],
   "source": [
    "example = np.squeeze(s), list(np.squeeze(p)), np.squeeze(v)"
   ],
   "metadata": {
    "collapsed": false,
    "pycharm": {
     "name": "#%%\n"
    }
   }
  },
  {
   "cell_type": "code",
   "execution_count": 21,
   "outputs": [
    {
     "name": "stdout",
     "output_type": "stream",
     "text": [
      "Next to play: WHITE\n",
      "Value from WHITE's point of view: 0.08457107096910477\n"
     ]
    },
    {
     "data": {
      "text/plain": "<Figure size 800x800 with 1 Axes>",
      "image/png": "[encoded data removed]"
     },
     "metadata": {},
     "output_type": "display_data"
    }
   ],
   "source": [
    "from aegomoku.utils import analyse_example\n",
    "\n",
    "analyse_example(BOARD_SIZE, example, disp_width=8)"
   ],
   "metadata": {
    "collapsed": false,
    "pycharm": {
     "name": "#%%\n"
    }
   }
  },
  {
   "cell_type": "code",
   "execution_count": null,
   "outputs": [],
   "source": [],
   "metadata": {
    "collapsed": false,
    "pycharm": {
     "name": "#%%\n"
    }
   }
  },
  {
   "cell_type": "code",
   "execution_count": null,
   "outputs": [],
   "source": [],
   "metadata": {
    "collapsed": false,
    "pycharm": {
     "name": "#%%\n"
    }
   }
  },
  {
   "cell_type": "code",
   "execution_count": null,
   "outputs": [],
   "source": [],
   "metadata": {
    "collapsed": false,
    "pycharm": {
     "name": "#%%\n"
    }
   }
  },
  {
   "cell_type": "code",
   "execution_count": null,
   "outputs": [],
   "source": [],
   "metadata": {
    "collapsed": false,
    "pycharm": {
     "name": "#%%\n"
    }
   }
  },
  {
   "cell_type": "code",
   "execution_count": 24,
   "outputs": [
    {
     "name": "stdout",
     "output_type": "stream",
     "text": [
      "Model: \"gomoku_resnet_1\"\n",
      "__________________________________________________________________________________________________\n",
      " Layer (type)                   Output Shape         Param #     Connected to                     \n",
      "==================================================================================================\n",
      " inputs (InputLayer)            [(None, 17, 17, 3)]  0           []                               \n",
      "                                                                                                  \n",
      " heuristic_detector (Conv2D)    (None, 17, 17, 307)  111748      ['inputs[0][0]']                 \n",
      "                                                                                                  \n",
      " expand_1_11x11 (Conv2D)        (None, 17, 17, 128)  46592       ['inputs[0][0]']                 \n",
      "                                                                                                  \n",
      " heuristic_priority (Conv2D)    (None, 17, 17, 5)    1540        ['heuristic_detector[0][0]']     \n",
      "                                                                                                  \n",
      " contract_1_5x5 (Conv2D)        (None, 17, 17, 4)    12804       ['expand_1_11x11[0][0]']         \n",
      "                                                                                                  \n",
      " concatenate_3 (Concatenate)    (None, 17, 17, 9)    0           ['heuristic_priority[0][0]',     \n",
      "                                                                  'contract_1_5x5[0][0]']         \n",
      "                                                                                                  \n",
      " expand_2_5x5 (Conv2D)          (None, 17, 17, 32)   7232        ['concatenate_3[0][0]']          \n",
      "                                                                                                  \n",
      " contract_2_3x3 (Conv2D)        (None, 17, 17, 4)    1156        ['expand_2_5x5[0][0]']           \n",
      "                                                                                                  \n",
      " skip_2 (Add)                   (None, 17, 17, 4)    0           ['contract_2_3x3[0][0]',         \n",
      "                                                                  'contract_1_5x5[0][0]']         \n",
      "                                                                                                  \n",
      " concatenate_4 (Concatenate)    (None, 17, 17, 9)    0           ['heuristic_priority[0][0]',     \n",
      "                                                                  'skip_2[0][0]']                 \n",
      "                                                                                                  \n",
      " expand_3_5x5 (Conv2D)          (None, 17, 17, 32)   7232        ['concatenate_4[0][0]']          \n",
      "                                                                                                  \n",
      " contract_3_3x3 (Conv2D)        (None, 17, 17, 4)    1156        ['expand_3_5x5[0][0]']           \n",
      "                                                                                                  \n",
      " skip_3 (Add)                   (None, 17, 17, 4)    0           ['contract_3_3x3[0][0]',         \n",
      "                                                                  'skip_2[0][0]']                 \n",
      "                                                                                                  \n",
      " concatenate_5 (Concatenate)    (None, 17, 17, 9)    0           ['heuristic_priority[0][0]',     \n",
      "                                                                  'skip_3[0][0]']                 \n",
      "                                                                                                  \n",
      " expand_4_5x5 (Conv2D)          (None, 17, 17, 32)   7232        ['concatenate_5[0][0]']          \n",
      "                                                                                                  \n",
      " contract_4_3x3 (Conv2D)        (None, 17, 17, 4)    1156        ['expand_4_5x5[0][0]']           \n",
      "                                                                                                  \n",
      " skip_4 (Add)                   (None, 17, 17, 4)    0           ['contract_4_3x3[0][0]',         \n",
      "                                                                  'skip_3[0][0]']                 \n",
      "                                                                                                  \n",
      " policy_aggregator (Conv2D)     (None, 17, 17, 1)    5           ['skip_4[0][0]']                 \n",
      "                                                                                                  \n",
      " all_value_input (Concatenate)  (None, 17, 17, 13)   0           ['contract_4_3x3[0][0]',         \n",
      "                                                                  'concatenate_3[0][0]']          \n",
      "                                                                                                  \n",
      " border_off (Conv2D)            (None, 15, 15, 1)    10          ['policy_aggregator[0][0]']      \n",
      "                                                                                                  \n",
      " flat_value_input (Flatten)     (None, 3757)         0           ['all_value_input[0][0]']        \n",
      "                                                                                                  \n",
      " flat_logits (Flatten)          (None, 225)          0           ['border_off[0][0]']             \n",
      "                                                                                                  \n",
      " tf.math.truediv_1 (TFOpLambda)  (None, 3757)        0           ['flat_value_input[0][0]']       \n",
      "                                                                                                  \n",
      " policy_head (Softmax)          (None, 225)          0           ['flat_logits[0][0]']            \n",
      "                                                                                                  \n",
      " value_head (Dense)             (None, 1)            3758        ['tf.math.truediv_1[0][0]']      \n",
      "                                                                                                  \n",
      "==================================================================================================\n",
      "Total params: 201,621\n",
      "Trainable params: 88,323\n",
      "Non-trainable params: 113,298\n",
      "__________________________________________________________________________________________________\n"
     ]
    }
   ],
   "source": [
    "from aegomoku.gomoku_resnet import GomokuResnet\n",
    "\n",
    "# Note that this model is way too small. We're only demonstrating convergence, here.\n",
    "model = GomokuResnet(BOARD_SIZE, num_sensor_filters=128, num_blocks=4)\n",
    "model.compile()\n",
    "model.summary()"
   ],
   "metadata": {
    "collapsed": false,
    "pycharm": {
     "name": "#%%\n"
    }
   }
  },
  {
   "cell_type": "code",
   "execution_count": 25,
   "outputs": [
    {
     "name": "stdout",
     "output_type": "stream",
     "text": [
      "Epoch: 1, Training: p: 5.289, v: 0.12264 - elapsed: 24.738s\n",
      "Epoch: 2, Training: p: 5.2254, v: 0.12292 - elapsed: 12.185s\n",
      "Epoch: 3, Training: p: 5.1641, v: 0.12299 - elapsed: 12.179s\n",
      "Epoch: 4, Training: p: 5.1013, v: 0.12293 - elapsed: 12.257s\n",
      "Epoch: 5, Training: p: 5.03, v: 0.12273 - elapsed: 12.251s\n",
      "Epoch: 6, Training: p: 4.9529, v: 0.12264 - elapsed: 12.283s\n",
      "Epoch: 7, Training: p: 4.8671, v: 0.12238 - elapsed: 12.213s\n",
      "Epoch: 8, Training: p: 4.7752, v: 0.12223 - elapsed: 12.082s\n",
      "Epoch: 9, Training: p: 4.6796, v: 0.12195 - elapsed: 12.064s\n",
      "Epoch: 10, Training: (4.6795883, 0.12194928)\n"
     ]
    }
   ],
   "source": [
    "from aegomoku.trainer import Trainer\n",
    "\n",
    "trainer = Trainer(model)\n",
    "ds = get_dataset(outfile, 1024)\n",
    "trainer.train(ds, epochs_per_train=10, report_every=1)"
   ],
   "metadata": {
    "collapsed": false,
    "pycharm": {
     "name": "#%%\n"
    }
   }
  },
  {
   "cell_type": "code",
   "execution_count": null,
   "outputs": [],
   "source": [],
   "metadata": {
    "collapsed": false,
    "pycharm": {
     "name": "#%%\n"
    }
   }
  }
 ],
 "metadata": {
  "kernelspec": {
   "display_name": "Python 3",
   "language": "python",
   "name": "python3"
  },
  "language_info": {
   "codemirror_mode": {
    "name": "ipython",
    "version": 2
   },
   "file_extension": ".py",
   "mimetype": "text/x-python",
   "name": "python",
   "nbconvert_exporter": "python",
   "pygments_lexer": "ipython2",
   "version": "2.7.6"
  }
 },
 "nbformat": 4,
 "nbformat_minor": 0
}