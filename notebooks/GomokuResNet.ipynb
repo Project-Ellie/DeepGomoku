{
 "cells": [
  {
   "cell_type": "markdown",
   "source": [
    "# A Resnet Variant for Gomoku"
   ],
   "metadata": {
    "collapsed": false,
    "pycharm": {
     "name": "#%% md\n"
    }
   }
  },
  {
   "cell_type": "code",
   "execution_count": 1,
   "outputs": [],
   "source": [
    "%load_ext autoreload\n",
    "%autoreload 2"
   ],
   "metadata": {
    "collapsed": false,
    "pycharm": {
     "name": "#%%\n"
    }
   }
  },
  {
   "cell_type": "code",
   "execution_count": 2,
   "outputs": [],
   "source": [
    "import datetime as dt\n",
    "import random\n",
    "\n",
    "import numpy as np\n",
    "import tensorflow as tf\n",
    "import keras\n",
    "from keras import layers\n",
    "\n",
    "from aegomoku.game_data import read_training_data, create_dataset\n",
    "import keras.initializers.initializers_v2 as initializers\n",
    "from aegomoku.policies.primary_detector import PrimaryDetector"
   ],
   "metadata": {
    "collapsed": false,
    "pycharm": {
     "name": "#%%\n"
    }
   }
  },
  {
   "cell_type": "markdown",
   "source": [
    "# Training on Terminal Threats\n",
    "Let's start easy. terminal threats are lines of 4 with at least one open end. These positions MUST be taken or the opponents next move terminates the game in her favor."
   ],
   "metadata": {
    "collapsed": false,
    "pycharm": {
     "name": "#%% md\n"
    }
   }
  },
  {
   "cell_type": "code",
   "execution_count": 3,
   "outputs": [
    {
     "data": {
      "text/plain": "(20320, 3, (17, 17, 3), (225,))"
     },
     "execution_count": 3,
     "metadata": {},
     "output_type": "execute_result"
    }
   ],
   "source": [
    "BOARD_SIZE=15\n",
    "filename = \"rawdata.pickle\"\n",
    "examples = read_training_data(filename, BOARD_SIZE)\n",
    "len(examples), len(examples[0]), examples[0][0].shape, np.array(examples[0][1]).shape"
   ],
   "metadata": {
    "collapsed": false,
    "pycharm": {
     "name": "#%%\n"
    }
   }
  },
  {
   "cell_type": "markdown",
   "source": [
    "# Trainable components combined with a heuristic *advisor*\n",
    "Actually, it's boring feature engineering, what we're doing here. And yes that's exactly why this is **Alpha Epsilon** - not quite **Alpha Zero**: We induce a little *bias* by providing knowledge about the most critical positions"
   ],
   "metadata": {
    "collapsed": false,
    "pycharm": {
     "name": "#%% md\n"
    }
   }
  },
  {
   "cell_type": "code",
   "execution_count": 4,
   "outputs": [],
   "source": [
    "inputs = keras.Input(shape=(17, 17, 3), name=\"inputs\")"
   ],
   "metadata": {
    "collapsed": false,
    "pycharm": {
     "name": "#%%\n"
    }
   }
  },
  {
   "cell_type": "code",
   "execution_count": 5,
   "outputs": [],
   "source": [
    "def xp(n, filters, kernel):\n",
    "    return layers.Conv2D(\n",
    "        name=f\"expand_{n}_{kernel}x{kernel}\",\n",
    "        filters=filters, kernel_size=kernel,\n",
    "        kernel_initializer=initializers.TruncatedNormal(seed=1, stddev=0.08),\n",
    "        bias_initializer=tf.constant_initializer(0.),\n",
    "        activation=tf.nn.softplus,\n",
    "        padding='same')"
   ],
   "metadata": {
    "collapsed": false,
    "pycharm": {
     "name": "#%%\n"
    }
   }
  },
  {
   "cell_type": "code",
   "execution_count": 6,
   "outputs": [],
   "source": [
    "def ct(n, filters, kernel):\n",
    "    return layers.Conv2D(\n",
    "        name=f\"contract_{n}_{kernel}x{kernel}\",\n",
    "        filters=filters, kernel_size=kernel,\n",
    "        kernel_initializer=initializers.TruncatedNormal(seed=1, stddev=0.08),\n",
    "        bias_initializer=tf.constant_initializer(0.),\n",
    "        activation=tf.nn.softplus,\n",
    "        padding='same')"
   ],
   "metadata": {
    "collapsed": false,
    "pycharm": {
     "name": "#%%\n"
    }
   }
  },
  {
   "cell_type": "code",
   "execution_count": 7,
   "outputs": [],
   "source": [
    "policy_aggregate = layers.Conv2D(\n",
    "    name=\"policy_aggregator\",\n",
    "    filters=1, kernel_size=1,\n",
    "    kernel_initializer=initializers.TruncatedNormal(seed=1, stddev=0.08),\n",
    "    bias_initializer=tf.constant_initializer(0.),\n",
    "    activation=tf.nn.relu,\n",
    "    padding='same')"
   ],
   "metadata": {
    "collapsed": false,
    "pycharm": {
     "name": "#%%\n"
    }
   }
  },
  {
   "cell_type": "code",
   "execution_count": 8,
   "outputs": [],
   "source": [
    "peel = layers.Conv2D(\n",
    "    name=\"border_off\",\n",
    "    filters=1, kernel_size=(3, 3),\n",
    "    kernel_initializer=tf.constant_initializer([[0., 0., 0.], [0., 1., 0.], [0., 0., 0.]]),\n",
    "    bias_initializer=tf.constant_initializer(0.),\n",
    "    padding='valid',\n",
    "    trainable=False)"
   ],
   "metadata": {
    "collapsed": false,
    "pycharm": {
     "name": "#%%\n"
    }
   }
  },
  {
   "cell_type": "code",
   "execution_count": 9,
   "outputs": [
    {
     "name": "stderr",
     "output_type": "stream",
     "text": [
      "/home/wgiersche/.local/share/virtualenvs/DeepGomoku-yQC4gx5q/lib/python3.8/site-packages/numpy/core/fromnumeric.py:2009: VisibleDeprecationWarning: Creating an ndarray from ragged nested sequences (which is a list-or-tuple of lists-or-tuples-or ndarrays with different lengths or shapes) is deprecated. If you meant to do this, you must specify 'dtype=object' when creating the ndarray.\n",
      "  result = asarray(a).shape\n"
     ]
    }
   ],
   "source": [
    "advisor = PrimaryDetector(BOARD_SIZE, activation=tf.keras.activations.tanh, name='heuristics')"
   ],
   "metadata": {
    "collapsed": false,
    "pycharm": {
     "name": "#%%\n"
    }
   }
  },
  {
   "cell_type": "code",
   "execution_count": 10,
   "outputs": [
    {
     "name": "stderr",
     "output_type": "stream",
     "text": [
      "2022-08-20 20:57:48.367482: I tensorflow/stream_executor/cuda/cuda_gpu_executor.cc:975] successful NUMA node read from SysFS had negative value (-1), but there must be at least one NUMA node, so returning NUMA node zero\n",
      "2022-08-20 20:57:48.367967: I tensorflow/stream_executor/cuda/cuda_gpu_executor.cc:975] successful NUMA node read from SysFS had negative value (-1), but there must be at least one NUMA node, so returning NUMA node zero\n",
      "2022-08-20 20:57:48.375482: I tensorflow/stream_executor/cuda/cuda_gpu_executor.cc:975] successful NUMA node read from SysFS had negative value (-1), but there must be at least one NUMA node, so returning NUMA node zero\n",
      "2022-08-20 20:57:48.376004: I tensorflow/stream_executor/cuda/cuda_gpu_executor.cc:975] successful NUMA node read from SysFS had negative value (-1), but there must be at least one NUMA node, so returning NUMA node zero\n",
      "2022-08-20 20:57:48.377211: I tensorflow/stream_executor/cuda/cuda_gpu_executor.cc:975] successful NUMA node read from SysFS had negative value (-1), but there must be at least one NUMA node, so returning NUMA node zero\n",
      "2022-08-20 20:57:48.377546: I tensorflow/stream_executor/cuda/cuda_gpu_executor.cc:975] successful NUMA node read from SysFS had negative value (-1), but there must be at least one NUMA node, so returning NUMA node zero\n",
      "2022-08-20 20:57:48.378954: I tensorflow/core/platform/cpu_feature_guard.cc:193] This TensorFlow binary is optimized with oneAPI Deep Neural Network Library (oneDNN) to use the following CPU instructions in performance-critical operations:  AVX2 FMA\n",
      "To enable them in other operations, rebuild TensorFlow with the appropriate compiler flags.\n",
      "2022-08-20 20:57:48.500258: I tensorflow/stream_executor/cuda/cuda_gpu_executor.cc:975] successful NUMA node read from SysFS had negative value (-1), but there must be at least one NUMA node, so returning NUMA node zero\n",
      "2022-08-20 20:57:48.500585: I tensorflow/stream_executor/cuda/cuda_gpu_executor.cc:975] successful NUMA node read from SysFS had negative value (-1), but there must be at least one NUMA node, so returning NUMA node zero\n",
      "2022-08-20 20:57:48.506487: I tensorflow/stream_executor/cuda/cuda_gpu_executor.cc:975] successful NUMA node read from SysFS had negative value (-1), but there must be at least one NUMA node, so returning NUMA node zero\n",
      "2022-08-20 20:57:48.506818: I tensorflow/stream_executor/cuda/cuda_gpu_executor.cc:975] successful NUMA node read from SysFS had negative value (-1), but there must be at least one NUMA node, so returning NUMA node zero\n",
      "2022-08-20 20:57:48.507494: I tensorflow/stream_executor/cuda/cuda_gpu_executor.cc:975] successful NUMA node read from SysFS had negative value (-1), but there must be at least one NUMA node, so returning NUMA node zero\n",
      "2022-08-20 20:57:48.507793: I tensorflow/stream_executor/cuda/cuda_gpu_executor.cc:975] successful NUMA node read from SysFS had negative value (-1), but there must be at least one NUMA node, so returning NUMA node zero\n",
      "2022-08-20 20:57:49.150428: I tensorflow/stream_executor/cuda/cuda_gpu_executor.cc:975] successful NUMA node read from SysFS had negative value (-1), but there must be at least one NUMA node, so returning NUMA node zero\n",
      "2022-08-20 20:57:49.150790: I tensorflow/stream_executor/cuda/cuda_gpu_executor.cc:975] successful NUMA node read from SysFS had negative value (-1), but there must be at least one NUMA node, so returning NUMA node zero\n",
      "2022-08-20 20:57:49.151377: I tensorflow/stream_executor/cuda/cuda_gpu_executor.cc:975] successful NUMA node read from SysFS had negative value (-1), but there must be at least one NUMA node, so returning NUMA node zero\n",
      "2022-08-20 20:57:49.151636: I tensorflow/stream_executor/cuda/cuda_gpu_executor.cc:975] successful NUMA node read from SysFS had negative value (-1), but there must be at least one NUMA node, so returning NUMA node zero\n",
      "2022-08-20 20:57:49.152195: I tensorflow/stream_executor/cuda/cuda_gpu_executor.cc:975] successful NUMA node read from SysFS had negative value (-1), but there must be at least one NUMA node, so returning NUMA node zero\n",
      "2022-08-20 20:57:49.152439: I tensorflow/core/common_runtime/gpu/gpu_device.cc:1532] Created device /job:localhost/replica:0/task:0/device:GPU:0 with 28 MB memory:  -> device: 0, name: NVIDIA GeForce GTX 1080 Ti, pci bus id: 0000:28:00.0, compute capability: 6.1\n",
      "2022-08-20 20:57:49.152861: I tensorflow/stream_executor/cuda/cuda_gpu_executor.cc:975] successful NUMA node read from SysFS had negative value (-1), but there must be at least one NUMA node, so returning NUMA node zero\n",
      "2022-08-20 20:57:49.153425: I tensorflow/core/common_runtime/gpu/gpu_device.cc:1532] Created device /job:localhost/replica:0/task:0/device:GPU:1 with 10156 MB memory:  -> device: 1, name: NVIDIA GeForce GTX 1080 Ti, pci bus id: 0000:29:00.0, compute capability: 6.1\n",
      "2022-08-20 20:57:49.157969: I tensorflow/stream_executor/cuda/cuda_driver.cc:739] failed to allocate 28.56M (29949952 bytes) from device: CUDA_ERROR_OUT_OF_MEMORY: out of memory\n",
      "2022-08-20 20:57:49.158816: I tensorflow/stream_executor/cuda/cuda_driver.cc:739] failed to allocate 25.71M (26955008 bytes) from device: CUDA_ERROR_OUT_OF_MEMORY: out of memory\n",
      "2022-08-20 20:57:49.159613: I tensorflow/stream_executor/cuda/cuda_driver.cc:739] failed to allocate 23.14M (24259584 bytes) from device: CUDA_ERROR_OUT_OF_MEMORY: out of memory\n",
      "2022-08-20 20:57:49.160438: I tensorflow/stream_executor/cuda/cuda_driver.cc:739] failed to allocate 20.82M (21833728 bytes) from device: CUDA_ERROR_OUT_OF_MEMORY: out of memory\n",
      "2022-08-20 20:57:49.161227: I tensorflow/stream_executor/cuda/cuda_driver.cc:739] failed to allocate 18.74M (19650560 bytes) from device: CUDA_ERROR_OUT_OF_MEMORY: out of memory\n",
      "2022-08-20 20:57:49.162046: I tensorflow/stream_executor/cuda/cuda_driver.cc:739] failed to allocate 16.87M (17685504 bytes) from device: CUDA_ERROR_OUT_OF_MEMORY: out of memory\n"
     ]
    },
    {
     "name": "stdout",
     "output_type": "stream",
     "text": [
      "Model: \"model\"\n",
      "__________________________________________________________________________________________________\n",
      " Layer (type)                   Output Shape         Param #     Connected to                     \n",
      "==================================================================================================\n",
      " inputs (InputLayer)            [(None, 17, 17, 3)]  0           []                               \n",
      "                                                                                                  \n",
      " heuristics (PrimaryDetector)   (None, 17, 17, 5)    113288      ['inputs[0][0]']                 \n",
      "                                                                                                  \n",
      " expand_1_11x11 (Conv2D)        (None, 17, 17, 1024  372736      ['inputs[0][0]']                 \n",
      "                                )                                                                 \n",
      "                                                                                                  \n",
      " tf.math.tanh (TFOpLambda)      (None, 17, 17, 5)    0           ['heuristics[0][0]']             \n",
      "                                                                                                  \n",
      " contract_1_5x5 (Conv2D)        (None, 17, 17, 4)    102404      ['expand_1_11x11[0][0]']         \n",
      "                                                                                                  \n",
      " concatenate (Concatenate)      (None, 17, 17, 9)    0           ['tf.math.tanh[0][0]',           \n",
      "                                                                  'contract_1_5x5[0][0]']         \n",
      "                                                                                                  \n",
      " expand_2_5x5 (Conv2D)          (None, 17, 17, 32)   7232        ['concatenate[0][0]']            \n",
      "                                                                                                  \n",
      " contract_2_3x3 (Conv2D)        (None, 17, 17, 4)    1156        ['expand_2_5x5[0][0]']           \n",
      "                                                                                                  \n",
      " skip_2 (Add)                   (None, 17, 17, 4)    0           ['contract_2_3x3[0][0]',         \n",
      "                                                                  'contract_1_5x5[0][0]']         \n",
      "                                                                                                  \n",
      " concatenate_1 (Concatenate)    (None, 17, 17, 9)    0           ['tf.math.tanh[0][0]',           \n",
      "                                                                  'skip_2[0][0]']                 \n",
      "                                                                                                  \n",
      " expand_3_5x5 (Conv2D)          (None, 17, 17, 32)   7232        ['concatenate_1[0][0]']          \n",
      "                                                                                                  \n",
      " contract_3_3x3 (Conv2D)        (None, 17, 17, 4)    1156        ['expand_3_5x5[0][0]']           \n",
      "                                                                                                  \n",
      " skip_3 (Add)                   (None, 17, 17, 4)    0           ['contract_3_3x3[0][0]',         \n",
      "                                                                  'skip_2[0][0]']                 \n",
      "                                                                                                  \n",
      " concatenate_2 (Concatenate)    (None, 17, 17, 9)    0           ['tf.math.tanh[0][0]',           \n",
      "                                                                  'skip_3[0][0]']                 \n",
      "                                                                                                  \n",
      " expand_4_5x5 (Conv2D)          (None, 17, 17, 32)   7232        ['concatenate_2[0][0]']          \n",
      "                                                                                                  \n",
      " contract_4_3x3 (Conv2D)        (None, 17, 17, 4)    1156        ['expand_4_5x5[0][0]']           \n",
      "                                                                                                  \n",
      " skip_4 (Add)                   (None, 17, 17, 4)    0           ['contract_4_3x3[0][0]',         \n",
      "                                                                  'skip_3[0][0]']                 \n",
      "                                                                                                  \n",
      " concatenate_3 (Concatenate)    (None, 17, 17, 9)    0           ['tf.math.tanh[0][0]',           \n",
      "                                                                  'skip_4[0][0]']                 \n",
      "                                                                                                  \n",
      " expand_5_5x5 (Conv2D)          (None, 17, 17, 32)   7232        ['concatenate_3[0][0]']          \n",
      "                                                                                                  \n",
      " contract_5_3x3 (Conv2D)        (None, 17, 17, 4)    1156        ['expand_5_5x5[0][0]']           \n",
      "                                                                                                  \n",
      " skip_5 (Add)                   (None, 17, 17, 4)    0           ['contract_5_3x3[0][0]',         \n",
      "                                                                  'skip_4[0][0]']                 \n",
      "                                                                                                  \n",
      " concatenate_4 (Concatenate)    (None, 17, 17, 9)    0           ['tf.math.tanh[0][0]',           \n",
      "                                                                  'skip_5[0][0]']                 \n",
      "                                                                                                  \n",
      " expand_6_5x5 (Conv2D)          (None, 17, 17, 32)   7232        ['concatenate_4[0][0]']          \n",
      "                                                                                                  \n",
      " contract_6_3x3 (Conv2D)        (None, 17, 17, 4)    1156        ['expand_6_5x5[0][0]']           \n",
      "                                                                                                  \n",
      " skip_6 (Add)                   (None, 17, 17, 4)    0           ['contract_6_3x3[0][0]',         \n",
      "                                                                  'skip_5[0][0]']                 \n",
      "                                                                                                  \n",
      " concatenate_5 (Concatenate)    (None, 17, 17, 9)    0           ['tf.math.tanh[0][0]',           \n",
      "                                                                  'skip_6[0][0]']                 \n",
      "                                                                                                  \n",
      " expand_7_5x5 (Conv2D)          (None, 17, 17, 32)   7232        ['concatenate_5[0][0]']          \n",
      "                                                                                                  \n",
      " contract_7_3x3 (Conv2D)        (None, 17, 17, 4)    1156        ['expand_7_5x5[0][0]']           \n",
      "                                                                                                  \n",
      " skip_7 (Add)                   (None, 17, 17, 4)    0           ['contract_7_3x3[0][0]',         \n",
      "                                                                  'skip_6[0][0]']                 \n",
      "                                                                                                  \n",
      " concatenate_6 (Concatenate)    (None, 17, 17, 9)    0           ['tf.math.tanh[0][0]',           \n",
      "                                                                  'skip_7[0][0]']                 \n",
      "                                                                                                  \n",
      " expand_8_5x5 (Conv2D)          (None, 17, 17, 32)   7232        ['concatenate_6[0][0]']          \n",
      "                                                                                                  \n",
      " contract_8_3x3 (Conv2D)        (None, 17, 17, 4)    1156        ['expand_8_5x5[0][0]']           \n",
      "                                                                                                  \n",
      " skip_8 (Add)                   (None, 17, 17, 4)    0           ['contract_8_3x3[0][0]',         \n",
      "                                                                  'skip_7[0][0]']                 \n",
      "                                                                                                  \n",
      " concatenate_7 (Concatenate)    (None, 17, 17, 9)    0           ['tf.math.tanh[0][0]',           \n",
      "                                                                  'skip_8[0][0]']                 \n",
      "                                                                                                  \n",
      " expand_9_5x5 (Conv2D)          (None, 17, 17, 32)   7232        ['concatenate_7[0][0]']          \n",
      "                                                                                                  \n",
      " contract_9_3x3 (Conv2D)        (None, 17, 17, 4)    1156        ['expand_9_5x5[0][0]']           \n",
      "                                                                                                  \n",
      " skip_9 (Add)                   (None, 17, 17, 4)    0           ['contract_9_3x3[0][0]',         \n",
      "                                                                  'skip_8[0][0]']                 \n",
      "                                                                                                  \n",
      " concatenate_8 (Concatenate)    (None, 17, 17, 9)    0           ['tf.math.tanh[0][0]',           \n",
      "                                                                  'skip_9[0][0]']                 \n",
      "                                                                                                  \n",
      " expand_10_5x5 (Conv2D)         (None, 17, 17, 32)   7232        ['concatenate_8[0][0]']          \n",
      "                                                                                                  \n",
      " contract_10_3x3 (Conv2D)       (None, 17, 17, 4)    1156        ['expand_10_5x5[0][0]']          \n",
      "                                                                                                  \n",
      " skip_10 (Add)                  (None, 17, 17, 4)    0           ['contract_10_3x3[0][0]',        \n",
      "                                                                  'skip_9[0][0]']                 \n",
      "                                                                                                  \n",
      " concatenate_9 (Concatenate)    (None, 17, 17, 9)    0           ['tf.math.tanh[0][0]',           \n",
      "                                                                  'skip_10[0][0]']                \n",
      "                                                                                                  \n",
      " expand_11_5x5 (Conv2D)         (None, 17, 17, 32)   7232        ['concatenate_9[0][0]']          \n",
      "                                                                                                  \n",
      " contract_11_3x3 (Conv2D)       (None, 17, 17, 4)    1156        ['expand_11_5x5[0][0]']          \n",
      "                                                                                                  \n",
      " skip_11 (Add)                  (None, 17, 17, 4)    0           ['contract_11_3x3[0][0]',        \n",
      "                                                                  'skip_10[0][0]']                \n",
      "                                                                                                  \n",
      " concatenate_10 (Concatenate)   (None, 17, 17, 9)    0           ['tf.math.tanh[0][0]',           \n",
      "                                                                  'skip_11[0][0]']                \n",
      "                                                                                                  \n",
      " expand_12_5x5 (Conv2D)         (None, 17, 17, 32)   7232        ['concatenate_10[0][0]']         \n",
      "                                                                                                  \n",
      " contract_12_3x3 (Conv2D)       (None, 17, 17, 4)    1156        ['expand_12_5x5[0][0]']          \n",
      "                                                                                                  \n",
      " skip_12 (Add)                  (None, 17, 17, 4)    0           ['contract_12_3x3[0][0]',        \n",
      "                                                                  'skip_11[0][0]']                \n",
      "                                                                                                  \n",
      " concatenate_11 (Concatenate)   (None, 17, 17, 9)    0           ['tf.math.tanh[0][0]',           \n",
      "                                                                  'skip_12[0][0]']                \n",
      "                                                                                                  \n",
      " expand_13_5x5 (Conv2D)         (None, 17, 17, 32)   7232        ['concatenate_11[0][0]']         \n",
      "                                                                                                  \n",
      " contract_13_3x3 (Conv2D)       (None, 17, 17, 4)    1156        ['expand_13_5x5[0][0]']          \n",
      "                                                                                                  \n",
      " skip_13 (Add)                  (None, 17, 17, 4)    0           ['contract_13_3x3[0][0]',        \n",
      "                                                                  'skip_12[0][0]']                \n",
      "                                                                                                  \n",
      " concatenate_12 (Concatenate)   (None, 17, 17, 9)    0           ['tf.math.tanh[0][0]',           \n",
      "                                                                  'skip_13[0][0]']                \n",
      "                                                                                                  \n",
      " expand_14_5x5 (Conv2D)         (None, 17, 17, 32)   7232        ['concatenate_12[0][0]']         \n",
      "                                                                                                  \n",
      " contract_14_3x3 (Conv2D)       (None, 17, 17, 4)    1156        ['expand_14_5x5[0][0]']          \n",
      "                                                                                                  \n",
      " skip_14 (Add)                  (None, 17, 17, 4)    0           ['contract_14_3x3[0][0]',        \n",
      "                                                                  'skip_13[0][0]']                \n",
      "                                                                                                  \n",
      " concatenate_13 (Concatenate)   (None, 17, 17, 9)    0           ['tf.math.tanh[0][0]',           \n",
      "                                                                  'skip_14[0][0]']                \n",
      "                                                                                                  \n",
      " expand_15_5x5 (Conv2D)         (None, 17, 17, 32)   7232        ['concatenate_13[0][0]']         \n",
      "                                                                                                  \n",
      " contract_15_3x3 (Conv2D)       (None, 17, 17, 4)    1156        ['expand_15_5x5[0][0]']          \n",
      "                                                                                                  \n",
      " skip_15 (Add)                  (None, 17, 17, 4)    0           ['contract_15_3x3[0][0]',        \n",
      "                                                                  'skip_14[0][0]']                \n",
      "                                                                                                  \n",
      " concatenate_14 (Concatenate)   (None, 17, 17, 9)    0           ['tf.math.tanh[0][0]',           \n",
      "                                                                  'skip_15[0][0]']                \n",
      "                                                                                                  \n",
      " expand_16_5x5 (Conv2D)         (None, 17, 17, 32)   7232        ['concatenate_14[0][0]']         \n",
      "                                                                                                  \n",
      " contract_16_3x3 (Conv2D)       (None, 17, 17, 4)    1156        ['expand_16_5x5[0][0]']          \n",
      "                                                                                                  \n",
      " skip_16 (Add)                  (None, 17, 17, 4)    0           ['contract_16_3x3[0][0]',        \n",
      "                                                                  'skip_15[0][0]']                \n",
      "                                                                                                  \n",
      " concatenate_15 (Concatenate)   (None, 17, 17, 9)    0           ['tf.math.tanh[0][0]',           \n",
      "                                                                  'skip_16[0][0]']                \n",
      "                                                                                                  \n",
      " expand_17_5x5 (Conv2D)         (None, 17, 17, 32)   7232        ['concatenate_15[0][0]']         \n",
      "                                                                                                  \n",
      " contract_17_3x3 (Conv2D)       (None, 17, 17, 4)    1156        ['expand_17_5x5[0][0]']          \n",
      "                                                                                                  \n",
      " skip_17 (Add)                  (None, 17, 17, 4)    0           ['contract_17_3x3[0][0]',        \n",
      "                                                                  'skip_16[0][0]']                \n",
      "                                                                                                  \n",
      " concatenate_16 (Concatenate)   (None, 17, 17, 9)    0           ['tf.math.tanh[0][0]',           \n",
      "                                                                  'skip_17[0][0]']                \n",
      "                                                                                                  \n",
      " expand_18_5x5 (Conv2D)         (None, 17, 17, 32)   7232        ['concatenate_16[0][0]']         \n",
      "                                                                                                  \n",
      " contract_18_3x3 (Conv2D)       (None, 17, 17, 4)    1156        ['expand_18_5x5[0][0]']          \n",
      "                                                                                                  \n",
      " skip_18 (Add)                  (None, 17, 17, 4)    0           ['contract_18_3x3[0][0]',        \n",
      "                                                                  'skip_17[0][0]']                \n",
      "                                                                                                  \n",
      " concatenate_17 (Concatenate)   (None, 17, 17, 9)    0           ['tf.math.tanh[0][0]',           \n",
      "                                                                  'skip_18[0][0]']                \n",
      "                                                                                                  \n",
      " expand_19_5x5 (Conv2D)         (None, 17, 17, 32)   7232        ['concatenate_17[0][0]']         \n",
      "                                                                                                  \n",
      " contract_19_3x3 (Conv2D)       (None, 17, 17, 4)    1156        ['expand_19_5x5[0][0]']          \n",
      "                                                                                                  \n",
      " skip_19 (Add)                  (None, 17, 17, 4)    0           ['contract_19_3x3[0][0]',        \n",
      "                                                                  'skip_18[0][0]']                \n",
      "                                                                                                  \n",
      " concatenate_18 (Concatenate)   (None, 17, 17, 9)    0           ['tf.math.tanh[0][0]',           \n",
      "                                                                  'skip_19[0][0]']                \n",
      "                                                                                                  \n",
      " expand_20_5x5 (Conv2D)         (None, 17, 17, 32)   7232        ['concatenate_18[0][0]']         \n",
      "                                                                                                  \n",
      " contract_20_3x3 (Conv2D)       (None, 17, 17, 4)    1156        ['expand_20_5x5[0][0]']          \n",
      "                                                                                                  \n",
      " skip_20 (Add)                  (None, 17, 17, 4)    0           ['contract_20_3x3[0][0]',        \n",
      "                                                                  'skip_19[0][0]']                \n",
      "                                                                                                  \n",
      " policy_aggregator (Conv2D)     (None, 17, 17, 1)    5           ['skip_20[0][0]']                \n",
      "                                                                                                  \n",
      " border_off (Conv2D)            (None, 15, 15, 1)    10          ['policy_aggregator[0][0]']      \n",
      "                                                                                                  \n",
      " flatten (Flatten)              (None, 225)          0           ['border_off[0][0]']             \n",
      "                                                                                                  \n",
      " softmax (Softmax)              (None, 225)          0           ['flatten[0][0]']                \n",
      "                                                                                                  \n",
      "==================================================================================================\n",
      "Total params: 747,815\n",
      "Trainable params: 634,517\n",
      "Non-trainable params: 113,298\n",
      "__________________________________________________________________________________________________\n"
     ]
    }
   ],
   "source": [
    "features = advisor(inputs)\n",
    "features=tf.keras.activations.tanh(features)\n",
    "x = xp(1, 1024, 11)(inputs)\n",
    "c = ct(1, 4, 5)(x)\n",
    "\n",
    "for i in range(2, 21):\n",
    "    i1 = layers.concatenate([features, c], axis=-1)\n",
    "    x1 = xp(i, 32, 5)(i1)\n",
    "    c1 = ct(i, 4, 3)(x1)\n",
    "    c = layers.Add(name=f\"skip_{i}\")([c1, c])\n",
    "\n",
    "x = policy_aggregate(c)\n",
    "y = peel(x)\n",
    "flatten = layers.Flatten()(y)\n",
    "softmax = layers.Softmax()(flatten)\n",
    "model = keras.Model(inputs=inputs, outputs=softmax)\n",
    "model.compile()\n",
    "model.summary()"
   ],
   "metadata": {
    "collapsed": false,
    "pycharm": {
     "name": "#%%\n"
    }
   }
  },
  {
   "cell_type": "markdown",
   "source": [
    "---\n"
   ],
   "metadata": {
    "collapsed": false,
    "pycharm": {
     "name": "#%% md\n"
    }
   }
  },
  {
   "cell_type": "markdown",
   "source": [
    "\n",
    "# Policy Output of the Untrained Model\n",
    "From experience we can tell that the training will most likely succeed when we see some structured output here. For unknown reasons, some architectures initialize such that the untrained network produces a flat policy output."
   ],
   "metadata": {
    "collapsed": false,
    "pycharm": {
     "name": "#%% md\n"
    }
   }
  },
  {
   "cell_type": "code",
   "execution_count": 11,
   "outputs": [
    {
     "name": "stderr",
     "output_type": "stream",
     "text": [
      "2022-08-20 16:11:15.386916: I tensorflow/stream_executor/cuda/cuda_dnn.cc:384] Loaded cuDNN version 8100\n",
      "2022-08-20 16:11:15.572853: W tensorflow/stream_executor/gpu/asm_compiler.cc:111] *** WARNING *** You are using ptxas 10.1.243, which is older than 11.1. ptxas before 11.1 is known to miscompile XLA code, leading to incorrect results or invalid-address errors.\n",
      "\n",
      "You may not need to update to CUDA 11.1; cherry-picking the ptxas binary is often sufficient.\n"
     ]
    },
    {
     "name": "stdout",
     "output_type": "stream",
     "text": [
      "[ 0  0  0  0  0  0  0  0  0  0  0  0  0  0  1  0  0  0  0  0  0  0  0  0\n",
      "  0  0  0  0  0  1  4  3  3  2  3  3  3  2  3  3  2  3  3  2  3  5  3  3\n",
      "  3  3  3  3  3  4  4  3  4  4  4  6  5  4  3  3  3  3  3  2  3  3  3  3\n",
      "  3  6  7  5  4  3  3  3  3  3  2  3  2  2  3  3  5  5  5  5  3  3  3  4\n",
      "  3  4  3  4  3  4  3  5  5  5  4  3  3  3  3  3  3  3  3  3  3  3  6  5\n",
      "  5  4  3  3  3  3  3  3  3  3  2  3  2  4  4  6  5  3  3  4  3  4  3  3\n",
      "  4  3  4  3  5  5  6  5  4  3  4  4  3  3  3  4  3  4  3  6  5  6  5  3\n",
      "  3  3  4  4  4  4  4  3  3  2  4  3  9  4  4  4  4  5  4  4  4  4  4  3\n",
      "  2  3  4 14 10 12 13 15 13 13 13 13 13 11 11  8  7  4  7 10  9  9 10 11\n",
      " 10 11 11 10  8  6  3  1  0]\n"
     ]
    }
   ],
   "source": [
    "n = random.randint(0, 100)\n",
    "sample = np.expand_dims(examples[n][0], axis=0).astype(float)\n",
    "p = model(sample)\n",
    "print((np.squeeze(p)*999).astype(np.uint8))"
   ],
   "metadata": {
    "collapsed": false,
    "pycharm": {
     "name": "#%%\n"
    }
   }
  },
  {
   "cell_type": "markdown",
   "source": [
    "---"
   ],
   "metadata": {
    "collapsed": false,
    "pycharm": {
     "name": "#%% md\n"
    }
   }
  },
  {
   "cell_type": "markdown",
   "source": [
    "# Training"
   ],
   "metadata": {
    "collapsed": false,
    "pycharm": {
     "name": "#%% md\n"
    }
   }
  },
  {
   "cell_type": "code",
   "execution_count": 12,
   "outputs": [],
   "source": [
    "policy_loss = tf.keras.losses.CategoricalCrossentropy()\n",
    "optimizer = tf.keras.optimizers.Adam(learning_rate=1e-3)"
   ],
   "metadata": {
    "collapsed": false,
    "pycharm": {
     "name": "#%%\n"
    }
   }
  },
  {
   "cell_type": "code",
   "execution_count": 13,
   "outputs": [],
   "source": [
    "metric = tf.keras.metrics.Mean('train_loss', dtype=tf.float32)\n",
    "\n",
    "def train(train_examples, epochs_per_train=100, report_every=100):\n",
    "    current_time = dt.datetime.now().strftime(\"%Y%m%d-%H%M%S\")\n",
    "    train_log_dir = 'logs/gradient_tape/' + current_time + '/train'\n",
    "    train_summary_writer = tf.summary.create_file_writer(train_log_dir)\n",
    "\n",
    "    all_train_ds = create_dataset(train_examples)\n",
    "\n",
    "    for epoch in range(epochs_per_train):\n",
    "        for x_train, pi_train, _ in all_train_ds:\n",
    "            train_step(x_train, pi_train)\n",
    "        with train_summary_writer.as_default():\n",
    "            tf.summary.scalar('loss', metric.result(), step=epoch)\n",
    "\n",
    "        if epoch % report_every == 1:\n",
    "            print(f'Epoch: {epoch}, Training: {metric.result()}')\n",
    "\n",
    "    print(f'Epochs: {epochs_per_train}, Loss: {metric.result()}')\n",
    "\n",
    "    metric.reset_states()\n",
    "\n",
    "@tf.function\n",
    "def train_step(x, pi_y):\n",
    "    with tf.GradientTape() as tape:\n",
    "        probs = model(x, training=True)\n",
    "        total_loss = policy_loss(pi_y, probs)\n",
    "\n",
    "    grads = tape.gradient(total_loss, model.trainable_variables)\n",
    "    optimizer.apply_gradients(zip(grads, model.trainable_variables))\n",
    "\n",
    "    metric(total_loss)"
   ],
   "metadata": {
    "collapsed": false,
    "pycharm": {
     "name": "#%%\n"
    }
   }
  },
  {
   "cell_type": "code",
   "execution_count": 14,
   "outputs": [
    {
     "name": "stdout",
     "output_type": "stream",
     "text": [
      "Epoch: 1, Training: 5.0291290283203125\n",
      "Epoch: 6, Training: 4.844454288482666\n",
      "Epoch: 11, Training: 4.732596397399902\n",
      "Epoch: 16, Training: 4.3285393714904785\n",
      "Epochs: 20, Loss: 4.015460014343262\n"
     ]
    }
   ],
   "source": [
    "N = 2000\n",
    "train(examples[:N], epochs_per_train=20, report_every=5)"
   ],
   "metadata": {
    "collapsed": false,
    "pycharm": {
     "name": "#%%\n"
    }
   }
  },
  {
   "cell_type": "code",
   "execution_count": 10,
   "outputs": [
    {
     "name": "stdout",
     "output_type": "stream",
     "text": [
      "Epoch: 1, Training: 1.4426692724227905\n",
      "Epoch: 21, Training: 1.0760084390640259\n",
      "Epoch: 41, Training: 0.9827200174331665\n",
      "Epoch: 61, Training: 0.9259703755378723\n",
      "Epoch: 81, Training: 0.8906920552253723\n",
      "Epoch: 101, Training: 0.8650811314582825\n",
      "Epoch: 121, Training: 0.8462158441543579\n",
      "Epoch: 141, Training: 0.8315414190292358\n",
      "Epoch: 161, Training: 0.8197803497314453\n",
      "Epoch: 181, Training: 0.8102224469184875\n",
      "Epochs: 200, Loss: 0.8028954267501831\n"
     ]
    }
   ],
   "source": [
    "N = 5000\n",
    "train(examples[:N], epochs_per_train=200, report_every=20)"
   ],
   "metadata": {
    "collapsed": false,
    "pycharm": {
     "name": "#%%\n"
    }
   }
  },
  {
   "cell_type": "markdown",
   "source": [],
   "metadata": {
    "collapsed": false,
    "pycharm": {
     "name": "#%% md\n"
    }
   }
  },
  {
   "cell_type": "markdown",
   "source": [
    "---\n",
    "# Convincing Performance on Unseen Examples\n",
    "With loss values below 1.2 we already have sufficient performance on the terminal threat dataset. Sufficient means that if there's only one terminal threat on the board, the policy will include it, at least among other moves that the tree search can then easily rule out."
   ],
   "metadata": {
    "collapsed": false,
    "pycharm": {
     "name": "#%% md\n"
    }
   }
  },
  {
   "cell_type": "code",
   "execution_count": 19,
   "outputs": [
    {
     "name": "stdout",
     "output_type": "stream",
     "text": [
      "n=11727\n",
      "Next to play: WHITE\n",
      "Value from WHITE's point of view: -0.4885607496682389\n",
      "Next to play: WHITE\n",
      "Value from WHITE's point of view: 0.0\n"
     ]
    },
    {
     "data": {
      "text/plain": "<Figure size 576x576 with 1 Axes>",
      "image/png": "[encoded data removed]"
     },
     "metadata": {
      "needs_background": "light"
     },
     "output_type": "display_data"
    },
    {
     "data": {
      "text/plain": "<Figure size 576x576 with 1 Axes>",
      "image/png": "[encoded data removed]"
     },
     "metadata": {
      "needs_background": "light"
     },
     "output_type": "display_data"
    }
   ],
   "source": [
    "from aegomoku.utils import analyse_example\n",
    "\n",
    "n = random.randint(N, len(examples))\n",
    "sample = np.expand_dims(examples[n][0], axis=0).astype(float)\n",
    "p_ = model(sample)\n",
    "s, p, _ = examples[n]\n",
    "example = (s, list(p_.numpy()), 0.0)\n",
    "print(f\"n={n}\")\n",
    "analyse_example(BOARD_SIZE, examples[n])\n",
    "analyse_example(BOARD_SIZE, example)"
   ],
   "metadata": {
    "collapsed": false,
    "pycharm": {
     "name": "#%%\n"
    }
   }
  },
  {
   "cell_type": "markdown",
   "source": [
    "---"
   ],
   "metadata": {
    "collapsed": false,
    "pycharm": {
     "name": "#%% md\n"
    }
   }
  },
  {
   "cell_type": "markdown",
   "source": [
    "# All of that is now in GomokuResnet"
   ],
   "metadata": {
    "collapsed": false,
    "pycharm": {
     "name": "#%% md\n"
    }
   }
  },
  {
   "cell_type": "code",
   "execution_count": 4,
   "outputs": [
    {
     "name": "stderr",
     "output_type": "stream",
     "text": [
      "/home/wgiersche/.local/share/virtualenvs/DeepGomoku-yQC4gx5q/lib/python3.8/site-packages/numpy/core/fromnumeric.py:2009: VisibleDeprecationWarning: Creating an ndarray from ragged nested sequences (which is a list-or-tuple of lists-or-tuples-or ndarrays with different lengths or shapes) is deprecated. If you meant to do this, you must specify 'dtype=object' when creating the ndarray.\n",
      "  result = asarray(a).shape\n",
      "2022-08-20 16:12:49.343046: I tensorflow/stream_executor/cuda/cuda_gpu_executor.cc:975] successful NUMA node read from SysFS had negative value (-1), but there must be at least one NUMA node, so returning NUMA node zero\n",
      "2022-08-20 16:12:49.343754: I tensorflow/stream_executor/cuda/cuda_gpu_executor.cc:975] successful NUMA node read from SysFS had negative value (-1), but there must be at least one NUMA node, so returning NUMA node zero\n",
      "2022-08-20 16:12:49.348919: I tensorflow/stream_executor/cuda/cuda_gpu_executor.cc:975] successful NUMA node read from SysFS had negative value (-1), but there must be at least one NUMA node, so returning NUMA node zero\n",
      "2022-08-20 16:12:49.350056: I tensorflow/stream_executor/cuda/cuda_gpu_executor.cc:975] successful NUMA node read from SysFS had negative value (-1), but there must be at least one NUMA node, so returning NUMA node zero\n",
      "2022-08-20 16:12:49.351220: I tensorflow/stream_executor/cuda/cuda_gpu_executor.cc:975] successful NUMA node read from SysFS had negative value (-1), but there must be at least one NUMA node, so returning NUMA node zero\n",
      "2022-08-20 16:12:49.352287: I tensorflow/stream_executor/cuda/cuda_gpu_executor.cc:975] successful NUMA node read from SysFS had negative value (-1), but there must be at least one NUMA node, so returning NUMA node zero\n",
      "2022-08-20 16:12:49.353669: I tensorflow/core/platform/cpu_feature_guard.cc:193] This TensorFlow binary is optimized with oneAPI Deep Neural Network Library (oneDNN) to use the following CPU instructions in performance-critical operations:  AVX2 FMA\n",
      "To enable them in other operations, rebuild TensorFlow with the appropriate compiler flags.\n",
      "2022-08-20 16:12:49.508098: I tensorflow/stream_executor/cuda/cuda_gpu_executor.cc:975] successful NUMA node read from SysFS had negative value (-1), but there must be at least one NUMA node, so returning NUMA node zero\n",
      "2022-08-20 16:12:49.508732: I tensorflow/stream_executor/cuda/cuda_gpu_executor.cc:975] successful NUMA node read from SysFS had negative value (-1), but there must be at least one NUMA node, so returning NUMA node zero\n",
      "2022-08-20 16:12:49.509408: I tensorflow/stream_executor/cuda/cuda_gpu_executor.cc:975] successful NUMA node read from SysFS had negative value (-1), but there must be at least one NUMA node, so returning NUMA node zero\n",
      "2022-08-20 16:12:49.509979: I tensorflow/stream_executor/cuda/cuda_gpu_executor.cc:975] successful NUMA node read from SysFS had negative value (-1), but there must be at least one NUMA node, so returning NUMA node zero\n",
      "2022-08-20 16:12:49.510542: I tensorflow/stream_executor/cuda/cuda_gpu_executor.cc:975] successful NUMA node read from SysFS had negative value (-1), but there must be at least one NUMA node, so returning NUMA node zero\n",
      "2022-08-20 16:12:49.511108: I tensorflow/stream_executor/cuda/cuda_gpu_executor.cc:975] successful NUMA node read from SysFS had negative value (-1), but there must be at least one NUMA node, so returning NUMA node zero\n",
      "2022-08-20 16:12:50.225655: I tensorflow/stream_executor/cuda/cuda_gpu_executor.cc:975] successful NUMA node read from SysFS had negative value (-1), but there must be at least one NUMA node, so returning NUMA node zero\n",
      "2022-08-20 16:12:50.226276: I tensorflow/stream_executor/cuda/cuda_gpu_executor.cc:975] successful NUMA node read from SysFS had negative value (-1), but there must be at least one NUMA node, so returning NUMA node zero\n",
      "2022-08-20 16:12:50.226854: I tensorflow/stream_executor/cuda/cuda_gpu_executor.cc:975] successful NUMA node read from SysFS had negative value (-1), but there must be at least one NUMA node, so returning NUMA node zero\n",
      "2022-08-20 16:12:50.227467: I tensorflow/stream_executor/cuda/cuda_gpu_executor.cc:975] successful NUMA node read from SysFS had negative value (-1), but there must be at least one NUMA node, so returning NUMA node zero\n",
      "2022-08-20 16:12:50.228094: I tensorflow/stream_executor/cuda/cuda_gpu_executor.cc:975] successful NUMA node read from SysFS had negative value (-1), but there must be at least one NUMA node, so returning NUMA node zero\n",
      "2022-08-20 16:12:50.228673: I tensorflow/core/common_runtime/gpu/gpu_device.cc:1532] Created device /job:localhost/replica:0/task:0/device:GPU:0 with 9875 MB memory:  -> device: 0, name: NVIDIA GeForce GTX 1080 Ti, pci bus id: 0000:28:00.0, compute capability: 6.1\n",
      "2022-08-20 16:12:50.228977: I tensorflow/stream_executor/cuda/cuda_gpu_executor.cc:975] successful NUMA node read from SysFS had negative value (-1), but there must be at least one NUMA node, so returning NUMA node zero\n",
      "2022-08-20 16:12:50.229551: I tensorflow/core/common_runtime/gpu/gpu_device.cc:1532] Created device /job:localhost/replica:0/task:0/device:GPU:1 with 10415 MB memory:  -> device: 1, name: NVIDIA GeForce GTX 1080 Ti, pci bus id: 0000:29:00.0, compute capability: 6.1\n"
     ]
    },
    {
     "name": "stdout",
     "output_type": "stream",
     "text": [
      "Model: \"gomoku_resnet\"\n",
      "__________________________________________________________________________________________________\n",
      " Layer (type)                   Output Shape         Param #     Connected to                     \n",
      "==================================================================================================\n",
      " inputs (InputLayer)            [(None, 17, 17, 3)]  0           []                               \n",
      "                                                                                                  \n",
      " heuristic_detector (Conv2D)    (None, 17, 17, 307)  111748      ['inputs[0][0]']                 \n",
      "                                                                                                  \n",
      " expand_1_11x11 (Conv2D)        (None, 17, 17, 1024  372736      ['inputs[0][0]']                 \n",
      "                                )                                                                 \n",
      "                                                                                                  \n",
      " heuristic_priority (Conv2D)    (None, 17, 17, 5)    1540        ['heuristic_detector[0][0]']     \n",
      "                                                                                                  \n",
      " contract_1_5x5 (Conv2D)        (None, 17, 17, 4)    102404      ['expand_1_11x11[0][0]']         \n",
      "                                                                                                  \n",
      " concatenate (Concatenate)      (None, 17, 17, 9)    0           ['heuristic_priority[0][0]',     \n",
      "                                                                  'contract_1_5x5[0][0]']         \n",
      "                                                                                                  \n",
      " expand_2_5x5 (Conv2D)          (None, 17, 17, 32)   7232        ['concatenate[0][0]']            \n",
      "                                                                                                  \n",
      " contract_2_3x3 (Conv2D)        (None, 17, 17, 4)    1156        ['expand_2_5x5[0][0]']           \n",
      "                                                                                                  \n",
      " skip_2 (Add)                   (None, 17, 17, 4)    0           ['contract_2_3x3[0][0]',         \n",
      "                                                                  'contract_1_5x5[0][0]']         \n",
      "                                                                                                  \n",
      " concatenate_1 (Concatenate)    (None, 17, 17, 9)    0           ['heuristic_priority[0][0]',     \n",
      "                                                                  'skip_2[0][0]']                 \n",
      "                                                                                                  \n",
      " expand_3_5x5 (Conv2D)          (None, 17, 17, 32)   7232        ['concatenate_1[0][0]']          \n",
      "                                                                                                  \n",
      " contract_3_3x3 (Conv2D)        (None, 17, 17, 4)    1156        ['expand_3_5x5[0][0]']           \n",
      "                                                                                                  \n",
      " skip_3 (Add)                   (None, 17, 17, 4)    0           ['contract_3_3x3[0][0]',         \n",
      "                                                                  'skip_2[0][0]']                 \n",
      "                                                                                                  \n",
      " concatenate_2 (Concatenate)    (None, 17, 17, 9)    0           ['heuristic_priority[0][0]',     \n",
      "                                                                  'skip_3[0][0]']                 \n",
      "                                                                                                  \n",
      " expand_4_5x5 (Conv2D)          (None, 17, 17, 32)   7232        ['concatenate_2[0][0]']          \n",
      "                                                                                                  \n",
      " contract_4_3x3 (Conv2D)        (None, 17, 17, 4)    1156        ['expand_4_5x5[0][0]']           \n",
      "                                                                                                  \n",
      " skip_4 (Add)                   (None, 17, 17, 4)    0           ['contract_4_3x3[0][0]',         \n",
      "                                                                  'skip_3[0][0]']                 \n",
      "                                                                                                  \n",
      " concatenate_3 (Concatenate)    (None, 17, 17, 9)    0           ['heuristic_priority[0][0]',     \n",
      "                                                                  'skip_4[0][0]']                 \n",
      "                                                                                                  \n",
      " expand_5_5x5 (Conv2D)          (None, 17, 17, 32)   7232        ['concatenate_3[0][0]']          \n",
      "                                                                                                  \n",
      " contract_5_3x3 (Conv2D)        (None, 17, 17, 4)    1156        ['expand_5_5x5[0][0]']           \n",
      "                                                                                                  \n",
      " skip_5 (Add)                   (None, 17, 17, 4)    0           ['contract_5_3x3[0][0]',         \n",
      "                                                                  'skip_4[0][0]']                 \n",
      "                                                                                                  \n",
      " concatenate_4 (Concatenate)    (None, 17, 17, 9)    0           ['heuristic_priority[0][0]',     \n",
      "                                                                  'skip_5[0][0]']                 \n",
      "                                                                                                  \n",
      " expand_6_5x5 (Conv2D)          (None, 17, 17, 32)   7232        ['concatenate_4[0][0]']          \n",
      "                                                                                                  \n",
      " contract_6_3x3 (Conv2D)        (None, 17, 17, 4)    1156        ['expand_6_5x5[0][0]']           \n",
      "                                                                                                  \n",
      " skip_6 (Add)                   (None, 17, 17, 4)    0           ['contract_6_3x3[0][0]',         \n",
      "                                                                  'skip_5[0][0]']                 \n",
      "                                                                                                  \n",
      " concatenate_5 (Concatenate)    (None, 17, 17, 9)    0           ['heuristic_priority[0][0]',     \n",
      "                                                                  'skip_6[0][0]']                 \n",
      "                                                                                                  \n",
      " expand_7_5x5 (Conv2D)          (None, 17, 17, 32)   7232        ['concatenate_5[0][0]']          \n",
      "                                                                                                  \n",
      " contract_7_3x3 (Conv2D)        (None, 17, 17, 4)    1156        ['expand_7_5x5[0][0]']           \n",
      "                                                                                                  \n",
      " skip_7 (Add)                   (None, 17, 17, 4)    0           ['contract_7_3x3[0][0]',         \n",
      "                                                                  'skip_6[0][0]']                 \n",
      "                                                                                                  \n",
      " concatenate_6 (Concatenate)    (None, 17, 17, 9)    0           ['heuristic_priority[0][0]',     \n",
      "                                                                  'skip_7[0][0]']                 \n",
      "                                                                                                  \n",
      " expand_8_5x5 (Conv2D)          (None, 17, 17, 32)   7232        ['concatenate_6[0][0]']          \n",
      "                                                                                                  \n",
      " contract_8_3x3 (Conv2D)        (None, 17, 17, 4)    1156        ['expand_8_5x5[0][0]']           \n",
      "                                                                                                  \n",
      " skip_8 (Add)                   (None, 17, 17, 4)    0           ['contract_8_3x3[0][0]',         \n",
      "                                                                  'skip_7[0][0]']                 \n",
      "                                                                                                  \n",
      " concatenate_7 (Concatenate)    (None, 17, 17, 9)    0           ['heuristic_priority[0][0]',     \n",
      "                                                                  'skip_8[0][0]']                 \n",
      "                                                                                                  \n",
      " expand_9_5x5 (Conv2D)          (None, 17, 17, 32)   7232        ['concatenate_7[0][0]']          \n",
      "                                                                                                  \n",
      " contract_9_3x3 (Conv2D)        (None, 17, 17, 4)    1156        ['expand_9_5x5[0][0]']           \n",
      "                                                                                                  \n",
      " skip_9 (Add)                   (None, 17, 17, 4)    0           ['contract_9_3x3[0][0]',         \n",
      "                                                                  'skip_8[0][0]']                 \n",
      "                                                                                                  \n",
      " concatenate_8 (Concatenate)    (None, 17, 17, 9)    0           ['heuristic_priority[0][0]',     \n",
      "                                                                  'skip_9[0][0]']                 \n",
      "                                                                                                  \n",
      " expand_10_5x5 (Conv2D)         (None, 17, 17, 32)   7232        ['concatenate_8[0][0]']          \n",
      "                                                                                                  \n",
      " contract_10_3x3 (Conv2D)       (None, 17, 17, 4)    1156        ['expand_10_5x5[0][0]']          \n",
      "                                                                                                  \n",
      " skip_10 (Add)                  (None, 17, 17, 4)    0           ['contract_10_3x3[0][0]',        \n",
      "                                                                  'skip_9[0][0]']                 \n",
      "                                                                                                  \n",
      " concatenate_9 (Concatenate)    (None, 17, 17, 9)    0           ['heuristic_priority[0][0]',     \n",
      "                                                                  'skip_10[0][0]']                \n",
      "                                                                                                  \n",
      " expand_11_5x5 (Conv2D)         (None, 17, 17, 32)   7232        ['concatenate_9[0][0]']          \n",
      "                                                                                                  \n",
      " contract_11_3x3 (Conv2D)       (None, 17, 17, 4)    1156        ['expand_11_5x5[0][0]']          \n",
      "                                                                                                  \n",
      " skip_11 (Add)                  (None, 17, 17, 4)    0           ['contract_11_3x3[0][0]',        \n",
      "                                                                  'skip_10[0][0]']                \n",
      "                                                                                                  \n",
      " concatenate_10 (Concatenate)   (None, 17, 17, 9)    0           ['heuristic_priority[0][0]',     \n",
      "                                                                  'skip_11[0][0]']                \n",
      "                                                                                                  \n",
      " expand_12_5x5 (Conv2D)         (None, 17, 17, 32)   7232        ['concatenate_10[0][0]']         \n",
      "                                                                                                  \n",
      " contract_12_3x3 (Conv2D)       (None, 17, 17, 4)    1156        ['expand_12_5x5[0][0]']          \n",
      "                                                                                                  \n",
      " skip_12 (Add)                  (None, 17, 17, 4)    0           ['contract_12_3x3[0][0]',        \n",
      "                                                                  'skip_11[0][0]']                \n",
      "                                                                                                  \n",
      " concatenate_11 (Concatenate)   (None, 17, 17, 9)    0           ['heuristic_priority[0][0]',     \n",
      "                                                                  'skip_12[0][0]']                \n",
      "                                                                                                  \n",
      " expand_13_5x5 (Conv2D)         (None, 17, 17, 32)   7232        ['concatenate_11[0][0]']         \n",
      "                                                                                                  \n",
      " contract_13_3x3 (Conv2D)       (None, 17, 17, 4)    1156        ['expand_13_5x5[0][0]']          \n",
      "                                                                                                  \n",
      " skip_13 (Add)                  (None, 17, 17, 4)    0           ['contract_13_3x3[0][0]',        \n",
      "                                                                  'skip_12[0][0]']                \n",
      "                                                                                                  \n",
      " concatenate_12 (Concatenate)   (None, 17, 17, 9)    0           ['heuristic_priority[0][0]',     \n",
      "                                                                  'skip_13[0][0]']                \n",
      "                                                                                                  \n",
      " expand_14_5x5 (Conv2D)         (None, 17, 17, 32)   7232        ['concatenate_12[0][0]']         \n",
      "                                                                                                  \n",
      " contract_14_3x3 (Conv2D)       (None, 17, 17, 4)    1156        ['expand_14_5x5[0][0]']          \n",
      "                                                                                                  \n",
      " skip_14 (Add)                  (None, 17, 17, 4)    0           ['contract_14_3x3[0][0]',        \n",
      "                                                                  'skip_13[0][0]']                \n",
      "                                                                                                  \n",
      " concatenate_13 (Concatenate)   (None, 17, 17, 9)    0           ['heuristic_priority[0][0]',     \n",
      "                                                                  'skip_14[0][0]']                \n",
      "                                                                                                  \n",
      " expand_15_5x5 (Conv2D)         (None, 17, 17, 32)   7232        ['concatenate_13[0][0]']         \n",
      "                                                                                                  \n",
      " contract_15_3x3 (Conv2D)       (None, 17, 17, 4)    1156        ['expand_15_5x5[0][0]']          \n",
      "                                                                                                  \n",
      " skip_15 (Add)                  (None, 17, 17, 4)    0           ['contract_15_3x3[0][0]',        \n",
      "                                                                  'skip_14[0][0]']                \n",
      "                                                                                                  \n",
      " concatenate_14 (Concatenate)   (None, 17, 17, 9)    0           ['heuristic_priority[0][0]',     \n",
      "                                                                  'skip_15[0][0]']                \n",
      "                                                                                                  \n",
      " expand_16_5x5 (Conv2D)         (None, 17, 17, 32)   7232        ['concatenate_14[0][0]']         \n",
      "                                                                                                  \n",
      " contract_16_3x3 (Conv2D)       (None, 17, 17, 4)    1156        ['expand_16_5x5[0][0]']          \n",
      "                                                                                                  \n",
      " skip_16 (Add)                  (None, 17, 17, 4)    0           ['contract_16_3x3[0][0]',        \n",
      "                                                                  'skip_15[0][0]']                \n",
      "                                                                                                  \n",
      " concatenate_15 (Concatenate)   (None, 17, 17, 9)    0           ['heuristic_priority[0][0]',     \n",
      "                                                                  'skip_16[0][0]']                \n",
      "                                                                                                  \n",
      " expand_17_5x5 (Conv2D)         (None, 17, 17, 32)   7232        ['concatenate_15[0][0]']         \n",
      "                                                                                                  \n",
      " contract_17_3x3 (Conv2D)       (None, 17, 17, 4)    1156        ['expand_17_5x5[0][0]']          \n",
      "                                                                                                  \n",
      " skip_17 (Add)                  (None, 17, 17, 4)    0           ['contract_17_3x3[0][0]',        \n",
      "                                                                  'skip_16[0][0]']                \n",
      "                                                                                                  \n",
      " concatenate_16 (Concatenate)   (None, 17, 17, 9)    0           ['heuristic_priority[0][0]',     \n",
      "                                                                  'skip_17[0][0]']                \n",
      "                                                                                                  \n",
      " expand_18_5x5 (Conv2D)         (None, 17, 17, 32)   7232        ['concatenate_16[0][0]']         \n",
      "                                                                                                  \n",
      " contract_18_3x3 (Conv2D)       (None, 17, 17, 4)    1156        ['expand_18_5x5[0][0]']          \n",
      "                                                                                                  \n",
      " skip_18 (Add)                  (None, 17, 17, 4)    0           ['contract_18_3x3[0][0]',        \n",
      "                                                                  'skip_17[0][0]']                \n",
      "                                                                                                  \n",
      " concatenate_17 (Concatenate)   (None, 17, 17, 9)    0           ['heuristic_priority[0][0]',     \n",
      "                                                                  'skip_18[0][0]']                \n",
      "                                                                                                  \n",
      " expand_19_5x5 (Conv2D)         (None, 17, 17, 32)   7232        ['concatenate_17[0][0]']         \n",
      "                                                                                                  \n",
      " contract_19_3x3 (Conv2D)       (None, 17, 17, 4)    1156        ['expand_19_5x5[0][0]']          \n",
      "                                                                                                  \n",
      " skip_19 (Add)                  (None, 17, 17, 4)    0           ['contract_19_3x3[0][0]',        \n",
      "                                                                  'skip_18[0][0]']                \n",
      "                                                                                                  \n",
      " concatenate_18 (Concatenate)   (None, 17, 17, 9)    0           ['heuristic_priority[0][0]',     \n",
      "                                                                  'skip_19[0][0]']                \n",
      "                                                                                                  \n",
      " expand_20_5x5 (Conv2D)         (None, 17, 17, 32)   7232        ['concatenate_18[0][0]']         \n",
      "                                                                                                  \n",
      " contract_20_3x3 (Conv2D)       (None, 17, 17, 4)    1156        ['expand_20_5x5[0][0]']          \n",
      "                                                                                                  \n",
      " skip_20 (Add)                  (None, 17, 17, 4)    0           ['contract_20_3x3[0][0]',        \n",
      "                                                                  'skip_19[0][0]']                \n",
      "                                                                                                  \n",
      " policy_aggregator (Conv2D)     (None, 17, 17, 1)    5           ['skip_20[0][0]']                \n",
      "                                                                                                  \n",
      " border_off (Conv2D)            (None, 15, 15, 1)    10          ['policy_aggregator[0][0]']      \n",
      "                                                                                                  \n",
      " flatten (Flatten)              (None, 225)          0           ['border_off[0][0]']             \n",
      "                                                                                                  \n",
      " softmax (Softmax)              (None, 225)          0           ['flatten[0][0]']                \n",
      "                                                                                                  \n",
      "==================================================================================================\n",
      "Total params: 747,815\n",
      "Trainable params: 634,517\n",
      "Non-trainable params: 113,298\n",
      "__________________________________________________________________________________________________\n"
     ]
    }
   ],
   "source": [
    "from aegomoku.gomoku_resnet import GomokuResnet\n",
    "\n",
    "model = GomokuResnet(board_size=15, num_blocks=20, num_sensor_filters=1024)\n",
    "model.summary()"
   ],
   "metadata": {
    "collapsed": false,
    "pycharm": {
     "name": "#%%\n"
    }
   }
  },
  {
   "cell_type": "code",
   "execution_count": 5,
   "outputs": [
    {
     "name": "stderr",
     "output_type": "stream",
     "text": [
      "2022-08-20 16:13:08.343141: I tensorflow/stream_executor/cuda/cuda_dnn.cc:384] Loaded cuDNN version 8100\n",
      "2022-08-20 16:13:08.576111: W tensorflow/stream_executor/gpu/asm_compiler.cc:111] *** WARNING *** You are using ptxas 10.1.243, which is older than 11.1. ptxas before 11.1 is known to miscompile XLA code, leading to incorrect results or invalid-address errors.\n",
      "\n",
      "You may not need to update to CUDA 11.1; cherry-picking the ptxas binary is often sufficient.\n"
     ]
    },
    {
     "name": "stdout",
     "output_type": "stream",
     "text": [
      "Epoch: 1, Training: 5.020991325378418\n",
      "Epoch: 11, Training: 4.272425174713135\n",
      "Epoch: 21, Training: 3.1943483352661133\n",
      "Epoch: 31, Training: 2.5848121643066406\n",
      "Epoch: 41, Training: 2.2112584114074707\n",
      "Epoch: 51, Training: 1.9845856428146362\n",
      "Epoch: 61, Training: 1.8244866132736206\n",
      "Epoch: 71, Training: 1.695709228515625\n",
      "Epoch: 81, Training: 1.599747657775879\n",
      "Epoch: 91, Training: 1.5170432329177856\n",
      "Epoch: 101, Training: 1.4490302801132202\n",
      "Epoch: 111, Training: 1.3919507265090942\n",
      "Epoch: 121, Training: 1.3434531688690186\n",
      "Epoch: 131, Training: 1.301072597503662\n",
      "Epoch: 141, Training: 1.270941972732544\n",
      "Epoch: 151, Training: 1.240850806236267\n",
      "Epoch: 161, Training: 1.2127110958099365\n",
      "Epoch: 171, Training: 1.1869605779647827\n",
      "Epoch: 181, Training: 1.1647253036499023\n",
      "Epoch: 191, Training: 1.1449040174484253\n",
      "Epoch: 201, Training: 1.1265660524368286\n",
      "Epoch: 211, Training: 1.1093438863754272\n",
      "Epoch: 221, Training: 1.0933339595794678\n",
      "Epoch: 231, Training: 1.0784509181976318\n",
      "Epoch: 241, Training: 1.066491961479187\n",
      "Epoch: 251, Training: 1.0541800260543823\n",
      "Epoch: 261, Training: 1.0429903268814087\n",
      "Epoch: 271, Training: 1.032202959060669\n",
      "Epoch: 281, Training: 1.0219039916992188\n",
      "Epoch: 291, Training: 1.0123052597045898\n",
      "Epoch: 301, Training: 1.003260850906372\n",
      "Epoch: 311, Training: 0.9950246810913086\n",
      "Epoch: 321, Training: 0.9872070550918579\n",
      "Epoch: 331, Training: 0.9796398878097534\n",
      "Epoch: 341, Training: 0.9724562168121338\n",
      "Epoch: 351, Training: 0.9660370349884033\n",
      "Epoch: 361, Training: 0.9597522616386414\n",
      "Epoch: 371, Training: 0.9536521434783936\n",
      "Epoch: 381, Training: 0.9478492736816406\n",
      "Epoch: 391, Training: 0.942286491394043\n",
      "Epochs: 400, Loss: 0.9382264614105225\n"
     ]
    }
   ],
   "source": [
    "N=2000\n",
    "from aegomoku.trainer import Trainer\n",
    "trainer = Trainer()\n",
    "ds = create_dataset(examples[:N], batch_size=1024)\n",
    "trainer.train(model, ds, epochs_per_train=400, report_every=20)"
   ],
   "metadata": {
    "collapsed": false,
    "pycharm": {
     "name": "#%%\n"
    }
   }
  },
  {
   "cell_type": "code",
   "execution_count": 22,
   "outputs": [
    {
     "name": "stdout",
     "output_type": "stream",
     "text": [
      "n=3805\n",
      "Next to play: WHITE\n",
      "Value from WHITE's point of view: -0.46041057619976916\n",
      "Next to play: WHITE\n",
      "Value from WHITE's point of view: 0.0\n"
     ]
    },
    {
     "data": {
      "text/plain": "<Figure size 576x576 with 1 Axes>",
      "image/png": "[encoded data removed]"
     },
     "metadata": {
      "needs_background": "light"
     },
     "output_type": "display_data"
    },
    {
     "data": {
      "text/plain": "<Figure size 576x576 with 1 Axes>",
      "image/png": "[encoded data removed]"
     },
     "metadata": {
      "needs_background": "light"
     },
     "output_type": "display_data"
    }
   ],
   "source": [
    "from aegomoku.utils import analyse_example\n",
    "\n",
    "n = random.randint(N, len(examples))\n",
    "sample = np.expand_dims(examples[n][0], axis=0).astype(float)\n",
    "p_ = model(sample)\n",
    "s, p, _ = examples[n]\n",
    "example = (s, list(p_.numpy()), 0.0)\n",
    "print(f\"n={n}\")\n",
    "analyse_example(BOARD_SIZE, examples[n])\n",
    "analyse_example(BOARD_SIZE, example)"
   ],
   "metadata": {
    "collapsed": false,
    "pycharm": {
     "name": "#%%\n"
    }
   }
  },
  {
   "cell_type": "code",
   "execution_count": null,
   "outputs": [],
   "source": [],
   "metadata": {
    "collapsed": false,
    "pycharm": {
     "name": "#%%\n"
    }
   }
  }
 ],
 "metadata": {
  "kernelspec": {
   "display_name": "Python 3",
   "language": "python",
   "name": "python3"
  },
  "language_info": {
   "codemirror_mode": {
    "name": "ipython",
    "version": 2
   },
   "file_extension": ".py",
   "mimetype": "text/x-python",
   "name": "python",
   "nbconvert_exporter": "python",
   "pygments_lexer": "ipython2",
   "version": "2.7.6"
  }
 },
 "nbformat": 4,
 "nbformat_minor": 0
}