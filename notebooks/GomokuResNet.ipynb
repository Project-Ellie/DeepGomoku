{
 "cells": [
  {
   "cell_type": "markdown",
   "source": [
    "# A Resnet Variant for Gomoku"
   ],
   "metadata": {
    "collapsed": false,
    "pycharm": {
     "name": "#%% md\n"
    }
   }
  },
  {
   "cell_type": "code",
   "execution_count": 1,
   "outputs": [],
   "source": [
    "%load_ext autoreload\n",
    "%autoreload 2"
   ],
   "metadata": {
    "collapsed": false,
    "pycharm": {
     "name": "#%%\n"
    }
   }
  },
  {
   "cell_type": "code",
   "execution_count": 2,
   "outputs": [
    {
     "name": "stderr",
     "output_type": "stream",
     "text": [
      "2022-09-12 19:01:34.678192: I tensorflow/core/platform/cpu_feature_guard.cc:193] This TensorFlow binary is optimized with oneAPI Deep Neural Network Library (oneDNN) to use the following CPU instructions in performance-critical operations:  AVX2 FMA\n",
      "To enable them in other operations, rebuild TensorFlow with the appropriate compiler flags.\n"
     ]
    }
   ],
   "source": [
    "import datetime as dt\n",
    "import random\n",
    "\n",
    "import numpy as np\n",
    "import tensorflow as tf\n",
    "import keras\n",
    "from keras import layers\n",
    "\n",
    "from aegomoku.game_data import read_training_data, create_dataset\n",
    "import keras.initializers.initializers_v2 as initializers\n",
    "from aegomoku.policies.primary_detector import PrimaryDetector"
   ],
   "metadata": {
    "collapsed": false,
    "pycharm": {
     "name": "#%%\n"
    }
   }
  },
  {
   "cell_type": "markdown",
   "source": [
    "# Training on Terminal Threats\n",
    "Let's start easy. terminal threats are lines of 4 with at least one open end. These positions MUST be taken or the opponents next move terminates the game in her favor."
   ],
   "metadata": {
    "collapsed": false,
    "pycharm": {
     "name": "#%% md\n"
    }
   }
  },
  {
   "cell_type": "code",
   "execution_count": null,
   "outputs": [],
   "source": [
    "BOARD_SIZE=15\n",
    "filename = \"trajectories/policy/terminal_threats.pickle\"\n",
    "examples = read_training_data(filename, BOARD_SIZE)\n",
    "len(examples), len(examples[0]), examples[0][0].shape, np.array(examples[0][1]).shape"
   ],
   "metadata": {
    "collapsed": false,
    "pycharm": {
     "name": "#%%\n"
    }
   }
  },
  {
   "cell_type": "markdown",
   "source": [
    "# Trainable components combined with a heuristic *advisor*\n",
    "Actually, it's boring feature engineering, what we're doing here. And yes that's exactly why this is **Alpha Epsilon** - not quite **Alpha Zero**: We induce a little *bias* by providing knowledge about the most critical positions"
   ],
   "metadata": {
    "collapsed": false,
    "pycharm": {
     "name": "#%% md\n"
    }
   }
  },
  {
   "cell_type": "code",
   "execution_count": null,
   "outputs": [],
   "source": [
    "def ct(n, filters, kernel):\n",
    "    return layers.Conv2D(\n",
    "        name=f\"contract_{n}_{kernel}x{kernel}\",\n",
    "        filters=filters, kernel_size=kernel,\n",
    "        kernel_initializer=initializers.TruncatedNormal(seed=1, stddev=0.08),\n",
    "        bias_initializer=tf.constant_initializer(0.),\n",
    "        activation=tf.nn.softplus,\n",
    "        padding='same')"
   ],
   "metadata": {
    "collapsed": false,
    "pycharm": {
     "name": "#%%\n"
    }
   }
  },
  {
   "cell_type": "code",
   "execution_count": null,
   "outputs": [],
   "source": [
    "policy_aggregate = layers.Conv2D(\n",
    "    name=\"policy_aggregator\",\n",
    "    filters=1, kernel_size=1,\n",
    "    kernel_initializer=initializers.TruncatedNormal(seed=1, stddev=0.08),\n",
    "    bias_initializer=tf.constant_initializer(0.),\n",
    "    activation=tf.nn.relu,\n",
    "    padding='same')"
   ],
   "metadata": {
    "collapsed": false,
    "pycharm": {
     "name": "#%%\n"
    }
   }
  },
  {
   "cell_type": "code",
   "execution_count": null,
   "outputs": [],
   "source": [
    "peel = layers.Conv2D(\n",
    "    name=\"border_off\",\n",
    "    filters=1, kernel_size=(3, 3),\n",
    "    kernel_initializer=tf.constant_initializer([[0., 0., 0.], [0., 1., 0.], [0., 0., 0.]]),\n",
    "    bias_initializer=tf.constant_initializer(0.),\n",
    "    padding='valid',\n",
    "    trainable=False)"
   ],
   "metadata": {
    "collapsed": false,
    "pycharm": {
     "name": "#%%\n"
    }
   }
  },
  {
   "cell_type": "code",
   "execution_count": null,
   "outputs": [],
   "source": [
    "advisor = PrimaryDetector(BOARD_SIZE, activation=tf.keras.activations.tanh, name='heuristics')"
   ],
   "metadata": {
    "collapsed": false,
    "pycharm": {
     "name": "#%%\n"
    }
   }
  },
  {
   "cell_type": "code",
   "execution_count": null,
   "outputs": [],
   "source": [
    "features = advisor(inputs)\n",
    "features=tf.keras.activations.tanh(features)\n",
    "x = xp(1, 1024, 11)(inputs)\n",
    "c = ct(1, 4, 5)(x)\n",
    "\n",
    "value_input_from_sensor = None\n",
    "c1 = None\n",
    "for i in range(2, 21):\n",
    "    i1 = layers.concatenate([features, c], axis=-1)\n",
    "    if i == 2:\n",
    "        value_input_from_sensor = i1\n",
    "    x1 = xp(i, 32, 5)(i1)\n",
    "    c1 = ct(i, 4, 3)(x1)\n",
    "    c = layers.Add(name=f\"skip_{i}\")([c1, c])\n",
    "\n",
    "value_input_from_head = c1\n",
    "\n",
    "value_input = layers.concatenate([value_input_from_head, value_input_from_sensor],\n",
    "                                 name='all_value_input', axis=-1)\n",
    "value_flat = layers.Flatten(name='flat_value_input')(value_input)\n",
    "value = layers.Dense(1, name=\"value_head\", activation=tf.keras.activations.tanh)(value_flat / 100.)\n",
    "\n",
    "x = policy_aggregate(c)\n",
    "y = peel(x)\n",
    "flatten = layers.Flatten(name=\"flat_logits\")(y)\n",
    "policy = layers.Softmax(name=\"policy_head\")(flatten)\n",
    "model = keras.Model(inputs=inputs, outputs=[policy, value])\n",
    "model.compile()\n",
    "model.summary()"
   ],
   "metadata": {
    "collapsed": false,
    "pycharm": {
     "name": "#%%\n"
    }
   }
  },
  {
   "cell_type": "markdown",
   "source": [
    "---\n"
   ],
   "metadata": {
    "collapsed": false,
    "pycharm": {
     "name": "#%% md\n"
    }
   }
  },
  {
   "cell_type": "markdown",
   "source": [
    "\n",
    "# Policy Output of the Untrained Model\n",
    "From experience we can tell that the training will most likely succeed when we see some structured output here. For unknown reasons, some architectures initialize such that the untrained network produces a flat policy output."
   ],
   "metadata": {
    "collapsed": false,
    "pycharm": {
     "name": "#%% md\n"
    }
   }
  },
  {
   "cell_type": "code",
   "execution_count": null,
   "outputs": [],
   "source": [
    "n = random.randint(0, 100)\n",
    "sample = np.expand_dims(examples[n][0], axis=0).astype(float)\n",
    "p, v = model(sample)\n",
    "print((np.squeeze(p)*999).astype(np.uint8))\n",
    "print(f\"Value = {np.squeeze(v)}\")"
   ],
   "metadata": {
    "collapsed": false,
    "pycharm": {
     "name": "#%%\n"
    }
   }
  },
  {
   "cell_type": "markdown",
   "source": [
    "---"
   ],
   "metadata": {
    "collapsed": false,
    "pycharm": {
     "name": "#%% md\n"
    }
   }
  },
  {
   "cell_type": "markdown",
   "source": [
    "# Training"
   ],
   "metadata": {
    "collapsed": false,
    "pycharm": {
     "name": "#%% md\n"
    }
   }
  },
  {
   "cell_type": "code",
   "execution_count": null,
   "outputs": [],
   "source": [
    "policy_loss = tf.keras.losses.CategoricalCrossentropy()\n",
    "value_loss = tf.keras.losses.MeanSquaredError()\n",
    "optimizer = tf.keras.optimizers.Adam(learning_rate=1e-3)"
   ],
   "metadata": {
    "collapsed": false,
    "pycharm": {
     "name": "#%%\n"
    }
   }
  },
  {
   "cell_type": "code",
   "execution_count": null,
   "outputs": [],
   "source": [
    "train_probs_metric = tf.keras.metrics.Mean('train_probs', dtype=tf.float32)\n",
    "train_value_metric = tf.keras.metrics.Mean('train_value', dtype=tf.float32)\n",
    "\n",
    "def train(train_examples, epochs_per_train=100, report_every=100):\n",
    "    current_time = dt.datetime.now().strftime(\"%Y%m%d-%H%M%S\")\n",
    "    train_log_dir = 'logs/gradient_tape/' + current_time + '/train'\n",
    "    train_summary_writer = tf.summary.create_file_writer(train_log_dir)\n",
    "\n",
    "    all_train_ds = create_dataset(train_examples)\n",
    "\n",
    "    for epoch in range(epochs_per_train):\n",
    "        for x_train, pi_train, v_train in all_train_ds:\n",
    "            train_step(x_train, pi_train, v_train)\n",
    "        with train_summary_writer.as_default():\n",
    "            tf.summary.scalar('train_loss', train_probs_metric.result(), step=epoch)\n",
    "\n",
    "        if epoch % report_every == 1:\n",
    "            print(f'Epoch: {epoch}, Training: '\n",
    "                  f'{train_probs_metric.result().numpy(), train_value_metric.result().numpy()}')\n",
    "\n",
    "    print(f'Epoch: {epochs_per_train}, Training: '\n",
    "          f'{train_probs_metric.result().numpy(), train_value_metric.result().numpy()}')\n",
    "\n",
    "    train_probs_metric.reset_states()\n",
    "    train_value_metric.reset_states()\n",
    "\n",
    "@tf.function\n",
    "def train_step(x, pi_y, v_y):\n",
    "    with tf.GradientTape() as tape:\n",
    "        probs, value = model(x, training=True)\n",
    "        train_loss_p = policy_loss(pi_y, probs)\n",
    "        train_loss_v = value_loss(v_y, value)\n",
    "        total_loss = train_loss_p + train_loss_v\n",
    "\n",
    "    grads = tape.gradient(total_loss, model.trainable_variables)\n",
    "    optimizer.apply_gradients(zip(grads, model.trainable_variables))\n",
    "\n",
    "    train_probs_metric(train_loss_p)\n",
    "    train_value_metric(train_loss_v)"
   ],
   "metadata": {
    "collapsed": false,
    "pycharm": {
     "name": "#%%\n"
    }
   }
  },
  {
   "cell_type": "code",
   "execution_count": null,
   "outputs": [],
   "source": [
    "N = 2000\n",
    "train(examples[:N], epochs_per_train=20, report_every=5)"
   ],
   "metadata": {
    "collapsed": false,
    "pycharm": {
     "name": "#%%\n"
    }
   }
  },
  {
   "cell_type": "code",
   "execution_count": null,
   "outputs": [],
   "source": [
    "N = 5000\n",
    "train(examples[:N], epochs_per_train=200, report_every=20)"
   ],
   "metadata": {
    "collapsed": false,
    "pycharm": {
     "name": "#%%\n"
    }
   }
  },
  {
   "cell_type": "markdown",
   "source": [],
   "metadata": {
    "collapsed": false,
    "pycharm": {
     "name": "#%% md\n"
    }
   }
  },
  {
   "cell_type": "markdown",
   "source": [
    "---\n",
    "# Convincing Performance on Unseen Examples\n",
    "With loss values below 1.2 we already have sufficient performance on the terminal threat dataset. Sufficient means that if there's only one terminal threat on the board, the policy will include it, at least among other moves that the tree search can then easily rule out."
   ],
   "metadata": {
    "collapsed": false,
    "pycharm": {
     "name": "#%% md\n"
    }
   }
  },
  {
   "cell_type": "code",
   "execution_count": null,
   "outputs": [],
   "source": [
    "from aegomoku.utils import analyse_example\n",
    "\n",
    "n = random.randint(N, len(examples))\n",
    "sample = np.expand_dims(examples[n][0], axis=0).astype(float)\n",
    "p_, v_ = model(sample)\n",
    "s, p, v = examples[n]\n",
    "example = (s, list(p_.numpy()), np.squeeze(v_))\n",
    "print(f\"n={n}\")\n",
    "analyse_example(BOARD_SIZE, examples[n])\n",
    "analyse_example(BOARD_SIZE, example)"
   ],
   "metadata": {
    "collapsed": false,
    "pycharm": {
     "name": "#%%\n"
    }
   }
  },
  {
   "cell_type": "markdown",
   "source": [
    "---"
   ],
   "metadata": {
    "collapsed": false,
    "pycharm": {
     "name": "#%% md\n"
    }
   }
  },
  {
   "cell_type": "markdown",
   "source": [
    "# All of that is now in GomokuResnet"
   ],
   "metadata": {
    "collapsed": false,
    "pycharm": {
     "name": "#%% md\n"
    }
   }
  },
  {
   "cell_type": "code",
   "execution_count": null,
   "outputs": [],
   "source": [
    "from aegomoku.gomoku_resnet import GomokuResnet\n",
    "\n",
    "model = GomokuResnet(board_size=15, num_blocks=20, num_sensor_filters=1024)\n",
    "model.summary()"
   ],
   "metadata": {
    "collapsed": false,
    "pycharm": {
     "name": "#%%\n"
    }
   }
  },
  {
   "cell_type": "code",
   "execution_count": null,
   "outputs": [],
   "source": [
    "N=2000\n",
    "from aegomoku.trainer import Trainer\n",
    "trainer = Trainer(model)\n",
    "ds = create_dataset(examples[:N], batch_size=1024)\n",
    "trainer.train(ds, epochs_per_train=400, report_every=20)"
   ],
   "metadata": {
    "collapsed": false,
    "pycharm": {
     "name": "#%%\n"
    }
   }
  },
  {
   "cell_type": "code",
   "execution_count": null,
   "outputs": [],
   "source": [
    "from aegomoku.utils import analyse_example\n",
    "\n",
    "n = random.randint(N, len(examples))\n",
    "sample = np.expand_dims(examples[n][0], axis=0).astype(float)\n",
    "\n",
    "p_, v_ = model(sample)\n",
    "s, _, _ = examples[n]\n",
    "example = (s, list(p_.numpy()), np.squeeze(v_))\n",
    "print(f\"n={n}\")\n",
    "analyse_example(BOARD_SIZE, examples[n])\n",
    "analyse_example(BOARD_SIZE, example)"
   ],
   "metadata": {
    "collapsed": false,
    "pycharm": {
     "name": "#%%\n"
    }
   }
  },
  {
   "cell_type": "code",
   "execution_count": 35,
   "outputs": [
    {
     "name": "stdout",
     "output_type": "stream",
     "text": [
      "Epoch: 1, Training: (6.9867935, 0.17791544)\n",
      "Epoch: 6, Training: (5.462475, 0.11557042)\n",
      "Epoch: 11, Training: (5.1319084, 0.093506575)\n",
      "Epoch: 16, Training: (4.9386806, 0.08397129)\n",
      "Epoch: 20, Training: (4.821642, 0.080846444)\n"
     ]
    }
   ],
   "source": [
    "N = 2000\n",
    "train(examples[:N], epochs_per_train=20, report_every=5)"
   ],
   "metadata": {
    "collapsed": false,
    "pycharm": {
     "name": "#%%\n"
    }
   }
  },
  {
   "cell_type": "code",
   "execution_count": 36,
   "outputs": [
    {
     "name": "stdout",
     "output_type": "stream",
     "text": [
      "Epoch: 1, Training: (3.6373208, 0.050578486)\n",
      "Epoch: 21, Training: (1.6471745, 0.05105175)\n",
      "Epoch: 41, Training: (1.3100998, 0.049909636)\n",
      "Epoch: 61, Training: (1.1562135, 0.04887081)\n",
      "Epoch: 81, Training: (1.0642339, 0.048209924)\n",
      "Epoch: 101, Training: (1.0089085, 0.047772605)\n",
      "Epoch: 121, Training: (0.9672268, 0.047380496)\n",
      "Epoch: 141, Training: (0.93623513, 0.047050513)\n",
      "Epoch: 161, Training: (0.912019, 0.04674411)\n",
      "Epoch: 181, Training: (0.89248013, 0.046477113)\n",
      "Epoch: 200, Training: (0.87816817, 0.046243556)\n"
     ]
    }
   ],
   "source": [
    "N = 5000\n",
    "train(examples[:N], epochs_per_train=200, report_every=20)"
   ],
   "metadata": {
    "collapsed": false,
    "pycharm": {
     "name": "#%%\n"
    }
   }
  },
  {
   "cell_type": "markdown",
   "source": [],
   "metadata": {
    "collapsed": false,
    "pycharm": {
     "name": "#%% md\n"
    }
   }
  },
  {
   "cell_type": "markdown",
   "source": [
    "---\n",
    "# Convincing Performance on Unseen Examples\n",
    "With loss values below 1.2 we already have sufficient performance on the terminal threat dataset. Sufficient means that if there's only one terminal threat on the board, the policy will include it, at least among other moves that the tree search can then easily rule out."
   ],
   "metadata": {
    "collapsed": false,
    "pycharm": {
     "name": "#%% md\n"
    }
   }
  },
  {
   "cell_type": "code",
   "execution_count": 57,
   "outputs": [
    {
     "name": "stdout",
     "output_type": "stream",
     "text": [
      "n=19884\n",
      "Next to play: WHITE\n",
      "Value from WHITE's point of view: -0.5143582048153265\n",
      "Next to play: WHITE\n",
      "Value from WHITE's point of view: -0.42720162868499756\n"
     ]
    },
    {
     "data": {
      "text/plain": "<Figure size 576x576 with 1 Axes>",
      "image/png": "[encoded data removed]"
     },
     "metadata": {
      "needs_background": "light"
     },
     "output_type": "display_data"
    },
    {
     "data": {
      "text/plain": "<Figure size 576x576 with 1 Axes>",
      "image/png": "[encoded data removed]"
     },
     "metadata": {
      "needs_background": "light"
     },
     "output_type": "display_data"
    }
   ],
   "source": [
    "from aegomoku.utils import analyse_example\n",
    "\n",
    "n = random.randint(N, len(examples))\n",
    "sample = np.expand_dims(examples[n][0], axis=0).astype(float)\n",
    "p_, v_ = model(sample)\n",
    "s, p, v = examples[n]\n",
    "example = (s, list(p_.numpy()), np.squeeze(v_))\n",
    "print(f\"n={n}\")\n",
    "analyse_example(BOARD_SIZE, examples[n])\n",
    "analyse_example(BOARD_SIZE, example)"
   ],
   "metadata": {
    "collapsed": false,
    "pycharm": {
     "name": "#%%\n"
    }
   }
  },
  {
   "cell_type": "markdown",
   "source": [
    "---"
   ],
   "metadata": {
    "collapsed": false,
    "pycharm": {
     "name": "#%% md\n"
    }
   }
  },
  {
   "cell_type": "markdown",
   "source": [
    "# All of that is now in GomokuResnet"
   ],
   "metadata": {
    "collapsed": false,
    "pycharm": {
     "name": "#%% md\n"
    }
   }
  },
  {
   "cell_type": "code",
   "execution_count": 4,
   "outputs": [
    {
     "name": "stderr",
     "output_type": "stream",
     "text": [
      "/home/wgiersche/.local/share/virtualenvs/DeepGomoku-yQC4gx5q/lib/python3.8/site-packages/numpy/core/fromnumeric.py:2009: VisibleDeprecationWarning: Creating an ndarray from ragged nested sequences (which is a list-or-tuple of lists-or-tuples-or ndarrays with different lengths or shapes) is deprecated. If you meant to do this, you must specify 'dtype=object' when creating the ndarray.\n",
      "  result = asarray(a).shape\n",
      "2022-08-21 07:54:14.712540: I tensorflow/stream_executor/cuda/cuda_gpu_executor.cc:975] successful NUMA node read from SysFS had negative value (-1), but there must be at least one NUMA node, so returning NUMA node zero\n",
      "2022-08-21 07:54:14.713215: I tensorflow/stream_executor/cuda/cuda_gpu_executor.cc:975] successful NUMA node read from SysFS had negative value (-1), but there must be at least one NUMA node, so returning NUMA node zero\n",
      "2022-08-21 07:54:14.718636: I tensorflow/stream_executor/cuda/cuda_gpu_executor.cc:975] successful NUMA node read from SysFS had negative value (-1), but there must be at least one NUMA node, so returning NUMA node zero\n",
      "2022-08-21 07:54:14.719282: I tensorflow/stream_executor/cuda/cuda_gpu_executor.cc:975] successful NUMA node read from SysFS had negative value (-1), but there must be at least one NUMA node, so returning NUMA node zero\n",
      "2022-08-21 07:54:14.720336: I tensorflow/stream_executor/cuda/cuda_gpu_executor.cc:975] successful NUMA node read from SysFS had negative value (-1), but there must be at least one NUMA node, so returning NUMA node zero\n",
      "2022-08-21 07:54:14.721289: I tensorflow/stream_executor/cuda/cuda_gpu_executor.cc:975] successful NUMA node read from SysFS had negative value (-1), but there must be at least one NUMA node, so returning NUMA node zero\n",
      "2022-08-21 07:54:14.722430: I tensorflow/core/platform/cpu_feature_guard.cc:193] This TensorFlow binary is optimized with oneAPI Deep Neural Network Library (oneDNN) to use the following CPU instructions in performance-critical operations:  AVX2 FMA\n",
      "To enable them in other operations, rebuild TensorFlow with the appropriate compiler flags.\n",
      "2022-08-21 07:54:14.880139: I tensorflow/stream_executor/cuda/cuda_gpu_executor.cc:975] successful NUMA node read from SysFS had negative value (-1), but there must be at least one NUMA node, so returning NUMA node zero\n",
      "2022-08-21 07:54:14.880785: I tensorflow/stream_executor/cuda/cuda_gpu_executor.cc:975] successful NUMA node read from SysFS had negative value (-1), but there must be at least one NUMA node, so returning NUMA node zero\n",
      "2022-08-21 07:54:14.881422: I tensorflow/stream_executor/cuda/cuda_gpu_executor.cc:975] successful NUMA node read from SysFS had negative value (-1), but there must be at least one NUMA node, so returning NUMA node zero\n",
      "2022-08-21 07:54:14.882012: I tensorflow/stream_executor/cuda/cuda_gpu_executor.cc:975] successful NUMA node read from SysFS had negative value (-1), but there must be at least one NUMA node, so returning NUMA node zero\n",
      "2022-08-21 07:54:14.882614: I tensorflow/stream_executor/cuda/cuda_gpu_executor.cc:975] successful NUMA node read from SysFS had negative value (-1), but there must be at least one NUMA node, so returning NUMA node zero\n",
      "2022-08-21 07:54:14.883225: I tensorflow/stream_executor/cuda/cuda_gpu_executor.cc:975] successful NUMA node read from SysFS had negative value (-1), but there must be at least one NUMA node, so returning NUMA node zero\n",
      "2022-08-21 07:54:15.656682: I tensorflow/stream_executor/cuda/cuda_gpu_executor.cc:975] successful NUMA node read from SysFS had negative value (-1), but there must be at least one NUMA node, so returning NUMA node zero\n",
      "2022-08-21 07:54:15.657314: I tensorflow/stream_executor/cuda/cuda_gpu_executor.cc:975] successful NUMA node read from SysFS had negative value (-1), but there must be at least one NUMA node, so returning NUMA node zero\n",
      "2022-08-21 07:54:15.657881: I tensorflow/stream_executor/cuda/cuda_gpu_executor.cc:975] successful NUMA node read from SysFS had negative value (-1), but there must be at least one NUMA node, so returning NUMA node zero\n",
      "2022-08-21 07:54:15.658432: I tensorflow/stream_executor/cuda/cuda_gpu_executor.cc:975] successful NUMA node read from SysFS had negative value (-1), but there must be at least one NUMA node, so returning NUMA node zero\n",
      "2022-08-21 07:54:15.659002: I tensorflow/stream_executor/cuda/cuda_gpu_executor.cc:975] successful NUMA node read from SysFS had negative value (-1), but there must be at least one NUMA node, so returning NUMA node zero\n",
      "2022-08-21 07:54:15.659579: I tensorflow/core/common_runtime/gpu/gpu_device.cc:1532] Created device /job:localhost/replica:0/task:0/device:GPU:0 with 9875 MB memory:  -> device: 0, name: NVIDIA GeForce GTX 1080 Ti, pci bus id: 0000:28:00.0, compute capability: 6.1\n",
      "2022-08-21 07:54:15.659973: I tensorflow/stream_executor/cuda/cuda_gpu_executor.cc:975] successful NUMA node read from SysFS had negative value (-1), but there must be at least one NUMA node, so returning NUMA node zero\n",
      "2022-08-21 07:54:15.660558: I tensorflow/core/common_runtime/gpu/gpu_device.cc:1532] Created device /job:localhost/replica:0/task:0/device:GPU:1 with 10415 MB memory:  -> device: 1, name: NVIDIA GeForce GTX 1080 Ti, pci bus id: 0000:29:00.0, compute capability: 6.1\n"
     ]
    },
    {
     "name": "stdout",
     "output_type": "stream",
     "text": [
      "Model: \"gomoku_resnet\"\n",
      "__________________________________________________________________________________________________\n",
      " Layer (type)                   Output Shape         Param #     Connected to                     \n",
      "==================================================================================================\n",
      " inputs (InputLayer)            [(None, 17, 17, 3)]  0           []                               \n",
      "                                                                                                  \n",
      " heuristic_detector (Conv2D)    (None, 17, 17, 307)  111748      ['inputs[0][0]']                 \n",
      "                                                                                                  \n",
      " expand_1_11x11 (Conv2D)        (None, 17, 17, 1024  372736      ['inputs[0][0]']                 \n",
      "                                )                                                                 \n",
      "                                                                                                  \n",
      " heuristic_priority (Conv2D)    (None, 17, 17, 5)    1540        ['heuristic_detector[0][0]']     \n",
      "                                                                                                  \n",
      " contract_1_5x5 (Conv2D)        (None, 17, 17, 4)    102404      ['expand_1_11x11[0][0]']         \n",
      "                                                                                                  \n",
      " concatenate (Concatenate)      (None, 17, 17, 9)    0           ['heuristic_priority[0][0]',     \n",
      "                                                                  'contract_1_5x5[0][0]']         \n",
      "                                                                                                  \n",
      " expand_2_5x5 (Conv2D)          (None, 17, 17, 32)   7232        ['concatenate[0][0]']            \n",
      "                                                                                                  \n",
      " contract_2_3x3 (Conv2D)        (None, 17, 17, 4)    1156        ['expand_2_5x5[0][0]']           \n",
      "                                                                                                  \n",
      " skip_2 (Add)                   (None, 17, 17, 4)    0           ['contract_2_3x3[0][0]',         \n",
      "                                                                  'contract_1_5x5[0][0]']         \n",
      "                                                                                                  \n",
      " concatenate_1 (Concatenate)    (None, 17, 17, 9)    0           ['heuristic_priority[0][0]',     \n",
      "                                                                  'skip_2[0][0]']                 \n",
      "                                                                                                  \n",
      " expand_3_5x5 (Conv2D)          (None, 17, 17, 32)   7232        ['concatenate_1[0][0]']          \n",
      "                                                                                                  \n",
      " contract_3_3x3 (Conv2D)        (None, 17, 17, 4)    1156        ['expand_3_5x5[0][0]']           \n",
      "                                                                                                  \n",
      " skip_3 (Add)                   (None, 17, 17, 4)    0           ['contract_3_3x3[0][0]',         \n",
      "                                                                  'skip_2[0][0]']                 \n",
      "                                                                                                  \n",
      " concatenate_2 (Concatenate)    (None, 17, 17, 9)    0           ['heuristic_priority[0][0]',     \n",
      "                                                                  'skip_3[0][0]']                 \n",
      "                                                                                                  \n",
      " expand_4_5x5 (Conv2D)          (None, 17, 17, 32)   7232        ['concatenate_2[0][0]']          \n",
      "                                                                                                  \n",
      " contract_4_3x3 (Conv2D)        (None, 17, 17, 4)    1156        ['expand_4_5x5[0][0]']           \n",
      "                                                                                                  \n",
      " skip_4 (Add)                   (None, 17, 17, 4)    0           ['contract_4_3x3[0][0]',         \n",
      "                                                                  'skip_3[0][0]']                 \n",
      "                                                                                                  \n",
      " concatenate_3 (Concatenate)    (None, 17, 17, 9)    0           ['heuristic_priority[0][0]',     \n",
      "                                                                  'skip_4[0][0]']                 \n",
      "                                                                                                  \n",
      " expand_5_5x5 (Conv2D)          (None, 17, 17, 32)   7232        ['concatenate_3[0][0]']          \n",
      "                                                                                                  \n",
      " contract_5_3x3 (Conv2D)        (None, 17, 17, 4)    1156        ['expand_5_5x5[0][0]']           \n",
      "                                                                                                  \n",
      " skip_5 (Add)                   (None, 17, 17, 4)    0           ['contract_5_3x3[0][0]',         \n",
      "                                                                  'skip_4[0][0]']                 \n",
      "                                                                                                  \n",
      " concatenate_4 (Concatenate)    (None, 17, 17, 9)    0           ['heuristic_priority[0][0]',     \n",
      "                                                                  'skip_5[0][0]']                 \n",
      "                                                                                                  \n",
      " expand_6_5x5 (Conv2D)          (None, 17, 17, 32)   7232        ['concatenate_4[0][0]']          \n",
      "                                                                                                  \n",
      " contract_6_3x3 (Conv2D)        (None, 17, 17, 4)    1156        ['expand_6_5x5[0][0]']           \n",
      "                                                                                                  \n",
      " skip_6 (Add)                   (None, 17, 17, 4)    0           ['contract_6_3x3[0][0]',         \n",
      "                                                                  'skip_5[0][0]']                 \n",
      "                                                                                                  \n",
      " concatenate_5 (Concatenate)    (None, 17, 17, 9)    0           ['heuristic_priority[0][0]',     \n",
      "                                                                  'skip_6[0][0]']                 \n",
      "                                                                                                  \n",
      " expand_7_5x5 (Conv2D)          (None, 17, 17, 32)   7232        ['concatenate_5[0][0]']          \n",
      "                                                                                                  \n",
      " contract_7_3x3 (Conv2D)        (None, 17, 17, 4)    1156        ['expand_7_5x5[0][0]']           \n",
      "                                                                                                  \n",
      " skip_7 (Add)                   (None, 17, 17, 4)    0           ['contract_7_3x3[0][0]',         \n",
      "                                                                  'skip_6[0][0]']                 \n",
      "                                                                                                  \n",
      " concatenate_6 (Concatenate)    (None, 17, 17, 9)    0           ['heuristic_priority[0][0]',     \n",
      "                                                                  'skip_7[0][0]']                 \n",
      "                                                                                                  \n",
      " expand_8_5x5 (Conv2D)          (None, 17, 17, 32)   7232        ['concatenate_6[0][0]']          \n",
      "                                                                                                  \n",
      " contract_8_3x3 (Conv2D)        (None, 17, 17, 4)    1156        ['expand_8_5x5[0][0]']           \n",
      "                                                                                                  \n",
      " skip_8 (Add)                   (None, 17, 17, 4)    0           ['contract_8_3x3[0][0]',         \n",
      "                                                                  'skip_7[0][0]']                 \n",
      "                                                                                                  \n",
      " concatenate_7 (Concatenate)    (None, 17, 17, 9)    0           ['heuristic_priority[0][0]',     \n",
      "                                                                  'skip_8[0][0]']                 \n",
      "                                                                                                  \n",
      " expand_9_5x5 (Conv2D)          (None, 17, 17, 32)   7232        ['concatenate_7[0][0]']          \n",
      "                                                                                                  \n",
      " contract_9_3x3 (Conv2D)        (None, 17, 17, 4)    1156        ['expand_9_5x5[0][0]']           \n",
      "                                                                                                  \n",
      " skip_9 (Add)                   (None, 17, 17, 4)    0           ['contract_9_3x3[0][0]',         \n",
      "                                                                  'skip_8[0][0]']                 \n",
      "                                                                                                  \n",
      " concatenate_8 (Concatenate)    (None, 17, 17, 9)    0           ['heuristic_priority[0][0]',     \n",
      "                                                                  'skip_9[0][0]']                 \n",
      "                                                                                                  \n",
      " expand_10_5x5 (Conv2D)         (None, 17, 17, 32)   7232        ['concatenate_8[0][0]']          \n",
      "                                                                                                  \n",
      " contract_10_3x3 (Conv2D)       (None, 17, 17, 4)    1156        ['expand_10_5x5[0][0]']          \n",
      "                                                                                                  \n",
      " skip_10 (Add)                  (None, 17, 17, 4)    0           ['contract_10_3x3[0][0]',        \n",
      "                                                                  'skip_9[0][0]']                 \n",
      "                                                                                                  \n",
      " concatenate_9 (Concatenate)    (None, 17, 17, 9)    0           ['heuristic_priority[0][0]',     \n",
      "                                                                  'skip_10[0][0]']                \n",
      "                                                                                                  \n",
      " expand_11_5x5 (Conv2D)         (None, 17, 17, 32)   7232        ['concatenate_9[0][0]']          \n",
      "                                                                                                  \n",
      " contract_11_3x3 (Conv2D)       (None, 17, 17, 4)    1156        ['expand_11_5x5[0][0]']          \n",
      "                                                                                                  \n",
      " skip_11 (Add)                  (None, 17, 17, 4)    0           ['contract_11_3x3[0][0]',        \n",
      "                                                                  'skip_10[0][0]']                \n",
      "                                                                                                  \n",
      " concatenate_10 (Concatenate)   (None, 17, 17, 9)    0           ['heuristic_priority[0][0]',     \n",
      "                                                                  'skip_11[0][0]']                \n",
      "                                                                                                  \n",
      " expand_12_5x5 (Conv2D)         (None, 17, 17, 32)   7232        ['concatenate_10[0][0]']         \n",
      "                                                                                                  \n",
      " contract_12_3x3 (Conv2D)       (None, 17, 17, 4)    1156        ['expand_12_5x5[0][0]']          \n",
      "                                                                                                  \n",
      " skip_12 (Add)                  (None, 17, 17, 4)    0           ['contract_12_3x3[0][0]',        \n",
      "                                                                  'skip_11[0][0]']                \n",
      "                                                                                                  \n",
      " concatenate_11 (Concatenate)   (None, 17, 17, 9)    0           ['heuristic_priority[0][0]',     \n",
      "                                                                  'skip_12[0][0]']                \n",
      "                                                                                                  \n",
      " expand_13_5x5 (Conv2D)         (None, 17, 17, 32)   7232        ['concatenate_11[0][0]']         \n",
      "                                                                                                  \n",
      " contract_13_3x3 (Conv2D)       (None, 17, 17, 4)    1156        ['expand_13_5x5[0][0]']          \n",
      "                                                                                                  \n",
      " skip_13 (Add)                  (None, 17, 17, 4)    0           ['contract_13_3x3[0][0]',        \n",
      "                                                                  'skip_12[0][0]']                \n",
      "                                                                                                  \n",
      " concatenate_12 (Concatenate)   (None, 17, 17, 9)    0           ['heuristic_priority[0][0]',     \n",
      "                                                                  'skip_13[0][0]']                \n",
      "                                                                                                  \n",
      " expand_14_5x5 (Conv2D)         (None, 17, 17, 32)   7232        ['concatenate_12[0][0]']         \n",
      "                                                                                                  \n",
      " contract_14_3x3 (Conv2D)       (None, 17, 17, 4)    1156        ['expand_14_5x5[0][0]']          \n",
      "                                                                                                  \n",
      " skip_14 (Add)                  (None, 17, 17, 4)    0           ['contract_14_3x3[0][0]',        \n",
      "                                                                  'skip_13[0][0]']                \n",
      "                                                                                                  \n",
      " concatenate_13 (Concatenate)   (None, 17, 17, 9)    0           ['heuristic_priority[0][0]',     \n",
      "                                                                  'skip_14[0][0]']                \n",
      "                                                                                                  \n",
      " expand_15_5x5 (Conv2D)         (None, 17, 17, 32)   7232        ['concatenate_13[0][0]']         \n",
      "                                                                                                  \n",
      " contract_15_3x3 (Conv2D)       (None, 17, 17, 4)    1156        ['expand_15_5x5[0][0]']          \n",
      "                                                                                                  \n",
      " skip_15 (Add)                  (None, 17, 17, 4)    0           ['contract_15_3x3[0][0]',        \n",
      "                                                                  'skip_14[0][0]']                \n",
      "                                                                                                  \n",
      " concatenate_14 (Concatenate)   (None, 17, 17, 9)    0           ['heuristic_priority[0][0]',     \n",
      "                                                                  'skip_15[0][0]']                \n",
      "                                                                                                  \n",
      " expand_16_5x5 (Conv2D)         (None, 17, 17, 32)   7232        ['concatenate_14[0][0]']         \n",
      "                                                                                                  \n",
      " contract_16_3x3 (Conv2D)       (None, 17, 17, 4)    1156        ['expand_16_5x5[0][0]']          \n",
      "                                                                                                  \n",
      " skip_16 (Add)                  (None, 17, 17, 4)    0           ['contract_16_3x3[0][0]',        \n",
      "                                                                  'skip_15[0][0]']                \n",
      "                                                                                                  \n",
      " concatenate_15 (Concatenate)   (None, 17, 17, 9)    0           ['heuristic_priority[0][0]',     \n",
      "                                                                  'skip_16[0][0]']                \n",
      "                                                                                                  \n",
      " expand_17_5x5 (Conv2D)         (None, 17, 17, 32)   7232        ['concatenate_15[0][0]']         \n",
      "                                                                                                  \n",
      " contract_17_3x3 (Conv2D)       (None, 17, 17, 4)    1156        ['expand_17_5x5[0][0]']          \n",
      "                                                                                                  \n",
      " skip_17 (Add)                  (None, 17, 17, 4)    0           ['contract_17_3x3[0][0]',        \n",
      "                                                                  'skip_16[0][0]']                \n",
      "                                                                                                  \n",
      " concatenate_16 (Concatenate)   (None, 17, 17, 9)    0           ['heuristic_priority[0][0]',     \n",
      "                                                                  'skip_17[0][0]']                \n",
      "                                                                                                  \n",
      " expand_18_5x5 (Conv2D)         (None, 17, 17, 32)   7232        ['concatenate_16[0][0]']         \n",
      "                                                                                                  \n",
      " contract_18_3x3 (Conv2D)       (None, 17, 17, 4)    1156        ['expand_18_5x5[0][0]']          \n",
      "                                                                                                  \n",
      " skip_18 (Add)                  (None, 17, 17, 4)    0           ['contract_18_3x3[0][0]',        \n",
      "                                                                  'skip_17[0][0]']                \n",
      "                                                                                                  \n",
      " concatenate_17 (Concatenate)   (None, 17, 17, 9)    0           ['heuristic_priority[0][0]',     \n",
      "                                                                  'skip_18[0][0]']                \n",
      "                                                                                                  \n",
      " expand_19_5x5 (Conv2D)         (None, 17, 17, 32)   7232        ['concatenate_17[0][0]']         \n",
      "                                                                                                  \n",
      " contract_19_3x3 (Conv2D)       (None, 17, 17, 4)    1156        ['expand_19_5x5[0][0]']          \n",
      "                                                                                                  \n",
      " skip_19 (Add)                  (None, 17, 17, 4)    0           ['contract_19_3x3[0][0]',        \n",
      "                                                                  'skip_18[0][0]']                \n",
      "                                                                                                  \n",
      " concatenate_18 (Concatenate)   (None, 17, 17, 9)    0           ['heuristic_priority[0][0]',     \n",
      "                                                                  'skip_19[0][0]']                \n",
      "                                                                                                  \n",
      " expand_20_5x5 (Conv2D)         (None, 17, 17, 32)   7232        ['concatenate_18[0][0]']         \n",
      "                                                                                                  \n",
      " contract_20_3x3 (Conv2D)       (None, 17, 17, 4)    1156        ['expand_20_5x5[0][0]']          \n",
      "                                                                                                  \n",
      " skip_20 (Add)                  (None, 17, 17, 4)    0           ['contract_20_3x3[0][0]',        \n",
      "                                                                  'skip_19[0][0]']                \n",
      "                                                                                                  \n",
      " policy_aggregator (Conv2D)     (None, 17, 17, 1)    5           ['skip_20[0][0]']                \n",
      "                                                                                                  \n",
      " all_value_input (Concatenate)  (None, 17, 17, 13)   0           ['contract_20_3x3[0][0]',        \n",
      "                                                                  'concatenate[0][0]']            \n",
      "                                                                                                  \n",
      " border_off (Conv2D)            (None, 15, 15, 1)    10          ['policy_aggregator[0][0]']      \n",
      "                                                                                                  \n",
      " flat_value_input (Flatten)     (None, 3757)         0           ['all_value_input[0][0]']        \n",
      "                                                                                                  \n",
      " flat_logits (Flatten)          (None, 225)          0           ['border_off[0][0]']             \n",
      "                                                                                                  \n",
      " tf.math.truediv (TFOpLambda)   (None, 3757)         0           ['flat_value_input[0][0]']       \n",
      "                                                                                                  \n",
      " policy_head (Softmax)          (None, 225)          0           ['flat_logits[0][0]']            \n",
      "                                                                                                  \n",
      " value_head (Dense)             (None, 1)            3758        ['tf.math.truediv[0][0]']        \n",
      "                                                                                                  \n",
      "==================================================================================================\n",
      "Total params: 751,573\n",
      "Trainable params: 638,275\n",
      "Non-trainable params: 113,298\n",
      "__________________________________________________________________________________________________\n"
     ]
    }
   ],
   "source": [
    "from aegomoku.gomoku_resnet import GomokuResnet\n",
    "\n",
    "model = GomokuResnet(board_size=15, num_blocks=20, num_sensor_filters=1024)\n",
    "model.summary()"
   ],
   "metadata": {
    "collapsed": false,
    "pycharm": {
     "name": "#%%\n"
    }
   }
  },
  {
   "cell_type": "code",
   "execution_count": 5,
   "outputs": [
    {
     "name": "stderr",
     "output_type": "stream",
     "text": [
      "2022-08-21 07:54:27.549320: I tensorflow/stream_executor/cuda/cuda_dnn.cc:384] Loaded cuDNN version 8100\n",
      "2022-08-21 07:54:27.780545: W tensorflow/stream_executor/gpu/asm_compiler.cc:111] *** WARNING *** You are using ptxas 10.1.243, which is older than 11.1. ptxas before 11.1 is known to miscompile XLA code, leading to incorrect results or invalid-address errors.\n",
      "\n",
      "You may not need to update to CUDA 11.1; cherry-picking the ptxas binary is often sufficient.\n"
     ]
    },
    {
     "name": "stdout",
     "output_type": "stream",
     "text": [
      "Epoch: 1, Training: (5.0408435, 0.20604649) - elapsed: 8.189270142000169s\n",
      "Epoch: 21, Training: (3.7192786, 0.075238235) - elapsed: 13.44873130400083s\n",
      "Epoch: 41, Training: (2.7031546, 0.06755585) - elapsed: 13.526480253000045s\n",
      "Epoch: 61, Training: (2.142976, 0.06454063) - elapsed: 13.56964555599916s\n",
      "Epoch: 81, Training: (1.8195319, 0.06285138) - elapsed: 13.906993277998481s\n",
      "Epoch: 101, Training: (1.6137385, 0.061638992) - elapsed: 14.231972757999756s\n",
      "Epoch: 121, Training: (1.4783899, 0.06071533) - elapsed: 14.245046777001335s\n",
      "Epoch: 141, Training: (1.37802, 0.059855804) - elapsed: 14.008861115999025s\n",
      "Epoch: 161, Training: (1.2995623, 0.058757298) - elapsed: 14.01311456700023s\n",
      "Epoch: 181, Training: (1.2396085, 0.057219688) - elapsed: 13.756060480000087s\n",
      "Epoch: 201, Training: (1.1921237, 0.0550034) - elapsed: 13.690853689000505s\n",
      "Epoch: 221, Training: (1.1526363, 0.052167967) - elapsed: 14.220607059998656s\n",
      "Epoch: 241, Training: (1.1190438, 0.049082126) - elapsed: 14.495237629000258s\n",
      "Epoch: 261, Training: (1.0899068, 0.046177752) - elapsed: 14.83365677599977s\n",
      "Epoch: 281, Training: (1.0644046, 0.043531794) - elapsed: 14.797358124998937s\n",
      "Epoch: 301, Training: (1.0430566, 0.04124907) - elapsed: 14.358932647999609s\n",
      "Epoch: 321, Training: (1.0232517, 0.03904587) - elapsed: 14.809652829999322s\n",
      "Epoch: 341, Training: (1.0056094, 0.03705566) - elapsed: 15.2940471289985s\n",
      "Epoch: 361, Training: (0.9898681, 0.035238437) - elapsed: 14.854333134000626s\n",
      "Epoch: 381, Training: (0.9759407, 0.03361301) - elapsed: 15.105607723000503s\n",
      "Epoch: 400, Training: (0.96444726, 0.032253873)\n"
     ]
    }
   ],
   "source": [
    "N=2000\n",
    "from aegomoku.trainer import Trainer\n",
    "trainer = Trainer(model)\n",
    "ds = create_dataset(examples[:N], batch_size=1024)\n",
    "trainer.train(ds, epochs_per_train=400, report_every=20)"
   ],
   "metadata": {
    "collapsed": false,
    "pycharm": {
     "name": "#%%\n"
    }
   }
  },
  {
   "cell_type": "code",
   "execution_count": 29,
   "outputs": [
    {
     "name": "stdout",
     "output_type": "stream",
     "text": [
      "n=14445\n",
      "Next to play: WHITE\n",
      "Value from WHITE's point of view: -0.4938125253615174\n",
      "Next to play: WHITE\n",
      "Value from WHITE's point of view: -0.42351463437080383\n"
     ]
    },
    {
     "data": {
      "text/plain": "<Figure size 576x576 with 1 Axes>",
      "image/png": "[encoded data removed]"
     },
     "metadata": {
      "needs_background": "light"
     },
     "output_type": "display_data"
    },
    {
     "data": {
      "text/plain": "<Figure size 576x576 with 1 Axes>",
      "image/png": "[encoded data removed]"
     },
     "metadata": {
      "needs_background": "light"
     },
     "output_type": "display_data"
    }
   ],
   "source": [
    "from aegomoku.utils import analyse_example\n",
    "\n",
    "n = random.randint(N, len(examples))\n",
    "sample = np.expand_dims(examples[n][0], axis=0).astype(float)\n",
    "\n",
    "p_, v_ = model(sample)\n",
    "s, p, v = examples[n]\n",
    "example = (s, list(p_.numpy()), np.squeeze(v_))\n",
    "print(f\"n={n}\")\n",
    "analyse_example(BOARD_SIZE, examples[n])\n",
    "analyse_example(BOARD_SIZE, example)"
   ],
   "metadata": {
    "collapsed": false,
    "pycharm": {
     "name": "#%%\n"
    }
   }
  },
  {
   "cell_type": "code",
   "execution_count": null,
   "outputs": [],
   "source": [],
   "metadata": {
    "collapsed": false,
    "pycharm": {
     "name": "#%%\n"
    }
   }
  }
 ],
 "metadata": {
  "kernelspec": {
   "display_name": "Python 3",
   "language": "python",
   "name": "python3"
  },
  "language_info": {
   "codemirror_mode": {
    "name": "ipython",
    "version": 2
   },
   "file_extension": ".py",
   "mimetype": "text/x-python",
   "name": "python",
   "nbconvert_exporter": "python",
   "pygments_lexer": "ipython2",
   "version": "2.7.6"
  }
 },
 "nbformat": 4,
 "nbformat_minor": 0
}