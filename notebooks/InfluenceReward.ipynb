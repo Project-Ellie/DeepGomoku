{
 "cells": [
  {
   "cell_type": "markdown",
   "source": [
    "\n",
    "# Influence-Based Rewards\n",
    "\n",
    "The only actually meaningful reward of a board game comes (if at all) with the last and winning move. That makes learning almost impossible. Ideally, we would use a function $R(s, a)$ that rewards the immediate impact of every single move. Here, we devise a reasonable canditate for such a function. Note, however, that our soft reward function must olways be secondary to the true reward function that only rewards the line of five and nothing else."
   ],
   "metadata": {
    "collapsed": false,
    "pycharm": {
     "name": "#%% md\n"
    }
   }
  },
  {
   "cell_type": "code",
   "execution_count": 1,
   "outputs": [],
   "source": [
    "import numpy as np\n",
    "import tensorflow as tf\n",
    "from domoku.board import GomokuBoard\n",
    "from domoku.data import create_binary_action, create_binary_rep\n",
    "from domoku.rewards import InfluenceReward\n",
    "from domoku.constants import *"
   ],
   "metadata": {
    "collapsed": false,
    "pycharm": {
     "name": "#%%\n"
    }
   }
  },
  {
   "cell_type": "code",
   "execution_count": 2,
   "outputs": [],
   "source": [
    "def print_bin(binary_sample):\n",
    "    print(f'shape: {binary_sample.shape}')\n",
    "    print(np.rollaxis(binary_sample, 2, 0)[0] + 2 * np.rollaxis(binary_sample, 2, 0)[1])"
   ],
   "metadata": {
    "collapsed": false,
    "pycharm": {
     "name": "#%%\n"
    }
   }
  },
  {
   "cell_type": "code",
   "execution_count": 3,
   "outputs": [
    {
     "data": {
      "text/plain": "<Figure size 288x288 with 1 Axes>",
      "image/png": "[encoded data removed]"
     },
     "metadata": {
      "needs_background": "light"
     },
     "output_type": "display_data"
    }
   ],
   "source": [
    "board = GomokuBoard(n=6, disp_width=4)\n",
    "board.set(B, 1).set(C, 3).set(C, 2).set(E, 3).set(E, 4).set(F, 2).set(F, 5).set(D, 3).display('current')"
   ],
   "metadata": {
    "collapsed": false,
    "pycharm": {
     "name": "#%%\n"
    }
   }
  },
  {
   "cell_type": "markdown",
   "source": [
    "---\n",
    "\n",
    "### Representing the board and the moves\n",
    "\n",
    "Unless explicitly switched, the board is always represented from the point of view of the current player, which is the next one to move.\n",
    "Every board consists of two layers (channels in the context of CNNs) the first of which represents the stones of the current player\n",
    "The printer function uses the integer 2 for a stone on the second layer. You see: Black is the one to move next, hence black is 1 and white is represented by 2."
   ],
   "metadata": {
    "collapsed": false,
    "pycharm": {
     "name": "#%% md\n"
    }
   }
  },
  {
   "cell_type": "code",
   "execution_count": 4,
   "outputs": [
    {
     "name": "stdout",
     "output_type": "stream",
     "text": [
      "shape: (6, 6, 2)\n",
      "[[0. 0. 0. 0. 0. 0.]\n",
      " [0. 0. 0. 0. 0. 1.]\n",
      " [0. 0. 0. 0. 1. 0.]\n",
      " [0. 0. 2. 2. 2. 0.]\n",
      " [0. 0. 1. 0. 0. 2.]\n",
      " [0. 1. 0. 0. 0. 0.]]\n"
     ]
    }
   ],
   "source": [
    "np_sample = create_binary_rep(board)\n",
    "print_bin(np_sample)"
   ],
   "metadata": {
    "collapsed": false,
    "pycharm": {
     "name": "#%%\n"
    }
   }
  },
  {
   "cell_type": "markdown",
   "source": [
    "---\n",
    "\n",
    "### Padding and boarders\n",
    "\n",
    "To support consistent workings of a CNN we pad the board representation such that the output of the first CNN layer recreates the original board size. The additional fields right next to the original board are populated with defensive stones (stones on the 'other' layer). All analyses will always consider the offensive power of the current player, hence those boarder stones will never be detected as threats but only as obstructions to the current player's stones."
   ],
   "metadata": {
    "collapsed": false,
    "pycharm": {
     "name": "#%% md\n"
    }
   }
  },
  {
   "cell_type": "code",
   "execution_count": 5,
   "outputs": [
    {
     "name": "stdout",
     "output_type": "stream",
     "text": [
      "shape: (14, 14, 2)\n",
      "[[0. 0. 0. 0. 0. 0. 0. 0. 0. 0. 0. 0. 0. 0.]\n",
      " [0. 0. 0. 0. 0. 0. 0. 0. 0. 0. 0. 0. 0. 0.]\n",
      " [0. 0. 0. 0. 0. 0. 0. 0. 0. 0. 0. 0. 0. 0.]\n",
      " [0. 0. 0. 2. 2. 2. 2. 2. 2. 2. 2. 0. 0. 0.]\n",
      " [0. 0. 0. 2. 0. 0. 0. 0. 0. 0. 2. 0. 0. 0.]\n",
      " [0. 0. 0. 2. 0. 0. 0. 0. 0. 1. 2. 0. 0. 0.]\n",
      " [0. 0. 0. 2. 0. 0. 0. 0. 1. 0. 2. 0. 0. 0.]\n",
      " [0. 0. 0. 2. 0. 0. 2. 2. 2. 0. 2. 0. 0. 0.]\n",
      " [0. 0. 0. 2. 0. 0. 1. 0. 0. 2. 2. 0. 0. 0.]\n",
      " [0. 0. 0. 2. 0. 1. 0. 0. 0. 0. 2. 0. 0. 0.]\n",
      " [0. 0. 0. 2. 2. 2. 2. 2. 2. 2. 2. 0. 0. 0.]\n",
      " [0. 0. 0. 0. 0. 0. 0. 0. 0. 0. 0. 0. 0. 0.]\n",
      " [0. 0. 0. 0. 0. 0. 0. 0. 0. 0. 0. 0. 0. 0.]\n",
      " [0. 0. 0. 0. 0. 0. 0. 0. 0. 0. 0. 0. 0. 0.]]\n"
     ]
    }
   ],
   "source": [
    "np_sample = create_binary_rep(board, padding=4, border=True)\n",
    "print_bin(np_sample)"
   ],
   "metadata": {
    "collapsed": false,
    "pycharm": {
     "name": "#%%\n"
    }
   }
  },
  {
   "cell_type": "code",
   "execution_count": 6,
   "outputs": [
    {
     "name": "stdout",
     "output_type": "stream",
     "text": [
      "shape: (14, 14, 2)\n",
      "[[0. 0. 0. 0. 0. 0. 0. 0. 0. 0. 0. 0. 0. 0.]\n",
      " [0. 0. 0. 0. 0. 0. 0. 0. 0. 0. 0. 0. 0. 0.]\n",
      " [0. 0. 0. 0. 0. 0. 0. 0. 0. 0. 0. 0. 0. 0.]\n",
      " [0. 0. 0. 2. 2. 2. 2. 2. 2. 2. 2. 0. 0. 0.]\n",
      " [0. 0. 0. 2. 0. 0. 0. 0. 0. 0. 2. 0. 0. 0.]\n",
      " [0. 0. 0. 2. 0. 0. 0. 0. 0. 1. 2. 0. 0. 0.]\n",
      " [0. 0. 0. 2. 0. 0. 0. 0. 1. 0. 2. 0. 0. 0.]\n",
      " [0. 0. 0. 2. 0. 1. 2. 2. 2. 0. 2. 0. 0. 0.]\n",
      " [0. 0. 0. 2. 0. 0. 1. 0. 0. 2. 2. 0. 0. 0.]\n",
      " [0. 0. 0. 2. 0. 1. 0. 0. 0. 0. 2. 0. 0. 0.]\n",
      " [0. 0. 0. 2. 2. 2. 2. 2. 2. 2. 2. 0. 0. 0.]\n",
      " [0. 0. 0. 0. 0. 0. 0. 0. 0. 0. 0. 0. 0. 0.]\n",
      " [0. 0. 0. 0. 0. 0. 0. 0. 0. 0. 0. 0. 0. 0.]\n",
      " [0. 0. 0. 0. 0. 0. 0. 0. 0. 0. 0. 0. 0. 0.]]\n"
     ]
    }
   ],
   "source": [
    "action = create_binary_action(6, 4, (B, 3))\n",
    "print_bin(action + np_sample)"
   ],
   "metadata": {
    "collapsed": false,
    "pycharm": {
     "name": "#%%\n"
    }
   }
  },
  {
   "cell_type": "markdown",
   "source": [
    "---\n",
    "\n",
    "### Switching the board\n",
    "\n",
    "We can look at any board from the 'other' player's point of view to judge the need for a defensive play. Note that the border representation is still on the second plane."
   ],
   "metadata": {
    "collapsed": false,
    "pycharm": {
     "name": "#%% md\n"
    }
   }
  },
  {
   "cell_type": "code",
   "execution_count": 7,
   "outputs": [
    {
     "name": "stdout",
     "output_type": "stream",
     "text": [
      "shape: (14, 14, 2)\n",
      "[[0. 0. 0. 0. 0. 0. 0. 0. 0. 0. 0. 0. 0. 0.]\n",
      " [0. 0. 0. 0. 0. 0. 0. 0. 0. 0. 0. 0. 0. 0.]\n",
      " [0. 0. 0. 0. 0. 0. 0. 0. 0. 0. 0. 0. 0. 0.]\n",
      " [0. 0. 0. 2. 2. 2. 2. 2. 2. 2. 2. 0. 0. 0.]\n",
      " [0. 0. 0. 2. 0. 0. 0. 0. 0. 0. 2. 0. 0. 0.]\n",
      " [0. 0. 0. 2. 0. 0. 0. 0. 0. 2. 2. 0. 0. 0.]\n",
      " [0. 0. 0. 2. 0. 0. 0. 0. 2. 0. 2. 0. 0. 0.]\n",
      " [0. 0. 0. 2. 0. 0. 1. 1. 1. 0. 2. 0. 0. 0.]\n",
      " [0. 0. 0. 2. 0. 0. 2. 0. 0. 1. 2. 0. 0. 0.]\n",
      " [0. 0. 0. 2. 0. 2. 0. 0. 0. 0. 2. 0. 0. 0.]\n",
      " [0. 0. 0. 2. 2. 2. 2. 2. 2. 2. 2. 0. 0. 0.]\n",
      " [0. 0. 0. 0. 0. 0. 0. 0. 0. 0. 0. 0. 0. 0.]\n",
      " [0. 0. 0. 0. 0. 0. 0. 0. 0. 0. 0. 0. 0. 0.]\n",
      " [0. 0. 0. 0. 0. 0. 0. 0. 0. 0. 0. 0. 0. 0.]]\n"
     ]
    }
   ],
   "source": [
    "np_sample_switched = create_binary_rep(board, padding=4, border=True, switch=True)\n",
    "print_bin(np_sample_switched)"
   ],
   "metadata": {
    "collapsed": false,
    "pycharm": {
     "name": "#%%\n"
    }
   }
  },
  {
   "cell_type": "code",
   "execution_count": 8,
   "outputs": [
    {
     "name": "stdout",
     "output_type": "stream",
     "text": [
      "shape: (14, 14, 2)\n",
      "[[0. 0. 0. 0. 0. 0. 0. 0. 0. 0. 0. 0. 0. 0.]\n",
      " [0. 0. 0. 0. 0. 0. 0. 0. 0. 0. 0. 0. 0. 0.]\n",
      " [0. 0. 0. 0. 0. 0. 0. 0. 0. 0. 0. 0. 0. 0.]\n",
      " [0. 0. 0. 2. 2. 2. 2. 2. 2. 2. 2. 0. 0. 0.]\n",
      " [0. 0. 0. 2. 0. 0. 0. 0. 0. 0. 2. 0. 0. 0.]\n",
      " [0. 0. 0. 2. 0. 0. 0. 0. 0. 2. 2. 0. 0. 0.]\n",
      " [0. 0. 0. 2. 0. 0. 0. 0. 2. 0. 2. 0. 0. 0.]\n",
      " [0. 0. 0. 2. 0. 2. 1. 1. 1. 0. 2. 0. 0. 0.]\n",
      " [0. 0. 0. 2. 0. 0. 2. 0. 0. 1. 2. 0. 0. 0.]\n",
      " [0. 0. 0. 2. 0. 2. 0. 0. 0. 0. 2. 0. 0. 0.]\n",
      " [0. 0. 0. 2. 2. 2. 2. 2. 2. 2. 2. 0. 0. 0.]\n",
      " [0. 0. 0. 0. 0. 0. 0. 0. 0. 0. 0. 0. 0. 0.]\n",
      " [0. 0. 0. 0. 0. 0. 0. 0. 0. 0. 0. 0. 0. 0.]\n",
      " [0. 0. 0. 0. 0. 0. 0. 0. 0. 0. 0. 0. 0. 0.]]\n"
     ]
    }
   ],
   "source": [
    "action_switched = create_binary_action(6, 4, (B, 3), switch=True)\n",
    "print_bin(action_switched + np_sample_switched)"
   ],
   "metadata": {
    "collapsed": false,
    "pycharm": {
     "name": "#%%\n"
    }
   }
  },
  {
   "cell_type": "markdown",
   "source": [
    "---\n",
    "\n",
    "### Rewarding gains of influence\n",
    "\n",
    "Any stone (including border stones) is modelled to influence empty fields that are close enough on the same diagonal, vertical or horizontal line as the stone itself. A stones influence has a natural range of 4.\n",
    "\n",
    "This influence function can be efficiently computed with the help of a CNN with radial filters for each of the 4 directions\n",
    "\n",
    "The total influence of all neighboring stones on a particular field $(i, j)$ is computed as the geometric sum of the four directional influences:\n",
    "$$\n",
    "I(s, i, j) = (\\sum_{d \\in \\mathbb{D}} I_d(s, i, j)^{\\tau})^{\\frac{1}{\\tau}\n",
    "$$\n",
    "\n",
    "Here, $\\tau = 2$ would mean, we use the classical cartesian sum, but other values for $\\tau$ may turn out to be more appropriate"
   ],
   "metadata": {
    "collapsed": false,
    "pycharm": {
     "name": "#%% md\n"
    }
   }
  },
  {
   "cell_type": "code",
   "execution_count": 9,
   "outputs": [],
   "source": [
    "board_size = 15"
   ],
   "metadata": {
    "collapsed": false,
    "pycharm": {
     "name": "#%%\n"
    }
   }
  },
  {
   "cell_type": "code",
   "execution_count": 10,
   "outputs": [
    {
     "name": "stderr",
     "output_type": "stream",
     "text": [
      "2022-04-30 11:35:11.763209: I tensorflow/core/platform/cpu_feature_guard.cc:151] This TensorFlow binary is optimized with oneAPI Deep Neural Network Library (oneDNN) to use the following CPU instructions in performance-critical operations:  AVX2 FMA\n",
      "To enable them in other operations, rebuild TensorFlow with the appropriate compiler flags.\n"
     ]
    }
   ],
   "source": [
    "reward = InfluenceReward(board_size=board_size, current_influence=[1, 2, 4, 8])"
   ],
   "metadata": {
    "collapsed": false,
    "pycharm": {
     "name": "#%%\n"
    }
   }
  },
  {
   "cell_type": "code",
   "execution_count": 11,
   "outputs": [
    {
     "data": {
      "text/plain": "<Figure size 432x432 with 1 Axes>",
      "image/png": "[encoded data removed]"
     },
     "metadata": {
      "needs_background": "light"
     },
     "output_type": "display_data"
    }
   ],
   "source": [
    "board = GomokuBoard(n=board_size, disp_width=6).set(G, 8).set(B, 14)\n",
    "board.display()"
   ],
   "metadata": {
    "collapsed": false,
    "pycharm": {
     "name": "#%%\n"
    }
   }
  },
  {
   "cell_type": "code",
   "execution_count": 12,
   "outputs": [],
   "source": [
    "np_sample = create_binary_rep(board, padding=4, border=True)\n",
    "action = create_binary_action(board_size, 4, (F, 6))"
   ],
   "metadata": {
    "collapsed": false,
    "pycharm": {
     "name": "#%%\n"
    }
   }
  },
  {
   "cell_type": "markdown",
   "source": [
    "### Visualizing the influence\n",
    "\n",
    "We visualize the influence of the black stones after the intended action (F, 6)"
   ],
   "metadata": {
    "collapsed": false,
    "pycharm": {
     "name": "#%% md\n"
    }
   }
  },
  {
   "cell_type": "code",
   "execution_count": 13,
   "outputs": [
    {
     "data": {
      "text/plain": "<tf.Tensor: shape=(15, 15), dtype=float32, numpy=\narray([[0., 0., 0., 0., 0., 0., 0., 0., 0., 0., 0., 0., 0., 0., 0.],\n       [0., 0., 0., 0., 0., 0., 0., 0., 0., 0., 0., 0., 0., 0., 0.],\n       [0., 0., 0., 0., 0., 0., 0., 0., 0., 0., 0., 0., 0., 0., 0.],\n       [0., 0., 0., 0., 0., 0., 0., 0., 0., 0., 0., 0., 0., 0., 0.],\n       [0., 0., 0., 0., 0., 0., 1., 0., 0., 1., 0., 0., 0., 0., 0.],\n       [0., 0., 0., 0., 3., 0., 3., 0., 3., 0., 0., 0., 0., 0., 0.],\n       [0., 0., 0., 0., 0., 7., 7., 7., 1., 0., 0., 0., 0., 0., 0.],\n       [0., 0., 0., 2., 3., 7., 0., 7., 3., 1., 0., 0., 0., 0., 0.],\n       [0., 0., 0., 0., 7., 9., 9., 7., 0., 0., 0., 0., 0., 0., 0.],\n       [0., 0., 0., 2., 7., 0., 7., 3., 3., 0., 0., 0., 0., 0., 0.],\n       [0., 0., 0., 0., 7., 7., 7., 0., 0., 1., 0., 0., 0., 0., 0.],\n       [0., 0., 0., 2., 0., 2., 0., 2., 0., 0., 0., 0., 0., 0., 0.],\n       [0., 0., 0., 0., 0., 0., 0., 0., 0., 0., 0., 0., 0., 0., 0.],\n       [0., 0., 0., 0., 0., 0., 0., 0., 0., 0., 0., 0., 0., 0., 0.],\n       [0., 0., 0., 0., 0., 0., 0., 0., 0., 0., 0., 0., 0., 0., 0.]],\n      dtype=float32)>"
     },
     "execution_count": 13,
     "metadata": {},
     "output_type": "execute_result"
    }
   ],
   "source": [
    "reward.influence_of(np_sample, action)"
   ],
   "metadata": {
    "collapsed": false,
    "pycharm": {
     "name": "#%%\n"
    }
   }
  },
  {
   "cell_type": "markdown",
   "source": [
    "### Understanding *Influence* and Reward\n",
    "\n",
    "You can see from the array above that the fields right between the two black stones are slightly higher valued (due to the cartesian sum) than the other fields directly surrounding the black stones. We can also recognize the defensiv power of the left and lower boarder, as they reduce the influence of the black stones.\n",
    "\n",
    "Now, the reward is defined from here on as the gain of influence of the current player minus the gain of influence of the other player.\n",
    "The gain of influence is the difference of influence between the states after and before the intended action."
   ],
   "metadata": {
    "collapsed": false,
    "pycharm": {
     "name": "#%% md\n"
    }
   }
  },
  {
   "cell_type": "code",
   "execution_count": null,
   "outputs": [],
   "source": [],
   "metadata": {
    "collapsed": false,
    "pycharm": {
     "name": "#%%\n"
    }
   }
  },
  {
   "cell_type": "code",
   "execution_count": 29,
   "outputs": [],
   "source": [
    "class RewardContext:\n",
    "    \"\"\"\n",
    "    Just a tool to examine the usefulness of reward models\n",
    "    \"\"\"\n",
    "\n",
    "    def __init__(self, the_board, reward_model, offensiveness = 0.5):\n",
    "        self.board = the_board\n",
    "        self.model = reward_model\n",
    "        self.offensiveness = offensiveness\n",
    "\n",
    "    def reward (self, move):\n",
    "        # current player's point of view\n",
    "        state = create_binary_rep(self.board, padding=4, border=True)\n",
    "        action = create_binary_action(self.board.N, 4, move)\n",
    "        offensive_reward = self.model(state, action)\n",
    "\n",
    "        # adversary's point of view\n",
    "        state_adv = create_binary_rep(self.board, padding=4, border=True, switch=True)\n",
    "        action_adv = create_binary_action(self.board.N, 4, move, switch=True)\n",
    "        defensive_reward = self.model(state_adv, action_adv)\n",
    "\n",
    "        o = self.offensiveness\n",
    "        return (o * offensive_reward - (1-o) * defensive_reward).numpy()\n"
   ],
   "metadata": {
    "collapsed": false,
    "pycharm": {
     "name": "#%%\n"
    }
   }
  },
  {
   "cell_type": "code",
   "execution_count": 30,
   "outputs": [
    {
     "data": {
      "text/plain": "<Figure size 288x288 with 1 Axes>",
      "image/png": "[encoded data removed]"
     },
     "metadata": {
      "needs_background": "light"
     },
     "output_type": "display_data"
    }
   ],
   "source": [
    "board = GomokuBoard(n=6, disp_width=4)\n",
    "board.set(B, 1).set(C, 3).set(C, 2).set(E, 3).set(E, 4).set(F, 2).set(F, 5).set(D, 3).display('current')"
   ],
   "metadata": {
    "collapsed": false,
    "pycharm": {
     "name": "#%%\n"
    }
   }
  },
  {
   "cell_type": "code",
   "execution_count": 31,
   "outputs": [],
   "source": [
    "reward = InfluenceReward(board_size=board.N, current_influence=[1, 2, 4, 8])\n",
    "context = RewardContext(board, reward)"
   ],
   "metadata": {
    "collapsed": false,
    "pycharm": {
     "name": "#%%\n"
    }
   }
  },
  {
   "cell_type": "code",
   "execution_count": 33,
   "outputs": [
    {
     "name": "stdout",
     "output_type": "stream",
     "text": [
      "16.201187\n",
      "17.42736\n",
      "14.173133\n",
      "12.789899\n",
      "12.696096\n",
      "5.613287\n",
      "5.8188343\n",
      "8.780033\n"
     ]
    }
   ],
   "source": [
    "for move in [(B, 3), (B, 4), (C, 4), (D, 4), (D, 5), (E, 5), (D, 2), (E, 2)]:\n",
    "    print(context.reward(move))"
   ],
   "metadata": {
    "collapsed": false,
    "pycharm": {
     "name": "#%%\n"
    }
   }
  },
  {
   "cell_type": "markdown",
   "source": [],
   "metadata": {
    "collapsed": false,
    "pycharm": {
     "name": "#%% md\n"
    }
   }
  },
  {
   "cell_type": "code",
   "execution_count": 36,
   "outputs": [
    {
     "data": {
      "text/plain": "<tf.Tensor: shape=(6, 6), dtype=float32, numpy=\narray([[0., 0., 0., 0., 0., 0.],\n       [0., 5., 2., 2., 4., 0.],\n       [1., 0., 9., 9., 0., 1.],\n       [0., 9., 0., 0., 0., 0.],\n       [0., 9., 0., 1., 0., 0.],\n       [0., 0., 5., 1., 0., 0.]], dtype=float32)>"
     },
     "execution_count": 36,
     "metadata": {},
     "output_type": "execute_result"
    }
   ],
   "source": [
    "np_sample = create_binary_rep(board, padding=4, border=True)\n",
    "action = create_binary_action(board.N, 4, (B, 4))\n",
    "reward.influence_of(np_sample, action)"
   ],
   "metadata": {
    "collapsed": false,
    "pycharm": {
     "name": "#%%\n"
    }
   }
  },
  {
   "cell_type": "code",
   "execution_count": null,
   "outputs": [],
   "source": [],
   "metadata": {
    "collapsed": false,
    "pycharm": {
     "name": "#%%\n"
    }
   }
  }
 ],
 "metadata": {
  "kernelspec": {
   "display_name": "Python 3",
   "language": "python",
   "name": "python3"
  },
  "language_info": {
   "codemirror_mode": {
    "name": "ipython",
    "version": 2
   },
   "file_extension": ".py",
   "mimetype": "text/x-python",
   "name": "python",
   "nbconvert_exporter": "python",
   "pygments_lexer": "ipython2",
   "version": "2.7.6"
  }
 },
 "nbformat": 4,
 "nbformat_minor": 0
}