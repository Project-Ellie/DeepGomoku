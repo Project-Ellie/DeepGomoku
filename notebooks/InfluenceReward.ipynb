{
 "cells": [
  {
   "cell_type": "markdown",
   "source": [
    "\n",
    "# Influence-Based Rewards\n",
    "\n",
    "The only actually meaningful reward of a board game comes (if at all) with the last and winning move. That makes learning almost impossible. Ideally, we would use a function $R(s, a)$ that rewards the immediate impact of every single move. Here, we devise a reasonable canditate for such a function. Note, however, that our soft reward function must olways be secondary to the true reward function that only rewards the line of five and nothing else."
   ],
   "metadata": {
    "collapsed": false,
    "pycharm": {
     "name": "#%% md\n"
    }
   }
  },
  {
   "cell_type": "code",
   "execution_count": 1,
   "outputs": [],
   "source": [
    "import numpy as np\n",
    "from domoku.board import GomokuBoard\n",
    "from domoku.data import create_binary_action, create_binary_rep\n",
    "from domoku.rewards import InfluenceReward, RewardContext\n",
    "from domoku.constants import *\n",
    "\n",
    "def print_bin(binary_sample):\n",
    "    print(f'shape: {binary_sample.shape}')\n",
    "    print(np.rollaxis(binary_sample, 2, 0)[0] + 2 * np.rollaxis(binary_sample, 2, 0)[1])"
   ],
   "metadata": {
    "collapsed": false,
    "pycharm": {
     "name": "#%%\n"
    }
   }
  },
  {
   "cell_type": "code",
   "execution_count": 2,
   "outputs": [
    {
     "data": {
      "text/plain": "<Figure size 288x288 with 1 Axes>",
      "image/png": "[encoded data removed]"
     },
     "metadata": {
      "needs_background": "light"
     },
     "output_type": "display_data"
    }
   ],
   "source": [
    "board = GomokuBoard(n=6, disp_width=4)\n",
    "board.set(B, 1).set(C, 3).set(C, 2).set(E, 3).set(E, 4).set(F, 2).set(F, 5).set(D, 3).display()"
   ],
   "metadata": {
    "collapsed": false,
    "pycharm": {
     "name": "#%%\n"
    }
   }
  },
  {
   "cell_type": "markdown",
   "source": [
    "---\n",
    "\n",
    "### Representing the board and the moves\n",
    "\n",
    "Unless explicitly switched, the board is always represented from the point of view of the current player, which is the next one to move.\n",
    "Every board consists of two layers (channels in the context of CNNs) the first of which represents the stones of the current player\n",
    "The printer function uses the integer 2 for a stone on the second layer. You see: Black is the one to move next, hence black is 1 and white is represented by 2."
   ],
   "metadata": {
    "collapsed": false,
    "pycharm": {
     "name": "#%% md\n"
    }
   }
  },
  {
   "cell_type": "code",
   "execution_count": 3,
   "outputs": [
    {
     "name": "stdout",
     "output_type": "stream",
     "text": [
      "shape: (6, 6, 2)\n",
      "[[0. 0. 0. 0. 0. 0.]\n",
      " [0. 0. 0. 0. 0. 1.]\n",
      " [0. 0. 0. 0. 1. 0.]\n",
      " [0. 0. 2. 2. 2. 0.]\n",
      " [0. 0. 1. 0. 0. 2.]\n",
      " [0. 1. 0. 0. 0. 0.]]\n"
     ]
    }
   ],
   "source": [
    "np_sample = create_binary_rep(board)\n",
    "print_bin(np_sample)"
   ],
   "metadata": {
    "collapsed": false,
    "pycharm": {
     "name": "#%%\n"
    }
   }
  },
  {
   "cell_type": "markdown",
   "source": [
    "---\n",
    "\n",
    "### Padding and boarders\n",
    "\n",
    "To support consistent workings of a CNN we pad the board representation such that the output of the first CNN layer recreates the original board size. The additional fields right next to the original board are populated with defensive stones (stones on the 'other' layer). All analyses will always consider the offensive power of the current player, hence those boarder stones will never be detected as threats but only as obstructions to the current player's stones."
   ],
   "metadata": {
    "collapsed": false,
    "pycharm": {
     "name": "#%% md\n"
    }
   }
  },
  {
   "cell_type": "code",
   "execution_count": 4,
   "outputs": [
    {
     "name": "stdout",
     "output_type": "stream",
     "text": [
      "shape: (14, 14, 2)\n",
      "[[0. 0. 0. 0. 0. 0. 0. 0. 0. 0. 0. 0. 0. 0.]\n",
      " [0. 0. 0. 0. 0. 0. 0. 0. 0. 0. 0. 0. 0. 0.]\n",
      " [0. 0. 0. 0. 0. 0. 0. 0. 0. 0. 0. 0. 0. 0.]\n",
      " [0. 0. 0. 2. 2. 2. 2. 2. 2. 2. 2. 0. 0. 0.]\n",
      " [0. 0. 0. 2. 0. 0. 0. 0. 0. 0. 2. 0. 0. 0.]\n",
      " [0. 0. 0. 2. 0. 0. 0. 0. 0. 1. 2. 0. 0. 0.]\n",
      " [0. 0. 0. 2. 0. 0. 0. 0. 1. 0. 2. 0. 0. 0.]\n",
      " [0. 0. 0. 2. 0. 0. 2. 2. 2. 0. 2. 0. 0. 0.]\n",
      " [0. 0. 0. 2. 0. 0. 1. 0. 0. 2. 2. 0. 0. 0.]\n",
      " [0. 0. 0. 2. 0. 1. 0. 0. 0. 0. 2. 0. 0. 0.]\n",
      " [0. 0. 0. 2. 2. 2. 2. 2. 2. 2. 2. 0. 0. 0.]\n",
      " [0. 0. 0. 0. 0. 0. 0. 0. 0. 0. 0. 0. 0. 0.]\n",
      " [0. 0. 0. 0. 0. 0. 0. 0. 0. 0. 0. 0. 0. 0.]\n",
      " [0. 0. 0. 0. 0. 0. 0. 0. 0. 0. 0. 0. 0. 0.]]\n"
     ]
    }
   ],
   "source": [
    "np_sample = create_binary_rep(board, padding=4, border=True)\n",
    "print_bin(np_sample)"
   ],
   "metadata": {
    "collapsed": false,
    "pycharm": {
     "name": "#%%\n"
    }
   }
  },
  {
   "cell_type": "code",
   "execution_count": 5,
   "outputs": [
    {
     "name": "stdout",
     "output_type": "stream",
     "text": [
      "shape: (14, 14, 2)\n",
      "[[0. 0. 0. 0. 0. 0. 0. 0. 0. 0. 0. 0. 0. 0.]\n",
      " [0. 0. 0. 0. 0. 0. 0. 0. 0. 0. 0. 0. 0. 0.]\n",
      " [0. 0. 0. 0. 0. 0. 0. 0. 0. 0. 0. 0. 0. 0.]\n",
      " [0. 0. 0. 2. 2. 2. 2. 2. 2. 2. 2. 0. 0. 0.]\n",
      " [0. 0. 0. 2. 0. 0. 0. 0. 0. 0. 2. 0. 0. 0.]\n",
      " [0. 0. 0. 2. 0. 0. 0. 0. 0. 1. 2. 0. 0. 0.]\n",
      " [0. 0. 0. 2. 0. 0. 0. 0. 1. 0. 2. 0. 0. 0.]\n",
      " [0. 0. 0. 2. 0. 1. 2. 2. 2. 0. 2. 0. 0. 0.]\n",
      " [0. 0. 0. 2. 0. 0. 1. 0. 0. 2. 2. 0. 0. 0.]\n",
      " [0. 0. 0. 2. 0. 1. 0. 0. 0. 0. 2. 0. 0. 0.]\n",
      " [0. 0. 0. 2. 2. 2. 2. 2. 2. 2. 2. 0. 0. 0.]\n",
      " [0. 0. 0. 0. 0. 0. 0. 0. 0. 0. 0. 0. 0. 0.]\n",
      " [0. 0. 0. 0. 0. 0. 0. 0. 0. 0. 0. 0. 0. 0.]\n",
      " [0. 0. 0. 0. 0. 0. 0. 0. 0. 0. 0. 0. 0. 0.]]\n"
     ]
    }
   ],
   "source": [
    "action = create_binary_action(6, 4, (B, 3))\n",
    "print_bin(action + np_sample)"
   ],
   "metadata": {
    "collapsed": false,
    "pycharm": {
     "name": "#%%\n"
    }
   }
  },
  {
   "cell_type": "markdown",
   "source": [
    "---\n",
    "\n",
    "### Switching the board\n",
    "\n",
    "We can look at any board from the 'other' player's point of view to judge the need for a defensive play. Note that the border representation is still on the second plane."
   ],
   "metadata": {
    "collapsed": false,
    "pycharm": {
     "name": "#%% md\n"
    }
   }
  },
  {
   "cell_type": "code",
   "execution_count": 6,
   "outputs": [
    {
     "name": "stdout",
     "output_type": "stream",
     "text": [
      "shape: (14, 14, 2)\n",
      "[[0. 0. 0. 0. 0. 0. 0. 0. 0. 0. 0. 0. 0. 0.]\n",
      " [0. 0. 0. 0. 0. 0. 0. 0. 0. 0. 0. 0. 0. 0.]\n",
      " [0. 0. 0. 0. 0. 0. 0. 0. 0. 0. 0. 0. 0. 0.]\n",
      " [0. 0. 0. 2. 2. 2. 2. 2. 2. 2. 2. 0. 0. 0.]\n",
      " [0. 0. 0. 2. 0. 0. 0. 0. 0. 0. 2. 0. 0. 0.]\n",
      " [0. 0. 0. 2. 0. 0. 0. 0. 0. 2. 2. 0. 0. 0.]\n",
      " [0. 0. 0. 2. 0. 0. 0. 0. 2. 0. 2. 0. 0. 0.]\n",
      " [0. 0. 0. 2. 0. 0. 1. 1. 1. 0. 2. 0. 0. 0.]\n",
      " [0. 0. 0. 2. 0. 0. 2. 0. 0. 1. 2. 0. 0. 0.]\n",
      " [0. 0. 0. 2. 0. 2. 0. 0. 0. 0. 2. 0. 0. 0.]\n",
      " [0. 0. 0. 2. 2. 2. 2. 2. 2. 2. 2. 0. 0. 0.]\n",
      " [0. 0. 0. 0. 0. 0. 0. 0. 0. 0. 0. 0. 0. 0.]\n",
      " [0. 0. 0. 0. 0. 0. 0. 0. 0. 0. 0. 0. 0. 0.]\n",
      " [0. 0. 0. 0. 0. 0. 0. 0. 0. 0. 0. 0. 0. 0.]]\n"
     ]
    }
   ],
   "source": [
    "np_sample_switched = create_binary_rep(board, padding=4, border=True, switch=True)\n",
    "print_bin(np_sample_switched)"
   ],
   "metadata": {
    "collapsed": false,
    "pycharm": {
     "name": "#%%\n"
    }
   }
  },
  {
   "cell_type": "code",
   "execution_count": 7,
   "outputs": [
    {
     "name": "stdout",
     "output_type": "stream",
     "text": [
      "shape: (14, 14, 2)\n",
      "[[0. 0. 0. 0. 0. 0. 0. 0. 0. 0. 0. 0. 0. 0.]\n",
      " [0. 0. 0. 0. 0. 0. 0. 0. 0. 0. 0. 0. 0. 0.]\n",
      " [0. 0. 0. 0. 0. 0. 0. 0. 0. 0. 0. 0. 0. 0.]\n",
      " [0. 0. 0. 2. 2. 2. 2. 2. 2. 2. 2. 0. 0. 0.]\n",
      " [0. 0. 0. 2. 0. 0. 0. 0. 0. 0. 2. 0. 0. 0.]\n",
      " [0. 0. 0. 2. 0. 0. 0. 0. 0. 2. 2. 0. 0. 0.]\n",
      " [0. 0. 0. 2. 0. 0. 0. 0. 2. 0. 2. 0. 0. 0.]\n",
      " [0. 0. 0. 2. 0. 2. 1. 1. 1. 0. 2. 0. 0. 0.]\n",
      " [0. 0. 0. 2. 0. 0. 2. 0. 0. 1. 2. 0. 0. 0.]\n",
      " [0. 0. 0. 2. 0. 2. 0. 0. 0. 0. 2. 0. 0. 0.]\n",
      " [0. 0. 0. 2. 2. 2. 2. 2. 2. 2. 2. 0. 0. 0.]\n",
      " [0. 0. 0. 0. 0. 0. 0. 0. 0. 0. 0. 0. 0. 0.]\n",
      " [0. 0. 0. 0. 0. 0. 0. 0. 0. 0. 0. 0. 0. 0.]\n",
      " [0. 0. 0. 0. 0. 0. 0. 0. 0. 0. 0. 0. 0. 0.]]\n"
     ]
    }
   ],
   "source": [
    "action_switched = create_binary_action(6, 4, (B, 3), switch=True)\n",
    "print_bin(action_switched + np_sample_switched)"
   ],
   "metadata": {
    "collapsed": false,
    "pycharm": {
     "name": "#%%\n"
    }
   }
  },
  {
   "cell_type": "markdown",
   "source": [
    "---\n",
    "\n",
    "### Rewarding gains of influence\n",
    "\n",
    "Any stone (including border stones) is modelled to influence empty fields that are close enough on the same diagonal, vertical or horizontal line as the stone itself. A stones influence has a natural range of 4.\n",
    "\n",
    "This influence function can be efficiently computed with the help of a CNN with radial filters for each of the 4 directions\n",
    "\n",
    "The total influence of all neighboring stones on a particular field $(i, j)$ is computed as the geometric sum of the four directional influences:\n",
    "$$\n",
    "I(s, i, j) = (\\sum_{d \\in \\mathbb{D}} I_d(s, i, j)^{\\tau})^{\\frac{1}{\\tau}\n",
    "$$\n",
    "\n",
    "Here, $\\tau = 2$ would mean, we use the classical cartesian sum, but other values for $\\tau$ may turn out to be more appropriate"
   ],
   "metadata": {
    "collapsed": false,
    "pycharm": {
     "name": "#%% md\n"
    }
   }
  },
  {
   "cell_type": "code",
   "execution_count": 8,
   "outputs": [],
   "source": [
    "board_size = 15"
   ],
   "metadata": {
    "collapsed": false,
    "pycharm": {
     "name": "#%%\n"
    }
   }
  },
  {
   "cell_type": "code",
   "execution_count": 9,
   "outputs": [
    {
     "name": "stderr",
     "output_type": "stream",
     "text": [
      "2022-05-01 11:45:05.658267: I tensorflow/core/platform/cpu_feature_guard.cc:151] This TensorFlow binary is optimized with oneAPI Deep Neural Network Library (oneDNN) to use the following CPU instructions in performance-critical operations:  AVX2 FMA\n",
      "To enable them in other operations, rebuild TensorFlow with the appropriate compiler flags.\n"
     ]
    }
   ],
   "source": [
    "reward = InfluenceReward(board_size=board_size, current_influence=[[1, 2, 4, 8], [1, 2, 4, 8]])"
   ],
   "metadata": {
    "collapsed": false,
    "pycharm": {
     "name": "#%%\n"
    }
   }
  },
  {
   "cell_type": "code",
   "execution_count": 10,
   "outputs": [
    {
     "data": {
      "text/plain": "<Figure size 432x432 with 1 Axes>",
      "image/png": "[encoded data removed]"
     },
     "metadata": {
      "needs_background": "light"
     },
     "output_type": "display_data"
    }
   ],
   "source": [
    "board = GomokuBoard(n=board_size, disp_width=6).set(G, 8).set(B, 14)\n",
    "board.display()"
   ],
   "metadata": {
    "collapsed": false,
    "pycharm": {
     "name": "#%%\n"
    }
   }
  },
  {
   "cell_type": "code",
   "execution_count": 11,
   "outputs": [],
   "source": [
    "np_sample = create_binary_rep(board, padding=4, border=True)\n",
    "action = create_binary_action(board_size, 4, (F, 6))"
   ],
   "metadata": {
    "collapsed": false,
    "pycharm": {
     "name": "#%%\n"
    }
   }
  },
  {
   "cell_type": "markdown",
   "source": [
    "### Visualizing the influence\n",
    "\n",
    "We visualize the influence of the black stones after the intended action (F, 6)"
   ],
   "metadata": {
    "collapsed": false,
    "pycharm": {
     "name": "#%% md\n"
    }
   }
  },
  {
   "cell_type": "code",
   "execution_count": 12,
   "outputs": [
    {
     "data": {
      "text/plain": "<tf.Tensor: shape=(15, 15), dtype=float32, numpy=\narray([[0., 0., 0., 0., 0., 0., 0., 0., 0., 0., 0., 0., 0., 0., 0.],\n       [0., 9., 0., 0., 0., 0., 0., 0., 0., 0., 0., 0., 0., 0., 0.],\n       [0., 0., 0., 0., 0., 0., 0., 0., 0., 0., 0., 0., 0., 0., 0.],\n       [0., 0., 0., 0., 0., 0., 0., 0., 0., 0., 0., 0., 0., 0., 0.],\n       [0., 0., 0., 0., 0., 0., 0., 0., 0., 0., 0., 0., 0., 0., 0.],\n       [0., 0., 0., 0., 0., 0., 0., 0., 0., 0., 0., 0., 0., 0., 0.],\n       [0., 0., 0., 0., 0., 0., 0., 0., 0., 0., 0., 0., 0., 0., 0.],\n       [0., 0., 0., 0., 0., 0., 0., 0., 0., 0., 0., 0., 0., 0., 0.],\n       [0., 0., 0., 0., 0., 0., 0., 0., 0., 0., 0., 0., 0., 0., 0.],\n       [0., 0., 0., 0., 0., 0., 0., 0., 0., 0., 0., 0., 0., 0., 0.],\n       [0., 0., 0., 0., 0., 0., 0., 0., 0., 0., 0., 0., 0., 0., 0.],\n       [0., 0., 0., 0., 0., 0., 0., 0., 0., 0., 0., 0., 0., 0., 0.],\n       [0., 0., 0., 0., 0., 0., 0., 0., 0., 0., 0., 0., 0., 0., 0.],\n       [0., 0., 0., 0., 0., 0., 0., 0., 0., 0., 0., 0., 0., 0., 0.],\n       [0., 0., 0., 0., 0., 0., 0., 0., 0., 0., 0., 0., 0., 0., 0.]],\n      dtype=float32)>"
     },
     "execution_count": 12,
     "metadata": {},
     "output_type": "execute_result"
    }
   ],
   "source": [
    "reward.influence_of(np_sample, action)"
   ],
   "metadata": {
    "collapsed": false,
    "pycharm": {
     "name": "#%%\n"
    }
   }
  },
  {
   "cell_type": "markdown",
   "source": [
    "### Understanding *Influence* and Reward\n",
    "\n",
    "You can see from the array above that the fields right between the two black stones are slightly higher valued (due to the cartesian sum) than the other fields directly surrounding the black stones. We can also recognize the defensiv power of the left and lower boarder, as they reduce the influence of the black stones.\n",
    "\n",
    "Now, the reward is defined from here on as the gain of influence of the current player minus the gain of influence of the other player.\n",
    "The gain of influence is the difference of influence between the states after and before the intended action."
   ],
   "metadata": {
    "collapsed": false,
    "pycharm": {
     "name": "#%% md\n"
    }
   }
  },
  {
   "cell_type": "code",
   "execution_count": 13,
   "outputs": [
    {
     "data": {
      "text/plain": "<Figure size 288x288 with 1 Axes>",
      "image/png": "[encoded data removed]"
     },
     "metadata": {
      "needs_background": "light"
     },
     "output_type": "display_data"
    }
   ],
   "source": [
    "board = GomokuBoard(n=6, disp_width=4)\n",
    "board.set(B, 1).set(C, 3).set(C, 2).set(E, 3).set(E, 4).set(F, 2).set(F, 5).set(D, 3).display('current')"
   ],
   "metadata": {
    "collapsed": false,
    "pycharm": {
     "name": "#%%\n"
    }
   }
  },
  {
   "cell_type": "code",
   "execution_count": 14,
   "outputs": [
    {
     "ename": "TypeError",
     "evalue": "object of type 'int' has no len()",
     "output_type": "error",
     "traceback": [
      "\u001B[0;31m---------------------------------------------------------------------------\u001B[0m",
      "\u001B[0;31mTypeError\u001B[0m                                 Traceback (most recent call last)",
      "Input \u001B[0;32mIn [14]\u001B[0m, in \u001B[0;36m<cell line: 2>\u001B[0;34m()\u001B[0m\n\u001B[1;32m      1\u001B[0m reward \u001B[38;5;241m=\u001B[39m InfluenceReward(board_size\u001B[38;5;241m=\u001B[39mboard\u001B[38;5;241m.\u001B[39mN, current_influence\u001B[38;5;241m=\u001B[39m[[\u001B[38;5;241m1\u001B[39m, \u001B[38;5;241m2\u001B[39m, \u001B[38;5;241m4\u001B[39m, \u001B[38;5;241m8\u001B[39m], [\u001B[38;5;241m1\u001B[39m, \u001B[38;5;241m2\u001B[39m, \u001B[38;5;241m4\u001B[39m, \u001B[38;5;241m8\u001B[39m]])\n\u001B[0;32m----> 2\u001B[0m context \u001B[38;5;241m=\u001B[39m \u001B[43mRewardContext\u001B[49m\u001B[43m(\u001B[49m\u001B[43mboard\u001B[49m\u001B[43m,\u001B[49m\u001B[43m \u001B[49m\u001B[43mreward\u001B[49m\u001B[43m)\u001B[49m\n",
      "File \u001B[0;32m~/workspace/Project-Ellie/DeepGomoku/domoku/rewards.py:160\u001B[0m, in \u001B[0;36mRewardContext.__init__\u001B[0;34m(self, the_board, reward_model, offensiveness)\u001B[0m\n\u001B[1;32m    158\u001B[0m \u001B[38;5;28mself\u001B[39m\u001B[38;5;241m.\u001B[39mboard \u001B[38;5;241m=\u001B[39m the_board\n\u001B[1;32m    159\u001B[0m \u001B[38;5;28mself\u001B[39m\u001B[38;5;241m.\u001B[39mmodel \u001B[38;5;241m=\u001B[39m reward_model\n\u001B[0;32m--> 160\u001B[0m \u001B[38;5;28mself\u001B[39m\u001B[38;5;241m.\u001B[39mselector \u001B[38;5;241m=\u001B[39m \u001B[43mInfluenceReward\u001B[49m\u001B[43m(\u001B[49m\u001B[43mboard_size\u001B[49m\u001B[38;5;241;43m=\u001B[39;49m\u001B[38;5;28;43mself\u001B[39;49m\u001B[38;5;241;43m.\u001B[39;49m\u001B[43mboard\u001B[49m\u001B[38;5;241;43m.\u001B[39;49m\u001B[43mN\u001B[49m\u001B[43m,\u001B[49m\u001B[43m \u001B[49m\u001B[43mtau\u001B[49m\u001B[38;5;241;43m=\u001B[39;49m\u001B[38;5;241;43m2\u001B[39;49m\u001B[43m,\u001B[49m\n\u001B[1;32m    161\u001B[0m \u001B[43m                                \u001B[49m\u001B[43mcurrent_influence\u001B[49m\u001B[38;5;241;43m=\u001B[39;49m\u001B[43m[\u001B[49m\u001B[38;5;241;43m1\u001B[39;49m\u001B[43m,\u001B[49m\u001B[43m \u001B[49m\u001B[38;5;241;43m2\u001B[39;49m\u001B[43m,\u001B[49m\u001B[43m \u001B[49m\u001B[38;5;241;43m4\u001B[39;49m\u001B[43m,\u001B[49m\u001B[43m \u001B[49m\u001B[38;5;241;43m8\u001B[39;49m\u001B[43m]\u001B[49m\u001B[43m,\u001B[49m\n\u001B[1;32m    162\u001B[0m \u001B[43m                                \u001B[49m\u001B[43mother_influence\u001B[49m\u001B[38;5;241;43m=\u001B[39;49m\u001B[43m[\u001B[49m\u001B[38;5;241;43m1\u001B[39;49m\u001B[43m,\u001B[49m\u001B[43m \u001B[49m\u001B[38;5;241;43m2\u001B[39;49m\u001B[43m,\u001B[49m\u001B[43m \u001B[49m\u001B[38;5;241;43m4\u001B[39;49m\u001B[43m,\u001B[49m\u001B[43m \u001B[49m\u001B[38;5;241;43m8\u001B[39;49m\u001B[43m]\u001B[49m\u001B[43m)\u001B[49m\n\u001B[1;32m    163\u001B[0m \u001B[38;5;28mself\u001B[39m\u001B[38;5;241m.\u001B[39moffensiveness \u001B[38;5;241m=\u001B[39m offensiveness\n\u001B[1;32m    164\u001B[0m \u001B[38;5;28mself\u001B[39m\u001B[38;5;241m.\u001B[39mcut_off_offensive \u001B[38;5;241m=\u001B[39m \u001B[38;5;241m1\u001B[39m\n",
      "File \u001B[0;32m~/workspace/Project-Ellie/DeepGomoku/domoku/rewards.py:36\u001B[0m, in \u001B[0;36mInfluenceReward.__init__\u001B[0;34m(self, board_size, current_influence, other_influence, tau, **kwargs)\u001B[0m\n\u001B[1;32m     33\u001B[0m \u001B[38;5;28mself\u001B[39m\u001B[38;5;241m.\u001B[39mtau \u001B[38;5;241m=\u001B[39m tau\n\u001B[1;32m     34\u001B[0m \u001B[38;5;28mself\u001B[39m\u001B[38;5;241m.\u001B[39mmax_reward \u001B[38;5;241m=\u001B[39m \u001B[38;5;241m10\u001B[39m\n\u001B[0;32m---> 36\u001B[0m \u001B[38;5;28;01massert\u001B[39;00m \u001B[38;5;28;43mlen\u001B[39;49m\u001B[43m(\u001B[49m\u001B[43mcurrent_influence\u001B[49m\u001B[43m[\u001B[49m\u001B[38;5;241;43m0\u001B[39;49m\u001B[43m]\u001B[49m\u001B[43m)\u001B[49m \u001B[38;5;241m==\u001B[39m \u001B[38;5;28mlen\u001B[39m(other_influence[\u001B[38;5;241m0\u001B[39m]) \u001B[38;5;241m==\u001B[39m \u001B[38;5;28mself\u001B[39m\u001B[38;5;241m.\u001B[39mrange_i, \\\n\u001B[1;32m     37\u001B[0m     \u001B[38;5;124mf\u001B[39m\u001B[38;5;124m\"\u001B[39m\u001B[38;5;124mInfluence rays must have length \u001B[39m\u001B[38;5;132;01m{\u001B[39;00m\u001B[38;5;28mself\u001B[39m\u001B[38;5;241m.\u001B[39mrange_i\u001B[38;5;132;01m}\u001B[39;00m\u001B[38;5;124m\"\u001B[39m\n\u001B[1;32m     39\u001B[0m \u001B[38;5;28mself\u001B[39m\u001B[38;5;241m.\u001B[39mfilters \u001B[38;5;241m=\u001B[39m \u001B[38;5;28mself\u001B[39m\u001B[38;5;241m.\u001B[39mcreate_influence_filters(current_influence, other_influence)\n\u001B[1;32m     41\u001B[0m kernel_init \u001B[38;5;241m=\u001B[39m tf\u001B[38;5;241m.\u001B[39mconstant_initializer(\u001B[38;5;28mself\u001B[39m\u001B[38;5;241m.\u001B[39mfilters)\n",
      "\u001B[0;31mTypeError\u001B[0m: object of type 'int' has no len()"
     ]
    }
   ],
   "source": [
    "reward = InfluenceReward(board_size=board.N, current_influence=[[1, 2, 4, 8], [1, 2, 4, 8]])\n",
    "context = RewardContext(board, reward)"
   ],
   "metadata": {
    "collapsed": false,
    "pycharm": {
     "name": "#%%\n"
    }
   }
  },
  {
   "cell_type": "code",
   "execution_count": 17,
   "outputs": [
    {
     "name": "stdout",
     "output_type": "stream",
     "text": [
      "159.0\n",
      "156.5\n",
      "123.5\n",
      "111.0\n",
      "122.0\n",
      "57.0\n",
      "50.5\n",
      "70.0\n"
     ]
    }
   ],
   "source": [
    "for move in [(B, 3), (B, 4), (C, 4), (D, 4), (D, 5), (E, 5), (D, 2), (E, 2)]:\n",
    "    print(context.reward(move))"
   ],
   "metadata": {
    "collapsed": false,
    "pycharm": {
     "name": "#%%\n"
    }
   }
  },
  {
   "cell_type": "code",
   "execution_count": 18,
   "outputs": [
    {
     "data": {
      "text/plain": "<tf.Tensor: shape=(6, 6), dtype=float32, numpy=\narray([[0., 0., 0., 0., 0., 0.],\n       [0., 2., 0., 0., 1., 0.],\n       [0., 0., 9., 9., 0., 0.],\n       [0., 9., 0., 0., 0., 0.],\n       [0., 8., 0., 0., 0., 0.],\n       [0., 0., 2., 0., 0., 0.]], dtype=float32)>"
     },
     "execution_count": 18,
     "metadata": {},
     "output_type": "execute_result"
    }
   ],
   "source": [
    "np_sample = create_binary_rep(board, padding=4, border=True)\n",
    "action = create_binary_action(board.N, 4, (B, 4))\n",
    "reward.influence_of(np_sample, action)"
   ],
   "metadata": {
    "collapsed": false,
    "pycharm": {
     "name": "#%%\n"
    }
   }
  },
  {
   "cell_type": "markdown",
   "source": [
    "### Fine-Tuning the reward parameters"
   ],
   "metadata": {
    "collapsed": false,
    "pycharm": {
     "name": "#%% md\n"
    }
   }
  },
  {
   "cell_type": "code",
   "execution_count": 19,
   "outputs": [
    {
     "name": "stdout",
     "output_type": "stream",
     "text": [
      "(9, 9, 2, 4)\n"
     ]
    },
    {
     "data": {
      "text/plain": "<Figure size 576x576 with 1 Axes>",
      "image/png": "[encoded data removed]"
     },
     "metadata": {
      "needs_background": "light"
     },
     "output_type": "display_data"
    }
   ],
   "source": [
    "board = GomokuBoard(n=11, disp_width=8)\n",
    "board.set(F, 6).set(A, 11).set(F, 7).set(A, 1).set(F, 5).set(K, 6).display()\n",
    "reward = InfluenceReward(board_size=board.N, current_influence=[.24, .28, .32, .35], other_influence=[0, .2, .4, 12],\n",
    "                         tau=8)\n",
    "context = RewardContext(board, reward)"
   ],
   "metadata": {
    "collapsed": false,
    "pycharm": {
     "name": "#%%\n"
    }
   }
  },
  {
   "cell_type": "code",
   "execution_count": 20,
   "outputs": [
    {
     "name": "stdout",
     "output_type": "stream",
     "text": [
      "1.7959429025650024\n",
      "0.0792434811592102\n",
      "0.12328101694583893\n",
      "0.0792434811592102\n"
     ]
    }
   ],
   "source": [
    "for move in [(F, 8), (E, 5), (E, 6), (E, 7)]:\n",
    "    print(context.reward(move))"
   ],
   "metadata": {
    "collapsed": false,
    "pycharm": {
     "name": "#%%\n"
    }
   }
  },
  {
   "cell_type": "code",
   "execution_count": 21,
   "outputs": [
    {
     "data": {
      "text/plain": "<Figure size 576x576 with 1 Axes>",
      "image/png": "[encoded data removed]"
     },
     "metadata": {
      "needs_background": "light"
     },
     "output_type": "display_data"
    }
   ],
   "source": [
    "board.set(F, 8).set(K, 11).display()"
   ],
   "metadata": {
    "collapsed": false,
    "pycharm": {
     "name": "#%%\n"
    }
   }
  },
  {
   "cell_type": "markdown",
   "source": [
    "## Overriding terminal reward\n",
    "\n",
    "We can see that actions (F, 4) and (F, 9) will each result in the terminal reward"
   ],
   "metadata": {
    "collapsed": false,
    "pycharm": {
     "name": "#%% md\n"
    }
   }
  },
  {
   "cell_type": "code",
   "execution_count": 22,
   "outputs": [
    {
     "name": "stdout",
     "output_type": "stream",
     "text": [
      "5.0\n",
      "0.07117299735546112\n",
      "0.12328101694583893\n",
      "0.10067347437143326\n",
      "5.0\n"
     ]
    }
   ],
   "source": [
    "for move in [(F, 4), (E, 5), (E, 6), (E, 7), (F, 9)]:\n",
    "    print(context.reward(move))"
   ],
   "metadata": {
    "collapsed": false,
    "pycharm": {
     "name": "#%%\n"
    }
   }
  },
  {
   "cell_type": "code",
   "execution_count": null,
   "outputs": [],
   "source": [],
   "metadata": {
    "collapsed": false,
    "pycharm": {
     "name": "#%%\n"
    }
   }
  }
 ],
 "metadata": {
  "kernelspec": {
   "display_name": "Python 3",
   "language": "python",
   "name": "python3"
  },
  "language_info": {
   "codemirror_mode": {
    "name": "ipython",
    "version": 2
   },
   "file_extension": ".py",
   "mimetype": "text/x-python",
   "name": "python",
   "nbconvert_exporter": "python",
   "pygments_lexer": "ipython2",
   "version": "2.7.6"
  }
 },
 "nbformat": 4,
 "nbformat_minor": 0
}