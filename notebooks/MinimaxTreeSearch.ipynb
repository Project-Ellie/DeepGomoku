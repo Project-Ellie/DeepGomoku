{
 "cells": [
  {
   "cell_type": "markdown",
   "source": [
    "# Minimax Tree Search with Policy/Value Functions"
   ],
   "metadata": {
    "collapsed": false,
    "pycharm": {
     "name": "#%% md\n"
    }
   }
  },
  {
   "cell_type": "code",
   "execution_count": 1,
   "outputs": [],
   "source": [
    "%load_ext autoreload\n",
    "%autoreload 2"
   ],
   "metadata": {
    "collapsed": false,
    "pycharm": {
     "name": "#%%\n"
    }
   }
  },
  {
   "cell_type": "code",
   "execution_count": 1,
   "outputs": [],
   "source": [
    "from domoku.interfaces import Game, AbstractGanglion\n",
    "from typing import List, Any, Optional\n",
    "import numpy as np\n",
    "from domoku.minimax import MinimaxSearch"
   ],
   "metadata": {
    "collapsed": false,
    "pycharm": {
     "name": "#%%\n"
    }
   }
  },
  {
   "cell_type": "markdown",
   "source": [
    "### Test Stuff"
   ],
   "metadata": {
    "collapsed": false,
    "pycharm": {
     "name": "#%% md\n"
    }
   }
  },
  {
   "cell_type": "code",
   "execution_count": 2,
   "outputs": [],
   "source": [
    "class TestState:\n",
    "    def is_terminal(self) -> bool:\n",
    "        return self._terminal\n",
    "\n",
    "    def get_successors(self):\n",
    "        return self._successors\n",
    "\n",
    "    def __init__(self, terminal: bool = False, successors=None, value=0):\n",
    "        self._terminal = terminal\n",
    "        self._successors = successors\n",
    "        self.value = value\n",
    "\n",
    "    def move(self, move: int) -> 'TestState':\n",
    "        assert move in range(len(self._successors)), \"Move can only be one of 0 or 1 or 2\"\n",
    "        return self._successors[move]\n",
    "\n",
    "    def __str__(self):\n",
    "        if self._terminal:\n",
    "            return str(self.value)\n",
    "        else:\n",
    "            return f\"{str(self._successors)}\"\n",
    "\n",
    "    __repr__ = __str__\n",
    "\n",
    "\n",
    "class Policy(AbstractGanglion):\n",
    "    \"\"\"\n",
    "    A trivial policy for testing\n",
    "    \"\"\"\n",
    "    def winner(self, state: Any) -> Optional[int]:\n",
    "        return 1 if state.is_terminal() else None\n",
    "\n",
    "    def sample(self, state, n=1) -> List[int]:\n",
    "        return list(range(len(state.get_successors())))\n",
    "\n",
    "    def eval(self, state):\n",
    "        return state.value\n",
    "\n",
    "\n",
    "class TestGame(Game):\n",
    "\n",
    "    def get_state(self: Any) -> Any:\n",
    "        raise NotImplementedError\n",
    "\n",
    "    def do_move(self, move: Any) -> Any:\n",
    "        raise NotImplementedError\n",
    "\n",
    "    @staticmethod\n",
    "    def successor(state: Any, move: Any):\n",
    "        return state.get_successors()[move]\n",
    "\n",
    "\n",
    "def create_state(depth, min_depth=0, num_successors=2):\n",
    "    if depth == 0 or (np.random.choice([False]*6+[True]) and min_depth > depth):\n",
    "        return TestState(terminal=True, value=np.random.choice([1, 2, 3, 4, 5, 6]))\n",
    "\n",
    "    successors = [create_state(depth - 1, min_depth, num_successors)\n",
    "                  for _ in range(num_successors)]\n",
    "\n",
    "    return TestState(False, successors)"
   ],
   "metadata": {
    "collapsed": false,
    "pycharm": {
     "name": "#%%\n"
    }
   }
  },
  {
   "cell_type": "code",
   "execution_count": 3,
   "outputs": [],
   "source": [
    "minimax = MinimaxSearch(TestGame(), policy=Policy(), max_depth=5, max_breadth=3)"
   ],
   "metadata": {
    "collapsed": false,
    "pycharm": {
     "name": "#%%\n"
    }
   }
  },
  {
   "cell_type": "code",
   "execution_count": 4,
   "outputs": [
    {
     "name": "stdout",
     "output_type": "stream",
     "text": [
      "All good!\n",
      "4 [1, 0, 0, 1]\n"
     ]
    }
   ],
   "source": [
    "state = create_state(4, 2, num_successors=3)\n",
    "\n",
    "#left = State(True, value=4)\n",
    "#state = State(False, left=left, right=State(False, left=State(True, value=6), right=State(True, value=2)))\n",
    "\n",
    "policy = Policy()\n",
    "search = MinimaxSearch(TestGame(), policy, 4, 3)\n",
    "value, history = search.minimax(state, 10, True)\n",
    "\n",
    "\n",
    "other = state\n",
    "for move in history:\n",
    "    if not other.is_terminal():\n",
    "        other = other.move(move)\n",
    "\n",
    "assert policy.eval(other) == value\n",
    "\n",
    "print(\"All good!\")\n",
    "print(value, history)\n",
    "# print(state)\n",
    "\n"
   ],
   "metadata": {
    "collapsed": false,
    "pycharm": {
     "name": "#%%\n"
    }
   }
  },
  {
   "cell_type": "markdown",
   "source": [
    "# Policy-Advised TreeSeach - At Last!"
   ],
   "metadata": {
    "collapsed": false,
    "pycharm": {
     "name": "#%% md\n"
    }
   }
  },
  {
   "cell_type": "code",
   "execution_count": 12,
   "outputs": [
    {
     "data": {
      "text/plain": "(0, [(6, 6), (8, 8), (9, 8), (7, 9), (6, 10), (7, 8)])"
     },
     "execution_count": 12,
     "metadata": {},
     "output_type": "execute_result"
    }
   ],
   "source": [
    "from domoku.policies.softadvice import MaxInfluencePolicyParams, MaxInfluencePolicy\n",
    "from domoku.policies.maximal_criticality import MaxCriticalityPolicy\n",
    "\n",
    "SIZE=15\n",
    "from domoku.ddpg import NxNx4Game\n",
    "from domoku import data\n",
    "\n",
    "hard_policy = MaxCriticalityPolicy(SIZE, overconfidence=2)\n",
    "\n",
    "params = MaxInfluencePolicyParams(\n",
    "    n=SIZE,\n",
    "    sigma=.7,\n",
    "    iota=3,\n",
    "    radial_constr = [.0625, .125, .25, .5],\n",
    "    radial_obstr = [-.0625, -.125, -.25, -.5]\n",
    ")\n",
    "heuristics = MaxInfluencePolicy(params, criticality_model=hard_policy)\n",
    "\n",
    "initial_state = data.create_nxnx4(size=15, stones=[('H', 8)])\n",
    "search = MinimaxSearch(NxNx4Game(initial_state), heuristics, 8, 4)\n",
    "search.minimax(initial_state, 6)"
   ],
   "metadata": {
    "collapsed": false,
    "pycharm": {
     "name": "#%%\n"
    }
   }
  },
  {
   "cell_type": "code",
   "execution_count": null,
   "outputs": [],
   "source": [],
   "metadata": {
    "collapsed": false,
    "pycharm": {
     "name": "#%%\n"
    }
   }
  }
 ],
 "metadata": {
  "kernelspec": {
   "display_name": "Python 3",
   "language": "python",
   "name": "python3"
  },
  "language_info": {
   "codemirror_mode": {
    "name": "ipython",
    "version": 2
   },
   "file_extension": ".py",
   "mimetype": "text/x-python",
   "name": "python",
   "nbconvert_exporter": "python",
   "pygments_lexer": "ipython2",
   "version": "2.7.6"
  }
 },
 "nbformat": 4,
 "nbformat_minor": 0
}