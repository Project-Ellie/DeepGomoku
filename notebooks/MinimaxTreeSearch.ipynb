{
 "cells": [
  {
   "cell_type": "markdown",
   "source": [
    "# Minimax Tree Search with Policy/Value Functions"
   ],
   "metadata": {
    "collapsed": false,
    "pycharm": {
     "name": "#%% md\n"
    }
   }
  },
  {
   "cell_type": "code",
   "execution_count": 77,
   "outputs": [
    {
     "name": "stdout",
     "output_type": "stream",
     "text": [
      "The autoreload extension is already loaded. To reload it, use:\n",
      "  %reload_ext autoreload\n"
     ]
    }
   ],
   "source": [
    "%load_ext autoreload\n",
    "%autoreload 2"
   ],
   "metadata": {
    "collapsed": false,
    "pycharm": {
     "name": "#%%\n"
    }
   }
  },
  {
   "cell_type": "code",
   "execution_count": 1,
   "outputs": [],
   "source": [
    "from typing import List\n",
    "import numpy as np\n",
    "from domoku.minimax import MinimaxSearch"
   ],
   "metadata": {
    "collapsed": false,
    "pycharm": {
     "name": "#%%\n"
    }
   }
  },
  {
   "cell_type": "markdown",
   "source": [
    "### Test Stuff"
   ],
   "metadata": {
    "collapsed": false,
    "pycharm": {
     "name": "#%% md\n"
    }
   }
  },
  {
   "cell_type": "code",
   "execution_count": 52,
   "outputs": [],
   "source": [
    "class Policy:\n",
    "    \"\"\"\n",
    "    A trivial policy for testing\n",
    "    \"\"\"\n",
    "\n",
    "    @staticmethod\n",
    "    def sample(state, _n=0) -> List[int]:\n",
    "        return list(range(len(state.successors)))\n",
    "\n",
    "    @staticmethod\n",
    "    def eval(state):\n",
    "        return state.value\n",
    "\n",
    "    @staticmethod\n",
    "    def is_terminated(state):\n",
    "        return state.terminal\n",
    "\n",
    "\n",
    "class State:\n",
    "    def __init__(self, terminal: bool = False, successors=None, value=0):\n",
    "        self.terminal = terminal\n",
    "        self.successors = successors\n",
    "        self.value = value\n",
    "\n",
    "    def move(self, move: int) -> 'State':\n",
    "        assert move in range(len(self.successors)), \"Move can only be one of 0 or 1 or 2\"\n",
    "        return self.successors[move]\n",
    "\n",
    "    def __str__(self):\n",
    "        if self.terminal:\n",
    "            return str(self.value)\n",
    "        else:\n",
    "            return f\"[{str(self.successors)}]\"\n",
    "\n",
    "    __repr__ = __str__\n",
    "\n",
    "\n",
    "def create_state(depth, min_depth=0, num_successors=2):\n",
    "    if depth == 0 or (np.random.choice([False]*6+[True]) and min_depth > depth):\n",
    "        return State(True, value=np.random.choice([1, 2, 3, 4, 5, 6]))\n",
    "\n",
    "    successors = [create_state(depth - 1, min_depth, num_successors)\n",
    "                  for _ in range(num_successors)]\n",
    "\n",
    "    return State(False, successors)"
   ],
   "metadata": {
    "collapsed": false,
    "pycharm": {
     "name": "#%%\n"
    }
   }
  },
  {
   "cell_type": "code",
   "execution_count": 53,
   "outputs": [],
   "source": [
    "minimax = MinimaxSearch(policy=Policy(), value=Policy(), max_depth=5, max_breadth=3)"
   ],
   "metadata": {
    "collapsed": false,
    "pycharm": {
     "name": "#%%\n"
    }
   }
  },
  {
   "cell_type": "code",
   "execution_count": 134,
   "outputs": [
    {
     "name": "stdout",
     "output_type": "stream",
     "text": [
      "4 [0, 0, 0, 2, 0, 2, 2, 1, 2]\n"
     ]
    }
   ],
   "source": [
    "state = create_state(9, 2, num_successors=3)\n",
    "\n",
    "#left = State(True, value=4)\n",
    "#state = State(False, left=left, right=State(False, left=State(True, value=6), right=State(True, value=2)))\n",
    "\n",
    "search = MinimaxSearch(Policy(), Policy(), 5, 3)\n",
    "value, history = search.minimax(state, 10, -float('inf'), float('inf'), True)\n",
    "\n",
    "\n",
    "other = state\n",
    "for move in history:\n",
    "    if not other.terminal:\n",
    "        other = other.move(move)\n",
    "\n",
    "assert other.value == value\n",
    "\n",
    "print(value, history)\n",
    "# print(state)\n",
    "\n"
   ],
   "metadata": {
    "collapsed": false,
    "pycharm": {
     "name": "#%%\n"
    }
   }
  },
  {
   "cell_type": "code",
   "execution_count": null,
   "outputs": [],
   "source": [],
   "metadata": {
    "collapsed": false,
    "pycharm": {
     "name": "#%%\n"
    }
   }
  }
 ],
 "metadata": {
  "kernelspec": {
   "display_name": "Python 3",
   "language": "python",
   "name": "python3"
  },
  "language_info": {
   "codemirror_mode": {
    "name": "ipython",
    "version": 2
   },
   "file_extension": ".py",
   "mimetype": "text/x-python",
   "name": "python",
   "nbconvert_exporter": "python",
   "pygments_lexer": "ipython2",
   "version": "2.7.6"
  }
 },
 "nbformat": 4,
 "nbformat_minor": 0
}