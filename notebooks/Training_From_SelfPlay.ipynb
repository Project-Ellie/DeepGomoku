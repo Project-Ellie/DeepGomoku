{
 "cells": [
  {
   "cell_type": "code",
   "execution_count": 1,
   "outputs": [],
   "source": [
    "%load_ext autoreload\n",
    "%autoreload 2"
   ],
   "metadata": {
    "collapsed": false,
    "pycharm": {
     "name": "#%%\n"
    }
   }
  },
  {
   "cell_type": "code",
   "execution_count": 2,
   "outputs": [],
   "source": [
    "import numpy as np\n",
    "from aegomoku.game_data import read_training_data\n",
    "from aegomoku.utils import analyse_example"
   ],
   "metadata": {
    "collapsed": false,
    "pycharm": {
     "name": "#%%\n"
    }
   }
  },
  {
   "cell_type": "code",
   "execution_count": 3,
   "outputs": [
    {
     "data": {
      "text/plain": "(8288, 3, (17, 17, 3))"
     },
     "execution_count": 3,
     "metadata": {},
     "output_type": "execute_result"
    }
   ],
   "source": [
    "BOARD_SIZE=15\n",
    "filename = \"the_heuristic_fourty.pickle\"\n",
    "examples = read_training_data(filename, BOARD_SIZE)\n",
    "len(examples), len(examples[0]), examples[0][0].shape"
   ],
   "metadata": {
    "collapsed": false,
    "pycharm": {
     "name": "#%%\n"
    }
   }
  },
  {
   "cell_type": "markdown",
   "source": [
    "---\n",
    "### Data Verification\n",
    "We have 8288 records from 40 games in 8 symmetries. Now we skim through a good chunk of training records to check whether it makes sense (to some degree)."
   ],
   "metadata": {
    "collapsed": false,
    "pycharm": {
     "name": "#%% md\n"
    }
   }
  },
  {
   "cell_type": "code",
   "execution_count": 4,
   "outputs": [],
   "source": [
    "i = 0"
   ],
   "metadata": {
    "collapsed": false,
    "pycharm": {
     "name": "#%%\n"
    }
   }
  },
  {
   "cell_type": "code",
   "execution_count": 5,
   "outputs": [
    {
     "name": "stdout",
     "output_type": "stream",
     "text": [
      "Next to play: WHITE\n",
      "Value from WHITE's point of view: -0.8498382671834787\n"
     ]
    },
    {
     "data": {
      "text/plain": "<Figure size 576x576 with 1 Axes>",
      "image/png": "[encoded data removed]"
     },
     "metadata": {
      "needs_background": "light"
     },
     "output_type": "display_data"
    }
   ],
   "source": [
    "import random\n",
    "\n",
    "analyse_example(BOARD_SIZE, examples[random.randint(0, 8288)])"
   ],
   "metadata": {
    "collapsed": false,
    "pycharm": {
     "name": "#%%\n"
    }
   }
  },
  {
   "cell_type": "code",
   "execution_count": 6,
   "outputs": [
    {
     "name": "stdout",
     "output_type": "stream",
     "text": [
      "Model: \"gomoku_model\"\n",
      "_________________________________________________________________\n",
      " Layer (type)                Output Shape              Param #   \n",
      "=================================================================\n",
      " initial (Conv2D)            multiple                  11648     \n",
      "                                                                 \n",
      " potential_0 (Conv2D)        multiple                  123936    \n",
      "                                                                 \n",
      " potential_1 (Conv2D)        multiple                  123936    \n",
      "                                                                 \n",
      " potential_2 (Conv2D)        multiple                  123936    \n",
      "                                                                 \n",
      " potential_3 (Conv2D)        multiple                  123936    \n",
      "                                                                 \n",
      " potential_4 (Conv2D)        multiple                  123936    \n",
      "                                                                 \n",
      " policy_aggregator (Conv2D)  multiple                  33        \n",
      "                                                                 \n",
      " flatten (Flatten)           multiple                  0         \n",
      "                                                                 \n",
      " value_aggregator (Conv2D)   multiple                  33        \n",
      "                                                                 \n",
      " border_off (Conv2D)         multiple                  10        \n",
      "                                                                 \n",
      " dense (Dense)               multiple                  226       \n",
      "                                                                 \n",
      "=================================================================\n",
      "Total params: 631,630\n",
      "Trainable params: 631,620\n",
      "Non-trainable params: 10\n",
      "_________________________________________________________________\n"
     ]
    },
    {
     "name": "stderr",
     "output_type": "stream",
     "text": [
      "2022-08-06 09:13:20.589232: I tensorflow/stream_executor/cuda/cuda_gpu_executor.cc:975] successful NUMA node read from SysFS had negative value (-1), but there must be at least one NUMA node, so returning NUMA node zero\n",
      "2022-08-06 09:13:20.590035: I tensorflow/stream_executor/cuda/cuda_gpu_executor.cc:975] successful NUMA node read from SysFS had negative value (-1), but there must be at least one NUMA node, so returning NUMA node zero\n",
      "2022-08-06 09:13:20.595372: I tensorflow/stream_executor/cuda/cuda_gpu_executor.cc:975] successful NUMA node read from SysFS had negative value (-1), but there must be at least one NUMA node, so returning NUMA node zero\n",
      "2022-08-06 09:13:20.596070: I tensorflow/stream_executor/cuda/cuda_gpu_executor.cc:975] successful NUMA node read from SysFS had negative value (-1), but there must be at least one NUMA node, so returning NUMA node zero\n",
      "2022-08-06 09:13:20.598895: I tensorflow/stream_executor/cuda/cuda_gpu_executor.cc:975] successful NUMA node read from SysFS had negative value (-1), but there must be at least one NUMA node, so returning NUMA node zero\n",
      "2022-08-06 09:13:20.599522: I tensorflow/stream_executor/cuda/cuda_gpu_executor.cc:975] successful NUMA node read from SysFS had negative value (-1), but there must be at least one NUMA node, so returning NUMA node zero\n",
      "2022-08-06 09:13:20.600656: I tensorflow/core/platform/cpu_feature_guard.cc:193] This TensorFlow binary is optimized with oneAPI Deep Neural Network Library (oneDNN) to use the following CPU instructions in performance-critical operations:  AVX2 FMA\n",
      "To enable them in other operations, rebuild TensorFlow with the appropriate compiler flags.\n",
      "2022-08-06 09:13:20.782705: I tensorflow/stream_executor/cuda/cuda_gpu_executor.cc:975] successful NUMA node read from SysFS had negative value (-1), but there must be at least one NUMA node, so returning NUMA node zero\n",
      "2022-08-06 09:13:20.783560: I tensorflow/stream_executor/cuda/cuda_gpu_executor.cc:975] successful NUMA node read from SysFS had negative value (-1), but there must be at least one NUMA node, so returning NUMA node zero\n",
      "2022-08-06 09:13:20.784306: I tensorflow/stream_executor/cuda/cuda_gpu_executor.cc:975] successful NUMA node read from SysFS had negative value (-1), but there must be at least one NUMA node, so returning NUMA node zero\n",
      "2022-08-06 09:13:20.785016: I tensorflow/stream_executor/cuda/cuda_gpu_executor.cc:975] successful NUMA node read from SysFS had negative value (-1), but there must be at least one NUMA node, so returning NUMA node zero\n",
      "2022-08-06 09:13:20.785748: I tensorflow/stream_executor/cuda/cuda_gpu_executor.cc:975] successful NUMA node read from SysFS had negative value (-1), but there must be at least one NUMA node, so returning NUMA node zero\n",
      "2022-08-06 09:13:20.786468: I tensorflow/stream_executor/cuda/cuda_gpu_executor.cc:975] successful NUMA node read from SysFS had negative value (-1), but there must be at least one NUMA node, so returning NUMA node zero\n",
      "2022-08-06 09:13:21.470848: I tensorflow/stream_executor/cuda/cuda_gpu_executor.cc:975] successful NUMA node read from SysFS had negative value (-1), but there must be at least one NUMA node, so returning NUMA node zero\n",
      "2022-08-06 09:13:21.471462: I tensorflow/stream_executor/cuda/cuda_gpu_executor.cc:975] successful NUMA node read from SysFS had negative value (-1), but there must be at least one NUMA node, so returning NUMA node zero\n",
      "2022-08-06 09:13:21.472051: I tensorflow/stream_executor/cuda/cuda_gpu_executor.cc:975] successful NUMA node read from SysFS had negative value (-1), but there must be at least one NUMA node, so returning NUMA node zero\n",
      "2022-08-06 09:13:21.472725: I tensorflow/stream_executor/cuda/cuda_gpu_executor.cc:975] successful NUMA node read from SysFS had negative value (-1), but there must be at least one NUMA node, so returning NUMA node zero\n",
      "2022-08-06 09:13:21.473554: I tensorflow/stream_executor/cuda/cuda_gpu_executor.cc:975] successful NUMA node read from SysFS had negative value (-1), but there must be at least one NUMA node, so returning NUMA node zero\n",
      "2022-08-06 09:13:21.474147: I tensorflow/core/common_runtime/gpu/gpu_device.cc:1532] Created device /job:localhost/replica:0/task:0/device:GPU:0 with 9839 MB memory:  -> device: 0, name: NVIDIA GeForce GTX 1080 Ti, pci bus id: 0000:28:00.0, compute capability: 6.1\n",
      "2022-08-06 09:13:21.474487: I tensorflow/stream_executor/cuda/cuda_gpu_executor.cc:975] successful NUMA node read from SysFS had negative value (-1), but there must be at least one NUMA node, so returning NUMA node zero\n",
      "2022-08-06 09:13:21.475071: I tensorflow/core/common_runtime/gpu/gpu_device.cc:1532] Created device /job:localhost/replica:0/task:0/device:GPU:1 with 10415 MB memory:  -> device: 1, name: NVIDIA GeForce GTX 1080 Ti, pci bus id: 0000:29:00.0, compute capability: 6.1\n"
     ]
    }
   ],
   "source": [
    "from aegomoku.gomoku_model import NeuralNetAdapter\n",
    "\n",
    "the_model = NeuralNetAdapter(BOARD_SIZE + 2)\n",
    "the_model.policy.summary()\n",
    "the_model.policy.compile()"
   ],
   "metadata": {
    "collapsed": false,
    "pycharm": {
     "name": "#%%\n"
    }
   }
  },
  {
   "cell_type": "code",
   "execution_count": 7,
   "outputs": [
    {
     "name": "stdout",
     "output_type": "stream",
     "text": [
      "(1, 17, 17, 3)\n"
     ]
    },
    {
     "name": "stderr",
     "output_type": "stream",
     "text": [
      "2022-08-06 09:15:42.950495: I tensorflow/stream_executor/cuda/cuda_dnn.cc:384] Loaded cuDNN version 8100\n",
      "2022-08-06 09:15:43.124054: W tensorflow/stream_executor/gpu/asm_compiler.cc:111] *** WARNING *** You are using ptxas 10.1.243, which is older than 11.1. ptxas before 11.1 is known to miscompile XLA code, leading to incorrect results or invalid-address errors.\n",
      "\n",
      "You may not need to update to CUDA 11.1; cherry-picking the ptxas binary is often sufficient.\n"
     ]
    },
    {
     "data": {
      "text/plain": "(<tf.Tensor: shape=(1, 225), dtype=float32, numpy=\n array([[0.00486825, 0.00576359, 0.00645775, 0.00577695, 0.00552954,\n         0.00625302, 0.00540201, 0.00589893, 0.00402978, 0.00410986,\n         0.00367208, 0.00388758, 0.00450685, 0.0052217 , 0.00513757,\n         0.00543171, 0.00583433, 0.00601272, 0.00573316, 0.00494131,\n         0.00551109, 0.00521016, 0.00379264, 0.00349864, 0.00349864,\n         0.00349864, 0.00349864, 0.00492722, 0.0049747 , 0.00473244,\n         0.00514497, 0.00654585, 0.00633676, 0.00593855, 0.00494279,\n         0.00455694, 0.00494174, 0.00383783, 0.00349864, 0.00349864,\n         0.00349864, 0.00349864, 0.00392605, 0.00475599, 0.00438978,\n         0.00458614, 0.00477668, 0.00531456, 0.00469999, 0.00398083,\n         0.00435171, 0.00412678, 0.00360355, 0.00349864, 0.00349864,\n         0.00349864, 0.00349864, 0.00366639, 0.0043205 , 0.00418604,\n         0.00522805, 0.00552415, 0.00559607, 0.00596258, 0.00461347,\n         0.00525385, 0.00466897, 0.00412834, 0.00349864, 0.00349864,\n         0.00349864, 0.00349864, 0.00349864, 0.00379967, 0.00391057,\n         0.00577928, 0.00561722, 0.00578431, 0.00540624, 0.00522799,\n         0.00548442, 0.00538845, 0.00470619, 0.00349864, 0.00349864,\n         0.00349864, 0.00349864, 0.00404522, 0.00362992, 0.0043731 ,\n         0.00541101, 0.00554779, 0.00552424, 0.0049284 , 0.00495358,\n         0.00459536, 0.00428765, 0.004344  , 0.00349864, 0.00349864,\n         0.00349864, 0.00349864, 0.00372877, 0.00374176, 0.00378083,\n         0.00607999, 0.00569236, 0.00601552, 0.00561986, 0.00503516,\n         0.00443528, 0.00402748, 0.00435433, 0.00349864, 0.00349864,\n         0.00369332, 0.00349864, 0.00352524, 0.00349864, 0.00349864,\n         0.00631343, 0.00504735, 0.00625943, 0.00508147, 0.00492388,\n         0.004854  , 0.00414639, 0.00447373, 0.00349864, 0.00394266,\n         0.00402437, 0.00349864, 0.00349864, 0.00349864, 0.00363576,\n         0.00648677, 0.00534561, 0.00493977, 0.00464594, 0.0048567 ,\n         0.00480718, 0.00438946, 0.00532194, 0.0039143 , 0.00383771,\n         0.00385686, 0.00349864, 0.00349864, 0.00349864, 0.0036273 ,\n         0.00567563, 0.00522132, 0.00526695, 0.00462023, 0.00464323,\n         0.00498339, 0.00456125, 0.00483801, 0.00373793, 0.0043776 ,\n         0.00470785, 0.00358954, 0.00420701, 0.00349864, 0.0039269 ,\n         0.00522889, 0.00448   , 0.00502911, 0.00520444, 0.00427552,\n         0.00390254, 0.00349864, 0.0038833 , 0.00349864, 0.00366161,\n         0.00429139, 0.00368091, 0.00400329, 0.00353954, 0.00381353,\n         0.00513273, 0.00445316, 0.00477289, 0.0045016 , 0.00485536,\n         0.00498544, 0.00416426, 0.00451577, 0.00396859, 0.00426925,\n         0.0041059 , 0.00349864, 0.00360384, 0.00349864, 0.00349864,\n         0.00518694, 0.00413866, 0.00428441, 0.00443494, 0.00422011,\n         0.0056461 , 0.00447066, 0.00432849, 0.00472902, 0.00498477,\n         0.00589319, 0.00386821, 0.00435132, 0.00433755, 0.00361395,\n         0.00367927, 0.00386972, 0.00409938, 0.00424275, 0.00396251,\n         0.00420879, 0.00378393, 0.00376836, 0.00369701, 0.00412857,\n         0.00467116, 0.00349864, 0.00426342, 0.00409935, 0.00368833]],\n       dtype=float32)>,\n <tf.Tensor: shape=(1, 1), dtype=float32, numpy=array([[-0.41068426]], dtype=float32)>)"
     },
     "execution_count": 7,
     "metadata": {},
     "output_type": "execute_result"
    }
   ],
   "source": [
    "sample = np.expand_dims(examples[55][0], axis=0).astype(float)\n",
    "print(sample.shape)\n",
    "the_model.policy(sample)"
   ],
   "metadata": {
    "collapsed": false,
    "pycharm": {
     "name": "#%%\n"
    }
   }
  },
  {
   "cell_type": "code",
   "execution_count": 20,
   "outputs": [
    {
     "name": "stdout",
     "output_type": "stream",
     "text": [
      "Epoch: 1, Training: 1.1492934226989746, Test: 0.0\n",
      "Epoch: 101, Training: 1.2110552787780762, Test: 0.0\n",
      "Epoch: 201, Training: 1.1651273965835571, Test: 0.0\n",
      "Epoch: 301, Training: 1.1549992561340332, Test: 0.0\n",
      "Epoch: 401, Training: 1.1446386575698853, Test: 0.0\n",
      "Epoch: 501, Training: 1.1380504369735718, Test: 0.0\n",
      "Epoch: 601, Training: 1.1379040479660034, Test: 0.0\n",
      "Epoch: 701, Training: 1.1314367055892944, Test: 0.0\n",
      "Epoch: 801, Training: 1.127255916595459, Test: 0.0\n",
      "Epoch: 901, Training: 1.1236457824707031, Test: 0.0\n",
      "Epoch: 1001, Training: 1.1205480098724365, Test: 0.0\n",
      "Epoch: 1101, Training: 1.1179708242416382, Test: 0.0\n",
      "Epoch: 1201, Training: 1.1156388521194458, Test: 0.0\n",
      "Epoch: 1301, Training: 1.113305926322937, Test: 0.0\n",
      "Epoch: 1401, Training: 1.1120704412460327, Test: 0.0\n",
      "Epoch: 1501, Training: 1.1098577976226807, Test: 0.0\n",
      "Epoch: 1601, Training: 1.1079154014587402, Test: 0.0\n",
      "Epoch: 1701, Training: 1.106094479560852, Test: 0.0\n",
      "Epoch: 1801, Training: 1.1043171882629395, Test: 0.0\n",
      "Epoch: 1901, Training: 1.1027476787567139, Test: 0.0\n",
      "Epochs: 2000, Loss: 1.101302146911621, \n"
     ]
    }
   ],
   "source": [
    "the_model.train(examples[:200], epochs_per_train=2000, report_every=100)"
   ],
   "metadata": {
    "collapsed": false,
    "pycharm": {
     "name": "#%%\n"
    }
   }
  },
  {
   "cell_type": "code",
   "execution_count": 34,
   "outputs": [
    {
     "name": "stdout",
     "output_type": "stream",
     "text": [
      "(1, 17, 17, 3)\n",
      "n=250\n",
      "Next to play: WHITE\n",
      "Value from WHITE's point of view: -0.023365041495220274\n",
      "value = -0.023365041495220274\n",
      "Next to play: WHITE\n",
      "Value from WHITE's point of view: [[0.23529759]]\n",
      "value = [[0.23529759]]\n"
     ]
    },
    {
     "data": {
      "text/plain": "<Figure size 576x576 with 1 Axes>",
      "image/png": "[encoded data removed]"
     },
     "metadata": {
      "needs_background": "light"
     },
     "output_type": "display_data"
    },
    {
     "data": {
      "text/plain": "<Figure size 576x576 with 1 Axes>",
      "image/png": "[encoded data removed]"
     },
     "metadata": {
      "needs_background": "light"
     },
     "output_type": "display_data"
    }
   ],
   "source": [
    "n = random.randint(0, 400)\n",
    "sample = np.expand_dims(examples[n][0], axis=0).astype(float)\n",
    "print(sample.shape)\n",
    "p_, v_ = the_model.policy(sample)\n",
    "s, p, v = examples[n]\n",
    "example = (s, list(p_.numpy()), v_)\n",
    "print(f\"n={n}\")\n",
    "analyse_example(BOARD_SIZE, examples[n])\n",
    "print(f\"value = {v}\")\n",
    "analyse_example(BOARD_SIZE, example)\n",
    "print(f\"value = {v_}\")"
   ],
   "metadata": {
    "collapsed": false,
    "pycharm": {
     "name": "#%%\n"
    }
   }
  },
  {
   "cell_type": "code",
   "execution_count": null,
   "outputs": [],
   "source": [],
   "metadata": {
    "collapsed": false,
    "pycharm": {
     "name": "#%%\n"
    }
   }
  }
 ],
 "metadata": {
  "kernelspec": {
   "display_name": "Python 3",
   "language": "python",
   "name": "python3"
  },
  "language_info": {
   "codemirror_mode": {
    "name": "ipython",
    "version": 2
   },
   "file_extension": ".py",
   "mimetype": "text/x-python",
   "name": "python",
   "nbconvert_exporter": "python",
   "pygments_lexer": "ipython2",
   "version": "2.7.6"
  }
 },
 "nbformat": 4,
 "nbformat_minor": 0
}