{
 "cells": [
  {
   "cell_type": "code",
   "execution_count": 1,
   "outputs": [],
   "source": [
    "%load_ext autoreload\n",
    "%autoreload 2"
   ],
   "metadata": {
    "collapsed": false,
    "pycharm": {
     "name": "#%%\n"
    }
   }
  },
  {
   "cell_type": "code",
   "execution_count": 2,
   "outputs": [],
   "source": [
    "import numpy as np\n",
    "from aegomoku.game_data import read_training_data\n",
    "from aegomoku.utils import analyse_example"
   ],
   "metadata": {
    "collapsed": false,
    "pycharm": {
     "name": "#%%\n"
    }
   }
  },
  {
   "cell_type": "code",
   "execution_count": 3,
   "outputs": [
    {
     "data": {
      "text/plain": "(8288, 3, (17, 17, 3))"
     },
     "execution_count": 3,
     "metadata": {},
     "output_type": "execute_result"
    }
   ],
   "source": [
    "BOARD_SIZE=15\n",
    "filename = \"the_heuristic_fourty.pickle\"\n",
    "examples = read_training_data(filename, BOARD_SIZE)\n",
    "len(examples), len(examples[0]), examples[0][0].shape"
   ],
   "metadata": {
    "collapsed": false,
    "pycharm": {
     "name": "#%%\n"
    }
   }
  },
  {
   "cell_type": "markdown",
   "source": [
    "---\n",
    "### Data Verification\n",
    "We have 8288 records from 40 games in 8 symmetries. Now we skim through a good chunk of training records to check whether it makes sense (to some degree)."
   ],
   "metadata": {
    "collapsed": false,
    "pycharm": {
     "name": "#%% md\n"
    }
   }
  },
  {
   "cell_type": "code",
   "execution_count": 4,
   "outputs": [],
   "source": [
    "i = 0"
   ],
   "metadata": {
    "collapsed": false,
    "pycharm": {
     "name": "#%%\n"
    }
   }
  },
  {
   "cell_type": "code",
   "execution_count": 11,
   "outputs": [
    {
     "name": "stdout",
     "output_type": "stream",
     "text": [
      "Next to play: BLACK\n",
      "Value from BLACK's point of view: 0.00125121859654844\n"
     ]
    },
    {
     "data": {
      "text/plain": "<Figure size 576x576 with 1 Axes>",
      "image/png": "[encoded data removed]"
     },
     "metadata": {
      "needs_background": "light"
     },
     "output_type": "display_data"
    }
   ],
   "source": [
    "import random\n",
    "\n",
    "analyse_example(BOARD_SIZE, examples[random.randint(0, 8288)])"
   ],
   "metadata": {
    "collapsed": false,
    "pycharm": {
     "name": "#%%\n"
    }
   }
  },
  {
   "cell_type": "code",
   "execution_count": 12,
   "outputs": [
    {
     "name": "stdout",
     "output_type": "stream",
     "text": [
      "Model: \"gomoku_model\"\n",
      "_________________________________________________________________\n",
      " Layer (type)                Output Shape              Param #   \n",
      "=================================================================\n",
      " initial (Conv2D)            multiple                  11648     \n",
      "                                                                 \n",
      " potential_0 (Conv2D)        multiple                  123936    \n",
      "                                                                 \n",
      " potential_1 (Conv2D)        multiple                  123936    \n",
      "                                                                 \n",
      " potential_2 (Conv2D)        multiple                  123936    \n",
      "                                                                 \n",
      " potential_3 (Conv2D)        multiple                  123936    \n",
      "                                                                 \n",
      " potential_4 (Conv2D)        multiple                  123936    \n",
      "                                                                 \n",
      " policy_aggregator (Conv2D)  multiple                  33        \n",
      "                                                                 \n",
      " flatten (Flatten)           multiple                  0         \n",
      "                                                                 \n",
      " value_aggregator (Conv2D)   multiple                  33        \n",
      "                                                                 \n",
      " border_off (Conv2D)         multiple                  10        \n",
      "                                                                 \n",
      " dense (Dense)               multiple                  226       \n",
      "                                                                 \n",
      "=================================================================\n",
      "Total params: 631,630\n",
      "Trainable params: 631,620\n",
      "Non-trainable params: 10\n",
      "_________________________________________________________________\n"
     ]
    },
    {
     "name": "stderr",
     "output_type": "stream",
     "text": [
      "2022-08-05 22:36:16.550744: I tensorflow/core/platform/cpu_feature_guard.cc:193] This TensorFlow binary is optimized with oneAPI Deep Neural Network Library (oneDNN) to use the following CPU instructions in performance-critical operations:  AVX2 FMA\n",
      "To enable them in other operations, rebuild TensorFlow with the appropriate compiler flags.\n"
     ]
    }
   ],
   "source": [
    "from aegomoku.gomoku_model import NeuralNetAdapter\n",
    "\n",
    "the_model = NeuralNetAdapter(BOARD_SIZE + 2)\n",
    "the_model.policy.summary()\n",
    "the_model.policy.compile()"
   ],
   "metadata": {
    "collapsed": false,
    "pycharm": {
     "name": "#%%\n"
    }
   }
  },
  {
   "cell_type": "code",
   "execution_count": 13,
   "outputs": [
    {
     "name": "stdout",
     "output_type": "stream",
     "text": [
      "(1, 17, 17, 3)\n"
     ]
    },
    {
     "data": {
      "text/plain": "(<tf.Tensor: shape=(1, 225), dtype=float32, numpy=\n array([[0.00443309, 0.00443309, 0.00443309, 0.00443309, 0.00443309,\n         0.00443309, 0.00443309, 0.00443309, 0.00443309, 0.00443309,\n         0.00443309, 0.00443309, 0.00443309, 0.00443309, 0.00443309,\n         0.00443309, 0.00443309, 0.00443309, 0.00443309, 0.00443309,\n         0.00443309, 0.00443309, 0.00443309, 0.00443309, 0.00443309,\n         0.00443309, 0.00443309, 0.00443309, 0.00443309, 0.00443309,\n         0.00443309, 0.00443309, 0.00443309, 0.00443309, 0.00443309,\n         0.00443309, 0.00443309, 0.00443309, 0.00443309, 0.00449057,\n         0.00456503, 0.00447135, 0.00443309, 0.00443309, 0.00443309,\n         0.00443309, 0.00443309, 0.00443309, 0.00443309, 0.00443309,\n         0.00443309, 0.00443309, 0.00443309, 0.00460816, 0.00443309,\n         0.0046708 , 0.00443309, 0.00443309, 0.00443309, 0.00443309,\n         0.00443309, 0.00443309, 0.00443309, 0.00443309, 0.00443309,\n         0.00443309, 0.00443309, 0.00443309, 0.00443309, 0.00443309,\n         0.00443309, 0.00443309, 0.00443309, 0.00443309, 0.00443309,\n         0.00443309, 0.00443309, 0.00443309, 0.00443309, 0.00443309,\n         0.00443309, 0.00443309, 0.00443309, 0.00443309, 0.00443309,\n         0.00443309, 0.00443309, 0.00443309, 0.00443309, 0.00443309,\n         0.00443309, 0.00443309, 0.00443309, 0.00443309, 0.00443309,\n         0.00443309, 0.00443309, 0.00443309, 0.00443309, 0.00443309,\n         0.00443309, 0.00443309, 0.00443309, 0.00443309, 0.00443309,\n         0.00443309, 0.00443309, 0.00443309, 0.00443309, 0.00443309,\n         0.00443309, 0.00443309, 0.00443309, 0.00443309, 0.00443309,\n         0.00443309, 0.00443309, 0.00443309, 0.00443309, 0.00443309,\n         0.00443309, 0.00443309, 0.00443309, 0.00443309, 0.00443309,\n         0.00443309, 0.00443309, 0.00443309, 0.00443309, 0.00443309,\n         0.00443309, 0.00443309, 0.00443309, 0.00443309, 0.00443309,\n         0.00443309, 0.00443309, 0.00443309, 0.00443309, 0.00443309,\n         0.00443309, 0.00443309, 0.00443309, 0.00443309, 0.00443309,\n         0.00443309, 0.00443309, 0.00443309, 0.0045837 , 0.00443309,\n         0.00443309, 0.00443309, 0.00443309, 0.00443309, 0.00443309,\n         0.00443309, 0.00443309, 0.00443309, 0.00443309, 0.00443309,\n         0.00443309, 0.00443309, 0.00443309, 0.00465339, 0.00443309,\n         0.00443309, 0.00443309, 0.00443309, 0.00443309, 0.00443309,\n         0.00443309, 0.00443309, 0.00443309, 0.00443309, 0.00443309,\n         0.00443309, 0.00443309, 0.00443309, 0.00443309, 0.00443309,\n         0.00443309, 0.00443309, 0.00443309, 0.00443309, 0.00443309,\n         0.00443309, 0.00443309, 0.00443309, 0.00443309, 0.00443309,\n         0.00443309, 0.00443309, 0.00443309, 0.00467049, 0.00443309,\n         0.00443309, 0.00443309, 0.00443309, 0.00443309, 0.00443309,\n         0.00443309, 0.00443309, 0.00443309, 0.00443309, 0.00443309,\n         0.00443309, 0.00443309, 0.00443309, 0.00443309, 0.00443525,\n         0.00443309, 0.00443309, 0.00443309, 0.00443309, 0.00469657,\n         0.00443309, 0.00443309, 0.00443309, 0.00443309, 0.00481081,\n         0.00455632, 0.00466554, 0.00450172, 0.00456687, 0.00453803]],\n       dtype=float32)>,\n <tf.Tensor: shape=(1, 1), dtype=float32, numpy=array([[0.62763053]], dtype=float32)>)"
     },
     "execution_count": 13,
     "metadata": {},
     "output_type": "execute_result"
    }
   ],
   "source": [
    "sample = np.expand_dims(examples[55][0], axis=0).astype(float)\n",
    "print(sample.shape)\n",
    "the_model.policy(sample)"
   ],
   "metadata": {
    "collapsed": false,
    "pycharm": {
     "name": "#%%\n"
    }
   }
  },
  {
   "cell_type": "code",
   "execution_count": 57,
   "outputs": [
    {
     "name": "stdout",
     "output_type": "stream",
     "text": [
      "Epoch: 1, Loss: 1.2848254442214966\n",
      "Epoch: 11, Loss: 1.2669261693954468\n",
      "Epoch: 21, Loss: 1.2598258256912231\n",
      "Epoch: 31, Loss: 1.256971001625061\n",
      "Epoch: 41, Loss: 1.2518205642700195\n",
      "Epoch: 51, Loss: 1.2530558109283447\n",
      "Epoch: 61, Loss: 1.251257061958313\n",
      "Epoch: 71, Loss: 1.2502696514129639\n",
      "Epoch: 81, Loss: 1.2505830526351929\n",
      "Epoch: 91, Loss: 1.2504948377609253\n",
      "Epoch: 101, Loss: 1.2498992681503296\n",
      "Epoch: 111, Loss: 1.2459897994995117\n",
      "Epoch: 121, Loss: 1.2425278425216675\n",
      "Epoch: 131, Loss: 1.239314079284668\n",
      "Epoch: 141, Loss: 1.2387075424194336\n",
      "Epoch: 151, Loss: 1.236981987953186\n",
      "Epoch: 161, Loss: 1.2356959581375122\n",
      "Epoch: 171, Loss: 1.2348021268844604\n",
      "Epoch: 181, Loss: 1.2333331108093262\n",
      "Epoch: 191, Loss: 1.2323907613754272\n",
      "Epoch: 201, Loss: 1.2305434942245483\n"
     ]
    },
    {
     "name": "stderr",
     "output_type": "stream",
     "text": [
      "\n",
      "KeyboardInterrupt\n",
      "\n"
     ]
    }
   ],
   "source": [
    "the_model.train(examples[:200], epochs_per_train=400, report_every=10)"
   ],
   "metadata": {
    "collapsed": false,
    "pycharm": {
     "name": "#%%\n"
    }
   }
  },
  {
   "cell_type": "code",
   "execution_count": 56,
   "outputs": [
    {
     "name": "stdout",
     "output_type": "stream",
     "text": [
      "(1, 17, 17, 3)\n",
      "n=360\n",
      "Next to play: BLACK\n",
      "Value from BLACK's point of view: 0.05641575883880673\n",
      "value = 0.05641575883880673\n",
      "Next to play: BLACK\n",
      "Value from BLACK's point of view: [[0.04328685]]\n",
      "value = [[0.04328685]]\n"
     ]
    },
    {
     "data": {
      "text/plain": "<Figure size 576x576 with 1 Axes>",
      "image/png": "[encoded data removed]"
     },
     "metadata": {
      "needs_background": "light"
     },
     "output_type": "display_data"
    },
    {
     "data": {
      "text/plain": "<Figure size 576x576 with 1 Axes>",
      "image/png": "[encoded data removed]"
     },
     "metadata": {
      "needs_background": "light"
     },
     "output_type": "display_data"
    }
   ],
   "source": [
    "n = random.randint(0, 400)\n",
    "sample = np.expand_dims(examples[n][0], axis=0).astype(float)\n",
    "print(sample.shape)\n",
    "p_, v_ = the_model.policy(sample)\n",
    "s, p, v = examples[n]\n",
    "example = (s, list(p_.numpy()), v_)\n",
    "print(f\"n={n}\")\n",
    "analyse_example(BOARD_SIZE, examples[n])\n",
    "print(f\"value = {v}\")\n",
    "analyse_example(BOARD_SIZE, example)\n",
    "print(f\"value = {v_}\")"
   ],
   "metadata": {
    "collapsed": false,
    "pycharm": {
     "name": "#%%\n"
    }
   }
  },
  {
   "cell_type": "code",
   "execution_count": null,
   "outputs": [],
   "source": [],
   "metadata": {
    "collapsed": false,
    "pycharm": {
     "name": "#%%\n"
    }
   }
  }
 ],
 "metadata": {
  "kernelspec": {
   "display_name": "Python 3",
   "language": "python",
   "name": "python3"
  },
  "language_info": {
   "codemirror_mode": {
    "name": "ipython",
    "version": 2
   },
   "file_extension": ".py",
   "mimetype": "text/x-python",
   "name": "python",
   "nbconvert_exporter": "python",
   "pygments_lexer": "ipython2",
   "version": "2.7.6"
  }
 },
 "nbformat": 4,
 "nbformat_minor": 0
}