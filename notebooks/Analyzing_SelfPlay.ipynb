{
 "cells": [
  {
   "cell_type": "markdown",
   "source": [
    "# Analyzing Selfplay Data"
   ],
   "metadata": {
    "collapsed": false,
    "pycharm": {
     "name": "#%% md\n"
    }
   }
  },
  {
   "cell_type": "code",
   "execution_count": 11,
   "outputs": [
    {
     "name": "stdout",
     "output_type": "stream",
     "text": [
      "The autoreload extension is already loaded. To reload it, use:\n",
      "  %reload_ext autoreload\n"
     ]
    }
   ],
   "source": [
    "%load_ext autoreload\n",
    "%autoreload 2"
   ],
   "metadata": {
    "collapsed": false,
    "pycharm": {
     "name": "#%%\n"
    }
   }
  },
  {
   "cell_type": "code",
   "execution_count": 52,
   "outputs": [],
   "source": [
    "from aegomoku.gomoku_board import GomokuBoard\n",
    "from aegomoku.game_data import read_training_data\n",
    "from aegomoku.utils import analyse_example, stones_from_example\n",
    "from pathlib import Path\n",
    "\n",
    "import os"
   ],
   "metadata": {
    "collapsed": false,
    "pycharm": {
     "name": "#%%\n"
    }
   }
  },
  {
   "cell_type": "markdown",
   "source": [
    "# The Data"
   ],
   "metadata": {
    "collapsed": false,
    "pycharm": {
     "name": "#%% md\n"
    }
   }
  },
  {
   "cell_type": "code",
   "execution_count": 53,
   "outputs": [
    {
     "name": "stdout",
     "output_type": "stream",
     "text": [
      "/home/wgiersche/workspace/Project-Ellie/DATA/selfplay/0/scylla\n",
      "['00005.pickle', '00011.pickle', '00003.pickle', '00009.pickle', '00000.pickle', '00007.pickle', '00010.pickle', '00012.pickle', '00006.pickle', 'gameplay_params.yaml', '00008.pickle', '00001.pickle', '00002.pickle', '00004.pickle']\n"
     ]
    }
   ],
   "source": [
    "PHASE = '0'\n",
    "HOST = os.uname()[1]\n",
    "SELFPLAY_DATA=Path.home() / 'workspace/Project-Ellie/DATA/selfplay' / PHASE / HOST\n",
    "print(SELFPLAY_DATA)\n",
    "print(os.listdir(SELFPLAY_DATA))"
   ],
   "metadata": {
    "collapsed": false,
    "pycharm": {
     "name": "#%%\n"
    }
   }
  },
  {
   "cell_type": "code",
   "execution_count": 54,
   "outputs": [
    {
     "data": {
      "text/plain": "'/home/wgiersche/workspace/Project-Ellie/DATA/selfplay/0/scylla/00010.pickle'"
     },
     "execution_count": 54,
     "metadata": {},
     "output_type": "execute_result"
    }
   ],
   "source": [
    "a_pickle = SELFPLAY_DATA / '00010.pickle'\n",
    "filename = a_pickle.as_posix()\n",
    "filename"
   ],
   "metadata": {
    "collapsed": false,
    "pycharm": {
     "name": "#%%\n"
    }
   }
  },
  {
   "cell_type": "code",
   "execution_count": 55,
   "outputs": [
    {
     "data": {
      "text/plain": "(6984, 3, (21, 21, 3))"
     },
     "execution_count": 55,
     "metadata": {},
     "output_type": "execute_result"
    }
   ],
   "source": [
    "examples, games = read_training_data(filename)\n",
    "len(examples), len(examples[0]), examples[0][0].shape"
   ],
   "metadata": {
    "collapsed": false,
    "pycharm": {
     "name": "#%%\n"
    }
   }
  },
  {
   "cell_type": "code",
   "execution_count": 56,
   "outputs": [
    {
     "name": "stdout",
     "output_type": "stream",
     "text": [
      "P400 begins with black\n",
      "[K9, J8, H10, I8, K8, K10, J9, L9, I10, L7, G12, H11, L8, M8, J11, K6, H9, G8, L13, K12, G9, I9, F8, I11, O10, O6, N7, N6, M6, L5, M4, I4, J5, M5, K7, I5, I6, K14, G10, K13, K11, G11, F10, E11, E10]\n",
      "P200 begins with black\n",
      "[L12, I11, I8, K8, L11, L14, K13, J14, K14, K15, M13, I13, H12, I12, I9, I14, I10, I15]\n",
      "P400 begins with black\n",
      "[H10, J10, K9, I10, L10, J8, J9, I9, K11, I11, J12, I13, I12, I8, I7, K8, N8, M9, H8, M8, L8, H12, F10, F14, G13, M7, G9, M10, E11]\n",
      "P200 begins with black\n",
      "[I11, K12, L12, J10, L11, L13, J11, K11, K10, M12, N11, M8, M11, P11, K13, J14, J12, L14, H10, G9, O9, N10, O10, O11, L8, L9, O6, O7, N12, L10, N8, Q11, N15, N14, O13, K14, M14, H14, I14, J15, I16, P14, I15, I13, G11, I9, J9, I8, H11, F11, H9, H8, G7, H12, I10, K15, L16, K8, G8, F7, I17, I18, F13, G12, F10, E10, H13, I12, E12, J16, G14, H15, C10, D11, J17, C8, D9, H17, H16, G16, F15, G15, F16, F17]\n",
      "P400 begins with black\n",
      "[J8, L10, K10, L8, L9, M8, K8, M10, K9, K7, M9, N9, K12, K11, I9, J9, L7, J11, G11, J12, F12, H10, J13, I13, H14, L11, I11, P7, O8, M11, N11, O10, P11, P10, N10, N12, O11, O13, P14, P12, Q11, R11, O12, Q10, M14, N13, N14, O14, P13, P15, M12, L13, M13, L14, L12, M15, O15, P16, Q14, R15, N16, R12, M17, L18, Q13]\n",
      "P200 begins with black\n",
      "[H8, J8, H9, K8, H6, H5, H10, H7, H11, H12, J7, I8, G6, M8, L8, I6, G8, I10, I9, J9, J10, L11, K10, G7, L12, K11, L7, F7, I7, E7, D7, M7, M10, L10, M11, M9, J12, M6, M5, O7, N8, J6, L6, L5, N7, N9, O9, N10, N12, K12, K13, M14, I11, L14, G9]\n",
      "P400 begins with black\n",
      "[J9, H11, H12, K10, K9, L9, J10, L8, J11, J8, J13, J12, I11, G13, L11, K11, K12, M10, H15, I14, H14, H13, K8, L7, L10, K7, I9, I7, G9, H9, J7, L5, L6, H8, H10, F8, I8, E13, I10, I12, G10, F10, F13, G14, M14, L13, G8, G11, G7, G6, G15, F15, E16, J15, K16, K14, H17, M12, I16, N11]\n",
      "P200 begins with black\n",
      "[I11, K10, H12, J11, I12, J10, I10, I9, J12, L12, G12, K12, F12]\n",
      "P400 begins with black\n",
      "[H10, L11, I12, K8, K10, L9, L10, I10, M10, H11, N10, G12, O10]\n",
      "P200 begins with black\n",
      "[L9, L12, H8, I11, I12, J11, H11, J13, J12, H12, K9, N9, K11, K12, H9, M10, L11, J9, H7, H10, J10, I9, K7, I7, K10, K8, I8, F8, H6, H5, J7, E7, G9, K6, G10, F11, F9, E8, E9, D9, G6, G8, E4, F5, L7, F6, L8, L10, M7, N6, N7]\n",
      "P400 begins with black\n",
      "[K10, L10, K9, K12, K11, K7, L11, M12, M11, J11, N11, O11, L12, N10, M9, L13, I10, N15, M14, M10, O10, J9, J10, M13, I9, H8, H10, G10, K13, L14, J14, I15, K15, L16, L15, N13, I11, G13, L8, G11, M7]\n",
      "P200 begins with black\n",
      "[J10, H8, J11, I12, J12, J13, J8, J9, H11, I11, I10, H9, H10, K10, I9, K7, F12, G11, F10, G10, F11, F13, F8, F9, I8, G9, I7, I6, G12, D9, E9, G7, G8, K9, K8, H13, L8, M8, G13, I15, I13, K11, K12, E8, L13, M14, M12, K14, L12, N12, L15, L14, J14, N14, O14, K15, M13, N13, N11, L9, O10, P9, M9, O6, N7, M11, O13, O12, N15, Q10, P11, Q12, P12, Q11, N10, O11, N8, N9, Q13, G15, P10, P13, H6, J15]\n",
      "P400 begins with black\n",
      "[K10, J9, I10, J12, J10, H10, L10, M10, I11, I9, K9, H12, M7, L8, J8, M11, H6, I7, K12, K11, H9, J11, L11, M12, M9, M14, M13, I13, J13, I14, L14, K15, L13, L12, K13, N13, L16, L15, K16, G11, J14, I15, L9, I16, I12, J15, M15, H15]\n",
      "P200 begins with black\n",
      "[J8, K12, K10, H9, J11, I12, J12, J9, L9, J13, L11, H11, G10, H10, H8, L15, K14, K8, L7, G12, I10, H12, H13, E12, F12, L8, M8, N7, J10, I9, G9, E11, G11, E13, E10, G8, K6, N9, J5, I4, N10, M10, J6, I7, J4, J7, I6, H6, J3, J2, M6, L6, H7, N5, L3, K4, N8, O8, Q6, N3, N6, O6, M4, M5, K3, I3, I5, G5, H4, G3, L2, M1, L5, L1, H5, K5, G4, F4, E3, F3, H2, H1, F5, E6]\n",
      "P400 begins with black\n",
      "[I8, L11, H10, J11, I11, J12, J10, I10, H12, H9, K9, L8, G13]\n",
      "P200 begins with black\n",
      "[K11, J12, J8, K8, J7, J9, L7, K7, K6, I8, L11, J11, J13, K12, L12, L13, I9, I10, H9, M14]\n",
      "P400 begins with black\n",
      "[L11, I10, J11, J8, I11, K11, H11, G11, H10, G9, H12, H9, H14, H13, G13, K9, F14, J10, E15]\n",
      "P200 begins with black\n",
      "[H10, H9, L12, H8, G9, F8, G8, G7, I9, E9, D10, I5, H6, G11, F10, G10, F11, E10, E11, G13, C13, D12, G12, F14, I11, I8, K13, J12, K6, I6, I4, C11, E13, E15, H12, C17, D16, L8, J8, K7, J6, J7, I7, G5, L10, K9, J5, L7, N6, N7, M7, L6, L9, L4, L5, L13, N10, J14, J15, I14, H14, K10, H13, H11, H15, H16, K11, J10, J11, L11, I12, I10, F15, G14, G15, I15, F12, E12, F13, F9, B13, D13, C9, B8]\n",
      "P400 begins with black\n",
      "[J11, K11, J9, H8, J10, J8, J12, J13, I8, H7, H9, K12, K9, I9, L11, K10, K13, H10, K7, F12, G11, F11, L8, I11, H4, J6, N6, M7, K6, J7, K5, K8, K4, K3, J4, G4, L9, H5, I6, L12, L7, L10, L4, I4, L6, L5, M9, N9, N10, O11, M4, N4, I3, H2, M6, O6, F7, I10, I13, F10, F13, G10, E10, F9, F8, H11, I12, E8, D7, F6, G7, E7, H6, I5, E9, D10, E11, E12, G5, G9, I7, F4, J2, K1]\n",
      "P200 begins with black\n",
      "[L8, L12, L10, I8, L11, L7, M11, N12, K11, N11, I11, J11, N8, J12, K12, J10, J13, J8, J9, N9, O7, M9, N13, M12, K14, K13, M8, K8, M10, I14, O8, P8, O10, O12, P12, O11, P10, N10, O9, L14, Q11, M7, O6]\n"
     ]
    }
   ],
   "source": [
    "BOARD_SIZE = 19\n",
    "board = GomokuBoard(BOARD_SIZE)\n",
    "for game in games:\n",
    "    print(f\"{game[0]} begins with black\")\n",
    "    print([board.Stone(i) for i in game[1]])"
   ],
   "metadata": {
    "collapsed": false,
    "pycharm": {
     "name": "#%%\n"
    }
   }
  },
  {
   "cell_type": "markdown",
   "source": [],
   "metadata": {
    "collapsed": false,
    "pycharm": {
     "name": "#%% md\n"
    }
   }
  },
  {
   "cell_type": "markdown",
   "source": [
    "---"
   ],
   "metadata": {
    "collapsed": false,
    "pycharm": {
     "name": "#%% md\n"
    }
   }
  },
  {
   "cell_type": "markdown",
   "source": [
    "## Data Verification\n",
    "We have records from those games in 8 symmetries. Now we skim through a good chunk of training records to check whether it makes sense (to some degree)."
   ],
   "metadata": {
    "collapsed": false,
    "pycharm": {
     "name": "#%% md\n"
    }
   }
  },
  {
   "cell_type": "code",
   "execution_count": 27,
   "outputs": [
    {
     "name": "stdout",
     "output_type": "stream",
     "text": [
      "264\n"
     ]
    }
   ],
   "source": [
    "import random\n",
    "n = random.randint(0, len(examples))\n",
    "print(len(examples))"
   ],
   "metadata": {
    "collapsed": false,
    "pycharm": {
     "name": "#%%\n"
    }
   }
  },
  {
   "cell_type": "markdown",
   "source": [
    "## Compare with the original policy's estimate"
   ],
   "metadata": {
    "collapsed": false,
    "pycharm": {
     "name": "#%% md\n"
    }
   }
  },
  {
   "cell_type": "code",
   "execution_count": 50,
   "outputs": [
    {
     "name": "stdout",
     "output_type": "stream",
     "text": [
      "191\n",
      "Next to play: BLACK\n",
      "Value from BLACK's point of view: -0.035102084279060364\n",
      "([217, 235, 199, 218, 183, 200, 182, 184, 181, 179, 180, 145, 163, 140], 'BLACK')\n",
      "Next to play: BLACK\n",
      "Value from BLACK's point of view: -0.08172758668661118\n"
     ]
    },
    {
     "data": {
      "text/plain": "<Figure size 600x600 with 1 Axes>",
      "image/png": "[encoded data removed]"
     },
     "metadata": {},
     "output_type": "display_data"
    },
    {
     "data": {
      "text/plain": "<Figure size 600x600 with 1 Axes>",
      "image/png": "[encoded data removed]"
     },
     "metadata": {},
     "output_type": "display_data"
    }
   ],
   "source": [
    "n = random.randint(0, len(examples))\n",
    "#n = 4688\n",
    "print(n)\n",
    "example = examples[n]\n",
    "s, p, v = example\n",
    "analyse_example(example, policy_cutoff=1, disp_width=6)\n",
    "print(stones_from_example(example))\n",
    "# print(list(example[1]))\n",
    "from aegomoku.policies.topological_value import TopologicalValuePolicy\n",
    "\n",
    "policy = TopologicalValuePolicy(kappa_s=6, kappa_d=5)\n",
    "p, v = policy.evaluate(s)\n",
    "analyse_example((s, p, v), policy_cutoff=1, disp_width=6)"
   ],
   "metadata": {
    "collapsed": false,
    "pycharm": {
     "name": "#%%\n"
    }
   }
  },
  {
   "cell_type": "code",
   "execution_count": 169,
   "outputs": [
    {
     "data": {
      "text/plain": "((361,), numpy.ndarray)"
     },
     "execution_count": 169,
     "metadata": {},
     "output_type": "execute_result"
    }
   ],
   "source": [
    "p.shape, type(p)"
   ],
   "metadata": {
    "collapsed": false,
    "pycharm": {
     "name": "#%%\n"
    }
   }
  },
  {
   "cell_type": "code",
   "execution_count": null,
   "outputs": [],
   "source": [],
   "metadata": {
    "collapsed": false,
    "pycharm": {
     "name": "#%%\n"
    }
   }
  },
  {
   "cell_type": "code",
   "execution_count": null,
   "outputs": [],
   "source": [],
   "metadata": {
    "collapsed": false,
    "pycharm": {
     "name": "#%%\n"
    }
   }
  },
  {
   "cell_type": "code",
   "execution_count": null,
   "outputs": [],
   "source": [],
   "metadata": {
    "collapsed": false,
    "pycharm": {
     "name": "#%%\n"
    }
   }
  },
  {
   "cell_type": "code",
   "execution_count": null,
   "outputs": [],
   "source": [],
   "metadata": {
    "collapsed": false,
    "pycharm": {
     "name": "#%%\n"
    }
   }
  },
  {
   "cell_type": "code",
   "execution_count": null,
   "outputs": [],
   "source": [],
   "metadata": {
    "collapsed": false,
    "pycharm": {
     "name": "#%%\n"
    }
   }
  },
  {
   "cell_type": "code",
   "execution_count": 166,
   "outputs": [
    {
     "name": "stdout",
     "output_type": "stream",
     "text": [
      "[[ 0  0  0  0  0  0  0  0  0  0  0  0  0  0  0  0  0  0  0]\n",
      " [ 0  0  0  0  0  0  0  0  0  0  0  0  0  0  0  0  0  0  0]\n",
      " [ 0  0  0  0  0  0  0  0  0  0  0  0  0  0  0  0  0  0  0]\n",
      " [ 0  0  0  0  0  0  0  0  0  0  0  0  0  0  0  0  0  0  0]\n",
      " [ 0  0  0  0  0  0  0  0  0  0  0  0  0  0  0  0  0  0  0]\n",
      " [ 0  0  0  0  0  0  0  0  0  0  0  0  0  0  0  0  0  0  0]\n",
      " [ 0  0  0  0  0  0  0  0  1  0  0  0  1  0  0  0  0  0  0]\n",
      " [ 0  0  0  0  0  0  2  0  0  0  0  2  0  0  2  0  0  0  0]\n",
      " [ 0  0  0  0  0  0  0  0  0  0  8  0  0  7  0  0  0  0  0]\n",
      " [ 0  0  0  0  0  0  0  1  0  0  0  0  0  0  0  2  0  0  0]\n",
      " [ 0  0  0  0  0  0  0  0  0  0  0  0  0  1 20  0  0  0  0]\n",
      " [ 0  0  0  0  0  0  0  4  0  0 16  0  0  0  1  0  0  0  0]\n",
      " [ 0  0  0  0  0  0  2  0  2 24  0 99  0  0  0  0  0  0  0]\n",
      " [ 0  0  0  0  0  0  0  0  0  1  6  3  5 13  0  0  0  0  0]\n",
      " [ 0  0  0  0  0  0  0  0  0  0  1  5  0  0  1  0  0  0  0]\n",
      " [ 0  0  0  0  0  0  0  0  0  1  0  0  0  0  0  0  0  0  0]\n",
      " [ 0  0  0  0  0  0  0  0  0  0  0  0  0  0  0  0  0  0  0]\n",
      " [ 0  0  0  0  0  0  0  0  0  0  0  0  0  0  0  0  0  0  0]\n",
      " [ 0  0  0  0  0  0  0  0  0  0  0  0  0  0  0  0  0  0  0]]\n"
     ]
    }
   ],
   "source": [
    "import numpy as np\n",
    "print((p.reshape((19, 19))*99 / np.max(p)).astype(int))"
   ],
   "metadata": {
    "collapsed": false,
    "pycharm": {
     "name": "#%%\n"
    }
   }
  },
  {
   "cell_type": "code",
   "execution_count": 172,
   "outputs": [
    {
     "name": "stdout",
     "output_type": "stream",
     "text": [
      "[O9, K8, J7, L7, N6]\n"
     ]
    },
    {
     "data": {
      "text/plain": "[204, 219, 237, 239, 260]"
     },
     "execution_count": 172,
     "metadata": {},
     "output_type": "execute_result"
    }
   ],
   "source": [
    "advisable = policy.get_advisable_actions(s, cut_off=.1, percent_secondary=0, min_secondary=0)\n",
    "print([board.Stone(i) for i in advisable])\n",
    "advisable"
   ],
   "metadata": {
    "collapsed": false,
    "pycharm": {
     "name": "#%%\n"
    }
   }
  },
  {
   "cell_type": "code",
   "execution_count": null,
   "outputs": [],
   "source": [],
   "metadata": {
    "collapsed": false,
    "pycharm": {
     "name": "#%%\n"
    }
   }
  },
  {
   "cell_type": "code",
   "execution_count": null,
   "outputs": [],
   "source": [],
   "metadata": {
    "collapsed": false,
    "pycharm": {
     "name": "#%%\n"
    }
   }
  },
  {
   "cell_type": "code",
   "execution_count": null,
   "outputs": [],
   "source": [],
   "metadata": {
    "collapsed": false,
    "pycharm": {
     "name": "#%%\n"
    }
   }
  },
  {
   "cell_type": "code",
   "execution_count": null,
   "outputs": [],
   "source": [],
   "metadata": {
    "collapsed": false,
    "pycharm": {
     "name": "#%%\n"
    }
   }
  },
  {
   "cell_type": "code",
   "execution_count": null,
   "outputs": [],
   "source": [],
   "metadata": {
    "collapsed": false,
    "pycharm": {
     "name": "#%%\n"
    }
   }
  },
  {
   "cell_type": "code",
   "execution_count": null,
   "outputs": [],
   "source": [],
   "metadata": {
    "collapsed": false,
    "pycharm": {
     "name": "#%%\n"
    }
   }
  },
  {
   "cell_type": "code",
   "execution_count": 171,
   "outputs": [
    {
     "ename": "ValueError",
     "evalue": "Not a valid move: (2, -118). Beyond board boundary.",
     "output_type": "error",
     "traceback": [
      "\u001B[0;31m---------------------------------------------------------------------------\u001B[0m",
      "\u001B[0;31mValueError\u001B[0m                                Traceback (most recent call last)",
      "Input \u001B[0;32mIn [171]\u001B[0m, in \u001B[0;36m<cell line: 1>\u001B[0;34m()\u001B[0m\n\u001B[0;32m----> 1\u001B[0m \u001B[43manalyse_example\u001B[49m\u001B[43m(\u001B[49m\u001B[43m(\u001B[49m\u001B[43ms\u001B[49m\u001B[43m,\u001B[49m\u001B[43m \u001B[49m\u001B[43madvisable\u001B[49m\u001B[43m,\u001B[49m\u001B[43m \u001B[49m\u001B[43mv\u001B[49m\u001B[43m)\u001B[49m\u001B[43m,\u001B[49m\u001B[43m \u001B[49m\u001B[43mpolicy_cutoff\u001B[49m\u001B[38;5;241;43m=\u001B[39;49m\u001B[38;5;241;43m0.01\u001B[39;49m\u001B[43m,\u001B[49m\u001B[43m \u001B[49m\u001B[43mdisp_width\u001B[49m\u001B[38;5;241;43m=\u001B[39;49m\u001B[38;5;241;43m5\u001B[39;49m\u001B[43m)\u001B[49m\n",
      "File \u001B[0;32m~/workspace/Project-Ellie/DeepGomoku/aegomoku/utils.py:55\u001B[0m, in \u001B[0;36manalyse_example\u001B[0;34m(example, disp_width, policy_cutoff)\u001B[0m\n\u001B[1;32m     53\u001B[0m board_size \u001B[38;5;241m=\u001B[39m \u001B[38;5;28mint\u001B[39m(np\u001B[38;5;241m.\u001B[39msqrt(\u001B[38;5;28mlen\u001B[39m(p)))\n\u001B[1;32m     54\u001B[0m stones, current \u001B[38;5;241m=\u001B[39m stones_from_example(example)\n\u001B[0;32m---> 55\u001B[0m \u001B[43manalyse_board\u001B[49m\u001B[43m(\u001B[49m\u001B[43mboard_size\u001B[49m\u001B[43m,\u001B[49m\u001B[43m \u001B[49m\u001B[43mstones\u001B[49m\u001B[43m,\u001B[49m\u001B[43m \u001B[49m\u001B[43mpolicy\u001B[49m\u001B[38;5;241;43m=\u001B[39;49m\u001B[43mp\u001B[49m\u001B[43m,\u001B[49m\u001B[43m \u001B[49m\u001B[43msuppress_move_numbers\u001B[49m\u001B[38;5;241;43m=\u001B[39;49m\u001B[38;5;28;43;01mTrue\u001B[39;49;00m\u001B[43m,\u001B[49m\u001B[43m \u001B[49m\u001B[43mdisp_width\u001B[49m\u001B[38;5;241;43m=\u001B[39;49m\u001B[43mdisp_width\u001B[49m\u001B[43m,\u001B[49m\n\u001B[1;32m     56\u001B[0m \u001B[43m              \u001B[49m\u001B[43mpolicy_cutoff\u001B[49m\u001B[38;5;241;43m=\u001B[39;49m\u001B[43mpolicy_cutoff\u001B[49m\u001B[43m)\u001B[49m\n\u001B[1;32m     57\u001B[0m \u001B[38;5;28mprint\u001B[39m(\u001B[38;5;124mf\u001B[39m\u001B[38;5;124m\"\u001B[39m\u001B[38;5;124mNext to play: \u001B[39m\u001B[38;5;132;01m{\u001B[39;00mcurrent\u001B[38;5;132;01m}\u001B[39;00m\u001B[38;5;124m\"\u001B[39m)\n\u001B[1;32m     58\u001B[0m \u001B[38;5;28mprint\u001B[39m(\u001B[38;5;124mf\u001B[39m\u001B[38;5;124m\"\u001B[39m\u001B[38;5;124mValue from \u001B[39m\u001B[38;5;132;01m{\u001B[39;00mcurrent\u001B[38;5;132;01m}\u001B[39;00m\u001B[38;5;124m'\u001B[39m\u001B[38;5;124ms point of view: \u001B[39m\u001B[38;5;132;01m{\u001B[39;00mv\u001B[38;5;132;01m}\u001B[39;00m\u001B[38;5;124m\"\u001B[39m)\n",
      "File \u001B[0;32m~/workspace/Project-Ellie/DeepGomoku/aegomoku/utils.py:19\u001B[0m, in \u001B[0;36manalyse_board\u001B[0;34m(board_size, stones, policy, suppress_move_numbers, disp_width, policy_cutoff)\u001B[0m\n\u001B[1;32m     16\u001B[0m \u001B[38;5;28;01melse\u001B[39;00m:\n\u001B[1;32m     17\u001B[0m     b2 \u001B[38;5;241m=\u001B[39m stones\n\u001B[0;32m---> 19\u001B[0m lb \u001B[38;5;241m=\u001B[39m \u001B[43mMplBoard\u001B[49m\u001B[43m(\u001B[49m\u001B[43mn\u001B[49m\u001B[38;5;241;43m=\u001B[39;49m\u001B[43mboard_size\u001B[49m\u001B[43m,\u001B[49m\u001B[43m \u001B[49m\u001B[43mdisp_width\u001B[49m\u001B[38;5;241;43m=\u001B[39;49m\u001B[43mdisp_width\u001B[49m\u001B[43m,\u001B[49m\u001B[43m \u001B[49m\u001B[43mstones\u001B[49m\u001B[38;5;241;43m=\u001B[39;49m\u001B[43mb2\u001B[49m\u001B[43m,\u001B[49m\u001B[43m \u001B[49m\u001B[43mpolicy\u001B[49m\u001B[38;5;241;43m=\u001B[39;49m\u001B[43mpolicy\u001B[49m\u001B[43m,\u001B[49m\n\u001B[1;32m     20\u001B[0m \u001B[43m              \u001B[49m\u001B[43msuppress_move_numbers\u001B[49m\u001B[38;5;241;43m=\u001B[39;49m\u001B[43msuppress_move_numbers\u001B[49m\u001B[43m,\u001B[49m\u001B[43m \u001B[49m\u001B[43mpolicy_cutoff\u001B[49m\u001B[38;5;241;43m=\u001B[39;49m\u001B[43mpolicy_cutoff\u001B[49m\u001B[43m)\u001B[49m\n\u001B[1;32m     21\u001B[0m lb\u001B[38;5;241m.\u001B[39mdisplay()\n",
      "File \u001B[0;32m~/workspace/Project-Ellie/DeepGomoku/aegomoku/mpl_board.py:40\u001B[0m, in \u001B[0;36mMplBoard.__init__\u001B[0;34m(self, n, policy, disp_width, stones, suppress_move_numbers, policy_cutoff)\u001B[0m\n\u001B[1;32m     38\u001B[0m     stones \u001B[38;5;241m=\u001B[39m [(s\u001B[38;5;241m.\u001B[39mx, s\u001B[38;5;241m.\u001B[39my) \u001B[38;5;28;01mfor\u001B[39;00m s \u001B[38;5;129;01min\u001B[39;00m stones]\n\u001B[1;32m     39\u001B[0m \u001B[38;5;28;01mfor\u001B[39;00m stone \u001B[38;5;129;01min\u001B[39;00m stones:\n\u001B[0;32m---> 40\u001B[0m     \u001B[38;5;28;43mself\u001B[39;49m\u001B[38;5;241;43m.\u001B[39;49m\u001B[43mset\u001B[49m\u001B[43m(\u001B[49m\u001B[38;5;241;43m*\u001B[39;49m\u001B[43mstone\u001B[49m\u001B[43m)\u001B[49m\n",
      "File \u001B[0;32m~/workspace/Project-Ellie/DeepGomoku/aegomoku/mpl_board.py:73\u001B[0m, in \u001B[0;36mMplBoard.set\u001B[0;34m(self, x, y)\u001B[0m\n\u001B[1;32m     71\u001B[0m     \u001B[38;5;28;01mraise\u001B[39;00m \u001B[38;5;167;01mValueError\u001B[39;00m(\u001B[38;5;124mf\u001B[39m\u001B[38;5;124m\"\u001B[39m\u001B[38;5;124mPosition (\u001B[39m\u001B[38;5;132;01m{\u001B[39;00mx\u001B[38;5;132;01m}\u001B[39;00m\u001B[38;5;124m, \u001B[39m\u001B[38;5;132;01m{\u001B[39;00my\u001B[38;5;132;01m}\u001B[39;00m\u001B[38;5;124m) is occupied.\u001B[39m\u001B[38;5;124m\"\u001B[39m)\n\u001B[1;32m     72\u001B[0m \u001B[38;5;28;01mif\u001B[39;00m \u001B[38;5;129;01mnot\u001B[39;00m \u001B[38;5;28mself\u001B[39m\u001B[38;5;241m.\u001B[39m_is_valid((\u001B[38;5;28mself\u001B[39m\u001B[38;5;241m.\u001B[39mN\u001B[38;5;241m-\u001B[39my, x\u001B[38;5;241m-\u001B[39m\u001B[38;5;241m1\u001B[39m)):\n\u001B[0;32m---> 73\u001B[0m     \u001B[38;5;28;01mraise\u001B[39;00m \u001B[38;5;167;01mValueError\u001B[39;00m(\u001B[38;5;124mf\u001B[39m\u001B[38;5;124m\"\u001B[39m\u001B[38;5;124mNot a valid move: (\u001B[39m\u001B[38;5;132;01m{\u001B[39;00mx\u001B[38;5;132;01m}\u001B[39;00m\u001B[38;5;124m, \u001B[39m\u001B[38;5;132;01m{\u001B[39;00my\u001B[38;5;132;01m}\u001B[39;00m\u001B[38;5;124m). Beyond board boundary.\u001B[39m\u001B[38;5;124m\"\u001B[39m)\n\u001B[1;32m     75\u001B[0m \u001B[38;5;28mself\u001B[39m\u001B[38;5;241m.\u001B[39mstones\u001B[38;5;241m.\u001B[39mappend((x, y))\n\u001B[1;32m     76\u001B[0m \u001B[38;5;28mself\u001B[39m\u001B[38;5;241m.\u001B[39mctoggle()\n",
      "\u001B[0;31mValueError\u001B[0m: Not a valid move: (2, -118). Beyond board boundary."
     ]
    }
   ],
   "source": [
    "analyse_example((s, advisable, v), policy_cutoff=0.01, disp_width=5)"
   ],
   "metadata": {
    "collapsed": false,
    "pycharm": {
     "name": "#%%\n"
    }
   }
  },
  {
   "cell_type": "code",
   "execution_count": null,
   "outputs": [],
   "source": [],
   "metadata": {
    "collapsed": false,
    "pycharm": {
     "name": "#%%\n"
    }
   }
  }
 ],
 "metadata": {
  "kernelspec": {
   "display_name": "Python 3",
   "language": "python",
   "name": "python3"
  },
  "language_info": {
   "codemirror_mode": {
    "name": "ipython",
    "version": 2
   },
   "file_extension": ".py",
   "mimetype": "text/x-python",
   "name": "python",
   "nbconvert_exporter": "python",
   "pygments_lexer": "ipython2",
   "version": "2.7.6"
  }
 },
 "nbformat": 4,
 "nbformat_minor": 0
}