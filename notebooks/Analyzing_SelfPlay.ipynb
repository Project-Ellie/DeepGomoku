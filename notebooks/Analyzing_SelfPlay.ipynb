{
 "cells": [
  {
   "cell_type": "markdown",
   "source": [
    "# Analyzing Selfplay Data"
   ],
   "metadata": {
    "collapsed": false,
    "pycharm": {
     "name": "#%% md\n"
    }
   }
  },
  {
   "cell_type": "code",
   "execution_count": 1,
   "outputs": [],
   "source": [
    "%load_ext autoreload\n",
    "%autoreload 2"
   ],
   "metadata": {
    "collapsed": false,
    "pycharm": {
     "name": "#%%\n"
    }
   }
  },
  {
   "cell_type": "code",
   "execution_count": 2,
   "outputs": [
    {
     "name": "stderr",
     "output_type": "stream",
     "text": [
      "2022-09-12 17:18:28.957415: I tensorflow/core/platform/cpu_feature_guard.cc:193] This TensorFlow binary is optimized with oneAPI Deep Neural Network Library (oneDNN) to use the following CPU instructions in performance-critical operations:  AVX2 FMA\n",
      "To enable them in other operations, rebuild TensorFlow with the appropriate compiler flags.\n"
     ]
    }
   ],
   "source": [
    "from aegomoku.gomoku_board import GomokuBoard\n",
    "from aegomoku.game_data import read_training_data\n",
    "from aegomoku.utils import analyse_example\n",
    "from pathlib import Path\n",
    "\n",
    "import os"
   ],
   "metadata": {
    "collapsed": false,
    "pycharm": {
     "name": "#%%\n"
    }
   }
  },
  {
   "cell_type": "markdown",
   "source": [
    "# The Data"
   ],
   "metadata": {
    "collapsed": false,
    "pycharm": {
     "name": "#%% md\n"
    }
   }
  },
  {
   "cell_type": "code",
   "execution_count": 31,
   "outputs": [
    {
     "name": "stdout",
     "output_type": "stream",
     "text": [
      "['new.pickle']\n"
     ]
    }
   ],
   "source": [
    "PHASE = '0'\n",
    "HOST = os.uname()[1]\n",
    "SELFPLAY_DATA=Path('../DATA/selfplay')\n",
    "print(os.listdir(SELFPLAY_DATA))"
   ],
   "metadata": {
    "collapsed": false,
    "pycharm": {
     "name": "#%%\n"
    }
   }
  },
  {
   "cell_type": "code",
   "execution_count": 32,
   "outputs": [
    {
     "data": {
      "text/plain": "'/Users/wgiersche/workspace/Project-Ellie/DeepGomoku/DATA/selfplay/new.pickle'"
     },
     "execution_count": 32,
     "metadata": {},
     "output_type": "execute_result"
    }
   ],
   "source": [
    "a_pickle = SELFPLAY_DATA / 'new.pickle'\n",
    "filename = a_pickle.resolve().as_posix()\n",
    "filename"
   ],
   "metadata": {
    "collapsed": false,
    "pycharm": {
     "name": "#%%\n"
    }
   }
  },
  {
   "cell_type": "code",
   "execution_count": 33,
   "outputs": [
    {
     "data": {
      "text/plain": "(40, 13264, 3, (21, 21, 3))"
     },
     "execution_count": 33,
     "metadata": {},
     "output_type": "execute_result"
    }
   ],
   "source": [
    "examples, games = read_training_data(filename)\n",
    "len(games), len(examples), len(examples[0]), examples[0][0].shape"
   ],
   "metadata": {
    "collapsed": false,
    "pycharm": {
     "name": "#%%\n"
    }
   }
  },
  {
   "cell_type": "markdown",
   "source": [
    "#### Game Info\n",
    "Player name from `gameplay_params.yaml` and all moves"
   ],
   "metadata": {
    "collapsed": false,
    "pycharm": {
     "name": "#%% md\n"
    }
   }
  },
  {
   "cell_type": "code",
   "execution_count": 34,
   "outputs": [
    {
     "name": "stdout",
     "output_type": "stream",
     "text": [
      "P400_1.5 begins with black\n",
      "[J9, H8, J10, H9, J8, J11, J6, J7, H10, I10, I9, K7, G11, F12, G8, G10, F11, K6, I8, H7, I7, H6, H5, K9, I5, I6, K5, J5, K8, M8, L7, L3, K4, M6, M3, L4, K10, K12, L13, L11, M10, K11, I11, N11, M11, E11, N10, L10, K13, J12, L12, J14, O9]\n",
      "P200_1.0 begins with black\n",
      "[L9, L11, I12, K10, J9, K9, K8, M10, I10, H11, M6, L7, I11, I14, K12, M12, I13, I9, M14, O14, N13, L13, L15, O12, K16, J17, K14, M16, L12, H12, H9, N15, L17, P13, Q12, N11, Q14, O10, P9, N10, L10, Q10, P10, O11, O13, M11, K11, P11]\n",
      "P400_1.5 begins with black\n",
      "[K9, J11, I12, L9, K10, K11, I11, J10, I9, I10, H9, J9, J8, J12, J13, L10, I13, H11, G12, K8, L7, L13, H10, L11, L12, K12, M14, M11, N11, N8, M9, G11, L6, K7, K14, L15, I15, I14, L14, O14, J14, N14, K13, H16, H13, G13, F11, J7, I6, K6, L5, K4, K5, L8, L4, L3, I7, O8, M8, N9, M10, N5, J6, M3, H8]\n",
      "P200_1.0 begins with black\n",
      "[J9, I10, J12, I9, I8, J10, K10, H7, K11, I13, I11, H10, G11, H11, H8, G10, F10, J8, K7, K9, I7, G9, E8, G8, I6, G6, G7, H12, H13, J11, K12, H9, F7, F9, E9, E10, D11, I12, J13, F8, E7, I14, E6, E5, C7, F11, D8]\n",
      "P400_1.5 begins with black\n",
      "[K8, J12, J9, I10, I8, K10, J10, G8, J11, H7, J7, J8, I6, H5, H9, G10, L9, M10, I9, K9, G9, F9, I7, I5, L5, K6, H8, L12, F10, J6, E11]\n",
      "P200_1.0 begins with black\n",
      "[I9, I8, L12, K9, K11, J10, I11, J11, J12, L10, H10, J8, N12, I7, G9, M11]\n",
      "P400_1.5 begins with black\n",
      "[K9, J12, J9, H11, H9, G9, L9, I9, M9, N9, I11, J10, K11, J11, K12, K10, J13, L10, M10, H10, I10, L11, M12, M11, N11, L13, O12, L12, P13]\n",
      "P200_1.0 begins with black\n",
      "[H10, I11, H11, I8, H9, H12, H7, H8, G8, I10, I9, K9, J10, J8, I7, L8, K8, J7, J5, I6, K6, L7, K7, L6, L5, L10, L9, K5, I12, N12, M11, K10, M10, N11, M12, M13, M8, M9, J12, K12, K13, N10, N13, N8, N9, M7, J4, O9]\n",
      "P400_1.5 begins with black\n",
      "[J8, L11, K9, I10, L10, M11, I7, H6, K11, K12, J12, M9, I13, H14, J11, J13, J10, J9, M10, K10, I8, K8, H11, L7, M6, I14, H15, G14, G11, I11, J14, E14, F14, K15, F10, H12, H8, E11, I9, G13, L12]\n",
      "P200_1.0 begins with black\n",
      "[I11, L10, H9, I10, H10, H11, J9, J12, M9, K9, H6, J8, H8, H7, M11, M10, J10, K11, I13, K10, F9, K8, K7, K12]\n",
      "P400_1.5 begins with black\n",
      "[K12, J12, H10, L10, K11, K10, M10, L11, L9, J9, M12, H7, I8, L12, L13, J11, J10, J15, J13, H13, I14, G14, I12, H15, I15, I16, I13, I11, K13, M13, K14, K15, H11, L15, G10]\n",
      "P200_1.0 begins with black\n",
      "[H8, L12, H10, I11, H11, H12, H7, H9, J10, I10, I9, K11, G8, G11, D8, I8, J7, J11, I12, G10, E8, F8, G7, F6, F7, I7, E7, D7, I6, E12, F11, F9, E9, E6, E11, E10, G6, G4, G9, G5, F10, D12, D9, H5, C10]\n",
      "P400_1.5 begins with black\n",
      "[K10, L11, K11, K9, K12, K14, L10, M9, M10, J10, N10, O10, L9, N11, M12, L8, I11, N6, M7, M11, O11, J12, J11, M8, I12, H13, H11, G11, K8, L7, J7, I6, K6, L5, L6, N8, I10, G8, L13, G10, M14]\n",
      "P200_1.0 begins with black\n",
      "[H12, I10, J12, J8, I12, K12, G12, F12, J11, K10, J10, J13, K9, I11, I9, K11, K13, J9, I14, F11, F15, H13, I13, F10, F9, F14, F13, H11, G11, K8, L7, L8, M8, H8, I8, G9, I7, N9, I6, I5, K7, J7, J5, H7, K6, I4, J14, K15, I15, H10, I16]\n",
      "P400_1.5 begins with black\n",
      "[L11, L10, K8, I12, K10, K9, J8, L8, J10, J9, L9, I9, I10, H9, G9, G10, J7, M10, H5, I6, I8, G8, J5, J6, I5, K5, G5, F5, H6, I7, H8, H7, G7, F8, J4, K3, K6, F6, F7, F9, E10, E8, H11, D7, C6, H3, G4, G3, J3, F3, G6, K2, I4]\n",
      "P200_1.0 begins with black\n",
      "[L10, H8, L9, I12, L12, L8, L13, L11, J8, M11, N11, M10, M12, K14, K12, N12, O10, P9, J11, M14, H9, I10, L15, L14, N14, J14, I14, M13, K15, O11, P10, M15, I9, K7, J9, M9, K9]\n",
      "P400_1.5 begins with black\n",
      "[H9, I8, K9, K12, I9, J9, H7, H8, G8, I10, K8, K10, J10, M12, L11, L12, J12, O12, N12, J11, L9, I6, M11, L10, M10, N11, I11, K13, H12, G13, L8]\n",
      "P200_1.0 begins with black\n",
      "[L11, H11, K11, H12, H14, I13, J14, I14, I11, I15, I12, I16, I17, H10, H8, H13, H9, J13, K13, G13, F13, K12, J11, M11, H15, I9, J8, F11, G12, D11, E11, F10, E9, E10, I10, G8, F9, D10, G10, D9, D8, C8, B7, B10, C10, D12, D13, E13, C11, F12, G11, C12, H16, E12, B12, B13, A14, H17, F14, E14, E15, G15, D14, C13, F15, F17, D15, D17, C15, B15, G17, C17, E17, B14, E18, B17, B16, J15, G18, L13, K14, K16, L17, M14]\n",
      "P400_1.5 begins with black\n",
      "[I12, J8, H10, L10, H6, H8, I8, I7, J6, M11, K9, I6, I5, G7, I9, K7, I11, I10, H7, G9, G6, K10, J10, M7, H12, L8, G13]\n",
      "P200_1.0 begins with black\n",
      "[L12, H8, H11, I11, H12, H10, J12, I12, I13, G11, I9, K11, G9, H9, M11, H6, H7, K13, K12, N12, K15, J14, H14, H13, G15, F16, I15, J15, J16, F12, F15, E13, D14, G13, D13, E15, E14, G14, G16, G10, H17]\n",
      "P400_1.5 begins with black\n",
      "[I8, L10, K8, L9, L8, J8, K9, J10, K10, K11, K7, K6, M9, J6, J9, L11, O11, N10, G6, H7, M6, L7, M8, M7, N8, O8, M11, M10, I9, N9, I7, P7]\n",
      "P200_1.0 begins with black\n",
      "[J12, H10, K11, K9, L10, M9, H14, I13, L9, L8, J10, N10, O11, J6, K7, L12, M11, N11, N12, P10, P14, O13, M10, I10, I11, J11, M14, M13, N14, O14, N13, N15, O12, P11, L15, K16, Q12, P12, P13, O10, K14, J14, K13, K12, L14, M15, L13, L16, H12, K15, M17, M16, N16, O15, I16, P15, Q15, O17, O16, K18, L17, M12, K17, P9, Q8, P8]\n",
      "P400_1.5 begins with black\n",
      "[J9, J10, K11, L12, K10, K9, L11, M12, H7, I8, M11, J11, N11, O11, K12, J13, K14, K13, J14, L14, I13, H12, I11, J12, I12, I14, I9, I10, H9, H10, G9, F9, F10, K15, N12, N13, O13, L13, M13, L16, L15, M15, N16, P14, H8, I7, H6, H5, D12, E11, I5, O14, N14, Q16, P15, N18, M17, P12, N10, N9, O9, P8, P10, M7, L8, L7, K7, J6, O10, M10, R10, Q10, O7, O8, N8, M9, R12, Q11, R11, R9, R14, R13, M8, P7]\n",
      "P200_1.0 begins with black\n",
      "[L8, L10, I12, J12, I13, I11, K13, J13, J14, H12, M11, L12, M9, M12, K12, P12, K9, K10, J9, L9, J10, L13, L11, N11, K14, M10, J7, N10, J8, O10]\n",
      "P400_1.5 begins with black\n",
      "[I8, K10, K11, I10, J10, I9, I11, J11, H9, K9, K6, G10, J7, L5, J9, J8, H10, H6, I7, K7, H11, H12, H7, H8, G7, F7, G6, F5, F8, G9, L6, G11, G8, G5, J5, M8, I6, I12, K4]\n",
      "P200_1.0 begins with black\n",
      "[I10, L9, K8, L10, L7, J9, K9, K10, I8, M8, N7, I12, J11, L11, L13, L8, L12, M12, N13, K12, J13, K13, K11, J10, N10, N9, O8, P9, O9, M11, M13, M10, M9, P13, N11, N12, P12, O13, P14, Q13, O15, N14, O10, S13, R13, O11, J7, M7, M6, J12, I11, H12, G12, H11, H9, G10, G8, F7, E8, H8, I9, I7, G9, M15, F9, E9, L16, L14, N16, H7, E7, H10, L5, K4, K6]\n",
      "P400_1.5 begins with black\n",
      "[J10, I10, H8, I12, I9, K11, F6, G7, I11, H12, J12, J11, H9, L9, K10, G9, G8, F8, H6, H10, D6, G6, H7, H5, I6, F9, J5, K4, F7, D5, L11, J9, K8, K9, J8, I8, N9, G5, F5, G4, G3, F3, J13, K12, L13, K13, K14, C6, E4, E2, D1, J4, I4, K6, K7, L6, I3, I5, K3, L7, L8, N8, J3, H3, L3, M3, L10, M7, K5, O9, P10, N10, L12, L14, P7, M4, O8, M10, M5, L5, J7, L4, N4, N3]\n",
      "P200_1.0 begins with black\n",
      "[K12, J8, I10, H11, J11, H9, H10, G10, I12, I8, E12, J7, F11, K6]\n",
      "P400_1.5 begins with black\n",
      "[I9, H10, J12, K8, J9, H9, H8, J10, I10, H11, H12, I12, J13, I8, J7, J8, E8, L8, M8, K9, M7, K7, K6, K11, K10, M9, J6, I7, H6, I6, I4, J11, L7, J5, L11, L10, M11, O11, N10, O7, N8, O9, N9, O10, O8, G11, I11, O13, O12, N6, P8, Q8, N11, N12, N7]\n",
      "P200_1.0 begins with black\n",
      "[L8, I11, L10, L9, M9, K11, M11, M10, K8, M8, H11, K10, I12, J11, N7, K9, K12, J9, J12, H12, M12, L12, I8, I9, H9, H8, J10, M13, K7, J6, O11, N10, J7, N11, L7, M7, I7, H7, K6, N8, K5, K4, L5]\n",
      "P400_1.5 begins with black\n",
      "[K10, J8, K12, I8, K8, K9, L10, J10, J11, G8, L8, L9, H9, H8, F8, K11, I9, J9, M9, J6, J7, G9, I7, G7, G10, G5, G6, I10, K7, H7, I6, H5, H6, F6, O11, N10, I5, I3, H4, D4, E5, M7, K5, K6, E7, N8, N9, O9, P10, L12, M11, M13, N14, E6, D6, C5, G3, F4, F2, E1, F9, H11, G12, F7, F3, D5, C4, E3, D2, A7, B6, G13, H12, I12, J13, I14, L11, M10, N11, P11, I13, F10, D12, F12]\n",
      "P200_1.0 begins with black\n",
      "[K12, J12, H11, J8, J11, I11, K13, I10, K10, K11, I12, M8, L9, H13, L10, L8, K8, K9, J10, M10, M9, N8, N9, O8, P8, O9, O7, N6, M7, N7, N5, M6, P9, L5, K4, P6, O6, P10, M4, L3, L4, N4, I4, J4, O5, O3, M5, Q5, Q8, P7, O10, N11, Q11, K3, M3, M1, N2, L2, I5, J6, K5, O1, K6, K7, J5, H3, G5, H5, I3, I2, I7, I6, H4, F6, J2, K1, H6, F4, F8, G7, F2, G3, E5, F5]\n",
      "P400_1.5 begins with black\n",
      "[K8, L9, J9, I10, L7, N5, K10, I8, K6, K9, J5, M8, I4, H3, I6, I7, H6, J6, K5, I9, I11, K7, I5, M5, H5, L5, G5]\n",
      "P200_1.0 begins with black\n",
      "[L8, J12, J10, H10, I11, H12, M7, K9, H11, I12, G12, L12, K12, G11, F12, F10, I10, J9, I9, E9, I8, I13]\n",
      "P400_1.5 begins with black\n",
      "[L10, I10, H8, I12, I13, J12, H12, J14, J13, K13, H10, H11, F13, H13, L12, L9, K10, L14, I11, F15, G14, K8, J9, M10, J7, O12, N11, H15, E15, F14, K14, J15, G15, G12, F11, K16, I14, L15, N13, I15, K15, G17, H16, N16, M15, M12, N12, M11, N10, N9, N14]\n",
      "P200_1.0 begins with black\n",
      "[H12, I9, I12, K9, L9, F12, G11, F10, F11, E11, G9, G13, H14, C9, D10, H13, I13, K11, K15, J14, K12, L12, I15, M13, J10, I14, G12, J12, J15, L15, G10, G8, D13, E12, H15, G15, D12, D11, E10, C8, C10, K14, A10, B10, M14, L13, L14, N14, O15, K10, K8, N11, E14, B11, A11, G16, G14, F14, F13, D15, H11, I10, E8, F9, J11, I11, I8, H9, E6, E7, I16, J17, F6, I6, I17, I18, H18, G19, J16]\n",
      "P400_1.5 begins with black\n",
      "[K8, I11, H8, H9, I8, J8, G8, F8, G9, F10, G7, G6, G11, G10, F6, J10, E5, I9, D4]\n",
      "P200_1.0 begins with black\n",
      "[I12, J11, K8, I11, H11, J13, J9, I10, H9, I9, I8, L11, H8, K11, M11, I14, H10, H12, H7]\n",
      "P400_1.5 begins with black\n",
      "[J12, L9, L10, I11, K11, M9, I13, H14, K9, M11, K8, K10, M8, L8, K7, H13, I12, H12, H11, L7, K6, K5, L6, M12, M13, J9, I8, N13, L11, J10, J8, H10, M5, I9, N4]\n",
      "P200_1.0 begins with black\n",
      "[H10, H9, L9, L10, M9, K9, M11, M10, N10, L8, J10, G10, J7, J8, I7, K8, I8, N8, M8, K7, K10, K6, K5, N7, I9, I5, I10, I6, I11]\n"
     ]
    }
   ],
   "source": [
    "BOARD_SIZE = 19\n",
    "board = GomokuBoard(BOARD_SIZE)\n",
    "for game in games:\n",
    "    print(f\"{game[0]} begins with black\")\n",
    "    print([board.Stone(i) for i in game[1]])"
   ],
   "metadata": {
    "collapsed": false,
    "pycharm": {
     "name": "#%%\n"
    }
   }
  },
  {
   "cell_type": "markdown",
   "source": [],
   "metadata": {
    "collapsed": false,
    "pycharm": {
     "name": "#%% md\n"
    }
   }
  },
  {
   "cell_type": "markdown",
   "source": [
    "---"
   ],
   "metadata": {
    "collapsed": false,
    "pycharm": {
     "name": "#%% md\n"
    }
   }
  },
  {
   "cell_type": "markdown",
   "source": [
    "## Data Verification\n",
    "We have records from those games in 8 symmetries. Now we skim through a good chunk of training records to check whether it makes sense (to some degree)."
   ],
   "metadata": {
    "collapsed": false,
    "pycharm": {
     "name": "#%% md\n"
    }
   }
  },
  {
   "cell_type": "markdown",
   "source": [
    "### Compare with the original policy's estimate\n",
    "The tree search results in less, but more refined options"
   ],
   "metadata": {
    "collapsed": false,
    "pycharm": {
     "name": "#%% md\n"
    }
   }
  },
  {
   "cell_type": "code",
   "execution_count": 35,
   "outputs": [
    {
     "name": "stdout",
     "output_type": "stream",
     "text": [
      "5858\n",
      "Next to play: BLACK\n",
      "Value from BLACK's point of view: 0.05973844835534692\n",
      "Next to play: BLACK\n",
      "Value from BLACK's point of view: 0.016050372272729874\n"
     ]
    },
    {
     "data": {
      "text/plain": "<Figure size 600x600 with 1 Axes>",
      "image/png": "[encoded data removed]"
     },
     "metadata": {},
     "output_type": "display_data"
    },
    {
     "data": {
      "text/plain": "<Figure size 600x600 with 1 Axes>",
      "image/png": "[encoded data removed]"
     },
     "metadata": {},
     "output_type": "display_data"
    }
   ],
   "source": [
    "import random\n",
    "from aegomoku.policies.topological_value import TopologicalValuePolicy\n",
    "\n",
    "n = random.randint(0, len(examples))\n",
    "#n = 4688\n",
    "print(n)\n",
    "example = examples[n]\n",
    "analyse_example(example, policy_cutoff=1, disp_width=6)\n",
    "\n",
    "policy = TopologicalValuePolicy(kappa_s=6, kappa_d=5)\n",
    "s, _, _ = example\n",
    "p, v = policy.evaluate(s)\n",
    "analyse_example((s, p, v), policy_cutoff=1, disp_width=6)"
   ],
   "metadata": {
    "collapsed": false,
    "pycharm": {
     "name": "#%%\n"
    }
   }
  },
  {
   "cell_type": "markdown",
   "source": [
    "# Policy values explicit on a scale 0-99"
   ],
   "metadata": {
    "collapsed": false,
    "pycharm": {
     "name": "#%% md\n"
    }
   }
  },
  {
   "cell_type": "code",
   "execution_count": 27,
   "outputs": [
    {
     "name": "stdout",
     "output_type": "stream",
     "text": [
      "[[ 0  0  0  0  0  0  0  0  0  0  0  0  0  0  0  0  0  0  0]\n",
      " [ 0  0  0  0  0  0  0  0  0  0  0  0  0  0  0  0  0  0  0]\n",
      " [ 0  0  0  0  0  0  0  0  0  0  1  1  0  0  0  0  0  0  0]\n",
      " [ 0  0  0  0  0  0  0  0  0  0  3  1  1  0  0  0  0  0  0]\n",
      " [ 0  0  0  0  0  0  0  2  0  0  1  1 10  0  0  0  0  0  0]\n",
      " [ 0  0  0  0  0  0  0  0  0  0  0  5  1  0  1  0  2  0  0]\n",
      " [ 0  0  0  0  0  1  1 12  0  0  0  0  0 56  0 12  0  0  0]\n",
      " [ 0  0  0  0  0  0  9  0  0  0  0  0  0  0  0  0  0  0  0]\n",
      " [ 0  0  0  0  0  0  0  0  0  0  0  0  0  0  0  1  0  0  0]\n",
      " [ 0  0  0  0  0  0  0  0  0  0  0  0  2  0  0  0  0  0  0]\n",
      " [ 0  0  0  0  1  0  0  0  0  0  0  0  0  0  0  0  0  0  0]\n",
      " [ 0  0  0  0  0  0  0  0  0  0 16  6  0 99  0  0  0  0  0]\n",
      " [ 0  0  0  0  0  0  1  1  0  0  1  0  1 24  0  2  0  0  0]\n",
      " [ 0  0  0  0  0  0  0  0  1  0  0  0  0  5  0  0  0  0  0]\n",
      " [ 0  0  0  0  0  0  0  0  0  0  0  0  1  0  0  0  0  0  0]\n",
      " [ 0  0  0  0  0  0  0  0  0  0  0  0  0  0  0  0  0  0  0]\n",
      " [ 0  0  0  0  0  0  0  0  0  0  0  0  0  0  0  0  0  0  0]\n",
      " [ 0  0  0  0  0  0  0  0  0  0  0  0  0  0  0  0  0  0  0]\n",
      " [ 0  0  0  0  0  0  0  0  0  0  0  0  0  0  0  0  0  0  0]]\n"
     ]
    }
   ],
   "source": [
    "import numpy as np\n",
    "print((p.reshape((19, 19))*99 / np.max(p)).astype(int))"
   ],
   "metadata": {
    "collapsed": false,
    "pycharm": {
     "name": "#%%\n"
    }
   }
  },
  {
   "cell_type": "markdown",
   "source": [
    "# Advice is typically a parameterized subset of all probabilities.\n",
    "Attention: This is a bias trap!"
   ],
   "metadata": {
    "collapsed": false,
    "pycharm": {
     "name": "#%% md\n"
    }
   }
  },
  {
   "cell_type": "code",
   "execution_count": 28,
   "outputs": [
    {
     "name": "stdout",
     "output_type": "stream",
     "text": [
      "[M15, H13, N13, P13, K8, N8, N7]\n"
     ]
    }
   ],
   "source": [
    "advisable = policy.get_advisable_actions(s, cut_off=.1, percent_secondary=0, min_secondary=0)\n",
    "print([board.Stone(i) for i in advisable])"
   ],
   "metadata": {
    "collapsed": false,
    "pycharm": {
     "name": "#%%\n"
    }
   }
  }
 ],
 "metadata": {
  "kernelspec": {
   "display_name": "Python 3",
   "language": "python",
   "name": "python3"
  },
  "language_info": {
   "codemirror_mode": {
    "name": "ipython",
    "version": 2
   },
   "file_extension": ".py",
   "mimetype": "text/x-python",
   "name": "python",
   "nbconvert_exporter": "python",
   "pygments_lexer": "ipython2",
   "version": "2.7.6"
  }
 },
 "nbformat": 4,
 "nbformat_minor": 0
}