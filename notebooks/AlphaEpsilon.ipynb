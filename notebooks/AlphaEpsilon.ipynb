{
 "cells": [
  {
   "cell_type": "code",
   "execution_count": null,
   "outputs": [],
   "source": [
    "class AlphaEpsilon:\n",
    "    def __init__(self, traj_dir, model_dir, gen):\n",
    "        self.trajectory_dir = traj_dir\n",
    "        self.model_dir = model_dir\n",
    "        self.initial_generation = gen\n",
    "\n"
   ],
   "metadata": {
    "collapsed": false,
    "pycharm": {
     "name": "#%%\n"
    }
   }
  },
  {
   "cell_type": "markdown",
   "source": [
    "# Philosophy\n",
    "- Alpha Epsilon (=almost zero) is about policy-advised graph search\n",
    "- MCTS is system II, policy is System I\n",
    "- It's only the policy/intuition that learns\n",
    "- Backpropagation with UCT is the most crucial bit of the entire setup\n",
    "- UCT produces the more successful value/policy estimates that the next generation then learns from\n",
    "- Information flows from the environment via UCT into the policy\n",
    "\n",
    "# References\n",
    "- Take some time to make a comprehensive list of resources!!!\n",
    "\n",
    "# Aspects\n",
    "- Heuristics: bias vs efficiency trade-off\n",
    "- Board representation NxNx3 with boundary, symmetries\n",
    "- Tools: Understanding mean seeing it before your inner eyes.\n",
    "- Network design: Heuristic minimal features - RESNET + re-injection\n",
    "- Selfplay: Avoiding Early bias, parallel with Ray\n",
    "- Training: Expressiveness, overfitting, curriculum, regularization, generalization\n",
    "- MCTS or rather \"Graphsearch with upper confidence bound\"\n",
    "- The Player = MCTS + Policy: What hyperparameters to know\n",
    "- The Alpha Zero life cycle\n",
    "\n"
   ],
   "metadata": {
    "collapsed": false,
    "pycharm": {
     "name": "#%% md\n"
    }
   }
  },
  {
   "cell_type": "code",
   "execution_count": null,
   "outputs": [],
   "source": [],
   "metadata": {
    "collapsed": false,
    "pycharm": {
     "name": "#%%\n"
    }
   }
  }
 ],
 "metadata": {
  "kernelspec": {
   "display_name": "Python 3",
   "language": "python",
   "name": "python3"
  },
  "language_info": {
   "codemirror_mode": {
    "name": "ipython",
    "version": 2
   },
   "file_extension": ".py",
   "mimetype": "text/x-python",
   "name": "python",
   "nbconvert_exporter": "python",
   "pygments_lexer": "ipython2",
   "version": "2.7.6"
  }
 },
 "nbformat": 4,
 "nbformat_minor": 0
}