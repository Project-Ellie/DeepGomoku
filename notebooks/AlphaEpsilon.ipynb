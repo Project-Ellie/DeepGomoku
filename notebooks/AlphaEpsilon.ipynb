{
 "cells": [
  {
   "cell_type": "markdown",
   "source": [
    "# Philosophy\n",
    "- Alpha Epsilon (=almost zero) is about policy-advised graph search\n",
    "- MCTS is system II, policy is System I\n",
    "- It's only the policy/intuition that learns\n",
    "- Backpropagation with UCT is the most crucial bit of the entire setup\n",
    "- UCT produces the more successful value/policy estimates that the next generation then learns from\n",
    "- Information flows from the environment via UCT into the policy\n",
    "- The policy needs not know the best move - only the best set of options to feed into the MCTS\n",
    "\n",
    "# References\n",
    "- Take some time to make a comprehensive list of resources!!!\n",
    "\n",
    "# Aspects\n",
    "- Heuristics: bias vs efficiency trade-off\n",
    "- Board representation NxNx3 with boundary, symmetries\n",
    "- Tools: Understanding mean seeing it before your inner eyes.\n",
    "- Network design: Heuristic minimal features - RESNET + re-injection\n",
    "- Selfplay: Avoiding Early bias, go massively parallel\n",
    "- MCTS or rather \"Graphsearch with upper confidence bound\"\n",
    "- The Player = MCTS + Policy: What hyperparameters to know: cpuct, temperature, cut-off\n",
    "- The Alpha Zero life cycle\n",
    "\n",
    "- # Training:\n",
    "- Expressiveness\n",
    "- Overfitting - apparently not so much of an issue - large dataset!\n",
    "- Curriculum\n",
    "    - frequently changing the *subject* helps! But it's not strictly necessary\n",
    "    - terminal opportunities are rare (only once per trajectory, but they should not be missed!\n",
    "- Regularization\n",
    "    - changing training subjects, is it regularizing?\n",
    "- Generalization\n",
    "- Frustration: Gentle warmup for freshlings\n",
    "- What about a smarter loss function, if the policy as *just* adviser?\n",
    "- Trading policy loss vs value loss, jumps during training, if curriculum with different courses.\n",
    "- Local (Gomoku) vs global (Go) game type\n",
    "\n"
   ],
   "metadata": {
    "collapsed": false,
    "pycharm": {
     "name": "#%% md\n"
    }
   }
  }
 ],
 "metadata": {
  "kernelspec": {
   "display_name": "Python 3",
   "language": "python",
   "name": "python3"
  },
  "language_info": {
   "codemirror_mode": {
    "name": "ipython",
    "version": 2
   },
   "file_extension": ".py",
   "mimetype": "text/x-python",
   "name": "python",
   "nbconvert_exporter": "python",
   "pygments_lexer": "ipython2",
   "version": "2.7.6"
  }
 },
 "nbformat": 4,
 "nbformat_minor": 0
}