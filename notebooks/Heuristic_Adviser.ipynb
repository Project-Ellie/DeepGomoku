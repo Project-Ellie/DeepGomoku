{
 "cells": [
  {
   "cell_type": "markdown",
   "source": [
    "# The New Heuristic Adviser\n"
   ],
   "metadata": {
    "collapsed": false
   }
  },
  {
   "cell_type": "code",
   "execution_count": 1,
   "outputs": [],
   "source": [
    "%load_ext autoreload\n",
    "%autoreload 2"
   ],
   "metadata": {
    "collapsed": false
   }
  },
  {
   "cell_type": "code",
   "execution_count": 2,
   "outputs": [],
   "source": [
    "import numpy as np\n",
    "import tensorflow as tf\n",
    "from aegomoku.utils import analyse_board\n",
    "from aegomoku.policies.heuristic_policy import HeuristicPolicy\n",
    "from aegomoku.gomoku_board import GomokuBoard\n",
    "from aegomoku.policies.threat_detector import ThreatDetector\n",
    "from aegomoku.utils import expand"
   ],
   "metadata": {
    "collapsed": false
   }
  },
  {
   "cell_type": "code",
   "execution_count": 3,
   "outputs": [],
   "source": [
    "BOARD_SIZE = 15"
   ],
   "metadata": {
    "collapsed": false
   }
  },
  {
   "cell_type": "code",
   "execution_count": 4,
   "outputs": [],
   "source": [
    "stones = \"C11F9E9G8F7G7G9H8G6\""
   ],
   "metadata": {
    "collapsed": false
   }
  },
  {
   "cell_type": "markdown",
   "source": [
    "## HeuristicPolicy appears to have various biases.\n",
    "Also, the forward-looking layers, although not so silly, interfere with the MCTS's job."
   ],
   "metadata": {
    "collapsed": false
   }
  },
  {
   "cell_type": "code",
   "execution_count": 5,
   "outputs": [
    {
     "data": {
      "text/plain": "<Figure size 432x432 with 1 Axes>",
      "image/png": "[encoded data removed]"
     },
     "metadata": {
      "needs_background": "light"
     },
     "output_type": "display_data"
    }
   ],
   "source": [
    "heuristics = HeuristicPolicy(BOARD_SIZE)\n",
    "analyse_board(BOARD_SIZE, stones, heuristics, disp_width=6)"
   ],
   "metadata": {
    "collapsed": false
   }
  },
  {
   "cell_type": "markdown",
   "source": [
    "## Threat Detector Layer\n",
    "The Threat Detector Layer detects 5 levels of threats/opportunities for both colors -> output: 10 channels"
   ],
   "metadata": {
    "collapsed": false
   }
  },
  {
   "cell_type": "code",
   "execution_count": 6,
   "outputs": [],
   "source": [
    "board = GomokuBoard(BOARD_SIZE, stones=stones)\n",
    "detector = ThreatDetector(BOARD_SIZE)\n",
    "output = detector(expand(board.math_rep))"
   ],
   "metadata": {
    "collapsed": false
   }
  },
  {
   "cell_type": "markdown",
   "source": [
    "#### Some nice visibility tools\n",
    "The powers of 2 in the probe layer allow the transparent identification of all detected threat levels"
   ],
   "metadata": {
    "collapsed": false
   }
  },
  {
   "cell_type": "code",
   "execution_count": 7,
   "outputs": [],
   "source": [
    "probe = tf.keras.layers.Conv2D(\n",
    "    name='project',\n",
    "    filters=1, kernel_size=(1, 1),\n",
    "    trainable=False,\n",
    "    kernel_initializer=tf.constant_initializer([512, 256, 128, 64, 32, 16, 8, 4, 2, 1]))\n",
    "\n",
    "peel = tf.keras.layers.Conv2D(\n",
    "    filters=1, kernel_size=(3, 3),\n",
    "    kernel_initializer=tf.constant_initializer([\n",
    "        [[0., 0., 0.], [0., 1., 0.], [0., 0., 0.]]\n",
    "    ]),\n",
    "    bias_initializer=tf.constant_initializer(0.),\n",
    "    trainable=False)\n",
    "\n",
    "sum_channels = tf.keras.layers.Conv2D(\n",
    "    name='heuristic_priority',\n",
    "    filters=1, kernel_size=(1, 1),\n",
    "    trainable=False,\n",
    "    kernel_initializer=tf.constant_initializer([1.] * 10))\n",
    "\n",
    "def print_channel(data, channel=None):\n",
    "    \"\"\"\n",
    "    :param data: policy output, either one or six channels\n",
    "    :param channel: if data is 6-channel, number of channel from 1: strongest offensive opportunity to 6 weakest defensive\n",
    "    :return:\n",
    "    \"\"\"\n",
    "    if np.shape(data)[-1] == 10:\n",
    "        if channel is not None:\n",
    "            channel -= 1\n",
    "            data = np.expand_dims(data[:,:,:,channel], -1)\n",
    "        else:\n",
    "            data = probe(data)\n",
    "    data = peel(data)\n",
    "    print((data.numpy().reshape([15, 15]) ).astype(np.uint))"
   ],
   "metadata": {
    "collapsed": false
   }
  },
  {
   "cell_type": "code",
   "execution_count": 8,
   "outputs": [
    {
     "name": "stdout",
     "output_type": "stream",
     "text": [
      "[[ 0  0  0  0  0  0  0  0  0  0  0  0  0  0  0]\n",
      " [ 0  0  0  0  0  0  0  0  0  0  0  0  0  0  0]\n",
      " [ 1  0  1  0  1  0  0  0  0  0  0  0  0  0  0]\n",
      " [ 0  4  1  1  0  0  0  0  0  0  0  0  0  0  0]\n",
      " [ 1  1  0  9  1  2  1  2  1  0  0  0  0  0  0]\n",
      " [ 0  1  1  4  9  3  3  3  2  8  0  0  0  0  0]\n",
      " [ 1  0  1  6  0  0  0  3  9  0  0  0  0  0  0]\n",
      " [ 0  0  0  1 15 11  0  0  9  8  0  0  0  0  0]\n",
      " [ 0  0  1  3  3  0  0 11  3  0  0  0  0  0  0]\n",
      " [ 0  0  0  0  3  9  0  3  9  2  0  0  0  0  0]\n",
      " [ 0  0  0  1  8  1  1  4  2  0  0  0  0  0  0]\n",
      " [ 0  0  0  0  1  0  1  0  4  0  0  0  0  0  0]\n",
      " [ 0  0  0  0  0  0  0  0  0  0  0  0  0  0  0]\n",
      " [ 0  0  0  0  0  0  0  0  0  0  0  0  0  0  0]\n",
      " [ 0  0  0  0  0  0  0  0  0  0  0  0  0  0  0]]\n"
     ]
    }
   ],
   "source": [
    "print_channel(probe(output))"
   ],
   "metadata": {
    "collapsed": false
   }
  },
  {
   "cell_type": "markdown",
   "source": [
    "## The new Heuristic Adviser"
   ],
   "metadata": {
    "collapsed": false
   }
  },
  {
   "cell_type": "markdown",
   "source": [
    "### Step 1: Detect the threat patterns"
   ],
   "metadata": {
    "collapsed": false
   }
  },
  {
   "cell_type": "code",
   "execution_count": 9,
   "outputs": [
    {
     "data": {
      "text/plain": "TensorShape([1, 17, 17, 10])"
     },
     "execution_count": 9,
     "metadata": {},
     "output_type": "execute_result"
    }
   ],
   "source": [
    "board = GomokuBoard(BOARD_SIZE, stones=stones)\n",
    "detector = ThreatDetector(BOARD_SIZE)\n",
    "output = detector(expand(board.math_rep))\n",
    "output.shape"
   ],
   "metadata": {
    "collapsed": false
   }
  },
  {
   "cell_type": "markdown",
   "source": [
    "### Step 2: Assign criticality values to the detector channels"
   ],
   "metadata": {
    "collapsed": false
   }
  },
  {
   "cell_type": "code",
   "execution_count": 10,
   "outputs": [],
   "source": [
    "kernel = np.diag([999, 333, 99, 33, 2, 2, 2, 2, 1, 1])\n",
    "criticality = tf.keras.layers.Conv2D(\n",
    "    name='weights',\n",
    "    filters=10, kernel_size=(1, 1),\n",
    "    trainable=False,\n",
    "    kernel_initializer=tf.constant_initializer(kernel))"
   ],
   "metadata": {
    "collapsed": false
   }
  },
  {
   "cell_type": "code",
   "execution_count": 11,
   "outputs": [
    {
     "name": "stdout",
     "output_type": "stream",
     "text": [
      "[[0 0 0 0 0 0 0 0 0 0 0 0 0 0 0]\n",
      " [0 0 0 0 0 0 0 0 0 0 0 0 0 0 0]\n",
      " [1 0 1 0 1 0 0 0 0 0 0 0 0 0 0]\n",
      " [0 2 1 1 0 0 0 0 0 0 0 0 0 0 0]\n",
      " [1 1 0 3 1 1 1 1 1 0 0 0 0 0 0]\n",
      " [0 1 1 2 3 2 2 2 1 2 0 0 0 0 0]\n",
      " [1 0 1 3 0 0 0 2 3 0 0 0 0 0 0]\n",
      " [0 0 0 1 6 4 0 0 3 2 0 0 0 0 0]\n",
      " [0 0 1 2 2 0 0 4 2 0 0 0 0 0 0]\n",
      " [0 0 0 0 2 3 0 2 3 1 0 0 0 0 0]\n",
      " [0 0 0 1 2 1 1 2 1 0 0 0 0 0 0]\n",
      " [0 0 0 0 1 0 1 0 2 0 0 0 0 0 0]\n",
      " [0 0 0 0 0 0 0 0 0 0 0 0 0 0 0]\n",
      " [0 0 0 0 0 0 0 0 0 0 0 0 0 0 0]\n",
      " [0 0 0 0 0 0 0 0 0 0 0 0 0 0 0]]\n"
     ]
    }
   ],
   "source": [
    "crit0 = criticality(output)\n",
    "print_channel(sum_channels(crit0))"
   ],
   "metadata": {
    "collapsed": false
   }
  },
  {
   "cell_type": "markdown",
   "source": [
    "## Criticalities don't actually sum up regularly\n",
    "\n",
    "We use a trick: add n-th powers under the n-th root\n",
    "\n",
    "$$\n",
    "p_{total} = \\sqrt[n]{\\sum(p_i)^n}\n",
    "$$\n",
    "\n",
    "This way, the *sum* of any set of numbers is bigger, yet always close to the largest number. Anything added to *critical* is still somewhat *critical*, although - maybe - somewhat more."
   ],
   "metadata": {
    "collapsed": false
   }
  },
  {
   "cell_type": "code",
   "execution_count": 12,
   "outputs": [
    {
     "name": "stdout",
     "output_type": "stream",
     "text": [
      "[[0 0 0 0 0 0 0 0 0 0 0 0 0 0 0]\n",
      " [0 0 0 0 0 0 0 0 0 0 0 0 0 0 0]\n",
      " [1 0 1 0 1 0 0 0 0 0 0 0 0 0 0]\n",
      " [0 2 1 1 0 0 0 0 0 0 0 0 0 0 0]\n",
      " [1 1 0 2 1 1 1 1 1 0 0 0 0 0 0]\n",
      " [0 1 1 2 2 1 1 1 1 2 0 0 0 0 0]\n",
      " [1 0 1 2 0 0 0 1 2 0 0 0 0 0 0]\n",
      " [0 0 0 1 2 2 0 0 2 2 0 0 0 0 0]\n",
      " [0 0 1 1 1 0 0 2 1 0 0 0 0 0 0]\n",
      " [0 0 0 0 1 2 0 1 2 1 0 0 0 0 0]\n",
      " [0 0 0 1 2 1 1 2 1 0 0 0 0 0 0]\n",
      " [0 0 0 0 1 0 1 0 2 0 0 0 0 0 0]\n",
      " [0 0 0 0 0 0 0 0 0 0 0 0 0 0 0]\n",
      " [0 0 0 0 0 0 0 0 0 0 0 0 0 0 0]\n",
      " [0 0 0 0 0 0 0 0 0 0 0 0 0 0 0]]\n"
     ]
    }
   ],
   "source": [
    "crit1 = tf.pow(crit0, 4)\n",
    "crit1 = sum_channels(crit1)\n",
    "crit1 = tf.pow(crit1, .25)\n",
    "print_channel(crit1)"
   ],
   "metadata": {
    "collapsed": false
   }
  },
  {
   "cell_type": "markdown",
   "source": [
    "## The full advice will apply softmax and thresholds"
   ],
   "metadata": {
    "collapsed": false
   }
  },
  {
   "cell_type": "code",
   "execution_count": 13,
   "outputs": [
    {
     "name": "stdout",
     "output_type": "stream",
     "text": [
      "[[0 0 0 0 0 0 0 0 0 0 0 0 0 0 0]\n",
      " [0 0 0 0 0 0 0 0 0 0 0 0 0 0 0]\n",
      " [0 0 0 0 0 0 0 0 0 0 0 0 0 0 0]\n",
      " [0 4 0 0 0 0 0 0 0 0 0 0 0 0 0]\n",
      " [0 0 0 4 0 0 0 0 0 0 0 0 0 0 0]\n",
      " [0 0 0 4 4 1 1 1 0 4 0 0 0 0 0]\n",
      " [0 0 0 4 0 0 0 1 4 0 0 0 0 0 0]\n",
      " [0 0 0 0 7 4 0 0 4 4 0 0 0 0 0]\n",
      " [0 0 0 1 1 0 0 4 1 0 0 0 0 0 0]\n",
      " [0 0 0 0 1 4 0 1 4 0 0 0 0 0 0]\n",
      " [0 0 0 0 4 0 0 4 0 0 0 0 0 0 0]\n",
      " [0 0 0 0 0 0 0 0 4 0 0 0 0 0 0]\n",
      " [0 0 0 0 0 0 0 0 0 0 0 0 0 0 0]\n",
      " [0 0 0 0 0 0 0 0 0 0 0 0 0 0 0]\n",
      " [0 0 0 0 0 0 0 0 0 0 0 0 0 0 0]]\n",
      "52.0\n"
     ]
    }
   ],
   "source": [
    "flatten = tf.keras.layers.Flatten()\n",
    "crit = tf.squeeze(flatten(crit1))\n",
    "\n",
    "threshold = 0.004\n",
    "softmax = tf.keras.layers.Softmax()(crit)\n",
    "softmax = tf.keras.activations.relu(softmax - threshold)\n",
    "\n",
    "softmax = tf.reshape(softmax, [1, 17, 17, 1])\n",
    "sup = np.max(softmax, axis=None)\n",
    "threshold = sup * .01\n",
    "softmax = tf.nn.relu(softmax - threshold)\n",
    "softmax = softmax / np.sum(softmax)\n",
    "\n",
    "print_channel(softmax*100)\n",
    "print(np.sum(tf.sign(softmax)))"
   ],
   "metadata": {
    "collapsed": false
   }
  },
  {
   "cell_type": "markdown",
   "source": [
    "#### All of that now ready to use in `HeuristicAdviser`"
   ],
   "metadata": {
    "collapsed": false
   }
  },
  {
   "cell_type": "code",
   "execution_count": 14,
   "outputs": [
    {
     "name": "stdout",
     "output_type": "stream",
     "text": [
      "[[0 0 0 0 0 0 0 0 0 0 0 0 0 0 0]\n",
      " [0 0 0 0 0 0 0 0 0 0 0 0 0 0 0]\n",
      " [0 0 0 0 0 0 0 0 0 0 0 0 0 0 0]\n",
      " [0 1 0 0 0 0 0 0 0 0 0 0 0 0 0]\n",
      " [0 0 0 1 0 0 0 0 0 0 0 0 0 0 0]\n",
      " [0 0 0 1 1 0 0 0 0 1 0 0 0 0 0]\n",
      " [0 0 0 1 0 0 0 0 1 0 0 0 0 0 0]\n",
      " [0 0 0 0 2 1 0 0 1 1 0 0 0 0 0]\n",
      " [0 0 0 0 0 0 0 1 0 0 0 0 0 0 0]\n",
      " [0 0 0 0 0 1 0 0 1 0 0 0 0 0 0]\n",
      " [0 0 0 0 1 0 0 1 0 0 0 0 0 0 0]\n",
      " [0 0 0 0 0 0 0 0 1 0 0 0 0 0 0]\n",
      " [0 0 0 0 0 0 0 0 0 0 0 0 0 0 0]\n",
      " [0 0 0 0 0 0 0 0 0 0 0 0 0 0 0]\n",
      " [0 0 0 0 0 0 0 0 0 0 0 0 0 0 0]]\n"
     ]
    },
    {
     "data": {
      "text/plain": "<tf.Tensor: shape=(), dtype=float32, numpy=0.279746>"
     },
     "execution_count": 14,
     "metadata": {},
     "output_type": "execute_result"
    }
   ],
   "source": [
    "from aegomoku.policies.heuristic_value_model import HeuristicValueModel\n",
    "from aegomoku.policies.heuristic_advice import HeuristicPolicyParams, HeuristicAdviser, HeuristicValueParams\n",
    "\n",
    "value_params = HeuristicValueParams(board_size=BOARD_SIZE)\n",
    "value_model = HeuristicValueModel(value_params)\n",
    "adviser = HeuristicAdviser(HeuristicPolicyParams(board_size=BOARD_SIZE), value_model)\n",
    "p, v = adviser.call(expand(board.math_rep))\n",
    "print((p.numpy().reshape([BOARD_SIZE, BOARD_SIZE])*100).astype(np.uint))\n",
    "v"
   ],
   "metadata": {
    "collapsed": false
   }
  },
  {
   "cell_type": "code",
   "execution_count": 15,
   "outputs": [
    {
     "name": "stdout",
     "output_type": "stream",
     "text": [
      "[B12, D11, D10, E10, J10, D9, I9, E8, F8, I8, J8, H7, F6, I6, E5, H5, I4]\n"
     ]
    },
    {
     "data": {
      "text/plain": "<Figure size 432x432 with 1 Axes>",
      "image/png": "[encoded data removed]"
     },
     "metadata": {
      "needs_background": "light"
     },
     "output_type": "display_data"
    }
   ],
   "source": [
    "advisable = adviser.get_advisable_actions(board.math_rep)\n",
    "print([board.Stone(i) for i in advisable])\n",
    "analyse_board(BOARD_SIZE, stones, adviser, disp_width=6, policy_cutoff=0.001)"
   ],
   "metadata": {
    "collapsed": false
   }
  },
  {
   "cell_type": "code",
   "execution_count": null,
   "outputs": [],
   "source": [],
   "metadata": {
    "collapsed": false
   }
  }
 ],
 "metadata": {
  "kernelspec": {
   "display_name": "Python 3",
   "language": "python",
   "name": "python3"
  },
  "language_info": {
   "codemirror_mode": {
    "name": "ipython",
    "version": 2
   },
   "file_extension": ".py",
   "mimetype": "text/x-python",
   "name": "python",
   "nbconvert_exporter": "python",
   "pygments_lexer": "ipython2",
   "version": "2.7.6"
  }
 },
 "nbformat": 4,
 "nbformat_minor": 0
}
