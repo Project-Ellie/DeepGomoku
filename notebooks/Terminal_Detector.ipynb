{
 "cells": [
  {
   "cell_type": "markdown",
   "source": [
    "# Terminal Detector\n",
    "\n",
    "The detector detects any line of 5 but not more. So, overlines don't win!"
   ],
   "metadata": {
    "collapsed": false
   }
  },
  {
   "cell_type": "code",
   "execution_count": 1,
   "outputs": [],
   "source": [
    "%load_ext autoreload\n",
    "%autoreload 2"
   ],
   "metadata": {
    "collapsed": false
   }
  },
  {
   "cell_type": "code",
   "execution_count": 2,
   "outputs": [],
   "source": [
    "from aegomoku.utils import expand\n",
    "from aegomoku.gomoku_board import GomokuBoard\n",
    "from aegomoku.policies.terminal_detector import TerminalDetector"
   ],
   "metadata": {
    "collapsed": false
   }
  },
  {
   "cell_type": "code",
   "execution_count": 3,
   "outputs": [
    {
     "name": "stdout",
     "output_type": "stream",
     "text": [
      "                                         \n",
      "11    .  .  .  .  .  .  .  .  .  .  .    \n",
      "10    .  .  .  O  .  .  .  .  .  .  .    \n",
      " 9    .  .  .  O  .  .  .  .  .  .  .    \n",
      " 8    .  .  .  O  .  .  .  .  .  .  .    \n",
      " 7    .  X  .  O  .  .  .  .  .  .  .    \n",
      " 6    .  .  X  O  .  .  .  .  .  .  .    \n",
      " 5    .  .  .  X  .  .  .  .  .  .  .    \n",
      " 4    .  .  .  .  X  .  .  .  .  .  .    \n",
      " 3    .  .  .  .  .  X  .  .  .  .  .    \n",
      " 2    .  .  .  .  .  . [X] .  .  .  .    \n",
      " 1    .  .  .  .  .  .  .  .  .  .  .    \n",
      "                                         \n",
      "      A  B  C  D  E  F  G  H  I  J  K\n"
     ]
    },
    {
     "data": {
      "text/plain": "<tf.Tensor: shape=(2,), dtype=float32, numpy=array([1., 0.], dtype=float32)>"
     },
     "execution_count": 3,
     "metadata": {},
     "output_type": "execute_result"
    }
   ],
   "source": [
    "BOARD_SIZE = 11\n",
    "detector1 = TerminalDetector(BOARD_SIZE)\n",
    "\n",
    "stones = \"B7D6C6D7D5D8E4D9F3D10G2\"\n",
    "board = GomokuBoard(BOARD_SIZE, stones=stones)\n",
    "without_overlines = detector1(expand(board))\n",
    "board.plot()\n",
    "without_overlines"
   ],
   "metadata": {
    "collapsed": false
   }
  },
  {
   "cell_type": "markdown",
   "source": [
    "Current player is now white (O). Thus, the first number is the number of winning rows for white.\n",
    "\n",
    "Please note that it is not impossible to have more than one winning line, although that'll certainly never happen in any other than a random game.\n",
    "\n",
    "Please also note that the black (X) line of six is an overline and hence does not count"
   ],
   "metadata": {
    "collapsed": false
   }
  },
  {
   "cell_type": "markdown",
   "source": [
    "---"
   ],
   "metadata": {
    "collapsed": false
   }
  },
  {
   "cell_type": "markdown",
   "source": [
    "## Option: Legal overlines"
   ],
   "metadata": {
    "collapsed": false
   }
  },
  {
   "cell_type": "code",
   "execution_count": 5,
   "outputs": [
    {
     "name": "stdout",
     "output_type": "stream",
     "text": [
      "                                         \n",
      "11    .  .  .  .  .  .  .  .  .  .  .    \n",
      "10    .  .  .  O  .  .  .  .  .  .  .    \n",
      " 9    .  .  .  O  .  .  .  .  .  .  .    \n",
      " 8    .  .  .  O  .  .  .  .  .  .  .    \n",
      " 7    .  X  .  O  .  .  .  .  .  .  .    \n",
      " 6    .  .  X  O  .  .  .  .  .  .  .    \n",
      " 5    .  .  .  X  .  .  .  .  .  .  .    \n",
      " 4    .  .  .  .  X  .  .  .  .  .  .    \n",
      " 3    .  .  .  .  .  X  .  .  .  .  .    \n",
      " 2    .  .  .  .  .  . [X] .  .  .  .    \n",
      " 1    .  .  .  .  .  .  .  .  .  .  .    \n",
      "                                         \n",
      "      A  B  C  D  E  F  G  H  I  J  K\n"
     ]
    },
    {
     "data": {
      "text/plain": "<tf.Tensor: shape=(2,), dtype=float32, numpy=array([1., 2.], dtype=float32)>"
     },
     "execution_count": 5,
     "metadata": {},
     "output_type": "execute_result"
    }
   ],
   "source": [
    "detector2 = TerminalDetector(BOARD_SIZE, allow_overlines=True)\n",
    "with_overlines = detector2(expand(board))\n",
    "board.plot()\n",
    "with_overlines"
   ],
   "metadata": {
    "collapsed": false
   }
  },
  {
   "cell_type": "markdown",
   "source": [
    "Note that due to overlines being legal there are now two (overlapping) lines of 5 counting for black."
   ],
   "metadata": {
    "collapsed": false
   }
  }
 ],
 "metadata": {
  "kernelspec": {
   "display_name": "Python 3",
   "language": "python",
   "name": "python3"
  },
  "language_info": {
   "codemirror_mode": {
    "name": "ipython",
    "version": 2
   },
   "file_extension": ".py",
   "mimetype": "text/x-python",
   "name": "python",
   "nbconvert_exporter": "python",
   "pygments_lexer": "ipython2",
   "version": "2.7.6"
  }
 },
 "nbformat": 4,
 "nbformat_minor": 0
}
