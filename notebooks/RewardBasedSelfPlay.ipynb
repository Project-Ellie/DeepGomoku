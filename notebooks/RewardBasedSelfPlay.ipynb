{
 "cells": [
  {
   "cell_type": "markdown",
   "source": [
    "# Self Play With Reward-Based Agents"
   ],
   "metadata": {
    "collapsed": false,
    "pycharm": {
     "name": "#%% md\n"
    }
   }
  },
  {
   "cell_type": "code",
   "execution_count": null,
   "outputs": [],
   "source": [
    "%load_ext autoreload\n",
    "%autoreload 2"
   ],
   "metadata": {
    "collapsed": false,
    "pycharm": {
     "name": "#%%\n",
     "is_executing": true
    }
   }
  },
  {
   "cell_type": "code",
   "execution_count": 1,
   "outputs": [],
   "source": [
    "import numpy as np\n",
    "from domoku.board import GomokuBoard\n",
    "from domoku.data import create_binary_rep\n",
    "from domoku.rewards import InfluenceModel, RewardContext\n",
    "from domoku.tools import GomokuTools as gtools\n",
    "from domoku.constants import *\n",
    "from dataclasses import dataclass\n",
    "\n",
    "\n",
    "def print_bin(binary_sample):\n",
    "    print(f'shape: {binary_sample.shape}')\n",
    "    print(np.rollaxis(binary_sample, 2, 0)[0] + 2 * np.rollaxis(binary_sample, 2, 0)[1])"
   ],
   "metadata": {
    "collapsed": false,
    "pycharm": {
     "name": "#%%\n"
    }
   }
  },
  {
   "cell_type": "code",
   "execution_count": 2,
   "outputs": [],
   "source": [
    "class GomokuGame:\n",
    "\n",
    "    def __init__(self, table: 'GomokuTable', max_moves: int):\n",
    "        self.table = table\n",
    "        self.max_moves = max_moves\n",
    "        self.board = table.board\n",
    "        self.current = self.board.current_color\n",
    "        self.players = table.players\n",
    "\n",
    "\n",
    "    def next_move(self, show=False):\n",
    "        player = self.players[self.current]\n",
    "        move, terminated = player.play()\n",
    "        board.set(*move)\n",
    "        if show:\n",
    "            board.display()\n",
    "        self.current = 1 - self.current\n",
    "        return terminated\n"
   ],
   "metadata": {
    "collapsed": false,
    "pycharm": {
     "name": "#%%\n"
    }
   }
  },
  {
   "cell_type": "code",
   "execution_count": 3,
   "outputs": [],
   "source": [
    "class GomokuTable:\n",
    "\n",
    "    def __init__(self, board: GomokuBoard):\n",
    "        self.players = []\n",
    "        self.board = board\n",
    "\n",
    "\n",
    "    def seat(self, player: 'GomokuPlayer'):\n",
    "        self.players.append(player)\n",
    "\n",
    "\n",
    "    def new_game(self, max_moves: int):\n",
    "        return GomokuGame(self, max_moves)\n",
    "\n",
    "\n",
    "    def current_state(self):\n",
    "        return create_binary_rep(self.board, padding=4, border=True)"
   ],
   "metadata": {
    "collapsed": false,
    "pycharm": {
     "name": "#%%\n"
    }
   }
  },
  {
   "cell_type": "code",
   "execution_count": 4,
   "outputs": [],
   "source": [
    "class GomokuPlayer:\n",
    "\n",
    "    def __init__(self, name: str, context: RewardContext):\n",
    "        self.name = name\n",
    "        self.context = context\n",
    "        self.choose_from = 5\n",
    "\n",
    "\n",
    "    def play(self, choose_from=None):\n",
    "\n",
    "        # start loose, get tighter with time\n",
    "        if choose_from is None:\n",
    "            choose_from = self.choose_from\n",
    "            self.choose_from = max(self.choose_from - 1, 1)\n",
    "\n",
    "        board = self.context.board\n",
    "\n",
    "        candidates = self.context.find_candidates()\n",
    "\n",
    "        moves_by_termination = sorted([(self.context.reward(gtools.m2b((x, y), board.N))[1],\n",
    "                                        tuple(gtools.m2b((x, y), size=board.N)))\n",
    "                                       for _, x, y in candidates])\n",
    "\n",
    "        if moves_by_termination[-1][0] is True:\n",
    "            return moves_by_termination[-1][1], True\n",
    "\n",
    "        moves_by_reward = sorted([(self.context.reward(gtools.m2b((x, y), board.N))[0],\n",
    "                                   tuple(gtools.m2b((x, y), size=board.N)))\n",
    "                                  for _, x, y in candidates])\n",
    "\n",
    "        selectable = moves_by_reward[-choose_from:]\n",
    "        #  print(f\"Choosing from {selectable}\")\n",
    "        index = np.random.randint(0, len(selectable))\n",
    "        _, move = selectable[index]\n",
    "        return move, False"
   ],
   "metadata": {
    "collapsed": false,
    "pycharm": {
     "name": "#%%\n"
    }
   }
  },
  {
   "cell_type": "code",
   "execution_count": 5,
   "outputs": [],
   "source": [
    "@dataclass()\n",
    "class InfluenceParams:\n",
    "    \"\"\"\n",
    "    These parameters determine the influence that various stones have on their vacant neighborhood\n",
    "    \"\"\"\n",
    "    curr_hv_b: float\n",
    "    curr_hv_f1: float\n",
    "    curr_hv_f2: float\n",
    "    curr_hv_f3: float\n",
    "    curr_diag_b: float\n",
    "    curr_diag_f1: float\n",
    "    curr_diag_f2: float\n",
    "    curr_diag_f3: float\n",
    "    curr_tau: float\n",
    "\n",
    "    other_hv_b: float\n",
    "    other_hv_f1: float\n",
    "    other_hv_f2: float\n",
    "    other_hv_f3: float\n",
    "    other_diag_b: float\n",
    "    other_diag_f1: float\n",
    "    other_diag_f2: float\n",
    "    other_diag_f3: float\n",
    "    other_tau: float\n",
    "\n",
    "    offensiveness: float\n",
    "\n",
    "    def get_current_influence(self):\n",
    "        b, f1, f2, f3 = self.curr_hv_b, self.curr_hv_f1, self.curr_hv_f2, self.curr_hv_f3\n",
    "        m1, m2, m3 = np.exp(-f1/10), np.exp(-f2/10), np.exp(-f3/10)\n",
    "        curr_hv = [b, b*m1, b*m1*m2, b*m1*m2*m3]\n",
    "\n",
    "        b, f1, f2, f3 = self.curr_diag_b, self.curr_diag_f1, self.curr_diag_f2, self.curr_diag_f3\n",
    "        m1, m2, m3 = np.exp(-f1/10), np.exp(-f2/10), np.exp(-f3/10)\n",
    "        curr_diag = [b, b*m1, b*m1*m2, b*m1*m2*m3]\n",
    "\n",
    "        return [curr_hv, curr_diag]\n",
    "\n",
    "    def get_other_influence(self):\n",
    "        b, f1, f2, f3 = self.other_hv_b, self.other_hv_f1, self.other_hv_f2, self.other_hv_f3\n",
    "        m1, m2, m3 = np.exp(-f1/10), np.exp(-f2/10), np.exp(-f3/10)\n",
    "        other_hv = [b, b*m1, b*m1*m2, b*m1*m2*m3]\n",
    "\n",
    "        b, f1, f2, f3 = self.other_diag_b, self.other_diag_f1, self.other_diag_f2, self.other_diag_f3\n",
    "        m1, m2, m3 = np.exp(-f1/10), np.exp(-f2/10), np.exp(-f3/10)\n",
    "        other_diag = [b, b*m1, b*m1*m2, b*m1*m2*m3]\n",
    "\n",
    "        return [other_hv, other_diag]\n",
    "\n",
    "    def get_variant(self, frac):\n",
    "\n",
    "        return InfluenceParams(\n",
    "            curr_hv_b = self.curr_hv_b * np.random.uniform(1-frac, 1+frac),\n",
    "            curr_hv_f1 = self.curr_hv_f1 * np.random.uniform(1-frac, 1+frac),\n",
    "            curr_hv_f2 = self.curr_hv_f2 * np.random.uniform(1-frac, 1+frac),\n",
    "            curr_hv_f3 = self.curr_hv_f3 * np.random.uniform(1-frac, 1+frac),\n",
    "            curr_diag_b = self.curr_diag_b * np.random.uniform(1-frac, 1+frac),\n",
    "            curr_diag_f1 = self.curr_diag_f1 * np.random.uniform(1-frac, 1+frac),\n",
    "            curr_diag_f2 = self.curr_diag_f2 * np.random.uniform(1-frac, 1+frac),\n",
    "            curr_diag_f3 = self.curr_diag_f3 * np.random.uniform(1-frac, 1+frac),\n",
    "            curr_tau = self.curr_tau * np.random.uniform(1-frac, 1+frac),\n",
    "\n",
    "            other_hv_b = self.other_hv_b * np.random.uniform(1-frac, 1+frac),\n",
    "            other_hv_f1 = self.other_hv_f1 * np.random.uniform(1-frac, 1+frac),\n",
    "            other_hv_f2 = self.other_hv_f2 * np.random.uniform(1-frac, 1+frac),\n",
    "            other_hv_f3 = self.other_hv_f3 * np.random.uniform(1-frac, 1+frac),\n",
    "            other_diag_b = self.other_diag_b * np.random.uniform(1-frac, 1+frac),\n",
    "            other_diag_f1 = self.other_diag_f1 * np.random.uniform(1-frac, 1+frac),\n",
    "            other_diag_f2 = self.other_diag_f2 * np.random.uniform(1-frac, 1+frac),\n",
    "            other_diag_f3 = self.other_diag_f3 * np.random.uniform(1-frac, 1+frac),\n",
    "            other_tau = self.other_tau * np.random.uniform(1-frac, 1+frac),\n",
    "            offensiveness=self.offensiveness * np.random.uniform(1-frac, 1+frac)\n",
    "        )\n",
    "\n",
    "params1 = InfluenceParams(.35, 1, 1, 1, .35, 1, 1, 1,\n",
    "                          4.0,\n",
    "                          .35, 1, 1, 1, .35, 1, 1, 1,\n",
    "                          4.0,\n",
    "                          .2)\n",
    "\n",
    "params2 = params1.get_variant(.2)\n"
   ],
   "metadata": {
    "collapsed": false,
    "pycharm": {
     "name": "#%%\n"
    }
   }
  },
  {
   "cell_type": "code",
   "execution_count": 6,
   "outputs": [
    {
     "data": {
      "text/plain": "InfluenceParams(curr_hv_b=0.3308568014902375, curr_hv_f1=1.0126980661989138, curr_hv_f2=0.9428898648271321, curr_hv_f3=1.1262489416464432, curr_diag_b=0.4080161853775467, curr_diag_f1=0.9385114354282292, curr_diag_f2=1.06388606171644, curr_diag_f3=1.0229428164011132, curr_tau=4.37269486116147, other_hv_b=0.3411629215904975, other_hv_f1=0.9422945386841705, other_hv_f2=1.1327590648998724, other_hv_f3=0.9142622499472928, other_diag_b=0.36578331927944974, other_diag_f1=0.9623098437805364, other_diag_f2=0.8440104307468798, other_diag_f3=1.0217125580285051, other_tau=3.8683781009021567, offensiveness=0.21185582306493453)"
     },
     "execution_count": 6,
     "metadata": {},
     "output_type": "execute_result"
    }
   ],
   "source": [
    "params2"
   ],
   "metadata": {
    "collapsed": false,
    "pycharm": {
     "name": "#%%\n"
    }
   }
  },
  {
   "cell_type": "code",
   "execution_count": 7,
   "outputs": [],
   "source": [
    "def new_reward_model(params):\n",
    "    return InfluenceModel(board_size=15,\n",
    "                          current_influence=params.get_current_influence(),\n",
    "                          other_influence=params.get_other_influence(),\n",
    "                          curr_tau=params.curr_tau, other_tau=params.other_tau)"
   ],
   "metadata": {
    "collapsed": false,
    "pycharm": {
     "name": "#%%\n"
    }
   }
  },
  {
   "cell_type": "code",
   "execution_count": 8,
   "outputs": [],
   "source": [
    "NUM_GENERATIONS = 1\n",
    "NUM_GAMES = 1"
   ],
   "metadata": {
    "collapsed": false,
    "pycharm": {
     "name": "#%%\n"
    }
   }
  },
  {
   "cell_type": "code",
   "execution_count": 9,
   "outputs": [
    {
     "name": "stdout",
     "output_type": "stream",
     "text": [
      "\n",
      "---------------------------------------------------------------\n",
      "   Generation  1 \n",
      "\n",
      "Params 1:\n",
      "InfluenceParams(curr_hv_b=0.35, curr_hv_f1=1, curr_hv_f2=1, curr_hv_f3=1, curr_diag_b=0.35, curr_diag_f1=1, curr_diag_f2=1, curr_diag_f3=1, curr_tau=4.0, other_hv_b=0.35, other_hv_f1=1, other_hv_f2=1, other_hv_f3=1, other_diag_b=0.35, other_diag_f1=1, other_diag_f2=1, other_diag_f3=1, other_tau=4.0, offensiveness=0.2)\n",
      "Params 2:\n",
      "InfluenceParams(curr_hv_b=0.3308568014902375, curr_hv_f1=1.0126980661989138, curr_hv_f2=0.9428898648271321, curr_hv_f3=1.1262489416464432, curr_diag_b=0.4080161853775467, curr_diag_f1=0.9385114354282292, curr_diag_f2=1.06388606171644, curr_diag_f3=1.0229428164011132, curr_tau=4.37269486116147, other_hv_b=0.3411629215904975, other_hv_f1=0.9422945386841705, other_hv_f2=1.1327590648998724, other_hv_f3=0.9142622499472928, other_diag_b=0.36578331927944974, other_diag_f1=0.9623098437805364, other_diag_f2=0.8440104307468798, other_diag_f3=1.0217125580285051, other_tau=3.8683781009021567, offensiveness=0.21185582306493453)\n",
      "---------------------------------------------------------------\n"
     ]
    },
    {
     "name": "stderr",
     "output_type": "stream",
     "text": [
      "2022-05-04 13:59:09.135792: I tensorflow/core/platform/cpu_feature_guard.cc:151] This TensorFlow binary is optimized with oneAPI Deep Neural Network Library (oneDNN) to use the following CPU instructions in performance-critical operations:  AVX2 FMA\n",
      "To enable them in other operations, rebuild TensorFlow with the appropriate compiler flags.\n"
     ]
    },
    {
     "name": "stdout",
     "output_type": "stream",
     "text": [
      "Black: 0 - White: 1\n",
      "Toby Two wins the round. Params2 cloned.\n"
     ]
    }
   ],
   "source": [
    "board = None\n",
    "rounds = []\n",
    "for generation in range(NUM_GENERATIONS):\n",
    "    print()\n",
    "    print(\"---------------------------------------------------------------\")\n",
    "    print(f\"   Generation  {generation + 1} \")\n",
    "    print()\n",
    "    print(\"Params 1:\")\n",
    "    print(params1)\n",
    "    print(\"Params 2:\")\n",
    "    print(params2)\n",
    "    print(\"---------------------------------------------------------------\")\n",
    "\n",
    "    score = []\n",
    "    this_round = []\n",
    "    reward1 = new_reward_model(params1)\n",
    "    reward2 = new_reward_model(params2)\n",
    "\n",
    "    table = GomokuTable(board)\n",
    "\n",
    "    for game_no in range(NUM_GAMES):\n",
    "        board = GomokuBoard(n=15, disp_width=7).set(H, 8)\n",
    "        table = GomokuTable(board)\n",
    "        context1 = RewardContext(board, reward1, offensiveness=params1.offensiveness)\n",
    "        context2 = RewardContext(board, reward2, offensiveness=params2.offensiveness)\n",
    "        player1 = GomokuPlayer('Winnie One', context1)\n",
    "        player2 = GomokuPlayer('Toby Two', context2)\n",
    "        table.seat(player1)\n",
    "        table.seat(player2)\n",
    "        game = table.new_game(max_moves=50)\n",
    "\n",
    "        terminated = game.next_move()\n",
    "        while not (terminated or len(board.stones) > board.N**2 / 2):\n",
    "            terminated = game.next_move()\n",
    "        # print(f\"{game.players[1-board.current_color].name} wins.\")\n",
    "        score.append(1 - board.current_color)\n",
    "        # print(f\"Black: {len(score)-sum(score)} - White: {sum(score)}\" )\n",
    "        this_round.append(board.stones)\n",
    "\n",
    "    rounds.append(this_round)\n",
    "    print(f\"Black: {len(score)-sum(score)} - White: {sum(score)}\" )\n",
    "    if len(score) > 2 * sum(score):\n",
    "        print(f\"{table.players[0].name} wins the round. Params1 cloned.\")\n",
    "        params2 = params1\n",
    "        params1 = params1.get_variant(.2)\n",
    "    else:\n",
    "        print(f\"{table.players[1].name} wins the round. Params2 cloned.\")\n",
    "        params1 = params2\n",
    "        reward2 = params2.get_variant(.2)\n"
   ],
   "metadata": {
    "collapsed": false,
    "pycharm": {
     "name": "#%%\n"
    }
   }
  },
  {
   "cell_type": "markdown",
   "source": [
    "### See the quality of the last generations"
   ],
   "metadata": {
    "collapsed": false,
    "pycharm": {
     "name": "#%% md\n"
    }
   }
  },
  {
   "cell_type": "code",
   "execution_count": 10,
   "outputs": [
    {
     "data": {
      "text/plain": "<Figure size 576x576 with 1 Axes>",
      "image/png": "[encoded data removed]"
     },
     "metadata": {
      "needs_background": "light"
     },
     "output_type": "display_data"
    }
   ],
   "source": [
    "for i in range(NUM_GAMES):\n",
    "    GomokuBoard(15, stones=rounds[-1][i], disp_width=8).display()"
   ],
   "metadata": {
    "collapsed": false,
    "pycharm": {
     "name": "#%%\n"
    }
   }
  },
  {
   "cell_type": "markdown",
   "source": [
    "We can see that the lo4 threat detection didn't trigger in any of the final attacks - they did, however, apparently work in all of the intermediate attack.\n",
    "\n",
    "It's possible that the fatal positions didn't come up as candidates in the first place. Need to debug to find that out.\n",
    "\n",
    "\n",
    "Below are the boards for rapidly reproducing the failure"
   ],
   "metadata": {
    "collapsed": false,
    "pycharm": {
     "name": "#%% md\n"
    }
   }
  },
  {
   "cell_type": "code",
   "execution_count": 18,
   "outputs": [
    {
     "name": "stdout",
     "output_type": "stream",
     "text": [
      "[(8, 8), (9, 7), (9, 9), (7, 7), (10, 7), (8, 6), (10, 8), (6, 8), (9, 5), (5, 9), (4, 10), (7, 5), (10, 9), (6, 4), (5, 3), (10, 6), (10, 10), (10, 11), (9, 10), (12, 10), (3, 10), (13, 11), (8, 10), (14, 12), (5, 10), (15, 13), (11, 9), (6, 10), (11, 10), (7, 10), (7, 11), (15, 14), (11, 7)]\n"
     ]
    }
   ],
   "source": [
    "for i in range(NUM_GAMES):\n",
    "    print(rounds[-1][i])"
   ],
   "metadata": {
    "collapsed": false,
    "pycharm": {
     "name": "#%%\n"
    }
   }
  },
  {
   "cell_type": "code",
   "execution_count": 21,
   "outputs": [
    {
     "data": {
      "text/plain": "'h8g9g7i9f9h9j9i8i7j7g10d7e9f8h10i10g8i6l9d6e6e7c5d8d9c9g5g6h6k9i5h5b10f4b5e5b8b7i12e8c7g4m10k8'"
     },
     "execution_count": 21,
     "metadata": {},
     "output_type": "execute_result"
    }
   ],
   "source": [
    "gtools.stones_to_string(board.stones)"
   ],
   "metadata": {
    "collapsed": false,
    "pycharm": {
     "name": "#%%\n"
    }
   }
  },
  {
   "cell_type": "markdown",
   "source": [
    "# Analysis"
   ],
   "metadata": {
    "collapsed": false,
    "pycharm": {
     "name": "#%% md\n"
    }
   }
  },
  {
   "cell_type": "code",
   "execution_count": 23,
   "outputs": [],
   "source": [
    "stones = gtools.string_to_stones(\n",
    "    'h8g8g7k11j10i9h7h9i7f7i10k7g9f10l4k5k12f12h10f5f8f13f9k10i11m12j12')"
   ],
   "metadata": {
    "collapsed": false,
    "pycharm": {
     "name": "#%%\n"
    }
   }
  },
  {
   "cell_type": "code",
   "execution_count": 22,
   "outputs": [
    {
     "data": {
      "text/plain": "<Figure size 432x432 with 1 Axes>",
      "image/png": "[encoded data removed]"
     },
     "metadata": {
      "needs_background": "light"
     },
     "output_type": "display_data"
    }
   ],
   "source": [
    "board = GomokuBoard(n=15, disp_width=6, stones=board.stones)\n",
    "board.display()"
   ],
   "metadata": {
    "collapsed": false,
    "pycharm": {
     "name": "#%%\n"
    }
   }
  },
  {
   "cell_type": "code",
   "execution_count": 23,
   "outputs": [
    {
     "data": {
      "text/plain": "<Figure size 432x432 with 1 Axes>",
      "image/png": "[encoded data removed]"
     },
     "metadata": {
      "needs_background": "light"
     },
     "output_type": "display_data"
    }
   ],
   "source": [
    "board.bwd(2).display()"
   ],
   "metadata": {
    "collapsed": false,
    "pycharm": {
     "name": "#%%\n"
    }
   }
  },
  {
   "cell_type": "code",
   "execution_count": 24,
   "outputs": [],
   "source": [
    "board_state = create_binary_rep(board, padding=4, border=True, switch=True)"
   ],
   "metadata": {
    "collapsed": false,
    "pycharm": {
     "name": "#%%\n"
    }
   }
  },
  {
   "cell_type": "code",
   "execution_count": 26,
   "outputs": [],
   "source": [
    "board_size = board.N"
   ],
   "metadata": {
    "collapsed": false,
    "pycharm": {
     "name": "#%%\n"
    }
   }
  },
  {
   "cell_type": "code",
   "execution_count": 27,
   "outputs": [],
   "source": [
    "model = InfluenceModel(board_size=board_size, current_influence=[[1, 2, 4, 8], [1, 2, 4, 8]], curr_tau=2, other_tau=2)"
   ],
   "metadata": {
    "collapsed": false,
    "pycharm": {
     "name": "#%%\n"
    }
   }
  },
  {
   "cell_type": "code",
   "execution_count": 28,
   "outputs": [
    {
     "data": {
      "text/plain": "<tf.Tensor: shape=(15, 15), dtype=float32, numpy=\narray([[0.00000000e+00, 0.00000000e+00, 0.00000000e+00, 0.00000000e+00,\n        0.00000000e+00, 0.00000000e+00, 0.00000000e+00, 0.00000000e+00,\n        0.00000000e+00, 0.00000000e+00, 0.00000000e+00, 0.00000000e+00,\n        0.00000000e+00, 0.00000000e+00, 0.00000000e+00],\n       [0.00000000e+00, 0.00000000e+00, 0.00000000e+00, 0.00000000e+00,\n        1.62019933e-05, 0.00000000e+00, 0.00000000e+00, 0.00000000e+00,\n        0.00000000e+00, 0.00000000e+00, 0.00000000e+00, 0.00000000e+00,\n        1.62019933e-05, 0.00000000e+00, 0.00000000e+00],\n       [0.00000000e+00, 0.00000000e+00, 2.46131208e-06, 0.00000000e+00,\n        0.00000000e+00, 0.00000000e+00, 2.46131208e-06, 0.00000000e+00,\n        6.77157950e-05, 0.00000000e+00, 1.23065604e-06, 1.50062488e-02,\n        1.23065604e-06, 0.00000000e+00, 6.77157950e-05],\n       [0.00000000e+00, 0.00000000e+00, 0.00000000e+00, 0.00000000e+00,\n        8.24930567e-07, 0.00000000e+00, 0.00000000e+00, 0.00000000e+00,\n        0.00000000e+00, 8.24930567e-07, 1.00589897e-02, 0.00000000e+00,\n        0.00000000e+00, 8.24933807e-07, 0.00000000e+00],\n       [3.56995799e-02, 0.00000000e+00, 0.00000000e+00, 2.08815169e-02,\n        2.08815169e-02, 2.31940061e-01, 5.52970391e-07, 7.01675611e-03,\n        2.42779091e-01, 2.77342834e-03, 1.32429868e-01, 0.00000000e+00,\n        0.00000000e+00, 0.00000000e+00, 0.00000000e+00],\n       [0.00000000e+00, 0.00000000e+00, 1.34651609e-05, 2.31923044e-01,\n        1.08605309e-05, 5.52970391e-07, 0.00000000e+00, 0.00000000e+00,\n        0.00000000e+00, 4.53065615e-03, 1.09028891e-01, 0.00000000e+00,\n        0.00000000e+00, 0.00000000e+00, 0.00000000e+00],\n       [0.00000000e+00, 0.00000000e+00, 0.00000000e+00, 0.00000000e+00,\n        0.00000000e+00, 0.00000000e+00, 0.00000000e+00, 0.00000000e+00,\n        0.00000000e+00, 0.00000000e+00, 0.00000000e+00, 0.00000000e+00,\n        0.00000000e+00, 0.00000000e+00, 0.00000000e+00],\n       [4.81347641e-04, 0.00000000e+00, 1.32873434e-09, 0.00000000e+00,\n        0.00000000e+00, 0.00000000e+00, 0.00000000e+00, 0.00000000e+00,\n        0.00000000e+00, 4.95570386e-03, 0.00000000e+00, 0.00000000e+00,\n        1.04677742e-02, 8.24933807e-07, 6.77157950e-05],\n       [2.08815169e-02, 0.00000000e+00, 0.00000000e+00, 0.00000000e+00,\n        0.00000000e+00, 9.49421749e-02, 0.00000000e+00, 3.85974497e-02,\n        0.00000000e+00, 0.00000000e+00, 8.87704343e-02, 0.00000000e+00,\n        0.00000000e+00, 1.62019933e-05, 0.00000000e+00],\n       [0.00000000e+00, 0.00000000e+00, 1.32873434e-09, 0.00000000e+00,\n        0.00000000e+00, 1.84962265e-02, 0.00000000e+00, 0.00000000e+00,\n        0.00000000e+00, 7.01675611e-03, 2.11904913e-01, 0.00000000e+00,\n        1.23075699e-06, 8.24933807e-07, 0.00000000e+00],\n       [0.00000000e+00, 0.00000000e+00, 0.00000000e+00, 6.90072700e-02,\n        0.00000000e+00, 1.19583663e-02, 0.00000000e+00, 0.00000000e+00,\n        0.00000000e+00, 0.00000000e+00, 1.97562188e-01, 1.32429868e-01,\n        1.23065604e-06, 0.00000000e+00, 6.77157950e-05],\n       [4.81347641e-04, 2.75656302e-02, 1.50062488e-02, 1.36543170e-01,\n        1.02529936e-01, 0.00000000e+00, 0.00000000e+00, 8.87812972e-02,\n        2.21200302e-01, 1.97562188e-01, 1.50062488e-02, 0.00000000e+00,\n        1.50062488e-02, 0.00000000e+00, 6.77157950e-05],\n       [2.13304418e-04, 0.00000000e+00, 0.00000000e+00, 1.50062488e-02,\n        1.00928946e-10, 6.44060850e-01, 1.47104054e-03, 0.00000000e+00,\n        0.00000000e+00, 6.74397126e-03, 0.00000000e+00, 0.00000000e+00,\n        0.00000000e+00, 1.62019933e-05, 0.00000000e+00],\n       [0.00000000e+00, 8.24933807e-07, 1.62019933e-05, 1.62019933e-05,\n        1.97562188e-01, 0.00000000e+00, 1.23066479e-06, 1.97562188e-01,\n        0.00000000e+00, 0.00000000e+00, 2.08815169e-02, 0.00000000e+00,\n        1.62019933e-05, 0.00000000e+00, 0.00000000e+00],\n       [6.77157950e-05, 0.00000000e+00, 0.00000000e+00, 2.75494382e-02,\n        6.77157950e-05, 1.08605309e-05, 0.00000000e+00, 6.77157950e-05,\n        2.75494382e-02, 1.08605309e-05, 0.00000000e+00, 6.77157950e-05,\n        0.00000000e+00, 0.00000000e+00, 0.00000000e+00]], dtype=float32)>"
     },
     "execution_count": 28,
     "metadata": {},
     "output_type": "execute_result"
    }
   ],
   "source": [
    "context1.model.influence_of(board_state, for_humans=False)"
   ],
   "metadata": {
    "collapsed": false,
    "pycharm": {
     "name": "#%%\n"
    }
   }
  },
  {
   "cell_type": "code",
   "execution_count": null,
   "outputs": [],
   "source": [],
   "metadata": {
    "collapsed": false,
    "pycharm": {
     "name": "#%%\n"
    }
   }
  }
 ],
 "metadata": {
  "kernelspec": {
   "display_name": "Python 3",
   "language": "python",
   "name": "python3"
  },
  "language_info": {
   "codemirror_mode": {
    "name": "ipython",
    "version": 2
   },
   "file_extension": ".py",
   "mimetype": "text/x-python",
   "name": "python",
   "nbconvert_exporter": "python",
   "pygments_lexer": "ipython2",
   "version": "2.7.6"
  }
 },
 "nbformat": 4,
 "nbformat_minor": 0
}