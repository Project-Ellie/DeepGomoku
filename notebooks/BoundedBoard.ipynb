{
 "cells": [
  {
   "cell_type": "markdown",
   "source": [],
   "metadata": {
    "collapsed": false,
    "pycharm": {
     "name": "#%% md\n"
    }
   }
  },
  {
   "cell_type": "markdown",
   "source": [
    "# Board and Move representation\n",
    "\n",
    "### The Board and Move classes are meant to be human-friendly in print and ML-friendly in their internal representation"
   ],
   "metadata": {
    "collapsed": false,
    "pycharm": {
     "name": "#%% md\n"
    }
   }
  },
  {
   "cell_type": "code",
   "execution_count": 1,
   "outputs": [],
   "source": [
    "%load_ext autoreload\n",
    "%autoreload 2"
   ],
   "metadata": {
    "collapsed": false,
    "pycharm": {
     "name": "#%%\n"
    }
   }
  },
  {
   "cell_type": "code",
   "execution_count": 2,
   "outputs": [],
   "source": [
    "from alphazero.gomoku_board import *"
   ],
   "metadata": {
    "collapsed": false,
    "pycharm": {
     "name": "#%%\n"
    }
   }
  },
  {
   "cell_type": "markdown",
   "source": [
    "#### We can chose between X=black and X=current"
   ],
   "metadata": {
    "collapsed": false,
    "pycharm": {
     "name": "#%% md\n"
    }
   }
  },
  {
   "cell_type": "code",
   "execution_count": 3,
   "outputs": [],
   "source": [
    "SIZE=9"
   ],
   "metadata": {
    "collapsed": false,
    "pycharm": {
     "name": "#%%\n"
    }
   }
  },
  {
   "cell_type": "code",
   "execution_count": 4,
   "outputs": [
    {
     "name": "stdout",
     "output_type": "stream",
     "text": [
      "                                   \n",
      " 9    .  .  .  .  .  .  .  .  .    \n",
      " 8    .  .  .  .  .  .  .  .  .    \n",
      " 7    .  .  .  .  .  .  0  .  .    \n",
      " 6    .  .  .  .  .  X  .  .  .    \n",
      " 5    .  .  .  X  0  .  .  .  .    \n",
      " 4    .  .  .  X  .  .  .  .  .    \n",
      " 3    .  .  .  .  .  .  .  .  .    \n",
      " 2    .  .  .  .  .  .  .  .  .    \n",
      " 1    .  .  .  .  .  .  .  .  .    \n",
      "                                   \n",
      "      A  B  C  D  E  F  G  H  I\n"
     ]
    }
   ],
   "source": [
    "# For humans:  X is always black\n",
    "board = Board(SIZE, \"d4e5f6g7d5\")\n",
    "board.plot()"
   ],
   "metadata": {
    "collapsed": false,
    "pycharm": {
     "name": "#%%\n"
    }
   }
  },
  {
   "cell_type": "code",
   "execution_count": 5,
   "outputs": [
    {
     "name": "stdout",
     "output_type": "stream",
     "text": [
      "                                   \n",
      " 9    .  .  .  .  .  .  .  .  .    \n",
      " 8    .  .  .  .  .  .  .  .  .    \n",
      " 7    .  .  .  .  .  .  X  .  .    \n",
      " 6    .  .  .  .  .  0  .  .  .    \n",
      " 5    .  .  .  0  X  .  .  .  .    \n",
      " 4    .  .  .  0  .  .  .  .  .    \n",
      " 3    .  .  .  .  .  .  .  .  .    \n",
      " 2    .  .  .  .  .  .  .  .  .    \n",
      " 1    .  .  .  .  .  .  .  .  .    \n",
      "                                   \n",
      "      A  B  C  D  E  F  G  H  I\n"
     ]
    }
   ],
   "source": [
    "# For ML:  X is always next player\n",
    "board.plot(x_is_next=True)"
   ],
   "metadata": {
    "collapsed": false,
    "pycharm": {
     "name": "#%%\n"
    }
   }
  },
  {
   "cell_type": "markdown",
   "source": [],
   "metadata": {
    "collapsed": false,
    "pycharm": {
     "name": "#%% md\n"
    }
   }
  },
  {
   "cell_type": "markdown",
   "source": [
    "---\n",
    "#### All positions are validated"
   ],
   "metadata": {
    "collapsed": false,
    "pycharm": {
     "name": "#%% md\n"
    }
   }
  },
  {
   "cell_type": "code",
   "execution_count": 6,
   "outputs": [
    {
     "ename": "AssertionError",
     "evalue": "Not all stones in valid range",
     "output_type": "error",
     "traceback": [
      "\u001B[0;31m---------------------------------------------------------------------------\u001B[0m",
      "\u001B[0;31mAssertionError\u001B[0m                            Traceback (most recent call last)",
      "Input \u001B[0;32mIn [6]\u001B[0m, in \u001B[0;36m<cell line: 1>\u001B[0;34m()\u001B[0m\n\u001B[0;32m----> 1\u001B[0m board \u001B[38;5;241m=\u001B[39m \u001B[43mBoard\u001B[49m\u001B[43m(\u001B[49m\u001B[43mSIZE\u001B[49m\u001B[43m,\u001B[49m\u001B[43m \u001B[49m\u001B[38;5;124;43m\"\u001B[39;49m\u001B[38;5;124;43md4d16o4\u001B[39;49m\u001B[38;5;124;43m\"\u001B[39;49m\u001B[43m)\u001B[49m\n",
      "File \u001B[0;32m~/workspace/Project-Ellie/DeepGomoku/alphazero/gomoku_board.py:132\u001B[0m, in \u001B[0;36mBoard.__init__\u001B[0;34m(self, board_size, stones, x_means)\u001B[0m\n\u001B[1;32m    129\u001B[0m \u001B[38;5;28mself\u001B[39m\u001B[38;5;241m.\u001B[39mstones \u001B[38;5;241m=\u001B[39m stones \u001B[38;5;28;01mif\u001B[39;00m stones \u001B[38;5;129;01mis\u001B[39;00m \u001B[38;5;129;01mnot\u001B[39;00m \u001B[38;5;28;01mNone\u001B[39;00m \u001B[38;5;28;01melse\u001B[39;00m \u001B[38;5;124m\"\u001B[39m\u001B[38;5;124m\"\u001B[39m\n\u001B[1;32m    131\u001B[0m \u001B[38;5;28;01mif\u001B[39;00m stones \u001B[38;5;129;01mis\u001B[39;00m \u001B[38;5;129;01mnot\u001B[39;00m \u001B[38;5;28;01mNone\u001B[39;00m:\n\u001B[0;32m--> 132\u001B[0m     \u001B[38;5;28;43mself\u001B[39;49m\u001B[38;5;241;43m.\u001B[39;49m\u001B[43m_assert_valid\u001B[49m\u001B[43m(\u001B[49m\u001B[43mstones\u001B[49m\u001B[43m)\u001B[49m\n\u001B[1;32m    133\u001B[0m     \u001B[38;5;28;01mfor\u001B[39;00m stone \u001B[38;5;129;01min\u001B[39;00m stones[::\u001B[38;5;241m-\u001B[39m\u001B[38;5;241m1\u001B[39m]:\n\u001B[1;32m    134\u001B[0m         \u001B[38;5;28mself\u001B[39m\u001B[38;5;241m.\u001B[39mmath_rep[stone\u001B[38;5;241m.\u001B[39mr, stone\u001B[38;5;241m.\u001B[39mc, channel] \u001B[38;5;241m=\u001B[39m \u001B[38;5;241m1\u001B[39m\n",
      "File \u001B[0;32m~/workspace/Project-Ellie/DeepGomoku/alphazero/gomoku_board.py:163\u001B[0m, in \u001B[0;36mBoard._assert_valid\u001B[0;34m(self, stones)\u001B[0m\n\u001B[1;32m    161\u001B[0m \u001B[38;5;28;01mdef\u001B[39;00m \u001B[38;5;21m_assert_valid\u001B[39m(\u001B[38;5;28mself\u001B[39m, stones: List):\n\u001B[1;32m    162\u001B[0m     \u001B[38;5;28;01massert\u001B[39;00m \u001B[38;5;28mlen\u001B[39m(\u001B[38;5;28mset\u001B[39m(stones)) \u001B[38;5;241m==\u001B[39m \u001B[38;5;28mlen\u001B[39m(stones), \u001B[38;5;124mf\u001B[39m\u001B[38;5;124m\"\u001B[39m\u001B[38;5;124mStones are not unique: \u001B[39m\u001B[38;5;132;01m{\u001B[39;00mstones\u001B[38;5;132;01m}\u001B[39;00m\u001B[38;5;124m\"\u001B[39m\n\u001B[0;32m--> 163\u001B[0m     \u001B[38;5;28;01massert\u001B[39;00m \u001B[38;5;28mall\u001B[39m([\u001B[38;5;28mself\u001B[39m\u001B[38;5;241m.\u001B[39mboard_size \u001B[38;5;241m>\u001B[39m\u001B[38;5;241m=\u001B[39m s\u001B[38;5;241m.\u001B[39mr \u001B[38;5;241m>\u001B[39m\u001B[38;5;241m=\u001B[39m \u001B[38;5;241m1\u001B[39m \u001B[38;5;28;01mfor\u001B[39;00m s \u001B[38;5;129;01min\u001B[39;00m stones]), \u001B[38;5;124m\"\u001B[39m\u001B[38;5;124mNot all stones in valid range\u001B[39m\u001B[38;5;124m\"\u001B[39m\n\u001B[1;32m    164\u001B[0m     \u001B[38;5;28;01massert\u001B[39;00m \u001B[38;5;28mall\u001B[39m([\u001B[38;5;28mself\u001B[39m\u001B[38;5;241m.\u001B[39mboard_size \u001B[38;5;241m>\u001B[39m\u001B[38;5;241m=\u001B[39m s\u001B[38;5;241m.\u001B[39mc \u001B[38;5;241m>\u001B[39m\u001B[38;5;241m=\u001B[39m \u001B[38;5;241m1\u001B[39m \u001B[38;5;28;01mfor\u001B[39;00m s \u001B[38;5;129;01min\u001B[39;00m stones]), \u001B[38;5;124m\"\u001B[39m\u001B[38;5;124mNot all stones in valid range\u001B[39m\u001B[38;5;124m\"\u001B[39m\n",
      "\u001B[0;31mAssertionError\u001B[0m: Not all stones in valid range"
     ]
    }
   ],
   "source": [
    "board = Board(SIZE, \"d4d16o4\")"
   ],
   "metadata": {
    "collapsed": false,
    "pycharm": {
     "name": "#%%\n"
    }
   }
  },
  {
   "cell_type": "code",
   "execution_count": 7,
   "outputs": [
    {
     "ename": "AssertionError",
     "evalue": "D4 is occupied.",
     "output_type": "error",
     "traceback": [
      "\u001B[0;31m---------------------------------------------------------------------------\u001B[0m",
      "\u001B[0;31mAssertionError\u001B[0m                            Traceback (most recent call last)",
      "Input \u001B[0;32mIn [7]\u001B[0m, in \u001B[0;36m<cell line: 1>\u001B[0;34m()\u001B[0m\n\u001B[0;32m----> 1\u001B[0m \u001B[43mboard\u001B[49m\u001B[38;5;241;43m.\u001B[39;49m\u001B[43mput\u001B[49m\u001B[43m(\u001B[49m\u001B[43mboard\u001B[49m\u001B[38;5;241;43m.\u001B[39;49m\u001B[43mStone\u001B[49m\u001B[43m(\u001B[49m\u001B[43mD\u001B[49m\u001B[43m,\u001B[49m\u001B[43m \u001B[49m\u001B[38;5;241;43m4\u001B[39;49m\u001B[43m)\u001B[49m\u001B[43m)\u001B[49m\n",
      "File \u001B[0;32m~/workspace/Project-Ellie/DeepGomoku/alphazero/gomoku_board.py:212\u001B[0m, in \u001B[0;36mBoard.act\u001B[0;34m(self, *args)\u001B[0m\n\u001B[1;32m    210\u001B[0m     stone \u001B[38;5;241m=\u001B[39m \u001B[38;5;28mself\u001B[39m\u001B[38;5;241m.\u001B[39mStone(\u001B[38;5;241m*\u001B[39margs)\n\u001B[1;32m    211\u001B[0m m \u001B[38;5;241m=\u001B[39m \u001B[38;5;28mself\u001B[39m\u001B[38;5;241m.\u001B[39mmath_rep\n\u001B[0;32m--> 212\u001B[0m \u001B[38;5;28;01massert\u001B[39;00m m[stone\u001B[38;5;241m.\u001B[39mr, stone\u001B[38;5;241m.\u001B[39mc, \u001B[38;5;241m0\u001B[39m] \u001B[38;5;241m==\u001B[39m m[stone\u001B[38;5;241m.\u001B[39mr, stone\u001B[38;5;241m.\u001B[39mc, \u001B[38;5;241m1\u001B[39m] \u001B[38;5;241m==\u001B[39m \u001B[38;5;241m0\u001B[39m, \u001B[38;5;124mf\u001B[39m\u001B[38;5;124m\"\u001B[39m\u001B[38;5;132;01m{\u001B[39;00mstone\u001B[38;5;132;01m}\u001B[39;00m\u001B[38;5;124m is occupied.\u001B[39m\u001B[38;5;124m\"\u001B[39m\n\u001B[1;32m    213\u001B[0m m[stone\u001B[38;5;241m.\u001B[39mr, stone\u001B[38;5;241m.\u001B[39mc, \u001B[38;5;241m0\u001B[39m] \u001B[38;5;241m=\u001B[39m \u001B[38;5;241m1\u001B[39m\n\u001B[1;32m    214\u001B[0m m[:, :, [\u001B[38;5;241m0\u001B[39m, \u001B[38;5;241m1\u001B[39m]] \u001B[38;5;241m=\u001B[39m m[:, :, [\u001B[38;5;241m1\u001B[39m, \u001B[38;5;241m0\u001B[39m]]\n",
      "\u001B[0;31mAssertionError\u001B[0m: D4 is occupied."
     ]
    }
   ],
   "source": [
    "board.act(board.Stone(D, 4))"
   ],
   "metadata": {
    "collapsed": false,
    "pycharm": {
     "name": "#%%\n"
    }
   }
  },
  {
   "cell_type": "markdown",
   "source": [
    "---"
   ],
   "metadata": {
    "collapsed": false,
    "pycharm": {
     "name": "#%% md\n"
    }
   }
  },
  {
   "cell_type": "markdown",
   "source": [
    "## Understanding board coordinates"
   ],
   "metadata": {
    "collapsed": false,
    "pycharm": {
     "name": "#%% md\n"
    }
   }
  },
  {
   "cell_type": "code",
   "execution_count": 8,
   "outputs": [],
   "source": [
    "Stone = board.Stone"
   ],
   "metadata": {
    "collapsed": false,
    "pycharm": {
     "name": "#%%\n"
    }
   }
  },
  {
   "cell_type": "code",
   "execution_count": 9,
   "outputs": [
    {
     "name": "stdout",
     "output_type": "stream",
     "text": [
      "A9 = (1, 1) - ordinal = 12\n"
     ]
    }
   ],
   "source": [
    "move = Stone(A, SIZE)\n",
    "# board coordinates start with 1 and end with n because the boundary stones are part of the board\n",
    "print(f\"{move} = ({move.r}, {move.c}) - ordinal = {move.i}\")"
   ],
   "metadata": {
    "collapsed": false,
    "pycharm": {
     "name": "#%%\n"
    }
   }
  },
  {
   "cell_type": "markdown",
   "source": [
    "---"
   ],
   "metadata": {
    "collapsed": false,
    "pycharm": {
     "name": "#%% md\n"
    }
   }
  },
  {
   "cell_type": "markdown",
   "source": [
    "# Statistical Population\n",
    "\n",
    "All moves vs all legal moves"
   ],
   "metadata": {
    "collapsed": false,
    "pycharm": {
     "name": "#%% md\n"
    }
   }
  },
  {
   "cell_type": "markdown",
   "source": [
    "\n",
    "### Legal moves are provided as ordinals to facilitate the sparse vector multiplication in the learning process\n",
    "Note that the boundary positions are never showing up"
   ],
   "metadata": {
    "collapsed": false,
    "pycharm": {
     "name": "#%% md\n"
    }
   }
  },
  {
   "cell_type": "code",
   "execution_count": 17,
   "outputs": [
    {
     "name": "stdout",
     "output_type": "stream",
     "text": [
      "76 [12, 13, 14, 15, 16, 17, 18, 19, 20, 23, 24, 25, 26, 27, 28, 29, 30, 31, 34, 35, 36, 37, 38, 39, 41, 42, 45, 46, 47, 48, 49, 51, 52, 53, 56, 57, 58, 61, 62, 63, 64, 67, 68, 69, 71, 72, 73, 74, 75, 78, 79, 80, 81, 82, 83, 84, 85, 86, 89, 90, 91, 92, 93, 94, 95, 96, 97, 100, 101, 102, 103, 104, 105, 106, 107, 108]\n"
     ]
    }
   ],
   "source": [
    "legals = board.get_legal_actions()\n",
    "print(len(legals), legals)"
   ],
   "metadata": {
    "collapsed": false,
    "pycharm": {
     "name": "#%%\n"
    }
   }
  },
  {
   "cell_type": "markdown",
   "source": [
    "#### Note that the occupied positions are missing as expected."
   ],
   "metadata": {
    "collapsed": false,
    "pycharm": {
     "name": "#%% md\n"
    }
   }
  },
  {
   "cell_type": "code",
   "execution_count": 18,
   "outputs": [
    {
     "name": "stdout",
     "output_type": "stream",
     "text": [
      "{12, 13, 14, 15, 16, 17, 18, 19, 20, 23, 24, 25, 26, 27, 28, 29, 30, 31, 34, 35, 36, 37, 38, 39, 40, 41, 42, 45, 46, 47, 48, 49, 50, 51, 52, 53, 56, 57, 58, 59, 60, 61, 62, 63, 64, 67, 68, 69, 70, 71, 72, 73, 74, 75, 78, 79, 80, 81, 82, 83, 84, 85, 86, 89, 90, 91, 92, 93, 94, 95, 96, 97}\n"
     ]
    }
   ],
   "source": [
    "print(Stone.all_actions)"
   ],
   "metadata": {
    "collapsed": false,
    "pycharm": {
     "name": "#%%\n"
    }
   }
  },
  {
   "cell_type": "code",
   "execution_count": 20,
   "outputs": [
    {
     "name": "stdout",
     "output_type": "stream",
     "text": [
      "Missing: [D4, G7, F6, D5, E5], occupied: [D4, E5, F6, G7, D5]\n"
     ]
    }
   ],
   "source": [
    "missing_from_legals = Stone.all_actions.difference(set(legals))\n",
    "print(f\"Missing: {[board.Stone(i) for i in missing_from_legals]}, occupied: {board.stones}\")"
   ],
   "metadata": {
    "collapsed": false,
    "pycharm": {
     "name": "#%%\n"
    }
   }
  },
  {
   "cell_type": "code",
   "execution_count": null,
   "outputs": [],
   "source": [],
   "metadata": {
    "collapsed": false,
    "pycharm": {
     "name": "#%%\n"
    }
   }
  }
 ],
 "metadata": {
  "kernelspec": {
   "display_name": "Python 3",
   "language": "python",
   "name": "python3"
  },
  "language_info": {
   "codemirror_mode": {
    "name": "ipython",
    "version": 2
   },
   "file_extension": ".py",
   "mimetype": "text/x-python",
   "name": "python",
   "nbconvert_exporter": "python",
   "pygments_lexer": "ipython2",
   "version": "2.7.6"
  }
 },
 "nbformat": 4,
 "nbformat_minor": 0
}