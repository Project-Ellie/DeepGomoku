{
 "cells": [
  {
   "cell_type": "markdown",
   "source": [],
   "metadata": {
    "collapsed": false,
    "pycharm": {
     "name": "#%% md\n"
    }
   }
  },
  {
   "cell_type": "markdown",
   "source": [
    "# Board and Move representation\n",
    "\n",
    "### The Board and Move classes are meant to be human-friendly in print and ML-friendly in their internal representation"
   ],
   "metadata": {
    "collapsed": false,
    "pycharm": {
     "name": "#%% md\n"
    }
   }
  },
  {
   "cell_type": "code",
   "execution_count": 1,
   "outputs": [],
   "source": [
    "import numpy as np\n",
    "%load_ext autoreload\n",
    "%autoreload 2"
   ],
   "metadata": {
    "collapsed": false,
    "pycharm": {
     "name": "#%%\n"
    }
   }
  },
  {
   "cell_type": "code",
   "execution_count": 2,
   "outputs": [],
   "source": [
    "from alphazero.gomoku_board import *"
   ],
   "metadata": {
    "collapsed": false,
    "pycharm": {
     "name": "#%%\n"
    }
   }
  },
  {
   "cell_type": "markdown",
   "source": [
    "#### We can chose between X=black and X=current"
   ],
   "metadata": {
    "collapsed": false,
    "pycharm": {
     "name": "#%% md\n"
    }
   }
  },
  {
   "cell_type": "code",
   "execution_count": 3,
   "outputs": [],
   "source": [
    "SIZE=9"
   ],
   "metadata": {
    "collapsed": false,
    "pycharm": {
     "name": "#%%\n"
    }
   }
  },
  {
   "cell_type": "code",
   "execution_count": 4,
   "outputs": [
    {
     "name": "stdout",
     "output_type": "stream",
     "text": [
      "                                   \n",
      " 9    .  .  .  .  .  .  .  .  .    \n",
      " 8    .  .  .  .  .  .  .  .  .    \n",
      " 7    .  .  .  .  .  .  0  .  .    \n",
      " 6    .  .  .  .  .  X  .  .  .    \n",
      " 5    .  .  .  X  0  .  .  .  .    \n",
      " 4    .  .  .  X  .  .  .  .  .    \n",
      " 3    .  .  .  .  .  .  .  .  .    \n",
      " 2    .  .  .  .  .  .  .  .  .    \n",
      " 1    .  .  .  .  .  .  .  .  .    \n",
      "                                   \n",
      "      A  B  C  D  E  F  G  H  I\n"
     ]
    }
   ],
   "source": [
    "# For humans:  X is always black\n",
    "board = Board(SIZE, \"d4e5f6g7d5\")\n",
    "board.plot()"
   ],
   "metadata": {
    "collapsed": false,
    "pycharm": {
     "name": "#%%\n"
    }
   }
  },
  {
   "cell_type": "code",
   "execution_count": 5,
   "outputs": [
    {
     "name": "stdout",
     "output_type": "stream",
     "text": [
      "                                   \n",
      " 9    .  .  .  .  .  .  .  .  .    \n",
      " 8    .  .  .  .  .  .  .  .  .    \n",
      " 7    .  .  .  .  .  .  X  .  .    \n",
      " 6    .  .  .  .  .  0  .  .  .    \n",
      " 5    .  .  .  0  X  .  .  .  .    \n",
      " 4    .  .  .  0  .  .  .  .  .    \n",
      " 3    .  .  .  .  .  .  .  .  .    \n",
      " 2    .  .  .  .  .  .  .  .  .    \n",
      " 1    .  .  .  .  .  .  .  .  .    \n",
      "                                   \n",
      "      A  B  C  D  E  F  G  H  I\n"
     ]
    }
   ],
   "source": [
    "# For ML:  X is always next player\n",
    "board.plot(x_is_next=True)"
   ],
   "metadata": {
    "collapsed": false,
    "pycharm": {
     "name": "#%%\n"
    }
   }
  },
  {
   "cell_type": "markdown",
   "source": [],
   "metadata": {
    "collapsed": false,
    "pycharm": {
     "name": "#%% md\n"
    }
   }
  },
  {
   "cell_type": "markdown",
   "source": [
    "---\n",
    "#### All positions are validated"
   ],
   "metadata": {
    "collapsed": false,
    "pycharm": {
     "name": "#%% md\n"
    }
   }
  },
  {
   "cell_type": "code",
   "execution_count": 6,
   "outputs": [
    {
     "ename": "AssertionError",
     "evalue": "D16 is not a valid position on this board.",
     "output_type": "error",
     "traceback": [
      "\u001B[0;31m---------------------------------------------------------------------------\u001B[0m",
      "\u001B[0;31mAssertionError\u001B[0m                            Traceback (most recent call last)",
      "File \u001B[0;32m~/workspace/Project-Ellie/DeepGomoku/alphazero/gomoku_board.py:124\u001B[0m, in \u001B[0;36mBoard._string_to_stones\u001B[0;34m(self, encoded)\u001B[0m\n\u001B[1;32m    123\u001B[0m \u001B[38;5;28;01mtry\u001B[39;00m:\n\u001B[0;32m--> 124\u001B[0m     stones\u001B[38;5;241m.\u001B[39mappend(\u001B[38;5;28;43mself\u001B[39;49m\u001B[38;5;241;43m.\u001B[39;49m\u001B[43mStone\u001B[49m\u001B[43m(\u001B[49m\u001B[38;5;241;43m*\u001B[39;49m\u001B[43mGt\u001B[49m\u001B[38;5;241;43m.\u001B[39;49m\u001B[43mb2m\u001B[49m\u001B[43m(\u001B[49m\u001B[43m(\u001B[49m\u001B[43mx\u001B[49m\u001B[43m,\u001B[49m\u001B[43m \u001B[49m\u001B[43my\u001B[49m\u001B[43m)\u001B[49m\u001B[43m,\u001B[49m\u001B[43m \u001B[49m\u001B[38;5;28;43mself\u001B[39;49m\u001B[38;5;241;43m.\u001B[39;49m\u001B[43mn\u001B[49m\u001B[43m)\u001B[49m\u001B[43m)\u001B[49m)\n\u001B[1;32m    125\u001B[0m \u001B[38;5;28;01mexcept\u001B[39;00m \u001B[38;5;167;01mAssertionError\u001B[39;00m:\n",
      "File \u001B[0;32m~/workspace/Project-Ellie/DeepGomoku/alphazero/gomoku_board.py:59\u001B[0m, in \u001B[0;36mBoard.__init__.<locals>.Stone.__init__\u001B[0;34m(self, r_x, c_y)\u001B[0m\n\u001B[1;32m     57\u001B[0m \u001B[38;5;28;01massert\u001B[39;00m x \u001B[38;5;129;01mis\u001B[39;00m \u001B[38;5;28;01mNone\u001B[39;00m \u001B[38;5;129;01mand\u001B[39;00m y \u001B[38;5;129;01mis\u001B[39;00m \u001B[38;5;28;01mNone\u001B[39;00m, \\\n\u001B[1;32m     58\u001B[0m     \u001B[38;5;124m\"\u001B[39m\u001B[38;5;124mPlease provide either r,c matrix coordinates or x, y, n board coordinates\u001B[39m\u001B[38;5;124m\"\u001B[39m\n\u001B[0;32m---> 59\u001B[0m \u001B[38;5;28;01massert\u001B[39;00m \u001B[38;5;28mself\u001B[39m\u001B[38;5;241m.\u001B[39mn \u001B[38;5;241m>\u001B[39m\u001B[38;5;241m=\u001B[39m r \u001B[38;5;241m>\u001B[39m \u001B[38;5;241m0\u001B[39m, \u001B[38;5;124m\"\u001B[39m\u001B[38;5;124mrow out of range 1 <= r <= n\u001B[39m\u001B[38;5;124m\"\u001B[39m\n\u001B[1;32m     60\u001B[0m \u001B[38;5;28;01massert\u001B[39;00m \u001B[38;5;28mself\u001B[39m\u001B[38;5;241m.\u001B[39mn \u001B[38;5;241m>\u001B[39m\u001B[38;5;241m=\u001B[39m c \u001B[38;5;241m>\u001B[39m \u001B[38;5;241m0\u001B[39m, \u001B[38;5;124m\"\u001B[39m\u001B[38;5;124mcol out of range 1 <= c <= n\u001B[39m\u001B[38;5;124m\"\u001B[39m\n",
      "\u001B[0;31mAssertionError\u001B[0m: row out of range 1 <= r <= n",
      "\nDuring handling of the above exception, another exception occurred:\n",
      "\u001B[0;31mAssertionError\u001B[0m                            Traceback (most recent call last)",
      "Input \u001B[0;32mIn [6]\u001B[0m, in \u001B[0;36m<cell line: 1>\u001B[0;34m()\u001B[0m\n\u001B[0;32m----> 1\u001B[0m board \u001B[38;5;241m=\u001B[39m \u001B[43mBoard\u001B[49m\u001B[43m(\u001B[49m\u001B[43mSIZE\u001B[49m\u001B[43m,\u001B[49m\u001B[43m \u001B[49m\u001B[38;5;124;43m\"\u001B[39;49m\u001B[38;5;124;43md4d16o4\u001B[39;49m\u001B[38;5;124;43m\"\u001B[39;49m\u001B[43m)\u001B[49m\n\u001B[1;32m      2\u001B[0m board\u001B[38;5;241m.\u001B[39mplot()\n",
      "File \u001B[0;32m~/workspace/Project-Ellie/DeepGomoku/alphazero/gomoku_board.py:102\u001B[0m, in \u001B[0;36mBoard.__init__\u001B[0;34m(self, n, stones)\u001B[0m\n\u001B[1;32m    100\u001B[0m channel \u001B[38;5;241m=\u001B[39m \u001B[38;5;241m1\u001B[39m\n\u001B[1;32m    101\u001B[0m \u001B[38;5;28;01mif\u001B[39;00m \u001B[38;5;28misinstance\u001B[39m(stones, \u001B[38;5;28mstr\u001B[39m):\n\u001B[0;32m--> 102\u001B[0m     stones \u001B[38;5;241m=\u001B[39m \u001B[38;5;28;43mself\u001B[39;49m\u001B[38;5;241;43m.\u001B[39;49m\u001B[43m_string_to_stones\u001B[49m\u001B[43m(\u001B[49m\u001B[43mstones\u001B[49m\u001B[43m)\u001B[49m\n\u001B[1;32m    104\u001B[0m \u001B[38;5;28mself\u001B[39m\u001B[38;5;241m.\u001B[39m_assert_valid(stones)\n\u001B[1;32m    105\u001B[0m \u001B[38;5;28mself\u001B[39m\u001B[38;5;241m.\u001B[39mstones \u001B[38;5;241m=\u001B[39m stones\n",
      "File \u001B[0;32m~/workspace/Project-Ellie/DeepGomoku/alphazero/gomoku_board.py:126\u001B[0m, in \u001B[0;36mBoard._string_to_stones\u001B[0;34m(self, encoded)\u001B[0m\n\u001B[1;32m    124\u001B[0m     stones\u001B[38;5;241m.\u001B[39mappend(\u001B[38;5;28mself\u001B[39m\u001B[38;5;241m.\u001B[39mStone(\u001B[38;5;241m*\u001B[39mGt\u001B[38;5;241m.\u001B[39mb2m((x, y), \u001B[38;5;28mself\u001B[39m\u001B[38;5;241m.\u001B[39mn)))\n\u001B[1;32m    125\u001B[0m \u001B[38;5;28;01mexcept\u001B[39;00m \u001B[38;5;167;01mAssertionError\u001B[39;00m:\n\u001B[0;32m--> 126\u001B[0m     \u001B[38;5;28;01mraise\u001B[39;00m \u001B[38;5;167;01mAssertionError\u001B[39;00m(\u001B[38;5;124mf\u001B[39m\u001B[38;5;124m\"\u001B[39m\u001B[38;5;132;01m{\u001B[39;00mx\u001B[38;5;132;01m}\u001B[39;00m\u001B[38;5;132;01m{\u001B[39;00my\u001B[38;5;132;01m}\u001B[39;00m\u001B[38;5;124m is not a valid position on this board.\u001B[39m\u001B[38;5;124m\"\u001B[39m)\n\u001B[1;32m    127\u001B[0m x \u001B[38;5;241m=\u001B[39m c\u001B[38;5;241m.\u001B[39mupper()\n\u001B[1;32m    128\u001B[0m y \u001B[38;5;241m=\u001B[39m \u001B[38;5;241m0\u001B[39m\n",
      "\u001B[0;31mAssertionError\u001B[0m: D16 is not a valid position on this board."
     ]
    }
   ],
   "source": [
    "board = Board(SIZE, \"d4d16o4\")\n",
    "board.plot()"
   ],
   "metadata": {
    "collapsed": false,
    "pycharm": {
     "name": "#%%\n"
    }
   }
  },
  {
   "cell_type": "markdown",
   "source": [
    "---"
   ],
   "metadata": {
    "collapsed": false,
    "pycharm": {
     "name": "#%% md\n"
    }
   }
  },
  {
   "cell_type": "markdown",
   "source": [
    "## Understanding board coordinates"
   ],
   "metadata": {
    "collapsed": false,
    "pycharm": {
     "name": "#%% md\n"
    }
   }
  },
  {
   "cell_type": "code",
   "execution_count": 7,
   "outputs": [
    {
     "name": "stdout",
     "output_type": "stream",
     "text": [
      "A9 = (1, 1) - ordinal = 10\n"
     ]
    }
   ],
   "source": [
    "move = board.Stone(A, SIZE)\n",
    "# board coordinates start with 1 and end with n because the boundary stones are part of the board\n",
    "print(f\"{move} = ({move.r}, {move.c}) - ordinal = {move.i}\")"
   ],
   "metadata": {
    "collapsed": false,
    "pycharm": {
     "name": "#%%\n"
    }
   }
  },
  {
   "cell_type": "markdown",
   "source": [
    "\n",
    "### Legal moves are provided as ordinals, computed by n * r + c to facilitate the sparse vector multiplication in the learning process"
   ],
   "metadata": {
    "collapsed": false,
    "pycharm": {
     "name": "#%% md\n"
    }
   }
  },
  {
   "cell_type": "code",
   "execution_count": 8,
   "outputs": [
    {
     "name": "stdout",
     "output_type": "stream",
     "text": [
      "76 [10, 11, 12, 13, 14, 15, 16, 17, 18, 19, 20, 21, 22, 23, 24, 25, 26, 27, 28, 29, 30, 31, 32, 33, 35, 36, 37, 38, 39, 40, 41, 43, 44, 45, 46, 47, 48, 51, 52, 53, 54, 55, 56, 57, 59, 60, 61, 62, 63, 64, 65, 66, 67, 68, 69, 70, 71, 72, 73, 74, 75, 76, 77, 78, 79, 80, 81, 82, 83, 84, 85, 86, 87, 88, 89, 90]\n"
     ]
    }
   ],
   "source": [
    "legals = board.get_legal_moves()\n",
    "print(len(legals), legals)"
   ],
   "metadata": {
    "collapsed": false,
    "pycharm": {
     "name": "#%%\n"
    }
   }
  },
  {
   "cell_type": "markdown",
   "source": [
    "#### Note that the occupied positions are missing as expected."
   ],
   "metadata": {
    "collapsed": false,
    "pycharm": {
     "name": "#%% md\n"
    }
   }
  },
  {
   "cell_type": "code",
   "execution_count": 9,
   "outputs": [
    {
     "name": "stdout",
     "output_type": "stream",
     "text": [
      "{34, 42, 49, 50, 58}\n"
     ]
    },
    {
     "data": {
      "text/plain": "[G7, F6, D5, E5, D4]"
     },
     "execution_count": 9,
     "metadata": {},
     "output_type": "execute_result"
    }
   ],
   "source": [
    "occupied = set(range(SIZE+1, SIZE * SIZE)).difference(set(legals))\n",
    "print(occupied)\n",
    "[board.Stone(i) for i in occupied]"
   ],
   "metadata": {
    "collapsed": false,
    "pycharm": {
     "name": "#%%\n"
    }
   }
  },
  {
   "cell_type": "code",
   "execution_count": 10,
   "outputs": [
    {
     "ename": "AssertionError",
     "evalue": "D4 is occupied.",
     "output_type": "error",
     "traceback": [
      "\u001B[0;31m---------------------------------------------------------------------------\u001B[0m",
      "\u001B[0;31mAssertionError\u001B[0m                            Traceback (most recent call last)",
      "Input \u001B[0;32mIn [10]\u001B[0m, in \u001B[0;36m<cell line: 1>\u001B[0;34m()\u001B[0m\n\u001B[0;32m----> 1\u001B[0m \u001B[43mboard\u001B[49m\u001B[38;5;241;43m.\u001B[39;49m\u001B[43mput\u001B[49m\u001B[43m(\u001B[49m\u001B[43mboard\u001B[49m\u001B[38;5;241;43m.\u001B[39;49m\u001B[43mStone\u001B[49m\u001B[43m(\u001B[49m\u001B[43mD\u001B[49m\u001B[43m,\u001B[49m\u001B[43m \u001B[49m\u001B[38;5;241;43m4\u001B[39;49m\u001B[43m)\u001B[49m\u001B[43m)\u001B[49m\n",
      "File \u001B[0;32m~/workspace/Project-Ellie/DeepGomoku/alphazero/gomoku_board.py:180\u001B[0m, in \u001B[0;36mBoard.put\u001B[0;34m(self, *args)\u001B[0m\n\u001B[1;32m    178\u001B[0m     stone \u001B[38;5;241m=\u001B[39m \u001B[38;5;28mself\u001B[39m\u001B[38;5;241m.\u001B[39mStone(\u001B[38;5;241m*\u001B[39margs)\n\u001B[1;32m    179\u001B[0m m \u001B[38;5;241m=\u001B[39m \u001B[38;5;28mself\u001B[39m\u001B[38;5;241m.\u001B[39mmath_rep\n\u001B[0;32m--> 180\u001B[0m \u001B[38;5;28;01massert\u001B[39;00m m[stone\u001B[38;5;241m.\u001B[39mr, stone\u001B[38;5;241m.\u001B[39mc, \u001B[38;5;241m0\u001B[39m] \u001B[38;5;241m==\u001B[39m m[stone\u001B[38;5;241m.\u001B[39mr, stone\u001B[38;5;241m.\u001B[39mc, \u001B[38;5;241m1\u001B[39m] \u001B[38;5;241m==\u001B[39m \u001B[38;5;241m0\u001B[39m, \u001B[38;5;124mf\u001B[39m\u001B[38;5;124m\"\u001B[39m\u001B[38;5;132;01m{\u001B[39;00mstone\u001B[38;5;132;01m}\u001B[39;00m\u001B[38;5;124m is occupied.\u001B[39m\u001B[38;5;124m\"\u001B[39m\n\u001B[1;32m    181\u001B[0m m[stone\u001B[38;5;241m.\u001B[39mr, stone\u001B[38;5;241m.\u001B[39mc, \u001B[38;5;241m0\u001B[39m] \u001B[38;5;241m=\u001B[39m \u001B[38;5;241m1\u001B[39m\n\u001B[1;32m    182\u001B[0m m[:, :, [\u001B[38;5;241m0\u001B[39m, \u001B[38;5;241m1\u001B[39m]] \u001B[38;5;241m=\u001B[39m m[:, :, [\u001B[38;5;241m1\u001B[39m, \u001B[38;5;241m0\u001B[39m]]\n",
      "\u001B[0;31mAssertionError\u001B[0m: D4 is occupied."
     ]
    }
   ],
   "source": [
    "board.put(board.Stone(D, 4))"
   ],
   "metadata": {
    "collapsed": false,
    "pycharm": {
     "name": "#%%\n"
    }
   }
  },
  {
   "cell_type": "code",
   "execution_count": 11,
   "outputs": [
    {
     "name": "stdout",
     "output_type": "stream",
     "text": [
      "                                   \n",
      " 9    .  .  .  .  .  .  .  .  .    \n",
      " 8    .  .  .  .  .  .  .  .  .    \n",
      " 7    .  .  .  .  .  .  X  .  .    \n",
      " 6    .  .  .  .  .  0  .  .  .    \n",
      " 5    .  .  .  0  X  .  .  .  .    \n",
      " 4    .  .  .  0  .  .  .  .  .    \n",
      " 3    .  .  .  X  .  .  .  .  .    \n",
      " 2    .  .  .  .  .  .  .  .  .    \n",
      " 1    .  .  .  .  .  .  .  .  .    \n",
      "                                   \n",
      "      A  B  C  D  E  F  G  H  I\n"
     ]
    }
   ],
   "source": [
    "board.put(D, 3).plot()"
   ],
   "metadata": {
    "collapsed": false,
    "pycharm": {
     "name": "#%%\n"
    }
   }
  },
  {
   "cell_type": "code",
   "execution_count": 12,
   "outputs": [
    {
     "name": "stdout",
     "output_type": "stream",
     "text": [
      "                                   \n",
      " 9    .  .  .  .  .  .  .  .  .    \n",
      " 8    .  .  .  .  .  .  .  .  .    \n",
      " 7    .  .  .  X  .  .  0  .  .    \n",
      " 6    .  .  .  .  .  X  .  .  .    \n",
      " 5    .  .  .  X  0  .  .  .  .    \n",
      " 4    .  .  .  X  .  .  .  .  .    \n",
      " 3    .  .  .  0  .  .  .  .  .    \n",
      " 2    .  .  .  .  .  .  .  .  .    \n",
      " 1    .  .  .  .  .  .  .  .  .    \n",
      "                                   \n",
      "      A  B  C  D  E  F  G  H  I\n"
     ]
    }
   ],
   "source": [
    "board.put(D, 7).plot()"
   ],
   "metadata": {
    "collapsed": false,
    "pycharm": {
     "name": "#%%\n"
    }
   }
  },
  {
   "cell_type": "code",
   "execution_count": null,
   "outputs": [],
   "source": [],
   "metadata": {
    "collapsed": false,
    "pycharm": {
     "name": "#%%\n"
    }
   }
  }
 ],
 "metadata": {
  "kernelspec": {
   "display_name": "Python 3",
   "language": "python",
   "name": "python3"
  },
  "language_info": {
   "codemirror_mode": {
    "name": "ipython",
    "version": 2
   },
   "file_extension": ".py",
   "mimetype": "text/x-python",
   "name": "python",
   "nbconvert_exporter": "python",
   "pygments_lexer": "ipython2",
   "version": "2.7.6"
  }
 },
 "nbformat": 4,
 "nbformat_minor": 0
}