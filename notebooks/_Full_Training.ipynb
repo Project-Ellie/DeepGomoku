{
 "cells": [
  {
   "cell_type": "markdown",
   "source": [
    "# Train the policy from sufficient data\n",
    "\n",
    "---\n",
    "### @Wolfie: START HERE: NOT YET WORKING\n",
    "---"
   ],
   "metadata": {
    "collapsed": false,
    "pycharm": {
     "name": "#%% md\n"
    }
   }
  },
  {
   "cell_type": "code",
   "execution_count": null,
   "metadata": {
    "collapsed": true,
    "pycharm": {
     "name": "#%%\n"
    }
   },
   "outputs": [],
   "source": [
    "BOARD_SIZE=15"
   ]
  },
  {
   "cell_type": "markdown",
   "source": [
    "---\n",
    "# Training a neural network with Selfplay data"
   ],
   "metadata": {
    "collapsed": false,
    "pycharm": {
     "name": "#%% md\n"
    }
   }
  },
  {
   "cell_type": "code",
   "execution_count": 23,
   "outputs": [
    {
     "name": "stdout",
     "output_type": "stream",
     "text": [
      "Model: \"gomoku_model\"\n",
      "_________________________________________________________________\n",
      " Layer (type)                Output Shape              Param #   \n",
      "=================================================================\n",
      " initial (Conv2D)            multiple                  11648     \n",
      "                                                                 \n",
      " potential_0 (Conv2D)        multiple                  123936    \n",
      "                                                                 \n",
      " potential_1 (Conv2D)        multiple                  123936    \n",
      "                                                                 \n",
      " potential_2 (Conv2D)        multiple                  123936    \n",
      "                                                                 \n",
      " potential_3 (Conv2D)        multiple                  123936    \n",
      "                                                                 \n",
      " potential_4 (Conv2D)        multiple                  123936    \n",
      "                                                                 \n",
      " policy_aggregator (Conv2D)  multiple                  33        \n",
      "                                                                 \n",
      " flatten (Flatten)           multiple                  0         \n",
      "                                                                 \n",
      " value_aggregator (Conv2D)   multiple                  33        \n",
      "                                                                 \n",
      " border_off (Conv2D)         multiple                  10        \n",
      "                                                                 \n",
      " dense (Dense)               multiple                  226       \n",
      "                                                                 \n",
      "=================================================================\n",
      "Total params: 631,630\n",
      "Trainable params: 631,620\n",
      "Non-trainable params: 10\n",
      "_________________________________________________________________\n",
      "(1, 17, 17, 3)\n"
     ]
    },
    {
     "name": "stderr",
     "output_type": "stream",
     "text": [
      "2022-08-03 21:20:51.558907: I tensorflow/core/platform/cpu_feature_guard.cc:193] This TensorFlow binary is optimized with oneAPI Deep Neural Network Library (oneDNN) to use the following CPU instructions in performance-critical operations:  AVX2 FMA\n",
      "To enable them in other operations, rebuild TensorFlow with the appropriate compiler flags.\n"
     ]
    }
   ],
   "source": [
    "from aegomoku.gomoku_model import NeuralNetAdapter\n",
    "\n",
    "the_model = NeuralNetAdapter( BOARD_SIZE+ 2)\n",
    "the_model.policy.summary()\n",
    "sample = np.expand_dims(examples[0][0], axis=0).astype(float)\n",
    "print(sample.shape)"
   ],
   "metadata": {
    "collapsed": false,
    "pycharm": {
     "name": "#%%\n"
    }
   }
  },
  {
   "cell_type": "code",
   "execution_count": 24,
   "outputs": [
    {
     "name": "stdout",
     "output_type": "stream",
     "text": [
      "Potential: 3073.421875\n",
      "Value Head: -22.637210845947266\n",
      "Policy Head: 0.3489210903644562\n"
     ]
    },
    {
     "data": {
      "text/plain": "(<tf.Tensor: shape=(1, 225), dtype=float32, numpy=\n array([[0.00443726, 0.00443726, 0.00443726, 0.00443726, 0.00443726,\n         0.00443726, 0.00443726, 0.00443726, 0.00443726, 0.00443726,\n         0.00443726, 0.00443726, 0.00443726, 0.00443726, 0.00443726,\n         0.00443726, 0.00443726, 0.00443726, 0.00443726, 0.00443726,\n         0.00443726, 0.00443726, 0.00443726, 0.00443726, 0.00443726,\n         0.00443726, 0.00443726, 0.00443726, 0.00443726, 0.00443726,\n         0.00449675, 0.00443726, 0.00443726, 0.00443726, 0.00443726,\n         0.00443726, 0.00443726, 0.00443726, 0.00443726, 0.00443726,\n         0.00443726, 0.00443726, 0.00443726, 0.00443726, 0.00443726,\n         0.00460492, 0.00443726, 0.00505739, 0.00443726, 0.00443726,\n         0.00443726, 0.00443726, 0.00443726, 0.00443726, 0.00443726,\n         0.00443726, 0.00443726, 0.00443726, 0.00443726, 0.00443726,\n         0.00454716, 0.00443726, 0.00484231, 0.00443726, 0.00443726,\n         0.00443726, 0.00443726, 0.00443726, 0.00443726, 0.00443726,\n         0.00443726, 0.00443726, 0.00443726, 0.00443726, 0.00443726,\n         0.00443726, 0.00443726, 0.00443726, 0.00443726, 0.00443726,\n         0.00443726, 0.00443726, 0.00443726, 0.00443726, 0.00443726,\n         0.00443726, 0.00443726, 0.00443726, 0.00443726, 0.00443726,\n         0.00443726, 0.00443726, 0.00443726, 0.00443726, 0.00443726,\n         0.00443726, 0.00443726, 0.00443726, 0.00443726, 0.00443726,\n         0.00443726, 0.00443726, 0.00443726, 0.00443726, 0.00443726,\n         0.00443726, 0.00443726, 0.00443726, 0.00443726, 0.00443726,\n         0.00443726, 0.00443726, 0.00443726, 0.00443726, 0.00443726,\n         0.00443726, 0.00443726, 0.00443726, 0.00443726, 0.00443726,\n         0.00443726, 0.00443726, 0.00443726, 0.00443726, 0.00443726,\n         0.00443726, 0.00443726, 0.00443726, 0.00443726, 0.00443726,\n         0.00443726, 0.00443726, 0.00443726, 0.00443726, 0.00443726,\n         0.00443726, 0.00443726, 0.00443726, 0.00443726, 0.00443726,\n         0.00443726, 0.00443726, 0.00443726, 0.00443726, 0.00443726,\n         0.00443726, 0.00443726, 0.00443726, 0.00443726, 0.00443726,\n         0.00443726, 0.00443726, 0.00443726, 0.00443726, 0.00443726,\n         0.00443726, 0.00443726, 0.00443726, 0.00443726, 0.00443726,\n         0.00443726, 0.00443726, 0.00443726, 0.00443726, 0.00443726,\n         0.00443726, 0.00443726, 0.00443726, 0.00443726, 0.00443726,\n         0.00443726, 0.00443726, 0.00443726, 0.00443726, 0.00443726,\n         0.00443726, 0.00443726, 0.00443726, 0.00443726, 0.00443726,\n         0.00446614, 0.00443726, 0.00443726, 0.00443726, 0.00443726,\n         0.00443726, 0.00443726, 0.00443726, 0.00443726, 0.00443726,\n         0.00443726, 0.00443726, 0.00443726, 0.00443726, 0.00443726,\n         0.00443726, 0.00443726, 0.00443726, 0.00443726, 0.00443726,\n         0.00443726, 0.00443726, 0.00443726, 0.00443726, 0.00443726,\n         0.00443726, 0.00443726, 0.00443726, 0.00443726, 0.00443726,\n         0.00443726, 0.00443726, 0.00443726, 0.00443726, 0.00443726,\n         0.00466196, 0.00443726, 0.00443726, 0.00443726, 0.00443726,\n         0.00443726, 0.00443726, 0.00443726, 0.00443726, 0.00443726]],\n       dtype=float32)>,\n <tf.Tensor: shape=(1, 1), dtype=float32, numpy=array([[-0.09925147]], dtype=float32)>)"
     },
     "execution_count": 24,
     "metadata": {},
     "output_type": "execute_result"
    }
   ],
   "source": [
    "the_model.policy(sample, debug=True)"
   ],
   "metadata": {
    "collapsed": false,
    "pycharm": {
     "name": "#%%\n"
    }
   }
  },
  {
   "cell_type": "code",
   "execution_count": 35,
   "outputs": [
    {
     "name": "stdout",
     "output_type": "stream",
     "text": [
      "Epoch: 1, Loss: 5.380550384521484\n",
      "Epochs: 2, Loss: 5.380550384521484\n"
     ]
    }
   ],
   "source": [
    "the_model.train(examples[:10], epochs_per_train=2)"
   ],
   "metadata": {
    "collapsed": false,
    "pycharm": {
     "name": "#%%\n"
    }
   }
  },
  {
   "cell_type": "markdown",
   "source": [
    "# Did the policy learn?"
   ],
   "metadata": {
    "collapsed": false,
    "pycharm": {
     "name": "#%% md\n"
    }
   }
  },
  {
   "cell_type": "code",
   "execution_count": 33,
   "outputs": [
    {
     "name": "stdout",
     "output_type": "stream",
     "text": [
      "3 (17, 17, 3) 1.0\n",
      "[[  0   0   0   0   0   0   0   0   0   0   0   0   0   0   0]\n",
      " [  0   0   0   0   0   0   0   0   0   0   0   0   0   0   0]\n",
      " [  0   0   0   0   0   0   0   0   0   0   0   0   0   0   0]\n",
      " [  0   0   0   0   0   0   0   0   0   0   0   0   0   0   0]\n",
      " [  0   0   0   0   0   0   0   0   0   0   0   0   0   0   0]\n",
      " [  0   0   0   0   0   0   0   0   0   0   0   0   0   0   0]\n",
      " [  0   0   0   0   0   0   0   0   0   0   0   0   0   0   0]\n",
      " [  0   0   0   0   0   0   0   0   0   0   0   0   0   0   0]\n",
      " [  0   0   0   0   0   0   0   0   0   0   0   0   0   0   0]\n",
      " [  0   0 100   0   0   0   0   0   0   0   0   0   0   0   0]\n",
      " [  0   0   0   0   0   0   0   0   0   0   0   0   0   0   0]\n",
      " [  0   0   0   0   0   0   0   0   0   0   0   0   0   0   0]\n",
      " [  0   0   0   0   0   0   0   0   0   0   0   0   0   0   0]\n",
      " [  0   0   0   0   0   0   0   0   0   0   0   0   0   0   0]\n",
      " [  0   0   0   0   0   0   0   0   0   0   0   0   0   0   0]]\n",
      "shape: (17, 17, 3)\n",
      "[[3 3 3 3 3 3 3 3 3 3 3 3 3 3 3 3 3]\n",
      " [3 0 0 0 0 0 0 0 0 0 0 0 0 0 0 0 3]\n",
      " [3 0 0 0 0 0 0 0 0 0 0 0 0 0 0 0 3]\n",
      " [3 0 0 0 0 0 0 0 0 0 0 0 0 0 0 0 3]\n",
      " [3 0 0 0 0 0 0 0 0 0 0 0 0 0 0 0 3]\n",
      " [3 0 0 0 0 0 0 0 0 0 0 0 0 0 0 0 3]\n",
      " [3 0 0 0 0 0 0 2 2 0 0 0 0 0 0 0 3]\n",
      " [3 0 0 0 2 2 2 1 0 0 0 0 0 0 0 0 3]\n",
      " [3 0 0 0 2 1 0 1 0 0 0 0 0 0 0 0 3]\n",
      " [3 0 0 0 2 1 1 1 0 2 0 0 0 0 0 0 3]\n",
      " [3 0 0 0 1 1 1 1 2 0 0 0 0 0 0 0 3]\n",
      " [3 0 0 0 0 0 0 2 0 0 0 0 0 0 0 0 3]\n",
      " [3 0 0 0 0 0 0 0 0 0 0 0 0 0 0 0 3]\n",
      " [3 0 0 0 0 0 0 0 0 0 0 0 0 0 0 0 3]\n",
      " [3 0 0 0 0 0 0 0 0 0 0 0 0 0 0 0 3]\n",
      " [3 0 0 0 0 0 0 0 0 0 0 0 0 0 0 0 3]\n",
      " [3 3 3 3 3 3 3 3 3 3 3 3 3 3 3 3 3]]\n"
     ]
    }
   ],
   "source": [
    "ex=examples[-1]\n",
    "print(len(ex), ex[0].shape, ex[2])\n",
    "print((np.array(ex[1]) * 100).reshape((15, 15)).astype(int))\n",
    "gt.print_channels(ex[0])"
   ],
   "metadata": {
    "collapsed": false,
    "pycharm": {
     "name": "#%%\n"
    }
   }
  },
  {
   "cell_type": "code",
   "execution_count": 34,
   "outputs": [
    {
     "name": "stdout",
     "output_type": "stream",
     "text": [
      "Potential: 18080.5234375\n",
      "Value Head: -212.93588256835938\n",
      "Policy Head: 0.0\n",
      "[[0 0 0 0 0 0 0 0 0 0 0 0 0 0 0]\n",
      " [0 0 0 0 0 0 0 0 0 0 0 0 0 0 0]\n",
      " [0 0 0 0 0 0 0 0 0 0 0 0 0 0 0]\n",
      " [0 0 0 0 0 0 0 0 0 0 0 0 0 0 0]\n",
      " [0 0 0 0 0 0 0 0 0 0 0 0 0 0 0]\n",
      " [0 0 0 0 0 0 0 0 0 0 0 0 0 0 0]\n",
      " [0 0 0 0 0 0 0 0 0 0 0 0 0 0 0]\n",
      " [0 0 0 0 0 0 0 0 0 0 0 0 0 0 0]\n",
      " [0 0 0 0 0 0 0 0 0 0 0 0 0 0 0]\n",
      " [0 0 0 0 0 0 0 0 0 0 0 0 0 0 0]\n",
      " [0 0 0 0 0 0 0 0 0 0 0 0 0 0 0]\n",
      " [0 0 0 0 0 0 0 0 0 0 0 0 0 0 0]\n",
      " [0 0 0 0 0 0 0 0 0 0 0 0 0 0 0]\n",
      " [0 0 0 0 0 0 0 0 0 0 0 0 0 0 0]\n",
      " [0 0 0 0 0 0 0 0 0 0 0 0 0 0 0]]\n",
      "\n",
      "Value: [[-0.00454056]]\n"
     ]
    }
   ],
   "source": [
    "p, v = the_model.predict(np.expand_dims(ex[0], axis=0).astype(float), debug=True)\n",
    "print((p*100).numpy().reshape((15, 15)).astype(int))\n",
    "print()\n",
    "print(f\"Value: {v}\")"
   ],
   "metadata": {
    "collapsed": false,
    "pycharm": {
     "name": "#%%\n"
    }
   }
  },
  {
   "cell_type": "code",
   "execution_count": 36,
   "outputs": [],
   "source": [
    "the_model = NeuralNetAdapter( BOARD_SIZE+ 2)"
   ],
   "metadata": {
    "collapsed": false,
    "pycharm": {
     "name": "#%%\n"
    }
   }
  },
  {
   "cell_type": "code",
   "execution_count": 37,
   "outputs": [],
   "source": [
    "examples_file = 'temperature/checkpoint_0.pth.tar.examples'"
   ],
   "metadata": {
    "collapsed": false,
    "pycharm": {
     "name": "#%%\n"
    }
   }
  },
  {
   "cell_type": "code",
   "execution_count": 38,
   "outputs": [],
   "source": [
    "from pickle import Unpickler\n",
    "\n",
    "with open(examples_file, \"rb\") as f:\n",
    "    examples = Unpickler(f).load()\n"
   ],
   "metadata": {
    "collapsed": false,
    "pycharm": {
     "name": "#%%\n"
    }
   }
  },
  {
   "cell_type": "code",
   "execution_count": 39,
   "outputs": [],
   "source": [
    "ex = examples[0][-10]"
   ],
   "metadata": {
    "collapsed": false,
    "pycharm": {
     "name": "#%%\n"
    }
   }
  },
  {
   "cell_type": "code",
   "execution_count": 40,
   "outputs": [
    {
     "data": {
      "text/plain": "(17, 17, 3)"
     },
     "execution_count": 40,
     "metadata": {},
     "output_type": "execute_result"
    }
   ],
   "source": [
    "ex[0].shape"
   ],
   "metadata": {
    "collapsed": false,
    "pycharm": {
     "name": "#%%\n"
    }
   }
  }
 ],
 "metadata": {
  "kernelspec": {
   "display_name": "Python 3",
   "language": "python",
   "name": "python3"
  },
  "language_info": {
   "codemirror_mode": {
    "name": "ipython",
    "version": 2
   },
   "file_extension": ".py",
   "mimetype": "text/x-python",
   "name": "python",
   "nbconvert_exporter": "python",
   "pygments_lexer": "ipython2",
   "version": "2.7.6"
  }
 },
 "nbformat": 4,
 "nbformat_minor": 0
}