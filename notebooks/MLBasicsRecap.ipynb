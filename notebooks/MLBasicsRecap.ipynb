{
 "cells": [
  {
   "cell_type": "code",
   "execution_count": null,
   "outputs": [],
   "source": [
    "%load_ext autoreload\n",
    "%autoreload 2"
   ],
   "metadata": {
    "collapsed": false,
    "pycharm": {
     "name": "#%%\n",
     "is_executing": true
    }
   }
  },
  {
   "cell_type": "code",
   "execution_count": 1,
   "outputs": [],
   "source": [
    "import numpy as np\n",
    "import tensorflow as tf\n",
    "\n",
    "from domoku.constants import BLACK, WHITE\n",
    "from domoku.tools import GomokuTools as Gt"
   ],
   "metadata": {
    "collapsed": false,
    "pycharm": {
     "name": "#%%\n"
    }
   }
  },
  {
   "cell_type": "code",
   "execution_count": 2,
   "outputs": [],
   "source": [
    "input_size=5"
   ],
   "metadata": {
    "collapsed": false,
    "pycharm": {
     "name": "#%%\n"
    }
   }
  },
  {
   "cell_type": "markdown",
   "source": [
    "---"
   ],
   "metadata": {
    "collapsed": false,
    "pycharm": {
     "name": "#%% md\n"
    }
   }
  },
  {
   "cell_type": "markdown",
   "source": [
    "## Sampling Random Boards"
   ],
   "metadata": {
    "collapsed": false,
    "pycharm": {
     "name": "#%% md\n"
    }
   }
  },
  {
   "cell_type": "code",
   "execution_count": 3,
   "outputs": [
    {
     "data": {
      "text/plain": "(1, 5, 5, 2)"
     },
     "execution_count": 3,
     "metadata": {},
     "output_type": "execute_result"
    }
   ],
   "source": [
    "from notebooks.ml_basics_recap.data import new_sample\n",
    "sample = new_sample(board_size=input_size, num_blacks=20, num_whites=0)\n",
    "sample.shape"
   ],
   "metadata": {
    "collapsed": false,
    "pycharm": {
     "name": "#%%\n"
    }
   }
  },
  {
   "cell_type": "code",
   "execution_count": 4,
   "outputs": [
    {
     "name": "stdout",
     "output_type": "stream",
     "text": [
      "shape: (5, 5, 2)\n",
      "[[1. 1. 0. 1. 0.]\n",
      " [1. 0. 0. 0. 1.]\n",
      " [1. 0. 1. 0. 0.]\n",
      " [1. 1. 0. 0. 0.]\n",
      " [1. 0. 1. 1. 0.]]\n"
     ]
    }
   ],
   "source": [
    "Gt.print_bin(sample, True)"
   ],
   "metadata": {
    "collapsed": false,
    "pycharm": {
     "name": "#%%\n"
    }
   }
  },
  {
   "cell_type": "markdown",
   "source": [
    "---"
   ],
   "metadata": {
    "collapsed": false,
    "pycharm": {
     "name": "#%% md\n"
    }
   }
  },
  {
   "cell_type": "markdown",
   "source": [
    "## The Detection Map"
   ],
   "metadata": {
    "collapsed": false,
    "pycharm": {
     "name": "#%% md\n"
    }
   }
  },
  {
   "cell_type": "code",
   "execution_count": 5,
   "outputs": [
    {
     "name": "stderr",
     "output_type": "stream",
     "text": [
      "2022-05-26 17:58:21.894610: I tensorflow/core/platform/cpu_feature_guard.cc:151] This TensorFlow binary is optimized with oneAPI Deep Neural Network Library (oneDNN) to use the following CPU instructions in performance-critical operations:  AVX2 FMA\n",
      "To enable them in other operations, rebuild TensorFlow with the appropriate compiler flags.\n"
     ]
    }
   ],
   "source": [
    "from notebooks.ml_basics_recap.models.heuristic_detector import HeuristicDetector\n",
    "detector = HeuristicDetector(input_size)"
   ],
   "metadata": {
    "collapsed": false,
    "pycharm": {
     "name": "#%%\n"
    }
   }
  },
  {
   "cell_type": "code",
   "execution_count": 6,
   "outputs": [
    {
     "data": {
      "text/plain": "<tf.Tensor: shape=(1, 5, 5), dtype=float32, numpy=\narray([[[0., 0., 0., 0., 0.],\n        [1., 0., 0., 0., 0.],\n        [1., 0., 0., 0., 0.],\n        [1., 1., 0., 0., 0.],\n        [0., 0., 0., 0., 0.]]], dtype=float32)>"
     },
     "execution_count": 6,
     "metadata": {},
     "output_type": "execute_result"
    }
   ],
   "source": [
    "tf.floor(detector(sample)+.01)"
   ],
   "metadata": {
    "collapsed": false,
    "pycharm": {
     "name": "#%%\n"
    }
   }
  },
  {
   "cell_type": "markdown",
   "source": [
    "---"
   ],
   "metadata": {
    "collapsed": false,
    "pycharm": {
     "name": "#%% md\n"
    }
   }
  },
  {
   "cell_type": "markdown",
   "source": [
    "## Batches From a Dataset"
   ],
   "metadata": {
    "collapsed": false,
    "pycharm": {
     "name": "#%% md\n"
    }
   }
  },
  {
   "cell_type": "code",
   "execution_count": 7,
   "outputs": [],
   "source": [
    "BATCH_SIZE=4"
   ],
   "metadata": {
    "collapsed": false,
    "pycharm": {
     "name": "#%%\n"
    }
   }
  },
  {
   "cell_type": "code",
   "execution_count": 8,
   "outputs": [],
   "source": [
    "from notebooks.ml_basics_recap.data import new_sample, new_dataset\n",
    "dataset = new_dataset(100, lambda: new_sample(input_size, 20, 0), detector).batch(BATCH_SIZE)"
   ],
   "metadata": {
    "collapsed": false,
    "pycharm": {
     "name": "#%%\n"
    }
   }
  },
  {
   "cell_type": "code",
   "execution_count": 9,
   "outputs": [
    {
     "data": {
      "text/plain": "TensorShape([4, 5, 5])"
     },
     "execution_count": 9,
     "metadata": {},
     "output_type": "execute_result"
    }
   ],
   "source": [
    "iterator  = iter(dataset)\n",
    "states, labels = iterator.next()\n",
    "labels.shape"
   ],
   "metadata": {
    "collapsed": false,
    "pycharm": {
     "name": "#%%\n"
    }
   }
  },
  {
   "cell_type": "code",
   "execution_count": 10,
   "outputs": [
    {
     "data": {
      "text/plain": "TensorShape([4, 1, 5, 5, 2])"
     },
     "execution_count": 10,
     "metadata": {},
     "output_type": "execute_result"
    }
   ],
   "source": [
    "states.shape"
   ],
   "metadata": {
    "collapsed": false,
    "pycharm": {
     "name": "#%%\n"
    }
   }
  },
  {
   "cell_type": "markdown",
   "source": [
    "---"
   ],
   "metadata": {
    "collapsed": false,
    "pycharm": {
     "name": "#%% md\n"
    }
   }
  },
  {
   "cell_type": "markdown",
   "source": [
    "## The Trainable Model"
   ],
   "metadata": {
    "collapsed": false,
    "pycharm": {
     "name": "#%% md\n"
    }
   }
  },
  {
   "cell_type": "code",
   "execution_count": 11,
   "outputs": [],
   "source": [
    "from notebooks.ml_basics_recap.models import SimpleConvQFunction\n",
    "\n",
    "model = SimpleConvQFunction(input_size, n_filters=8, n_layers=4)"
   ],
   "metadata": {
    "collapsed": false,
    "pycharm": {
     "name": "#%%\n"
    }
   }
  },
  {
   "cell_type": "code",
   "execution_count": 12,
   "outputs": [
    {
     "name": "stdout",
     "output_type": "stream",
     "text": [
      "(4, 1, 5, 5)\n"
     ]
    },
    {
     "data": {
      "text/plain": "<tf.Tensor: shape=(4, 1, 5, 5), dtype=float32, numpy=\narray([[[[0.05512343, 0.05147012, 0.05102488, 0.05052979, 0.05499422],\n         [0.0487574 , 0.04349193, 0.0436986 , 0.04213116, 0.04947419],\n         [0.04903263, 0.04209143, 0.04278982, 0.04147002, 0.04853417],\n         [0.04810731, 0.04098667, 0.04152723, 0.04087096, 0.04813401],\n         [0.05221086, 0.04531613, 0.04578032, 0.04499815, 0.04941812]]],\n\n\n       [[[0.05527663, 0.05151242, 0.0510808 , 0.05028641, 0.0552802 ],\n         [0.04889812, 0.04266028, 0.04336601, 0.04198359, 0.04928682],\n         [0.04885429, 0.04248419, 0.042679  , 0.04096809, 0.04832859],\n         [0.04813589, 0.0417157 , 0.04213455, 0.04043828, 0.04785857],\n         [0.05220826, 0.04546057, 0.04593386, 0.04521342, 0.04938158]]],\n\n\n       [[[0.05527248, 0.05098452, 0.05117118, 0.05079096, 0.05524288],\n         [0.0485605 , 0.04286669, 0.04385009, 0.04209748, 0.0494421 ],\n         [0.0484607 , 0.04226095, 0.04225322, 0.04175927, 0.04863562],\n         [0.04804735, 0.04109505, 0.04182551, 0.04100969, 0.04823858],\n         [0.05214028, 0.04494854, 0.04588696, 0.04534975, 0.04957067]]],\n\n\n       [[[0.05500112, 0.05111094, 0.05089331, 0.05049332, 0.05525724],\n         [0.04855047, 0.04287584, 0.04377034, 0.04201879, 0.04924665],\n         [0.04911327, 0.04221101, 0.04276274, 0.04170812, 0.04858906],\n         [0.04828564, 0.04128643, 0.04164938, 0.04097328, 0.04830759],\n         [0.05226624, 0.04522291, 0.04596426, 0.04504982, 0.04939584]]]],\n      dtype=float32)>"
     },
     "execution_count": 12,
     "metadata": {},
     "output_type": "execute_result"
    }
   ],
   "source": [
    "print(model(states).shape)\n",
    "model(states)"
   ],
   "metadata": {
    "collapsed": false,
    "pycharm": {
     "name": "#%%\n"
    }
   }
  },
  {
   "cell_type": "markdown",
   "source": [
    "---"
   ],
   "metadata": {
    "collapsed": false,
    "pycharm": {
     "name": "#%% md\n"
    }
   }
  },
  {
   "cell_type": "markdown",
   "source": [
    "## Training"
   ],
   "metadata": {
    "collapsed": false,
    "pycharm": {
     "name": "#%% md\n"
    }
   }
  },
  {
   "cell_type": "code",
   "execution_count": 13,
   "outputs": [],
   "source": [
    "TRAIN_SIZE = 1024 * 64\n",
    "TEST_SIZE = 4096\n",
    "BATCH_SIZE = 256"
   ],
   "metadata": {
    "collapsed": false,
    "pycharm": {
     "name": "#%%\n"
    }
   }
  },
  {
   "cell_type": "code",
   "execution_count": 14,
   "outputs": [],
   "source": [
    "train_dataset = new_dataset(size=TRAIN_SIZE,\n",
    "                            sampler=lambda: new_sample(board_size=input_size, num_blacks=10, num_whites=0),\n",
    "                            labeler=detector\n",
    "                            ).batch(BATCH_SIZE)\n",
    "test_dataset = new_dataset(size=TEST_SIZE,\n",
    "                           sampler=lambda: new_sample(board_size=input_size, num_blacks=10, num_whites=0),\n",
    "                           labeler=detector\n",
    "                           ).batch(BATCH_SIZE)"
   ],
   "metadata": {
    "collapsed": false,
    "pycharm": {
     "name": "#%%\n"
    }
   }
  },
  {
   "cell_type": "code",
   "execution_count": 15,
   "outputs": [],
   "source": [
    "class BalancedMSE(tf.keras.losses.Loss):\n",
    "    def __init__(self, ratio, *args, **kwargs):\n",
    "        \"\"\"\n",
    "        upwards = ratio, downwards = 1 - ratio\n",
    "        :param ratio: from the range [0, 1]. ratio>0.5 will favor upwards corrections\n",
    "        \"\"\"\n",
    "        super().__init__(*args, **kwargs)\n",
    "        self.ratio = ratio\n",
    "\n",
    "    def call(self, y_label, y_model):\n",
    "\n",
    "        difference = y_label - y_model\n",
    "\n",
    "        # only derivations where label > model\n",
    "        upwards = tf.nn.relu(self.ratio * difference)\n",
    "\n",
    "        # only derivations wherer label < model\n",
    "        downwards = tf.nn.relu((1.0 - self.ratio) * -difference)\n",
    "\n",
    "        mse = tf.reduce_mean(tf.square(upwards + downwards))\n",
    "\n",
    "        return mse"
   ],
   "metadata": {
    "collapsed": false,
    "pycharm": {
     "name": "#%%\n"
    }
   }
  },
  {
   "cell_type": "code",
   "execution_count": 16,
   "outputs": [],
   "source": [
    "#loss_object = tf.keras.losses.MeanSquaredError()\n",
    "loss_object = BalancedMSE(ratio=.9) # more weight to upwards corrections\n",
    "optimizer = tf.keras.optimizers.Adam(learning_rate=.01)"
   ],
   "metadata": {
    "collapsed": false,
    "pycharm": {
     "name": "#%%\n"
    }
   }
  },
  {
   "cell_type": "code",
   "execution_count": 17,
   "outputs": [],
   "source": [
    "train_loss = tf.keras.metrics.Mean(name='train_loss')\n",
    "train_accuracy = tf.keras.metrics.RootMeanSquaredError(name='train_accuracy')\n",
    "\n",
    "test_loss = tf.keras.metrics.Mean(name='test_loss')\n",
    "test_accuracy = tf.keras.metrics.RootMeanSquaredError(name='test_accuracy')"
   ],
   "metadata": {
    "collapsed": false,
    "pycharm": {
     "name": "#%%\n"
    }
   }
  },
  {
   "cell_type": "code",
   "execution_count": 18,
   "outputs": [],
   "source": [
    "model = SimpleConvQFunction(input_size, n_filters=4, n_layers=2)"
   ],
   "metadata": {
    "collapsed": false,
    "pycharm": {
     "name": "#%%\n"
    }
   }
  },
  {
   "cell_type": "code",
   "execution_count": 19,
   "outputs": [],
   "source": [
    "@tf.function\n",
    "def train_step(states, labels):\n",
    "    with tf.GradientTape() as tape:\n",
    "        predictions = model(states, training=True)\n",
    "        loss = loss_object(labels, predictions)\n",
    "    gradients = tape.gradient(loss, model.trainable_variables)\n",
    "    optimizer.apply_gradients(zip(gradients, model.trainable_variables))\n",
    "\n",
    "    train_loss(loss)\n",
    "    train_accuracy(labels, predictions)"
   ],
   "metadata": {
    "collapsed": false,
    "pycharm": {
     "name": "#%%\n"
    }
   }
  },
  {
   "cell_type": "code",
   "execution_count": 20,
   "outputs": [],
   "source": [
    "@tf.function\n",
    "def test_step(states, labels):\n",
    "    predictions = model(states, training=False)\n",
    "    t_loss = loss_object(labels, predictions)\n",
    "    test_loss(t_loss)\n",
    "    test_accuracy(labels, predictions)"
   ],
   "metadata": {
    "collapsed": false,
    "pycharm": {
     "name": "#%%\n"
    }
   }
  },
  {
   "cell_type": "code",
   "execution_count": 24,
   "outputs": [
    {
     "name": "stdout",
     "output_type": "stream",
     "text": [
      "Epoch 1, Loss: 0.006255467887967825, Accuracy: 0.7112389802932739,     Test Loss: 0.006303819362074137, Test Accuracy: 0.7146481275558472\n",
      "Epoch 2, Loss: 0.006255167070776224, Accuracy: 0.7111312747001648,     Test Loss: 0.006301793269813061, Test Accuracy: 0.7125576734542847\n",
      "Epoch 3, Loss: 0.006255201064050198, Accuracy: 0.7111881971359253,     Test Loss: 0.006304567214101553, Test Accuracy: 0.7144740223884583\n",
      "Epoch 4, Loss: 0.00625541852787137, Accuracy: 0.7111892104148865,     Test Loss: 0.006304538808763027, Test Accuracy: 0.7135357856750488\n",
      "Epoch 5, Loss: 0.006255420856177807, Accuracy: 0.7112113237380981,     Test Loss: 0.006302868016064167, Test Accuracy: 0.7155792713165283\n",
      "Epoch 6, Loss: 0.006255086977034807, Accuracy: 0.7111674547195435,     Test Loss: 0.006304854527115822, Test Accuracy: 0.7135363221168518\n",
      "Epoch 7, Loss: 0.0062560453079640865, Accuracy: 0.7112904787063599,     Test Loss: 0.006303894799202681, Test Accuracy: 0.7182992100715637\n",
      "Epoch 8, Loss: 0.0062552099116146564, Accuracy: 0.7110915184020996,     Test Loss: 0.006304651033133268, Test Accuracy: 0.7130496501922607\n",
      "Epoch 9, Loss: 0.006255443207919598, Accuracy: 0.7112055420875549,     Test Loss: 0.006302304565906525, Test Accuracy: 0.712678849697113\n",
      "Epoch 10, Loss: 0.0062552038580179214, Accuracy: 0.7111904621124268,     Test Loss: 0.006302971392869949, Test Accuracy: 0.712578296661377\n",
      "Epoch 11, Loss: 0.006255036685615778, Accuracy: 0.7111829519271851,     Test Loss: 0.006302551832050085, Test Accuracy: 0.7131973505020142\n",
      "Epoch 12, Loss: 0.006254924926906824, Accuracy: 0.7111802697181702,     Test Loss: 0.006302904337644577, Test Accuracy: 0.7129867076873779\n",
      "Epoch 13, Loss: 0.006254993379116058, Accuracy: 0.7111721038818359,     Test Loss: 0.006302793975919485, Test Accuracy: 0.7130761742591858\n",
      "Epoch 14, Loss: 0.006254962179809809, Accuracy: 0.7111706733703613,     Test Loss: 0.006304405629634857, Test Accuracy: 0.7144050002098083\n",
      "Epoch 15, Loss: 0.0062552765011787415, Accuracy: 0.7111937999725342,     Test Loss: 0.006303060799837112, Test Accuracy: 0.712414026260376\n",
      "Epoch 16, Loss: 0.006255093030631542, Accuracy: 0.7111966609954834,     Test Loss: 0.006303285248577595, Test Accuracy: 0.7116715908050537\n",
      "Epoch 17, Loss: 0.006255201064050198, Accuracy: 0.7111702561378479,     Test Loss: 0.006303154863417149, Test Accuracy: 0.7133645415306091\n",
      "Epoch 18, Loss: 0.006255132611840963, Accuracy: 0.7111839652061462,     Test Loss: 0.006304014939814806, Test Accuracy: 0.714138388633728\n",
      "Epoch 19, Loss: 0.006255101878196001, Accuracy: 0.7111702561378479,     Test Loss: 0.006302660331130028, Test Accuracy: 0.7114006876945496\n",
      "Epoch 20, Loss: 0.006255012471228838, Accuracy: 0.7111965417861938,     Test Loss: 0.006302734836935997, Test Accuracy: 0.7112182974815369\n"
     ]
    }
   ],
   "source": [
    "EPOCHS = 20\n",
    "for epoch in range(EPOCHS):\n",
    "    for stats in [train_loss, train_accuracy, test_accuracy, test_loss]:\n",
    "        stats.reset_states()\n",
    "\n",
    "    for states, labels in train_dataset:\n",
    "        train_step(states, labels)\n",
    "\n",
    "    for states, labels in test_dataset:\n",
    "        test_step(states, labels)\n",
    "\n",
    "    print(\n",
    "        f'Epoch {epoch+1}, '\n",
    "        f'Loss: {train_loss.result()}, '\n",
    "        f'Accuracy: {train_accuracy.result()},     '\n",
    "        f'Test Loss: {test_loss.result()}, '\n",
    "        f'Test Accuracy: {test_accuracy.result()}'\n",
    "    )\n",
    "\n"
   ],
   "metadata": {
    "collapsed": false,
    "pycharm": {
     "name": "#%%\n"
    }
   }
  },
  {
   "cell_type": "code",
   "execution_count": 25,
   "outputs": [],
   "source": [
    "BATCH_SIZE=1"
   ],
   "metadata": {
    "collapsed": false,
    "pycharm": {
     "name": "#%%\n"
    }
   }
  },
  {
   "cell_type": "code",
   "execution_count": 26,
   "outputs": [],
   "source": [
    "dataset = new_dataset(1, lambda: new_sample(input_size, 10, 0), detector).batch(BATCH_SIZE)"
   ],
   "metadata": {
    "collapsed": false,
    "pycharm": {
     "name": "#%%\n"
    }
   }
  },
  {
   "cell_type": "code",
   "execution_count": 27,
   "outputs": [
    {
     "data": {
      "text/plain": "TensorShape([1, 5, 5])"
     },
     "execution_count": 27,
     "metadata": {},
     "output_type": "execute_result"
    }
   ],
   "source": [
    "iterator  = iter(dataset)\n",
    "states, labels = iterator.next()\n",
    "labels.shape"
   ],
   "metadata": {
    "collapsed": false,
    "pycharm": {
     "name": "#%%\n"
    }
   }
  },
  {
   "cell_type": "code",
   "execution_count": 28,
   "outputs": [
    {
     "name": "stdout",
     "output_type": "stream",
     "text": [
      "shape: (5, 5, 2)\n",
      "[[1. 0. 0. 0. 0.]\n",
      " [0. 0. 1. 0. 1.]\n",
      " [1. 0. 0. 1. 1.]\n",
      " [0. 0. 0. 0. 0.]\n",
      " [1. 0. 1. 1. 0.]]\n"
     ]
    }
   ],
   "source": [
    "Gt.print_bin(states, True)"
   ],
   "metadata": {
    "collapsed": false,
    "pycharm": {
     "name": "#%%\n"
    }
   }
  },
  {
   "cell_type": "code",
   "execution_count": 29,
   "outputs": [
    {
     "data": {
      "text/plain": "<tf.Tensor: shape=(1, 5, 5), dtype=float32, numpy=\narray([[[0., 0., 0., 0., 0.],\n        [0., 0., 0., 0., 0.],\n        [0., 0., 0., 0., 0.],\n        [0., 0., 0., 0., 0.],\n        [0., 0., 0., 0., 0.]]], dtype=float32)>"
     },
     "execution_count": 29,
     "metadata": {},
     "output_type": "execute_result"
    }
   ],
   "source": [
    "tf.floor(labels+.01)"
   ],
   "metadata": {
    "collapsed": false,
    "pycharm": {
     "name": "#%%\n"
    }
   }
  },
  {
   "cell_type": "code",
   "execution_count": 30,
   "outputs": [
    {
     "data": {
      "text/plain": "array([[[[0.05, 0.73, 0.73, 0.74, 0.03],\n         [0.72, 0.91, 0.91, 0.91, 0.72],\n         [0.73, 0.91, 0.92, 0.91, 0.72],\n         [0.73, 0.91, 0.91, 0.91, 0.71],\n         [0.04, 0.7 , 0.7 , 0.69, 0.03]]]], dtype=float32)"
     },
     "execution_count": 30,
     "metadata": {},
     "output_type": "execute_result"
    }
   ],
   "source": [
    "pred = model(states)\n",
    "np.round(pred, 2)"
   ],
   "metadata": {
    "collapsed": false,
    "pycharm": {
     "name": "#%%\n"
    }
   }
  },
  {
   "cell_type": "code",
   "execution_count": null,
   "outputs": [],
   "source": [],
   "metadata": {
    "collapsed": false,
    "pycharm": {
     "name": "#%%\n"
    }
   }
  },
  {
   "cell_type": "code",
   "execution_count": null,
   "outputs": [],
   "source": [],
   "metadata": {
    "collapsed": false,
    "pycharm": {
     "name": "#%%\n"
    }
   }
  },
  {
   "cell_type": "code",
   "execution_count": null,
   "outputs": [],
   "source": [],
   "metadata": {
    "collapsed": false,
    "pycharm": {
     "name": "#%%\n"
    }
   }
  },
  {
   "cell_type": "code",
   "execution_count": null,
   "outputs": [],
   "source": [],
   "metadata": {
    "collapsed": false,
    "pycharm": {
     "name": "#%%\n"
    }
   }
  },
  {
   "cell_type": "code",
   "execution_count": null,
   "outputs": [],
   "source": [],
   "metadata": {
    "collapsed": false,
    "pycharm": {
     "name": "#%%\n"
    }
   }
  },
  {
   "cell_type": "code",
   "execution_count": null,
   "outputs": [],
   "source": [],
   "metadata": {
    "collapsed": false,
    "pycharm": {
     "name": "#%%\n"
    }
   }
  },
  {
   "cell_type": "code",
   "execution_count": null,
   "outputs": [],
   "source": [],
   "metadata": {
    "collapsed": false,
    "pycharm": {
     "name": "#%%\n"
    }
   }
  },
  {
   "cell_type": "code",
   "execution_count": null,
   "outputs": [],
   "source": [],
   "metadata": {
    "collapsed": false,
    "pycharm": {
     "name": "#%%\n"
    }
   }
  },
  {
   "cell_type": "code",
   "execution_count": null,
   "outputs": [],
   "source": [],
   "metadata": {
    "collapsed": false,
    "pycharm": {
     "name": "#%%\n"
    }
   }
  },
  {
   "cell_type": "code",
   "execution_count": null,
   "outputs": [],
   "source": [],
   "metadata": {
    "collapsed": false,
    "pycharm": {
     "name": "#%%\n"
    }
   }
  },
  {
   "cell_type": "code",
   "execution_count": null,
   "outputs": [],
   "source": [],
   "metadata": {
    "collapsed": false,
    "pycharm": {
     "name": "#%%\n"
    }
   }
  },
  {
   "cell_type": "code",
   "execution_count": null,
   "outputs": [],
   "source": [],
   "metadata": {
    "collapsed": false,
    "pycharm": {
     "name": "#%%\n"
    }
   }
  },
  {
   "cell_type": "code",
   "execution_count": null,
   "outputs": [],
   "source": [],
   "metadata": {
    "collapsed": false,
    "pycharm": {
     "name": "#%%\n"
    }
   }
  },
  {
   "cell_type": "code",
   "execution_count": 8,
   "outputs": [
    {
     "data": {
      "text/plain": "(3, 3, 2, 4)"
     },
     "execution_count": 8,
     "metadata": {},
     "output_type": "execute_result"
    }
   ],
   "source": [
    "diag1 = np.diag([1., 1., 1.])\n",
    "zeros = np.zeros([3,3])\n",
    "diag1 = np.stack([diag1, zeros], axis=0)\n",
    "diag2 = np.diag([1., 1., 1.])[::-1,:]\n",
    "diag2 = np.stack([diag2, zeros], axis=0)\n",
    "hor = np.stack([zeros, zeros], axis=0)\n",
    "hor[0, 1, :] = 1.\n",
    "ver = np.stack([zeros, zeros], axis=0)\n",
    "ver[0, :, 1] = 1.\n",
    "filters = np.stack([ver, diag1, hor, diag2], axis=-1)\n",
    "filters = np.rollaxis(filters, 0, 3)\n",
    "filters.shape"
   ],
   "metadata": {
    "collapsed": false,
    "pycharm": {
     "name": "#%%\n"
    }
   }
  },
  {
   "cell_type": "code",
   "execution_count": 4,
   "outputs": [],
   "source": [
    "detector = tf.keras.layers.Conv2D(\n",
    "    filters=4, kernel_size=(3, 3),\n",
    "    kernel_initializer=tf.constant_initializer(filters),\n",
    "    bias_initializer=tf.constant_initializer(-2),\n",
    "    padding='same',\n",
    "    activation=tf.nn.relu,\n",
    "    input_shape=(input_size, input_size, 2))\n",
    "\n",
    "combiner = tf.keras.layers.Conv2D(\n",
    "    filters = 1, kernel_size=(1,1),\n",
    "    kernel_initializer=tf.constant_initializer([1.,1.,1.,1.]),\n",
    "    bias_initializer=tf.constant_initializer(0),\n",
    ")"
   ],
   "metadata": {
    "collapsed": false,
    "pycharm": {
     "name": "#%%\n"
    }
   }
  },
  {
   "cell_type": "code",
   "execution_count": 5,
   "outputs": [
    {
     "data": {
      "text/plain": "(5, 0)"
     },
     "execution_count": 5,
     "metadata": {},
     "output_type": "execute_result"
    }
   ],
   "source": [
    "r, c = np.random.randint(0, 7, 2)\n",
    "r, c"
   ],
   "metadata": {
    "collapsed": false,
    "pycharm": {
     "name": "#%%\n"
    }
   }
  },
  {
   "cell_type": "code",
   "execution_count": 16,
   "outputs": [
    {
     "data": {
      "text/plain": "(1, 7, 7, 2)"
     },
     "execution_count": 16,
     "metadata": {},
     "output_type": "execute_result"
    }
   ],
   "source": [
    "def new_sample():\n",
    "    sample = np.zeros([1, 7,7,2])\n",
    "    sample.shape\n",
    "    for n in range(20):\n",
    "        row, col = np.random.randint(0, 7, 2)\n",
    "        sample[0, row, col, BLACK] = 1\n",
    "    for n in range(0):\n",
    "        row, col = np.random.randint(0, 7, 2)\n",
    "        sample[0, row, col, WHITE] = 1\n",
    "    return sample\n",
    "\n",
    "sample = new_sample()\n",
    "sample.shape"
   ],
   "metadata": {
    "collapsed": false,
    "pycharm": {
     "name": "#%%\n"
    }
   }
  },
  {
   "cell_type": "code",
   "execution_count": 11,
   "outputs": [
    {
     "name": "stdout",
     "output_type": "stream",
     "text": [
      "shape: (7, 7, 2)\n",
      "[[0. 0. 0. 1. 0. 0. 0.]\n",
      " [1. 0. 0. 0. 0. 0. 0.]\n",
      " [0. 0. 0. 1. 0. 0. 0.]\n",
      " [0. 0. 1. 0. 1. 1. 1.]\n",
      " [0. 0. 0. 0. 1. 1. 1.]\n",
      " [1. 0. 1. 1. 1. 0. 0.]\n",
      " [0. 1. 0. 0. 0. 0. 0.]]\n",
      "\n",
      "[[0. 0. 0. 0. 0. 0. 0.]\n",
      " [0. 0. 0. 0. 0. 0. 0.]\n",
      " [0. 0. 0. 0. 0. 0. 0.]\n",
      " [0. 0. 0. 0. 0. 0. 0.]\n",
      " [0. 0. 0. 0. 0. 0. 0.]\n",
      " [0. 0. 0. 0. 0. 0. 0.]\n",
      " [0. 0. 0. 0. 0. 0. 0.]]\n"
     ]
    }
   ],
   "source": [
    "Gt.print_bin(sample)"
   ],
   "metadata": {
    "collapsed": false,
    "pycharm": {
     "name": "#%%\n"
    }
   }
  },
  {
   "cell_type": "markdown",
   "source": [
    "## The heuristic detector finds lines of three"
   ],
   "metadata": {
    "collapsed": false,
    "pycharm": {
     "name": "#%% md\n"
    }
   }
  },
  {
   "cell_type": "code",
   "execution_count": 12,
   "outputs": [
    {
     "ename": "NameError",
     "evalue": "name 'combiner' is not defined",
     "output_type": "error",
     "traceback": [
      "\u001B[0;31m---------------------------------------------------------------------------\u001B[0m",
      "\u001B[0;31mNameError\u001B[0m                                 Traceback (most recent call last)",
      "Input \u001B[0;32mIn [12]\u001B[0m, in \u001B[0;36m<cell line: 1>\u001B[0;34m()\u001B[0m\n\u001B[0;32m----> 1\u001B[0m \u001B[38;5;28mprint\u001B[39m(np\u001B[38;5;241m.\u001B[39msqueeze(\u001B[43mcombiner\u001B[49m(detector(sample))))\n",
      "\u001B[0;31mNameError\u001B[0m: name 'combiner' is not defined"
     ]
    }
   ],
   "source": [
    "print(np.squeeze(combiner(detector(sample))))"
   ],
   "metadata": {
    "collapsed": false,
    "pycharm": {
     "name": "#%%\n"
    }
   }
  },
  {
   "cell_type": "code",
   "execution_count": 24,
   "outputs": [
    {
     "name": "stdout",
     "output_type": "stream",
     "text": [
      "shape: (7, 7, 2)\n",
      "[[0. 0. 0. 0. 0. 0. 0.]\n",
      " [1. 0. 0. 0. 0. 1. 0.]\n",
      " [1. 1. 1. 0. 0. 0. 1.]\n",
      " [1. 1. 0. 1. 1. 1. 0.]\n",
      " [1. 0. 1. 1. 1. 1. 1.]\n",
      " [0. 1. 0. 0. 1. 0. 0.]\n",
      " [1. 1. 0. 0. 0. 1. 0.]]\n",
      "\n",
      "[[0. 0. 0. 0. 0. 0. 0.]\n",
      " [0. 0. 0. 0. 0. 0. 0.]\n",
      " [1. 1. 0. 0. 0. 0. 0.]\n",
      " [1. 1. 0. 1. 1. 1. 0.]\n",
      " [0. 0. 1. 1. 1. 1. 0.]\n",
      " [0. 1. 0. 0. 1. 0. 0.]\n",
      " [0. 0. 0. 0. 0. 0. 0.]]\n"
     ]
    }
   ],
   "source": [
    "from domoku.jupyter_tools import print_bin\n",
    "sample = new_sample()\n",
    "print_bin(np.squeeze(sample), True)\n",
    "print()\n",
    "print(np.squeeze(tf.reduce_max(detector(sample), axis=-1)))"
   ],
   "metadata": {
    "collapsed": false,
    "pycharm": {
     "name": "#%%\n"
    }
   }
  },
  {
   "cell_type": "markdown",
   "source": [
    "## Train a QFunction to mimic the detector\n",
    "Actually, then it's not a Q-Functions, but let's not be too rigourous...;-)"
   ],
   "metadata": {
    "collapsed": false,
    "pycharm": {
     "name": "#%% md\n"
    }
   }
  },
  {
   "cell_type": "code",
   "execution_count": 45,
   "outputs": [],
   "source": [
    "def new_dataset(size: int):\n",
    "\n",
    "    samples = []\n",
    "    labels = []\n",
    "    for i in range(size):\n",
    "        a_sample = new_sample()\n",
    "        samples.append(a_sample)\n",
    "        labels.append(np.squeeze(combiner(detector(a_sample))))\n",
    "    return samples, labels\n",
    "dataset = tf.data.Dataset.from_tensor_slices(new_dataset(100))"
   ],
   "metadata": {
    "collapsed": false,
    "pycharm": {
     "name": "#%%\n"
    }
   }
  },
  {
   "cell_type": "code",
   "execution_count": null,
   "outputs": [],
   "source": [
    "BATCH_SIZE=4"
   ],
   "metadata": {
    "collapsed": false,
    "pycharm": {
     "name": "#%%\n"
    }
   }
  },
  {
   "cell_type": "code",
   "execution_count": 56,
   "outputs": [],
   "source": [
    "batch = dataset.batch(BATCH_SIZE)"
   ],
   "metadata": {
    "collapsed": false,
    "pycharm": {
     "name": "#%%\n"
    }
   }
  },
  {
   "cell_type": "code",
   "execution_count": 57,
   "outputs": [
    {
     "data": {
      "text/plain": "TensorShape([4, 7, 7])"
     },
     "execution_count": 57,
     "metadata": {},
     "output_type": "execute_result"
    }
   ],
   "source": [
    "iterator  = iter(batch)\n",
    "states, labels = iterator.next()\n",
    "labels.shape"
   ],
   "metadata": {
    "collapsed": false,
    "pycharm": {
     "name": "#%%\n"
    }
   }
  },
  {
   "cell_type": "code",
   "execution_count": 58,
   "outputs": [
    {
     "data": {
      "text/plain": "TensorShape([4, 1, 7, 7, 2])"
     },
     "execution_count": 58,
     "metadata": {},
     "output_type": "execute_result"
    }
   ],
   "source": [
    "states.shape"
   ],
   "metadata": {
    "collapsed": false,
    "pycharm": {
     "name": "#%%\n"
    }
   }
  },
  {
   "cell_type": "code",
   "execution_count": 50,
   "outputs": [],
   "source": [],
   "metadata": {
    "collapsed": false,
    "pycharm": {
     "name": "#%%\n"
    }
   }
  },
  {
   "cell_type": "code",
   "execution_count": 51,
   "outputs": [],
   "source": [
    "from notebooks.ml_basics_recap.models import SimpleConvQFunction\n",
    "\n",
    "model = SimpleConvQFunction(input_size)"
   ],
   "metadata": {
    "collapsed": false,
    "pycharm": {
     "name": "#%%\n"
    }
   }
  },
  {
   "cell_type": "code",
   "execution_count": 59,
   "outputs": [
    {
     "data": {
      "text/plain": "<tf.Tensor: shape=(4, 1, 7, 7, 2), dtype=float64, numpy=\narray([[[[[1., 0.],\n          [0., 0.],\n          [0., 0.],\n          [1., 0.],\n          [1., 0.],\n          [1., 0.],\n          [1., 0.]],\n\n         [[0., 0.],\n          [1., 0.],\n          [1., 0.],\n          [0., 0.],\n          [1., 0.],\n          [1., 0.],\n          [1., 0.]],\n\n         [[1., 0.],\n          [0., 0.],\n          [0., 0.],\n          [0., 0.],\n          [0., 0.],\n          [0., 0.],\n          [0., 0.]],\n\n         [[0., 0.],\n          [0., 0.],\n          [0., 0.],\n          [0., 0.],\n          [0., 0.],\n          [1., 0.],\n          [1., 0.]],\n\n         [[0., 0.],\n          [0., 0.],\n          [1., 0.],\n          [1., 0.],\n          [0., 0.],\n          [0., 0.],\n          [0., 0.]],\n\n         [[1., 0.],\n          [1., 0.],\n          [1., 0.],\n          [0., 0.],\n          [1., 0.],\n          [1., 0.],\n          [1., 0.]],\n\n         [[1., 0.],\n          [1., 0.],\n          [0., 0.],\n          [1., 0.],\n          [0., 0.],\n          [0., 0.],\n          [0., 0.]]]],\n\n\n\n       [[[[1., 0.],\n          [0., 0.],\n          [1., 0.],\n          [0., 0.],\n          [1., 0.],\n          [0., 0.],\n          [1., 0.]],\n\n         [[1., 0.],\n          [1., 0.],\n          [0., 0.],\n          [0., 0.],\n          [1., 0.],\n          [0., 0.],\n          [1., 0.]],\n\n         [[0., 0.],\n          [1., 0.],\n          [0., 0.],\n          [0., 0.],\n          [1., 0.],\n          [0., 0.],\n          [1., 0.]],\n\n         [[0., 0.],\n          [1., 0.],\n          [0., 0.],\n          [1., 0.],\n          [1., 0.],\n          [0., 0.],\n          [1., 0.]],\n\n         [[0., 0.],\n          [0., 0.],\n          [0., 0.],\n          [1., 0.],\n          [0., 0.],\n          [0., 0.],\n          [0., 0.]],\n\n         [[1., 0.],\n          [1., 0.],\n          [0., 0.],\n          [0., 0.],\n          [1., 0.],\n          [1., 0.],\n          [0., 0.]],\n\n         [[0., 0.],\n          [1., 0.],\n          [0., 0.],\n          [1., 0.],\n          [0., 0.],\n          [0., 0.],\n          [0., 0.]]]],\n\n\n\n       [[[[0., 0.],\n          [0., 0.],\n          [0., 0.],\n          [1., 0.],\n          [0., 0.],\n          [0., 0.],\n          [0., 0.]],\n\n         [[0., 0.],\n          [1., 0.],\n          [0., 0.],\n          [0., 0.],\n          [0., 0.],\n          [1., 0.],\n          [0., 0.]],\n\n         [[0., 0.],\n          [1., 0.],\n          [0., 0.],\n          [1., 0.],\n          [0., 0.],\n          [0., 0.],\n          [1., 0.]],\n\n         [[1., 0.],\n          [1., 0.],\n          [0., 0.],\n          [0., 0.],\n          [1., 0.],\n          [0., 0.],\n          [1., 0.]],\n\n         [[0., 0.],\n          [1., 0.],\n          [1., 0.],\n          [1., 0.],\n          [1., 0.],\n          [0., 0.],\n          [0., 0.]],\n\n         [[0., 0.],\n          [0., 0.],\n          [0., 0.],\n          [0., 0.],\n          [0., 0.],\n          [1., 0.],\n          [0., 0.]],\n\n         [[1., 0.],\n          [0., 0.],\n          [0., 0.],\n          [1., 0.],\n          [1., 0.],\n          [0., 0.],\n          [0., 0.]]]],\n\n\n\n       [[[[0., 0.],\n          [0., 0.],\n          [0., 0.],\n          [0., 0.],\n          [0., 0.],\n          [0., 0.],\n          [1., 0.]],\n\n         [[0., 0.],\n          [1., 0.],\n          [0., 0.],\n          [0., 0.],\n          [0., 0.],\n          [1., 0.],\n          [1., 0.]],\n\n         [[0., 0.],\n          [1., 0.],\n          [1., 0.],\n          [1., 0.],\n          [0., 0.],\n          [1., 0.],\n          [1., 0.]],\n\n         [[1., 0.],\n          [1., 0.],\n          [0., 0.],\n          [0., 0.],\n          [0., 0.],\n          [1., 0.],\n          [1., 0.]],\n\n         [[1., 0.],\n          [1., 0.],\n          [1., 0.],\n          [0., 0.],\n          [0., 0.],\n          [1., 0.],\n          [0., 0.]],\n\n         [[1., 0.],\n          [0., 0.],\n          [0., 0.],\n          [1., 0.],\n          [1., 0.],\n          [0., 0.],\n          [1., 0.]],\n\n         [[0., 0.],\n          [0., 0.],\n          [0., 0.],\n          [0., 0.],\n          [1., 0.],\n          [1., 0.],\n          [0., 0.]]]]])>"
     },
     "execution_count": 59,
     "metadata": {},
     "output_type": "execute_result"
    }
   ],
   "source": [
    "states"
   ],
   "metadata": {
    "collapsed": false,
    "pycharm": {
     "name": "#%%\n"
    }
   }
  },
  {
   "cell_type": "code",
   "execution_count": 52,
   "outputs": [
    {
     "data": {
      "text/plain": "<tf.Tensor: shape=(4, 1, 7, 7), dtype=float32, numpy=\narray([[[[-3.24230222e-03,  2.09147157e-03, -1.56578720e-02,\n           9.91900638e-03, -3.71978921e-03, -4.04301984e-03,\n          -9.35408007e-03],\n         [-2.80427188e-03, -1.96996443e-02, -2.42071832e-03,\n           1.91839859e-02,  2.09264569e-02,  4.71479408e-02,\n           1.66787673e-02],\n         [-8.73465836e-03,  2.87201572e-02,  2.01078840e-02,\n           1.73841696e-02,  1.44961001e-02,  2.08881851e-02,\n          -1.03986077e-02],\n         [ 2.48998851e-02,  7.00929947e-03, -1.88744888e-02,\n          -1.46068046e-02,  1.67077724e-02,  3.71180894e-03,\n          -2.16221437e-03],\n         [-4.25449386e-03, -1.37350261e-02, -3.04296780e-02,\n          -2.21043564e-02, -1.57598294e-02,  6.38778694e-03,\n          -1.76124834e-02],\n         [-1.03289373e-02, -1.84028223e-02,  3.04969624e-02,\n           1.21606817e-03, -1.32810399e-02, -1.33228197e-03,\n          -1.12406034e-02],\n         [ 1.79370232e-02,  2.63438895e-02,  1.85245071e-02,\n          -1.58887245e-02,  1.63408797e-02,  1.50681948e-02,\n           4.17111441e-03]]],\n\n\n       [[[ 1.21002290e-02, -2.08683088e-02, -7.21972482e-03,\n           8.51874053e-03,  8.35750159e-03, -2.82727904e-03,\n           1.43086985e-02],\n         [ 2.66826991e-02,  3.65026481e-03, -3.42260418e-03,\n           1.74102578e-02, -1.67652722e-02,  2.22936105e-02,\n          -9.32097144e-04],\n         [ 2.52307523e-02, -1.14336982e-02, -4.95542958e-03,\n           2.89572831e-02, -1.97461192e-02,  1.35612581e-03,\n          -2.26616440e-03],\n         [ 2.18966492e-02,  3.37073789e-03, -8.36972613e-03,\n           1.39163714e-03,  8.82775802e-03,  2.90825944e-02,\n           5.92085626e-03],\n         [ 5.44131733e-03, -2.62124669e-02, -1.59242377e-02,\n           2.53876299e-02,  5.56094712e-03,  4.45231237e-03,\n          -8.12089350e-03],\n         [ 6.31253561e-03, -8.06123391e-03,  3.93701671e-03,\n           2.08843853e-02,  5.03891893e-03, -1.21200690e-02,\n          -5.01032406e-03],\n         [ 2.57604420e-02,  1.64277968e-03, -5.32413414e-03,\n          -1.15322713e-02,  2.66388804e-02,  3.31358518e-03,\n          -1.90907158e-02]]],\n\n\n       [[[ 4.48084716e-03, -1.12059778e-02, -2.11083516e-02,\n           1.68683399e-02,  1.26798265e-03, -5.36871701e-03,\n          -1.46392835e-02],\n         [ 6.39744988e-03, -2.22070031e-02,  5.05700614e-03,\n           3.26290284e-03, -1.77029334e-02,  3.34631186e-03,\n          -3.52548040e-03],\n         [ 9.06369276e-03, -6.50807936e-03, -1.13274371e-02,\n          -9.83504485e-03, -1.14585496e-02,  5.00485068e-03,\n          -1.96602028e-02],\n         [ 1.48057342e-02,  1.45468544e-02, -1.05276387e-02,\n          -9.56380926e-03, -2.96272300e-02, -6.28898153e-03,\n          -1.60807208e-03],\n         [ 3.04075684e-02,  1.06359897e-02,  3.28913331e-04,\n           1.99803691e-02,  3.94532224e-03,  8.47774465e-03,\n          -5.71119506e-03],\n         [ 1.09796727e-03,  1.18936715e-03, -2.03120429e-03,\n           2.60992907e-02, -1.39753036e-02, -2.22199913e-02,\n          -6.08955184e-03],\n         [-1.40888300e-02,  2.53031030e-04,  3.04462276e-02,\n          -5.42992912e-03,  1.27791017e-02,  1.21277785e-02,\n          -3.05538415e-03]]],\n\n\n       [[[ 3.00597097e-03, -1.18886577e-02, -1.88448746e-02,\n           1.32984668e-02,  6.28318917e-03, -9.48239677e-03,\n          -2.17794869e-02],\n         [ 2.80821696e-03, -1.97810326e-02, -1.56166954e-02,\n          -1.30998744e-02,  5.15817851e-03,  7.52688153e-03,\n           2.83515803e-03],\n         [ 1.09590888e-02, -3.42130661e-05, -1.90991759e-02,\n          -2.25995407e-02,  1.51298437e-02,  2.04186123e-02,\n           3.36115435e-03],\n         [-1.03418110e-02,  1.26770334e-02,  5.34717040e-03,\n          -2.07481366e-02,  9.50168818e-03,  2.80218869e-02,\n           1.13291806e-02],\n         [ 1.28678456e-02,  6.54846523e-03, -4.01613861e-03,\n          -8.69276002e-03,  2.08874308e-02,  1.43520907e-02,\n           7.05383671e-03],\n         [ 1.07209440e-02,  3.17006260e-02,  7.51301413e-04,\n          -1.64530911e-02,  1.29933031e-02, -2.76105851e-03,\n          -1.80367306e-02],\n         [ 2.30475161e-02,  1.07431179e-03, -1.13730878e-02,\n           1.43016707e-02,  1.00168381e-02,  1.84354093e-02,\n           1.02805700e-02]]]], dtype=float32)>"
     },
     "execution_count": 52,
     "metadata": {},
     "output_type": "execute_result"
    }
   ],
   "source": [
    "model(states)"
   ],
   "metadata": {
    "collapsed": false,
    "pycharm": {
     "name": "#%%\n"
    }
   }
  },
  {
   "cell_type": "code",
   "execution_count": 53,
   "outputs": [
    {
     "name": "stdout",
     "output_type": "stream",
     "text": [
      "shape: (7, 7, 2)\n",
      "[[1. 0. 0. 1. 1. 1. 1.]\n",
      " [0. 1. 1. 0. 1. 1. 1.]\n",
      " [1. 0. 0. 0. 0. 0. 0.]\n",
      " [0. 0. 0. 0. 0. 1. 1.]\n",
      " [0. 0. 1. 1. 0. 0. 0.]\n",
      " [1. 1. 1. 0. 1. 1. 1.]\n",
      " [1. 1. 0. 1. 0. 0. 0.]]\n",
      "\n",
      "shape: (7, 7, 2)\n",
      "[[1. 0. 1. 0. 1. 0. 1.]\n",
      " [1. 1. 0. 0. 1. 0. 1.]\n",
      " [0. 1. 0. 0. 1. 0. 1.]\n",
      " [0. 1. 0. 1. 1. 0. 1.]\n",
      " [0. 0. 0. 1. 0. 0. 0.]\n",
      " [1. 1. 0. 0. 1. 1. 0.]\n",
      " [0. 1. 0. 1. 0. 0. 0.]]\n"
     ]
    }
   ],
   "source": [
    "print_bin(np.squeeze(states)[0], True)"
   ],
   "metadata": {
    "collapsed": false,
    "pycharm": {
     "name": "#%%\n"
    }
   }
  },
  {
   "cell_type": "code",
   "execution_count": 54,
   "outputs": [
    {
     "name": "stdout",
     "output_type": "stream",
     "text": [
      "[[[0. 0. 0. 0. 1. 1. 0.]\n",
      "  [0. 0. 0. 0. 0. 1. 0.]\n",
      "  [0. 0. 0. 0. 0. 0. 0.]\n",
      "  [0. 0. 0. 0. 0. 0. 0.]\n",
      "  [0. 0. 0. 0. 0. 0. 0.]\n",
      "  [0. 1. 1. 0. 0. 1. 0.]\n",
      "  [0. 0. 0. 0. 0. 0. 0.]]\n",
      "\n",
      " [[0. 0. 0. 0. 0. 0. 0.]\n",
      "  [0. 0. 0. 0. 1. 0. 1.]\n",
      "  [0. 1. 0. 0. 1. 0. 1.]\n",
      "  [0. 0. 0. 0. 0. 0. 0.]\n",
      "  [0. 0. 0. 0. 0. 0. 0.]\n",
      "  [0. 0. 0. 0. 0. 0. 0.]\n",
      "  [0. 0. 0. 0. 0. 0. 0.]]\n",
      "\n",
      " [[0. 0. 0. 0. 0. 0. 0.]\n",
      "  [0. 0. 0. 0. 0. 0. 0.]\n",
      "  [0. 1. 0. 0. 0. 0. 0.]\n",
      "  [0. 1. 0. 0. 0. 0. 0.]\n",
      "  [0. 0. 1. 1. 0. 0. 0.]\n",
      "  [0. 0. 0. 0. 0. 0. 0.]\n",
      "  [0. 0. 0. 0. 0. 0. 0.]]\n",
      "\n",
      " [[0. 0. 0. 0. 0. 0. 0.]\n",
      "  [0. 0. 0. 0. 0. 0. 1.]\n",
      "  [0. 1. 1. 0. 0. 1. 1.]\n",
      "  [0. 1. 0. 0. 0. 1. 0.]\n",
      "  [1. 1. 1. 0. 0. 1. 0.]\n",
      "  [0. 0. 0. 1. 0. 0. 0.]\n",
      "  [0. 0. 0. 0. 0. 0. 0.]]]\n"
     ]
    }
   ],
   "source": [
    "print(np.squeeze(tf.reduce_max(detector(states), axis=-1)))"
   ],
   "metadata": {
    "collapsed": false,
    "pycharm": {
     "name": "#%%\n"
    }
   }
  },
  {
   "cell_type": "code",
   "execution_count": null,
   "outputs": [],
   "source": [],
   "metadata": {
    "collapsed": false,
    "pycharm": {
     "name": "#%%\n"
    }
   }
  }
 ],
 "metadata": {
  "kernelspec": {
   "display_name": "Python 3",
   "language": "python",
   "name": "python3"
  },
  "language_info": {
   "codemirror_mode": {
    "name": "ipython",
    "version": 2
   },
   "file_extension": ".py",
   "mimetype": "text/x-python",
   "name": "python",
   "nbconvert_exporter": "python",
   "pygments_lexer": "ipython2",
   "version": "2.7.6"
  }
 },
 "nbformat": 4,
 "nbformat_minor": 0
}