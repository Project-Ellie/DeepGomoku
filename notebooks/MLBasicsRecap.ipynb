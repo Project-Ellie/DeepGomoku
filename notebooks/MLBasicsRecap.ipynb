{
 "cells": [
  {
   "cell_type": "markdown",
   "source": [],
   "metadata": {
    "collapsed": false,
    "pycharm": {
     "name": "#%% md\n"
    }
   }
  },
  {
   "cell_type": "code",
   "execution_count": 1,
   "outputs": [],
   "source": [
    "%load_ext autoreload\n",
    "%autoreload 2"
   ],
   "metadata": {
    "collapsed": false,
    "pycharm": {
     "name": "#%%\n"
    }
   }
  },
  {
   "cell_type": "code",
   "execution_count": 2,
   "outputs": [],
   "source": [
    "import numpy as np\n",
    "import tensorflow as tf\n",
    "\n",
    "from domoku.tools import GomokuTools as Gt"
   ],
   "metadata": {
    "collapsed": false,
    "pycharm": {
     "name": "#%%\n"
    }
   }
  },
  {
   "cell_type": "code",
   "execution_count": 3,
   "outputs": [],
   "source": [
    "input_size=7"
   ],
   "metadata": {
    "collapsed": false,
    "pycharm": {
     "name": "#%%\n"
    }
   }
  },
  {
   "cell_type": "code",
   "execution_count": 4,
   "outputs": [
    {
     "name": "stdout",
     "output_type": "stream",
     "text": [
      "Checkpoints can be found in /var/folders/0s/fny92xb54c50mb90g3l_zmx00000gp/T/tmpcf0mloj7/gomoku/checkpoints\n",
      "Models can be found in /var/folders/0s/fny92xb54c50mb90g3l_zmx00000gp/T/tmpcf0mloj7/gomoku/models\n",
      "Logs can be found in /var/folders/0s/fny92xb54c50mb90g3l_zmx00000gp/T/tmpcf0mloj7/gomoku/logs\n"
     ]
    }
   ],
   "source": [
    "import os\n",
    "import tempfile\n",
    "from pathlib import Path\n",
    "\n",
    "tempdir = tempfile.mkdtemp()\n",
    "\n",
    "data_dir = Path(os.environ.get('MODELS_DIR', tempdir)) / 'gomoku'\n",
    "models_dir = data_dir / 'models'\n",
    "logs_dir = data_dir / 'logs'\n",
    "cp_dir = data_dir / 'checkpoints'\n",
    "print(f\"Checkpoints can be found in {cp_dir}\")\n",
    "print(f\"Models can be found in {models_dir}\")\n",
    "print(f\"Logs can be found in {logs_dir}\")"
   ],
   "metadata": {
    "collapsed": false,
    "pycharm": {
     "name": "#%%\n"
    }
   }
  },
  {
   "cell_type": "markdown",
   "source": [
    "---"
   ],
   "metadata": {
    "collapsed": false,
    "pycharm": {
     "name": "#%% md\n"
    }
   }
  },
  {
   "cell_type": "markdown",
   "source": [
    "# Tutorial: Training a Conv Model\n",
    "#### Detecting Lines of Three on a Board of 7x7"
   ],
   "metadata": {
    "collapsed": false,
    "pycharm": {
     "name": "#%% md\n"
    }
   }
  },
  {
   "cell_type": "markdown",
   "source": [
    "## Sampling Random Boards"
   ],
   "metadata": {
    "collapsed": false,
    "pycharm": {
     "name": "#%% md\n"
    }
   }
  },
  {
   "cell_type": "code",
   "execution_count": 5,
   "outputs": [
    {
     "data": {
      "text/plain": "(7, 7, 2)"
     },
     "execution_count": 5,
     "metadata": {},
     "output_type": "execute_result"
    }
   ],
   "source": [
    "from notebooks.ml_basics_recap.data import new_sample\n",
    "sample = new_sample(board_size=input_size, num_blacks=20, num_whites=0)\n",
    "sample.shape"
   ],
   "metadata": {
    "collapsed": false,
    "pycharm": {
     "name": "#%%\n"
    }
   }
  },
  {
   "cell_type": "code",
   "execution_count": 6,
   "outputs": [
    {
     "name": "stdout",
     "output_type": "stream",
     "text": [
      "shape: (7, 7, 2)\n",
      "[[0. 1. 1. 1. 0. 1. 0.]\n",
      " [0. 0. 0. 0. 0. 0. 0.]\n",
      " [0. 0. 0. 1. 0. 0. 0.]\n",
      " [0. 1. 0. 0. 0. 1. 1.]\n",
      " [0. 0. 0. 1. 0. 0. 1.]\n",
      " [0. 0. 1. 0. 0. 1. 0.]\n",
      " [1. 0. 1. 1. 0. 1. 0.]]\n"
     ]
    }
   ],
   "source": [
    "Gt.print_bin(sample, True)"
   ],
   "metadata": {
    "collapsed": false,
    "pycharm": {
     "name": "#%%\n"
    }
   }
  },
  {
   "cell_type": "markdown",
   "source": [
    "---"
   ],
   "metadata": {
    "collapsed": false,
    "pycharm": {
     "name": "#%% md\n"
    }
   }
  },
  {
   "cell_type": "markdown",
   "source": [
    "## The Detection Map"
   ],
   "metadata": {
    "collapsed": false,
    "pycharm": {
     "name": "#%% md\n"
    }
   }
  },
  {
   "cell_type": "code",
   "execution_count": 7,
   "outputs": [
    {
     "name": "stderr",
     "output_type": "stream",
     "text": [
      "2022-06-04 20:23:30.870088: I tensorflow/core/platform/cpu_feature_guard.cc:193] This TensorFlow binary is optimized with oneAPI Deep Neural Network Library (oneDNN) to use the following CPU instructions in performance-critical operations:  AVX2 FMA\n",
      "To enable them in other operations, rebuild TensorFlow with the appropriate compiler flags.\n"
     ]
    }
   ],
   "source": [
    "from notebooks.ml_basics_recap.models.heuristic_detector import HeuristicDetector\n",
    "detector = HeuristicDetector(input_size)"
   ],
   "metadata": {
    "collapsed": false,
    "pycharm": {
     "name": "#%%\n"
    }
   }
  },
  {
   "cell_type": "markdown",
   "source": [
    "## Notice the additional dimension for the batch size come and go"
   ],
   "metadata": {
    "collapsed": false,
    "pycharm": {
     "name": "#%% md\n"
    }
   }
  },
  {
   "cell_type": "code",
   "execution_count": 8,
   "outputs": [
    {
     "data": {
      "text/plain": "<tf.Tensor: shape=(1, 7, 7), dtype=float32, numpy=\narray([[[0., 0., 1., 0., 0., 0., 0.],\n        [0., 0., 0., 0., 0., 0., 0.],\n        [0., 0., 0., 0., 0., 0., 0.],\n        [0., 0., 0., 0., 0., 0., 0.],\n        [0., 0., 0., 0., 0., 0., 0.],\n        [0., 0., 0., 0., 0., 0., 0.],\n        [0., 0., 0., 0., 0., 0., 0.]]], dtype=float32)>"
     },
     "execution_count": 8,
     "metadata": {},
     "output_type": "execute_result"
    }
   ],
   "source": [
    "tf.floor(detector(np.expand_dims(sample, 0))+.01)"
   ],
   "metadata": {
    "collapsed": false,
    "pycharm": {
     "name": "#%%\n"
    }
   }
  },
  {
   "cell_type": "code",
   "execution_count": 9,
   "outputs": [
    {
     "data": {
      "text/plain": "(7, 7)"
     },
     "execution_count": 9,
     "metadata": {},
     "output_type": "execute_result"
    }
   ],
   "source": [
    "np.squeeze(detector(np.expand_dims(sample, 0))).shape"
   ],
   "metadata": {
    "collapsed": false,
    "pycharm": {
     "name": "#%%\n"
    }
   }
  },
  {
   "cell_type": "markdown",
   "source": [
    "---"
   ],
   "metadata": {
    "collapsed": false,
    "pycharm": {
     "name": "#%% md\n"
    }
   }
  },
  {
   "cell_type": "markdown",
   "source": [
    "## Batches From a Dataset\n",
    "#### Strong Advice: Meticulously observe the shape of all incoming data!"
   ],
   "metadata": {
    "collapsed": false,
    "pycharm": {
     "name": "#%% md\n"
    }
   }
  },
  {
   "cell_type": "code",
   "execution_count": 10,
   "outputs": [],
   "source": [
    "BATCH_SIZE=4"
   ],
   "metadata": {
    "collapsed": false,
    "pycharm": {
     "name": "#%%\n"
    }
   }
  },
  {
   "cell_type": "code",
   "execution_count": 11,
   "outputs": [],
   "source": [
    "from notebooks.ml_basics_recap.data import new_sample, new_dataset\n",
    "dataset = new_dataset(100, lambda: new_sample(input_size, 20, 0), detector).batch(BATCH_SIZE)"
   ],
   "metadata": {
    "collapsed": false,
    "pycharm": {
     "name": "#%%\n"
    }
   }
  },
  {
   "cell_type": "code",
   "execution_count": 12,
   "outputs": [
    {
     "name": "stdout",
     "output_type": "stream",
     "text": [
      "Inputs' shape: (4, 7, 7, 2), Labels' shape: (4, 7, 7)\n"
     ]
    }
   ],
   "source": [
    "iterator  = iter(dataset)\n",
    "states, labels = iterator.next()\n",
    "print (f\"Inputs' shape: {states.shape}, Labels' shape: {labels.shape}\")"
   ],
   "metadata": {
    "collapsed": false,
    "pycharm": {
     "name": "#%%\n"
    }
   }
  },
  {
   "cell_type": "markdown",
   "source": [
    "---"
   ],
   "metadata": {
    "collapsed": false,
    "pycharm": {
     "name": "#%% md\n"
    }
   }
  },
  {
   "cell_type": "markdown",
   "source": [
    "## The Trainable Model"
   ],
   "metadata": {
    "collapsed": false,
    "pycharm": {
     "name": "#%% md\n"
    }
   }
  },
  {
   "cell_type": "code",
   "execution_count": 13,
   "outputs": [
    {
     "name": "stdout",
     "output_type": "stream",
     "text": [
      "(4, 7, 7, 1)\n",
      "(4, 7, 7)\n"
     ]
    }
   ],
   "source": [
    "from notebooks.ml_basics_recap.models import SimpleConvQFunction\n",
    "\n",
    "model_q = SimpleConvQFunction(input_size, n_filters=8, n_layers=4)\n",
    "print(model_q(states).shape)\n",
    "print(np.squeeze(model_q(np.expand_dims(states, 0))).shape)"
   ],
   "metadata": {
    "collapsed": false,
    "pycharm": {
     "name": "#%%\n"
    }
   }
  },
  {
   "cell_type": "markdown",
   "source": [
    "---"
   ],
   "metadata": {
    "collapsed": false,
    "pycharm": {
     "name": "#%% md\n"
    }
   }
  },
  {
   "cell_type": "markdown",
   "source": [
    "## Training"
   ],
   "metadata": {
    "collapsed": false,
    "pycharm": {
     "name": "#%% md\n"
    }
   }
  },
  {
   "cell_type": "code",
   "execution_count": 14,
   "outputs": [],
   "source": [
    "TRAIN_SIZE = 1024 * 8\n",
    "TEST_SIZE = 1024\n",
    "BATCH_SIZE = 256"
   ],
   "metadata": {
    "collapsed": false,
    "pycharm": {
     "name": "#%%\n"
    }
   }
  },
  {
   "cell_type": "markdown",
   "source": [
    "### Create a dataset from the heuristics"
   ],
   "metadata": {
    "collapsed": false,
    "pycharm": {
     "name": "#%% md\n"
    }
   }
  },
  {
   "cell_type": "code",
   "execution_count": 15,
   "outputs": [],
   "source": [
    "train_dataset = new_dataset(size=TRAIN_SIZE,\n",
    "                            sampler=lambda: new_sample(board_size=input_size, num_blacks=20, num_whites=0),\n",
    "                            labeler=detector, separate=False).batch(BATCH_SIZE)\n",
    "\n",
    "test_dataset = new_dataset(size=TEST_SIZE,\n",
    "                           sampler=lambda: new_sample(board_size=input_size, num_blacks=20, num_whites=0),\n",
    "                           labeler=detector, separate=False).batch(BATCH_SIZE)"
   ],
   "metadata": {
    "collapsed": false,
    "pycharm": {
     "name": "#%%\n"
    }
   }
  },
  {
   "cell_type": "code",
   "execution_count": 16,
   "outputs": [
    {
     "name": "stdout",
     "output_type": "stream",
     "text": [
      "Model: \"simple_conv_q_function\"\n",
      "_________________________________________________________________\n",
      " Layer (type)                Output Shape              Param #   \n",
      "=================================================================\n",
      " conv2d (Conv2D)             multiple                  152       \n",
      "                                                                 \n",
      " conv2d_1 (Conv2D)           multiple                  584       \n",
      "                                                                 \n",
      " conv2d_2 (Conv2D)           multiple                  584       \n",
      "                                                                 \n",
      " conv2d_3 (Conv2D)           multiple                  584       \n",
      "                                                                 \n",
      " conv2d_4 (Conv2D)           multiple                  73        \n",
      "                                                                 \n",
      "=================================================================\n",
      "Total params: 1,979\n",
      "Trainable params: 1,977\n",
      "Non-trainable params: 2\n",
      "_________________________________________________________________\n",
      "Epoch 1, Loss: 0.06400564312934875, Accuracy: 0.2529933750629425,     Test Loss: 0.05053207278251648, Test Accuracy: 0.22479338943958282\n",
      "Epoch 2, Loss: 0.04300490394234657, Accuracy: 0.20737622678279877,     Test Loss: 0.037641700357198715, Test Accuracy: 0.19401469826698303\n",
      "Epoch 3, Loss: 0.03316391259431839, Accuracy: 0.18210962414741516,     Test Loss: 0.027684079483151436, Test Accuracy: 0.16638533771038055\n",
      "Epoch 4, Loss: 0.02195700816810131, Accuracy: 0.14817894995212555,     Test Loss: 0.016806526109576225, Test Accuracy: 0.12963999807834625\n",
      "Epoch 5, Loss: 0.012453950010240078, Accuracy: 0.11159726977348328,     Test Loss: 0.008637044578790665, Test Accuracy: 0.0929357036948204\n",
      "Epoch 6, Loss: 0.006589896976947784, Accuracy: 0.08117817342281342,     Test Loss: 0.004906684160232544, Test Accuracy: 0.07004773616790771\n",
      "Epoch 7, Loss: 0.0031725787557661533, Accuracy: 0.05632564797997475,     Test Loss: 0.0019335522083565593, Test Accuracy: 0.04397217184305191\n",
      "Epoch 8, Loss: 0.0014491473557427526, Accuracy: 0.03806767240166664,     Test Loss: 0.0009526379872113466, Test Accuracy: 0.03086482733488083\n",
      "Epoch 9, Loss: 0.0008291718550026417, Accuracy: 0.02879534475505352,     Test Loss: 0.0005799030186608434, Test Accuracy: 0.02408117614686489\n",
      "Epoch 10, Loss: 0.0005157185369171202, Accuracy: 0.02270943857729435,     Test Loss: 0.0003854631504509598, Test Accuracy: 0.0196332149207592\n",
      "Epoch 11, Loss: 0.00035428558476269245, Accuracy: 0.018822474405169487,     Test Loss: 0.0002560392313171178, Test Accuracy: 0.016001222655177116\n",
      "Epoch 12, Loss: 0.00022766613983549178, Accuracy: 0.015088608488440514,     Test Loss: 0.00019114470342174172, Test Accuracy: 0.013825506903231144\n",
      "Epoch 13, Loss: 0.0001784928608685732, Accuracy: 0.013360122218728065,     Test Loss: 0.00014732581621501595, Test Accuracy: 0.012137784622609615\n",
      "Epoch 14, Loss: 0.00013197089720051736, Accuracy: 0.01148785836994648,     Test Loss: 0.00012110800162190571, Test Accuracy: 0.011004907079041004\n",
      "Epoch 15, Loss: 0.00010297468543285504, Accuracy: 0.010147643275558949,     Test Loss: 9.946530917659402e-05, Test Accuracy: 0.00997322890907526\n",
      "Epoch 16, Loss: 8.758305921219289e-05, Accuracy: 0.009358582086861134,     Test Loss: 8.814065949991345e-05, Test Accuracy: 0.009388325735926628\n",
      "Epoch 17, Loss: 7.46632504160516e-05, Accuracy: 0.008640789426863194,     Test Loss: 8.237829024437815e-05, Test Accuracy: 0.009076247923076153\n",
      "Epoch 18, Loss: 6.556985317729414e-05, Accuracy: 0.008097520098090172,     Test Loss: 7.93353101471439e-05, Test Accuracy: 0.008907035924494267\n",
      "Epoch 19, Loss: 6.0256752476561815e-05, Accuracy: 0.00776252243667841,     Test Loss: 7.518118218285963e-05, Test Accuracy: 0.008670707233250141\n",
      "Epoch 20, Loss: 6.011928053339943e-05, Accuracy: 0.007753662299364805,     Test Loss: 6.76662748446688e-05, Test Accuracy: 0.008225951343774796\n"
     ]
    }
   ],
   "source": [
    "from notebooks.ml_basics_recap.training import Trainer\n",
    "\n",
    "trainer = Trainer(model_q, train_data=train_dataset, test_data=test_dataset,\n",
    "                  logs_dir=logs_dir, models_dir=models_dir, checkpoints_dir=cp_dir)\n",
    "\n",
    "trainer.train(20, custom_train=True)"
   ],
   "metadata": {
    "collapsed": false,
    "pycharm": {
     "name": "#%%\n"
    }
   }
  },
  {
   "cell_type": "markdown",
   "source": [
    "## Manual Inspection"
   ],
   "metadata": {
    "collapsed": false,
    "pycharm": {
     "name": "#%% md\n"
    }
   }
  },
  {
   "cell_type": "code",
   "execution_count": 17,
   "outputs": [],
   "source": [
    "BATCH_SIZE=1"
   ],
   "metadata": {
    "collapsed": false,
    "pycharm": {
     "name": "#%%\n"
    }
   }
  },
  {
   "cell_type": "code",
   "execution_count": 18,
   "outputs": [],
   "source": [
    "dataset = new_dataset(10, lambda: new_sample(input_size, 20, 0), detector).batch(BATCH_SIZE)\n",
    "iterator  = iter(dataset)"
   ],
   "metadata": {
    "collapsed": false,
    "pycharm": {
     "name": "#%%\n"
    }
   }
  },
  {
   "cell_type": "markdown",
   "source": [
    "### Labels vs Learned"
   ],
   "metadata": {
    "collapsed": false,
    "pycharm": {
     "name": "#%% md\n"
    }
   }
  },
  {
   "cell_type": "code",
   "execution_count": 19,
   "outputs": [
    {
     "name": "stdout",
     "output_type": "stream",
     "text": [
      "tf.Tensor(\n",
      "[[[0. 0. 0. 0. 0. 0. 0.]\n",
      "  [0. 0. 0. 0. 0. 0. 0.]\n",
      "  [0. 0. 0. 0. 0. 0. 0.]\n",
      "  [0. 0. 0. 0. 0. 0. 0.]\n",
      "  [0. 0. 0. 0. 1. 0. 0.]\n",
      "  [0. 0. 0. 0. 0. 1. 1.]\n",
      "  [0. 0. 0. 0. 0. 0. 0.]]], shape=(1, 7, 7), dtype=float32)\n",
      "[[-0.   -0.   -0.   -0.   -0.   -0.   -0.  ]\n",
      " [-0.   -0.   -0.   -0.   -0.   -0.   -0.  ]\n",
      " [-0.   -0.   -0.   -0.   -0.   -0.   -0.  ]\n",
      " [-0.   -0.    0.   -0.01  0.01 -0.    0.  ]\n",
      " [-0.   -0.   -0.    0.    1.   -0.    0.  ]\n",
      " [-0.   -0.   -0.   -0.01 -0.01  1.    1.  ]\n",
      " [-0.   -0.   -0.   -0.   -0.01 -0.    0.01]]\n"
     ]
    }
   ],
   "source": [
    "states, labels = iterator.next()\n",
    "pred = np.squeeze(model_q(states))\n",
    "\n",
    "print(tf.floor(labels+.01))\n",
    "print(np.round(pred, 2))"
   ],
   "metadata": {
    "collapsed": false,
    "pycharm": {
     "name": "#%%\n"
    }
   }
  },
  {
   "cell_type": "code",
   "execution_count": null,
   "outputs": [],
   "source": [],
   "metadata": {
    "collapsed": false,
    "pycharm": {
     "name": "#%%\n"
    }
   }
  }
 ],
 "metadata": {
  "kernelspec": {
   "display_name": "Python 3",
   "language": "python",
   "name": "python3"
  },
  "language_info": {
   "codemirror_mode": {
    "name": "ipython",
    "version": 2
   },
   "file_extension": ".py",
   "mimetype": "text/x-python",
   "name": "python",
   "nbconvert_exporter": "python",
   "pygments_lexer": "ipython2",
   "version": "2.7.6"
  }
 },
 "nbformat": 4,
 "nbformat_minor": 0
}