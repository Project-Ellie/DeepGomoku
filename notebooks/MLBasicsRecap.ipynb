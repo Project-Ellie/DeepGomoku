{
 "cells": [
  {
   "cell_type": "code",
   "execution_count": 1,
   "outputs": [],
   "source": [
    "%load_ext autoreload\n",
    "%autoreload 2"
   ],
   "metadata": {
    "collapsed": false,
    "pycharm": {
     "name": "#%%\n"
    }
   }
  },
  {
   "cell_type": "code",
   "execution_count": 2,
   "outputs": [],
   "source": [
    "import numpy as np\n",
    "import tensorflow as tf\n",
    "\n",
    "from domoku.constants import BLACK, WHITE\n",
    "from domoku.tools import GomokuTools as Gt"
   ],
   "metadata": {
    "collapsed": false,
    "pycharm": {
     "name": "#%%\n"
    }
   }
  },
  {
   "cell_type": "code",
   "execution_count": 3,
   "outputs": [],
   "source": [
    "input_size=7"
   ],
   "metadata": {
    "collapsed": false,
    "pycharm": {
     "name": "#%%\n"
    }
   }
  },
  {
   "cell_type": "markdown",
   "source": [
    "---"
   ],
   "metadata": {
    "collapsed": false,
    "pycharm": {
     "name": "#%% md\n"
    }
   }
  },
  {
   "cell_type": "markdown",
   "source": [
    "## Sampling Random Boards"
   ],
   "metadata": {
    "collapsed": false,
    "pycharm": {
     "name": "#%% md\n"
    }
   }
  },
  {
   "cell_type": "code",
   "execution_count": 4,
   "outputs": [
    {
     "data": {
      "text/plain": "(1, 7, 7, 2)"
     },
     "execution_count": 4,
     "metadata": {},
     "output_type": "execute_result"
    }
   ],
   "source": [
    "from notebooks.ml_basics_recap.data import new_sample\n",
    "sample = new_sample(board_size=input_size, num_blacks=20, num_whites=0)\n",
    "sample.shape"
   ],
   "metadata": {
    "collapsed": false,
    "pycharm": {
     "name": "#%%\n"
    }
   }
  },
  {
   "cell_type": "code",
   "execution_count": 5,
   "outputs": [
    {
     "name": "stdout",
     "output_type": "stream",
     "text": [
      "shape: (7, 7, 2)\n",
      "[[0. 1. 0. 1. 0. 0. 0.]\n",
      " [1. 1. 0. 1. 1. 0. 1.]\n",
      " [0. 0. 0. 0. 1. 0. 0.]\n",
      " [0. 0. 0. 0. 1. 1. 0.]\n",
      " [0. 0. 0. 0. 1. 1. 1.]\n",
      " [0. 1. 0. 0. 0. 1. 0.]\n",
      " [1. 0. 0. 0. 0. 0. 1.]]\n"
     ]
    }
   ],
   "source": [
    "Gt.print_bin(sample, True)"
   ],
   "metadata": {
    "collapsed": false,
    "pycharm": {
     "name": "#%%\n"
    }
   }
  },
  {
   "cell_type": "markdown",
   "source": [
    "---"
   ],
   "metadata": {
    "collapsed": false,
    "pycharm": {
     "name": "#%% md\n"
    }
   }
  },
  {
   "cell_type": "markdown",
   "source": [
    "## The Detection Map"
   ],
   "metadata": {
    "collapsed": false,
    "pycharm": {
     "name": "#%% md\n"
    }
   }
  },
  {
   "cell_type": "code",
   "execution_count": 6,
   "outputs": [
    {
     "name": "stderr",
     "output_type": "stream",
     "text": [
      "2022-05-26 20:38:38.597174: I tensorflow/core/platform/cpu_feature_guard.cc:151] This TensorFlow binary is optimized with oneAPI Deep Neural Network Library (oneDNN) to use the following CPU instructions in performance-critical operations:  AVX2 FMA\n",
      "To enable them in other operations, rebuild TensorFlow with the appropriate compiler flags.\n"
     ]
    }
   ],
   "source": [
    "from notebooks.ml_basics_recap.models.heuristic_detector import HeuristicDetector\n",
    "detector = HeuristicDetector(input_size)"
   ],
   "metadata": {
    "collapsed": false,
    "pycharm": {
     "name": "#%%\n"
    }
   }
  },
  {
   "cell_type": "code",
   "execution_count": 7,
   "outputs": [
    {
     "data": {
      "text/plain": "<tf.Tensor: shape=(1, 7, 7), dtype=float32, numpy=\narray([[[0., 0., 0., 0., 0., 0., 0.],\n        [0., 0., 0., 0., 0., 0., 0.],\n        [0., 0., 0., 0., 1., 0., 0.],\n        [0., 0., 0., 0., 1., 1., 0.],\n        [0., 0., 0., 0., 0., 1., 0.],\n        [0., 0., 0., 0., 0., 1., 0.],\n        [0., 0., 0., 0., 0., 0., 0.]]], dtype=float32)>"
     },
     "execution_count": 7,
     "metadata": {},
     "output_type": "execute_result"
    }
   ],
   "source": [
    "tf.floor(detector(sample)+.01)"
   ],
   "metadata": {
    "collapsed": false,
    "pycharm": {
     "name": "#%%\n"
    }
   }
  },
  {
   "cell_type": "markdown",
   "source": [
    "---"
   ],
   "metadata": {
    "collapsed": false,
    "pycharm": {
     "name": "#%% md\n"
    }
   }
  },
  {
   "cell_type": "markdown",
   "source": [
    "## Batches From a Dataset"
   ],
   "metadata": {
    "collapsed": false,
    "pycharm": {
     "name": "#%% md\n"
    }
   }
  },
  {
   "cell_type": "code",
   "execution_count": 8,
   "outputs": [],
   "source": [
    "BATCH_SIZE=2"
   ],
   "metadata": {
    "collapsed": false,
    "pycharm": {
     "name": "#%%\n"
    }
   }
  },
  {
   "cell_type": "code",
   "execution_count": 9,
   "outputs": [],
   "source": [
    "from notebooks.ml_basics_recap.data import new_sample, new_dataset\n",
    "dataset = new_dataset(100, lambda: new_sample(input_size, 20, 0), detector).batch(BATCH_SIZE)"
   ],
   "metadata": {
    "collapsed": false,
    "pycharm": {
     "name": "#%%\n"
    }
   }
  },
  {
   "cell_type": "code",
   "execution_count": 10,
   "outputs": [
    {
     "data": {
      "text/plain": "TensorShape([2, 1, 7, 7])"
     },
     "execution_count": 10,
     "metadata": {},
     "output_type": "execute_result"
    }
   ],
   "source": [
    "iterator  = iter(dataset)\n",
    "states, labels = iterator.next()\n",
    "labels.shape"
   ],
   "metadata": {
    "collapsed": false,
    "pycharm": {
     "name": "#%%\n"
    }
   }
  },
  {
   "cell_type": "code",
   "execution_count": 11,
   "outputs": [
    {
     "data": {
      "text/plain": "TensorShape([2, 1, 7, 7, 2])"
     },
     "execution_count": 11,
     "metadata": {},
     "output_type": "execute_result"
    }
   ],
   "source": [
    "states.shape"
   ],
   "metadata": {
    "collapsed": false,
    "pycharm": {
     "name": "#%%\n"
    }
   }
  },
  {
   "cell_type": "markdown",
   "source": [
    "---"
   ],
   "metadata": {
    "collapsed": false,
    "pycharm": {
     "name": "#%% md\n"
    }
   }
  },
  {
   "cell_type": "markdown",
   "source": [
    "## The Trainable Model"
   ],
   "metadata": {
    "collapsed": false,
    "pycharm": {
     "name": "#%% md\n"
    }
   }
  },
  {
   "cell_type": "code",
   "execution_count": 12,
   "outputs": [],
   "source": [
    "from notebooks.ml_basics_recap.models import SimpleConvQFunction\n",
    "\n",
    "model_q = SimpleConvQFunction(input_size, n_filters=8, n_layers=4)"
   ],
   "metadata": {
    "collapsed": false,
    "pycharm": {
     "name": "#%%\n"
    }
   }
  },
  {
   "cell_type": "code",
   "execution_count": 29,
   "outputs": [
    {
     "name": "stdout",
     "output_type": "stream",
     "text": [
      "(1, 1, 7, 7)\n"
     ]
    },
    {
     "data": {
      "text/plain": "TensorShape([1, 1, 7, 7])"
     },
     "execution_count": 29,
     "metadata": {},
     "output_type": "execute_result"
    }
   ],
   "source": [
    "print(model_q(states).shape)\n",
    "model_q(states).shape"
   ],
   "metadata": {
    "collapsed": false,
    "pycharm": {
     "name": "#%%\n"
    }
   }
  },
  {
   "cell_type": "markdown",
   "source": [
    "---"
   ],
   "metadata": {
    "collapsed": false,
    "pycharm": {
     "name": "#%% md\n"
    }
   }
  },
  {
   "cell_type": "markdown",
   "source": [
    "## Training"
   ],
   "metadata": {
    "collapsed": false,
    "pycharm": {
     "name": "#%% md\n"
    }
   }
  },
  {
   "cell_type": "code",
   "execution_count": 14,
   "outputs": [],
   "source": [
    "TRAIN_SIZE = 1024 * 16\n",
    "TEST_SIZE = 1024\n",
    "BATCH_SIZE = 512"
   ],
   "metadata": {
    "collapsed": false,
    "pycharm": {
     "name": "#%%\n"
    }
   }
  },
  {
   "cell_type": "code",
   "execution_count": 15,
   "outputs": [],
   "source": [
    "train_dataset = new_dataset(size=TRAIN_SIZE,\n",
    "                            sampler=lambda: new_sample(board_size=input_size, num_blacks=10, num_whites=0),\n",
    "                            labeler=detector\n",
    "                            ).batch(BATCH_SIZE)\n",
    "test_dataset = new_dataset(size=TEST_SIZE,\n",
    "                           sampler=lambda: new_sample(board_size=input_size, num_blacks=10, num_whites=0),\n",
    "                           labeler=detector\n",
    "                           ).batch(BATCH_SIZE)"
   ],
   "metadata": {
    "collapsed": false,
    "pycharm": {
     "name": "#%%\n"
    }
   }
  },
  {
   "cell_type": "code",
   "execution_count": 16,
   "outputs": [
    {
     "name": "stdout",
     "output_type": "stream",
     "text": [
      "Epoch 1, Loss: 0.010557678528130054, Accuracy: 0.10275056213140488,     Test Loss: 0.008081444539129734, Test Accuracy: 0.08989685773849487\n",
      "Epoch 2, Loss: 0.005673340987414122, Accuracy: 0.07532157748937607,     Test Loss: 0.0031691845506429672, Test Accuracy: 0.05629551410675049\n",
      "Epoch 3, Loss: 0.0018852961948141456, Accuracy: 0.04341999813914299,     Test Loss: 0.0007818794692866504, Test Accuracy: 0.027962109073996544\n",
      "Epoch 4, Loss: 0.0004476092872209847, Accuracy: 0.021156778559088707,     Test Loss: 0.0006987829692661762, Test Accuracy: 0.026434503495693207\n",
      "Epoch 5, Loss: 0.00023125337611418217, Accuracy: 0.015207016840577126,     Test Loss: 0.00014985751477070153, Test Accuracy: 0.012241629883646965\n",
      "Epoch 6, Loss: 5.966650860500522e-05, Accuracy: 0.007724409457296133,     Test Loss: 5.678702291334048e-05, Test Accuracy: 0.007535716984421015\n",
      "Epoch 7, Loss: 2.874143137887586e-05, Accuracy: 0.0053611034527421,     Test Loss: 4.5684337237617e-05, Test Accuracy: 0.006759018171578646\n",
      "Epoch 8, Loss: 2.1423558791866526e-05, Accuracy: 0.0046285586431622505,     Test Loss: 4.145940692978911e-05, Test Accuracy: 0.006438896991312504\n",
      "Epoch 9, Loss: 1.388338569086045e-05, Accuracy: 0.0037260414101183414,     Test Loss: 2.8332433430477977e-05, Test Accuracy: 0.005322826094925404\n",
      "Epoch 10, Loss: 1.091886679205345e-05, Accuracy: 0.0033043711446225643,     Test Loss: 3.18093370879069e-05, Test Accuracy: 0.005639977753162384\n",
      "Epoch 11, Loss: 5.768867140432121e-06, Accuracy: 0.0024018471594899893,     Test Loss: 2.7681504434440285e-05, Test Accuracy: 0.005261321552097797\n",
      "Epoch 12, Loss: 6.0113238760095555e-06, Accuracy: 0.002451800275593996,     Test Loss: 1.123390393331647e-05, Test Accuracy: 0.0033517018891870975\n",
      "Epoch 13, Loss: 6.657163612544537e-05, Accuracy: 0.008159143850207329,     Test Loss: 4.3028419895563275e-05, Test Accuracy: 0.006559605244547129\n",
      "Epoch 14, Loss: 1.7941236365004443e-05, Accuracy: 0.004235709551721811,     Test Loss: 2.6800484192790464e-05, Test Accuracy: 0.005176918115466833\n",
      "Epoch 15, Loss: 4.71542080049403e-06, Accuracy: 0.0021715019829571247,     Test Loss: 1.733455792418681e-05, Test Accuracy: 0.004163480829447508\n",
      "Epoch 16, Loss: 3.5032608138862997e-06, Accuracy: 0.0018716998165473342,     Test Loss: 2.268628668389283e-05, Test Accuracy: 0.004763013683259487\n",
      "Epoch 17, Loss: 3.11661506202654e-06, Accuracy: 0.0017653938848525286,     Test Loss: 5.3465814744413365e-06, Test Accuracy: 0.0023122678976505995\n",
      "Epoch 18, Loss: 2.1539410681725712e-06, Accuracy: 0.0014676310820505023,     Test Loss: 1.60947056428995e-05, Test Accuracy: 0.004011821001768112\n",
      "Epoch 19, Loss: 1.4510143273582798e-06, Accuracy: 0.001204580650664866,     Test Loss: 5.2256450544518884e-06, Test Accuracy: 0.002285966882482171\n",
      "Epoch 20, Loss: 1.379288164571335e-06, Accuracy: 0.001174431061372161,     Test Loss: 4.162481673120055e-06, Test Accuracy: 0.002040216000750661\n"
     ]
    }
   ],
   "source": [
    "from notebooks.ml_basics_recap.training import Trainer\n",
    "\n",
    "trainer = Trainer(model_q, train_data=train_dataset, test_data=test_dataset)\n",
    "trainer.train(20)"
   ],
   "metadata": {
    "collapsed": false,
    "pycharm": {
     "name": "#%%\n"
    }
   }
  },
  {
   "cell_type": "markdown",
   "source": [
    "---"
   ],
   "metadata": {
    "collapsed": false,
    "pycharm": {
     "name": "#%% md\n"
    }
   }
  },
  {
   "cell_type": "markdown",
   "source": [
    "## Manual Inspection"
   ],
   "metadata": {
    "collapsed": false,
    "pycharm": {
     "name": "#%% md\n"
    }
   }
  },
  {
   "cell_type": "code",
   "execution_count": 30,
   "outputs": [],
   "source": [
    "BATCH_SIZE=1"
   ],
   "metadata": {
    "collapsed": false,
    "pycharm": {
     "name": "#%%\n"
    }
   }
  },
  {
   "cell_type": "code",
   "execution_count": 31,
   "outputs": [],
   "source": [
    "dataset = new_dataset(10, lambda: new_sample(input_size, 10, 0), detector).batch(BATCH_SIZE)"
   ],
   "metadata": {
    "collapsed": false,
    "pycharm": {
     "name": "#%%\n"
    }
   }
  },
  {
   "cell_type": "code",
   "execution_count": 32,
   "outputs": [],
   "source": [
    "iterator  = iter(dataset)\n",
    "states, labels = iterator.next()"
   ],
   "metadata": {
    "collapsed": false,
    "pycharm": {
     "name": "#%%\n"
    }
   }
  },
  {
   "cell_type": "markdown",
   "source": [
    "### Labels"
   ],
   "metadata": {
    "collapsed": false,
    "pycharm": {
     "name": "#%% md\n"
    }
   }
  },
  {
   "cell_type": "code",
   "execution_count": 34,
   "outputs": [
    {
     "data": {
      "text/plain": "<tf.Tensor: shape=(1, 1, 7, 7), dtype=float32, numpy=\narray([[[[0., 0., 0., 0., 0., 0., 0.],\n         [0., 0., 0., 0., 0., 0., 0.],\n         [0., 0., 0., 0., 0., 0., 0.],\n         [0., 0., 0., 0., 0., 0., 0.],\n         [0., 1., 0., 0., 0., 0., 0.],\n         [0., 0., 0., 0., 0., 0., 0.],\n         [0., 0., 0., 0., 0., 0., 0.]]]], dtype=float32)>"
     },
     "execution_count": 34,
     "metadata": {},
     "output_type": "execute_result"
    }
   ],
   "source": [
    "tf.floor(labels+.01)"
   ],
   "metadata": {
    "collapsed": false,
    "pycharm": {
     "name": "#%%\n"
    }
   }
  },
  {
   "cell_type": "markdown",
   "source": [
    "### Learned"
   ],
   "metadata": {
    "collapsed": false,
    "pycharm": {
     "name": "#%% md\n"
    }
   }
  },
  {
   "cell_type": "code",
   "execution_count": 35,
   "outputs": [
    {
     "data": {
      "text/plain": "array([[[[ 0.,  0.,  0.,  0.,  0.,  0.,  0.],\n         [ 0.,  0.,  0.,  0.,  0.,  0.,  0.],\n         [-0.,  0.,  0.,  0.,  0.,  0.,  0.],\n         [ 0.,  0.,  0.,  0.,  0.,  0.,  0.],\n         [ 0.,  1.,  0.,  0.,  0.,  0.,  0.],\n         [ 0.,  0.,  0.,  0., -0.,  0.,  0.],\n         [-0.,  0.,  0.,  0.,  0.,  0., -0.]]]], dtype=float32)"
     },
     "execution_count": 35,
     "metadata": {},
     "output_type": "execute_result"
    }
   ],
   "source": [
    "pred = model_q(states)\n",
    "np.round(pred, 2)"
   ],
   "metadata": {
    "collapsed": false,
    "pycharm": {
     "name": "#%%\n"
    }
   }
  },
  {
   "cell_type": "code",
   "execution_count": null,
   "outputs": [],
   "source": [],
   "metadata": {
    "collapsed": false,
    "pycharm": {
     "name": "#%%\n"
    }
   }
  }
 ],
 "metadata": {
  "kernelspec": {
   "display_name": "Python 3",
   "language": "python",
   "name": "python3"
  },
  "language_info": {
   "codemirror_mode": {
    "name": "ipython",
    "version": 2
   },
   "file_extension": ".py",
   "mimetype": "text/x-python",
   "name": "python",
   "nbconvert_exporter": "python",
   "pygments_lexer": "ipython2",
   "version": "2.7.6"
  }
 },
 "nbformat": 4,
 "nbformat_minor": 0
}