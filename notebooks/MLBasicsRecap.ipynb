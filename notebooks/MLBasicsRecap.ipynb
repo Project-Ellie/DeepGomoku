{
 "cells": [
  {
   "cell_type": "markdown",
   "source": [],
   "metadata": {
    "collapsed": false,
    "pycharm": {
     "name": "#%% md\n"
    }
   }
  },
  {
   "cell_type": "code",
   "execution_count": 1,
   "outputs": [],
   "source": [
    "%load_ext autoreload\n",
    "%autoreload 2"
   ],
   "metadata": {
    "collapsed": false,
    "pycharm": {
     "name": "#%%\n"
    }
   }
  },
  {
   "cell_type": "code",
   "execution_count": 2,
   "outputs": [],
   "source": [
    "%load_ext tensorboard"
   ],
   "metadata": {
    "collapsed": false,
    "pycharm": {
     "name": "#%%\n"
    }
   }
  },
  {
   "cell_type": "code",
   "execution_count": 3,
   "outputs": [],
   "source": [
    "import numpy as np\n",
    "import tensorflow as tf\n",
    "\n",
    "from domoku.tools import GomokuTools as Gt"
   ],
   "metadata": {
    "collapsed": false,
    "pycharm": {
     "name": "#%%\n"
    }
   }
  },
  {
   "cell_type": "code",
   "execution_count": 4,
   "outputs": [],
   "source": [
    "input_size=7"
   ],
   "metadata": {
    "collapsed": false,
    "pycharm": {
     "name": "#%%\n"
    }
   }
  },
  {
   "cell_type": "code",
   "execution_count": 5,
   "outputs": [
    {
     "name": "stdout",
     "output_type": "stream",
     "text": [
      "Checkpoints can be found in /var/folders/0s/fny92xb54c50mb90g3l_zmx00000gp/T/tmpg3gccj8a/gomoku/checkpoints\n",
      "Models can be found in /var/folders/0s/fny92xb54c50mb90g3l_zmx00000gp/T/tmpg3gccj8a/gomoku/models\n",
      "Logs can be found in /var/folders/0s/fny92xb54c50mb90g3l_zmx00000gp/T/tmpg3gccj8a/gomoku/logs\n"
     ]
    }
   ],
   "source": [
    "import os\n",
    "import tempfile\n",
    "from pathlib import Path\n",
    "\n",
    "tempdir = tempfile.mkdtemp()\n",
    "\n",
    "data_dir = Path(os.environ.get('MODELS_DIR', tempdir)) / 'gomoku'\n",
    "models_dir = data_dir / 'models'\n",
    "logs_dir = data_dir / 'logs'\n",
    "cp_dir = data_dir / 'checkpoints'\n",
    "print(f\"Checkpoints can be found in {cp_dir}\")\n",
    "print(f\"Models can be found in {models_dir}\")\n",
    "print(f\"Logs can be found in {logs_dir}\")"
   ],
   "metadata": {
    "collapsed": false,
    "pycharm": {
     "name": "#%%\n"
    }
   }
  },
  {
   "cell_type": "markdown",
   "source": [
    "---"
   ],
   "metadata": {
    "collapsed": false,
    "pycharm": {
     "name": "#%% md\n"
    }
   }
  },
  {
   "cell_type": "markdown",
   "source": [
    "# Tutorial: Training a Conv Model\n",
    "#### Detecting Lines of Three on a Board of 7x7"
   ],
   "metadata": {
    "collapsed": false,
    "pycharm": {
     "name": "#%% md\n"
    }
   }
  },
  {
   "cell_type": "markdown",
   "source": [
    "## Sampling Random Boards"
   ],
   "metadata": {
    "collapsed": false,
    "pycharm": {
     "name": "#%% md\n"
    }
   }
  },
  {
   "cell_type": "code",
   "execution_count": 6,
   "outputs": [
    {
     "data": {
      "text/plain": "(7, 7, 2)"
     },
     "execution_count": 6,
     "metadata": {},
     "output_type": "execute_result"
    }
   ],
   "source": [
    "from notebooks.ml_basics_recap.data import new_sample\n",
    "sample = new_sample(board_size=input_size, num_blacks=20, num_whites=0)\n",
    "sample.shape"
   ],
   "metadata": {
    "collapsed": false,
    "pycharm": {
     "name": "#%%\n"
    }
   }
  },
  {
   "cell_type": "code",
   "execution_count": 7,
   "outputs": [
    {
     "name": "stdout",
     "output_type": "stream",
     "text": [
      "shape: (7, 7, 2)\n",
      "[[1. 0. 0. 0. 1. 0. 1.]\n",
      " [0. 1. 1. 0. 0. 0. 1.]\n",
      " [0. 1. 0. 1. 0. 0. 0.]\n",
      " [1. 0. 0. 1. 0. 0. 0.]\n",
      " [1. 1. 1. 0. 0. 0. 1.]\n",
      " [0. 1. 0. 0. 0. 0. 0.]\n",
      " [0. 0. 1. 0. 0. 0. 1.]]\n"
     ]
    }
   ],
   "source": [
    "Gt.print_bin(sample, True)"
   ],
   "metadata": {
    "collapsed": false,
    "pycharm": {
     "name": "#%%\n"
    }
   }
  },
  {
   "cell_type": "markdown",
   "source": [
    "---"
   ],
   "metadata": {
    "collapsed": false,
    "pycharm": {
     "name": "#%% md\n"
    }
   }
  },
  {
   "cell_type": "markdown",
   "source": [
    "## The Detection Map"
   ],
   "metadata": {
    "collapsed": false,
    "pycharm": {
     "name": "#%% md\n"
    }
   }
  },
  {
   "cell_type": "code",
   "execution_count": 8,
   "outputs": [
    {
     "name": "stderr",
     "output_type": "stream",
     "text": [
      "2022-06-11 13:18:46.447456: I tensorflow/core/platform/cpu_feature_guard.cc:193] This TensorFlow binary is optimized with oneAPI Deep Neural Network Library (oneDNN) to use the following CPU instructions in performance-critical operations:  AVX2 FMA\n",
      "To enable them in other operations, rebuild TensorFlow with the appropriate compiler flags.\n"
     ]
    }
   ],
   "source": [
    "from notebooks.ml_basics_recap.models.heuristic_detector import HeuristicDetector\n",
    "detector = HeuristicDetector(input_size)"
   ],
   "metadata": {
    "collapsed": false,
    "pycharm": {
     "name": "#%%\n"
    }
   }
  },
  {
   "cell_type": "markdown",
   "source": [
    "## Notice the additional dimension for the batch size come and go"
   ],
   "metadata": {
    "collapsed": false,
    "pycharm": {
     "name": "#%% md\n"
    }
   }
  },
  {
   "cell_type": "code",
   "execution_count": 9,
   "outputs": [
    {
     "data": {
      "text/plain": "<tf.Tensor: shape=(1, 7, 7), dtype=float32, numpy=\narray([[[0., 0., 0., 0., 0., 0., 0.],\n        [0., 0., 0., 0., 0., 0., 0.],\n        [0., 1., 0., 0., 0., 0., 0.],\n        [0., 0., 0., 0., 0., 0., 0.],\n        [0., 1., 1., 0., 0., 0., 0.],\n        [0., 1., 0., 0., 0., 0., 0.],\n        [0., 0., 0., 0., 0., 0., 0.]]], dtype=float32)>"
     },
     "execution_count": 9,
     "metadata": {},
     "output_type": "execute_result"
    }
   ],
   "source": [
    "tf.floor(detector(np.expand_dims(sample, 0))+.01)"
   ],
   "metadata": {
    "collapsed": false,
    "pycharm": {
     "name": "#%%\n"
    }
   }
  },
  {
   "cell_type": "code",
   "execution_count": 10,
   "outputs": [
    {
     "data": {
      "text/plain": "(7, 7)"
     },
     "execution_count": 10,
     "metadata": {},
     "output_type": "execute_result"
    }
   ],
   "source": [
    "np.squeeze(detector(np.expand_dims(sample, 0))).shape"
   ],
   "metadata": {
    "collapsed": false,
    "pycharm": {
     "name": "#%%\n"
    }
   }
  },
  {
   "cell_type": "markdown",
   "source": [
    "---"
   ],
   "metadata": {
    "collapsed": false,
    "pycharm": {
     "name": "#%% md\n"
    }
   }
  },
  {
   "cell_type": "markdown",
   "source": [
    "## Batches From a Dataset\n",
    "#### Strong Advice: Meticulously observe the shape of all incoming data!"
   ],
   "metadata": {
    "collapsed": false,
    "pycharm": {
     "name": "#%% md\n"
    }
   }
  },
  {
   "cell_type": "code",
   "execution_count": 11,
   "outputs": [],
   "source": [
    "BATCH_SIZE=4"
   ],
   "metadata": {
    "collapsed": false,
    "pycharm": {
     "name": "#%%\n"
    }
   }
  },
  {
   "cell_type": "code",
   "execution_count": 12,
   "outputs": [],
   "source": [
    "from notebooks.ml_basics_recap.data import new_sample, new_dataset\n",
    "dataset = new_dataset(100, lambda: new_sample(input_size, 20, 0), detector).batch(BATCH_SIZE)"
   ],
   "metadata": {
    "collapsed": false,
    "pycharm": {
     "name": "#%%\n"
    }
   }
  },
  {
   "cell_type": "code",
   "execution_count": 13,
   "outputs": [
    {
     "name": "stdout",
     "output_type": "stream",
     "text": [
      "Inputs' shape: (4, 7, 7, 2), Labels' shape: (4, 7, 7)\n"
     ]
    }
   ],
   "source": [
    "iterator  = iter(dataset)\n",
    "states, labels = iterator.next()\n",
    "print (f\"Inputs' shape: {states.shape}, Labels' shape: {labels.shape}\")"
   ],
   "metadata": {
    "collapsed": false,
    "pycharm": {
     "name": "#%%\n"
    }
   }
  },
  {
   "cell_type": "markdown",
   "source": [
    "---"
   ],
   "metadata": {
    "collapsed": false,
    "pycharm": {
     "name": "#%% md\n"
    }
   }
  },
  {
   "cell_type": "markdown",
   "source": [
    "## The Trainable Model"
   ],
   "metadata": {
    "collapsed": false,
    "pycharm": {
     "name": "#%% md\n"
    }
   }
  },
  {
   "cell_type": "code",
   "execution_count": 14,
   "outputs": [
    {
     "name": "stdout",
     "output_type": "stream",
     "text": [
      "(4, 5, 5, 1)\n",
      "(4, 5, 5)\n"
     ]
    }
   ],
   "source": [
    "from notebooks.ml_basics_recap.models import SimpleConvQFunction\n",
    "\n",
    "model_q = SimpleConvQFunction(input_size, n_filters=8, n_layers=4)\n",
    "print(model_q(states).shape)\n",
    "print(np.squeeze(model_q(np.expand_dims(states, 0))).shape)"
   ],
   "metadata": {
    "collapsed": false,
    "pycharm": {
     "name": "#%%\n"
    }
   }
  },
  {
   "cell_type": "markdown",
   "source": [
    "---"
   ],
   "metadata": {
    "collapsed": false,
    "pycharm": {
     "name": "#%% md\n"
    }
   }
  },
  {
   "cell_type": "markdown",
   "source": [
    "## Training"
   ],
   "metadata": {
    "collapsed": false,
    "pycharm": {
     "name": "#%% md\n"
    }
   }
  },
  {
   "cell_type": "code",
   "execution_count": 15,
   "outputs": [],
   "source": [
    "TRAIN_SIZE = 1024 * 8\n",
    "TEST_SIZE = 1024\n",
    "BATCH_SIZE = 256"
   ],
   "metadata": {
    "collapsed": false,
    "pycharm": {
     "name": "#%%\n"
    }
   }
  },
  {
   "cell_type": "markdown",
   "source": [
    "### Create a dataset from the heuristics"
   ],
   "metadata": {
    "collapsed": false,
    "pycharm": {
     "name": "#%% md\n"
    }
   }
  },
  {
   "cell_type": "code",
   "execution_count": 16,
   "outputs": [],
   "source": [
    "train_dataset = new_dataset(size=TRAIN_SIZE,\n",
    "                            sampler=lambda: new_sample(board_size=input_size, num_blacks=20, num_whites=0),\n",
    "                            labeler=detector, separate=False).batch(BATCH_SIZE)\n",
    "\n",
    "test_dataset = new_dataset(size=TEST_SIZE,\n",
    "                           sampler=lambda: new_sample(board_size=input_size, num_blacks=20, num_whites=0),\n",
    "                           labeler=detector, separate=False).batch(BATCH_SIZE)"
   ],
   "metadata": {
    "collapsed": false,
    "pycharm": {
     "name": "#%%\n"
    }
   }
  },
  {
   "cell_type": "code",
   "execution_count": 17,
   "outputs": [],
   "source": [
    "import tensorflow as tf"
   ],
   "metadata": {
    "collapsed": false,
    "pycharm": {
     "name": "#%%\n"
    }
   }
  },
  {
   "cell_type": "code",
   "execution_count": 18,
   "outputs": [],
   "source": [
    "loss_object = tf.keras.losses.MeanSquaredError()\n",
    "optimizer = tf.keras.optimizers.Adam()"
   ],
   "metadata": {
    "collapsed": false,
    "pycharm": {
     "name": "#%%\n"
    }
   }
  },
  {
   "cell_type": "code",
   "execution_count": 19,
   "outputs": [],
   "source": [
    "train_loss = tf.keras.metrics.Mean('train_loss', dtype=tf.float32)\n",
    "train_accuracy = tf.keras.metrics.MeanSquaredError('train_accuracy')\n",
    "test_loss = tf.keras.metrics.Mean('test_loss', dtype=tf.float32)\n",
    "test_accuracy = tf.keras.metrics.MeanSquaredError('test_accuracy')"
   ],
   "metadata": {
    "collapsed": false,
    "pycharm": {
     "name": "#%%\n"
    }
   }
  },
  {
   "cell_type": "code",
   "execution_count": 20,
   "outputs": [],
   "source": [
    "def train_step(model, optimizer, x_train, y_train):\n",
    "    with tf.GradientTape() as tape:\n",
    "        predictions = model(x_train, training=True)\n",
    "        loss = loss_object(y_train, predictions)\n",
    "    grads = tape.gradient(loss, model.trainable_variables)\n",
    "    optimizer.apply_gradients(zip(grads, model.trainable_variables))\n",
    "\n",
    "    train_loss(loss)\n",
    "    train_accuracy(y_train, predictions)\n",
    "\n",
    "def test_step(model, x_test, y_test):\n",
    "    predictions = model(x_test)\n",
    "    loss = loss_object(y_test, predictions)\n",
    "\n",
    "    test_loss(loss)\n",
    "    test_accuracy(y_test, predictions)"
   ],
   "metadata": {
    "collapsed": false,
    "pycharm": {
     "name": "#%%\n"
    }
   }
  },
  {
   "cell_type": "code",
   "execution_count": 24,
   "outputs": [],
   "source": [
    "import datetime as dt\n",
    "current_time = dt.datetime.now().strftime(\"%Y%m%d-%H%M%S\")\n",
    "train_log_dir = 'logs/gradient_tape/' + current_time + '/train'\n",
    "test_log_dir = 'logs/gradient_tape/' + current_time + '/test'\n",
    "train_summary_writer = tf.summary.create_file_writer(train_log_dir)\n",
    "test_summary_writer = tf.summary.create_file_writer(test_log_dir)"
   ],
   "metadata": {
    "collapsed": false,
    "pycharm": {
     "name": "#%%\n"
    }
   }
  },
  {
   "cell_type": "code",
   "execution_count": 25,
   "outputs": [],
   "source": [
    "iterator  = iter(train_dataset)\n",
    "x_train, y_train = iterator.next()"
   ],
   "metadata": {
    "collapsed": false,
    "pycharm": {
     "name": "#%%\n"
    }
   }
  },
  {
   "cell_type": "code",
   "execution_count": 26,
   "outputs": [
    {
     "name": "stdout",
     "output_type": "stream",
     "text": [
      "Model: \"simple_conv_q_function_2\"\n",
      "_________________________________________________________________\n",
      " Layer (type)                Output Shape              Param #   \n",
      "=================================================================\n",
      " conv2d_12 (Conv2D)          multiple                  152       \n",
      "                                                                 \n",
      " conv2d_13 (Conv2D)          multiple                  584       \n",
      "                                                                 \n",
      " conv2d_14 (Conv2D)          multiple                  584       \n",
      "                                                                 \n",
      " conv2d_15 (Conv2D)          multiple                  584       \n",
      "                                                                 \n",
      " conv2d_16 (Conv2D)          multiple                  73        \n",
      "                                                                 \n",
      "=================================================================\n",
      "Total params: 1,977\n",
      "Trainable params: 1,977\n",
      "Non-trainable params: 0\n",
      "_________________________________________________________________\n"
     ]
    }
   ],
   "source": [
    "flatten = tf.keras.layers.Flatten()\n",
    "model = SimpleConvQFunction(input_size, n_filters=8, n_layers=4)\n",
    "labels = model(x_train, training=True)\n",
    "loss = loss_object(y_train, labels)\n",
    "model.summary()"
   ],
   "metadata": {
    "collapsed": false,
    "pycharm": {
     "name": "#%%\n"
    }
   }
  },
  {
   "cell_type": "code",
   "execution_count": 27,
   "outputs": [
    {
     "name": "stdout",
     "output_type": "stream",
     "text": [
      "Epoch 1, Loss: 0.06899061053991318, Accuracy: 6.89906120300293, Test Loss: 0.06689083576202393, Test Accuracy: 6.689083576202393\n",
      "Epoch 2, Loss: 0.06471351534128189, Accuracy: 6.4713521003723145, Test Loss: 0.058587975800037384, Test Accuracy: 5.858797550201416\n",
      "Epoch 3, Loss: 0.05177763104438782, Accuracy: 5.17776346206665, Test Loss: 0.046572066843509674, Test Accuracy: 4.6572065353393555\n",
      "Epoch 4, Loss: 0.04341210797429085, Accuracy: 4.341209888458252, Test Loss: 0.040649451315402985, Test Accuracy: 4.064945220947266\n",
      "Epoch 5, Loss: 0.037916310131549835, Accuracy: 3.7916297912597656, Test Loss: 0.03587673231959343, Test Accuracy: 3.5876731872558594\n",
      "Epoch 6, Loss: 0.03318950906395912, Accuracy: 3.318951368331909, Test Loss: 0.03117094188928604, Test Accuracy: 3.1170942783355713\n",
      "Epoch 7, Loss: 0.02914777770638466, Accuracy: 2.914778709411621, Test Loss: 0.027891524136066437, Test Accuracy: 2.7891526222229004\n",
      "Epoch 8, Loss: 0.026177197694778442, Accuracy: 2.6177191734313965, Test Loss: 0.0250156968832016, Test Accuracy: 2.5015697479248047\n",
      "Epoch 9, Loss: 0.023190535604953766, Accuracy: 2.3190534114837646, Test Loss: 0.02167408913373947, Test Accuracy: 2.1674091815948486\n",
      "Epoch 10, Loss: 0.019586365669965744, Accuracy: 1.9586364030838013, Test Loss: 0.017721420153975487, Test Accuracy: 1.7721418142318726\n",
      "Epoch 11, Loss: 0.01543502975255251, Accuracy: 1.543502926826477, Test Loss: 0.013451549224555492, Test Accuracy: 1.345154881477356\n",
      "Epoch 12, Loss: 0.011380140669643879, Accuracy: 1.1380138397216797, Test Loss: 0.009713303297758102, Test Accuracy: 0.9713302254676819\n",
      "Epoch 13, Loss: 0.008196741342544556, Accuracy: 0.819674015045166, Test Loss: 0.007062420714646578, Test Accuracy: 0.7062421441078186\n",
      "Epoch 14, Loss: 0.005987949203699827, Accuracy: 0.5987949371337891, Test Loss: 0.005234685260802507, Test Accuracy: 0.523468554019928\n",
      "Epoch 15, Loss: 0.004465047735720873, Accuracy: 0.44650477170944214, Test Loss: 0.003990018740296364, Test Accuracy: 0.39900192618370056\n",
      "Epoch 16, Loss: 0.003418202977627516, Accuracy: 0.34182029962539673, Test Loss: 0.0031170991715043783, Test Accuracy: 0.3117099404335022\n",
      "Epoch 17, Loss: 0.0026796760503202677, Accuracy: 0.2679676115512848, Test Loss: 0.002477953676134348, Test Accuracy: 0.24779537320137024\n",
      "Epoch 18, Loss: 0.0021386027801781893, Accuracy: 0.21386027336120605, Test Loss: 0.0020126402378082275, Test Accuracy: 0.20126405358314514\n",
      "Epoch 19, Loss: 0.001733340322971344, Accuracy: 0.1733340322971344, Test Loss: 0.0016575850313529372, Test Accuracy: 0.16575850546360016\n",
      "Epoch 20, Loss: 0.0014254306443035603, Accuracy: 0.14254304766654968, Test Loss: 0.00138214067555964, Test Accuracy: 0.13821406662464142\n",
      "Epoch 21, Loss: 0.0011827058624476194, Accuracy: 0.11827057600021362, Test Loss: 0.0011590712238103151, Test Accuracy: 0.11590712517499924\n",
      "Epoch 22, Loss: 0.0009843846783041954, Accuracy: 0.09843847900629044, Test Loss: 0.0009731638128869236, Test Accuracy: 0.09731638431549072\n",
      "Epoch 23, Loss: 0.0008257220033556223, Accuracy: 0.08257219195365906, Test Loss: 0.0008238932932727039, Test Accuracy: 0.08238933235406876\n",
      "Epoch 24, Loss: 0.0007025841041468084, Accuracy: 0.07025841623544693, Test Loss: 0.0007071266882121563, Test Accuracy: 0.07071267068386078\n",
      "Epoch 25, Loss: 0.0006053639226593077, Accuracy: 0.06053639203310013, Test Loss: 0.0006144637009128928, Test Accuracy: 0.06144636869430542\n",
      "Epoch 26, Loss: 0.0005266009829938412, Accuracy: 0.05266009271144867, Test Loss: 0.0005394855979830027, Test Accuracy: 0.05394855514168739\n",
      "Epoch 27, Loss: 0.0004621433326974511, Accuracy: 0.04621433839201927, Test Loss: 0.00047765212366357446, Test Accuracy: 0.04776521399617195\n",
      "Epoch 28, Loss: 0.0004083737439941615, Accuracy: 0.040837373584508896, Test Loss: 0.0004260722198523581, Test Accuracy: 0.04260722175240517\n",
      "Epoch 29, Loss: 0.0003630818100646138, Accuracy: 0.03630818799138069, Test Loss: 0.00038302468601614237, Test Accuracy: 0.0383024699985981\n",
      "Epoch 30, Loss: 0.0003246168198529631, Accuracy: 0.032461680471897125, Test Loss: 0.00034504756331443787, Test Accuracy: 0.03450475633144379\n",
      "Epoch 31, Loss: 0.0002917451784014702, Accuracy: 0.029174521565437317, Test Loss: 0.0003118927124887705, Test Accuracy: 0.031189268454909325\n",
      "Epoch 32, Loss: 0.00026333608548156917, Accuracy: 0.026333607733249664, Test Loss: 0.0002831617894116789, Test Accuracy: 0.028316179290413857\n",
      "Epoch 33, Loss: 0.0002387255517533049, Accuracy: 0.023872554302215576, Test Loss: 0.00025821159943006933, Test Accuracy: 0.025821160525083542\n",
      "Epoch 34, Loss: 0.00021715126058552414, Accuracy: 0.021715126931667328, Test Loss: 0.00023661743034608662, Test Accuracy: 0.023661741986870766\n",
      "Epoch 35, Loss: 0.00019833326223306358, Accuracy: 0.01983332447707653, Test Loss: 0.00021726288832724094, Test Accuracy: 0.02172628790140152\n",
      "Epoch 36, Loss: 0.0001815467549022287, Accuracy: 0.018154673278331757, Test Loss: 0.00019959936616942286, Test Accuracy: 0.019959935918450356\n",
      "Epoch 37, Loss: 0.00016688229516148567, Accuracy: 0.016688233241438866, Test Loss: 0.00018401333363726735, Test Accuracy: 0.018401334062218666\n",
      "Epoch 38, Loss: 0.0001537172356620431, Accuracy: 0.015371724963188171, Test Loss: 0.00017038021178450435, Test Accuracy: 0.017038021236658096\n",
      "Epoch 39, Loss: 0.0001420486660208553, Accuracy: 0.01420486532151699, Test Loss: 0.0001582200056873262, Test Accuracy: 0.015822002664208412\n",
      "Epoch 40, Loss: 0.00013150258746463805, Accuracy: 0.013150261715054512, Test Loss: 0.00014747738896403462, Test Accuracy: 0.0147477388381958\n"
     ]
    }
   ],
   "source": [
    "EPOCHS = 40\n",
    "\n",
    "for epoch in range(EPOCHS):\n",
    "    for x_train, y_train in train_dataset:\n",
    "        train_step(model, optimizer, x_train, y_train)\n",
    "    with train_summary_writer.as_default():\n",
    "        tf.summary.scalar('loss', train_loss.result(), step=epoch)\n",
    "        tf.summary.scalar('accuracy', train_accuracy.result(), step=epoch)\n",
    "\n",
    "    for x_test, y_test in test_dataset:\n",
    "        test_step(model, x_test, y_test)\n",
    "    with train_summary_writer.as_default():\n",
    "        tf.summary.scalar('loss', test_loss.result(), step=epoch)\n",
    "        tf.summary.scalar('accuracy', test_accuracy.result(), step=epoch)\n",
    "\n",
    "\n",
    "    template = 'Epoch {}, Loss: {}, Accuracy: {}, Test Loss: {}, Test Accuracy: {}'\n",
    "    print (template.format(epoch+1,\n",
    "                           train_loss.result(),\n",
    "                           train_accuracy.result()*100,\n",
    "                           test_loss.result(),\n",
    "                           test_accuracy.result()*100))\n",
    "\n",
    "    train_loss.reset_states()\n",
    "    test_loss.reset_states()\n",
    "    train_accuracy.reset_states()\n",
    "    test_accuracy.reset_states()"
   ],
   "metadata": {
    "collapsed": false,
    "pycharm": {
     "name": "#%%\n"
    }
   }
  },
  {
   "cell_type": "code",
   "execution_count": 28,
   "outputs": [],
   "source": [
    "BATCH_SIZE=1"
   ],
   "metadata": {
    "collapsed": false,
    "pycharm": {
     "name": "#%%\n"
    }
   }
  },
  {
   "cell_type": "code",
   "execution_count": 29,
   "outputs": [],
   "source": [
    "dataset = new_dataset(10, lambda: new_sample(input_size, 20, 0), detector).batch(BATCH_SIZE)\n",
    "iterator  = iter(dataset)"
   ],
   "metadata": {
    "collapsed": false,
    "pycharm": {
     "name": "#%%\n"
    }
   }
  },
  {
   "cell_type": "markdown",
   "source": [
    "### Labels vs Learned"
   ],
   "metadata": {
    "collapsed": false,
    "pycharm": {
     "name": "#%% md\n"
    }
   }
  },
  {
   "cell_type": "code",
   "execution_count": 31,
   "outputs": [
    {
     "name": "stdout",
     "output_type": "stream",
     "text": [
      "shape: (7, 7, 2)\n",
      "[[0. 1. 0. 0. 0. 0. 0.]\n",
      " [0. 0. 1. 0. 1. 0. 0.]\n",
      " [0. 0. 0. 0. 0. 1. 0.]\n",
      " [0. 0. 0. 0. 0. 0. 0.]\n",
      " [0. 1. 1. 0. 0. 0. 1.]\n",
      " [1. 1. 0. 1. 0. 1. 1.]\n",
      " [1. 1. 0. 0. 1. 1. 0.]]\n",
      "tf.Tensor(\n",
      "[[[0. 0. 0. 0. 0. 0. 0.]\n",
      "  [0. 0. 0. 0. 0. 0. 0.]\n",
      "  [0. 0. 0. 0. 0. 0. 0.]\n",
      "  [0. 0. 0. 0. 0. 0. 0.]\n",
      "  [0. 0. 0. 0. 0. 0. 0.]\n",
      "  [0. 1. 0. 1. 0. 1. 0.]\n",
      "  [0. 0. 0. 0. 0. 0. 0.]]], shape=(1, 7, 7), dtype=float32)\n",
      "[[ 0.   -0.   -0.   -0.01 -0.   -0.   -0.  ]\n",
      " [-0.   -0.    0.   -0.   -0.   -0.   -0.  ]\n",
      " [-0.    0.    0.    0.   -0.    0.   -0.  ]\n",
      " [ 0.    0.   -0.   -0.    0.01  0.    0.  ]\n",
      " [ 0.01  0.   -0.01 -0.    0.01  0.01  0.01]\n",
      " [-0.01  1.    0.01  0.99  0.    0.99 -0.01]\n",
      " [-0.02 -0.01  0.01  0.01 -0.   -0.02  0.02]]\n"
     ]
    }
   ],
   "source": [
    "states, labels = iterator.next()\n",
    "pred = np.squeeze(model(states))\n",
    "\n",
    "Gt.print_bin(states, combine=True)\n",
    "print(tf.floor(labels+.01))\n",
    "print(np.round(pred, 2))"
   ],
   "metadata": {
    "collapsed": false,
    "pycharm": {
     "name": "#%%\n"
    }
   }
  },
  {
   "cell_type": "code",
   "execution_count": 32,
   "outputs": [
    {
     "data": {
      "text/plain": "'logs/gradient_tape/20220611-132056/train'"
     },
     "execution_count": 32,
     "metadata": {},
     "output_type": "execute_result"
    }
   ],
   "source": [
    "train_log_dir"
   ],
   "metadata": {
    "collapsed": false,
    "pycharm": {
     "name": "#%%\n"
    }
   }
  },
  {
   "cell_type": "code",
   "execution_count": 34,
   "outputs": [
    {
     "data": {
      "text/plain": "Launching TensorBoard..."
     },
     "metadata": {},
     "output_type": "display_data"
    },
    {
     "data": {
      "text/plain": "<IPython.core.display.HTML object>",
      "text/html": "\n      <iframe id=\"tensorboard-frame-7abc59a3f5075467\" width=\"100%\" height=\"800\" frameborder=\"0\">\n      </iframe>\n      <script>\n        (function() {\n          const frame = document.getElementById(\"tensorboard-frame-7abc59a3f5075467\");\n          const url = new URL(\"/\", window.location);\n          const port = 6006;\n          if (port) {\n            url.port = port;\n          }\n          frame.src = url;\n        })();\n      </script>\n    "
     },
     "metadata": {},
     "output_type": "display_data"
    }
   ],
   "source": [
    "%tensorboard --logdir logs/gradient_tape/20220611-132056/train"
   ],
   "metadata": {
    "collapsed": false,
    "pycharm": {
     "name": "#%%\n"
    }
   }
  }
 ],
 "metadata": {
  "kernelspec": {
   "display_name": "Python 3",
   "language": "python",
   "name": "python3"
  },
  "language_info": {
   "codemirror_mode": {
    "name": "ipython",
    "version": 2
   },
   "file_extension": ".py",
   "mimetype": "text/x-python",
   "name": "python",
   "nbconvert_exporter": "python",
   "pygments_lexer": "ipython2",
   "version": "2.7.6"
  }
 },
 "nbformat": 4,
 "nbformat_minor": 0
}