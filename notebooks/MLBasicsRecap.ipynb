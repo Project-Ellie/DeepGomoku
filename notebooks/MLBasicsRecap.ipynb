{
 "cells": [
  {
   "cell_type": "markdown",
   "source": [],
   "metadata": {
    "collapsed": false,
    "pycharm": {
     "name": "#%% md\n"
    }
   }
  },
  {
   "cell_type": "code",
   "execution_count": 1,
   "outputs": [],
   "source": [
    "%load_ext autoreload\n",
    "%autoreload 2"
   ],
   "metadata": {
    "collapsed": false,
    "pycharm": {
     "name": "#%%\n"
    }
   }
  },
  {
   "cell_type": "code",
   "execution_count": 2,
   "outputs": [],
   "source": [
    "%load_ext tensorboard"
   ],
   "metadata": {
    "collapsed": false,
    "pycharm": {
     "name": "#%%\n"
    }
   }
  },
  {
   "cell_type": "code",
   "execution_count": 3,
   "outputs": [],
   "source": [
    "import numpy as np\n",
    "import tensorflow as tf\n",
    "\n",
    "from alphazero import tools as gt"
   ],
   "metadata": {
    "collapsed": false,
    "pycharm": {
     "name": "#%%\n"
    }
   }
  },
  {
   "cell_type": "code",
   "execution_count": 4,
   "outputs": [],
   "source": [
    "input_size=7"
   ],
   "metadata": {
    "collapsed": false,
    "pycharm": {
     "name": "#%%\n"
    }
   }
  },
  {
   "cell_type": "code",
   "execution_count": 5,
   "outputs": [],
   "source": [
    "! env | grep LD_"
   ],
   "metadata": {
    "collapsed": false,
    "pycharm": {
     "name": "#%%\n"
    }
   }
  },
  {
   "cell_type": "code",
   "execution_count": 6,
   "outputs": [
    {
     "data": {
      "text/plain": "[PhysicalDevice(name='/physical_device:CPU:0', device_type='CPU')]"
     },
     "execution_count": 6,
     "metadata": {},
     "output_type": "execute_result"
    }
   ],
   "source": [
    "tf.config.list_physical_devices()"
   ],
   "metadata": {
    "collapsed": false,
    "pycharm": {
     "name": "#%%\n"
    }
   }
  },
  {
   "cell_type": "code",
   "execution_count": 7,
   "outputs": [
    {
     "name": "stdout",
     "output_type": "stream",
     "text": [
      "Checkpoints can be found in /var/folders/0s/fny92xb54c50mb90g3l_zmx00000gp/T/tmpi6hw_nsg/gomoku/checkpoints\n",
      "Models can be found in /var/folders/0s/fny92xb54c50mb90g3l_zmx00000gp/T/tmpi6hw_nsg/gomoku/models\n",
      "Logs can be found in /var/folders/0s/fny92xb54c50mb90g3l_zmx00000gp/T/tmpi6hw_nsg/gomoku/logs\n"
     ]
    }
   ],
   "source": [
    "import os\n",
    "import tempfile\n",
    "from pathlib import Path\n",
    "\n",
    "tempdir = tempfile.mkdtemp()\n",
    "\n",
    "data_dir = Path(os.environ.get('MODELS_DIR', tempdir)) / 'gomoku'\n",
    "models_dir = data_dir / 'models'\n",
    "logs_dir = data_dir / 'logs'\n",
    "cp_dir = data_dir / 'checkpoints'\n",
    "print(f\"Checkpoints can be found in {cp_dir}\")\n",
    "print(f\"Models can be found in {models_dir}\")\n",
    "print(f\"Logs can be found in {logs_dir}\")"
   ],
   "metadata": {
    "collapsed": false,
    "pycharm": {
     "name": "#%%\n"
    }
   }
  },
  {
   "cell_type": "markdown",
   "source": [
    "---"
   ],
   "metadata": {
    "collapsed": false,
    "pycharm": {
     "name": "#%% md\n"
    }
   }
  },
  {
   "cell_type": "markdown",
   "source": [
    "# Tutorial: Training a Conv Model\n",
    "#### Detecting Lines of Three on a Board of 7x7"
   ],
   "metadata": {
    "collapsed": false,
    "pycharm": {
     "name": "#%% md\n"
    }
   }
  },
  {
   "cell_type": "markdown",
   "source": [
    "## Sampling Random Boards"
   ],
   "metadata": {
    "collapsed": false,
    "pycharm": {
     "name": "#%% md\n"
    }
   }
  },
  {
   "cell_type": "code",
   "execution_count": 8,
   "outputs": [
    {
     "data": {
      "text/plain": "(7, 7, 2)"
     },
     "execution_count": 8,
     "metadata": {},
     "output_type": "execute_result"
    }
   ],
   "source": [
    "from notebooks.ml_basics_recap.data import new_sample\n",
    "sample = new_sample(board_size=input_size, num_blacks=20, num_whites=0)\n",
    "sample.shape"
   ],
   "metadata": {
    "collapsed": false,
    "pycharm": {
     "name": "#%%\n"
    }
   }
  },
  {
   "cell_type": "code",
   "execution_count": 9,
   "outputs": [
    {
     "name": "stdout",
     "output_type": "stream",
     "text": [
      "shape: (7, 7, 2)\n",
      "[[1. 0. 0. 0. 0. 0. 0.]\n",
      " [1. 0. 0. 0. 1. 1. 1.]\n",
      " [0. 0. 0. 1. 0. 1. 0.]\n",
      " [0. 1. 0. 1. 0. 0. 0.]\n",
      " [0. 0. 0. 1. 0. 1. 0.]\n",
      " [0. 0. 1. 1. 1. 0. 1.]\n",
      " [0. 1. 0. 0. 0. 0. 0.]]\n"
     ]
    }
   ],
   "source": [
    "gt.print_channels(sample, True)"
   ],
   "metadata": {
    "collapsed": false,
    "pycharm": {
     "name": "#%%\n"
    }
   }
  },
  {
   "cell_type": "markdown",
   "source": [
    "---"
   ],
   "metadata": {
    "collapsed": false,
    "pycharm": {
     "name": "#%% md\n"
    }
   }
  },
  {
   "cell_type": "markdown",
   "source": [
    "## The Detection Map"
   ],
   "metadata": {
    "collapsed": false,
    "pycharm": {
     "name": "#%% md\n"
    }
   }
  },
  {
   "cell_type": "code",
   "execution_count": 10,
   "outputs": [
    {
     "name": "stderr",
     "output_type": "stream",
     "text": [
      "2022-08-04 14:59:25.216163: I tensorflow/core/platform/cpu_feature_guard.cc:193] This TensorFlow binary is optimized with oneAPI Deep Neural Network Library (oneDNN) to use the following CPU instructions in performance-critical operations:  AVX2 FMA\n",
      "To enable them in other operations, rebuild TensorFlow with the appropriate compiler flags.\n"
     ]
    }
   ],
   "source": [
    "from notebooks.ml_basics_recap.models.heuristic_detector import HeuristicDetector\n",
    "detector = HeuristicDetector(input_size)"
   ],
   "metadata": {
    "collapsed": false,
    "pycharm": {
     "name": "#%%\n"
    }
   }
  },
  {
   "cell_type": "markdown",
   "source": [
    "## Notice the additional dimension for the batch size come and go"
   ],
   "metadata": {
    "collapsed": false,
    "pycharm": {
     "name": "#%% md\n"
    }
   }
  },
  {
   "cell_type": "code",
   "execution_count": 11,
   "outputs": [
    {
     "data": {
      "text/plain": "<tf.Tensor: shape=(1, 7, 7), dtype=float32, numpy=\narray([[[0., 0., 0., 0., 0., 0., 0.],\n        [0., 0., 0., 0., 0., 1., 0.],\n        [0., 0., 0., 0., 0., 0., 0.],\n        [0., 0., 0., 1., 0., 0., 0.],\n        [0., 0., 0., 1., 0., 0., 0.],\n        [0., 0., 1., 1., 0., 0., 0.],\n        [0., 0., 0., 0., 0., 0., 0.]]], dtype=float32)>"
     },
     "execution_count": 11,
     "metadata": {},
     "output_type": "execute_result"
    }
   ],
   "source": [
    "tf.floor(detector(np.expand_dims(sample, 0))+.01)"
   ],
   "metadata": {
    "collapsed": false,
    "pycharm": {
     "name": "#%%\n"
    }
   }
  },
  {
   "cell_type": "code",
   "execution_count": 12,
   "outputs": [
    {
     "data": {
      "text/plain": "(7, 7)"
     },
     "execution_count": 12,
     "metadata": {},
     "output_type": "execute_result"
    }
   ],
   "source": [
    "np.squeeze(detector(np.expand_dims(sample, 0))).shape"
   ],
   "metadata": {
    "collapsed": false,
    "pycharm": {
     "name": "#%%\n"
    }
   }
  },
  {
   "cell_type": "markdown",
   "source": [
    "---"
   ],
   "metadata": {
    "collapsed": false,
    "pycharm": {
     "name": "#%% md\n"
    }
   }
  },
  {
   "cell_type": "markdown",
   "source": [
    "## Batches From a Dataset\n",
    "#### Strong Advice: Meticulously observe the shape of all incoming data!"
   ],
   "metadata": {
    "collapsed": false,
    "pycharm": {
     "name": "#%% md\n"
    }
   }
  },
  {
   "cell_type": "code",
   "execution_count": 13,
   "outputs": [],
   "source": [
    "BATCH_SIZE=4"
   ],
   "metadata": {
    "collapsed": false,
    "pycharm": {
     "name": "#%%\n"
    }
   }
  },
  {
   "cell_type": "code",
   "execution_count": 14,
   "outputs": [],
   "source": [
    "from notebooks.ml_basics_recap.data import new_sample, new_dataset\n",
    "dataset = new_dataset(100, lambda: new_sample(input_size, 20, 0), detector).batch(BATCH_SIZE)"
   ],
   "metadata": {
    "collapsed": false,
    "pycharm": {
     "name": "#%%\n"
    }
   }
  },
  {
   "cell_type": "code",
   "execution_count": 15,
   "outputs": [
    {
     "name": "stdout",
     "output_type": "stream",
     "text": [
      "Inputs' shape: (4, 7, 7, 2), Labels' shape: (4, 7, 7)\n"
     ]
    }
   ],
   "source": [
    "iterator  = iter(dataset)\n",
    "states, labels = iterator.next()\n",
    "print (f\"Inputs' shape: {states.shape}, Labels' shape: {labels.shape}\")"
   ],
   "metadata": {
    "collapsed": false,
    "pycharm": {
     "name": "#%%\n"
    }
   }
  },
  {
   "cell_type": "markdown",
   "source": [
    "---"
   ],
   "metadata": {
    "collapsed": false,
    "pycharm": {
     "name": "#%% md\n"
    }
   }
  },
  {
   "cell_type": "markdown",
   "source": [
    "## The Trainable Model"
   ],
   "metadata": {
    "collapsed": false,
    "pycharm": {
     "name": "#%% md\n"
    }
   }
  },
  {
   "cell_type": "code",
   "execution_count": 16,
   "outputs": [
    {
     "name": "stdout",
     "output_type": "stream",
     "text": [
      "(4, 7, 7, 1)\n",
      "(4, 7, 7)\n"
     ]
    }
   ],
   "source": [
    "from notebooks.ml_basics_recap.models import SimpleConvQFunction\n",
    "\n",
    "model_q = SimpleConvQFunction(input_size, n_filters=8, n_layers=4)\n",
    "print(model_q(states).shape)\n",
    "print(np.squeeze(model_q(np.expand_dims(states, 0))).shape)"
   ],
   "metadata": {
    "collapsed": false,
    "pycharm": {
     "name": "#%%\n"
    }
   }
  },
  {
   "cell_type": "markdown",
   "source": [
    "---"
   ],
   "metadata": {
    "collapsed": false,
    "pycharm": {
     "name": "#%% md\n"
    }
   }
  },
  {
   "cell_type": "markdown",
   "source": [
    "## Training"
   ],
   "metadata": {
    "collapsed": false,
    "pycharm": {
     "name": "#%% md\n"
    }
   }
  },
  {
   "cell_type": "code",
   "execution_count": 17,
   "outputs": [],
   "source": [
    "TRAIN_SIZE = 1024 * 8\n",
    "TEST_SIZE = 1024\n",
    "BATCH_SIZE = 256"
   ],
   "metadata": {
    "collapsed": false,
    "pycharm": {
     "name": "#%%\n"
    }
   }
  },
  {
   "cell_type": "markdown",
   "source": [
    "### Create a dataset from the heuristics"
   ],
   "metadata": {
    "collapsed": false,
    "pycharm": {
     "name": "#%% md\n"
    }
   }
  },
  {
   "cell_type": "code",
   "execution_count": 18,
   "outputs": [],
   "source": [
    "train_dataset = new_dataset(size=TRAIN_SIZE,\n",
    "                            sampler=lambda: new_sample(board_size=input_size, num_blacks=20, num_whites=0),\n",
    "                            labeler=detector, separate=False).batch(BATCH_SIZE)\n",
    "\n",
    "test_dataset = new_dataset(size=TEST_SIZE,\n",
    "                           sampler=lambda: new_sample(board_size=input_size, num_blacks=20, num_whites=0),\n",
    "                           labeler=detector, separate=False).batch(BATCH_SIZE)"
   ],
   "metadata": {
    "collapsed": false,
    "pycharm": {
     "name": "#%%\n"
    }
   }
  },
  {
   "cell_type": "code",
   "execution_count": 19,
   "outputs": [],
   "source": [
    "import tensorflow as tf"
   ],
   "metadata": {
    "collapsed": false,
    "pycharm": {
     "name": "#%%\n"
    }
   }
  },
  {
   "cell_type": "code",
   "execution_count": 20,
   "outputs": [],
   "source": [
    "loss_object = tf.keras.losses.MeanSquaredError()\n",
    "optimizer = tf.keras.optimizers.Adam()"
   ],
   "metadata": {
    "collapsed": false,
    "pycharm": {
     "name": "#%%\n"
    }
   }
  },
  {
   "cell_type": "code",
   "execution_count": 21,
   "outputs": [],
   "source": [
    "train_loss = tf.keras.metrics.Mean('train_loss', dtype=tf.float32)\n",
    "train_accuracy = tf.keras.metrics.MeanSquaredError('train_accuracy')\n",
    "test_loss = tf.keras.metrics.Mean('test_loss', dtype=tf.float32)\n",
    "test_accuracy = tf.keras.metrics.MeanSquaredError('test_accuracy')"
   ],
   "metadata": {
    "collapsed": false,
    "pycharm": {
     "name": "#%%\n"
    }
   }
  },
  {
   "cell_type": "code",
   "execution_count": 22,
   "outputs": [],
   "source": [
    "def train_step(model, optimizer, x_train, y_train):\n",
    "    with tf.GradientTape() as tape:\n",
    "        predictions = model(x_train, training=True)\n",
    "        loss = loss_object(y_train, predictions)\n",
    "    grads = tape.gradient(loss, model.trainable_variables)\n",
    "    optimizer.apply_gradients(zip(grads, model.trainable_variables))\n",
    "\n",
    "    train_loss(loss)\n",
    "    train_accuracy(y_train, predictions)\n",
    "\n",
    "def test_step(model, x_test, y_test):\n",
    "    predictions = model(x_test)\n",
    "    loss = loss_object(y_test, predictions)\n",
    "\n",
    "    test_loss(loss)\n",
    "    test_accuracy(y_test, predictions)"
   ],
   "metadata": {
    "collapsed": false,
    "pycharm": {
     "name": "#%%\n"
    }
   }
  },
  {
   "cell_type": "code",
   "execution_count": 23,
   "outputs": [],
   "source": [
    "import datetime as dt\n",
    "current_time = dt.datetime.now().strftime(\"%Y%m%d-%H%M%S\")\n",
    "train_log_dir = 'logs/gradient_tape/' + current_time + '/train'\n",
    "test_log_dir = 'logs/gradient_tape/' + current_time + '/test'\n",
    "train_summary_writer = tf.summary.create_file_writer(train_log_dir)\n",
    "test_summary_writer = tf.summary.create_file_writer(test_log_dir)"
   ],
   "metadata": {
    "collapsed": false,
    "pycharm": {
     "name": "#%%\n"
    }
   }
  },
  {
   "cell_type": "code",
   "execution_count": 24,
   "outputs": [],
   "source": [
    "iterator  = iter(train_dataset)\n",
    "x_train, y_train = iterator.next()"
   ],
   "metadata": {
    "collapsed": false,
    "pycharm": {
     "name": "#%%\n"
    }
   }
  },
  {
   "cell_type": "code",
   "execution_count": 25,
   "outputs": [
    {
     "name": "stdout",
     "output_type": "stream",
     "text": [
      "Model: \"simple_conv_q_function_1\"\n",
      "_________________________________________________________________\n",
      " Layer (type)                Output Shape              Param #   \n",
      "=================================================================\n",
      " conv2d_5 (Conv2D)           multiple                  152       \n",
      "                                                                 \n",
      " conv2d_6 (Conv2D)           multiple                  584       \n",
      "                                                                 \n",
      " conv2d_7 (Conv2D)           multiple                  584       \n",
      "                                                                 \n",
      " conv2d_8 (Conv2D)           multiple                  584       \n",
      "                                                                 \n",
      " conv2d_9 (Conv2D)           multiple                  73        \n",
      "                                                                 \n",
      "=================================================================\n",
      "Total params: 1,977\n",
      "Trainable params: 1,977\n",
      "Non-trainable params: 0\n",
      "_________________________________________________________________\n"
     ]
    }
   ],
   "source": [
    "flatten = tf.keras.layers.Flatten()\n",
    "model = SimpleConvQFunction(input_size, n_filters=8, n_layers=4)\n",
    "labels = model(x_train, training=True)\n",
    "loss = loss_object(y_train, labels)\n",
    "model.summary()"
   ],
   "metadata": {
    "collapsed": false,
    "pycharm": {
     "name": "#%%\n"
    }
   }
  },
  {
   "cell_type": "code",
   "execution_count": 26,
   "outputs": [
    {
     "name": "stdout",
     "output_type": "stream",
     "text": [
      "Epoch 1, Loss: 0.07095175236463547, Accuracy: 7.0951738357543945, Test Loss: 0.06868217885494232, Test Accuracy: 6.868217945098877\n",
      "Epoch 2, Loss: 0.06382053345441818, Accuracy: 6.382052421569824, Test Loss: 0.06011682376265526, Test Accuracy: 6.011682510375977\n",
      "Epoch 3, Loss: 0.05244046077132225, Accuracy: 5.244045734405518, Test Loss: 0.047671493142843246, Test Accuracy: 4.767148971557617\n",
      "Epoch 4, Loss: 0.04434274137020111, Accuracy: 4.434273719787598, Test Loss: 0.04266763851046562, Test Accuracy: 4.2667646408081055\n",
      "Epoch 5, Loss: 0.03900414705276489, Accuracy: 3.900414228439331, Test Loss: 0.036366693675518036, Test Accuracy: 3.636669397354126\n",
      "Epoch 6, Loss: 0.03286769613623619, Accuracy: 3.2867696285247803, Test Loss: 0.030366241931915283, Test Accuracy: 3.0366241931915283\n",
      "Epoch 7, Loss: 0.02716732583940029, Accuracy: 2.7167320251464844, Test Loss: 0.02474280074238777, Test Accuracy: 2.4742798805236816\n",
      "Epoch 8, Loss: 0.021295733749866486, Accuracy: 2.1295740604400635, Test Loss: 0.0187112744897604, Test Accuracy: 1.8711272478103638\n",
      "Epoch 9, Loss: 0.01551252231001854, Accuracy: 1.5512524843215942, Test Loss: 0.013159923255443573, Test Accuracy: 1.3159923553466797\n",
      "Epoch 10, Loss: 0.010474673472344875, Accuracy: 1.047467589378357, Test Loss: 0.008683301508426666, Test Accuracy: 0.8683300614356995\n",
      "Epoch 11, Loss: 0.006973929703235626, Accuracy: 0.6973929405212402, Test Loss: 0.005804549437016249, Test Accuracy: 0.58045494556427\n",
      "Epoch 12, Loss: 0.004721195437014103, Accuracy: 0.47211959958076477, Test Loss: 0.003982070833444595, Test Accuracy: 0.39820706844329834\n",
      "Epoch 13, Loss: 0.003305076388642192, Accuracy: 0.3305076062679291, Test Loss: 0.0028634394984692335, Test Accuracy: 0.28634393215179443\n",
      "Epoch 14, Loss: 0.00242103380151093, Accuracy: 0.24210338294506073, Test Loss: 0.0021601389162242413, Test Accuracy: 0.2160138636827469\n",
      "Epoch 15, Loss: 0.0018566761864349246, Accuracy: 0.18566761910915375, Test Loss: 0.00169685622677207, Test Accuracy: 0.16968564689159393\n",
      "Epoch 16, Loss: 0.0014775758609175682, Accuracy: 0.14775758981704712, Test Loss: 0.0013690514024347067, Test Accuracy: 0.13690513372421265\n",
      "Epoch 17, Loss: 0.0012039269786328077, Accuracy: 0.12039269506931305, Test Loss: 0.0011292306007817388, Test Accuracy: 0.11292306333780289\n",
      "Epoch 18, Loss: 0.0009998694295063615, Accuracy: 0.0999869555234909, Test Loss: 0.0009492724202573299, Test Accuracy: 0.09492723643779755\n",
      "Epoch 19, Loss: 0.0008442074758931994, Accuracy: 0.08442072570323944, Test Loss: 0.000810859608463943, Test Accuracy: 0.08108596503734589\n",
      "Epoch 20, Loss: 0.0007180762477219105, Accuracy: 0.0718076229095459, Test Loss: 0.0006913946708664298, Test Accuracy: 0.06913947314023972\n",
      "Epoch 21, Loss: 0.0006125090294517577, Accuracy: 0.06125090271234512, Test Loss: 0.0005902051343582571, Test Accuracy: 0.0590205118060112\n",
      "Epoch 22, Loss: 0.000529873592313379, Accuracy: 0.05298735946416855, Test Loss: 0.0005155229009687901, Test Accuracy: 0.051552288234233856\n",
      "Epoch 23, Loss: 0.00046647514682263136, Accuracy: 0.046647511422634125, Test Loss: 0.0004565772833302617, Test Accuracy: 0.04565773159265518\n",
      "Epoch 24, Loss: 0.00041519899968989193, Accuracy: 0.0415198989212513, Test Loss: 0.00040794306551106274, Test Accuracy: 0.04079430550336838\n",
      "Epoch 25, Loss: 0.00037216709461063147, Accuracy: 0.037216708064079285, Test Loss: 0.0003668957215268165, Test Accuracy: 0.03668957203626633\n",
      "Epoch 26, Loss: 0.0003351051709614694, Accuracy: 0.03351052105426788, Test Loss: 0.00033258594339713454, Test Accuracy: 0.0332585945725441\n",
      "Epoch 27, Loss: 0.00030267631518654525, Accuracy: 0.030267631635069847, Test Loss: 0.0003038855502381921, Test Accuracy: 0.03038855828344822\n",
      "Epoch 28, Loss: 0.000274168502073735, Accuracy: 0.027416853234171867, Test Loss: 0.0002782416995614767, Test Accuracy: 0.027824167162179947\n",
      "Epoch 29, Loss: 0.0002496422384865582, Accuracy: 0.02496422454714775, Test Loss: 0.00025394820841029286, Test Accuracy: 0.025394821539521217\n",
      "Epoch 30, Loss: 0.0002284511865582317, Accuracy: 0.02284512110054493, Test Loss: 0.00023354068980552256, Test Accuracy: 0.023354068398475647\n",
      "Epoch 31, Loss: 0.00020977784879505634, Accuracy: 0.02097778208553791, Test Loss: 0.00021455599926412106, Test Accuracy: 0.02145560085773468\n",
      "Epoch 32, Loss: 0.0001933480380102992, Accuracy: 0.019334806129336357, Test Loss: 0.00019777932902798057, Test Accuracy: 0.01977793127298355\n",
      "Epoch 33, Loss: 0.00017885991837829351, Accuracy: 0.01788599044084549, Test Loss: 0.0001833110291045159, Test Accuracy: 0.018331103026866913\n",
      "Epoch 34, Loss: 0.0001659845293033868, Accuracy: 0.016598453745245934, Test Loss: 0.00017018654034473002, Test Accuracy: 0.017018653452396393\n",
      "Epoch 35, Loss: 0.00015448889462277293, Accuracy: 0.015448890626430511, Test Loss: 0.00015822963905520737, Test Accuracy: 0.015822961926460266\n",
      "Epoch 36, Loss: 0.00014418325736187398, Accuracy: 0.014418325386941433, Test Loss: 0.00014744800864718854, Test Accuracy: 0.014744802378118038\n",
      "Epoch 37, Loss: 0.00013466214295476675, Accuracy: 0.013466215692460537, Test Loss: 0.00013728818157687783, Test Accuracy: 0.013728819787502289\n",
      "Epoch 38, Loss: 0.00012601919297594577, Accuracy: 0.01260191760957241, Test Loss: 0.00012852124928031117, Test Accuracy: 0.012852124869823456\n",
      "Epoch 39, Loss: 0.00011806865222752094, Accuracy: 0.011806863360106945, Test Loss: 0.00012046796473441646, Test Accuracy: 0.012046795338392258\n",
      "Epoch 40, Loss: 0.00011093034845544025, Accuracy: 0.011093034408986568, Test Loss: 0.0001133893383666873, Test Accuracy: 0.011338934302330017\n"
     ]
    }
   ],
   "source": [
    "EPOCHS = 40\n",
    "\n",
    "for epoch in range(EPOCHS):\n",
    "    for x_train, y_train in train_dataset:\n",
    "        train_step(model, optimizer, x_train, y_train)\n",
    "    with train_summary_writer.as_default():\n",
    "        tf.summary.scalar('loss', train_loss.result(), step=epoch)\n",
    "        tf.summary.scalar('accuracy', train_accuracy.result(), step=epoch)\n",
    "\n",
    "    for x_test, y_test in test_dataset:\n",
    "        test_step(model, x_test, y_test)\n",
    "    with train_summary_writer.as_default():\n",
    "        tf.summary.scalar('loss', test_loss.result(), step=epoch)\n",
    "        tf.summary.scalar('accuracy', test_accuracy.result(), step=epoch)\n",
    "\n",
    "\n",
    "    template = 'Epoch {}, Loss: {}, Accuracy: {}, Test Loss: {}, Test Accuracy: {}'\n",
    "    print (template.format(epoch+1,\n",
    "                           train_loss.result(),\n",
    "                           train_accuracy.result()*100,\n",
    "                           test_loss.result(),\n",
    "                           test_accuracy.result()*100))\n",
    "\n",
    "    train_loss.reset_states()\n",
    "    test_loss.reset_states()\n",
    "    train_accuracy.reset_states()\n",
    "    test_accuracy.reset_states()"
   ],
   "metadata": {
    "collapsed": false,
    "pycharm": {
     "name": "#%%\n"
    }
   }
  },
  {
   "cell_type": "code",
   "execution_count": 27,
   "outputs": [],
   "source": [
    "BATCH_SIZE=1"
   ],
   "metadata": {
    "collapsed": false,
    "pycharm": {
     "name": "#%%\n"
    }
   }
  },
  {
   "cell_type": "code",
   "execution_count": 28,
   "outputs": [],
   "source": [
    "dataset = new_dataset(10, lambda: new_sample(input_size, 20, 0), detector).batch(BATCH_SIZE)\n",
    "iterator  = iter(dataset)"
   ],
   "metadata": {
    "collapsed": false,
    "pycharm": {
     "name": "#%%\n"
    }
   }
  },
  {
   "cell_type": "markdown",
   "source": [
    "### Labels vs Learned"
   ],
   "metadata": {
    "collapsed": false,
    "pycharm": {
     "name": "#%% md\n"
    }
   }
  },
  {
   "cell_type": "code",
   "execution_count": 29,
   "outputs": [
    {
     "name": "stdout",
     "output_type": "stream",
     "text": [
      "Deprecated. Use print_channels instead.\n",
      "tf.Tensor(\n",
      "[[[0. 0. 0. 0. 0. 0. 0.]\n",
      "  [0. 0. 0. 0. 0. 0. 0.]\n",
      "  [0. 0. 0. 0. 0. 0. 0.]\n",
      "  [0. 0. 0. 0. 0. 0. 0.]\n",
      "  [0. 1. 0. 0. 0. 0. 0.]\n",
      "  [0. 0. 0. 0. 0. 0. 0.]\n",
      "  [0. 0. 0. 0. 0. 0. 0.]]], shape=(1, 7, 7), dtype=float32)\n",
      "[[-0.   -0.   -0.   -0.   -0.   -0.    0.  ]\n",
      " [ 0.   -0.   -0.   -0.   -0.   -0.   -0.  ]\n",
      " [ 0.    0.   -0.   -0.   -0.   -0.   -0.  ]\n",
      " [ 0.   -0.    0.    0.   -0.   -0.   -0.  ]\n",
      " [ 0.01  0.99 -0.   -0.   -0.   -0.   -0.  ]\n",
      " [ 0.01 -0.   -0.01  0.   -0.   -0.   -0.  ]\n",
      " [ 0.    0.   -0.01 -0.   -0.   -0.   -0.  ]]\n"
     ]
    }
   ],
   "source": [
    "states, labels = iterator.next()\n",
    "pred = np.squeeze(model(states))\n",
    "\n",
    "gt.print_bin(states, combine=True)\n",
    "print(tf.floor(labels+.01))\n",
    "print(np.round(pred, 2))"
   ],
   "metadata": {
    "collapsed": false,
    "pycharm": {
     "name": "#%%\n"
    }
   }
  },
  {
   "cell_type": "code",
   "execution_count": 30,
   "outputs": [
    {
     "data": {
      "text/plain": "'logs/gradient_tape/20220804-145952/train'"
     },
     "execution_count": 30,
     "metadata": {},
     "output_type": "execute_result"
    }
   ],
   "source": [
    "train_log_dir"
   ],
   "metadata": {
    "collapsed": false,
    "pycharm": {
     "name": "#%%\n"
    }
   }
  },
  {
   "cell_type": "code",
   "execution_count": 32,
   "outputs": [
    {
     "data": {
      "text/plain": "Launching TensorBoard..."
     },
     "metadata": {},
     "output_type": "display_data"
    }
   ],
   "source": [
    "%tensorboard --logdir logs/gradient_tape/train_log_dir"
   ],
   "metadata": {
    "collapsed": false,
    "pycharm": {
     "name": "#%%\n"
    }
   }
  },
  {
   "cell_type": "code",
   "execution_count": null,
   "outputs": [],
   "source": [],
   "metadata": {
    "collapsed": false,
    "pycharm": {
     "name": "#%%\n"
    }
   }
  }
 ],
 "metadata": {
  "kernelspec": {
   "display_name": "Python 3",
   "language": "python",
   "name": "python3"
  },
  "language_info": {
   "codemirror_mode": {
    "name": "ipython",
    "version": 2
   },
   "file_extension": ".py",
   "mimetype": "text/x-python",
   "name": "python",
   "nbconvert_exporter": "python",
   "pygments_lexer": "ipython2",
   "version": "2.7.6"
  }
 },
 "nbformat": 4,
 "nbformat_minor": 0
}