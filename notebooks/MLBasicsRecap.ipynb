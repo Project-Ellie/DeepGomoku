{
 "cells": [
  {
   "cell_type": "markdown",
   "source": [],
   "metadata": {
    "collapsed": false,
    "pycharm": {
     "name": "#%% md\n"
    }
   }
  },
  {
   "cell_type": "markdown",
   "source": [
    "# Recap: Training a Conv Model\n",
    "### Detecting Lines of Three on a Board of 7x7"
   ],
   "metadata": {
    "collapsed": false,
    "pycharm": {
     "name": "#%% md\n"
    }
   }
  },
  {
   "cell_type": "code",
   "execution_count": 1,
   "outputs": [],
   "source": [
    "%load_ext autoreload\n",
    "%autoreload 2"
   ],
   "metadata": {
    "collapsed": false,
    "pycharm": {
     "name": "#%%\n"
    }
   }
  },
  {
   "cell_type": "code",
   "execution_count": 2,
   "outputs": [],
   "source": [
    "import numpy as np\n",
    "import tensorflow as tf\n",
    "\n",
    "from domoku.tools import GomokuTools as Gt"
   ],
   "metadata": {
    "collapsed": false,
    "pycharm": {
     "name": "#%%\n"
    }
   }
  },
  {
   "cell_type": "code",
   "execution_count": 3,
   "outputs": [],
   "source": [
    "input_size=7"
   ],
   "metadata": {
    "collapsed": false,
    "pycharm": {
     "name": "#%%\n"
    }
   }
  },
  {
   "cell_type": "markdown",
   "source": [
    "---"
   ],
   "metadata": {
    "collapsed": false,
    "pycharm": {
     "name": "#%% md\n"
    }
   }
  },
  {
   "cell_type": "markdown",
   "source": [
    "## Sampling Random Boards"
   ],
   "metadata": {
    "collapsed": false,
    "pycharm": {
     "name": "#%% md\n"
    }
   }
  },
  {
   "cell_type": "code",
   "execution_count": 4,
   "outputs": [
    {
     "data": {
      "text/plain": "(1, 7, 7, 2)"
     },
     "execution_count": 4,
     "metadata": {},
     "output_type": "execute_result"
    }
   ],
   "source": [
    "from notebooks.ml_basics_recap.data import new_sample\n",
    "sample = new_sample(board_size=input_size, num_blacks=20, num_whites=0)\n",
    "sample.shape"
   ],
   "metadata": {
    "collapsed": false,
    "pycharm": {
     "name": "#%%\n"
    }
   }
  },
  {
   "cell_type": "code",
   "execution_count": 5,
   "outputs": [
    {
     "name": "stdout",
     "output_type": "stream",
     "text": [
      "shape: (7, 7, 2)\n",
      "[[0. 0. 0. 0. 0. 0. 0.]\n",
      " [0. 0. 0. 0. 1. 0. 1.]\n",
      " [0. 0. 0. 0. 0. 1. 1.]\n",
      " [1. 1. 1. 1. 0. 0. 0.]\n",
      " [0. 0. 0. 1. 0. 1. 0.]\n",
      " [0. 1. 0. 1. 1. 0. 0.]\n",
      " [1. 0. 0. 1. 1. 0. 1.]]\n"
     ]
    }
   ],
   "source": [
    "Gt.print_bin(sample, True)"
   ],
   "metadata": {
    "collapsed": false,
    "pycharm": {
     "name": "#%%\n"
    }
   }
  },
  {
   "cell_type": "markdown",
   "source": [
    "---"
   ],
   "metadata": {
    "collapsed": false,
    "pycharm": {
     "name": "#%% md\n"
    }
   }
  },
  {
   "cell_type": "markdown",
   "source": [
    "## The Detection Map"
   ],
   "metadata": {
    "collapsed": false,
    "pycharm": {
     "name": "#%% md\n"
    }
   }
  },
  {
   "cell_type": "code",
   "execution_count": 6,
   "outputs": [
    {
     "name": "stderr",
     "output_type": "stream",
     "text": [
      "2022-05-26 20:57:06.041101: I tensorflow/core/platform/cpu_feature_guard.cc:151] This TensorFlow binary is optimized with oneAPI Deep Neural Network Library (oneDNN) to use the following CPU instructions in performance-critical operations:  AVX2 FMA\n",
      "To enable them in other operations, rebuild TensorFlow with the appropriate compiler flags.\n"
     ]
    }
   ],
   "source": [
    "from notebooks.ml_basics_recap.models.heuristic_detector import HeuristicDetector\n",
    "detector = HeuristicDetector(input_size)"
   ],
   "metadata": {
    "collapsed": false,
    "pycharm": {
     "name": "#%%\n"
    }
   }
  },
  {
   "cell_type": "code",
   "execution_count": 7,
   "outputs": [
    {
     "data": {
      "text/plain": "<tf.Tensor: shape=(1, 7, 7), dtype=float32, numpy=\narray([[[0., 0., 0., 0., 0., 0., 0.],\n        [0., 0., 0., 0., 0., 0., 0.],\n        [0., 0., 0., 0., 0., 0., 0.],\n        [0., 1., 1., 0., 0., 0., 0.],\n        [0., 0., 0., 1., 0., 0., 0.],\n        [0., 0., 0., 1., 1., 0., 0.],\n        [0., 0., 0., 0., 0., 0., 0.]]], dtype=float32)>"
     },
     "execution_count": 7,
     "metadata": {},
     "output_type": "execute_result"
    }
   ],
   "source": [
    "tf.floor(detector(sample)+.01)"
   ],
   "metadata": {
    "collapsed": false,
    "pycharm": {
     "name": "#%%\n"
    }
   }
  },
  {
   "cell_type": "markdown",
   "source": [
    "---"
   ],
   "metadata": {
    "collapsed": false,
    "pycharm": {
     "name": "#%% md\n"
    }
   }
  },
  {
   "cell_type": "markdown",
   "source": [
    "## Batches From a Dataset"
   ],
   "metadata": {
    "collapsed": false,
    "pycharm": {
     "name": "#%% md\n"
    }
   }
  },
  {
   "cell_type": "code",
   "execution_count": 8,
   "outputs": [],
   "source": [
    "BATCH_SIZE=2"
   ],
   "metadata": {
    "collapsed": false,
    "pycharm": {
     "name": "#%%\n"
    }
   }
  },
  {
   "cell_type": "code",
   "execution_count": 9,
   "outputs": [],
   "source": [
    "from notebooks.ml_basics_recap.data import new_sample, new_dataset\n",
    "dataset = new_dataset(100, lambda: new_sample(input_size, 20, 0), detector).batch(BATCH_SIZE)"
   ],
   "metadata": {
    "collapsed": false,
    "pycharm": {
     "name": "#%%\n"
    }
   }
  },
  {
   "cell_type": "code",
   "execution_count": 10,
   "outputs": [
    {
     "data": {
      "text/plain": "TensorShape([2, 1, 7, 7])"
     },
     "execution_count": 10,
     "metadata": {},
     "output_type": "execute_result"
    }
   ],
   "source": [
    "iterator  = iter(dataset)\n",
    "states, labels = iterator.next()\n",
    "labels.shape"
   ],
   "metadata": {
    "collapsed": false,
    "pycharm": {
     "name": "#%%\n"
    }
   }
  },
  {
   "cell_type": "code",
   "execution_count": 11,
   "outputs": [
    {
     "data": {
      "text/plain": "TensorShape([2, 1, 7, 7, 2])"
     },
     "execution_count": 11,
     "metadata": {},
     "output_type": "execute_result"
    }
   ],
   "source": [
    "states.shape"
   ],
   "metadata": {
    "collapsed": false,
    "pycharm": {
     "name": "#%%\n"
    }
   }
  },
  {
   "cell_type": "markdown",
   "source": [
    "---"
   ],
   "metadata": {
    "collapsed": false,
    "pycharm": {
     "name": "#%% md\n"
    }
   }
  },
  {
   "cell_type": "markdown",
   "source": [
    "## The Trainable Model"
   ],
   "metadata": {
    "collapsed": false,
    "pycharm": {
     "name": "#%% md\n"
    }
   }
  },
  {
   "cell_type": "code",
   "execution_count": 12,
   "outputs": [],
   "source": [
    "from notebooks.ml_basics_recap.models import SimpleConvQFunction\n",
    "\n",
    "model_q = SimpleConvQFunction(input_size, n_filters=8, n_layers=4)"
   ],
   "metadata": {
    "collapsed": false,
    "pycharm": {
     "name": "#%%\n"
    }
   }
  },
  {
   "cell_type": "code",
   "execution_count": 13,
   "outputs": [
    {
     "name": "stdout",
     "output_type": "stream",
     "text": [
      "(2, 1, 7, 7)\n"
     ]
    },
    {
     "data": {
      "text/plain": "TensorShape([2, 1, 7, 7])"
     },
     "execution_count": 13,
     "metadata": {},
     "output_type": "execute_result"
    }
   ],
   "source": [
    "print(model_q(states).shape)\n",
    "model_q(states).shape"
   ],
   "metadata": {
    "collapsed": false,
    "pycharm": {
     "name": "#%%\n"
    }
   }
  },
  {
   "cell_type": "markdown",
   "source": [
    "---"
   ],
   "metadata": {
    "collapsed": false,
    "pycharm": {
     "name": "#%% md\n"
    }
   }
  },
  {
   "cell_type": "markdown",
   "source": [
    "## Training"
   ],
   "metadata": {
    "collapsed": false,
    "pycharm": {
     "name": "#%% md\n"
    }
   }
  },
  {
   "cell_type": "code",
   "execution_count": 31,
   "outputs": [],
   "source": [
    "TRAIN_SIZE = 1024 * 8\n",
    "TEST_SIZE = 1024\n",
    "BATCH_SIZE = 1024"
   ],
   "metadata": {
    "collapsed": false,
    "pycharm": {
     "name": "#%%\n"
    }
   }
  },
  {
   "cell_type": "markdown",
   "source": [
    "### Create a dataset from the heuristics"
   ],
   "metadata": {
    "collapsed": false,
    "pycharm": {
     "name": "#%% md\n"
    }
   }
  },
  {
   "cell_type": "code",
   "execution_count": 32,
   "outputs": [],
   "source": [
    "train_dataset = new_dataset(size=TRAIN_SIZE,\n",
    "                            sampler=lambda: new_sample(board_size=input_size, num_blacks=20, num_whites=0),\n",
    "                            labeler=detector\n",
    "                            ).batch(BATCH_SIZE)\n",
    "test_dataset = new_dataset(size=TEST_SIZE,\n",
    "                           sampler=lambda: new_sample(board_size=input_size, num_blacks=20, num_whites=0),\n",
    "                           labeler=detector\n",
    "                           ).batch(BATCH_SIZE)"
   ],
   "metadata": {
    "collapsed": false,
    "pycharm": {
     "name": "#%%\n"
    }
   }
  },
  {
   "cell_type": "code",
   "execution_count": 37,
   "outputs": [
    {
     "name": "stdout",
     "output_type": "stream",
     "text": [
      "Epoch 1, Loss: 0.030457723885774612, Accuracy: 0.17452141642570496,     Test Loss: 0.02067066915333271, Test Accuracy: 0.14377297461032867\n",
      "Epoch 2, Loss: 0.008607793599367142, Accuracy: 0.09277819097042084,     Test Loss: 0.007714968174695969, Test Accuracy: 0.0878349021077156\n",
      "Epoch 3, Loss: 0.005864743143320084, Accuracy: 0.07658161967992783,     Test Loss: 0.002198312897235155, Test Accuracy: 0.04688616469502449\n",
      "Epoch 4, Loss: 0.002155597321689129, Accuracy: 0.04642840847373009,     Test Loss: 0.0019296678947284818, Test Accuracy: 0.043927986174821854\n",
      "Epoch 5, Loss: 0.001383040682412684, Accuracy: 0.03718925639986992,     Test Loss: 0.0009438393753953278, Test Accuracy: 0.030721968039870262\n",
      "Epoch 6, Loss: 0.000784075993578881, Accuracy: 0.02800135873258114,     Test Loss: 0.0006398530676960945, Test Accuracy: 0.02529531717300415\n",
      "Epoch 7, Loss: 0.00047482206718996167, Accuracy: 0.021790411323308945,     Test Loss: 0.00037889863597229123, Test Accuracy: 0.019465317949652672\n",
      "Epoch 8, Loss: 0.0003024039033334702, Accuracy: 0.01738976314663887,     Test Loss: 0.00026375186280347407, Test Accuracy: 0.0162404365837574\n",
      "Epoch 9, Loss: 0.00020661232701968402, Accuracy: 0.014374014921486378,     Test Loss: 0.00020068157755304128, Test Accuracy: 0.014166209846735\n",
      "Epoch 10, Loss: 0.00015112619439605623, Accuracy: 0.01229333970695734,     Test Loss: 0.0001511125883553177, Test Accuracy: 0.012292785570025444\n",
      "Epoch 11, Loss: 0.00011423622345319018, Accuracy: 0.010688134469091892,     Test Loss: 0.0001212732313433662, Test Accuracy: 0.01101241260766983\n",
      "Epoch 12, Loss: 8.921641710912809e-05, Accuracy: 0.00944544468075037,     Test Loss: 0.00010220178955933079, Test Accuracy: 0.010109488852322102\n",
      "Epoch 13, Loss: 7.228286995086819e-05, Accuracy: 0.00850193202495575,     Test Loss: 8.36565304780379e-05, Test Accuracy: 0.00914639513939619\n",
      "Epoch 14, Loss: 6.037086859578267e-05, Accuracy: 0.007769869640469551,     Test Loss: 7.200233812909573e-05, Test Accuracy: 0.008485418744385242\n",
      "Epoch 15, Loss: 5.084016447653994e-05, Accuracy: 0.007130228914320469,     Test Loss: 6.362405838444829e-05, Test Accuracy: 0.007976469583809376\n",
      "Epoch 16, Loss: 4.340409941505641e-05, Accuracy: 0.006588179152458906,     Test Loss: 5.662505645886995e-05, Test Accuracy: 0.00752496300265193\n",
      "Epoch 17, Loss: 3.7483714550035074e-05, Accuracy: 0.006122393999248743,     Test Loss: 5.097292523714714e-05, Test Accuracy: 0.007139530964195728\n",
      "Epoch 18, Loss: 3.271883906563744e-05, Accuracy: 0.005720038898289204,     Test Loss: 4.6993787691462785e-05, Test Accuracy: 0.006855201907455921\n",
      "Epoch 19, Loss: 2.8822121748817153e-05, Accuracy: 0.00536862388253212,     Test Loss: 4.3360447307350114e-05, Test Accuracy: 0.006584864109754562\n",
      "Epoch 20, Loss: 2.558509549999144e-05, Accuracy: 0.0050581712275743484,     Test Loss: 4.10846623708494e-05, Test Accuracy: 0.0064097316935658455\n"
     ]
    }
   ],
   "source": [
    "from notebooks.ml_basics_recap.training import Trainer\n",
    "\n",
    "trainer = Trainer(model_q, train_data=train_dataset, test_data=test_dataset)\n",
    "trainer.train(20)"
   ],
   "metadata": {
    "collapsed": false,
    "pycharm": {
     "name": "#%%\n"
    }
   }
  },
  {
   "cell_type": "markdown",
   "source": [
    "---"
   ],
   "metadata": {
    "collapsed": false,
    "pycharm": {
     "name": "#%% md\n"
    }
   }
  },
  {
   "cell_type": "markdown",
   "source": [
    "## Manual Inspection"
   ],
   "metadata": {
    "collapsed": false,
    "pycharm": {
     "name": "#%% md\n"
    }
   }
  },
  {
   "cell_type": "code",
   "execution_count": 38,
   "outputs": [],
   "source": [
    "BATCH_SIZE=1"
   ],
   "metadata": {
    "collapsed": false,
    "pycharm": {
     "name": "#%%\n"
    }
   }
  },
  {
   "cell_type": "code",
   "execution_count": 39,
   "outputs": [],
   "source": [
    "dataset = new_dataset(10, lambda: new_sample(input_size, 20, 0), detector).batch(BATCH_SIZE)\n",
    "iterator  = iter(dataset)"
   ],
   "metadata": {
    "collapsed": false,
    "pycharm": {
     "name": "#%%\n"
    }
   }
  },
  {
   "cell_type": "markdown",
   "source": [
    "### Labels vs Learned"
   ],
   "metadata": {
    "collapsed": false,
    "pycharm": {
     "name": "#%% md\n"
    }
   }
  },
  {
   "cell_type": "code",
   "execution_count": 42,
   "outputs": [
    {
     "name": "stdout",
     "output_type": "stream",
     "text": [
      "tf.Tensor(\n",
      "[[[[0. 0. 0. 0. 0. 0. 0.]\n",
      "   [0. 0. 0. 1. 0. 0. 0.]\n",
      "   [0. 0. 0. 0. 0. 0. 0.]\n",
      "   [0. 1. 0. 0. 0. 0. 0.]\n",
      "   [0. 0. 0. 0. 0. 0. 0.]\n",
      "   [0. 0. 0. 0. 0. 0. 0.]\n",
      "   [0. 0. 0. 0. 0. 0. 0.]]]], shape=(1, 1, 7, 7), dtype=float32)\n",
      "[[[[ 0.   -0.   -0.   -0.    0.    0.    0.  ]\n",
      "   [-0.   -0.   -0.    1.   -0.    0.    0.  ]\n",
      "   [-0.   -0.    0.    0.    0.    0.    0.  ]\n",
      "   [-0.02  1.   -0.    0.   -0.    0.    0.  ]\n",
      "   [-0.01 -0.01 -0.    0.    0.    0.    0.  ]\n",
      "   [-0.02 -0.01 -0.    0.    0.    0.    0.  ]\n",
      "   [ 0.    0.    0.    0.    0.    0.    0.  ]]]]\n"
     ]
    }
   ],
   "source": [
    "states, labels = iterator.next()\n",
    "pred = model_q(states)\n",
    "\n",
    "print(tf.floor(labels+.01))\n",
    "print(np.round(pred, 2))"
   ],
   "metadata": {
    "collapsed": false,
    "pycharm": {
     "name": "#%%\n"
    }
   }
  },
  {
   "cell_type": "code",
   "execution_count": null,
   "outputs": [],
   "source": [],
   "metadata": {
    "collapsed": false,
    "pycharm": {
     "name": "#%%\n"
    }
   }
  }
 ],
 "metadata": {
  "kernelspec": {
   "display_name": "Python 3",
   "language": "python",
   "name": "python3"
  },
  "language_info": {
   "codemirror_mode": {
    "name": "ipython",
    "version": 2
   },
   "file_extension": ".py",
   "mimetype": "text/x-python",
   "name": "python",
   "nbconvert_exporter": "python",
   "pygments_lexer": "ipython2",
   "version": "2.7.6"
  }
 },
 "nbformat": 4,
 "nbformat_minor": 0
}