{
 "cells": [
  {
   "cell_type": "code",
   "execution_count": 1,
   "outputs": [],
   "source": [
    "from aegomoku.gomoku_board import GomokuBoard\n"
   ],
   "metadata": {
    "collapsed": false,
    "pycharm": {
     "name": "#%%\n"
    }
   }
  },
  {
   "cell_type": "code",
   "execution_count": 3,
   "outputs": [],
   "source": [
    "board = GomokuBoard(board_size=15)"
   ],
   "metadata": {
    "collapsed": false,
    "pycharm": {
     "name": "#%%\n"
    }
   }
  },
  {
   "cell_type": "code",
   "execution_count": 9,
   "outputs": [],
   "source": [
    "Move = board.Stone"
   ],
   "metadata": {
    "collapsed": false,
    "pycharm": {
     "name": "#%%\n"
    }
   }
  },
  {
   "cell_type": "code",
   "execution_count": 10,
   "outputs": [
    {
     "name": "stdout",
     "output_type": "stream",
     "text": [
      "                                                     \n",
      "15    .  .  .  .  .  .  .  .  .  .  .  .  .  .  .    \n",
      "14    .  .  .  .  .  .  .  .  .  .  .  .  .  .  .    \n",
      "13    .  .  .  .  .  .  .  .  .  .  .  .  .  .  .    \n",
      "12    .  .  .  .  .  .  .  .  .  .  .  .  .  .  .    \n",
      "11    .  .  .  .  .  .  .  .  .  .  .  .  .  .  .    \n",
      "10    .  .  .  .  .  .  .  .  .  .  .  .  .  .  .    \n",
      " 9    .  .  .  .  .  .  .  .  .  .  .  .  .  .  .    \n",
      " 8    .  .  .  .  .  .  .  .  .  .  .  .  .  .  .    \n",
      " 7    .  .  .  .  .  .  .  .  .  .  .  .  .  .  .    \n",
      " 6    .  .  .  .  .  .  .  .  .  .  .  .  .  .  .    \n",
      " 5    .  .  .  .  .  .  .  .  .  .  .  .  .  .  .    \n",
      " 4    .  .  .  .  .  .  .  .  .  .  .  .  .  .  .    \n",
      " 3    .  .  .  .  .  .  .  .  .  .  .  .  .  .  .    \n",
      " 2    .  .  .  .  .  .  .  .  .  .  .  .  .  .  .    \n",
      " 1    .  .  .  .  .  .  .  .  .  .  .  .  .  .  .    \n",
      "                                                     \n",
      "      A  B  C  D  E  F  G  H  I  J  K  L  M  N  O\n"
     ]
    }
   ],
   "source": [
    "board.plot()"
   ],
   "metadata": {
    "collapsed": false,
    "pycharm": {
     "name": "#%%\n"
    }
   }
  },
  {
   "cell_type": "code",
   "execution_count": 11,
   "outputs": [
    {
     "data": {
      "text/plain": "I8"
     },
     "execution_count": 11,
     "metadata": {},
     "output_type": "execute_result"
    }
   ],
   "source": [
    "Move(7,8)"
   ],
   "metadata": {
    "collapsed": false,
    "pycharm": {
     "name": "#%%\n"
    }
   }
  },
  {
   "cell_type": "code",
   "execution_count": 12,
   "outputs": [
    {
     "data": {
      "text/plain": "I8 (White next)"
     },
     "execution_count": 12,
     "metadata": {},
     "output_type": "execute_result"
    }
   ],
   "source": [
    "board.act(Move(7,8))"
   ],
   "metadata": {
    "collapsed": false,
    "pycharm": {
     "name": "#%%\n"
    }
   }
  },
  {
   "cell_type": "code",
   "execution_count": 13,
   "outputs": [
    {
     "name": "stdout",
     "output_type": "stream",
     "text": [
      "                                                     \n",
      "15    .  .  .  .  .  .  .  .  .  .  .  .  .  .  .    \n",
      "14    .  .  .  .  .  .  .  .  .  .  .  .  .  .  .    \n",
      "13    .  .  .  .  .  .  .  .  .  .  .  .  .  .  .    \n",
      "12    .  .  .  .  .  .  .  .  .  .  .  .  .  .  .    \n",
      "11    .  .  .  .  .  .  .  .  .  .  .  .  .  .  .    \n",
      "10    .  .  .  .  .  .  .  .  .  .  .  .  .  .  .    \n",
      " 9    .  .  .  .  .  .  .  .  .  .  .  .  .  .  .    \n",
      " 8    .  .  .  .  .  .  .  . [X] .  .  .  .  .  .    \n",
      " 7    .  .  .  .  .  .  .  .  .  .  .  .  .  .  .    \n",
      " 6    .  .  .  .  .  .  .  .  .  .  .  .  .  .  .    \n",
      " 5    .  .  .  .  .  .  .  .  .  .  .  .  .  .  .    \n",
      " 4    .  .  .  .  .  .  .  .  .  .  .  .  .  .  .    \n",
      " 3    .  .  .  .  .  .  .  .  .  .  .  .  .  .  .    \n",
      " 2    .  .  .  .  .  .  .  .  .  .  .  .  .  .  .    \n",
      " 1    .  .  .  .  .  .  .  .  .  .  .  .  .  .  .    \n",
      "                                                     \n",
      "      A  B  C  D  E  F  G  H  I  J  K  L  M  N  O\n"
     ]
    }
   ],
   "source": [
    "board.plot()"
   ],
   "metadata": {
    "collapsed": false,
    "pycharm": {
     "name": "#%%\n"
    }
   }
  },
  {
   "cell_type": "code",
   "execution_count": 1,
   "outputs": [
    {
     "name": "stdout",
     "output_type": "stream",
     "text": [
      "pygame 2.1.2 (SDL 2.0.18, Python 3.10.1)\n",
      "Hello from the pygame community. https://www.pygame.org/contribute.html\n"
     ]
    },
    {
     "name": "stderr",
     "output_type": "stream",
     "text": [
      "2022-08-25 21:24:47.074669: I tensorflow/core/platform/cpu_feature_guard.cc:193] This TensorFlow binary is optimized with oneAPI Deep Neural Network Library (oneDNN) to use the following CPU instructions in performance-critical operations:  AVX2 FMA\n",
      "To enable them in other operations, rebuild TensorFlow with the appropriate compiler flags.\n",
      "/Users/wgiersche/.local/share/virtualenvs/DeepGomoku-cXtJ_EtM/lib/python3.10/site-packages/numpy/core/fromnumeric.py:2009: VisibleDeprecationWarning: Creating an ndarray from ragged nested sequences (which is a list-or-tuple of lists-or-tuples-or ndarrays with different lengths or shapes) is deprecated. If you meant to do this, you must specify 'dtype=object' when creating the ndarray.\n",
      "  result = asarray(a).shape\n"
     ]
    },
    {
     "ename": "ValueError",
     "evalue": "probabilities do not sum to 1",
     "output_type": "error",
     "traceback": [
      "\u001B[0;31m---------------------------------------------------------------------------\u001B[0m",
      "\u001B[0;31mValueError\u001B[0m                                Traceback (most recent call last)",
      "Input \u001B[0;32mIn [1]\u001B[0m, in \u001B[0;36m<cell line: 6>\u001B[0;34m()\u001B[0m\n\u001B[1;32m      2\u001B[0m \u001B[38;5;28;01mfrom\u001B[39;00m \u001B[38;5;21;01mcmclient\u001B[39;00m\u001B[38;5;21;01m.\u001B[39;00m\u001B[38;5;21;01mapi\u001B[39;00m\u001B[38;5;21;01m.\u001B[39;00m\u001B[38;5;21;01mstudy\u001B[39;00m \u001B[38;5;28;01mimport\u001B[39;00m StudyHandler\n\u001B[1;32m      4\u001B[0m config \u001B[38;5;241m=\u001B[39m CompManConfig(board_size\u001B[38;5;241m=\u001B[39m\u001B[38;5;241m15\u001B[39m)\n\u001B[0;32m----> 6\u001B[0m \u001B[43mStudyHandler\u001B[49m\u001B[43m(\u001B[49m\u001B[43mconfig\u001B[49m\u001B[43m)\u001B[49m\u001B[38;5;241;43m.\u001B[39;49m\u001B[43mhandle\u001B[49m\u001B[43m(\u001B[49m\u001B[43m)\u001B[49m\n",
      "File \u001B[0;32m~/workspace/Project-Ellie/DeepGomoku/cmclient/api/study.py:18\u001B[0m, in \u001B[0;36mStudyHandler.handle\u001B[0;34m(self)\u001B[0m\n\u001B[1;32m     17\u001B[0m \u001B[38;5;28;01mdef\u001B[39;00m \u001B[38;5;21mhandle\u001B[39m(\u001B[38;5;28mself\u001B[39m):\n\u001B[0;32m---> 18\u001B[0m     \u001B[38;5;28;43mself\u001B[39;49m\u001B[38;5;241;43m.\u001B[39;49m\u001B[43mstudy\u001B[49m\u001B[43m(\u001B[49m\u001B[43m)\u001B[49m\n",
      "File \u001B[0;32m~/workspace/Project-Ellie/DeepGomoku/cmclient/api/study.py:21\u001B[0m, in \u001B[0;36mStudyHandler.study\u001B[0;34m(self)\u001B[0m\n\u001B[1;32m     20\u001B[0m \u001B[38;5;28;01mdef\u001B[39;00m \u001B[38;5;21mstudy\u001B[39m(\u001B[38;5;28mself\u001B[39m):\n\u001B[0;32m---> 21\u001B[0m     \u001B[43mboard\u001B[49m\u001B[38;5;241;43m.\u001B[39;49m\u001B[43mshow\u001B[49m\u001B[43m(\u001B[49m\u001B[43mregistered\u001B[49m\u001B[38;5;241;43m=\u001B[39;49m\u001B[38;5;124;43m\"\u001B[39;49m\u001B[38;5;124;43mSelf-Play Study\u001B[39;49m\u001B[38;5;124;43m\"\u001B[39;49m\u001B[43m,\u001B[49m\u001B[43m \u001B[49m\u001B[43moppenent\u001B[49m\u001B[38;5;241;43m=\u001B[39;49m\u001B[38;5;124;43m\"\u001B[39;49m\u001B[38;5;124;43m\"\u001B[39;49m\u001B[43m,\u001B[49m\n\u001B[1;32m     22\u001B[0m \u001B[43m               \u001B[49m\u001B[43mmove_listener\u001B[49m\u001B[38;5;241;43m=\u001B[39;49m\u001B[38;5;28;43;01mlambda\u001B[39;49;00m\u001B[43m \u001B[49m\u001B[43mmove\u001B[49m\u001B[43m:\u001B[49m\u001B[43m \u001B[49m\u001B[38;5;28;43mself\u001B[39;49m\u001B[38;5;241;43m.\u001B[39;49m\u001B[43mmove\u001B[49m\u001B[43m(\u001B[49m\u001B[43mmove\u001B[49m\u001B[43m)\u001B[49m\u001B[43m,\u001B[49m\n\u001B[1;32m     23\u001B[0m \u001B[43m               \u001B[49m\u001B[43mpolling_listener\u001B[49m\u001B[38;5;241;43m=\u001B[39;49m\u001B[38;5;28;43;01mNone\u001B[39;49;00m\u001B[43m,\u001B[49m\n\u001B[1;32m     24\u001B[0m \u001B[43m               \u001B[49m\u001B[43mboard_size\u001B[49m\u001B[38;5;241;43m=\u001B[39;49m\u001B[38;5;28;43mself\u001B[39;49m\u001B[38;5;241;43m.\u001B[39;49m\u001B[43mconfig\u001B[49m\u001B[38;5;241;43m.\u001B[39;49m\u001B[43mboard_size\u001B[49m\u001B[43m)\u001B[49m\n",
      "File \u001B[0;32m~/workspace/Project-Ellie/DeepGomoku/cmclient/gui/board.py:42\u001B[0m, in \u001B[0;36mshow\u001B[0;34m(registered, oppenent, board_size, move_listener, polling_listener)\u001B[0m\n\u001B[1;32m     39\u001B[0m pygame\u001B[38;5;241m.\u001B[39mdisplay\u001B[38;5;241m.\u001B[39mset_caption(\u001B[38;5;124mf\u001B[39m\u001B[38;5;124m\"\u001B[39m\u001B[38;5;132;01m{\u001B[39;00mregistered\u001B[38;5;132;01m}\u001B[39;00m\u001B[38;5;124m vs \u001B[39m\u001B[38;5;132;01m{\u001B[39;00moppenent\u001B[38;5;132;01m}\u001B[39;00m\u001B[38;5;124m\"\u001B[39m)\n\u001B[1;32m     40\u001B[0m pygame\u001B[38;5;241m.\u001B[39mdisplay\u001B[38;5;241m.\u001B[39mupdate()\n\u001B[0;32m---> 42\u001B[0m \u001B[43mloop\u001B[49m\u001B[43m(\u001B[49m\u001B[43mmove_listener\u001B[49m\u001B[43m,\u001B[49m\u001B[43m \u001B[49m\u001B[43mpolling_listener\u001B[49m\u001B[43m,\u001B[49m\u001B[43m \u001B[49m\u001B[43mscreen\u001B[49m\u001B[43m,\u001B[49m\u001B[43m \u001B[49m\u001B[43mboard_size\u001B[49m\u001B[43m,\u001B[49m\u001B[43m \u001B[49m\u001B[43mcurrent_color\u001B[49m\u001B[43m)\u001B[49m\n\u001B[1;32m     44\u001B[0m \u001B[38;5;28;01mreturn\u001B[39;00m \u001B[38;5;124m\"\u001B[39m\u001B[38;5;124mDone.\u001B[39m\u001B[38;5;124m\"\u001B[39m\n",
      "File \u001B[0;32m~/workspace/Project-Ellie/DeepGomoku/cmclient/gui/board.py:152\u001B[0m, in \u001B[0;36mloop\u001B[0;34m(move_listener, polling_listener, screen, board_size, current_color)\u001B[0m\n\u001B[1;32m    149\u001B[0m seqno \u001B[38;5;241m+\u001B[39m\u001B[38;5;241m=\u001B[39m \u001B[38;5;241m1\u001B[39m\n\u001B[1;32m    151\u001B[0m \u001B[38;5;66;03m# Now is the AI's turn\u001B[39;00m\n\u001B[0;32m--> 152\u001B[0m board, _ \u001B[38;5;241m=\u001B[39m \u001B[43mai\u001B[49m\u001B[38;5;241;43m.\u001B[39;49m\u001B[43mmove\u001B[49m\u001B[43m(\u001B[49m\u001B[43mboard\u001B[49m\u001B[43m)\u001B[49m\n\u001B[1;32m    153\u001B[0m current_stones \u001B[38;5;241m=\u001B[39m board\u001B[38;5;241m.\u001B[39mget_stones()\n\u001B[1;32m    154\u001B[0m redraw(screen, board_size, current_stones)\n",
      "File \u001B[0;32m~/workspace/Project-Ellie/DeepGomoku/aegomoku/gomoku_players.py:46\u001B[0m, in \u001B[0;36mPolicyAdvisedGraphSearchPlayer.move\u001B[0;34m(self, board, temperature)\u001B[0m\n\u001B[1;32m     43\u001B[0m temperature \u001B[38;5;241m=\u001B[39m temperature \u001B[38;5;28;01mif\u001B[39;00m temperature \u001B[38;5;129;01mis\u001B[39;00m \u001B[38;5;129;01mnot\u001B[39;00m \u001B[38;5;28;01mNone\u001B[39;00m \u001B[38;5;28;01melse\u001B[39;00m \u001B[38;5;28mself\u001B[39m\u001B[38;5;241m.\u001B[39mmcts\u001B[38;5;241m.\u001B[39mparams\u001B[38;5;241m.\u001B[39mtemperature\n\u001B[1;32m     45\u001B[0m probs \u001B[38;5;241m=\u001B[39m \u001B[38;5;28mself\u001B[39m\u001B[38;5;241m.\u001B[39mmcts\u001B[38;5;241m.\u001B[39mget_action_prob(board, temperature\u001B[38;5;241m=\u001B[39mtemperature)\n\u001B[0;32m---> 46\u001B[0m move \u001B[38;5;241m=\u001B[39m board\u001B[38;5;241m.\u001B[39mstone(\u001B[43mnp\u001B[49m\u001B[38;5;241;43m.\u001B[39;49m\u001B[43mrandom\u001B[49m\u001B[38;5;241;43m.\u001B[39;49m\u001B[43mchoice\u001B[49m\u001B[43m(\u001B[49m\u001B[38;5;28;43mlist\u001B[39;49m\u001B[43m(\u001B[49m\u001B[38;5;28;43mrange\u001B[39;49m\u001B[43m(\u001B[49m\u001B[43mboard\u001B[49m\u001B[38;5;241;43m.\u001B[39;49m\u001B[43mboard_size\u001B[49m\u001B[38;5;241;43m*\u001B[39;49m\u001B[38;5;241;43m*\u001B[39;49m\u001B[38;5;241;43m2\u001B[39;49m\u001B[43m)\u001B[49m\u001B[43m)\u001B[49m\u001B[43m,\u001B[49m\u001B[43m \u001B[49m\u001B[43mp\u001B[49m\u001B[38;5;241;43m=\u001B[39;49m\u001B[43mprobs\u001B[49m\u001B[43m)\u001B[49m)\n\u001B[1;32m     47\u001B[0m board\u001B[38;5;241m.\u001B[39mact(move)\n\u001B[1;32m     48\u001B[0m \u001B[38;5;28;01mreturn\u001B[39;00m board, move\n",
      "File \u001B[0;32mmtrand.pyx:939\u001B[0m, in \u001B[0;36mnumpy.random.mtrand.RandomState.choice\u001B[0;34m()\u001B[0m\n",
      "\u001B[0;31mValueError\u001B[0m: probabilities do not sum to 1"
     ]
    }
   ],
   "source": [
    "from cmclient.api.basics import CompManConfig\n",
    "from cmclient.api.study import StudyHandler\n",
    "\n",
    "config = CompManConfig(board_size=15)\n",
    "\n",
    "StudyHandler(config).handle()"
   ],
   "metadata": {
    "collapsed": false,
    "pycharm": {
     "name": "#%%\n"
    }
   }
  },
  {
   "cell_type": "code",
   "execution_count": null,
   "outputs": [],
   "source": [],
   "metadata": {
    "collapsed": false,
    "pycharm": {
     "name": "#%%\n"
    }
   }
  }
 ],
 "metadata": {
  "kernelspec": {
   "display_name": "Python 3",
   "language": "python",
   "name": "python3"
  },
  "language_info": {
   "codemirror_mode": {
    "name": "ipython",
    "version": 2
   },
   "file_extension": ".py",
   "mimetype": "text/x-python",
   "name": "python",
   "nbconvert_exporter": "python",
   "pygments_lexer": "ipython2",
   "version": "2.7.6"
  }
 },
 "nbformat": 4,
 "nbformat_minor": 0
}