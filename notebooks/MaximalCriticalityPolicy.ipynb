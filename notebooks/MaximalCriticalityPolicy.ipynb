{
 "cells": [
  {
   "cell_type": "markdown",
   "source": [
    "# A Fail-Safe Maximum Criticality Policy"
   ],
   "metadata": {
    "collapsed": false,
    "pycharm": {
     "name": "#%% md\n"
    }
   }
  },
  {
   "cell_type": "code",
   "execution_count": 1,
   "outputs": [],
   "source": [
    "from typing import List\n",
    "import numpy as np\n",
    "\n",
    "from domoku.tools import GomokuTools as gt\n",
    "from domoku.data import create_binary_rep\n",
    "from domoku.board import GomokuBoard\n",
    "\n",
    "import tensorflow as tf"
   ],
   "metadata": {
    "collapsed": false,
    "pycharm": {
     "name": "#%%\n"
    }
   }
  },
  {
   "cell_type": "code",
   "execution_count": 2,
   "outputs": [],
   "source": [
    "def print_bin(binary_sample):\n",
    "    print(f'shape: {binary_sample.shape}')\n",
    "    print(np.rollaxis(binary_sample, 2, 0)[0] + 2 * np.rollaxis(binary_sample, 2, 0)[1])"
   ],
   "metadata": {
    "collapsed": false,
    "pycharm": {
     "name": "#%%\n"
    }
   }
  },
  {
   "cell_type": "markdown",
   "source": [
    "## Constant filters\n",
    "\n",
    "We provide a factory class that creates initializers for various convolutional filters to be used in policies. Note that this is different from detectors that identify the mere existence.\n",
    "\n",
    "Our filters identify the field that exploits the pattern."
   ],
   "metadata": {
    "collapsed": false,
    "pycharm": {
     "name": "#%% md\n"
    }
   }
  },
  {
   "cell_type": "code",
   "execution_count": 3,
   "outputs": [],
   "source": [
    "class Gomoku9x9FilterFactory:\n",
    "\n",
    "    def __init__(self):\n",
    "        pass\n",
    "\n",
    "\n",
    "    def get_sure_win_filters(self):\n",
    "        return self.get_terminal_filters(channel=0)\n",
    "\n",
    "    def get_must_defend_filters(self):\n",
    "        return self.get_terminal_filters(channel=1)\n",
    "\n",
    "    def get_terminal_filters(self, channel: int):\n",
    "        \"\"\"\n",
    "        produces 9x9x2xN filter package for detection of the given channel\n",
    "            ready for Tensorflow CNN initializers\n",
    "        :param channel:\n",
    "        :return:\n",
    "        \"\"\"\n",
    "        filters = self._get_terminal_channel_filters()\n",
    "        empty = np.zeros([9, 9], dtype=float)\n",
    "        empty[4, 4] = -1  # penalty for a any occupied position\n",
    "        zeros = np.stack([empty]*20)\n",
    "\n",
    "        if channel == 0:\n",
    "            return self._stack_and_roll(filters, zeros)\n",
    "        elif channel == 1:\n",
    "            return self._stack_and_roll(zeros, filters)\n",
    "        else:\n",
    "            raise ValueError('channel must be 0 or 1.')\n",
    "\n",
    "\n",
    "    @staticmethod\n",
    "    def _create_9x9_filter_set(line_pattern: List):\n",
    "        \"\"\"\n",
    "        Creates 4 filters  for that pattern in any of the 4 general directions.\n",
    "        :param line_pattern: a 1x9 pattern that shall be detected in four directions\n",
    "        :return: a 9x9 constant initializer for a convnet to detect that pattern\n",
    "        \"\"\"\n",
    "        empty = np.zeros([9, 9], dtype=float)\n",
    "        horiz = empty.copy()\n",
    "        horiz[4, :] = line_pattern\n",
    "        vert = empty.copy()\n",
    "        vert[:, 4] = line_pattern\n",
    "\n",
    "        filters = np.array([\n",
    "            vert,\n",
    "            np.diag(line_pattern),\n",
    "            horiz,\n",
    "            np.diag(line_pattern)[::-1],\n",
    "        ])\n",
    "\n",
    "        return filters\n",
    "\n",
    "\n",
    "    @staticmethod\n",
    "    def _terminal_patterns():\n",
    "        \"\"\"\n",
    "        :return: all line patterns that immediately terminate a game in the central position\n",
    "        \"\"\"\n",
    "        return [\n",
    "            [1, 1, 1, 1, -1, 0, 0, 0, 0],\n",
    "            [0, 1, 1, 1, -1, 1, 0, 0, 0],\n",
    "            [0, 0, 1, 1, -1, 1, 1, 0, 0],\n",
    "            [0, 0, 0, 1, -1, 1, 1, 1, 0],\n",
    "            [0, 0, 0, 0, -1, 1, 1, 1, 1],\n",
    "        ]\n",
    "\n",
    "\n",
    "    def _get_terminal_channel_filters(self):\n",
    "        \"\"\"\n",
    "        All 20 different filters for a terminal thread on one channel\n",
    "        :return:\n",
    "        \"\"\"\n",
    "        channel_filters = np.array([\n",
    "            self._create_9x9_filter_set(pattern)\n",
    "            for pattern in self._terminal_patterns()\n",
    "        ])\n",
    "        combined = channel_filters.shape[0] * channel_filters.shape[1]\n",
    "        channel_filters = channel_filters.reshape(combined, 9, 9)\n",
    "        return channel_filters\n",
    "\n",
    "\n",
    "    @staticmethod\n",
    "    def _stack_and_roll(channel1, channel2):\n",
    "        \"\"\"\n",
    "        rolls (2, N, 9, 9) -> (9, 9, 2, N)\n",
    "        :param channel1: any 9x9xN list of filters for the first channel\n",
    "        :param channel2: any 9x9xN list of filters for the second channel\n",
    "        :return: filters, ready for tensorflow\n",
    "        \"\"\"\n",
    "        res = np.stack([channel1, channel2])\n",
    "        res = np.rollaxis(res, 0, 4)\n",
    "        res = np.rollaxis(res, 0, 4)\n",
    "        return res"
   ],
   "metadata": {
    "collapsed": false,
    "pycharm": {
     "name": "#%%\n"
    }
   }
  },
  {
   "cell_type": "code",
   "execution_count": 4,
   "outputs": [],
   "source": [
    "factory = Gomoku9x9FilterFactory()\n",
    "sure_win = factory.get_sure_win_filters()\n",
    "must_def = factory.get_must_defend_filters()"
   ],
   "metadata": {
    "collapsed": false,
    "pycharm": {
     "name": "#%%\n"
    }
   }
  },
  {
   "cell_type": "markdown",
   "source": [
    "---\n",
    "\n",
    "### Smoke Test\n",
    "#### Sure win = the pattern allows the current player to win with the next move.\n",
    "All non-zero filter params are on the first channel\n",
    "All zero filter params are on the second channel (observe the occupation penalty!)"
   ],
   "metadata": {
    "collapsed": false,
    "pycharm": {
     "name": "#%% md\n"
    }
   }
  },
  {
   "cell_type": "code",
   "execution_count": 5,
   "outputs": [
    {
     "name": "stdout",
     "output_type": "stream",
     "text": [
      "(9, 9, 2, 20)\n",
      "1st: 60.0\n",
      "2nd: -20.0\n"
     ]
    }
   ],
   "source": [
    "print(sure_win.shape)\n",
    "print(f\"1st: {np.sum(sure_win[:,:,0,:])}\")\n",
    "print(f\"2nd: {np.sum(sure_win[:,:,1,:])}\")"
   ],
   "metadata": {
    "collapsed": false,
    "pycharm": {
     "name": "#%%\n"
    }
   }
  },
  {
   "cell_type": "markdown",
   "source": [
    "# Now see it working!"
   ],
   "metadata": {
    "collapsed": false,
    "pycharm": {
     "name": "#%% md\n"
    }
   }
  },
  {
   "cell_type": "code",
   "execution_count": 6,
   "outputs": [],
   "source": [
    "class MaxCritPolicy(tf.keras.Model):\n",
    "    \"\"\"\n",
    "    A policy that doesn't miss any sure-win or must-defend\n",
    "    \"\"\"\n",
    "    def __init__(self, input_size, **kwargs):\n",
    "        self.input_size = input_size\n",
    "        super().__init__(**kwargs)\n",
    "\n",
    "        filter_factory = Gomoku9x9FilterFactory()\n",
    "\n",
    "        sure_win = filter_factory.get_sure_win_filters()\n",
    "        must_def = filter_factory.get_must_defend_filters()\n",
    "\n",
    "        self.sure_win_detector = tf.keras.layers.Conv2D(\n",
    "            filters=20, kernel_size=(9, 9),\n",
    "            kernel_initializer=tf.constant_initializer(sure_win),\n",
    "            bias_initializer=tf.constant_initializer(-3),\n",
    "            activation=tf.nn.relu,\n",
    "            padding='same',\n",
    "            input_shape=(input_size, input_size, 2))\n",
    "\n",
    "        self.must_def_detector = tf.keras.layers.Conv2D(\n",
    "            filters=20, kernel_size=(9, 9),\n",
    "            kernel_initializer=tf.constant_initializer(must_def),\n",
    "            bias_initializer=tf.constant_initializer(-3),\n",
    "            activation=tf.nn.relu,\n",
    "            padding='same',\n",
    "            input_shape=(input_size, input_size, 2))\n",
    "\n",
    "        self.combine = tf.keras.layers.Conv2D(\n",
    "            filters=1, kernel_size=(1, 1),\n",
    "            kernel_initializer=tf.constant_initializer(np.ones(20)),\n",
    "            activation=tf.nn.relu)\n",
    "\n",
    "    def call(self, sample):\n",
    "        sample = np.reshape(sample, [-1, self.input_size, self.input_size, 2])\n",
    "        sure_win = tf.squeeze(\n",
    "            self.combine(self.sure_win_detector(sample)))\n",
    "        must_def = tf.squeeze(\n",
    "            self.combine(self.must_def_detector(sample)))\n",
    "        return 2 * sure_win + must_def"
   ],
   "metadata": {
    "collapsed": false,
    "pycharm": {
     "name": "#%%\n"
    }
   }
  },
  {
   "cell_type": "code",
   "execution_count": 7,
   "outputs": [
    {
     "data": {
      "text/plain": "<Figure size 288x288 with 1 Axes>",
      "image/png": "[encoded data removed]"
     },
     "metadata": {
      "needs_background": "light"
     },
     "output_type": "display_data"
    }
   ],
   "source": [
    "stones = gt.string_to_stones('b1c5d3e3e4f2c3d4')\n",
    "board = GomokuBoard(n=6, disp_width=4, stones=stones)\n",
    "board.display()"
   ],
   "metadata": {
    "collapsed": false,
    "pycharm": {
     "name": "#%%\n"
    }
   }
  },
  {
   "cell_type": "code",
   "execution_count": 8,
   "outputs": [
    {
     "name": "stdout",
     "output_type": "stream",
     "text": [
      "shape: (6, 6, 2)\n",
      "[[0. 0. 0. 0. 0. 0.]\n",
      " [0. 0. 2. 0. 0. 0.]\n",
      " [0. 0. 0. 2. 1. 0.]\n",
      " [0. 0. 1. 1. 2. 0.]\n",
      " [0. 0. 0. 0. 0. 2.]\n",
      " [0. 1. 0. 0. 0. 0.]]\n"
     ]
    }
   ],
   "source": [
    "#sample = create_binary_rep(board, padding=4, border=True)\n",
    "sample = create_binary_rep(board)\n",
    "print_bin(sample)"
   ],
   "metadata": {
    "collapsed": false,
    "pycharm": {
     "name": "#%%\n"
    }
   }
  },
  {
   "cell_type": "code",
   "execution_count": 9,
   "outputs": [
    {
     "name": "stderr",
     "output_type": "stream",
     "text": [
      "2022-05-08 22:17:56.783386: I tensorflow/core/platform/cpu_feature_guard.cc:151] This TensorFlow binary is optimized with oneAPI Deep Neural Network Library (oneDNN) to use the following CPU instructions in performance-critical operations:  AVX2 FMA\n",
      "To enable them in other operations, rebuild TensorFlow with the appropriate compiler flags.\n"
     ]
    }
   ],
   "source": [
    "policy = MaxCritPolicy(input_size=6)"
   ],
   "metadata": {
    "collapsed": false,
    "pycharm": {
     "name": "#%%\n"
    }
   }
  },
  {
   "cell_type": "code",
   "execution_count": 10,
   "outputs": [
    {
     "data": {
      "text/plain": "<tf.Tensor: shape=(6, 6), dtype=float32, numpy=\narray([[0., 1., 0., 0., 0., 0.],\n       [0., 0., 0., 0., 0., 0.],\n       [0., 0., 0., 0., 0., 0.],\n       [0., 0., 0., 0., 0., 0.],\n       [0., 0., 0., 0., 0., 0.],\n       [0., 0., 0., 0., 0., 0.]], dtype=float32)>"
     },
     "execution_count": 10,
     "metadata": {},
     "output_type": "execute_result"
    }
   ],
   "source": [
    "res = policy(sample)\n",
    "res"
   ],
   "metadata": {
    "collapsed": false,
    "pycharm": {
     "name": "#%%\n"
    }
   }
  },
  {
   "cell_type": "code",
   "execution_count": 11,
   "outputs": [
    {
     "data": {
      "text/plain": "<tf.Tensor: shape=(1,), dtype=int64, numpy=array([1])>"
     },
     "execution_count": 11,
     "metadata": {},
     "output_type": "execute_result"
    }
   ],
   "source": [
    "vec = tf.reshape(res, (1,-1))\n",
    "tf.argmax(vec, axis=1)"
   ],
   "metadata": {
    "collapsed": false,
    "pycharm": {
     "name": "#%%\n"
    }
   }
  },
  {
   "cell_type": "code",
   "execution_count": 12,
   "outputs": [
    {
     "data": {
      "text/plain": "<tf.Tensor: shape=(), dtype=float32, numpy=0.0>"
     },
     "execution_count": 12,
     "metadata": {},
     "output_type": "execute_result"
    }
   ],
   "source": [
    "res[4, 2]"
   ],
   "metadata": {
    "collapsed": false,
    "pycharm": {
     "name": "#%%\n"
    }
   }
  },
  {
   "cell_type": "code",
   "execution_count": 13,
   "outputs": [],
   "source": [
    "def suggest_greedy(sample):\n",
    "    res = policy(sample)\n",
    "    vec = tf.reshape(res, (1,-1))\n",
    "    pos = tf.squeeze(tf.argmax(vec, axis=1))\n",
    "    y = pos // 6\n",
    "    x = pos - y * 6\n",
    "    bx, by = gt.m2b((y, x), size=6)\n",
    "    return chr(64 + bx) + str(by)"
   ],
   "metadata": {
    "collapsed": false,
    "pycharm": {
     "name": "#%%\n"
    }
   }
  },
  {
   "cell_type": "code",
   "execution_count": 14,
   "outputs": [
    {
     "name": "stdout",
     "output_type": "stream",
     "text": [
      "B6\n"
     ]
    }
   ],
   "source": [
    "print(suggest_greedy(sample))"
   ],
   "metadata": {
    "collapsed": false,
    "pycharm": {
     "name": "#%%\n"
    }
   }
  },
  {
   "cell_type": "code",
   "execution_count": null,
   "outputs": [],
   "source": [],
   "metadata": {
    "collapsed": false,
    "pycharm": {
     "name": "#%%\n"
    }
   }
  }
 ],
 "metadata": {
  "kernelspec": {
   "display_name": "Python 3",
   "language": "python",
   "name": "python3"
  },
  "language_info": {
   "codemirror_mode": {
    "name": "ipython",
    "version": 2
   },
   "file_extension": ".py",
   "mimetype": "text/x-python",
   "name": "python",
   "nbconvert_exporter": "python",
   "pygments_lexer": "ipython2",
   "version": "2.7.6"
  }
 },
 "nbformat": 4,
 "nbformat_minor": 0
}