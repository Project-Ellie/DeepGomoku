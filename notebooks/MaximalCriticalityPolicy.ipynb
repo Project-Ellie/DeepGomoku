{
 "cells": [
  {
   "cell_type": "markdown",
   "source": [
    "# A Fail-Safe Maximum Criticality Policy"
   ],
   "metadata": {
    "collapsed": false,
    "pycharm": {
     "name": "#%% md\n"
    }
   }
  },
  {
   "cell_type": "code",
   "execution_count": 1,
   "outputs": [],
   "source": [
    "import numpy as np\n",
    "\n",
    "from domoku.tools import GomokuTools as gt\n",
    "from domoku.data import create_binary_rep\n",
    "from domoku.board import GomokuBoard\n",
    "from domoku.policies import maximal_criticality as mc\n",
    "\n",
    "import tensorflow as tf"
   ],
   "metadata": {
    "collapsed": false,
    "pycharm": {
     "name": "#%%\n"
    }
   }
  },
  {
   "cell_type": "code",
   "execution_count": 2,
   "outputs": [],
   "source": [
    "def print_bin(binary_sample):\n",
    "    print(f'shape: {binary_sample.shape}')\n",
    "    print(np.rollaxis(binary_sample, 2, 0)[0] + 2 * np.rollaxis(binary_sample, 2, 0)[1])"
   ],
   "metadata": {
    "collapsed": false,
    "pycharm": {
     "name": "#%%\n"
    }
   }
  },
  {
   "cell_type": "markdown",
   "source": [
    "## Constant filters\n",
    "\n",
    "We provide a factory class that creates initializers for various convolutional filters to be used in policies. Note that this is different from detectors that identify the mere existence.\n",
    "\n",
    "Our filters identify the field that exploits the pattern."
   ],
   "metadata": {
    "collapsed": false,
    "pycharm": {
     "name": "#%% md\n"
    }
   }
  },
  {
   "cell_type": "markdown",
   "source": [
    "---\n",
    "\n",
    "### Smoke Test\n",
    "#### Sure win = the pattern allows the current player to win with the next move.\n",
    "All non-zero filter params are on the first channel\n",
    "All zero filter params are on the second channel (observe the occupation penalty!)"
   ],
   "metadata": {
    "collapsed": false,
    "pycharm": {
     "name": "#%% md\n"
    }
   }
  },
  {
   "cell_type": "code",
   "execution_count": 3,
   "outputs": [],
   "source": [
    "input_size = 7"
   ],
   "metadata": {
    "collapsed": false,
    "pycharm": {
     "name": "#%%\n"
    }
   }
  },
  {
   "cell_type": "markdown",
   "source": [
    "The policy has 5 t1 and 4 t2 patterns, each of which comes in any of the two channels, i. e. we have a total of 9x2 patterns."
   ],
   "metadata": {
    "collapsed": false,
    "pycharm": {
     "name": "#%% md\n"
    }
   }
  },
  {
   "cell_type": "code",
   "execution_count": 4,
   "outputs": [
    {
     "name": "stderr",
     "output_type": "stream",
     "text": [
      "2022-05-14 19:39:26.264927: I tensorflow/core/platform/cpu_feature_guard.cc:151] This TensorFlow binary is optimized with oneAPI Deep Neural Network Library (oneDNN) to use the following CPU instructions in performance-critical operations:  AVX2 FMA\n",
      "To enable them in other operations, rebuild TensorFlow with the appropriate compiler flags.\n",
      "/Users/wgiersche/.local/share/virtualenvs/DeepGomoku-cXtJ_EtM/lib/python3.10/site-packages/numpy/core/fromnumeric.py:2007: VisibleDeprecationWarning: Creating an ndarray from ragged nested sequences (which is a list-or-tuple of lists-or-tuples-or ndarrays with different lengths or shapes) is deprecated. If you meant to do this, you must specify 'dtype=object' when creating the ndarray.\n",
      "  result = asarray(a).shape\n"
     ]
    },
    {
     "data": {
      "text/plain": "[[[ListWrapper([1, 1, 1, 1, -1, 0, 0, 0, 0]),\n   ListWrapper([0, 0, 0, 0, -1, 0, 0, 0, 0])],\n  -3,\n  99],\n [[ListWrapper([0, 1, 1, 1, -1, 1, 0, 0, 0]),\n   ListWrapper([0, 0, 0, 0, -1, 0, 0, 0, 0])],\n  -3,\n  99],\n [[ListWrapper([0, 0, 1, 1, -1, 1, 1, 0, 0]),\n   ListWrapper([0, 0, 0, 0, -1, 0, 0, 0, 0])],\n  -3,\n  99],\n [[ListWrapper([0, 0, 0, 1, -1, 1, 1, 1, 0]),\n   ListWrapper([0, 0, 0, 0, -1, 0, 0, 0, 0])],\n  -3,\n  99],\n [[ListWrapper([0, 0, 0, 0, -1, 1, 1, 1, 1]),\n   ListWrapper([0, 0, 0, 0, -1, 0, 0, 0, 0])],\n  -3,\n  99],\n [[ListWrapper([0, 0, 0, 0, -1, 0, 0, 0, 0]),\n   ListWrapper([1, 1, 1, 1, -1, 0, 0, 0, 0])],\n  -3,\n  50],\n [[ListWrapper([0, 0, 0, 0, -1, 0, 0, 0, 0]),\n   ListWrapper([0, 1, 1, 1, -1, 1, 0, 0, 0])],\n  -3,\n  50],\n [[ListWrapper([0, 0, 0, 0, -1, 0, 0, 0, 0]),\n   ListWrapper([0, 0, 1, 1, -1, 1, 1, 0, 0])],\n  -3,\n  50],\n [[ListWrapper([0, 0, 0, 0, -1, 0, 0, 0, 0]),\n   ListWrapper([0, 0, 0, 1, -1, 1, 1, 1, 0])],\n  -3,\n  50],\n [[ListWrapper([0, 0, 0, 0, -1, 0, 0, 0, 0]),\n   ListWrapper([0, 0, 0, 0, -1, 1, 1, 1, 1])],\n  -3,\n  50],\n [[ListWrapper([-1, 1, 1, 1, -1, -1, 0, 0, 0]),\n   ListWrapper([-1, 0, 0, 0, -1, -1, 0, 0, 0])],\n  -2,\n  10],\n [[ListWrapper([0, -1, 1, 1, -1, 1, -1, 0, 0]),\n   ListWrapper([0, -1, 0, 0, -1, 0, -1, 0, 0])],\n  -2,\n  10],\n [[ListWrapper([0, 0, -1, 1, -1, 1, 1, -1, 0]),\n   ListWrapper([0, 0, -1, 0, -1, 0, 0, -1, 0])],\n  -2,\n  10],\n [[ListWrapper([0, 0, 0, -1, -1, 1, 1, 1, -1]),\n   ListWrapper([0, 0, 0, -1, -1, 0, 0, 0, -1])],\n  -2,\n  10],\n [[ListWrapper([-1, 0, 0, 0, -1, -1, 0, 0, 0]),\n   ListWrapper([-1, 1, 1, 1, -1, -1, 0, 0, 0])],\n  -2,\n  5],\n [[ListWrapper([0, -1, 0, 0, -1, 0, -1, 0, 0]),\n   ListWrapper([0, -1, 1, 1, -1, 1, -1, 0, 0])],\n  -2,\n  5],\n [[ListWrapper([0, 0, -1, 0, -1, 0, 0, -1, 0]),\n   ListWrapper([0, 0, -1, 1, -1, 1, 1, -1, 0])],\n  -2,\n  5],\n [[ListWrapper([0, 0, 0, -1, -1, 0, 0, 0, -1]),\n   ListWrapper([0, 0, 0, -1, -1, 1, 1, 1, -1])],\n  -2,\n  5]]"
     },
     "execution_count": 4,
     "metadata": {},
     "output_type": "execute_result"
    }
   ],
   "source": [
    "policy = mc.MaxCriticalityPolicy(input_size)\n",
    "patterns = policy.select_patterns()\n",
    "patterns"
   ],
   "metadata": {
    "collapsed": false,
    "pycharm": {
     "name": "#%%\n"
    }
   }
  },
  {
   "cell_type": "code",
   "execution_count": 5,
   "outputs": [
    {
     "data": {
      "text/plain": "[[ListWrapper([0, 0, 1, 1, -1, 1, 1, 0, 0]),\n  ListWrapper([0, 0, 0, 0, -1, 0, 0, 0, 0])],\n -3,\n 99]"
     },
     "execution_count": 5,
     "metadata": {},
     "output_type": "execute_result"
    }
   ],
   "source": [
    "the_pattern = patterns[2]\n",
    "the_pattern"
   ],
   "metadata": {
    "collapsed": false,
    "pycharm": {
     "name": "#%%\n"
    }
   }
  },
  {
   "cell_type": "markdown",
   "source": [
    "This is a rotation-invariant filter set that represents a particular pattern '...XX.XX...' anywhere on the board"
   ],
   "metadata": {
    "collapsed": false,
    "pycharm": {
     "name": "#%% md\n"
    }
   }
  },
  {
   "cell_type": "code",
   "execution_count": 6,
   "outputs": [],
   "source": [
    "filters, biases, weights = policy.assemble_filters()"
   ],
   "metadata": {
    "collapsed": false,
    "pycharm": {
     "name": "#%%\n"
    }
   }
  },
  {
   "cell_type": "code",
   "execution_count": 7,
   "outputs": [
    {
     "name": "stdout",
     "output_type": "stream",
     "text": [
      "shape: (9, 9, 2)\n",
      "[[-3.  0.  0.  0.  0.  0.  0.  0.  0.]\n",
      " [ 0.  1.  0.  0.  0.  0.  0.  0.  0.]\n",
      " [ 0.  0.  1.  0.  0.  0.  0.  0.  0.]\n",
      " [ 0.  0.  0.  1.  0.  0.  0.  0.  0.]\n",
      " [ 0.  0.  0.  0. -3.  0.  0.  0.  0.]\n",
      " [ 0.  0.  0.  0.  0. -3.  0.  0.  0.]\n",
      " [ 0.  0.  0.  0.  0.  0.  0.  0.  0.]\n",
      " [ 0.  0.  0.  0.  0.  0.  0.  0.  0.]\n",
      " [ 0.  0.  0.  0.  0.  0.  0.  0.  0.]]\n",
      "10\n",
      "-2\n"
     ]
    }
   ],
   "source": [
    "index = 41\n",
    "print_bin(filters[:,:,:,index])\n",
    "print(weights[index])\n",
    "print(biases[index])"
   ],
   "metadata": {
    "collapsed": false,
    "pycharm": {
     "name": "#%%\n"
    }
   }
  },
  {
   "cell_type": "markdown",
   "source": [
    "## MaxCriticalityPolicy\n",
    "\n",
    "This policy will always propose the field with highest criticality"
   ],
   "metadata": {
    "collapsed": false,
    "pycharm": {
     "name": "#%% md\n"
    }
   }
  },
  {
   "cell_type": "markdown",
   "source": [
    "### Test it on a real board"
   ],
   "metadata": {
    "collapsed": false,
    "pycharm": {
     "name": "#%% md\n"
    }
   }
  },
  {
   "cell_type": "code",
   "execution_count": 8,
   "outputs": [],
   "source": [
    "SIZE=7"
   ],
   "metadata": {
    "collapsed": false,
    "pycharm": {
     "name": "#%%\n"
    }
   }
  },
  {
   "cell_type": "code",
   "execution_count": 9,
   "outputs": [],
   "source": [
    "def suggest_greedy(sample):\n",
    "    res = policy(sample)\n",
    "    vec = tf.reshape(res, (1, -1))\n",
    "    pos = tf.squeeze(tf.argmax(vec, axis=1))\n",
    "    y = pos // SIZE\n",
    "    x = pos - y * SIZE\n",
    "    bx, by = gt.m2b((y, x), size=SIZE)\n",
    "    return chr(64 + bx) + str(by)"
   ],
   "metadata": {
    "collapsed": false,
    "pycharm": {
     "name": "#%%\n"
    }
   }
  },
  {
   "cell_type": "code",
   "execution_count": 10,
   "outputs": [],
   "source": [
    "samples = {\n",
    "    'b1c5d3e3e4f2c3d4': 'B6',\n",
    "    'b1c5d3e3e4f2c2d5': 'F5',\n",
    "}\n",
    "examine = 'b1c5d3e3e4f2c3d4'"
   ],
   "metadata": {
    "collapsed": false,
    "pycharm": {
     "name": "#%%\n"
    }
   }
  },
  {
   "cell_type": "markdown",
   "source": [
    "#### Verify the policy output"
   ],
   "metadata": {
    "collapsed": false,
    "pycharm": {
     "name": "#%% md\n"
    }
   }
  },
  {
   "cell_type": "code",
   "execution_count": 11,
   "outputs": [
    {
     "name": "stdout",
     "output_type": "stream",
     "text": [
      "[[[[ 0.]\n",
      "   [ 0.]\n",
      "   [ 0.]\n",
      "   [ 0.]\n",
      "   [ 0.]\n",
      "   [ 0.]\n",
      "   [ 0.]]\n",
      "\n",
      "  [[ 0.]\n",
      "   [50.]\n",
      "   [ 0.]\n",
      "   [ 0.]\n",
      "   [ 0.]\n",
      "   [ 0.]\n",
      "   [ 0.]]\n",
      "\n",
      "  [[ 0.]\n",
      "   [ 0.]\n",
      "   [ 0.]\n",
      "   [ 0.]\n",
      "   [ 0.]\n",
      "   [ 0.]\n",
      "   [ 0.]]\n",
      "\n",
      "  [[ 0.]\n",
      "   [ 0.]\n",
      "   [ 0.]\n",
      "   [ 0.]\n",
      "   [ 0.]\n",
      "   [ 0.]\n",
      "   [ 0.]]\n",
      "\n",
      "  [[ 0.]\n",
      "   [ 0.]\n",
      "   [ 0.]\n",
      "   [ 0.]\n",
      "   [ 0.]\n",
      "   [ 0.]\n",
      "   [ 0.]]\n",
      "\n",
      "  [[ 0.]\n",
      "   [ 0.]\n",
      "   [10.]\n",
      "   [ 0.]\n",
      "   [ 0.]\n",
      "   [ 0.]\n",
      "   [ 0.]]\n",
      "\n",
      "  [[ 0.]\n",
      "   [ 0.]\n",
      "   [ 0.]\n",
      "   [ 0.]\n",
      "   [ 0.]\n",
      "   [ 0.]\n",
      "   [50.]]]]\n",
      "B6\n",
      "All good. Congrats!!!\n"
     ]
    },
    {
     "data": {
      "text/plain": "<Figure size 216x216 with 1 Axes>",
      "image/png": "[encoded data removed]"
     },
     "metadata": {
      "needs_background": "light"
     },
     "output_type": "display_data"
    }
   ],
   "source": [
    "for b, move in samples.items():\n",
    "    stones = gt.string_to_stones(b)\n",
    "    board = GomokuBoard(n=SIZE, disp_width=3, stones=stones)\n",
    "    sample = create_binary_rep(board)\n",
    "    board.set(*gt.string_to_stones(move)[0])\n",
    "    res = policy(sample)\n",
    "    suggested = suggest_greedy(sample)\n",
    "    assert(move == suggested)\n",
    "    if b == examine:\n",
    "        board.display()\n",
    "        print(res.numpy())\n",
    "        print(suggested)\n",
    "print(\"All good. Congrats!!!\")"
   ],
   "metadata": {
    "collapsed": false,
    "pycharm": {
     "name": "#%%\n"
    }
   }
  },
  {
   "cell_type": "code",
   "execution_count": 12,
   "outputs": [
    {
     "data": {
      "text/plain": "<tf.Tensor: shape=(1, 7, 7, 1), dtype=float32, numpy=\narray([[[[ 0.],\n         [ 0.],\n         [ 0.],\n         [ 0.],\n         [ 0.],\n         [ 0.],\n         [ 0.]],\n\n        [[ 0.],\n         [ 0.],\n         [ 0.],\n         [ 0.],\n         [ 0.],\n         [ 0.],\n         [ 0.]],\n\n        [[ 0.],\n         [ 0.],\n         [ 0.],\n         [ 0.],\n         [ 0.],\n         [99.],\n         [ 0.]],\n\n        [[ 0.],\n         [ 0.],\n         [ 0.],\n         [ 5.],\n         [ 0.],\n         [ 0.],\n         [ 0.]],\n\n        [[ 0.],\n         [ 0.],\n         [ 0.],\n         [ 0.],\n         [ 0.],\n         [ 0.],\n         [ 0.]],\n\n        [[ 0.],\n         [ 0.],\n         [ 0.],\n         [ 0.],\n         [ 0.],\n         [ 0.],\n         [ 0.]],\n\n        [[ 0.],\n         [ 0.],\n         [ 0.],\n         [ 0.],\n         [ 0.],\n         [ 0.],\n         [ 0.]]]], dtype=float32)>"
     },
     "execution_count": 12,
     "metadata": {},
     "output_type": "execute_result"
    }
   ],
   "source": [
    "res"
   ],
   "metadata": {
    "collapsed": false,
    "pycharm": {
     "name": "#%%\n"
    }
   }
  },
  {
   "cell_type": "code",
   "execution_count": 13,
   "outputs": [],
   "source": [
    "b = 'c3e3c4e4c5e5'"
   ],
   "metadata": {
    "collapsed": false,
    "pycharm": {
     "name": "#%%\n"
    }
   }
  },
  {
   "cell_type": "code",
   "execution_count": 14,
   "outputs": [
    {
     "name": "stdout",
     "output_type": "stream",
     "text": [
      "[[[[ 0.]\n",
      "   [ 0.]\n",
      "   [ 0.]\n",
      "   [ 0.]\n",
      "   [ 0.]\n",
      "   [ 0.]\n",
      "   [ 0.]]\n",
      "\n",
      "  [[ 0.]\n",
      "   [ 0.]\n",
      "   [10.]\n",
      "   [ 0.]\n",
      "   [ 5.]\n",
      "   [ 0.]\n",
      "   [ 0.]]\n",
      "\n",
      "  [[ 0.]\n",
      "   [ 0.]\n",
      "   [ 0.]\n",
      "   [ 0.]\n",
      "   [ 0.]\n",
      "   [ 0.]\n",
      "   [ 0.]]\n",
      "\n",
      "  [[ 0.]\n",
      "   [ 0.]\n",
      "   [ 0.]\n",
      "   [ 0.]\n",
      "   [ 0.]\n",
      "   [ 0.]\n",
      "   [ 0.]]\n",
      "\n",
      "  [[ 0.]\n",
      "   [ 0.]\n",
      "   [ 0.]\n",
      "   [ 0.]\n",
      "   [ 0.]\n",
      "   [ 0.]\n",
      "   [ 0.]]\n",
      "\n",
      "  [[ 0.]\n",
      "   [ 0.]\n",
      "   [10.]\n",
      "   [ 0.]\n",
      "   [ 5.]\n",
      "   [ 0.]\n",
      "   [ 0.]]\n",
      "\n",
      "  [[ 0.]\n",
      "   [ 0.]\n",
      "   [ 0.]\n",
      "   [ 0.]\n",
      "   [ 0.]\n",
      "   [ 0.]\n",
      "   [ 0.]]]]\n",
      "C6\n"
     ]
    },
    {
     "data": {
      "text/plain": "<Figure size 216x216 with 1 Axes>",
      "image/png": "[encoded data removed]"
     },
     "metadata": {
      "needs_background": "light"
     },
     "output_type": "display_data"
    }
   ],
   "source": [
    "stones = gt.string_to_stones(b)\n",
    "board = GomokuBoard(n=SIZE, disp_width=3, stones=stones)\n",
    "sample = create_binary_rep(board)\n",
    "res = policy(sample)\n",
    "print(res.numpy())\n",
    "suggested = suggest_greedy(sample)\n",
    "board.display()\n",
    "print(suggested)"
   ],
   "metadata": {
    "collapsed": false,
    "pycharm": {
     "name": "#%%\n"
    }
   }
  },
  {
   "cell_type": "code",
   "execution_count": null,
   "outputs": [],
   "source": [],
   "metadata": {
    "collapsed": false,
    "pycharm": {
     "name": "#%%\n"
    }
   }
  }
 ],
 "metadata": {
  "kernelspec": {
   "display_name": "Python 3",
   "language": "python",
   "name": "python3"
  },
  "language_info": {
   "codemirror_mode": {
    "name": "ipython",
    "version": 2
   },
   "file_extension": ".py",
   "mimetype": "text/x-python",
   "name": "python",
   "nbconvert_exporter": "python",
   "pygments_lexer": "ipython2",
   "version": "2.7.6"
  }
 },
 "nbformat": 4,
 "nbformat_minor": 0
}