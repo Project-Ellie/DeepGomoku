{
 "cells": [
  {
   "cell_type": "code",
   "execution_count": 3,
   "outputs": [],
   "source": [
    "%load_ext autoreload\n",
    "%autoreload 2"
   ],
   "metadata": {
    "collapsed": false,
    "pycharm": {
     "name": "#%%\n"
    }
   }
  },
  {
   "cell_type": "code",
   "execution_count": 4,
   "outputs": [],
   "source": [
    "from aegomoku.constants_19x19 import *\n",
    "from aegomoku.gomoku_game import Swap2\n",
    "from aegomoku.gomoku_players import PolicyAdvisedGraphSearchPlayer\n",
    "from aegomoku.interfaces import MctsParams\n",
    "from aegomoku.policies.topological_value import TopologicalValuePolicy\n",
    "from aegomoku.interfaces import PolicyParams, PolicyAdviser\n",
    "from aegomoku.interfaces import Game, Player\n",
    "import copy"
   ],
   "metadata": {
    "collapsed": false,
    "pycharm": {
     "name": "#%%\n"
    }
   }
  },
  {
   "cell_type": "code",
   "execution_count": 5,
   "outputs": [],
   "source": [
    "BOARD_SIZE=19"
   ],
   "metadata": {
    "collapsed": false,
    "pycharm": {
     "name": "#%%\n"
    }
   }
  },
  {
   "cell_type": "code",
   "execution_count": 6,
   "outputs": [],
   "source": [
    "\n",
    "game = Swap2(BOARD_SIZE)\n",
    "\n",
    "\n",
    "policy_params = PolicyParams(model_file_name=None, advice_cutoff=.01)\n",
    "policy = TopologicalValuePolicy(kappa_s=6, kappa_d=5)\n",
    "adviser = PolicyAdviser(model=policy, params=policy_params)\n",
    "\n",
    "mcts_params = MctsParams(cpuct=4.0, temperature=3.0, num_simulations=10)\n",
    "player1 = PolicyAdvisedGraphSearchPlayer(\"Swappy Joe\", game, mcts_params)\n",
    "player2 = PolicyAdvisedGraphSearchPlayer(\"Sleepy Jack\", game, mcts_params)\n",
    "\n",
    "board = GomokuBoard(BOARD_SIZE)"
   ],
   "metadata": {
    "collapsed": false,
    "pycharm": {
     "name": "#%%\n"
    }
   }
  },
  {
   "cell_type": "code",
   "execution_count": 5,
   "outputs": [
    {
     "name": "stdout",
     "output_type": "stream",
     "text": [
      "O1 (White next)\n"
     ]
    },
    {
     "name": "stderr",
     "output_type": "stream",
     "text": [
      "All valid moves were masked, doing a workaround.\n",
      "All valid moves were masked, doing a workaround.\n",
      "All valid moves were masked, doing a workaround.\n",
      "All valid moves were masked, doing a workaround.\n",
      "All valid moves were masked, doing a workaround.\n",
      "All valid moves were masked, doing a workaround.\n",
      "All valid moves were masked, doing a workaround.\n"
     ]
    },
    {
     "name": "stdout",
     "output_type": "stream",
     "text": [
      "Oops!\n",
      "Got None of type <class 'NoneType'>\n"
     ]
    },
    {
     "ename": "ValueError",
     "evalue": "If a single argument is provided, it must be a string or integer representation of the move.",
     "output_type": "error",
     "traceback": [
      "\u001B[0;31m---------------------------------------------------------------------------\u001B[0m",
      "\u001B[0;31mValueError\u001B[0m                                Traceback (most recent call last)",
      "Cell \u001B[0;32mIn [5], line 2\u001B[0m\n\u001B[1;32m      1\u001B[0m \u001B[38;5;28;01mfrom\u001B[39;00m \u001B[38;5;21;01maegomoku\u001B[39;00m\u001B[38;5;21;01m.\u001B[39;00m\u001B[38;5;21;01mgomoku_game\u001B[39;00m \u001B[38;5;28;01mimport\u001B[39;00m one_game\n\u001B[0;32m----> 2\u001B[0m \u001B[43mone_game\u001B[49m\u001B[43m(\u001B[49m\u001B[43mgame\u001B[49m\u001B[43m,\u001B[49m\u001B[43m \u001B[49m\u001B[43mplayer1\u001B[49m\u001B[43m,\u001B[49m\u001B[43m \u001B[49m\u001B[43mplayer2\u001B[49m\u001B[43m,\u001B[49m\u001B[43m \u001B[49m\u001B[43mmax_moves\u001B[49m\u001B[38;5;241;43m=\u001B[39;49m\u001B[38;5;241;43m20\u001B[39;49m\u001B[43m)\u001B[49m\n",
      "File \u001B[0;32m~/workspace/Project-Ellie/DeepGomoku/aegomoku/gomoku_game.py:249\u001B[0m, in \u001B[0;36mone_game\u001B[0;34m(game, player1, player2, max_moves)\u001B[0m\n\u001B[1;32m    246\u001B[0m num_stones \u001B[38;5;241m=\u001B[39m \u001B[38;5;241m0\u001B[39m\n\u001B[1;32m    247\u001B[0m \u001B[38;5;28;01mwhile\u001B[39;00m game\u001B[38;5;241m.\u001B[39mget_winner(board) \u001B[38;5;129;01mis\u001B[39;00m \u001B[38;5;28;01mNone\u001B[39;00m \u001B[38;5;129;01mand\u001B[39;00m num_stones \u001B[38;5;241m<\u001B[39m max_moves:\n\u001B[0;32m--> 249\u001B[0m     board, move \u001B[38;5;241m=\u001B[39m \u001B[43mplayer\u001B[49m\u001B[38;5;241;43m.\u001B[39;49m\u001B[43mmove\u001B[49m\u001B[43m(\u001B[49m\u001B[43mboard\u001B[49m\u001B[43m)\u001B[49m\n\u001B[1;32m    250\u001B[0m     next_player \u001B[38;5;241m=\u001B[39m board\u001B[38;5;241m.\u001B[39mget_current_player()\n\u001B[1;32m    251\u001B[0m     player \u001B[38;5;241m=\u001B[39m players[next_player]\n",
      "File \u001B[0;32m~/workspace/Project-Ellie/DeepGomoku/aegomoku/gomoku_players.py:70\u001B[0m, in \u001B[0;36mPolicyAdvisedGraphSearchPlayer.move\u001B[0;34m(self, board, temperature)\u001B[0m\n\u001B[1;32m     67\u001B[0m     \u001B[38;5;28;01mreturn\u001B[39;00m board, \u001B[38;5;28;01mNone\u001B[39;00m\n\u001B[1;32m     69\u001B[0m temperature \u001B[38;5;241m=\u001B[39m temperature \u001B[38;5;28;01mif\u001B[39;00m temperature \u001B[38;5;129;01mis\u001B[39;00m \u001B[38;5;129;01mnot\u001B[39;00m \u001B[38;5;28;01mNone\u001B[39;00m \u001B[38;5;28;01melse\u001B[39;00m \u001B[38;5;28mself\u001B[39m\u001B[38;5;241m.\u001B[39mmcts\u001B[38;5;241m.\u001B[39mparams\u001B[38;5;241m.\u001B[39mtemperature\n\u001B[0;32m---> 70\u001B[0m probs \u001B[38;5;241m=\u001B[39m \u001B[38;5;28;43mself\u001B[39;49m\u001B[38;5;241;43m.\u001B[39;49m\u001B[43mmcts\u001B[49m\u001B[38;5;241;43m.\u001B[39;49m\u001B[43mget_action_prob\u001B[49m\u001B[43m(\u001B[49m\u001B[43mboard\u001B[49m\u001B[43m,\u001B[49m\u001B[43m \u001B[49m\u001B[43mtemperature\u001B[49m\u001B[38;5;241;43m=\u001B[39;49m\u001B[43mtemperature\u001B[49m\u001B[43m)\u001B[49m\n\u001B[1;32m     72\u001B[0m patience \u001B[38;5;241m=\u001B[39m \u001B[38;5;241m5\u001B[39m\n\u001B[1;32m     73\u001B[0m move \u001B[38;5;241m=\u001B[39m \u001B[38;5;28;01mNone\u001B[39;00m\n",
      "File \u001B[0;32m~/workspace/Project-Ellie/DeepGomoku/aegomoku/mcts.py:60\u001B[0m, in \u001B[0;36mMCTS.get_action_prob\u001B[0;34m(self, board, temperature)\u001B[0m\n\u001B[1;32m     58\u001B[0m \u001B[38;5;28;01mfor\u001B[39;00m i \u001B[38;5;129;01min\u001B[39;00m \u001B[38;5;28mrange\u001B[39m(\u001B[38;5;28mself\u001B[39m\u001B[38;5;241m.\u001B[39mparams\u001B[38;5;241m.\u001B[39mnum_simulations):\n\u001B[1;32m     59\u001B[0m     board \u001B[38;5;241m=\u001B[39m copy\u001B[38;5;241m.\u001B[39mdeepcopy(original_board)\n\u001B[0;32m---> 60\u001B[0m     \u001B[38;5;28;43mself\u001B[39;49m\u001B[38;5;241;43m.\u001B[39;49m\u001B[43msearch\u001B[49m\u001B[43m(\u001B[49m\u001B[43mboard\u001B[49m\u001B[43m)\u001B[49m\n\u001B[1;32m     62\u001B[0m \u001B[38;5;28;01mreturn\u001B[39;00m \u001B[38;5;28mself\u001B[39m\u001B[38;5;241m.\u001B[39mcompute_probs(original_board, temperature)\n",
      "File \u001B[0;32m~/workspace/Project-Ellie/DeepGomoku/aegomoku/mcts.py:124\u001B[0m, in \u001B[0;36mMCTS.search\u001B[0;34m(self, board)\u001B[0m\n\u001B[1;32m    122\u001B[0m move, info \u001B[38;5;241m=\u001B[39m \u001B[38;5;28mself\u001B[39m\u001B[38;5;241m.\u001B[39mbest_act(board\u001B[38;5;241m=\u001B[39mboard, s\u001B[38;5;241m=\u001B[39ms)\n\u001B[1;32m    123\u001B[0m next_board, _ \u001B[38;5;241m=\u001B[39m \u001B[38;5;28mself\u001B[39m\u001B[38;5;241m.\u001B[39mgame\u001B[38;5;241m.\u001B[39mget_next_state(board, move)\n\u001B[0;32m--> 124\u001B[0m v \u001B[38;5;241m=\u001B[39m \u001B[38;5;28;43mself\u001B[39;49m\u001B[38;5;241;43m.\u001B[39;49m\u001B[43msearch\u001B[49m\u001B[43m(\u001B[49m\u001B[43mnext_board\u001B[49m\u001B[43m)\u001B[49m\n\u001B[1;32m    126\u001B[0m \u001B[38;5;66;03m# new_value = self.update_node_stats(s, move.i, v)\u001B[39;00m\n\u001B[1;32m    127\u001B[0m \u001B[38;5;28mself\u001B[39m\u001B[38;5;241m.\u001B[39mupdate_node_stats(s, move\u001B[38;5;241m.\u001B[39mi, v)\n",
      "File \u001B[0;32m~/workspace/Project-Ellie/DeepGomoku/aegomoku/mcts.py:124\u001B[0m, in \u001B[0;36mMCTS.search\u001B[0;34m(self, board)\u001B[0m\n\u001B[1;32m    122\u001B[0m move, info \u001B[38;5;241m=\u001B[39m \u001B[38;5;28mself\u001B[39m\u001B[38;5;241m.\u001B[39mbest_act(board\u001B[38;5;241m=\u001B[39mboard, s\u001B[38;5;241m=\u001B[39ms)\n\u001B[1;32m    123\u001B[0m next_board, _ \u001B[38;5;241m=\u001B[39m \u001B[38;5;28mself\u001B[39m\u001B[38;5;241m.\u001B[39mgame\u001B[38;5;241m.\u001B[39mget_next_state(board, move)\n\u001B[0;32m--> 124\u001B[0m v \u001B[38;5;241m=\u001B[39m \u001B[38;5;28;43mself\u001B[39;49m\u001B[38;5;241;43m.\u001B[39;49m\u001B[43msearch\u001B[49m\u001B[43m(\u001B[49m\u001B[43mnext_board\u001B[49m\u001B[43m)\u001B[49m\n\u001B[1;32m    126\u001B[0m \u001B[38;5;66;03m# new_value = self.update_node_stats(s, move.i, v)\u001B[39;00m\n\u001B[1;32m    127\u001B[0m \u001B[38;5;28mself\u001B[39m\u001B[38;5;241m.\u001B[39mupdate_node_stats(s, move\u001B[38;5;241m.\u001B[39mi, v)\n",
      "File \u001B[0;32m~/workspace/Project-Ellie/DeepGomoku/aegomoku/mcts.py:123\u001B[0m, in \u001B[0;36mMCTS.search\u001B[0;34m(self, board)\u001B[0m\n\u001B[1;32m    120\u001B[0m     \u001B[38;5;28;01mreturn\u001B[39;00m \u001B[38;5;241m-\u001B[39m\u001B[38;5;28mself\u001B[39m\u001B[38;5;241m.\u001B[39minitialize_and_estimate_value(board, s)\n\u001B[1;32m    122\u001B[0m move, info \u001B[38;5;241m=\u001B[39m \u001B[38;5;28mself\u001B[39m\u001B[38;5;241m.\u001B[39mbest_act(board\u001B[38;5;241m=\u001B[39mboard, s\u001B[38;5;241m=\u001B[39ms)\n\u001B[0;32m--> 123\u001B[0m next_board, _ \u001B[38;5;241m=\u001B[39m \u001B[38;5;28;43mself\u001B[39;49m\u001B[38;5;241;43m.\u001B[39;49m\u001B[43mgame\u001B[49m\u001B[38;5;241;43m.\u001B[39;49m\u001B[43mget_next_state\u001B[49m\u001B[43m(\u001B[49m\u001B[43mboard\u001B[49m\u001B[43m,\u001B[49m\u001B[43m \u001B[49m\u001B[43mmove\u001B[49m\u001B[43m)\u001B[49m\n\u001B[1;32m    124\u001B[0m v \u001B[38;5;241m=\u001B[39m \u001B[38;5;28mself\u001B[39m\u001B[38;5;241m.\u001B[39msearch(next_board)\n\u001B[1;32m    126\u001B[0m \u001B[38;5;66;03m# new_value = self.update_node_stats(s, move.i, v)\u001B[39;00m\n",
      "File \u001B[0;32m~/workspace/Project-Ellie/DeepGomoku/aegomoku/gomoku_game.py:81\u001B[0m, in \u001B[0;36mGomokuGame.get_next_state\u001B[0;34m(self, board, action)\u001B[0m\n\u001B[1;32m     76\u001B[0m \u001B[38;5;124;03m\"\"\"\u001B[39;00m\n\u001B[1;32m     77\u001B[0m \u001B[38;5;124;03mcomputes the next state from a deep copy. Leaves the passed board unchanged\u001B[39;00m\n\u001B[1;32m     78\u001B[0m \u001B[38;5;124;03m:return:\u001B[39;00m\n\u001B[1;32m     79\u001B[0m \u001B[38;5;124;03m\"\"\"\u001B[39;00m\n\u001B[1;32m     80\u001B[0m board \u001B[38;5;241m=\u001B[39m copy\u001B[38;5;241m.\u001B[39mdeepcopy(board)\n\u001B[0;32m---> 81\u001B[0m \u001B[43mboard\u001B[49m\u001B[38;5;241;43m.\u001B[39;49m\u001B[43mact\u001B[49m\u001B[43m(\u001B[49m\u001B[43maction\u001B[49m\u001B[43m)\u001B[49m\n\u001B[1;32m     82\u001B[0m next_player \u001B[38;5;241m=\u001B[39m board\u001B[38;5;241m.\u001B[39mget_current_player()\n\u001B[1;32m     83\u001B[0m \u001B[38;5;28;01mreturn\u001B[39;00m board, next_player\n",
      "File \u001B[0;32m~/workspace/Project-Ellie/DeepGomoku/aegomoku/gomoku_board.py:305\u001B[0m, in \u001B[0;36mGomokuBoard.act\u001B[0;34m(self, *args)\u001B[0m\n\u001B[1;32m    303\u001B[0m     stone \u001B[38;5;241m=\u001B[39m args[\u001B[38;5;241m0\u001B[39m]\n\u001B[1;32m    304\u001B[0m \u001B[38;5;28;01melse\u001B[39;00m:\n\u001B[0;32m--> 305\u001B[0m     stone \u001B[38;5;241m=\u001B[39m \u001B[38;5;28;43mself\u001B[39;49m\u001B[38;5;241;43m.\u001B[39;49m\u001B[43mStone\u001B[49m\u001B[43m(\u001B[49m\u001B[38;5;241;43m*\u001B[39;49m\u001B[43margs\u001B[49m\u001B[43m)\u001B[49m\n\u001B[1;32m    306\u001B[0m m \u001B[38;5;241m=\u001B[39m \u001B[38;5;28mself\u001B[39m\u001B[38;5;241m.\u001B[39mmath_rep\n\u001B[1;32m    307\u001B[0m \u001B[38;5;28;01massert\u001B[39;00m m[stone\u001B[38;5;241m.\u001B[39mr\u001B[38;5;241m+\u001B[39m\u001B[38;5;241m1\u001B[39m, stone\u001B[38;5;241m.\u001B[39mc\u001B[38;5;241m+\u001B[39m\u001B[38;5;241m1\u001B[39m, \u001B[38;5;241m0\u001B[39m] \u001B[38;5;241m==\u001B[39m m[stone\u001B[38;5;241m.\u001B[39mr\u001B[38;5;241m+\u001B[39m\u001B[38;5;241m1\u001B[39m, stone\u001B[38;5;241m.\u001B[39mc\u001B[38;5;241m+\u001B[39m\u001B[38;5;241m1\u001B[39m, \u001B[38;5;241m1\u001B[39m] \u001B[38;5;241m==\u001B[39m \u001B[38;5;241m0\u001B[39m, \u001B[38;5;124mf\u001B[39m\u001B[38;5;124m\"\u001B[39m\u001B[38;5;132;01m{\u001B[39;00mstone\u001B[38;5;132;01m}\u001B[39;00m\u001B[38;5;124m is occupied.\u001B[39m\u001B[38;5;124m\"\u001B[39m\n",
      "File \u001B[0;32m~/workspace/Project-Ellie/DeepGomoku/aegomoku/gomoku_board.py:78\u001B[0m, in \u001B[0;36mGomokuBoard.__init__.<locals>.Stone.__init__\u001B[0;34m(self, r_x, c_y)\u001B[0m\n\u001B[1;32m     76\u001B[0m     \u001B[38;5;28;01melse\u001B[39;00m:\n\u001B[1;32m     77\u001B[0m         \u001B[38;5;28mprint\u001B[39m(\u001B[38;5;124mf\u001B[39m\u001B[38;5;124m\"\u001B[39m\u001B[38;5;124mGot \u001B[39m\u001B[38;5;132;01m{\u001B[39;00mr_x\u001B[38;5;132;01m}\u001B[39;00m\u001B[38;5;124m of type \u001B[39m\u001B[38;5;132;01m{\u001B[39;00m\u001B[38;5;28mtype\u001B[39m(r_x)\u001B[38;5;132;01m}\u001B[39;00m\u001B[38;5;124m\"\u001B[39m)\n\u001B[0;32m---> 78\u001B[0m         \u001B[38;5;28;01mraise\u001B[39;00m \u001B[38;5;167;01mValueError\u001B[39;00m(\u001B[38;5;124m\"\u001B[39m\u001B[38;5;124mIf a single argument is provided, \u001B[39m\u001B[38;5;124m\"\u001B[39m\n\u001B[1;32m     79\u001B[0m                          \u001B[38;5;124m\"\u001B[39m\u001B[38;5;124mit must be a string or integer representation of the move.\u001B[39m\u001B[38;5;124m\"\u001B[39m)\n\u001B[1;32m     81\u001B[0m \u001B[38;5;28;01melif\u001B[39;00m \u001B[38;5;28misinstance\u001B[39m(r_x, \u001B[38;5;28mstr\u001B[39m):\n\u001B[1;32m     82\u001B[0m     r, c, x, y \u001B[38;5;241m=\u001B[39m \u001B[38;5;28;01mNone\u001B[39;00m, \u001B[38;5;28;01mNone\u001B[39;00m, r_x, c_y\n",
      "\u001B[0;31mValueError\u001B[0m: If a single argument is provided, it must be a string or integer representation of the move."
     ]
    }
   ],
   "source": [
    "from aegomoku.gomoku_game import one_game\n",
    "one_game(game, player1, player2, max_moves=20)"
   ],
   "metadata": {
    "collapsed": false,
    "pycharm": {
     "name": "#%%\n"
    }
   }
  },
  {
   "cell_type": "code",
   "execution_count": 6,
   "outputs": [],
   "source": [
    "board = GomokuBoard(BOARD_SIZE)"
   ],
   "metadata": {
    "collapsed": false,
    "pycharm": {
     "name": "#%%\n"
    }
   }
  },
  {
   "cell_type": "code",
   "execution_count": 16,
   "outputs": [
    {
     "data": {
      "text/plain": "-0.04081839695572853"
     },
     "execution_count": 16,
     "metadata": {},
     "output_type": "execute_result"
    }
   ],
   "source": [
    "policy = TopologicalValuePolicy(kappa_s=6, kappa_d=5)\n",
    "board = GomokuBoard(BOARD_SIZE, stones=[200])\n",
    "center_value = policy.evaluate(board.canonical_representation())[1] / 2\n",
    "center_value"
   ],
   "metadata": {
    "collapsed": false,
    "pycharm": {
     "name": "#%%\n"
    }
   }
  },
  {
   "cell_type": "code",
   "execution_count": 24,
   "outputs": [
    {
     "name": "stderr",
     "output_type": "stream",
     "text": [
      "100%|██████████| 100/100 [00:00<00:00, 222.67it/s]\n"
     ]
    },
    {
     "data": {
      "text/plain": "[J18, E12, B13]"
     },
     "execution_count": 24,
     "metadata": {},
     "output_type": "execute_result"
    }
   ],
   "source": [
    "from tqdm import tqdm\n",
    "import random\n",
    "\n",
    "d = 5\n",
    "corner = [i*BOARD_SIZE + j for i in range(d) for j in range(d)]\n",
    "left = [(i + d) *BOARD_SIZE + j for i in range(d) for j in range(d)]\n",
    "top = [i * BOARD_SIZE + j + d for i in range(d) for j in range(d)]\n",
    "perimeter = corner + left + top\n",
    "\n",
    "candidates = []\n",
    "dist = 1\n",
    "for i in tqdm(range(100)):\n",
    "    while True:\n",
    "        moves = [board.Stone(random.choice(perimeter)) for _ in range(3)]\n",
    "        try:\n",
    "            board = GomokuBoard(BOARD_SIZE, stones=moves)\n",
    "            value = policy.evaluate(board.canonical_representation())[1]\n",
    "            dist = (value - center_value) ** 2\n",
    "            break\n",
    "        except AssertionError as e:\n",
    "            continue\n",
    "    candidates.append((moves, dist))\n",
    "\n",
    "\n",
    "most_neutral = sorted(candidates, key=lambda e: e[1])[0][0]\n",
    "most_neutral"
   ],
   "metadata": {
    "collapsed": false,
    "pycharm": {
     "name": "#%%\n"
    }
   }
  },
  {
   "cell_type": "code",
   "execution_count": 25,
   "outputs": [
    {
     "name": "stderr",
     "output_type": "stream",
     "text": [
      "100%|██████████| 100/100 [00:00<00:00, 221.57it/s]\n"
     ]
    }
   ],
   "source": [
    "r = range(d, BOARD_SIZE-d+1)\n",
    "center = [i*BOARD_SIZE + j for i in r for j in r]\n",
    "\n",
    "candidates = []\n",
    "for i in tqdm(range(100)):\n",
    "    while True:\n",
    "        moves = [board.Stone(random.choice(center)) for _ in range(2)]\n",
    "        try:\n",
    "            moves = most_neutral + moves\n",
    "            board = GomokuBoard(BOARD_SIZE, stones=moves)\n",
    "            value = policy.evaluate(board.canonical_representation())[1]\n",
    "            dist = (value - center_value) ** 2\n",
    "            break\n",
    "        except AssertionError as e:\n",
    "            continue\n",
    "    candidates.append((moves, dist))\n",
    "\n",
    "most_neutral = sorted(candidates, key=lambda e: e[1])[:5]\n"
   ],
   "metadata": {
    "collapsed": false,
    "pycharm": {
     "name": "#%%\n"
    }
   }
  },
  {
   "cell_type": "code",
   "execution_count": 26,
   "outputs": [
    {
     "name": "stdout",
     "output_type": "stream",
     "text": [
      "                                                                 \n",
      "19    .  .  .  .  .  .  .  .  .  .  .  .  .  .  .  .  .  .  .    \n",
      "18    .  .  .  .  .  .  .  .  .  X  .  .  .  .  .  .  .  .  .    \n",
      "17    .  .  .  .  .  .  .  .  .  .  .  .  .  .  .  .  .  .  .    \n",
      "16    .  .  .  .  .  .  .  .  .  .  .  .  .  .  .  .  .  .  .    \n",
      "15    .  .  .  .  .  .  .  .  .  .  .  .  .  .  .  .  .  .  .    \n",
      "14    .  .  .  .  .  .  .  .  .  .  .  .  .  .  .  .  .  .  .    \n",
      "13    .  X  .  .  .  .  .  .  .  .  .  .  .  .  .  .  .  .  .    \n",
      "12    .  .  .  .  O  .  .  .  .  . [X] .  .  .  .  .  .  .  .    \n",
      "11    .  .  .  .  .  .  .  .  .  .  O  .  .  .  .  .  .  .  .    \n",
      "10    .  .  .  .  .  .  .  .  .  .  .  .  .  .  .  .  .  .  .    \n",
      " 9    .  .  .  .  .  .  .  .  .  .  .  .  .  .  .  .  .  .  .    \n",
      " 8    .  .  .  .  .  .  .  .  .  .  .  .  .  .  .  .  .  .  .    \n",
      " 7    .  .  .  .  .  .  .  .  .  .  .  .  .  .  .  .  .  .  .    \n",
      " 6    .  .  .  .  .  .  .  .  .  .  .  .  .  .  .  .  .  .  .    \n",
      " 5    .  .  .  .  .  .  .  .  .  .  .  .  .  .  .  .  .  .  .    \n",
      " 4    .  .  .  .  .  .  .  .  .  .  .  .  .  .  .  .  .  .  .    \n",
      " 3    .  .  .  .  .  .  .  .  .  .  .  .  .  .  .  .  .  .  .    \n",
      " 2    .  .  .  .  .  .  .  .  .  .  .  .  .  .  .  .  .  .  .    \n",
      " 1    .  .  .  .  .  .  .  .  .  .  .  .  .  .  .  .  .  .  .    \n",
      "                                                                 \n",
      "      A  B  C  D  E  F  G  H  I  J  K  L  M  N  O  P  Q  R  S\n",
      "                                                                 \n",
      "19    .  .  .  .  .  .  .  .  .  .  .  .  .  .  .  .  .  .  .    \n",
      "18    .  .  .  .  .  .  .  .  .  X  .  .  .  .  .  .  .  .  .    \n",
      "17    .  .  .  .  .  .  .  .  .  .  .  .  .  .  .  .  .  .  .    \n",
      "16    .  .  .  .  .  .  .  .  .  .  .  .  .  .  .  .  .  .  .    \n",
      "15    .  .  .  .  .  .  .  .  .  .  .  .  .  .  .  .  .  .  .    \n",
      "14    .  .  .  .  .  .  .  .  .  .  .  .  .  .  .  .  .  .  .    \n",
      "13    .  X  .  .  .  .  .  .  .  .  .  .  .  .  .  .  .  .  .    \n",
      "12    .  .  .  .  O  .  .  .  .  .  .  .  .  .  .  .  .  .  .    \n",
      "11    .  .  .  .  .  .  .  .  .  .  .  .  O  .  .  .  .  .  .    \n",
      "10    .  .  .  .  .  .  .  .  .  .  . [X] .  .  .  .  .  .  .    \n",
      " 9    .  .  .  .  .  .  .  .  .  .  .  .  .  .  .  .  .  .  .    \n",
      " 8    .  .  .  .  .  .  .  .  .  .  .  .  .  .  .  .  .  .  .    \n",
      " 7    .  .  .  .  .  .  .  .  .  .  .  .  .  .  .  .  .  .  .    \n",
      " 6    .  .  .  .  .  .  .  .  .  .  .  .  .  .  .  .  .  .  .    \n",
      " 5    .  .  .  .  .  .  .  .  .  .  .  .  .  .  .  .  .  .  .    \n",
      " 4    .  .  .  .  .  .  .  .  .  .  .  .  .  .  .  .  .  .  .    \n",
      " 3    .  .  .  .  .  .  .  .  .  .  .  .  .  .  .  .  .  .  .    \n",
      " 2    .  .  .  .  .  .  .  .  .  .  .  .  .  .  .  .  .  .  .    \n",
      " 1    .  .  .  .  .  .  .  .  .  .  .  .  .  .  .  .  .  .  .    \n",
      "                                                                 \n",
      "      A  B  C  D  E  F  G  H  I  J  K  L  M  N  O  P  Q  R  S\n",
      "                                                                 \n",
      "19    .  .  .  .  .  .  .  .  .  .  .  .  .  .  .  .  .  .  .    \n",
      "18    .  .  .  .  .  .  .  .  .  X  .  .  .  .  .  .  .  .  .    \n",
      "17    .  .  .  .  .  .  .  .  .  .  .  .  .  .  .  .  .  .  .    \n",
      "16    .  .  .  .  .  .  .  .  .  .  .  .  .  .  .  .  .  .  .    \n",
      "15    .  .  .  .  .  .  .  .  .  .  .  .  .  .  .  .  .  .  .    \n",
      "14    .  .  .  .  .  .  .  .  .  .  .  .  .  .  O  .  .  .  .    \n",
      "13    .  X  .  .  .  .  .  .  .  .  .  .  .  .  .  .  .  .  .    \n",
      "12    .  .  .  .  O  .  .  .  .  .  .  .  .  .  .  .  .  .  .    \n",
      "11    .  .  .  .  .  .  .  .  .  .  .  .  .  .  .  .  .  .  .    \n",
      "10    .  .  .  .  .  .  .  .  .  .  .  .  .  .  .  .  .  .  .    \n",
      " 9    .  .  .  .  .  .  .  .  .  .  .  .  .  .  .  .  .  .  .    \n",
      " 8    .  .  .  .  .  .  .  .  .  .  .  .  .  .  .  .  .  .  .    \n",
      " 7    .  .  .  .  .  .  .  .  . [X] .  .  .  .  .  .  .  .  .    \n",
      " 6    .  .  .  .  .  .  .  .  .  .  .  .  .  .  .  .  .  .  .    \n",
      " 5    .  .  .  .  .  .  .  .  .  .  .  .  .  .  .  .  .  .  .    \n",
      " 4    .  .  .  .  .  .  .  .  .  .  .  .  .  .  .  .  .  .  .    \n",
      " 3    .  .  .  .  .  .  .  .  .  .  .  .  .  .  .  .  .  .  .    \n",
      " 2    .  .  .  .  .  .  .  .  .  .  .  .  .  .  .  .  .  .  .    \n",
      " 1    .  .  .  .  .  .  .  .  .  .  .  .  .  .  .  .  .  .  .    \n",
      "                                                                 \n",
      "      A  B  C  D  E  F  G  H  I  J  K  L  M  N  O  P  Q  R  S\n",
      "                                                                 \n",
      "19    .  .  .  .  .  .  .  .  .  .  .  .  .  .  .  .  .  .  .    \n",
      "18    .  .  .  .  .  .  .  .  .  X  .  .  .  .  .  .  .  .  .    \n",
      "17    .  .  .  .  .  .  .  .  .  .  .  .  .  .  .  .  .  .  .    \n",
      "16    .  .  .  .  .  .  .  .  .  .  .  .  .  .  .  .  .  .  .    \n",
      "15    .  .  .  .  .  .  .  .  .  .  .  .  .  .  .  .  .  .  .    \n",
      "14    .  .  .  .  .  .  .  .  .  .  .  .  .  .  .  .  .  .  .    \n",
      "13    .  X  .  .  .  .  .  .  .  .  .  .  .  .  .  .  .  .  .    \n",
      "12    .  .  .  .  O  .  .  .  .  . [X] O  .  .  .  .  .  .  .    \n",
      "11    .  .  .  .  .  .  .  .  .  .  .  .  .  .  .  .  .  .  .    \n",
      "10    .  .  .  .  .  .  .  .  .  .  .  .  .  .  .  .  .  .  .    \n",
      " 9    .  .  .  .  .  .  .  .  .  .  .  .  .  .  .  .  .  .  .    \n",
      " 8    .  .  .  .  .  .  .  .  .  .  .  .  .  .  .  .  .  .  .    \n",
      " 7    .  .  .  .  .  .  .  .  .  .  .  .  .  .  .  .  .  .  .    \n",
      " 6    .  .  .  .  .  .  .  .  .  .  .  .  .  .  .  .  .  .  .    \n",
      " 5    .  .  .  .  .  .  .  .  .  .  .  .  .  .  .  .  .  .  .    \n",
      " 4    .  .  .  .  .  .  .  .  .  .  .  .  .  .  .  .  .  .  .    \n",
      " 3    .  .  .  .  .  .  .  .  .  .  .  .  .  .  .  .  .  .  .    \n",
      " 2    .  .  .  .  .  .  .  .  .  .  .  .  .  .  .  .  .  .  .    \n",
      " 1    .  .  .  .  .  .  .  .  .  .  .  .  .  .  .  .  .  .  .    \n",
      "                                                                 \n",
      "      A  B  C  D  E  F  G  H  I  J  K  L  M  N  O  P  Q  R  S\n",
      "                                                                 \n",
      "19    .  .  .  .  .  .  .  .  .  .  .  .  .  .  .  .  .  .  .    \n",
      "18    .  .  .  .  .  .  .  .  .  X  .  .  .  .  .  .  .  .  .    \n",
      "17    .  .  .  .  .  .  .  .  .  .  .  .  .  .  .  .  .  .  .    \n",
      "16    .  .  .  .  .  .  .  .  .  .  .  .  .  .  .  .  .  .  .    \n",
      "15    .  .  .  .  .  .  .  .  .  .  .  .  .  .  .  .  .  .  .    \n",
      "14    .  .  .  .  .  .  .  .  .  .  .  .  .  .  .  .  .  .  .    \n",
      "13    .  X  .  .  .  .  .  .  .  .  .  .  .  .  .  .  .  .  .    \n",
      "12    .  .  .  .  O  .  .  .  .  .  .  .  .  .  .  .  .  .  .    \n",
      "11    .  .  .  .  .  .  .  .  .  .  .  .  .  .  .  .  .  .  .    \n",
      "10    .  .  .  .  .  .  .  .  .  .  .  O  .  .  .  .  .  .  .    \n",
      " 9    .  .  .  .  .  .  .  .  .  .  .  . [X] .  .  .  .  .  .    \n",
      " 8    .  .  .  .  .  .  .  .  .  .  .  .  .  .  .  .  .  .  .    \n",
      " 7    .  .  .  .  .  .  .  .  .  .  .  .  .  .  .  .  .  .  .    \n",
      " 6    .  .  .  .  .  .  .  .  .  .  .  .  .  .  .  .  .  .  .    \n",
      " 5    .  .  .  .  .  .  .  .  .  .  .  .  .  .  .  .  .  .  .    \n",
      " 4    .  .  .  .  .  .  .  .  .  .  .  .  .  .  .  .  .  .  .    \n",
      " 3    .  .  .  .  .  .  .  .  .  .  .  .  .  .  .  .  .  .  .    \n",
      " 2    .  .  .  .  .  .  .  .  .  .  .  .  .  .  .  .  .  .  .    \n",
      " 1    .  .  .  .  .  .  .  .  .  .  .  .  .  .  .  .  .  .  .    \n",
      "                                                                 \n",
      "      A  B  C  D  E  F  G  H  I  J  K  L  M  N  O  P  Q  R  S\n"
     ]
    }
   ],
   "source": [
    "choice = sorted(most_neutral, key=lambda e: e[1])[:5]\n",
    "for stones, _ in choice:\n",
    "    GomokuBoard(BOARD_SIZE, stones=stones).plot()"
   ],
   "metadata": {
    "collapsed": false,
    "pycharm": {
     "name": "#%%\n"
    }
   }
  },
  {
   "cell_type": "code",
   "execution_count": 27,
   "outputs": [
    {
     "data": {
      "text/plain": "-0.04081839695572853"
     },
     "execution_count": 27,
     "metadata": {},
     "output_type": "execute_result"
    }
   ],
   "source": [
    "board = GomokuBoard(BOARD_SIZE, stones=[200])\n",
    "center = policy.evaluate(board.canonical_representation())[1] / 2\n",
    "center"
   ],
   "metadata": {
    "collapsed": false,
    "pycharm": {
     "name": "#%%\n"
    }
   }
  },
  {
   "cell_type": "markdown",
   "source": [
    "### All of that is now available with the TopSwap2BoardInitializer"
   ],
   "metadata": {
    "collapsed": false,
    "pycharm": {
     "name": "#%% md\n"
    }
   }
  },
  {
   "cell_type": "code",
   "execution_count": 7,
   "outputs": [
    {
     "name": "stdout",
     "output_type": "stream",
     "text": [
      "                                                                 \n",
      "19    .  .  .  .  .  .  .  .  .  .  .  .  .  .  .  .  .  .  .    \n",
      "18    .  .  .  .  .  .  .  .  .  .  .  .  .  .  .  .  .  .  .    \n",
      "17    .  .  .  .  .  .  .  .  .  .  .  .  .  .  .  .  .  .  .    \n",
      "16    .  .  .  .  .  .  .  .  .  .  .  .  .  .  .  .  .  .  .    \n",
      "15    .  .  .  .  .  .  .  .  .  .  .  .  .  .  .  .  .  .  .    \n",
      "14    .  .  .  .  .  .  .  .  .  .  .  .  .  .  .  .  .  .  .    \n",
      "13    .  .  .  .  .  .  .  .  .  .  .  .  .  .  .  .  .  .  .    \n",
      "12    .  .  .  .  .  .  .  .  .  .  .  .  .  .  .  .  .  .  .    \n",
      "11    .  .  .  .  .  .  .  .  .  .  .  .  .  .  .  .  .  .  .    \n",
      "10    .  .  .  .  .  .  .  .  .  .  .  .  .  .  .  .  .  .  .    \n",
      " 9    .  .  .  .  .  .  .  .  .  .  .  .  .  .  .  .  .  .  .    \n",
      " 8    .  .  .  .  .  .  .  .  .  .  .  .  .  .  .  .  .  .  .    \n",
      " 7    .  .  .  .  .  .  .  .  .  .  .  .  .  .  .  .  .  .  .    \n",
      " 6    .  .  .  .  .  .  .  .  .  .  .  .  .  .  .  .  .  .  .    \n",
      " 5    .  .  .  .  .  .  .  .  .  .  .  .  .  .  .  .  .  .  .    \n",
      " 4    .  .  .  .  .  .  .  .  .  .  .  .  .  .  .  .  .  .  .    \n",
      " 3    .  .  .  .  .  .  .  .  .  .  .  .  .  .  .  .  .  .  .    \n",
      " 2    .  .  .  .  .  .  .  .  .  .  .  .  .  .  .  .  .  .  .    \n",
      " 1    .  .  .  .  .  .  .  .  .  .  .  .  .  .  .  .  .  .  .    \n",
      "                                                                 \n",
      "      A  B  C  D  E  F  G  H  I  J  K  L  M  N  O  P  Q  R  S\n"
     ]
    }
   ],
   "source": [
    "from aegomoku.gomoku_game import TopoSwap2BoardInitializer\n",
    "\n",
    "sbi = TopoSwap2BoardInitializer(19)\n",
    "GomokuBoard(BOARD_SIZE, stones=sbi.initial_stones()).plot()"
   ],
   "metadata": {
    "collapsed": false,
    "pycharm": {
     "name": "#%%\n"
    }
   }
  },
  {
   "cell_type": "code",
   "execution_count": 9,
   "outputs": [
    {
     "data": {
      "text/plain": "'A19E19E18I14K9'"
     },
     "execution_count": 9,
     "metadata": {},
     "output_type": "execute_result"
    }
   ],
   "source": [
    "sbi.initial_stones()"
   ],
   "metadata": {
    "collapsed": false,
    "pycharm": {
     "name": "#%%\n"
    }
   }
  },
  {
   "cell_type": "code",
   "execution_count": null,
   "outputs": [],
   "source": [],
   "metadata": {
    "collapsed": false,
    "pycharm": {
     "name": "#%%\n"
    }
   }
  }
 ],
 "metadata": {
  "kernelspec": {
   "display_name": "Python 3",
   "language": "python",
   "name": "python3"
  },
  "language_info": {
   "codemirror_mode": {
    "name": "ipython",
    "version": 2
   },
   "file_extension": ".py",
   "mimetype": "text/x-python",
   "name": "python",
   "nbconvert_exporter": "python",
   "pygments_lexer": "ipython2",
   "version": "2.7.6"
  }
 },
 "nbformat": 4,
 "nbformat_minor": 0
}