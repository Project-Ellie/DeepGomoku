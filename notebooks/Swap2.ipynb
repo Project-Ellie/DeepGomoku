{
 "cells": [
  {
   "cell_type": "code",
   "execution_count": 1,
   "outputs": [],
   "source": [
    "%load_ext autoreload\n",
    "%autoreload 2"
   ],
   "metadata": {
    "collapsed": false,
    "pycharm": {
     "name": "#%%\n"
    }
   }
  },
  {
   "cell_type": "code",
   "execution_count": 2,
   "outputs": [
    {
     "name": "stderr",
     "output_type": "stream",
     "text": [
      "2022-09-18 07:38:35.454869: I tensorflow/core/platform/cpu_feature_guard.cc:193] This TensorFlow binary is optimized with oneAPI Deep Neural Network Library (oneDNN) to use the following CPU instructions in performance-critical operations:  AVX2 FMA\n",
      "To enable them in other operations, rebuild TensorFlow with the appropriate compiler flags.\n"
     ]
    }
   ],
   "source": [
    "from aegomoku.gomoku_game import Swap2\n",
    "from aegomoku.gomoku_players import PolicyAdvisedGraphSearchPlayer\n",
    "from aegomoku.interfaces import MctsParams\n",
    "from aegomoku.policies.topological_value import TopologicalValuePolicy\n",
    "from aegomoku.interfaces import PolicyParams\n",
    "from aegomoku.gomoku_board import PolicyAdviser"
   ],
   "metadata": {
    "collapsed": false,
    "pycharm": {
     "name": "#%%\n"
    }
   }
  },
  {
   "cell_type": "code",
   "execution_count": 3,
   "outputs": [],
   "source": [
    "BOARD_SIZE=19"
   ],
   "metadata": {
    "collapsed": false,
    "pycharm": {
     "name": "#%%\n"
    }
   }
  },
  {
   "cell_type": "code",
   "execution_count": 21,
   "outputs": [],
   "source": [
    "game = Swap2(BOARD_SIZE)\n",
    "\n",
    "policy_params = PolicyParams(model_file_name=None, advice_cutoff=.01)\n",
    "policy = TopologicalValuePolicy(kappa_s=6, kappa_d=5, game=game)\n",
    "adviser = PolicyAdviser(model=policy, params=policy_params)\n",
    "\n",
    "mcts_params = MctsParams(cpuct=4.0, temperature=3.0, num_simulations=10)\n",
    "player1 = PolicyAdvisedGraphSearchPlayer(\"Swappy Joe\", game, mcts_params, adviser=adviser)\n",
    "player2 = PolicyAdvisedGraphSearchPlayer(\"Sleepy Jack\", game, mcts_params, adviser=adviser)"
   ],
   "metadata": {
    "collapsed": false,
    "pycharm": {
     "name": "#%%\n"
    }
   }
  },
  {
   "cell_type": "code",
   "execution_count": null,
   "outputs": [],
   "source": [
    "from aegomoku.game_data import one_game\n",
    "one_game(game, player1, player2, eval_temperature=1.0, max_moves=20);"
   ],
   "metadata": {
    "collapsed": false,
    "pycharm": {
     "name": "#%%\n",
     "is_executing": true
    }
   }
  },
  {
   "cell_type": "code",
   "execution_count": null,
   "outputs": [],
   "source": [],
   "metadata": {
    "collapsed": false,
    "pycharm": {
     "name": "#%%\n"
    }
   }
  }
 ],
 "metadata": {
  "kernelspec": {
   "display_name": "Python 3",
   "language": "python",
   "name": "python3"
  },
  "language_info": {
   "codemirror_mode": {
    "name": "ipython",
    "version": 2
   },
   "file_extension": ".py",
   "mimetype": "text/x-python",
   "name": "python",
   "nbconvert_exporter": "python",
   "pygments_lexer": "ipython2",
   "version": "2.7.6"
  }
 },
 "nbformat": 4,
 "nbformat_minor": 0
}