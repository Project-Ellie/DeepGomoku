{
 "cells": [
  {
   "cell_type": "code",
   "execution_count": 1,
   "outputs": [],
   "source": [
    "%load_ext autoreload\n",
    "%autoreload 2"
   ],
   "metadata": {
    "collapsed": false,
    "pycharm": {
     "name": "#%%\n"
    }
   }
  },
  {
   "cell_type": "code",
   "execution_count": 53,
   "outputs": [],
   "source": [
    "from aegomoku.gomoku_game import Swap2\n",
    "from aegomoku.gomoku_players import PolicyAdvisedGraphSearchPlayer\n",
    "from aegomoku.interfaces import MctsParams\n",
    "from aegomoku.policies.topological_value import TopologicalValuePolicy\n",
    "from aegomoku.gomoku_game import Swap2RandomOpeningBook\n",
    "\n",
    "from aegomoku.interfaces import PolicyParams\n",
    "from aegomoku.gomoku_board import PolicyAdviser\n",
    "\n",
    "\n",
    "BOARD_SIZE=15\n",
    "game = Swap2(BOARD_SIZE)\n",
    "\n",
    "opening_book = Swap2RandomOpeningBook(board_size=BOARD_SIZE,\n",
    "                                      pass_prob=.5)\n",
    "policy = TopologicalValuePolicy(kappa_s=6, kappa_d=5, game=game,\n",
    "                                opening_book=opening_book)\n",
    "\n",
    "mcts_params = MctsParams(cpuct=4.0, temperature=3.0, num_simulations=10)\n",
    "player1 = PolicyAdvisedGraphSearchPlayer(\"Swappy Joe\", game, mcts_params, adviser=policy)\n",
    "player2 = PolicyAdvisedGraphSearchPlayer(\"Sleepy Jack\", game, mcts_params, adviser=policy)"
   ],
   "metadata": {
    "collapsed": false,
    "pycharm": {
     "name": "#%%\n"
    }
   }
  },
  {
   "cell_type": "code",
   "execution_count": 73,
   "outputs": [
    {
     "name": "stdout",
     "output_type": "stream",
     "text": [
      "                                                     \n",
      "15    .  .  .  .  .  .  .  .  .  .  .  .  .  .  .    \n",
      "14    .  .  .  .  .  .  .  .  .  .  .  .  .  .  .    \n",
      "13    .  .  .  .  .  .  .  .  .  O  .  .  .  .  .    \n",
      "12    .  .  .  .  .  .  .  .  .  .  .  .  .  O  .    \n",
      "11    .  .  .  .  . [X] .  O  .  .  .  .  .  .  .    \n",
      "10    .  .  .  .  .  .  X  O  .  .  .  .  .  .  .    \n",
      " 9    .  .  .  .  .  X  O  X  .  .  .  .  .  .  .    \n",
      " 8    .  .  .  .  X  .  .  O  X  .  .  .  .  .  .    \n",
      " 7    .  .  .  O  .  .  X  O  .  X  .  .  .  .  .    \n",
      " 6    .  .  X  .  .  .  O  .  .  .  O  .  .  .  .    \n",
      " 5    .  .  .  .  .  .  .  .  .  .  .  .  .  .  .    \n",
      " 4    .  .  .  .  X  .  .  .  .  .  .  .  .  .  .    \n",
      " 3    .  .  .  .  .  .  .  .  .  .  .  .  .  .  .    \n",
      " 2    .  .  .  .  .  .  .  .  .  .  .  .  .  .  .    \n",
      " 1    .  .  .  .  .  .  .  .  .  .  .  .  .  .  .    \n",
      "                                                     \n",
      "      A  B  C  D  E  F  G  H  I  J  K  L  M  N  O\n"
     ]
    }
   ],
   "source": [
    "player1.refresh()\n",
    "player2.refresh()\n",
    "board = game.get_initial_board()\n",
    "N = 60\n",
    "while game.get_winner(board) is None and N > 0:\n",
    "    player1.move(board, verbose=2)\n",
    "    N -= 1\n",
    "# print(board.stones)\n",
    "board.plot()"
   ],
   "metadata": {
    "collapsed": false,
    "pycharm": {
     "name": "#%%\n"
    }
   }
  },
  {
   "cell_type": "code",
   "execution_count": null,
   "outputs": [],
   "source": [],
   "metadata": {
    "collapsed": false,
    "pycharm": {
     "name": "#%%\n"
    }
   }
  },
  {
   "cell_type": "code",
   "execution_count": null,
   "outputs": [],
   "source": [],
   "metadata": {
    "collapsed": false,
    "pycharm": {
     "name": "#%%\n"
    }
   }
  },
  {
   "cell_type": "code",
   "execution_count": null,
   "outputs": [],
   "source": [],
   "metadata": {
    "collapsed": false,
    "pycharm": {
     "name": "#%%\n"
    }
   }
  },
  {
   "cell_type": "code",
   "execution_count": 12,
   "outputs": [
    {
     "name": "stdout",
     "output_type": "stream",
     "text": [
      "Swappy Joe: S1 (White next)\n",
      "Swappy Joe: S1 Q3 (Black next)\n",
      "Swappy Joe: S1 Q3 O1 (White next)\n"
     ]
    },
    {
     "ename": "KeyboardInterrupt",
     "evalue": "",
     "output_type": "error",
     "traceback": [
      "\u001B[0;31m---------------------------------------------------------------------------\u001B[0m",
      "\u001B[0;31mKeyboardInterrupt\u001B[0m                         Traceback (most recent call last)",
      "Cell \u001B[0;32mIn [12], line 2\u001B[0m\n\u001B[1;32m      1\u001B[0m \u001B[38;5;28;01mfrom\u001B[39;00m \u001B[38;5;21;01maegomoku\u001B[39;00m\u001B[38;5;21;01m.\u001B[39;00m\u001B[38;5;21;01mgame_data\u001B[39;00m \u001B[38;5;28;01mimport\u001B[39;00m one_game\n\u001B[0;32m----> 2\u001B[0m \u001B[43mone_game\u001B[49m\u001B[43m(\u001B[49m\u001B[43mgame\u001B[49m\u001B[43m,\u001B[49m\u001B[43m \u001B[49m\u001B[43mplayer1\u001B[49m\u001B[43m,\u001B[49m\u001B[43m \u001B[49m\u001B[43mplayer2\u001B[49m\u001B[43m,\u001B[49m\u001B[43m \u001B[49m\u001B[43mmax_moves\u001B[49m\u001B[38;5;241;43m=\u001B[39;49m\u001B[38;5;241;43m20\u001B[39;49m\u001B[43m,\u001B[49m\u001B[43m \u001B[49m\u001B[43meval_temperature\u001B[49m\u001B[38;5;241;43m=\u001B[39;49m\u001B[38;5;241;43m1.0\u001B[39;49m\u001B[43m)\u001B[49m\n",
      "File \u001B[0;32m~/workspace/Project-Ellie/DeepGomoku/aegomoku/game_data.py:103\u001B[0m, in \u001B[0;36mone_game\u001B[0;34m(game, player1, player2, eval_temperature, max_moves, seqno)\u001B[0m\n\u001B[1;32m    101\u001B[0m num_stones \u001B[38;5;241m+\u001B[39m\u001B[38;5;241m=\u001B[39m \u001B[38;5;241m1\u001B[39m\n\u001B[1;32m    102\u001B[0m prev_board \u001B[38;5;241m=\u001B[39m copy\u001B[38;5;241m.\u001B[39mdeepcopy(board)\n\u001B[0;32m--> 103\u001B[0m board, move \u001B[38;5;241m=\u001B[39m \u001B[43mplayer\u001B[49m\u001B[38;5;241;43m.\u001B[39;49m\u001B[43mmove\u001B[49m\u001B[43m(\u001B[49m\u001B[43mboard\u001B[49m\u001B[43m)\u001B[49m\n\u001B[1;32m    105\u001B[0m \u001B[38;5;28mprint\u001B[39m(\u001B[38;5;124mf\u001B[39m\u001B[38;5;124m\"\u001B[39m\u001B[38;5;132;01m{\u001B[39;00mplayer\u001B[38;5;241m.\u001B[39mname\u001B[38;5;132;01m}\u001B[39;00m\u001B[38;5;124m: \u001B[39m\u001B[38;5;132;01m{\u001B[39;00mboard\u001B[38;5;132;01m}\u001B[39;00m\u001B[38;5;124m\"\u001B[39m)\n\u001B[1;32m    106\u001B[0m \u001B[38;5;28;01mif\u001B[39;00m game\u001B[38;5;241m.\u001B[39mget_winner(prev_board) \u001B[38;5;129;01mis\u001B[39;00m \u001B[38;5;129;01mnot\u001B[39;00m \u001B[38;5;28;01mNone\u001B[39;00m:\n",
      "File \u001B[0;32m~/workspace/Project-Ellie/DeepGomoku/aegomoku/gomoku_players.py:72\u001B[0m, in \u001B[0;36mPolicyAdvisedGraphSearchPlayer.move\u001B[0;34m(self, board, temperature)\u001B[0m\n\u001B[1;32m     69\u001B[0m     \u001B[38;5;28;01mreturn\u001B[39;00m board, \u001B[38;5;28;01mNone\u001B[39;00m\n\u001B[1;32m     71\u001B[0m temperature \u001B[38;5;241m=\u001B[39m temperature \u001B[38;5;28;01mif\u001B[39;00m temperature \u001B[38;5;129;01mis\u001B[39;00m \u001B[38;5;129;01mnot\u001B[39;00m \u001B[38;5;28;01mNone\u001B[39;00m \u001B[38;5;28;01melse\u001B[39;00m \u001B[38;5;28mself\u001B[39m\u001B[38;5;241m.\u001B[39mmcts\u001B[38;5;241m.\u001B[39mparams\u001B[38;5;241m.\u001B[39mtemperature\n\u001B[0;32m---> 72\u001B[0m probs \u001B[38;5;241m=\u001B[39m \u001B[38;5;28;43mself\u001B[39;49m\u001B[38;5;241;43m.\u001B[39;49m\u001B[43mmcts\u001B[49m\u001B[38;5;241;43m.\u001B[39;49m\u001B[43mget_action_prob\u001B[49m\u001B[43m(\u001B[49m\u001B[43mboard\u001B[49m\u001B[43m,\u001B[49m\u001B[43m \u001B[49m\u001B[43mtemperature\u001B[49m\u001B[38;5;241;43m=\u001B[39;49m\u001B[43mtemperature\u001B[49m\u001B[43m)\u001B[49m\n\u001B[1;32m     74\u001B[0m patience \u001B[38;5;241m=\u001B[39m \u001B[38;5;241m5\u001B[39m\n\u001B[1;32m     75\u001B[0m move \u001B[38;5;241m=\u001B[39m \u001B[38;5;28;01mNone\u001B[39;00m\n",
      "File \u001B[0;32m~/workspace/Project-Ellie/DeepGomoku/aegomoku/mcts.py:60\u001B[0m, in \u001B[0;36mMCTS.get_action_prob\u001B[0;34m(self, board, temperature)\u001B[0m\n\u001B[1;32m     58\u001B[0m \u001B[38;5;28;01mfor\u001B[39;00m i \u001B[38;5;129;01min\u001B[39;00m \u001B[38;5;28mrange\u001B[39m(\u001B[38;5;28mself\u001B[39m\u001B[38;5;241m.\u001B[39mparams\u001B[38;5;241m.\u001B[39mnum_simulations):\n\u001B[1;32m     59\u001B[0m     board \u001B[38;5;241m=\u001B[39m copy\u001B[38;5;241m.\u001B[39mdeepcopy(original_board)\n\u001B[0;32m---> 60\u001B[0m     \u001B[38;5;28;43mself\u001B[39;49m\u001B[38;5;241;43m.\u001B[39;49m\u001B[43msearch\u001B[49m\u001B[43m(\u001B[49m\u001B[43mboard\u001B[49m\u001B[43m)\u001B[49m\n\u001B[1;32m     62\u001B[0m \u001B[38;5;28;01mreturn\u001B[39;00m \u001B[38;5;28mself\u001B[39m\u001B[38;5;241m.\u001B[39mcompute_probs(original_board, temperature)\n",
      "File \u001B[0;32m~/workspace/Project-Ellie/DeepGomoku/aegomoku/mcts.py:126\u001B[0m, in \u001B[0;36mMCTS.search\u001B[0;34m(self, board)\u001B[0m\n\u001B[1;32m    124\u001B[0m     \u001B[38;5;28mprint\u001B[39m(\u001B[38;5;124m\"\u001B[39m\u001B[38;5;124mSee?\u001B[39m\u001B[38;5;124m\"\u001B[39m)\n\u001B[1;32m    125\u001B[0m next_board, _ \u001B[38;5;241m=\u001B[39m \u001B[38;5;28mself\u001B[39m\u001B[38;5;241m.\u001B[39mgame\u001B[38;5;241m.\u001B[39mget_next_state(board, move)\n\u001B[0;32m--> 126\u001B[0m v \u001B[38;5;241m=\u001B[39m \u001B[38;5;28;43mself\u001B[39;49m\u001B[38;5;241;43m.\u001B[39;49m\u001B[43msearch\u001B[49m\u001B[43m(\u001B[49m\u001B[43mnext_board\u001B[49m\u001B[43m)\u001B[49m\n\u001B[1;32m    128\u001B[0m \u001B[38;5;66;03m# new_value = self.update_node_stats(s, move.i, v)\u001B[39;00m\n\u001B[1;32m    129\u001B[0m \u001B[38;5;28mself\u001B[39m\u001B[38;5;241m.\u001B[39mupdate_node_stats(s, move\u001B[38;5;241m.\u001B[39mi, v)\n",
      "File \u001B[0;32m~/workspace/Project-Ellie/DeepGomoku/aegomoku/mcts.py:126\u001B[0m, in \u001B[0;36mMCTS.search\u001B[0;34m(self, board)\u001B[0m\n\u001B[1;32m    124\u001B[0m     \u001B[38;5;28mprint\u001B[39m(\u001B[38;5;124m\"\u001B[39m\u001B[38;5;124mSee?\u001B[39m\u001B[38;5;124m\"\u001B[39m)\n\u001B[1;32m    125\u001B[0m next_board, _ \u001B[38;5;241m=\u001B[39m \u001B[38;5;28mself\u001B[39m\u001B[38;5;241m.\u001B[39mgame\u001B[38;5;241m.\u001B[39mget_next_state(board, move)\n\u001B[0;32m--> 126\u001B[0m v \u001B[38;5;241m=\u001B[39m \u001B[38;5;28;43mself\u001B[39;49m\u001B[38;5;241;43m.\u001B[39;49m\u001B[43msearch\u001B[49m\u001B[43m(\u001B[49m\u001B[43mnext_board\u001B[49m\u001B[43m)\u001B[49m\n\u001B[1;32m    128\u001B[0m \u001B[38;5;66;03m# new_value = self.update_node_stats(s, move.i, v)\u001B[39;00m\n\u001B[1;32m    129\u001B[0m \u001B[38;5;28mself\u001B[39m\u001B[38;5;241m.\u001B[39mupdate_node_stats(s, move\u001B[38;5;241m.\u001B[39mi, v)\n",
      "File \u001B[0;32m~/workspace/Project-Ellie/DeepGomoku/aegomoku/mcts.py:124\u001B[0m, in \u001B[0;36mMCTS.search\u001B[0;34m(self, board)\u001B[0m\n\u001B[1;32m    122\u001B[0m move, info \u001B[38;5;241m=\u001B[39m \u001B[38;5;28mself\u001B[39m\u001B[38;5;241m.\u001B[39mbest_act(board\u001B[38;5;241m=\u001B[39mboard, s\u001B[38;5;241m=\u001B[39ms)\n\u001B[1;32m    123\u001B[0m \u001B[38;5;28;01mif\u001B[39;00m move\u001B[38;5;241m.\u001B[39mi \u001B[38;5;241m==\u001B[39m \u001B[38;5;241m-\u001B[39m\u001B[38;5;241m1\u001B[39m:\n\u001B[0;32m--> 124\u001B[0m     \u001B[38;5;28;43mprint\u001B[39;49m(\u001B[38;5;124m\"\u001B[39m\u001B[38;5;124mSee?\u001B[39m\u001B[38;5;124m\"\u001B[39m)\n\u001B[1;32m    125\u001B[0m next_board, _ \u001B[38;5;241m=\u001B[39m \u001B[38;5;28mself\u001B[39m\u001B[38;5;241m.\u001B[39mgame\u001B[38;5;241m.\u001B[39mget_next_state(board, move)\n\u001B[1;32m    126\u001B[0m v \u001B[38;5;241m=\u001B[39m \u001B[38;5;28mself\u001B[39m\u001B[38;5;241m.\u001B[39msearch(next_board)\n",
      "File \u001B[0;32m~/workspace/Project-Ellie/DeepGomoku/aegomoku/mcts.py:124\u001B[0m, in \u001B[0;36mMCTS.search\u001B[0;34m(self, board)\u001B[0m\n\u001B[1;32m    122\u001B[0m move, info \u001B[38;5;241m=\u001B[39m \u001B[38;5;28mself\u001B[39m\u001B[38;5;241m.\u001B[39mbest_act(board\u001B[38;5;241m=\u001B[39mboard, s\u001B[38;5;241m=\u001B[39ms)\n\u001B[1;32m    123\u001B[0m \u001B[38;5;28;01mif\u001B[39;00m move\u001B[38;5;241m.\u001B[39mi \u001B[38;5;241m==\u001B[39m \u001B[38;5;241m-\u001B[39m\u001B[38;5;241m1\u001B[39m:\n\u001B[0;32m--> 124\u001B[0m     \u001B[38;5;28;43mprint\u001B[39;49m(\u001B[38;5;124m\"\u001B[39m\u001B[38;5;124mSee?\u001B[39m\u001B[38;5;124m\"\u001B[39m)\n\u001B[1;32m    125\u001B[0m next_board, _ \u001B[38;5;241m=\u001B[39m \u001B[38;5;28mself\u001B[39m\u001B[38;5;241m.\u001B[39mgame\u001B[38;5;241m.\u001B[39mget_next_state(board, move)\n\u001B[1;32m    126\u001B[0m v \u001B[38;5;241m=\u001B[39m \u001B[38;5;28mself\u001B[39m\u001B[38;5;241m.\u001B[39msearch(next_board)\n",
      "File \u001B[0;32m_pydevd_bundle/pydevd_cython_darwin_310_64.pyx:1179\u001B[0m, in \u001B[0;36m_pydevd_bundle.pydevd_cython_darwin_310_64.SafeCallWrapper.__call__\u001B[0;34m()\u001B[0m\n",
      "File \u001B[0;32m_pydevd_bundle/pydevd_cython_darwin_310_64.pyx:620\u001B[0m, in \u001B[0;36m_pydevd_bundle.pydevd_cython_darwin_310_64.PyDBFrame.trace_dispatch\u001B[0;34m()\u001B[0m\n",
      "File \u001B[0;32m_pydevd_bundle/pydevd_cython_darwin_310_64.pyx:929\u001B[0m, in \u001B[0;36m_pydevd_bundle.pydevd_cython_darwin_310_64.PyDBFrame.trace_dispatch\u001B[0;34m()\u001B[0m\n",
      "File \u001B[0;32m_pydevd_bundle/pydevd_cython_darwin_310_64.pyx:920\u001B[0m, in \u001B[0;36m_pydevd_bundle.pydevd_cython_darwin_310_64.PyDBFrame.trace_dispatch\u001B[0;34m()\u001B[0m\n",
      "File \u001B[0;32m_pydevd_bundle/pydevd_cython_darwin_310_64.pyx:317\u001B[0m, in \u001B[0;36m_pydevd_bundle.pydevd_cython_darwin_310_64.PyDBFrame.do_wait_suspend\u001B[0;34m()\u001B[0m\n",
      "File \u001B[0;32m/Applications/DataSpell.app/Contents/plugins/python-ce/helpers/pydev/pydevd.py:1155\u001B[0m, in \u001B[0;36mPyDB.do_wait_suspend\u001B[0;34m(self, thread, frame, event, arg, send_suspend_message, is_unhandled_exception)\u001B[0m\n\u001B[1;32m   1152\u001B[0m         from_this_thread\u001B[38;5;241m.\u001B[39mappend(frame_id)\n\u001B[1;32m   1154\u001B[0m \u001B[38;5;28;01mwith\u001B[39;00m \u001B[38;5;28mself\u001B[39m\u001B[38;5;241m.\u001B[39m_threads_suspended_single_notification\u001B[38;5;241m.\u001B[39mnotify_thread_suspended(thread_id, stop_reason):\n\u001B[0;32m-> 1155\u001B[0m     \u001B[38;5;28;43mself\u001B[39;49m\u001B[38;5;241;43m.\u001B[39;49m\u001B[43m_do_wait_suspend\u001B[49m\u001B[43m(\u001B[49m\u001B[43mthread\u001B[49m\u001B[43m,\u001B[49m\u001B[43m \u001B[49m\u001B[43mframe\u001B[49m\u001B[43m,\u001B[49m\u001B[43m \u001B[49m\u001B[43mevent\u001B[49m\u001B[43m,\u001B[49m\u001B[43m \u001B[49m\u001B[43marg\u001B[49m\u001B[43m,\u001B[49m\u001B[43m \u001B[49m\u001B[43msuspend_type\u001B[49m\u001B[43m,\u001B[49m\u001B[43m \u001B[49m\u001B[43mfrom_this_thread\u001B[49m\u001B[43m)\u001B[49m\n",
      "File \u001B[0;32m/Applications/DataSpell.app/Contents/plugins/python-ce/helpers/pydev/pydevd.py:1170\u001B[0m, in \u001B[0;36mPyDB._do_wait_suspend\u001B[0;34m(self, thread, frame, event, arg, suspend_type, from_this_thread)\u001B[0m\n\u001B[1;32m   1167\u001B[0m             \u001B[38;5;28mself\u001B[39m\u001B[38;5;241m.\u001B[39m_call_mpl_hook()\n\u001B[1;32m   1169\u001B[0m         \u001B[38;5;28mself\u001B[39m\u001B[38;5;241m.\u001B[39mprocess_internal_commands()\n\u001B[0;32m-> 1170\u001B[0m         \u001B[43mtime\u001B[49m\u001B[38;5;241;43m.\u001B[39;49m\u001B[43msleep\u001B[49m\u001B[43m(\u001B[49m\u001B[38;5;241;43m0.01\u001B[39;49m\u001B[43m)\u001B[49m\n\u001B[1;32m   1172\u001B[0m \u001B[38;5;28mself\u001B[39m\u001B[38;5;241m.\u001B[39mcancel_async_evaluation(get_current_thread_id(thread), \u001B[38;5;28mstr\u001B[39m(\u001B[38;5;28mid\u001B[39m(frame)))\n\u001B[1;32m   1174\u001B[0m \u001B[38;5;66;03m# process any stepping instructions\u001B[39;00m\n",
      "\u001B[0;31mKeyboardInterrupt\u001B[0m: "
     ]
    }
   ],
   "source": [
    "from aegomoku.game_data import one_game\n",
    "one_game(game, player1, player2, max_moves=20, eval_temperature=1.0)"
   ],
   "metadata": {
    "collapsed": false,
    "pycharm": {
     "name": "#%%\n"
    }
   }
  },
  {
   "cell_type": "code",
   "execution_count": null,
   "outputs": [],
   "source": [
    "board = GomokuBoard(BOARD_SIZE)"
   ],
   "metadata": {
    "collapsed": false,
    "pycharm": {
     "name": "#%%\n"
    }
   }
  },
  {
   "cell_type": "code",
   "execution_count": 9,
   "outputs": [],
   "source": [
    "from aegomoku.gomoku_game import TopoSwap2BoardInitializer\n",
    "init = TopoSwap2BoardInitializer(board_size=BOARD_SIZE)"
   ],
   "metadata": {
    "collapsed": false,
    "pycharm": {
     "name": "#%%\n"
    }
   }
  },
  {
   "cell_type": "code",
   "execution_count": 10,
   "outputs": [
    {
     "data": {
      "text/plain": "[A11, J16, A16]"
     },
     "execution_count": 10,
     "metadata": {},
     "output_type": "execute_result"
    }
   ],
   "source": [
    "init.sample_neutral_3()"
   ],
   "metadata": {
    "collapsed": false,
    "pycharm": {
     "name": "#%%\n"
    }
   }
  },
  {
   "cell_type": "code",
   "execution_count": 11,
   "outputs": [
    {
     "data": {
      "text/plain": "[A11, J16, A16, G7, L11]"
     },
     "execution_count": 11,
     "metadata": {},
     "output_type": "execute_result"
    }
   ],
   "source": [
    "init.sample_neutral_extra_2(_)"
   ],
   "metadata": {
    "collapsed": false,
    "pycharm": {
     "name": "#%%\n"
    }
   }
  },
  {
   "cell_type": "code",
   "execution_count": 27,
   "outputs": [],
   "source": [
    "import random\n",
    "random.random?"
   ],
   "metadata": {
    "collapsed": false,
    "pycharm": {
     "name": "#%%\n"
    }
   }
  },
  {
   "cell_type": "code",
   "execution_count": null,
   "outputs": [],
   "source": [],
   "metadata": {
    "collapsed": false,
    "pycharm": {
     "name": "#%%\n"
    }
   }
  },
  {
   "cell_type": "code",
   "execution_count": null,
   "outputs": [],
   "source": [],
   "metadata": {
    "collapsed": false,
    "pycharm": {
     "name": "#%%\n"
    }
   }
  },
  {
   "cell_type": "code",
   "execution_count": null,
   "outputs": [],
   "source": [
    "policy = TopologicalValuePolicy(kappa_s=6, kappa_d=5)\n",
    "board = GomokuBoard(BOARD_SIZE, stones=[200])\n",
    "center_value = policy.advise(board.canonical_representation())[1] / 2\n",
    "center_value"
   ],
   "metadata": {
    "collapsed": false,
    "pycharm": {
     "name": "#%%\n"
    }
   }
  },
  {
   "cell_type": "code",
   "execution_count": null,
   "outputs": [],
   "source": [
    "from tqdm import tqdm\n",
    "import random\n",
    "\n",
    "d = 5\n",
    "corner = [i*BOARD_SIZE + j for i in range(d) for j in range(d)]\n",
    "left = [(i + d) *BOARD_SIZE + j for i in range(d) for j in range(d)]\n",
    "top = [i * BOARD_SIZE + j + d for i in range(d) for j in range(d)]\n",
    "perimeter = corner + left + top\n",
    "\n",
    "candidates = []\n",
    "dist = 1\n",
    "for i in tqdm(range(100)):\n",
    "    while True:\n",
    "        moves = [board.Stone(random.choice(perimeter)) for _ in range(3)]\n",
    "        try:\n",
    "            board = GomokuBoard(BOARD_SIZE, stones=moves)\n",
    "            value = policy.evaluate(board.canonical_representation())[1]\n",
    "            dist = (value - center_value) ** 2\n",
    "            break\n",
    "        except AssertionError as e:\n",
    "            continue\n",
    "    candidates.append((moves, dist))\n",
    "\n",
    "\n",
    "most_neutral = sorted(candidates, key=lambda e: e[1])[0][0]\n",
    "most_neutral"
   ],
   "metadata": {
    "collapsed": false,
    "pycharm": {
     "name": "#%%\n"
    }
   }
  },
  {
   "cell_type": "code",
   "execution_count": null,
   "outputs": [],
   "source": [
    "r = range(d, BOARD_SIZE-d+1)\n",
    "center = [i*BOARD_SIZE + j for i in r for j in r]\n",
    "\n",
    "candidates = []\n",
    "for i in tqdm(range(100)):\n",
    "    while True:\n",
    "        moves = [board.Stone(random.choice(center)) for _ in range(2)]\n",
    "        try:\n",
    "            moves = most_neutral + moves\n",
    "            board = GomokuBoard(BOARD_SIZE, stones=moves)\n",
    "            value = policy.evaluate(board.canonical_representation())[1]\n",
    "            dist = (value - center_value) ** 2\n",
    "            break\n",
    "        except AssertionError as e:\n",
    "            continue\n",
    "    candidates.append((moves, dist))\n",
    "\n",
    "most_neutral = sorted(candidates, key=lambda e: e[1])[:5]\n"
   ],
   "metadata": {
    "collapsed": false,
    "pycharm": {
     "name": "#%%\n"
    }
   }
  },
  {
   "cell_type": "code",
   "execution_count": null,
   "outputs": [],
   "source": [
    "choice = sorted(most_neutral, key=lambda e: e[1])[:5]\n",
    "for stones, _ in choice:\n",
    "    GomokuBoard(BOARD_SIZE, stones=stones).plot()"
   ],
   "metadata": {
    "collapsed": false,
    "pycharm": {
     "name": "#%%\n"
    }
   }
  },
  {
   "cell_type": "code",
   "execution_count": null,
   "outputs": [],
   "source": [
    "board = GomokuBoard(BOARD_SIZE, stones=[200])\n",
    "center = policy.evaluate(board.canonical_representation())[1] / 2\n",
    "center"
   ],
   "metadata": {
    "collapsed": false,
    "pycharm": {
     "name": "#%%\n"
    }
   }
  },
  {
   "cell_type": "markdown",
   "source": [
    "### All of that is now available with the TopSwap2BoardInitializer"
   ],
   "metadata": {
    "collapsed": false,
    "pycharm": {
     "name": "#%% md\n"
    }
   }
  },
  {
   "cell_type": "code",
   "execution_count": null,
   "outputs": [],
   "source": [
    "from aegomoku.gomoku_game import TopoSwap2BoardInitializer\n",
    "\n",
    "sbi = TopoSwap2BoardInitializer(BOARD_SIZE)\n",
    "GomokuBoard(BOARD_SIZE, stones=sbi.initial_stones()).plot()"
   ],
   "metadata": {
    "collapsed": false,
    "pycharm": {
     "name": "#%%\n"
    }
   }
  },
  {
   "cell_type": "code",
   "execution_count": null,
   "outputs": [],
   "source": [],
   "metadata": {
    "collapsed": false,
    "pycharm": {
     "name": "#%%\n"
    }
   }
  },
  {
   "cell_type": "code",
   "execution_count": 6,
   "outputs": [],
   "source": [
    "board = GomokuBoard(BOARD_SIZE)"
   ],
   "metadata": {
    "collapsed": false,
    "pycharm": {
     "name": "#%%\n"
    }
   }
  },
  {
   "cell_type": "code",
   "execution_count": 16,
   "outputs": [
    {
     "data": {
      "text/plain": "-0.04081839695572853"
     },
     "execution_count": 16,
     "metadata": {},
     "output_type": "execute_result"
    }
   ],
   "source": [
    "policy = TopologicalValuePolicy(kappa_s=6, kappa_d=5)\n",
    "board = GomokuBoard(BOARD_SIZE, stones=[200])\n",
    "center_value = policy.evaluate(board.canonical_representation())[1] / 2\n",
    "center_value"
   ],
   "metadata": {
    "collapsed": false,
    "pycharm": {
     "name": "#%%\n"
    }
   }
  },
  {
   "cell_type": "code",
   "execution_count": 24,
   "outputs": [
    {
     "name": "stderr",
     "output_type": "stream",
     "text": [
      "100%|██████████| 100/100 [00:00<00:00, 222.67it/s]\n"
     ]
    },
    {
     "data": {
      "text/plain": "[J18, E12, B13]"
     },
     "execution_count": 24,
     "metadata": {},
     "output_type": "execute_result"
    }
   ],
   "source": [
    "from tqdm import tqdm\n",
    "import random\n",
    "\n",
    "d = 5\n",
    "corner = [i*BOARD_SIZE + j for i in range(d) for j in range(d)]\n",
    "left = [(i + d) *BOARD_SIZE + j for i in range(d) for j in range(d)]\n",
    "top = [i * BOARD_SIZE + j + d for i in range(d) for j in range(d)]\n",
    "perimeter = corner + left + top\n",
    "\n",
    "candidates = []\n",
    "dist = 1\n",
    "for i in tqdm(range(100)):\n",
    "    while True:\n",
    "        moves = [board.Stone(random.choice(perimeter)) for _ in range(3)]\n",
    "        try:\n",
    "            board = GomokuBoard(BOARD_SIZE, stones=moves)\n",
    "            value = policy.evaluate(board.canonical_representation())[1]\n",
    "            dist = (value - center_value) ** 2\n",
    "            break\n",
    "        except AssertionError as e:\n",
    "            continue\n",
    "    candidates.append((moves, dist))\n",
    "\n",
    "\n",
    "most_neutral = sorted(candidates, key=lambda e: e[1])[0][0]\n",
    "most_neutral"
   ],
   "metadata": {
    "collapsed": false,
    "pycharm": {
     "name": "#%%\n"
    }
   }
  },
  {
   "cell_type": "code",
   "execution_count": 25,
   "outputs": [
    {
     "name": "stderr",
     "output_type": "stream",
     "text": [
      "100%|██████████| 100/100 [00:00<00:00, 221.57it/s]\n"
     ]
    }
   ],
   "source": [
    "r = range(d, BOARD_SIZE-d+1)\n",
    "center = [i*BOARD_SIZE + j for i in r for j in r]\n",
    "\n",
    "candidates = []\n",
    "for i in tqdm(range(100)):\n",
    "    while True:\n",
    "        moves = [board.Stone(random.choice(center)) for _ in range(2)]\n",
    "        try:\n",
    "            moves = most_neutral + moves\n",
    "            board = GomokuBoard(BOARD_SIZE, stones=moves)\n",
    "            value = policy.evaluate(board.canonical_representation())[1]\n",
    "            dist = (value - center_value) ** 2\n",
    "            break\n",
    "        except AssertionError as e:\n",
    "            continue\n",
    "    candidates.append((moves, dist))\n",
    "\n",
    "most_neutral = sorted(candidates, key=lambda e: e[1])[:5]\n"
   ],
   "metadata": {
    "collapsed": false,
    "pycharm": {
     "name": "#%%\n"
    }
   }
  },
  {
   "cell_type": "code",
   "execution_count": 26,
   "outputs": [
    {
     "name": "stdout",
     "output_type": "stream",
     "text": [
      "                                                                 \n",
      "19    .  .  .  .  .  .  .  .  .  .  .  .  .  .  .  .  .  .  .    \n",
      "18    .  .  .  .  .  .  .  .  .  X  .  .  .  .  .  .  .  .  .    \n",
      "17    .  .  .  .  .  .  .  .  .  .  .  .  .  .  .  .  .  .  .    \n",
      "16    .  .  .  .  .  .  .  .  .  .  .  .  .  .  .  .  .  .  .    \n",
      "15    .  .  .  .  .  .  .  .  .  .  .  .  .  .  .  .  .  .  .    \n",
      "14    .  .  .  .  .  .  .  .  .  .  .  .  .  .  .  .  .  .  .    \n",
      "13    .  X  .  .  .  .  .  .  .  .  .  .  .  .  .  .  .  .  .    \n",
      "12    .  .  .  .  O  .  .  .  .  . [X] .  .  .  .  .  .  .  .    \n",
      "11    .  .  .  .  .  .  .  .  .  .  O  .  .  .  .  .  .  .  .    \n",
      "10    .  .  .  .  .  .  .  .  .  .  .  .  .  .  .  .  .  .  .    \n",
      " 9    .  .  .  .  .  .  .  .  .  .  .  .  .  .  .  .  .  .  .    \n",
      " 8    .  .  .  .  .  .  .  .  .  .  .  .  .  .  .  .  .  .  .    \n",
      " 7    .  .  .  .  .  .  .  .  .  .  .  .  .  .  .  .  .  .  .    \n",
      " 6    .  .  .  .  .  .  .  .  .  .  .  .  .  .  .  .  .  .  .    \n",
      " 5    .  .  .  .  .  .  .  .  .  .  .  .  .  .  .  .  .  .  .    \n",
      " 4    .  .  .  .  .  .  .  .  .  .  .  .  .  .  .  .  .  .  .    \n",
      " 3    .  .  .  .  .  .  .  .  .  .  .  .  .  .  .  .  .  .  .    \n",
      " 2    .  .  .  .  .  .  .  .  .  .  .  .  .  .  .  .  .  .  .    \n",
      " 1    .  .  .  .  .  .  .  .  .  .  .  .  .  .  .  .  .  .  .    \n",
      "                                                                 \n",
      "      A  B  C  D  E  F  G  H  I  J  K  L  M  N  O  P  Q  R  S\n",
      "                                                                 \n",
      "19    .  .  .  .  .  .  .  .  .  .  .  .  .  .  .  .  .  .  .    \n",
      "18    .  .  .  .  .  .  .  .  .  X  .  .  .  .  .  .  .  .  .    \n",
      "17    .  .  .  .  .  .  .  .  .  .  .  .  .  .  .  .  .  .  .    \n",
      "16    .  .  .  .  .  .  .  .  .  .  .  .  .  .  .  .  .  .  .    \n",
      "15    .  .  .  .  .  .  .  .  .  .  .  .  .  .  .  .  .  .  .    \n",
      "14    .  .  .  .  .  .  .  .  .  .  .  .  .  .  .  .  .  .  .    \n",
      "13    .  X  .  .  .  .  .  .  .  .  .  .  .  .  .  .  .  .  .    \n",
      "12    .  .  .  .  O  .  .  .  .  .  .  .  .  .  .  .  .  .  .    \n",
      "11    .  .  .  .  .  .  .  .  .  .  .  .  O  .  .  .  .  .  .    \n",
      "10    .  .  .  .  .  .  .  .  .  .  . [X] .  .  .  .  .  .  .    \n",
      " 9    .  .  .  .  .  .  .  .  .  .  .  .  .  .  .  .  .  .  .    \n",
      " 8    .  .  .  .  .  .  .  .  .  .  .  .  .  .  .  .  .  .  .    \n",
      " 7    .  .  .  .  .  .  .  .  .  .  .  .  .  .  .  .  .  .  .    \n",
      " 6    .  .  .  .  .  .  .  .  .  .  .  .  .  .  .  .  .  .  .    \n",
      " 5    .  .  .  .  .  .  .  .  .  .  .  .  .  .  .  .  .  .  .    \n",
      " 4    .  .  .  .  .  .  .  .  .  .  .  .  .  .  .  .  .  .  .    \n",
      " 3    .  .  .  .  .  .  .  .  .  .  .  .  .  .  .  .  .  .  .    \n",
      " 2    .  .  .  .  .  .  .  .  .  .  .  .  .  .  .  .  .  .  .    \n",
      " 1    .  .  .  .  .  .  .  .  .  .  .  .  .  .  .  .  .  .  .    \n",
      "                                                                 \n",
      "      A  B  C  D  E  F  G  H  I  J  K  L  M  N  O  P  Q  R  S\n",
      "                                                                 \n",
      "19    .  .  .  .  .  .  .  .  .  .  .  .  .  .  .  .  .  .  .    \n",
      "18    .  .  .  .  .  .  .  .  .  X  .  .  .  .  .  .  .  .  .    \n",
      "17    .  .  .  .  .  .  .  .  .  .  .  .  .  .  .  .  .  .  .    \n",
      "16    .  .  .  .  .  .  .  .  .  .  .  .  .  .  .  .  .  .  .    \n",
      "15    .  .  .  .  .  .  .  .  .  .  .  .  .  .  .  .  .  .  .    \n",
      "14    .  .  .  .  .  .  .  .  .  .  .  .  .  .  O  .  .  .  .    \n",
      "13    .  X  .  .  .  .  .  .  .  .  .  .  .  .  .  .  .  .  .    \n",
      "12    .  .  .  .  O  .  .  .  .  .  .  .  .  .  .  .  .  .  .    \n",
      "11    .  .  .  .  .  .  .  .  .  .  .  .  .  .  .  .  .  .  .    \n",
      "10    .  .  .  .  .  .  .  .  .  .  .  .  .  .  .  .  .  .  .    \n",
      " 9    .  .  .  .  .  .  .  .  .  .  .  .  .  .  .  .  .  .  .    \n",
      " 8    .  .  .  .  .  .  .  .  .  .  .  .  .  .  .  .  .  .  .    \n",
      " 7    .  .  .  .  .  .  .  .  . [X] .  .  .  .  .  .  .  .  .    \n",
      " 6    .  .  .  .  .  .  .  .  .  .  .  .  .  .  .  .  .  .  .    \n",
      " 5    .  .  .  .  .  .  .  .  .  .  .  .  .  .  .  .  .  .  .    \n",
      " 4    .  .  .  .  .  .  .  .  .  .  .  .  .  .  .  .  .  .  .    \n",
      " 3    .  .  .  .  .  .  .  .  .  .  .  .  .  .  .  .  .  .  .    \n",
      " 2    .  .  .  .  .  .  .  .  .  .  .  .  .  .  .  .  .  .  .    \n",
      " 1    .  .  .  .  .  .  .  .  .  .  .  .  .  .  .  .  .  .  .    \n",
      "                                                                 \n",
      "      A  B  C  D  E  F  G  H  I  J  K  L  M  N  O  P  Q  R  S\n",
      "                                                                 \n",
      "19    .  .  .  .  .  .  .  .  .  .  .  .  .  .  .  .  .  .  .    \n",
      "18    .  .  .  .  .  .  .  .  .  X  .  .  .  .  .  .  .  .  .    \n",
      "17    .  .  .  .  .  .  .  .  .  .  .  .  .  .  .  .  .  .  .    \n",
      "16    .  .  .  .  .  .  .  .  .  .  .  .  .  .  .  .  .  .  .    \n",
      "15    .  .  .  .  .  .  .  .  .  .  .  .  .  .  .  .  .  .  .    \n",
      "14    .  .  .  .  .  .  .  .  .  .  .  .  .  .  .  .  .  .  .    \n",
      "13    .  X  .  .  .  .  .  .  .  .  .  .  .  .  .  .  .  .  .    \n",
      "12    .  .  .  .  O  .  .  .  .  . [X] O  .  .  .  .  .  .  .    \n",
      "11    .  .  .  .  .  .  .  .  .  .  .  .  .  .  .  .  .  .  .    \n",
      "10    .  .  .  .  .  .  .  .  .  .  .  .  .  .  .  .  .  .  .    \n",
      " 9    .  .  .  .  .  .  .  .  .  .  .  .  .  .  .  .  .  .  .    \n",
      " 8    .  .  .  .  .  .  .  .  .  .  .  .  .  .  .  .  .  .  .    \n",
      " 7    .  .  .  .  .  .  .  .  .  .  .  .  .  .  .  .  .  .  .    \n",
      " 6    .  .  .  .  .  .  .  .  .  .  .  .  .  .  .  .  .  .  .    \n",
      " 5    .  .  .  .  .  .  .  .  .  .  .  .  .  .  .  .  .  .  .    \n",
      " 4    .  .  .  .  .  .  .  .  .  .  .  .  .  .  .  .  .  .  .    \n",
      " 3    .  .  .  .  .  .  .  .  .  .  .  .  .  .  .  .  .  .  .    \n",
      " 2    .  .  .  .  .  .  .  .  .  .  .  .  .  .  .  .  .  .  .    \n",
      " 1    .  .  .  .  .  .  .  .  .  .  .  .  .  .  .  .  .  .  .    \n",
      "                                                                 \n",
      "      A  B  C  D  E  F  G  H  I  J  K  L  M  N  O  P  Q  R  S\n",
      "                                                                 \n",
      "19    .  .  .  .  .  .  .  .  .  .  .  .  .  .  .  .  .  .  .    \n",
      "18    .  .  .  .  .  .  .  .  .  X  .  .  .  .  .  .  .  .  .    \n",
      "17    .  .  .  .  .  .  .  .  .  .  .  .  .  .  .  .  .  .  .    \n",
      "16    .  .  .  .  .  .  .  .  .  .  .  .  .  .  .  .  .  .  .    \n",
      "15    .  .  .  .  .  .  .  .  .  .  .  .  .  .  .  .  .  .  .    \n",
      "14    .  .  .  .  .  .  .  .  .  .  .  .  .  .  .  .  .  .  .    \n",
      "13    .  X  .  .  .  .  .  .  .  .  .  .  .  .  .  .  .  .  .    \n",
      "12    .  .  .  .  O  .  .  .  .  .  .  .  .  .  .  .  .  .  .    \n",
      "11    .  .  .  .  .  .  .  .  .  .  .  .  .  .  .  .  .  .  .    \n",
      "10    .  .  .  .  .  .  .  .  .  .  .  O  .  .  .  .  .  .  .    \n",
      " 9    .  .  .  .  .  .  .  .  .  .  .  . [X] .  .  .  .  .  .    \n",
      " 8    .  .  .  .  .  .  .  .  .  .  .  .  .  .  .  .  .  .  .    \n",
      " 7    .  .  .  .  .  .  .  .  .  .  .  .  .  .  .  .  .  .  .    \n",
      " 6    .  .  .  .  .  .  .  .  .  .  .  .  .  .  .  .  .  .  .    \n",
      " 5    .  .  .  .  .  .  .  .  .  .  .  .  .  .  .  .  .  .  .    \n",
      " 4    .  .  .  .  .  .  .  .  .  .  .  .  .  .  .  .  .  .  .    \n",
      " 3    .  .  .  .  .  .  .  .  .  .  .  .  .  .  .  .  .  .  .    \n",
      " 2    .  .  .  .  .  .  .  .  .  .  .  .  .  .  .  .  .  .  .    \n",
      " 1    .  .  .  .  .  .  .  .  .  .  .  .  .  .  .  .  .  .  .    \n",
      "                                                                 \n",
      "      A  B  C  D  E  F  G  H  I  J  K  L  M  N  O  P  Q  R  S\n"
     ]
    }
   ],
   "source": [
    "choice = sorted(most_neutral, key=lambda e: e[1])[:5]\n",
    "for stones, _ in choice:\n",
    "    GomokuBoard(BOARD_SIZE, stones=stones).plot()"
   ],
   "metadata": {
    "collapsed": false,
    "pycharm": {
     "name": "#%%\n"
    }
   }
  },
  {
   "cell_type": "code",
   "execution_count": 27,
   "outputs": [
    {
     "data": {
      "text/plain": "-0.04081839695572853"
     },
     "execution_count": 27,
     "metadata": {},
     "output_type": "execute_result"
    }
   ],
   "source": [
    "board = GomokuBoard(BOARD_SIZE, stones=[200])\n",
    "center = policy.evaluate(board.canonical_representation())[1] / 2\n",
    "center"
   ],
   "metadata": {
    "collapsed": false,
    "pycharm": {
     "name": "#%%\n"
    }
   }
  },
  {
   "cell_type": "markdown",
   "source": [
    "### All of that is now available with the TopSwap2BoardInitializer"
   ],
   "metadata": {
    "collapsed": false,
    "pycharm": {
     "name": "#%% md\n"
    }
   }
  },
  {
   "cell_type": "code",
   "execution_count": 38,
   "outputs": [
    {
     "name": "stdout",
     "output_type": "stream",
     "text": [
      "                                                                 \n",
      "19    .  .  .  .  .  X  .  .  .  .  .  .  .  .  .  .  .  .  .    \n",
      "18    .  .  .  .  .  .  O  .  .  .  .  .  .  .  .  .  .  .  .    \n",
      "17    .  .  .  X  .  .  .  .  .  .  .  .  .  .  .  .  .  .  .    \n",
      "16    .  .  .  .  .  .  .  .  .  .  .  .  .  .  .  .  .  .  .    \n",
      "15    .  .  .  .  .  .  .  .  .  .  .  .  .  .  .  .  .  .  .    \n",
      "14    .  .  .  .  .  .  .  .  .  .  .  .  .  .  .  .  .  .  .    \n",
      "13    .  .  .  .  .  .  .  .  .  .  .  .  .  .  .  .  .  .  .    \n",
      "12    .  .  .  .  .  .  .  .  .  .  .  .  .  .  .  .  .  .  .    \n",
      "11    .  .  .  .  .  .  .  . [X] .  .  .  .  .  .  .  .  .  .    \n",
      "10    .  .  .  .  .  .  .  .  .  .  .  .  .  .  .  .  .  .  .    \n",
      " 9    .  .  .  .  .  .  .  .  .  .  .  .  .  .  .  .  .  .  .    \n",
      " 8    .  .  .  .  .  .  .  .  .  .  .  .  O  .  .  .  .  .  .    \n",
      " 7    .  .  .  .  .  .  .  .  .  .  .  .  .  .  .  .  .  .  .    \n",
      " 6    .  .  .  .  .  .  .  .  .  .  .  .  .  .  .  .  .  .  .    \n",
      " 5    .  .  .  .  .  .  .  .  .  .  .  .  .  .  .  .  .  .  .    \n",
      " 4    .  .  .  .  .  .  .  .  .  .  .  .  .  .  .  .  .  .  .    \n",
      " 3    .  .  .  .  .  .  .  .  .  .  .  .  .  .  .  .  .  .  .    \n",
      " 2    .  .  .  .  .  .  .  .  .  .  .  .  .  .  .  .  .  .  .    \n",
      " 1    .  .  .  .  .  .  .  .  .  .  .  .  .  .  .  .  .  .  .    \n",
      "                                                                 \n",
      "      A  B  C  D  E  F  G  H  I  J  K  L  M  N  O  P  Q  R  S\n"
     ]
    }
   ],
   "source": [
    "from aegomoku.gomoku_game import TopoSwap2BoardInitializer\n",
    "\n",
    "sbi = TopoSwap2BoardInitializer(BOARD_SIZE)\n",
    "GomokuBoard(BOARD_SIZE, stones=sbi.initial_stones()).plot()"
   ],
   "metadata": {
    "collapsed": false,
    "pycharm": {
     "name": "#%%\n"
    }
   }
  },
  {
   "cell_type": "code",
   "execution_count": 34,
   "outputs": [],
   "source": [],
   "metadata": {
    "collapsed": false,
    "pycharm": {
     "name": "#%%\n"
    }
   }
  },
  {
   "cell_type": "code",
   "execution_count": null,
   "outputs": [],
   "source": [],
   "metadata": {
    "collapsed": false,
    "pycharm": {
     "name": "#%%\n"
    }
   }
  }
 ],
 "metadata": {
  "kernelspec": {
   "display_name": "Python 3",
   "language": "python",
   "name": "python3"
  },
  "language_info": {
   "codemirror_mode": {
    "name": "ipython",
    "version": 2
   },
   "file_extension": ".py",
   "mimetype": "text/x-python",
   "name": "python",
   "nbconvert_exporter": "python",
   "pygments_lexer": "ipython2",
   "version": "2.7.6"
  }
 },
 "nbformat": 4,
 "nbformat_minor": 0
}